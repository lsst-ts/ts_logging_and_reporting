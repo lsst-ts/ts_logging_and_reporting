{
 "cells": [
  {
   "cell_type": "code",
   "execution_count": null,
   "id": "0",
   "metadata": {},
   "outputs": [],
   "source": [
    "# Parameters. Set defaults here.\n",
    "# Times Square replaces this cell with the user's parameters.\n",
    "record_limit = '99'"
   ]
  },
  {
   "cell_type": "markdown",
   "id": "1",
   "metadata": {},
   "source": [
    "<a class=\"anchor\" id=\"imports\"></a>\n",
    "## Imports and General Setup"
   ]
  },
  {
   "cell_type": "code",
   "execution_count": null,
   "id": "2",
   "metadata": {},
   "outputs": [],
   "source": [
    "# Only use packages available in the Rubin Science Platform\n",
    "import requests\n",
    "from collections import defaultdict\n",
    "import pandas as pd\n",
    "from pprint import pp\n",
    "from urllib.parse import urlencode\n",
    "from IPython.display import FileLink, display_markdown\n",
    "from matplotlib import pyplot as plt\n",
    "import os\n",
    "from datetime import datetime, date"
   ]
  },
  {
   "cell_type": "code",
   "execution_count": null,
   "id": "3",
   "metadata": {},
   "outputs": [],
   "source": [
    "env = 'usdf_dev'  # usdf-dev, tucson, slac, summit\n",
    "log_name = 'narrativelog'\n",
    "log = log_name\n",
    "limit = int(record_limit)\n",
    "response_timeout = 3.05  # seconds, how long to wait for connection\n",
    "read_timeout = 20  # seconds\n",
    "\n",
    "timeout = (float(response_timeout), float(read_timeout))\n",
    "\n",
    "summit = 'https://summit-lsp.lsst.codes'\n",
    "usdf = 'https://usdf-rsp-dev.slac.stanford.edu'\n",
    "tucson = 'https://tucson-teststand.lsst.codes'\n",
    "server = os.environ.get('EXTERNAL_INSTANCE_URL', usdf)\n",
    "service = f'{server}/{log}'\n",
    "service"
   ]
  },
  {
   "cell_type": "markdown",
   "id": "4",
   "metadata": {},
   "source": [
    "<a class=\"anchor\" id=\"setup_source\"></a>\n",
    "## Setup Source"
   ]
  },
  {
   "cell_type": "code",
   "execution_count": null,
   "id": "5",
   "metadata": {},
   "outputs": [],
   "source": [
    "ignore_fields = set(['tags', 'urls', 'message_text', 'id', 'date_added', \n",
    "                     'obs_id', 'day_obs', 'seq_num', 'parent_id', 'user_id',\n",
    "                     'date_invalidated', 'date_begin', 'date_end',\n",
    "                     'time_lost', # float\n",
    "                     #'systems','subsystems','cscs',  # values are lists, special handling\n",
    "                    ])"
   ]
  },
  {
   "cell_type": "code",
   "execution_count": null,
   "id": "6",
   "metadata": {},
   "outputs": [],
   "source": [
    "# For Times Square, comment out next line and past next cell with contents of local python file.\n",
    "from lsst.ts.logging_and_reporting.logrep_utils import NarrativelogAdapter\n",
    "# Once our logrep package has been installed in RSP, we can use the simpler \"import\""
   ]
  },
  {
   "cell_type": "code",
   "execution_count": null,
   "id": "7",
   "metadata": {},
   "outputs": [],
   "source": [
    "# Paste contents of logrep_utils.py here"
   ]
  },
  {
   "cell_type": "markdown",
   "id": "8",
   "metadata": {},
   "source": [
    "<a class=\"anchor\" id=\"get_records\"></a>\n",
    "## Get Records"
   ]
  },
  {
   "cell_type": "code",
   "execution_count": null,
   "id": "9",
   "metadata": {},
   "outputs": [],
   "source": [
    "service_adapter = NarrativelogAdapter(server_url=server)\n",
    "try:\n",
    "    recs = service_adapter.get_messages()\n",
    "except Exception as err:\n",
    "    recs = []\n",
    "    msg = f'ERROR getting records from {server=}: {err=}'\n",
    "    raise Exception(msg)\n",
    "\n",
    "flds = set(recs[0].keys())\n",
    "facflds = flds - ignore_fields\n",
    "# facets(field) = set(value-1, value-2, ...)\n",
    "facets = {fld: set([str(r[fld])\n",
    "                    for r in recs if not isinstance(r[fld], list)]) \n",
    "                    for fld in facflds}\n",
    "\n",
    "print(f'Retrieved {len(recs) } records, each with {len(flds)} fields.')"
   ]
  },
  {
   "cell_type": "code",
   "execution_count": null,
   "id": "10",
   "metadata": {},
   "outputs": [],
   "source": [
    "date_tl = service_adapter.get_timelost()"
   ]
  },
  {
   "cell_type": "markdown",
   "id": "11",
   "metadata": {},
   "source": [
    "<a class=\"anchor\" id=\"table\"></a>\n",
    "## Tables of (mostly raw) results"
   ]
  },
  {
   "cell_type": "markdown",
   "id": "12",
   "metadata": {},
   "source": [
    "### Fields names provided in records from log."
   ]
  },
  {
   "cell_type": "code",
   "execution_count": null,
   "id": "13",
   "metadata": {},
   "outputs": [],
   "source": [
    "pd.DataFrame(flds, columns=['Field Name'])"
   ]
  },
  {
   "cell_type": "markdown",
   "id": "14",
   "metadata": {},
   "source": [
    "### Facets from log records.\n",
    "A *facet* is the set all of values found for a field in the retrieved records. Facets are only calculated for some fields."
   ]
  },
  {
   "cell_type": "code",
   "execution_count": null,
   "id": "15",
   "metadata": {},
   "outputs": [],
   "source": [
    "display(pd.DataFrame.from_dict(facets, orient='index'))\n",
    "facets"
   ]
  },
  {
   "cell_type": "markdown",
   "id": "16",
   "metadata": {},
   "source": [
    "### Show Retrieved Records"
   ]
  },
  {
   "cell_type": "code",
   "execution_count": null,
   "id": "17",
   "metadata": {},
   "outputs": [],
   "source": [
    "ignore_fields = ['id']\n",
    "new_column_names = dict(message_text='message',\n",
    "                        primary_software_components='PSC',\n",
    "                        primary_hardware_components='PHC',\n",
    "                       )\n",
    "\n",
    "df = pd.DataFrame(recs).rename(columns=new_column_names)\n",
    "with pd.option_context('display.max_rows', None, 'display.max_columns', None):\n",
    "    display(df.loc[:, ~df.columns.isin(ignore_fields)])"
   ]
  },
  {
   "cell_type": "markdown",
   "id": "18",
   "metadata": {},
   "source": [
    "### Table of selected log record fields.\n",
    "Table can be retrieved as CSV file for local use."
   ]
  },
  {
   "cell_type": "code",
   "execution_count": null,
   "id": "19",
   "metadata": {},
   "outputs": [],
   "source": [
    "cols = ['date_added', 'time_lost', 'time_lost_type']\n",
    "df = pd.DataFrame(recs)[cols]\n",
    "\n",
    "# Allow download of CSV version of DataFrame\n",
    "csvfile = 'tl.csv'\n",
    "df.to_csv(csvfile)\n",
    "myfile = FileLink(csvfile)\n",
    "print('Table available as CSV file: ')\n",
    "display(myfile)\n",
    "df"
   ]
  },
  {
   "cell_type": "code",
   "execution_count": null,
   "id": "20",
   "metadata": {},
   "outputs": [],
   "source": [
    "cols = ['message_text','tags','user_id', 'components','date_end']\n",
    "df = pd.DataFrame(recs, columns=cols)\n",
    "df"
   ]
  },
  {
   "cell_type": "markdown",
   "id": "21",
   "metadata": {},
   "source": [
    "<a class=\"anchor\" id=\"plot\"></a>\n",
    "## Plots from log (per day)"
   ]
  },
  {
   "cell_type": "code",
   "execution_count": null,
   "id": "22",
   "metadata": {},
   "outputs": [],
   "source": [
    "display_markdown(f'### Date vs Time Lost', raw=True)\n",
    "display_markdown(f'(Should rollup per day)', raw=True)\n",
    "x = date_tl.keys()\n",
    "y = date_tl.values()\n",
    "\n",
    "df = pd.DataFrame(dict(day=x,time_lost=y))\n",
    "df.plot.bar(x='day', y='time_lost', title=f'Time Lost')\n",
    "display(df)"
   ]
  },
  {
   "cell_type": "markdown",
   "id": "23",
   "metadata": {},
   "source": [
    "<a class=\"anchor\" id=\"raw_analysis\"></a>\n",
    "## Raw Content Analysis"
   ]
  },
  {
   "cell_type": "markdown",
   "id": "24",
   "metadata": {},
   "source": [
    "### Example of one record"
   ]
  },
  {
   "cell_type": "code",
   "execution_count": null,
   "id": "25",
   "metadata": {},
   "outputs": [],
   "source": [
    "rec = recs[-1]\n",
    "\n",
    "msg = rec[\"message_text\"]\n",
    "md = f'Message text from log:\\n> {msg}'\n",
    "display_markdown(md, raw=True)\n",
    "\n",
    "md = f'One full record (the last one retrieved):\\n> {rec}'\n",
    "display_markdown(md, raw=True)\n",
    "\n",
    "display(rec)"
   ]
  },
  {
   "cell_type": "markdown",
   "id": "26",
   "metadata": {},
   "source": [
    "<a class=\"anchor\" id=\"elicitation\"></a>\n",
    "## Stakeholder Elicitation"
   ]
  },
  {
   "cell_type": "code",
   "execution_count": null,
   "id": "27",
   "metadata": {},
   "outputs": [],
   "source": []
  }
 ],
 "metadata": {
  "kernelspec": {
   "display_name": "Python 3 (ipykernel)",
   "language": "python",
   "name": "python3"
  },
  "language_info": {
   "codemirror_mode": {
    "name": "ipython",
    "version": 3
   },
   "file_extension": ".py",
   "mimetype": "text/x-python",
   "name": "python",
   "nbconvert_exporter": "python",
   "pygments_lexer": "ipython3",
   "version": "3.10.12"
  }
 },
 "nbformat": 4,
 "nbformat_minor": 5
}
