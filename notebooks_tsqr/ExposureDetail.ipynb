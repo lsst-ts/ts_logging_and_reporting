{
 "cells": [
  {
   "cell_type": "code",
   "execution_count": null,
   "id": "0",
   "metadata": {},
   "outputs": [],
   "source": [
    "# Parameters.\n",
    "# Times Square replaces this cell with the user's parameters.\n",
    "# So, don't put anything else here!\n",
    "\n",
    "# day_obs values: TODAY, YESTERDAY, YYYY-MM-DD\n",
    "# Report on observing nights that start upto but not included this day.\n",
    "#!day_obs = '2024-09-25' # Value to use for local testing (Summit)\n",
    "day_obs = \"2024-12-09\"  # TODO Change to 'YESTERDAY' to test with default before push\n",
    "instrument = \"LSSTComCam\"\n",
    "observation_reason = \"ALL\"\n",
    "observation_type = \"science\"  # TODO: \"science\", \"acq\", default=\"ALL\"\n",
    "science_program = \"ALL\""
   ]
  },
  {
   "cell_type": "code",
   "execution_count": null,
   "id": "1",
   "metadata": {},
   "outputs": [],
   "source": [
    "# IMPORT everything\n",
    "import os\n",
    "import datetime as dt\n",
    "import pandas as pd\n",
    "from IPython.display import HTML, display\n",
    "\n",
    "# When running under Times Square, install pkg from github.\n",
    "# Otherwise use what is installed locally (intended to be dev editiable pkg)\n",
    "if os.environ.get(\"EXTERNAL_INSTANCE_URL\"):\n",
    "    dev_msg = (\n",
    "        'Installing \"lsst.ts.logging_and_reporting\" from github using \"prototype\" branch. \\n'\n",
    "        \"TODO: Make the need for this go away by getting Logging_and_Reporting installed in RSP.\"\n",
    "    )\n",
    "    !pip install --upgrade git+https://github.com/lsst-ts/ts_logging_and_reporting.git@prototype > /dev/null 2>&1\n",
    "else:\n",
    "    dev_msg = \"Imported lsst.ts.logging_and_reporting from local packages.\"\n",
    "#! import lsst.ts.logging_and_reporting.source_adapters as sad\n",
    "import lsst.ts.logging_and_reporting.utils as ut\n",
    "from lsst.ts.logging_and_reporting.reports import md\n",
    "\n",
    "from lsst.ts.logging_and_reporting.all_sources import AllSources\n",
    "from lsst.ts.logging_and_reporting.all_reports import AllReports"
   ]
  },
  {
   "cell_type": "code",
   "execution_count": null,
   "id": "2",
   "metadata": {},
   "outputs": [],
   "source": [
    "# Set default env to \"usdf\" and try before PUSH to repo.\n",
    "\n",
    "# The default provided here is for local testing.\n",
    "# Under Times Square it is ignored.\n",
    "server = os.environ.get(\n",
    "    \"EXTERNAL_INSTANCE_URL\", ut.Server.usdf\n",
    ")  # TODO try with \"usdf\" before push (else \"summit\")\n",
    "\n",
    "# Normalize Parameters (both explicit Times Squares params and implicit ones)\n",
    "observation_reason = None if observation_reason == \"ALL\" else observation_reason\n",
    "observation_type = None if observation_type == \"ALL\" else observation_type\n",
    "science_program = None if science_program == \"ALL\" else science_program\n",
    "params = dict(\n",
    "    day_obs=day_obs,\n",
    "    instrument=instrument,\n",
    "    observation_reason=observation_reason,\n",
    "    observation_type=observation_type,\n",
    "    science_program=science_program,\n",
    ")"
   ]
  },
  {
   "cell_type": "code",
   "execution_count": null,
   "id": "3",
   "metadata": {},
   "outputs": [],
   "source": [
    "# Normalize Parameters (both explicit Times Squares params, in implicit ones)\n",
    "date = ut.get_datetime_from_dayobs_str(day_obs)\n",
    "# date:  is EXCLUSIVE (upto, but not including)\n",
    "days = 1\n",
    "verbose = False\n",
    "\n",
    "# Thus: [min_day_obs,max_day_obs)\n",
    "# Format: string, YYYY-MM-DD\n",
    "min_date = date\n",
    "max_date = date + dt.timedelta(days=1)\n",
    "min_day_obs = min_date.strftime(\"%Y-%m-%d\")  # Inclusive\n",
    "max_day_obs = max_date.strftime(\"%Y-%m-%d\")  # prep for Exclusive"
   ]
  },
  {
   "cell_type": "code",
   "execution_count": null,
   "id": "4",
   "metadata": {},
   "outputs": [],
   "source": [
    "# Read records from (almost) all sources\n",
    "timer = ut.Timer()\n",
    "allsrc = AllSources(\n",
    "    server_url=server,\n",
    "    min_dayobs=min_day_obs,\n",
    "    max_dayobs=max_day_obs,\n",
    "    verbose=verbose,\n",
    "    limit=5000,\n",
    ")\n",
    "#!allrep = AllReports(allsrc=allsrc)\n",
    "#!src_exp = allsrc.exp_src"
   ]
  },
  {
   "cell_type": "code",
   "execution_count": null,
   "id": "5",
   "metadata": {},
   "outputs": [],
   "source": [
    "#! allrep.exp_rep.time_log_as_markdown()"
   ]
  },
  {
   "cell_type": "code",
   "execution_count": null,
   "id": "6",
   "metadata": {},
   "outputs": [],
   "source": [
    "display(HTML(allsrc.cdb_src.get_exposures(instrument).to_html()))"
   ]
  },
  {
   "cell_type": "code",
   "execution_count": null,
   "id": "7",
   "metadata": {},
   "outputs": [],
   "source": [
    "df = allsrc.exp_src.exposure_detail(\n",
    "    instrument=instrument,\n",
    "    science_program=science_program,\n",
    "    observation_reason=observation_reason,\n",
    "    observation_type=observation_type,\n",
    ")\n",
    "if observation_reason:\n",
    "    md(f\"# Observation Reason: {observation_reason}\")\n",
    "if observation_type:\n",
    "    md(f\"# Observation Type: {observation_type}\")\n",
    "if science_program:\n",
    "    md(f\"# Science Program: {science_program}\")\n",
    "md(f\"The number of exposures in this filtered result is {len(df.index)}\")\n",
    "display(HTML(df.to_html(index=False)))\n",
    "print(f\"{df.columns.to_list()=}\")"
   ]
  },
  {
   "cell_type": "markdown",
   "id": "8",
   "metadata": {},
   "source": [
    "| Symbol | Meaning |\n",
    "|:---|:---|\n",
    "| <font style=\"background-color:green; color:white; font-size:20px\">&nbsp;G&nbsp;</font>| Good |\n",
    "| <font style=\"background-color:yellow; color:black; font-size:20px\">&nbsp;?&nbsp;</font> | Questionable |\n",
    "| <font style=\"background-color:red; color:black; font-size:20px\">&nbsp;R&nbsp;</font> | Junk |"
   ]
  },
  {
   "cell_type": "markdown",
   "id": "9",
   "metadata": {},
   "source": [
    "-----------------"
   ]
  },
  {
   "cell_type": "markdown",
   "id": "10",
   "metadata": {},
   "source": [
    "# Developer Only Section"
   ]
  },
  {
   "cell_type": "code",
   "execution_count": null,
   "id": "11",
   "metadata": {},
   "outputs": [],
   "source": [
    "display(params)\n",
    "print(src_exp)\n",
    "print(f\"{instrument=}, {science_program=}, {observation_reason=}, {observation_type=}\")"
   ]
  },
  {
   "cell_type": "code",
   "execution_count": null,
   "id": "12",
   "metadata": {},
   "outputs": [],
   "source": [
    "print({k: len(v) for k, v in src_exp.exposures.items()})"
   ]
  },
  {
   "cell_type": "code",
   "execution_count": null,
   "id": "13",
   "metadata": {},
   "outputs": [],
   "source": [
    "# src_exp.exposures['LATISS']"
   ]
  },
  {
   "cell_type": "code",
   "execution_count": null,
   "id": "14",
   "metadata": {},
   "outputs": [],
   "source": []
  }
 ],
 "metadata": {
  "kernelspec": {
   "display_name": "Python 3 (ipykernel)",
   "language": "python",
   "name": "python3"
  },
  "language_info": {
   "codemirror_mode": {
    "name": "ipython",
    "version": 3
   },
   "file_extension": ".py",
   "mimetype": "text/x-python",
   "name": "python",
   "nbconvert_exporter": "python",
   "pygments_lexer": "ipython3",
   "version": "3.11.10"
  }
 },
 "nbformat": 4,
 "nbformat_minor": 5
}
