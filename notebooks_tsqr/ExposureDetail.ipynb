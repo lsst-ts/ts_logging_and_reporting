{
 "cells": [
  {
   "cell_type": "code",
   "execution_count": 1,
   "id": "4f3589c5-2081-4deb-94eb-cdac6a6a1212",
   "metadata": {},
   "outputs": [],
   "source": [
    "# Parameters.\n",
    "# Times Square replaces this cell with the user's parameters.\n",
    "# So, don't put anything else here!\n",
    "\n",
    "# day_obs values: TODAY, YESTERDAY, YYYY-MM-DD\n",
    "# Report on observing nights that start upto but not included this day.\n",
    "#!day_obs = '2024-09-25' # Value to use for local testing (Summit)\n",
    "day_obs = \"2024-09-25\"  # TODO Change to 'YESTERDAY' to test with default before push\n",
    "\n",
    "# Total number of days of data to display (ending on day_obs)\n",
    "number_of_days = \"1\"  # TODO Change to '1' to test with default before push\n",
    "\n",
    "instrument = \"LATISS\"\n",
    "observation_reason = \"ALL\"\n",
    "observation_type = \"science\"\n",
    "science_program = \"ALL\""
   ]
  },
  {
   "cell_type": "code",
   "execution_count": 2,
   "id": "e7da1f60-7f47-4c28-8bc0-d83ade57ab4b",
   "metadata": {},
   "outputs": [],
   "source": [
    "import os\n",
    "import datetime as dt\n",
    "import pandas as pd\n",
    "from IPython.display import HTML, display\n",
    "\n",
    "# When running under Times Square, install pkg from github.\n",
    "# Otherwise use what is installed locally (intended to be dev editiable pkg)\n",
    "if os.environ.get(\"EXTERNAL_INSTANCE_URL\"):\n",
    "    dev_msg = (\n",
    "        'Installing \"lsst.ts.logging_and_reporting\" from github using \"prototype\" branch. \\n'\n",
    "        'TODO: Make the need for this go away by getting Logging_and_Reporting installed in RSP.'\n",
    "    )\n",
    "    !pip install --upgrade git+https://github.com/lsst-ts/ts_logging_and_reporting.git@prototype > /dev/null 2>&1\n",
    "else:\n",
    "    dev_msg = 'Imported lsst.ts.logging_and_reporting from local packages.'\n",
    "import lsst.ts.logging_and_reporting.source_adapters as sad\n",
    "import lsst.ts.logging_and_reporting.utils as ut\n",
    "from lsst.ts.logging_and_reporting.reports import md\n",
    "\n",
    "# Set default env to \"usdf\" and try before PUSH to repo.\n",
    "\n",
    "# The default provided here is for local testing.\n",
    "# Under Times Square it is ignored.\n",
    "server = os.environ.get(\n",
    "    \"EXTERNAL_INSTANCE_URL\", ut.Server.summit\n",
    ")  # TODO try with \"usdf\" before push (else \"summit\")\n",
    "\n",
    "# Normalize Parameters (both explicit Times Squares params and implicit ones)\n",
    "observation_reason = None if observation_reason=='ALL' else observation_reason\n",
    "observation_type = None if observation_type=='ALL' else observation_type\n",
    "science_program = None if science_program=='ALL' else science_program\n",
    "params = dict(\n",
    "    day_obs=day_obs,\n",
    "    number_of_days=number_of_days,\n",
    "    instrument=instrument,\n",
    "    observation_reason=observation_reason,\n",
    "    observation_type=observation_type,\n",
    "    science_program=science_program,\n",
    ")\n"
   ]
  },
  {
   "cell_type": "code",
   "execution_count": 3,
   "id": "39ebaf06-bbcd-47a3-b72e-3e1925995c43",
   "metadata": {},
   "outputs": [],
   "source": [
    "# Normalize Parameters (both explicit Times Squares params, in implicit ones)\n",
    "date = ut.get_datetime_from_dayobs_str(day_obs)\n",
    "# date:  is EXCLUSIVE (upto, but not including)\n",
    "days = int(number_of_days)\n",
    "\n",
    "# Thus: [min_day_obs,max_day_obs)\n",
    "# Format: string, YYYY-MM-DD\n",
    "min_date = date - dt.timedelta(days=days - 1)\n",
    "max_date = date + dt.timedelta(days=1)\n",
    "min_day_obs = min_date.strftime(\"%Y-%m-%d\")  # Inclusive\n",
    "max_day_obs = max_date.strftime(\"%Y-%m-%d\")  # prep for Exclusive"
   ]
  },
  {
   "cell_type": "code",
   "execution_count": 4,
   "id": "a78b6f36-12a3-4f76-806a-ee0805c89318",
   "metadata": {},
   "outputs": [],
   "source": [
    "src_exp = sad.ExposurelogAdapter(\n",
    "    server_url=server,\n",
    "    min_dayobs=min_day_obs,\n",
    "    max_dayobs=max_day_obs,\n",
    "    limit=5000,\n",
    ")"
   ]
  },
  {
   "cell_type": "code",
   "execution_count": 5,
   "id": "01206be5-db25-4a34-9ed4-8189bf54042b",
   "metadata": {},
   "outputs": [
    {
     "ename": "KeyError",
     "evalue": "'LATISS'",
     "output_type": "error",
     "traceback": [
      "\u001b[0;31m---------------------------------------------------------------------------\u001b[0m",
      "\u001b[0;31mKeyError\u001b[0m                                  Traceback (most recent call last)",
      "Cell \u001b[0;32mIn[5], line 1\u001b[0m\n\u001b[0;32m----> 1\u001b[0m df \u001b[38;5;241m=\u001b[39m \u001b[43msrc_exp\u001b[49m\u001b[38;5;241;43m.\u001b[39;49m\u001b[43mexposure_detail\u001b[49m\u001b[43m(\u001b[49m\u001b[43minstrument\u001b[49m\u001b[38;5;241;43m=\u001b[39;49m\u001b[43minstrument\u001b[49m\u001b[43m,\u001b[49m\n\u001b[1;32m      2\u001b[0m \u001b[43m                            \u001b[49m\u001b[43mscience_program\u001b[49m\u001b[38;5;241;43m=\u001b[39;49m\u001b[43mscience_program\u001b[49m\u001b[43m,\u001b[49m\n\u001b[1;32m      3\u001b[0m \u001b[43m                            \u001b[49m\u001b[43mobservation_reason\u001b[49m\u001b[38;5;241;43m=\u001b[39;49m\u001b[43mobservation_reason\u001b[49m\u001b[43m,\u001b[49m\n\u001b[1;32m      4\u001b[0m \u001b[43m                            \u001b[49m\u001b[43mobservation_type\u001b[49m\u001b[38;5;241;43m=\u001b[39;49m\u001b[43mobservation_type\u001b[49m\n\u001b[1;32m      5\u001b[0m \u001b[43m                           \u001b[49m\u001b[43m)\u001b[49m\n\u001b[1;32m      6\u001b[0m md(\u001b[38;5;124mf\u001b[39m\u001b[38;5;124m'\u001b[39m\u001b[38;5;124mThe number of exposures in this filtered result is \u001b[39m\u001b[38;5;132;01m{\u001b[39;00m\u001b[38;5;28mlen\u001b[39m(df\u001b[38;5;241m.\u001b[39mindex)\u001b[38;5;132;01m}\u001b[39;00m\u001b[38;5;124m'\u001b[39m)\n\u001b[1;32m      7\u001b[0m display(HTML(df\u001b[38;5;241m.\u001b[39mto_html()))\n",
      "File \u001b[0;32m~/develop/ts_logging_and_reporting/python/lsst/ts/logging_and_reporting/source_adapters.py:784\u001b[0m, in \u001b[0;36mExposurelogAdapter.exposure_detail\u001b[0;34m(self, instrument, science_program, observation_type, observation_reason)\u001b[0m\n\u001b[1;32m    780\u001b[0m otype \u001b[38;5;241m=\u001b[39m observation_type \u001b[38;5;129;01mand\u001b[39;00m observation_type\u001b[38;5;241m.\u001b[39mlower()\n\u001b[1;32m    781\u001b[0m reason \u001b[38;5;241m=\u001b[39m observation_reason \u001b[38;5;129;01mand\u001b[39;00m observation_reason\u001b[38;5;241m.\u001b[39mlower()\n\u001b[1;32m    782\u001b[0m recs \u001b[38;5;241m=\u001b[39m [\n\u001b[1;32m    783\u001b[0m     r\n\u001b[0;32m--> 784\u001b[0m     \u001b[38;5;28;01mfor\u001b[39;00m r \u001b[38;5;129;01min\u001b[39;00m \u001b[38;5;28;43mself\u001b[39;49m\u001b[38;5;241;43m.\u001b[39;49m\u001b[43mexposures\u001b[49m\u001b[43m[\u001b[49m\u001b[43minstrument\u001b[49m\u001b[43m]\u001b[49m\n\u001b[1;32m    785\u001b[0m     \u001b[38;5;28;01mif\u001b[39;00m ((program \u001b[38;5;129;01mis\u001b[39;00m \u001b[38;5;28;01mNone\u001b[39;00m) \u001b[38;5;129;01mor\u001b[39;00m (r[\u001b[38;5;124m\"\u001b[39m\u001b[38;5;124mscience_program\u001b[39m\u001b[38;5;124m\"\u001b[39m]\u001b[38;5;241m.\u001b[39mlower() \u001b[38;5;241m==\u001b[39m program))\n\u001b[1;32m    786\u001b[0m     \u001b[38;5;129;01mand\u001b[39;00m ((otype \u001b[38;5;129;01mis\u001b[39;00m \u001b[38;5;28;01mNone\u001b[39;00m) \u001b[38;5;129;01mor\u001b[39;00m (r[\u001b[38;5;124m\"\u001b[39m\u001b[38;5;124mobservation_type\u001b[39m\u001b[38;5;124m\"\u001b[39m]\u001b[38;5;241m.\u001b[39mlower() \u001b[38;5;241m==\u001b[39m otype))\n\u001b[1;32m    787\u001b[0m     \u001b[38;5;129;01mand\u001b[39;00m ((reason \u001b[38;5;129;01mis\u001b[39;00m \u001b[38;5;28;01mNone\u001b[39;00m) \u001b[38;5;129;01mor\u001b[39;00m (r[\u001b[38;5;124m\"\u001b[39m\u001b[38;5;124mobservation_reason\u001b[39m\u001b[38;5;124m\"\u001b[39m]\u001b[38;5;241m.\u001b[39mlower() \u001b[38;5;241m==\u001b[39m reason))\n\u001b[1;32m    788\u001b[0m ]\n\u001b[1;32m    789\u001b[0m \u001b[38;5;28;01mif\u001b[39;00m \u001b[38;5;28mself\u001b[39m\u001b[38;5;241m.\u001b[39mverbose:\n\u001b[1;32m    790\u001b[0m     \u001b[38;5;28mprint\u001b[39m(\n\u001b[1;32m    791\u001b[0m         \u001b[38;5;124mf\u001b[39m\u001b[38;5;124m\"\u001b[39m\u001b[38;5;124mexposure_detail(\u001b[39m\u001b[38;5;132;01m{\u001b[39;00minstrument\u001b[38;5;132;01m}\u001b[39;00m\u001b[38;5;124m, \u001b[39m\u001b[38;5;124m\"\u001b[39m\n\u001b[1;32m    792\u001b[0m         \u001b[38;5;124mf\u001b[39m\u001b[38;5;124m\"\u001b[39m\u001b[38;5;132;01m{\u001b[39;00mscience_program\u001b[38;5;132;01m=}\u001b[39;00m\u001b[38;5;124m,\u001b[39m\u001b[38;5;132;01m{\u001b[39;00mobservation_type\u001b[38;5;132;01m=}\u001b[39;00m\u001b[38;5;124m,\u001b[39m\u001b[38;5;132;01m{\u001b[39;00mobservation_reason\u001b[38;5;132;01m=}\u001b[39;00m\u001b[38;5;124m):\u001b[39m\u001b[38;5;124m\"\u001b[39m\n\u001b[1;32m    793\u001b[0m     )\n",
      "\u001b[0;31mKeyError\u001b[0m: 'LATISS'"
     ]
    }
   ],
   "source": [
    "df = src_exp.exposure_detail(instrument=instrument,\n",
    "                            science_program=science_program,\n",
    "                            observation_reason=observation_reason,\n",
    "                            observation_type=observation_type\n",
    "                           )\n",
    "md(f'The number of exposures in this filtered result is {len(df.index)}')\n",
    "display(HTML(df.to_html()))"
   ]
  },
  {
   "cell_type": "markdown",
   "id": "17b65985-1bd5-4ebd-bd5a-572292fce71f",
   "metadata": {},
   "source": [
    "-----------------"
   ]
  },
  {
   "cell_type": "markdown",
   "id": "68b4c365-3ab1-4cd4-9091-320d9e5e4951",
   "metadata": {},
   "source": [
    "# Developer Only Section"
   ]
  },
  {
   "cell_type": "code",
   "execution_count": null,
   "id": "a1c0ef70-ac12-401e-8ca9-cdcdae52cc13",
   "metadata": {},
   "outputs": [],
   "source": [
    "display(params)  \n",
    "print(src_exp)\n",
    "print(f'{instrument=}, {science_program=}, {observation_reason=}, {observation_type=}')"
   ]
  },
  {
   "cell_type": "code",
   "execution_count": null,
   "id": "0108873d-5a10-47f5-9f32-f7d5479c1b73",
   "metadata": {},
   "outputs": [],
   "source": [
    "print({k: len(v) for k,v in src_exp.exposures.items()})"
   ]
  },
  {
   "cell_type": "code",
   "execution_count": null,
   "id": "43897952-6ebd-4267-ad06-21f1da56e5ed",
   "metadata": {},
   "outputs": [],
   "source": [
    "src_exp.exposure_detail(instrument=instrument,\n",
    "                            science_program=science_program,\n",
    "                            observation_reason=observation_reason,\n",
    "                            observation_type=observation_type\n",
    "                           )\n"
   ]
  },
  {
   "cell_type": "code",
   "execution_count": null,
   "id": "1d788add-ee07-4dd5-a37c-843073c2adfa",
   "metadata": {},
   "outputs": [],
   "source": [
    "#src_exp.exposures['LATISS']"
   ]
  },
  {
   "cell_type": "code",
   "execution_count": null,
   "id": "ad526dce-e22b-4635-acce-2fc57c4511ca",
   "metadata": {},
   "outputs": [],
   "source": []
  }
 ],
 "metadata": {
  "kernelspec": {
   "display_name": "Python 3 (ipykernel)",
   "language": "python",
   "name": "python3"
  },
  "language_info": {
   "codemirror_mode": {
    "name": "ipython",
    "version": 3
   },
   "file_extension": ".py",
   "mimetype": "text/x-python",
   "name": "python",
   "nbconvert_exporter": "python",
   "pygments_lexer": "ipython3",
   "version": "3.11.9"
  }
 },
 "nbformat": 4,
 "nbformat_minor": 5
}
