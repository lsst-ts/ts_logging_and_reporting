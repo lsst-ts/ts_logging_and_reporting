{
 "cells": [
  {
   "cell_type": "markdown",
   "id": "0",
   "metadata": {},
   "source": [
    "# Logger Source API Dashboard\n",
    "For all of these to work, the following must be enabled:\n",
    "- Tucson VPN\n",
    "- Summit VPN\n",
    "- User has access to USDF-dev (SLAC)"
   ]
  },
  {
   "cell_type": "code",
   "execution_count": null,
   "id": "1",
   "metadata": {},
   "outputs": [],
   "source": [
    "from datetime import date, datetime, timedelta\n",
    "from pprint import pformat, pp\n",
    "\n",
    "from lsst.ts.logging_and_reporting.dashboard import Dashboard\n",
    "from lsst.ts.logging_and_reporting.reports import md, mdlist"
   ]
  },
  {
   "cell_type": "markdown",
   "id": "2",
   "metadata": {},
   "source": [
    "## Connects"
   ]
  },
  {
   "cell_type": "code",
   "execution_count": null,
   "id": "3",
   "metadata": {},
   "outputs": [],
   "source": [
    "dash = Dashboard()\n",
    "score, working = dash.report()\n",
    "# On 9/12/2024 this gets two failed connects.\n",
    "#   The are usdf: exposurelog/instruments,exposurelog/exposures\n",
    "# When usdfdev if fully functional, there should be zero failed connects (with both VPNs active)."
   ]
  },
  {
   "cell_type": "markdown",
   "id": "4",
   "metadata": {},
   "source": [
    "## Score"
   ]
  },
  {
   "cell_type": "code",
   "execution_count": null,
   "id": "5",
   "metadata": {},
   "outputs": [],
   "source": [
    "md(f\"{score=:.0%}\")\n",
    "md(\"**Servers that are fully functional** for Logging and Reporting:\")\n",
    "mdlist([f\"- {w}\" for w in working])"
   ]
  },
  {
   "cell_type": "markdown",
   "id": "6",
   "metadata": {},
   "source": [
    "## Samples"
   ]
  },
  {
   "cell_type": "code",
   "execution_count": null,
   "id": "7",
   "metadata": {},
   "outputs": [],
   "source": [
    "server = \"https://summit-lsp.lsst.codes\"\n",
    "samples = dash.get_sample_data(server)\n",
    "print(\"One record of data from all endpoints used by LogRep:\")\n",
    "for endpoint, sample in samples.items():\n",
    "    base_ep = endpoint.replace(server, \"\")\n",
    "    md(f\"\\n### Endpoint: {base_ep}\")\n",
    "    print(f\"{endpoint}\")\n",
    "    pp(sample)"
   ]
  },
  {
   "cell_type": "markdown",
   "id": "8",
   "metadata": {},
   "source": [
    "# Finale"
   ]
  },
  {
   "cell_type": "code",
   "execution_count": null,
   "id": "9",
   "metadata": {},
   "outputs": [],
   "source": [
    "print(f\"Finished {str(datetime.now())}\")"
   ]
  }
 ],
 "metadata": {
  "kernelspec": {
   "display_name": "Python 3 (ipykernel)",
   "language": "python",
   "name": "python3"
  },
  "language_info": {
   "codemirror_mode": {
    "name": "ipython",
    "version": 3
   },
   "file_extension": ".py",
   "mimetype": "text/x-python",
   "name": "python",
   "nbconvert_exporter": "python",
   "pygments_lexer": "ipython3",
   "version": "3.11.9"
  }
 },
 "nbformat": 4,
 "nbformat_minor": 5
}
