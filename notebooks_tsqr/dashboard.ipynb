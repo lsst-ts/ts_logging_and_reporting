{
 "cells": [
  {
   "cell_type": "markdown",
   "id": "0",
   "metadata": {},
   "source": [
    "# Logger Source API Dashboard\n",
    "For all of these to work, the following must be enabled:\n",
    "- Tucson VPN\n",
    "- Summit VPN\n",
    "- User has access to USDF-dev (SLAC)"
   ]
  },
  {
   "cell_type": "code",
   "execution_count": 1,
   "id": "1",
   "metadata": {},
   "outputs": [],
   "source": [
    "from datetime import date, datetime, timedelta\n",
    "from pprint import pformat, pp\n",
    "\n",
    "from lsst.ts.logging_and_reporting.dashboard import Dashboard\n",
    "from lsst.ts.logging_and_reporting.reports import md, mdlist"
   ]
  },
  {
   "cell_type": "code",
   "execution_count": 2,
   "id": "d790c498-2ebc-4b7b-9c32-80b8174dec8b",
   "metadata": {},
   "outputs": [
    {
     "data": {
      "text/plain": [
       "10000"
      ]
     },
     "execution_count": 2,
     "metadata": {},
     "output_type": "execute_result"
    }
   ],
   "source": [
    "# Narrativelog components\n",
    "dash = Dashboard()\n",
    "endpoint = 'https://usdf-rsp-dev.slac.stanford.edu/narrativelog/messages'\n",
    "fields = [\n",
    "    'components',\n",
    "    'primary_software_components',\n",
    "    'primary_hardware_components',\n",
    "]\n",
    "samples = dash.get_big_sample(endpoint,10000,fields)\n",
    "len(samples)"
   ]
  },
  {
   "cell_type": "code",
   "execution_count": 3,
   "id": "4bfbcc1d-bca7-49ce-85e0-73c932d0228e",
   "metadata": {},
   "outputs": [
    {
     "data": {
      "text/plain": [
       "({'ATDome',\n",
       "  'ATMCS',\n",
       "  'Analysis',\n",
       "  'AuxTel',\n",
       "  'CSC level',\n",
       "  'Calibration',\n",
       "  'Calibrations',\n",
       "  'Camera Control Software',\n",
       "  'Component Level (EUI)',\n",
       "  'DIMM',\n",
       "  'Dome',\n",
       "  'Environmental Monitoring Systems',\n",
       "  'Facilities',\n",
       "  'Hexapod',\n",
       "  'IT Infrastricture',\n",
       "  'IT Infrastructure',\n",
       "  'Infrastructure',\n",
       "  'LOVE',\n",
       "  'M1M3',\n",
       "  'M2',\n",
       "  'MTMount',\n",
       "  'MainTel',\n",
       "  'Mount',\n",
       "  'None',\n",
       "  'Observer Remark',\n",
       "  'Other',\n",
       "  'Rotator',\n",
       "  'Scheduler',\n",
       "  'Science Cameras',\n",
       "  'TCS',\n",
       "  'TMA_CSC',\n",
       "  'TMA_EUI',\n",
       "  'Visualization'},\n",
       " Counter({'None': 19603,\n",
       "          'MainTel': 7180,\n",
       "          'AuxTel': 1921,\n",
       "          'MTMount': 112,\n",
       "          'Other': 97,\n",
       "          'Observer Remark': 79,\n",
       "          'Mount': 48,\n",
       "          'CSC level': 39,\n",
       "          'Environmental Monitoring Systems': 23,\n",
       "          'Calibrations': 20,\n",
       "          'M1M3': 17,\n",
       "          'Dome': 16,\n",
       "          'Rotator': 13,\n",
       "          'Calibration': 9,\n",
       "          'Component Level (EUI)': 9,\n",
       "          'LOVE': 8,\n",
       "          'ATMCS': 8,\n",
       "          'Hexapod': 8,\n",
       "          'TMA_EUI': 8,\n",
       "          'TMA_CSC': 7,\n",
       "          'IT Infrastricture': 6,\n",
       "          'IT Infrastructure': 6,\n",
       "          'ATDome': 5,\n",
       "          'Science Cameras': 3,\n",
       "          'M2': 3,\n",
       "          'DIMM': 2,\n",
       "          'Facilities': 2,\n",
       "          'Analysis': 2,\n",
       "          'TCS': 2,\n",
       "          'Scheduler': 1,\n",
       "          'Infrastructure': 1,\n",
       "          'Camera Control Software': 1,\n",
       "          'Visualization': 1}))"
      ]
     },
     "execution_count": 3,
     "metadata": {},
     "output_type": "execute_result"
    }
   ],
   "source": [
    "dash.nr_values(samples)"
   ]
  },
  {
   "cell_type": "code",
   "execution_count": 4,
   "id": "79f246ba-849e-4eee-9f23-09b5ebd27f21",
   "metadata": {},
   "outputs": [],
   "source": [
    "# raise Exception('Stop now')"
   ]
  },
  {
   "cell_type": "markdown",
   "id": "2",
   "metadata": {},
   "source": [
    "## Connects"
   ]
  },
  {
   "cell_type": "code",
   "execution_count": 5,
   "id": "3",
   "metadata": {},
   "outputs": [
    {
     "name": "stdout",
     "output_type": "stream",
     "text": [
      "Try to connect (self.timeout=(5.05, 20.0)) to each endpoint of https://summit-lsp.lsst.codes/nightreport \n",
      "DEBUG protected_get(url='https://summit-lsp.lsst.codes/nightreport/reports',timeout=(5.05, 20.0))\n",
      "DEBUG protected_get: FAIL: result=\"Error connecting to https://summit-lsp.lsst.codes/nightreport/reports (with timeout=(5.05, 20.0)). HTTPSConnectionPool(host='summit-lsp.lsst.codes', port=443): Max retries exceeded with url: /nightreport/reports (Caused by ConnectTimeoutError(<urllib3.connection.HTTPSConnection object at 0x7f9af23a2d90>, 'Connection to summit-lsp.lsst.codes timed out. (connect timeout=5.05)'))\"\n",
      "Try to connect (self.timeout=(5.05, 20.0)) to each endpoint of https://summit-lsp.lsst.codes/narrativelog \n",
      "DEBUG protected_get(url='https://summit-lsp.lsst.codes/narrativelog/messages',timeout=(5.05, 20.0))\n",
      "DEBUG protected_get: FAIL: result=\"Error connecting to https://summit-lsp.lsst.codes/narrativelog/messages (with timeout=(5.05, 20.0)). HTTPSConnectionPool(host='summit-lsp.lsst.codes', port=443): Max retries exceeded with url: /narrativelog/messages (Caused by ConnectTimeoutError(<urllib3.connection.HTTPSConnection object at 0x7f9af236b9d0>, 'Connection to summit-lsp.lsst.codes timed out. (connect timeout=5.05)'))\"\n",
      "Try to connect ({self.timeout=}) to each endpoint of https://summit-lsp.lsst.codes/exposurelog \n",
      "DEBUG protected_get(url='https://summit-lsp.lsst.codes/exposurelog/instruments',timeout=(5.05, 20.0))\n",
      "DEBUG protected_get: FAIL: result=\"Error connecting to https://summit-lsp.lsst.codes/exposurelog/instruments (with timeout=(5.05, 20.0)). HTTPSConnectionPool(host='summit-lsp.lsst.codes', port=443): Max retries exceeded with url: /exposurelog/instruments (Caused by ConnectTimeoutError(<urllib3.connection.HTTPSConnection object at 0x7f9af2391250>, 'Connection to summit-lsp.lsst.codes timed out. (connect timeout=5.05)'))\"\n",
      "DEBUG protected_get(url='https://summit-lsp.lsst.codes/exposurelog/exposures?instrument=na',timeout=(5.05, 20.0))\n",
      "DEBUG protected_get: FAIL: result=\"Error connecting to https://summit-lsp.lsst.codes/exposurelog/exposures?instrument=na (with timeout=(5.05, 20.0)). HTTPSConnectionPool(host='summit-lsp.lsst.codes', port=443): Max retries exceeded with url: /exposurelog/exposures?instrument=na (Caused by ConnectTimeoutError(<urllib3.connection.HTTPSConnection object at 0x7f9af2399750>, 'Connection to summit-lsp.lsst.codes timed out. (connect timeout=5.05)'))\"\n",
      "DEBUG protected_get(url='https://summit-lsp.lsst.codes/exposurelog/messages',timeout=(5.05, 20.0))\n",
      "DEBUG protected_get: FAIL: result=\"Error connecting to https://summit-lsp.lsst.codes/exposurelog/messages (with timeout=(5.05, 20.0)). HTTPSConnectionPool(host='summit-lsp.lsst.codes', port=443): Max retries exceeded with url: /exposurelog/messages (Caused by ConnectTimeoutError(<urllib3.connection.HTTPSConnection object at 0x7f9af235d990>, 'Connection to summit-lsp.lsst.codes timed out. (connect timeout=5.05)'))\"\n",
      "Try to connect (self.timeout=(5.05, 20.0)) to each endpoint of https://usdf-rsp-dev.slac.stanford.edu/nightreport \n",
      "DEBUG protected_get(url='https://usdf-rsp-dev.slac.stanford.edu/nightreport/reports',timeout=(5.05, 20.0))\n",
      "Try to connect (self.timeout=(5.05, 20.0)) to each endpoint of https://usdf-rsp-dev.slac.stanford.edu/narrativelog \n",
      "DEBUG protected_get(url='https://usdf-rsp-dev.slac.stanford.edu/narrativelog/messages',timeout=(5.05, 20.0))\n",
      "Try to connect ({self.timeout=}) to each endpoint of https://usdf-rsp-dev.slac.stanford.edu/exposurelog \n",
      "DEBUG protected_get(url='https://usdf-rsp-dev.slac.stanford.edu/exposurelog/instruments',timeout=(5.05, 20.0))\n",
      "DEBUG protected_get(url='https://usdf-rsp-dev.slac.stanford.edu/exposurelog/exposures?instrument=na',timeout=(5.05, 20.0))\n",
      "DEBUG protected_get(url='https://usdf-rsp-dev.slac.stanford.edu/exposurelog/messages',timeout=(5.05, 20.0))\n",
      "Try to connect (self.timeout=(5.05, 20.0)) to each endpoint of https://tucson-teststand.lsst.codes/nightreport \n",
      "DEBUG protected_get(url='https://tucson-teststand.lsst.codes/nightreport/reports',timeout=(5.05, 20.0))\n",
      "DEBUG protected_get: FAIL: result=\"Error connecting to https://tucson-teststand.lsst.codes/nightreport/reports (with timeout=(5.05, 20.0)). HTTPSConnectionPool(host='tucson-teststand.lsst.codes', port=443): Max retries exceeded with url: /nightreport/reports (Caused by ConnectTimeoutError(<urllib3.connection.HTTPSConnection object at 0x7f9af34a7150>, 'Connection to tucson-teststand.lsst.codes timed out. (connect timeout=5.05)'))\"\n",
      "Try to connect (self.timeout=(5.05, 20.0)) to each endpoint of https://tucson-teststand.lsst.codes/narrativelog \n",
      "DEBUG protected_get(url='https://tucson-teststand.lsst.codes/narrativelog/messages',timeout=(5.05, 20.0))\n",
      "DEBUG protected_get: FAIL: result=\"Error connecting to https://tucson-teststand.lsst.codes/narrativelog/messages (with timeout=(5.05, 20.0)). HTTPSConnectionPool(host='tucson-teststand.lsst.codes', port=443): Max retries exceeded with url: /narrativelog/messages (Caused by ConnectTimeoutError(<urllib3.connection.HTTPSConnection object at 0x7f9af2348f50>, 'Connection to tucson-teststand.lsst.codes timed out. (connect timeout=5.05)'))\"\n",
      "Try to connect ({self.timeout=}) to each endpoint of https://tucson-teststand.lsst.codes/exposurelog \n",
      "DEBUG protected_get(url='https://tucson-teststand.lsst.codes/exposurelog/instruments',timeout=(5.05, 20.0))\n",
      "DEBUG protected_get: FAIL: result=\"Error connecting to https://tucson-teststand.lsst.codes/exposurelog/instruments (with timeout=(5.05, 20.0)). HTTPSConnectionPool(host='tucson-teststand.lsst.codes', port=443): Max retries exceeded with url: /exposurelog/instruments (Caused by ConnectTimeoutError(<urllib3.connection.HTTPSConnection object at 0x7f9af349eb50>, 'Connection to tucson-teststand.lsst.codes timed out. (connect timeout=5.05)'))\"\n",
      "DEBUG protected_get(url='https://tucson-teststand.lsst.codes/exposurelog/exposures?instrument=na',timeout=(5.05, 20.0))\n",
      "DEBUG protected_get: FAIL: result=\"Error connecting to https://tucson-teststand.lsst.codes/exposurelog/exposures?instrument=na (with timeout=(5.05, 20.0)). HTTPSConnectionPool(host='tucson-teststand.lsst.codes', port=443): Max retries exceeded with url: /exposurelog/exposures?instrument=na (Caused by ConnectTimeoutError(<urllib3.connection.HTTPSConnection object at 0x7f9af34a7e50>, 'Connection to tucson-teststand.lsst.codes timed out. (connect timeout=5.05)'))\"\n",
      "DEBUG protected_get(url='https://tucson-teststand.lsst.codes/exposurelog/messages',timeout=(5.05, 20.0))\n",
      "DEBUG protected_get: FAIL: result=\"Error connecting to https://tucson-teststand.lsst.codes/exposurelog/messages (with timeout=(5.05, 20.0)). HTTPSConnectionPool(host='tucson-teststand.lsst.codes', port=443): Max retries exceeded with url: /exposurelog/messages (Caused by ConnectTimeoutError(<urllib3.connection.HTTPSConnection object at 0x7f9af34a6550>, 'Connection to tucson-teststand.lsst.codes timed out. (connect timeout=5.05)'))\"\n",
      "\n",
      "Connected to 5 out of 15 endpoints.(33%)\n",
      "Successful connects (5): \n",
      "\thttps://usdf-rsp-dev.slac.stanford.edu/nightreport/reports\n",
      "\thttps://usdf-rsp-dev.slac.stanford.edu/narrativelog/messages\n",
      "\thttps://usdf-rsp-dev.slac.stanford.edu/exposurelog/instruments\n",
      "\thttps://usdf-rsp-dev.slac.stanford.edu/exposurelog/exposures?instrument=na\n",
      "\thttps://usdf-rsp-dev.slac.stanford.edu/exposurelog/messages\n",
      "Failed connects (10): \n",
      "\tGET error: https://summit-lsp.lsst.codes/nightreport/reports\n",
      "\tGET error: https://summit-lsp.lsst.codes/narrativelog/messages\n",
      "\tGET error: https://summit-lsp.lsst.codes/exposurelog/instruments\n",
      "\tGET error: https://summit-lsp.lsst.codes/exposurelog/exposures?instrument=na\n",
      "\tGET error: https://summit-lsp.lsst.codes/exposurelog/messages\n",
      "\tGET error: https://tucson-teststand.lsst.codes/nightreport/reports\n",
      "\tGET error: https://tucson-teststand.lsst.codes/narrativelog/messages\n",
      "\tGET error: https://tucson-teststand.lsst.codes/exposurelog/instruments\n",
      "\tGET error: https://tucson-teststand.lsst.codes/exposurelog/exposures?instrument=na\n",
      "\tGET error: https://tucson-teststand.lsst.codes/exposurelog/messages\n"
     ]
    }
   ],
   "source": [
    "dash = Dashboard()\n",
    "score, working = dash.report()\n",
    "# On 9/12/2024 this gets two failed connects.\n",
    "#   The are usdf: exposurelog/instruments,exposurelog/exposures\n",
    "# When usdfdev if fully functional, there should be zero failed connects (with both VPNs active)."
   ]
  },
  {
   "cell_type": "markdown",
   "id": "4",
   "metadata": {},
   "source": [
    "## Score"
   ]
  },
  {
   "cell_type": "code",
   "execution_count": 6,
   "id": "5",
   "metadata": {},
   "outputs": [
    {
     "data": {
      "text/markdown": [
       "score=33%"
      ],
      "text/plain": [
       "<IPython.core.display.Markdown object>"
      ]
     },
     "metadata": {},
     "output_type": "display_data"
    },
    {
     "data": {
      "text/markdown": [
       "**Servers that are fully functional** for Logging and Reporting:"
      ],
      "text/plain": [
       "<IPython.core.display.Markdown object>"
      ]
     },
     "metadata": {},
     "output_type": "display_data"
    },
    {
     "data": {
      "text/markdown": [
       "- https://usdf-rsp-dev.slac.stanford.edu"
      ],
      "text/plain": [
       "<IPython.core.display.Markdown object>"
      ]
     },
     "metadata": {},
     "output_type": "display_data"
    }
   ],
   "source": [
    "md(f\"{score=:.0%}\")\n",
    "md(\"**Servers that are fully functional** for Logging and Reporting:\")\n",
    "mdlist([f\"- {w}\" for w in working])"
   ]
  },
  {
   "cell_type": "markdown",
   "id": "6",
   "metadata": {},
   "source": [
    "## Samples"
   ]
  },
  {
   "cell_type": "code",
   "execution_count": 7,
   "id": "7",
   "metadata": {},
   "outputs": [
    {
     "name": "stdout",
     "output_type": "stream",
     "text": [
      "One record of data from all endpoints used by LogRep:\n"
     ]
    },
    {
     "data": {
      "text/markdown": [
       "\n",
       "### Endpoint: /nightreport/reports"
      ],
      "text/plain": [
       "<IPython.core.display.Markdown object>"
      ]
     },
     "metadata": {},
     "output_type": "display_data"
    },
    {
     "name": "stdout",
     "output_type": "stream",
     "text": [
      "https://usdf-rsp-dev.slac.stanford.edu/nightreport/reports\n",
      "{'id': '001fa344-0a20-4f66-8b76-35686e0cfd2d',\n",
      " 'site_id': 'base',\n",
      " 'telescope': 'AuxTel',\n",
      " 'day_obs': 20240527,\n",
      " 'summary': 'First non-engineering night with AuxTel in ~2 weeks got off to a '\n",
      "            'rough start.  Afternoon checkouts passed.  Calibrations had some '\n",
      "            'setbacks, first due to the ATmonochrometer being in an unexpected '\n",
      "            'state (OBS-542), which was fixed remotely by Craig.  Then the '\n",
      "            'calibration block needed attention due to some recent changes '\n",
      "            '(OBS-543) - Bruno, Tiago and David solved remotely.  We allowed '\n",
      "            'the calibrations to run past twilight to ensure readiness for '\n",
      "            \"tomorrow's calibration rehearsal.  Went on-sky with the scheduler \"\n",
      "            'but quickly encountered a strange endless loop in '\n",
      "            'correct_pointing (OBS-544) despite the pointing appearing to be '\n",
      "            'correct. We stopped correct_pointing and continued to '\n",
      "            'spectroscopic observations.  But then the wep_align script failed '\n",
      "            'next time it was encountered, possibly due to not cleanly '\n",
      "            'completing the previous correct_pointing run.  We decided to shut '\n",
      "            'everything down (telescope, CSCs, and LATISS) and start up from '\n",
      "            'scratch.  This appeared to work for a while, with one wep_align '\n",
      "            'and correct_pointing set completing, followed by some '\n",
      "            'spectroscopic targets, but the next time correct_pointing ran it '\n",
      "            'looped endlessly, ending the night a little early.',\n",
      " 'telescope_status': 'Parked',\n",
      " 'confluence_url': 'https://rubinobs.atlassian.net/projects/BLOCK?selectedItem=com.atlassian.plugins.atlassian-connect-plugin:com.kanoah.test-manager__main-project-page#!/testCycle/BLOCK-R23',\n",
      " 'user_id': 'echristensen@summit-lsp.lsst.codes',\n",
      " 'user_agent': 'LOVE',\n",
      " 'date_added': '2024-05-28T03:50:50.980356',\n",
      " 'date_sent': '2024-05-28T05:19:34.924338',\n",
      " 'is_valid': True,\n",
      " 'date_invalidated': None,\n",
      " 'parent_id': '0259d89d-3fe2-4375-8e10-cfd05bfa6323',\n",
      " 'observers_crew': ['Eric Christensen', 'Kshitija Kelkar', 'Carlos Morales']}\n"
     ]
    },
    {
     "data": {
      "text/markdown": [
       "\n",
       "### Endpoint: /narrativelog/messages"
      ],
      "text/plain": [
       "<IPython.core.display.Markdown object>"
      ]
     },
     "metadata": {},
     "output_type": "display_data"
    },
    {
     "name": "stdout",
     "output_type": "stream",
     "text": [
      "https://usdf-rsp-dev.slac.stanford.edu/narrativelog/messages\n",
      "{'id': '00013fa1-a7cd-4018-9f36-97dfd62b3200',\n",
      " 'site_id': 'summit',\n",
      " 'message_text': 'salIndex: 100484\\r\\n'\n",
      "                 'Started at: 2024-10-16T08:53:49.195Z\\r\\n'\n",
      "                 'maintel/track_target.py\\r\\n',\n",
      " 'level': 0,\n",
      " 'tags': [],\n",
      " 'urls': ['https://rubinobs.atlassian.net/browse/OBS-611'],\n",
      " 'time_lost': 0.0,\n",
      " 'date_begin': '2024-10-16T08:56:22.386000',\n",
      " 'user_id': 'pvenegas@summit-lsp.lsst.codes',\n",
      " 'user_agent': 'LOVE',\n",
      " 'is_human': True,\n",
      " 'is_valid': True,\n",
      " 'date_added': '2024-10-16T08:57:05.072201',\n",
      " 'date_invalidated': None,\n",
      " 'parent_id': None,\n",
      " 'systems': None,\n",
      " 'subsystems': None,\n",
      " 'cscs': None,\n",
      " 'date_end': '2024-10-16T08:56:22.386000',\n",
      " 'components': ['MainTel'],\n",
      " 'primary_software_components': ['None'],\n",
      " 'primary_hardware_components': ['None'],\n",
      " 'category': 'None',\n",
      " 'time_lost_type': 'fault'}\n"
     ]
    },
    {
     "data": {
      "text/markdown": [
       "\n",
       "### Endpoint: /exposurelog/instruments"
      ],
      "text/plain": [
       "<IPython.core.display.Markdown object>"
      ]
     },
     "metadata": {},
     "output_type": "display_data"
    },
    {
     "name": "stdout",
     "output_type": "stream",
     "text": [
      "https://usdf-rsp-dev.slac.stanford.edu/exposurelog/instruments\n",
      "{'butler_instruments_1': ['LSSTComCamSim', 'LATISS', 'LSSTComCam', 'LSSTCam'],\n",
      " 'butler_instruments_2': [],\n",
      " 'butler_instruments_3': []}\n"
     ]
    },
    {
     "data": {
      "text/markdown": [
       "\n",
       "### Endpoint: /exposurelog/exposures?instrument=LSSTComCamSim"
      ],
      "text/plain": [
       "<IPython.core.display.Markdown object>"
      ]
     },
     "metadata": {},
     "output_type": "display_data"
    },
    {
     "name": "stdout",
     "output_type": "stream",
     "text": [
      "https://usdf-rsp-dev.slac.stanford.edu/exposurelog/exposures?instrument=LSSTComCamSim\n",
      "{'obs_id': 'CC_S_20240524_000001',\n",
      " 'id': 7024052400001,\n",
      " 'instrument': 'LSSTComCamSim',\n",
      " 'observation_type': 'bias',\n",
      " 'observation_reason': 'bias',\n",
      " 'day_obs': 20240524,\n",
      " 'seq_num': 1,\n",
      " 'group_name': '2024-05-24T16:53:47.398',\n",
      " 'target_name': 'UNKNOWN',\n",
      " 'science_program': 'unknown',\n",
      " 'tracking_ra': None,\n",
      " 'tracking_dec': None,\n",
      " 'sky_angle': None,\n",
      " 'timespan_begin': '2024-05-24T16:53:48.579980',\n",
      " 'timespan_end': '2024-05-24T16:53:49.677000'}\n"
     ]
    },
    {
     "data": {
      "text/markdown": [
       "\n",
       "### Endpoint: /exposurelog/messages"
      ],
      "text/plain": [
       "<IPython.core.display.Markdown object>"
      ]
     },
     "metadata": {},
     "output_type": "display_data"
    },
    {
     "name": "stdout",
     "output_type": "stream",
     "text": [
      "https://usdf-rsp-dev.slac.stanford.edu/exposurelog/messages\n",
      "{'id': '000f68b2-e560-40ce-bdbc-a57b3363e1e9',\n",
      " 'site_id': 'summit',\n",
      " 'obs_id': 'AT_O_20220608_000168',\n",
      " 'instrument': 'LATISS',\n",
      " 'day_obs': 20220608,\n",
      " 'seq_num': 168,\n",
      " 'message_text': '',\n",
      " 'level': 20,\n",
      " 'tags': [],\n",
      " 'urls': [],\n",
      " 'user_id': 'slimleashma',\n",
      " 'user_agent': 'notebook:nublado',\n",
      " 'is_human': True,\n",
      " 'is_valid': True,\n",
      " 'exposure_flag': 'junk',\n",
      " 'date_added': '2022-06-08T23:19:38.906593',\n",
      " 'date_invalidated': None,\n",
      " 'parent_id': None}\n"
     ]
    }
   ],
   "source": [
    "server = \"https://usdf-rsp-dev.slac.stanford.edu\"\n",
    "samples = dash.get_sample_data(server)\n",
    "print(\"One record of data from all endpoints used by LogRep:\")\n",
    "for endpoint, sample in samples.items():\n",
    "    base_ep = endpoint.replace(server, \"\")\n",
    "    md(f\"\\n### Endpoint: {base_ep}\")\n",
    "    print(f\"{endpoint}\")\n",
    "    pp(sample)"
   ]
  },
  {
   "cell_type": "markdown",
   "id": "8",
   "metadata": {},
   "source": [
    "# Finale"
   ]
  },
  {
   "cell_type": "code",
   "execution_count": 8,
   "id": "9",
   "metadata": {},
   "outputs": [
    {
     "name": "stdout",
     "output_type": "stream",
     "text": [
      "Finished 2024-11-22 00:00:51.113648\n"
     ]
    }
   ],
   "source": [
    "print(f\"Finished {str(datetime.now())}\")"
   ]
  }
 ],
 "metadata": {
  "kernelspec": {
   "display_name": "Python 3 (ipykernel)",
   "language": "python",
   "name": "python3"
  },
  "language_info": {
   "codemirror_mode": {
    "name": "ipython",
    "version": 3
   },
   "file_extension": ".py",
   "mimetype": "text/x-python",
   "name": "python",
   "nbconvert_exporter": "python",
   "pygments_lexer": "ipython3",
   "version": "3.11.10"
  }
 },
 "nbformat": 4,
 "nbformat_minor": 5
}
