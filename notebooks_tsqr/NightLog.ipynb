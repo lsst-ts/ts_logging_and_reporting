{
 "cells": [
  {
   "cell_type": "markdown",
   "id": "0",
   "metadata": {},
   "source": [
    "# Initialize\n",
    "*(align with storyboard Version 6)*"
   ]
  },
  {
   "cell_type": "code",
   "execution_count": null,
   "id": "1",
   "metadata": {},
   "outputs": [],
   "source": [
    "# Parameters.\n",
    "# Times Square replaces this cell with the user's parameters.\n",
    "\n",
    "# The run-time defaults for all of these parameters are in NightLog.yaml\n",
    "# Under Times Square, the run-time defaults always override values given here.\n",
    "# Values here are used for local tests.\n",
    "\n",
    "# day_obs values: TODAY, YESTERDAY, YYYY-MM-DD\n",
    "# Report on observing nights that start upto but not included this day.\n",
    "#!day_obs = '2024-09-25' # Value to use for local testing (Summit)\n",
    "day_obs = \"2024-09-25\"  # TODO Change to 'YESTERDAY' to test with default before push\n",
    "\n",
    "# Total number of days of data to display (ending on day_obs)\n",
    "number_of_days = \"1\"  # TODO Change to '1' to test with default before push"
   ]
  },
  {
   "cell_type": "code",
   "execution_count": null,
   "id": "2",
   "metadata": {
    "jupyter": {
     "source_hidden": true
    }
   },
   "outputs": [],
   "source": [
    "import datetime as dt\n",
    "import os\n",
    "from collections import defaultdict\n",
    "from pprint import pformat, pp\n",
    "from urllib.parse import urlencode\n",
    "\n",
    "import pandas as pd\n",
    "import requests\n",
    "from matplotlib import pyplot as plt\n",
    "\n",
    "# When running under Times Square, install pkg from github.\n",
    "# Otherwise use what is installed locally (intended to be dev editiable pkg)\n",
    "if os.environ.get(\"EXTERNAL_INSTANCE_URL\"):\n",
    "    print(\n",
    "        'Installing \"lsst.ts.logging_and_reporting\" from github using \"prototype\" branch....'\n",
    "    )\n",
    "    !pip install --upgrade git+https://github.com/lsst-ts/ts_logging_and_reporting.git@prototype >/dev/null\n",
    "import lsst.ts.logging_and_reporting.almanac as alm\n",
    "import lsst.ts.logging_and_reporting.reports as rep\n",
    "from lsst.ts.logging_and_reporting.all_sources import AllSources\n",
    "\n",
    "# import lsst.ts.logging_and_reporting.source_adapters as sad\n",
    "import lsst.ts.logging_and_reporting.utils as ut\n",
    "from lsst.ts.logging_and_reporting.reports import md, mdlist\n",
    "\n",
    "try:\n",
    "    import lsst.ts.logging_and_reporting.version\n",
    "\n",
    "    lrversion = lsst.ts.logging_and_reporting.version.__version__\n",
    "except:\n",
    "    lrversion = \"LIVE\"\n",
    "\n",
    "try:\n",
    "    from lsst.summit.utils import ConsDbClient\n",
    "\n",
    "    have_consdb = True\n",
    "except:\n",
    "    have_consdb = False"
   ]
  },
  {
   "cell_type": "code",
   "execution_count": null,
   "id": "3",
   "metadata": {
    "jupyter": {
     "source_hidden": true
    }
   },
   "outputs": [],
   "source": [
    "# Normalize Parameters (both explicit Times Squares params, in implicit ones)\n",
    "limit = 5000  # YAGNI for Auto get more if this isn't enough to get all requested DAYS\n",
    "response_timeout = 3.05  # seconds, how long to wait for connection\n",
    "read_timeout = 20  # seconds\n",
    "timeout = (float(response_timeout), float(read_timeout))\n",
    "\n",
    "date = ut.get_datetime_from_dayobs_str(day_obs)\n",
    "# date:  is EXCLUSIVE (upto, but not including)\n",
    "days = int(number_of_days)\n",
    "\n",
    "# Thus: [min_day_obs,max_day_obs)\n",
    "# Format: string, YYYY-MM-DD\n",
    "min_date = date - dt.timedelta(days=days - 1)\n",
    "max_date = date + dt.timedelta(days=1)\n",
    "min_day_obs = min_date.strftime(\"%Y-%m-%d\")  # Inclusive\n",
    "max_day_obs = max_date.strftime(\"%Y-%m-%d\")  # prep for Exclusive"
   ]
  },
  {
   "cell_type": "code",
   "execution_count": null,
   "id": "4",
   "metadata": {
    "jupyter": {
     "source_hidden": true
    }
   },
   "outputs": [],
   "source": [
    "# Set default env to \"usdf\" and try before PUSH to repo.\n",
    "summit = \"https://summit-lsp.lsst.codes\"\n",
    "usdf = \"https://usdf-rsp-dev.slac.stanford.edu\"\n",
    "tucson = \"https://tucson-teststand.lsst.codes\"\n",
    "\n",
    "# The default provided here is for local testing.\n",
    "# Under Times Square it is ignored.\n",
    "server = os.environ.get(\n",
    "    \"EXTERNAL_INSTANCE_URL\", summit\n",
    ")  # TODO try with \"usdf\" before push (else \"summit\")"
   ]
  },
  {
   "cell_type": "code",
   "execution_count": null,
   "id": "5",
   "metadata": {
    "jupyter": {
     "source_hidden": true
    }
   },
   "outputs": [],
   "source": [
    "# Read records from (almost) all sources\n",
    "allsrc = AllSources(\n",
    "    server_url=server,\n",
    "    min_dayobs=min_day_obs,\n",
    "    max_dayobs=max_day_obs,\n",
    ")\n",
    "\n",
    "nr_rep = rep.NightlyLogReport(adapter=allsrc.nig_src)\n",
    "exposure_rep = rep.ExposurelogReport(adapter=allsrc.exp_src)\n",
    "narrative_rep = rep.NarrativelogReport(adapter=allsrc.nar_src)"
   ]
  },
  {
   "cell_type": "markdown",
   "id": "6",
   "metadata": {},
   "source": [
    "# Table of Contents\n",
    "(TODO: update to reflect new content and ordering change)\n",
    "* [Almanac](#almanac)\n",
    "* [Summary plots of whole night](#Summary-Plots)\n",
    "* [Summary Scalars for the night](#Summary-Scalars)\n",
    "* [Night Report](#Night-Report)\n",
    "* [Jira Tickets](#Jira-Tickets)\n",
    "* [BLOCKS Observed](#BLOCKS-Observed)\n",
    "* [Exposure Log](#Exposure-Log)\n",
    "* [Narrative Log](#Narrative-Log)\n",
    "* [Specific Plots](#Specific-Plots)\n",
    "* [Developer Only](#dev-only)"
   ]
  },
  {
   "cell_type": "code",
   "execution_count": null,
   "id": "7",
   "metadata": {},
   "outputs": [],
   "source": [
    "instrum_str = \", \".join(list(allsrc.exp_src.instruments.keys()))\n",
    "md(\n",
    "    f\"# Showing data for **{min_date.date()}** to **{max_date.date()}** for {instrum_str}\"\n",
    ")"
   ]
  },
  {
   "cell_type": "markdown",
   "id": "8",
   "metadata": {},
   "source": [
    "<a id=\"almanac\"></a>\n",
    "## Almanac"
   ]
  },
  {
   "cell_type": "code",
   "execution_count": null,
   "id": "9",
   "metadata": {},
   "outputs": [],
   "source": [
    "# Display various almanac values (for moon, sun)\n",
    "rep.AlmanacReport().day_obs_report(min_day_obs)"
   ]
  },
  {
   "cell_type": "code",
   "execution_count": null,
   "id": "10",
   "metadata": {
    "jupyter": {
     "source_hidden": true
    }
   },
   "outputs": [],
   "source": [
    "# Load all the data sources\n",
    "allsrc = AllSources(\n",
    "    server_url=server,\n",
    "    max_dayobs=max_day_obs,\n",
    "    min_dayobs=min_day_obs,\n",
    ")\n",
    "nr_rep = rep.NightlyLogReport(adapter=allsrc.nig_src)"
   ]
  },
  {
   "cell_type": "markdown",
   "id": "11",
   "metadata": {},
   "source": [
    "<a id=\"Summary-Plots\"></a>\n",
    "## Summary plots of whole night "
   ]
  },
  {
   "cell_type": "markdown",
   "id": "12",
   "metadata": {},
   "source": [
    "(content not yet defined in storyboard)"
   ]
  },
  {
   "cell_type": "code",
   "execution_count": null,
   "id": "13",
   "metadata": {},
   "outputs": [],
   "source": [
    "# Exposure Tally\n",
    "md('<a id=\"Summary-Scalars\"></a>')\n",
    "md(f\"## Summary Scalars for the night \")\n",
    "md(\"(all available instruments)\")\n",
    "tally = await allsrc.night_tally_observation_gaps()\n",
    "if tally:\n",
    "    display(pd.DataFrame(tally))"
   ]
  },
  {
   "cell_type": "markdown",
   "id": "14",
   "metadata": {},
   "source": [
    "## Night Report "
   ]
  },
  {
   "cell_type": "code",
   "execution_count": null,
   "id": "15",
   "metadata": {},
   "outputs": [],
   "source": [
    "# NR Report\n",
    "\n",
    "# Display time log\n",
    "nr_rep.time_log_as_markdown()\n",
    "md(\"-------------\")\n",
    "md(\"(TODO: better Jira tickets, BLOCKS observed)\")\n",
    "\n",
    "\n",
    "# Display Jira BLOCKS\n",
    "front = \"https://rubinobs.atlassian.net/projects/BLOCK?selectedItem=com.atlassian.plugins.atlassian-connect-plugin:com.kanoah.test-manager__main-project-page#!/\"\n",
    "tickets = allsrc.nig_src.nightly_tickets()\n",
    "if tickets:\n",
    "    mdstr = \"#### Nightly Jira BLOCKs\"\n",
    "    for day, url_list in tickets.items():\n",
    "        mdstr += f\"\\n- {day}\"\n",
    "        for ticket_url in url_list:\n",
    "            mdstr += f'\\n    - [{ticket_url.replace(front,\"\")}]({ticket_url})'\n",
    "    md(mdstr)\n",
    "else:\n",
    "    md(f\"No jira BLOCK tickets found using: [API Data]({allsrc.nig_src.source_url})\")"
   ]
  },
  {
   "cell_type": "markdown",
   "id": "16",
   "metadata": {},
   "source": [
    "## Exposure Log"
   ]
  },
  {
   "cell_type": "code",
   "execution_count": null,
   "id": "17",
   "metadata": {
    "jupyter": {
     "source_hidden": true
    }
   },
   "outputs": [],
   "source": [
    "# Exposure Report\n",
    "\n",
    "# Time Log\n",
    "exposure_rep.time_log_as_markdown()\n",
    "md(\"-------------\")\n",
    "\n",
    "# Observation gaps\n",
    "gaps = allsrc.exp_src.get_observation_gaps()\n",
    "if gaps:\n",
    "    md(f\"## Date vs Observation Gap (minutes) for all Instruments\")\n",
    "    for instrument, day_gaps in gaps.items():\n",
    "        if len(day_gaps) == 0:\n",
    "            md(f\"**No day gaps found for *{instrument=!s}* **\", color=\"lightblue\")\n",
    "        else:\n",
    "            x, y = zip(*day_gaps.items())\n",
    "            df = pd.DataFrame(dict(day=x, minutes=y))\n",
    "            df.plot.bar(x=\"day\", y=\"minutes\", title=f\"{instrument=!s}\")\n",
    "else:\n",
    "    md(f\"No Observation Gaps found.\", color=\"lightblue\")\n",
    "    md(f\"Used: [API Data]({allsrc.exp_src.source_url})\")"
   ]
  },
  {
   "cell_type": "code",
   "execution_count": null,
   "id": "18",
   "metadata": {
    "jupyter": {
     "source_hidden": true
    }
   },
   "outputs": [],
   "source": [
    "allsrc.min_dayobs, allsrc.max_dayobs, allsrc.server_url"
   ]
  },
  {
   "cell_type": "code",
   "execution_count": null,
   "id": "19",
   "metadata": {
    "jupyter": {
     "source_hidden": true
    }
   },
   "outputs": [],
   "source": [
    "[len(recs) for recs in allsrc.exp_src.exposures.values()]"
   ]
  },
  {
   "cell_type": "markdown",
   "id": "20",
   "metadata": {},
   "source": [
    "## Narrative Log\n"
   ]
  },
  {
   "cell_type": "code",
   "execution_count": null,
   "id": "21",
   "metadata": {
    "jupyter": {
     "source_hidden": true
    }
   },
   "outputs": [],
   "source": [
    "# Narrative Report\n",
    "# Time Log\n",
    "narrative_rep.time_log_as_markdown()\n",
    "md(\"-------------\")"
   ]
  },
  {
   "cell_type": "markdown",
   "id": "22",
   "metadata": {},
   "source": [
    "<a id=\"Specific-Plots\"></a>\n",
    "## Specific Plots \n",
    "(content not yet defined in storyboard)"
   ]
  },
  {
   "cell_type": "markdown",
   "id": "23",
   "metadata": {},
   "source": [
    "<a id=\"dev-only\"></a>\n",
    "# Developer Only Section \n",
    "Contains stuff only expected to be useful to developers.\n",
    "\n",
    "May also contain sections that have moved out of he user section because they are not defined in the Storyboard."
   ]
  },
  {
   "cell_type": "markdown",
   "id": "24",
   "metadata": {},
   "source": [
    "## Overview \n"
   ]
  },
  {
   "cell_type": "code",
   "execution_count": null,
   "id": "25",
   "metadata": {
    "jupyter": {
     "source_hidden": true
    }
   },
   "outputs": [],
   "source": [
    "# Display overview of Report context\n",
    "md(\n",
    "    f\"\"\"## Project-Wide Night(s) Report \n",
    "- Run on logs and databases from **{server}/**\n",
    "- Report **{days} observing night(s)** with the last reported night starting on **{date}**.\n",
    "- This report will include available data from noon **{min_date}** to noon **{max_date}**.\n",
    "- Using ***Prototype* Logging and Reporting** Version: **{lrversion}**\n",
    "\"\"\"\n",
    ")"
   ]
  },
  {
   "cell_type": "markdown",
   "id": "26",
   "metadata": {},
   "source": [
    "## This report uses the following data sources\n",
    "- NightReport\n",
    "- Exposurelog\n",
    "- Narrativelog\n",
    "- EFD\n",
    "- ConsDB\n",
    "- (DDV)\n",
    "- (Almanac from Astroplan)"
   ]
  },
  {
   "cell_type": "markdown",
   "id": "27",
   "metadata": {},
   "source": [
    "## DDV "
   ]
  },
  {
   "cell_type": "code",
   "execution_count": null,
   "id": "28",
   "metadata": {
    "jupyter": {
     "source_hidden": true
    }
   },
   "outputs": [],
   "source": [
    "DDV = (\n",
    "    f\"{server}/rubintv-dev/ddv/index.html\"\n",
    "    if \"summit\" in server\n",
    "    else f\"{server}/rubintv/ddv/index.html\"\n",
    ")\n",
    "md(f\"Access DDV part of RubinTV: {DDV}\")"
   ]
  },
  {
   "cell_type": "markdown",
   "id": "29",
   "metadata": {},
   "source": [
    "## Where was this run?\n",
    "\n",
    "The environments that have everything needed to run this page are:\n",
    "\n",
    "    https://summit-lsp.lsst.codes\n",
    "    https://usdf-rsp-dev.slac.stanford.edu\n",
    "\n",
    "However, Times Square does not run on the Summit. It does run on USDF-dev.\n"
   ]
  },
  {
   "cell_type": "markdown",
   "id": "30",
   "metadata": {},
   "source": [
    "## Section overviews moved here"
   ]
  },
  {
   "cell_type": "code",
   "execution_count": null,
   "id": "31",
   "metadata": {},
   "outputs": [],
   "source": [
    "# Night Report Overview\n",
    "nr_rep.overview()\n",
    "# Exposure Report Overview\n",
    "exposure_rep.overview()\n",
    "# Narrative Report Overview\n",
    "narrative_rep.overview()"
   ]
  },
  {
   "cell_type": "code",
   "execution_count": null,
   "id": "32",
   "metadata": {},
   "outputs": [],
   "source": [
    "# Conditionally display our current ability to connect to all needed endpoints.\n",
    "if False and not os.environ.get(\"EXTERNAL_INSTANCE_URL\"):\n",
    "    md(\"## Dashboard\")\n",
    "    md(\"(This is not done when running under Times Square.)\")\n",
    "    %run ./dashboard.ipynb"
   ]
  },
  {
   "cell_type": "markdown",
   "id": "33",
   "metadata": {},
   "source": [
    "## Finale"
   ]
  },
  {
   "cell_type": "code",
   "execution_count": null,
   "id": "34",
   "metadata": {
    "jupyter": {
     "source_hidden": true
    }
   },
   "outputs": [],
   "source": [
    "print(f\"Finished {str(dt.datetime.now())}\")"
   ]
  }
 ],
 "metadata": {
  "kernelspec": {
   "display_name": "Python 3 (ipykernel)",
   "language": "python",
   "name": "python3"
  },
  "language_info": {
   "codemirror_mode": {
    "name": "ipython",
    "version": 3
   },
   "file_extension": ".py",
   "mimetype": "text/x-python",
   "name": "python",
   "nbconvert_exporter": "python",
   "pygments_lexer": "ipython3",
   "version": "3.11.9"
  }
 },
 "nbformat": 4,
 "nbformat_minor": 5
}
