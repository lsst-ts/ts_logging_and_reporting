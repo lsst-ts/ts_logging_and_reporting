{
 "cells": [
  {
   "cell_type": "markdown",
   "id": "0",
   "metadata": {},
   "source": [
    "# Initialize\n",
    "This section is a developer aid; TODO remove later!\n",
    "*Align with [storyboard Version 48](https://rubinobs.atlassian.net/wiki/pages/viewpage.action?pageId=132612364&pageVersion=48)*\n",
    "\n",
    "If you are using this under Time Square and *get any errors* that you think come from this notebook, please tell Steve Pothier (steve.pothier@noirlab.edu).  Include the URL you used to get the error. "
   ]
  },
  {
   "cell_type": "code",
   "execution_count": 1,
   "id": "1",
   "metadata": {},
   "outputs": [],
   "source": [
    "# Parameters.\n",
    "# Times Square replaces this cell with the user's parameters.\n",
    "# So, don't put anything else here!\n",
    "\n",
    "# day_obs values: TODAY, YESTERDAY, YYYY-MM-DD\n",
    "# Report on observing nights that start upto but not included this day.\n",
    "#!day_obs = '2024-09-25' # Value to use for local testing (Summit)\n",
    "day_obs = \"2024-11-07\"  # TODO Change to 'YESTERDAY' to test with default before push\n",
    "\n",
    "# Total number of days of data to display (ending on day_obs)\n",
    "number_of_days = \"6\"  # TODO Change to '1' to test with default before push"
   ]
  },
  {
   "cell_type": "code",
   "execution_count": 2,
   "id": "2",
   "metadata": {},
   "outputs": [],
   "source": [
    "import datetime as dt\n",
    "import os\n",
    "from collections import defaultdict\n",
    "from pprint import pformat, pp\n",
    "from urllib.parse import urlencode, urlparse\n",
    "import pandas as pd\n",
    "from IPython.display import HTML\n",
    "\n",
    "# When running under Times Square, install pkg from github.\n",
    "# Otherwise use what is installed locally (intended to be dev editiable pkg)\n",
    "if os.environ.get(\"EXTERNAL_INSTANCE_URL\"):\n",
    "    dev_msg = (\n",
    "        'Installing \"lsst.ts.logging_and_reporting\" from github using \"prototype\" branch. \\n'\n",
    "        'TODO: Make the need for this go away by getting Logging_and_Reporting installed in RSP.'\n",
    "    )\n",
    "    !pip install --upgrade git+https://github.com/lsst-ts/ts_logging_and_reporting.git@prototype > /dev/null 2>&1\n",
    "else:\n",
    "    dev_msg = 'Imported lsst.ts.logging_and_reporting from local packages.'\n",
    "from lsst.ts.logging_and_reporting.all_sources import AllSources\n",
    "from lsst.ts.logging_and_reporting.all_reports import AllReports\n",
    "import lsst.ts.logging_and_reporting.utils as ut\n",
    "from lsst.ts.logging_and_reporting.reports import md, mdlist, mdpathlink\n",
    "from lsst.ts.logging_and_reporting.reports import html_draft, html_beta"
   ]
  },
  {
   "cell_type": "code",
   "execution_count": 3,
   "id": "4",
   "metadata": {},
   "outputs": [],
   "source": [
    "# Set default env to \"usdf\" and try before PUSH to repo.\n",
    "# The default provided here is for local testing. Under Times Square it is ignored.\n",
    "server = os.environ.get(\n",
    "    \"EXTERNAL_INSTANCE_URL\", \n",
    "    ut.Server.usdf) # TODO try with \"usdf\" before push (else \"summit\")"
   ]
  },
  {
   "cell_type": "code",
   "execution_count": 4,
   "id": "3",
   "metadata": {},
   "outputs": [],
   "source": [
    "# Normalize Parameters (both explicit Times Squares params, in implicit ones)\n",
    "limit = 5000  # YAGNI for Auto get more if this isn't enough to get all requested DAYS\n",
    "response_timeout = 3.05  # seconds, how long to wait for connection\n",
    "read_timeout = 20  # seconds\n",
    "timeout = (float(response_timeout), float(read_timeout))\n",
    "\n",
    "date = ut.get_datetime_from_dayobs_str(day_obs)\n",
    "# date:  is EXCLUSIVE (upto, but not including)\n",
    "days = int(number_of_days)\n",
    "\n",
    "# Thus: [min_day_obs,max_day_obs)\n",
    "# Format: string, YYYY-MM-DD\n",
    "min_date = date - dt.timedelta(days=days - 1)\n",
    "max_date = date + dt.timedelta(days=1)\n",
    "min_day_obs = min_date.strftime(\"%Y-%m-%d\")  # Inclusive\n",
    "max_day_obs = max_date.strftime(\"%Y-%m-%d\")  # prep for Exclusive\n",
    "\n",
    "# Experimental Features config\n",
    "exp_tally = \"false\"  # default: true\n",
    "exp_parsing = \"true\"  # default: true\n",
    "experimental = dict()\n",
    "experimental[\"exposure_type_tally\"] = exp_tally == \"true\"\n",
    "experimental[\"error_parsing\"] = exp_parsing == \"true\""
   ]
  },
  {
   "cell_type": "code",
   "execution_count": 5,
   "id": "5",
   "metadata": {},
   "outputs": [
    {
     "name": "stdout",
     "output_type": "stream",
     "text": [
      "DBG get_records endpoint='https://usdf-rsp-dev.slac.stanford.edu/nightreport/reports'\n",
      "DBG get_records qstr: is_human=either&is_valid=true&order_by=-day_obs&offset=0&limit=100&min_day_obs=20241102&max_day_obs=20241108\n",
      "DBG get_records len(page)=9 len(recs)=0\n",
      "DBG get_records-2 len(page)=9 len(recs)=9\n",
      "DBG get_exposures endpoint='https://usdf-rsp-dev.slac.stanford.edu/exposurelog/exposures'\n",
      "DBG get_exposures qstr: registry=1&instrument=LSSTComCamSim&order_by=-timespan_end&offset=0&limit=2500&min_day_obs=20241102&max_day_obs=20241108\n",
      "DBG get_exposures len(page)=0 len(recs)=0\n",
      "DBG get_exposures endpoint='https://usdf-rsp-dev.slac.stanford.edu/exposurelog/exposures'\n",
      "DBG get_exposures qstr: registry=1&instrument=LATISS&order_by=-timespan_end&offset=0&limit=2500&min_day_obs=20241102&max_day_obs=20241108\n",
      "DBG get_exposures len(page)=0 len(recs)=0\n",
      "DBG get_exposures endpoint='https://usdf-rsp-dev.slac.stanford.edu/exposurelog/exposures'\n",
      "DBG get_exposures qstr: registry=1&instrument=LSSTComCam&order_by=-timespan_end&offset=0&limit=2500&min_day_obs=20241102&max_day_obs=20241108\n",
      "DBG get_exposures len(page)=1145 len(recs)=1145\n",
      "DBG get_exposures endpoint='https://usdf-rsp-dev.slac.stanford.edu/exposurelog/exposures'\n",
      "DBG get_exposures qstr: registry=1&instrument=LSSTCam&order_by=-timespan_end&offset=0&limit=2500&min_day_obs=20241102&max_day_obs=20241108\n",
      "DBG get_exposures len(page)=2500 len(recs)=2500\n",
      "DBG get_exposures qstr: registry=1&instrument=LSSTCam&order_by=-timespan_end&offset=2500&limit=2500&min_day_obs=20241102&max_day_obs=20241108\n",
      "DBG get_exposures len(page)=2500 len(recs)=5000\n",
      "DBG get_exposures qstr: registry=1&instrument=LSSTCam&order_by=-timespan_end&offset=5000&limit=2500&min_day_obs=20241102&max_day_obs=20241108\n",
      "DBG get_exposures len(page)=1269 len(recs)=6269\n",
      "DBG get_records: endpoint='https://usdf-rsp-dev.slac.stanford.edu/exposurelog/messages'\n",
      "DBG get_records qstr: is_human=either&is_valid=true&order_by=-day_obs&offset=0&limit=2500&min_day_obs=20241102&max_day_obs=20241108\n",
      "DEBUG add_exposure_flag instrument='LSSTComCamSim' set()\n",
      "DEBUG add_exposure_flag instrument='LATISS' set()\n",
      "add_exposure_flag_to_exposures rec={'obs_id': 'CC_O_20241106_000178', 'id': 2024110600178, 'instrument': 'LSSTComCam', 'observation_type': 'science', 'observation_reason': 'science', 'day_obs': 20241106, 'seq_num': 178, 'group_name': '2024-11-07T04:44:09.984', 'target_name': 'UNKNOWN', 'science_program': 'PP-SURVEY', 'tracking_ra': 21.69861792466257, 'tracking_dec': -26.63937862940427, 'sky_angle': 111.18974747567256, 'timespan_begin': '2024-11-07T04:44:19.162992', 'timespan_end': '2024-11-07T04:44:49.599000', 'exposure_flag': None, 'exposure_time': 0.0}\n",
      "add_exposure_flag_to_exposures rec={'obs_id': 'CC_O_20241106_000163', 'id': 2024110600163, 'instrument': 'LSSTComCam', 'observation_type': 'science', 'observation_reason': 'science', 'day_obs': 20241106, 'seq_num': 163, 'group_name': '2024-11-07T04:32:56.887', 'target_name': 'UNKNOWN', 'science_program': 'PP-SURVEY', 'tracking_ra': 21.93167435941927, 'tracking_dec': -26.584881552010184, 'sky_angle': 111.01579159761181, 'timespan_begin': '2024-11-07T04:33:06.058013', 'timespan_end': '2024-11-07T04:33:36.495000', 'exposure_flag': None, 'exposure_time': 0.0}\n",
      "add_exposure_flag_to_exposures rec={'obs_id': 'CC_O_20241106_000078', 'id': 2024110600078, 'instrument': 'LSSTComCam', 'observation_type': 'acq', 'observation_reason': 'infocus', 'day_obs': 20241106, 'seq_num': 78, 'group_name': '2024-11-07T02:04:53.129', 'target_name': 'UNKNOWN', 'science_program': 'BLOCK-T252', 'tracking_ra': 327.6347169353181, 'tracking_dec': -25.660715872824454, 'sky_angle': 115.87796921163482, 'timespan_begin': '2024-11-07T02:06:14.631013', 'timespan_end': '2024-11-07T02:06:45.072000', 'exposure_flag': None, 'exposure_time': 0.0}\n",
      "add_exposure_flag_to_exposures rec={'obs_id': 'CC_O_20241106_000045', 'id': 2024110600045, 'instrument': 'LSSTComCam', 'observation_type': 'cwfs', 'observation_reason': 'intra', 'day_obs': 20241106, 'seq_num': 45, 'group_name': '2024-11-07T01:30:02.208#1', 'target_name': 'UNKNOWN', 'science_program': 'BLOCK-T252', 'tracking_ra': 327.6347733086561, 'tracking_dec': -25.660708647585096, 'sky_angle': 115.87848227923955, 'timespan_begin': '2024-11-07T01:30:07.486019', 'timespan_end': '2024-11-07T01:30:37.924000', 'exposure_flag': None, 'exposure_time': 0.0}\n",
      "add_exposure_flag_to_exposures rec={'obs_id': 'CC_O_20241106_000044', 'id': 2024110600044, 'instrument': 'LSSTComCam', 'observation_type': 'acq', 'observation_reason': 'infocus', 'day_obs': 20241106, 'seq_num': 44, 'group_name': '2024-11-07T01:25:43.229', 'target_name': 'UNKNOWN', 'science_program': 'BLOCK-T252', 'tracking_ra': 327.6347180114379, 'tracking_dec': -25.66070785730849, 'sky_angle': 115.87853421266631, 'timespan_begin': '2024-11-07T01:27:07.973011', 'timespan_end': '2024-11-07T01:27:38.411000', 'exposure_flag': None, 'exposure_time': 0.0}\n",
      "add_exposure_flag_to_exposures rec={'obs_id': 'CC_O_20241106_000043', 'id': 2024110600043, 'instrument': 'LSSTComCam', 'observation_type': 'cwfs', 'observation_reason': 'extra', 'day_obs': 20241106, 'seq_num': 43, 'group_name': '2024-11-07T01:25:43.229#1', 'target_name': 'UNKNOWN', 'science_program': 'BLOCK-T252', 'tracking_ra': 327.63477499882714, 'tracking_dec': -25.6607086912603, 'sky_angle': 115.87852199555259, 'timespan_begin': '2024-11-07T01:26:26.640988', 'timespan_end': '2024-11-07T01:26:57.086000', 'exposure_flag': None, 'exposure_time': 0.0}\n",
      "add_exposure_flag_to_exposures rec={'obs_id': 'CC_O_20241106_000042', 'id': 2024110600042, 'instrument': 'LSSTComCam', 'observation_type': 'cwfs', 'observation_reason': 'intra', 'day_obs': 20241106, 'seq_num': 42, 'group_name': '2024-11-07T01:25:43.229#1', 'target_name': 'UNKNOWN', 'science_program': 'BLOCK-T252', 'tracking_ra': 327.63490491199144, 'tracking_dec': -25.660709337833325, 'sky_angle': 115.87850963449277, 'timespan_begin': '2024-11-07T01:25:48.551998', 'timespan_end': '2024-11-07T01:26:18.989000', 'exposure_flag': None, 'exposure_time': 0.0}\n",
      "add_exposure_flag_to_exposures rec={'obs_id': 'CC_O_20241106_000032', 'id': 2024110600032, 'instrument': 'LSSTComCam', 'observation_type': 'focus', 'observation_reason': 'focus_sweep_cam_dz', 'day_obs': 20241106, 'seq_num': 32, 'group_name': '2024-11-07T01:16:53.677', 'target_name': 'UNKNOWN', 'science_program': 'BLOCK-T92', 'tracking_ra': 327.63463761816126, 'tracking_dec': -25.66070697047032, 'sky_angle': 115.87865972212441, 'timespan_begin': '2024-11-07T01:17:36.099991', 'timespan_end': '2024-11-07T01:17:46.531000', 'exposure_flag': None, 'exposure_time': 0.0}\n",
      "add_exposure_flag_to_exposures rec={'obs_id': 'CC_O_20241105_000220', 'id': 2024110500220, 'instrument': 'LSSTComCam', 'observation_type': 'science', 'observation_reason': 'object', 'day_obs': 20241105, 'seq_num': 220, 'group_name': '2024-11-06T07:26:42.224', 'target_name': 'UNKNOWN', 'science_program': 'unknown', 'tracking_ra': 59.95548796906972, 'tracking_dec': -21.29378412020795, 'sky_angle': 116.4761087636258, 'timespan_begin': '2024-11-06T07:27:01.968015', 'timespan_end': '2024-11-06T07:29:02.407000', 'exposure_flag': None, 'exposure_time': 0.0}\n",
      "add_exposure_flag_to_exposures rec={'obs_id': 'CC_O_20241105_000219', 'id': 2024110500219, 'instrument': 'LSSTComCam', 'observation_type': 'science', 'observation_reason': 'object', 'day_obs': 20241105, 'seq_num': 219, 'group_name': '2024-11-06T07:24:16.739', 'target_name': 'UNKNOWN', 'science_program': 'unknown', 'tracking_ra': 59.95548025474238, 'tracking_dec': -21.29393850599808, 'sky_angle': 116.47578896092101, 'timespan_begin': '2024-11-06T07:25:32.125010', 'timespan_end': '2024-11-06T07:25:47.568000', 'exposure_flag': None, 'exposure_time': 0.0}\n",
      "add_exposure_flag_to_exposures rec={'obs_id': 'CC_O_20241105_000036', 'id': 2024110500036, 'instrument': 'LSSTComCam', 'observation_type': 'acq', 'observation_reason': 'comcam_manual_alignment', 'day_obs': 20241105, 'seq_num': 36, 'group_name': '2024-11-06T00:33:08.610', 'target_name': 'UNKNOWN', 'science_program': 'unknown', 'tracking_ra': 353.67121964757337, 'tracking_dec': -53.228904052772535, 'sky_angle': 330.5338504313997, 'timespan_begin': '2024-11-06T00:33:28.567983', 'timespan_end': '2024-11-06T00:33:58.996000', 'exposure_flag': None, 'exposure_time': 0.0}\n",
      "add_exposure_flag_to_exposures rec={'obs_id': 'CC_O_20241105_000035', 'id': 2024110500035, 'instrument': 'LSSTComCam', 'observation_type': 'acq', 'observation_reason': 'comcam_manual_alignment', 'day_obs': 20241105, 'seq_num': 35, 'group_name': '2024-11-06T00:24:32.154', 'target_name': 'UNKNOWN', 'science_program': 'unknown', 'tracking_ra': 353.67114571059176, 'tracking_dec': -53.22890351824676, 'sky_angle': 330.53428022673813, 'timespan_begin': '2024-11-06T00:27:20.832017', 'timespan_end': '2024-11-06T00:27:51.266000', 'exposure_flag': None, 'exposure_time': 0.0}\n",
      "add_exposure_flag_to_exposures rec={'obs_id': 'CC_O_20241105_000034', 'id': 2024110500034, 'instrument': 'LSSTComCam', 'observation_type': 'acq', 'observation_reason': 'comcam_manual_alignment', 'day_obs': 20241105, 'seq_num': 34, 'group_name': '2024-11-06T00:24:32.154', 'target_name': 'UNKNOWN', 'science_program': 'unknown', 'tracking_ra': 353.67125028662224, 'tracking_dec': -53.22890268577733, 'sky_angle': 330.53331770199964, 'timespan_begin': '2024-11-06T00:24:32.267009', 'timespan_end': '2024-11-06T00:25:02.708000', 'exposure_flag': None, 'exposure_time': 0.0}\n",
      "add_exposure_flag_to_exposures rec={'obs_id': 'CC_O_20241105_000033', 'id': 2024110500033, 'instrument': 'LSSTComCam', 'observation_type': 'dark', 'observation_reason': 'comcam_twilight_flat', 'day_obs': 20241105, 'seq_num': 33, 'group_name': '2024-11-05T23:46:45.064', 'target_name': 'slew_icrs', 'science_program': 'BLOCK-T215', 'tracking_ra': 346.6033826463881, 'tracking_dec': -52.80651002379512, 'sky_angle': None, 'timespan_begin': '2024-11-06T00:13:46.868016', 'timespan_end': '2024-11-06T00:14:16.881000', 'exposure_flag': None, 'exposure_time': 0.0}\n",
      "add_exposure_flag_to_exposures rec={'obs_id': 'CC_O_20241105_000026', 'id': 2024110500026, 'instrument': 'LSSTComCam', 'observation_type': 'acq', 'observation_reason': 'comcam_twilight_flat', 'day_obs': 20241105, 'seq_num': 26, 'group_name': '2024-11-05T23:46:45.064', 'target_name': 'slew_icrs', 'science_program': 'BLOCK-T215', 'tracking_ra': 346.2078217706167, 'tracking_dec': -52.88618942352555, 'sky_angle': 330.46209234931854, 'timespan_begin': '2024-11-06T00:04:54.283015', 'timespan_end': '2024-11-06T00:05:24.722000', 'exposure_flag': None, 'exposure_time': 0.0}\n",
      "add_exposure_flag_to_exposures rec={'obs_id': 'CC_O_20241105_000019', 'id': 2024110500019, 'instrument': 'LSSTComCam', 'observation_type': 'acq', 'observation_reason': 'comcam_twilight_flat', 'day_obs': 20241105, 'seq_num': 19, 'group_name': '2024-11-05T23:46:45.064', 'target_name': 'slew_icrs', 'science_program': 'BLOCK-T215', 'tracking_ra': 345.66980414607536, 'tracking_dec': -53.022401224946904, 'sky_angle': 330.4620320090255, 'timespan_begin': '2024-11-05T23:56:26.142983', 'timespan_end': '2024-11-05T23:56:35.825000', 'exposure_flag': None, 'exposure_time': 0.0}\n",
      "add_exposure_flag_to_exposures rec={'obs_id': 'CC_O_20241104_000129', 'id': 2024110400129, 'instrument': 'LSSTComCam', 'observation_type': 'acq', 'observation_reason': 'acq', 'day_obs': 20241104, 'seq_num': 129, 'group_name': '2024-11-05T06:16:21.556', 'target_name': 'UNKNOWN', 'science_program': 'BLOCK-T249', 'tracking_ra': 71.93761240023973, 'tracking_dec': -50.64721881288358, 'sky_angle': 317.12752947703797, 'timespan_begin': '2024-11-05T06:16:56.790985', 'timespan_end': '2024-11-05T06:17:27.231000', 'exposure_flag': None, 'exposure_time': 0.0}\n",
      "add_exposure_flag_to_exposures rec={'obs_id': 'CC_O_20241104_000128', 'id': 2024110400128, 'instrument': 'LSSTComCam', 'observation_type': 'acq', 'observation_reason': 'acq', 'day_obs': 20241104, 'seq_num': 128, 'group_name': '2024-11-05T06:15:49.728', 'target_name': 'UNKNOWN', 'science_program': 'BLOCK-T249', 'tracking_ra': 71.93780458847328, 'tracking_dec': -50.64724014956686, 'sky_angle': 317.12780977538955, 'timespan_begin': '2024-11-05T06:16:21.640984', 'timespan_end': '2024-11-05T06:16:52.072000', 'exposure_flag': None, 'exposure_time': 0.0}\n",
      "add_exposure_flag_to_exposures rec={'obs_id': 'CC_O_20241104_000127', 'id': 2024110400127, 'instrument': 'LSSTComCam', 'observation_type': 'acq', 'observation_reason': 'acq', 'day_obs': 20241104, 'seq_num': 127, 'group_name': '2024-11-05T06:15:46.375', 'target_name': 'UNKNOWN', 'science_program': 'BLOCK-T249', 'tracking_ra': 71.93759045276356, 'tracking_dec': -50.64721722063212, 'sky_angle': 317.1277618614466, 'timespan_begin': '2024-11-05T06:15:46.489012', 'timespan_end': '2024-11-05T06:16:16.930000', 'exposure_flag': None, 'exposure_time': 0.0}\n",
      "add_exposure_flag_to_exposures rec={'obs_id': 'CC_O_20241104_000026', 'id': 2024110400026, 'instrument': 'LSSTComCam', 'observation_type': 'acq', 'observation_reason': 'infocus_spherical_alignment_laser', 'day_obs': 20241104, 'seq_num': 26, 'group_name': '2024-11-05T03:02:45.877', 'target_name': 'UNKNOWN', 'science_program': 'BLOCK-T60', 'tracking_ra': 20.229807831279942, 'tracking_dec': -53.22155346242684, 'sky_angle': 330.5266903096812, 'timespan_begin': '2024-11-05T03:06:09.968019', 'timespan_end': '2024-11-05T03:06:40.396000', 'exposure_flag': None, 'exposure_time': 0.0}\n",
      "add_exposure_flag_to_exposures rec={'obs_id': 'CC_O_20241104_000025', 'id': 2024110400025, 'instrument': 'LSSTComCam', 'observation_type': 'cwfs', 'observation_reason': 'extra_spherical_alignment_laser', 'day_obs': 20241104, 'seq_num': 25, 'group_name': '2024-11-05T03:02:45.877#2', 'target_name': 'UNKNOWN', 'science_program': 'BLOCK-T60', 'tracking_ra': 20.066536511726223, 'tracking_dec': -53.22398241876578, 'sky_angle': 330.5371115570184, 'timespan_begin': '2024-11-05T03:05:31.841008', 'timespan_end': '2024-11-05T03:06:02.279000', 'exposure_flag': None, 'exposure_time': 0.0}\n",
      "add_exposure_flag_to_exposures rec={'obs_id': 'CC_O_20241104_000024', 'id': 2024110400024, 'instrument': 'LSSTComCam', 'observation_type': 'cwfs', 'observation_reason': 'intra_spherical_alignment_laser', 'day_obs': 20241104, 'seq_num': 24, 'group_name': '2024-11-05T03:02:45.877#2', 'target_name': 'UNKNOWN', 'science_program': 'BLOCK-T60', 'tracking_ra': 19.906739094029916, 'tracking_dec': -53.2240953026688, 'sky_angle': 330.5377140763497, 'timespan_begin': '2024-11-05T03:04:53.730010', 'timespan_end': '2024-11-05T03:05:24.163000', 'exposure_flag': None, 'exposure_time': 0.0}\n",
      "add_exposure_flag_to_exposures rec={'obs_id': 'CC_O_20241104_000023', 'id': 2024110400023, 'instrument': 'LSSTComCam', 'observation_type': 'acq', 'observation_reason': 'infocus_spherical_alignment_laser', 'day_obs': 20241104, 'seq_num': 23, 'group_name': '2024-11-05T03:02:45.877', 'target_name': 'UNKNOWN', 'science_program': 'BLOCK-T60', 'tracking_ra': 19.898366213505845, 'tracking_dec': -53.22410132435914, 'sky_angle': 330.534856729332, 'timespan_begin': '2024-11-05T03:04:11.616982', 'timespan_end': '2024-11-05T03:04:42.048000', 'exposure_flag': None, 'exposure_time': 0.0}\n",
      "add_exposure_flag_to_exposures rec={'obs_id': 'CC_O_20241104_000022', 'id': 2024110400022, 'instrument': 'LSSTComCam', 'observation_type': 'cwfs', 'observation_reason': 'extra_spherical_alignment_laser', 'day_obs': 20241104, 'seq_num': 22, 'group_name': '2024-11-05T03:02:45.877#1', 'target_name': 'UNKNOWN', 'science_program': 'BLOCK-T60', 'tracking_ra': 19.89822040569014, 'tracking_dec': -53.22410013454116, 'sky_angle': 330.5344748526957, 'timespan_begin': '2024-11-05T03:03:33.503006', 'timespan_end': '2024-11-05T03:04:03.930000', 'exposure_flag': None, 'exposure_time': 0.0}\n",
      "add_exposure_flag_to_exposures rec={'obs_id': 'CC_O_20241104_000021', 'id': 2024110400021, 'instrument': 'LSSTComCam', 'observation_type': 'cwfs', 'observation_reason': 'intra_spherical_alignment_laser', 'day_obs': 20241104, 'seq_num': 21, 'group_name': '2024-11-05T03:02:45.877#1', 'target_name': 'UNKNOWN', 'science_program': 'BLOCK-T60', 'tracking_ra': 19.898740434706216, 'tracking_dec': -53.22409435414858, 'sky_angle': 330.5339918733358, 'timespan_begin': '2024-11-05T03:02:55.406009', 'timespan_end': '2024-11-05T03:03:25.844000', 'exposure_flag': None, 'exposure_time': 0.0}\n",
      "add_exposure_flag_to_exposures rec={'obs_id': 'CC_O_20241103_000115', 'id': 2024110300115, 'instrument': 'LSSTComCam', 'observation_type': 'acq', 'observation_reason': 'acq', 'day_obs': 20241103, 'seq_num': 115, 'group_name': '2024-11-04T06:01:31.465', 'target_name': 'UNKNOWN', 'science_program': 'BLOCK-T60', 'tracking_ra': 73.32133104741317, 'tracking_dec': -60.66731643605433, 'sky_angle': 320.79657969445617, 'timespan_begin': '2024-11-04T06:01:31.612016', 'timespan_end': '2024-11-04T06:02:02.037000', 'exposure_flag': None, 'exposure_time': 0.0}\n",
      "add_exposure_flag_to_exposures rec={'obs_id': 'CC_O_20241102_000182', 'id': 2024110200182, 'instrument': 'LSSTComCam', 'observation_type': 'acq', 'observation_reason': 'infocus_reference_wavefront', 'day_obs': 20241102, 'seq_num': 182, 'group_name': '2024-11-03T05:27:29.998', 'target_name': 'UNKNOWN', 'science_program': 'BLOCK-T81', 'tracking_ra': 63.91732757315491, 'tracking_dec': -53.303884822366754, 'sky_angle': 270.2141932198777, 'timespan_begin': '2024-11-03T05:50:32.197005', 'timespan_end': '2024-11-03T05:51:02.632000', 'exposure_flag': None, 'exposure_time': 0.0}\n",
      "add_exposure_flag_to_exposures rec={'obs_id': 'CC_O_20241102_000181', 'id': 2024110200181, 'instrument': 'LSSTComCam', 'observation_type': 'cwfs', 'observation_reason': 'extra_reference_wavefront', 'day_obs': 20241102, 'seq_num': 181, 'group_name': '2024-11-03T05:27:29.998#9', 'target_name': 'UNKNOWN', 'science_program': 'BLOCK-T81', 'tracking_ra': 63.75821358717015, 'tracking_dec': -53.304214996079516, 'sky_angle': 270.2144899649737, 'timespan_begin': '2024-11-03T05:49:54.093007', 'timespan_end': '2024-11-03T05:50:24.536000', 'exposure_flag': None, 'exposure_time': 0.0}\n",
      "add_exposure_flag_to_exposures rec={'obs_id': 'CC_O_20241102_000040', 'id': 2024110200040, 'instrument': 'LSSTComCam', 'observation_type': 'acq', 'observation_reason': 'acq', 'day_obs': 20241102, 'seq_num': 40, 'group_name': '2024-11-03T00:39:18.035', 'target_name': 'UNKNOWN', 'science_program': 'BLOCK-T75', 'tracking_ra': 351.8561307149996, 'tracking_dec': -54.15225513077879, 'sky_angle': 337.63794342357545, 'timespan_begin': '2024-11-03T00:39:18.188014', 'timespan_end': '2024-11-03T00:39:48.630000', 'exposure_flag': None, 'exposure_time': 0.0}\n",
      "add_exposure_flag_to_exposures rec={'obs_id': 'CC_O_20241102_000039', 'id': 2024110200039, 'instrument': 'LSSTComCam', 'observation_type': 'cwfs', 'observation_reason': 'extra_sitcom-826', 'day_obs': 20241102, 'seq_num': 39, 'group_name': '2024-11-03T00:23:00.611', 'target_name': 'azel_target', 'science_program': 'BLOCK-T249', 'tracking_ra': 351.78090788480176, 'tracking_dec': -53.131513973335146, 'sky_angle': 329.8219496442901, 'timespan_begin': '2024-11-03T00:24:00.837005', 'timespan_end': '2024-11-03T00:24:31.280000', 'exposure_flag': None, 'exposure_time': 0.0}\n",
      "add_exposure_flag_to_exposures rec={'obs_id': 'CC_O_20241102_000038', 'id': 2024110200038, 'instrument': 'LSSTComCam', 'observation_type': 'cwfs', 'observation_reason': 'intra_sitcom-826', 'day_obs': 20241102, 'seq_num': 38, 'group_name': '2024-11-03T00:23:00.611', 'target_name': 'azel_target', 'science_program': 'BLOCK-T249', 'tracking_ra': 351.62101956436425, 'tracking_dec': -53.13144862588834, 'sky_angle': 329.82254842334555, 'timespan_begin': '2024-11-03T00:23:22.734013', 'timespan_end': '2024-11-03T00:23:53.163000', 'exposure_flag': None, 'exposure_time': 0.0}\n",
      "DEBUG add_exposure_flag instrument='LSSTComCam' {'good', 'unknown', 'junk', 'questionable'}\n",
      "DEBUG add_exposure_flag instrument='LSSTCam' {'unknown'}\n",
      "NarrativeLogAdapter(server_url='https://usdf-rsp-dev.slac.stanford.edu', max_dayobs='2024-11-08', min_dayobs='2024-11-02', limit=None\n",
      "Using endpoint='https://usdf-rsp-dev.slac.stanford.edu/narrativelog/messages'\n",
      "Using url='https://usdf-rsp-dev.slac.stanford.edu/narrativelog/messages?is_human=either&is_valid=true&order_by=-date_added&offset=0&limit=1000&min_date_added=2024-11-02T00%3A00%3A00&max_date_added=2024-11-08T00%3A00%3A00'\n"
     ]
    }
   ],
   "source": [
    "# Read records from (almost) all sources\n",
    "allsrc = AllSources(\n",
    "    server_url=server,\n",
    "    min_dayobs=min_day_obs,\n",
    "    max_dayobs=max_day_obs,\n",
    "    verbose=True,                # TODO change to False before push\n",
    "    limit=limit,\n",
    "    exclude_instruments = []      # TODO change to empty list before push\n",
    ")\n",
    "allrep = AllReports(allsrc=allsrc)"
   ]
  },
  {
   "cell_type": "code",
   "execution_count": 6,
   "id": "7",
   "metadata": {
    "jupyter": {
     "source_hidden": true
    }
   },
   "outputs": [
    {
     "data": {
      "text/markdown": [
       "# Showing data for 2024-11-02 to 2024-11-08 for LSSTComCamSim, LATISS, LSSTComCam, LSSTCam"
      ],
      "text/plain": [
       "<IPython.core.display.Markdown object>"
      ]
     },
     "metadata": {},
     "output_type": "display_data"
    }
   ],
   "source": [
    "instrum_str = \", \".join(list(allsrc.exp_src.instruments.keys()))\n",
    "md(f\"# Showing data for {min_date.date()} to {max_date.date()} for {instrum_str}\")"
   ]
  },
  {
   "cell_type": "markdown",
   "id": "8",
   "metadata": {},
   "source": [
    "# Table of Contents\n",
    "* [Night Report](#Night-Report-BETA)\n",
    "    - AuxTel\n",
    "    - Simonyi\n",
    "* [Almanac](#Almanac-BETA)\n",
    "* [Summary plots of whole night](#Summary-plots-of-whole-night-DRAFT)\n",
    "* [Time Accounting](#Time-Accounting-DRAFT)\n",
    "* [Jira Tickets](#Jira-Tickets-BETA)\n",
    "    - AuxTel\n",
    "    - Simonyi\n",
    "* [BLOCKS Observed](#BLOCKS-Observed-DRAFT)\n",
    "    - AuxTel\n",
    "    - Simonyi\n",
    "* [Data Log](#Data-Log-DRAFT)\n",
    "* [Narrative Log](#Narrative-Log-BETA)\n",
    "* [Developer Only Section](#Developer-Only-Section-REMOVE)"
   ]
  },
  {
   "cell_type": "markdown",
   "id": "86ff253e-f575-4b9b-96f9-698d3faf9494",
   "metadata": {},
   "source": [
    "## Night Report <font style=\"background-color:green; color:white; font-size:20px\">BETA</font> "
   ]
  },
  {
   "cell_type": "code",
   "execution_count": 7,
   "id": "10",
   "metadata": {},
   "outputs": [
    {
     "data": {
      "text/markdown": [
       "### Telescope: AuxTel"
      ],
      "text/plain": [
       "<IPython.core.display.Markdown object>"
      ]
     },
     "metadata": {},
     "output_type": "display_data"
    },
    {
     "data": {
      "text/markdown": [
       "```\n",
       "We had a bumpy start to the beginning of the observation day. During the bump tests, FA 235 failed several times, but we got confirmation that it was safe to raise the mirror. We had repeating issues with the MTHexapod today during its warmup. It failed several times, so we skipped the procedure - see OBS-620. We decided to reset the PXI for the M2 hexapod, and managed to initiate compensation mode. The TMA had some buggy behaviors as well. We tried to save some sky time and slew the TMA to the south well before sunset. Due to soft motion axis faults, and some weird but faultless behaviors (see details in the narrative log), it took around two hours to get the TMA into position. We went to dinner, came back, and prepared to open by sunset.\n",
       "\n",
       "In addition to that afternoon fun, the ambient temperature went nuts starting around 2 hours before sunset, plummeting and rising again on a crazy roller coaster. 🎢 We opened just after sunset, fooled into thinking it had stabilized, and the M1M3 temperature dropped at an alarming rate of about 0.4 C per 15 minutes. We closed quickly, and turned on the HVAC systems to a 6 degree set point to try and keep M1M3 closer to ambient. Humidity began creeping up around 9:30 - reaching around 70%. We remained closed and continued in dome testing.\n",
       "\n",
       "As the weather changed frequently, we opened the dome in steps to slowly thermalize the mirror while running the LUT. We decided to fully open around midnight and began on-sky testing. \n",
       "\n",
       "AOS night Summary:\n",
       "\n",
       "Due to weather and temperature, we weren’t able to fully open the dome until ~00:30 local time. We used the time before this to perform T222 - Elevation LUT with closed dome.  Then we started T88 Laser Alignment to determine a good starting point. Using this starting point we started T92 to step though varying the M2 hexapod and camera hexapod dz positions to refine the focus.  First we moved the two hexapod shifts in the same direction and then had them move in different directions.  We found while doing this that we couldn’t return to the position we found in focus.  We determined this was due to the fact that we were not giving uncompensated positions.  We were using the compensated values and effectively applying them twice.  We built a new dashboard with uncompensated positions and then asked to go back to the uncompensated position via a run_command. It worked!  This explains why were weren’t able to reproduce values on previous nights.\n",
       "\n",
       "With this information we once again tried the parameter march with the two hexapods moving in opposite directions.  We weren’t able to finish in time, and tried T202 which attempted to record the state of the system with the laser tracker.  We started the script and soon realized the system was not in focus. We stopped the script, but in fact the process did not end, and the laser tracker task completed and moved from a M1M3 SMR finally stopping at a Camera SMR.  When we next took an image to check focus, the extra light from the laser on the camera SMR tripped the voltage levels on the ComCom REBs, causing the ComCam to go into fault.  Brian Stalder remotely recovered the ComCam and we finished our tests due to the required closing time.\n",
       "```"
      ],
      "text/plain": [
       "<IPython.core.display.Markdown object>"
      ]
     },
     "metadata": {},
     "output_type": "display_data"
    },
    {
     "data": {
      "text/markdown": [
       "Confluence page: [testCycle/BLOCK-R126](https://rubinobs.atlassian.net/projects/BLOCK?selectedItem=com.atlassian.plugins.atlassian-connect-plugin:com.kanoah.test-manager__main-project-page#!/testCycle/BLOCK-R126)"
      ],
      "text/plain": [
       "<IPython.core.display.Markdown object>"
      ]
     },
     "metadata": {},
     "output_type": "display_data"
    },
    {
     "data": {
      "text/markdown": [
       "Telescope Status: "
      ],
      "text/plain": [
       "<IPython.core.display.Markdown object>"
      ]
     },
     "metadata": {},
     "output_type": "display_data"
    },
    {
     "data": {
      "text/markdown": [
       "*Authors: David Sanmartim, Alysha Shugart, Guillem Megias Homar, Chris Walter, Carlos Morales*"
      ],
      "text/plain": [
       "<IPython.core.display.Markdown object>"
      ]
     },
     "metadata": {},
     "output_type": "display_data"
    },
    {
     "data": {
      "text/markdown": [
       "```\n",
       "\n",
       "```"
      ],
      "text/plain": [
       "<IPython.core.display.Markdown object>"
      ]
     },
     "metadata": {},
     "output_type": "display_data"
    },
    {
     "data": {
      "text/markdown": [
       "Telescope Status: "
      ],
      "text/plain": [
       "<IPython.core.display.Markdown object>"
      ]
     },
     "metadata": {},
     "output_type": "display_data"
    },
    {
     "data": {
      "text/markdown": [
       "*Authors: *"
      ],
      "text/plain": [
       "<IPython.core.display.Markdown object>"
      ]
     },
     "metadata": {},
     "output_type": "display_data"
    },
    {
     "data": {
      "text/markdown": [
       "### Telescope: Simonyi"
      ],
      "text/plain": [
       "<IPython.core.display.Markdown object>"
      ]
     },
     "metadata": {},
     "output_type": "display_data"
    },
    {
     "data": {
      "text/markdown": [
       "```\n",
       "We had quite a calm afternoon today with the TMA behaving very well. We were able to keep the daytime plan on track, executing warmups, bump tests, breakaway tests, and TMA checkout. FA 330 passed on the second try, and FA409 passed on the third try. Since both of them had marginal errors and ended up passing, we raised the mirror.\n",
       "\n",
       "Around 19:30, we checked that the inside and outside temperatures were quite close, so we decided to turn off the HVACs. In preparation for taking sky flats, we moved the TMA to Az=165 and El=65, while moving the Dome to Az=0, which is a convenient position that still gives us access to the dome cabinets to open the dome shutter and keeps it far from the Sun direction. Before opening the dome shutter, Guillem tested the laser tracker alignment script, which was failing due to a wrong signal in MTAOS. We then opened the dome shutter (note that mirror covers need to be closed if the TMA is not pointing approx. to zenith) and moved the dome to the match TMA azimuth position. Around 20:37, we started twilight flats with the \"i_06\" filter, and despite having some clouds towards the south, the twilight flats went well. We started AOS testing by fixing a wrong signal in the MTAOS and then moved to ASCT-001 Initial Alignment with MTAOS (BLOCK-T249)...\n",
       "\n",
       "\n",
       "Note: We need to announce in the night log the setting point for the HVAC, which we think will be 8 degrees. You can discuss that with Sandrine before closing. BLOCK-T242 has steps with instructions on how to set this, which is pretty straightforward.\n",
       "\n",
       "------- AOS Night summary --------\n",
       "\n",
       "Tonight, we skipped laser alignment to stay on schedule and went straight to taking flats, though clouds impacted the quality. Moving into closed-loop testing, we successfully closed the loop with hexapods, improving image quality slightly, but encountered issues when adding more degrees of freedom. We’ll analyze this data to refine configurations and try again tomorrow.\n",
       "\n",
       "We also conducted M1M3 optical state estimation tests, applying bending modes to observe wavefront changes, though we realized a bit late that our “in-focus” images were out of focus for much of the test. An attempt to run the giant donut test block was halted due to an incorrect configuration for track_target, which we will fix for another try.\n",
       "\n",
       "To bring the telescope back into focus, we eliminated spherical aberration by pistoning M2 and the camera in opposite directions, underscoring the importance of more laser tracker testing early at the beginning of the night during flat time. Missed alignments over the past two nights may have caused the spherical and coma issues creeping up, both linked to hexapod positioning, so we’ll focus on alignment tomorrow.\n",
       "\n",
       "Our final closed-loop correction attempt ran into limitations as we forgot to cap the number of M1M3 bending modes, causing conservative force clipping. The TMA performed well, and Anastasia lifted spirits with chocolate—a sweet end to the night.\n",
       "\n",
       "We closed the dome, M1M3 had an actuator fault (no 415) and faulted, but we recovered and slewed the telescope to take some in-dome pinhole images to try and recreate the scattered light. Took over an hour to park and shutdown for the night, but managed to do it.\n",
       "```"
      ],
      "text/plain": [
       "<IPython.core.display.Markdown object>"
      ]
     },
     "metadata": {},
     "output_type": "display_data"
    },
    {
     "data": {
      "text/markdown": [
       "Confluence page: [testCycle/BLOCK-R125](https://rubinobs.atlassian.net/projects/BLOCK?selectedItem=com.atlassian.plugins.atlassian-connect-plugin:com.kanoah.test-manager__main-project-page#!/testCycle/BLOCK-R125)"
      ],
      "text/plain": [
       "<IPython.core.display.Markdown object>"
      ]
     },
     "metadata": {},
     "output_type": "display_data"
    },
    {
     "data": {
      "text/markdown": [
       "Telescope Status: TMA az: -32, el: 90, locking pins inserted, M1M3 lowered. Dome: 328. HVAC at setpoint 9 degrees. M2 enabled and in closed loop."
      ],
      "text/plain": [
       "<IPython.core.display.Markdown object>"
      ]
     },
     "metadata": {},
     "output_type": "display_data"
    },
    {
     "data": {
      "text/markdown": [
       "*Authors: David Sanmartim, Carlos Morales, Alysha Shugart, Guillem Megias Homar, Sandrine Thomas, Josh Meyers*"
      ],
      "text/plain": [
       "<IPython.core.display.Markdown object>"
      ]
     },
     "metadata": {},
     "output_type": "display_data"
    },
    {
     "data": {
      "text/markdown": [
       "```\n",
       "We had a bumpy start to the beginning of the observation day. During the bump tests, FA 235 failed several times, but we got confirmation that it was safe to raise the mirror. We had repeating issues with the MTHexapod today during its warmup. It failed several times, so we skipped the procedure - see OBS-620. We decided to reset the PXI for the M2 hexapod, and managed to initiate compensation mode. The TMA had some buggy behaviors as well. We tried to save some sky time and slew the TMA to the south well before sunset. Due to soft motion axis faults, and some weird but faultless behaviors (see details in the narrative log), it took around two hours to get the TMA into position. We went to dinner, came back, and prepared to open by sunset.\n",
       "\n",
       "In addition to that afternoon fun, the ambient temperature went nuts starting around 2 hours before sunset, plummeting and rising again on a crazy roller coaster. 🎢 We opened just after sunset, fooled into thinking it had stabilized, and the M1M3 temperature dropped at an alarming rate of about 0.4 C per 15 minutes. We closed quickly, and turned on the HVAC systems to a 6 degree set point to try and keep M1M3 closer to ambient. Humidity began creeping up around 9:30 - reaching around 70%. We remained closed and continued in dome testing.\n",
       "\n",
       "As the weather changed frequently, we opened the dome in steps to slowly thermalize the mirror while running the LUT. We decided to fully open around midnight and began on-sky testing. \n",
       "\n",
       "AOS night Summary:\n",
       "\n",
       "Due to weather and temperature, we weren’t able to fully open the dome until ~00:30 local time. We used the time before this to perform T222 - Elevation LUT with closed dome.  Then we started T88 Laser Alignment to determine a good starting point. Using this starting point we started T92 to step though varying the M2 hexapod and camera hexapod dz positions to refine the focus.  First we moved the two hexapod shifts in the same direction and then had them move in different directions.  We found while doing this that we couldn’t return to the position we found in focus.  We determined this was due to the fact that we were not giving uncompensated positions.  We were using the compensated values and effectively applying them twice.  We built a new dashboard with uncompensated positions and then asked to go back to the uncompensated position via a run_command. It worked!  This explains why were weren’t able to reproduce values on previous nights.\n",
       "\n",
       "With this information we once again tried the parameter march with the two hexapods moving in opposite directions.  We weren’t able to finish in time, and tried T202 which attempted to record the state of the system with the laser tracker.  We started the script and soon realized the system was not in focus. We stopped the script, but in fact the process did not end, and the laser tracker task completed and moved from a M1M3 SMR finally stopping at a Camera SMR.  When we next took an image to check focus, the extra light from the laser on the camera SMR tripped the voltage levels on the ComCom REBs, causing the ComCam to go into fault.  Brian Stalder remotely recovered the ComCam and we finished our tests due to the required closing time.\n",
       "\n",
       "We have some issues to close the night, we can not send the MT Mount to enable again, the rotator was leave it in 23.2 position and off, we try the locking pins of TMA, but not insert complete so we move the TMA down en Elevation ~ 86 and the came back to 90 to try again, but we get an error when was parked at 90 degrees \"Elevation Positive power off limit switch (TMA-EL-IS-CPD-0005) [sdiLIMELPOS]\"\n",
       "```"
      ],
      "text/plain": [
       "<IPython.core.display.Markdown object>"
      ]
     },
     "metadata": {},
     "output_type": "display_data"
    },
    {
     "data": {
      "text/markdown": [
       "Telescope Status: MTM1M3 DISABLED - lowered\n",
       "MTM2 ENABLED in closed loop\n",
       "MTAOS STANDBY\n",
       "MTDome DISABLED\n",
       "MTDomeTrajectory STANDBY\n",
       "MTMount DISABLED\n",
       "MTHexapods in STANDBY w/ cabinets and PXIs powered off\n",
       "MTPtg ENABLED\n",
       "MTRotator at 23º, in STANDBY w/ cabinets and PXIs powered off\n",
       "OSS ON\n",
       "Power Supply ON\n",
       "Locking Pins in TEST position\n",
       "TMA position AZ= -32 EL=90.2"
      ],
      "text/plain": [
       "<IPython.core.display.Markdown object>"
      ]
     },
     "metadata": {},
     "output_type": "display_data"
    },
    {
     "data": {
      "text/markdown": [
       "*Authors: David Sanmartim, Alysha Shugart, Guillem Megias Homar, Chris Walter, Carlos Morales*"
      ],
      "text/plain": [
       "<IPython.core.display.Markdown object>"
      ]
     },
     "metadata": {},
     "output_type": "display_data"
    },
    {
     "data": {
      "text/markdown": [
       "```\n",
       "We started with hexapod warmups while Felipe and Christian worked inside the M1M3 cell for leaks. We still have 8 actuator leaking but it is not critical to stop the M1M3 test. There was M2hexapod warmup script update from Te-Wei's request. \n",
       "\n",
       "We ran ComCam USDF Checkout to take multiple bias and dark images. Lights were on.\n",
       "\n",
       "Dome handover and TMA handover both happened at 3pm. \n",
       "During dome handover, we had to reset cRIO once after switching from local mode to remote mode, according to Wouter's comment. Dome was moving fine but we had trouble with telemetry not read. We suspected the DDS issue, but Tiago confirmed it wasn't, and was solved by Wouter's update and recycling the MTDome.\n",
       "\n",
       "We ran bump test with secondary FA 330 failed, and then HP breakaway test.\n",
       "\n",
       "HVAC setpoint was changed multiple times during the day, according to the temperature difference between the ambient and M2 air temperature (inside dome, outside M1M3 cell temp). MTM1M3TS had hearbeat lost twice, but 2nd time was due to changing the fan speed without entering engineering mode. We recovered (reset) and set to 300RPM (put 30 as constant).\n",
       "\n",
       "Outside temperature and M2 air temperature was within 2C difference, we decided to turn off HVAC and open the dome. There was miscommunication between trying to do other setups and TMA checkout first and opening the dome, and since we had TMA problem with positive limit switch blocking the elevation drive from turning on, due to wrong position readout (>90 deg), we decided to open the dome before TMA checkout is ready. \n",
       "\n",
       "TMA positive limit switch problem solved by ignoring the limit switch and turn on the elevation drive (reading out correct position) then move to el=80. After that we switched to CSC mode, but failed again with wrong elevation readout. We recovered, and were able to enable the MTMount, when correct elevation was readout. TMA checkout was done with several small issues such as typo in the configuration, mis-instruction on MTDome, MTDomeTrajectory, etc.\n",
       "\n",
       "We moved TMA with move_p2p to az=160, el=65 to have same position as last week to compare the alignment at the same position.  \n",
       "\n",
       "\n",
       "------- AOS Night Summary -------\n",
       "We opened the dome shutter around 9:00 pm and started T88 alignment with the laser tracker by 10:30-10:45 pm, despite a few dome faults. After alignment, we took a sky image to confirm positioning, and initial focus looked promising. A follow-up triplet image provided a closer focus check, though Tiago had to update MTCS scripts due to some failures.\n",
       "\n",
       "While the laser alignment helped, some spherical aberration remained. We refined focus by sweeping in +Cam_dz and +M2_dz, reaching around 1.7 arcsec. At this point we took a series of images to check the variance of the PSF measurement, it seems it oscillates +/- 0.6 arcsec. Then, by adjusting +Cam_dz and -M2_dz, we minimized the spherical aberration and recorded this optimal focus position for tomorrow, although the PSF was worse. Our new script set_dof.py now lets us revert to this focus point, resolving previous week's confusion with compensated versus uncompensated positions—a very handy improvement tonight. \n",
       "\n",
       "We also tried to minimize coma with an M2 Ry sweep, but CCS issues made it inconclusive. Moving to closed-loop testing with hexapods, we found wavefront estimation pipeline speed is becoming a bottleneck; RA should hopefully help improve this soon. We ran four closed-loop iterations with hexapods, adding astigmatism on the last step, but it appears the loop is doubling in the wrong direction, indicating a possible sign error to investigate tomorrow.\n",
       "\n",
       "The final closed-loop correction produced unrealistic results due to an outlier sensor Zernike estimate at the central sensor, likely from the laser. We'll need to investigate this further and consider a safeguard in the wavefront estimation pipeline. Overall, it was a successful and educational night. By the way, someone promised to sing when we reach 1.4 arcsec… guess who!\n",
       "\n",
       "===== After Closing Dome Summary == \n",
       "\n",
       "We started closing dome around 03:15am with closing M1M3 mirror covers and dome shutter. We had an issue while we closed the dome shutter - the left aperture was not closed totally and kept closing even after the right aperture was closed. We stopped closing and opened the aperture a little bit and closed it again. It takes more than a few minutes and then it seemed closed (no light on the buttons blinked) but night crew heard unusual big noise from cabinet. Need further checks if there is no issue on dome slit and it is closed without issue. HVAC turning back to daytime move and set point kept in 9C. Then we run BLOCK-T220, ComCam Daytime Calibrations until 9am UTC/06 am UTC. We parked the TMA on horizon with raised M1M3 per Petr K.'s request. \n",
       "\n",
       "Two OBS ticket filed - OBS-646 (MTDome AMCS fault) and OBS-647 (issue with dome shutter closing). \n",
       "\n",
       "\n",
       "* Please note that there was Keith Bechtol as a Late shit observer.\n",
       "```"
      ],
      "text/plain": [
       "<IPython.core.display.Markdown object>"
      ]
     },
     "metadata": {},
     "output_type": "display_data"
    },
    {
     "data": {
      "text/markdown": [
       "Telescope Status: TMA parked at El: 0.0deg (Horizon), Az: -32 deg as requested. Locking pins were engaged, OSS on, PS OFF, and the mirror cover retracted (opened). Dome parked at 328 deg. All CSCs are set as requested:\n",
       "MTM1M3 DISABLED (lowered), MTM2 enabled in closed loop, MTAOS STANDBY, MTDome DISABLED, MTDomeTrajectory Standby, MTMount Disabled, MTHexapod1,2, Rotator in Standby with PXIs and Cabinets turned off. MTPtg enabled. "
      ],
      "text/plain": [
       "<IPython.core.display.Markdown object>"
      ]
     },
     "metadata": {},
     "output_type": "display_data"
    },
    {
     "data": {
      "text/markdown": [
       "*Authors: HyeYun Park, Kshitija Kelkar, Yijung Kang, Sandrine Thomas, Chris Walter*"
      ],
      "text/plain": [
       "<IPython.core.display.Markdown object>"
      ]
     },
     "metadata": {},
     "output_type": "display_data"
    },
    {
     "data": {
      "text/markdown": [
       "```\n",
       "We started with hexapod warmups while Felipe and Christian worked inside the M1M3 cell for leaks. We still have 8 actuator leaking but it is not critical to stop the M1M3 test. There was an M2hexapod warmup script update from Te-Wei's request. \n",
       "\n",
       "We ran ComCam USDF Checkout to take multiple bias and dark images. The lights were on.\n",
       "\n",
       "Dome handover and TMA handover both happened at 3pm. During the dome handover, we had to reset cRIO once after switching from local mode to remote mode, according to Wouter's comment. Dome was moving fine but we had trouble with telemetry not read. We suspected the DDS issue, but Tiago confirmed it wasn't, and was solved by recycling the MTDome.\n",
       "\n",
       "We ran a bump test with secondary FA 330 failed, and then the HP breakaway test.\n",
       "\n",
       "The HVAC setpoint was changed multiple times during the day, according to the temperature difference between the ambient and M2 air temperature (inside dome, outside M1M3 cell temp). MTM1M3TS had heartbeat lost twice, but 2nd time was due to changing the fan speed without entering engineering mode. We recovered (reset) and set it to 300RPM (put 30 as constant).\n",
       "\n",
       "Outside temperature and M2 air temperature were within 2C difference, we decided to turn off HVAC and open the dome. There was a miscommunication between trying to do other setups and TMA checkout first and opening the dome, and since we had TMA problem with the positive limit switch blocking the elevation drive from turning on, due to wrong position readout (>90 deg), we decided to open the dome before TMA checkout is ready. \n",
       "\n",
       "The TMA positive limit switch problem was solved by ignoring the limit switch and turn on the elevation drive (reading out the correct position) then moving to el=80. After that, we switched to CSC mode but failed again with the wrong elevation readout. We recovered and were able to enable the MTMount when the correct elevation was readout. TMA checkout was done with several small issues such as a typo in the configuration, mis-instruction on MTDome, MTDomeTrajectory, etc.\n",
       "\n",
       "We moved TMA with move_p2p to az=160, el=65 to have the same position as last week to compare the alignment at the same position.\n",
       "```"
      ],
      "text/plain": [
       "<IPython.core.display.Markdown object>"
      ]
     },
     "metadata": {},
     "output_type": "display_data"
    },
    {
     "data": {
      "text/markdown": [
       "Telescope Status: "
      ],
      "text/plain": [
       "<IPython.core.display.Markdown object>"
      ]
     },
     "metadata": {},
     "output_type": "display_data"
    },
    {
     "data": {
      "text/markdown": [
       "*Authors: HyeYun Park, Kshitija Kelkar, Yijung Kang, Sandrine Thomas, Chris Walter*"
      ],
      "text/plain": [
       "<IPython.core.display.Markdown object>"
      ]
     },
     "metadata": {},
     "output_type": "display_data"
    },
    {
     "data": {
      "text/markdown": [
       "```\n",
       "During the day time we had TMA parked at horizon, mirror cover opened, for mirror cleaning. We turned on the hexapods and rotator, (disabled when not in use) and ran hexapod warmups. Since bump test and HP breakaway test are recommended to be ran in higher elevation and TMA handover was planned within less than time needed for these tests, we decided to do TMA handover first, then move in elevation to 70, do the M1M3 tests, then raise M1M3 before moving TMA further. \n",
       "\n",
       "After TMA handover, we moved in az first for day crew to check the oil. Then we moved elevation to 70, and ran HP breakaway test using GUI so we can run multiple HPs simultaneously. All passed, then while switching to CSC mode, M1M3 faulted. While recovering, it faulted again due to clearing interlock happened when M1M3 was not in standby state. Recovered, and after Enabling MTM1M3, we ran bump test. Primary FA 233, 235, 330 failed bump test, but when Petr re-ran individually 233 and 330 passed, and FA 235 also was near the limit and we agreed it will be overshooting. We raised M1M3.\n",
       "\n",
       "Started TMA Checkout BLOCK-T250, track_target timed out since we put the position too far from original position. It worked when we reran. We sent TMA to el=65, az=160 for Guillem's align test (BLOCK-T88). After quick alignment, we turned laser tracker off by script and put laser tracker in standby.\n",
       "\n",
       "With Sandrine's help on temperature control, we turned off HVAC around 8:10PM and opened the dome (mirror cover deployed before) when the temperature difference between outside and M2 air temperature was ~2 degrees. \n",
       "\n",
       "We started twilight flat (BLOCK-T215), but realized we had mirror cover still covered. We stopped the script, stopped tracking, mirror cover opened, then re-ran the twilight flat. While taking flat images, it went out of focus and we found hexapods jumped without reason (OBS-648).\n",
       "\n",
       "Then we started BLOCK-T60 manual alignment with offset measured from BLOCK-T88, and compared the spherical zernike and concluded image #84 was the best and best offset values are recorded in the test case. T88-E2123.\n",
       "\n",
       "Handed over to late night shift.\n",
       "\n",
       "AOS Summary\n",
       "The night was very productive thanks to summit team getting the telescope ready early! We continued refining the telescope alignment and understand our measurement noise. We conducted a reduced sensitivity matrix on the hexapods. While doing the hexapod reduced sensitivity matrix, we found a good position that led to our best image quality so far: 1.29 arcsec. We still see trefoil in the in-focus image (0.2 microns). We will use the measured responses to refine the alignment. \n",
       "\n",
       "The night was very productive despite LOVE blocking us for 1.5 hours in the middle of the night!  The cause was filling the postgres PV (\"disk\"), which may have been caused by a mis-configured database (writing voluminous write-ahead logs).\n",
       "\n",
       "DM Summary\n",
       "At the end of the night we took a set of c. 24 dithered r-band exposures using the current best AOS settings (sharp images with prominent trefoil). While getting this script working we took a series of non-dithered 15s exposures (206..215,225..223) with comparable image quality which might be of value for snap eradication.  216..219 have a waffle, and are followed by pinhole exposures\n",
       "\n",
       "Closed Dome test and closing summary\n",
       "We closed the MTDome around 5am per the current regulation. There was no issue with closing the MTDome shutter tonight (only 1.5min differences between two shutter differences. While ComCam daytime calibrations were taken (BLOCK-T220), M2 closed-loop break-out brake test during TMA slew (BLOCK-241) was proceeded and completed. After calibration completed, we run Az brake test and El brake test (BLOCK-T231 and BLOCK-T240) respectively. GIS triggered with gate at P6 and MTMount and MTRotator only faulted as expected. Starting closing the night around 06:30amCLT/09:30amUTC. Note that el:0deg, M1M3 was fault while slewing in Az direction. Force controller X moment limit. M2hexapod was failed at the same time while moving the origin. It was okay after re-running the script. After then TMA was moving in Az only with static support (disabled and lowered) M1M3.\n",
       "```"
      ],
      "text/plain": [
       "<IPython.core.display.Markdown object>"
      ]
     },
     "metadata": {},
     "output_type": "display_data"
    },
    {
     "data": {
      "text/markdown": [
       "Telescope Status: TMA parked at Az: 148, el: 0.0 with retracted mirror cover as requested. Locking pin engaged, OSS on, PS OFF. Dome is parked at 328 deg. All CSCs were set as requested: MTM1M3 DISABLED - lowered and disabled. MTM2 ENABLED in closed loop, MTRotator and MTHexapods are all origin and 0deg then in STANDBY w/ cabinets and PXIs powered off, MTAOS STANDBY, MTDome DISABLED, MTDomeTrajectory STANDBY, MTMount DISABLED.\n"
      ],
      "text/plain": [
       "<IPython.core.display.Markdown object>"
      ]
     },
     "metadata": {},
     "output_type": "display_data"
    },
    {
     "data": {
      "text/markdown": [
       "*Authors: HyeYun Park, Kshitija Kelkar, Yijung Kang, Chris Walter, Sandrine Thomas, Craig Lage, Robert Lupton, Brian Stalder*"
      ],
      "text/plain": [
       "<IPython.core.display.Markdown object>"
      ]
     },
     "metadata": {},
     "output_type": "display_data"
    },
    {
     "data": {
      "text/markdown": [
       "```\n",
       "One of the key daytime activities had been work at the top-end assembly; especially removal of the pinhole and addition of the g-band filter in ComCam. This meant that the TMA was at horizon for most of the day-- restricting our ability to work with mirror covers, and hard-point tests. Force actuator bump tests were successful but we did note a drop in mirror cell pressure of ~116.8 PSI while we were at horizon and improvement (>117 PSI) once we were near zenith. Petr has requested day crew to check for potential leaks in the mirror cell tomorrow. Hard-point tests were accomplished with TMA at zenith. \n",
       "\n",
       "Dome hand-over was smooth and quick, with additional dome shutter test (short open and close).  \n",
       "TMA handover was done earlier than usual as Eduardo want to check the oil drain under the TMA while in motion. Following a dome-handover at 3 pm, we were able to do some slow azimuthal movements to check this with TMA at ~80 deg in El and M1M3 raised. With this we had the entire system pretty much ready for night operations since 6 pm. \n",
       "\n",
       "We successfully took only 4 out of 20 planned twilight flats due interrupting issues (none related to TMA faulting during dithering !) -- some consDB issues, CCW not following Rotator leading to MTPtg faults and ACW tracking with DISABLED Azimuth. The subsystems CSCs were recovered but we lost our time window and proceeded directly for AOS testing. \n",
       "\n",
       "During AOS testing we had a CCCam issue where it was receiving commands but not acknowledging them. This was reported earlier in the day by the Camera team for the LSSTCam. It escalated to CCCam unable to be state-cycled. But successive troubleshooting led by Brian, Tony and Tiago helped it getting it back up and running. This involved clearing alarms in the CCS, re-starting OCS bridge and entering Camera control through run_command amongst other things. In addition,  we kept having general command acknowledgment failures with ComCam which resolved by just. re-running the scripts. \n",
       "\n",
       "-AOS test night log-\n",
       "\n",
       "Today was a remarkably successful night. We started by bending M1M3 and capturing images to check signs and effects, which went smoothly. Moving to closed-loop testing, we successfully closed the loop with M2 bending modes, identifying a few sign changes along the way and achieving an impressive record of 1.04 arcsec (or 1.14 on closer inspection). At 1.36 arcsec, the person we guessed indeed sang, fulfilling their promise! At this point, we took multiple images driven by the scheduler with dithering for the pipeline validation team.\n",
       "We also ran the AOS pipelines in RA fast mode, which performed quickly—faster than it takes Merlin to get to bed—but there’s still room for improvement. We achieved focus in g and i-band and took multi-band images. By the end of the night, after we closed the loop with M2 bending modes and hexapod, we hit the sub-arcsecond mark—a remarkable accomplishment, especially as today marks exactly two weeks from first photon. This milestone reflects the hard work and dedication of countless hands on this project, and we’re proud of our progress.\n",
       "That said, Robert, don’t celebrate too soon—we still need more testing time on the telescope!\n",
       "Tonight was spent mostly exercising the loop using few bending modes of the hexapods and M2 (max of 5). Our main success was correcting the astigmatism bringing us down to a FWHM of ~1.1.\n",
       "\n",
       "-TMA issue, Closed Dome Test, and Closing Tests-\n",
       "\n",
       "While we ran BLOCK-T248 with Scheduler1 and disable MTMount CSC we encountered an issue with MTMount elevation mount fault due to an Internal Alarm in the Elevation OMT error (OBS-321). It was recovered without an issue. We found that M1M3 FCU was not working until 02:40am CLT/05:40am UTC, then turned on at that time, so we need to check that. We closed the dome 5am following the regulation, started closing the telescope 05:23amCLT/08:23amUTC and done around 06amCLT/09UTC. While we parked the TMA, we took ComCam daytime calibration (BLOCK-T220).\n",
       "\n",
       "HVAC systems was back to Daytime setup. Set point=11C.\n",
       "\n",
       "Additional observer for the late-shift: Keith B.\n",
       "```"
      ],
      "text/plain": [
       "<IPython.core.display.Markdown object>"
      ]
     },
     "metadata": {},
     "output_type": "display_data"
    },
    {
     "data": {
      "text/markdown": [
       "Telescope Status: TMA parked at El: 90deg (Zenith), Az: -32 with Dome: 328 deg per requested. Locking pins are engaged, OSS ON. PS OFF. All CSCs are set in the states as requested: MTM1M3 DISABLED - lowered and disabled, MTM2 ENABLED in closed loop, MTAOS STANDBY, MTDome DISABLED, MTDomeTrajectory STANDBY, MTMount DISABLED,  MTHexapods in STANDBY w/ cabinets and PXIs powered off, MTPtg ENABLED, MTRotator needs to be back at 0º, in STANDBY w/ cabinets and PXIs powered off. "
      ],
      "text/plain": [
       "<IPython.core.display.Markdown object>"
      ]
     },
     "metadata": {},
     "output_type": "display_data"
    },
    {
     "data": {
      "text/markdown": [
       "*Authors: Kshitija Kelkar, Brian Stalder, Yijung Kang, Sandrine Thomas, Robert Lupton, Chris Walter, Elana Urbach, Josh Meyers, Guillem Megias Homar*"
      ],
      "text/plain": [
       "<IPython.core.display.Markdown object>"
      ]
     },
     "metadata": {},
     "output_type": "display_data"
    },
    {
     "data": {
      "text/markdown": [
       "```\n",
       "The day started with powering up the rotator and the hexapods. The worming up was scheduled for the late afternoon. After checking with Jacques and Brian, we agreed to leave the temperature set point to 11C. Information from Freddy: There is an auxiliary pump close to OSS . Hoses are connected but system is DISABLED (filter case open) and is not related AT ALL with the operation of the telescope. However, the open filter was dripping oil to a unusual rate (we had this information from the beginning of the day, to be aware of). At 2:05pm (CLT) we had a discuttion with Brian and Te-Wei about worming up the hexapods and we decided to do it a bit earlier. While M2Hexapods are warming up, Marina, Gonzalo and I went up to Level 8 for the TMA and Dome Handover. The handover went smoothly. Right after the handover we got confirmation from Petr that we are good to go on HardPoint Breakaway tests (BLOCK-T145), that is started right away. The hardpoint breakaway test was performed on the EUI.\n",
       "After the hardpoint test we ran the bunmp test and during this time the elevation drives failed and David Jimenez recovered the TMA. After bump test we opened the mirror covers to perform a laser tracker test. In the meantime Gabrielle ran the M2 bump test which triggered some alarms (?) which were resolved quickly. Then, we attempted to perform the laser tracker alignment, but the script ran too quickly. The mirror covers got stuck when we tried to close them, but this issue was resolved by running the command again.\n",
       "\n",
       "We experienced a minor earthquake near the start of the late shift ~9:15pm.  After the earthquake, MTM1M3, MTMount, and MTPtg went to fault and we recovered them.  After that, we could not solve the MTDome telemetry issues.  After three hours of troubleshooting, we opted to close the dome and perform closed-dome tests, including the TMA Azimuth and Elevation Brake Distance - 2% Settings tests.  We had an issue with the EIB which we resolved by rebooting the encoder hardware in the EUI.  We then proceeded to run the Block T-227 Dynamic Test at 34 deg, but ran into issues when passing the configuration in the move_p2p.py script.  Our solution was to manually add each p2p position to the script queue and run.  We didn't experience any issues with this approach.  After this completed, we transitioned to park the TMA and end the night.  We lowered the mirror.  The only issue we had when ending the night was when we sent MTM1M3 to disabled by CSC.  We cleared the interlock and put MTM1M3 in disabled.\n",
       "```"
      ],
      "text/plain": [
       "<IPython.core.display.Markdown object>"
      ]
     },
     "metadata": {},
     "output_type": "display_data"
    },
    {
     "data": {
      "text/markdown": [
       "Telescope Status: The final state is:\n",
       "HVAC set point = 11 deg C \n",
       "We kept on the FCU with 300 RPM \n",
       "MTM1M3 DISABLED - lowered and disabled\n",
       "MTM2 ENABLED in closed loop\n",
       "MTAOS STANDBY\n",
       "MTDome DISABLED\n",
       "MTDomeTrajectory STANDBY\n",
       "MTMount DISABLED\n",
       "MTHexapods in STANDBY w/ cabinets and PXIs powered off\n",
       "MTPtg ENABLED\n",
       "MTRotator at 0 deg, in STANDBY w/ cabinets and PXIs powered off\n",
       "\n",
       "\n",
       "TMA is at the zenith position, Az = -32\n",
       "OSS Power ON \n",
       "Power supply OFF \n",
       "Dome position 328 deg\n",
       "Mirror covers are closed \n",
       "Locking pins in lock position "
      ],
      "text/plain": [
       "<IPython.core.display.Markdown object>"
      ]
     },
     "metadata": {},
     "output_type": "display_data"
    },
    {
     "data": {
      "text/markdown": [
       "*Authors: Bruno Quint, Marina Pavlovic, Gonzalo Aravena, Kate Napier, Carlos Morales*"
      ],
      "text/plain": [
       "<IPython.core.display.Markdown object>"
      ]
     },
     "metadata": {},
     "output_type": "display_data"
    }
   ],
   "source": [
    "# Night Report\n",
    "# Display time log\n",
    "allrep.nig_rep.time_log_as_markdown()"
   ]
  },
  {
   "cell_type": "markdown",
   "id": "51fad717-7160-4da9-bdeb-696c92f33c19",
   "metadata": {},
   "source": [
    "## Almanac <font style=\"background-color:green; color:white; font-size:20px\">BETA</font> "
   ]
  },
  {
   "cell_type": "code",
   "execution_count": 8,
   "id": "12",
   "metadata": {
    "jupyter": {
     "source_hidden": true
    }
   },
   "outputs": [
    {
     "data": {
      "text/markdown": [
       "**Almanac for the observing night starting 2024-11-02**"
      ],
      "text/plain": [
       "<IPython.core.display.Markdown object>"
      ]
     },
     "metadata": {},
     "output_type": "display_data"
    },
    {
     "data": {
      "text/html": [
       "<style type=\"text/css\">\n",
       "</style>\n",
       "<table id=\"T_58bfb\">\n",
       "  <thead>\n",
       "  </thead>\n",
       "  <tbody>\n",
       "    <tr>\n",
       "      <th id=\"T_58bfb_level0_row0\" class=\"row_heading level0 row0\" ></th>\n",
       "      <td id=\"T_58bfb_row0_col0\" class=\"data row0 col0\" >(times in UTC)</td>\n",
       "      <td id=\"T_58bfb_row0_col1\" class=\"data row0 col1\" ></td>\n",
       "    </tr>\n",
       "    <tr>\n",
       "      <th id=\"T_58bfb_level0_row1\" class=\"row_heading level0 row1\" >Moon Rise</th>\n",
       "      <td id=\"T_58bfb_row1_col0\" class=\"data row1 col0\" >2024-11-02 10:13:45.292</td>\n",
       "      <td id=\"T_58bfb_row1_col1\" class=\"data row1 col1\" ></td>\n",
       "    </tr>\n",
       "    <tr>\n",
       "      <th id=\"T_58bfb_level0_row2\" class=\"row_heading level0 row2\" >Moon Set</th>\n",
       "      <td id=\"T_58bfb_row2_col0\" class=\"data row2 col0\" >2024-11-01 23:24:38.032</td>\n",
       "      <td id=\"T_58bfb_row2_col1\" class=\"data row2 col1\" ></td>\n",
       "    </tr>\n",
       "    <tr>\n",
       "      <th id=\"T_58bfb_level0_row3\" class=\"row_heading level0 row3\" >Moon Illumination</th>\n",
       "      <td id=\"T_58bfb_row3_col0\" class=\"data row3 col0\" >0%</td>\n",
       "      <td id=\"T_58bfb_row3_col1\" class=\"data row3 col1\" >(% illuminated)</td>\n",
       "    </tr>\n",
       "    <tr>\n",
       "      <th id=\"T_58bfb_level0_row4\" class=\"row_heading level0 row4\" >Astronomical Twilight (morning)</th>\n",
       "      <td id=\"T_58bfb_row4_col0\" class=\"data row4 col0\" >2024-11-02 08:19:39.358</td>\n",
       "      <td id=\"T_58bfb_row4_col1\" class=\"data row4 col1\" >(-18 degrees)</td>\n",
       "    </tr>\n",
       "    <tr>\n",
       "      <th id=\"T_58bfb_level0_row5\" class=\"row_heading level0 row5\" >Astronomical Twilight (evening)</th>\n",
       "      <td id=\"T_58bfb_row5_col0\" class=\"data row5 col0\" >2024-11-02 00:33:05.276</td>\n",
       "      <td id=\"T_58bfb_row5_col1\" class=\"data row5 col1\" >(-18 degrees)</td>\n",
       "    </tr>\n",
       "    <tr>\n",
       "      <th id=\"T_58bfb_level0_row6\" class=\"row_heading level0 row6\" >Solar Midnight</th>\n",
       "      <td id=\"T_58bfb_row6_col0\" class=\"data row6 col0\" >2024-11-02 04:26:22.503</td>\n",
       "      <td id=\"T_58bfb_row6_col1\" class=\"data row6 col1\" ></td>\n",
       "    </tr>\n",
       "    <tr>\n",
       "      <th id=\"T_58bfb_level0_row7\" class=\"row_heading level0 row7\" >Nautical Twilight (morning)</th>\n",
       "      <td id=\"T_58bfb_row7_col0\" class=\"data row7 col0\" >2024-11-02 08:51:02.265</td>\n",
       "      <td id=\"T_58bfb_row7_col1\" class=\"data row7 col1\" >(-12 degrees)</td>\n",
       "    </tr>\n",
       "    <tr>\n",
       "      <th id=\"T_58bfb_level0_row8\" class=\"row_heading level0 row8\" >Nautical Twilight (evening)</th>\n",
       "      <td id=\"T_58bfb_row8_col0\" class=\"data row8 col0\" >2024-11-02 00:01:42.202</td>\n",
       "      <td id=\"T_58bfb_row8_col1\" class=\"data row8 col1\" >(-12 degrees)</td>\n",
       "    </tr>\n",
       "    <tr>\n",
       "      <th id=\"T_58bfb_level0_row9\" class=\"row_heading level0 row9\" >Civil Twilight (morning)</th>\n",
       "      <td id=\"T_58bfb_row9_col0\" class=\"data row9 col0\" >2024-11-02 09:21:16.302</td>\n",
       "      <td id=\"T_58bfb_row9_col1\" class=\"data row9 col1\" >(-6 degrees)</td>\n",
       "    </tr>\n",
       "    <tr>\n",
       "      <th id=\"T_58bfb_level0_row10\" class=\"row_heading level0 row10\" >Civil Twilight (evening)</th>\n",
       "      <td id=\"T_58bfb_row10_col0\" class=\"data row10 col0\" >2024-11-01 23:31:27.941</td>\n",
       "      <td id=\"T_58bfb_row10_col1\" class=\"data row10 col1\" >(-6 degrees)</td>\n",
       "    </tr>\n",
       "    <tr>\n",
       "      <th id=\"T_58bfb_level0_row11\" class=\"row_heading level0 row11\" >Sun Rise</th>\n",
       "      <td id=\"T_58bfb_row11_col0\" class=\"data row11 col0\" >2024-11-02 09:50:41.624</td>\n",
       "      <td id=\"T_58bfb_row11_col1\" class=\"data row11 col1\" ></td>\n",
       "    </tr>\n",
       "    <tr>\n",
       "      <th id=\"T_58bfb_level0_row12\" class=\"row_heading level0 row12\" >Sun Set</th>\n",
       "      <td id=\"T_58bfb_row12_col0\" class=\"data row12 col0\" >2024-11-01 23:02:02.323</td>\n",
       "      <td id=\"T_58bfb_row12_col1\" class=\"data row12 col1\" ></td>\n",
       "    </tr>\n",
       "  </tbody>\n",
       "</table>\n"
      ],
      "text/plain": [
       "<pandas.io.formats.style.Styler at 0x7fa3ce14b290>"
      ]
     },
     "metadata": {},
     "output_type": "display_data"
    }
   ],
   "source": [
    "# Display various almanac values (for moon, sun)\n",
    "#!rep.AlmanacReport().day_obs_report(min_day_obs)\n",
    "allrep.alm_rep.day_obs_report()"
   ]
  },
  {
   "cell_type": "markdown",
   "id": "13",
   "metadata": {},
   "source": [
    "## Summary plots of whole night <font style=\"background-color:yellow; color:black; font-size:20px\">DRAFT</font>"
   ]
  },
  {
   "cell_type": "markdown",
   "id": "14",
   "metadata": {},
   "source": [
    "(content not yet defined in storyboard)"
   ]
  },
  {
   "cell_type": "code",
   "execution_count": 9,
   "id": "15",
   "metadata": {
    "jupyter": {
     "source_hidden": true
    }
   },
   "outputs": [],
   "source": [
    "# Plot Observation (Exposure) gaps\n",
    "# rollup,detail = allsrc.get_observation_gaps()\n",
    "# allrep.plot_observation_gap_detail(detail)"
   ]
  },
  {
   "cell_type": "markdown",
   "id": "9d51f937-37e7-45da-87cb-2319fd76a1cc",
   "metadata": {},
   "source": [
    "## Time Accounting <font style=\"background-color:yellow; color:black; font-size:20px\">DRAFT</font>\n",
    "TODO:\n",
    "- Time-loss for Fault and Weather\n",
    "- SlewTime from TMAEvent (or similar)\n",
    "\n",
    "SlewTime (and probably others) from EFD are only EXPECTED (topic=\"lsst.sal.Scheduler.logevent_target\"), not ACTUAL.\n",
    "To get ACTUAL time, we need to use something like TMAEvent to combine multiple real events into a synthetic event.  See DM-46102.\n"
   ]
  },
  {
   "cell_type": "code",
   "execution_count": 10,
   "id": "16",
   "metadata": {},
   "outputs": [
    {
     "data": {
      "text/html": [
       "<div>\n",
       "<style scoped>\n",
       "    .dataframe tbody tr th:only-of-type {\n",
       "        vertical-align: middle;\n",
       "    }\n",
       "\n",
       "    .dataframe tbody tr th {\n",
       "        vertical-align: top;\n",
       "    }\n",
       "\n",
       "    .dataframe thead th {\n",
       "        text-align: right;\n",
       "    }\n",
       "</style>\n",
       "<table border=\"1\" class=\"dataframe\">\n",
       "  <thead>\n",
       "    <tr style=\"text-align: right;\">\n",
       "      <th></th>\n",
       "      <th>LSSTComCam</th>\n",
       "      <th>LSSTCam</th>\n",
       "    </tr>\n",
       "  </thead>\n",
       "  <tbody>\n",
       "    <tr>\n",
       "      <th>Total Night</th>\n",
       "      <td>7:46:34</td>\n",
       "      <td>7:46:34</td>\n",
       "    </tr>\n",
       "    <tr>\n",
       "      <th>Total Exposure</th>\n",
       "      <td>7:52:36</td>\n",
       "      <td>25:14:34</td>\n",
       "    </tr>\n",
       "    <tr>\n",
       "      <th>Slew time(1)</th>\n",
       "      <td>0:00:00</td>\n",
       "      <td>0:00:00</td>\n",
       "    </tr>\n",
       "    <tr>\n",
       "      <th>Readout time(2)</th>\n",
       "      <td>0:43:53</td>\n",
       "      <td>4:00:18</td>\n",
       "    </tr>\n",
       "    <tr>\n",
       "      <th>Time loss to fault</th>\n",
       "      <td>NA</td>\n",
       "      <td>NA</td>\n",
       "    </tr>\n",
       "    <tr>\n",
       "      <th>Time loss to weather</th>\n",
       "      <td>NA</td>\n",
       "      <td>NA</td>\n",
       "    </tr>\n",
       "    <tr>\n",
       "      <th>Idle time</th>\n",
       "      <td>0:53:57</td>\n",
       "      <td>-17:31:59</td>\n",
       "    </tr>\n",
       "    <tr>\n",
       "      <th>Number of exposures</th>\n",
       "      <td>1145</td>\n",
       "      <td>6269</td>\n",
       "    </tr>\n",
       "    <tr>\n",
       "      <th>Mean readout time</th>\n",
       "      <td>0.000639</td>\n",
       "      <td>0.000639</td>\n",
       "    </tr>\n",
       "    <tr>\n",
       "      <th>Number of slews(1)</th>\n",
       "      <td>0</td>\n",
       "      <td>0</td>\n",
       "    </tr>\n",
       "    <tr>\n",
       "      <th>Mean Slew time(1)</th>\n",
       "      <td>0:00:00</td>\n",
       "      <td>0:00:00</td>\n",
       "    </tr>\n",
       "  </tbody>\n",
       "</table>\n",
       "</div>"
      ],
      "text/plain": [
       "                     LSSTComCam    LSSTCam\n",
       "Total Night             7:46:34    7:46:34\n",
       "Total Exposure          7:52:36   25:14:34\n",
       "Slew time(1)            0:00:00    0:00:00\n",
       "Readout time(2)         0:43:53    4:00:18\n",
       "Time loss to fault           NA         NA\n",
       "Time loss to weather         NA         NA\n",
       "Idle time               0:53:57  -17:31:59\n",
       "Number of exposures        1145       6269\n",
       "Mean readout time      0.000639   0.000639\n",
       "Number of slews(1)            0          0\n",
       "Mean Slew time(1)       0:00:00    0:00:00"
      ]
     },
     "metadata": {},
     "output_type": "display_data"
    }
   ],
   "source": [
    "# Exposure Tally\n",
    "tally = await allsrc.night_tally_observation_gaps()\n",
    "if tally:\n",
    "    display(pd.DataFrame(tally))"
   ]
  },
  {
   "cell_type": "markdown",
   "id": "ad5a2e6c-ca0d-4978-bac9-25c83f90d090",
   "metadata": {},
   "source": [
    "- (1) *Expected* slew time as per Schedular\n",
    "- (2) There is no practical way to get detector read-out time.  A value of 2.3 seconds was inferred from experiments."
   ]
  },
  {
   "cell_type": "markdown",
   "id": "17",
   "metadata": {},
   "source": [
    "## Jira Tickets <font style=\"background-color:green; color:white; font-size:20px\">BETA</font> \n",
    "(Observing Operations - OBS)\n",
    "(TODO: better tickets using Jira API)"
   ]
  },
  {
   "cell_type": "code",
   "execution_count": 11,
   "id": "18",
   "metadata": {
    "jupyter": {
     "source_hidden": true
    }
   },
   "outputs": [
    {
     "data": {
      "text/markdown": [
       "- [obs-321](https://rubinobs.atlassian.net/browse/obs-321)"
      ],
      "text/plain": [
       "<IPython.core.display.Markdown object>"
      ]
     },
     "metadata": {},
     "output_type": "display_data"
    },
    {
     "data": {
      "text/markdown": [
       "- [/rubinobs-lfa-cp/LOVE/OLE/2024/11/04/LOVE_OLE_2024-11-05T04:06:17.057.png](https://s3.cp.lsst.org/rubinobs-lfa-cp/LOVE/OLE/2024/11/04/LOVE_OLE_2024-11-05T04:06:17.057.png)"
      ],
      "text/plain": [
       "<IPython.core.display.Markdown object>"
      ]
     },
     "metadata": {},
     "output_type": "display_data"
    },
    {
     "data": {
      "text/markdown": [
       "- [OBS-643](https://rubinobs.atlassian.net/browse/OBS-643)"
      ],
      "text/plain": [
       "<IPython.core.display.Markdown object>"
      ]
     },
     "metadata": {},
     "output_type": "display_data"
    },
    {
     "data": {
      "text/markdown": [
       "- [OBS-620](https://rubinobs.atlassian.net/browse/OBS-620)"
      ],
      "text/plain": [
       "<IPython.core.display.Markdown object>"
      ]
     },
     "metadata": {},
     "output_type": "display_data"
    },
    {
     "data": {
      "text/markdown": [
       "- [OBS-627](https://rubinobs.atlassian.net/browse/OBS-627)"
      ],
      "text/plain": [
       "<IPython.core.display.Markdown object>"
      ]
     },
     "metadata": {},
     "output_type": "display_data"
    },
    {
     "data": {
      "text/markdown": [
       "- [OBS-648](https://rubinobs.atlassian.net/browse/OBS-648)"
      ],
      "text/plain": [
       "<IPython.core.display.Markdown object>"
      ]
     },
     "metadata": {},
     "output_type": "display_data"
    },
    {
     "data": {
      "text/markdown": [
       "- [OBS-649](https://rubinobs.atlassian.net/browse/OBS-649)"
      ],
      "text/plain": [
       "<IPython.core.display.Markdown object>"
      ]
     },
     "metadata": {},
     "output_type": "display_data"
    },
    {
     "data": {
      "text/markdown": [
       "- [OBS-646](https://rubinobs.atlassian.net/browse/OBS-646)"
      ],
      "text/plain": [
       "<IPython.core.display.Markdown object>"
      ]
     },
     "metadata": {},
     "output_type": "display_data"
    },
    {
     "data": {
      "text/markdown": [
       "- [OBS-321](https://rubinobs.atlassian.net/browse/OBS-321)"
      ],
      "text/plain": [
       "<IPython.core.display.Markdown object>"
      ]
     },
     "metadata": {},
     "output_type": "display_data"
    },
    {
     "data": {
      "text/markdown": [
       "- [obs-611](https://rubinobs.atlassian.net/browse/obs-611)"
      ],
      "text/plain": [
       "<IPython.core.display.Markdown object>"
      ]
     },
     "metadata": {},
     "output_type": "display_data"
    },
    {
     "data": {
      "text/markdown": [
       "- [OBS-641](https://rubinobs.atlassian.net/browse/OBS-641)"
      ],
      "text/plain": [
       "<IPython.core.display.Markdown object>"
      ]
     },
     "metadata": {},
     "output_type": "display_data"
    },
    {
     "data": {
      "text/markdown": [
       "- [/rubinobs-lfa-cp/LOVE/OLE/2024/11/03/LOVE_OLE_2024-11-03T21:41:04.106.png](https://s3.cp.lsst.org/rubinobs-lfa-cp/LOVE/OLE/2024/11/03/LOVE_OLE_2024-11-03T21:41:04.106.png)"
      ],
      "text/plain": [
       "<IPython.core.display.Markdown object>"
      ]
     },
     "metadata": {},
     "output_type": "display_data"
    },
    {
     "data": {
      "text/markdown": [
       "- [obs-647](https://rubinobs.atlassian.net/browse/obs-647)"
      ],
      "text/plain": [
       "<IPython.core.display.Markdown object>"
      ]
     },
     "metadata": {},
     "output_type": "display_data"
    }
   ],
   "source": [
    "if allsrc.urls:\n",
    "    for url in allsrc.urls:\n",
    "        md(f\"- {mdpathlink(url)}\")"
   ]
  },
  {
   "cell_type": "code",
   "execution_count": 12,
   "id": "19",
   "metadata": {
    "jupyter": {
     "source_hidden": true
    }
   },
   "outputs": [
    {
     "data": {
      "text/markdown": [
       "#### Nightly Jira BLOCKs\n",
       "- 20241103\n",
       "    - [testCycle/BLOCK-R126](https://rubinobs.atlassian.net/projects/BLOCK?selectedItem=com.atlassian.plugins.atlassian-connect-plugin:com.kanoah.test-manager__main-project-page#!/testCycle/BLOCK-R126)\n",
       "- 20241102\n",
       "    - [testCycle/BLOCK-R125](https://rubinobs.atlassian.net/projects/BLOCK?selectedItem=com.atlassian.plugins.atlassian-connect-plugin:com.kanoah.test-manager__main-project-page#!/testCycle/BLOCK-R125)"
      ],
      "text/plain": [
       "<IPython.core.display.Markdown object>"
      ]
     },
     "metadata": {},
     "output_type": "display_data"
    }
   ],
   "source": [
    "# Display Jira BLOCKS\n",
    "front = \"https://rubinobs.atlassian.net/projects/BLOCK?selectedItem=com.atlassian.plugins.atlassian-connect-plugin:com.kanoah.test-manager__main-project-page#!/\"\n",
    "tickets = allsrc.nig_src.nightly_tickets()\n",
    "if tickets:\n",
    "    mdstr = \"#### Nightly Jira BLOCKs\"\n",
    "    for day, url_list in tickets.items():\n",
    "        mdstr += f\"\\n- {day}\"\n",
    "        for ticket_url in url_list:\n",
    "            mdstr += f'\\n    - [{ticket_url.replace(front,\"\")}]({ticket_url})'\n",
    "    md(mdstr)\n",
    "else:\n",
    "    endpoint_url = allsrc.nig_src.status[\"reports\"][\"endpoint_url\"]\n",
    "    md(f\"No tickets found using: [API Data]({endpoint_url}) in `confluence_url`.\")"
   ]
  },
  {
   "cell_type": "markdown",
   "id": "20",
   "metadata": {},
   "source": [
    "## BLOCKS Observed <font style=\"background-color:yellow; color:black; font-size:20px\">DRAFT</font>\n",
    "(TODO: BLOCKS observed) "
   ]
  },
  {
   "cell_type": "markdown",
   "id": "71772e8d-658d-497a-b391-5996066f401a",
   "metadata": {},
   "source": [
    "## Data Log <font style=\"background-color:yellow; color:black; font-size:20px\">DRAFT</font>"
   ]
  },
  {
   "cell_type": "markdown",
   "id": "21",
   "metadata": {},
   "source": [
    "- NOTE: *modified all_sources.py:uniform_field_counts()*\n",
    "- NOTE: Each tally count is now a link to a detailed table of exposures."
   ]
  },
  {
   "cell_type": "code",
   "execution_count": 13,
   "id": "1b509665-d538-4bd9-a93c-22c3ec1ded12",
   "metadata": {},
   "outputs": [
    {
     "data": {
      "text/markdown": [
       "**LSSTComCamSim: 0 total exposures**"
      ],
      "text/plain": [
       "<IPython.core.display.Markdown object>"
      ]
     },
     "metadata": {},
     "output_type": "display_data"
    },
    {
     "name": "stdout",
     "output_type": "stream",
     "text": [
      "Observation Type\n"
     ]
    },
    {
     "data": {
      "text/html": [
       "<div>\n",
       "<style scoped>\n",
       "    .dataframe tbody tr th:only-of-type {\n",
       "        vertical-align: middle;\n",
       "    }\n",
       "\n",
       "    .dataframe tbody tr th {\n",
       "        vertical-align: top;\n",
       "    }\n",
       "\n",
       "    .dataframe thead th {\n",
       "        text-align: right;\n",
       "    }\n",
       "</style>\n",
       "<table border=\"1\" class=\"dataframe\">\n",
       "  <thead>\n",
       "    <tr style=\"text-align: right;\">\n",
       "      <th></th>\n",
       "    </tr>\n",
       "  </thead>\n",
       "  <tbody>\n",
       "  </tbody>\n",
       "</table>\n",
       "</div>"
      ],
      "text/plain": [
       "Empty DataFrame\n",
       "Columns: []\n",
       "Index: []"
      ]
     },
     "metadata": {},
     "output_type": "display_data"
    },
    {
     "name": "stdout",
     "output_type": "stream",
     "text": [
      "Observation Reason\n"
     ]
    },
    {
     "data": {
      "text/html": [
       "<div>\n",
       "<style scoped>\n",
       "    .dataframe tbody tr th:only-of-type {\n",
       "        vertical-align: middle;\n",
       "    }\n",
       "\n",
       "    .dataframe tbody tr th {\n",
       "        vertical-align: top;\n",
       "    }\n",
       "\n",
       "    .dataframe thead th {\n",
       "        text-align: right;\n",
       "    }\n",
       "</style>\n",
       "<table border=\"1\" class=\"dataframe\">\n",
       "  <thead>\n",
       "    <tr style=\"text-align: right;\">\n",
       "      <th></th>\n",
       "    </tr>\n",
       "  </thead>\n",
       "  <tbody>\n",
       "  </tbody>\n",
       "</table>\n",
       "</div>"
      ],
      "text/plain": [
       "Empty DataFrame\n",
       "Columns: []\n",
       "Index: []"
      ]
     },
     "metadata": {},
     "output_type": "display_data"
    },
    {
     "name": "stdout",
     "output_type": "stream",
     "text": [
      "Science Program\n"
     ]
    },
    {
     "data": {
      "text/html": [
       "<div>\n",
       "<style scoped>\n",
       "    .dataframe tbody tr th:only-of-type {\n",
       "        vertical-align: middle;\n",
       "    }\n",
       "\n",
       "    .dataframe tbody tr th {\n",
       "        vertical-align: top;\n",
       "    }\n",
       "\n",
       "    .dataframe thead th {\n",
       "        text-align: right;\n",
       "    }\n",
       "</style>\n",
       "<table border=\"1\" class=\"dataframe\">\n",
       "  <thead>\n",
       "    <tr style=\"text-align: right;\">\n",
       "      <th></th>\n",
       "    </tr>\n",
       "  </thead>\n",
       "  <tbody>\n",
       "  </tbody>\n",
       "</table>\n",
       "</div>"
      ],
      "text/plain": [
       "Empty DataFrame\n",
       "Columns: []\n",
       "Index: []"
      ]
     },
     "metadata": {},
     "output_type": "display_data"
    },
    {
     "data": {
      "text/markdown": [
       "**LATISS: 0 total exposures**"
      ],
      "text/plain": [
       "<IPython.core.display.Markdown object>"
      ]
     },
     "metadata": {},
     "output_type": "display_data"
    },
    {
     "name": "stdout",
     "output_type": "stream",
     "text": [
      "Observation Type\n"
     ]
    },
    {
     "data": {
      "text/html": [
       "<div>\n",
       "<style scoped>\n",
       "    .dataframe tbody tr th:only-of-type {\n",
       "        vertical-align: middle;\n",
       "    }\n",
       "\n",
       "    .dataframe tbody tr th {\n",
       "        vertical-align: top;\n",
       "    }\n",
       "\n",
       "    .dataframe thead th {\n",
       "        text-align: right;\n",
       "    }\n",
       "</style>\n",
       "<table border=\"1\" class=\"dataframe\">\n",
       "  <thead>\n",
       "    <tr style=\"text-align: right;\">\n",
       "      <th></th>\n",
       "    </tr>\n",
       "  </thead>\n",
       "  <tbody>\n",
       "  </tbody>\n",
       "</table>\n",
       "</div>"
      ],
      "text/plain": [
       "Empty DataFrame\n",
       "Columns: []\n",
       "Index: []"
      ]
     },
     "metadata": {},
     "output_type": "display_data"
    },
    {
     "name": "stdout",
     "output_type": "stream",
     "text": [
      "Observation Reason\n"
     ]
    },
    {
     "data": {
      "text/html": [
       "<div>\n",
       "<style scoped>\n",
       "    .dataframe tbody tr th:only-of-type {\n",
       "        vertical-align: middle;\n",
       "    }\n",
       "\n",
       "    .dataframe tbody tr th {\n",
       "        vertical-align: top;\n",
       "    }\n",
       "\n",
       "    .dataframe thead th {\n",
       "        text-align: right;\n",
       "    }\n",
       "</style>\n",
       "<table border=\"1\" class=\"dataframe\">\n",
       "  <thead>\n",
       "    <tr style=\"text-align: right;\">\n",
       "      <th></th>\n",
       "    </tr>\n",
       "  </thead>\n",
       "  <tbody>\n",
       "  </tbody>\n",
       "</table>\n",
       "</div>"
      ],
      "text/plain": [
       "Empty DataFrame\n",
       "Columns: []\n",
       "Index: []"
      ]
     },
     "metadata": {},
     "output_type": "display_data"
    },
    {
     "name": "stdout",
     "output_type": "stream",
     "text": [
      "Science Program\n"
     ]
    },
    {
     "data": {
      "text/html": [
       "<div>\n",
       "<style scoped>\n",
       "    .dataframe tbody tr th:only-of-type {\n",
       "        vertical-align: middle;\n",
       "    }\n",
       "\n",
       "    .dataframe tbody tr th {\n",
       "        vertical-align: top;\n",
       "    }\n",
       "\n",
       "    .dataframe thead th {\n",
       "        text-align: right;\n",
       "    }\n",
       "</style>\n",
       "<table border=\"1\" class=\"dataframe\">\n",
       "  <thead>\n",
       "    <tr style=\"text-align: right;\">\n",
       "      <th></th>\n",
       "    </tr>\n",
       "  </thead>\n",
       "  <tbody>\n",
       "  </tbody>\n",
       "</table>\n",
       "</div>"
      ],
      "text/plain": [
       "Empty DataFrame\n",
       "Columns: []\n",
       "Index: []"
      ]
     },
     "metadata": {},
     "output_type": "display_data"
    },
    {
     "data": {
      "text/markdown": [
       "**LSSTComCam: 1145 total exposures**"
      ],
      "text/plain": [
       "<IPython.core.display.Markdown object>"
      ]
     },
     "metadata": {},
     "output_type": "display_data"
    },
    {
     "name": "stdout",
     "output_type": "stream",
     "text": [
      "Observation Type\n"
     ]
    },
    {
     "data": {
      "text/html": [
       "<div>\n",
       "<style scoped>\n",
       "    .dataframe tbody tr th:only-of-type {\n",
       "        vertical-align: middle;\n",
       "    }\n",
       "\n",
       "    .dataframe tbody tr th {\n",
       "        vertical-align: top;\n",
       "    }\n",
       "\n",
       "    .dataframe thead th {\n",
       "        text-align: right;\n",
       "    }\n",
       "</style>\n",
       "<table border=\"1\" class=\"dataframe\">\n",
       "  <thead>\n",
       "    <tr style=\"text-align: right;\">\n",
       "      <th></th>\n",
       "      <th>good</th>\n",
       "      <th>questionable</th>\n",
       "      <th>junk</th>\n",
       "      <th>unknown</th>\n",
       "      <th>total</th>\n",
       "    </tr>\n",
       "  </thead>\n",
       "  <tbody>\n",
       "    <tr>\n",
       "      <th>dark</th>\n",
       "      <td>1</td>\n",
       "      <td>0</td>\n",
       "      <td>0</td>\n",
       "      <td>91</td>\n",
       "      <td>92</td>\n",
       "    </tr>\n",
       "    <tr>\n",
       "      <th>cwfs</th>\n",
       "      <td>5</td>\n",
       "      <td>0</td>\n",
       "      <td>5</td>\n",
       "      <td>431</td>\n",
       "      <td>441</td>\n",
       "    </tr>\n",
       "    <tr>\n",
       "      <th>bias</th>\n",
       "      <td>0</td>\n",
       "      <td>0</td>\n",
       "      <td>0</td>\n",
       "      <td>159</td>\n",
       "      <td>159</td>\n",
       "    </tr>\n",
       "    <tr>\n",
       "      <th>focus</th>\n",
       "      <td>1</td>\n",
       "      <td>0</td>\n",
       "      <td>0</td>\n",
       "      <td>35</td>\n",
       "      <td>36</td>\n",
       "    </tr>\n",
       "    <tr>\n",
       "      <th>acq</th>\n",
       "      <td>11</td>\n",
       "      <td>0</td>\n",
       "      <td>4</td>\n",
       "      <td>316</td>\n",
       "      <td>331</td>\n",
       "    </tr>\n",
       "    <tr>\n",
       "      <th>science</th>\n",
       "      <td>3</td>\n",
       "      <td>1</td>\n",
       "      <td>0</td>\n",
       "      <td>82</td>\n",
       "      <td>86</td>\n",
       "    </tr>\n",
       "  </tbody>\n",
       "</table>\n",
       "</div>"
      ],
      "text/plain": [
       "         good  questionable  junk  unknown  total\n",
       "dark        1             0     0       91     92\n",
       "cwfs        5             0     5      431    441\n",
       "bias        0             0     0      159    159\n",
       "focus       1             0     0       35     36\n",
       "acq        11             0     4      316    331\n",
       "science     3             1     0       82     86"
      ]
     },
     "metadata": {},
     "output_type": "display_data"
    },
    {
     "name": "stdout",
     "output_type": "stream",
     "text": [
      "Observation Reason\n"
     ]
    },
    {
     "data": {
      "text/html": [
       "<div>\n",
       "<style scoped>\n",
       "    .dataframe tbody tr th:only-of-type {\n",
       "        vertical-align: middle;\n",
       "    }\n",
       "\n",
       "    .dataframe tbody tr th {\n",
       "        vertical-align: top;\n",
       "    }\n",
       "\n",
       "    .dataframe thead th {\n",
       "        text-align: right;\n",
       "    }\n",
       "</style>\n",
       "<table border=\"1\" class=\"dataframe\">\n",
       "  <thead>\n",
       "    <tr style=\"text-align: right;\">\n",
       "      <th></th>\n",
       "      <th>good</th>\n",
       "      <th>questionable</th>\n",
       "      <th>junk</th>\n",
       "      <th>unknown</th>\n",
       "      <th>total</th>\n",
       "    </tr>\n",
       "  </thead>\n",
       "  <tbody>\n",
       "    <tr>\n",
       "      <th>extra_alignment_with_laser</th>\n",
       "      <td>0</td>\n",
       "      <td>0</td>\n",
       "      <td>0</td>\n",
       "      <td>19</td>\n",
       "      <td>19</td>\n",
       "    </tr>\n",
       "    <tr>\n",
       "      <th>comcam_manual_alignment</th>\n",
       "      <td>3</td>\n",
       "      <td>0</td>\n",
       "      <td>0</td>\n",
       "      <td>2</td>\n",
       "      <td>5</td>\n",
       "    </tr>\n",
       "    <tr>\n",
       "      <th>comcam-usdf-checkout</th>\n",
       "      <td>0</td>\n",
       "      <td>0</td>\n",
       "      <td>0</td>\n",
       "      <td>70</td>\n",
       "      <td>70</td>\n",
       "    </tr>\n",
       "    <tr>\n",
       "      <th>infocus_alignment_with_laser</th>\n",
       "      <td>0</td>\n",
       "      <td>0</td>\n",
       "      <td>0</td>\n",
       "      <td>18</td>\n",
       "      <td>18</td>\n",
       "    </tr>\n",
       "    <tr>\n",
       "      <th>object</th>\n",
       "      <td>2</td>\n",
       "      <td>0</td>\n",
       "      <td>0</td>\n",
       "      <td>28</td>\n",
       "      <td>30</td>\n",
       "    </tr>\n",
       "    <tr>\n",
       "      <th>intra_spherical_alignment</th>\n",
       "      <td>0</td>\n",
       "      <td>0</td>\n",
       "      <td>0</td>\n",
       "      <td>16</td>\n",
       "      <td>16</td>\n",
       "    </tr>\n",
       "    <tr>\n",
       "      <th>acq</th>\n",
       "      <td>4</td>\n",
       "      <td>0</td>\n",
       "      <td>1</td>\n",
       "      <td>47</td>\n",
       "      <td>52</td>\n",
       "    </tr>\n",
       "    <tr>\n",
       "      <th>intra_focus_alignment_laser</th>\n",
       "      <td>0</td>\n",
       "      <td>0</td>\n",
       "      <td>0</td>\n",
       "      <td>5</td>\n",
       "      <td>5</td>\n",
       "    </tr>\n",
       "    <tr>\n",
       "      <th>infocus_spherical_alignment</th>\n",
       "      <td>0</td>\n",
       "      <td>0</td>\n",
       "      <td>0</td>\n",
       "      <td>16</td>\n",
       "      <td>16</td>\n",
       "    </tr>\n",
       "    <tr>\n",
       "      <th>intra</th>\n",
       "      <td>1</td>\n",
       "      <td>0</td>\n",
       "      <td>1</td>\n",
       "      <td>93</td>\n",
       "      <td>95</td>\n",
       "    </tr>\n",
       "    <tr>\n",
       "      <th>check</th>\n",
       "      <td>0</td>\n",
       "      <td>0</td>\n",
       "      <td>0</td>\n",
       "      <td>9</td>\n",
       "      <td>9</td>\n",
       "    </tr>\n",
       "    <tr>\n",
       "      <th>infocus_sitcom-826</th>\n",
       "      <td>0</td>\n",
       "      <td>0</td>\n",
       "      <td>0</td>\n",
       "      <td>51</td>\n",
       "      <td>51</td>\n",
       "    </tr>\n",
       "    <tr>\n",
       "      <th>extra_sitcom-826</th>\n",
       "      <td>0</td>\n",
       "      <td>0</td>\n",
       "      <td>1</td>\n",
       "      <td>53</td>\n",
       "      <td>54</td>\n",
       "    </tr>\n",
       "    <tr>\n",
       "      <th>infocus_spherical_alignment_laser</th>\n",
       "      <td>2</td>\n",
       "      <td>0</td>\n",
       "      <td>0</td>\n",
       "      <td>14</td>\n",
       "      <td>16</td>\n",
       "    </tr>\n",
       "    <tr>\n",
       "      <th>science</th>\n",
       "      <td>1</td>\n",
       "      <td>1</td>\n",
       "      <td>0</td>\n",
       "      <td>54</td>\n",
       "      <td>56</td>\n",
       "    </tr>\n",
       "    <tr>\n",
       "      <th>extra_spherical_alignment_laser</th>\n",
       "      <td>2</td>\n",
       "      <td>0</td>\n",
       "      <td>0</td>\n",
       "      <td>14</td>\n",
       "      <td>16</td>\n",
       "    </tr>\n",
       "    <tr>\n",
       "      <th>intra_reference_wavefront</th>\n",
       "      <td>0</td>\n",
       "      <td>0</td>\n",
       "      <td>0</td>\n",
       "      <td>15</td>\n",
       "      <td>15</td>\n",
       "    </tr>\n",
       "    <tr>\n",
       "      <th>extra_reference_wavefront</th>\n",
       "      <td>0</td>\n",
       "      <td>0</td>\n",
       "      <td>1</td>\n",
       "      <td>14</td>\n",
       "      <td>15</td>\n",
       "    </tr>\n",
       "    <tr>\n",
       "      <th>extra</th>\n",
       "      <td>0</td>\n",
       "      <td>0</td>\n",
       "      <td>1</td>\n",
       "      <td>92</td>\n",
       "      <td>93</td>\n",
       "    </tr>\n",
       "    <tr>\n",
       "      <th>infocus_reference_wavefront</th>\n",
       "      <td>0</td>\n",
       "      <td>0</td>\n",
       "      <td>1</td>\n",
       "      <td>13</td>\n",
       "      <td>14</td>\n",
       "    </tr>\n",
       "    <tr>\n",
       "      <th>bias</th>\n",
       "      <td>0</td>\n",
       "      <td>0</td>\n",
       "      <td>0</td>\n",
       "      <td>1</td>\n",
       "      <td>1</td>\n",
       "    </tr>\n",
       "    <tr>\n",
       "      <th>focus_sweep_cam_dry</th>\n",
       "      <td>0</td>\n",
       "      <td>0</td>\n",
       "      <td>0</td>\n",
       "      <td>9</td>\n",
       "      <td>9</td>\n",
       "    </tr>\n",
       "    <tr>\n",
       "      <th>infocus_focus_alignment_laser</th>\n",
       "      <td>0</td>\n",
       "      <td>0</td>\n",
       "      <td>0</td>\n",
       "      <td>5</td>\n",
       "      <td>5</td>\n",
       "    </tr>\n",
       "    <tr>\n",
       "      <th>extra_focus_alignment_laser</th>\n",
       "      <td>0</td>\n",
       "      <td>0</td>\n",
       "      <td>0</td>\n",
       "      <td>5</td>\n",
       "      <td>5</td>\n",
       "    </tr>\n",
       "    <tr>\n",
       "      <th>comcam-daily-calibration</th>\n",
       "      <td>0</td>\n",
       "      <td>0</td>\n",
       "      <td>0</td>\n",
       "      <td>176</td>\n",
       "      <td>176</td>\n",
       "    </tr>\n",
       "    <tr>\n",
       "      <th>focus_sweep_cam_dz</th>\n",
       "      <td>1</td>\n",
       "      <td>0</td>\n",
       "      <td>0</td>\n",
       "      <td>26</td>\n",
       "      <td>27</td>\n",
       "    </tr>\n",
       "    <tr>\n",
       "      <th>comcam_twilight_flat</th>\n",
       "      <td>3</td>\n",
       "      <td>0</td>\n",
       "      <td>0</td>\n",
       "      <td>51</td>\n",
       "      <td>54</td>\n",
       "    </tr>\n",
       "    <tr>\n",
       "      <th>intra_spherical_alignment_laser</th>\n",
       "      <td>2</td>\n",
       "      <td>0</td>\n",
       "      <td>0</td>\n",
       "      <td>14</td>\n",
       "      <td>16</td>\n",
       "    </tr>\n",
       "    <tr>\n",
       "      <th>intra_alignment_with_laser</th>\n",
       "      <td>0</td>\n",
       "      <td>0</td>\n",
       "      <td>0</td>\n",
       "      <td>22</td>\n",
       "      <td>22</td>\n",
       "    </tr>\n",
       "    <tr>\n",
       "      <th>infocus</th>\n",
       "      <td>0</td>\n",
       "      <td>0</td>\n",
       "      <td>2</td>\n",
       "      <td>93</td>\n",
       "      <td>95</td>\n",
       "    </tr>\n",
       "    <tr>\n",
       "      <th>intra_sitcom-826</th>\n",
       "      <td>0</td>\n",
       "      <td>0</td>\n",
       "      <td>1</td>\n",
       "      <td>53</td>\n",
       "      <td>54</td>\n",
       "    </tr>\n",
       "    <tr>\n",
       "      <th>extra_spherical_alignment</th>\n",
       "      <td>0</td>\n",
       "      <td>0</td>\n",
       "      <td>0</td>\n",
       "      <td>16</td>\n",
       "      <td>16</td>\n",
       "    </tr>\n",
       "  </tbody>\n",
       "</table>\n",
       "</div>"
      ],
      "text/plain": [
       "                                   good  questionable  junk  unknown  total\n",
       "extra_alignment_with_laser            0             0     0       19     19\n",
       "comcam_manual_alignment               3             0     0        2      5\n",
       "comcam-usdf-checkout                  0             0     0       70     70\n",
       "infocus_alignment_with_laser          0             0     0       18     18\n",
       "object                                2             0     0       28     30\n",
       "intra_spherical_alignment             0             0     0       16     16\n",
       "acq                                   4             0     1       47     52\n",
       "intra_focus_alignment_laser           0             0     0        5      5\n",
       "infocus_spherical_alignment           0             0     0       16     16\n",
       "intra                                 1             0     1       93     95\n",
       "check                                 0             0     0        9      9\n",
       "infocus_sitcom-826                    0             0     0       51     51\n",
       "extra_sitcom-826                      0             0     1       53     54\n",
       "infocus_spherical_alignment_laser     2             0     0       14     16\n",
       "science                               1             1     0       54     56\n",
       "extra_spherical_alignment_laser       2             0     0       14     16\n",
       "intra_reference_wavefront             0             0     0       15     15\n",
       "extra_reference_wavefront             0             0     1       14     15\n",
       "extra                                 0             0     1       92     93\n",
       "infocus_reference_wavefront           0             0     1       13     14\n",
       "bias                                  0             0     0        1      1\n",
       "focus_sweep_cam_dry                   0             0     0        9      9\n",
       "infocus_focus_alignment_laser         0             0     0        5      5\n",
       "extra_focus_alignment_laser           0             0     0        5      5\n",
       "comcam-daily-calibration              0             0     0      176    176\n",
       "focus_sweep_cam_dz                    1             0     0       26     27\n",
       "comcam_twilight_flat                  3             0     0       51     54\n",
       "intra_spherical_alignment_laser       2             0     0       14     16\n",
       "intra_alignment_with_laser            0             0     0       22     22\n",
       "infocus                               0             0     2       93     95\n",
       "intra_sitcom-826                      0             0     1       53     54\n",
       "extra_spherical_alignment             0             0     0       16     16"
      ]
     },
     "metadata": {},
     "output_type": "display_data"
    },
    {
     "name": "stdout",
     "output_type": "stream",
     "text": [
      "Science Program\n"
     ]
    },
    {
     "data": {
      "text/html": [
       "<div>\n",
       "<style scoped>\n",
       "    .dataframe tbody tr th:only-of-type {\n",
       "        vertical-align: middle;\n",
       "    }\n",
       "\n",
       "    .dataframe tbody tr th {\n",
       "        vertical-align: top;\n",
       "    }\n",
       "\n",
       "    .dataframe thead th {\n",
       "        text-align: right;\n",
       "    }\n",
       "</style>\n",
       "<table border=\"1\" class=\"dataframe\">\n",
       "  <thead>\n",
       "    <tr style=\"text-align: right;\">\n",
       "      <th></th>\n",
       "      <th>good</th>\n",
       "      <th>questionable</th>\n",
       "      <th>junk</th>\n",
       "      <th>unknown</th>\n",
       "      <th>total</th>\n",
       "    </tr>\n",
       "  </thead>\n",
       "  <tbody>\n",
       "    <tr>\n",
       "      <th>BLOCK-T150</th>\n",
       "      <td>0</td>\n",
       "      <td>0</td>\n",
       "      <td>0</td>\n",
       "      <td>45</td>\n",
       "      <td>45</td>\n",
       "    </tr>\n",
       "    <tr>\n",
       "      <th>BLOCK-T81</th>\n",
       "      <td>0</td>\n",
       "      <td>0</td>\n",
       "      <td>2</td>\n",
       "      <td>25</td>\n",
       "      <td>27</td>\n",
       "    </tr>\n",
       "    <tr>\n",
       "      <th>PP-SURVEY</th>\n",
       "      <td>1</td>\n",
       "      <td>1</td>\n",
       "      <td>0</td>\n",
       "      <td>54</td>\n",
       "      <td>56</td>\n",
       "    </tr>\n",
       "    <tr>\n",
       "      <th>unknown</th>\n",
       "      <td>5</td>\n",
       "      <td>0</td>\n",
       "      <td>0</td>\n",
       "      <td>53</td>\n",
       "      <td>58</td>\n",
       "    </tr>\n",
       "    <tr>\n",
       "      <th>BLOCK-T215</th>\n",
       "      <td>3</td>\n",
       "      <td>0</td>\n",
       "      <td>0</td>\n",
       "      <td>51</td>\n",
       "      <td>54</td>\n",
       "    </tr>\n",
       "    <tr>\n",
       "      <th>BLOCK-T60</th>\n",
       "      <td>6</td>\n",
       "      <td>0</td>\n",
       "      <td>1</td>\n",
       "      <td>123</td>\n",
       "      <td>130</td>\n",
       "    </tr>\n",
       "    <tr>\n",
       "      <th>BLOCK-T251</th>\n",
       "      <td>0</td>\n",
       "      <td>0</td>\n",
       "      <td>0</td>\n",
       "      <td>7</td>\n",
       "      <td>7</td>\n",
       "    </tr>\n",
       "    <tr>\n",
       "      <th>BLOCK-T75</th>\n",
       "      <td>1</td>\n",
       "      <td>0</td>\n",
       "      <td>0</td>\n",
       "      <td>0</td>\n",
       "      <td>1</td>\n",
       "    </tr>\n",
       "    <tr>\n",
       "      <th>BLOCK-T249</th>\n",
       "      <td>3</td>\n",
       "      <td>0</td>\n",
       "      <td>2</td>\n",
       "      <td>177</td>\n",
       "      <td>182</td>\n",
       "    </tr>\n",
       "    <tr>\n",
       "      <th>BLOCK-T94</th>\n",
       "      <td>0</td>\n",
       "      <td>0</td>\n",
       "      <td>0</td>\n",
       "      <td>43</td>\n",
       "      <td>43</td>\n",
       "    </tr>\n",
       "    <tr>\n",
       "      <th>BLOCK-T88</th>\n",
       "      <td>0</td>\n",
       "      <td>0</td>\n",
       "      <td>0</td>\n",
       "      <td>22</td>\n",
       "      <td>22</td>\n",
       "    </tr>\n",
       "    <tr>\n",
       "      <th>BLOCK-T246</th>\n",
       "      <td>0</td>\n",
       "      <td>0</td>\n",
       "      <td>0</td>\n",
       "      <td>70</td>\n",
       "      <td>70</td>\n",
       "    </tr>\n",
       "    <tr>\n",
       "      <th>BLOCK-T220</th>\n",
       "      <td>0</td>\n",
       "      <td>0</td>\n",
       "      <td>0</td>\n",
       "      <td>176</td>\n",
       "      <td>176</td>\n",
       "    </tr>\n",
       "    <tr>\n",
       "      <th>BLOCK-T92</th>\n",
       "      <td>1</td>\n",
       "      <td>0</td>\n",
       "      <td>0</td>\n",
       "      <td>132</td>\n",
       "      <td>133</td>\n",
       "    </tr>\n",
       "    <tr>\n",
       "      <th>BLOCK-T252</th>\n",
       "      <td>1</td>\n",
       "      <td>0</td>\n",
       "      <td>4</td>\n",
       "      <td>136</td>\n",
       "      <td>141</td>\n",
       "    </tr>\n",
       "  </tbody>\n",
       "</table>\n",
       "</div>"
      ],
      "text/plain": [
       "            good  questionable  junk  unknown  total\n",
       "BLOCK-T150     0             0     0       45     45\n",
       "BLOCK-T81      0             0     2       25     27\n",
       "PP-SURVEY      1             1     0       54     56\n",
       "unknown        5             0     0       53     58\n",
       "BLOCK-T215     3             0     0       51     54\n",
       "BLOCK-T60      6             0     1      123    130\n",
       "BLOCK-T251     0             0     0        7      7\n",
       "BLOCK-T75      1             0     0        0      1\n",
       "BLOCK-T249     3             0     2      177    182\n",
       "BLOCK-T94      0             0     0       43     43\n",
       "BLOCK-T88      0             0     0       22     22\n",
       "BLOCK-T246     0             0     0       70     70\n",
       "BLOCK-T220     0             0     0      176    176\n",
       "BLOCK-T92      1             0     0      132    133\n",
       "BLOCK-T252     1             0     4      136    141"
      ]
     },
     "metadata": {},
     "output_type": "display_data"
    },
    {
     "data": {
      "text/markdown": [
       "**LSSTCam: 6269 total exposures**"
      ],
      "text/plain": [
       "<IPython.core.display.Markdown object>"
      ]
     },
     "metadata": {},
     "output_type": "display_data"
    },
    {
     "name": "stdout",
     "output_type": "stream",
     "text": [
      "Observation Type\n"
     ]
    },
    {
     "data": {
      "text/html": [
       "<div>\n",
       "<style scoped>\n",
       "    .dataframe tbody tr th:only-of-type {\n",
       "        vertical-align: middle;\n",
       "    }\n",
       "\n",
       "    .dataframe tbody tr th {\n",
       "        vertical-align: top;\n",
       "    }\n",
       "\n",
       "    .dataframe thead th {\n",
       "        text-align: right;\n",
       "    }\n",
       "</style>\n",
       "<table border=\"1\" class=\"dataframe\">\n",
       "  <thead>\n",
       "    <tr style=\"text-align: right;\">\n",
       "      <th></th>\n",
       "      <th>good</th>\n",
       "      <th>questionable</th>\n",
       "      <th>junk</th>\n",
       "      <th>unknown</th>\n",
       "      <th>total</th>\n",
       "    </tr>\n",
       "  </thead>\n",
       "  <tbody>\n",
       "    <tr>\n",
       "      <th>unknown</th>\n",
       "      <td>0</td>\n",
       "      <td>0</td>\n",
       "      <td>0</td>\n",
       "      <td>1</td>\n",
       "      <td>1</td>\n",
       "    </tr>\n",
       "    <tr>\n",
       "      <th>dark</th>\n",
       "      <td>0</td>\n",
       "      <td>0</td>\n",
       "      <td>0</td>\n",
       "      <td>1784</td>\n",
       "      <td>1784</td>\n",
       "    </tr>\n",
       "    <tr>\n",
       "      <th>bias</th>\n",
       "      <td>0</td>\n",
       "      <td>0</td>\n",
       "      <td>0</td>\n",
       "      <td>1392</td>\n",
       "      <td>1392</td>\n",
       "    </tr>\n",
       "    <tr>\n",
       "      <th>flat</th>\n",
       "      <td>0</td>\n",
       "      <td>0</td>\n",
       "      <td>0</td>\n",
       "      <td>3092</td>\n",
       "      <td>3092</td>\n",
       "    </tr>\n",
       "  </tbody>\n",
       "</table>\n",
       "</div>"
      ],
      "text/plain": [
       "         good  questionable  junk  unknown  total\n",
       "unknown     0             0     0        1      1\n",
       "dark        0             0     0     1784   1784\n",
       "bias        0             0     0     1392   1392\n",
       "flat        0             0     0     3092   3092"
      ]
     },
     "metadata": {},
     "output_type": "display_data"
    },
    {
     "name": "stdout",
     "output_type": "stream",
     "text": [
      "Observation Reason\n"
     ]
    },
    {
     "data": {
      "text/html": [
       "<div>\n",
       "<style scoped>\n",
       "    .dataframe tbody tr th:only-of-type {\n",
       "        vertical-align: middle;\n",
       "    }\n",
       "\n",
       "    .dataframe tbody tr th {\n",
       "        vertical-align: top;\n",
       "    }\n",
       "\n",
       "    .dataframe thead th {\n",
       "        text-align: right;\n",
       "    }\n",
       "</style>\n",
       "<table border=\"1\" class=\"dataframe\">\n",
       "  <thead>\n",
       "    <tr style=\"text-align: right;\">\n",
       "      <th></th>\n",
       "      <th>good</th>\n",
       "      <th>questionable</th>\n",
       "      <th>junk</th>\n",
       "      <th>unknown</th>\n",
       "      <th>total</th>\n",
       "    </tr>\n",
       "  </thead>\n",
       "  <tbody>\n",
       "    <tr>\n",
       "      <th>sflat_hi</th>\n",
       "      <td>0</td>\n",
       "      <td>0</td>\n",
       "      <td>0</td>\n",
       "      <td>656</td>\n",
       "      <td>656</td>\n",
       "    </tr>\n",
       "    <tr>\n",
       "      <th>unknown</th>\n",
       "      <td>0</td>\n",
       "      <td>0</td>\n",
       "      <td>0</td>\n",
       "      <td>1</td>\n",
       "      <td>1</td>\n",
       "    </tr>\n",
       "    <tr>\n",
       "      <th>dark</th>\n",
       "      <td>0</td>\n",
       "      <td>0</td>\n",
       "      <td>0</td>\n",
       "      <td>776</td>\n",
       "      <td>776</td>\n",
       "    </tr>\n",
       "    <tr>\n",
       "      <th>bias</th>\n",
       "      <td>0</td>\n",
       "      <td>0</td>\n",
       "      <td>0</td>\n",
       "      <td>159</td>\n",
       "      <td>159</td>\n",
       "    </tr>\n",
       "    <tr>\n",
       "      <th>sflat_lo</th>\n",
       "      <td>0</td>\n",
       "      <td>0</td>\n",
       "      <td>0</td>\n",
       "      <td>10</td>\n",
       "      <td>10</td>\n",
       "    </tr>\n",
       "    <tr>\n",
       "      <th>flat</th>\n",
       "      <td>0</td>\n",
       "      <td>0</td>\n",
       "      <td>0</td>\n",
       "      <td>4634</td>\n",
       "      <td>4634</td>\n",
       "    </tr>\n",
       "    <tr>\n",
       "      <th>preimage</th>\n",
       "      <td>0</td>\n",
       "      <td>0</td>\n",
       "      <td>0</td>\n",
       "      <td>33</td>\n",
       "      <td>33</td>\n",
       "    </tr>\n",
       "  </tbody>\n",
       "</table>\n",
       "</div>"
      ],
      "text/plain": [
       "          good  questionable  junk  unknown  total\n",
       "sflat_hi     0             0     0      656    656\n",
       "unknown      0             0     0        1      1\n",
       "dark         0             0     0      776    776\n",
       "bias         0             0     0      159    159\n",
       "sflat_lo     0             0     0       10     10\n",
       "flat         0             0     0     4634   4634\n",
       "preimage     0             0     0       33     33"
      ]
     },
     "metadata": {},
     "output_type": "display_data"
    },
    {
     "name": "stdout",
     "output_type": "stream",
     "text": [
      "Science Program\n"
     ]
    },
    {
     "data": {
      "text/html": [
       "<div>\n",
       "<style scoped>\n",
       "    .dataframe tbody tr th:only-of-type {\n",
       "        vertical-align: middle;\n",
       "    }\n",
       "\n",
       "    .dataframe tbody tr th {\n",
       "        vertical-align: top;\n",
       "    }\n",
       "\n",
       "    .dataframe thead th {\n",
       "        text-align: right;\n",
       "    }\n",
       "</style>\n",
       "<table border=\"1\" class=\"dataframe\">\n",
       "  <thead>\n",
       "    <tr style=\"text-align: right;\">\n",
       "      <th></th>\n",
       "      <th>good</th>\n",
       "      <th>questionable</th>\n",
       "      <th>junk</th>\n",
       "      <th>unknown</th>\n",
       "      <th>total</th>\n",
       "    </tr>\n",
       "  </thead>\n",
       "  <tbody>\n",
       "    <tr>\n",
       "      <th>E2180</th>\n",
       "      <td>0</td>\n",
       "      <td>0</td>\n",
       "      <td>0</td>\n",
       "      <td>3</td>\n",
       "      <td>3</td>\n",
       "    </tr>\n",
       "    <tr>\n",
       "      <th>E2234</th>\n",
       "      <td>0</td>\n",
       "      <td>0</td>\n",
       "      <td>0</td>\n",
       "      <td>1</td>\n",
       "      <td>1</td>\n",
       "    </tr>\n",
       "    <tr>\n",
       "      <th>E2013</th>\n",
       "      <td>0</td>\n",
       "      <td>0</td>\n",
       "      <td>0</td>\n",
       "      <td>33</td>\n",
       "      <td>33</td>\n",
       "    </tr>\n",
       "    <tr>\n",
       "      <th>E2229</th>\n",
       "      <td>0</td>\n",
       "      <td>0</td>\n",
       "      <td>0</td>\n",
       "      <td>24</td>\n",
       "      <td>24</td>\n",
       "    </tr>\n",
       "    <tr>\n",
       "      <th>E2014</th>\n",
       "      <td>0</td>\n",
       "      <td>0</td>\n",
       "      <td>0</td>\n",
       "      <td>14</td>\n",
       "      <td>14</td>\n",
       "    </tr>\n",
       "    <tr>\n",
       "      <th>E2235</th>\n",
       "      <td>0</td>\n",
       "      <td>0</td>\n",
       "      <td>0</td>\n",
       "      <td>1</td>\n",
       "      <td>1</td>\n",
       "    </tr>\n",
       "    <tr>\n",
       "      <th>E2016</th>\n",
       "      <td>0</td>\n",
       "      <td>0</td>\n",
       "      <td>0</td>\n",
       "      <td>4036</td>\n",
       "      <td>4036</td>\n",
       "    </tr>\n",
       "    <tr>\n",
       "      <th>E2015</th>\n",
       "      <td>0</td>\n",
       "      <td>0</td>\n",
       "      <td>0</td>\n",
       "      <td>23</td>\n",
       "      <td>23</td>\n",
       "    </tr>\n",
       "    <tr>\n",
       "      <th>E2010</th>\n",
       "      <td>0</td>\n",
       "      <td>0</td>\n",
       "      <td>0</td>\n",
       "      <td>4</td>\n",
       "      <td>4</td>\n",
       "    </tr>\n",
       "    <tr>\n",
       "      <th>E2230</th>\n",
       "      <td>0</td>\n",
       "      <td>0</td>\n",
       "      <td>0</td>\n",
       "      <td>201</td>\n",
       "      <td>201</td>\n",
       "    </tr>\n",
       "    <tr>\n",
       "      <th>E2183</th>\n",
       "      <td>0</td>\n",
       "      <td>0</td>\n",
       "      <td>0</td>\n",
       "      <td>3</td>\n",
       "      <td>3</td>\n",
       "    </tr>\n",
       "    <tr>\n",
       "      <th>E2184</th>\n",
       "      <td>0</td>\n",
       "      <td>0</td>\n",
       "      <td>0</td>\n",
       "      <td>10</td>\n",
       "      <td>10</td>\n",
       "    </tr>\n",
       "    <tr>\n",
       "      <th>E2009</th>\n",
       "      <td>0</td>\n",
       "      <td>0</td>\n",
       "      <td>0</td>\n",
       "      <td>13</td>\n",
       "      <td>13</td>\n",
       "    </tr>\n",
       "    <tr>\n",
       "      <th>E1968</th>\n",
       "      <td>0</td>\n",
       "      <td>0</td>\n",
       "      <td>0</td>\n",
       "      <td>300</td>\n",
       "      <td>300</td>\n",
       "    </tr>\n",
       "    <tr>\n",
       "      <th>unknown</th>\n",
       "      <td>0</td>\n",
       "      <td>0</td>\n",
       "      <td>0</td>\n",
       "      <td>344</td>\n",
       "      <td>344</td>\n",
       "    </tr>\n",
       "    <tr>\n",
       "      <th>E2236</th>\n",
       "      <td>0</td>\n",
       "      <td>0</td>\n",
       "      <td>0</td>\n",
       "      <td>100</td>\n",
       "      <td>100</td>\n",
       "    </tr>\n",
       "    <tr>\n",
       "      <th>E2237</th>\n",
       "      <td>0</td>\n",
       "      <td>0</td>\n",
       "      <td>0</td>\n",
       "      <td>421</td>\n",
       "      <td>421</td>\n",
       "    </tr>\n",
       "    <tr>\n",
       "      <th>E2136</th>\n",
       "      <td>0</td>\n",
       "      <td>0</td>\n",
       "      <td>0</td>\n",
       "      <td>201</td>\n",
       "      <td>201</td>\n",
       "    </tr>\n",
       "    <tr>\n",
       "      <th>E2181</th>\n",
       "      <td>0</td>\n",
       "      <td>0</td>\n",
       "      <td>0</td>\n",
       "      <td>181</td>\n",
       "      <td>181</td>\n",
       "    </tr>\n",
       "    <tr>\n",
       "      <th>E2012</th>\n",
       "      <td>0</td>\n",
       "      <td>0</td>\n",
       "      <td>0</td>\n",
       "      <td>23</td>\n",
       "      <td>23</td>\n",
       "    </tr>\n",
       "    <tr>\n",
       "      <th>E2008</th>\n",
       "      <td>0</td>\n",
       "      <td>0</td>\n",
       "      <td>0</td>\n",
       "      <td>300</td>\n",
       "      <td>300</td>\n",
       "    </tr>\n",
       "    <tr>\n",
       "      <th>E2011</th>\n",
       "      <td>0</td>\n",
       "      <td>0</td>\n",
       "      <td>0</td>\n",
       "      <td>33</td>\n",
       "      <td>33</td>\n",
       "    </tr>\n",
       "  </tbody>\n",
       "</table>\n",
       "</div>"
      ],
      "text/plain": [
       "         good  questionable  junk  unknown  total\n",
       "E2180       0             0     0        3      3\n",
       "E2234       0             0     0        1      1\n",
       "E2013       0             0     0       33     33\n",
       "E2229       0             0     0       24     24\n",
       "E2014       0             0     0       14     14\n",
       "E2235       0             0     0        1      1\n",
       "E2016       0             0     0     4036   4036\n",
       "E2015       0             0     0       23     23\n",
       "E2010       0             0     0        4      4\n",
       "E2230       0             0     0      201    201\n",
       "E2183       0             0     0        3      3\n",
       "E2184       0             0     0       10     10\n",
       "E2009       0             0     0       13     13\n",
       "E1968       0             0     0      300    300\n",
       "unknown     0             0     0      344    344\n",
       "E2236       0             0     0      100    100\n",
       "E2237       0             0     0      421    421\n",
       "E2136       0             0     0      201    201\n",
       "E2181       0             0     0      181    181\n",
       "E2012       0             0     0       23     23\n",
       "E2008       0             0     0      300    300\n",
       "E2011       0             0     0       33     33"
      ]
     },
     "metadata": {},
     "output_type": "display_data"
    }
   ],
   "source": [
    "for instrum in allsrc.exp_src.exposures.keys():\n",
    "    md(f'**{instrum}: {len(allsrc.exp_src.exposures[instrum])} total exposures**')\n",
    "    df_dict = allsrc.fields_count_exposure(instrum)\n",
    "    for field_name,df in df_dict.items():\n",
    "        print(field_name.title().replace('_',' '))\n",
    "        display(df.T)"
   ]
  },
  {
   "cell_type": "code",
   "execution_count": 14,
   "id": "22",
   "metadata": {},
   "outputs": [
    {
     "data": {
      "text/markdown": [
       "### Experimental Exposure field Tally DISASBLED"
      ],
      "text/plain": [
       "<IPython.core.display.Markdown object>"
      ]
     },
     "metadata": {},
     "output_type": "display_data"
    },
    {
     "data": {
      "text/markdown": [
       "**LSSTComCamSim: 0 total exposures**"
      ],
      "text/plain": [
       "<IPython.core.display.Markdown object>"
      ]
     },
     "metadata": {},
     "output_type": "display_data"
    },
    {
     "data": {
      "text/markdown": [
       "**LATISS: 0 total exposures**"
      ],
      "text/plain": [
       "<IPython.core.display.Markdown object>"
      ]
     },
     "metadata": {},
     "output_type": "display_data"
    },
    {
     "data": {
      "text/markdown": [
       "**LSSTComCam: 1145 total exposures**"
      ],
      "text/plain": [
       "<IPython.core.display.Markdown object>"
      ]
     },
     "metadata": {},
     "output_type": "display_data"
    },
    {
     "data": {
      "text/markdown": [
       "**LSSTCam: 6269 total exposures**"
      ],
      "text/plain": [
       "<IPython.core.display.Markdown object>"
      ]
     },
     "metadata": {},
     "output_type": "display_data"
    }
   ],
   "source": [
    "# Exposure Report\n",
    "if experimental.get(\"exposure_type_tally\"): \n",
    "    #  md(\"### Experimental Exposure field Tally ENABLED\")\n",
    "    md(\"Tally exposures with specific values of selected fields\")\n",
    "else:\n",
    "    md(\"### Experimental Exposure field Tally DISASBLED\")\n",
    "    \n",
    "for instrum in allsrc.exp_src.exposures.keys():\n",
    "    md(f'**{instrum}: {len(allsrc.exp_src.exposures[instrum])} total exposures**')\n",
    "    if 0 == len(allsrc.exp_src.exposures[instrum]):\n",
    "        continue\n",
    "\n",
    "    # Facet counts\n",
    "    if experimental.get(\"exposure_type_tally\"): \n",
    "        counts,cc,f = allsrc.uniform_exposure_field_counts(instrum)\n",
    "        for fname, tally in []: # counts.items():\n",
    "            md(f\"{fname}\")\n",
    "            df = pd.DataFrame.from_dict(tally, orient=\"index\").T\n",
    "            wdf = ut.wrap_dataframe_columns(df)\n",
    "            display(HTML(wdf.to_html(render_links=True, escape=False)))"
   ]
  },
  {
   "cell_type": "markdown",
   "id": "261925dc-1171-4429-b6a8-3bf62d71904f",
   "metadata": {},
   "source": [
    "Note: *Added counts of Exposures with messages*"
   ]
  },
  {
   "cell_type": "code",
   "execution_count": 15,
   "id": "fd31c70d-1f21-427b-a4bc-8c493c9da936",
   "metadata": {},
   "outputs": [
    {
     "data": {
      "text/markdown": [
       "**LSSTComCam 31 Exposures with messages**"
      ],
      "text/plain": [
       "<IPython.core.display.Markdown object>"
      ]
     },
     "metadata": {},
     "output_type": "display_data"
    },
    {
     "ename": "AttributeError",
     "evalue": "'AllSources' object has no attribute 'tally_exposure_flags'",
     "output_type": "error",
     "traceback": [
      "\u001b[0;31m---------------------------------------------------------------------------\u001b[0m",
      "\u001b[0;31mAttributeError\u001b[0m                            Traceback (most recent call last)",
      "Cell \u001b[0;32mIn[15], line 4\u001b[0m\n\u001b[1;32m      2\u001b[0m md(\u001b[38;5;124mf\u001b[39m\u001b[38;5;124m'\u001b[39m\u001b[38;5;124m**\u001b[39m\u001b[38;5;132;01m{\u001b[39;00minstrum\u001b[38;5;132;01m}\u001b[39;00m\u001b[38;5;124m \u001b[39m\u001b[38;5;132;01m{\u001b[39;00m\u001b[38;5;28mlen\u001b[39m(recs)\u001b[38;5;132;01m}\u001b[39;00m\u001b[38;5;124m Exposures with messages**\u001b[39m\u001b[38;5;124m'\u001b[39m)\n\u001b[1;32m      3\u001b[0m \u001b[38;5;28;01mif\u001b[39;00m \u001b[38;5;28mlen\u001b[39m(recs) \u001b[38;5;241m>\u001b[39m \u001b[38;5;241m0\u001b[39m:\n\u001b[0;32m----> 4\u001b[0m     df \u001b[38;5;241m=\u001b[39m \u001b[43mallsrc\u001b[49m\u001b[38;5;241;43m.\u001b[39;49m\u001b[43mtally_exposure_flags\u001b[49m(instrum)\n\u001b[1;32m      5\u001b[0m     display(df\u001b[38;5;241m.\u001b[39mstyle\u001b[38;5;241m.\u001b[39mhide(axis\u001b[38;5;241m=\u001b[39m\u001b[38;5;124m\"\u001b[39m\u001b[38;5;124mindex\u001b[39m\u001b[38;5;124m\"\u001b[39m))\n",
      "\u001b[0;31mAttributeError\u001b[0m: 'AllSources' object has no attribute 'tally_exposure_flags'"
     ]
    }
   ],
   "source": [
    "for instrum, recs in allsrc.exp_src.messages.items():\n",
    "    md(f'**{instrum} {len(recs)} Exposures with messages**')\n",
    "    if len(recs) > 0:\n",
    "        df = allsrc.tally_exposure_flags(instrum)\n",
    "        display(df.style.hide(axis=\"index\"))"
   ]
  },
  {
   "cell_type": "markdown",
   "id": "20820900-05ab-4ca5-8df5-9f725c0ee570",
   "metadata": {},
   "source": [
    "## Narrative Log <font style=\"background-color:green; color:white; font-size:20px\">BETA</font> "
   ]
  },
  {
   "cell_type": "code",
   "execution_count": null,
   "id": "26",
   "metadata": {
    "editable": true,
    "jupyter": {
     "source_hidden": true
    },
    "slideshow": {
     "slide_type": ""
    },
    "tags": []
   },
   "outputs": [],
   "source": [
    "# Narrative Report\n",
    "# Time Log\n",
    "allrep.nar_rep.time_log_as_markdown()"
   ]
  },
  {
   "cell_type": "markdown",
   "id": "27",
   "metadata": {},
   "source": [
    "-----------\n",
    "------------"
   ]
  },
  {
   "cell_type": "markdown",
   "id": "cd0567ce-4ae9-428e-8f9d-df8277511392",
   "metadata": {},
   "source": [
    "# Developer Only Section <font style=\"background-color:red; olor:black; font-size:20px\">REMOVE</font>\n",
    "Contains stuff only expected to be useful to developers.\n",
    "\n",
    "This may also contain sections that have moved out of the user section because they are no longer defined in the Storyboard."
   ]
  },
  {
   "cell_type": "markdown",
   "id": "34",
   "metadata": {},
   "source": [
    "## Overview \n"
   ]
  },
  {
   "cell_type": "code",
   "execution_count": null,
   "id": "6e220d29-aac6-4d70-80e2-7dd3ef99944c",
   "metadata": {
    "jupyter": {
     "source_hidden": true
    }
   },
   "outputs": [],
   "source": [
    "# Display overview of Report context\n",
    "try:\n",
    "    import lsst.ts.logging_and_reporting.version\n",
    "\n",
    "    lrversion = lsst.ts.logging_and_reporting.version.__version__\n",
    "except:\n",
    "    lrversion = \"LIVE\"\n",
    "\n",
    "try:\n",
    "    from lsst.summit.utils import ConsDbClient\n",
    "\n",
    "    have_consdb = True\n",
    "except:\n",
    "    have_consdb = False\n",
    "md(\n",
    "    f\"\"\"## Project-Wide Night(s) Report \n",
    "- Run on logs and databases from **{server}/**\n",
    "- Report **{days} observing night(s)** with the last reported night starting on **{date}**.\n",
    "- min_dayobs={allsrc.min_dayobs!r}, max_dayobs={allsrc.max_dayobs!r}\n",
    "- Using ***Prototype* Logging and Reporting** Version: **{lrversion}**\n",
    "- {have_consdb = }\n",
    "- {dev_msg}\n",
    "\"\"\")"
   ]
  },
  {
   "cell_type": "markdown",
   "id": "47ef40d3-f6d4-4b6a-80bf-55a613d3f884",
   "metadata": {},
   "source": [
    "## Data Status\n",
    "This may be useful for diagnosing reports that give unexpected results."
   ]
  },
  {
   "cell_type": "code",
   "execution_count": null,
   "id": "b076e98a-44a2-437c-9342-a180fe2cd829",
   "metadata": {
    "jupyter": {
     "source_hidden": true
    }
   },
   "outputs": [],
   "source": [
    "df = pd.DataFrame(allsrc.get_data_status())\n",
    "table = df.to_html(\n",
    "    index=False, \n",
    "    render_links=True,\n",
    "    escape=False)\n",
    "display(HTML(table))"
   ]
  },
  {
   "cell_type": "markdown",
   "id": "37",
   "metadata": {},
   "source": [
    "## This report uses the following data sources\n",
    "- NightReport\n",
    "- Exposurelog\n",
    "- Narrativelog\n",
    "- EFD\n",
    "- ConsDB\n",
    "- (DDV)\n",
    "- (Almanac from Astroplan)"
   ]
  },
  {
   "cell_type": "markdown",
   "id": "38",
   "metadata": {},
   "source": [
    "## DDV "
   ]
  },
  {
   "cell_type": "code",
   "execution_count": null,
   "id": "39",
   "metadata": {
    "jupyter": {
     "source_hidden": true
    }
   },
   "outputs": [],
   "source": [
    "DDV = (\n",
    "    f\"{server}/rubintv-dev/ddv/index.html\"\n",
    "    if \"summit\" in server\n",
    "    else f\"{server}/rubintv/ddv/index.html\"\n",
    ")\n",
    "md(f\"Access DDV part of RubinTV: {DDV}\")"
   ]
  },
  {
   "cell_type": "markdown",
   "id": "40",
   "metadata": {},
   "source": [
    "## Where was this run?\n",
    "\n",
    "The environments that have everything needed to run this page are:\n",
    "\n",
    "    https://summit-lsp.lsst.codes\n",
    "    https://usdf-rsp-dev.slac.stanford.edu\n",
    "\n",
    "However, Times Square does not run on the Summit. It does run on USDF-dev.\n"
   ]
  },
  {
   "cell_type": "markdown",
   "id": "41",
   "metadata": {},
   "source": [
    "## Section overviews moved here"
   ]
  },
  {
   "cell_type": "code",
   "execution_count": null,
   "id": "42",
   "metadata": {
    "jupyter": {
     "source_hidden": true
    }
   },
   "outputs": [],
   "source": [
    "# Night Report Overview\n",
    "allrep.nig_rep.overview()\n",
    "# Exposure Report Overview\n",
    "allrep.exp_rep.overview()\n",
    "# Narrative Report Overview\n",
    "allrep.nar_rep.overview()"
   ]
  },
  {
   "cell_type": "code",
   "execution_count": null,
   "id": "43",
   "metadata": {
    "jupyter": {
     "source_hidden": true
    }
   },
   "outputs": [],
   "source": [
    "# Conditionally display our current ability to connect to all needed endpoints.\n",
    "if False and not os.environ.get(\"EXTERNAL_INSTANCE_URL\"):\n",
    "    md(\"## Dashboard\")\n",
    "    md(\"(This is not done when running under Times Square.)\")\n",
    "    %run ./dashboard.ipynb"
   ]
  },
  {
   "cell_type": "markdown",
   "id": "09cba642-73db-4c3c-94f6-11aa311a3985",
   "metadata": {},
   "source": [
    "### According to Storybaord, this section should be removed ...\n",
    "... and replaced with a simple table tally of Good, Questionable, and  Junk exposures per instrument.\n",
    "| Symbol | Meaning |\n",
    "|:---|:---|\n",
    "| <font style=\"background-color:green; color:white; font-size:20px\">&nbsp;G&nbsp;</font>| Good |\n",
    "| <font style=\"background-color:yellow; color:black; font-size:20px\">&nbsp;?&nbsp;</font> | Questionable |\n",
    "| <font style=\"background-color:red; color:black; font-size:20px\">&nbsp;R&nbsp;</font> | Junk |\n"
   ]
  },
  {
   "cell_type": "code",
   "execution_count": null,
   "id": "24",
   "metadata": {},
   "outputs": [],
   "source": [
    "# Time Log\n",
    "allrep.exp_rep.time_log_as_markdown()"
   ]
  },
  {
   "cell_type": "markdown",
   "id": "44",
   "metadata": {},
   "source": [
    "## Finale"
   ]
  },
  {
   "cell_type": "code",
   "execution_count": null,
   "id": "45",
   "metadata": {
    "jupyter": {
     "source_hidden": true
    }
   },
   "outputs": [],
   "source": [
    "print(f\"Finished {str(dt.datetime.now())}\")"
   ]
  }
 ],
 "metadata": {
  "kernelspec": {
   "display_name": "Python 3 (ipykernel)",
   "language": "python",
   "name": "python3"
  },
  "language_info": {
   "codemirror_mode": {
    "name": "ipython",
    "version": 3
   },
   "file_extension": ".py",
   "mimetype": "text/x-python",
   "name": "python",
   "nbconvert_exporter": "python",
   "pygments_lexer": "ipython3",
   "version": "3.11.9"
  }
 },
 "nbformat": 4,
 "nbformat_minor": 5
}
