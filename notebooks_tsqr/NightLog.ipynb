{
 "cells": [
  {
   "cell_type": "markdown",
   "id": "0",
   "metadata": {},
   "source": [
    "# About this Page\n",
    "***What are we missing?***    See the slack *#ts-logging* channel for discussion about this page. Use it to report problems, ask questions, and make requests for changes. \n",
    "\n",
    "## What is new in this application?(newest change at top of list)\n",
    "- Added Merged time-log with compaction.  Merges all sources by time and compacts them into a single time period (currently 4 hour). Rendering of DataFrame is now done via a jinja2 Template which gives much greater (largely unrealized) control over display.\n",
    "- Added initial Consolidated Database section\n",
    "- Add section for \"Links to related resources\".  Let us know is other links should be added.\n",
    "- Exposure quality flag added to Exposure Detail (accessed by following row links in Data Log)\n",
    "- \n",
    "- Bullet proof parameters\n",
    "- Do not show Time Loss info unless it is greater than zero (Narrative log)\n",
    "- Do not show software or hardware components (they are rarely used anyhow)\n",
    "- <font style=\"background-color:#ffff99\">Embedded comments and questions to reader (Yellow background)</font>\n",
    "- <font style=\"background-color:red; color:#90EE90\">Errors from APIs are displayed in this page (Red background).</font>\n",
    "\n",
    "## Tips\n",
    "- Using \"Copy URL\" from you browser on the sections it the Table Of Contents will allow you to save a bookmark to a particular section.  \n",
    "\n",
    "## Changes being considered in the near-term\n",
    "You can influence prorities by telling #ts-logging that a feature is *really important* or *not important*.\n",
    "- Add parameter for Period that used in Merged time-log\n",
    "- Show more exposure fields on the ExposureDetail page (accessed via links in Data Log) section. Include fields in *Consolidated Database* section plus some Visit fields.\n",
    "- Ensure all data-logs include data from Dome noon to noon for day_obs\n",
    "- (Stretch) Invent a general way to compact DataFrame by removing redundancy. Similar [DB normalization](https://en.wikipedia.org/wiki/Database_normalization)\n",
    "- (Big Stretch) Create a single time-log that merges records from all selected *Source Adapters* into a *compacted* log.  Allow delta like \"20min\", \"4hour\".\n",
    "- (Realy Big Stretch) Using AI LLM to summarize a multi-source merged night of logging into: a. full summary, b. dark-time/light-time summaries, c. 4-hr summaries"
   ]
  },
  {
   "cell_type": "code",
   "execution_count": null,
   "id": "1",
   "metadata": {},
   "outputs": [],
   "source": [
    "# Parameters.\n",
    "# Times Square replaces this cell with the user's parameters.\n",
    "# So, don't put anything else here!\n",
    "\n",
    "# day_obs values: TODAY, v, YYYY-MM-DD\n",
    "# Report on observing nights that start upto but not included this day.\n",
    "#!day_obs = '2024-09-25' # Value to use for local testing (Summit)\n",
    "day_obs = \"2024-12-02\"  # TODO Change to 'YESTERDAY' and 'TODAY' to test with default before push\n",
    "\n",
    "# Total number of days of data to display (ending on day_obs)\n",
    "number_of_days = \"1\"  # TODO Change to '1' to test with default before push\n",
    "\n",
    "verbose = \"false\"  # TODO change to false before push, else true"
   ]
  },
  {
   "cell_type": "code",
   "execution_count": null,
   "id": "2",
   "metadata": {},
   "outputs": [],
   "source": [
    "# IMPORT everything\n",
    "import datetime as dt\n",
    "import os\n",
    "from collections import defaultdict\n",
    "from pprint import pformat, pp\n",
    "from urllib.parse import urlencode, urlparse\n",
    "import pandas as pd\n",
    "from IPython.display import HTML\n",
    "\n",
    "# When running under Times Square, install pkg from github.\n",
    "# Otherwise use what is installed locally (intended to be dev editiable pkg)\n",
    "if os.environ.get(\"EXTERNAL_INSTANCE_URL\"):\n",
    "    DEV_ENV = False\n",
    "    dev_msg = (\n",
    "        'Installing \"lsst.ts.logging_and_reporting\" from github using \"prototype\" branch. \\n'\n",
    "        \"TODO: Make the need for this go away by getting Logging_and_Reporting installed in RSP.\"\n",
    "    )\n",
    "    !pip install --upgrade git+https://github.com/lsst-ts/ts_logging_and_reporting.git@prototype > /dev/null 2>&1\n",
    "else:\n",
    "    DEV_ENV = True\n",
    "    dev_msg = \"Imported lsst.ts.logging_and_reporting from local packages.\"\n",
    "from lsst.ts.logging_and_reporting.all_sources import AllSources\n",
    "from lsst.ts.logging_and_reporting.all_reports import AllReports\n",
    "import lsst.ts.logging_and_reporting.utils as ut\n",
    "import lsst.ts.logging_and_reporting.time_logs as tl\n",
    "from lsst.ts.logging_and_reporting.reports import md, mdlist, mdpathlink\n",
    "from lsst.ts.logging_and_reporting.reports import html_draft, html_beta"
   ]
  },
  {
   "cell_type": "code",
   "execution_count": null,
   "id": "3",
   "metadata": {},
   "outputs": [],
   "source": [
    "# Set default env to \"usdf\" and try before PUSH to repo.\n",
    "# The default provided here is for local testing. Under Times Square it is ignored.\n",
    "server = os.environ.get(\n",
    "    \"EXTERNAL_INSTANCE_URL\", ut.Server.usdf\n",
    ")  # TODO try with \"usdf\" before push (also \"summit\")"
   ]
  },
  {
   "cell_type": "code",
   "execution_count": null,
   "id": "4",
   "metadata": {},
   "outputs": [],
   "source": [
    "# Validate parameters, return usable ones\n",
    "usable, error = ut.fallback_parameters(day_obs, number_of_days, verbose)\n",
    "if error:\n",
    "    print(error)\n",
    "\n",
    "date = ut.get_datetime_from_dayobs_str(usable[\"day_obs\"])\n",
    "# date:  is EXCLUSIVE (upto, but not including)\n",
    "days = usable[\"number_of_days\"]\n",
    "verbose = usable[\"verbose\"]\n",
    "\n",
    "# Thus: [min_day_obs,max_day_obs)\n",
    "# Format: string, YYYY-MM-DD\n",
    "min_date = date - dt.timedelta(days=days - 1)\n",
    "max_date = date + dt.timedelta(days=1)\n",
    "min_day_obs = min_date.strftime(\"%Y-%m-%d\")  # Inclusive\n",
    "max_day_obs = max_date.strftime(\"%Y-%m-%d\")  # prep for Exclusive"
   ]
  },
  {
   "cell_type": "code",
   "execution_count": null,
   "id": "5",
   "metadata": {},
   "outputs": [],
   "source": [
    "# Read records from (almost) all sources\n",
    "timer = ut.Timer()\n",
    "allsrc = AllSources(\n",
    "    server_url=server,\n",
    "    min_dayobs=min_day_obs,\n",
    "    max_dayobs=max_day_obs,\n",
    "    verbose=verbose,\n",
    "    limit=5000,\n",
    "    exclude_instruments=[],  # TODO change to empty list before push\n",
    ")\n",
    "allrep = AllReports(allsrc=allsrc)"
   ]
  },
  {
   "cell_type": "markdown",
   "id": "6",
   "metadata": {},
   "source": [
    "----------"
   ]
  },
  {
   "cell_type": "code",
   "execution_count": null,
   "id": "7",
   "metadata": {},
   "outputs": [],
   "source": [
    "instrum_str = \", \".join(list(allsrc.exp_src.instruments.keys()))\n",
    "tlist = list()\n",
    "tlist.append(f\"# Showing data for {min_date.date()} to {max_date.date()}\")\n",
    "tlist.append(f\"- **Instruments:** {instrum_str}\")\n",
    "tlist.append(f\"- **Server:** {server}\")\n",
    "tlist.append(\n",
    "    f'- Most recently run on: **{dt.datetime.now().replace(microsecond=0).isoformat(sep=\" \")}**'\n",
    ")\n",
    "md(\"\\n\".join(tlist))"
   ]
  },
  {
   "cell_type": "markdown",
   "id": "8",
   "metadata": {},
   "source": [
    "# Table of Contents\n",
    "* [Night Report (BETA)](#Night-Report-BETA)\n",
    "    - AuxTel\n",
    "    - Simonyi\n",
    "* [Almanac (BETA)](#Almanac-BETA)\n",
    "* [Summary plots of whole night (DRAFT)](#Summary-plots-of-whole-night-DRAFT)\n",
    "* [Links to related resources (BETA)](#Links-to-related-resources-BETA)\n",
    "* [Time Accounting (DRAFT)](#Time-Accounting-DRAFT)\n",
    "* [Jira Tickets (BETA)](#Jira-Tickets-BETA)\n",
    "    - AuxTel\n",
    "    - Simonyi\n",
    "* [BLOCKS Observed (DRAFT)](#BLOCKS-Observed-DRAFT)\n",
    "    - AuxTel\n",
    "    - Simonyi\n",
    "* [Data Log (BETA)](#Data-Log-BETA)\n",
    "* [Narrative Log (BETA)](#Narrative-Log-BETA)\n",
    "* [Consolidated Database (DRAFT)](#Consolidated-Database-DRAFT)\n",
    "* [Merged time-log with compaction (DRAFT)](#Merged-time-log-with-compaction-DRAFT)\n",
    "* [Developer Only Section (REMOVE)](#Developer-Only-Section-REMOVE)"
   ]
  },
  {
   "cell_type": "markdown",
   "id": "9",
   "metadata": {},
   "source": [
    "## Almanac <font style=\"background-color:green; color:white; font-size:20px\">BETA</font> \n",
    "#### <font style=\"background-color:#ffff99\">Possible Changes</font>\n",
    "- [ ] Add column for Chile timezone?"
   ]
  },
  {
   "cell_type": "code",
   "execution_count": null,
   "id": "10",
   "metadata": {},
   "outputs": [],
   "source": [
    "# Display various almanac values (for moon, sun)\n",
    "#!rep.AlmanacReport().day_obs_report(min_day_obs)\n",
    "allrep.alm_rep.day_obs_report()"
   ]
  },
  {
   "cell_type": "markdown",
   "id": "11",
   "metadata": {},
   "source": [
    "## Night Report <font style=\"background-color:green; color:white; font-size:20px\">BETA</font> \n",
    "#### <font style=\"background-color:#ffff99\">Possible Changes</font>\n",
    "- [ ] Word wrap instead of chopping words at end of line?\n",
    "- [ ] Add summary from AI)"
   ]
  },
  {
   "cell_type": "code",
   "execution_count": null,
   "id": "12",
   "metadata": {},
   "outputs": [],
   "source": [
    "# Night Report\n",
    "# Display time log\n",
    "allrep.nig_rep.time_log_as_markdown()"
   ]
  },
  {
   "cell_type": "markdown",
   "id": "13",
   "metadata": {},
   "source": [
    "## Summary plots of whole night <font style=\"background-color:yellow; color:black; font-size:20px\">DRAFT</font>"
   ]
  },
  {
   "cell_type": "markdown",
   "id": "14",
   "metadata": {},
   "source": [
    "(content not yet defined in storyboard)\n",
    "#### <font style=\"background-color:#ffff99\">Possible Changes</font>\n",
    "- [ ] Define and add plot_observation_gap_detail"
   ]
  },
  {
   "cell_type": "code",
   "execution_count": null,
   "id": "15",
   "metadata": {},
   "outputs": [],
   "source": [
    "# Plot Observation (Exposure) gaps\n",
    "# rollup,detail = allsrc.get_observation_gaps()\n",
    "# allrep.plot_observation_gap_detail(detail)"
   ]
  },
  {
   "cell_type": "markdown",
   "id": "16",
   "metadata": {},
   "source": [
    "## Links to related resources <font style=\"background-color:green; color:white; font-size:20px\">BETA</font>\n",
    "These tools were created outside of the TSSW Logging and Reporting group.  For more information about any of these, please see the respective tool owner."
   ]
  },
  {
   "cell_type": "code",
   "execution_count": null,
   "id": "17",
   "metadata": {},
   "outputs": [],
   "source": [
    "DDV = (\n",
    "    f\"{server}/rubintv-dev/ddv/index.html\"\n",
    "    if \"summit\" in server\n",
    "    else f\"{server}/rubintv/ddv/index.html\"\n",
    ")\n",
    "md(\n",
    "    f\"\"\"\n",
    "- Access DDV part of RubinTV: {DDV}\n",
    "- [Chronograph]({server}/chronograf)\n",
    "- [nightsum]({server}/times-square/github/lsst/schedview_notebooks/nightly/scheduler-nightsum?day_obs={min_date.date()}&visit_origin=lsstcomcam)\n",
    "- \n",
    "\"\"\"\n",
    ")"
   ]
  },
  {
   "cell_type": "markdown",
   "id": "18",
   "metadata": {},
   "source": [
    "## Time Accounting <font style=\"background-color:green; color:white; font-size:20px\">BETA</font>\n",
    "TODO:\n",
    "- Time-loss for Fault and Weather  (very rarely in narrativelog/messages)\n",
    "- SlewTime from TMAEvent (or similar)\n",
    "\n",
    "SlewTime (and probably others) from EFD are only EXPECTED (topic=\"lsst.sal.Scheduler.logevent_target\"), not ACTUAL.\n",
    "To get ACTUAL time, we need to use something like \n",
    "[**TMAEvent**](https://github.com/lsst-sitcom/summit_utils/blob/f901ca4943c082500a1f357eb070a4971925c476/python/lsst/summit/utils/tmaUtils.py#L1195) \n",
    "to combine multiple real events into a synthetic event.  See DM-46102.\n",
    "**SlewTime might find its way into the Consolidate Database**, in which case we could get it there.\n"
   ]
  },
  {
   "cell_type": "code",
   "execution_count": null,
   "id": "19",
   "metadata": {},
   "outputs": [],
   "source": [
    "# Exposure Tally\n",
    "tally = await allsrc.night_tally_observation_gaps()\n",
    "if tally:\n",
    "    display(pd.DataFrame(tally))"
   ]
  },
  {
   "cell_type": "markdown",
   "id": "20",
   "metadata": {},
   "source": [
    "- (1) *Expected* slew time as per Schedular\n",
    "- (2) There is no practical way to get detector read-out time.  A value of 2.3 seconds was inferred from experiments."
   ]
  },
  {
   "cell_type": "markdown",
   "id": "21",
   "metadata": {},
   "source": [
    "## Jira Tickets <font style=\"background-color:green; color:white; font-size:20px\">BETA</font> \n",
    "#### <font style=\"background-color:#ffff99\">Possible Changes</font>\n",
    "- [ ] Observing Operations - OBS\n",
    "- [ ] TODO: better tickets using Jira API to get selected fields (which) from tickets"
   ]
  },
  {
   "cell_type": "code",
   "execution_count": null,
   "id": "22",
   "metadata": {},
   "outputs": [],
   "source": [
    "if allsrc.urls:\n",
    "    text = \"\"\n",
    "    for url in allsrc.urls:\n",
    "        text += f\"- {mdpathlink(url)}\\n\"\n",
    "    md(text)"
   ]
  },
  {
   "cell_type": "code",
   "execution_count": null,
   "id": "23",
   "metadata": {},
   "outputs": [],
   "source": [
    "# Display Jira BLOCKS\n",
    "front = \"https://rubinobs.atlassian.net/projects/BLOCK?selectedItem=com.atlassian.plugins.atlassian-connect-plugin:com.kanoah.test-manager__main-project-page#!/\"\n",
    "tickets = allsrc.nig_src.nightly_tickets()\n",
    "if tickets:\n",
    "    mdstr = \"#### Nightly Jira BLOCKs\"\n",
    "    for day, url_list in tickets.items():\n",
    "        mdstr += f\"\\n- {day}\"\n",
    "        for ticket_url in url_list:\n",
    "            mdstr += f'\\n    - [{ticket_url.replace(front,\"\")}]({ticket_url})'\n",
    "    md(mdstr)\n",
    "else:\n",
    "    endpoint_url = allsrc.nig_src.status[\"reports\"][\"endpoint_url\"]\n",
    "    md(f\"No tickets found using: [API Data]({endpoint_url}) in `confluence_url`.\")"
   ]
  },
  {
   "cell_type": "markdown",
   "id": "24",
   "metadata": {},
   "source": [
    "## BLOCKS Observed <font style=\"background-color:yellow; color:black; font-size:20px\">DRAFT</font>\n",
    "- [ ] TODO: BLOCKS observed"
   ]
  },
  {
   "cell_type": "markdown",
   "id": "25",
   "metadata": {},
   "source": [
    "## Data Log <font style=\"background-color:green; color:white; font-size:20px\">BETA</font>\n",
    "Count the number of exposures (tally) for each instrument. For instruments that have exposures, partition the tally by various attributes and the exposure quality flags."
   ]
  },
  {
   "cell_type": "code",
   "execution_count": null,
   "id": "26",
   "metadata": {},
   "outputs": [],
   "source": [
    "# Exposure Report\n",
    "for instrum in allsrc.exp_src.exposures.keys():\n",
    "    md(f\"#### {instrum}: {len(allsrc.exp_src.exposures[instrum])} total exposures\")\n",
    "    df_dict = allsrc.fields_count_exposure(instrum)\n",
    "    for field_name, df in df_dict.items():\n",
    "        if df.empty:\n",
    "            continue\n",
    "        md(\"##### \" + field_name.title().replace(\"_\", \" \"))\n",
    "        display(HTML(df.style.hide().to_html(escape=False)))"
   ]
  },
  {
   "cell_type": "markdown",
   "id": "27",
   "metadata": {},
   "source": [
    "## Narrative Log <font style=\"background-color:green; color:white; font-size:20px\">BETA</font> \n",
    "#### <font style=\"background-color:#ffff99\">Possible Changes</font>\n",
    "- [ ] Group messages by hour? Might be great when there many simple messages minutes apart. Less so when tracebacks are included.\n",
    "- [ ] Truncate text messages to N chars (ending with \"...\" as link if truncated, link goes to page with full message record including text and all attributes)\n",
    "- [ ] Detect some kinds of \"blocks\" and render in smaller text (+ other format changes)"
   ]
  },
  {
   "cell_type": "code",
   "execution_count": null,
   "id": "28",
   "metadata": {
    "editable": true,
    "slideshow": {
     "slide_type": ""
    },
    "tags": []
   },
   "outputs": [],
   "source": [
    "# Narrative Report\n",
    "# Time Log\n",
    "allrep.nar_rep.time_log_as_markdown()"
   ]
  },
  {
   "cell_type": "markdown",
   "id": "29",
   "metadata": {},
   "source": [
    "## Consolidated Database <font style=\"background-color:yellow; color:black; font-size:20px\">DRAFT</font>\n",
    "Retrieve exposure records from ConsDB.  The Developer Only Section contains a list of ALL fields currently available in ConsDB per [ConsDB API](https://usdf-rsp.slac.stanford.edu/consdb/docs).\n",
    "\n",
    "- [ ] TODO: Integrate this and other queries into columns of other sections.\n",
    "- [ ] TODO: Remove this section from NightLog and incorporate it into ExposureDetail (linked to from DataLog on this page)"
   ]
  },
  {
   "cell_type": "code",
   "execution_count": null,
   "id": "30",
   "metadata": {},
   "outputs": [],
   "source": [
    "allsrc.cdb_src.get_exposures(instrument=\"lsstcomcam\")"
   ]
  },
  {
   "cell_type": "markdown",
   "id": "31",
   "metadata": {},
   "source": [
    "## Merged time-log with compaction <font style=\"background-color:yellow; color:black; font-size:20px\">DRAFT</font>\n",
    "This merges the time-line of records from several sources (currently: `NightReport`, `ExposureLog`, `NarrativeLog`). The resulting DataFrame is Compacted and Reduced into time bins of a specified duration.\n",
    "\n",
    "#### <font style=\"background-color:#ffff99\">Possible Changes</font>\n",
    "- [ ] Column specific width (and formatting in general)\n",
    "- [ ] ALERT in column 1: function of regular expression in messages (e.g.: fail, error)\n",
    "- [ ] Truncate very log messages. End truncated messages with \"(MORE...)\"\n",
    "- [ ] Add multi-index columns (Level-0=Source, Level-1=Field)\n",
    "- [ ] Link \"Source\" in multi-index to the external-to-Logging API that provided our data.\n",
    "- [x] Replace multiple rows in a period with a single row. And ...\n",
    "- [x] In Period: Replace multi-values in a column with a conctenation of the unique values.\n",
    "- [ ] Use Jinja2 Template to render DataFrame as HTML for much better formatting control"
   ]
  },
  {
   "cell_type": "code",
   "execution_count": null,
   "id": "32",
   "metadata": {},
   "outputs": [],
   "source": [
    "import lsst.ts.logging_and_reporting.time_logs as tl\n",
    "import lsst.ts.logging_and_reporting.views as views\n",
    "import lsst.ts.logging_and_reporting.templates as templates\n",
    "from importlib import reload\n",
    "\n",
    "reload(templates)\n",
    "reload(views)\n",
    "reload(tl)\n",
    "\n",
    "full_df = tl.merge_sources(allsrc)\n",
    "md(f\"### Full DataFrame: {full_df.shape[0]} rows, {full_df.shape[1]} columns\")\n",
    "md(f'Columns: {\", \".join(full_df.columns.to_list())}')\n",
    "display(full_df)\n",
    "\n",
    "delta = \"4h\"\n",
    "compact_df = tl.compact(full_df, allow_data_loss=False, delta=delta)\n",
    "md(\n",
    "    f\"### Compacted DataFrame {delta=}: {compact_df.shape[0]} rows, {compact_df.shape[1]} columns\"\n",
    ")\n",
    "md(f'Columns: {\", \".join(compact_df.columns.to_list())}')\n",
    "# display(HTML(compact_df.to_html()))\n",
    "display(compact_df)\n",
    "\n",
    "reduced_df = tl.reduce_period(compact_df)\n",
    "md(f\"### Reduced DataFrame: {reduced_df.shape[0]} rows, {reduced_df.shape[1]} columns\")\n",
    "md(f'Columns: {\", \".join(reduced_df.columns.to_list())}')\n",
    "display(reduced_df)\n",
    "\n",
    "# display(df['message_text_NAR'].str.join('<br>').style)\n",
    "\n",
    "# df.style.set_properties(subset=['Period'], **{'vertical-align': 'text-top','width': '300px','text-align': 'center',})\n",
    "# df.style.set_properties(subset=pd.IndexSlice[:, ['']], **{'text-align': 'left'})\n",
    "# display(df.style.set_properties(**{'vertical-align': 'text-top', 'text-align': 'left','white-space': 'pre-wrap',}))\n",
    "\n",
    "# df.style.pipe(tl.sutl_style)  # Not bad\n",
    "display(HTML(views.render_reduced_df(reduced_df)))\n",
    "#!print(tl.render_df(reduced_df))"
   ]
  },
  {
   "cell_type": "markdown",
   "id": "33",
   "metadata": {},
   "source": [
    "-----------\n",
    "------------"
   ]
  },
  {
   "cell_type": "markdown",
   "id": "34",
   "metadata": {},
   "source": [
    "# Developer Only Section <font style=\"background-color:red; olor:black; font-size:20px\">REMOVE</font>\n",
    "Contains stuff only expected to be useful to developers.\n",
    "\n",
    "This may also contain sections that have moved out of the user section because they are no longer defined in the Storyboard."
   ]
  },
  {
   "cell_type": "markdown",
   "id": "35",
   "metadata": {},
   "source": [
    "## Overview \n"
   ]
  },
  {
   "cell_type": "code",
   "execution_count": null,
   "id": "36",
   "metadata": {},
   "outputs": [],
   "source": [
    "# Display overview of Report context\n",
    "try:\n",
    "    import lsst.ts.logging_and_reporting.version\n",
    "\n",
    "    lrversion = lsst.ts.logging_and_reporting.version.__version__\n",
    "except:\n",
    "    lrversion = \"LIVE\"\n",
    "\n",
    "try:\n",
    "    from lsst.summit.utils import ConsDbClient\n",
    "\n",
    "    have_consdb = True\n",
    "except:\n",
    "    have_consdb = False\n",
    "md(\n",
    "    f\"\"\"## Project-Wide Night(s) Report \n",
    "- Run on logs and databases from **{server}/**\n",
    "- Report **{days} observing night(s)** with the last reported night starting on **{date}**.\n",
    "- min_dayobs={allsrc.min_dayobs!r}, max_dayobs={allsrc.max_dayobs!r}\n",
    "- Using ***Prototype* Logging and Reporting** Version: **{lrversion}**\n",
    "- {have_consdb = }\n",
    "- {dev_msg}\n",
    "- {allsrc.nig_src.timeout=}\n",
    "\"\"\"\n",
    ")"
   ]
  },
  {
   "cell_type": "markdown",
   "id": "37",
   "metadata": {},
   "source": [
    "## Data Status\n",
    "This may be useful for diagnosing reports that give unexpected results."
   ]
  },
  {
   "cell_type": "code",
   "execution_count": null,
   "id": "38",
   "metadata": {},
   "outputs": [],
   "source": [
    "df = pd.DataFrame(allsrc.get_data_status())\n",
    "table = df.to_html(index=False, render_links=True, escape=False)\n",
    "display(HTML(table))"
   ]
  },
  {
   "cell_type": "markdown",
   "id": "39",
   "metadata": {},
   "source": [
    "## This report uses the following data sources\n",
    "- NightReport\n",
    "- Exposurelog\n",
    "- Narrativelog\n",
    "- EFD\n",
    "- ConsDB\n",
    "- (DDV)\n",
    "- (Almanac from Astroplan)"
   ]
  },
  {
   "cell_type": "markdown",
   "id": "40",
   "metadata": {},
   "source": [
    "## Where was this run?\n",
    "\n",
    "The environments that have everything needed to run this page are:\n",
    "\n",
    "    https://summit-lsp.lsst.codes\n",
    "    https://usdf-rsp-dev.slac.stanford.edu\n",
    "\n",
    "However, Times Square does not run on the Summit. It does run on USDF-dev.\n"
   ]
  },
  {
   "cell_type": "markdown",
   "id": "41",
   "metadata": {},
   "source": [
    "## Available Consolidated Database fields\n",
    "It should be easy to add data to this report when it corresponds to any of the fields listed below. \n",
    "\n",
    "**Format:** *instrument/tablename/fieldname*\n",
    "\n",
    "TODO: index by fieldname, multi-index columm = (Instrument, TableName), val = yes or NA"
   ]
  },
  {
   "cell_type": "code",
   "execution_count": null,
   "id": "42",
   "metadata": {},
   "outputs": [],
   "source": [
    "#! txt = '\\n- '.join(allsrc.cdb_src.all_available_fields)\n",
    "#! md(f'- {txt}')\n",
    "table = \"\"\n",
    "table += \"\\n| instrument | tablename | fieldname |\"\n",
    "table += \"\\n| :--------: | :-------: | :-------: |\"\n",
    "for field in allsrc.cdb_src.all_available_fields:\n",
    "    table += f'\\n| {field.replace(\"/\",\" | \")} |'\n",
    "md(table)"
   ]
  },
  {
   "cell_type": "markdown",
   "id": "43",
   "metadata": {},
   "source": [
    "## Section overviews moved here"
   ]
  },
  {
   "cell_type": "code",
   "execution_count": null,
   "id": "44",
   "metadata": {},
   "outputs": [],
   "source": [
    "# Night Report Overview\n",
    "allrep.nig_rep.overview()\n",
    "# Exposure Report Overview\n",
    "allrep.exp_rep.overview()\n",
    "# Narrative Report Overview\n",
    "allrep.nar_rep.overview()"
   ]
  },
  {
   "cell_type": "code",
   "execution_count": null,
   "id": "45",
   "metadata": {},
   "outputs": [],
   "source": [
    "# Conditionally display our current ability to connect to all needed endpoints.\n",
    "if False and not os.environ.get(\"EXTERNAL_INSTANCE_URL\"):\n",
    "    md(\"## Dashboard\")\n",
    "    md(\"(This is not done when running under Times Square.)\")\n",
    "    %run ./dashboard.ipynb"
   ]
  },
  {
   "cell_type": "code",
   "execution_count": null,
   "id": "46",
   "metadata": {},
   "outputs": [],
   "source": [
    "# Time Log\n",
    "#! allrep.exp_rep.time_log_as_markdown()"
   ]
  },
  {
   "cell_type": "markdown",
   "id": "47",
   "metadata": {},
   "source": [
    "## Finale"
   ]
  },
  {
   "cell_type": "code",
   "execution_count": null,
   "id": "48",
   "metadata": {},
   "outputs": [],
   "source": [
    "print(f\"Elapsed time (excluding code import): {timer.toc:.1f} seconds\")\n",
    "print(f\"Finished {str(dt.datetime.now().replace(microsecond=0))} UTC\")"
   ]
  }
 ],
 "metadata": {
  "kernelspec": {
   "display_name": "Python 3 (ipykernel)",
   "language": "python",
   "name": "python3"
  },
  "language_info": {
   "codemirror_mode": {
    "name": "ipython",
    "version": 3
   },
   "file_extension": ".py",
   "mimetype": "text/x-python",
   "name": "python",
   "nbconvert_exporter": "python",
   "pygments_lexer": "ipython3",
   "version": "3.11.10"
  }
 },
 "nbformat": 4,
 "nbformat_minor": 5
}
