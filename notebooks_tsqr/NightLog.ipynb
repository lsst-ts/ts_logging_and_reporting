{
 "cells": [
  {
   "cell_type": "markdown",
   "id": "0",
   "metadata": {},
   "source": [
    "# About this Page\n",
    "See [**slack #ts-logging**](https://rubin-obs.slack.com/archives/C07QJMQKJE6)\n",
    "channel for discussion about this page.  There you can report problems, questions, and requests for changes.\n",
    "\n",
    "## What is new in this app?(newest change at top of list)\n",
    "- Do not show Time Loss info unless it is greater than zero\n",
    "- Do not show software or hardware components (they are rarely used anyhow)\n",
    "- <font style=\"background-color:#ffff99\">Embedded comments and questions to reader (Yellow background)</font>\n",
    "- This page tries to work around existing problems with APIs used for source data. (There is a ticket to fix the APIs)\n",
    "- <font style=\"background-color:red; color:#90EE90\">Errors from APIs are displayed in this page (Red background).</font>\n"
   ]
  },
  {
   "cell_type": "code",
   "execution_count": 1,
   "id": "1",
   "metadata": {},
   "outputs": [],
   "source": [
    "# Parameters.\n",
    "# Times Square replaces this cell with the user's parameters.\n",
    "# So, don't put anything else here!\n",
    "\n",
    "# day_obs values: TODAY, YESTERDAY, YYYY-MM-DD\n",
    "# Report on observing nights that start upto but not included this day.\n",
    "#!day_obs = '2024-09-25' # Value to use for local testing (Summit)\n",
    "day_obs = \"TODAY\"  # TODO Change to 'YESTERDAY' and 'TODAY' to test with default before push\n",
    "\n",
    "# Total number of days of data to display (ending on day_obs)\n",
    "number_of_days = \"1\"  # TODO Change to '1' to test with default before push\n",
    "\n",
    "verbose = \"false\"  # TODO change to false before push, else true"
   ]
  },
  {
   "cell_type": "code",
   "execution_count": 2,
   "id": "2",
   "metadata": {},
   "outputs": [],
   "source": [
    "# IMPORT everything\n",
    "import datetime as dt\n",
    "import os\n",
    "from collections import defaultdict\n",
    "from pprint import pformat, pp\n",
    "from urllib.parse import urlencode, urlparse\n",
    "import pandas as pd\n",
    "from IPython.display import HTML\n",
    "\n",
    "# When running under Times Square, install pkg from github.\n",
    "# Otherwise use what is installed locally (intended to be dev editiable pkg)\n",
    "if os.environ.get(\"EXTERNAL_INSTANCE_URL\"):\n",
    "    dev_msg = (\n",
    "        'Installing \"lsst.ts.logging_and_reporting\" from github using \"prototype\" branch. \\n'\n",
    "        'TODO: Make the need for this go away by getting Logging_and_Reporting installed in RSP.'\n",
    "    )\n",
    "    !pip install --upgrade git+https://github.com/lsst-ts/ts_logging_and_reporting.git@prototype > /dev/null 2>&1\n",
    "else:\n",
    "    dev_msg = 'Imported lsst.ts.logging_and_reporting from local packages.'\n",
    "from lsst.ts.logging_and_reporting.all_sources import AllSources\n",
    "from lsst.ts.logging_and_reporting.all_reports import AllReports\n",
    "import lsst.ts.logging_and_reporting.utils as ut\n",
    "from lsst.ts.logging_and_reporting.reports import md, mdlist, mdpathlink\n",
    "from lsst.ts.logging_and_reporting.reports import html_draft, html_beta"
   ]
  },
  {
   "cell_type": "code",
   "execution_count": 3,
   "id": "4",
   "metadata": {},
   "outputs": [],
   "source": [
    "# Set default env to \"usdf\" and try before PUSH to repo.\n",
    "# The default provided here is for local testing. Under Times Square it is ignored.\n",
    "server = os.environ.get(\n",
    "    \"EXTERNAL_INSTANCE_URL\", \n",
    "    ut.Server.usdf) # TODO try with \"usdf\" before push (also \"summit\")"
   ]
  },
  {
   "cell_type": "code",
   "execution_count": 4,
   "id": "ec883835-42d3-40ae-a014-8b89befe4263",
   "metadata": {
    "jupyter": {
     "source_hidden": true
    }
   },
   "outputs": [],
   "source": [
    "date = ut.get_datetime_from_dayobs_str(day_obs)\n",
    "# date:  is EXCLUSIVE (upto, but not including)\n",
    "days = int(number_of_days)\n",
    "\n",
    "# Thus: [min_day_obs,max_day_obs)\n",
    "# Format: string, YYYY-MM-DD\n",
    "min_date = date - dt.timedelta(days=days - 1)\n",
    "max_date = date + dt.timedelta(days=1)\n",
    "min_day_obs = min_date.strftime(\"%Y-%m-%d\")  # Inclusive\n",
    "max_day_obs = max_date.strftime(\"%Y-%m-%d\")  # prep for Exclusive\n",
    "\n",
    "verbose = (verbose == \"true\") \n"
   ]
  },
  {
   "cell_type": "code",
   "execution_count": 5,
   "id": "5",
   "metadata": {
    "scrolled": true
   },
   "outputs": [],
   "source": [
    "# Read records from (almost) all sources\n",
    "timer = ut.Timer()\n",
    "allsrc = AllSources(\n",
    "    server_url=server,\n",
    "    min_dayobs=min_day_obs,\n",
    "    max_dayobs=max_day_obs,\n",
    "    verbose=verbose,                \n",
    "    limit=5000,\n",
    "    exclude_instruments = []      # TODO change to empty list before push\n",
    ")\n",
    "allrep = AllReports(allsrc=allsrc)"
   ]
  },
  {
   "cell_type": "markdown",
   "id": "a0d44b83-527e-41b2-8d05-6f6207ceba30",
   "metadata": {},
   "source": [
    "----------"
   ]
  },
  {
   "cell_type": "code",
   "execution_count": 6,
   "id": "e5c48075-7a8b-40a3-84dc-9b7408654e83",
   "metadata": {},
   "outputs": [
    {
     "data": {
      "text/markdown": [
       "# Showing data for 2024-11-20 to 2024-11-21 for LSSTComCamSim, LATISS, LSSTComCam, LSSTCam"
      ],
      "text/plain": [
       "<IPython.core.display.Markdown object>"
      ]
     },
     "metadata": {},
     "output_type": "display_data"
    },
    {
     "data": {
      "text/markdown": [
       "Most recently run on: **2024-11-20 22:12:27**"
      ],
      "text/plain": [
       "<IPython.core.display.Markdown object>"
      ]
     },
     "metadata": {},
     "output_type": "display_data"
    }
   ],
   "source": [
    "instrum_str = \", \".join(list(allsrc.exp_src.instruments.keys()))\n",
    "md(f\"# Showing data for {min_date.date()} to {max_date.date()} for {instrum_str}\")\n",
    "md(f\"Most recently run on: **{dt.datetime.now().replace(microsecond=0).isoformat(sep=' ')}**\")"
   ]
  },
  {
   "cell_type": "markdown",
   "id": "8",
   "metadata": {},
   "source": [
    "# Table of Contents\n",
    "* [Night Report](#Night-Report-BETA)\n",
    "    - AuxTel\n",
    "    - Simonyi\n",
    "* [Almanac](#Almanac-BETA)\n",
    "* [Summary plots of whole night](#Summary-plots-of-whole-night-DRAFT)\n",
    "* [Time Accounting](#Time-Accounting-DRAFT)\n",
    "* [Jira Tickets](#Jira-Tickets-BETA)\n",
    "    - AuxTel\n",
    "    - Simonyi\n",
    "* [BLOCKS Observed](#BLOCKS-Observed-DRAFT)\n",
    "    - AuxTel\n",
    "    - Simonyi\n",
    "* [Data Log](#Data-Log-BETA)\n",
    "* [Narrative Log](#Narrative-Log-BETA)\n",
    "* [Developer Only Section](#Developer-Only-Section-REMOVE)"
   ]
  },
  {
   "cell_type": "markdown",
   "id": "86ff253e-f575-4b9b-96f9-698d3faf9494",
   "metadata": {},
   "source": [
    "## Night Report <font style=\"background-color:green; color:white; font-size:20px\">BETA</font> \n",
    "<font style=\"background-color:#ffff99\">\n",
    "Word wrap instead of chopping words at end of line?\n",
    "</font>"
   ]
  },
  {
   "cell_type": "code",
   "execution_count": 7,
   "id": "10",
   "metadata": {
    "jupyter": {
     "source_hidden": true
    }
   },
   "outputs": [
    {
     "data": {
      "text/markdown": [
       "<font style=\"color:lightblue;background-color:None;\">No nightreport records found 2024-11-20 to 2024-11-21. </font>"
      ],
      "text/plain": [
       "<IPython.core.display.Markdown object>"
      ]
     },
     "metadata": {},
     "output_type": "display_data"
    },
    {
     "data": {
      "text/markdown": [
       "Used [API Data](https://usdf-rsp-dev.slac.stanford.edu/nightreport/reports?is_human=either&is_valid=true&order_by=-day_obs&offset=0&limit=100&min_day_obs=20241120&max_day_obs=20241121)"
      ],
      "text/plain": [
       "<IPython.core.display.Markdown object>"
      ]
     },
     "metadata": {},
     "output_type": "display_data"
    }
   ],
   "source": [
    "# Night Report\n",
    "# Display time log\n",
    "allrep.nig_rep.time_log_as_markdown()"
   ]
  },
  {
   "cell_type": "markdown",
   "id": "51fad717-7160-4da9-bdeb-696c92f33c19",
   "metadata": {},
   "source": [
    "## Almanac <font style=\"background-color:green; color:white; font-size:20px\">BETA</font> \n",
    "<font style=\"background-color:#ffff99\">\n",
    "Add column for Chile timezone?\n",
    "</font>"
   ]
  },
  {
   "cell_type": "code",
   "execution_count": 8,
   "id": "12",
   "metadata": {},
   "outputs": [
    {
     "data": {
      "text/markdown": [
       "**Almanac for the observing night starting 2024-11-20**"
      ],
      "text/plain": [
       "<IPython.core.display.Markdown object>"
      ]
     },
     "metadata": {},
     "output_type": "display_data"
    },
    {
     "data": {
      "text/html": [
       "<style type=\"text/css\">\n",
       "</style>\n",
       "<table id=\"T_d427c\">\n",
       "  <thead>\n",
       "  </thead>\n",
       "  <tbody>\n",
       "    <tr>\n",
       "      <th id=\"T_d427c_level0_row0\" class=\"row_heading level0 row0\" >Sun Set</th>\n",
       "      <td id=\"T_d427c_row0_col0\" class=\"data row0 col0\" >2024-11-20 23:17:44</td>\n",
       "      <td id=\"T_d427c_row0_col1\" class=\"data row0 col1\" ></td>\n",
       "    </tr>\n",
       "    <tr>\n",
       "      <th id=\"T_d427c_level0_row1\" class=\"row_heading level0 row1\" >Evening Civil Twilight</th>\n",
       "      <td id=\"T_d427c_row1_col0\" class=\"data row1 col0\" >2024-11-20 23:48:28</td>\n",
       "      <td id=\"T_d427c_row1_col1\" class=\"data row1 col1\" >(-6 degrees)</td>\n",
       "    </tr>\n",
       "    <tr>\n",
       "      <th id=\"T_d427c_level0_row2\" class=\"row_heading level0 row2\" >Evening Nautical Twilight</th>\n",
       "      <td id=\"T_d427c_row2_col0\" class=\"data row2 col0\" >2024-11-21 00:20:27</td>\n",
       "      <td id=\"T_d427c_row2_col1\" class=\"data row2 col1\" >(-12 degrees)</td>\n",
       "    </tr>\n",
       "    <tr>\n",
       "      <th id=\"T_d427c_level0_row3\" class=\"row_heading level0 row3\" >Evening Astronomical Twilight</th>\n",
       "      <td id=\"T_d427c_row3_col0\" class=\"data row3 col0\" >2024-11-21 00:54:12</td>\n",
       "      <td id=\"T_d427c_row3_col1\" class=\"data row3 col1\" >(-18 degrees)</td>\n",
       "    </tr>\n",
       "    <tr>\n",
       "      <th id=\"T_d427c_level0_row4\" class=\"row_heading level0 row4\" >Moon Rise</th>\n",
       "      <td id=\"T_d427c_row4_col0\" class=\"data row4 col0\" >2024-11-21 04:26:54</td>\n",
       "      <td id=\"T_d427c_row4_col1\" class=\"data row4 col1\" ></td>\n",
       "    </tr>\n",
       "    <tr>\n",
       "      <th id=\"T_d427c_level0_row5\" class=\"row_heading level0 row5\" >Solar Midnight</th>\n",
       "      <td id=\"T_d427c_row5_col0\" class=\"data row5 col0\" >2024-11-21 04:28:45</td>\n",
       "      <td id=\"T_d427c_row5_col1\" class=\"data row5 col1\" ></td>\n",
       "    </tr>\n",
       "    <tr>\n",
       "      <th id=\"T_d427c_level0_row6\" class=\"row_heading level0 row6\" >Morning Astronomical Twilight</th>\n",
       "      <td id=\"T_d427c_row6_col0\" class=\"data row6 col0\" >2024-11-21 08:03:18</td>\n",
       "      <td id=\"T_d427c_row6_col1\" class=\"data row6 col1\" >(-18 degrees)</td>\n",
       "    </tr>\n",
       "    <tr>\n",
       "      <th id=\"T_d427c_level0_row7\" class=\"row_heading level0 row7\" >Morning Nautical Twilight</th>\n",
       "      <td id=\"T_d427c_row7_col0\" class=\"data row7 col0\" >2024-11-21 08:37:03</td>\n",
       "      <td id=\"T_d427c_row7_col1\" class=\"data row7 col1\" >(-12 degrees)</td>\n",
       "    </tr>\n",
       "    <tr>\n",
       "      <th id=\"T_d427c_level0_row8\" class=\"row_heading level0 row8\" >Morning Civil Twilight</th>\n",
       "      <td id=\"T_d427c_row8_col0\" class=\"data row8 col0\" >2024-11-21 09:09:02</td>\n",
       "      <td id=\"T_d427c_row8_col1\" class=\"data row8 col1\" >(-6 degrees)</td>\n",
       "    </tr>\n",
       "    <tr>\n",
       "      <th id=\"T_d427c_level0_row9\" class=\"row_heading level0 row9\" >Sun Rise</th>\n",
       "      <td id=\"T_d427c_row9_col0\" class=\"data row9 col0\" >2024-11-21 09:39:47</td>\n",
       "      <td id=\"T_d427c_row9_col1\" class=\"data row9 col1\" ></td>\n",
       "    </tr>\n",
       "    <tr>\n",
       "      <th id=\"T_d427c_level0_row10\" class=\"row_heading level0 row10\" >Moon Set</th>\n",
       "      <td id=\"T_d427c_row10_col0\" class=\"data row10 col0\" >2024-11-21 14:51:23</td>\n",
       "      <td id=\"T_d427c_row10_col1\" class=\"data row10 col1\" ></td>\n",
       "    </tr>\n",
       "    <tr>\n",
       "      <th id=\"T_d427c_level0_row11\" class=\"row_heading level0 row11\" >Moon Illumination</th>\n",
       "      <td id=\"T_d427c_row11_col0\" class=\"data row11 col0\" >68%</td>\n",
       "      <td id=\"T_d427c_row11_col1\" class=\"data row11 col1\" >(% illuminated)</td>\n",
       "    </tr>\n",
       "    <tr>\n",
       "      <th id=\"T_d427c_level0_row12\" class=\"row_heading level0 row12\" ></th>\n",
       "      <td id=\"T_d427c_row12_col0\" class=\"data row12 col0\" >UTC</td>\n",
       "      <td id=\"T_d427c_row12_col1\" class=\"data row12 col1\" ></td>\n",
       "    </tr>\n",
       "  </tbody>\n",
       "</table>\n"
      ],
      "text/plain": [
       "<pandas.io.formats.style.Styler at 0x7ffff81055d0>"
      ]
     },
     "metadata": {},
     "output_type": "display_data"
    }
   ],
   "source": [
    "# Display various almanac values (for moon, sun)\n",
    "#!rep.AlmanacReport().day_obs_report(min_day_obs)\n",
    "allrep.alm_rep.day_obs_report()"
   ]
  },
  {
   "cell_type": "markdown",
   "id": "13",
   "metadata": {},
   "source": [
    "## Summary plots of whole night <font style=\"background-color:yellow; color:black; font-size:20px\">DRAFT</font>"
   ]
  },
  {
   "cell_type": "markdown",
   "id": "14",
   "metadata": {},
   "source": [
    "(content not yet defined in storyboard)"
   ]
  },
  {
   "cell_type": "code",
   "execution_count": 9,
   "id": "15",
   "metadata": {
    "jupyter": {
     "source_hidden": true
    }
   },
   "outputs": [],
   "source": [
    "# Plot Observation (Exposure) gaps\n",
    "# rollup,detail = allsrc.get_observation_gaps()\n",
    "# allrep.plot_observation_gap_detail(detail)"
   ]
  },
  {
   "cell_type": "markdown",
   "id": "38",
   "metadata": {},
   "source": [
    "## DDV <font style=\"background-color:yellow; color:black; font-size:20px\">DRAFT</font>"
   ]
  },
  {
   "cell_type": "code",
   "execution_count": 10,
   "id": "39",
   "metadata": {},
   "outputs": [
    {
     "data": {
      "text/markdown": [
       "Access DDV part of RubinTV: https://usdf-rsp-dev.slac.stanford.edu/rubintv/ddv/index.html"
      ],
      "text/plain": [
       "<IPython.core.display.Markdown object>"
      ]
     },
     "metadata": {},
     "output_type": "display_data"
    }
   ],
   "source": [
    "DDV = (\n",
    "    f\"{server}/rubintv-dev/ddv/index.html\"\n",
    "    if \"summit\" in server\n",
    "    else f\"{server}/rubintv/ddv/index.html\"\n",
    ")\n",
    "md(f\"Access DDV part of RubinTV: {DDV}\")"
   ]
  },
  {
   "cell_type": "markdown",
   "id": "9d51f937-37e7-45da-87cb-2319fd76a1cc",
   "metadata": {},
   "source": [
    "## Time Accounting <font style=\"background-color:yellow; color:black; font-size:20px\">DRAFT</font>\n",
    "TODO:\n",
    "- Time-loss for Fault and Weather\n",
    "- SlewTime from TMAEvent (or similar)\n",
    "\n",
    "SlewTime (and probably others) from EFD are only EXPECTED (topic=\"lsst.sal.Scheduler.logevent_target\"), not ACTUAL.\n",
    "To get ACTUAL time, we need to use something like \n",
    "[**TMAEvent**](https://github.com/lsst-sitcom/summit_utils/blob/f901ca4943c082500a1f357eb070a4971925c476/python/lsst/summit/utils/tmaUtils.py#L1195) \n",
    "to combine multiple real events into a synthetic event.  See DM-46102.\n"
   ]
  },
  {
   "cell_type": "code",
   "execution_count": 11,
   "id": "16",
   "metadata": {},
   "outputs": [
    {
     "data": {
      "text/html": [
       "<div>\n",
       "<style scoped>\n",
       "    .dataframe tbody tr th:only-of-type {\n",
       "        vertical-align: middle;\n",
       "    }\n",
       "\n",
       "    .dataframe tbody tr th {\n",
       "        vertical-align: top;\n",
       "    }\n",
       "\n",
       "    .dataframe thead th {\n",
       "        text-align: right;\n",
       "    }\n",
       "</style>\n",
       "<table border=\"1\" class=\"dataframe\">\n",
       "  <thead>\n",
       "    <tr style=\"text-align: right;\">\n",
       "      <th></th>\n",
       "      <th>LSSTComCam</th>\n",
       "    </tr>\n",
       "  </thead>\n",
       "  <tbody>\n",
       "    <tr>\n",
       "      <th>Total Night</th>\n",
       "      <td>7:09:05</td>\n",
       "    </tr>\n",
       "    <tr>\n",
       "      <th>Total Exposure</th>\n",
       "      <td>0:00:49</td>\n",
       "    </tr>\n",
       "    <tr>\n",
       "      <th>Slew time(1)</th>\n",
       "      <td>0:00:00</td>\n",
       "    </tr>\n",
       "    <tr>\n",
       "      <th>Readout time(2)</th>\n",
       "      <td>0:00:45</td>\n",
       "    </tr>\n",
       "    <tr>\n",
       "      <th>Time loss to fault</th>\n",
       "      <td>0</td>\n",
       "    </tr>\n",
       "    <tr>\n",
       "      <th>Time loss to weather</th>\n",
       "      <td>0</td>\n",
       "    </tr>\n",
       "    <tr>\n",
       "      <th>Idle time</th>\n",
       "      <td>7:07:30</td>\n",
       "    </tr>\n",
       "    <tr>\n",
       "      <th>Number of exposures</th>\n",
       "      <td>19</td>\n",
       "    </tr>\n",
       "    <tr>\n",
       "      <th>Mean readout time</th>\n",
       "      <td>0:00:02</td>\n",
       "    </tr>\n",
       "    <tr>\n",
       "      <th>Number of slews(1)</th>\n",
       "      <td>0</td>\n",
       "    </tr>\n",
       "    <tr>\n",
       "      <th>Mean Slew time(1)</th>\n",
       "      <td>0:00:00</td>\n",
       "    </tr>\n",
       "  </tbody>\n",
       "</table>\n",
       "</div>"
      ],
      "text/plain": [
       "                     LSSTComCam\n",
       "Total Night             7:09:05\n",
       "Total Exposure          0:00:49\n",
       "Slew time(1)            0:00:00\n",
       "Readout time(2)         0:00:45\n",
       "Time loss to fault            0\n",
       "Time loss to weather          0\n",
       "Idle time               7:07:30\n",
       "Number of exposures          19\n",
       "Mean readout time       0:00:02\n",
       "Number of slews(1)            0\n",
       "Mean Slew time(1)       0:00:00"
      ]
     },
     "metadata": {},
     "output_type": "display_data"
    }
   ],
   "source": [
    "# Exposure Tally\n",
    "tally = await allsrc.night_tally_observation_gaps()\n",
    "if tally:\n",
    "    display(pd.DataFrame(tally))"
   ]
  },
  {
   "cell_type": "markdown",
   "id": "ad5a2e6c-ca0d-4978-bac9-25c83f90d090",
   "metadata": {},
   "source": [
    "- (1) *Expected* slew time as per Schedular\n",
    "- (2) There is no practical way to get detector read-out time.  A value of 2.3 seconds was inferred from experiments."
   ]
  },
  {
   "cell_type": "markdown",
   "id": "17",
   "metadata": {},
   "source": [
    "## Jira Tickets <font style=\"background-color:green; color:white; font-size:20px\">BETA</font> \n",
    "- Observing Operations - OBS\n",
    "- TODO: better tickets using Jira API"
   ]
  },
  {
   "cell_type": "code",
   "execution_count": 12,
   "id": "18",
   "metadata": {},
   "outputs": [
    {
     "data": {
      "text/markdown": [
       "- [OBS-693](https://rubinobs.atlassian.net/browse/OBS-693)"
      ],
      "text/plain": [
       "<IPython.core.display.Markdown object>"
      ]
     },
     "metadata": {},
     "output_type": "display_data"
    },
    {
     "data": {
      "text/markdown": [
       "- [OBS-695](https://rubinobs.atlassian.net/browse/OBS-695)"
      ],
      "text/plain": [
       "<IPython.core.display.Markdown object>"
      ]
     },
     "metadata": {},
     "output_type": "display_data"
    },
    {
     "data": {
      "text/markdown": [
       "- [OBS-694](https://rubinobs.atlassian.net/browse/OBS-694)"
      ],
      "text/plain": [
       "<IPython.core.display.Markdown object>"
      ]
     },
     "metadata": {},
     "output_type": "display_data"
    },
    {
     "data": {
      "text/markdown": [
       "- [OBS-696](https://rubinobs.atlassian.net/browse/OBS-696)"
      ],
      "text/plain": [
       "<IPython.core.display.Markdown object>"
      ]
     },
     "metadata": {},
     "output_type": "display_data"
    }
   ],
   "source": [
    "if allsrc.urls:\n",
    "    for url in allsrc.urls:\n",
    "        md(f\"- {mdpathlink(url)}\")"
   ]
  },
  {
   "cell_type": "code",
   "execution_count": 13,
   "id": "19",
   "metadata": {
    "jupyter": {
     "source_hidden": true
    }
   },
   "outputs": [
    {
     "data": {
      "text/markdown": [
       "No tickets found using: [API Data](https://usdf-rsp-dev.slac.stanford.edu/nightreport/reports?is_human=either&is_valid=true&order_by=-day_obs&offset=0&limit=100&min_day_obs=20241120&max_day_obs=20241121) in `confluence_url`."
      ],
      "text/plain": [
       "<IPython.core.display.Markdown object>"
      ]
     },
     "metadata": {},
     "output_type": "display_data"
    }
   ],
   "source": [
    "# Display Jira BLOCKS\n",
    "front = \"https://rubinobs.atlassian.net/projects/BLOCK?selectedItem=com.atlassian.plugins.atlassian-connect-plugin:com.kanoah.test-manager__main-project-page#!/\"\n",
    "tickets = allsrc.nig_src.nightly_tickets()\n",
    "if tickets:\n",
    "    mdstr = \"#### Nightly Jira BLOCKs\"\n",
    "    for day, url_list in tickets.items():\n",
    "        mdstr += f\"\\n- {day}\"\n",
    "        for ticket_url in url_list:\n",
    "            mdstr += f'\\n    - [{ticket_url.replace(front,\"\")}]({ticket_url})'\n",
    "    md(mdstr)\n",
    "else:\n",
    "    endpoint_url = allsrc.nig_src.status[\"reports\"][\"endpoint_url\"]\n",
    "    md(f\"No tickets found using: [API Data]({endpoint_url}) in `confluence_url`.\")"
   ]
  },
  {
   "cell_type": "markdown",
   "id": "20",
   "metadata": {},
   "source": [
    "## BLOCKS Observed <font style=\"background-color:yellow; color:black; font-size:20px\">DRAFT</font>\n",
    "- TODO: BLOCKS observed"
   ]
  },
  {
   "cell_type": "markdown",
   "id": "71772e8d-658d-497a-b391-5996066f401a",
   "metadata": {},
   "source": [
    "## Data Log <font style=\"background-color:green; color:white; font-size:20px\">BETA</font>"
   ]
  },
  {
   "cell_type": "code",
   "execution_count": 14,
   "id": "1b509665-d538-4bd9-a93c-22c3ec1ded12",
   "metadata": {},
   "outputs": [
    {
     "data": {
      "text/markdown": [
       "**LSSTComCamSim: 0 total exposures**"
      ],
      "text/plain": [
       "<IPython.core.display.Markdown object>"
      ]
     },
     "metadata": {},
     "output_type": "display_data"
    },
    {
     "data": {
      "text/markdown": [
       "**LATISS: 0 total exposures**"
      ],
      "text/plain": [
       "<IPython.core.display.Markdown object>"
      ]
     },
     "metadata": {},
     "output_type": "display_data"
    },
    {
     "data": {
      "text/markdown": [
       "**LSSTComCam: 19 total exposures**"
      ],
      "text/plain": [
       "<IPython.core.display.Markdown object>"
      ]
     },
     "metadata": {},
     "output_type": "display_data"
    },
    {
     "name": "stdout",
     "output_type": "stream",
     "text": [
      "Observation Type\n"
     ]
    },
    {
     "data": {
      "text/html": [
       "<style type=\"text/css\">\n",
       "</style>\n",
       "<table id=\"T_b85fe\">\n",
       "  <thead>\n",
       "    <tr>\n",
       "      <th id=\"T_b85fe_level0_col0\" class=\"col_heading level0 col0\" >Detail</th>\n",
       "      <th id=\"T_b85fe_level0_col1\" class=\"col_heading level0 col1\" >good</th>\n",
       "      <th id=\"T_b85fe_level0_col2\" class=\"col_heading level0 col2\" >questionable</th>\n",
       "      <th id=\"T_b85fe_level0_col3\" class=\"col_heading level0 col3\" >junk</th>\n",
       "      <th id=\"T_b85fe_level0_col4\" class=\"col_heading level0 col4\" >unknown</th>\n",
       "    </tr>\n",
       "  </thead>\n",
       "  <tbody>\n",
       "    <tr>\n",
       "      <td id=\"T_b85fe_row0_col0\" class=\"data row0 col0\" ><a href=https://usdf-rsp-dev.slac.stanford.edu/times-square/github/lsst-ts/ts_logging_and_reporting/ExposureDetail?day_obs=2024-11-20&number_of_days=1&instrument=LSSTComCam&observation_type=acq>acq</a></td>\n",
       "      <td id=\"T_b85fe_row0_col1\" class=\"data row0 col1\" >0</td>\n",
       "      <td id=\"T_b85fe_row0_col2\" class=\"data row0 col2\" >0</td>\n",
       "      <td id=\"T_b85fe_row0_col3\" class=\"data row0 col3\" >0</td>\n",
       "      <td id=\"T_b85fe_row0_col4\" class=\"data row0 col4\" >9</td>\n",
       "    </tr>\n",
       "    <tr>\n",
       "      <td id=\"T_b85fe_row1_col0\" class=\"data row1 col0\" ><a href=https://usdf-rsp-dev.slac.stanford.edu/times-square/github/lsst-ts/ts_logging_and_reporting/ExposureDetail?day_obs=2024-11-20&number_of_days=1&instrument=LSSTComCam&observation_type=bias>bias</a></td>\n",
       "      <td id=\"T_b85fe_row1_col1\" class=\"data row1 col1\" >0</td>\n",
       "      <td id=\"T_b85fe_row1_col2\" class=\"data row1 col2\" >0</td>\n",
       "      <td id=\"T_b85fe_row1_col3\" class=\"data row1 col3\" >0</td>\n",
       "      <td id=\"T_b85fe_row1_col4\" class=\"data row1 col4\" >10</td>\n",
       "    </tr>\n",
       "  </tbody>\n",
       "</table>\n"
      ],
      "text/plain": [
       "<IPython.core.display.HTML object>"
      ]
     },
     "metadata": {},
     "output_type": "display_data"
    },
    {
     "name": "stdout",
     "output_type": "stream",
     "text": [
      "Observation Reason\n"
     ]
    },
    {
     "data": {
      "text/html": [
       "<style type=\"text/css\">\n",
       "</style>\n",
       "<table id=\"T_75df3\">\n",
       "  <thead>\n",
       "    <tr>\n",
       "      <th id=\"T_75df3_level0_col0\" class=\"col_heading level0 col0\" >Detail</th>\n",
       "      <th id=\"T_75df3_level0_col1\" class=\"col_heading level0 col1\" >good</th>\n",
       "      <th id=\"T_75df3_level0_col2\" class=\"col_heading level0 col2\" >questionable</th>\n",
       "      <th id=\"T_75df3_level0_col3\" class=\"col_heading level0 col3\" >junk</th>\n",
       "      <th id=\"T_75df3_level0_col4\" class=\"col_heading level0 col4\" >unknown</th>\n",
       "    </tr>\n",
       "  </thead>\n",
       "  <tbody>\n",
       "    <tr>\n",
       "      <td id=\"T_75df3_row0_col0\" class=\"data row0 col0\" ><a href=https://usdf-rsp-dev.slac.stanford.edu/times-square/github/lsst-ts/ts_logging_and_reporting/ExposureDetail?day_obs=2024-11-20&number_of_days=1&instrument=LSSTComCam&observation_reason=comcam-usdf-checkout>comcam-usdf-checkout</a></td>\n",
       "      <td id=\"T_75df3_row0_col1\" class=\"data row0 col1\" >0</td>\n",
       "      <td id=\"T_75df3_row0_col2\" class=\"data row0 col2\" >0</td>\n",
       "      <td id=\"T_75df3_row0_col3\" class=\"data row0 col3\" >0</td>\n",
       "      <td id=\"T_75df3_row0_col4\" class=\"data row0 col4\" >10</td>\n",
       "    </tr>\n",
       "    <tr>\n",
       "      <td id=\"T_75df3_row1_col0\" class=\"data row1 col0\" ><a href=https://usdf-rsp-dev.slac.stanford.edu/times-square/github/lsst-ts/ts_logging_and_reporting/ExposureDetail?day_obs=2024-11-20&number_of_days=1&instrument=LSSTComCam&observation_reason=tmacheckout>tmacheckout</a></td>\n",
       "      <td id=\"T_75df3_row1_col1\" class=\"data row1 col1\" >0</td>\n",
       "      <td id=\"T_75df3_row1_col2\" class=\"data row1 col2\" >0</td>\n",
       "      <td id=\"T_75df3_row1_col3\" class=\"data row1 col3\" >0</td>\n",
       "      <td id=\"T_75df3_row1_col4\" class=\"data row1 col4\" >9</td>\n",
       "    </tr>\n",
       "  </tbody>\n",
       "</table>\n"
      ],
      "text/plain": [
       "<IPython.core.display.HTML object>"
      ]
     },
     "metadata": {},
     "output_type": "display_data"
    },
    {
     "name": "stdout",
     "output_type": "stream",
     "text": [
      "Science Program\n"
     ]
    },
    {
     "data": {
      "text/html": [
       "<style type=\"text/css\">\n",
       "</style>\n",
       "<table id=\"T_8e72c\">\n",
       "  <thead>\n",
       "    <tr>\n",
       "      <th id=\"T_8e72c_level0_col0\" class=\"col_heading level0 col0\" >Detail</th>\n",
       "      <th id=\"T_8e72c_level0_col1\" class=\"col_heading level0 col1\" >good</th>\n",
       "      <th id=\"T_8e72c_level0_col2\" class=\"col_heading level0 col2\" >questionable</th>\n",
       "      <th id=\"T_8e72c_level0_col3\" class=\"col_heading level0 col3\" >junk</th>\n",
       "      <th id=\"T_8e72c_level0_col4\" class=\"col_heading level0 col4\" >unknown</th>\n",
       "    </tr>\n",
       "  </thead>\n",
       "  <tbody>\n",
       "    <tr>\n",
       "      <td id=\"T_8e72c_row0_col0\" class=\"data row0 col0\" ><a href=https://usdf-rsp-dev.slac.stanford.edu/times-square/github/lsst-ts/ts_logging_and_reporting/ExposureDetail?day_obs=2024-11-20&number_of_days=1&instrument=LSSTComCam&science_program=BLOCK-T246>BLOCK-T246</a></td>\n",
       "      <td id=\"T_8e72c_row0_col1\" class=\"data row0 col1\" >0</td>\n",
       "      <td id=\"T_8e72c_row0_col2\" class=\"data row0 col2\" >0</td>\n",
       "      <td id=\"T_8e72c_row0_col3\" class=\"data row0 col3\" >0</td>\n",
       "      <td id=\"T_8e72c_row0_col4\" class=\"data row0 col4\" >10</td>\n",
       "    </tr>\n",
       "    <tr>\n",
       "      <td id=\"T_8e72c_row1_col0\" class=\"data row1 col0\" ><a href=https://usdf-rsp-dev.slac.stanford.edu/times-square/github/lsst-ts/ts_logging_and_reporting/ExposureDetail?day_obs=2024-11-20&number_of_days=1&instrument=LSSTComCam&science_program=BLOCK-T250>BLOCK-T250</a></td>\n",
       "      <td id=\"T_8e72c_row1_col1\" class=\"data row1 col1\" >0</td>\n",
       "      <td id=\"T_8e72c_row1_col2\" class=\"data row1 col2\" >0</td>\n",
       "      <td id=\"T_8e72c_row1_col3\" class=\"data row1 col3\" >0</td>\n",
       "      <td id=\"T_8e72c_row1_col4\" class=\"data row1 col4\" >9</td>\n",
       "    </tr>\n",
       "  </tbody>\n",
       "</table>\n"
      ],
      "text/plain": [
       "<IPython.core.display.HTML object>"
      ]
     },
     "metadata": {},
     "output_type": "display_data"
    },
    {
     "data": {
      "text/markdown": [
       "**LSSTCam: 0 total exposures**"
      ],
      "text/plain": [
       "<IPython.core.display.Markdown object>"
      ]
     },
     "metadata": {},
     "output_type": "display_data"
    }
   ],
   "source": [
    "# Exposure Report\n",
    "for instrum in allsrc.exp_src.exposures.keys():\n",
    "    md(f'**{instrum}: {len(allsrc.exp_src.exposures[instrum])} total exposures**')\n",
    "    df_dict = allsrc.fields_count_exposure(instrum)\n",
    "    for field_name,df in df_dict.items():\n",
    "        if df.empty:\n",
    "            continue\n",
    "        print(field_name.title().replace('_',' '))\n",
    "        display(HTML(df.style.hide().to_html(escape=False)))"
   ]
  },
  {
   "cell_type": "markdown",
   "id": "20820900-05ab-4ca5-8df5-9f725c0ee570",
   "metadata": {},
   "source": [
    "## Narrative Log <font style=\"background-color:green; color:white; font-size:20px\">BETA</font> \n",
    "<font style=\"background-color:#ffff99\">\n",
    "- Truncate text messages to N chars (ending with \"...\" as link if truncated, link goes to page with full message record including text and all attributes)\n",
    "- Detect some kinds of \"blocks\" and render in smaller text (+ other format changes)  \n",
    "</font>"
   ]
  },
  {
   "cell_type": "code",
   "execution_count": 15,
   "id": "26",
   "metadata": {
    "editable": true,
    "slideshow": {
     "slide_type": ""
    },
    "tags": []
   },
   "outputs": [
    {
     "data": {
      "text/markdown": [
       "- **2024-11-20 10:37**   **MainTel** \n",
       "\n",
       "<pre style='color: black; background-color: white; font-size: 1em; margin-left: 0px; '>TMA is parked. M2 recovered. Finishing the remainder of the shut down procedures.</pre>\n"
      ],
      "text/plain": [
       "<IPython.core.display.Markdown object>"
      ]
     },
     "metadata": {},
     "output_type": "display_data"
    },
    {
     "data": {
      "text/markdown": [
       "\n",
       "\n",
       "M2 went into fault while trying to park the TMA with elevation parking settings. We had just tried to run BLOCK-284 with no success. \r\n",
       "\r\n",
       "\r\n",
       "M2 is Reporting:\r\n",
       "\r\n",
       "\r\n",
       "2024/11/20 09:46:40 TAI\r\n",
       "Inclinometer Difference Error \r\n",
       "\r\n",
       "\r\n",
       "2024/11/20 09:48:08 TAI\r\n",
       "\r\n",
       "\r\n",
       "Error when doing the basic cleanup and power off the motor.\r\n",
       "<pre style='color: black; background-color: #FFDDDD; font-size: 0.875em; margin-left: 20px; '>Traceback (most recent call last):\r\n",
       "  File &quot;/opt/lsst/software/stack/miniconda/lib/python3.11/site-packages/lsst/ts/m2/csc.py&quot;, line 1277, in _basic_cleanup_and_power_off_motor\r\n",
       "    await self._execute_command(\r\n",
       "  File &quot;/opt/lsst/software/stack/miniconda/lib/python3.11/site-packages/lsst/ts/m2/csc.py&quot;, line 2052, in _execute_command\r\n",
       "    await command(*args, timeout=timeout, **kwargs)  # type: ignore[operator]\r\n",
       "    ^^^^^^^^^^^^^^^^^^^^^^^^^^^^^^^^^^^^^^^^^^^^^^^\r\n",
       "  File &quot;/opt/lsst/software/stack/miniconda/lib/python3.11/site-packages/lsst/ts/m2com/controller.py&quot;, line 952, in set_closed_loop_control_mode\r\n",
       "    raise RuntimeError(\r\n",
       "RuntimeError: Closed-loop control mode is &amp;lt;ClosedLoopControlMode.OpenLoop: 3&amp;gt; instead of &amp;lt;ClosedLoopControlMode.TelemetryOnly: 2&amp;gt; in timeout.\r\n",
       "d\r\n",
       "2024/11/20 09:46:40 TAI\r\n",
       "\r\n",
       "\r\n",
       "Fault! errorCode=1, errorReport=&quot;Controller&#x27;s state is Fault.&quot;\r\n",
       "\r\n",
       "\r\n",
       "Elevation angle as measured by M2: 70.71. \r\n",
       "TMA elevation position: 70.88. \r\n",
       "\r\n",
       "\r\n",
       "Is this why there is an inclination error? \r\n",
       "\r\n",
       "\r\n",
       "M2 error codes\r\n",
       "\r\n",
       "\r\n",
       "11/20/2024 06:23:23\r\n",
       "11/20/2024 06:23:31\r\n",
       "11/20/2024 06:46:03\r\n",
       "11/20/2024 06:46:03\r\n",
       "11/20/2024 06:47:32\r\n",
       "11/20/2024 06:50:14\r\n",
       "6053.00\r\n",
       "cRIO Communication Error\r\n",
       "0.00\r\n",
       "1.00\r\n",
       "Controller&#x27;s state is Fault.\r\n",
       "6060.00\r\n",
       "Inclinometer Difference Error\r\n",
       "</pre>\n"
      ],
      "text/plain": [
       "<IPython.core.display.Markdown object>"
      ]
     },
     "metadata": {},
     "output_type": "display_data"
    },
    {
     "data": {
      "text/markdown": [
       "- Link: [OBS-696](https://rubinobs.atlassian.net/browse/OBS-696)"
      ],
      "text/plain": [
       "<IPython.core.display.Markdown object>"
      ]
     },
     "metadata": {},
     "output_type": "display_data"
    },
    {
     "data": {
      "text/markdown": [
       "- **2024-11-20 10:02**   **MainTel** \n",
       "\n",
       "<pre style='color: black; background-color: white; font-size: 1em; margin-left: 0px; '>M2 error codes\r\n",
       "\r\n",
       "\r\n",
       "11/20/2024 06:23:23\r\n",
       "11/20/2024 06:23:31\r\n",
       "11/20/2024 06:46:03\r\n",
       "11/20/2024 06:46:03\r\n",
       "11/20/2024 06:47:32\r\n",
       "11/20/2024 06:50:14\r\n",
       "6053.00\r\n",
       "cRIO Communication Error\r\n",
       "0.00\r\n",
       "1.00\r\n",
       "Controller's state is Fault.\r\n",
       "6060.00\r\n",
       "Inclinometer Difference Error</pre>\n"
      ],
      "text/plain": [
       "<IPython.core.display.Markdown object>"
      ]
     },
     "metadata": {},
     "output_type": "display_data"
    },
    {
     "data": {
      "text/markdown": [
       "- **2024-11-20 10:01**   **MainTel** \n",
       "\n",
       "<pre style='color: black; background-color: white; font-size: 1em; margin-left: 0px; '>Elevation angle as measured by M2: 70.71. \r\n",
       "\r\n",
       "\r\n",
       "TMA elevation position: 70.88. \r\n",
       "\r\n",
       "\r\n",
       "Is this why there is an inclination error?</pre>\n"
      ],
      "text/plain": [
       "<IPython.core.display.Markdown object>"
      ]
     },
     "metadata": {},
     "output_type": "display_data"
    },
    {
     "data": {
      "text/markdown": [
       "\n",
       "\n",
       "M2 is Reporting:\r\n",
       "\r\n",
       "\r\n",
       "2024/11/20 09:46:40 TAI\r\n",
       "Inclinometer Difference Error \r\n",
       "\r\n",
       "\r\n",
       "2024/11/20 09:48:08 TAI\r\n",
       "\r\n",
       "\r\n",
       "Error when doing the basic cleanup and power off the motor.\r\n",
       "<pre style='color: black; background-color: #FFDDDD; font-size: 0.875em; margin-left: 20px; '>Traceback (most recent call last):\r\n",
       "  File &quot;/opt/lsst/software/stack/miniconda/lib/python3.11/site-packages/lsst/ts/m2/csc.py&quot;, line 1277, in _basic_cleanup_and_power_off_motor\r\n",
       "    await self._execute_command(\r\n",
       "  File &quot;/opt/lsst/software/stack/miniconda/lib/python3.11/site-packages/lsst/ts/m2/csc.py&quot;, line 2052, in _execute_command\r\n",
       "    await command(*args, timeout=timeout, **kwargs)  # type: ignore[operator]\r\n",
       "    ^^^^^^^^^^^^^^^^^^^^^^^^^^^^^^^^^^^^^^^^^^^^^^^\r\n",
       "  File &quot;/opt/lsst/software/stack/miniconda/lib/python3.11/site-packages/lsst/ts/m2com/controller.py&quot;, line 952, in set_closed_loop_control_mode\r\n",
       "    raise RuntimeError(\r\n",
       "RuntimeError: Closed-loop control mode is &amp;lt;ClosedLoopControlMode.OpenLoop: 3&amp;gt; instead of &amp;lt;ClosedLoopControlMode.TelemetryOnly: 2&amp;gt; in timeout.\r\n",
       "d\r\n",
       "2024/11/20 09:46:40 TAI\r\n",
       "\r\n",
       "\r\n",
       "Fault! errorCode=1, errorReport=&quot;Controller&#x27;s state is Fault.&quot;\r\n",
       "</pre>\n"
      ],
      "text/plain": [
       "<IPython.core.display.Markdown object>"
      ]
     },
     "metadata": {},
     "output_type": "display_data"
    },
    {
     "data": {
      "text/markdown": [
       "- **2024-11-20 09:48**   **MainTel** \n",
       "\n",
       "<pre style='color: black; background-color: white; font-size: 1em; margin-left: 0px; '>M2 went into fault while trying to park the TMA.</pre>\n"
      ],
      "text/plain": [
       "<IPython.core.display.Markdown object>"
      ]
     },
     "metadata": {},
     "output_type": "display_data"
    },
    {
     "data": {
      "text/markdown": [
       "\n",
       "\n",
       "BLOCK-284 failed again - failing to home TMA, when we literally just did. A bug? \r\n",
       "Sal: 104373\r\n",
       "\r\n",
       "\r\n",
       "2024/11/20 09:26:27 TAI\r\n",
       "\r\n",
       "\r\n",
       "Error in run\r\n",
       "<pre style='color: black; background-color: #FFDDDD; font-size: 0.875em; margin-left: 20px; '>Traceback (most recent call last):\r\n",
       "  File &quot;/opt/lsst/software/stack/conda/envs/lsst-scipipe-9.0.0/lib/python3.11/site-packages/lsst/ts/salobj/base_script.py&quot;, line 631, in do_run\r\n",
       "    await self._run_task\r\n",
       "  File &quot;/net/obs-env/auto_base_packages/ts_standardscripts/python/lsst/ts/standardscripts/base_block_script.py&quot;, line 302, in run\r\n",
       "    await self.run_block()\r\n",
       "  File &quot;/net/obs-env/auto_base_packages/ts_standardscripts/python/lsst/ts/standardscripts/maintel/move_p2p.py&quot;, line 182, in run_block\r\n",
       "    await self.mtcs.move_p2p_azel(\r\n",
       "  File &quot;/net/obs-env/auto_base_packages/ts_observatory_control/python/lsst/ts/observatory/control/maintel/mtcs.py&quot;, line 2242, in move_p2p_azel\r\n",
       "    await self.process_as_completed(tasks)\r\n",
       "  File &quot;/net/obs-env/auto_base_packages/ts_observatory_control/python/lsst/ts/observatory/control/remote_group.py&quot;, line 1132, in process_as_completed\r\n",
       "    raise e\r\n",
       "  File &quot;/net/obs-env/auto_base_packages/ts_observatory_control/python/lsst/ts/observatory/control/remote_group.py&quot;, line 1129, in process_as_completed\r\n",
       "    ret_val = await res\r\n",
       "              ^^^^^^^^^\r\n",
       "  File &quot;/opt/lsst/software/stack/conda/envs/lsst-scipipe-9.0.0/lib/python3.11/asyncio/tasks.py&quot;, line 615, in _wait_for_one\r\n",
       "    return f.result()  # May raise f.exception().\r\n",
       "           ^^^^^^^^^^\r\n",
       "  File &quot;/opt/lsst/software/stack/conda/envs/lsst-scipipe-9.0.0/lib/python3.11/site-packages/lsst/ts/salobj/topics/remote_command.py&quot;, line 416, in set_start\r\n",
       "    return await self.start(timeout=timeout, wait_done=wait_done)\r\n",
       "           ^^^^^^^^^^^^^^^^^^^^^^^^^^^^^^^^^^^^^^^^^^^^^^^^^^^^^^\r\n",
       "  File &quot;/opt/lsst/software/stack/conda/envs/lsst-scipipe-9.0.0/lib/python3.11/site-packages/lsst/ts/salobj/topics/remote_command.py&quot;, line 487, in start\r\n",
       "    return await cmd_info.next_ackcmd(timeout=timeout)\r\n",
       "           ^^^^^^^^^^^^^^^^^^^^^^^^^^^^^^^^^^^^^^^^^^^\r\n",
       "  File &quot;/opt/lsst/software/stack/conda/envs/lsst-scipipe-9.0.0/lib/python3.11/site-packages/lsst/ts/salobj/topics/remote_command.py&quot;, line 191, in next_ackcmd\r\n",
       "    raise base.AckError(msg=&quot;Command failed&quot;, ackcmd=ackcmd)\r\n",
       "lsst.ts.salobj.base.AckError: msg=&#x27;Command failed&#x27;, ackcmd=(ackcmd private_seqNum=930398849, ack=&amp;lt;SalRetCode.CMD_FAILED: -302&amp;gt;, error=1, result=&#x27;Failed: Homming not done\\nDiscrete motion not available\\nPerform a homming or \\nallow relative movements and relative commands in settings\\nNot accepted command: 103&#x27;)\r\n",
       "</pre>\n"
      ],
      "text/plain": [
       "<IPython.core.display.Markdown object>"
      ]
     },
     "metadata": {},
     "output_type": "display_data"
    },
    {
     "data": {
      "text/markdown": [
       "- **2024-11-20 09:24**   **MainTel** \n",
       "\n",
       "<pre style='color: black; background-color: white; font-size: 1em; margin-left: 0px; '>BLOCK-284 failed saying TMA was not homed (it was in the position we left it after a point_azel). We are homing the axes and trying again.</pre>\n"
      ],
      "text/plain": [
       "<IPython.core.display.Markdown object>"
      ]
     },
     "metadata": {},
     "output_type": "display_data"
    },
    {
     "data": {
      "text/markdown": [
       "- **2024-11-20 09:17**   **MainTel** \n",
       "\n",
       "<pre style='color: black; background-color: white; font-size: 1em; margin-left: 0px; '>MTDome shutters are closed. I went upstairs to close the shutters. I pushed ApS - Right first, and it closed completely. The operation button glowed solid green. I then pushed to close the left shutter. I waited more than 7 minutes. It LOOKED fully closed. The light kept flashing green, however. I waited until 10 minutes. The close button never stopped flashing green. I disabled the switches and left the 8th floor. There appeared to be no light leak.</pre>\n"
      ],
      "text/plain": [
       "<IPython.core.display.Markdown object>"
      ]
     },
     "metadata": {},
     "output_type": "display_data"
    },
    {
     "data": {
      "text/markdown": [
       "- Link: [OBS-695](https://rubinobs.atlassian.net/browse/OBS-695)"
      ],
      "text/plain": [
       "<IPython.core.display.Markdown object>"
      ]
     },
     "metadata": {},
     "output_type": "display_data"
    },
    {
     "data": {
      "text/markdown": [
       "- **2024-11-20 09:14**   **MainTel** \n",
       "\n",
       "<pre style='color: black; background-color: white; font-size: 1em; margin-left: 0px; '>Running BLOCK-284.</pre>\n"
      ],
      "text/plain": [
       "<IPython.core.display.Markdown object>"
      ]
     },
     "metadata": {},
     "output_type": "display_data"
    },
    {
     "data": {
      "text/markdown": [
       "- **2024-11-20 08:35**   **MainTel** \n",
       "\n",
       "<pre style='color: black; background-color: white; font-size: 1em; margin-left: 0px; '>CCW and rotator are out of sync again. Using the TMA EUI to realign the two.</pre>\n"
      ],
      "text/plain": [
       "<IPython.core.display.Markdown object>"
      ]
     },
     "metadata": {},
     "output_type": "display_data"
    },
    {
     "data": {
      "text/markdown": [
       "- **2024-11-20 08:23**   **MainTel** \n",
       "\n",
       "<pre style='color: black; background-color: white; font-size: 1em; margin-left: 0px; '>Raising M1M3 again.</pre>\n"
      ],
      "text/plain": [
       "<IPython.core.display.Markdown object>"
      ]
     },
     "metadata": {},
     "output_type": "display_data"
    },
    {
     "data": {
      "text/markdown": [
       "- **2024-11-20 08:17**   **MainTel** \n",
       "\n",
       "<pre style='color: black; background-color: white; font-size: 1em; margin-left: 0px; '>Attempting to do a move_azel, ignoring Mtdome components. \r\n",
       "\r\n",
       "\r\n",
       "M1M3 faulted immediately. \r\n",
       "2024/11/20 08:15:51 TAI\r\n",
       "Force controller Z Moment Limit - applied 12161.35 N, expected -9000.00 N to 9000.00 N</pre>\n"
      ],
      "text/plain": [
       "<IPython.core.display.Markdown object>"
      ]
     },
     "metadata": {},
     "output_type": "display_data"
    },
    {
     "data": {
      "text/markdown": [
       "- **2024-11-20 08:10**   **MainTel** \n",
       "\n",
       "<pre style='color: black; background-color: white; font-size: 1em; margin-left: 0px; '>Beginning shutdown procedures. Parking dome first.</pre>\n"
      ],
      "text/plain": [
       "<IPython.core.display.Markdown object>"
      ]
     },
     "metadata": {},
     "output_type": "display_data"
    },
    {
     "data": {
      "text/markdown": [
       "- **2024-11-20 08:05**   **MainTel** \n",
       "\n",
       "<pre style='color: black; background-color: white; font-size: 1em; margin-left: 0px; '>We continued on with scheduler tests until about 05:05 and we interrupted observations to close for the night.</pre>\n"
      ],
      "text/plain": [
       "<IPython.core.display.Markdown object>"
      ]
     },
     "metadata": {},
     "output_type": "display_data"
    },
    {
     "data": {
      "text/markdown": [
       "- **2024-11-20 07:21**   **MainTel** \n",
       "\n",
       "<pre style='color: black; background-color: white; font-size: 1em; margin-left: 0px; '>Close_loop_comcam failed spitting out a bunch of Nan values.</pre>\n"
      ],
      "text/plain": [
       "<IPython.core.display.Markdown object>"
      ]
     },
     "metadata": {},
     "output_type": "display_data"
    },
    {
     "data": {
      "text/markdown": [
       "- **2024-11-20 07:18**   **MainTel** \n",
       "\n",
       "<pre style='color: black; background-color: white; font-size: 1em; margin-left: 0px; '>AOS team has finished collecting data - going to start the schedule for science driven observations.</pre>\n"
      ],
      "text/plain": [
       "<IPython.core.display.Markdown object>"
      ]
     },
     "metadata": {},
     "output_type": "display_data"
    },
    {
     "data": {
      "text/markdown": [
       "- **2024-11-20 06:51**   **MainTel** \n",
       "\n",
       "<pre style='color: black; background-color: white; font-size: 1em; margin-left: 0px; '>We had a brief MTptg error, but it didn't fault data collection. Still getting data for different elevations for the LUT.</pre>\n"
      ],
      "text/plain": [
       "<IPython.core.display.Markdown object>"
      ]
     },
     "metadata": {},
     "output_type": "display_data"
    },
    {
     "data": {
      "text/markdown": [
       "- **2024-11-20 05:59**   **MainTel**  Time Lost: 0.47; Time Lost Type: fault;\n",
       "\n",
       "<pre style='color: black; background-color: white; font-size: 1em; margin-left: 0px; '>Camera cable wrap stopped following the rotator, probably due to a rotator low-level controller error. We had to enter the Rot EUI and recover, then stand down the MTMount CSCs so we could nudge the CCW back to the rotator's position. Time of troubleshooting was about 30 minutes. \r\n",
       "\r\n",
       "\r\n",
       "MTRotator faulted due to a CCW following error. EUI reports CCW is at 0.24 degrees, and rotator is at 2.2 degrees. \r\n",
       "2024/11/20 05:27:54 TAI\r\n",
       "\r\n",
       "\r\n",
       "Fault! errorCode=1, errorReport='Low-level controller went to FAULT state'\r\n",
       "\r\n",
       "\r\n",
       "2024/11/20 05:27:51 TAI\r\n",
       "\r\n",
       "\r\n",
       "Camera cable wrap not following closely enough: error # 3 = 2.2000851374542925 &gt; 2.2 deg</pre>\n"
      ],
      "text/plain": [
       "<IPython.core.display.Markdown object>"
      ]
     },
     "metadata": {},
     "output_type": "display_data"
    },
    {
     "data": {
      "text/markdown": [
       "- Link: [OBS-694](https://rubinobs.atlassian.net/browse/OBS-694)"
      ],
      "text/plain": [
       "<IPython.core.display.Markdown object>"
      ]
     },
     "metadata": {},
     "output_type": "display_data"
    },
    {
     "data": {
      "text/markdown": [
       "- **2024-11-20 05:55**   **MainTel** \n",
       "\n",
       "<pre style='color: black; background-color: white; font-size: 1em; margin-left: 0px; '>Trying to track target at 80 degrees elevation.</pre>\n"
      ],
      "text/plain": [
       "<IPython.core.display.Markdown object>"
      ]
     },
     "metadata": {},
     "output_type": "display_data"
    },
    {
     "data": {
      "text/markdown": [
       "- **2024-11-20 05:55**   **MainTel** \n",
       "\n",
       "<pre style='color: black; background-color: white; font-size: 1em; margin-left: 0px; '>Homing axes, MTRotator came back cleanly after nudging the CCW to the rotator's position.</pre>\n"
      ],
      "text/plain": [
       "<IPython.core.display.Markdown object>"
      ]
     },
     "metadata": {},
     "output_type": "display_data"
    },
    {
     "data": {
      "text/markdown": [
       "- **2024-11-20 05:50**   **MainTel** \n",
       "\n",
       "<pre style='color: black; background-color: white; font-size: 1em; margin-left: 0px; '>MTRotator faulted due to a CCW following error. EUI reports CCW is at 0.24 degrees, and rotator is at 2.2 degrees. \r\n",
       "2024/11/20 05:27:54 TAI\r\n",
       "\r\n",
       "\r\n",
       "Fault! errorCode=1, errorReport='Low-level controller went to FAULT state'\r\n",
       "\r\n",
       "\r\n",
       "2024/11/20 05:27:51 TAI\r\n",
       "\r\n",
       "\r\n",
       "Camera cable wrap not following closely enough: error # 3 = 2.2000851374542925 &gt; 2.2 deg</pre>\n"
      ],
      "text/plain": [
       "<IPython.core.display.Markdown object>"
      ]
     },
     "metadata": {},
     "output_type": "display_data"
    },
    {
     "data": {
      "text/markdown": [
       "- **2024-11-20 05:24**   **MainTel**  Time Lost: 1.0; Time Lost Type: fault;\n",
       "\n",
       "<pre style='color: black; background-color: white; font-size: 1em; margin-left: 0px; '>Logged time loss to OBS-693, but since I added a comment only, the time loss did not propagate in the narrative log. Creating the record here.</pre>\n"
      ],
      "text/plain": [
       "<IPython.core.display.Markdown object>"
      ]
     },
     "metadata": {},
     "output_type": "display_data"
    },
    {
     "data": {
      "text/markdown": [
       "- **2024-11-20 05:21**   **MTMount**  Time Lost: 0.92; Time Lost Type: fault;\n",
       "\n",
       "<pre style='color: black; background-color: white; font-size: 1em; margin-left: 0px; '>h3. Error/Failure explanation:\r\n",
       "The MTPtg CSC goes into a fault state when we try to send the telescope to a different position to track a target on the sky using a SAL script: track_target. \r\n",
       "h3. What were you doing when the failure occurred?:\r\n",
       "Two different system states have produced this behavior. In one case, the TMA was tracking the sky, and we issued a track_target script to send it to another position. The MTPtg CSC faulted, reporting a time out error that was not associated to anything specific, and we could not slew the telescope. In the other case, the TMA was stopped, not tracking the sky, and had no pending commands. We issued a track target script, and the same errors were produced. \r\n",
       "h3. Detailed description of the steps followed that caused the error/failure:\r\n",
       "One example: TMA tracking the sky\r\n",
       "MTMount reports:\r\n",
       "\r\n",
       "2024/11/20 03:15:02 TAI\r\n",
       "\r\n",
       "\r\n",
       "Command BothAxesEnableTracking(sequence_id=13851778, command_code=<CommandCode.BOTH_AXES_ENABLE_TRACKING: 38>, source=<Source.CSC: 1>, timestamp=1732072501.1088629)=b'13851778\\n38\\n1\\n1732072501.1088629\\r\\n' failed: Command with id 13851778 has timed out after not receiving accept for 500 ms.\r\n",
       "\r\n",
       "\r\n",
       "MTPTg reports:\r\n",
       "\r\n",
       "\r\n",
       "2024/11/20 03:15:02 TAI\r\n",
       "\r\n",
       "Error MTMount replied error for startTracking command (1732828374) Error no:1 message:Failed: Command with id 13851778 has time\r\n",
       "\r\n",
       "Another example - we stopped MTMount, not tracking, no pending commands:\r\n",
       "MTPtg reports:\r\n",
       "\r\n",
       "2024/11/20 03:23:50 TAI\r\n",
       "\r\n",
       "Error MTMount replied error for trackTarget command (1733626109) Error no:1 message:Failed: Command with id 13858718 has timed \r\n",
       "\r\n",
       "\r\n",
       "MTMount reports:\r\n",
       "\r\n",
       "2024/11/20 03:23:50 TAI\r\n",
       "\r\n",
       "\r\n",
       "Command BothAxesTrackTarget(sequence_id=13858718, command_code=<CommandCode.BOTH_AXES_TRACK_TARGET: 35>, source=<Source.CSC: 1>, timestamp=1732073030.406984, azimuth=-99.97881468391222, elevation=60.02329219282346, azimuth_velocity=-0.0010219022304360321, elevation_velocity=-0.0035535333296652137, tai=1732073030.5560682)=b'13858718\\n35\\n1\\n1732073030.406984\\n-99.97881468391222\\n60.02329219282346\\n-0.0010219022304360321\\n-0.0035535333296652137\\n1732073030.5560682\\r\\n' rejected: Command with id 13858718 has timed out after not receiving accept for 500 ms.\r\n",
       "\r\n",
       "Third example:\r\n",
       "Another MTPtg error. Telescope was tracking after taking a series of closed loop data. \r\n",
       "\r\n",
       "\r\n",
       "Going to slew from elevation 50 -> 80 if that means anything. Although it probably doesn't. \r\n",
       "\r\n",
       "\r\n",
       "2024/11/20 05:05:08 TAI\r\n",
       "\r\n",
       "Error MTMount replied error for startTracking command (1732828382) Error no:1 message:Failed: Command with id 13925969 has time\r\n",
       "\r\n",
       "\r\n",
       "2024/11/20 05:05:08 TAI\r\n",
       "\r\n",
       "\r\n",
       "Command BothAxesEnableTracking(sequence_id=13925969, command_code=<CommandCode.BOTH_AXES_ENABLE_TRACKING: 38>, source=<Source.CSC: 1>, timestamp=1732079107.809806)=b'13925969\\n38\\n1\\n1732079107.809806\\r\\n' failed: Command with id 13925969 has timed out after not receiving accept for 500 ms.</pre>\n"
      ],
      "text/plain": [
       "<IPython.core.display.Markdown object>"
      ]
     },
     "metadata": {},
     "output_type": "display_data"
    },
    {
     "data": {
      "text/markdown": [
       "- Link: [OBS-693](https://rubinobs.atlassian.net/browse/OBS-693)"
      ],
      "text/plain": [
       "<IPython.core.display.Markdown object>"
      ]
     },
     "metadata": {},
     "output_type": "display_data"
    },
    {
     "data": {
      "text/markdown": [
       "- **2024-11-20 05:14**   **MainTel** \n",
       "\n",
       "<pre style='color: black; background-color: white; font-size: 1em; margin-left: 0px; '>Back on sky</pre>\n"
      ],
      "text/plain": [
       "<IPython.core.display.Markdown object>"
      ]
     },
     "metadata": {},
     "output_type": "display_data"
    },
    {
     "data": {
      "text/markdown": [
       "- **2024-11-20 05:07**   **MainTel** \n",
       "\n",
       "<pre style='color: black; background-color: white; font-size: 1em; margin-left: 0px; '>Another MTPtg error. Telescope was tracking after taking a series of closed loop data. \r\n",
       "\r\n",
       "\r\n",
       "Going to slew from elevation 50 -&gt; 80 if that means anything. Although it probably doesn't. \r\n",
       "\r\n",
       "\r\n",
       "2024/11/20 05:05:08 TAI\r\n",
       "Error MTMount replied error for startTracking command (1732828382) Error no:1 message:Failed: Command with id 13925969 has time\r\n",
       "\r\n",
       "\r\n",
       "2024/11/20 05:05:08 TAI\r\n",
       "\r\n",
       "\r\n",
       "Command BothAxesEnableTracking(sequence_id=13925969, command_code=&lt;CommandCode.BOTH_AXES_ENABLE_TRACKING: 38&gt;, source=&lt;Source.CSC: 1&gt;, timestamp=1732079107.809806)=b'13925969\\n38\\n1\\n1732079107.809806\\r\\n' failed: Command with id 13925969 has timed out after not receiving accept for 500 ms.</pre>\n"
      ],
      "text/plain": [
       "<IPython.core.display.Markdown object>"
      ]
     },
     "metadata": {},
     "output_type": "display_data"
    },
    {
     "data": {
      "text/markdown": [
       "- **2024-11-20 04:15**   **MainTel** \n",
       "\n",
       "<pre style='color: black; background-color: white; font-size: 1em; margin-left: 0px; '>Closing the loops to begin BLOCK-286. LUT data collection.</pre>\n"
      ],
      "text/plain": [
       "<IPython.core.display.Markdown object>"
      ]
     },
     "metadata": {},
     "output_type": "display_data"
    },
    {
     "data": {
      "text/markdown": [
       "- **2024-11-20 04:12**   **MainTel** \n",
       "\n",
       "<pre style='color: black; background-color: white; font-size: 1em; margin-left: 0px; '>Taking baseline image; confirming that we are in a rough focus.</pre>\n"
      ],
      "text/plain": [
       "<IPython.core.display.Markdown object>"
      ]
     },
     "metadata": {},
     "output_type": "display_data"
    },
    {
     "data": {
      "text/markdown": [
       "- **2024-11-20 04:11**   **MainTel** \n",
       "\n",
       "<pre style='color: black; background-color: white; font-size: 1em; margin-left: 0px; '>In order:\r\n",
       "\r\n",
       "\r\n",
       "stop tracking\r\n",
       "runcommand MTMount, cmd: stop\r\n",
       "move_p2p\r\n",
       "track target</pre>\n"
      ],
      "text/plain": [
       "<IPython.core.display.Markdown object>"
      ]
     },
     "metadata": {},
     "output_type": "display_data"
    },
    {
     "data": {
      "text/markdown": [
       "- **2024-11-20 04:10**   **MainTel** \n",
       "\n",
       "<pre style='color: black; background-color: white; font-size: 1em; margin-left: 0px; '>Able to track target, returning to sector of el=60, az=-100</pre>\n"
      ],
      "text/plain": [
       "<IPython.core.display.Markdown object>"
      ]
     },
     "metadata": {},
     "output_type": "display_data"
    },
    {
     "data": {
      "text/markdown": [
       "- **2024-11-20 04:00**   **MainTel** \n",
       "\n",
       "<pre style='color: black; background-color: white; font-size: 1em; margin-left: 0px; '>MTPtg publishes same timeout error, MtMount publishes:\r\n",
       "\r\n",
       "\r\n",
       "Error\r\n",
       "\r\n",
       "\r\n",
       "2024/11/20 03:57:42 TAI\r\n",
       "\r\n",
       "\r\n",
       "Command BothAxesEnableTracking(sequence_id=13858728, command_code=&lt;CommandCode.BOTH_AXES_ENABLE_TRACKING: 38&gt;, source=&lt;Source.CSC: 1&gt;, timestamp=1732075061.6208801)=b'13858728\\n38\\n1\\n1732075061.6208801\\r\\n' failed: Command with id 13858728 has timed out after not receiving accept for 500 ms.</pre>\n"
      ],
      "text/plain": [
       "<IPython.core.display.Markdown object>"
      ]
     },
     "metadata": {},
     "output_type": "display_data"
    },
    {
     "data": {
      "text/markdown": [
       "- **2024-11-20 03:59**   **MainTel** \n",
       "\n",
       "<pre style='color: black; background-color: white; font-size: 1em; margin-left: 0px; '>MTptg immediately fails when trying to track target.</pre>\n"
      ],
      "text/plain": [
       "<IPython.core.display.Markdown object>"
      ]
     },
     "metadata": {},
     "output_type": "display_data"
    },
    {
     "data": {
      "text/markdown": [
       "- **2024-11-20 03:52**   **MainTel** \n",
       "\n",
       "<pre style='color: black; background-color: white; font-size: 1em; margin-left: 0px; '>Finally able to command the dome to a new position. Had to exit fault twice to clear two different errors related to AMCS.</pre>\n"
      ],
      "text/plain": [
       "<IPython.core.display.Markdown object>"
      ]
     },
     "metadata": {},
     "output_type": "display_data"
    },
    {
     "data": {
      "text/markdown": [
       "- **2024-11-20 03:43**   **MainTel** \n",
       "\n",
       "<pre style='color: black; background-color: white; font-size: 1em; margin-left: 0px; '>Recovering the azimuth drive fault in MTDome.</pre>\n"
      ],
      "text/plain": [
       "<IPython.core.display.Markdown object>"
      ]
     },
     "metadata": {},
     "output_type": "display_data"
    },
    {
     "data": {
      "text/markdown": [
       "- **2024-11-20 03:38**   **MainTel** \n",
       "\n",
       "<pre style='color: black; background-color: white; font-size: 1em; margin-left: 0px; '>Performing another slew to verify that we can slew. MTDome immediately crashes. \r\n",
       "\r\n",
       "\r\n",
       "2024/11/20 03:37:19 TAI\r\n",
       "\r\n",
       "\r\n",
       "AMCS status message now is 210118=Error of type Automation in subsystem AMCS: Azimuth drives not enabled.</pre>\n"
      ],
      "text/plain": [
       "<IPython.core.display.Markdown object>"
      ]
     },
     "metadata": {},
     "output_type": "display_data"
    },
    {
     "data": {
      "text/markdown": [
       "- **2024-11-20 03:37**   **MainTel** \n",
       "\n",
       "<pre style='color: black; background-color: white; font-size: 1em; margin-left: 0px; '>Tiago recommended a stop mount and movep2p. We were able to slew away successfully.</pre>\n"
      ],
      "text/plain": [
       "<IPython.core.display.Markdown object>"
      ]
     },
     "metadata": {},
     "output_type": "display_data"
    },
    {
     "data": {
      "text/markdown": [
       "- **2024-11-20 03:28**   **MainTel** \n",
       "\n",
       "<pre style='color: black; background-color: white; font-size: 1em; margin-left: 0px; '>Tracking target at 60, -100. Seems to be working. \r\n",
       "\r\n",
       "\r\n",
       "HA! Psych. It does not: repetitive errors \r\n",
       "\r\n",
       "\r\n",
       "MTPtg reports:\r\n",
       "2024/11/20 03:23:50 TAI\r\n",
       "Error MTMount replied error for trackTarget command (1733626109) Error no:1 message:Failed: Command with id 13858718 has timed \r\n",
       "\r\n",
       "\r\n",
       "MTMount reports:\r\n",
       "2024/11/20 03:23:50 TAI\r\n",
       "\r\n",
       "\r\n",
       "Command BothAxesTrackTarget(sequence_id=13858718, command_code=&lt;CommandCode.BOTH_AXES_TRACK_TARGET: 35&gt;, source=&lt;Source.CSC: 1&gt;, timestamp=1732073030.406984, azimuth=-99.97881468391222, elevation=60.02329219282346, azimuth_velocity=-0.0010219022304360321, elevation_velocity=-0.0035535333296652137, tai=1732073030.5560682)=b'13858718\\n35\\n1\\n1732073030.406984\\n-99.97881468391222\\n60.02329219282346\\n-0.0010219022304360321\\n-0.0035535333296652137\\n1732073030.5560682\\r\\n' rejected: Command with id 13858718 has timed out after not receiving accept for 500 ms.</pre>\n"
      ],
      "text/plain": [
       "<IPython.core.display.Markdown object>"
      ]
     },
     "metadata": {},
     "output_type": "display_data"
    },
    {
     "data": {
      "text/markdown": [
       "- **2024-11-20 03:23**   **MainTel** \n",
       "\n",
       "<pre style='color: black; background-color: white; font-size: 1em; margin-left: 0px; '>Stopping MTMount with run_command -&gt; stop</pre>\n"
      ],
      "text/plain": [
       "<IPython.core.display.Markdown object>"
      ]
     },
     "metadata": {},
     "output_type": "display_data"
    },
    {
     "data": {
      "text/markdown": [
       "- **2024-11-20 03:16**   **MainTel** \n",
       "\n",
       "<pre style='color: black; background-color: white; font-size: 1em; margin-left: 0px; '>MTMount reports:\r\n",
       "2024/11/20 03:15:02 TAI\r\n",
       "\r\n",
       "\r\n",
       "Command BothAxesEnableTracking(sequence_id=13851778, command_code=&lt;CommandCode.BOTH_AXES_ENABLE_TRACKING: 38&gt;, source=&lt;Source.CSC: 1&gt;, timestamp=1732072501.1088629)=b'13851778\\n38\\n1\\n1732072501.1088629\\r\\n' failed: Command with id 13851778 has timed out after not receiving accept for 500 ms.\r\n",
       "\r\n",
       "\r\n",
       "MTPTg reports:\r\n",
       "\r\n",
       "\r\n",
       "2024/11/20 03:15:02 TAI\r\n",
       "Error MTMount replied error for startTracking command (1732828374) Error no:1 message:Failed: Command with id 13851778 has time</pre>\n"
      ],
      "text/plain": [
       "<IPython.core.display.Markdown object>"
      ]
     },
     "metadata": {},
     "output_type": "display_data"
    },
    {
     "data": {
      "text/markdown": [
       "- **2024-11-20 03:16**   **MainTel** \n",
       "\n",
       "<pre style='color: black; background-color: white; font-size: 1em; margin-left: 0px; '>Can't even slew without MTPtg faulting</pre>\n"
      ],
      "text/plain": [
       "<IPython.core.display.Markdown object>"
      ]
     },
     "metadata": {},
     "output_type": "display_data"
    },
    {
     "data": {
      "text/markdown": [
       "- **2024-11-20 03:16**   **MainTel** \n",
       "\n",
       "<pre style='color: black; background-color: white; font-size: 1em; margin-left: 0px; '>We had not homed the axes after recovering the MTMount so errors accumulated. Slewing to 55, -120</pre>\n"
      ],
      "text/plain": [
       "<IPython.core.display.Markdown object>"
      ]
     },
     "metadata": {},
     "output_type": "display_data"
    },
    {
     "data": {
      "text/markdown": [
       "- **2024-11-20 03:09**   **MainTel** \n",
       "\n",
       "<pre style='color: black; background-color: white; font-size: 1em; margin-left: 0px; '>We are going to disable and re-enable dome following to try and sync the MTptg and dome loop.\r\n",
       "\r\n",
       "\r\n",
       "This was not done due to mis-interpretation of MTPtg error - which was saying the homing was not DONE, not homing DOME.</pre>\n"
      ],
      "text/plain": [
       "<IPython.core.display.Markdown object>"
      ]
     },
     "metadata": {},
     "output_type": "display_data"
    },
    {
     "data": {
      "text/markdown": [
       "- **2024-11-20 03:08**   **MainTel** \n",
       "\n",
       "<pre style='color: black; background-color: white; font-size: 1em; margin-left: 0px; '>MTPtg failing to cooperate spitting errors out regarding the \"homing\" not being home\r\n",
       "\r\n",
       "\r\n",
       "\r\n",
       "\r\n",
       "2024/11/20 03:04:23 TAI\r\n",
       "Error MTMount replied error for startTracking command (1732828372) Error no:1 message:Failed: Not homming done\r\n",
       "Not accepted com</pre>\n"
      ],
      "text/plain": [
       "<IPython.core.display.Markdown object>"
      ]
     },
     "metadata": {},
     "output_type": "display_data"
    },
    {
     "data": {
      "text/markdown": [
       "- **2024-11-20 03:07**   **MainTel** \n",
       "\n",
       "<pre style='color: black; background-color: white; font-size: 1em; margin-left: 0px; '>2024/11/20 03:04:23 TAI\r\n",
       "\r\n",
       "\r\n",
       "Command BothAxesEnableTracking(sequence_id=13843030, command_code=&lt;CommandCode.BOTH_AXES_ENABLE_TRACKING: 38&gt;, source=&lt;Source.CSC: 1&gt;, timestamp=1732071863.3330677)=b'13843030\\n38\\n1\\n1732071863.3330677\\r\\n' failed: Not homming done\r\n",
       "Not accepted command: 108\r\n",
       "Not homming done\r\n",
       "Not accepted command: 408</pre>\n"
      ],
      "text/plain": [
       "<IPython.core.display.Markdown object>"
      ]
     },
     "metadata": {},
     "output_type": "display_data"
    },
    {
     "data": {
      "text/markdown": [
       "- **2024-11-20 02:57**   **MainTel** \n",
       "\n",
       "<pre style='color: black; background-color: white; font-size: 1em; margin-left: 0px; '>MTMount and MTPtg faulted, likely due to a long slew. Cycling and continuing on sky.</pre>\n"
      ],
      "text/plain": [
       "<IPython.core.display.Markdown object>"
      ]
     },
     "metadata": {},
     "output_type": "display_data"
    },
    {
     "data": {
      "text/markdown": [
       "- **2024-11-20 02:44**   **MainTel** \n",
       "\n",
       "<pre style='color: black; background-color: white; font-size: 1em; margin-left: 0px; '>Continuing iterations to converge z corrections so we can begin the LUT run.</pre>\n"
      ],
      "text/plain": [
       "<IPython.core.display.Markdown object>"
      ]
     },
     "metadata": {},
     "output_type": "display_data"
    },
    {
     "data": {
      "text/markdown": [
       "- **2024-11-20 02:25**   **MainTel** \n",
       "\n",
       "<pre style='color: black; background-color: white; font-size: 1em; margin-left: 0px; '>The TMA is pointing pretty far north where the pointing model, had to slew back to 100 and re-run BLOCK-292</pre>\n"
      ],
      "text/plain": [
       "<IPython.core.display.Markdown object>"
      ]
     },
     "metadata": {},
     "output_type": "display_data"
    },
    {
     "data": {
      "text/markdown": [
       "- **2024-11-20 02:08**   **MainTel** \n",
       "\n",
       "<pre style='color: black; background-color: white; font-size: 1em; margin-left: 0px; '>Another MTPTg error - collecting data and occurrences at this point\r\n",
       "\r\n",
       "\r\n",
       "\r\n",
       "\r\n",
       "2024/11/20 02:07:41 TAI\r\n",
       "Error MTMount replied error for trackTarget command (1733569250) Error no:1 message:Failed: Command with id 13722734 has timed</pre>\n"
      ],
      "text/plain": [
       "<IPython.core.display.Markdown object>"
      ]
     },
     "metadata": {},
     "output_type": "display_data"
    },
    {
     "data": {
      "text/markdown": [
       "- Link: [OBS-693](https://rubinobs.atlassian.net/browse/OBS-693)"
      ],
      "text/plain": [
       "<IPython.core.display.Markdown object>"
      ]
     },
     "metadata": {},
     "output_type": "display_data"
    },
    {
     "data": {
      "text/markdown": [
       "- **2024-11-20 02:04**   **MainTel** \n",
       "\n",
       "<pre style='color: black; background-color: white; font-size: 1em; margin-left: 0px; '>Repeating BLOCK-249 after restarting the MTAOS CSC.</pre>\n"
      ],
      "text/plain": [
       "<IPython.core.display.Markdown object>"
      ]
     },
     "metadata": {},
     "output_type": "display_data"
    },
    {
     "data": {
      "text/markdown": [
       "- **2024-11-20 01:54**   **MainTel** \n",
       "\n",
       "<pre style='color: black; background-color: white; font-size: 1em; margin-left: 0px; '>Move to az: -25 el:50</pre>\n"
      ],
      "text/plain": [
       "<IPython.core.display.Markdown object>"
      ]
     },
     "metadata": {},
     "output_type": "display_data"
    },
    {
     "data": {
      "text/markdown": [
       "- **2024-11-20 01:54**   **MainTel** \n",
       "\n",
       "<pre style='color: black; background-color: white; font-size: 1em; margin-left: 0px; '>We stopped the BLOCK-T155 scheduler because we are below el = 35 deg</pre>\n"
      ],
      "text/plain": [
       "<IPython.core.display.Markdown object>"
      ]
     },
     "metadata": {},
     "output_type": "display_data"
    },
    {
     "data": {
      "text/markdown": [
       "- **2024-11-20 01:50**   **MainTel** \n",
       "\n",
       "<pre style='color: black; background-color: white; font-size: 1em; margin-left: 0px; '>Timeout error again after we resumed the scheduler for BLOCK-T155\r\n",
       "\r\n",
       "\r\n",
       "salIndex: 104138\r\n",
       " - [STANDARD]\r\n",
       " - Started at: 2024-11-20T01:40:35.084Z\r\n",
       "\r\n",
       "\r\n",
       "File \"/opt/lsst/software/stack/conda/envs/lsst-scipipe-9.0.0/lib/python3.11/asyncio/tasks.py\", line 502, in wait_for\r\n",
       "    raise exceptions.TimeoutError() from exc\r\n",
       "TimeoutError</pre>\n"
      ],
      "text/plain": [
       "<IPython.core.display.Markdown object>"
      ]
     },
     "metadata": {},
     "output_type": "display_data"
    },
    {
     "data": {
      "text/markdown": [
       "- Link: [OBS-693](https://rubinobs.atlassian.net/browse/OBS-693)"
      ],
      "text/plain": [
       "<IPython.core.display.Markdown object>"
      ]
     },
     "metadata": {},
     "output_type": "display_data"
    },
    {
     "data": {
      "text/markdown": [
       "- **2024-11-20 01:46**   **MainTel** \n",
       "\n",
       "<pre style='color: black; background-color: white; font-size: 1em; margin-left: 0px; '>MTPtg faults with the timeout error whenever: \r\n",
       "- we first enable the MTMount and try to move \r\n",
       "- randomly during track target \r\n",
       "\r\n",
       "\r\n",
       "\r\n",
       "\r\n",
       "\r\n",
       "\r\n",
       "\r\n",
       "\r\n",
       "Here's an example:\r\n",
       "BLOCK-T155 timed out \r\n",
       "salIndex: 104136\r\n",
       " - Started at: 2024-11-20T01:35:29.519Z</pre>\n"
      ],
      "text/plain": [
       "<IPython.core.display.Markdown object>"
      ]
     },
     "metadata": {},
     "output_type": "display_data"
    },
    {
     "data": {
      "text/markdown": [
       "- Link: [OBS-693](https://rubinobs.atlassian.net/browse/OBS-693)"
      ],
      "text/plain": [
       "<IPython.core.display.Markdown object>"
      ]
     },
     "metadata": {},
     "output_type": "display_data"
    },
    {
     "data": {
      "text/markdown": [
       "- **2024-11-20 01:43**   **MainTel** \n",
       "\n",
       "<pre style='color: black; background-color: white; font-size: 1em; margin-left: 0px; '>Resume the scheduler</pre>\n"
      ],
      "text/plain": [
       "<IPython.core.display.Markdown object>"
      ]
     },
     "metadata": {},
     "output_type": "display_data"
    },
    {
     "data": {
      "text/markdown": [
       "- **2024-11-20 01:42**   **MainTel** \n",
       "\n",
       "<pre style='color: black; background-color: white; font-size: 1em; margin-left: 0px; '>BLOCK-T155 timed out \r\n",
       "salIndex: 104136\r\n",
       " - [STANDARD]\r\n",
       " - Started at: 2024-11-20T01:35:29.519Z\r\n",
       "\r\n",
       "\r\n",
       "MTPTg faulted \r\n",
       "Cycle the MTPTg</pre>\n"
      ],
      "text/plain": [
       "<IPython.core.display.Markdown object>"
      ]
     },
     "metadata": {},
     "output_type": "display_data"
    },
    {
     "data": {
      "text/markdown": [
       "- **2024-11-20 01:04**   **MainTel** \n",
       "\n",
       "<pre style='color: black; background-color: white; font-size: 1em; margin-left: 0px; '>Taking image first to see how the focus looks</pre>\n"
      ],
      "text/plain": [
       "<IPython.core.display.Markdown object>"
      ]
     },
     "metadata": {},
     "output_type": "display_data"
    },
    {
     "data": {
      "text/markdown": [
       "- **2024-11-20 01:02**   **MainTel** \n",
       "\n",
       "<pre style='color: black; background-color: white; font-size: 1em; margin-left: 0px; '>Track target to ECDFS field \r\n",
       "\r\n",
       "\r\n",
       "ra: 3.5416\r\n",
       "dec: -28.10</pre>\n"
      ],
      "text/plain": [
       "<IPython.core.display.Markdown object>"
      ]
     },
     "metadata": {},
     "output_type": "display_data"
    },
    {
     "data": {
      "text/markdown": [
       "- **2024-11-20 01:01**   **MainTel** \n",
       "\n",
       "<pre style='color: black; background-color: white; font-size: 1em; margin-left: 0px; '>Starting BLOCK-T155.</pre>\n"
      ],
      "text/plain": [
       "<IPython.core.display.Markdown object>"
      ]
     },
     "metadata": {},
     "output_type": "display_data"
    },
    {
     "data": {
      "text/markdown": [
       "- **2024-11-20 00:36**   **MainTel** \n",
       "\n",
       "<pre style='color: black; background-color: white; font-size: 1em; margin-left: 0px; '>Restarting BLOCK-T249</pre>\n"
      ],
      "text/plain": [
       "<IPython.core.display.Markdown object>"
      ]
     },
     "metadata": {},
     "output_type": "display_data"
    },
    {
     "data": {
      "text/markdown": [
       "- **2024-11-20 00:35**   **MainTel** \n",
       "\n",
       "<pre style='color: black; background-color: white; font-size: 1em; margin-left: 0px; '>Set dof again to all zeros</pre>\n"
      ],
      "text/plain": [
       "<IPython.core.display.Markdown object>"
      ]
     },
     "metadata": {},
     "output_type": "display_data"
    },
    {
     "data": {
      "text/markdown": [
       "- **2024-11-20 00:33**   **MainTel** \n",
       "\n",
       "<pre style='color: black; background-color: white; font-size: 1em; margin-left: 0px; '>Sending MTAOS to offline again.</pre>\n"
      ],
      "text/plain": [
       "<IPython.core.display.Markdown object>"
      ]
     },
     "metadata": {},
     "output_type": "display_data"
    },
    {
     "data": {
      "text/markdown": [
       "- **2024-11-20 00:33**   **MainTel** \n",
       "\n",
       "<pre style='color: black; background-color: white; font-size: 1em; margin-left: 0px; '>Switching to BLOCK-T298 while AOS Team debugs the BLOCK-T249.   Never mind</pre>\n"
      ],
      "text/plain": [
       "<IPython.core.display.Markdown object>"
      ]
     },
     "metadata": {},
     "output_type": "display_data"
    },
    {
     "data": {
      "text/markdown": [
       "- **2024-11-20 00:25**   **MainTel** \n",
       "\n",
       "<pre style='color: black; background-color: white; font-size: 1em; margin-left: 0px; '>salIndex: 104100 - Started at: 2024-11-20T00:21:42.368Z\r\n",
       "\r\n",
       "\r\n",
       "Guillem is debugging</pre>\n"
      ],
      "text/plain": [
       "<IPython.core.display.Markdown object>"
      ]
     },
     "metadata": {},
     "output_type": "display_data"
    },
    {
     "data": {
      "text/markdown": [
       "- **2024-11-20 00:24**   **MainTel** \n",
       "\n",
       "<pre style='color: black; background-color: white; font-size: 1em; margin-left: 0px; '>raise base.AckError(msg=\"Command failed\", ackcmd=ackcmd)\r\n",
       "lsst.ts.salobj.base.AckError: msg='Command failed', ackcmd=(ackcmd private_seqNum=1418882047, ack=&lt;SalRetCode.CMD_FAILED: -302&gt;, error=1, result='Failed: index 18 is out of bounds for axis 1 with size 18')</pre>\n"
      ],
      "text/plain": [
       "<IPython.core.display.Markdown object>"
      ]
     },
     "metadata": {},
     "output_type": "display_data"
    },
    {
     "data": {
      "text/markdown": [
       "- **2024-11-20 00:19**   **MainTel** \n",
       "\n",
       "<pre style='color: black; background-color: white; font-size: 1em; margin-left: 0px; '>Track target az: 135, el: 65</pre>\n"
      ],
      "text/plain": [
       "<IPython.core.display.Markdown object>"
      ]
     },
     "metadata": {},
     "output_type": "display_data"
    },
    {
     "data": {
      "text/markdown": [
       "- **2024-11-20 00:19**   **MainTel** \n",
       "\n",
       "<pre style='color: black; background-color: white; font-size: 1em; margin-left: 0px; '>Need to turn on the tracking</pre>\n"
      ],
      "text/plain": [
       "<IPython.core.display.Markdown object>"
      ]
     },
     "metadata": {},
     "output_type": "display_data"
    },
    {
     "data": {
      "text/markdown": [
       "- **2024-11-20 00:17**   **MainTel** \n",
       "\n",
       "<pre style='color: black; background-color: white; font-size: 1em; margin-left: 0px; '>Starting BLOCK-T249</pre>\n"
      ],
      "text/plain": [
       "<IPython.core.display.Markdown object>"
      ]
     },
     "metadata": {},
     "output_type": "display_data"
    },
    {
     "data": {
      "text/markdown": [
       "- **2024-11-20 00:16**   **MainTel** \n",
       "\n",
       "<pre style='color: black; background-color: white; font-size: 1em; margin-left: 0px; '>Setting new degrees of freedom (all zeros)</pre>\n"
      ],
      "text/plain": [
       "<IPython.core.display.Markdown object>"
      ]
     },
     "metadata": {},
     "output_type": "display_data"
    },
    {
     "data": {
      "text/markdown": [
       "- **2024-11-20 00:14**   **MainTel** \n",
       "\n",
       "<pre style='color: black; background-color: white; font-size: 1em; margin-left: 0px; '>Putting MTAOS back in enabled</pre>\n"
      ],
      "text/plain": [
       "<IPython.core.display.Markdown object>"
      ]
     },
     "metadata": {},
     "output_type": "display_data"
    },
    {
     "data": {
      "text/markdown": [
       "- **2024-11-20 00:12**   **MainTel** \n",
       "\n",
       "<pre style='color: black; background-color: white; font-size: 1em; margin-left: 0px; '>Stop tracking \r\n",
       "\r\n",
       "\r\n",
       "Sending MTAOS to offline for update</pre>\n"
      ],
      "text/plain": [
       "<IPython.core.display.Markdown object>"
      ]
     },
     "metadata": {},
     "output_type": "display_data"
    },
    {
     "data": {
      "text/markdown": [
       "- **2024-11-20 21:56**   **MainTel** \n",
       "\n",
       "<pre style='color: black; background-color: white; font-size: 1em; margin-left: 0px; '>Just for the record, ComCam has r_03, y_04, and i_06 installed today based on metadata extracted from RubinTV.</pre>\n"
      ],
      "text/plain": [
       "<IPython.core.display.Markdown object>"
      ]
     },
     "metadata": {},
     "output_type": "display_data"
    },
    {
     "data": {
      "text/markdown": [
       "- **2024-11-20 21:36**   **MainTel** \n",
       "\n",
       "<pre style='color: black; background-color: white; font-size: 1em; margin-left: 0px; '>The second attempt of `track_target.py` worked fine (sal index 104433).</pre>\n"
      ],
      "text/plain": [
       "<IPython.core.display.Markdown object>"
      ]
     },
     "metadata": {},
     "output_type": "display_data"
    },
    {
     "data": {
      "text/markdown": [
       "- **2024-11-20 21:35**   **MainTel** \n",
       "\n",
       "<pre style='color: black; background-color: white; font-size: 1em; margin-left: 0px; '>I am now running BLOCK-T250 TMA Checkout. When I reached Step 7, which asks to run a track_command. The script faulted with a \"No command acknowledgment seen\" (SAL Index 301036). I will try again (now, using MTQueue).</pre>\n"
      ],
      "text/plain": [
       "<IPython.core.display.Markdown object>"
      ]
     },
     "metadata": {},
     "output_type": "display_data"
    },
    {
     "data": {
      "text/markdown": [
       "- **2024-11-20 20:31**\n",
       "\n",
       "<pre style='color: black; background-color: white; font-size: 1em; margin-left: 0px; '>trying to put MTRotator in enabled (last step of rotator startup), but there is an interlock error</pre>\n"
      ],
      "text/plain": [
       "<IPython.core.display.Markdown object>"
      ]
     },
     "metadata": {},
     "output_type": "display_data"
    },
    {
     "data": {
      "text/markdown": [
       "- **2024-11-20 20:24**\n",
       "\n",
       "<pre style='color: black; background-color: white; font-size: 1em; margin-left: 0px; '>Working on rotator startup</pre>\n"
      ],
      "text/plain": [
       "<IPython.core.display.Markdown object>"
      ]
     },
     "metadata": {},
     "output_type": "display_data"
    },
    {
     "data": {
      "text/markdown": [
       "- **2024-11-20 20:23**\n",
       "\n",
       "<pre style='color: black; background-color: white; font-size: 1em; margin-left: 0px; '>Running hardpoint breakaway tests</pre>\n"
      ],
      "text/plain": [
       "<IPython.core.display.Markdown object>"
      ]
     },
     "metadata": {},
     "output_type": "display_data"
    },
    {
     "data": {
      "text/markdown": [
       "- **2024-11-20 20:03**\n",
       "\n",
       "<pre style='color: black; background-color: white; font-size: 1em; margin-left: 0px; '>During dome handoff we lost heartbeat from a lot of the CSCs\r\n",
       "\r\n",
       "\r\n",
       "Tiago said  yagan17 and yagan13 daemons crashed \r\n",
       "\r\n",
       "\r\n",
       "4:37pm the dome is back \r\n",
       "\r\n",
       "\r\n",
       "Tried to send the dome from standby to disabled and faulted \r\n",
       "\r\n",
       "\r\n",
       "We rebooted the cRIO remotely\r\n",
       "\r\n",
       "\r\n",
       "Then we confirmed that we can move the dome in both directions with the CSC</pre>\n"
      ],
      "text/plain": [
       "<IPython.core.display.Markdown object>"
      ]
     },
     "metadata": {},
     "output_type": "display_data"
    },
    {
     "data": {
      "text/markdown": [
       "- **2024-11-20 19:13**   **MainTel** \n",
       "\n",
       "<pre style='color: black; background-color: white; font-size: 1em; margin-left: 0px; '>SAA (Single Actuator Axes) Failures:\r\n",
       "  None\r\n",
       "DAA (Dual Actuator Axes) Failures:\r\n",
       "  - Actuator ID 227: Pri Index 61\r\n",
       "  - Actuator ID 330: Pri Index 107\r\n",
       "  - Actuator ID 409: Pri Index 123</pre>\n"
      ],
      "text/plain": [
       "<IPython.core.display.Markdown object>"
      ]
     },
     "metadata": {},
     "output_type": "display_data"
    },
    {
     "data": {
      "text/markdown": [
       "- **2024-11-20 19:00**   **MainTel** \n",
       "\n",
       "<pre style='color: black; background-color: white; font-size: 1em; margin-left: 0px; '>Alarm from MTDomeCapacitorBanks.MTDome \r\n",
       "Second time this has happened today during the day shift.</pre>\n"
      ],
      "text/plain": [
       "<IPython.core.display.Markdown object>"
      ]
     },
     "metadata": {},
     "output_type": "display_data"
    },
    {
     "data": {
      "text/markdown": [
       "- **2024-11-20 18:51**\n",
       "\n",
       "<pre style='color: black; background-color: white; font-size: 1em; margin-left: 0px; '>These actuators failed the bump test \r\n",
       "\r\n",
       "\r\n",
       "SAA (Single Actuator Axes) Failures:\r\n",
       "  None\r\n",
       "DAA (Dual Actuator Axes) Failures:\r\n",
       "  - Actuator ID 112: Pri Index 11\r\n",
       "  - Actuator ID 227: Pri Index 61\r\n",
       "  - Actuator ID 314: Pri Index 91\r\n",
       "  - Actuator ID 330: Pri Index 107\r\n",
       "  - Actuator ID 409: Pri Index 123</pre>\n"
      ],
      "text/plain": [
       "<IPython.core.display.Markdown object>"
      ]
     },
     "metadata": {},
     "output_type": "display_data"
    },
    {
     "data": {
      "text/markdown": [
       "- **2024-11-20 18:27**   **MainTel** \n",
       "\n",
       "<pre style='color: black; background-color: white; font-size: 1em; margin-left: 0px; '>We can see motor current oscillations in M2Hex for the time it was left in ENABLED. They were low amplitude oscillations. But we need to characterize this data.</pre>\n"
      ],
      "text/plain": [
       "<IPython.core.display.Markdown object>"
      ]
     },
     "metadata": {},
     "output_type": "display_data"
    },
    {
     "data": {
      "text/markdown": [
       "- **2024-11-20 18:15**   **MainTel** \n",
       "\n",
       "<pre style='color: black; background-color: white; font-size: 1em; margin-left: 0px; '>We forgot M2Hex enabled. It is now in a DISABLED state. We checked and there are no runaway events in any of the struts.</pre>\n"
      ],
      "text/plain": [
       "<IPython.core.display.Markdown object>"
      ]
     },
     "metadata": {},
     "output_type": "display_data"
    },
    {
     "data": {
      "text/markdown": [
       "- **2024-11-20 18:06**   **MainTel** \n",
       "\n",
       "<pre style='color: black; background-color: white; font-size: 1em; margin-left: 0px; '>Restarting OSS again</pre>\n"
      ],
      "text/plain": [
       "<IPython.core.display.Markdown object>"
      ]
     },
     "metadata": {},
     "output_type": "display_data"
    },
    {
     "data": {
      "text/markdown": [
       "- **2024-11-20 17:46**   **MainTel** \n",
       "\n",
       "<pre style='color: black; background-color: white; font-size: 1em; margin-left: 0px; '>We will stop the OSS soon as part of the OSS microfiltering work lead by Freddy.</pre>\n"
      ],
      "text/plain": [
       "<IPython.core.display.Markdown object>"
      ]
     },
     "metadata": {},
     "output_type": "display_data"
    },
    {
     "data": {
      "text/markdown": [
       "- **2024-11-20 17:39**   **MainTel** \n",
       "\n",
       "<pre style='color: black; background-color: white; font-size: 1em; margin-left: 0px; '>MTM1M3 is now in DISABLED state. Kate noticed that we do not have air inside the cell. Putting M1M3 into ENABLED opened the automatic valve and we are now seeing air inside the cell with ~ 125 PSI. \r\n",
       "\r\n",
       "\r\n",
       "We are getting ready to run bump tests. FA332 is still disabled so we are running via check_actuators.py.</pre>\n"
      ],
      "text/plain": [
       "<IPython.core.display.Markdown object>"
      ]
     },
     "metadata": {},
     "output_type": "display_data"
    },
    {
     "data": {
      "text/markdown": [
       "- **2024-11-20 17:33**   **MainTel** \n",
       "\n",
       "<pre style='color: black; background-color: white; font-size: 1em; margin-left: 0px; '>Julen connected to perform some configuration changes in TMA EUI.</pre>\n"
      ],
      "text/plain": [
       "<IPython.core.display.Markdown object>"
      ]
     },
     "metadata": {},
     "output_type": "display_data"
    },
    {
     "data": {
      "text/markdown": [
       "- **2024-11-20 17:27**   **MainTel** \n",
       "\n",
       "<pre style='color: black; background-color: white; font-size: 1em; margin-left: 0px; '>We are done with BLOCK-T4 and we will start M1M3 Bump Tests.\r\n",
       "The telescope is still at horizon but we got confirmation that it is safe to run these test.</pre>\n"
      ],
      "text/plain": [
       "<IPython.core.display.Markdown object>"
      ]
     },
     "metadata": {},
     "output_type": "display_data"
    },
    {
     "data": {
      "text/markdown": [
       "- **2024-11-20 16:45**   **MainTel** \n",
       "\n",
       "<pre style='color: black; background-color: white; font-size: 1em; margin-left: 0px; '>Starting BLOCK-T4 now</pre>\n"
      ],
      "text/plain": [
       "<IPython.core.display.Markdown object>"
      ]
     },
     "metadata": {},
     "output_type": "display_data"
    },
    {
     "data": {
      "text/markdown": [
       "- **2024-11-20 16:43**   **MainTel** \n",
       "\n",
       "<pre style='color: black; background-color: white; font-size: 1em; margin-left: 0px; '>We are back from lunch and we will resume warm-up hexapods. This time, we will run M2Hex.</pre>\n"
      ],
      "text/plain": [
       "<IPython.core.display.Markdown object>"
      ]
     },
     "metadata": {},
     "output_type": "display_data"
    },
    {
     "data": {
      "text/markdown": [
       "- **2024-11-20 15:58**   **MainTel** \n",
       "\n",
       "<pre style='color: black; background-color: white; font-size: 1em; margin-left: 0px; '>Freddy reports that the mechanical team is working on cleaning the TMA oil. This is transparent for telescope operations and does not block us from moving. I am trying to coordinate TMA handover for today.</pre>\n"
      ],
      "text/plain": [
       "<IPython.core.display.Markdown object>"
      ]
     },
     "metadata": {},
     "output_type": "display_data"
    },
    {
     "data": {
      "text/markdown": [
       "- **2024-11-20 15:47**\n",
       "\n",
       "<pre style='color: black; background-color: white; font-size: 1em; margin-left: 0px; '>Warming up camera hexapod</pre>\n"
      ],
      "text/plain": [
       "<IPython.core.display.Markdown object>"
      ]
     },
     "metadata": {},
     "output_type": "display_data"
    },
    {
     "data": {
      "text/markdown": [
       "- **2024-11-20 15:36**   **MainTel** \n",
       "\n",
       "<pre style='color: black; background-color: white; font-size: 1em; margin-left: 0px; '>Meanwhile, we are powering up hexapods. MTHexapod:2 was ENABLED. When trying to transition to DISABLED, it went to a fault. We are now checking the cabinets to see what is their current situation. \r\n",
       "\r\n",
       "\r\n",
       "When checking the hexapod cabinets, we noticed that they were all off. This means that it was only the hexapod summary state that, for whatever reason, was being displayed as ENABLED. This is less concerning, since the hexapod was not energized. We are powering them up now and we will continue with start ups and warm up.</pre>\n"
      ],
      "text/plain": [
       "<IPython.core.display.Markdown object>"
      ]
     },
     "metadata": {},
     "output_type": "display_data"
    },
    {
     "data": {
      "text/markdown": [
       "- **2024-11-20 15:32**   **MainTel** \n",
       "\n",
       "<pre style='color: black; background-color: white; font-size: 1em; margin-left: 0px; '>Bruno and Kate already in the control room. We reviewed the HVAC set point, which is now set to 8ºC. The temperature near the sunset yesterday was 12ºC. However, the forecast temperature near sunset for today is predicted to be 10ºC. Let's leave the set point to 8ºC for now.</pre>\n"
      ],
      "text/plain": [
       "<IPython.core.display.Markdown object>"
      ]
     },
     "metadata": {},
     "output_type": "display_data"
    }
   ],
   "source": [
    "# Narrative Report\n",
    "# Time Log\n",
    "allrep.nar_rep.time_log_as_markdown()"
   ]
  },
  {
   "cell_type": "markdown",
   "id": "27",
   "metadata": {},
   "source": [
    "-----------\n",
    "------------"
   ]
  },
  {
   "cell_type": "markdown",
   "id": "cd0567ce-4ae9-428e-8f9d-df8277511392",
   "metadata": {},
   "source": [
    "# Developer Only Section <font style=\"background-color:red; olor:black; font-size:20px\">REMOVE</font>\n",
    "Contains stuff only expected to be useful to developers.\n",
    "\n",
    "This may also contain sections that have moved out of the user section because they are no longer defined in the Storyboard."
   ]
  },
  {
   "cell_type": "markdown",
   "id": "34",
   "metadata": {},
   "source": [
    "## Overview \n"
   ]
  },
  {
   "cell_type": "code",
   "execution_count": 16,
   "id": "6e220d29-aac6-4d70-80e2-7dd3ef99944c",
   "metadata": {},
   "outputs": [
    {
     "data": {
      "text/markdown": [
       "## Project-Wide Night(s) Report \n",
       "- Run on logs and databases from **https://usdf-rsp-dev.slac.stanford.edu/**\n",
       "- Report **1 observing night(s)** with the last reported night starting on **2024-11-20 12:00:00**.\n",
       "- min_dayobs='2024-11-20', max_dayobs='2024-11-21'\n",
       "- Using ***Prototype* Logging and Reporting** Version: **52.dev0+g783922c.d20241115**\n",
       "- have_consdb = False\n",
       "- Imported lsst.ts.logging_and_reporting from local packages.\n",
       "- allsrc.nig_src.timeout=(5.05, 20.0)\n"
      ],
      "text/plain": [
       "<IPython.core.display.Markdown object>"
      ]
     },
     "metadata": {},
     "output_type": "display_data"
    }
   ],
   "source": [
    "# Display overview of Report context\n",
    "try:\n",
    "    import lsst.ts.logging_and_reporting.version\n",
    "\n",
    "    lrversion = lsst.ts.logging_and_reporting.version.__version__\n",
    "except:\n",
    "    lrversion = \"LIVE\"\n",
    "\n",
    "try:\n",
    "    from lsst.summit.utils import ConsDbClient\n",
    "\n",
    "    have_consdb = True\n",
    "except:\n",
    "    have_consdb = False\n",
    "md(\n",
    "    f\"\"\"## Project-Wide Night(s) Report \n",
    "- Run on logs and databases from **{server}/**\n",
    "- Report **{days} observing night(s)** with the last reported night starting on **{date}**.\n",
    "- min_dayobs={allsrc.min_dayobs!r}, max_dayobs={allsrc.max_dayobs!r}\n",
    "- Using ***Prototype* Logging and Reporting** Version: **{lrversion}**\n",
    "- {have_consdb = }\n",
    "- {dev_msg}\n",
    "- {allsrc.nig_src.timeout=}\n",
    "\"\"\")"
   ]
  },
  {
   "cell_type": "markdown",
   "id": "47ef40d3-f6d4-4b6a-80bf-55a613d3f884",
   "metadata": {},
   "source": [
    "## Data Status\n",
    "This may be useful for diagnosing reports that give unexpected results."
   ]
  },
  {
   "cell_type": "code",
   "execution_count": 17,
   "id": "b076e98a-44a2-437c-9342-a180fe2cd829",
   "metadata": {
    "jupyter": {
     "source_hidden": true
    }
   },
   "outputs": [
    {
     "data": {
      "text/html": [
       "<table border=\"1\" class=\"dataframe\">\n",
       "  <thead>\n",
       "    <tr style=\"text-align: right;\">\n",
       "      <th>Endpoint</th>\n",
       "      <th>Records</th>\n",
       "      <th>URL</th>\n",
       "    </tr>\n",
       "  </thead>\n",
       "  <tbody>\n",
       "    <tr>\n",
       "      <td>nightreport/reports</td>\n",
       "      <td>0</td>\n",
       "      <td><a href=\"https://usdf-rsp-dev.slac.stanford.edu/nightreport/reports?is_human=either&is_valid=true&order_by=-day_obs&offset=0&limit=100&min_day_obs=20241120&max_day_obs=20241121\" target=\"_blank\">https://usdf-rsp-dev.slac.stanford.edu/nightreport/reports?is_human=either&is_valid=true&order_by=-day_obs&offset=0&limit=100&min_day_obs=20241120&max_day_obs=20241121</a></td>\n",
       "    </tr>\n",
       "    <tr>\n",
       "      <td>exposurelog/instruments</td>\n",
       "      <td>3</td>\n",
       "      <td><a href=\"https://usdf-rsp-dev.slac.stanford.edu/exposurelog/instruments\" target=\"_blank\">https://usdf-rsp-dev.slac.stanford.edu/exposurelog/instruments</a></td>\n",
       "    </tr>\n",
       "    <tr>\n",
       "      <td>exposurelog/exposures.LSSTComCamSim</td>\n",
       "      <td>0</td>\n",
       "      <td><a href=\"https://usdf-rsp-dev.slac.stanford.edu/exposurelog/exposures?registry=1&instrument=LSSTComCamSim&order_by=-timespan_end&offset=0&limit=2500&min_day_obs=20241120&max_day_obs=20241121\" target=\"_blank\">https://usdf-rsp-dev.slac.stanford.edu/exposurelog/exposures?registry=1&instrument=LSSTComCamSim&order_by=-timespan_end&offset=0&limit=2500&min_day_obs=20241120&max_day_obs=20241121</a></td>\n",
       "    </tr>\n",
       "    <tr>\n",
       "      <td>exposurelog/exposures.LATISS</td>\n",
       "      <td>0</td>\n",
       "      <td><a href=\"https://usdf-rsp-dev.slac.stanford.edu/exposurelog/exposures?registry=1&instrument=LATISS&order_by=-timespan_end&offset=0&limit=2500&min_day_obs=20241120&max_day_obs=20241121\" target=\"_blank\">https://usdf-rsp-dev.slac.stanford.edu/exposurelog/exposures?registry=1&instrument=LATISS&order_by=-timespan_end&offset=0&limit=2500&min_day_obs=20241120&max_day_obs=20241121</a></td>\n",
       "    </tr>\n",
       "    <tr>\n",
       "      <td>exposurelog/exposures.LSSTComCam</td>\n",
       "      <td>19</td>\n",
       "      <td><a href=\"https://usdf-rsp-dev.slac.stanford.edu/exposurelog/exposures?registry=1&instrument=LSSTComCam&order_by=-timespan_end&offset=0&limit=2500&min_day_obs=20241120&max_day_obs=20241121\" target=\"_blank\">https://usdf-rsp-dev.slac.stanford.edu/exposurelog/exposures?registry=1&instrument=LSSTComCam&order_by=-timespan_end&offset=0&limit=2500&min_day_obs=20241120&max_day_obs=20241121</a></td>\n",
       "    </tr>\n",
       "    <tr>\n",
       "      <td>exposurelog/exposures.LSSTCam</td>\n",
       "      <td>0</td>\n",
       "      <td><a href=\"https://usdf-rsp-dev.slac.stanford.edu/exposurelog/exposures?registry=1&instrument=LSSTCam&order_by=-timespan_end&offset=0&limit=2500&min_day_obs=20241120&max_day_obs=20241121\" target=\"_blank\">https://usdf-rsp-dev.slac.stanford.edu/exposurelog/exposures?registry=1&instrument=LSSTCam&order_by=-timespan_end&offset=0&limit=2500&min_day_obs=20241120&max_day_obs=20241121</a></td>\n",
       "    </tr>\n",
       "    <tr>\n",
       "      <td>exposurelog/messages</td>\n",
       "      <td>0</td>\n",
       "      <td><a href=\"https://usdf-rsp-dev.slac.stanford.edu/exposurelog/messages?is_human=either&is_valid=true&order_by=-day_obs&offset=0&limit=2500&min_day_obs=20241120&max_day_obs=20241121\" target=\"_blank\">https://usdf-rsp-dev.slac.stanford.edu/exposurelog/messages?is_human=either&is_valid=true&order_by=-day_obs&offset=0&limit=2500&min_day_obs=20241120&max_day_obs=20241121</a></td>\n",
       "    </tr>\n",
       "    <tr>\n",
       "      <td>narrativelog/messages</td>\n",
       "      <td>93</td>\n",
       "      <td><a href=\"https://usdf-rsp-dev.slac.stanford.edu/narrativelog/messages?is_human=either&is_valid=true&order_by=-date_added&offset=0&limit=1000&min_date_added=2024-11-20T00%3A00%3A00&max_date_added=2024-11-21T00%3A00%3A00\" target=\"_blank\">https://usdf-rsp-dev.slac.stanford.edu/narrativelog/messages?is_human=either&is_valid=true&order_by=-date_added&offset=0&limit=1000&min_date_added=2024-11-20T00%3A00%3A00&max_date_added=2024-11-21T00%3A00%3A00</a></td>\n",
       "    </tr>\n",
       "    <tr>\n",
       "      <td>efd/targets</td>\n",
       "      <td>0</td>\n",
       "      <td>NA</td>\n",
       "    </tr>\n",
       "  </tbody>\n",
       "</table>"
      ],
      "text/plain": [
       "<IPython.core.display.HTML object>"
      ]
     },
     "metadata": {},
     "output_type": "display_data"
    }
   ],
   "source": [
    "df = pd.DataFrame(allsrc.get_data_status())\n",
    "table = df.to_html(\n",
    "    index=False, \n",
    "    render_links=True,\n",
    "    escape=False)\n",
    "display(HTML(table))"
   ]
  },
  {
   "cell_type": "markdown",
   "id": "37",
   "metadata": {},
   "source": [
    "## This report uses the following data sources\n",
    "- NightReport\n",
    "- Exposurelog\n",
    "- Narrativelog\n",
    "- EFD\n",
    "- ConsDB\n",
    "- (DDV)\n",
    "- (Almanac from Astroplan)"
   ]
  },
  {
   "cell_type": "markdown",
   "id": "40",
   "metadata": {},
   "source": [
    "## Where was this run?\n",
    "\n",
    "The environments that have everything needed to run this page are:\n",
    "\n",
    "    https://summit-lsp.lsst.codes\n",
    "    https://usdf-rsp-dev.slac.stanford.edu\n",
    "\n",
    "However, Times Square does not run on the Summit. It does run on USDF-dev.\n"
   ]
  },
  {
   "cell_type": "markdown",
   "id": "41",
   "metadata": {},
   "source": [
    "## Section overviews moved here"
   ]
  },
  {
   "cell_type": "code",
   "execution_count": 18,
   "id": "42",
   "metadata": {
    "jupyter": {
     "source_hidden": true
    }
   },
   "outputs": [
    {
     "data": {
      "text/markdown": [
       "### Overview for Service: `nightreport` [0]"
      ],
      "text/plain": [
       "<IPython.core.display.Markdown object>"
      ]
     },
     "metadata": {},
     "output_type": "display_data"
    },
    {
     "name": "stdout",
     "output_type": "stream",
     "text": [
      "None\n"
     ]
    },
    {
     "data": {
      "text/markdown": [
       "- Endpoint: https://usdf-rsp-dev.slac.stanford.edu/nightreport/reports?is_human=either&is_valid=true&order_by=-day_obs&offset=0&limit=100&min_day_obs=20241120&max_day_obs=20241121"
      ],
      "text/plain": [
       "<IPython.core.display.Markdown object>"
      ]
     },
     "metadata": {},
     "output_type": "display_data"
    },
    {
     "name": "stdout",
     "output_type": "stream",
     "text": [
      "None\n",
      "- Got 0 records.  \n"
     ]
    },
    {
     "data": {
      "text/markdown": [
       "### Overview for Service: `exposurelog` [0]"
      ],
      "text/plain": [
       "<IPython.core.display.Markdown object>"
      ]
     },
     "metadata": {},
     "output_type": "display_data"
    },
    {
     "name": "stdout",
     "output_type": "stream",
     "text": [
      "None\n"
     ]
    },
    {
     "data": {
      "text/markdown": [
       "- Endpoint: https://usdf-rsp-dev.slac.stanford.edu/exposurelog/messages?is_human=either&is_valid=true&order_by=-day_obs&offset=0&limit=2500&min_day_obs=20241120&max_day_obs=20241121"
      ],
      "text/plain": [
       "<IPython.core.display.Markdown object>"
      ]
     },
     "metadata": {},
     "output_type": "display_data"
    },
    {
     "name": "stdout",
     "output_type": "stream",
     "text": [
      "None\n",
      "- Got 0 records.  \n"
     ]
    },
    {
     "data": {
      "text/markdown": [
       "### Overview for Service: `narrativelog` [93]"
      ],
      "text/plain": [
       "<IPython.core.display.Markdown object>"
      ]
     },
     "metadata": {},
     "output_type": "display_data"
    },
    {
     "name": "stdout",
     "output_type": "stream",
     "text": [
      "None\n"
     ]
    },
    {
     "data": {
      "text/markdown": [
       "- Endpoint: https://usdf-rsp-dev.slac.stanford.edu/narrativelog/messages?is_human=either&is_valid=true&order_by=-date_added&offset=0&limit=1000&min_date_added=2024-11-20T00%3A00%3A00&max_date_added=2024-11-21T00%3A00%3A00"
      ],
      "text/plain": [
       "<IPython.core.display.Markdown object>"
      ]
     },
     "metadata": {},
     "output_type": "display_data"
    },
    {
     "name": "stdout",
     "output_type": "stream",
     "text": [
      "None\n",
      "- Got 93 records.  \n"
     ]
    }
   ],
   "source": [
    "# Night Report Overview\n",
    "allrep.nig_rep.overview()\n",
    "# Exposure Report Overview\n",
    "allrep.exp_rep.overview()\n",
    "# Narrative Report Overview\n",
    "allrep.nar_rep.overview()"
   ]
  },
  {
   "cell_type": "code",
   "execution_count": 19,
   "id": "43",
   "metadata": {
    "jupyter": {
     "source_hidden": true
    }
   },
   "outputs": [],
   "source": [
    "# Conditionally display our current ability to connect to all needed endpoints.\n",
    "if False and not os.environ.get(\"EXTERNAL_INSTANCE_URL\"):\n",
    "    md(\"## Dashboard\")\n",
    "    md(\"(This is not done when running under Times Square.)\")\n",
    "    %run ./dashboard.ipynb"
   ]
  },
  {
   "cell_type": "code",
   "execution_count": 20,
   "id": "24",
   "metadata": {},
   "outputs": [],
   "source": [
    "# Time Log\n",
    "#! allrep.exp_rep.time_log_as_markdown()"
   ]
  },
  {
   "cell_type": "markdown",
   "id": "44",
   "metadata": {},
   "source": [
    "## Finale"
   ]
  },
  {
   "cell_type": "code",
   "execution_count": 21,
   "id": "45",
   "metadata": {},
   "outputs": [
    {
     "name": "stdout",
     "output_type": "stream",
     "text": [
      "Elapsed time (excluding code import): 5.9 seconds\n",
      "Finished 2024-11-20 22:12:28 UTC\n"
     ]
    }
   ],
   "source": [
    "print(f'Elapsed time (excluding code import): {timer.toc:.1f} seconds')\n",
    "print(f\"Finished {str(dt.datetime.now().replace(microsecond=0))} UTC\")"
   ]
  }
 ],
 "metadata": {
  "kernelspec": {
   "display_name": "Python 3 (ipykernel)",
   "language": "python",
   "name": "python3"
  },
  "language_info": {
   "codemirror_mode": {
    "name": "ipython",
    "version": 3
   },
   "file_extension": ".py",
   "mimetype": "text/x-python",
   "name": "python",
   "nbconvert_exporter": "python",
   "pygments_lexer": "ipython3",
   "version": "3.11.10"
  }
 },
 "nbformat": 4,
 "nbformat_minor": 5
}
