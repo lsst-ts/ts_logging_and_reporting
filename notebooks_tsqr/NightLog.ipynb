{
 "cells": [
  {
   "cell_type": "markdown",
   "id": "0",
   "metadata": {},
   "source": [
    "# Initialize"
   ]
  },
  {
   "cell_type": "code",
   "execution_count": null,
   "id": "1",
   "metadata": {},
   "outputs": [],
   "source": [
    "# Parameters.\n",
    "# Times Square replaces this cell with the user's parameters.\n",
    "\n",
    "# The run-time defaults for all of these parameters are in NightLog.yaml\n",
    "# Under Times Square, the run-time defaults always override values given here.\n",
    "# Values here are used for local tests.\n",
    "\n",
    "# day_obs values: TODAY, YESTERDAY, YYYY-MM-DD\n",
    "# Report on observing nights that start upto but not included this day.\n",
    "#!day_obs = '2024-09-25' # Value to use for local testing (Summit)\n",
    "day_obs = \"2024-09-25\"  # TODO Change to 'YESTERDAY' to test with default before push\n",
    "\n",
    "# Total number of days of data to display (ending on day_obs)\n",
    "number_of_days = \"2\"  # TODO Change to '1' to test with default before push"
   ]
  },
  {
   "cell_type": "code",
   "execution_count": null,
   "id": "2",
   "metadata": {},
   "outputs": [],
   "source": [
    "import datetime as dt\n",
    "import os\n",
    "from collections import defaultdict\n",
    "from pprint import pformat, pp\n",
    "from urllib.parse import urlencode\n",
    "\n",
    "import pandas as pd\n",
    "# Only use packages available in the Rubin Science Platform\n",
    "import requests\n",
    "from matplotlib import pyplot as plt\n",
    "\n",
    "# When running under Times Square, install pkg from github.\n",
    "# Otherwise use what is installed locally (intended to be dev editiable pkg)\n",
    "if os.environ.get(\"EXTERNAL_INSTANCE_URL\"):\n",
    "    print(\n",
    "        'Installing \"lsst.ts.logging_and_reporting\" from github using \"prototype\" branch....'\n",
    "    )\n",
    "    !pip install --upgrade git+https://github.com/lsst-ts/ts_logging_and_reporting.git@prototype >/dev/null\n",
    "import lsst.ts.logging_and_reporting.almanac as alm\n",
    "import lsst.ts.logging_and_reporting.reports as rep\n",
    "import lsst.ts.logging_and_reporting.source_adapters as sad\n",
    "import lsst.ts.logging_and_reporting.utils as ut\n",
    "from lsst.ts.logging_and_reporting.reports import md, mdlist\n",
    "\n",
    "try:\n",
    "    import lsst.ts.logging_and_reporting.version\n",
    "\n",
    "    lrversion = lsst.ts.logging_and_reporting.version.__version__\n",
    "except:\n",
    "    lrversion = \"LIVE\"\n",
    "\n",
    "try:\n",
    "    from lsst.summit.utils import ConsDbClient\n",
    "\n",
    "    have_consdb = True\n",
    "except:\n",
    "    have_consdb = False\n",
    "\n",
    "print(f\"{have_consdb = }\")"
   ]
  },
  {
   "cell_type": "code",
   "execution_count": null,
   "id": "3",
   "metadata": {},
   "outputs": [],
   "source": [
    "# Normalize Parameters (both explicit Times Squares params, in implicit ones)\n",
    "limit = 5000  # YAGNI for Auto get more if this isn't enough to get all requested DAYS\n",
    "response_timeout = 3.05  # seconds, how long to wait for connection\n",
    "read_timeout = 20  # seconds\n",
    "timeout = (float(response_timeout), float(read_timeout))\n",
    "\n",
    "date = ut.get_datetime_from_dayobs_str(day_obs)\n",
    "# date:  is EXCLUSIVE (upto, but not including)\n",
    "days = int(number_of_days)\n",
    "\n",
    "# Thus: [min_day_obs,max_day_obs)\n",
    "# Format: string, YYYY-MM-DD\n",
    "min_date = date - dt.timedelta(days=days - 1)\n",
    "max_date = date + dt.timedelta(days=1)\n",
    "min_day_obs = min_date.strftime(\"%Y-%m-%d\")  # Inclusive\n",
    "max_day_obs = max_date.strftime(\"%Y-%m-%d\")  # prep for Exclusive"
   ]
  },
  {
   "cell_type": "code",
   "execution_count": null,
   "id": "4",
   "metadata": {},
   "outputs": [],
   "source": [
    "# Set default env to \"usdf\" and try before PUSH to repo.\n",
    "summit = \"https://summit-lsp.lsst.codes\"\n",
    "usdf = \"https://usdf-rsp-dev.slac.stanford.edu\"\n",
    "tucson = \"https://tucson-teststand.lsst.codes\"\n",
    "\n",
    "# The default provided here is for local testing.\n",
    "# Under Times Square it is ignored.\n",
    "server = os.environ.get(\n",
    "    \"EXTERNAL_INSTANCE_URL\", summit\n",
    ")  # TODO try with \"usdf\" before push (else \"summit\")"
   ]
  },
  {
   "cell_type": "markdown",
   "id": "5",
   "metadata": {},
   "source": [
    "# Table of Contents\n",
    "* [Overview of NightLog Report](#overview)\n",
    "* [DDV](#ddv)\n",
    "* [Almanac](#almanac)\n",
    "* [Night Report](#Night-Report)\n",
    "* [Exposure Log](#Exposure-Log)\n",
    "* [Narrative Log](#Narrative-Log)"
   ]
  },
  {
   "cell_type": "markdown",
   "id": "6",
   "metadata": {},
   "source": [
    "# Overview \n",
    "<a id=\"overview\"></a>"
   ]
  },
  {
   "cell_type": "markdown",
   "id": "7",
   "metadata": {},
   "source": [
    "### Where was this run?\n",
    "The environments that have everything needed to run this page are:\n",
    "- https://summit-lsp.lsst.codes\n",
    "- https://usdf-rsp-dev.slac.stanford.edu\n",
    "\n",
    "However, Times Square **does not** run on the Summit. It **does** run on USDF-dev.  "
   ]
  },
  {
   "cell_type": "code",
   "execution_count": null,
   "id": "8",
   "metadata": {},
   "outputs": [],
   "source": [
    "# Display overview of Report context\n",
    "md(\n",
    "    f\"\"\"## Project-Wide Night(s) Report \n",
    "- Run on logs and databases from **{server}/**\n",
    "- Report **{days} observing night(s)** with the last reported night starting on **{date}**.\n",
    "- This report will include available data from noon **{min_date}** to noon **{max_date}** (inclusive).\n",
    "- Using ***Prototype* Logging and Reporting** Version: **{lrversion}**\n",
    "\"\"\"\n",
    ")\n",
    "\n",
    "sources_md_str = \"\"\n",
    "#! sources_md_str += '\\n- '.join(['',*sad.all_endpoints(server)])  # TODO move\n",
    "sources_md_str += \"\\n- ConsDB\"\n",
    "sources_md_str += \"\\n- EFD\"\n",
    "sources_md_str += \"\\n- (DDV)\"\n",
    "sources_md_str += \"\\n- (Astroplan for Almanac)\"\n",
    "md(f\"### This report uses the following data sources: {sources_md_str}\")"
   ]
  },
  {
   "cell_type": "markdown",
   "id": "9",
   "metadata": {},
   "source": [
    "<a id=\"ddv\"></a>\n",
    "# DDV "
   ]
  },
  {
   "cell_type": "code",
   "execution_count": null,
   "id": "10",
   "metadata": {},
   "outputs": [],
   "source": [
    "DDV = (\n",
    "    f\"{server}/rubintv-dev/ddv/index.html\"\n",
    "    if \"summit\" in server\n",
    "    else f\"{server}/rubintv/ddv/index.html\"\n",
    ")\n",
    "md(f\"Access DDV part of RubinTV: {DDV}\")"
   ]
  },
  {
   "cell_type": "markdown",
   "id": "11",
   "metadata": {},
   "source": [
    "<a id=\"almanac\"></a>\n",
    "# Almanac"
   ]
  },
  {
   "cell_type": "code",
   "execution_count": null,
   "id": "12",
   "metadata": {},
   "outputs": [],
   "source": [
    "# Display various almanac values (for moon, sun)\n",
    "rep.AlmanacReport().day_obs_report(min_day_obs)"
   ]
  },
  {
   "cell_type": "markdown",
   "id": "13",
   "metadata": {},
   "source": [
    "<a id=\"nightreport\"></a>\n",
    "# Night Report "
   ]
  },
  {
   "cell_type": "code",
   "execution_count": null,
   "id": "14",
   "metadata": {},
   "outputs": [],
   "source": [
    "# Display data from Night Report log.\n",
    "nr_adapter = sad.NightReportAdapter(\n",
    "    server_url=server, min_dayobs=min_day_obs, max_dayobs=max_day_obs\n",
    ")\n",
    "#!rep.adapter_overview(nr_adapter)\n",
    "\n",
    "# Display time log\n",
    "nr_rep = rep.NightlyLogReport(adapter=nr_adapter)\n",
    "nr_rep.overview()\n",
    "nr_rep.time_log_as_markdown()\n",
    "\n",
    "# Display Jira BLOCKS\n",
    "front = \"https://rubinobs.atlassian.net/projects/BLOCK?selectedItem=com.atlassian.plugins.atlassian-connect-plugin:com.kanoah.test-manager__main-project-page#!/\"\n",
    "tickets = nr_adapter.nightly_tickets()\n",
    "\n",
    "if tickets:\n",
    "    mdstr = \"## Nightly Jira BLOCKs\"\n",
    "    for day, url_list in tickets.items():\n",
    "        mdstr += f\"\\n- {day}\"\n",
    "        for ticket_url in url_list:\n",
    "            mdstr += f'\\n    - [{ticket_url.replace(front,\"\")}]({ticket_url})'\n",
    "    md(mdstr)\n",
    "else:\n",
    "    md(f\"No jira BLOCK tickets found.\", color=\"lightblue\")\n",
    "    md(f\"Used: [API Data]({nr_adapter.source_url})\")"
   ]
  },
  {
   "cell_type": "code",
   "execution_count": null,
   "id": "15",
   "metadata": {},
   "outputs": [],
   "source": [
    "nr_adapter.primary_endpoint"
   ]
  },
  {
   "cell_type": "markdown",
   "id": "16",
   "metadata": {},
   "source": [
    "# Exposure Log"
   ]
  },
  {
   "cell_type": "code",
   "execution_count": null,
   "id": "17",
   "metadata": {},
   "outputs": [],
   "source": [
    "# Display data from Exposure log. Display time log.\n",
    "exposure_adapter = sad.ExposurelogAdapter(\n",
    "    server_url=server, min_dayobs=min_day_obs, max_dayobs=max_day_obs\n",
    ")\n",
    "exposure_rep = rep.ExposurelogReport(adapter=exposure_adapter)\n",
    "\n",
    "exposure_rep.overview()\n",
    "exposure_rep.time_log_as_markdown()\n",
    "\n",
    "# Display Observation gaps\n",
    "gaps = exposure_adapter.get_observation_gaps()\n",
    "if gaps:\n",
    "    md(f\"### Date vs Observation Gap (minutes) for all Instruments\")\n",
    "    for instrument, day_gaps in gaps.items():\n",
    "        if len(day_gaps) == 0:\n",
    "            md(f\"**No day gaps found for *{instrument=!s}* **\", color=\"lightblue\")\n",
    "        else:\n",
    "            x, y = zip(*day_gaps.items())\n",
    "            df = pd.DataFrame(dict(day=x, minutes=y))\n",
    "            df.plot.bar(x=\"day\", y=\"minutes\", title=f\"{instrument=!s}\")\n",
    "else:\n",
    "    md(f\"No Observation Gaps found.\", color=\"lightblue\")\n",
    "    md(f\"Used: [API Data]({exposure_adapter.source_url})\")"
   ]
  },
  {
   "cell_type": "markdown",
   "id": "18",
   "metadata": {},
   "source": [
    "# Narrative Log\n"
   ]
  },
  {
   "cell_type": "code",
   "execution_count": null,
   "id": "19",
   "metadata": {},
   "outputs": [],
   "source": [
    "# Get data from Narrative log. Display time log.\n",
    "narrative_adapter = sad.NarrativelogAdapter(\n",
    "    server_url=server, min_dayobs=min_day_obs, max_dayobs=max_day_obs\n",
    ")\n",
    "narrrative_rep = rep.NarrativelogReport(adapter=narrative_adapter)\n",
    "\n",
    "# rep.adapter_overview(narrative_adapter)\n",
    "narrrative_rep.overview()\n",
    "narrrative_rep.time_log_as_markdown()"
   ]
  },
  {
   "cell_type": "markdown",
   "id": "20",
   "metadata": {},
   "source": [
    "# Developer Only Section"
   ]
  },
  {
   "cell_type": "code",
   "execution_count": null,
   "id": "21",
   "metadata": {},
   "outputs": [],
   "source": [
    "import lsst_efd_client\n",
    "\n",
    "lsst_efd_client.__version__"
   ]
  },
  {
   "cell_type": "code",
   "execution_count": null,
   "id": "22",
   "metadata": {},
   "outputs": [],
   "source": [
    "# Conditionally display our current ability to connect to all needed endpoints.\n",
    "if False and not os.environ.get(\"EXTERNAL_INSTANCE_URL\"):\n",
    "    md(\"## Dashboard\")\n",
    "    md(\"(This is not done when running under Times Square.)\")\n",
    "    %run ./dashboard.ipynb"
   ]
  },
  {
   "cell_type": "markdown",
   "id": "23",
   "metadata": {},
   "source": [
    "# Finale"
   ]
  },
  {
   "cell_type": "code",
   "execution_count": null,
   "id": "24",
   "metadata": {},
   "outputs": [],
   "source": [
    "print(f\"Finished {str(dt.datetime.now())}\")"
   ]
  }
 ],
 "metadata": {
  "kernelspec": {
   "display_name": "Python 3 (ipykernel)",
   "language": "python",
   "name": "python3"
  },
  "language_info": {
   "codemirror_mode": {
    "name": "ipython",
    "version": 3
   },
   "file_extension": ".py",
   "mimetype": "text/x-python",
   "name": "python",
   "nbconvert_exporter": "python",
   "pygments_lexer": "ipython3",
   "version": "3.11.9"
  }
 },
 "nbformat": 4,
 "nbformat_minor": 5
}
