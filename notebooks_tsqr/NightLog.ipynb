{
 "cells": [
  {
   "cell_type": "markdown",
   "id": "0",
   "metadata": {},
   "source": [
    "# Initialize\n",
    "This section is a developer aid; TODO remove later!\n",
    "*Align with [storyboard Version 48](https://rubinobs.atlassian.net/wiki/pages/viewpage.action?pageId=132612364&pageVersion=48)*\n",
    "\n",
    "If you are using this under Time Square and *get any errors* that you think come from this notebook, please tell Steve Pothier (steve.pothier@noirlab.edu).  Include the URL you used to get the error. "
   ]
  },
  {
   "cell_type": "code",
   "execution_count": 1,
   "id": "1",
   "metadata": {},
   "outputs": [],
   "source": [
    "# Parameters.\n",
    "# Times Square replaces this cell with the user's parameters.\n",
    "# So, don't put anything else here!\n",
    "\n",
    "# day_obs values: TODAY, YESTERDAY, YYYY-MM-DD\n",
    "# Report on observing nights that start upto but not included this day.\n",
    "#!day_obs = '2024-09-25' # Value to use for local testing (Summit)\n",
    "day_obs = \"YESTERDAY\"  # TODO Change to 'YESTERDAY' to test with default before push\n",
    "\n",
    "# Total number of days of data to display (ending on day_obs)\n",
    "number_of_days = \"1\"  # TODO Change to '1' to test with default before push"
   ]
  },
  {
   "cell_type": "code",
   "execution_count": 2,
   "id": "2",
   "metadata": {},
   "outputs": [],
   "source": [
    "import datetime as dt\n",
    "import os\n",
    "from collections import defaultdict\n",
    "from pprint import pformat, pp\n",
    "from urllib.parse import urlencode, urlparse\n",
    "import pandas as pd\n",
    "from IPython.display import HTML\n",
    "\n",
    "# When running under Times Square, install pkg from github.\n",
    "# Otherwise use what is installed locally (intended to be dev editiable pkg)\n",
    "if os.environ.get(\"EXTERNAL_INSTANCE_URL\"):\n",
    "    dev_msg = (\n",
    "        'Installing \"lsst.ts.logging_and_reporting\" from github using \"prototype\" branch. \\n'\n",
    "        'TODO: Make the need for this go away by getting Logging_and_Reporting installed in RSP.'\n",
    "    )\n",
    "    !pip install --upgrade git+https://github.com/lsst-ts/ts_logging_and_reporting.git@prototype > /dev/null 2>&1\n",
    "else:\n",
    "    dev_msg = 'Imported lsst.ts.logging_and_reporting from local packages.'\n",
    "from lsst.ts.logging_and_reporting.all_sources import AllSources\n",
    "from lsst.ts.logging_and_reporting.all_reports import AllReports\n",
    "import lsst.ts.logging_and_reporting.utils as ut\n",
    "from lsst.ts.logging_and_reporting.reports import md, mdlist, mdpathlink\n",
    "from lsst.ts.logging_and_reporting.reports import html_draft, html_beta"
   ]
  },
  {
   "cell_type": "code",
   "execution_count": 3,
   "id": "4",
   "metadata": {},
   "outputs": [],
   "source": [
    "# Set default env to \"usdf\" and try before PUSH to repo.\n",
    "# The default provided here is for local testing. Under Times Square it is ignored.\n",
    "server = os.environ.get(\n",
    "    \"EXTERNAL_INSTANCE_URL\", \n",
    "    ut.Server.usdf) # TODO try with \"usdf\" before push (else \"summit\")"
   ]
  },
  {
   "cell_type": "code",
   "execution_count": 4,
   "id": "3",
   "metadata": {
    "jupyter": {
     "source_hidden": true
    }
   },
   "outputs": [],
   "source": [
    "# Normalize Parameters (both explicit Times Squares params, in implicit ones)\n",
    "limit = 5000  # YAGNI for Auto get more if this isn't enough to get all requested DAYS\n",
    "response_timeout = 3.05  # seconds, how long to wait for connection\n",
    "read_timeout = 20  # seconds\n",
    "timeout = (float(response_timeout), float(read_timeout))\n",
    "\n",
    "date = ut.get_datetime_from_dayobs_str(day_obs)\n",
    "# date:  is EXCLUSIVE (upto, but not including)\n",
    "days = int(number_of_days)\n",
    "\n",
    "# Thus: [min_day_obs,max_day_obs)\n",
    "# Format: string, YYYY-MM-DD\n",
    "min_date = date - dt.timedelta(days=days - 1)\n",
    "max_date = date + dt.timedelta(days=1)\n",
    "min_day_obs = min_date.strftime(\"%Y-%m-%d\")  # Inclusive\n",
    "max_day_obs = max_date.strftime(\"%Y-%m-%d\")  # prep for Exclusive\n",
    "\n",
    "# Experimental Features config\n",
    "exp_tally = \"true\"  # default: true\n",
    "exp_parsing = \"true\"  # default: true\n",
    "experimental = dict()\n",
    "experimental[\"exposure_type_tally\"] = exp_tally == \"true\"\n",
    "experimental[\"error_parsing\"] = exp_parsing == \"true\""
   ]
  },
  {
   "cell_type": "code",
   "execution_count": 5,
   "id": "5",
   "metadata": {},
   "outputs": [],
   "source": [
    "# Read records from (almost) all sources\n",
    "allsrc = AllSources(\n",
    "    server_url=server,\n",
    "    min_dayobs=min_day_obs,\n",
    "    max_dayobs=max_day_obs,\n",
    "    verbose=False,                # TODO change to False before push\n",
    "    limit=limit,\n",
    "    exclude_instruments = []      # TODO change to empty list before push\n",
    ")\n",
    "allrep = AllReports(allsrc=allsrc)"
   ]
  },
  {
   "cell_type": "code",
   "execution_count": 6,
   "id": "7",
   "metadata": {
    "jupyter": {
     "source_hidden": true
    }
   },
   "outputs": [
    {
     "data": {
      "text/markdown": [
       "# Showing data for 2024-11-05 to 2024-11-06 for LSSTComCamSim, LATISS, LSSTComCam, LSSTCam"
      ],
      "text/plain": [
       "<IPython.core.display.Markdown object>"
      ]
     },
     "metadata": {},
     "output_type": "display_data"
    }
   ],
   "source": [
    "instrum_str = \", \".join(list(allsrc.exp_src.instruments.keys()))\n",
    "md(f\"# Showing data for {min_date.date()} to {max_date.date()} for {instrum_str}\")"
   ]
  },
  {
   "cell_type": "markdown",
   "id": "8",
   "metadata": {},
   "source": [
    "# Table of Contents\n",
    "* [Night Report](#Night-Report-BETA)\n",
    "    - AuxTel\n",
    "    - Simonyi\n",
    "* [Almanac](#Almanac-BETA)\n",
    "* [Summary plots of whole night](#Summary-plots-of-whole-night-DRAFT)\n",
    "* [Time Accounting](#Time-Accounting-DRAFT)\n",
    "* [Jira Tickets](#Jira-Tickets-BETA)\n",
    "    - AuxTel\n",
    "    - Simonyi\n",
    "* [BLOCKS Observed](#BLOCKS-Observed-DRAFT)\n",
    "    - AuxTel\n",
    "    - Simonyi\n",
    "* [Data Log](#Data-Log-DRAFT)\n",
    "* [Narrative Log](#Narrative-Log-BETA)\n",
    "* [Developer Only Section](#Developer-Only-Section-REMOVE)"
   ]
  },
  {
   "cell_type": "markdown",
   "id": "86ff253e-f575-4b9b-96f9-698d3faf9494",
   "metadata": {},
   "source": [
    "## Night Report <font style=\"background-color:green; color:white; font-size:20px\">BETA</font> "
   ]
  },
  {
   "cell_type": "code",
   "execution_count": 7,
   "id": "10",
   "metadata": {
    "jupyter": {
     "source_hidden": true
    }
   },
   "outputs": [],
   "source": [
    "# Night Report\n",
    "# Display time log\n",
    "allrep.nig_rep.time_log_as_markdown()"
   ]
  },
  {
   "cell_type": "markdown",
   "id": "51fad717-7160-4da9-bdeb-696c92f33c19",
   "metadata": {},
   "source": [
    "## Almanac <font style=\"background-color:green; color:white; font-size:20px\">BETA</font> "
   ]
  },
  {
   "cell_type": "code",
   "execution_count": 8,
   "id": "12",
   "metadata": {
    "jupyter": {
     "source_hidden": true
    }
   },
   "outputs": [
    {
     "data": {
      "text/markdown": [
       "**Almanac for the observing night starting 2024-11-05**"
      ],
      "text/plain": [
       "<IPython.core.display.Markdown object>"
      ]
     },
     "metadata": {},
     "output_type": "display_data"
    },
    {
     "data": {
      "text/html": [
       "<style type=\"text/css\">\n",
       "</style>\n",
       "<table id=\"T_14aef\">\n",
       "  <thead>\n",
       "  </thead>\n",
       "  <tbody>\n",
       "    <tr>\n",
       "      <th id=\"T_14aef_level0_row0\" class=\"row_heading level0 row0\" ></th>\n",
       "      <td id=\"T_14aef_row0_col0\" class=\"data row0 col0\" >(times in UTC)</td>\n",
       "      <td id=\"T_14aef_row0_col1\" class=\"data row0 col1\" ></td>\n",
       "    </tr>\n",
       "    <tr>\n",
       "      <th id=\"T_14aef_level0_row1\" class=\"row_heading level0 row1\" >Moon Rise</th>\n",
       "      <td id=\"T_14aef_row1_col0\" class=\"data row1 col0\" >2024-11-05 12:26:23.360</td>\n",
       "      <td id=\"T_14aef_row1_col1\" class=\"data row1 col1\" ></td>\n",
       "    </tr>\n",
       "    <tr>\n",
       "      <th id=\"T_14aef_level0_row2\" class=\"row_heading level0 row2\" >Moon Set</th>\n",
       "      <td id=\"T_14aef_row2_col0\" class=\"data row2 col0\" >2024-11-05 02:21:05.324</td>\n",
       "      <td id=\"T_14aef_row2_col1\" class=\"data row2 col1\" ></td>\n",
       "    </tr>\n",
       "    <tr>\n",
       "      <th id=\"T_14aef_level0_row3\" class=\"row_heading level0 row3\" >Moon Illumination</th>\n",
       "      <td id=\"T_14aef_row3_col0\" class=\"data row3 col0\" >12%</td>\n",
       "      <td id=\"T_14aef_row3_col1\" class=\"data row3 col1\" >(% illuminated)</td>\n",
       "    </tr>\n",
       "    <tr>\n",
       "      <th id=\"T_14aef_level0_row4\" class=\"row_heading level0 row4\" >Astronomical Twilight (morning)</th>\n",
       "      <td id=\"T_14aef_row4_col0\" class=\"data row4 col0\" >2024-11-05 08:16:31.085</td>\n",
       "      <td id=\"T_14aef_row4_col1\" class=\"data row4 col1\" >(-18 degrees)</td>\n",
       "    </tr>\n",
       "    <tr>\n",
       "      <th id=\"T_14aef_level0_row5\" class=\"row_heading level0 row5\" >Astronomical Twilight (evening)</th>\n",
       "      <td id=\"T_14aef_row5_col0\" class=\"data row5 col0\" >2024-11-05 00:36:18.653</td>\n",
       "      <td id=\"T_14aef_row5_col1\" class=\"data row5 col1\" >(-18 degrees)</td>\n",
       "    </tr>\n",
       "    <tr>\n",
       "      <th id=\"T_14aef_level0_row6\" class=\"row_heading level0 row6\" >Solar Midnight</th>\n",
       "      <td id=\"T_14aef_row6_col0\" class=\"data row6 col0\" >2024-11-05 04:26:24.970</td>\n",
       "      <td id=\"T_14aef_row6_col1\" class=\"data row6 col1\" ></td>\n",
       "    </tr>\n",
       "    <tr>\n",
       "      <th id=\"T_14aef_level0_row7\" class=\"row_heading level0 row7\" >Nautical Twilight (morning)</th>\n",
       "      <td id=\"T_14aef_row7_col0\" class=\"data row7 col0\" >2024-11-05 08:48:16.492</td>\n",
       "      <td id=\"T_14aef_row7_col1\" class=\"data row7 col1\" >(-12 degrees)</td>\n",
       "    </tr>\n",
       "    <tr>\n",
       "      <th id=\"T_14aef_level0_row8\" class=\"row_heading level0 row8\" >Nautical Twilight (evening)</th>\n",
       "      <td id=\"T_14aef_row8_col0\" class=\"data row8 col0\" >2024-11-05 00:04:33.140</td>\n",
       "      <td id=\"T_14aef_row8_col1\" class=\"data row8 col1\" >(-12 degrees)</td>\n",
       "    </tr>\n",
       "    <tr>\n",
       "      <th id=\"T_14aef_level0_row9\" class=\"row_heading level0 row9\" >Civil Twilight (morning)</th>\n",
       "      <td id=\"T_14aef_row9_col0\" class=\"data row9 col0\" >2024-11-05 09:18:46.299</td>\n",
       "      <td id=\"T_14aef_row9_col1\" class=\"data row9 col1\" >(-6 degrees)</td>\n",
       "    </tr>\n",
       "    <tr>\n",
       "      <th id=\"T_14aef_level0_row10\" class=\"row_heading level0 row10\" >Civil Twilight (evening)</th>\n",
       "      <td id=\"T_14aef_row10_col0\" class=\"data row10 col0\" >2024-11-04 23:34:03.177</td>\n",
       "      <td id=\"T_14aef_row10_col1\" class=\"data row10 col1\" >(-6 degrees)</td>\n",
       "    </tr>\n",
       "    <tr>\n",
       "      <th id=\"T_14aef_level0_row11\" class=\"row_heading level0 row11\" >Sun Rise</th>\n",
       "      <td id=\"T_14aef_row11_col0\" class=\"data row11 col0\" >2024-11-05 09:48:23.825</td>\n",
       "      <td id=\"T_14aef_row11_col1\" class=\"data row11 col1\" ></td>\n",
       "    </tr>\n",
       "    <tr>\n",
       "      <th id=\"T_14aef_level0_row12\" class=\"row_heading level0 row12\" >Sun Set</th>\n",
       "      <td id=\"T_14aef_row12_col0\" class=\"data row12 col0\" >2024-11-04 23:04:25.434</td>\n",
       "      <td id=\"T_14aef_row12_col1\" class=\"data row12 col1\" ></td>\n",
       "    </tr>\n",
       "  </tbody>\n",
       "</table>\n"
      ],
      "text/plain": [
       "<pandas.io.formats.style.Styler at 0x7f3462fd6190>"
      ]
     },
     "metadata": {},
     "output_type": "display_data"
    }
   ],
   "source": [
    "# Display various almanac values (for moon, sun)\n",
    "#!rep.AlmanacReport().day_obs_report(min_day_obs)\n",
    "allrep.alm_rep.day_obs_report()"
   ]
  },
  {
   "cell_type": "markdown",
   "id": "13",
   "metadata": {},
   "source": [
    "## Summary plots of whole night <font style=\"background-color:yellow; color:black; font-size:20px\">DRAFT</font>"
   ]
  },
  {
   "cell_type": "markdown",
   "id": "14",
   "metadata": {},
   "source": [
    "(content not yet defined in storyboard)"
   ]
  },
  {
   "cell_type": "code",
   "execution_count": 9,
   "id": "15",
   "metadata": {
    "jupyter": {
     "source_hidden": true
    }
   },
   "outputs": [],
   "source": [
    "# Plot Observation (Exposure) gaps\n",
    "# rollup,detail = allsrc.get_observation_gaps()\n",
    "# allrep.plot_observation_gap_detail(detail)"
   ]
  },
  {
   "cell_type": "markdown",
   "id": "9d51f937-37e7-45da-87cb-2319fd76a1cc",
   "metadata": {},
   "source": [
    "## Time Accounting <font style=\"background-color:yellow; color:black; font-size:20px\">DRAFT</font>\n",
    "SlewTime (and probably others) from EFD are only EXPECTED (topic=\"lsst.sal.Scheduler.logevent_target\"), not ACTUAL.\n",
    "To get ACTUAL time, we need to use something like TMAEvent to combine multiple real events into a synthetic event.  See DM-46102."
   ]
  },
  {
   "cell_type": "code",
   "execution_count": 10,
   "id": "16",
   "metadata": {},
   "outputs": [
    {
     "data": {
      "text/html": [
       "<div>\n",
       "<style scoped>\n",
       "    .dataframe tbody tr th:only-of-type {\n",
       "        vertical-align: middle;\n",
       "    }\n",
       "\n",
       "    .dataframe tbody tr th {\n",
       "        vertical-align: top;\n",
       "    }\n",
       "\n",
       "    .dataframe thead th {\n",
       "        text-align: right;\n",
       "    }\n",
       "</style>\n",
       "<table border=\"1\" class=\"dataframe\">\n",
       "  <thead>\n",
       "    <tr style=\"text-align: right;\">\n",
       "      <th></th>\n",
       "      <th>LSSTComCam</th>\n",
       "      <th>LSSTCam</th>\n",
       "    </tr>\n",
       "  </thead>\n",
       "  <tbody>\n",
       "    <tr>\n",
       "      <th>Total Night</th>\n",
       "      <td>7:40:12</td>\n",
       "      <td>7:40:12</td>\n",
       "    </tr>\n",
       "    <tr>\n",
       "      <th>Total Exposure</th>\n",
       "      <td>2:23:48</td>\n",
       "      <td>2:56:50</td>\n",
       "    </tr>\n",
       "    <tr>\n",
       "      <th>Slew time(1)</th>\n",
       "      <td>0:00:00</td>\n",
       "      <td>0:00:00</td>\n",
       "    </tr>\n",
       "    <tr>\n",
       "      <th>Readout time(2)</th>\n",
       "      <td>0:11:43</td>\n",
       "      <td>0:29:30</td>\n",
       "    </tr>\n",
       "    <tr>\n",
       "      <th>Time loss to fault</th>\n",
       "      <td>NA</td>\n",
       "      <td>NA</td>\n",
       "    </tr>\n",
       "    <tr>\n",
       "      <th>Time loss to weather</th>\n",
       "      <td>NA</td>\n",
       "      <td>NA</td>\n",
       "    </tr>\n",
       "    <tr>\n",
       "      <th>Idle time</th>\n",
       "      <td>5:16:24</td>\n",
       "      <td>4:43:21</td>\n",
       "    </tr>\n",
       "    <tr>\n",
       "      <th>Number of exposures</th>\n",
       "      <td>306</td>\n",
       "      <td>770</td>\n",
       "    </tr>\n",
       "    <tr>\n",
       "      <th>Mean readout time</th>\n",
       "      <td>0.000639</td>\n",
       "      <td>0.000639</td>\n",
       "    </tr>\n",
       "    <tr>\n",
       "      <th>Number of slews(1)</th>\n",
       "      <td>0</td>\n",
       "      <td>0</td>\n",
       "    </tr>\n",
       "    <tr>\n",
       "      <th>Mean Slew time(1)</th>\n",
       "      <td>0:00:00</td>\n",
       "      <td>0:00:00</td>\n",
       "    </tr>\n",
       "  </tbody>\n",
       "</table>\n",
       "</div>"
      ],
      "text/plain": [
       "                     LSSTComCam   LSSTCam\n",
       "Total Night             7:40:12   7:40:12\n",
       "Total Exposure          2:23:48   2:56:50\n",
       "Slew time(1)            0:00:00   0:00:00\n",
       "Readout time(2)         0:11:43   0:29:30\n",
       "Time loss to fault           NA        NA\n",
       "Time loss to weather         NA        NA\n",
       "Idle time               5:16:24   4:43:21\n",
       "Number of exposures         306       770\n",
       "Mean readout time      0.000639  0.000639\n",
       "Number of slews(1)            0         0\n",
       "Mean Slew time(1)       0:00:00   0:00:00"
      ]
     },
     "metadata": {},
     "output_type": "display_data"
    }
   ],
   "source": [
    "# Exposure Tally\n",
    "tally = await allsrc.night_tally_observation_gaps()\n",
    "if tally:\n",
    "    display(pd.DataFrame(tally))"
   ]
  },
  {
   "cell_type": "markdown",
   "id": "ad5a2e6c-ca0d-4978-bac9-25c83f90d090",
   "metadata": {},
   "source": [
    "- (1) *Expected* slew time as per Schedular\n",
    "- (2) There is no practical way to get detector read-out time.  A value of 2.3 seconds was inferred from experiments."
   ]
  },
  {
   "cell_type": "markdown",
   "id": "17",
   "metadata": {},
   "source": [
    "## Jira Tickets <font style=\"background-color:green; color:white; font-size:20px\">BETA</font> \n",
    "(Observing Operations - OBS)\n",
    "(TODO: better tickets using Jira API)"
   ]
  },
  {
   "cell_type": "code",
   "execution_count": 11,
   "id": "18",
   "metadata": {
    "jupyter": {
     "source_hidden": true
    }
   },
   "outputs": [],
   "source": [
    "if allsrc.urls:\n",
    "    for url in allsrc.urls:\n",
    "        md(f\"- {mdpathlink(url)}\")"
   ]
  },
  {
   "cell_type": "code",
   "execution_count": 12,
   "id": "19",
   "metadata": {
    "jupyter": {
     "source_hidden": true
    }
   },
   "outputs": [
    {
     "data": {
      "text/markdown": [
       "No tickets found using: [API Data](https://usdf-rsp-dev.slac.stanford.edu/nightreport/reports?is_human=either&is_valid=true&order_by=-day_obs&offset=0&limit=100&min_day_obs=20241105&max_day_obs=20241106) in `confluence_url`."
      ],
      "text/plain": [
       "<IPython.core.display.Markdown object>"
      ]
     },
     "metadata": {},
     "output_type": "display_data"
    }
   ],
   "source": [
    "# Display Jira BLOCKS\n",
    "front = \"https://rubinobs.atlassian.net/projects/BLOCK?selectedItem=com.atlassian.plugins.atlassian-connect-plugin:com.kanoah.test-manager__main-project-page#!/\"\n",
    "tickets = allsrc.nig_src.nightly_tickets()\n",
    "if tickets:\n",
    "    mdstr = \"#### Nightly Jira BLOCKs\"\n",
    "    for day, url_list in tickets.items():\n",
    "        mdstr += f\"\\n- {day}\"\n",
    "        for ticket_url in url_list:\n",
    "            mdstr += f'\\n    - [{ticket_url.replace(front,\"\")}]({ticket_url})'\n",
    "    md(mdstr)\n",
    "else:\n",
    "    endpoint_url = allsrc.nig_src.status[\"reports\"][\"endpoint_url\"]\n",
    "    md(f\"No tickets found using: [API Data]({endpoint_url}) in `confluence_url`.\")"
   ]
  },
  {
   "cell_type": "markdown",
   "id": "20",
   "metadata": {},
   "source": [
    "## BLOCKS Observed <font style=\"background-color:yellow; color:black; font-size:20px\">DRAFT</font>\n",
    "(TODO: BLOCKS observed) "
   ]
  },
  {
   "cell_type": "markdown",
   "id": "71772e8d-658d-497a-b391-5996066f401a",
   "metadata": {},
   "source": [
    "## Data Log <font style=\"background-color:yellow; color:black; font-size:20px\">DRAFT</font>"
   ]
  },
  {
   "cell_type": "markdown",
   "id": "21",
   "metadata": {},
   "source": [
    "NOTE: *modified all_sources.py:uniform_field_counts()*\n",
    "NOTE: Each tally count is now a link to a detailed table of exposures."
   ]
  },
  {
   "cell_type": "code",
   "execution_count": 13,
   "id": "22",
   "metadata": {
    "jupyter": {
     "source_hidden": true
    }
   },
   "outputs": [
    {
     "data": {
      "text/markdown": [
       "Tally exposures with specific values of selected fields"
      ],
      "text/plain": [
       "<IPython.core.display.Markdown object>"
      ]
     },
     "metadata": {},
     "output_type": "display_data"
    },
    {
     "data": {
      "text/markdown": [
       "**LSSTComCamSim: 0 total exposures**"
      ],
      "text/plain": [
       "<IPython.core.display.Markdown object>"
      ]
     },
     "metadata": {},
     "output_type": "display_data"
    },
    {
     "data": {
      "text/markdown": [
       "**LATISS: 0 total exposures**"
      ],
      "text/plain": [
       "<IPython.core.display.Markdown object>"
      ]
     },
     "metadata": {},
     "output_type": "display_data"
    },
    {
     "data": {
      "text/markdown": [
       "**LSSTComCam: 306 total exposures**"
      ],
      "text/plain": [
       "<IPython.core.display.Markdown object>"
      ]
     },
     "metadata": {},
     "output_type": "display_data"
    },
    {
     "data": {
      "text/markdown": [
       "observation_type"
      ],
      "text/plain": [
       "<IPython.core.display.Markdown object>"
      ]
     },
     "metadata": {},
     "output_type": "display_data"
    },
    {
     "data": {
      "text/html": [
       "<table border=\"1\" class=\"dataframe\">\n",
       "  <thead>\n",
       "    <tr style=\"text-align: right;\">\n",
       "      <th></th>\n",
       "      <th>dark</th>\n",
       "      <th>bias</th>\n",
       "      <th>science</th>\n",
       "      <th>acq</th>\n",
       "      <th>cwfs</th>\n",
       "    </tr>\n",
       "  </thead>\n",
       "  <tbody>\n",
       "    <tr>\n",
       "      <th>0</th>\n",
       "      <td><a href=https://usdf-rsp-dev.slac.stanford.edu/times-square/github/lsst-ts/ts_logging_and_reporting/ExposureDetail?day_obs=2024-11-05&number_of_days=1&instrument=LSSTComCam&observation_type=dark>24</a></td>\n",
       "      <td><a href=https://usdf-rsp-dev.slac.stanford.edu/times-square/github/lsst-ts/ts_logging_and_reporting/ExposureDetail?day_obs=2024-11-05&number_of_days=1&instrument=LSSTComCam&observation_type=bias>32</a></td>\n",
       "      <td><a href=https://usdf-rsp-dev.slac.stanford.edu/times-square/github/lsst-ts/ts_logging_and_reporting/ExposureDetail?day_obs=2024-11-05&number_of_days=1&instrument=LSSTComCam&observation_type=science>57</a></td>\n",
       "      <td><a href=https://usdf-rsp-dev.slac.stanford.edu/times-square/github/lsst-ts/ts_logging_and_reporting/ExposureDetail?day_obs=2024-11-05&number_of_days=1&instrument=LSSTComCam&observation_type=acq>80</a></td>\n",
       "      <td><a href=https://usdf-rsp-dev.slac.stanford.edu/times-square/github/lsst-ts/ts_logging_and_reporting/ExposureDetail?day_obs=2024-11-05&number_of_days=1&instrument=LSSTComCam&observation_type=cwfs>113</a></td>\n",
       "    </tr>\n",
       "  </tbody>\n",
       "</table>"
      ],
      "text/plain": [
       "<IPython.core.display.HTML object>"
      ]
     },
     "metadata": {},
     "output_type": "display_data"
    },
    {
     "data": {
      "text/markdown": [
       "science_program"
      ],
      "text/plain": [
       "<IPython.core.display.Markdown object>"
      ]
     },
     "metadata": {},
     "output_type": "display_data"
    },
    {
     "data": {
      "text/html": [
       "<table border=\"1\" class=\"dataframe\">\n",
       "  <thead>\n",
       "    <tr style=\"text-align: right;\">\n",
       "      <th></th>\n",
       "      <th>BLOCK-T220</th>\n",
       "      <th>PP-SURVEY</th>\n",
       "      <th>unknown</th>\n",
       "      <th>BLOCK-T150</th>\n",
       "      <th>BLOCK-T94</th>\n",
       "      <th>BLOCK-T249</th>\n",
       "      <th>BLOCK-T88</th>\n",
       "      <th>BLOCK-T60</th>\n",
       "      <th>BLOCK-T92</th>\n",
       "      <th>BLOCK-T215</th>\n",
       "      <th>BLOCK-T246</th>\n",
       "    </tr>\n",
       "  </thead>\n",
       "  <tbody>\n",
       "    <tr>\n",
       "      <th>0</th>\n",
       "      <td><a href=https://usdf-rsp-dev.slac.stanford.edu/times-square/github/lsst-ts/ts_logging_and_reporting/ExposureDetail?day_obs=2024-11-05&number_of_days=1&instrument=LSSTComCam&science_program=BLOCK-T220>44</a></td>\n",
       "      <td><a href=https://usdf-rsp-dev.slac.stanford.edu/times-square/github/lsst-ts/ts_logging_and_reporting/ExposureDetail?day_obs=2024-11-05&number_of_days=1&instrument=LSSTComCam&science_program=PP-SURVEY>29</a></td>\n",
       "      <td><a href=https://usdf-rsp-dev.slac.stanford.edu/times-square/github/lsst-ts/ts_logging_and_reporting/ExposureDetail?day_obs=2024-11-05&number_of_days=1&instrument=LSSTComCam&science_program=unknown>33</a></td>\n",
       "      <td><a href=https://usdf-rsp-dev.slac.stanford.edu/times-square/github/lsst-ts/ts_logging_and_reporting/ExposureDetail?day_obs=2024-11-05&number_of_days=1&instrument=LSSTComCam&science_program=BLOCK-T150>45</a></td>\n",
       "      <td><a href=https://usdf-rsp-dev.slac.stanford.edu/times-square/github/lsst-ts/ts_logging_and_reporting/ExposureDetail?day_obs=2024-11-05&number_of_days=1&instrument=LSSTComCam&science_program=BLOCK-T94>43</a></td>\n",
       "      <td><a href=https://usdf-rsp-dev.slac.stanford.edu/times-square/github/lsst-ts/ts_logging_and_reporting/ExposureDetail?day_obs=2024-11-05&number_of_days=1&instrument=LSSTComCam&science_program=BLOCK-T249>22</a></td>\n",
       "      <td><a href=https://usdf-rsp-dev.slac.stanford.edu/times-square/github/lsst-ts/ts_logging_and_reporting/ExposureDetail?day_obs=2024-11-05&number_of_days=1&instrument=LSSTComCam&science_program=BLOCK-T88>9</a></td>\n",
       "      <td><a href=https://usdf-rsp-dev.slac.stanford.edu/times-square/github/lsst-ts/ts_logging_and_reporting/ExposureDetail?day_obs=2024-11-05&number_of_days=1&instrument=LSSTComCam&science_program=BLOCK-T60>27</a></td>\n",
       "      <td><a href=https://usdf-rsp-dev.slac.stanford.edu/times-square/github/lsst-ts/ts_logging_and_reporting/ExposureDetail?day_obs=2024-11-05&number_of_days=1&instrument=LSSTComCam&science_program=BLOCK-T92>21</a></td>\n",
       "      <td><a href=https://usdf-rsp-dev.slac.stanford.edu/times-square/github/lsst-ts/ts_logging_and_reporting/ExposureDetail?day_obs=2024-11-05&number_of_days=1&instrument=LSSTComCam&science_program=BLOCK-T215>23</a></td>\n",
       "      <td><a href=https://usdf-rsp-dev.slac.stanford.edu/times-square/github/lsst-ts/ts_logging_and_reporting/ExposureDetail?day_obs=2024-11-05&number_of_days=1&instrument=LSSTComCam&science_program=BLOCK-T246>10</a></td>\n",
       "    </tr>\n",
       "  </tbody>\n",
       "</table>"
      ],
      "text/plain": [
       "<IPython.core.display.HTML object>"
      ]
     },
     "metadata": {},
     "output_type": "display_data"
    },
    {
     "data": {
      "text/markdown": [
       "observation_reason"
      ],
      "text/plain": [
       "<IPython.core.display.Markdown object>"
      ]
     },
     "metadata": {},
     "output_type": "display_data"
    },
    {
     "data": {
      "text/html": [
       "<table border=\"1\" class=\"dataframe\">\n",
       "  <thead>\n",
       "    <tr style=\"text-align: right;\">\n",
       "      <th></th>\n",
       "      <th>comcam-daily-calibration</th>\n",
       "      <th>science</th>\n",
       "      <th>object</th>\n",
       "      <th>infocus</th>\n",
       "      <th>extra</th>\n",
       "      <th>intra</th>\n",
       "      <th>infocus sitcom-826</th>\n",
       "      <th>extra sitcom-826</th>\n",
       "      <th>intra sitcom-826</th>\n",
       "      <th>comcam manual alignment</th>\n",
       "      <th>infocus spherical alignment</th>\n",
       "      <th>extra spherical alignment</th>\n",
       "      <th>intra spherical alignment</th>\n",
       "      <th>comcam twilight flat</th>\n",
       "      <th>comcam-usdf-checkout</th>\n",
       "    </tr>\n",
       "  </thead>\n",
       "  <tbody>\n",
       "    <tr>\n",
       "      <th>0</th>\n",
       "      <td><a href=https://usdf-rsp-dev.slac.stanford.edu/times-square/github/lsst-ts/ts_logging_and_reporting/ExposureDetail?day_obs=2024-11-05&number_of_days=1&instrument=LSSTComCam&observation_reason=comcam-daily-calibration>44</a></td>\n",
       "      <td><a href=https://usdf-rsp-dev.slac.stanford.edu/times-square/github/lsst-ts/ts_logging_and_reporting/ExposureDetail?day_obs=2024-11-05&number_of_days=1&instrument=LSSTComCam&observation_reason=science>29</a></td>\n",
       "      <td><a href=https://usdf-rsp-dev.slac.stanford.edu/times-square/github/lsst-ts/ts_logging_and_reporting/ExposureDetail?day_obs=2024-11-05&number_of_days=1&instrument=LSSTComCam&observation_reason=object>28</a></td>\n",
       "      <td><a href=https://usdf-rsp-dev.slac.stanford.edu/times-square/github/lsst-ts/ts_logging_and_reporting/ExposureDetail?day_obs=2024-11-05&number_of_days=1&instrument=LSSTComCam&observation_reason=infocus>32</a></td>\n",
       "      <td><a href=https://usdf-rsp-dev.slac.stanford.edu/times-square/github/lsst-ts/ts_logging_and_reporting/ExposureDetail?day_obs=2024-11-05&number_of_days=1&instrument=LSSTComCam&observation_reason=extra>32</a></td>\n",
       "      <td><a href=https://usdf-rsp-dev.slac.stanford.edu/times-square/github/lsst-ts/ts_logging_and_reporting/ExposureDetail?day_obs=2024-11-05&number_of_days=1&instrument=LSSTComCam&observation_reason=intra>33</a></td>\n",
       "      <td><a href=https://usdf-rsp-dev.slac.stanford.edu/times-square/github/lsst-ts/ts_logging_and_reporting/ExposureDetail?day_obs=2024-11-05&number_of_days=1&instrument=LSSTComCam&observation_reason=infocus_sitcom-826>6</a></td>\n",
       "      <td><a href=https://usdf-rsp-dev.slac.stanford.edu/times-square/github/lsst-ts/ts_logging_and_reporting/ExposureDetail?day_obs=2024-11-05&number_of_days=1&instrument=LSSTComCam&observation_reason=extra_sitcom-826>8</a></td>\n",
       "      <td><a href=https://usdf-rsp-dev.slac.stanford.edu/times-square/github/lsst-ts/ts_logging_and_reporting/ExposureDetail?day_obs=2024-11-05&number_of_days=1&instrument=LSSTComCam&observation_reason=intra_sitcom-826>8</a></td>\n",
       "      <td><a href=https://usdf-rsp-dev.slac.stanford.edu/times-square/github/lsst-ts/ts_logging_and_reporting/ExposureDetail?day_obs=2024-11-05&number_of_days=1&instrument=LSSTComCam&observation_reason=comcam_manual_alignment>5</a></td>\n",
       "      <td><a href=https://usdf-rsp-dev.slac.stanford.edu/times-square/github/lsst-ts/ts_logging_and_reporting/ExposureDetail?day_obs=2024-11-05&number_of_days=1&instrument=LSSTComCam&observation_reason=infocus_spherical_alignment>16</a></td>\n",
       "      <td><a href=https://usdf-rsp-dev.slac.stanford.edu/times-square/github/lsst-ts/ts_logging_and_reporting/ExposureDetail?day_obs=2024-11-05&number_of_days=1&instrument=LSSTComCam&observation_reason=extra_spherical_alignment>16</a></td>\n",
       "      <td><a href=https://usdf-rsp-dev.slac.stanford.edu/times-square/github/lsst-ts/ts_logging_and_reporting/ExposureDetail?day_obs=2024-11-05&number_of_days=1&instrument=LSSTComCam&observation_reason=intra_spherical_alignment>16</a></td>\n",
       "      <td><a href=https://usdf-rsp-dev.slac.stanford.edu/times-square/github/lsst-ts/ts_logging_and_reporting/ExposureDetail?day_obs=2024-11-05&number_of_days=1&instrument=LSSTComCam&observation_reason=comcam_twilight_flat>23</a></td>\n",
       "      <td><a href=https://usdf-rsp-dev.slac.stanford.edu/times-square/github/lsst-ts/ts_logging_and_reporting/ExposureDetail?day_obs=2024-11-05&number_of_days=1&instrument=LSSTComCam&observation_reason=comcam-usdf-checkout>10</a></td>\n",
       "    </tr>\n",
       "  </tbody>\n",
       "</table>"
      ],
      "text/plain": [
       "<IPython.core.display.HTML object>"
      ]
     },
     "metadata": {},
     "output_type": "display_data"
    },
    {
     "data": {
      "text/markdown": [
       "**LSSTCam: 770 total exposures**"
      ],
      "text/plain": [
       "<IPython.core.display.Markdown object>"
      ]
     },
     "metadata": {},
     "output_type": "display_data"
    },
    {
     "data": {
      "text/markdown": [
       "observation_type"
      ],
      "text/plain": [
       "<IPython.core.display.Markdown object>"
      ]
     },
     "metadata": {},
     "output_type": "display_data"
    },
    {
     "data": {
      "text/html": [
       "<table border=\"1\" class=\"dataframe\">\n",
       "  <thead>\n",
       "    <tr style=\"text-align: right;\">\n",
       "      <th></th>\n",
       "      <th>dark</th>\n",
       "      <th>bias</th>\n",
       "      <th>flat</th>\n",
       "    </tr>\n",
       "  </thead>\n",
       "  <tbody>\n",
       "    <tr>\n",
       "      <th>0</th>\n",
       "      <td><a href=https://usdf-rsp-dev.slac.stanford.edu/times-square/github/lsst-ts/ts_logging_and_reporting/ExposureDetail?day_obs=2024-11-05&number_of_days=1&instrument=LSSTCam&observation_type=dark>370</a></td>\n",
       "      <td><a href=https://usdf-rsp-dev.slac.stanford.edu/times-square/github/lsst-ts/ts_logging_and_reporting/ExposureDetail?day_obs=2024-11-05&number_of_days=1&instrument=LSSTCam&observation_type=bias>168</a></td>\n",
       "      <td><a href=https://usdf-rsp-dev.slac.stanford.edu/times-square/github/lsst-ts/ts_logging_and_reporting/ExposureDetail?day_obs=2024-11-05&number_of_days=1&instrument=LSSTCam&observation_type=flat>232</a></td>\n",
       "    </tr>\n",
       "  </tbody>\n",
       "</table>"
      ],
      "text/plain": [
       "<IPython.core.display.HTML object>"
      ]
     },
     "metadata": {},
     "output_type": "display_data"
    },
    {
     "data": {
      "text/markdown": [
       "science_program"
      ],
      "text/plain": [
       "<IPython.core.display.Markdown object>"
      ]
     },
     "metadata": {},
     "output_type": "display_data"
    },
    {
     "data": {
      "text/html": [
       "<table border=\"1\" class=\"dataframe\">\n",
       "  <thead>\n",
       "    <tr style=\"text-align: right;\">\n",
       "      <th></th>\n",
       "      <th>E2136</th>\n",
       "      <th>unknown</th>\n",
       "      <th>E2016</th>\n",
       "    </tr>\n",
       "  </thead>\n",
       "  <tbody>\n",
       "    <tr>\n",
       "      <th>0</th>\n",
       "      <td><a href=https://usdf-rsp-dev.slac.stanford.edu/times-square/github/lsst-ts/ts_logging_and_reporting/ExposureDetail?day_obs=2024-11-05&number_of_days=1&instrument=LSSTCam&science_program=E2136>201</a></td>\n",
       "      <td><a href=https://usdf-rsp-dev.slac.stanford.edu/times-square/github/lsst-ts/ts_logging_and_reporting/ExposureDetail?day_obs=2024-11-05&number_of_days=1&instrument=LSSTCam&science_program=unknown>121</a></td>\n",
       "      <td><a href=https://usdf-rsp-dev.slac.stanford.edu/times-square/github/lsst-ts/ts_logging_and_reporting/ExposureDetail?day_obs=2024-11-05&number_of_days=1&instrument=LSSTCam&science_program=E2016>448</a></td>\n",
       "    </tr>\n",
       "  </tbody>\n",
       "</table>"
      ],
      "text/plain": [
       "<IPython.core.display.HTML object>"
      ]
     },
     "metadata": {},
     "output_type": "display_data"
    },
    {
     "data": {
      "text/markdown": [
       "observation_reason"
      ],
      "text/plain": [
       "<IPython.core.display.Markdown object>"
      ]
     },
     "metadata": {},
     "output_type": "display_data"
    },
    {
     "data": {
      "text/html": [
       "<table border=\"1\" class=\"dataframe\">\n",
       "  <thead>\n",
       "    <tr style=\"text-align: right;\">\n",
       "      <th></th>\n",
       "      <th>dark</th>\n",
       "      <th>flat</th>\n",
       "      <th>bias</th>\n",
       "    </tr>\n",
       "  </thead>\n",
       "  <tbody>\n",
       "    <tr>\n",
       "      <th>0</th>\n",
       "      <td><a href=https://usdf-rsp-dev.slac.stanford.edu/times-square/github/lsst-ts/ts_logging_and_reporting/ExposureDetail?day_obs=2024-11-05&number_of_days=1&instrument=LSSTCam&observation_reason=dark>312</a></td>\n",
       "      <td><a href=https://usdf-rsp-dev.slac.stanford.edu/times-square/github/lsst-ts/ts_logging_and_reporting/ExposureDetail?day_obs=2024-11-05&number_of_days=1&instrument=LSSTCam&observation_reason=flat>457</a></td>\n",
       "      <td><a href=https://usdf-rsp-dev.slac.stanford.edu/times-square/github/lsst-ts/ts_logging_and_reporting/ExposureDetail?day_obs=2024-11-05&number_of_days=1&instrument=LSSTCam&observation_reason=bias>1</a></td>\n",
       "    </tr>\n",
       "  </tbody>\n",
       "</table>"
      ],
      "text/plain": [
       "<IPython.core.display.HTML object>"
      ]
     },
     "metadata": {},
     "output_type": "display_data"
    }
   ],
   "source": [
    "# Exposure Report\n",
    "if experimental.get(\"exposure_type_tally\"): \n",
    "    #  md(\"### Experimental Exposure field Tally ENABLED\")\n",
    "    md(\"Tally exposures with specific values of selected fields\")\n",
    "else:\n",
    "    md(\"### Experimental Exposure field Tally DISASBLED\")\n",
    "    \n",
    "for instrum in allsrc.exp_src.exposures.keys():\n",
    "    md(f'**{instrum}: {len(allsrc.exp_src.exposures[instrum])} total exposures**')\n",
    "    if 0 == len(allsrc.exp_src.exposures[instrum]):\n",
    "        continue\n",
    "\n",
    "    # Facet counts\n",
    "    if experimental.get(\"exposure_type_tally\"): \n",
    "        counts = allsrc.uniform_exposure_field_counts(instrum)\n",
    "        for fname, tally in counts.items():\n",
    "            md(f\"{fname}\")\n",
    "            df = pd.DataFrame.from_dict(tally, orient=\"index\").T\n",
    "            wdf = ut.wrap_dataframe_columns(df)\n",
    "            display(HTML(wdf.to_html(render_links=True, escape=False)))"
   ]
  },
  {
   "cell_type": "markdown",
   "id": "261925dc-1171-4429-b6a8-3bf62d71904f",
   "metadata": {},
   "source": [
    "Note: *Added counts of Exposures with messages*"
   ]
  },
  {
   "cell_type": "code",
   "execution_count": 14,
   "id": "fd31c70d-1f21-427b-a4bc-8c493c9da936",
   "metadata": {
    "jupyter": {
     "source_hidden": true
    }
   },
   "outputs": [],
   "source": [
    "for instrum, recs in allsrc.exp_src.messages.items():\n",
    "    md(f'**{instrum} {len(recs)} Exposures with messages**')\n",
    "    if len(recs) > 0:\n",
    "        df = allsrc.tally_exposure_flags(instrum)\n",
    "        display(df.style.hide(axis=\"index\"))"
   ]
  },
  {
   "cell_type": "markdown",
   "id": "20820900-05ab-4ca5-8df5-9f725c0ee570",
   "metadata": {},
   "source": [
    "## Narrative Log <font style=\"background-color:green; color:white; font-size:20px\">BETA</font> "
   ]
  },
  {
   "cell_type": "code",
   "execution_count": 15,
   "id": "26",
   "metadata": {
    "editable": true,
    "jupyter": {
     "source_hidden": true
    },
    "slideshow": {
     "slide_type": ""
    },
    "tags": []
   },
   "outputs": [],
   "source": [
    "# Narrative Report\n",
    "# Time Log\n",
    "allrep.nar_rep.time_log_as_markdown()"
   ]
  },
  {
   "cell_type": "markdown",
   "id": "27",
   "metadata": {},
   "source": [
    "-----------\n",
    "------------"
   ]
  },
  {
   "cell_type": "markdown",
   "id": "cd0567ce-4ae9-428e-8f9d-df8277511392",
   "metadata": {},
   "source": [
    "# Developer Only Section <font style=\"background-color:red; olor:black; font-size:20px\">REMOVE</font>\n",
    "Contains stuff only expected to be useful to developers.\n",
    "\n",
    "This may also contain sections that have moved out of the user section because they are no longer defined in the Storyboard."
   ]
  },
  {
   "cell_type": "markdown",
   "id": "34",
   "metadata": {},
   "source": [
    "## Overview \n"
   ]
  },
  {
   "cell_type": "code",
   "execution_count": 16,
   "id": "6e220d29-aac6-4d70-80e2-7dd3ef99944c",
   "metadata": {
    "jupyter": {
     "source_hidden": true
    }
   },
   "outputs": [
    {
     "data": {
      "text/markdown": [
       "## Project-Wide Night(s) Report \n",
       "- Run on logs and databases from **https://usdf-rsp-dev.slac.stanford.edu/**\n",
       "- Report **1 observing night(s)** with the last reported night starting on **2024-11-05 12:00:00**.\n",
       "- min_dayobs='2024-11-05', max_dayobs='2024-11-06'\n",
       "- Using ***Prototype* Logging and Reporting** Version: **0.1.dev145+gf2a5765.d20241014**\n",
       "- have_consdb = True\n",
       "- Imported lsst.ts.logging_and_reporting from local packages.\n"
      ],
      "text/plain": [
       "<IPython.core.display.Markdown object>"
      ]
     },
     "metadata": {},
     "output_type": "display_data"
    }
   ],
   "source": [
    "# Display overview of Report context\n",
    "try:\n",
    "    import lsst.ts.logging_and_reporting.version\n",
    "\n",
    "    lrversion = lsst.ts.logging_and_reporting.version.__version__\n",
    "except:\n",
    "    lrversion = \"LIVE\"\n",
    "\n",
    "try:\n",
    "    from lsst.summit.utils import ConsDbClient\n",
    "\n",
    "    have_consdb = True\n",
    "except:\n",
    "    have_consdb = False\n",
    "md(\n",
    "    f\"\"\"## Project-Wide Night(s) Report \n",
    "- Run on logs and databases from **{server}/**\n",
    "- Report **{days} observing night(s)** with the last reported night starting on **{date}**.\n",
    "- min_dayobs={allsrc.min_dayobs!r}, max_dayobs={allsrc.max_dayobs!r}\n",
    "- Using ***Prototype* Logging and Reporting** Version: **{lrversion}**\n",
    "- {have_consdb = }\n",
    "- {dev_msg}\n",
    "\"\"\")"
   ]
  },
  {
   "cell_type": "markdown",
   "id": "47ef40d3-f6d4-4b6a-80bf-55a613d3f884",
   "metadata": {},
   "source": [
    "## Data Status\n",
    "This may be useful for diagnosing reports that give unexpected results."
   ]
  },
  {
   "cell_type": "code",
   "execution_count": 17,
   "id": "b076e98a-44a2-437c-9342-a180fe2cd829",
   "metadata": {
    "jupyter": {
     "source_hidden": true
    }
   },
   "outputs": [
    {
     "data": {
      "text/html": [
       "<table border=\"1\" class=\"dataframe\">\n",
       "  <thead>\n",
       "    <tr style=\"text-align: right;\">\n",
       "      <th>Endpoint</th>\n",
       "      <th>Records</th>\n",
       "      <th>URL</th>\n",
       "    </tr>\n",
       "  </thead>\n",
       "  <tbody>\n",
       "    <tr>\n",
       "      <td>nightreport/reports</td>\n",
       "      <td>0</td>\n",
       "      <td><a href=\"https://usdf-rsp-dev.slac.stanford.edu/nightreport/reports?is_human=either&is_valid=true&order_by=-day_obs&offset=0&limit=100&min_day_obs=20241105&max_day_obs=20241106\" target=\"_blank\">https://usdf-rsp-dev.slac.stanford.edu/nightreport/reports?is_human=either&is_valid=true&order_by=-day_obs&offset=0&limit=100&min_day_obs=20241105&max_day_obs=20241106</a></td>\n",
       "    </tr>\n",
       "    <tr>\n",
       "      <td>exposurelog/instruments</td>\n",
       "      <td>3</td>\n",
       "      <td><a href=\"https://usdf-rsp-dev.slac.stanford.edu/exposurelog/instruments\" target=\"_blank\">https://usdf-rsp-dev.slac.stanford.edu/exposurelog/instruments</a></td>\n",
       "    </tr>\n",
       "    <tr>\n",
       "      <td>exposurelog/exposures.LSSTComCamSim</td>\n",
       "      <td>0</td>\n",
       "      <td><a href=\"https://usdf-rsp-dev.slac.stanford.edu/exposurelog/exposures?registry=1&instrument=LSSTComCamSim&order_by=-timespan_end&offset=0&limit=2500&min_day_obs=20241105&max_day_obs=20241106\" target=\"_blank\">https://usdf-rsp-dev.slac.stanford.edu/exposurelog/exposures?registry=1&instrument=LSSTComCamSim&order_by=-timespan_end&offset=0&limit=2500&min_day_obs=20241105&max_day_obs=20241106</a></td>\n",
       "    </tr>\n",
       "    <tr>\n",
       "      <td>exposurelog/exposures.LATISS</td>\n",
       "      <td>0</td>\n",
       "      <td><a href=\"https://usdf-rsp-dev.slac.stanford.edu/exposurelog/exposures?registry=1&instrument=LATISS&order_by=-timespan_end&offset=0&limit=2500&min_day_obs=20241105&max_day_obs=20241106\" target=\"_blank\">https://usdf-rsp-dev.slac.stanford.edu/exposurelog/exposures?registry=1&instrument=LATISS&order_by=-timespan_end&offset=0&limit=2500&min_day_obs=20241105&max_day_obs=20241106</a></td>\n",
       "    </tr>\n",
       "    <tr>\n",
       "      <td>exposurelog/exposures.LSSTComCam</td>\n",
       "      <td>306</td>\n",
       "      <td><a href=\"https://usdf-rsp-dev.slac.stanford.edu/exposurelog/exposures?registry=1&instrument=LSSTComCam&order_by=-timespan_end&offset=0&limit=2500&min_day_obs=20241105&max_day_obs=20241106\" target=\"_blank\">https://usdf-rsp-dev.slac.stanford.edu/exposurelog/exposures?registry=1&instrument=LSSTComCam&order_by=-timespan_end&offset=0&limit=2500&min_day_obs=20241105&max_day_obs=20241106</a></td>\n",
       "    </tr>\n",
       "    <tr>\n",
       "      <td>exposurelog/exposures.LSSTCam</td>\n",
       "      <td>770</td>\n",
       "      <td><a href=\"https://usdf-rsp-dev.slac.stanford.edu/exposurelog/exposures?registry=1&instrument=LSSTCam&order_by=-timespan_end&offset=0&limit=2500&min_day_obs=20241105&max_day_obs=20241106\" target=\"_blank\">https://usdf-rsp-dev.slac.stanford.edu/exposurelog/exposures?registry=1&instrument=LSSTCam&order_by=-timespan_end&offset=0&limit=2500&min_day_obs=20241105&max_day_obs=20241106</a></td>\n",
       "    </tr>\n",
       "    <tr>\n",
       "      <td>exposurelog/messages</td>\n",
       "      <td>0</td>\n",
       "      <td><a href=\"https://usdf-rsp-dev.slac.stanford.edu/exposurelog/messages?is_human=either&is_valid=true&order_by=-day_obs&offset=0&limit=2500&min_day_obs=20241105&max_day_obs=20241106\" target=\"_blank\">https://usdf-rsp-dev.slac.stanford.edu/exposurelog/messages?is_human=either&is_valid=true&order_by=-day_obs&offset=0&limit=2500&min_day_obs=20241105&max_day_obs=20241106</a></td>\n",
       "    </tr>\n",
       "    <tr>\n",
       "      <td>narrativelog/messages</td>\n",
       "      <td>0</td>\n",
       "      <td><a href=\"https://usdf-rsp-dev.slac.stanford.edu/narrativelog/messages?is_human=either&is_valid=true&order_by=-date_added&offset=0&limit=1000&min_date_added=2024-11-05T00%3A00%3A00&max_date_added=2024-11-06T00%3A00%3A00\" target=\"_blank\">https://usdf-rsp-dev.slac.stanford.edu/narrativelog/messages?is_human=either&is_valid=true&order_by=-date_added&offset=0&limit=1000&min_date_added=2024-11-05T00%3A00%3A00&max_date_added=2024-11-06T00%3A00%3A00</a></td>\n",
       "    </tr>\n",
       "    <tr>\n",
       "      <td>efd/targets</td>\n",
       "      <td>0</td>\n",
       "      <td>NA</td>\n",
       "    </tr>\n",
       "  </tbody>\n",
       "</table>"
      ],
      "text/plain": [
       "<IPython.core.display.HTML object>"
      ]
     },
     "metadata": {},
     "output_type": "display_data"
    }
   ],
   "source": [
    "df = pd.DataFrame(allsrc.get_data_status())\n",
    "table = df.to_html(\n",
    "    index=False, \n",
    "    render_links=True,\n",
    "    escape=False)\n",
    "display(HTML(table))"
   ]
  },
  {
   "cell_type": "markdown",
   "id": "37",
   "metadata": {},
   "source": [
    "## This report uses the following data sources\n",
    "- NightReport\n",
    "- Exposurelog\n",
    "- Narrativelog\n",
    "- EFD\n",
    "- ConsDB\n",
    "- (DDV)\n",
    "- (Almanac from Astroplan)"
   ]
  },
  {
   "cell_type": "markdown",
   "id": "38",
   "metadata": {},
   "source": [
    "## DDV "
   ]
  },
  {
   "cell_type": "code",
   "execution_count": 18,
   "id": "39",
   "metadata": {
    "jupyter": {
     "source_hidden": true
    }
   },
   "outputs": [
    {
     "data": {
      "text/markdown": [
       "Access DDV part of RubinTV: https://usdf-rsp-dev.slac.stanford.edu/rubintv/ddv/index.html"
      ],
      "text/plain": [
       "<IPython.core.display.Markdown object>"
      ]
     },
     "metadata": {},
     "output_type": "display_data"
    }
   ],
   "source": [
    "DDV = (\n",
    "    f\"{server}/rubintv-dev/ddv/index.html\"\n",
    "    if \"summit\" in server\n",
    "    else f\"{server}/rubintv/ddv/index.html\"\n",
    ")\n",
    "md(f\"Access DDV part of RubinTV: {DDV}\")"
   ]
  },
  {
   "cell_type": "markdown",
   "id": "40",
   "metadata": {},
   "source": [
    "## Where was this run?\n",
    "\n",
    "The environments that have everything needed to run this page are:\n",
    "\n",
    "    https://summit-lsp.lsst.codes\n",
    "    https://usdf-rsp-dev.slac.stanford.edu\n",
    "\n",
    "However, Times Square does not run on the Summit. It does run on USDF-dev.\n"
   ]
  },
  {
   "cell_type": "markdown",
   "id": "41",
   "metadata": {},
   "source": [
    "## Section overviews moved here"
   ]
  },
  {
   "cell_type": "code",
   "execution_count": 19,
   "id": "42",
   "metadata": {
    "jupyter": {
     "source_hidden": true
    }
   },
   "outputs": [
    {
     "data": {
      "text/markdown": [
       "### Overview for Service: `nightreport` [0]"
      ],
      "text/plain": [
       "<IPython.core.display.Markdown object>"
      ]
     },
     "metadata": {},
     "output_type": "display_data"
    },
    {
     "name": "stdout",
     "output_type": "stream",
     "text": [
      "None\n"
     ]
    },
    {
     "data": {
      "text/markdown": [
       "- Endpoint: https://usdf-rsp-dev.slac.stanford.edu/nightreport/reports?is_human=either&is_valid=true&order_by=-day_obs&offset=0&limit=100&min_day_obs=20241105&max_day_obs=20241106"
      ],
      "text/plain": [
       "<IPython.core.display.Markdown object>"
      ]
     },
     "metadata": {},
     "output_type": "display_data"
    },
    {
     "name": "stdout",
     "output_type": "stream",
     "text": [
      "None\n",
      "- NightReportAdapter url='https://usdf-rsp-dev.slac.stanford.edu/nightreport/reports?is_human=either&is_valid=true&order_by=-day_obs&offset=0&limit=100&min_day_obs=20241105&max_day_obs=20241106' Exception=Expecting value: line 1 column 1 (char 0) \n"
     ]
    },
    {
     "data": {
      "text/markdown": [
       "### Overview for Service: `exposurelog` [0]"
      ],
      "text/plain": [
       "<IPython.core.display.Markdown object>"
      ]
     },
     "metadata": {},
     "output_type": "display_data"
    },
    {
     "name": "stdout",
     "output_type": "stream",
     "text": [
      "None\n"
     ]
    },
    {
     "data": {
      "text/markdown": [
       "- Endpoint: https://usdf-rsp-dev.slac.stanford.edu/exposurelog/messages?is_human=either&is_valid=true&order_by=-day_obs&offset=0&limit=2500&min_day_obs=20241105&max_day_obs=20241106"
      ],
      "text/plain": [
       "<IPython.core.display.Markdown object>"
      ]
     },
     "metadata": {},
     "output_type": "display_data"
    },
    {
     "name": "stdout",
     "output_type": "stream",
     "text": [
      "None\n",
      "- Expecting value: line 1 column 1 (char 0) \n"
     ]
    },
    {
     "data": {
      "text/markdown": [
       "### Overview for Service: `narrativelog` [0]"
      ],
      "text/plain": [
       "<IPython.core.display.Markdown object>"
      ]
     },
     "metadata": {},
     "output_type": "display_data"
    },
    {
     "name": "stdout",
     "output_type": "stream",
     "text": [
      "None\n"
     ]
    },
    {
     "data": {
      "text/markdown": [
       "- Endpoint: https://usdf-rsp-dev.slac.stanford.edu/narrativelog/messages?is_human=either&is_valid=true&order_by=-date_added&offset=0&limit=1000&min_date_added=2024-11-05T00%3A00%3A00&max_date_added=2024-11-06T00%3A00%3A00"
      ],
      "text/plain": [
       "<IPython.core.display.Markdown object>"
      ]
     },
     "metadata": {},
     "output_type": "display_data"
    },
    {
     "name": "stdout",
     "output_type": "stream",
     "text": [
      "None\n",
      "- Expecting value: line 1 column 1 (char 0) \n"
     ]
    }
   ],
   "source": [
    "# Night Report Overview\n",
    "allrep.nig_rep.overview()\n",
    "# Exposure Report Overview\n",
    "allrep.exp_rep.overview()\n",
    "# Narrative Report Overview\n",
    "allrep.nar_rep.overview()"
   ]
  },
  {
   "cell_type": "code",
   "execution_count": 20,
   "id": "43",
   "metadata": {
    "jupyter": {
     "source_hidden": true
    }
   },
   "outputs": [],
   "source": [
    "# Conditionally display our current ability to connect to all needed endpoints.\n",
    "if False and not os.environ.get(\"EXTERNAL_INSTANCE_URL\"):\n",
    "    md(\"## Dashboard\")\n",
    "    md(\"(This is not done when running under Times Square.)\")\n",
    "    %run ./dashboard.ipynb"
   ]
  },
  {
   "cell_type": "markdown",
   "id": "09cba642-73db-4c3c-94f6-11aa311a3985",
   "metadata": {},
   "source": [
    "### According to Storybaord, this section should be removed ...\n",
    "... and replaced with a simple table tally of Good, Questionable, and  Junk exposures per instrument.\n",
    "| Symbol | Meaning |\n",
    "|:---|:---|\n",
    "| <font style=\"background-color:green; color:white; font-size:20px\">&nbsp;G&nbsp;</font>| Good |\n",
    "| <font style=\"background-color:yellow; color:black; font-size:20px\">&nbsp;?&nbsp;</font> | Questionable |\n",
    "| <font style=\"background-color:red; color:black; font-size:20px\">&nbsp;R&nbsp;</font> | Junk |\n"
   ]
  },
  {
   "cell_type": "code",
   "execution_count": 21,
   "id": "24",
   "metadata": {
    "jupyter": {
     "source_hidden": true
    }
   },
   "outputs": [],
   "source": [
    "# Time Log\n",
    "allrep.exp_rep.time_log_as_markdown()"
   ]
  },
  {
   "cell_type": "markdown",
   "id": "44",
   "metadata": {},
   "source": [
    "## Finale"
   ]
  },
  {
   "cell_type": "code",
   "execution_count": 22,
   "id": "45",
   "metadata": {
    "jupyter": {
     "source_hidden": true
    }
   },
   "outputs": [
    {
     "name": "stdout",
     "output_type": "stream",
     "text": [
      "Finished 2024-11-06 17:46:14.349808\n"
     ]
    }
   ],
   "source": [
    "print(f\"Finished {str(dt.datetime.now())}\")"
   ]
  }
 ],
 "metadata": {
  "kernelspec": {
   "display_name": "Python 3 (ipykernel)",
   "language": "python",
   "name": "python3"
  },
  "language_info": {
   "codemirror_mode": {
    "name": "ipython",
    "version": 3
   },
   "file_extension": ".py",
   "mimetype": "text/x-python",
   "name": "python",
   "nbconvert_exporter": "python",
   "pygments_lexer": "ipython3",
   "version": "3.11.9"
  }
 },
 "nbformat": 4,
 "nbformat_minor": 5
}
