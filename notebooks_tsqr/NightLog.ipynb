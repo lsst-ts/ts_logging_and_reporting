{
 "cells": [
  {
   "cell_type": "markdown",
   "id": "0",
   "metadata": {},
   "source": [
    "# About this Page\n",
    "See the slack **#ts-logging** channel for discussion about this page.  There you can report problems, questions, and requests for changes.  *What are we missing?*\n",
    "\n",
    "## What is new in this app?(newest change at top of list)\n",
    "- Do not show Time Loss info unless it is greater than zero\n",
    "- Do not show software or hardware components (they are rarely used anyhow)\n",
    "- <font style=\"background-color:#ffff99\">Embedded comments and questions to reader (Yellow background)</font>\n",
    "- This page tries to work around existing problems with APIs used for source data. (There is a ticket to fix the APIs)\n",
    "- <font style=\"background-color:red; color:#90EE90\">Errors from APIs are displayed in this page (Red background).</font>\n"
   ]
  },
  {
   "cell_type": "code",
   "execution_count": 1,
   "id": "1",
   "metadata": {},
   "outputs": [],
   "source": [
    "# Parameters.\n",
    "# Times Square replaces this cell with the user's parameters.\n",
    "# So, don't put anything else here!\n",
    "\n",
    "# day_obs values: TODAY, YESTERDAY, YYYY-MM-DD\n",
    "# Report on observing nights that start upto but not included this day.\n",
    "#!day_obs = '2024-09-25' # Value to use for local testing (Summit)\n",
    "day_obs = \"TODAY\"  # TODO Change to 'YESTERDAY' and 'TODAY' to test with default before push\n",
    "\n",
    "# Total number of days of data to display (ending on day_obs)\n",
    "number_of_days = \"1\"  # TODO Change to '1' to test with default before push\n",
    "\n",
    "verbose = \"false\"  # TODO change to false before push, else true"
   ]
  },
  {
   "cell_type": "code",
   "execution_count": 2,
   "id": "2",
   "metadata": {},
   "outputs": [],
   "source": [
    "# IMPORT everything\n",
    "import datetime as dt\n",
    "import os\n",
    "from collections import defaultdict\n",
    "from pprint import pformat, pp\n",
    "from urllib.parse import urlencode, urlparse\n",
    "import pandas as pd\n",
    "from IPython.display import HTML\n",
    "\n",
    "# When running under Times Square, install pkg from github.\n",
    "# Otherwise use what is installed locally (intended to be dev editiable pkg)\n",
    "if os.environ.get(\"EXTERNAL_INSTANCE_URL\"):\n",
    "    dev_msg = (\n",
    "        'Installing \"lsst.ts.logging_and_reporting\" from github using \"prototype\" branch. \\n'\n",
    "        'TODO: Make the need for this go away by getting Logging_and_Reporting installed in RSP.'\n",
    "    )\n",
    "    !pip install --upgrade git+https://github.com/lsst-ts/ts_logging_and_reporting.git@prototype > /dev/null 2>&1\n",
    "else:\n",
    "    dev_msg = 'Imported lsst.ts.logging_and_reporting from local packages.'\n",
    "from lsst.ts.logging_and_reporting.all_sources import AllSources\n",
    "from lsst.ts.logging_and_reporting.all_reports import AllReports\n",
    "import lsst.ts.logging_and_reporting.utils as ut\n",
    "from lsst.ts.logging_and_reporting.reports import md, mdlist, mdpathlink\n",
    "from lsst.ts.logging_and_reporting.reports import html_draft, html_beta"
   ]
  },
  {
   "cell_type": "code",
   "execution_count": 3,
   "id": "4",
   "metadata": {},
   "outputs": [],
   "source": [
    "# Set default env to \"usdf\" and try before PUSH to repo.\n",
    "# The default provided here is for local testing. Under Times Square it is ignored.\n",
    "server = os.environ.get(\n",
    "    \"EXTERNAL_INSTANCE_URL\", \n",
    "    ut.Server.usdf) # TODO try with \"usdf\" before push (also \"summit\")"
   ]
  },
  {
   "cell_type": "code",
   "execution_count": 4,
   "id": "5d3008ec-1400-48e5-a35c-539869ff3ecf",
   "metadata": {},
   "outputs": [
    {
     "name": "stdout",
     "output_type": "stream",
     "text": [
      "{'day_obs': 'TODAY', 'number_of_days': 1, 'verbose': False} \n"
     ]
    }
   ],
   "source": [
    "# Validate parameters, return usable ones\n",
    "usable, error = ut.fallback_parameters(day_obs, number_of_days, verbose)\n",
    "if error:\n",
    "    print(error)\n",
    "print(usable, error)\n",
    "\n",
    "date = ut.get_datetime_from_dayobs_str(usable['day_obs'])\n",
    "# date:  is EXCLUSIVE (upto, but not including)\n",
    "days = usable['number_of_days']\n",
    "verbose = usable['verbose']\n",
    "\n",
    "# Thus: [min_day_obs,max_day_obs)\n",
    "# Format: string, YYYY-MM-DD\n",
    "min_date = date - dt.timedelta(days=days - 1)\n",
    "max_date = date + dt.timedelta(days=1)\n",
    "min_day_obs = min_date.strftime(\"%Y-%m-%d\")  # Inclusive\n",
    "max_day_obs = max_date.strftime(\"%Y-%m-%d\")  # prep for Exclusive"
   ]
  },
  {
   "cell_type": "code",
   "execution_count": 5,
   "id": "5",
   "metadata": {
    "scrolled": true
   },
   "outputs": [],
   "source": [
    "# Read records from (almost) all sources\n",
    "timer = ut.Timer()\n",
    "allsrc = AllSources(\n",
    "    server_url=server,\n",
    "    min_dayobs=min_day_obs,\n",
    "    max_dayobs=max_day_obs,\n",
    "    verbose=verbose,                \n",
    "    limit=5000,\n",
    "    exclude_instruments = []      # TODO change to empty list before push\n",
    ")\n",
    "allrep = AllReports(allsrc=allsrc)"
   ]
  },
  {
   "cell_type": "markdown",
   "id": "a0d44b83-527e-41b2-8d05-6f6207ceba30",
   "metadata": {},
   "source": [
    "----------"
   ]
  },
  {
   "cell_type": "code",
   "execution_count": 6,
   "id": "e5c48075-7a8b-40a3-84dc-9b7408654e83",
   "metadata": {},
   "outputs": [
    {
     "data": {
      "text/markdown": [
       "# Showing data for 2024-11-21 to 2024-11-22 for LSSTComCamSim, LATISS, LSSTComCam, LSSTCam"
      ],
      "text/plain": [
       "<IPython.core.display.Markdown object>"
      ]
     },
     "metadata": {},
     "output_type": "display_data"
    },
    {
     "data": {
      "text/markdown": [
       "Most recently run on: **2024-11-21 23:57:27**"
      ],
      "text/plain": [
       "<IPython.core.display.Markdown object>"
      ]
     },
     "metadata": {},
     "output_type": "display_data"
    }
   ],
   "source": [
    "instrum_str = \", \".join(list(allsrc.exp_src.instruments.keys()))\n",
    "md(f\"# Showing data for {min_date.date()} to {max_date.date()} for {instrum_str}\")\n",
    "md(f\"Most recently run on: **{dt.datetime.now().replace(microsecond=0).isoformat(sep=' ')}**\")"
   ]
  },
  {
   "cell_type": "markdown",
   "id": "8",
   "metadata": {},
   "source": [
    "# Table of Contents\n",
    "* [Night Report](#Night-Report-BETA)\n",
    "    - AuxTel\n",
    "    - Simonyi\n",
    "* [Almanac](#Almanac-BETA)\n",
    "* [Summary plots of whole night](#Summary-plots-of-whole-night-DRAFT)\n",
    "* [Time Accounting](#Time-Accounting-DRAFT)\n",
    "* [Jira Tickets](#Jira-Tickets-BETA)\n",
    "    - AuxTel\n",
    "    - Simonyi\n",
    "* [BLOCKS Observed](#BLOCKS-Observed-DRAFT)\n",
    "    - AuxTel\n",
    "    - Simonyi\n",
    "* [Data Log](#Data-Log-BETA)\n",
    "* [Narrative Log](#Narrative-Log-BETA)\n",
    "* [Developer Only Section](#Developer-Only-Section-REMOVE)"
   ]
  },
  {
   "cell_type": "markdown",
   "id": "86ff253e-f575-4b9b-96f9-698d3faf9494",
   "metadata": {},
   "source": [
    "## Night Report <font style=\"background-color:green; color:white; font-size:20px\">BETA</font> \n",
    "<font style=\"background-color:#ffff99\">Possible Changes</font>\n",
    "\n",
    "- Word wrap instead of chopping words at end of line?\n",
    "- (Add summary from AI)"
   ]
  },
  {
   "cell_type": "code",
   "execution_count": 7,
   "id": "10",
   "metadata": {},
   "outputs": [
    {
     "data": {
      "text/markdown": [
       "### Telescope: Simonyi"
      ],
      "text/plain": [
       "<IPython.core.display.Markdown object>"
      ]
     },
     "metadata": {},
     "output_type": "display_data"
    },
    {
     "data": {
      "text/markdown": [
       "```\n",
       "====M1M3 work log==\n",
       "Bump test done around 16:48pm CLT/19:48pm UTC, 104, 227, 409 was failed initially. However, 104 and 227 passed after the second attempt while FA449 is failed with 2nd attempt. Petr mentioned that 409 is marginal but still fine. \n",
       "\n",
       "=== Daytime work log===\n",
       "We started warmup hexapod around 14pmCLT/17pm UTC, however we had an issue with warmup hexapod scripts. Hexapods moved without issues with EUI and run_command.py. Around 14:43pm CL/17:43pm UTC, we had an issue with GIS, so M1M3, Hexapods in fault (OBS-701). It was cleared then we closed the mirror cover for dome handover. Dome handover was completed without any issue at 15:29 pm UTC/18:29 pm UTC. We found that the even after moving hexapod with run_command.py inPosition for both hexapods seem not working. This can be a blocker for night operations, we pinged people in charge. 17:30pm/20:30 pm, Te-wei roll-backed the fix happened earlier today (see deatils in OBS-702). Then warming-up hexapods worked well without an issue. At 17:53pm CLT/20:53pm CLT we turned on LaserTracker to check it worked mostly fine except one MTPtg fault while tracking. Comcam checkout, Simonyi on Sky checkout (BLOCK-T245), and M2 and Camera alignment (BLOCK-T88) are all done. 20:28 pm CLT/23:23 pm UTC, we had an issue with GIS heartbeat flicker and almost all system were fault due to hard stop engaged (OBS-701). \n",
       "\n",
       "\n",
       "\n",
       "We started the TMA checkout around 19:15pm and all passed except that a known issue with turning on the elevation. \n",
       "\n",
       "Also Chris S. and Paulo L. joined tonight's operation and thanks for supports from Tiago R, Te-wei T, and others.\n",
       "```"
      ],
      "text/plain": [
       "<IPython.core.display.Markdown object>"
      ]
     },
     "metadata": {},
     "output_type": "display_data"
    },
    {
     "data": {
      "text/markdown": [
       "Telescope Status: "
      ],
      "text/plain": [
       "<IPython.core.display.Markdown object>"
      ]
     },
     "metadata": {},
     "output_type": "display_data"
    },
    {
     "data": {
      "text/markdown": [
       "*Authors: Kevin Fanning, Yijung Kang, Karla Pena, Paulina Venegas, Bryce Kalmbach, Andrew Connolly, Parker Fagrelius, Bruno Quint, Keith Bechtol*"
      ],
      "text/plain": [
       "<IPython.core.display.Markdown object>"
      ]
     },
     "metadata": {},
     "output_type": "display_data"
    }
   ],
   "source": [
    "# Night Report\n",
    "# Display time log\n",
    "allrep.nig_rep.time_log_as_markdown()"
   ]
  },
  {
   "cell_type": "markdown",
   "id": "51fad717-7160-4da9-bdeb-696c92f33c19",
   "metadata": {},
   "source": [
    "## Almanac <font style=\"background-color:green; color:white; font-size:20px\">BETA</font> \n",
    "<font style=\"background-color:#ffff99\">\n",
    "Add column for Chile timezone?\n",
    "</font>"
   ]
  },
  {
   "cell_type": "code",
   "execution_count": 8,
   "id": "12",
   "metadata": {},
   "outputs": [
    {
     "data": {
      "text/markdown": [
       "**Almanac for the observing night starting 2024-11-21**"
      ],
      "text/plain": [
       "<IPython.core.display.Markdown object>"
      ]
     },
     "metadata": {},
     "output_type": "display_data"
    },
    {
     "data": {
      "text/html": [
       "<style type=\"text/css\">\n",
       "</style>\n",
       "<table id=\"T_35e34\">\n",
       "  <thead>\n",
       "  </thead>\n",
       "  <tbody>\n",
       "    <tr>\n",
       "      <th id=\"T_35e34_level0_row0\" class=\"row_heading level0 row0\" >Sun Set</th>\n",
       "      <td id=\"T_35e34_row0_col0\" class=\"data row0 col0\" >2024-11-21 23:18:34</td>\n",
       "      <td id=\"T_35e34_row0_col1\" class=\"data row0 col1\" ></td>\n",
       "    </tr>\n",
       "    <tr>\n",
       "      <th id=\"T_35e34_level0_row1\" class=\"row_heading level0 row1\" >Evening Civil Twilight</th>\n",
       "      <td id=\"T_35e34_row1_col0\" class=\"data row1 col0\" >2024-11-21 23:49:23</td>\n",
       "      <td id=\"T_35e34_row1_col1\" class=\"data row1 col1\" >(-6 degrees)</td>\n",
       "    </tr>\n",
       "    <tr>\n",
       "      <th id=\"T_35e34_level0_row2\" class=\"row_heading level0 row2\" >Evening Nautical Twilight</th>\n",
       "      <td id=\"T_35e34_row2_col0\" class=\"data row2 col0\" >2024-11-22 00:21:27</td>\n",
       "      <td id=\"T_35e34_row2_col1\" class=\"data row2 col1\" >(-12 degrees)</td>\n",
       "    </tr>\n",
       "    <tr>\n",
       "      <th id=\"T_35e34_level0_row3\" class=\"row_heading level0 row3\" >Evening Astronomical Twilight</th>\n",
       "      <td id=\"T_35e34_row3_col0\" class=\"data row3 col0\" >2024-11-22 00:55:19</td>\n",
       "      <td id=\"T_35e34_row3_col1\" class=\"data row3 col1\" >(-18 degrees)</td>\n",
       "    </tr>\n",
       "    <tr>\n",
       "      <th id=\"T_35e34_level0_row4\" class=\"row_heading level0 row4\" >Solar Midnight</th>\n",
       "      <td id=\"T_35e34_row4_col0\" class=\"data row4 col0\" >2024-11-22 04:29:01</td>\n",
       "      <td id=\"T_35e34_row4_col1\" class=\"data row4 col1\" ></td>\n",
       "    </tr>\n",
       "    <tr>\n",
       "      <th id=\"T_35e34_level0_row5\" class=\"row_heading level0 row5\" >Moon Rise</th>\n",
       "      <td id=\"T_35e34_row5_col0\" class=\"data row5 col0\" >2024-11-22 05:01:56</td>\n",
       "      <td id=\"T_35e34_row5_col1\" class=\"data row5 col1\" ></td>\n",
       "    </tr>\n",
       "    <tr>\n",
       "      <th id=\"T_35e34_level0_row6\" class=\"row_heading level0 row6\" >Morning Astronomical Twilight</th>\n",
       "      <td id=\"T_35e34_row6_col0\" class=\"data row6 col0\" >2024-11-22 08:02:43</td>\n",
       "      <td id=\"T_35e34_row6_col1\" class=\"data row6 col1\" >(-18 degrees)</td>\n",
       "    </tr>\n",
       "    <tr>\n",
       "      <th id=\"T_35e34_level0_row7\" class=\"row_heading level0 row7\" >Morning Nautical Twilight</th>\n",
       "      <td id=\"T_35e34_row7_col0\" class=\"data row7 col0\" >2024-11-22 08:36:35</td>\n",
       "      <td id=\"T_35e34_row7_col1\" class=\"data row7 col1\" >(-12 degrees)</td>\n",
       "    </tr>\n",
       "    <tr>\n",
       "      <th id=\"T_35e34_level0_row8\" class=\"row_heading level0 row8\" >Morning Civil Twilight</th>\n",
       "      <td id=\"T_35e34_row8_col0\" class=\"data row8 col0\" >2024-11-22 09:08:39</td>\n",
       "      <td id=\"T_35e34_row8_col1\" class=\"data row8 col1\" >(-6 degrees)</td>\n",
       "    </tr>\n",
       "    <tr>\n",
       "      <th id=\"T_35e34_level0_row9\" class=\"row_heading level0 row9\" >Sun Rise</th>\n",
       "      <td id=\"T_35e34_row9_col0\" class=\"data row9 col0\" >2024-11-22 09:39:28</td>\n",
       "      <td id=\"T_35e34_row9_col1\" class=\"data row9 col1\" ></td>\n",
       "    </tr>\n",
       "    <tr>\n",
       "      <th id=\"T_35e34_level0_row10\" class=\"row_heading level0 row10\" >Moon Set</th>\n",
       "      <td id=\"T_35e34_row10_col0\" class=\"data row10 col0\" >2024-11-22 15:51:00</td>\n",
       "      <td id=\"T_35e34_row10_col1\" class=\"data row10 col1\" ></td>\n",
       "    </tr>\n",
       "    <tr>\n",
       "      <th id=\"T_35e34_level0_row11\" class=\"row_heading level0 row11\" >Moon Illumination</th>\n",
       "      <td id=\"T_35e34_row11_col0\" class=\"data row11 col0\" >59%</td>\n",
       "      <td id=\"T_35e34_row11_col1\" class=\"data row11 col1\" >(% illuminated)</td>\n",
       "    </tr>\n",
       "    <tr>\n",
       "      <th id=\"T_35e34_level0_row12\" class=\"row_heading level0 row12\" ></th>\n",
       "      <td id=\"T_35e34_row12_col0\" class=\"data row12 col0\" >UTC</td>\n",
       "      <td id=\"T_35e34_row12_col1\" class=\"data row12 col1\" ></td>\n",
       "    </tr>\n",
       "  </tbody>\n",
       "</table>\n"
      ],
      "text/plain": [
       "<pandas.io.formats.style.Styler at 0x7fea9031f950>"
      ]
     },
     "metadata": {},
     "output_type": "display_data"
    }
   ],
   "source": [
    "# Display various almanac values (for moon, sun)\n",
    "#!rep.AlmanacReport().day_obs_report(min_day_obs)\n",
    "allrep.alm_rep.day_obs_report()"
   ]
  },
  {
   "cell_type": "markdown",
   "id": "13",
   "metadata": {},
   "source": [
    "## Summary plots of whole night <font style=\"background-color:yellow; color:black; font-size:20px\">DRAFT</font>"
   ]
  },
  {
   "cell_type": "markdown",
   "id": "14",
   "metadata": {},
   "source": [
    "(content not yet defined in storyboard)\n",
    "\n",
    "<font style=\"background-color:#ffff99\">Possible features</font>\n",
    "\n",
    "- plot_observation_gap_detail"
   ]
  },
  {
   "cell_type": "code",
   "execution_count": 9,
   "id": "15",
   "metadata": {},
   "outputs": [],
   "source": [
    "# Plot Observation (Exposure) gaps\n",
    "# rollup,detail = allsrc.get_observation_gaps()\n",
    "# allrep.plot_observation_gap_detail(detail)"
   ]
  },
  {
   "cell_type": "markdown",
   "id": "38",
   "metadata": {},
   "source": [
    "## DDV <font style=\"background-color:green; color:white; font-size:20px\">BETA</font>"
   ]
  },
  {
   "cell_type": "code",
   "execution_count": 10,
   "id": "39",
   "metadata": {},
   "outputs": [
    {
     "data": {
      "text/markdown": [
       "Access DDV part of RubinTV: https://usdf-rsp-dev.slac.stanford.edu/rubintv/ddv/index.html"
      ],
      "text/plain": [
       "<IPython.core.display.Markdown object>"
      ]
     },
     "metadata": {},
     "output_type": "display_data"
    }
   ],
   "source": [
    "DDV = (\n",
    "    f\"{server}/rubintv-dev/ddv/index.html\"\n",
    "    if \"summit\" in server\n",
    "    else f\"{server}/rubintv/ddv/index.html\"\n",
    ")\n",
    "md(f\"Access DDV part of RubinTV: {DDV}\")"
   ]
  },
  {
   "cell_type": "markdown",
   "id": "9d51f937-37e7-45da-87cb-2319fd76a1cc",
   "metadata": {},
   "source": [
    "## Time Accounting <font style=\"background-color:green; color:white; font-size:20px\">BETA</font>\n",
    "TODO:\n",
    "- Time-loss for Fault and Weather  (very rarely in narrativelog/messages)\n",
    "- SlewTime from TMAEvent (or similar)\n",
    "\n",
    "SlewTime (and probably others) from EFD are only EXPECTED (topic=\"lsst.sal.Scheduler.logevent_target\"), not ACTUAL.\n",
    "To get ACTUAL time, we need to use something like \n",
    "[**TMAEvent**](https://github.com/lsst-sitcom/summit_utils/blob/f901ca4943c082500a1f357eb070a4971925c476/python/lsst/summit/utils/tmaUtils.py#L1195) \n",
    "to combine multiple real events into a synthetic event.  See DM-46102.\n"
   ]
  },
  {
   "cell_type": "code",
   "execution_count": 11,
   "id": "16",
   "metadata": {},
   "outputs": [
    {
     "data": {
      "text/html": [
       "<div>\n",
       "<style scoped>\n",
       "    .dataframe tbody tr th:only-of-type {\n",
       "        vertical-align: middle;\n",
       "    }\n",
       "\n",
       "    .dataframe tbody tr th {\n",
       "        vertical-align: top;\n",
       "    }\n",
       "\n",
       "    .dataframe thead th {\n",
       "        text-align: right;\n",
       "    }\n",
       "</style>\n",
       "<table border=\"1\" class=\"dataframe\">\n",
       "  <thead>\n",
       "    <tr style=\"text-align: right;\">\n",
       "      <th></th>\n",
       "      <th>LSSTComCam</th>\n",
       "    </tr>\n",
       "  </thead>\n",
       "  <tbody>\n",
       "    <tr>\n",
       "      <th>Total Night</th>\n",
       "      <td>7:07:23</td>\n",
       "    </tr>\n",
       "    <tr>\n",
       "      <th>Total Exposure</th>\n",
       "      <td>0:00:16</td>\n",
       "    </tr>\n",
       "    <tr>\n",
       "      <th>Slew time(1)</th>\n",
       "      <td>0:00:00</td>\n",
       "    </tr>\n",
       "    <tr>\n",
       "      <th>Readout time(2)</th>\n",
       "      <td>0:00:31</td>\n",
       "    </tr>\n",
       "    <tr>\n",
       "      <th>Time loss to fault</th>\n",
       "      <td>0</td>\n",
       "    </tr>\n",
       "    <tr>\n",
       "      <th>Time loss to weather</th>\n",
       "      <td>0</td>\n",
       "    </tr>\n",
       "    <tr>\n",
       "      <th>Idle time</th>\n",
       "      <td>7:06:36</td>\n",
       "    </tr>\n",
       "    <tr>\n",
       "      <th>Number of exposures</th>\n",
       "      <td>13</td>\n",
       "    </tr>\n",
       "    <tr>\n",
       "      <th>Mean readout time</th>\n",
       "      <td>0:00:02</td>\n",
       "    </tr>\n",
       "    <tr>\n",
       "      <th>Number of slews(1)</th>\n",
       "      <td>0</td>\n",
       "    </tr>\n",
       "    <tr>\n",
       "      <th>Mean Slew time(1)</th>\n",
       "      <td>0:00:00</td>\n",
       "    </tr>\n",
       "  </tbody>\n",
       "</table>\n",
       "</div>"
      ],
      "text/plain": [
       "                     LSSTComCam\n",
       "Total Night             7:07:23\n",
       "Total Exposure          0:00:16\n",
       "Slew time(1)            0:00:00\n",
       "Readout time(2)         0:00:31\n",
       "Time loss to fault            0\n",
       "Time loss to weather          0\n",
       "Idle time               7:06:36\n",
       "Number of exposures          13\n",
       "Mean readout time       0:00:02\n",
       "Number of slews(1)            0\n",
       "Mean Slew time(1)       0:00:00"
      ]
     },
     "metadata": {},
     "output_type": "display_data"
    }
   ],
   "source": [
    "# Exposure Tally\n",
    "tally = await allsrc.night_tally_observation_gaps()\n",
    "if tally:\n",
    "    display(pd.DataFrame(tally))"
   ]
  },
  {
   "cell_type": "markdown",
   "id": "ad5a2e6c-ca0d-4978-bac9-25c83f90d090",
   "metadata": {},
   "source": [
    "- (1) *Expected* slew time as per Schedular\n",
    "- (2) There is no practical way to get detector read-out time.  A value of 2.3 seconds was inferred from experiments."
   ]
  },
  {
   "cell_type": "markdown",
   "id": "17",
   "metadata": {},
   "source": [
    "## Jira Tickets <font style=\"background-color:green; color:white; font-size:20px\">BETA</font> \n",
    "\n",
    "<font style=\"background-color:#ffff99\">Possible Changes</font>\n",
    "\n",
    "- Observing Operations - OBS\n",
    "- TODO: better tickets using Jira API to get selected fields (which) from tickets"
   ]
  },
  {
   "cell_type": "code",
   "execution_count": 12,
   "id": "18",
   "metadata": {},
   "outputs": [
    {
     "data": {
      "text/markdown": [
       "- [obs-662](https://rubinobs.atlassian.net/browse/obs-662)"
      ],
      "text/plain": [
       "<IPython.core.display.Markdown object>"
      ]
     },
     "metadata": {},
     "output_type": "display_data"
    },
    {
     "data": {
      "text/markdown": [
       "- [OBS-701](https://rubinobs.atlassian.net/browse/OBS-701)"
      ],
      "text/plain": [
       "<IPython.core.display.Markdown object>"
      ]
     },
     "metadata": {},
     "output_type": "display_data"
    },
    {
     "data": {
      "text/markdown": [
       "- [obs-653](https://rubinobs.atlassian.net/browse/obs-653)"
      ],
      "text/plain": [
       "<IPython.core.display.Markdown object>"
      ]
     },
     "metadata": {},
     "output_type": "display_data"
    },
    {
     "data": {
      "text/markdown": [
       "- [OBS-693](https://rubinobs.atlassian.net/browse/OBS-693)"
      ],
      "text/plain": [
       "<IPython.core.display.Markdown object>"
      ]
     },
     "metadata": {},
     "output_type": "display_data"
    },
    {
     "data": {
      "text/markdown": [
       "- [OBS-699](https://rubinobs.atlassian.net/browse/OBS-699)"
      ],
      "text/plain": [
       "<IPython.core.display.Markdown object>"
      ]
     },
     "metadata": {},
     "output_type": "display_data"
    },
    {
     "data": {
      "text/markdown": [
       "- [obs-701](https://rubinobs.atlassian.net/browse/obs-701)"
      ],
      "text/plain": [
       "<IPython.core.display.Markdown object>"
      ]
     },
     "metadata": {},
     "output_type": "display_data"
    },
    {
     "data": {
      "text/markdown": [
       "- [OBS-698](https://rubinobs.atlassian.net/browse/OBS-698)"
      ],
      "text/plain": [
       "<IPython.core.display.Markdown object>"
      ]
     },
     "metadata": {},
     "output_type": "display_data"
    },
    {
     "data": {
      "text/markdown": [
       "- [OBS-700](https://rubinobs.atlassian.net/browse/OBS-700)"
      ],
      "text/plain": [
       "<IPython.core.display.Markdown object>"
      ]
     },
     "metadata": {},
     "output_type": "display_data"
    }
   ],
   "source": [
    "if allsrc.urls:\n",
    "    for url in allsrc.urls:\n",
    "        md(f\"- {mdpathlink(url)}\")"
   ]
  },
  {
   "cell_type": "code",
   "execution_count": 13,
   "id": "19",
   "metadata": {},
   "outputs": [
    {
     "data": {
      "text/markdown": [
       "No tickets found using: [API Data](https://usdf-rsp-dev.slac.stanford.edu/nightreport/reports?is_human=either&is_valid=true&order_by=-day_obs&offset=0&limit=100&min_day_obs=20241121&max_day_obs=20241122) in `confluence_url`."
      ],
      "text/plain": [
       "<IPython.core.display.Markdown object>"
      ]
     },
     "metadata": {},
     "output_type": "display_data"
    }
   ],
   "source": [
    "# Display Jira BLOCKS\n",
    "front = \"https://rubinobs.atlassian.net/projects/BLOCK?selectedItem=com.atlassian.plugins.atlassian-connect-plugin:com.kanoah.test-manager__main-project-page#!/\"\n",
    "tickets = allsrc.nig_src.nightly_tickets()\n",
    "if tickets:\n",
    "    mdstr = \"#### Nightly Jira BLOCKs\"\n",
    "    for day, url_list in tickets.items():\n",
    "        mdstr += f\"\\n- {day}\"\n",
    "        for ticket_url in url_list:\n",
    "            mdstr += f'\\n    - [{ticket_url.replace(front,\"\")}]({ticket_url})'\n",
    "    md(mdstr)\n",
    "else:\n",
    "    endpoint_url = allsrc.nig_src.status[\"reports\"][\"endpoint_url\"]\n",
    "    md(f\"No tickets found using: [API Data]({endpoint_url}) in `confluence_url`.\")"
   ]
  },
  {
   "cell_type": "markdown",
   "id": "20",
   "metadata": {},
   "source": [
    "## BLOCKS Observed <font style=\"background-color:yellow; color:black; font-size:20px\">DRAFT</font>\n",
    "- TODO: BLOCKS observed"
   ]
  },
  {
   "cell_type": "markdown",
   "id": "71772e8d-658d-497a-b391-5996066f401a",
   "metadata": {},
   "source": [
    "## Data Log <font style=\"background-color:green; color:white; font-size:20px\">BETA</font>"
   ]
  },
  {
   "cell_type": "code",
   "execution_count": 14,
   "id": "1b509665-d538-4bd9-a93c-22c3ec1ded12",
   "metadata": {},
   "outputs": [
    {
     "data": {
      "text/markdown": [
       "**LSSTComCamSim: 0 total exposures**"
      ],
      "text/plain": [
       "<IPython.core.display.Markdown object>"
      ]
     },
     "metadata": {},
     "output_type": "display_data"
    },
    {
     "data": {
      "text/markdown": [
       "**LATISS: 0 total exposures**"
      ],
      "text/plain": [
       "<IPython.core.display.Markdown object>"
      ]
     },
     "metadata": {},
     "output_type": "display_data"
    },
    {
     "data": {
      "text/markdown": [
       "**LSSTComCam: 13 total exposures**"
      ],
      "text/plain": [
       "<IPython.core.display.Markdown object>"
      ]
     },
     "metadata": {},
     "output_type": "display_data"
    },
    {
     "name": "stdout",
     "output_type": "stream",
     "text": [
      "Observation Type\n"
     ]
    },
    {
     "data": {
      "text/html": [
       "<style type=\"text/css\">\n",
       "</style>\n",
       "<table id=\"T_c181a\">\n",
       "  <thead>\n",
       "    <tr>\n",
       "      <th id=\"T_c181a_level0_col0\" class=\"col_heading level0 col0\" >Detail</th>\n",
       "      <th id=\"T_c181a_level0_col1\" class=\"col_heading level0 col1\" >good</th>\n",
       "      <th id=\"T_c181a_level0_col2\" class=\"col_heading level0 col2\" >questionable</th>\n",
       "      <th id=\"T_c181a_level0_col3\" class=\"col_heading level0 col3\" >junk</th>\n",
       "      <th id=\"T_c181a_level0_col4\" class=\"col_heading level0 col4\" >unknown</th>\n",
       "    </tr>\n",
       "  </thead>\n",
       "  <tbody>\n",
       "    <tr>\n",
       "      <td id=\"T_c181a_row0_col0\" class=\"data row0 col0\" ><a href=https://usdf-rsp-dev.slac.stanford.edu/times-square/github/lsst-ts/ts_logging_and_reporting/ExposureDetail?day_obs=2024-11-21&number_of_days=1&instrument=LSSTComCam&observation_type=acq>acq</a></td>\n",
       "      <td id=\"T_c181a_row0_col1\" class=\"data row0 col1\" >0</td>\n",
       "      <td id=\"T_c181a_row0_col2\" class=\"data row0 col2\" >0</td>\n",
       "      <td id=\"T_c181a_row0_col3\" class=\"data row0 col3\" >0</td>\n",
       "      <td id=\"T_c181a_row0_col4\" class=\"data row0 col4\" >3</td>\n",
       "    </tr>\n",
       "    <tr>\n",
       "      <td id=\"T_c181a_row1_col0\" class=\"data row1 col0\" ><a href=https://usdf-rsp-dev.slac.stanford.edu/times-square/github/lsst-ts/ts_logging_and_reporting/ExposureDetail?day_obs=2024-11-21&number_of_days=1&instrument=LSSTComCam&observation_type=bias>bias</a></td>\n",
       "      <td id=\"T_c181a_row1_col1\" class=\"data row1 col1\" >0</td>\n",
       "      <td id=\"T_c181a_row1_col2\" class=\"data row1 col2\" >0</td>\n",
       "      <td id=\"T_c181a_row1_col3\" class=\"data row1 col3\" >0</td>\n",
       "      <td id=\"T_c181a_row1_col4\" class=\"data row1 col4\" >10</td>\n",
       "    </tr>\n",
       "  </tbody>\n",
       "</table>\n"
      ],
      "text/plain": [
       "<IPython.core.display.HTML object>"
      ]
     },
     "metadata": {},
     "output_type": "display_data"
    },
    {
     "name": "stdout",
     "output_type": "stream",
     "text": [
      "Observation Reason\n"
     ]
    },
    {
     "data": {
      "text/html": [
       "<style type=\"text/css\">\n",
       "</style>\n",
       "<table id=\"T_9b391\">\n",
       "  <thead>\n",
       "    <tr>\n",
       "      <th id=\"T_9b391_level0_col0\" class=\"col_heading level0 col0\" >Detail</th>\n",
       "      <th id=\"T_9b391_level0_col1\" class=\"col_heading level0 col1\" >good</th>\n",
       "      <th id=\"T_9b391_level0_col2\" class=\"col_heading level0 col2\" >questionable</th>\n",
       "      <th id=\"T_9b391_level0_col3\" class=\"col_heading level0 col3\" >junk</th>\n",
       "      <th id=\"T_9b391_level0_col4\" class=\"col_heading level0 col4\" >unknown</th>\n",
       "    </tr>\n",
       "  </thead>\n",
       "  <tbody>\n",
       "    <tr>\n",
       "      <td id=\"T_9b391_row0_col0\" class=\"data row0 col0\" ><a href=https://usdf-rsp-dev.slac.stanford.edu/times-square/github/lsst-ts/ts_logging_and_reporting/ExposureDetail?day_obs=2024-11-21&number_of_days=1&instrument=LSSTComCam&observation_reason=comcam-usdf-checkout>comcam-usdf-checkout</a></td>\n",
       "      <td id=\"T_9b391_row0_col1\" class=\"data row0 col1\" >0</td>\n",
       "      <td id=\"T_9b391_row0_col2\" class=\"data row0 col2\" >0</td>\n",
       "      <td id=\"T_9b391_row0_col3\" class=\"data row0 col3\" >0</td>\n",
       "      <td id=\"T_9b391_row0_col4\" class=\"data row0 col4\" >10</td>\n",
       "    </tr>\n",
       "    <tr>\n",
       "      <td id=\"T_9b391_row1_col0\" class=\"data row1 col0\" ><a href=https://usdf-rsp-dev.slac.stanford.edu/times-square/github/lsst-ts/ts_logging_and_reporting/ExposureDetail?day_obs=2024-11-21&number_of_days=1&instrument=LSSTComCam&observation_reason=tmacheckout>tmacheckout</a></td>\n",
       "      <td id=\"T_9b391_row1_col1\" class=\"data row1 col1\" >0</td>\n",
       "      <td id=\"T_9b391_row1_col2\" class=\"data row1 col2\" >0</td>\n",
       "      <td id=\"T_9b391_row1_col3\" class=\"data row1 col3\" >0</td>\n",
       "      <td id=\"T_9b391_row1_col4\" class=\"data row1 col4\" >3</td>\n",
       "    </tr>\n",
       "  </tbody>\n",
       "</table>\n"
      ],
      "text/plain": [
       "<IPython.core.display.HTML object>"
      ]
     },
     "metadata": {},
     "output_type": "display_data"
    },
    {
     "name": "stdout",
     "output_type": "stream",
     "text": [
      "Science Program\n"
     ]
    },
    {
     "data": {
      "text/html": [
       "<style type=\"text/css\">\n",
       "</style>\n",
       "<table id=\"T_63ec3\">\n",
       "  <thead>\n",
       "    <tr>\n",
       "      <th id=\"T_63ec3_level0_col0\" class=\"col_heading level0 col0\" >Detail</th>\n",
       "      <th id=\"T_63ec3_level0_col1\" class=\"col_heading level0 col1\" >good</th>\n",
       "      <th id=\"T_63ec3_level0_col2\" class=\"col_heading level0 col2\" >questionable</th>\n",
       "      <th id=\"T_63ec3_level0_col3\" class=\"col_heading level0 col3\" >junk</th>\n",
       "      <th id=\"T_63ec3_level0_col4\" class=\"col_heading level0 col4\" >unknown</th>\n",
       "    </tr>\n",
       "  </thead>\n",
       "  <tbody>\n",
       "    <tr>\n",
       "      <td id=\"T_63ec3_row0_col0\" class=\"data row0 col0\" ><a href=https://usdf-rsp-dev.slac.stanford.edu/times-square/github/lsst-ts/ts_logging_and_reporting/ExposureDetail?day_obs=2024-11-21&number_of_days=1&instrument=LSSTComCam&science_program=BLOCK-T246>BLOCK-T246</a></td>\n",
       "      <td id=\"T_63ec3_row0_col1\" class=\"data row0 col1\" >0</td>\n",
       "      <td id=\"T_63ec3_row0_col2\" class=\"data row0 col2\" >0</td>\n",
       "      <td id=\"T_63ec3_row0_col3\" class=\"data row0 col3\" >0</td>\n",
       "      <td id=\"T_63ec3_row0_col4\" class=\"data row0 col4\" >10</td>\n",
       "    </tr>\n",
       "    <tr>\n",
       "      <td id=\"T_63ec3_row1_col0\" class=\"data row1 col0\" ><a href=https://usdf-rsp-dev.slac.stanford.edu/times-square/github/lsst-ts/ts_logging_and_reporting/ExposureDetail?day_obs=2024-11-21&number_of_days=1&instrument=LSSTComCam&science_program=BLOCK-T250>BLOCK-T250</a></td>\n",
       "      <td id=\"T_63ec3_row1_col1\" class=\"data row1 col1\" >0</td>\n",
       "      <td id=\"T_63ec3_row1_col2\" class=\"data row1 col2\" >0</td>\n",
       "      <td id=\"T_63ec3_row1_col3\" class=\"data row1 col3\" >0</td>\n",
       "      <td id=\"T_63ec3_row1_col4\" class=\"data row1 col4\" >3</td>\n",
       "    </tr>\n",
       "  </tbody>\n",
       "</table>\n"
      ],
      "text/plain": [
       "<IPython.core.display.HTML object>"
      ]
     },
     "metadata": {},
     "output_type": "display_data"
    },
    {
     "data": {
      "text/markdown": [
       "**LSSTCam: 0 total exposures**"
      ],
      "text/plain": [
       "<IPython.core.display.Markdown object>"
      ]
     },
     "metadata": {},
     "output_type": "display_data"
    }
   ],
   "source": [
    "# Exposure Report\n",
    "for instrum in allsrc.exp_src.exposures.keys():\n",
    "    md(f'**{instrum}: {len(allsrc.exp_src.exposures[instrum])} total exposures**')\n",
    "    df_dict = allsrc.fields_count_exposure(instrum)\n",
    "    for field_name,df in df_dict.items():\n",
    "        if df.empty:\n",
    "            continue\n",
    "        print(field_name.title().replace('_',' '))\n",
    "        display(HTML(df.style.hide().to_html(escape=False)))"
   ]
  },
  {
   "cell_type": "markdown",
   "id": "20820900-05ab-4ca5-8df5-9f725c0ee570",
   "metadata": {},
   "source": [
    "## Narrative Log <font style=\"background-color:green; color:white; font-size:20px\">BETA</font> \n",
    "\n",
    "<font style=\"background-color:#ffff99\">Possible changes</font>\n",
    "\n",
    "- Group messages by hour? Might be great when there many simple messages minutes apart. Less so when tracebacks are included.\n",
    "- Truncate text messages to N chars (ending with \"...\" as link if truncated, link goes to page with full message record including text and all attributes)\n",
    "- Detect some kinds of \"blocks\" and render in smaller text (+ other format changes)"
   ]
  },
  {
   "cell_type": "code",
   "execution_count": 15,
   "id": "26",
   "metadata": {
    "editable": true,
    "slideshow": {
     "slide_type": ""
    },
    "tags": []
   },
   "outputs": [
    {
     "data": {
      "text/markdown": [
       "\n",
       "\n",
       "h3. Error/Failure explanation:\r\n",
       "We had failures of the Camera cable wrap, axes timeouts, and frequent communications errors that impacted our control software. We lost over 2 hours of sky time struggling with these issues. \r\n",
       "h3. What were you doing when the failure occurred?:\r\n",
       "Tonight we had several more instances of control system crashes due to timeouts. In addition to these incidents, the CCW would not follow the rotator, stall out during short or tracking movements, and then trigger a fault in the rotator following. We also had several recurring axes timeouts that required us to attempt initializing our control software several times before we could move. \r\n",
       "h3. Detailed description of the steps followed that caused the error/failure:\r\n",
       "Here is a list of some timestamps that indicate the approximate times of communications failures. These demonstrate startTracking command timeouts, CCW timeouts, and axes timeouts. \r\n",
       "\r\n",
       "Example 1:\r\n",
       "2024/11/21 02:11:02 TAI\r\n",
       "\r\n",
       "Error MTMount replied error for startTracking command (1732828411) Error no:1 message:Failed: Command with id 447721 has timed \r\n",
       "\r\n",
       "Example 2: 04:32:41\r\n",
       "The cable cable wrap faulted the MTMount. The rotator was not commanded anywhere, but the CCW just decided to quit. \r\n",
       "\r\n",
       "Example 3:\r\n",
       "2024/11/21 11:02:09 TAI\r\n",
       "\r\n",
       "\r\n",
       "Command BothAxesResetAlarm(sequence_id=1036635, command_code=<CommandCode.BOTH_AXES_RESET_ALARM: 37>, source=<Source.CSC: 1>, timestamp=1732186929.5137012) failed, waiting 60s and retrying.\r\n",
       "\r\n",
       "<pre style='color: black; background-color: #FFDDDD; font-size: 0.875em; margin-left: 20px; '>Traceback (most recent call last):\r\n",
       "\r\n",
       "  File &quot;/opt/lsst/software/stack/miniconda/lib/python3.11/site-packages/lsst/ts/mtmount/mtmount_csc.py&quot;, line 886, in enable_devices\r\n",
       "\r\n",
       "    await self.send_command(command, do_lock=True, timeout=timeout)\r\n",
       "\r\n",
       "  File &quot;/opt/lsst/software/stack/miniconda/lib/python3.11/site-packages/lsst/ts/mtmount/mtmount_csc.py&quot;, line 1173, in send_command\r\n",
       "\r\n",
       "    return await self._basic_send_command(command=command, timeout=timeout)\r\n",
       "\r\n",
       "           ^^^^^^^^^^^^^^^^^^^^^^^^^^^^^^^^^^^^^^^^^^^^^^^^^^^^^^^^^^^^^^^^\r\n",
       "\r\n",
       "  File &quot;/opt/lsst/software/stack/miniconda/lib/python3.11/site-packages/lsst/ts/mtmount/mtmount_csc.py&quot;, line 1259, in _basic_send_command\r\n",
       "\r\n",
       "    await asyncio.wait_for(\r\n",
       "\r\n",
       "  File &quot;/opt/lsst/software/stack/miniconda/lib/python3.11/asyncio/tasks.py&quot;, line 489, in wait_for\r\n",
       "\r\n",
       "    return fut.result()\r\n",
       "\r\n",
       "           ^^^^^^^^^^^^\r\n",
       "\r\n",
       "lsst.ts.salobj.base.ExpectedError: Command with id 1036635 has timed out after not receiving finished</pre>\n"
      ],
      "text/plain": [
       "<IPython.core.display.Markdown object>"
      ]
     },
     "metadata": {},
     "output_type": "display_data"
    },
    {
     "data": {
      "text/markdown": [
       "- Link: [OBS-693](https://rubinobs.atlassian.net/browse/OBS-693)"
      ],
      "text/plain": [
       "<IPython.core.display.Markdown object>"
      ]
     },
     "metadata": {},
     "output_type": "display_data"
    },
    {
     "data": {
      "text/markdown": [
       "- **2024-11-21 11:30**   **MainTel** \n",
       "\n",
       "<pre style='color: black; background-color: white; font-size: 1em; margin-left: 0px; '>Moving to high elevation to open mirror covers as requested for the daytime. \r\n",
       "\r\n",
       "\r\n",
       "Lol. JK. We didn't do that, because it was likely an old request.</pre>\n"
      ],
      "text/plain": [
       "<IPython.core.display.Markdown object>"
      ]
     },
     "metadata": {},
     "output_type": "display_data"
    },
    {
     "data": {
      "text/markdown": [
       "- **2024-11-21 11:06**   **MainTel** \n",
       "\n",
       "<pre style='color: black; background-color: white; font-size: 1em; margin-left: 0px; '>Moving TMA in elevation.</pre>\n"
      ],
      "text/plain": [
       "<IPython.core.display.Markdown object>"
      ]
     },
     "metadata": {},
     "output_type": "display_data"
    },
    {
     "data": {
      "text/markdown": [
       "- **2024-11-21 11:05**   **MainTel** \n",
       "\n",
       "<pre style='color: black; background-color: white; font-size: 1em; margin-left: 0px; '>Recovered telescope to perform BLOCK-240.</pre>\n"
      ],
      "text/plain": [
       "<IPython.core.display.Markdown object>"
      ]
     },
     "metadata": {},
     "output_type": "display_data"
    },
    {
     "data": {
      "text/markdown": [
       "\n",
       "\n",
       "TMA timing our frequently while trying to ENABLE MTMount:\r\n",
       "2024/11/21 11:02:09 TAI\r\n",
       "\r\n",
       "\r\n",
       "Command BothAxesResetAlarm(sequence_id=1036635, command_code=&lt;CommandCode.BOTH_AXES_RESET_ALARM: 37&gt;, source=&lt;Source.CSC: 1&gt;, timestamp=1732186929.5137012) failed, waiting 60s and retrying.\r\n",
       "<pre style='color: black; background-color: #FFDDDD; font-size: 0.875em; margin-left: 20px; '>Traceback (most recent call last):\r\n",
       "  File &quot;/opt/lsst/software/stack/miniconda/lib/python3.11/site-packages/lsst/ts/mtmount/mtmount_csc.py&quot;, line 886, in enable_devices\r\n",
       "    await self.send_command(command, do_lock=True, timeout=timeout)\r\n",
       "  File &quot;/opt/lsst/software/stack/miniconda/lib/python3.11/site-packages/lsst/ts/mtmount/mtmount_csc.py&quot;, line 1173, in send_command\r\n",
       "    return await self._basic_send_command(command=command, timeout=timeout)\r\n",
       "           ^^^^^^^^^^^^^^^^^^^^^^^^^^^^^^^^^^^^^^^^^^^^^^^^^^^^^^^^^^^^^^^^\r\n",
       "  File &quot;/opt/lsst/software/stack/miniconda/lib/python3.11/site-packages/lsst/ts/mtmount/mtmount_csc.py&quot;, line 1259, in _basic_send_command\r\n",
       "    await asyncio.wait_for(\r\n",
       "  File &quot;/opt/lsst/software/stack/miniconda/lib/python3.11/asyncio/tasks.py&quot;, line 489, in wait_for\r\n",
       "    return fut.result()\r\n",
       "           ^^^^^^^^^^^^\r\n",
       "lsst.ts.salobj.base.ExpectedError: Command with id 1036635 has timed out after not receiving finished\r\n",
       "</pre>\n"
      ],
      "text/plain": [
       "<IPython.core.display.Markdown object>"
      ]
     },
     "metadata": {},
     "output_type": "display_data"
    },
    {
     "data": {
      "text/markdown": [
       "\n",
       "\n",
       "BLOCK-231 data was collected. Script salindex where GIS was triggered was 104862:\r\n",
       "\r\n",
       "\r\n",
       "2024/11/21 10:42:10 TAI\r\n",
       "\r\n",
       "\r\n",
       "Error in run\r\n",
       "<pre style='color: black; background-color: #FFDDDD; font-size: 0.875em; margin-left: 20px; '>Traceback (most recent call last):\r\n",
       "  File &quot;/net/obs-env/auto_base_packages/ts_observatory_control/python/lsst/ts/observatory/control/maintel/mtcs.py&quot;, line 2705, in m1m3_booster_valve\r\n",
       "    yield\r\n",
       "  File &quot;/net/obs-env/auto_base_packages/ts_observatory_control/python/lsst/ts/observatory/control/maintel/mtcs.py&quot;, line 2315, in move_p2p_azel\r\n",
       "    await self.process_as_completed(tasks)\r\n",
       "  File &quot;/net/obs-env/auto_base_packages/ts_observatory_control/python/lsst/ts/observatory/control/remote_group.py&quot;, line 1137, in process_as_completed\r\n",
       "    raise e\r\n",
       "  File &quot;/net/obs-env/auto_base_packages/ts_observatory_control/python/lsst/ts/observatory/control/remote_group.py&quot;, line 1134, in process_as_completed\r\n",
       "    ret_val = await res\r\n",
       "              ^^^^^^^^^\r\n",
       "  File &quot;/opt/lsst/software/stack/conda/envs/lsst-scipipe-9.0.0/lib/python3.11/asyncio/tasks.py&quot;, line 615, in _wait_for_one\r\n",
       "    return f.result()  # May raise f.exception().\r\n",
       "           ^^^^^^^^^^\r\n",
       "  File &quot;/net/obs-env/auto_base_packages/ts_observatory_control/python/lsst/ts/observatory/control/remote_group.py&quot;, line 510, in check_component_state\r\n",
       "    raise RuntimeError(\r\n",
       "RuntimeError: mtm1m3 state is &amp;lt;State.FAULT: 3&amp;gt;, expected &amp;lt;State.ENABLED: 2&amp;gt;\r\n",
       "\r\n",
       "\r\n",
       "During handling of the above exception, another exception occurred:\r\n",
       "\r\n",
       "\r\n",
       "Traceback (most recent call last):\r\n",
       "  File &quot;/opt/lsst/software/stack/conda/envs/lsst-scipipe-9.0.0/lib/python3.11/site-packages/lsst/ts/salobj/base_script.py&quot;, line 631, in do_run\r\n",
       "    await self._run_task\r\n",
       "  File &quot;/net/obs-env/auto_base_packages/ts_standardscripts/python/lsst/ts/standardscripts/base_block_script.py&quot;, line 302, in run\r\n",
       "    await self.run_block()\r\n",
       "  File &quot;/net/obs-env/auto_base_packages/ts_standardscripts/python/lsst/ts/standardscripts/maintel/move_p2p.py&quot;, line 182, in run_block\r\n",
       "    await self.mtcs.move_p2p_azel(\r\n",
       "  File &quot;/net/obs-env/auto_base_packages/ts_observatory_control/python/lsst/ts/observatory/control/maintel/mtcs.py&quot;, line 2301, in move_p2p_azel\r\n",
       "    async with self.m1m3_booster_valve():\r\n",
       "  File &quot;/opt/lsst/software/stack/conda/envs/lsst-scipipe-9.0.0/lib/python3.11/contextlib.py&quot;, line 231, in __aexit__\r\n",
       "    await self.gen.athrow(typ, value, traceback)\r\n",
       "  File &quot;/net/obs-env/auto_base_packages/ts_observatory_control/python/lsst/ts/observatory/control/maintel/mtcs.py&quot;, line 2708, in m1m3_booster_valve\r\n",
       "    await self.close_m1m3_booster_valve()\r\n",
       "  File &quot;/net/obs-env/auto_base_packages/ts_observatory_control/python/lsst/ts/observatory/control/maintel/mtcs.py&quot;, line 2616, in close_m1m3_booster_valve\r\n",
       "    await self._handle_m1m3_booster_valve(open=False)\r\n",
       "  File &quot;/net/obs-env/auto_base_packages/ts_observatory_control/python/lsst/ts/observatory/control/maintel/mtcs.py&quot;, line 2657, in _handle_m1m3_booster_valve\r\n",
       "    await cmd.set_start(timeout=self.fast_timeout)\r\n",
       "  File &quot;/opt/lsst/software/stack/conda/envs/lsst-scipipe-9.0.0/lib/python3.11/site-packages/lsst/ts/salobj/topics/remote_command.py&quot;, line 416, in set_start\r\n",
       "    return await self.start(timeout=timeout, wait_done=wait_done)\r\n",
       "           ^^^^^^^^^^^^^^^^^^^^^^^^^^^^^^^^^^^^^^^^^^^^^^^^^^^^^^\r\n",
       "  File &quot;/opt/lsst/software/stack/conda/envs/lsst-scipipe-9.0.0/lib/python3.11/site-packages/lsst/ts/salobj/topics/remote_command.py&quot;, line 487, in start\r\n",
       "    return await cmd_info.next_ackcmd(timeout=timeout)\r\n",
       "           ^^^^^^^^^^^^^^^^^^^^^^^^^^^^^^^^^^^^^^^^^^^\r\n",
       "  File &quot;/opt/lsst/software/stack/conda/envs/lsst-scipipe-9.0.0/lib/python3.11/site-packages/lsst/ts/salobj/topics/remote_command.py&quot;, line 191, in next_ackcmd\r\n",
       "    raise base.AckError(msg=&quot;Command failed&quot;, ackcmd=ackcmd)\r\n",
       "lsst.ts.salobj.base.AckError: msg=&#x27;Command failed&#x27;, ackcmd=(ackcmd private_seqNum=389238772, ack=&amp;lt;SalRetCode.CMD_FAILED: -302&amp;gt;, error=0, result=&#x27;Failed: The command ClearSlewFlag is not valid in the FaultState.&#x27;)\r\n",
       "</pre>\n"
      ],
      "text/plain": [
       "<IPython.core.display.Markdown object>"
      ]
     },
     "metadata": {},
     "output_type": "display_data"
    },
    {
     "data": {
      "text/markdown": [
       "- **2024-11-21 10:57**   **MainTel** \n",
       "\n",
       "<pre style='color: black; background-color: white; font-size: 1em; margin-left: 0px; '>Raising M1M3.</pre>\n"
      ],
      "text/plain": [
       "<IPython.core.display.Markdown object>"
      ]
     },
     "metadata": {},
     "output_type": "display_data"
    },
    {
     "data": {
      "text/markdown": [
       "- **2024-11-21 10:44**   **MainTel** \n",
       "\n",
       "<pre style='color: black; background-color: white; font-size: 1em; margin-left: 0px; '>GIS activated during azimuth slew.</pre>\n"
      ],
      "text/plain": [
       "<IPython.core.display.Markdown object>"
      ]
     },
     "metadata": {},
     "output_type": "display_data"
    },
    {
     "data": {
      "text/markdown": [
       "\n",
       "\n",
       "BLOCK-231 failed due to ignore list not being honored. Going to run just a regs p2p.\r\n",
       "Terminating with state=7: stop telescope.\r\n",
       "\r\n",
       "\r\n",
       "2024/11/21 10:39:43 TAI\r\n",
       "\r\n",
       "\r\n",
       "Error in run\r\n",
       "<pre style='color: black; background-color: #FFDDDD; font-size: 0.875em; margin-left: 20px; '>Traceback (most recent call last):\r\n",
       "  File &quot;/opt/lsst/software/stack/conda/envs/lsst-scipipe-9.0.0/lib/python3.11/site-packages/lsst/ts/salobj/base_script.py&quot;, line 631, in do_run\r\n",
       "    await self._run_task\r\n",
       "  File &quot;/net/obs-env/auto_base_packages/ts_standardscripts/python/lsst/ts/standardscripts/base_block_script.py&quot;, line 302, in run\r\n",
       "    await self.run_block()\r\n",
       "  File &quot;/net/obs-env/auto_base_packages/ts_standardscripts/python/lsst/ts/standardscripts/maintel/move_p2p.py&quot;, line 182, in run_block\r\n",
       "    await self.mtcs.move_p2p_azel(\r\n",
       "  File &quot;/net/obs-env/auto_base_packages/ts_observatory_control/python/lsst/ts/observatory/control/maintel/mtcs.py&quot;, line 2315, in move_p2p_azel\r\n",
       "    await self.process_as_completed(tasks)\r\n",
       "  File &quot;/net/obs-env/auto_base_packages/ts_observatory_control/python/lsst/ts/observatory/control/remote_group.py&quot;, line 1137, in process_as_completed\r\n",
       "    raise e\r\n",
       "  File &quot;/net/obs-env/auto_base_packages/ts_observatory_control/python/lsst/ts/observatory/control/remote_group.py&quot;, line 1134, in process_as_completed\r\n",
       "    ret_val = await res\r\n",
       "              ^^^^^^^^^\r\n",
       "  File &quot;/opt/lsst/software/stack/conda/envs/lsst-scipipe-9.0.0/lib/python3.11/asyncio/tasks.py&quot;, line 615, in _wait_for_one\r\n",
       "    return f.result()  # May raise f.exception().\r\n",
       "           ^^^^^^^^^^\r\n",
       "  File &quot;/net/obs-env/auto_base_packages/ts_observatory_control/python/lsst/ts/observatory/control/remote_group.py&quot;, line 510, in check_component_state\r\n",
       "    raise RuntimeError(\r\n",
       "RuntimeError: mtdome state is &amp;lt;State.DISABLED: 1&amp;gt;, expected &amp;lt;State.ENABLED: 2&amp;gt;\r\n",
       "</pre>\n"
      ],
      "text/plain": [
       "<IPython.core.display.Markdown object>"
      ]
     },
     "metadata": {},
     "output_type": "display_data"
    },
    {
     "data": {
      "text/markdown": [
       "- **2024-11-21 10:34**   **MainTel** \n",
       "\n",
       "<pre style='color: black; background-color: white; font-size: 1em; margin-left: 0px; '>beginning BLOCK-231</pre>\n"
      ],
      "text/plain": [
       "<IPython.core.display.Markdown object>"
      ]
     },
     "metadata": {},
     "output_type": "display_data"
    },
    {
     "data": {
      "text/markdown": [
       "- **2024-11-21 10:16**   **MainTel** \n",
       "\n",
       "<pre style='color: black; background-color: white; font-size: 1em; margin-left: 0px; '>M1M3 faulted while trying to recover. Sending to DISABLED state and this happened.\r\n",
       "2024/11/21 10:14:45 TAI\r\n",
       "Air controller sensor mismatch</pre>\n"
      ],
      "text/plain": [
       "<IPython.core.display.Markdown object>"
      ]
     },
     "metadata": {},
     "output_type": "display_data"
    },
    {
     "data": {
      "text/markdown": [
       "- **2024-11-21 10:13**   **MainTel** \n",
       "\n",
       "<pre style='color: black; background-color: white; font-size: 1em; margin-left: 0px; '>Recovering system from M2 breakaway test.</pre>\n"
      ],
      "text/plain": [
       "<IPython.core.display.Markdown object>"
      ]
     },
     "metadata": {},
     "output_type": "display_data"
    },
    {
     "data": {
      "text/markdown": [
       "- **2024-11-21 10:07**   **MainTel** \n",
       "\n",
       "<pre style='color: black; background-color: white; font-size: 1em; margin-left: 0px; '>M1M3 faulted during the M2 breakaway test.\r\n",
       "2024/11/21 10:04:04 TAI\r\n",
       "Force controller Z Moment Limit - applied -11402.72 N, expected -9000.00 N to 9000.00 N</pre>\n"
      ],
      "text/plain": [
       "<IPython.core.display.Markdown object>"
      ]
     },
     "metadata": {},
     "output_type": "display_data"
    },
    {
     "data": {
      "text/markdown": [
       "- **2024-11-21 10:03**   **MainTel** \n",
       "\n",
       "<pre style='color: black; background-color: white; font-size: 1em; margin-left: 0px; '>Beginning BLOCK-241.</pre>\n"
      ],
      "text/plain": [
       "<IPython.core.display.Markdown object>"
      ]
     },
     "metadata": {},
     "output_type": "display_data"
    },
    {
     "data": {
      "text/markdown": [
       "- **2024-11-21 09:49**   **MainTel** \n",
       "\n",
       "<pre style='color: black; background-color: white; font-size: 1em; margin-left: 0px; '>BLOCK-227 completed successfully. Nice job y'all!</pre>\n"
      ],
      "text/plain": [
       "<IPython.core.display.Markdown object>"
      ]
     },
     "metadata": {},
     "output_type": "display_data"
    },
    {
     "data": {
      "text/markdown": [
       "- **2024-11-21 09:28**   **MainTel** \n",
       "\n",
       "<pre style='color: black; background-color: white; font-size: 1em; margin-left: 0px; '>Going back to add BLOCK-227 while ignoring MTHexapod.2</pre>\n"
      ],
      "text/plain": [
       "<IPython.core.display.Markdown object>"
      ]
     },
     "metadata": {},
     "output_type": "display_data"
    },
    {
     "data": {
      "text/markdown": [
       "- **2024-11-21 09:27**   **MainTel** \n",
       "\n",
       "<pre style='color: black; background-color: white; font-size: 1em; margin-left: 0px; '>MTHexapod.2 faulted upon trying to apply compensation mode. \r\n",
       "2024/11/21 09:25:16 TAI\r\n",
       "Fault! errorCode=1, errorReport='Low-level controller went to FAULT state'\r\n",
       "2024/11/21 09:25:16 TAI\r\n",
       "max_move_duration=61.74\r\n",
       "2024/11/21 09:25:16 TAI\r\n",
       "Applying compensation to the current target position</pre>\n"
      ],
      "text/plain": [
       "<IPython.core.display.Markdown object>"
      ]
     },
     "metadata": {},
     "output_type": "display_data"
    },
    {
     "data": {
      "text/markdown": [
       "\n",
       "\n",
       "MTHexapod:2 CSC faulted during 10% tests. In the middle of a slew:\r\n",
       "SalIndex: 104790\r\n",
       "2024/11/21 09:22:10 TAI\r\n",
       "\r\n",
       "\r\n",
       "Fault! errorCode=-2, errorReport='Compensation failed.'\r\n",
       "\r\n",
       "\r\n",
       "\r\n",
       "\r\n",
       "2024/11/21 09:22:10 TAI\r\n",
       "\r\n",
       "\r\n",
       "Compensation failed; CSC going to Fault.\r\n",
       "<pre style='color: black; background-color: #FFDDDD; font-size: 0.875em; margin-left: 20px; '>Traceback (most recent call last):\r\n",
       "  File &quot;/opt/lsst/software/stack/miniconda/lib/python3.11/asyncio/tasks.py&quot;, line 500, in wait_for\r\n",
       "    return fut.result()\r\n",
       "           ^^^^^^^^^^^^\r\n",
       "  File &quot;/opt/lsst/software/stack/miniconda/lib/python3.11/site-packages/lsst/ts/mthexapod/hexapod_csc.py&quot;, line 1105, in wait_stopped\r\n",
       "    await self.telemetry_event.wait()\r\n",
       "  File &quot;/opt/lsst/software/stack/miniconda/lib/python3.11/asyncio/locks.py&quot;, line 213, in wait\r\n",
       "    await fut\r\n",
       "asyncio.exceptions.CancelledError\r\n",
       "\r\n",
       "\r\n",
       "The above exception was the direct cause of the following exception:\r\n",
       "\r\n",
       "\r\n",
       "Traceback (most recent call last):\r\n",
       "  File &quot;/opt/lsst/software/stack/miniconda/lib/python3.11/site-packages/lsst/ts/mthexapod/hexapod_csc.py&quot;, line 442, in compensation_loop\r\n",
       "    await self.compensation_wait()\r\n",
       "  File &quot;/opt/lsst/software/stack/miniconda/lib/python3.11/site-packages/lsst/ts/mthexapod/hexapod_csc.py&quot;, line 471, in compensation_wait\r\n",
       "    await asyncio.wait_for(self.wait_stopped(), timeout=self.max_move_duration)\r\n",
       "  File &quot;/opt/lsst/software/stack/miniconda/lib/python3.11/asyncio/tasks.py&quot;, line 502, in wait_for\r\n",
       "    raise exceptions.TimeoutError() from exc\r\n",
       "TimeoutError\r\n",
       "</pre>\n"
      ],
      "text/plain": [
       "<IPython.core.display.Markdown object>"
      ]
     },
     "metadata": {},
     "output_type": "display_data"
    },
    {
     "data": {
      "text/markdown": [
       "- **2024-11-21 09:18**   **MainTel** \n",
       "\n",
       "<pre style='color: black; background-color: white; font-size: 1em; margin-left: 0px; '>Scripts are now loading. BLOCK-227 in progress.</pre>\n"
      ],
      "text/plain": [
       "<IPython.core.display.Markdown object>"
      ]
     },
     "metadata": {},
     "output_type": "display_data"
    },
    {
     "data": {
      "text/markdown": [
       "- **2024-11-21 09:18**   **MainTel** \n",
       "\n",
       "<pre style='color: black; background-color: white; font-size: 1em; margin-left: 0px; '>Anti-climatically, the block didn't populate scripts. We are enabling the scheduler again.</pre>\n"
      ],
      "text/plain": [
       "<IPython.core.display.Markdown object>"
      ]
     },
     "metadata": {},
     "output_type": "display_data"
    },
    {
     "data": {
      "text/markdown": [
       "- **2024-11-21 09:15**   **MainTel** \n",
       "\n",
       "<pre style='color: black; background-color: white; font-size: 1em; margin-left: 0px; '>Alberto is online, going to begin digging through the trenches that are TMA comms. We wish him the best in the journey.</pre>\n"
      ],
      "text/plain": [
       "<IPython.core.display.Markdown object>"
      ]
     },
     "metadata": {},
     "output_type": "display_data"
    },
    {
     "data": {
      "text/markdown": [
       "- **2024-11-21 09:15**   **MainTel** \n",
       "\n",
       "<pre style='color: black; background-color: white; font-size: 1em; margin-left: 0px; '>Running BLOCK-227.</pre>\n"
      ],
      "text/plain": [
       "<IPython.core.display.Markdown object>"
      ]
     },
     "metadata": {},
     "output_type": "display_data"
    },
    {
     "data": {
      "text/markdown": [
       "- **2024-11-21 09:04**   **MainTel** \n",
       "\n",
       "<pre style='color: black; background-color: white; font-size: 1em; margin-left: 0px; '>MTMount would not enable:\r\n",
       "2024/11/21 09:02:29 TAI\r\n",
       "\r\n",
       "\r\n",
       "begin_enable failed; remaining in state &lt;State.DISABLED: 1&gt;: Command BothAxesPower(sequence_id=1006565, command_code=&lt;CommandCode.BOTH_AXES_POWER: 31&gt;, source=&lt;Source.CSC: 1&gt;, timestamp=1732179737.9188824, on=True) failed: ExpectedError('Command failed due to an alarm.')\r\n",
       "\r\n",
       "\r\n",
       "Elevation axis reports a positive adjustable software limit.</pre>\n"
      ],
      "text/plain": [
       "<IPython.core.display.Markdown object>"
      ]
     },
     "metadata": {},
     "output_type": "display_data"
    },
    {
     "data": {
      "text/markdown": [
       "- **2024-11-21 09:02**   **MainTel** \n",
       "\n",
       "<pre style='color: black; background-color: white; font-size: 1em; margin-left: 0px; '>Preparing TMA for 10% velocity tests with Petr supporting.</pre>\n"
      ],
      "text/plain": [
       "<IPython.core.display.Markdown object>"
      ]
     },
     "metadata": {},
     "output_type": "display_data"
    },
    {
     "data": {
      "text/markdown": [
       "- **2024-11-21 09:02**   **MainTel** \n",
       "\n",
       "<pre style='color: black; background-color: white; font-size: 1em; margin-left: 0px; '>MTDome is closed. No issues in closing completely, although it took several minutes for the ApS left motors to complete the task and exit nominally.</pre>\n"
      ],
      "text/plain": [
       "<IPython.core.display.Markdown object>"
      ]
     },
     "metadata": {},
     "output_type": "display_data"
    },
    {
     "data": {
      "text/markdown": [
       "- **2024-11-21 08:22**   **MainTel** \n",
       "\n",
       "<pre style='color: black; background-color: white; font-size: 1em; margin-left: 0px; '>Finished data taking for the night. Preparing everything to close dome shutters.</pre>\n"
      ],
      "text/plain": [
       "<IPython.core.display.Markdown object>"
      ]
     },
     "metadata": {},
     "output_type": "display_data"
    },
    {
     "data": {
      "text/markdown": [
       "- **2024-11-21 08:16**   **MainTel**  Time Lost: 0.37; Time Lost Type: fault;\n",
       "\n",
       "<pre style='color: black; background-color: white; font-size: 1em; margin-left: 0px; '>M1M3 faulted during a closed loop script, around 54 degrees elevation:\r\n",
       "\r\n",
       "\r\n",
       "2024/11/21 01:28:15 TAI\r\n",
       "Force Actuator ID 128 (27) Following Error immediate fault</pre>\n"
      ],
      "text/plain": [
       "<IPython.core.display.Markdown object>"
      ]
     },
     "metadata": {},
     "output_type": "display_data"
    },
    {
     "data": {
      "text/markdown": [
       "- **2024-11-21 08:15**   **MainTel** \n",
       "\n",
       "<pre style='color: black; background-color: white; font-size: 1em; margin-left: 0px; '>MT Air compressor faulted. Going to cycle the CSC and hope connection comes back\r\n",
       "\r\n",
       "\r\n",
       "2024/11/21 02:35:48 TAI\r\n",
       "\r\n",
       "\r\n",
       "Fault! errorCode=98, errorReport='While reconnecting:Modbus Error: [Connection] Not connected[AsyncModbusTcpClient m1m3cam-aircomp02.cp.lsst.org:502]'\r\n",
       "\r\n",
       "\r\n",
       "\r\n",
       "\r\n",
       "2024/11/21 02:35:48 TAI\r\n",
       "While reconnecting:Modbus Error: [Connection] Not connected[AsyncModbusTcpClient m1m3cam-aircomp02.cp.lsst.org:502]</pre>\n"
      ],
      "text/plain": [
       "<IPython.core.display.Markdown object>"
      ]
     },
     "metadata": {},
     "output_type": "display_data"
    },
    {
     "data": {
      "text/markdown": [
       "- Link: [OBS-700](https://rubinobs.atlassian.net/browse/OBS-700)"
      ],
      "text/plain": [
       "<IPython.core.display.Markdown object>"
      ]
     },
     "metadata": {},
     "output_type": "display_data"
    },
    {
     "data": {
      "text/markdown": [
       "- **2024-11-21 08:07**   **MainTel** \n",
       "\n",
       "<pre style='color: black; background-color: white; font-size: 1em; margin-left: 0px; '>In focus in slightly poor seeing conditions. Grabbing science data.</pre>\n"
      ],
      "text/plain": [
       "<IPython.core.display.Markdown object>"
      ]
     },
     "metadata": {},
     "output_type": "display_data"
    },
    {
     "data": {
      "text/markdown": [
       "- **2024-11-21 07:56**   **MainTel** \n",
       "\n",
       "<pre style='color: black; background-color: white; font-size: 1em; margin-left: 0px; '>Had to re-issue corrections and remove some of previous settings before proceeding with the closed_loop comcam - the previous hexapod state was still applied.</pre>\n"
      ],
      "text/plain": [
       "<IPython.core.display.Markdown object>"
      ]
     },
     "metadata": {},
     "output_type": "display_data"
    },
    {
     "data": {
      "text/markdown": [
       "- **2024-11-21 07:51**   **MainTel** \n",
       "\n",
       "<pre style='color: black; background-color: white; font-size: 1em; margin-left: 0px; '>Taking image on science target.</pre>\n"
      ],
      "text/plain": [
       "<IPython.core.display.Markdown object>"
      ]
     },
     "metadata": {},
     "output_type": "display_data"
    },
    {
     "data": {
      "text/markdown": [
       "- **2024-11-21 07:47**   **MainTel** \n",
       "\n",
       "<pre style='color: black; background-color: white; font-size: 1em; margin-left: 0px; '>Slewing to final science target for the night. Going to try and close the loops on a previously observed target.</pre>\n"
      ],
      "text/plain": [
       "<IPython.core.display.Markdown object>"
      ]
     },
     "metadata": {},
     "output_type": "display_data"
    },
    {
     "data": {
      "text/markdown": [
       "- **2024-11-21 06:21**   **MainTel** \n",
       "\n",
       "<pre style='color: black; background-color: white; font-size: 1em; margin-left: 0px; '>Science team is ceding the telescope back to the AOS team. We will resume AOS testing until ~10 minutes before closing time.</pre>\n"
      ],
      "text/plain": [
       "<IPython.core.display.Markdown object>"
      ]
     },
     "metadata": {},
     "output_type": "display_data"
    },
    {
     "data": {
      "text/markdown": [
       "- **2024-11-21 05:47**   **MainTel** \n",
       "\n",
       "<pre style='color: black; background-color: white; font-size: 1em; margin-left: 0px; '>Resuming the scheduler.</pre>\n"
      ],
      "text/plain": [
       "<IPython.core.display.Markdown object>"
      ]
     },
     "metadata": {},
     "output_type": "display_data"
    },
    {
     "data": {
      "text/markdown": [
       "- **2024-11-21 05:36**   **MainTel** \n",
       "\n",
       "<pre style='color: black; background-color: white; font-size: 1em; margin-left: 0px; '>Recovered the Hexapod, completed the giant donut data, and we returned the rotator to 0. The AOS team is going to take a pause and we are going to collect science data near rot_angle 0 to minimize CCW fault risk.</pre>\n"
      ],
      "text/plain": [
       "<IPython.core.display.Markdown object>"
      ]
     },
     "metadata": {},
     "output_type": "display_data"
    },
    {
     "data": {
      "text/markdown": [
       "- **2024-11-21 05:19**   **MainTel** \n",
       "\n",
       "<pre style='color: black; background-color: white; font-size: 1em; margin-left: 0px; '>MTHexapod failed - compensation failed.</pre>\n"
      ],
      "text/plain": [
       "<IPython.core.display.Markdown object>"
      ]
     },
     "metadata": {},
     "output_type": "display_data"
    },
    {
     "data": {
      "text/markdown": [
       "- **2024-11-21 05:10**   **MainTel** \n",
       "\n",
       "<pre style='color: black; background-color: white; font-size: 1em; margin-left: 0px; '>BLOCK-75 data collection ongoing.</pre>\n"
      ],
      "text/plain": [
       "<IPython.core.display.Markdown object>"
      ]
     },
     "metadata": {},
     "output_type": "display_data"
    },
    {
     "data": {
      "text/markdown": [
       "- **2024-11-21 05:04**   **MainTel** \n",
       "\n",
       "<pre style='color: black; background-color: white; font-size: 1em; margin-left: 0px; '>Going to attempt to track target nearby to get some giant donut data.</pre>\n"
      ],
      "text/plain": [
       "<IPython.core.display.Markdown object>"
      ]
     },
     "metadata": {},
     "output_type": "display_data"
    },
    {
     "data": {
      "text/markdown": [
       "- **2024-11-21 04:53**   **MainTel** \n",
       "\n",
       "<pre style='color: black; background-color: white; font-size: 1em; margin-left: 0px; '>The CCW axis faulted. It just stopped tracking the rotator.</pre>\n"
      ],
      "text/plain": [
       "<IPython.core.display.Markdown object>"
      ]
     },
     "metadata": {},
     "output_type": "display_data"
    },
    {
     "data": {
      "text/markdown": [
       "- **2024-11-21 04:37**   **MainTel** \n",
       "\n",
       "<pre style='color: black; background-color: white; font-size: 1em; margin-left: 0px; '>Attempting BLOCK-301.</pre>\n"
      ],
      "text/plain": [
       "<IPython.core.display.Markdown object>"
      ]
     },
     "metadata": {},
     "output_type": "display_data"
    },
    {
     "data": {
      "text/markdown": [
       "- **2024-11-21 04:33**   **MainTel** \n",
       "\n",
       "<pre style='color: black; background-color: white; font-size: 1em; margin-left: 0px; '>The cable cable wrap faulted the MTMount. The rotator was not commanded anywhere, but the CCW just decided to quit.</pre>\n"
      ],
      "text/plain": [
       "<IPython.core.display.Markdown object>"
      ]
     },
     "metadata": {},
     "output_type": "display_data"
    },
    {
     "data": {
      "text/markdown": [
       "- **2024-11-21 04:32**   **MainTel** \n",
       "\n",
       "<pre style='color: black; background-color: white; font-size: 1em; margin-left: 0px; '>PSYCH! No it didn't!</pre>\n"
      ],
      "text/plain": [
       "<IPython.core.display.Markdown object>"
      ]
     },
     "metadata": {},
     "output_type": "display_data"
    },
    {
     "data": {
      "text/markdown": [
       "- **2024-11-21 04:29**   **MainTel** \n",
       "\n",
       "<pre style='color: black; background-color: white; font-size: 1em; margin-left: 0px; '>We were able to step to 70 degrees in rotation just as the BLOCK does. Hopefully we can run the tests without an additional strain on the CCW following the rotator.</pre>\n"
      ],
      "text/plain": [
       "<IPython.core.display.Markdown object>"
      ]
     },
     "metadata": {},
     "output_type": "display_data"
    },
    {
     "data": {
      "text/markdown": [
       "- **2024-11-21 04:29**   **MainTel** \n",
       "\n",
       "<pre style='color: black; background-color: white; font-size: 1em; margin-left: 0px; '>Going to attempt the rotator BLOCK-301.</pre>\n"
      ],
      "text/plain": [
       "<IPython.core.display.Markdown object>"
      ]
     },
     "metadata": {},
     "output_type": "display_data"
    },
    {
     "data": {
      "text/markdown": [
       "- **2024-11-21 04:25**   **MainTel** \n",
       "\n",
       "<pre style='color: black; background-color: white; font-size: 1em; margin-left: 0px; '>Attempting to rotate the rotator in small steps. Trying to identify when the rotator and CCW decouple in steps.</pre>\n"
      ],
      "text/plain": [
       "<IPython.core.display.Markdown object>"
      ]
     },
     "metadata": {},
     "output_type": "display_data"
    },
    {
     "data": {
      "text/markdown": [
       "- **2024-11-21 04:13**   **MainTel** \n",
       "\n",
       "<pre style='color: black; background-color: white; font-size: 1em; margin-left: 0px; '>Recovered MTRotator, slewed to 10 degrees rotation, and a few degrees into the slew, the CCW stopped following the rotator around -2 degrees. We will attempt now to recover.</pre>\n"
      ],
      "text/plain": [
       "<IPython.core.display.Markdown object>"
      ]
     },
     "metadata": {},
     "output_type": "display_data"
    },
    {
     "data": {
      "text/markdown": [
       "- **2024-11-21 04:08**   **MainTel** \n",
       "\n",
       "<pre style='color: black; background-color: white; font-size: 1em; margin-left: 0px; '>Went down to the first floor to try and find a reset method for the MTAircompressor2. Chiller presents an error on the screen. MTAircompressor reads some pressure.</pre>\n"
      ],
      "text/plain": [
       "<IPython.core.display.Markdown object>"
      ]
     },
     "metadata": {},
     "output_type": "display_data"
    },
    {
     "data": {
      "text/markdown": [
       "- **2024-11-21 03:36**   **MainTel** \n",
       "\n",
       "<pre style='color: black; background-color: white; font-size: 1em; margin-left: 0px; '>Attempting a 5 degree slew.</pre>\n"
      ],
      "text/plain": [
       "<IPython.core.display.Markdown object>"
      ]
     },
     "metadata": {},
     "output_type": "display_data"
    },
    {
     "data": {
      "text/markdown": [
       "- **2024-11-21 03:35**   **MainTel** \n",
       "\n",
       "<pre style='color: black; background-color: white; font-size: 1em; margin-left: 0px; '>Continuing to troubleshoot rotator. Perhaps moves were too small to trigger an inposition flag.</pre>\n"
      ],
      "text/plain": [
       "<IPython.core.display.Markdown object>"
      ]
     },
     "metadata": {},
     "output_type": "display_data"
    },
    {
     "data": {
      "text/markdown": [
       "- **2024-11-21 03:24**   **MainTel** \n",
       "\n",
       "<pre style='color: black; background-color: white; font-size: 1em; margin-left: 0px; '>Attempting to track target and the rotator is timing out.</pre>\n"
      ],
      "text/plain": [
       "<IPython.core.display.Markdown object>"
      ]
     },
     "metadata": {},
     "output_type": "display_data"
    },
    {
     "data": {
      "text/markdown": [
       "- **2024-11-21 03:15**   **MainTel** \n",
       "\n",
       "<pre style='color: black; background-color: white; font-size: 1em; margin-left: 0px; '>Tiago is helping us try to identify a patch we can deploy tonight so we don't encounter frequent errors with TMA timeouts.</pre>\n"
      ],
      "text/plain": [
       "<IPython.core.display.Markdown object>"
      ]
     },
     "metadata": {},
     "output_type": "display_data"
    },
    {
     "data": {
      "text/markdown": [
       "\n",
       "\n",
       "move_p2p failed \r\n",
       "\r\n",
       "\r\n",
       "\r\n",
       "\r\n",
       "2024/11/21 03:09:44 TAI\r\n",
       "\r\n",
       "\r\n",
       "Error in run\r\n",
       "<pre style='color: black; background-color: #FFDDDD; font-size: 0.875em; margin-left: 20px; '>Traceback (most recent call last):\r\n",
       "  File &quot;/opt/lsst/software/stack/conda/envs/lsst-scipipe-9.0.0/lib/python3.11/site-packages/lsst/ts/salobj/base_script.py&quot;, line 631, in do_run\r\n",
       "    await self._run_task\r\n",
       "  File &quot;/net/obs-env/auto_base_packages/ts_standardscripts/python/lsst/ts/standardscripts/base_block_script.py&quot;, line 302, in run\r\n",
       "    await self.run_block()\r\n",
       "  File &quot;/net/obs-env/auto_base_packages/ts_standardscripts/python/lsst/ts/standardscripts/maintel/move_p2p.py&quot;, line 182, in run_block\r\n",
       "    await self.mtcs.move_p2p_azel(\r\n",
       "  File &quot;/net/obs-env/auto_base_packages/ts_observatory_control/python/lsst/ts/observatory/control/maintel/mtcs.py&quot;, line 2315, in move_p2p_azel\r\n",
       "    await self.process_as_completed(tasks)\r\n",
       "  File &quot;/net/obs-env/auto_base_packages/ts_observatory_control/python/lsst/ts/observatory/control/remote_group.py&quot;, line 1137, in process_as_completed\r\n",
       "    raise e\r\n",
       "  File &quot;/net/obs-env/auto_base_packages/ts_observatory_control/python/lsst/ts/observatory/control/remote_group.py&quot;, line 1134, in process_as_completed\r\n",
       "    ret_val = await res\r\n",
       "              ^^^^^^^^^\r\n",
       "  File &quot;/opt/lsst/software/stack/conda/envs/lsst-scipipe-9.0.0/lib/python3.11/asyncio/tasks.py&quot;, line 615, in _wait_for_one\r\n",
       "    return f.result()  # May raise f.exception().\r\n",
       "           ^^^^^^^^^^\r\n",
       "  File &quot;/opt/lsst/software/stack/conda/envs/lsst-scipipe-9.0.0/lib/python3.11/site-packages/lsst/ts/salobj/topics/remote_command.py&quot;, line 416, in set_start\r\n",
       "    return await self.start(timeout=timeout, wait_done=wait_done)\r\n",
       "           ^^^^^^^^^^^^^^^^^^^^^^^^^^^^^^^^^^^^^^^^^^^^^^^^^^^^^^\r\n",
       "  File &quot;/opt/lsst/software/stack/conda/envs/lsst-scipipe-9.0.0/lib/python3.11/site-packages/lsst/ts/salobj/topics/remote_command.py&quot;, line 487, in start\r\n",
       "    return await cmd_info.next_ackcmd(timeout=timeout)\r\n",
       "           ^^^^^^^^^^^^^^^^^^^^^^^^^^^^^^^^^^^^^^^^^^^\r\n",
       "  File &quot;/opt/lsst/software/stack/conda/envs/lsst-scipipe-9.0.0/lib/python3.11/site-packages/lsst/ts/salobj/topics/remote_command.py&quot;, line 191, in next_ackcmd\r\n",
       "    raise base.AckError(msg=&quot;Command failed&quot;, ackcmd=ackcmd)\r\n",
       "lsst.ts.salobj.base.AckError: msg=&#x27;Command failed&#x27;, ackcmd=(ackcmd private_seqNum=930398849, ack=&amp;lt;SalRetCode.CMD_FAILED: -302&amp;gt;, error=1, result=&#x27;Failed: The commands allowed in Tracking are: Stop\\n\\nNot accepted command: 103\\nThe commands allowed in Tracking are: Stop\\n\\nNot accepted command: 403&#x27;)\r\n",
       "</pre>\n"
      ],
      "text/plain": [
       "<IPython.core.display.Markdown object>"
      ]
     },
     "metadata": {},
     "output_type": "display_data"
    },
    {
     "data": {
      "text/markdown": [
       "- **2024-11-21 03:08**   **MainTel** \n",
       "\n",
       "<pre style='color: black; background-color: white; font-size: 1em; margin-left: 0px; '>Unable to track target - continuous timeouts when trying to track target.</pre>\n"
      ],
      "text/plain": [
       "<IPython.core.display.Markdown object>"
      ]
     },
     "metadata": {},
     "output_type": "display_data"
    },
    {
     "data": {
      "text/markdown": [
       "- **2024-11-21 03:03**   **MainTel** \n",
       "\n",
       "<pre style='color: black; background-color: white; font-size: 1em; margin-left: 0px; '>Going to operate with one compressor until we can find a way to connect MTAirCompressor:2</pre>\n"
      ],
      "text/plain": [
       "<IPython.core.display.Markdown object>"
      ]
     },
     "metadata": {},
     "output_type": "display_data"
    },
    {
     "data": {
      "text/markdown": [
       "- **2024-11-21 03:02**   **MainTel** \n",
       "\n",
       "<pre style='color: black; background-color: white; font-size: 1em; margin-left: 0px; '>MTPtg faulting frequently. Really impacting operations. Going to stop MTmount and movep2p.</pre>\n"
      ],
      "text/plain": [
       "<IPython.core.display.Markdown object>"
      ]
     },
     "metadata": {},
     "output_type": "display_data"
    },
    {
     "data": {
      "text/markdown": [
       "- **2024-11-21 02:55**   **MainTel** \n",
       "\n",
       "<pre style='color: black; background-color: white; font-size: 1em; margin-left: 0px; '>Baden confirms that he can ping the MT air compressor 2 machine. As soon as we try to enable the CSC we lose connection. \r\n",
       "\r\n",
       "\r\n",
       "2024/11/21 02:52:55 TAI\r\n",
       "Starting up:Modbus Error: [Connection] Not connected[AsyncModbusTcpClient m1m3cam-aircomp02.cp.lsst.org:502]</pre>\n"
      ],
      "text/plain": [
       "<IPython.core.display.Markdown object>"
      ]
     },
     "metadata": {},
     "output_type": "display_data"
    },
    {
     "data": {
      "text/markdown": [
       "- **2024-11-21 02:47**   **MainTel** \n",
       "\n",
       "<pre style='color: black; background-color: white; font-size: 1em; margin-left: 0px; '>IT support is going to dial in and check out some of the network issues we seem to be having.</pre>\n"
      ],
      "text/plain": [
       "<IPython.core.display.Markdown object>"
      ]
     },
     "metadata": {},
     "output_type": "display_data"
    },
    {
     "data": {
      "text/markdown": [
       "- **2024-11-21 02:47**   **MainTel** \n",
       "\n",
       "<pre style='color: black; background-color: white; font-size: 1em; margin-left: 0px; '>Attempted to cycle compressor CSC, didn't connect. Going to follow Petr's instructions. Troubleshooting.</pre>\n"
      ],
      "text/plain": [
       "<IPython.core.display.Markdown object>"
      ]
     },
     "metadata": {},
     "output_type": "display_data"
    },
    {
     "data": {
      "text/markdown": [
       "- **2024-11-21 02:29**   **MainTel** \n",
       "\n",
       "<pre style='color: black; background-color: white; font-size: 1em; margin-left: 0px; '>MtPtg fault - just about to initiate a track_target command. \r\n",
       "\r\n",
       "\r\n",
       "\r\n",
       "\r\n",
       "2024/11/21 02:27:31 TAI\r\n",
       "Error MTMount replied error for trackTarget command (1734022109) Error no:1 message:Failed: Command with id 474073 has timed ou</pre>\n"
      ],
      "text/plain": [
       "<IPython.core.display.Markdown object>"
      ]
     },
     "metadata": {},
     "output_type": "display_data"
    },
    {
     "data": {
      "text/markdown": [
       "- **2024-11-21 02:18**   **MainTel** \n",
       "\n",
       "<pre style='color: black; background-color: white; font-size: 1em; margin-left: 0px; '>MTPtg immediately got grumpy. We're going to have to stop all Mount traffic and move_p2p</pre>\n"
      ],
      "text/plain": [
       "<IPython.core.display.Markdown object>"
      ]
     },
     "metadata": {},
     "output_type": "display_data"
    },
    {
     "data": {
      "text/markdown": [
       "- **2024-11-21 02:17**   **MainTel** \n",
       "\n",
       "<pre style='color: black; background-color: white; font-size: 1em; margin-left: 0px; '>Restarting observations after MTPtg fault.</pre>\n"
      ],
      "text/plain": [
       "<IPython.core.display.Markdown object>"
      ]
     },
     "metadata": {},
     "output_type": "display_data"
    },
    {
     "data": {
      "text/markdown": [
       "- **2024-11-21 02:14**   **MainTel** \n",
       "\n",
       "<pre style='color: black; background-color: white; font-size: 1em; margin-left: 0px; '>MTPtg faulted\r\n",
       "salIndex: 104525\r\n",
       " 2024/11/21 02:11:12 TAI\r\n",
       "raise RuntimeError(\r\n",
       "RuntimeError: mtptg state is &lt;State.FAULT: 3&gt;, expected &lt;State.ENABLED: 2&gt;\r\n",
       "\r\n",
       "\r\n",
       "2024/11/21 02:11:02 TAI\r\n",
       "Error MTMount replied error for startTracking command (1732828411) Error no:1 message:Failed: Command with id 447721 has timed</pre>\n"
      ],
      "text/plain": [
       "<IPython.core.display.Markdown object>"
      ]
     },
     "metadata": {},
     "output_type": "display_data"
    },
    {
     "data": {
      "text/markdown": [
       "- **2024-11-21 01:57**   **MainTel** \n",
       "\n",
       "<pre style='color: black; background-color: white; font-size: 1em; margin-left: 0px; '>BLOCK-T300 will move the telescope in different elevation angles and run closed loop. We want to understand the focus gradient we saw yesterday.</pre>\n"
      ],
      "text/plain": [
       "<IPython.core.display.Markdown object>"
      ]
     },
     "metadata": {},
     "output_type": "display_data"
    },
    {
     "data": {
      "text/markdown": [
       "- **2024-11-21 01:56**   **MainTel** \n",
       "\n",
       "<pre style='color: black; background-color: white; font-size: 1em; margin-left: 0px; '>We moved the telescope to the final expected position using move_p2p command. \r\n",
       "M1M3 behaved fine now. Starting BLOCK-T300 again.</pre>\n"
      ],
      "text/plain": [
       "<IPython.core.display.Markdown object>"
      ]
     },
     "metadata": {},
     "output_type": "display_data"
    },
    {
     "data": {
      "text/markdown": [
       "- **2024-11-21 01:45**   **MainTel** \n",
       "\n",
       "<pre style='color: black; background-color: white; font-size: 1em; margin-left: 0px; '>MTM1M3TS was recovered through Brian's script that automatically recovers it.</pre>\n"
      ],
      "text/plain": [
       "<IPython.core.display.Markdown object>"
      ]
     },
     "metadata": {},
     "output_type": "display_data"
    },
    {
     "data": {
      "text/markdown": [
       "- **2024-11-21 01:41**   **MainTel** \n",
       "\n",
       "<pre style='color: black; background-color: white; font-size: 1em; margin-left: 0px; '>As part of recovering, we need to recover MTM1M3TS as well. \r\n",
       "We have the instructions. However, someone connected to MTM1M3TS and recovered it.</pre>\n"
      ],
      "text/plain": [
       "<IPython.core.display.Markdown object>"
      ]
     },
     "metadata": {},
     "output_type": "display_data"
    },
    {
     "data": {
      "text/markdown": [
       "- **2024-11-21 01:32**   **MainTel** \n",
       "\n",
       "<pre style='color: black; background-color: white; font-size: 1em; margin-left: 0px; '>2024/11/21 01:28:15 TAI\r\n",
       "MTM1M3 went to a fault: Force Actuator ID 128 (27) Following Error immediate Fault.\r\n",
       "\r\n",
       "\r\n",
       "This happened while running BLOCK-T300. \r\n",
       "It was slewing the telescope to -100º in Az. It was a big slew and we were at 80º elevation angle. \r\n",
       "There was no apparent reason for M1M3 to go to a fault.</pre>\n"
      ],
      "text/plain": [
       "<IPython.core.display.Markdown object>"
      ]
     },
     "metadata": {},
     "output_type": "display_data"
    },
    {
     "data": {
      "text/markdown": [
       "- Link: [OBS-699](https://rubinobs.atlassian.net/browse/OBS-699)"
      ],
      "text/plain": [
       "<IPython.core.display.Markdown object>"
      ]
     },
     "metadata": {},
     "output_type": "display_data"
    },
    {
     "data": {
      "text/markdown": [
       "- **2024-11-21 01:29**\n",
       "\n",
       "<pre style='color: black; background-color: white; font-size: 1em; margin-left: 0px; '>Running block t-300, MTMount, MTPtg and MTM1M3 faulted</pre>\n"
      ],
      "text/plain": [
       "<IPython.core.display.Markdown object>"
      ]
     },
     "metadata": {},
     "output_type": "display_data"
    },
    {
     "data": {
      "text/markdown": [
       "- **2024-11-21 01:23**   **MainTel** \n",
       "\n",
       "<pre style='color: black; background-color: white; font-size: 1em; margin-left: 0px; '>SOAR seeing is ~1.3. We're getting ~1.1 in r at elevation of 71 deg.</pre>\n"
      ],
      "text/plain": [
       "<IPython.core.display.Markdown object>"
      ]
     },
     "metadata": {},
     "output_type": "display_data"
    },
    {
     "data": {
      "text/markdown": [
       "- **2024-11-21 01:20**   **MainTel** \n",
       "\n",
       "<pre style='color: black; background-color: white; font-size: 1em; margin-left: 0px; '>The values in the Residual AOS FWHM column in RubinTv are plateauing. This means that we are probably ready to move on to the next test case.</pre>\n"
      ],
      "text/plain": [
       "<IPython.core.display.Markdown object>"
      ]
     },
     "metadata": {},
     "output_type": "display_data"
    },
    {
     "data": {
      "text/markdown": [
       "- **2024-11-21 01:18**   **MainTel** \n",
       "\n",
       "<pre style='color: black; background-color: white; font-size: 1em; margin-left: 0px; '>The next test case would be BLOCK-T303. However, it seems that our BLOCK-T249 already accomplished the goal of 303. So we will skip it. We marked it as skipped in Zephyr.  We want to re-evaluate it, so we should keep it in the night plan for tomorrow.</pre>\n"
      ],
      "text/plain": [
       "<IPython.core.display.Markdown object>"
      ]
     },
     "metadata": {},
     "output_type": "display_data"
    },
    {
     "data": {
      "text/markdown": [
       "- **2024-11-21 00:51**   **MainTel** \n",
       "\n",
       "<pre style='color: black; background-color: white; font-size: 1em; margin-left: 0px; '>Closed loop ongoing. We can see donuts!</pre>\n"
      ],
      "text/plain": [
       "<IPython.core.display.Markdown object>"
      ]
     },
     "metadata": {},
     "output_type": "display_data"
    },
    {
     "data": {
      "text/markdown": [
       "- **2024-11-21 00:50**   **MainTel** \n",
       "\n",
       "<pre style='color: black; background-color: white; font-size: 1em; margin-left: 0px; '>We are starting BLOCK-T249 again after all the recovery. \r\n",
       "Let's start taking a new image.</pre>\n"
      ],
      "text/plain": [
       "<IPython.core.display.Markdown object>"
      ]
     },
     "metadata": {},
     "output_type": "display_data"
    },
    {
     "data": {
      "text/markdown": [
       "- **2024-11-21 00:48**   **MainTel** \n",
       "\n",
       "<pre style='color: black; background-color: white; font-size: 1em; margin-left: 0px; '>Alright. Now let's try track_target just where we are.</pre>\n"
      ],
      "text/plain": [
       "<IPython.core.display.Markdown object>"
      ]
     },
     "metadata": {},
     "output_type": "display_data"
    },
    {
     "data": {
      "text/markdown": [
       "- **2024-11-21 00:47**   **MainTel** \n",
       "\n",
       "<pre style='color: black; background-color: white; font-size: 1em; margin-left: 0px; '>This did not work. So we will enable MTPTg and send a stop_tracking script. Then we will try again.</pre>\n"
      ],
      "text/plain": [
       "<IPython.core.display.Markdown object>"
      ]
     },
     "metadata": {},
     "output_type": "display_data"
    },
    {
     "data": {
      "text/markdown": [
       "- **2024-11-21 00:43**   **MainTel** \n",
       "\n",
       "<pre style='color: black; background-color: white; font-size: 1em; margin-left: 0px; '>We are now recovering again. We will home both axes and try a move_p2p. If that does not work, we will need to send a stop command to the mount and try again.</pre>\n"
      ],
      "text/plain": [
       "<IPython.core.display.Markdown object>"
      ]
     },
     "metadata": {},
     "output_type": "display_data"
    },
    {
     "data": {
      "text/markdown": [
       "- **2024-11-21 00:42**   **MainTel** \n",
       "\n",
       "<pre style='color: black; background-color: white; font-size: 1em; margin-left: 0px; '>The TMA EUI went to fault in Elevation. This is a SoftMotion Axis Fault. \r\n",
       "Set Time 00:39:13.337 21/11/24\r\n",
       "System: elevation</pre>\n"
      ],
      "text/plain": [
       "<IPython.core.display.Markdown object>"
      ]
     },
     "metadata": {},
     "output_type": "display_data"
    },
    {
     "data": {
      "text/markdown": [
       "- Link: [OBS-698](https://rubinobs.atlassian.net/browse/OBS-698)"
      ],
      "text/plain": [
       "<IPython.core.display.Markdown object>"
      ]
     },
     "metadata": {},
     "output_type": "display_data"
    },
    {
     "data": {
      "text/markdown": [
       "- **2024-11-21 00:41**\n",
       "\n",
       "<pre style='color: black; background-color: white; font-size: 1em; margin-left: 0px; '>Home both axes, track target \r\n",
       "\r\n",
       "\r\n",
       "Then needed to put rotator at zero.  Did that. \r\n",
       "\r\n",
       "\r\n",
       "Then did track target again, and this time both the MTMount and MtPtg faulted</pre>\n"
      ],
      "text/plain": [
       "<IPython.core.display.Markdown object>"
      ]
     },
     "metadata": {},
     "output_type": "display_data"
    },
    {
     "data": {
      "text/markdown": [
       "- **2024-11-21 00:33**   **MainTel** \n",
       "\n",
       "<pre style='color: black; background-color: white; font-size: 1em; margin-left: 0px; '>Stop tracking was not enough. When putting M2 into DISABLED state, MTMount went to a FAULT state. We are recovering now.</pre>\n"
      ],
      "text/plain": [
       "<IPython.core.display.Markdown object>"
      ]
     },
     "metadata": {},
     "output_type": "display_data"
    },
    {
     "data": {
      "text/markdown": [
       "- **2024-11-21 00:31**   **MainTel** \n",
       "\n",
       "<pre style='color: black; background-color: white; font-size: 1em; margin-left: 0px; '>It is an issue with M2.  \r\n",
       "\r\n",
       "\r\n",
       "Stop tracking</pre>\n"
      ],
      "text/plain": [
       "<IPython.core.display.Markdown object>"
      ]
     },
     "metadata": {},
     "output_type": "display_data"
    },
    {
     "data": {
      "text/markdown": [
       "- **2024-11-21 00:30**   **MainTel** \n",
       "\n",
       "<pre style='color: black; background-color: white; font-size: 1em; margin-left: 0px; '>Tiago is now debugging what is going on. He says that we might having issues with historical data associated with the crash we had with the DDS systems (yagan13 and yagan17).</pre>\n"
      ],
      "text/plain": [
       "<IPython.core.display.Markdown object>"
      ]
     },
     "metadata": {},
     "output_type": "display_data"
    },
    {
     "data": {
      "text/markdown": [
       "- **2024-11-21 00:21**   **MainTel** \n",
       "\n",
       "<pre style='color: black; background-color: white; font-size: 1em; margin-left: 0px; '>AOS Closed loop script faulted with a timeout error. Sal index 301046</pre>\n"
      ],
      "text/plain": [
       "<IPython.core.display.Markdown object>"
      ]
     },
     "metadata": {},
     "output_type": "display_data"
    },
    {
     "data": {
      "text/markdown": [
       "- **2024-11-21 00:20**   **MainTel** \n",
       "\n",
       "<pre style='color: black; background-color: white; font-size: 1em; margin-left: 0px; '>We are now running closed loop comcam.</pre>\n"
      ],
      "text/plain": [
       "<IPython.core.display.Markdown object>"
      ]
     },
     "metadata": {},
     "output_type": "display_data"
    },
    {
     "data": {
      "text/markdown": [
       "- **2024-11-21 00:19**   **MainTel** \n",
       "\n",
       "<pre style='color: black; background-color: white; font-size: 1em; margin-left: 0px; '>When getting this image, we realized that the LaserTracker was powered on. I put LaserTracker to StandBy and powered it off via PDU. We should be ready to go now.</pre>\n"
      ],
      "text/plain": [
       "<IPython.core.display.Markdown object>"
      ]
     },
     "metadata": {},
     "output_type": "display_data"
    },
    {
     "data": {
      "text/markdown": [
       "- **2024-11-21 00:18**   **MainTel** \n",
       "\n",
       "<pre style='color: black; background-color: white; font-size: 1em; margin-left: 0px; '>Turning off the laser now</pre>\n"
      ],
      "text/plain": [
       "<IPython.core.display.Markdown object>"
      ]
     },
     "metadata": {},
     "output_type": "display_data"
    },
    {
     "data": {
      "text/markdown": [
       "- **2024-11-21 00:17**   **MainTel** \n",
       "\n",
       "<pre style='color: black; background-color: white; font-size: 1em; margin-left: 0px; '>We forgot to turn off the laser.</pre>\n"
      ],
      "text/plain": [
       "<IPython.core.display.Markdown object>"
      ]
     },
     "metadata": {},
     "output_type": "display_data"
    },
    {
     "data": {
      "text/markdown": [
       "- **2024-11-21 00:16**   **MainTel** \n",
       "\n",
       "<pre style='color: black; background-color: white; font-size: 1em; margin-left: 0px; '>We are now starting BLOCK-T249.\r\n",
       "The telescope is already tracking. So we will start by taking an image first.</pre>\n"
      ],
      "text/plain": [
       "<IPython.core.display.Markdown object>"
      ]
     },
     "metadata": {},
     "output_type": "display_data"
    },
    {
     "data": {
      "text/markdown": [
       "- **2024-11-21 00:10**\n",
       "\n",
       "<pre style='color: black; background-color: white; font-size: 1em; margin-left: 0px; '>Still taking i-band twilight flats but switching to rotator = 30 deg</pre>\n"
      ],
      "text/plain": [
       "<IPython.core.display.Markdown object>"
      ]
     },
     "metadata": {},
     "output_type": "display_data"
    },
    {
     "data": {
      "text/markdown": [
       "- **2024-11-21 23:50**   **MainTel** \n",
       "\n",
       "<pre style='color: black; background-color: white; font-size: 1em; margin-left: 0px; '>Disable MtM2, MTM1M3, Hexapod1,2, rotator, MTM1M3TS etc. to get telemetry to monitor.</pre>\n"
      ],
      "text/plain": [
       "<IPython.core.display.Markdown object>"
      ]
     },
     "metadata": {},
     "output_type": "display_data"
    },
    {
     "data": {
      "text/markdown": [
       "- **2024-11-21 23:49**   **MainTel** \n",
       "\n",
       "<pre style='color: black; background-color: white; font-size: 1em; margin-left: 0px; '>Still need to support Franco C. Robinson was resetting all the cabinet. He still needs to work on it.</pre>\n"
      ],
      "text/plain": [
       "<IPython.core.display.Markdown object>"
      ]
     },
     "metadata": {},
     "output_type": "display_data"
    },
    {
     "data": {
      "text/markdown": [
       "- Link: [OBS-701](https://rubinobs.atlassian.net/browse/OBS-701)"
      ],
      "text/plain": [
       "<IPython.core.display.Markdown object>"
      ]
     },
     "metadata": {},
     "output_type": "display_data"
    },
    {
     "data": {
      "text/markdown": [
       "- **2024-11-21 23:48**   **MainTel** \n",
       "\n",
       "<pre style='color: black; background-color: white; font-size: 1em; margin-left: 0px; '>Will try to MTM2 enabled.</pre>\n"
      ],
      "text/plain": [
       "<IPython.core.display.Markdown object>"
      ]
     },
     "metadata": {},
     "output_type": "display_data"
    },
    {
     "data": {
      "text/markdown": [
       "- **2024-11-21 23:40**   **MainTel** \n",
       "\n",
       "<pre style='color: black; background-color: white; font-size: 1em; margin-left: 0px; '>Robinson cleared up the GIS hard stop. We will recover step by step. First we reset the GIS for M2 and Hexapods (and rotator)</pre>\n"
      ],
      "text/plain": [
       "<IPython.core.display.Markdown object>"
      ]
     },
     "metadata": {},
     "output_type": "display_data"
    },
    {
     "data": {
      "text/markdown": [
       "- **2024-11-21 23:29**   **MainTel** \n",
       "\n",
       "<pre style='color: black; background-color: white; font-size: 1em; margin-left: 0px; '>GIS heartbeat flicker. The same as what happened today.</pre>\n"
      ],
      "text/plain": [
       "<IPython.core.display.Markdown object>"
      ]
     },
     "metadata": {},
     "output_type": "display_data"
    },
    {
     "data": {
      "text/markdown": [
       "- Link: [obs-701](https://rubinobs.atlassian.net/browse/obs-701)"
      ],
      "text/plain": [
       "<IPython.core.display.Markdown object>"
      ]
     },
     "metadata": {},
     "output_type": "display_data"
    },
    {
     "data": {
      "text/markdown": [
       "- **2024-11-21 23:28**   **MainTel** \n",
       "\n",
       "<pre style='color: black; background-color: white; font-size: 1em; margin-left: 0px; '>Hard Stop performed in the OSS and other systems are all fault.   23:23:29.033 21/11/24</pre>\n"
      ],
      "text/plain": [
       "<IPython.core.display.Markdown object>"
      ]
     },
     "metadata": {},
     "output_type": "display_data"
    },
    {
     "data": {
      "text/markdown": [
       "- Link: [obs-701](https://rubinobs.atlassian.net/browse/obs-701)"
      ],
      "text/plain": [
       "<IPython.core.display.Markdown object>"
      ]
     },
     "metadata": {},
     "output_type": "display_data"
    },
    {
     "data": {
      "text/markdown": [
       "- **2024-11-21 23:26**   **MainTel** \n",
       "\n",
       "<pre style='color: black; background-color: white; font-size: 1em; margin-left: 0px; '>(false) hard stop seemed fault almost every system.</pre>\n"
      ],
      "text/plain": [
       "<IPython.core.display.Markdown object>"
      ]
     },
     "metadata": {},
     "output_type": "display_data"
    },
    {
     "data": {
      "text/markdown": [
       "- **2024-11-21 23:20**   **MainTel** \n",
       "\n",
       "<pre style='color: black; background-color: white; font-size: 1em; margin-left: 0px; '>Opening mirror covers</pre>\n"
      ],
      "text/plain": [
       "<IPython.core.display.Markdown object>"
      ]
     },
     "metadata": {},
     "output_type": "display_data"
    },
    {
     "data": {
      "text/markdown": [
       "- **2024-11-21 23:20**   **MainTel** \n",
       "\n",
       "<pre style='color: black; background-color: white; font-size: 1em; margin-left: 0px; '>Enabled dome following</pre>\n"
      ],
      "text/plain": [
       "<IPython.core.display.Markdown object>"
      ]
     },
     "metadata": {},
     "output_type": "display_data"
    },
    {
     "data": {
      "text/markdown": [
       "- **2024-11-21 23:15**   **MainTel** \n",
       "\n",
       "<pre style='color: black; background-color: white; font-size: 1em; margin-left: 0px; '>LaserTracker off at PDU</pre>\n"
      ],
      "text/plain": [
       "<IPython.core.display.Markdown object>"
      ]
     },
     "metadata": {},
     "output_type": "display_data"
    },
    {
     "data": {
      "text/markdown": [
       "- **2024-11-21 23:15**   **MainTel** \n",
       "\n",
       "<pre style='color: black; background-color: white; font-size: 1em; margin-left: 0px; '>Checked out AOS sequence PAIR mode to obsenv. Reloaded schema to pick up new mode.</pre>\n"
      ],
      "text/plain": [
       "<IPython.core.display.Markdown object>"
      ]
     },
     "metadata": {},
     "output_type": "display_data"
    },
    {
     "data": {
      "text/markdown": [
       "- **2024-11-21 23:12**   **MainTel** \n",
       "\n",
       "<pre style='color: black; background-color: white; font-size: 1em; margin-left: 0px; '>run_command for close_mirror_cover failed. But seems closed</pre>\n"
      ],
      "text/plain": [
       "<IPython.core.display.Markdown object>"
      ]
     },
     "metadata": {},
     "output_type": "display_data"
    },
    {
     "data": {
      "text/markdown": [
       "- **2024-11-21 23:12**   **MainTel** \n",
       "\n",
       "<pre style='color: black; background-color: white; font-size: 1em; margin-left: 0px; '>Mirror covers closing. HVAC off, preparing to open shutter</pre>\n"
      ],
      "text/plain": [
       "<IPython.core.display.Markdown object>"
      ]
     },
     "metadata": {},
     "output_type": "display_data"
    },
    {
     "data": {
      "text/markdown": [
       "- **2024-11-21 23:11**   **MainTel** \n",
       "\n",
       "<pre style='color: black; background-color: white; font-size: 1em; margin-left: 0px; '>HVAC configuration is now setup to night time operation with turned on VEC_04 fan.</pre>\n"
      ],
      "text/plain": [
       "<IPython.core.display.Markdown object>"
      ]
     },
     "metadata": {},
     "output_type": "display_data"
    },
    {
     "data": {
      "text/markdown": [
       "- **2024-11-21 23:11**   **MainTel** \n",
       "\n",
       "<pre style='color: black; background-color: white; font-size: 1em; margin-left: 0px; '>T-88 done.</pre>\n"
      ],
      "text/plain": [
       "<IPython.core.display.Markdown object>"
      ]
     },
     "metadata": {},
     "output_type": "display_data"
    },
    {
     "data": {
      "text/markdown": [
       "- **2024-11-21 23:11**   **MainTel** \n",
       "\n",
       "<pre style='color: black; background-color: white; font-size: 1em; margin-left: 0px; '>Then camera alignment thru align.py</pre>\n"
      ],
      "text/plain": [
       "<IPython.core.display.Markdown object>"
      ]
     },
     "metadata": {},
     "output_type": "display_data"
    },
    {
     "data": {
      "text/markdown": [
       "- **2024-11-21 22:56**   **MainTel** \n",
       "\n",
       "<pre style='color: black; background-color: white; font-size: 1em; margin-left: 0px; '>Block-T88. M2 alignment. running align.py</pre>\n"
      ],
      "text/plain": [
       "<IPython.core.display.Markdown object>"
      ]
     },
     "metadata": {},
     "output_type": "display_data"
    },
    {
     "data": {
      "text/markdown": [
       "- **2024-11-21 22:54**   **MainTel** \n",
       "\n",
       "<pre style='color: black; background-color: white; font-size: 1em; margin-left: 0px; '>We are on BLOCK-T245. Looks okay. Enabling scheduler.</pre>\n"
      ],
      "text/plain": [
       "<IPython.core.display.Markdown object>"
      ]
     },
     "metadata": {},
     "output_type": "display_data"
    },
    {
     "data": {
      "text/markdown": [
       "- **2024-11-21 22:51**   **MainTel** \n",
       "\n",
       "<pre style='color: black; background-color: white; font-size: 1em; margin-left: 0px; '>Tracking and then take image comcam for checking out. \r\n",
       "exp_times: 5\r\n",
       "nimages: 3\r\n",
       "image_type: \"ACQ\"\r\n",
       "program: \"BLOCK-T250\"\r\n",
       "reason: \"TMACheckout\"\r\n",
       "filter: \"y_04\"</pre>\n"
      ],
      "text/plain": [
       "<IPython.core.display.Markdown object>"
      ]
     },
     "metadata": {},
     "output_type": "display_data"
    },
    {
     "data": {
      "text/markdown": [
       "\n",
       "\n",
       "salIndex: 301080 while tracking target, MTPtg failed \r\n",
       "2024/11/21 22:48:08 TAI\r\n",
       "\r\n",
       "\r\n",
       "Unexpected exception in stop_tracking.\r\n",
       "<pre style='color: black; background-color: #FFDDDD; font-size: 0.875em; margin-left: 20px; '>Traceback (most recent call last):\r\n",
       "  File &quot;/net/obs-env/auto_base_packages/ts_standardscripts/python/lsst/ts/standardscripts/base_track_target.py&quot;, line 551, in cleanup\r\n",
       "    await asyncio.wait_for(self.tcs.stop_tracking(), timeout=5)\r\n",
       "  File &quot;/opt/lsst/software/stack/conda/envs/lsst-scipipe-9.0.0/lib/python3.11/asyncio/tasks.py&quot;, line 489, in wait_for\r\n",
       "    return fut.result()\r\n",
       "           ^^^^^^^^^^^^\r\n",
       "  File &quot;/net/obs-env/auto_base_packages/ts_observatory_control/python/lsst/ts/observatory/control/base_tcs.py&quot;, line 1304, in stop_tracking\r\n",
       "    await getattr(self.rem, self.ptg_name).cmd_stopTracking.start(\r\n",
       "  File &quot;/opt/lsst/software/stack/conda/envs/lsst-scipipe-9.0.0/lib/python3.11/site-packages/lsst/ts/salobj/topics/remote_command.py&quot;, line 487, in start\r\n",
       "    return await cmd_info.next_ackcmd(timeout=timeout)\r\n",
       "           ^^^^^^^^^^^^^^^^^^^^^^^^^^^^^^^^^^^^^^^^^^^\r\n",
       "  File &quot;/opt/lsst/software/stack/conda/envs/lsst-scipipe-9.0.0/lib/python3.11/site-packages/lsst/ts/salobj/topics/remote_command.py&quot;, line 191, in next_ackcmd\r\n",
       "    raise base.AckError(msg=&quot;Command failed&quot;, ackcmd=ackcmd)\r\n",
       "lsst.ts.salobj.base.AckError: msg=&#x27;Command failed&#x27;, ackcmd=(ackcmd private_seqNum=2065515254, ack=&amp;lt;SalRetCode.CMD_FAILED: -302&amp;gt;, error=6612, result=&#x27;Rejected : command not allowed in current state&#x27;)\r\n",
       "</pre>\n"
      ],
      "text/plain": [
       "<IPython.core.display.Markdown object>"
      ]
     },
     "metadata": {},
     "output_type": "display_data"
    },
    {
     "data": {
      "text/markdown": [
       "- **2024-11-21 22:46**   **MainTel** \n",
       "\n",
       "<pre style='color: black; background-color: white; font-size: 1em; margin-left: 0px; '>TMA checkout. \r\n",
       "track_azel:\r\n",
       "  el: 65\r\n",
       "  az: 135\r\n",
       "rot_value: 0\r\n",
       "rot_type: PhysicalSky\r\n",
       "program: \"BLOCK-T250\"\r\n",
       "reason: \"TMACheckout\"\r\n",
       "ignore:\r\n",
       " - mtdome\r\n",
       " - mtdometrajectory</pre>\n"
      ],
      "text/plain": [
       "<IPython.core.display.Markdown object>"
      ]
     },
     "metadata": {},
     "output_type": "display_data"
    },
    {
     "data": {
      "text/markdown": [
       "- **2024-11-21 22:43**   **MainTel** \n",
       "\n",
       "<pre style='color: black; background-color: white; font-size: 1em; margin-left: 0px; '>Tiago R. updated the scheduler.</pre>\n"
      ],
      "text/plain": [
       "<IPython.core.display.Markdown object>"
      ]
     },
     "metadata": {},
     "output_type": "display_data"
    },
    {
     "data": {
      "text/markdown": [
       "- **2024-11-21 22:39**   **MainTel** \n",
       "\n",
       "<pre style='color: black; background-color: white; font-size: 1em; margin-left: 0px; '>with run_command.py, it works</pre>\n"
      ],
      "text/plain": [
       "<IPython.core.display.Markdown object>"
      ]
     },
     "metadata": {},
     "output_type": "display_data"
    },
    {
     "data": {
      "text/markdown": [
       "\n",
       "\n",
       "2024/11/21 22:36:56 TAI SALINDEX: salIndex: 104934\r\n",
       "\r\n",
       "\r\n",
       "\r\n",
       "\r\n",
       "Error in run\r\n",
       "<pre style='color: black; background-color: #FFDDDD; font-size: 0.875em; margin-left: 20px; '>Traceback (most recent call last):\r\n",
       "  File &quot;/net/obs-env/auto_base_packages/ts_observatory_control/python/lsst/ts/observatory/control/maintel/mtcs.py&quot;, line 967, in open_m1_cover\r\n",
       "    await self.rem.mtmount.cmd_openMirrorCovers.set_start(\r\n",
       "  File &quot;/opt/lsst/software/stack/conda/envs/lsst-scipipe-9.0.0/lib/python3.11/site-packages/lsst/ts/salobj/topics/remote_command.py&quot;, line 416, in set_start\r\n",
       "    return await self.start(timeout=timeout, wait_done=wait_done)\r\n",
       "           ^^^^^^^^^^^^^^^^^^^^^^^^^^^^^^^^^^^^^^^^^^^^^^^^^^^^^^\r\n",
       "  File &quot;/opt/lsst/software/stack/conda/envs/lsst-scipipe-9.0.0/lib/python3.11/site-packages/lsst/ts/salobj/topics/remote_command.py&quot;, line 487, in start\r\n",
       "    return await cmd_info.next_ackcmd(timeout=timeout)\r\n",
       "           ^^^^^^^^^^^^^^^^^^^^^^^^^^^^^^^^^^^^^^^^^^^\r\n",
       "  File &quot;/opt/lsst/software/stack/conda/envs/lsst-scipipe-9.0.0/lib/python3.11/site-packages/lsst/ts/salobj/topics/remote_command.py&quot;, line 191, in next_ackcmd\r\n",
       "    raise base.AckError(msg=&quot;Command failed&quot;, ackcmd=ackcmd)\r\n",
       "lsst.ts.salobj.base.AckError: msg=&#x27;Command failed&#x27;, ackcmd=(ackcmd private_seqNum=1028798034, ack=&amp;lt;SalRetCode.CMD_FAILED: -302&amp;gt;, error=1, result=&#x27;Failed: The commands allowed in DiscreteMove are: Stop\\n\\nNot accepted command: 901&#x27;)\r\n",
       "\r\n",
       "\r\n",
       "During handling of the above exception, another exception occurred:\r\n",
       "\r\n",
       "\r\n",
       "Traceback (most recent call last):\r\n",
       "  File &quot;/opt/lsst/software/stack/conda/envs/lsst-scipipe-9.0.0/lib/python3.11/site-packages/lsst/ts/salobj/base_script.py&quot;, line 631, in do_run\r\n",
       "    await self._run_task\r\n",
       "  File &quot;/net/obs-env/auto_base_packages/ts_standardscripts/python/lsst/ts/standardscripts/maintel/open_mirror_covers.py&quot;, line 66, in run\r\n",
       "    await self.mtcs.open_m1_cover()\r\n",
       "  File &quot;/net/obs-env/auto_base_packages/ts_observatory_control/python/lsst/ts/observatory/control/maintel/mtcs.py&quot;, line 972, in open_m1_cover\r\n",
       "    f&quot;Open mirror cover command failed with {ack.ack!r}::{ack.error}. &quot;\r\n",
       "                                             ^^^^^^^\r\n",
       "AttributeError: &#x27;AckError&#x27; object has no attribute &#x27;ack&#x27;\r\n",
       "</pre>\n"
      ],
      "text/plain": [
       "<IPython.core.display.Markdown object>"
      ]
     },
     "metadata": {},
     "output_type": "display_data"
    },
    {
     "data": {
      "text/markdown": [
       "- Link: [obs-653](https://rubinobs.atlassian.net/browse/obs-653)"
      ],
      "text/plain": [
       "<IPython.core.display.Markdown object>"
      ]
     },
     "metadata": {},
     "output_type": "display_data"
    },
    {
     "data": {
      "text/markdown": [
       "- **2024-11-21 22:37**   **MainTel** \n",
       "\n",
       "<pre style='color: black; background-color: white; font-size: 1em; margin-left: 0px; '>open_mirror_cover failed.</pre>\n"
      ],
      "text/plain": [
       "<IPython.core.display.Markdown object>"
      ]
     },
     "metadata": {},
     "output_type": "display_data"
    },
    {
     "data": {
      "text/markdown": [
       "- Link: [obs-662](https://rubinobs.atlassian.net/browse/obs-662)"
      ],
      "text/plain": [
       "<IPython.core.display.Markdown object>"
      ]
     },
     "metadata": {},
     "output_type": "display_data"
    },
    {
     "data": {
      "text/markdown": [
       "- **2024-11-21 22:31**   **MainTel** \n",
       "\n",
       "<pre style='color: black; background-color: white; font-size: 1em; margin-left: 0px; '>Home both axes then will enable hardpoint correction.</pre>\n"
      ],
      "text/plain": [
       "<IPython.core.display.Markdown object>"
      ]
     },
     "metadata": {},
     "output_type": "display_data"
    },
    {
     "data": {
      "text/markdown": [
       "- **2024-11-21 22:31**   **MainTel** \n",
       "\n",
       "<pre style='color: black; background-color: white; font-size: 1em; margin-left: 0px; '>Failed to enable MTMount but elevation failed.</pre>\n"
      ],
      "text/plain": [
       "<IPython.core.display.Markdown object>"
      ]
     },
     "metadata": {},
     "output_type": "display_data"
    },
    {
     "data": {
      "text/markdown": [
       "- **2024-11-21 22:27**   **MainTel** \n",
       "\n",
       "<pre style='color: black; background-color: white; font-size: 1em; margin-left: 0px; '>Changed to 10% without parking!</pre>\n"
      ],
      "text/plain": [
       "<IPython.core.display.Markdown object>"
      ]
     },
     "metadata": {},
     "output_type": "display_data"
    },
    {
     "data": {
      "text/markdown": [
       "- **2024-11-21 22:22**   **MainTel** \n",
       "\n",
       "<pre style='color: black; background-color: white; font-size: 1em; margin-left: 0px; '>We are on the parking set. Will move down to 80 deg. and move in Az to check.</pre>\n"
      ],
      "text/plain": [
       "<IPython.core.display.Markdown object>"
      ]
     },
     "metadata": {},
     "output_type": "display_data"
    },
    {
     "data": {
      "text/markdown": [
       "- **2024-11-21 22:20**   **MainTel** \n",
       "\n",
       "<pre style='color: black; background-color: white; font-size: 1em; margin-left: 0px; '>Will unpark the telescope. First free the locking pins.</pre>\n"
      ],
      "text/plain": [
       "<IPython.core.display.Markdown object>"
      ]
     },
     "metadata": {},
     "output_type": "display_data"
    },
    {
     "data": {
      "text/markdown": [
       "- **2024-11-21 22:20**   **MainTel** \n",
       "\n",
       "<pre style='color: black; background-color: white; font-size: 1em; margin-left: 0px; '>Oh, locking pins are engaged. When it stopped the resetting, will disengage the locking pins.</pre>\n"
      ],
      "text/plain": [
       "<IPython.core.display.Markdown object>"
      ]
     },
     "metadata": {},
     "output_type": "display_data"
    },
    {
     "data": {
      "text/markdown": [
       "- **2024-11-21 21:15**   **MainTel** \n",
       "\n",
       "<pre style='color: black; background-color: white; font-size: 1em; margin-left: 0px; '>Warm up cam hex also done.</pre>\n"
      ],
      "text/plain": [
       "<IPython.core.display.Markdown object>"
      ]
     },
     "metadata": {},
     "output_type": "display_data"
    },
    {
     "data": {
      "text/markdown": [
       "- **2024-11-21 21:12**   **MainTel** \n",
       "\n",
       "<pre style='color: black; background-color: white; font-size: 1em; margin-left: 0px; '>We will go to have a dinner soon. Cam hex warming up will run while we are there.</pre>\n"
      ],
      "text/plain": [
       "<IPython.core.display.Markdown object>"
      ]
     },
     "metadata": {},
     "output_type": "display_data"
    },
    {
     "data": {
      "text/markdown": [
       "- **2024-11-21 21:08**   **MainTel** \n",
       "\n",
       "<pre style='color: black; background-color: white; font-size: 1em; margin-left: 0px; '>Warm up hexapod for Cam hex is running.</pre>\n"
      ],
      "text/plain": [
       "<IPython.core.display.Markdown object>"
      ]
     },
     "metadata": {},
     "output_type": "display_data"
    },
    {
     "data": {
      "text/markdown": [
       "- **2024-11-21 21:06**   **MainTel** \n",
       "\n",
       "<pre style='color: black; background-color: white; font-size: 1em; margin-left: 0px; '>Warmup hexapod for M2 is done. Will disable M2 hexapod.</pre>\n"
      ],
      "text/plain": [
       "<IPython.core.display.Markdown object>"
      ]
     },
     "metadata": {},
     "output_type": "display_data"
    },
    {
     "data": {
      "text/markdown": [
       "- **2024-11-21 21:05**   **MainTel** \n",
       "\n",
       "<pre style='color: black; background-color: white; font-size: 1em; margin-left: 0px; '>Raising M1M3!</pre>\n"
      ],
      "text/plain": [
       "<IPython.core.display.Markdown object>"
      ]
     },
     "metadata": {},
     "output_type": "display_data"
    },
    {
     "data": {
      "text/markdown": [
       "- **2024-11-21 21:04**   **MainTel** \n",
       "\n",
       "<pre style='color: black; background-color: white; font-size: 1em; margin-left: 0px; '>Kevin F. pulhed the ts_config_mttcs and then reenable LaserTraker1.</pre>\n"
      ],
      "text/plain": [
       "<IPython.core.display.Markdown object>"
      ]
     },
     "metadata": {},
     "output_type": "display_data"
    },
    {
     "data": {
      "text/markdown": [
       "- **2024-11-21 21:01**   **MainTel** \n",
       "\n",
       "<pre style='color: black; background-color: white; font-size: 1em; margin-left: 0px; '>Pulled update to mttcs for MTAOS CSC. CSC is in standby.</pre>\n"
      ],
      "text/plain": [
       "<IPython.core.display.Markdown object>"
      ]
     },
     "metadata": {},
     "output_type": "display_data"
    },
    {
     "data": {
      "text/markdown": [
       "- **2024-11-21 21:01**   **MainTel** \n",
       "\n",
       "<pre style='color: black; background-color: white; font-size: 1em; margin-left: 0px; '>It didn't work. Guillem MH restarted TS2SA.</pre>\n"
      ],
      "text/plain": [
       "<IPython.core.display.Markdown object>"
      ]
     },
     "metadata": {},
     "output_type": "display_data"
    },
    {
     "data": {
      "text/markdown": [
       "- **2024-11-21 20:57**   **MainTel** \n",
       "\n",
       "<pre style='color: black; background-color: white; font-size: 1em; margin-left: 0px; '>LaserTracker1 enabled.</pre>\n"
      ],
      "text/plain": [
       "<IPython.core.display.Markdown object>"
      ]
     },
     "metadata": {},
     "output_type": "display_data"
    },
    {
     "data": {
      "text/markdown": [
       "- **2024-11-21 20:53**   **MainTel** \n",
       "\n",
       "<pre style='color: black; background-color: white; font-size: 1em; margin-left: 0px; '>Per guillem's request, turning on the Lasertracker PDU.</pre>\n"
      ],
      "text/plain": [
       "<IPython.core.display.Markdown object>"
      ]
     },
     "metadata": {},
     "output_type": "display_data"
    },
    {
     "data": {
      "text/markdown": [
       "- **2024-11-21 20:30**   **MainTel** \n",
       "\n",
       "<pre style='color: black; background-color: white; font-size: 1em; margin-left: 0px; '>Runing BLOCK-T3, warming up for M2 hexapod. It seems working this time.</pre>\n"
      ],
      "text/plain": [
       "<IPython.core.display.Markdown object>"
      ]
     },
     "metadata": {},
     "output_type": "display_data"
    },
    {
     "data": {
      "text/markdown": [
       "- **2024-11-21 20:29**   **MainTel** \n",
       "\n",
       "<pre style='color: black; background-color: white; font-size: 1em; margin-left: 0px; '>Te-wei roll-backed the hexapod controller versions. The fix of controller's state machine breaks the CSC inPosition event.</pre>\n"
      ],
      "text/plain": [
       "<IPython.core.display.Markdown object>"
      ]
     },
     "metadata": {},
     "output_type": "display_data"
    },
    {
     "data": {
      "text/markdown": [
       "- **2024-11-21 20:20**   **MainTel** \n",
       "\n",
       "<pre style='color: black; background-color: white; font-size: 1em; margin-left: 0px; '>Petr turned on FCU around 3:30 pm (which was off after GIS activation today).</pre>\n"
      ],
      "text/plain": [
       "<IPython.core.display.Markdown object>"
      ]
     },
     "metadata": {},
     "output_type": "display_data"
    },
    {
     "data": {
      "text/markdown": [
       "- **2024-11-21 20:17**   **MainTel** \n",
       "\n",
       "<pre style='color: black; background-color: white; font-size: 1em; margin-left: 0px; '>HVAC setpoint is changed to 9C. Will re-evaluate that after dinner time.</pre>\n"
      ],
      "text/plain": [
       "<IPython.core.display.Markdown object>"
      ]
     },
     "metadata": {},
     "output_type": "display_data"
    },
    {
     "data": {
      "text/markdown": [
       "- **2024-11-21 20:09**   **MainTel** \n",
       "\n",
       "<pre style='color: black; background-color: white; font-size: 1em; margin-left: 0px; '>Te-wei will add some test result on OBS-702 and then will decide whether roll-back the update or not.</pre>\n"
      ],
      "text/plain": [
       "<IPython.core.display.Markdown object>"
      ]
     },
     "metadata": {},
     "output_type": "display_data"
    },
    {
     "data": {
      "text/markdown": [
       "- **2024-11-21 20:00**   **MainTel** \n",
       "\n",
       "<pre style='color: black; background-color: white; font-size: 1em; margin-left: 0px; '>Starting check_hardpoint.</pre>\n"
      ],
      "text/plain": [
       "<IPython.core.display.Markdown object>"
      ]
     },
     "metadata": {},
     "output_type": "display_data"
    },
    {
     "data": {
      "text/markdown": [
       "- **2024-11-21 20:00**   **MainTel** \n",
       "\n",
       "<pre style='color: black; background-color: white; font-size: 1em; margin-left: 0px; '>After retest 409 is failing and 227 is failing. 227 looks OK, 409 is not functional on the yForces.Will start hardpoint test, but likely we need to valve off and disable 409. I think we will be able to operate with it disabled. and a (slightly) marginal 227 undershooting on the primary.</pre>\n"
      ],
      "text/plain": [
       "<IPython.core.display.Markdown object>"
      ]
     },
     "metadata": {},
     "output_type": "display_data"
    },
    {
     "data": {
      "text/markdown": [
       "- **2024-11-21 19:49**   **MainTel** \n",
       "\n",
       "<pre style='color: black; background-color: white; font-size: 1em; margin-left: 0px; '>Initially failing actuator list:\r\n",
       "  - Actuator ID 104: Pri Index 3\r\n",
       "  - Actuator ID 227: Pri Index 61\r\n",
       "  - Actuator ID 409: Pri Index 123</pre>\n"
      ],
      "text/plain": [
       "<IPython.core.display.Markdown object>"
      ]
     },
     "metadata": {},
     "output_type": "display_data"
    },
    {
     "data": {
      "text/markdown": [
       "- **2024-11-21 19:25**   **MainTel** \n",
       "\n",
       "<pre style='color: black; background-color: white; font-size: 1em; margin-left: 0px; '>Not sure hexapods are inposition. We need to ignore the flag to track_target etc for night operation. Kevin F. announce in simonyi channel.</pre>\n"
      ],
      "text/plain": [
       "<IPython.core.display.Markdown object>"
      ]
     },
     "metadata": {},
     "output_type": "display_data"
    },
    {
     "data": {
      "text/markdown": [
       "- **2024-11-21 19:08**   **MainTel** \n",
       "\n",
       "<pre style='color: black; background-color: white; font-size: 1em; margin-left: 0px; '>Turning on PS.</pre>\n"
      ],
      "text/plain": [
       "<IPython.core.display.Markdown object>"
      ]
     },
     "metadata": {},
     "output_type": "display_data"
    },
    {
     "data": {
      "text/markdown": [
       "- **2024-11-21 19:06**   **MainTel** \n",
       "\n",
       "<pre style='color: black; background-color: white; font-size: 1em; margin-left: 0px; '>Increasing sleep time to 100 sec doesn't work.</pre>\n"
      ],
      "text/plain": [
       "<IPython.core.display.Markdown object>"
      ]
     },
     "metadata": {},
     "output_type": "display_data"
    },
    {
     "data": {
      "text/markdown": [
       "- **2024-11-21 19:01**   **MainTel** \n",
       "\n",
       "<pre style='color: black; background-color: white; font-size: 1em; margin-left: 0px; '>warmup_hexapod with \r\n",
       "hexapod: m2\r\n",
       "axis: x\r\n",
       "step_size: 125\r\n",
       "max_position: 4500\r\n",
       "sleep_time: 30</pre>\n"
      ],
      "text/plain": [
       "<IPython.core.display.Markdown object>"
      ]
     },
     "metadata": {},
     "output_type": "display_data"
    },
    {
     "data": {
      "text/markdown": [
       "- **2024-11-21 18:57**   **MainTel** \n",
       "\n",
       "<pre style='color: black; background-color: white; font-size: 1em; margin-left: 0px; '>Run BLOCK-T3 for warming up hexapod. Checking.</pre>\n"
      ],
      "text/plain": [
       "<IPython.core.display.Markdown object>"
      ]
     },
     "metadata": {},
     "output_type": "display_data"
    },
    {
     "data": {
      "text/markdown": [
       "- **2024-11-21 18:56**   **MainTel** \n",
       "\n",
       "<pre style='color: black; background-color: white; font-size: 1em; margin-left: 0px; '>We were turning on the OSS. 15:33 pm CLT/18:33pm UTC</pre>\n"
      ],
      "text/plain": [
       "<IPython.core.display.Markdown object>"
      ]
     },
     "metadata": {},
     "output_type": "display_data"
    },
    {
     "data": {
      "text/markdown": [
       "- **2024-11-21 18:42**   **MainTel** \n",
       "\n",
       "<pre style='color: black; background-color: white; font-size: 1em; margin-left: 0px; '>Starting BLOCK-T144, M1M3 bump test</pre>\n"
      ],
      "text/plain": [
       "<IPython.core.display.Markdown object>"
      ]
     },
     "metadata": {},
     "output_type": "display_data"
    },
    {
     "data": {
      "text/markdown": [
       "- **2024-11-21 18:39**   **MainTel** \n",
       "\n",
       "<pre style='color: black; background-color: white; font-size: 1em; margin-left: 0px; '>run_command.py for both hexapods for x:250 and it worked for both axes. Maybe timeout issue from warmup_hexapod.py issue.</pre>\n"
      ],
      "text/plain": [
       "<IPython.core.display.Markdown object>"
      ]
     },
     "metadata": {},
     "output_type": "display_data"
    },
    {
     "data": {
      "text/markdown": [
       "- **2024-11-21 18:16**   **MainTel** \n",
       "\n",
       "<pre style='color: black; background-color: white; font-size: 1em; margin-left: 0px; '>No failed again. Will try the Cam hexa for next.</pre>\n"
      ],
      "text/plain": [
       "<IPython.core.display.Markdown object>"
      ]
     },
     "metadata": {},
     "output_type": "display_data"
    },
    {
     "data": {
      "text/markdown": [
       "- **2024-11-21 18:15**   **MainTel** \n",
       "\n",
       "<pre style='color: black; background-color: white; font-size: 1em; margin-left: 0px; '>TMA lost the heartbeat but recovered. \r\n",
       "Closing the mirror cover now.</pre>\n"
      ],
      "text/plain": [
       "<IPython.core.display.Markdown object>"
      ]
     },
     "metadata": {},
     "output_type": "display_data"
    },
    {
     "data": {
      "text/markdown": [
       "- **2024-11-21 18:15**   **MainTel** \n",
       "\n",
       "<pre style='color: black; background-color: white; font-size: 1em; margin-left: 0px; '>Rerun for BLOCK-T3 M2 hexapod.</pre>\n"
      ],
      "text/plain": [
       "<IPython.core.display.Markdown object>"
      ]
     },
     "metadata": {},
     "output_type": "display_data"
    },
    {
     "data": {
      "text/markdown": [
       "- **2024-11-21 18:14**   **MainTel** \n",
       "\n",
       "<pre style='color: black; background-color: white; font-size: 1em; margin-left: 0px; '>Franco said the GIS is cleared. Door is still opened.</pre>\n"
      ],
      "text/plain": [
       "<IPython.core.display.Markdown object>"
      ]
     },
     "metadata": {},
     "output_type": "display_data"
    },
    {
     "data": {
      "text/markdown": [
       "\n",
       "\n",
       "We found that there is Safety Modbus Server Error  17:41:52.438 21/11/24 code 66 system Safety Task. \r\n",
       "VI chain: ??? in SubVIs.lvlib:TCP Master.lvclass:Protocol Write.vi:6190001-&gt;SubVIs.lvlib:IP Data Unit.lvclass:Write ADU Packet.vi:1820001-&gt;Modbus Master.lvclass:Read Holding Registers.vi:2420001-&gt;ModbusServer.lvclass:UpdateModbusData.vi:3110003-&gt;ModbusServer.lvclass:HelperLoop.vi:190002-&gt;ModbusServer.lvclass:Process.vi:5310001 Description: LabVIEW: (Hex 0x42) The network connection was closed by the peer. If you are using the Open VI Reference function on a remote VI Server connection, verify that the machine is allowed access by selecting &lt;b&gt;Tools&gt;&gt;Options&gt;&gt;VI Server&lt;/b&gt; on the server side.\r\n",
       "\r\n",
       "\r\n",
       "Then 17:41:52.743 21/11/24\r\n",
       "VI chain:  Description: LabVIEW: (Hex 0x0) Error connecting to GPIB driver or device. The NI-488.2 driver may not be installed.<br>=========================<br>VISA:  (Hex 0x0) Operation completed successfully.\r\n",
       "\n"
      ],
      "text/plain": [
       "<IPython.core.display.Markdown object>"
      ]
     },
     "metadata": {},
     "output_type": "display_data"
    },
    {
     "data": {
      "text/markdown": [
       "- Link: [obs-701](https://rubinobs.atlassian.net/browse/obs-701)"
      ],
      "text/plain": [
       "<IPython.core.display.Markdown object>"
      ]
     },
     "metadata": {},
     "output_type": "display_data"
    },
    {
     "data": {
      "text/markdown": [
       "- **2024-11-21 17:51**   **MainTel** \n",
       "\n",
       "<pre style='color: black; background-color: white; font-size: 1em; margin-left: 0px; '>Te-Wei used the hexapod GUIs to test the movements of the camera and M2 hexapods already. It worked well. \r\n",
       "However really-E-stop seems engagled \r\n",
       "On TMA EUI hardstop 1 & 2 topple block LS1 seems activated.</pre>\n"
      ],
      "text/plain": [
       "<IPython.core.display.Markdown object>"
      ]
     },
     "metadata": {},
     "output_type": "display_data"
    },
    {
     "data": {
      "text/markdown": [
       "- **2024-11-21 17:45**   **MainTel** \n",
       "\n",
       "<pre style='color: black; background-color: white; font-size: 1em; margin-left: 0px; '>Found that we lost GIS heartbeat. Kevin F. is going to hit the GIS.</pre>\n"
      ],
      "text/plain": [
       "<IPython.core.display.Markdown object>"
      ]
     },
     "metadata": {},
     "output_type": "display_data"
    },
    {
     "data": {
      "text/markdown": [
       "- **2024-11-21 17:43**   **MainTel** \n",
       "\n",
       "<pre style='color: black; background-color: white; font-size: 1em; margin-left: 0px; '>Salindex:104906. warmup_hexapod fault ActuallyGIS Emergency stop.</pre>\n"
      ],
      "text/plain": [
       "<IPython.core.display.Markdown object>"
      ]
     },
     "metadata": {},
     "output_type": "display_data"
    },
    {
     "data": {
      "text/markdown": [
       "- **2024-11-21 17:42**   **MainTel** \n",
       "\n",
       "<pre style='color: black; background-color: white; font-size: 1em; margin-left: 0px; '>Running cam Hex warming. But even Hexapod1 and Hexapod2.</pre>\n"
      ],
      "text/plain": [
       "<IPython.core.display.Markdown object>"
      ]
     },
     "metadata": {},
     "output_type": "display_data"
    },
    {
     "data": {
      "text/markdown": [
       "- **2024-11-21 17:40**   **MainTel** \n",
       "\n",
       "<pre style='color: black; background-color: white; font-size: 1em; margin-left: 0px; '>salIndex: 104897 Started at: 2024-11-21T17:38:24.829Z\r\n",
       "\r\n",
       "\r\n",
       "warmup_hexapod.py failed waiting for in position event. either not moving of not sending events.</pre>\n"
      ],
      "text/plain": [
       "<IPython.core.display.Markdown object>"
      ]
     },
     "metadata": {},
     "output_type": "display_data"
    },
    {
     "data": {
      "text/markdown": [
       "- **2024-11-21 17:38**   **MainTel** \n",
       "\n",
       "<pre style='color: black; background-color: white; font-size: 1em; margin-left: 0px; '>Just re-run the block. Will see if there is any issue.</pre>\n"
      ],
      "text/plain": [
       "<IPython.core.display.Markdown object>"
      ]
     },
     "metadata": {},
     "output_type": "display_data"
    },
    {
     "data": {
      "text/markdown": [
       "- **2024-11-21 17:36**   **MainTel** \n",
       "\n",
       "<pre style='color: black; background-color: white; font-size: 1em; margin-left: 0px; '>salIndex: 104888  - Started at: 2024-11-21T17:33:53.915Z\r\n",
       "Warmup_hexapod.py failed and timeout. \r\n",
       "  File \"/opt/lsst/software/stack/conda/envs/lsst-scipipe-9.0.0/lib/python3.11/asyncio/tasks.py\", line 502, in wait_for\r\n",
       "    raise exceptions.TimeoutError() from exc\r\n",
       "TimeoutError</pre>\n"
      ],
      "text/plain": [
       "<IPython.core.display.Markdown object>"
      ]
     },
     "metadata": {},
     "output_type": "display_data"
    },
    {
     "data": {
      "text/markdown": [
       "- **2024-11-21 17:33**   **MainTel** \n",
       "\n",
       "<pre style='color: black; background-color: white; font-size: 1em; margin-left: 0px; '>Start warm-up M2 hexapod.</pre>\n"
      ],
      "text/plain": [
       "<IPython.core.display.Markdown object>"
      ]
     },
     "metadata": {},
     "output_type": "display_data"
    },
    {
     "data": {
      "text/markdown": [
       "- **2024-11-21 17:31**   **MainTel** \n",
       "\n",
       "<pre style='color: black; background-color: white; font-size: 1em; margin-left: 0px; '>Hexapod test from Te-wei is done. Will start warm-up hexapods.</pre>\n"
      ],
      "text/plain": [
       "<IPython.core.display.Markdown object>"
      ]
     },
     "metadata": {},
     "output_type": "display_data"
    },
    {
     "data": {
      "text/markdown": [
       "- **2024-11-21 17:30**   **MainTel** \n",
       "\n",
       "<pre style='color: black; background-color: white; font-size: 1em; margin-left: 0px; '>Mirror cover is still opened by Daycrew (Ian announced it this morning).</pre>\n"
      ],
      "text/plain": [
       "<IPython.core.display.Markdown object>"
      ]
     },
     "metadata": {},
     "output_type": "display_data"
    },
    {
     "data": {
      "text/markdown": [
       "- **2024-11-21 17:06**   **MainTel** \n",
       "\n",
       "<pre style='color: black; background-color: white; font-size: 1em; margin-left: 0px; '>Start warming up M2 and Camera hexpod. \r\n",
       "02:05 we stop the warming up as Te-wei need to clearError.</pre>\n"
      ],
      "text/plain": [
       "<IPython.core.display.Markdown object>"
      ]
     },
     "metadata": {},
     "output_type": "display_data"
    },
    {
     "data": {
      "text/markdown": [
       "- **2024-11-21 16:54**   **MainTel** \n",
       "\n",
       "<pre style='color: black; background-color: white; font-size: 1em; margin-left: 0px; '>Start Powering on the Camera Rotator.</pre>\n"
      ],
      "text/plain": [
       "<IPython.core.display.Markdown object>"
      ]
     },
     "metadata": {},
     "output_type": "display_data"
    },
    {
     "data": {
      "text/markdown": [
       "- **2024-11-21 16:08**   **MainTel** \n",
       "\n",
       "<pre style='color: black; background-color: white; font-size: 1em; margin-left: 0px; '>Done for Comcam checkout. Rubin TV and CCS are showing the image</pre>\n"
      ],
      "text/plain": [
       "<IPython.core.display.Markdown object>"
      ]
     },
     "metadata": {},
     "output_type": "display_data"
    },
    {
     "data": {
      "text/markdown": [
       "- **2024-11-21 16:04**   **MainTel** \n",
       "\n",
       "<pre style='color: black; background-color: white; font-size: 1em; margin-left: 0px; '>BLOCK-T246 Comcam USDF checkout running. Checking Comcam is ready for today's operation.</pre>\n"
      ],
      "text/plain": [
       "<IPython.core.display.Markdown object>"
      ]
     },
     "metadata": {},
     "output_type": "display_data"
    },
    {
     "data": {
      "text/markdown": [
       "- **2024-11-21 16:02**   **MainTel** \n",
       "\n",
       "<pre style='color: black; background-color: white; font-size: 1em; margin-left: 0px; '>Around 8-9pm, 9.8C is expected. Current set point is 8C so we are good</pre>\n"
      ],
      "text/plain": [
       "<IPython.core.display.Markdown object>"
      ]
     },
     "metadata": {},
     "output_type": "display_data"
    },
    {
     "data": {
      "text/markdown": [
       "- **2024-11-21 15:08**   **MainTel** \n",
       "\n",
       "<pre style='color: black; background-color: white; font-size: 1em; margin-left: 0px; '>Daytime observers start shift.</pre>\n"
      ],
      "text/plain": [
       "<IPython.core.display.Markdown object>"
      ]
     },
     "metadata": {},
     "output_type": "display_data"
    }
   ],
   "source": [
    "# Narrative Report\n",
    "# Time Log\n",
    "allrep.nar_rep.time_log_as_markdown()"
   ]
  },
  {
   "cell_type": "markdown",
   "id": "27",
   "metadata": {},
   "source": [
    "-----------\n",
    "------------"
   ]
  },
  {
   "cell_type": "markdown",
   "id": "cd0567ce-4ae9-428e-8f9d-df8277511392",
   "metadata": {},
   "source": [
    "# Developer Only Section <font style=\"background-color:red; olor:black; font-size:20px\">REMOVE</font>\n",
    "Contains stuff only expected to be useful to developers.\n",
    "\n",
    "This may also contain sections that have moved out of the user section because they are no longer defined in the Storyboard."
   ]
  },
  {
   "cell_type": "markdown",
   "id": "34",
   "metadata": {},
   "source": [
    "## Overview \n"
   ]
  },
  {
   "cell_type": "code",
   "execution_count": 16,
   "id": "6e220d29-aac6-4d70-80e2-7dd3ef99944c",
   "metadata": {},
   "outputs": [
    {
     "data": {
      "text/markdown": [
       "## Project-Wide Night(s) Report \n",
       "- Run on logs and databases from **https://usdf-rsp-dev.slac.stanford.edu/**\n",
       "- Report **1 observing night(s)** with the last reported night starting on **2024-11-21 12:00:00**.\n",
       "- min_dayobs='2024-11-21', max_dayobs='2024-11-22'\n",
       "- Using ***Prototype* Logging and Reporting** Version: **52.dev0+g783922c.d20241115**\n",
       "- have_consdb = False\n",
       "- Imported lsst.ts.logging_and_reporting from local packages.\n",
       "- allsrc.nig_src.timeout=(5.05, 20.0)\n"
      ],
      "text/plain": [
       "<IPython.core.display.Markdown object>"
      ]
     },
     "metadata": {},
     "output_type": "display_data"
    }
   ],
   "source": [
    "# Display overview of Report context\n",
    "try:\n",
    "    import lsst.ts.logging_and_reporting.version\n",
    "\n",
    "    lrversion = lsst.ts.logging_and_reporting.version.__version__\n",
    "except:\n",
    "    lrversion = \"LIVE\"\n",
    "\n",
    "try:\n",
    "    from lsst.summit.utils import ConsDbClient\n",
    "\n",
    "    have_consdb = True\n",
    "except:\n",
    "    have_consdb = False\n",
    "md(\n",
    "    f\"\"\"## Project-Wide Night(s) Report \n",
    "- Run on logs and databases from **{server}/**\n",
    "- Report **{days} observing night(s)** with the last reported night starting on **{date}**.\n",
    "- min_dayobs={allsrc.min_dayobs!r}, max_dayobs={allsrc.max_dayobs!r}\n",
    "- Using ***Prototype* Logging and Reporting** Version: **{lrversion}**\n",
    "- {have_consdb = }\n",
    "- {dev_msg}\n",
    "- {allsrc.nig_src.timeout=}\n",
    "\"\"\")"
   ]
  },
  {
   "cell_type": "markdown",
   "id": "47ef40d3-f6d4-4b6a-80bf-55a613d3f884",
   "metadata": {},
   "source": [
    "## Data Status\n",
    "This may be useful for diagnosing reports that give unexpected results."
   ]
  },
  {
   "cell_type": "code",
   "execution_count": 17,
   "id": "b076e98a-44a2-437c-9342-a180fe2cd829",
   "metadata": {},
   "outputs": [
    {
     "data": {
      "text/html": [
       "<table border=\"1\" class=\"dataframe\">\n",
       "  <thead>\n",
       "    <tr style=\"text-align: right;\">\n",
       "      <th>Endpoint</th>\n",
       "      <th>Records</th>\n",
       "      <th>URL</th>\n",
       "    </tr>\n",
       "  </thead>\n",
       "  <tbody>\n",
       "    <tr>\n",
       "      <td>nightreport/reports</td>\n",
       "      <td>1</td>\n",
       "      <td><a href=\"https://usdf-rsp-dev.slac.stanford.edu/nightreport/reports?is_human=either&is_valid=true&order_by=-day_obs&offset=0&limit=100&min_day_obs=20241121&max_day_obs=20241122\" target=\"_blank\">https://usdf-rsp-dev.slac.stanford.edu/nightreport/reports?is_human=either&is_valid=true&order_by=-day_obs&offset=0&limit=100&min_day_obs=20241121&max_day_obs=20241122</a></td>\n",
       "    </tr>\n",
       "    <tr>\n",
       "      <td>exposurelog/instruments</td>\n",
       "      <td>3</td>\n",
       "      <td><a href=\"https://usdf-rsp-dev.slac.stanford.edu/exposurelog/instruments\" target=\"_blank\">https://usdf-rsp-dev.slac.stanford.edu/exposurelog/instruments</a></td>\n",
       "    </tr>\n",
       "    <tr>\n",
       "      <td>exposurelog/exposures.LSSTComCamSim</td>\n",
       "      <td>0</td>\n",
       "      <td><a href=\"https://usdf-rsp-dev.slac.stanford.edu/exposurelog/exposures?registry=1&instrument=LSSTComCamSim&order_by=-timespan_end&offset=0&limit=2500&min_day_obs=20241121&max_day_obs=20241122\" target=\"_blank\">https://usdf-rsp-dev.slac.stanford.edu/exposurelog/exposures?registry=1&instrument=LSSTComCamSim&order_by=-timespan_end&offset=0&limit=2500&min_day_obs=20241121&max_day_obs=20241122</a></td>\n",
       "    </tr>\n",
       "    <tr>\n",
       "      <td>exposurelog/exposures.LATISS</td>\n",
       "      <td>0</td>\n",
       "      <td><a href=\"https://usdf-rsp-dev.slac.stanford.edu/exposurelog/exposures?registry=1&instrument=LATISS&order_by=-timespan_end&offset=0&limit=2500&min_day_obs=20241121&max_day_obs=20241122\" target=\"_blank\">https://usdf-rsp-dev.slac.stanford.edu/exposurelog/exposures?registry=1&instrument=LATISS&order_by=-timespan_end&offset=0&limit=2500&min_day_obs=20241121&max_day_obs=20241122</a></td>\n",
       "    </tr>\n",
       "    <tr>\n",
       "      <td>exposurelog/exposures.LSSTComCam</td>\n",
       "      <td>13</td>\n",
       "      <td><a href=\"https://usdf-rsp-dev.slac.stanford.edu/exposurelog/exposures?registry=1&instrument=LSSTComCam&order_by=-timespan_end&offset=0&limit=2500&min_day_obs=20241121&max_day_obs=20241122\" target=\"_blank\">https://usdf-rsp-dev.slac.stanford.edu/exposurelog/exposures?registry=1&instrument=LSSTComCam&order_by=-timespan_end&offset=0&limit=2500&min_day_obs=20241121&max_day_obs=20241122</a></td>\n",
       "    </tr>\n",
       "    <tr>\n",
       "      <td>exposurelog/exposures.LSSTCam</td>\n",
       "      <td>0</td>\n",
       "      <td><a href=\"https://usdf-rsp-dev.slac.stanford.edu/exposurelog/exposures?registry=1&instrument=LSSTCam&order_by=-timespan_end&offset=0&limit=2500&min_day_obs=20241121&max_day_obs=20241122\" target=\"_blank\">https://usdf-rsp-dev.slac.stanford.edu/exposurelog/exposures?registry=1&instrument=LSSTCam&order_by=-timespan_end&offset=0&limit=2500&min_day_obs=20241121&max_day_obs=20241122</a></td>\n",
       "    </tr>\n",
       "    <tr>\n",
       "      <td>exposurelog/messages</td>\n",
       "      <td>0</td>\n",
       "      <td><a href=\"https://usdf-rsp-dev.slac.stanford.edu/exposurelog/messages?is_human=either&is_valid=true&order_by=-day_obs&offset=0&limit=2500&min_day_obs=20241121&max_day_obs=20241122\" target=\"_blank\">https://usdf-rsp-dev.slac.stanford.edu/exposurelog/messages?is_human=either&is_valid=true&order_by=-day_obs&offset=0&limit=2500&min_day_obs=20241121&max_day_obs=20241122</a></td>\n",
       "    </tr>\n",
       "    <tr>\n",
       "      <td>narrativelog/messages</td>\n",
       "      <td>166</td>\n",
       "      <td><a href=\"https://usdf-rsp-dev.slac.stanford.edu/narrativelog/messages?is_human=either&is_valid=true&order_by=-date_added&offset=0&limit=1000&min_date_added=2024-11-21T00%3A00%3A00&max_date_added=2024-11-22T00%3A00%3A00\" target=\"_blank\">https://usdf-rsp-dev.slac.stanford.edu/narrativelog/messages?is_human=either&is_valid=true&order_by=-date_added&offset=0&limit=1000&min_date_added=2024-11-21T00%3A00%3A00&max_date_added=2024-11-22T00%3A00%3A00</a></td>\n",
       "    </tr>\n",
       "    <tr>\n",
       "      <td>efd/targets</td>\n",
       "      <td>0</td>\n",
       "      <td>NA</td>\n",
       "    </tr>\n",
       "  </tbody>\n",
       "</table>"
      ],
      "text/plain": [
       "<IPython.core.display.HTML object>"
      ]
     },
     "metadata": {},
     "output_type": "display_data"
    }
   ],
   "source": [
    "df = pd.DataFrame(allsrc.get_data_status())\n",
    "table = df.to_html(\n",
    "    index=False, \n",
    "    render_links=True,\n",
    "    escape=False)\n",
    "display(HTML(table))"
   ]
  },
  {
   "cell_type": "markdown",
   "id": "37",
   "metadata": {},
   "source": [
    "## This report uses the following data sources\n",
    "- NightReport\n",
    "- Exposurelog\n",
    "- Narrativelog\n",
    "- EFD\n",
    "- ConsDB\n",
    "- (DDV)\n",
    "- (Almanac from Astroplan)"
   ]
  },
  {
   "cell_type": "markdown",
   "id": "40",
   "metadata": {},
   "source": [
    "## Where was this run?\n",
    "\n",
    "The environments that have everything needed to run this page are:\n",
    "\n",
    "    https://summit-lsp.lsst.codes\n",
    "    https://usdf-rsp-dev.slac.stanford.edu\n",
    "\n",
    "However, Times Square does not run on the Summit. It does run on USDF-dev.\n"
   ]
  },
  {
   "cell_type": "markdown",
   "id": "41",
   "metadata": {},
   "source": [
    "## Section overviews moved here"
   ]
  },
  {
   "cell_type": "code",
   "execution_count": 18,
   "id": "42",
   "metadata": {},
   "outputs": [
    {
     "data": {
      "text/markdown": [
       "### Overview for Service: `nightreport` [1]"
      ],
      "text/plain": [
       "<IPython.core.display.Markdown object>"
      ]
     },
     "metadata": {},
     "output_type": "display_data"
    },
    {
     "name": "stdout",
     "output_type": "stream",
     "text": [
      "None\n"
     ]
    },
    {
     "data": {
      "text/markdown": [
       "- Endpoint: https://usdf-rsp-dev.slac.stanford.edu/nightreport/reports?is_human=either&is_valid=true&order_by=-day_obs&offset=0&limit=100&min_day_obs=20241121&max_day_obs=20241122"
      ],
      "text/plain": [
       "<IPython.core.display.Markdown object>"
      ]
     },
     "metadata": {},
     "output_type": "display_data"
    },
    {
     "name": "stdout",
     "output_type": "stream",
     "text": [
      "None\n",
      "- Got 1 records.  \n"
     ]
    },
    {
     "data": {
      "text/markdown": [
       "### Overview for Service: `exposurelog` [0]"
      ],
      "text/plain": [
       "<IPython.core.display.Markdown object>"
      ]
     },
     "metadata": {},
     "output_type": "display_data"
    },
    {
     "name": "stdout",
     "output_type": "stream",
     "text": [
      "None\n"
     ]
    },
    {
     "data": {
      "text/markdown": [
       "- Endpoint: https://usdf-rsp-dev.slac.stanford.edu/exposurelog/messages?is_human=either&is_valid=true&order_by=-day_obs&offset=0&limit=2500&min_day_obs=20241121&max_day_obs=20241122"
      ],
      "text/plain": [
       "<IPython.core.display.Markdown object>"
      ]
     },
     "metadata": {},
     "output_type": "display_data"
    },
    {
     "name": "stdout",
     "output_type": "stream",
     "text": [
      "None\n",
      "- Got 0 records.  \n"
     ]
    },
    {
     "data": {
      "text/markdown": [
       "### Overview for Service: `narrativelog` [166]"
      ],
      "text/plain": [
       "<IPython.core.display.Markdown object>"
      ]
     },
     "metadata": {},
     "output_type": "display_data"
    },
    {
     "name": "stdout",
     "output_type": "stream",
     "text": [
      "None\n"
     ]
    },
    {
     "data": {
      "text/markdown": [
       "- Endpoint: https://usdf-rsp-dev.slac.stanford.edu/narrativelog/messages?is_human=either&is_valid=true&order_by=-date_added&offset=0&limit=1000&min_date_added=2024-11-21T00%3A00%3A00&max_date_added=2024-11-22T00%3A00%3A00"
      ],
      "text/plain": [
       "<IPython.core.display.Markdown object>"
      ]
     },
     "metadata": {},
     "output_type": "display_data"
    },
    {
     "name": "stdout",
     "output_type": "stream",
     "text": [
      "None\n",
      "- Got 166 records.  \n"
     ]
    }
   ],
   "source": [
    "# Night Report Overview\n",
    "allrep.nig_rep.overview()\n",
    "# Exposure Report Overview\n",
    "allrep.exp_rep.overview()\n",
    "# Narrative Report Overview\n",
    "allrep.nar_rep.overview()"
   ]
  },
  {
   "cell_type": "code",
   "execution_count": 19,
   "id": "43",
   "metadata": {},
   "outputs": [],
   "source": [
    "# Conditionally display our current ability to connect to all needed endpoints.\n",
    "if False and not os.environ.get(\"EXTERNAL_INSTANCE_URL\"):\n",
    "    md(\"## Dashboard\")\n",
    "    md(\"(This is not done when running under Times Square.)\")\n",
    "    %run ./dashboard.ipynb"
   ]
  },
  {
   "cell_type": "code",
   "execution_count": 20,
   "id": "24",
   "metadata": {},
   "outputs": [],
   "source": [
    "# Time Log\n",
    "#! allrep.exp_rep.time_log_as_markdown()"
   ]
  },
  {
   "cell_type": "markdown",
   "id": "44",
   "metadata": {},
   "source": [
    "## Finale"
   ]
  },
  {
   "cell_type": "code",
   "execution_count": 21,
   "id": "45",
   "metadata": {},
   "outputs": [
    {
     "name": "stdout",
     "output_type": "stream",
     "text": [
      "Elapsed time (excluding code import): 4.8 seconds\n",
      "Finished 2024-11-21 23:57:28 UTC\n"
     ]
    }
   ],
   "source": [
    "print(f'Elapsed time (excluding code import): {timer.toc:.1f} seconds')\n",
    "print(f\"Finished {str(dt.datetime.now().replace(microsecond=0))} UTC\")"
   ]
  }
 ],
 "metadata": {
  "kernelspec": {
   "display_name": "Python 3 (ipykernel)",
   "language": "python",
   "name": "python3"
  },
  "language_info": {
   "codemirror_mode": {
    "name": "ipython",
    "version": 3
   },
   "file_extension": ".py",
   "mimetype": "text/x-python",
   "name": "python",
   "nbconvert_exporter": "python",
   "pygments_lexer": "ipython3",
   "version": "3.11.10"
  }
 },
 "nbformat": 4,
 "nbformat_minor": 5
}
