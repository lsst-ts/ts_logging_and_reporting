{
 "cells": [
  {
   "cell_type": "markdown",
   "id": "0",
   "metadata": {},
   "source": [
    "# Initialize\n",
    "This section is a developer aid; TODO remove later!\n",
    "*Align with [storyboard Version 15](https://rubinobs.atlassian.net/wiki/pages/viewpage.action?pageId=132612364&pageVersion=15)*"
   ]
  },
  {
   "cell_type": "code",
   "execution_count": 1,
   "id": "1",
   "metadata": {},
   "outputs": [],
   "source": [
    "# Parameters.\n",
    "# Times Square replaces this cell with the user's parameters.\n",
    "\n",
    "# The run-time defaults for all of these parameters are in NightLog.yaml\n",
    "# Under Times Square, the run-time defaults always override values given here.\n",
    "# Values here are used for local tests.\n",
    "\n",
    "# day_obs values: TODAY, YESTERDAY, YYYY-MM-DD\n",
    "# Report on observing nights that start upto but not included this day.\n",
    "#!day_obs = '2024-09-25' # Value to use for local testing (Summit)\n",
    "day_obs = \"2024-09-06\"  # TODO Change to 'YESTERDAY' to test with default before push\n",
    "\n",
    "# Total number of days of data to display (ending on day_obs)\n",
    "number_of_days = \"2\"  # TODO Change to '1' to test with default before push\n",
    "\n",
    "# Experimental Features config\n",
    "exp_tally = \"false\"    # default: true\n",
    "exp_parsing = \"true\"  # default: true\n",
    "experimental = dict()\n",
    "experimental[\"exposure_type_tally\"] = exp_tally == \"true\"\n",
    "experimental[\"error_parsing\"] = exp_parsing == \"true\""
   ]
  },
  {
   "cell_type": "code",
   "execution_count": 2,
   "id": "2",
   "metadata": {},
   "outputs": [],
   "source": [
    "import datetime as dt\n",
    "import os\n",
    "from collections import defaultdict\n",
    "from pprint import pformat, pp\n",
    "from urllib.parse import urlencode, urlparse\n",
    "import pandas as pd\n",
    "\n",
    "# When running under Times Square, install pkg from github.\n",
    "# Otherwise use what is installed locally (intended to be dev editiable pkg)\n",
    "if os.environ.get(\"EXTERNAL_INSTANCE_URL\"):\n",
    "    print(\n",
    "        'Installing \"lsst.ts.logging_and_reporting\" from github using \"prototype\" branch....'\n",
    "    )\n",
    "    print(\n",
    "        \"TODO: Make the need for this go away by getting Logging_and_Reporting installed in RSP.\"\n",
    "    )\n",
    "    !pip install --upgrade git+https://github.com/lsst-ts/ts_logging_and_reporting.git@prototype > /dev/null 2>&1\n",
    "# import lsst.ts.logging_and_reporting.almanac as alm\n",
    "# import lsst.ts.logging_and_reporting.reports as rep\n",
    "from lsst.ts.logging_and_reporting.all_sources import AllSources\n",
    "from lsst.ts.logging_and_reporting.all_sources import uniform_field_counts\n",
    "from lsst.ts.logging_and_reporting.all_reports import AllReports\n",
    "import lsst.ts.logging_and_reporting.utils as ut\n",
    "from lsst.ts.logging_and_reporting.reports import md, mdlist, mdpathlink"
   ]
  },
  {
   "cell_type": "code",
   "execution_count": 3,
   "id": "3",
   "metadata": {},
   "outputs": [],
   "source": [
    "# Normalize Parameters (both explicit Times Squares params, in implicit ones)\n",
    "limit = 5000  # YAGNI for Auto get more if this isn't enough to get all requested DAYS\n",
    "response_timeout = 3.05  # seconds, how long to wait for connection\n",
    "read_timeout = 20  # seconds\n",
    "timeout = (float(response_timeout), float(read_timeout))\n",
    "\n",
    "date = ut.get_datetime_from_dayobs_str(day_obs)\n",
    "# date:  is EXCLUSIVE (upto, but not including)\n",
    "days = int(number_of_days)\n",
    "\n",
    "# Thus: [min_day_obs,max_day_obs)\n",
    "# Format: string, YYYY-MM-DD\n",
    "min_date = date - dt.timedelta(days=days - 1)\n",
    "max_date = date + dt.timedelta(days=1)\n",
    "min_day_obs = min_date.strftime(\"%Y-%m-%d\")  # Inclusive\n",
    "max_day_obs = max_date.strftime(\"%Y-%m-%d\")  # prep for Exclusive"
   ]
  },
  {
   "cell_type": "code",
   "execution_count": 4,
   "id": "4",
   "metadata": {},
   "outputs": [],
   "source": [
    "# Set default env to \"usdf\" and try before PUSH to repo.\n",
    "summit = \"https://summit-lsp.lsst.codes\"\n",
    "usdf = \"https://usdf-rsp-dev.slac.stanford.edu\"\n",
    "tucson = \"https://tucson-teststand.lsst.codes\"\n",
    "\n",
    "# The default provided here is for local testing.\n",
    "# Under Times Square it is ignored.\n",
    "server = os.environ.get(\n",
    "    \"EXTERNAL_INSTANCE_URL\", summit\n",
    ")  # TODO try with \"usdf\" before push (else \"summit\")"
   ]
  },
  {
   "cell_type": "code",
   "execution_count": 5,
   "id": "5",
   "metadata": {},
   "outputs": [],
   "source": [
    "# Read records from (almost) all sources\n",
    "allsrc = AllSources(\n",
    "    server_url=server,\n",
    "    min_dayobs=min_day_obs,\n",
    "    max_dayobs=max_day_obs,\n",
    "    limit=limit,\n",
    ")\n",
    "allrep = AllReports(allsrc=allsrc)"
   ]
  },
  {
   "cell_type": "markdown",
   "id": "6",
   "metadata": {},
   "source": [
    "<head>\n",
    "<style>\n",
    "code {\n",
    "  font-family: Consolas,\"courier new\";\n",
    "  color: crimson;\n",
    "  background-color: #f1f1f1;\n",
    "  padding: 2px;\n",
    "  font-size: 105%;\n",
    "}\n",
    "</style>\n",
    "</head>"
   ]
  },
  {
   "cell_type": "code",
   "execution_count": 6,
   "id": "7",
   "metadata": {},
   "outputs": [
    {
     "data": {
      "text/markdown": [
       "# Showing data for 2024-09-05 to 2024-09-07 for LSSTComCamSim, LSSTComCam, LATISS"
      ],
      "text/plain": [
       "<IPython.core.display.Markdown object>"
      ]
     },
     "metadata": {},
     "output_type": "display_data"
    }
   ],
   "source": [
    "instrum_str = \", \".join(list(allsrc.exp_src.instruments.keys()))\n",
    "md(f\"# Showing data for {min_date.date()} to {max_date.date()} for {instrum_str}\")"
   ]
  },
  {
   "cell_type": "markdown",
   "id": "8",
   "metadata": {},
   "source": [
    "# Table of Contents\n",
    "* [Night Report](#Night-Report)\n",
    "    - AuxTel\n",
    "    - Simonyi\n",
    "* [Almanac](#almanac)\n",
    "* [Summary plots of whole night](#Summary-Plots)\n",
    "* [Summary Scalars for the night](#Summary-Scalars)\n",
    "* [Jira Tickets](#Jira-Tickets)\n",
    "    - AuxTel\n",
    "    - Simonyi\n",
    "* [BLOCKS Observed](#BLOCKS-Observed)\n",
    "    - AuxTel\n",
    "    - Simonyi\n",
    "* [Exposure Log](#Exposure-Log)\n",
    "    - AuxTel\n",
    "    - Simonyi\n",
    "* [Narrative Log](#Narrative-Log)\n",
    "* [Developer Only](#dev-only)"
   ]
  },
  {
   "cell_type": "markdown",
   "id": "9",
   "metadata": {},
   "source": [
    "## Night Report "
   ]
  },
  {
   "cell_type": "code",
   "execution_count": 7,
   "id": "10",
   "metadata": {},
   "outputs": [
    {
     "data": {
      "text/markdown": [
       "### Telescope: AuxTel"
      ],
      "text/plain": [
       "<IPython.core.display.Markdown object>"
      ]
     },
     "metadata": {},
     "output_type": "display_data"
    },
    {
     "data": {
      "text/markdown": [
       "```\n",
       "AuxTel had a rougher day, as the crew was delayed for the handover due to debugging new cRIO issues. We had a light hiccough with the ATAOS system faulting once, but the checkouts ran well after the team deployed another fix to correct data logging on the cRIO. We vented while waiting for the REB temperature to go down. After dinner, we attempted to take calibrations given the so-so sky quality. The ATWhite lamp CSC faulted, and waiting for the cooling cycle to complete before it could be recovered added about 30 minutes to wait time. The ATmonochromter failed next, and we were drifting into science time. We abandoned attempts of calibrations, and got on sky a bit delayed. ATPtg needed a cycle for the telescope timing issues to be sorted, but after that issue, we observed until 2 am without incident. Mostly seeing below 1.5\", nearly photometric conditions. We closed at 01:45 after finishing TMA testing. Darks and biases left running.\n",
       "```"
      ],
      "text/plain": [
       "<IPython.core.display.Markdown object>"
      ]
     },
     "metadata": {},
     "output_type": "display_data"
    },
    {
     "data": {
      "text/markdown": [
       "Telescope Status: Telescope parked, dome and vents closed. All CSCs in STANBY."
      ],
      "text/plain": [
       "<IPython.core.display.Markdown object>"
      ]
     },
     "metadata": {},
     "output_type": "display_data"
    },
    {
     "data": {
      "text/markdown": [
       "*Authors: Alysha Shugart, Yijung Kang, Bruno Quint, Karla Pena*"
      ],
      "text/plain": [
       "<IPython.core.display.Markdown object>"
      ]
     },
     "metadata": {},
     "output_type": "display_data"
    },
    {
     "data": {
      "text/markdown": [
       "### Telescope: Simonyi"
      ],
      "text/plain": [
       "<IPython.core.display.Markdown object>"
      ]
     },
     "metadata": {},
     "output_type": "display_data"
    },
    {
     "data": {
      "text/markdown": [
       "```\n",
       "In the morning, BLOCK-T62 was executed but just to move the TMA and left to trace the record. TMA was firstly moved to 45º. Since the default values for the EUI might be wrong, we used the EUI to set Acc and Vel manually to 0.05º/s(2, 1% performance. At 45deg and Zenith there was data collection with LaserTracker. While this process, there was an issue with a locking pin -X, which fails to move from LOCK to FREE (OBS-585). At the end, TMA was moved to Zenith (90.01 deg) and OSS/PS OFF with engaged locking pins. Note that there were interesting movements detected in M2 tangent links induced by jumping on the Az platform. \n",
       "\n",
       "Around 21:37pm UTC, we started BLOCK-T4, warm up camera hexapod only without issue. Warm-up M2 hexapod was done while we were waiting for BLOCK-T143 to be ready after dinner. \n",
       "\n",
       "We checked with Tony J. that ComCam has been already on Playback mode, BLOCK-T143 was executed after some changes updated by Tiago R. Configurations for this block were changed (see the config on OLE/Zephyr test case comment), but we had to stop at Step 2 as there was an issue with IN_PROGRESS ack for filter changes. \n",
       "\n",
       "M1M3 FA Bump test (BLOCK-T144) was conducted with ignoring FA423 due to its loud periodic noise. Observers went up to the level 3 to check sounds from FAs, pressure (120PSI), and temperature (deltaT ~ 1C). Actuators [133, 138, 220, 236, 240, 320, 330, 335] FAILED the bump test (SAA; ID, Pri Index: 133:32, 138:37, 220:55, 236:70, 240:74, 320:97, 330:107, 335:112, no DAA failed). \n",
       "\n",
       "We then started M1M3 HP breakaway test (BLOCK-145) until the end of the night. Workout Camera Hexapod (BLOCK-T87) was skipped for tonight and closed the night with BLOCK-T139, Simonyi Hexapods shutdown. MTHexapod1, MTHexapod2, and MTM1M3 were all set to DISABLED.\n",
       "```"
      ],
      "text/plain": [
       "<IPython.core.display.Markdown object>"
      ]
     },
     "metadata": {},
     "output_type": "display_data"
    },
    {
     "data": {
      "text/markdown": [
       "Telescope Status: TMA parked at Zenith. OSS and PS off and locking pins were engaged. MTHexapod1, MTHexapod2, and MTM1M3 were all set to DISABLED. \n"
      ],
      "text/plain": [
       "<IPython.core.display.Markdown object>"
      ]
     },
     "metadata": {},
     "output_type": "display_data"
    },
    {
     "data": {
      "text/markdown": [
       "*Authors: Bruno Quint, Karla Pena, David Sanmartim, Kevin Fanning, Alysha Shugart, Yijung Kang*"
      ],
      "text/plain": [
       "<IPython.core.display.Markdown object>"
      ]
     },
     "metadata": {},
     "output_type": "display_data"
    },
    {
     "data": {
      "text/markdown": [
       "-------------"
      ],
      "text/plain": [
       "<IPython.core.display.Markdown object>"
      ]
     },
     "metadata": {},
     "output_type": "display_data"
    }
   ],
   "source": [
    "# Night Report\n",
    "# Display time log\n",
    "allrep.nig_rep.time_log_as_markdown()"
   ]
  },
  {
   "cell_type": "markdown",
   "id": "11",
   "metadata": {},
   "source": [
    "<a id=\"almanac\"></a>\n",
    "## Almanac"
   ]
  },
  {
   "cell_type": "code",
   "execution_count": 8,
   "id": "12",
   "metadata": {},
   "outputs": [
    {
     "data": {
      "text/markdown": [
       "**Almanac for the observing night starting 2024-09-05**"
      ],
      "text/plain": [
       "<IPython.core.display.Markdown object>"
      ]
     },
     "metadata": {},
     "output_type": "display_data"
    },
    {
     "data": {
      "text/html": [
       "<style type=\"text/css\">\n",
       "</style>\n",
       "<table id=\"T_55fdd\">\n",
       "  <thead>\n",
       "  </thead>\n",
       "  <tbody>\n",
       "    <tr>\n",
       "      <th id=\"T_55fdd_level0_row0\" class=\"row_heading level0 row0\" ></th>\n",
       "      <td id=\"T_55fdd_row0_col0\" class=\"data row0 col0\" >(times in UTC)</td>\n",
       "      <td id=\"T_55fdd_row0_col1\" class=\"data row0 col1\" ></td>\n",
       "    </tr>\n",
       "    <tr>\n",
       "      <th id=\"T_55fdd_level0_row1\" class=\"row_heading level0 row1\" >Moon Rise</th>\n",
       "      <td id=\"T_55fdd_row1_col0\" class=\"data row1 col0\" >2024-09-05 12:12:44.540</td>\n",
       "      <td id=\"T_55fdd_row1_col1\" class=\"data row1 col1\" ></td>\n",
       "    </tr>\n",
       "    <tr>\n",
       "      <th id=\"T_55fdd_level0_row2\" class=\"row_heading level0 row2\" >Moon Set</th>\n",
       "      <td id=\"T_55fdd_row2_col0\" class=\"data row2 col0\" >2024-09-04 23:57:53.331</td>\n",
       "      <td id=\"T_55fdd_row2_col1\" class=\"data row2 col1\" ></td>\n",
       "    </tr>\n",
       "    <tr>\n",
       "      <th id=\"T_55fdd_level0_row3\" class=\"row_heading level0 row3\" >Moon Illumination</th>\n",
       "      <td id=\"T_55fdd_row3_col0\" class=\"data row3 col0\" >4%</td>\n",
       "      <td id=\"T_55fdd_row3_col1\" class=\"data row3 col1\" >(% illuminated)</td>\n",
       "    </tr>\n",
       "    <tr>\n",
       "      <th id=\"T_55fdd_level0_row4\" class=\"row_heading level0 row4\" >Astronomical Twilight (morning)</th>\n",
       "      <td id=\"T_55fdd_row4_col0\" class=\"data row4 col0\" >2024-09-05 09:33:24.426</td>\n",
       "      <td id=\"T_55fdd_row4_col1\" class=\"data row4 col1\" >(-18 degrees)</td>\n",
       "    </tr>\n",
       "    <tr>\n",
       "      <th id=\"T_55fdd_level0_row5\" class=\"row_heading level0 row5\" >Astronomical Twilight (evening)</th>\n",
       "      <td id=\"T_55fdd_row5_col0\" class=\"data row5 col0\" >2024-09-04 23:49:29.974</td>\n",
       "      <td id=\"T_55fdd_row5_col1\" class=\"data row5 col1\" >(-18 degrees)</td>\n",
       "    </tr>\n",
       "    <tr>\n",
       "      <th id=\"T_55fdd_level0_row6\" class=\"row_heading level0 row6\" >Solar Midnight</th>\n",
       "      <td id=\"T_55fdd_row6_col0\" class=\"data row6 col0\" >2024-09-05 04:41:30.776</td>\n",
       "      <td id=\"T_55fdd_row6_col1\" class=\"data row6 col1\" ></td>\n",
       "    </tr>\n",
       "    <tr>\n",
       "      <th id=\"T_55fdd_level0_row7\" class=\"row_heading level0 row7\" >Nautical Twilight (morning)</th>\n",
       "      <td id=\"T_55fdd_row7_col0\" class=\"data row7 col0\" >2024-09-05 10:01:10.597</td>\n",
       "      <td id=\"T_55fdd_row7_col1\" class=\"data row7 col1\" >(-12 degrees)</td>\n",
       "    </tr>\n",
       "    <tr>\n",
       "      <th id=\"T_55fdd_level0_row8\" class=\"row_heading level0 row8\" >Nautical Twilight (evening)</th>\n",
       "      <td id=\"T_55fdd_row8_col0\" class=\"data row8 col0\" >2024-09-04 23:21:41.930</td>\n",
       "      <td id=\"T_55fdd_row8_col1\" class=\"data row8 col1\" >(-12 degrees)</td>\n",
       "    </tr>\n",
       "    <tr>\n",
       "      <th id=\"T_55fdd_level0_row9\" class=\"row_heading level0 row9\" >Civil Twilight (morning)</th>\n",
       "      <td id=\"T_55fdd_row9_col0\" class=\"data row9 col0\" >2024-09-05 10:28:57.809</td>\n",
       "      <td id=\"T_55fdd_row9_col1\" class=\"data row9 col1\" >(-6 degrees)</td>\n",
       "    </tr>\n",
       "    <tr>\n",
       "      <th id=\"T_55fdd_level0_row10\" class=\"row_heading level0 row10\" >Civil Twilight (evening)</th>\n",
       "      <td id=\"T_55fdd_row10_col0\" class=\"data row10 col0\" >2024-09-04 22:53:52.501</td>\n",
       "      <td id=\"T_55fdd_row10_col1\" class=\"data row10 col1\" >(-6 degrees)</td>\n",
       "    </tr>\n",
       "    <tr>\n",
       "      <th id=\"T_55fdd_level0_row11\" class=\"row_heading level0 row11\" >Sun Rise</th>\n",
       "      <td id=\"T_55fdd_row11_col0\" class=\"data row11 col0\" >2024-09-05 10:56:52.310</td>\n",
       "      <td id=\"T_55fdd_row11_col1\" class=\"data row11 col1\" ></td>\n",
       "    </tr>\n",
       "    <tr>\n",
       "      <th id=\"T_55fdd_level0_row12\" class=\"row_heading level0 row12\" >Sun Set</th>\n",
       "      <td id=\"T_55fdd_row12_col0\" class=\"data row12 col0\" >2024-09-04 22:25:55.324</td>\n",
       "      <td id=\"T_55fdd_row12_col1\" class=\"data row12 col1\" ></td>\n",
       "    </tr>\n",
       "  </tbody>\n",
       "</table>\n"
      ],
      "text/plain": [
       "<pandas.io.formats.style.Styler at 0x7f7d545d9d90>"
      ]
     },
     "metadata": {},
     "output_type": "display_data"
    }
   ],
   "source": [
    "# Display various almanac values (for moon, sun)\n",
    "#!rep.AlmanacReport().day_obs_report(min_day_obs)\n",
    "allrep.alm_rep.day_obs_report()"
   ]
  },
  {
   "cell_type": "markdown",
   "id": "13",
   "metadata": {},
   "source": [
    "<a id=\"Summary-Plots\"></a>\n",
    "## Summary plots of whole night "
   ]
  },
  {
   "cell_type": "markdown",
   "id": "14",
   "metadata": {},
   "source": [
    "(content not yet defined in storyboard)"
   ]
  },
  {
   "cell_type": "code",
   "execution_count": 9,
   "id": "15",
   "metadata": {
    "jupyter": {
     "source_hidden": true
    }
   },
   "outputs": [],
   "source": [
    "# Plot Observation (Exposure) gaps\n",
    "# rollup,detail = allsrc.get_observation_gaps()\n",
    "# allrep.plot_observation_gap_detail(detail)"
   ]
  },
  {
   "cell_type": "code",
   "execution_count": 10,
   "id": "16",
   "metadata": {},
   "outputs": [
    {
     "data": {
      "text/markdown": [
       "<a id=\"Summary-Scalars\"></a>"
      ],
      "text/plain": [
       "<IPython.core.display.Markdown object>"
      ]
     },
     "metadata": {},
     "output_type": "display_data"
    },
    {
     "data": {
      "text/markdown": [
       "## Summary Scalars for the night "
      ],
      "text/plain": [
       "<IPython.core.display.Markdown object>"
      ]
     },
     "metadata": {},
     "output_type": "display_data"
    },
    {
     "data": {
      "text/markdown": [
       "(of all available instruments that have at least one exposure)"
      ],
      "text/plain": [
       "<IPython.core.display.Markdown object>"
      ]
     },
     "metadata": {},
     "output_type": "display_data"
    },
    {
     "data": {
      "text/html": [
       "<div>\n",
       "<style scoped>\n",
       "    .dataframe tbody tr th:only-of-type {\n",
       "        vertical-align: middle;\n",
       "    }\n",
       "\n",
       "    .dataframe tbody tr th {\n",
       "        vertical-align: top;\n",
       "    }\n",
       "\n",
       "    .dataframe thead th {\n",
       "        text-align: right;\n",
       "    }\n",
       "</style>\n",
       "<table border=\"1\" class=\"dataframe\">\n",
       "  <thead>\n",
       "    <tr style=\"text-align: right;\">\n",
       "      <th></th>\n",
       "      <th>LSSTComCamSim</th>\n",
       "      <th>LATISS</th>\n",
       "    </tr>\n",
       "  </thead>\n",
       "  <tbody>\n",
       "    <tr>\n",
       "      <th>Total Night (HH:MM:SS)</th>\n",
       "      <td>9:43:54</td>\n",
       "      <td>9:43:54</td>\n",
       "    </tr>\n",
       "    <tr>\n",
       "      <th>Total Exposure (HH:MM:SS)</th>\n",
       "      <td>0:02:33</td>\n",
       "      <td>2:45:13</td>\n",
       "    </tr>\n",
       "    <tr>\n",
       "      <th>Number of exposures</th>\n",
       "      <td>9</td>\n",
       "      <td>286</td>\n",
       "    </tr>\n",
       "    <tr>\n",
       "      <th>Number of slews</th>\n",
       "      <td>40</td>\n",
       "      <td>40</td>\n",
       "    </tr>\n",
       "    <tr>\n",
       "      <th>Total Detector Read (HH:MM:SS)</th>\n",
       "      <td>0:00:20</td>\n",
       "      <td>0:10:57</td>\n",
       "    </tr>\n",
       "    <tr>\n",
       "      <th>Mean Detector Read (HH:MM:SS)</th>\n",
       "      <td>0:00:02</td>\n",
       "      <td>0:00:02</td>\n",
       "    </tr>\n",
       "    <tr>\n",
       "      <th>Total Slew (HH:MM:SS)</th>\n",
       "      <td>0:41:17</td>\n",
       "      <td>0:41:17</td>\n",
       "    </tr>\n",
       "    <tr>\n",
       "      <th>Mean Slew (HH:MM:SS)</th>\n",
       "      <td>0:01:01</td>\n",
       "      <td>0:01:01</td>\n",
       "    </tr>\n",
       "    <tr>\n",
       "      <th>Total Idle (HH:MM:SS)</th>\n",
       "      <td>9:00:03</td>\n",
       "      <td>6:17:23</td>\n",
       "    </tr>\n",
       "  </tbody>\n",
       "</table>\n",
       "</div>"
      ],
      "text/plain": [
       "                               LSSTComCamSim   LATISS\n",
       "Total Night (HH:MM:SS)               9:43:54  9:43:54\n",
       "Total Exposure (HH:MM:SS)            0:02:33  2:45:13\n",
       "Number of exposures                        9      286\n",
       "Number of slews                           40       40\n",
       "Total Detector Read (HH:MM:SS)       0:00:20  0:10:57\n",
       "Mean Detector Read (HH:MM:SS)        0:00:02  0:00:02\n",
       "Total Slew (HH:MM:SS)                0:41:17  0:41:17\n",
       "Mean Slew (HH:MM:SS)                 0:01:01  0:01:01\n",
       "Total Idle (HH:MM:SS)                9:00:03  6:17:23"
      ]
     },
     "metadata": {},
     "output_type": "display_data"
    }
   ],
   "source": [
    "# Exposure Tally\n",
    "md('<a id=\"Summary-Scalars\"></a>')\n",
    "md(f\"## Summary Scalars for the night \")\n",
    "md(\"(of all available instruments that have at least one exposure)\")\n",
    "tally = await allsrc.night_tally_observation_gaps()\n",
    "if tally:\n",
    "    display(pd.DataFrame(tally))"
   ]
  },
  {
   "cell_type": "markdown",
   "id": "17",
   "metadata": {},
   "source": [
    "## Jira Tickets (Observing Operations - OBS)\n",
    "(TODO: better tickets using Jira API)"
   ]
  },
  {
   "cell_type": "code",
   "execution_count": 11,
   "id": "18",
   "metadata": {},
   "outputs": [
    {
     "data": {
      "text/markdown": [
       "- [OBS-582](https://rubinobs.atlassian.net/browse/OBS-582)"
      ],
      "text/plain": [
       "<IPython.core.display.Markdown object>"
      ]
     },
     "metadata": {},
     "output_type": "display_data"
    },
    {
     "data": {
      "text/markdown": [
       "- [OBS-584](https://rubinobs.atlassian.net/browse/OBS-584)"
      ],
      "text/plain": [
       "<IPython.core.display.Markdown object>"
      ]
     },
     "metadata": {},
     "output_type": "display_data"
    },
    {
     "data": {
      "text/markdown": [
       "- [/rubinobs-lfa-cp/LOVE/OLE/2024/09/05/LOVE_OLE_2024-09-05T14:36:21.262.png](https://s3.cp.lsst.org/rubinobs-lfa-cp/LOVE/OLE/2024/09/05/LOVE_OLE_2024-09-05T14:36:21.262.png)"
      ],
      "text/plain": [
       "<IPython.core.display.Markdown object>"
      ]
     },
     "metadata": {},
     "output_type": "display_data"
    },
    {
     "data": {
      "text/markdown": [
       "- [OBS-583](https://rubinobs.atlassian.net/browse/OBS-583)"
      ],
      "text/plain": [
       "<IPython.core.display.Markdown object>"
      ]
     },
     "metadata": {},
     "output_type": "display_data"
    }
   ],
   "source": [
    "if allsrc.urls:\n",
    "    for url in allsrc.urls:\n",
    "        md(f\"- {mdpathlink(url)}\")"
   ]
  },
  {
   "cell_type": "code",
   "execution_count": 12,
   "id": "19",
   "metadata": {},
   "outputs": [
    {
     "data": {
      "text/markdown": [
       "No tickets found using: [API Data](https://summit-lsp.lsst.codes/nightreport/reports?is_human=either&is_valid=true&order_by=-day_obs&min_day_obs=20240905&max_day_obs=20240907&limit=999) in `confluence_url`."
      ],
      "text/plain": [
       "<IPython.core.display.Markdown object>"
      ]
     },
     "metadata": {},
     "output_type": "display_data"
    }
   ],
   "source": [
    "# Display Jira BLOCKS\n",
    "front = \"https://rubinobs.atlassian.net/projects/BLOCK?selectedItem=com.atlassian.plugins.atlassian-connect-plugin:com.kanoah.test-manager__main-project-page#!/\"\n",
    "tickets = allsrc.nig_src.nightly_tickets()\n",
    "if tickets:\n",
    "    mdstr = \"#### Nightly Jira BLOCKs\"\n",
    "    for day, url_list in tickets.items():\n",
    "        mdstr += f\"\\n- {day}\"\n",
    "        for ticket_url in url_list:\n",
    "            mdstr += f'\\n    - [{ticket_url.replace(front,\"\")}]({ticket_url})'\n",
    "    md(mdstr)\n",
    "else:\n",
    "    endpoint_url = allsrc.nig_src.status[\"reports\"][\"endpoint_url\"]\n",
    "    md(f\"No tickets found using: [API Data]({endpoint_url}) in `confluence_url`.\")"
   ]
  },
  {
   "cell_type": "markdown",
   "id": "20",
   "metadata": {},
   "source": [
    "## BLOCKS observed\n",
    "(TODO: BLOCKS observed) "
   ]
  },
  {
   "cell_type": "markdown",
   "id": "21",
   "metadata": {},
   "source": [
    "## Exposure Log"
   ]
  },
  {
   "cell_type": "code",
   "execution_count": 13,
   "id": "23",
   "metadata": {},
   "outputs": [
    {
     "data": {
      "text/markdown": [
       "### Experimental Exposure field Tally DISASBLED"
      ],
      "text/plain": [
       "<IPython.core.display.Markdown object>"
      ]
     },
     "metadata": {},
     "output_type": "display_data"
    }
   ],
   "source": [
    "# Exposure Report\n",
    "# Facet counts\n",
    "if experimental.get(\"exposure_type_tally\"):\n",
    "    md(\"### Experimental Exposure field Tally ENABLED\")\n",
    "    counts = uniform_field_counts(allsrc.exp_src.exposures[\"LATISS\"])\n",
    "    for fname, tally in counts.items():\n",
    "        md(f\"#### Tally of values for Field: {fname}\")\n",
    "        display(pd.DataFrame.from_dict(tally, orient=\"index\"))\n",
    "else:\n",
    "    md(\"### Experimental Exposure field Tally DISASBLED\")"
   ]
  },
  {
   "cell_type": "markdown",
   "id": "24",
   "metadata": {},
   "source": [
    "| Symbol | Meaning |\n",
    "|:---|:---|\n",
    "| <font style=\"background-color:green; color:white; font-size:20px\">&nbsp;G&nbsp;</font>| Good |\n",
    "| <font style=\"background-color:yellow; color:black; font-size:20px\">&nbsp;?&nbsp;</font> | Questionable |\n",
    "| <font style=\"background-color:red; color:black; font-size:20px\">&nbsp;R&nbsp;</font> | Junk |\n"
   ]
  },
  {
   "cell_type": "code",
   "execution_count": 14,
   "id": "25",
   "metadata": {},
   "outputs": [
    {
     "data": {
      "text/markdown": [
       "-------------"
      ],
      "text/plain": [
       "<IPython.core.display.Markdown object>"
      ]
     },
     "metadata": {},
     "output_type": "display_data"
    }
   ],
   "source": [
    "# Time Log\n",
    "allrep.exp_rep.time_log_as_markdown()"
   ]
  },
  {
   "cell_type": "markdown",
   "id": "26",
   "metadata": {},
   "source": [
    "## Narrative Log\n",
    "(Now \"linked things\" from /narrativelog/messages.urls)"
   ]
  },
  {
   "cell_type": "code",
   "execution_count": 15,
   "id": "27",
   "metadata": {},
   "outputs": [
    {
     "data": {
      "text/markdown": [
       "- **2024-09-05 05:44:37.750878**"
      ],
      "text/plain": [
       "<IPython.core.display.Markdown object>"
      ]
     },
     "metadata": {},
     "output_type": "display_data"
    },
    {
     "data": {
      "text/markdown": [
       "\n",
       "<pre style='color: black; background-color: LightGray; font-size: 1em'>Around 21:15 local time, shortly after signs that the network to the outside world was disconnected, ATCamera went into a fault state. The CSC reported that the MCM went into a fault state for an \"unspecified reason.\" We stopped tracked and opened the CCS to investigate. Network issues were plaguing the summit and it was a very slow connection to the CCS-console - using shell commands saw a delay of about 1-2 seconds for every keystroke. We managed to identify the error in the ats-ih - according to the logs there was an image header delay.\r\n",
       "\r\n",
       "\r\n",
       "*Unknown if this was due to network outages. \r\n",
       "\r\n",
       "\r\n",
       "We cleared the errors in the ats-ih and mcm, and we recovered the ATCamera. Even without network, we were able to resume scheduler-driven operations. The lengthy recovery time was due to the slow connection to auxtel-fp01 and reading through documentation to diagnose. \r\n",
       "\r\n",
       "\r\n",
       "**A note: LATISS was taking new images, but CCS was not updating, even when connected to Rubin-guest. Is this expected behavior? How might we view images if there is another network outage?</pre>\n"
      ],
      "text/plain": [
       "<IPython.core.display.Markdown object>"
      ]
     },
     "metadata": {},
     "output_type": "display_data"
    },
    {
     "data": {
      "text/markdown": [
       "- Link: [OBS-583](https://rubinobs.atlassian.net/browse/OBS-583)"
      ],
      "text/plain": [
       "<IPython.core.display.Markdown object>"
      ]
     },
     "metadata": {},
     "output_type": "display_data"
    },
    {
     "data": {
      "text/markdown": [
       "- **2024-09-05 06:01:16.348158**"
      ],
      "text/plain": [
       "<IPython.core.display.Markdown object>"
      ]
     },
     "metadata": {},
     "output_type": "display_data"
    },
    {
     "data": {
      "text/markdown": [
       "\n",
       "<pre style='color: black; background-color: LightGray; font-size: 1em'>Logging time loss to OBS-584</pre>\n"
      ],
      "text/plain": [
       "<IPython.core.display.Markdown object>"
      ]
     },
     "metadata": {},
     "output_type": "display_data"
    },
    {
     "data": {
      "text/markdown": [
       "- **2024-09-05 00:01:06.570924**"
      ],
      "text/plain": [
       "<IPython.core.display.Markdown object>"
      ]
     },
     "metadata": {},
     "output_type": "display_data"
    },
    {
     "data": {
      "text/markdown": [
       "\n",
       "<pre style='color: black; background-color: LightGray; font-size: 1em'>After changing the Parked Engineering state, worked</pre>\n"
      ],
      "text/plain": [
       "<IPython.core.display.Markdown object>"
      ]
     },
     "metadata": {},
     "output_type": "display_data"
    },
    {
     "data": {
      "text/markdown": [
       "- **2024-09-05 00:01:18.684009**"
      ],
      "text/plain": [
       "<IPython.core.display.Markdown object>"
      ]
     },
     "metadata": {},
     "output_type": "display_data"
    },
    {
     "data": {
      "text/markdown": [
       "\n",
       "<pre style='color: black; background-color: LightGray; font-size: 1em'>Re-run check_actuators.py</pre>\n"
      ],
      "text/plain": [
       "<IPython.core.display.Markdown object>"
      ]
     },
     "metadata": {},
     "output_type": "display_data"
    },
    {
     "data": {
      "text/markdown": [
       "- **2024-09-05 00:03:32.477288**"
      ],
      "text/plain": [
       "<IPython.core.display.Markdown object>"
      ]
     },
     "metadata": {},
     "output_type": "display_data"
    },
    {
     "data": {
      "text/markdown": [
       "\n",
       "<pre style='color: black; background-color: LightGray; font-size: 1em'>2024/09/05 00:01:51 TAI\r\n",
       "Force Actuator ID 240 Following Error 50</pre>\n"
      ],
      "text/plain": [
       "<IPython.core.display.Markdown object>"
      ]
     },
     "metadata": {},
     "output_type": "display_data"
    },
    {
     "data": {
      "text/markdown": [
       "- **2024-09-05 00:09:50.344086**"
      ],
      "text/plain": [
       "<IPython.core.display.Markdown object>"
      ]
     },
     "metadata": {},
     "output_type": "display_data"
    },
    {
     "data": {
      "text/markdown": [
       "\n",
       "<pre style='color: black; background-color: LightGray; font-size: 1em'>Run again  but forgot to killM1M3 actuator test.\r\n",
       "run_command.py.\r\n",
       "1) enterEngineering\r\n",
       "2) killForceActuactorBumptTest\r\n",
       "\r\n",
       "\r\n",
       "and re-run the script.</pre>\n"
      ],
      "text/plain": [
       "<IPython.core.display.Markdown object>"
      ]
     },
     "metadata": {},
     "output_type": "display_data"
    },
    {
     "data": {
      "text/markdown": [
       "- **2024-09-05 00:26:42.103884**"
      ],
      "text/plain": [
       "<IPython.core.display.Markdown object>"
      ]
     },
     "metadata": {},
     "output_type": "display_data"
    },
    {
     "data": {
      "text/markdown": [
       "\n",
       "<pre style='color: black; background-color: LightGray; font-size: 1em'>Hernan reports that the LHN has gone down - connecting to Rubin Guest wifi for ops</pre>\n"
      ],
      "text/plain": [
       "<IPython.core.display.Markdown object>"
      ]
     },
     "metadata": {},
     "output_type": "display_data"
    },
    {
     "data": {
      "text/markdown": [
       "- **2024-09-05 00:50:49.142853**"
      ],
      "text/plain": [
       "<IPython.core.display.Markdown object>"
      ]
     },
     "metadata": {},
     "output_type": "display_data"
    },
    {
     "data": {
      "text/markdown": [
       "\n",
       "<pre style='color: black; background-color: LightGray; font-size: 1em'>SAA (ID, Pri Index): 303:80, 326:103 \r\n",
       " DAA (ID, Sec Index): failed. \r\n",
       "bump test done.</pre>\n"
      ],
      "text/plain": [
       "<IPython.core.display.Markdown object>"
      ]
     },
     "metadata": {},
     "output_type": "display_data"
    },
    {
     "data": {
      "text/markdown": [
       "- **2024-09-05 00:54:33.897804**"
      ],
      "text/plain": [
       "<IPython.core.display.Markdown object>"
      ]
     },
     "metadata": {},
     "output_type": "display_data"
    },
    {
     "data": {
      "text/markdown": [
       "\n",
       "<pre style='color: black; background-color: LightGray; font-size: 1em'>Block-T4. Hexapod warming up.</pre>\n"
      ],
      "text/plain": [
       "<IPython.core.display.Markdown object>"
      ]
     },
     "metadata": {},
     "output_type": "display_data"
    },
    {
     "data": {
      "text/markdown": [
       "- **2024-09-05 00:57:39.671319**"
      ],
      "text/plain": [
       "<IPython.core.display.Markdown object>"
      ]
     },
     "metadata": {},
     "output_type": "display_data"
    },
    {
     "data": {
      "text/markdown": [
       "\n",
       "<pre style='color: black; background-color: LightGray; font-size: 1em'>Executive summary on the bump test: \r\n",
       "\r\n",
       "\r\n",
       "The test went through ignoring FA138, 236, 240, 320, 335. FA 303, 326 failed the test.\r\n",
       "When there is an error on a given actuator and want to start again the test you need:\r\n",
       "1. Park in engineering mode first. That was possible with run_command.py (component: MTM1M3, cmd: enterEngineering) to be able to enter on ParkedEngineering mode. \r\n",
       "2. Kill the failed bump test. That is done using run_command.py (component:MTM1M3, cmd: killForceActuatorBumpTest).\r\n",
       "3. Relaunch the test (BLOCK-T144) ignoring the desired actuators.</pre>\n"
      ],
      "text/plain": [
       "<IPython.core.display.Markdown object>"
      ]
     },
     "metadata": {},
     "output_type": "display_data"
    },
    {
     "data": {
      "text/markdown": [
       "- **2024-09-05 01:12:51.910240**"
      ],
      "text/plain": [
       "<IPython.core.display.Markdown object>"
      ]
     },
     "metadata": {},
     "output_type": "display_data"
    },
    {
     "data": {
      "text/markdown": [
       "\n",
       "<pre style='color: black; background-color: LightGray; font-size: 1em'>T4 is done without issue. Running Block-T3.</pre>\n"
      ],
      "text/plain": [
       "<IPython.core.display.Markdown object>"
      ]
     },
     "metadata": {},
     "output_type": "display_data"
    },
    {
     "data": {
      "text/markdown": [
       "- **2024-09-05 01:21:45.053232**"
      ],
      "text/plain": [
       "<IPython.core.display.Markdown object>"
      ]
     },
     "metadata": {},
     "output_type": "display_data"
    },
    {
     "data": {
      "text/markdown": [
       "\n",
       "<pre style='color: black; background-color: LightGray; font-size: 1em'>Block-T3 done. Starting Block-T89</pre>\n"
      ],
      "text/plain": [
       "<IPython.core.display.Markdown object>"
      ]
     },
     "metadata": {},
     "output_type": "display_data"
    },
    {
     "data": {
      "text/markdown": [
       "- **2024-09-05 01:32:54.864233**"
      ],
      "text/plain": [
       "<IPython.core.display.Markdown object>"
      ]
     },
     "metadata": {},
     "output_type": "display_data"
    },
    {
     "data": {
      "text/markdown": [
       "\n",
       "<pre style='color: black; background-color: LightGray; font-size: 1em'>Measurement of the Laser Tracker went through. \r\n",
       "Missed 2 measurement(s) from Meas_TMA_CENTRAL_0.35_148.75_0.00_04::TMA_CENTRAL_0.35_148.75_0.00_04.'</pre>\n"
      ],
      "text/plain": [
       "<IPython.core.display.Markdown object>"
      ]
     },
     "metadata": {},
     "output_type": "display_data"
    },
    {
     "data": {
      "text/markdown": [
       "- **2024-09-05 01:35:24.046506**"
      ],
      "text/plain": [
       "<IPython.core.display.Markdown object>"
      ]
     },
     "metadata": {},
     "output_type": "display_data"
    },
    {
     "data": {
      "text/markdown": [
       "\n",
       "<pre style='color: black; background-color: LightGray; font-size: 1em'>Bump test for FA303, 326 from EUI. All passed.</pre>\n"
      ],
      "text/plain": [
       "<IPython.core.display.Markdown object>"
      ]
     },
     "metadata": {},
     "output_type": "display_data"
    },
    {
     "data": {
      "text/markdown": [
       "- **2024-09-05 01:35:50.383761**"
      ],
      "text/plain": [
       "<IPython.core.display.Markdown object>"
      ]
     },
     "metadata": {},
     "output_type": "display_data"
    },
    {
     "data": {
      "text/markdown": [
       "\n",
       "<pre style='color: black; background-color: LightGray; font-size: 1em'>Done for Block-T89. Starting Block-T87.</pre>\n"
      ],
      "text/plain": [
       "<IPython.core.display.Markdown object>"
      ]
     },
     "metadata": {},
     "output_type": "display_data"
    },
    {
     "data": {
      "text/markdown": [
       "- **2024-09-05 01:46:37.096069**"
      ],
      "text/plain": [
       "<IPython.core.display.Markdown object>"
      ]
     },
     "metadata": {},
     "output_type": "display_data"
    },
    {
     "data": {
      "text/markdown": [
       "\n",
       "Salindex: 100511. Failed as known network issue at the summit\r\n",
       "<pre style='color: black; background-color: tomato; font-size: 0.875em'>RuntimeError: Error on cmd=cmd_start, initial_state=5: msg='Command failed', ackcmd=(ackcmd private_seqNum=1698289930, ack=&lt;SalRetCode.CMD_FAILED: -302&gt;, error=1, result=\"Failed: HTTPSConnectionPool(host='roundtable.lsst.codes', port=443): Max retries exceeded with url: /segwarides/ (Caused by ConnectTimeoutError(&lt;urllib3.connection.HTTPSConnection object at 0x7f99c038ed90&gt;, 'Connection to roundtable.lsst.codes timed out. (connect timeout=None)'))\")\r\n",
       "</pre>\n"
      ],
      "text/plain": [
       "<IPython.core.display.Markdown object>"
      ]
     },
     "metadata": {},
     "output_type": "display_data"
    },
    {
     "data": {
      "text/markdown": [
       "- **2024-09-05 02:16:32.071631**"
      ],
      "text/plain": [
       "<IPython.core.display.Markdown object>"
      ]
     },
     "metadata": {},
     "output_type": "display_data"
    },
    {
     "data": {
      "text/markdown": [
       "\n",
       "<pre style='color: black; background-color: LightGray; font-size: 1em'>Resuming scheduler with ATCamera recovered.</pre>\n"
      ],
      "text/plain": [
       "<IPython.core.display.Markdown object>"
      ]
     },
     "metadata": {},
     "output_type": "display_data"
    },
    {
     "data": {
      "text/markdown": [
       "- **2024-09-05 02:59:13.267372**"
      ],
      "text/plain": [
       "<IPython.core.display.Markdown object>"
      ]
     },
     "metadata": {},
     "output_type": "display_data"
    },
    {
     "data": {
      "text/markdown": [
       "\n",
       "<pre style='color: black; background-color: LightGray; font-size: 1em'>Network has returned.</pre>\n"
      ],
      "text/plain": [
       "<IPython.core.display.Markdown object>"
      ]
     },
     "metadata": {},
     "output_type": "display_data"
    },
    {
     "data": {
      "text/markdown": [
       "- **2024-09-05 03:02:42.208275**"
      ],
      "text/plain": [
       "<IPython.core.display.Markdown object>"
      ]
     },
     "metadata": {},
     "output_type": "display_data"
    },
    {
     "data": {
      "text/markdown": [
       "\n",
       "<pre style='color: black; background-color: LightGray; font-size: 1em'>network is recovered. Try to enable maintel/scheduler and it worked this time. \r\n",
       "Resuming Scheduler:1 for config:maintel_fbs_sit_block_t87.yaml</pre>\n"
      ],
      "text/plain": [
       "<IPython.core.display.Markdown object>"
      ]
     },
     "metadata": {},
     "output_type": "display_data"
    },
    {
     "data": {
      "text/markdown": [
       "- **2024-09-05 03:13:54.780447**"
      ],
      "text/plain": [
       "<IPython.core.display.Markdown object>"
      ]
     },
     "metadata": {},
     "output_type": "display_data"
    },
    {
     "data": {
      "text/markdown": [
       "\n",
       "<pre style='color: black; background-color: tomato; font-size: 0.875em'>RuntimeError: Timeout waiting for TCS to report as ready to take data (timeout=30.0).\r\n",
       "\r\n",
       "\r\n",
       "Resuming observations, skipping step\r\n",
       "</pre>\n"
      ],
      "text/plain": [
       "<IPython.core.display.Markdown object>"
      ]
     },
     "metadata": {},
     "output_type": "display_data"
    },
    {
     "data": {
      "text/markdown": [
       "- **2024-09-05 03:41:46.082133**"
      ],
      "text/plain": [
       "<IPython.core.display.Markdown object>"
      ]
     },
     "metadata": {},
     "output_type": "display_data"
    },
    {
     "data": {
      "text/markdown": [
       "\n",
       "<pre style='color: black; background-color: LightGray; font-size: 1em'>We are experiencing back to back runtime errors: The telescope times out getting into position. Doing some different experiments to recover.</pre>\n"
      ],
      "text/plain": [
       "<IPython.core.display.Markdown object>"
      ]
     },
     "metadata": {},
     "output_type": "display_data"
    },
    {
     "data": {
      "text/markdown": [
       "- **2024-09-05 03:42:55.381132**"
      ],
      "text/plain": [
       "<IPython.core.display.Markdown object>"
      ]
     },
     "metadata": {},
     "output_type": "display_data"
    },
    {
     "data": {
      "text/markdown": [
       "\n",
       "<pre style='color: black; background-color: LightGray; font-size: 1em'>Cycled ATCS, but the telescope timed out when trying to correct pointing. Going to shutdown and open up again to force the system to come back in a correct state. LOVE telemetries being unreliable</pre>\n"
      ],
      "text/plain": [
       "<IPython.core.display.Markdown object>"
      ]
     },
     "metadata": {},
     "output_type": "display_data"
    },
    {
     "data": {
      "text/markdown": [
       "- **2024-09-05 04:07:50.871134**"
      ],
      "text/plain": [
       "<IPython.core.display.Markdown object>"
      ]
     },
     "metadata": {},
     "output_type": "display_data"
    },
    {
     "data": {
      "text/markdown": [
       "\n",
       "<pre style='color: black; background-color: LightGray; font-size: 1em'>Cycled ATCS CSC and am attempting to park the telescope again</pre>\n"
      ],
      "text/plain": [
       "<IPython.core.display.Markdown object>"
      ]
     },
     "metadata": {},
     "output_type": "display_data"
    },
    {
     "data": {
      "text/markdown": [
       "- **2024-09-05 04:22:03.433382**"
      ],
      "text/plain": [
       "<IPython.core.display.Markdown object>"
      ]
     },
     "metadata": {},
     "output_type": "display_data"
    },
    {
     "data": {
      "text/markdown": [
       "\n",
       "<pre style='color: black; background-color: LightGray; font-size: 1em'>Running prepare for onsky after telescope went to commanded position.</pre>\n"
      ],
      "text/plain": [
       "<IPython.core.display.Markdown object>"
      ]
     },
     "metadata": {},
     "output_type": "display_data"
    },
    {
     "data": {
      "text/markdown": [
       "- **2024-09-05 04:34:28.000789**"
      ],
      "text/plain": [
       "<IPython.core.display.Markdown object>"
      ]
     },
     "metadata": {},
     "output_type": "display_data"
    },
    {
     "data": {
      "text/markdown": [
       "\n",
       "<pre style='color: black; background-color: LightGray; font-size: 1em'>Corrected pointing with success. Resuming scheduler. End of fault loss.</pre>\n"
      ],
      "text/plain": [
       "<IPython.core.display.Markdown object>"
      ]
     },
     "metadata": {},
     "output_type": "display_data"
    },
    {
     "data": {
      "text/markdown": [
       "- **2024-09-05 05:57:27.762005**"
      ],
      "text/plain": [
       "<IPython.core.display.Markdown object>"
      ]
     },
     "metadata": {},
     "output_type": "display_data"
    },
    {
     "data": {
      "text/markdown": [
       "\n",
       "<pre style='color: black; background-color: LightGray; font-size: 1em'>Stop scheduler. Block-T87.</pre>\n"
      ],
      "text/plain": [
       "<IPython.core.display.Markdown object>"
      ]
     },
     "metadata": {},
     "output_type": "display_data"
    },
    {
     "data": {
      "text/markdown": [
       "- **2024-09-05 05:58:09.215646**"
      ],
      "text/plain": [
       "<IPython.core.display.Markdown object>"
      ]
     },
     "metadata": {},
     "output_type": "display_data"
    },
    {
     "data": {
      "text/markdown": [
       "\n",
       "<pre style='color: black; background-color: LightGray; font-size: 1em'>BLOCK-T139. Move MTHexapod1 to origin.</pre>\n"
      ],
      "text/plain": [
       "<IPython.core.display.Markdown object>"
      ]
     },
     "metadata": {},
     "output_type": "display_data"
    },
    {
     "data": {
      "text/markdown": [
       "- **2024-09-05 06:01:34.808204**"
      ],
      "text/plain": [
       "<IPython.core.display.Markdown object>"
      ]
     },
     "metadata": {},
     "output_type": "display_data"
    },
    {
     "data": {
      "text/markdown": [
       "\n",
       "<pre style='color: black; background-color: LightGray; font-size: 1em'>Move MTHexapod2 to origin.</pre>\n"
      ],
      "text/plain": [
       "<IPython.core.display.Markdown object>"
      ]
     },
     "metadata": {},
     "output_type": "display_data"
    },
    {
     "data": {
      "text/markdown": [
       "- **2024-09-05 06:01:35.897529**"
      ],
      "text/plain": [
       "<IPython.core.display.Markdown object>"
      ]
     },
     "metadata": {},
     "output_type": "display_data"
    },
    {
     "data": {
      "text/markdown": [
       "\n",
       "<pre style='color: black; background-color: LightGray; font-size: 1em'>Running shutdown script, closing for the night, end of science time.</pre>\n"
      ],
      "text/plain": [
       "<IPython.core.display.Markdown object>"
      ]
     },
     "metadata": {},
     "output_type": "display_data"
    },
    {
     "data": {
      "text/markdown": [
       "- **2024-09-05 06:03:35.372781**"
      ],
      "text/plain": [
       "<IPython.core.display.Markdown object>"
      ]
     },
     "metadata": {},
     "output_type": "display_data"
    },
    {
     "data": {
      "text/markdown": [
       "\n",
       "<pre style='color: black; background-color: LightGray; font-size: 1em'>Put both hexapod on disabled. Put MTPtg in disabled, the same as the initial status.</pre>\n"
      ],
      "text/plain": [
       "<IPython.core.display.Markdown object>"
      ]
     },
     "metadata": {},
     "output_type": "display_data"
    },
    {
     "data": {
      "text/markdown": [
       "- **2024-09-05 20:25:22.980109**"
      ],
      "text/plain": [
       "<IPython.core.display.Markdown object>"
      ]
     },
     "metadata": {},
     "output_type": "display_data"
    },
    {
     "data": {
      "text/markdown": [
       "\n",
       "<pre style='color: black; background-color: LightGray; font-size: 1em'>Grabbing messages from BLOCK-T62. \r\n",
       "Comments:\r\n",
       "\r\n",
       "\r\n",
       "Similarly to other days, we will simply move the TMA.\r\n",
       "Today we will move from Horizon to Zenith.\r\n",
       "We will make a stop at 45º so Roberto and Guillem can perform measurements with the LaserTracker.\r\n",
       "There will be no change in any counterweights.\r\n",
       "\r\n",
       "\r\n",
       "LOVE does not work. So we will perform all the logging here.</pre>\n"
      ],
      "text/plain": [
       "<IPython.core.display.Markdown object>"
      ]
     },
     "metadata": {},
     "output_type": "display_data"
    },
    {
     "data": {
      "text/markdown": [
       "- **2024-09-05 20:25:41.091606**"
      ],
      "text/plain": [
       "<IPython.core.display.Markdown object>"
      ]
     },
     "metadata": {},
     "output_type": "display_data"
    },
    {
     "data": {
      "text/markdown": [
       "\n",
       "<pre style='color: black; background-color: LightGray; font-size: 1em'>BLOCK-T62 - Step 1\r\n",
       "LOVE does not work. So we cannot pause the MTQueue.</pre>\n"
      ],
      "text/plain": [
       "<IPython.core.display.Markdown object>"
      ]
     },
     "metadata": {},
     "output_type": "display_data"
    },
    {
     "data": {
      "text/markdown": [
       "- **2024-09-05 20:31:47.371588**"
      ],
      "text/plain": [
       "<IPython.core.display.Markdown object>"
      ]
     },
     "metadata": {},
     "output_type": "display_data"
    },
    {
     "data": {
      "text/markdown": [
       "\n",
       "<pre style='color: black; background-color: LightGray; font-size: 1em'>BLOCK-T62 - Step 2\r\n",
       "The EUI default values on the EUI are 2%.\r\n",
       "We will set vel/acc/jerk to 1% manually during execution.\r\n",
       "Current default value acc 0.1 / jerk 0.4 / vel 0.1.\r\n",
       "We will update this later.</pre>\n"
      ],
      "text/plain": [
       "<IPython.core.display.Markdown object>"
      ]
     },
     "metadata": {},
     "output_type": "display_data"
    },
    {
     "data": {
      "text/markdown": [
       "- **2024-09-05 20:32:02.302123**"
      ],
      "text/plain": [
       "<IPython.core.display.Markdown object>"
      ]
     },
     "metadata": {},
     "output_type": "display_data"
    },
    {
     "data": {
      "text/markdown": [
       "\n",
       "<pre style='color: black; background-color: LightGray; font-size: 1em'>BLOCK-T62 - Step 3\r\n",
       "No need to check on counterweights today.</pre>\n"
      ],
      "text/plain": [
       "<IPython.core.display.Markdown object>"
      ]
     },
     "metadata": {},
     "output_type": "display_data"
    },
    {
     "data": {
      "text/markdown": [
       "- **2024-09-05 20:32:14.970747**"
      ],
      "text/plain": [
       "<IPython.core.display.Markdown object>"
      ]
     },
     "metadata": {},
     "output_type": "display_data"
    },
    {
     "data": {
      "text/markdown": [
       "\n",
       "<pre style='color: black; background-color: LightGray; font-size: 1em'>BLOCK-T62 - Step 4\r\n",
       "MTMount already in disabled</pre>\n"
      ],
      "text/plain": [
       "<IPython.core.display.Markdown object>"
      ]
     },
     "metadata": {},
     "output_type": "display_data"
    },
    {
     "data": {
      "text/markdown": [
       "- **2024-09-05 20:32:28.359818**"
      ],
      "text/plain": [
       "<IPython.core.display.Markdown object>"
      ]
     },
     "metadata": {},
     "output_type": "display_data"
    },
    {
     "data": {
      "text/markdown": [
       "\n",
       "<pre style='color: black; background-color: LightGray; font-size: 1em'>BLOCK-T62 - Step 5\r\n",
       "Confirmed torques are good yesterday.</pre>\n"
      ],
      "text/plain": [
       "<IPython.core.display.Markdown object>"
      ]
     },
     "metadata": {},
     "output_type": "display_data"
    },
    {
     "data": {
      "text/markdown": [
       "- **2024-09-05 20:32:39.575744**"
      ],
      "text/plain": [
       "<IPython.core.display.Markdown object>"
      ]
     },
     "metadata": {},
     "output_type": "display_data"
    },
    {
     "data": {
      "text/markdown": [
       "\n",
       "<pre style='color: black; background-color: LightGray; font-size: 1em'>BLOCK-T62 - Step 7\r\n",
       "(Step 6 and Step 7 are swapped).\r\n",
       "\r\n",
       "\r\n",
       "Both pins were already powered on. (Why?)\r\n",
       "Locking Pin -X went to a fault. This is the one that gave us a problem yesterday, too.\r\n",
       "This might be concerning.\r\n",
       "\r\n",
       "\r\n",
       "We are having an OMT fault (see fig attached). \r\n",
       "Freddy visually confirms that the pin is ok.</pre>\n"
      ],
      "text/plain": [
       "<IPython.core.display.Markdown object>"
      ]
     },
     "metadata": {},
     "output_type": "display_data"
    },
    {
     "data": {
      "text/markdown": [
       "- Link: [/rubinobs-lfa-cp/LOVE/OLE/2024/09/05/LOVE_OLE_2024-09-05T14:36:21.262.png](https://s3.cp.lsst.org/rubinobs-lfa-cp/LOVE/OLE/2024/09/05/LOVE_OLE_2024-09-05T14:36:21.262.png)"
      ],
      "text/plain": [
       "<IPython.core.display.Markdown object>"
      ]
     },
     "metadata": {},
     "output_type": "display_data"
    },
    {
     "data": {
      "text/markdown": [
       "- **2024-09-05 14:37:24.722652**"
      ],
      "text/plain": [
       "<IPython.core.display.Markdown object>"
      ]
     },
     "metadata": {},
     "output_type": "display_data"
    },
    {
     "data": {
      "text/markdown": [
       "\n",
       "<pre style='color: black; background-color: LightGray; font-size: 1em'>Freddy and Ian are debugging. \r\n",
       "It seems to be a hardware problem. \r\n",
       "More details to follow.</pre>\n"
      ],
      "text/plain": [
       "<IPython.core.display.Markdown object>"
      ]
     },
     "metadata": {},
     "output_type": "display_data"
    },
    {
     "data": {
      "text/markdown": [
       "- **2024-09-05 14:44:38.380512**"
      ],
      "text/plain": [
       "<IPython.core.display.Markdown object>"
      ]
     },
     "metadata": {},
     "output_type": "display_data"
    },
    {
     "data": {
      "text/markdown": [
       "\n",
       "<pre style='color: black; background-color: LightGray; font-size: 1em'>As part of this debugging, we created OBS-585</pre>\n"
      ],
      "text/plain": [
       "<IPython.core.display.Markdown object>"
      ]
     },
     "metadata": {},
     "output_type": "display_data"
    },
    {
     "data": {
      "text/markdown": [
       "- **2024-09-05 14:45:27.661561**"
      ],
      "text/plain": [
       "<IPython.core.display.Markdown object>"
      ]
     },
     "metadata": {},
     "output_type": "display_data"
    },
    {
     "data": {
      "text/markdown": [
       "\n",
       "<pre style='color: black; background-color: LightGray; font-size: 1em'>For information, TEST position means 45 mm and FREE is almost 0+.</pre>\n"
      ],
      "text/plain": [
       "<IPython.core.display.Markdown object>"
      ]
     },
     "metadata": {},
     "output_type": "display_data"
    },
    {
     "data": {
      "text/markdown": [
       "- **2024-09-05 14:49:14.394753**"
      ],
      "text/plain": [
       "<IPython.core.display.Markdown object>"
      ]
     },
     "metadata": {},
     "output_type": "display_data"
    },
    {
     "data": {
      "text/markdown": [
       "\n",
       "<pre style='color: black; background-color: LightGray; font-size: 1em'>Powering up power supply now</pre>\n"
      ],
      "text/plain": [
       "<IPython.core.display.Markdown object>"
      ]
     },
     "metadata": {},
     "output_type": "display_data"
    },
    {
     "data": {
      "text/markdown": [
       "- **2024-09-05 14:53:31.606212**"
      ],
      "text/plain": [
       "<IPython.core.display.Markdown object>"
      ]
     },
     "metadata": {},
     "output_type": "display_data"
    },
    {
     "data": {
      "text/markdown": [
       "\n",
       "<pre style='color: black; background-color: LightGray; font-size: 1em'>Running HOME on elevation now</pre>\n"
      ],
      "text/plain": [
       "<IPython.core.display.Markdown object>"
      ]
     },
     "metadata": {},
     "output_type": "display_data"
    },
    {
     "data": {
      "text/markdown": [
       "- **2024-09-05 15:10:17.907398**"
      ],
      "text/plain": [
       "<IPython.core.display.Markdown object>"
      ]
     },
     "metadata": {},
     "output_type": "display_data"
    },
    {
     "data": {
      "text/markdown": [
       "\n",
       "<pre style='color: black; background-color: LightGray; font-size: 1em'>We already asked the TMA to move to 45º.\r\n",
       "Since the default values for the EUI might be wrong, we used the EUI to set ACC and vel manually to 0.05º/s(2).\r\n",
       "\r\n",
       "\r\n",
       "We are now at Zenith and Guillem will collect data with LaserTracker.</pre>\n"
      ],
      "text/plain": [
       "<IPython.core.display.Markdown object>"
      ]
     },
     "metadata": {},
     "output_type": "display_data"
    },
    {
     "data": {
      "text/markdown": [
       "- **2024-09-05 15:15:01.149666**"
      ],
      "text/plain": [
       "<IPython.core.display.Markdown object>"
      ]
     },
     "metadata": {},
     "output_type": "display_data"
    },
    {
     "data": {
      "text/markdown": [
       "\n",
       "<pre style='color: black; background-color: LightGray; font-size: 1em'>Moving the telescope now up to 90.01º</pre>\n"
      ],
      "text/plain": [
       "<IPython.core.display.Markdown object>"
      ]
     },
     "metadata": {},
     "output_type": "display_data"
    },
    {
     "data": {
      "text/markdown": [
       "- **2024-09-05 20:24:53.229342**"
      ],
      "text/plain": [
       "<IPython.core.display.Markdown object>"
      ]
     },
     "metadata": {},
     "output_type": "display_data"
    },
    {
     "data": {
      "text/markdown": [
       "\n",
       "<pre style='color: black; background-color: LightGray; font-size: 1em'>UTC 15:18:20 - Something happened in Azimuth (which is powered off) and that was also seen by M2. \r\n",
       "Needs investigation. \r\n",
       "\r\n",
       "\r\n",
       "See the query below:\r\n",
       "https://summit-lsp.lsst.codes/chronograf/sources/1/dashboards/198?refresh=Paused&amp;tempVars%5BFunction%5D=mean&amp;tempVars%5BDownsample%5D=Default&amp;lower=now%28%29%20-%2015m&amp;zoomedLower=2024-09-05T15%3A17%3A43.890Z&amp;zoomedUpper=2024-09-05T15%3A18%3A50.905Z</pre>\n"
      ],
      "text/plain": [
       "<IPython.core.display.Markdown object>"
      ]
     },
     "metadata": {},
     "output_type": "display_data"
    },
    {
     "data": {
      "text/markdown": [
       "- **2024-09-05 20:25:05.147620**"
      ],
      "text/plain": [
       "<IPython.core.display.Markdown object>"
      ]
     },
     "metadata": {},
     "output_type": "display_data"
    },
    {
     "data": {
      "text/markdown": [
       "\n",
       "<pre style='color: black; background-color: LightGray; font-size: 1em'>15:23:23 UTC Bruno went up to the az platform and performed three jumps followed by a pause. This can be seen in the tma az telemetry and also on m2.</pre>\n"
      ],
      "text/plain": [
       "<IPython.core.display.Markdown object>"
      ]
     },
     "metadata": {},
     "output_type": "display_data"
    },
    {
     "data": {
      "text/markdown": [
       "- **2024-09-05 20:24:43.604901**"
      ],
      "text/plain": [
       "<IPython.core.display.Markdown object>"
      ]
     },
     "metadata": {},
     "output_type": "display_data"
    },
    {
     "data": {
      "text/markdown": [
       "\n",
       "<pre style='color: black; background-color: LightGray; font-size: 1em'>Guillem performed measurements with laser tracker at 90.01º\r\n",
       "We are now inserting the locking pins. We will put them into test first. \r\n",
       "\r\n",
       "\r\n",
       "We got the same error as in OBS-585.\r\n",
       "Trying X+ to TEST. \r\n",
       "\r\n",
       "\r\n",
       "We realized we forgot to power up the locking pin.\r\n",
       "We powered X+ on and moved it successfully. \r\n",
       "\r\n",
       "\r\n",
       "Same with locking pin X-. We are all good.</pre>\n"
      ],
      "text/plain": [
       "<IPython.core.display.Markdown object>"
      ]
     },
     "metadata": {},
     "output_type": "display_data"
    },
    {
     "data": {
      "text/markdown": [
       "- **2024-09-05 20:24:30.317775**"
      ],
      "text/plain": [
       "<IPython.core.display.Markdown object>"
      ]
     },
     "metadata": {},
     "output_type": "display_data"
    },
    {
     "data": {
      "text/markdown": [
       "\n",
       "<pre style='color: black; background-color: LightGray; font-size: 1em'>Power off Locking Pin.\r\n",
       "Power off OSS.\r\n",
       "Power off Power Supply.</pre>\n"
      ],
      "text/plain": [
       "<IPython.core.display.Markdown object>"
      ]
     },
     "metadata": {},
     "output_type": "display_data"
    },
    {
     "data": {
      "text/markdown": [
       "- **2024-09-05 18:48:38.908840**"
      ],
      "text/plain": [
       "<IPython.core.display.Markdown object>"
      ]
     },
     "metadata": {},
     "output_type": "display_data"
    },
    {
     "data": {
      "text/markdown": [
       "\n",
       "While the daytime checkouts. The Slew_and_take_image_checkout faulted with <pre style='color: black; background-color: tomato; font-size: 0.875em'>error:\r\n",
       "\r\n",
       "\r\n",
       "Traceback (most recent call last):\r\n",
       "  File \"/opt/lsst/software/stack/miniconda/lib/python3.11/site-packages/lsst/ts/ataos/ataos_csc.py\", line 1321, in correction_loop\r\n",
       "    await corr\r\n",
       "  File \"/opt/lsst/software/stack/miniconda/lib/python3.11/site-packages/lsst/ts/ataos/ataos_csc.py\", line 1669, in set_pressure_m1\r\n",
       "    await self.set_pressure(\r\n",
       "  File \"/opt/lsst/software/stack/miniconda/lib/python3.11/site-packages/lsst/ts/ataos/ataos_csc.py\", line 1762, in set_pressure\r\n",
       "    raise e\r\n",
       "  File \"/opt/lsst/software/stack/miniconda/lib/python3.11/site-packages/lsst/ts/ataos/ataos_csc.py\", line 1756, in set_pressure\r\n",
       "    await cmd_attr.set_start(pressure=pressure, timeout=self.cmd_timeout)\r\n",
       "  File \"/opt/lsst/software/stack/miniconda/lib/python3.11/site-packages/lsst/ts/salobj/topics/remote_command.py\", line 416, in set_start\r\n",
       "    return await self.start(timeout=timeout, wait_done=wait_done)\r\n",
       "           ^^^^^^^^^^^^^^^^^^^^^^^^^^^^^^^^^^^^^^^^^^^^^^^^^^^^^^\r\n",
       "  File \"/opt/lsst/software/stack/miniconda/lib/python3.11/site-packages/lsst/ts/salobj/topics/remote_command.py\", line 487, in start\r\n",
       "    return await cmd_info.next_ackcmd(timeout=timeout)\r\n",
       "           ^^^^^^^^^^^^^^^^^^^^^^^^^^^^^^^^^^^^^^^^^^^\r\n",
       "  File \"/opt/lsst/software/stack/miniconda/lib/python3.11/site-packages/lsst/ts/salobj/topics/remote_command.py\", line 191, in next_ackcmd\r\n",
       "    raise base.AckError(msg=\"Command failed\", ackcmd=ackcmd)\r\n",
       "lsst.ts.salobj.base.AckError: msg='Command failed', ackcmd=(ackcmd private_seqNum=1042063791, ack=&lt;SalRetCode.CMD_TIMEOUT: -304&gt;, error=0, result='Timeout in ATPneumatics while waiting for operation to start.')\r\n",
       "</pre>\n"
      ],
      "text/plain": [
       "<IPython.core.display.Markdown object>"
      ]
     },
     "metadata": {},
     "output_type": "display_data"
    },
    {
     "data": {
      "text/markdown": [
       "- **2024-09-06 00:36:18.575477**"
      ],
      "text/plain": [
       "<IPython.core.display.Markdown object>"
      ]
     },
     "metadata": {},
     "output_type": "display_data"
    },
    {
     "data": {
      "text/markdown": [
       "\n",
       "ATmonochromoeter failed while attempting to cnifgure. Sunk around an hour trying to power on the at_calsys but had to give up.\r\n",
       "Error in run\r\n",
       "Traceback (most recent call last):\r\n",
       "  File \"/opt/lsst/software/stack/conda/envs/lsst-scipipe-8.0.0/lib/python3.11/site-packages/lsst/ts/salobj/base_script.py\", line 603, in do_run\r\n",
       "    await self._run_task\r\n",
       "  File \"/net/obs-env/auto_base_packages/ts_standardscripts/python/lsst/ts/standardscripts/auxtel/calibrations/power_on_atcalsys.py\", line 191, in run\r\n",
       "    await self.configure_atmonochromator()\r\n",
       "  File \"/net/obs-env/auto_base_packages/ts_standardscripts/python/lsst/ts/standardscripts/auxtel/calibrations/power_on_atcalsys.py\", line 287, in configure_atmonochromator\r\n",
       "    await self.monochromator.cmd_updateMonochromatorSetup.set_start(\r\n",
       "  File \"/opt/lsst/software/stack/conda/envs/lsst-scipipe-8.0.0/lib/python3.11/site-packages/lsst/ts/salobj/topics/remote_command.py\", line 416, in set_start\r\n",
       "    return await self.start(timeout=timeout, wait_done=wait_done)\r\n",
       "           ^^^^^^^^^^^^^^^^^^^^^^^^^^^^^^^^^^^^^^^^^^^^^^^^^^^^^^\r\n",
       "  File \"/opt/lsst/software/stack/conda/envs/lsst-scipipe-8.0.0/lib/python3.11/site-packages/lsst/ts/salobj/topics/remote_command.py\", line 487, in start\r\n",
       "    return await cmd_info.next_ackcmd(timeout=timeout)\r\n",
       "           ^^^^^^^^^^^^^^^^^^^^^^^^^^^^^^^^^^^^^^^^^^^\r\n",
       "  File \"/opt/lsst/software/stack/conda/envs/lsst-scipipe-8.0.0/lib/python3.11/site-packages/lsst/ts/salobj/topics/remote_command.py\", line 191, in next_ackcmd\r\n",
       "    raise base.AckError(msg=\"Command failed\", ackcmd=ackcmd)\r\n",
       "<pre style='color: black; background-color: tomato; font-size: 0.875em'>lsst.ts.salobj.base.AckError: msg='Command failed', ackcmd=(ackcmd private_seqNum=2030279430, ack=&lt;SalRetCode.CMD_TIMEOUT: -304&gt;, error=1, result='Timeout')\r\n",
       "</pre>\n"
      ],
      "text/plain": [
       "<IPython.core.display.Markdown object>"
      ]
     },
     "metadata": {},
     "output_type": "display_data"
    },
    {
     "data": {
      "text/markdown": [
       "- Link: [OBS-582](https://rubinobs.atlassian.net/browse/OBS-582)"
      ],
      "text/plain": [
       "<IPython.core.display.Markdown object>"
      ]
     },
     "metadata": {},
     "output_type": "display_data"
    },
    {
     "data": {
      "text/markdown": [
       "- **2024-09-05 20:31:27.608758**"
      ],
      "text/plain": [
       "<IPython.core.display.Markdown object>"
      ]
     },
     "metadata": {},
     "output_type": "display_data"
    },
    {
     "data": {
      "text/markdown": [
       "\n",
       "<pre style='color: black; background-color: LightGray; font-size: 1em'>Proceeding with AT daytime checkout at 16:23 local time</pre>\n"
      ],
      "text/plain": [
       "<IPython.core.display.Markdown object>"
      ]
     },
     "metadata": {},
     "output_type": "display_data"
    },
    {
     "data": {
      "text/markdown": [
       "- **2024-09-05 20:39:25.532539**"
      ],
      "text/plain": [
       "<IPython.core.display.Markdown object>"
      ]
     },
     "metadata": {},
     "output_type": "display_data"
    },
    {
     "data": {
      "text/markdown": [
       "\n",
       "<pre style='color: black; background-color: LightGray; font-size: 1em'>Executive summary AuxTel faults in the afternoon (extracts from Craig Lage):\r\n",
       "\r\n",
       "\r\n",
       "Workings on the ATMCS/ATPneumatics cRIO in the afternoon.\r\n",
       "In the process a bug made the mount torque data disappeared from the EFD. This was finally tracked down and fixed, and the torque data is flowing again. \r\n",
       "Totally unrelated, images after seqNum 11 stopped ingesting. Solved on the afternoon.\r\n",
       "There were several faults when running the daytime checkouts, maybe related with leaving systems in strange states with all of the reboots.\r\n",
       "The biggest problem remains the ATAOS faulting because of communications with ATPneumatics.\r\n",
       "\r\n",
       "\r\n",
       "On a second attempt for daytime checkouts the slew_and_take_image_checkout passed without issues.</pre>\n"
      ],
      "text/plain": [
       "<IPython.core.display.Markdown object>"
      ]
     },
     "metadata": {},
     "output_type": "display_data"
    },
    {
     "data": {
      "text/markdown": [
       "- **2024-09-06 01:29:30.773483**"
      ],
      "text/plain": [
       "<IPython.core.display.Markdown object>"
      ]
     },
     "metadata": {},
     "output_type": "display_data"
    },
    {
     "data": {
      "text/markdown": [
       "\n",
       "<pre style='color: black; background-color: LightGray; font-size: 1em'>Lost some sky time due to ATPtg state cycle. Telescope timeouts (non-TCS) were persistent.</pre>\n"
      ],
      "text/plain": [
       "<IPython.core.display.Markdown object>"
      ]
     },
     "metadata": {},
     "output_type": "display_data"
    },
    {
     "data": {
      "text/markdown": [
       "- Link: [OBS-584](https://rubinobs.atlassian.net/browse/OBS-584)"
      ],
      "text/plain": [
       "<IPython.core.display.Markdown object>"
      ]
     },
     "metadata": {},
     "output_type": "display_data"
    },
    {
     "data": {
      "text/markdown": [
       "- **2024-09-05 20:54:55.706808**"
      ],
      "text/plain": [
       "<IPython.core.display.Markdown object>"
      ]
     },
     "metadata": {},
     "output_type": "display_data"
    },
    {
     "data": {
      "text/markdown": [
       "\n",
       "<pre style='color: black; background-color: LightGray; font-size: 1em'>All the Schedulers (starting with AT, then MT, then OCS) at 16:23 local time</pre>\n"
      ],
      "text/plain": [
       "<IPython.core.display.Markdown object>"
      ]
     },
     "metadata": {},
     "output_type": "display_data"
    },
    {
     "data": {
      "text/markdown": [
       "- **2024-09-05 21:13:33.576699**"
      ],
      "text/plain": [
       "<IPython.core.display.Markdown object>"
      ]
     },
     "metadata": {},
     "output_type": "display_data"
    },
    {
     "data": {
      "text/markdown": [
       "\n",
       "2024/09/05 21:12:22 TAI\r\n",
       "Fault! errorCode=8103, errorReport='Correction loop died.'\r\n",
       "On ATAOS: \r\n",
       "\r\n",
       "\r\n",
       "\r\n",
       "\r\n",
       "  File \"/opt/lsst/software/stack/miniconda/lib/python3.11/site-packages/lsst/ts/salobj/topics/remote_command.py\", line 191, in next_ackcmd\r\n",
       "    raise base.AckError(msg=\"Command failed\", ackcmd=ackcmd)\r\n",
       "<pre style='color: black; background-color: tomato; font-size: 0.875em'>lsst.ts.salobj.base.AckError: msg='Command failed', ackcmd=(ackcmd private_seqNum=1042066578, ack=&lt;SalRetCode.CMD_TIMEOUT: -304&gt;, error=0, result='Timeout in ATPneumatics while waiting for operation to start.')\r\n",
       "</pre>\n"
      ],
      "text/plain": [
       "<IPython.core.display.Markdown object>"
      ]
     },
     "metadata": {},
     "output_type": "display_data"
    },
    {
     "data": {
      "text/markdown": [
       "- **2024-09-05 21:16:13.963746**"
      ],
      "text/plain": [
       "<IPython.core.display.Markdown object>"
      ]
     },
     "metadata": {},
     "output_type": "display_data"
    },
    {
     "data": {
      "text/markdown": [
       "\n",
       "<pre style='color: black; background-color: LightGray; font-size: 1em'>Run vent.py</pre>\n"
      ],
      "text/plain": [
       "<IPython.core.display.Markdown object>"
      ]
     },
     "metadata": {},
     "output_type": "display_data"
    },
    {
     "data": {
      "text/markdown": [
       "- **2024-09-05 21:38:02.881776**"
      ],
      "text/plain": [
       "<IPython.core.display.Markdown object>"
      ]
     },
     "metadata": {},
     "output_type": "display_data"
    },
    {
     "data": {
      "text/markdown": [
       "\n",
       "<pre style='color: black; background-color: LightGray; font-size: 1em'>Block-T4 started. MTHexapod1 was enabled right before.</pre>\n"
      ],
      "text/plain": [
       "<IPython.core.display.Markdown object>"
      ]
     },
     "metadata": {},
     "output_type": "display_data"
    },
    {
     "data": {
      "text/markdown": [
       "- **2024-09-05 22:50:28.389048**"
      ],
      "text/plain": [
       "<IPython.core.display.Markdown object>"
      ]
     },
     "metadata": {},
     "output_type": "display_data"
    },
    {
     "data": {
      "text/markdown": [
       "\n",
       "<pre style='color: black; background-color: LightGray; font-size: 1em'>Blcok-T4 done without issue before dinner.</pre>\n"
      ],
      "text/plain": [
       "<IPython.core.display.Markdown object>"
      ]
     },
     "metadata": {},
     "output_type": "display_data"
    },
    {
     "data": {
      "text/markdown": [
       "- **2024-09-05 22:53:42.560749**"
      ],
      "text/plain": [
       "<IPython.core.display.Markdown object>"
      ]
     },
     "metadata": {},
     "output_type": "display_data"
    },
    {
     "data": {
      "text/markdown": [
       "\n",
       "<pre style='color: black; background-color: LightGray; font-size: 1em'>Preparing BLOCK-T143. Need to ping Tiago R. and Guillem M. but Tiago Mnetioned that He missed the queue that things were ready and did not rebuilt the MTAOS.</pre>\n"
      ],
      "text/plain": [
       "<IPython.core.display.Markdown object>"
      ]
     },
     "metadata": {},
     "output_type": "display_data"
    },
    {
     "data": {
      "text/markdown": [
       "- **2024-09-05 22:55:47.492969**"
      ],
      "text/plain": [
       "<IPython.core.display.Markdown object>"
      ]
     },
     "metadata": {},
     "output_type": "display_data"
    },
    {
     "data": {
      "text/markdown": [
       "\n",
       "<pre style='color: black; background-color: LightGray; font-size: 1em'>Block-T3 run. MThexapod2 enabled.</pre>\n"
      ],
      "text/plain": [
       "<IPython.core.display.Markdown object>"
      ]
     },
     "metadata": {},
     "output_type": "display_data"
    },
    {
     "data": {
      "text/markdown": [
       "- **2024-09-05 23:05:35.562216**"
      ],
      "text/plain": [
       "<IPython.core.display.Markdown object>"
      ]
     },
     "metadata": {},
     "output_type": "display_data"
    },
    {
     "data": {
      "text/markdown": [
       "\n",
       "<pre style='color: black; background-color: LightGray; font-size: 1em'>Block-T3 done without issue.</pre>\n"
      ],
      "text/plain": [
       "<IPython.core.display.Markdown object>"
      ]
     },
     "metadata": {},
     "output_type": "display_data"
    },
    {
     "data": {
      "text/markdown": [
       "- **2024-09-05 23:28:09.017654**"
      ],
      "text/plain": [
       "<IPython.core.display.Markdown object>"
      ]
     },
     "metadata": {},
     "output_type": "display_data"
    },
    {
     "data": {
      "text/markdown": [
       "\n",
       "<pre style='color: black; background-color: LightGray; font-size: 1em'>ComCam is already in simulation mode (checked by Tony J.). Tiago finished the update.</pre>\n"
      ],
      "text/plain": [
       "<IPython.core.display.Markdown object>"
      ]
     },
     "metadata": {},
     "output_type": "display_data"
    },
    {
     "data": {
      "text/markdown": [
       "- **2024-09-05 23:31:39.430533**"
      ],
      "text/plain": [
       "<IPython.core.display.Markdown object>"
      ]
     },
     "metadata": {},
     "output_type": "display_data"
    },
    {
     "data": {
      "text/markdown": [
       "\n",
       "<pre style='color: black; background-color: LightGray; font-size: 1em'>BLOCK-T143. Step 1. Run_command.py for CCCamera to play.</pre>\n"
      ],
      "text/plain": [
       "<IPython.core.display.Markdown object>"
      ]
     },
     "metadata": {},
     "output_type": "display_data"
    },
    {
     "data": {
      "text/markdown": [
       "- **2024-09-05 23:38:09.365827**"
      ],
      "text/plain": [
       "<IPython.core.display.Markdown object>"
      ]
     },
     "metadata": {},
     "output_type": "display_data"
    },
    {
     "data": {
      "text/markdown": [
       "\n",
       "<pre style='color: black; background-color: LightGray; font-size: 1em'>Cirrus are scattered across the sky. We are going to use this time to attempt a full set of calibrations now that the fiberspectrograph is up.</pre>\n"
      ],
      "text/plain": [
       "<IPython.core.display.Markdown object>"
      ]
     },
     "metadata": {},
     "output_type": "display_data"
    },
    {
     "data": {
      "text/markdown": [
       "- **2024-09-05 23:38:28.108053**"
      ],
      "text/plain": [
       "<IPython.core.display.Markdown object>"
      ]
     },
     "metadata": {},
     "output_type": "display_data"
    },
    {
     "data": {
      "text/markdown": [
       "\n",
       "<pre style='color: black; background-color: LightGray; font-size: 1em'>AtWhite light failing to power on. Going to wait 10 minutes until it is cool to try one more time.</pre>\n"
      ],
      "text/plain": [
       "<IPython.core.display.Markdown object>"
      ]
     },
     "metadata": {},
     "output_type": "display_data"
    },
    {
     "data": {
      "text/markdown": [
       "- **2024-09-05 23:39:04.232661**"
      ],
      "text/plain": [
       "<IPython.core.display.Markdown object>"
      ]
     },
     "metadata": {},
     "output_type": "display_data"
    },
    {
     "data": {
      "text/markdown": [
       "\n",
       "<pre style='color: black; background-color: LightGray; font-size: 1em'>Step 1 done even there is no indication on Asummary state CSC. Step 2 - close_loop_comcam.py with g_01 band.</pre>\n"
      ],
      "text/plain": [
       "<IPython.core.display.Markdown object>"
      ]
     },
     "metadata": {},
     "output_type": "display_data"
    },
    {
     "data": {
      "text/markdown": [
       "- **2024-09-05 23:41:32.627163**"
      ],
      "text/plain": [
       "<IPython.core.display.Markdown object>"
      ]
     },
     "metadata": {},
     "output_type": "display_data"
    },
    {
     "data": {
      "text/markdown": [
       "\n",
       "fault on Step 2 with close_loop_comcam.py \r\n",
       "2024/09/05 23:39:57 TAI\r\n",
       "Error in run\r\n",
       "Traceback (most recent call last):\r\n",
       "  File \"/opt/lsst/software/stack/conda/envs/lsst-scipipe-8.0.0/lib/python3.11/site-packages/lsst/ts/salobj/base_script.py\", line 603, in do_run\r\n",
       "    await self._run_task\r\n",
       "  File \"/net/obs-env/auto_base_packages/ts_standardscripts/python/lsst/ts/standardscripts/maintel/base_close_loop.py\", line 508, in run\r\n",
       "    await self.assert_mode_compatibility()\r\n",
       "  File \"/net/obs-env/auto_base_packages/ts_standardscripts/python/lsst/ts/standardscripts/maintel/close_loop_comcam.py\", line 77, in assert_mode_compatibility\r\n",
       "    raise RuntimeError(\"ComCam does not support CWFS mode.\")\r\n",
       "<pre style='color: black; background-color: tomato; font-size: 0.875em'>RuntimeError: ComCam does not support CWFS mode.\r\n",
       "</pre>\n"
      ],
      "text/plain": [
       "<IPython.core.display.Markdown object>"
      ]
     },
     "metadata": {},
     "output_type": "display_data"
    },
    {
     "data": {
      "text/markdown": [
       "- **2024-09-05 23:46:13.165827**"
      ],
      "text/plain": [
       "<IPython.core.display.Markdown object>"
      ]
     },
     "metadata": {},
     "output_type": "display_data"
    },
    {
     "data": {
      "text/markdown": [
       "\n",
       "<pre style='color: black; background-color: LightGray; font-size: 1em'>Attempting power_on_calsys again</pre>\n"
      ],
      "text/plain": [
       "<IPython.core.display.Markdown object>"
      ]
     },
     "metadata": {},
     "output_type": "display_data"
    },
    {
     "data": {
      "text/markdown": [
       "- **2024-09-05 23:51:47.961227**"
      ],
      "text/plain": [
       "<IPython.core.display.Markdown object>"
      ]
     },
     "metadata": {},
     "output_type": "display_data"
    },
    {
     "data": {
      "text/markdown": [
       "\n",
       "<pre style='color: black; background-color: LightGray; font-size: 1em'>Change config. from one in Zephyer to reverted version:\r\n",
       "filter: \"r_03\"\r\n",
       "mode: FAM\r\n",
       "exposure_time: 15\r\n",
       "dz: 1.5\r\n",
       "max_iter: 1\r\n",
       "program: \"BLOCK-T143\"\r\n",
       "reason: \"ComCam_AOS visit 68661\"\r\n",
       "used_dofs: [1, 2, 3, 4, 5, 6, 7, 8, 9, 10]\r\n",
       "apply_corrections: false\r\n",
       "ignore: [\r\n",
       "  \"mtmount\",\r\n",
       "  \"mtptg\",\r\n",
       "  \"mtm1m3\",\r\n",
       "  \"mtm2\",\r\n",
       "  \"mtrotator\",\r\n",
       "  \"mtdome\",\r\n",
       "  \"mtdometrajectory\",\r\n",
       "]\r\n",
       "wep_config: \"tasks:\\n generateDonutCatalogWcsTask:\\n config:\\n anyFilterMapsToThis: phot_g_mean\\n connections.refCatalogs: gaia_dr2_20200414\\n donutSelector.magMax: 15.0\\n donutSelector.magMin: 4.0\\n donutSelector.sourceLimit: 5\\n donutSelector.useCustomMagLimit: true\\n\"</pre>\n"
      ],
      "text/plain": [
       "<IPython.core.display.Markdown object>"
      ]
     },
     "metadata": {},
     "output_type": "display_data"
    },
    {
     "data": {
      "text/markdown": [
       "- **2024-09-05 23:54:54.552138**"
      ],
      "text/plain": [
       "<IPython.core.display.Markdown object>"
      ]
     },
     "metadata": {},
     "output_type": "display_data"
    },
    {
     "data": {
      "text/markdown": [
       "\n",
       "<pre style='color: black; background-color: LightGray; font-size: 1em'>Failed with new config too with timeout error due to hexapod. \r\n",
       "2024/09/05 23:52:18 TAI\r\n",
       "Error in run\r\n",
       "\r\n",
       "\r\n",
       "  File \"/net/obs-env/auto_base_packages/ts_standardscripts/python/lsst/ts/standardscripts/maintel/base_close_loop.py\", line 330, in take_intra_extra_focal_images\r\n",
       "    await self.mtcs.move_camera_hexapod(x=0, y=0, z=z_offset, u=0, v=0)\r\n",
       "  File \"/net/obs-env/auto_base_packages/ts_observatory_control/python/lsst/ts/observatory/control/maintel/mtcs.py\", line 1708, in move_camera_hexapod\r\n",
       "    await self._handle_in_position(\r\n",
       "  File \"/net/obs-env/auto_base_packages/ts_observatory_control/python/lsst/ts/observatory/control/base_tcs.py\", line 1958, in _handle_in_position\r\n",
       "    in_position = await in_position_event.next(flush=False, timeout=timeout)\r\n",
       "                  ^^^^^^^^^^^^^^^^^^^^^^^^^^^^^^^^^^^^^^^^^^^^^^^^^^^^^^^^^^\r\n",
       "  File \"/opt/lsst/software/stack/conda/envs/lsst-scipipe-8.0.0/lib/python3.11/site-packages/lsst/ts/salobj/topics/read_topic.py\", line 681, in next\r\n",
       "    return await self._next(timeout=timeout)\r\n",
       "           ^^^^^^^^^^^^^^^^^^^^^^^^^^^^^^^^^\r\n",
       "  File \"/opt/lsst/software/stack/conda/envs/lsst-scipipe-8.0.0/lib/python3.11/site-packages/lsst/ts/salobj/topics/read_topic.py\", line 693, in _next\r\n",
       "    return await asyncio.wait_for(self._next_task, timeout=timeout)\r\n",
       "           ^^^^^^^^^^^^^^^^^^^^^^^^^^^^^^^^^^^^^^^^^^^^^^^^^^^^^^^^\r\n",
       "  File \"/opt/lsst/software/stack/conda/envs/lsst-scipipe-8.0.0/lib/python3.11/asyncio/tasks.py\", line 502, in wait_for\r\n",
       "    raise exceptions.TimeoutError() from exc\r\n",
       "TimeoutError</pre>\n"
      ],
      "text/plain": [
       "<IPython.core.display.Markdown object>"
      ]
     },
     "metadata": {},
     "output_type": "display_data"
    },
    {
     "data": {
      "text/markdown": [
       "- **2024-09-05 23:57:56.588990**"
      ],
      "text/plain": [
       "<IPython.core.display.Markdown object>"
      ]
     },
     "metadata": {},
     "output_type": "display_data"
    },
    {
     "data": {
      "text/markdown": [
       "\n",
       "<pre style='color: black; background-color: LightGray; font-size: 1em'>Move MThexapod1 to 0 but MThexapod1 went to fault. Low-level controller went to fault state.</pre>\n"
      ],
      "text/plain": [
       "<IPython.core.display.Markdown object>"
      ]
     },
     "metadata": {},
     "output_type": "display_data"
    },
    {
     "data": {
      "text/markdown": [
       "- **2024-09-06 00:05:02.239846**"
      ],
      "text/plain": [
       "<IPython.core.display.Markdown object>"
      ]
     },
     "metadata": {},
     "output_type": "display_data"
    },
    {
     "data": {
      "text/markdown": [
       "\n",
       "<pre style='color: black; background-color: LightGray; font-size: 1em'>Moving hexapod again and worked now.</pre>\n"
      ],
      "text/plain": [
       "<IPython.core.display.Markdown object>"
      ]
     },
     "metadata": {},
     "output_type": "display_data"
    },
    {
     "data": {
      "text/markdown": [
       "- **2024-09-06 00:04:54.045658**"
      ],
      "text/plain": [
       "<IPython.core.display.Markdown object>"
      ]
     },
     "metadata": {},
     "output_type": "display_data"
    },
    {
     "data": {
      "text/markdown": [
       "\n",
       "<pre style='color: black; background-color: LightGray; font-size: 1em'>re-run close_loop_comcam.</pre>\n"
      ],
      "text/plain": [
       "<IPython.core.display.Markdown object>"
      ]
     },
     "metadata": {},
     "output_type": "display_data"
    },
    {
     "data": {
      "text/markdown": [
       "- **2024-09-06 00:06:20.468432**"
      ],
      "text/plain": [
       "<IPython.core.display.Markdown object>"
      ]
     },
     "metadata": {},
     "output_type": "display_data"
    },
    {
     "data": {
      "text/markdown": [
       "\n",
       "024/09/06 00:05:39 TAI\r\n",
       "Error in run\r\n",
       "Traceback (most recent call last):\r\n",
       "  File \"/opt/lsst/software/stack/conda/envs/lsst-scipipe-8.0.0/lib/python3.11/site-packages/lsst/ts/salobj/base_script.py\", line 603, in do_run\r\n",
       "    await self._run_task\r\n",
       "  File \"/net/obs-env/auto_base_packages/ts_standardscripts/python/lsst/ts/standardscripts/maintel/base_close_loop.py\", line 510, in run\r\n",
       "    await self.arun(True)\r\n",
       "  File \"/net/obs-env/auto_base_packages/ts_standardscripts/python/lsst/ts/standardscripts/maintel/base_close_loop.py\", line 443, in arun\r\n",
       "    await self.operation_model_handlers[self.mode]()\r\n",
       "  File \"/net/obs-env/auto_base_packages/ts_standardscripts/python/lsst/ts/standardscripts/maintel/base_close_loop.py\", line 360, in handle_fam_mode\r\n",
       "    await self.mtcs.rem.mtaos.cmd_runWEP.set_start(\r\n",
       "  File \"/opt/lsst/software/stack/conda/envs/lsst-scipipe-8.0.0/lib/python3.11/site-packages/lsst/ts/salobj/topics/remote_command.py\", line 416, in set_start\r\n",
       "    return await self.start(timeout=timeout, wait_done=wait_done)\r\n",
       "           ^^^^^^^^^^^^^^^^^^^^^^^^^^^^^^^^^^^^^^^^^^^^^^^^^^^^^^\r\n",
       "  File \"/opt/lsst/software/stack/conda/envs/lsst-scipipe-8.0.0/lib/python3.11/site-packages/lsst/ts/salobj/topics/remote_command.py\", line 487, in start\r\n",
       "    return await cmd_info.next_ackcmd(timeout=timeout)\r\n",
       "           ^^^^^^^^^^^^^^^^^^^^^^^^^^^^^^^^^^^^^^^^^^^\r\n",
       "  File \"/opt/lsst/software/stack/conda/envs/lsst-scipipe-8.0.0/lib/python3.11/site-packages/lsst/ts/salobj/topics/remote_command.py\", line 191, in next_ackcmd\r\n",
       "    raise base.AckError(msg=\"Command failed\", ackcmd=ackcmd)\r\n",
       "<pre style='color: black; background-color: tomato; font-size: 0.875em'>lsst.ts.salobj.base.AckError: msg='Command failed', ackcmd=(ackcmd private_seqNum=1579091411, ack=&lt;SalRetCode.CMD_FAILED: -302&gt;, error=1, result='Failed: wep_process not set.')\r\n",
       "</pre>\n"
      ],
      "text/plain": [
       "<IPython.core.display.Markdown object>"
      ]
     },
     "metadata": {},
     "output_type": "display_data"
    },
    {
     "data": {
      "text/markdown": [
       "- **2024-09-06 00:08:08.396181**"
      ],
      "text/plain": [
       "<IPython.core.display.Markdown object>"
      ]
     },
     "metadata": {},
     "output_type": "display_data"
    },
    {
     "data": {
      "text/markdown": [
       "\n",
       "<pre style='color: black; background-color: LightGray; font-size: 1em'>ATmonochrometer failed to configure during power_on_atcalsys\r\n",
       "Already sunk 1 hour into trying to turn on a lamp. Calibrations are being dismissed.</pre>\n"
      ],
      "text/plain": [
       "<IPython.core.display.Markdown object>"
      ]
     },
     "metadata": {},
     "output_type": "display_data"
    },
    {
     "data": {
      "text/markdown": [
       "- **2024-09-06 00:10:40.346614**"
      ],
      "text/plain": [
       "<IPython.core.display.Markdown object>"
      ]
     },
     "metadata": {},
     "output_type": "display_data"
    },
    {
     "data": {
      "text/markdown": [
       "\n",
       "While executing the close_loop_comcam.py (BLOCK-T143) MTAOS gives an error (although not in Fault sate):\r\n",
       "\r\n",
       "\r\n",
       "Callback &lt;bound method MTAOS.do_runWEP of &lt;lsst.ts.mtaos.mtaos.MTAOS object at 0x7f4508fa78d0&gt;&gt; failed with data=private_revCode: 73eb1cbb, private_sndStamp: 1725581139.124955, private_rcvStamp: 1725581139.1251993, private_seqNum: 1579091411, private_identity: Script:101082, private_origin: 1895564, visitId: 2024090500002, extraId: 2024090500003, useOCPS: False, config: tasks:\r\n",
       " generateDonutCatalogWcsTask:\r\n",
       " config:\r\n",
       " anyFilterMapsToThis: phot_g_mean\r\n",
       " connections.refCatalogs: gaia_dr2_20200414\r\n",
       " donutSelector.magMax: 15.0\r\n",
       " donutSelector.magMin: 4.0\r\n",
       " donutSelector.sourceLimit: 5\r\n",
       " donutSelector.useCustomMagLimit: true\r\n",
       "Traceback (most recent call last):\r\n",
       "  File \"/home/saluser/repos/ts_mtaos/python/lsst/ts/mtaos/model.py\", line 664, in handle_wep_process\r\n",
       "    log_task, config_file = await self._start_wep_process(\r\n",
       "                            ^^^^^^^^^^^^^^^^^^^^^^^^^^^^^^\r\n",
       "  File \"/home/saluser/repos/ts_mtaos/python/lsst/ts/mtaos/model.py\", line 732, in _start_wep_process\r\n",
       "    config_file = self._save_wep_configuration(\r\n",
       "                  ^^^^^^^^^^^^^^^^^^^^^^^^^^^^^\r\n",
       "  File \"/home/saluser/repos/ts_mtaos/python/lsst/ts/mtaos/model.py\", line 904, in _save_wep_configuration\r\n",
       "    wep_configuration = self.generate_wep_configuration(\r\n",
       "                        ^^^^^^^^^^^^^^^^^^^^^^^^^^^^^^^^\r\n",
       "  File \"/home/saluser/repos/ts_mtaos/python/lsst/ts/mtaos/model.py\", line 878, in generate_wep_configuration\r\n",
       "    return self.wep_configuration_validation[instrument].validate(wep_configuration)\r\n",
       "           ^^^^^^^^^^^^^^^^^^^^^^^^^^^^^^^^^^^^^^^^^^^^^^^^^^^^^^^^^^^^^^^^^^^^^^^^^\r\n",
       "  File \"/opt/lsst/software/stack/conda/envs/lsst-scipipe-8.0.0/lib/python3.11/site-packages/lsst/ts/salobj/validator.py\", line 192, in validate\r\n",
       "    self.defaults_validator.validate(result)\r\n",
       "  File \"/opt/lsst/software/stack/conda/envs/lsst-scipipe-8.0.0/lib/python3.11/site-packages/jsonschema/validators.py\", line 451, in validate\r\n",
       "    raise error\r\n",
       "<pre style='color: black; background-color: tomato; font-size: 0.875em'>jsonschema.exceptions.ValidationError: None is not of type 'object'\r\n",
       "\r\n",
       "\r\n",
       "Failed validating 'type' in schema['properties']['tasks']['properties']['generateDonutCatalogWcsTask']:\r\n",
       "    {'type': 'object',\r\n",
       "     'additionalProperties': False,\r\n",
       "     'properties': {'class': {'type': 'string',\r\n",
       "                              'default': 'lsst.ts.wep.task.generateDonutCatalogWcsTask.GenerateDonutCatalogWcsTask'},\r\n",
       "                    'config': {'properties': {'filterName': {'type': 'string'}}}}}\r\n",
       "\r\n",
       "\r\n",
       "On instance['tasks']['generateDonutCatalogWcsTask']:\r\n",
       "    None\r\n",
       "\r\n",
       "\r\n",
       "During handling of the above exception, another exception occurred:\r\n",
       "\r\n",
       "\r\n",
       "Traceback (most recent call last):\r\n",
       "  File \"/opt/lsst/software/stack/conda/envs/lsst-scipipe-8.0.0/lib/python3.11/site-packages/lsst/ts/salobj/topics/controller_command.py\", line 201, in _run_callback\r\n",
       "    ack = await result  # type: ignore\r\n",
       "          ^^^^^^^^^^^^\r\n",
       "  File \"/home/saluser/repos/ts_mtaos/python/lsst/ts/mtaos/mtaos.py\", line 505, in do_runWEP\r\n",
       "    await self.model.run_wep(\r\n",
       "  File \"/home/saluser/repos/ts_mtaos/python/lsst/ts/mtaos/utility.py\", line 257, in atimed\r\n",
       "    result = await func(*args, **kwargs)\r\n",
       "             ^^^^^^^^^^^^^^^^^^^^^^^^^^^\r\n",
       "  File \"/home/saluser/repos/ts_mtaos/python/lsst/ts/mtaos/model.py\", line 525, in run_wep\r\n",
       "    await self.process_comcam(\r\n",
       "  File \"/home/saluser/repos/ts_mtaos/python/lsst/ts/mtaos/model.py\", line 615, in process_comcam\r\n",
       "    async with self.handle_wep_process(\r\n",
       "  File \"/opt/lsst/software/stack/conda/envs/lsst-scipipe-8.0.0/lib/python3.11/contextlib.py\", line 210, in __aenter__\r\n",
       "    return await anext(self.gen)\r\n",
       "           ^^^^^^^^^^^^^^^^^^^^^\r\n",
       "  File \"/home/saluser/repos/ts_mtaos/python/lsst/ts/mtaos/model.py\", line 684, in handle_wep_process\r\n",
       "    await self._finish_wep_process()\r\n",
       "  File \"/home/saluser/repos/ts_mtaos/python/lsst/ts/mtaos/model.py\", line 837, in _finish_wep_process\r\n",
       "    raise RuntimeError(\"wep_process not set.\")\r\n",
       "RuntimeError: wep_process not set.\r\n",
       "</pre>\n"
      ],
      "text/plain": [
       "<IPython.core.display.Markdown object>"
      ]
     },
     "metadata": {},
     "output_type": "display_data"
    },
    {
     "data": {
      "text/markdown": [
       "- **2024-09-06 00:26:56.127468**"
      ],
      "text/plain": [
       "<IPython.core.display.Markdown object>"
      ]
     },
     "metadata": {},
     "output_type": "display_data"
    },
    {
     "data": {
      "text/markdown": [
       "\n",
       "<pre style='color: black; background-color: LightGray; font-size: 1em'>Same config but with \r\n",
       "wep_config: \"tasks:\\n generateDonutCatalogWcsTask:\\n  config:\\n   anyFilterMapsToThis: phot_g_mean\\n   connections.refCatalogs: gaia_dr2_20200414\\n   donutSelector.magMax: 15.0\\n   donutSelector.magMin: 4.0\\n   donutSelector.sourceLimit: 5\\n   donutSelector.useCustomMagLimit: true\\n</pre>\n"
      ],
      "text/plain": [
       "<IPython.core.display.Markdown object>"
      ]
     },
     "metadata": {},
     "output_type": "display_data"
    },
    {
     "data": {
      "text/markdown": [
       "- **2024-09-06 00:29:51.558297**"
      ],
      "text/plain": [
       "<IPython.core.display.Markdown object>"
      ]
     },
     "metadata": {},
     "output_type": "display_data"
    },
    {
     "data": {
      "text/markdown": [
       "\n",
       "Failed at the end of the script:\r\n",
       "2024/09/06 00:29:03 TAI\r\n",
       "Error in run\r\n",
       "Traceback (most recent call last):\r\n",
       "  File \"/opt/lsst/software/stack/conda/envs/lsst-scipipe-8.0.0/lib/python3.11/site-packages/lsst/ts/salobj/base_script.py\", line 603, in do_run\r\n",
       "    await self._run_task\r\n",
       "  File \"/net/obs-env/auto_base_packages/ts_standardscripts/python/lsst/ts/standardscripts/maintel/base_close_loop.py\", line 510, in run\r\n",
       "    await self.arun(True)\r\n",
       "  File \"/net/obs-env/auto_base_packages/ts_standardscripts/python/lsst/ts/standardscripts/maintel/base_close_loop.py\", line 443, in arun\r\n",
       "    await self.operation_model_handlers[self.mode]()\r\n",
       "  File \"/net/obs-env/auto_base_packages/ts_standardscripts/python/lsst/ts/standardscripts/maintel/base_close_loop.py\", line 360, in handle_fam_mode\r\n",
       "    await self.mtcs.rem.mtaos.cmd_runWEP.set_start(\r\n",
       "  File \"/opt/lsst/software/stack/conda/envs/lsst-scipipe-8.0.0/lib/python3.11/site-packages/lsst/ts/salobj/topics/remote_command.py\", line 416, in set_start\r\n",
       "    return await self.start(timeout=timeout, wait_done=wait_done)\r\n",
       "           ^^^^^^^^^^^^^^^^^^^^^^^^^^^^^^^^^^^^^^^^^^^^^^^^^^^^^^\r\n",
       "  File \"/opt/lsst/software/stack/conda/envs/lsst-scipipe-8.0.0/lib/python3.11/site-packages/lsst/ts/salobj/topics/remote_command.py\", line 487, in start\r\n",
       "    return await cmd_info.next_ackcmd(timeout=timeout)\r\n",
       "           ^^^^^^^^^^^^^^^^^^^^^^^^^^^^^^^^^^^^^^^^^^^\r\n",
       "  File \"/opt/lsst/software/stack/conda/envs/lsst-scipipe-8.0.0/lib/python3.11/site-packages/lsst/ts/salobj/topics/remote_command.py\", line 191, in next_ackcmd\r\n",
       "    raise base.AckError(msg=\"Command failed\", ackcmd=ackcmd)\r\n",
       "<pre style='color: black; background-color: tomato; font-size: 0.875em'>lsst.ts.salobj.base.AckError: msg='Command failed', ackcmd=(ackcmd private_seqNum=1579091411, ack=&lt;SalRetCode.CMD_FAILED: -302&gt;, error=1, result='Failed: wavefrontError write(private_revCode: cdb25a59, private_sndStamp: 1725582543.3115678, private_rcvStamp: 0.0, private_seqNum: 1, private_identity: MTAOS, private_origin: 3159695, sensorId: 0, annularZernikeCoeff: 0.08561753960450617) failed: probably at least one array field is too short')\r\n",
       "</pre>\n"
      ],
      "text/plain": [
       "<IPython.core.display.Markdown object>"
      ]
     },
     "metadata": {},
     "output_type": "display_data"
    },
    {
     "data": {
      "text/markdown": [
       "- **2024-09-06 00:31:46.909487**"
      ],
      "text/plain": [
       "<IPython.core.display.Markdown object>"
      ]
     },
     "metadata": {},
     "output_type": "display_data"
    },
    {
     "data": {
      "text/markdown": [
       "\n",
       "<pre style='color: black; background-color: LightGray; font-size: 1em'>Running prepare for onsky.</pre>\n"
      ],
      "text/plain": [
       "<IPython.core.display.Markdown object>"
      ]
     },
     "metadata": {},
     "output_type": "display_data"
    },
    {
     "data": {
      "text/markdown": [
       "- **2024-09-06 00:32:12.457994**"
      ],
      "text/plain": [
       "<IPython.core.display.Markdown object>"
      ]
     },
     "metadata": {},
     "output_type": "display_data"
    },
    {
     "data": {
      "text/markdown": [
       "\n",
       "<pre style='color: black; background-color: LightGray; font-size: 1em'>On MTAOS:\r\n",
       "Callback &lt;bound method MTAOS.do_runWEP of &lt;lsst.ts.mtaos.mtaos.MTAOS object at 0x7f4508fa78d0&gt;&gt; failed with data=private_revCode: 73eb1cbb, private_sndStamp: 1725582417.9892354, private_rcvStamp: 1725582417.9895887, private_seqNum: 1579091411, private_identity: Script:101083, private_origin: 1934283, visitId: 2024090500004, extraId: 2024090500005, useOCPS: False, config: tasks:\r\n",
       " generateDonutCatalogWcsTask:\r\n",
       "  config:\r\n",
       "   anyFilterMapsToThis: phot_g_mean\r\n",
       "   connections.refCatalogs: gaia_dr2_20200414\r\n",
       "   donutSelector.magMax: 15.0\r\n",
       "   donutSelector.magMin: 4.0\r\n",
       "   donutSelector.sourceLimit: 5\r\n",
       "   donutSelector.useCustomMagLimit: true</pre>\n"
      ],
      "text/plain": [
       "<IPython.core.display.Markdown object>"
      ]
     },
     "metadata": {},
     "output_type": "display_data"
    },
    {
     "data": {
      "text/markdown": [
       "- **2024-09-06 00:33:13.949549**"
      ],
      "text/plain": [
       "<IPython.core.display.Markdown object>"
      ]
     },
     "metadata": {},
     "output_type": "display_data"
    },
    {
     "data": {
      "text/markdown": [
       "\n",
       "<pre style='color: black; background-color: LightGray; font-size: 1em'>Halt BLOCK-T143 here. Need to be checked by Tiago and Guillem.</pre>\n"
      ],
      "text/plain": [
       "<IPython.core.display.Markdown object>"
      ]
     },
     "metadata": {},
     "output_type": "display_data"
    },
    {
     "data": {
      "text/markdown": [
       "- **2024-09-06 00:37:31.193400**"
      ],
      "text/plain": [
       "<IPython.core.display.Markdown object>"
      ]
     },
     "metadata": {},
     "output_type": "display_data"
    },
    {
     "data": {
      "text/markdown": [
       "\n",
       "<pre style='color: black; background-color: LightGray; font-size: 1em'>At is on sky after fitzing with calibrations system</pre>\n"
      ],
      "text/plain": [
       "<IPython.core.display.Markdown object>"
      ]
     },
     "metadata": {},
     "output_type": "display_data"
    },
    {
     "data": {
      "text/markdown": [
       "- **2024-09-06 00:50:04.145255**"
      ],
      "text/plain": [
       "<IPython.core.display.Markdown object>"
      ]
     },
     "metadata": {},
     "output_type": "display_data"
    },
    {
     "data": {
      "text/markdown": [
       "\n",
       "<pre style='color: black; background-color: LightGray; font-size: 1em'>Tiago found that the MTAOS was running with wrong ts_wep version. It is just swapped.</pre>\n"
      ],
      "text/plain": [
       "<IPython.core.display.Markdown object>"
      ]
     },
     "metadata": {},
     "output_type": "display_data"
    },
    {
     "data": {
      "text/markdown": [
       "- **2024-09-06 00:54:40.977624**"
      ],
      "text/plain": [
       "<IPython.core.display.Markdown object>"
      ]
     },
     "metadata": {},
     "output_type": "display_data"
    },
    {
     "data": {
      "text/markdown": [
       "\n",
       "<pre style='color: black; background-color: LightGray; font-size: 1em'>Telescope timed out getting into position. LOVE SQ is responding very slowly, so it's a bit difficult to run new steps.</pre>\n"
      ],
      "text/plain": [
       "<IPython.core.display.Markdown object>"
      ]
     },
     "metadata": {},
     "output_type": "display_data"
    },
    {
     "data": {
      "text/markdown": [
       "- **2024-09-06 00:57:11.080951**"
      ],
      "text/plain": [
       "<IPython.core.display.Markdown object>"
      ]
     },
     "metadata": {},
     "output_type": "display_data"
    },
    {
     "data": {
      "text/markdown": [
       "\n",
       "<pre style='color: black; background-color: LightGray; font-size: 1em'>Timeout error. \r\n",
       "2024/09/06 00:53:25 TAI\r\n",
       "Error in run\r\n",
       "Traceback (most recent call last):\r\n",
       "  File \"/opt/lsst/software/stack/conda/envs/lsst-scipipe-8.0.0/lib/python3.11/asyncio/tasks.py\", line 500, in wait_for\r\n",
       "    return fut.result()\r\n",
       "           ^^^^^^^^^^^^\r\n",
       "asyncio.exceptions.CancelledError\r\n",
       "\r\n",
       "\r\n",
       "The above exception was the direct cause of the following exception:\r\n",
       "\r\n",
       "\r\n",
       "Traceback (most recent call last):\r\n",
       "  File \"/opt/lsst/software/stack/conda/envs/lsst-scipipe-8.0.0/lib/python3.11/site-packages/lsst/ts/salobj/base_script.py\", line 603, in do_run\r\n",
       "    await self._run_task\r\n",
       "  File \"/net/obs-env/auto_base_packages/ts_standardscripts/python/lsst/ts/standardscripts/maintel/base_close_loop.py\", line 510, in run\r\n",
       "    await self.arun(True)\r\n",
       "  File \"/net/obs-env/auto_base_packages/ts_standardscripts/python/lsst/ts/standardscripts/maintel/base_close_loop.py\", line 446, in arun\r\n",
       "    wavefront_error = await self.mtcs.rem.mtaos.evt_wavefrontError.next(\r\n",
       "                      ^^^^^^^^^^^^^^^^^^^^^^^^^^^^^^^^^^^^^^^^^^^^^^^^^^\r\n",
       "  File \"/opt/lsst/software/stack/conda/envs/lsst-scipipe-8.0.0/lib/python3.11/site-packages/lsst/ts/salobj/topics/read_topic.py\", line 681, in next\r\n",
       "    return await self._next(timeout=timeout)\r\n",
       "           ^^^^^^^^^^^^^^^^^^^^^^^^^^^^^^^^^\r\n",
       "  File \"/opt/lsst/software/stack/conda/envs/lsst-scipipe-8.0.0/lib/python3.11/site-packages/lsst/ts/salobj/topics/read_topic.py\", line 693, in _next\r\n",
       "    return await asyncio.wait_for(self._next_task, timeout=timeout)\r\n",
       "           ^^^^^^^^^^^^^^^^^^^^^^^^^^^^^^^^^^^^^^^^^^^^^^^^^^^^^^^^\r\n",
       "  File \"/opt/lsst/software/stack/conda/envs/lsst-scipipe-8.0.0/lib/python3.11/asyncio/tasks.py\", line 502, in wait_for\r\n",
       "    raise exceptions.TimeoutError() from exc\r\n",
       "TimeoutError</pre>\n"
      ],
      "text/plain": [
       "<IPython.core.display.Markdown object>"
      ]
     },
     "metadata": {},
     "output_type": "display_data"
    },
    {
     "data": {
      "text/markdown": [
       "- **2024-09-06 00:59:39.528550**"
      ],
      "text/plain": [
       "<IPython.core.display.Markdown object>"
      ]
     },
     "metadata": {},
     "output_type": "display_data"
    },
    {
     "data": {
      "text/markdown": [
       "\n",
       "<pre style='color: black; background-color: LightGray; font-size: 1em'>Telescope timed out getting into position. LOVE is taking a long time to report errors. Very laggy.</pre>\n"
      ],
      "text/plain": [
       "<IPython.core.display.Markdown object>"
      ]
     },
     "metadata": {},
     "output_type": "display_data"
    },
    {
     "data": {
      "text/markdown": [
       "- **2024-09-06 01:03:44.101506**"
      ],
      "text/plain": [
       "<IPython.core.display.Markdown object>"
      ]
     },
     "metadata": {},
     "output_type": "display_data"
    },
    {
     "data": {
      "text/markdown": [
       "\n",
       "<pre style='color: black; background-color: LightGray; font-size: 1em'>Re-attemp from the step 1 of BLOCK-T143. \r\n",
       "- Step 1 passed. \r\n",
       "- Running Step 2.</pre>\n"
      ],
      "text/plain": [
       "<IPython.core.display.Markdown object>"
      ]
     },
     "metadata": {},
     "output_type": "display_data"
    },
    {
     "data": {
      "text/markdown": [
       "- **2024-09-06 01:07:12.586434**"
      ],
      "text/plain": [
       "<IPython.core.display.Markdown object>"
      ]
     },
     "metadata": {},
     "output_type": "display_data"
    },
    {
     "data": {
      "text/markdown": [
       "\n",
       "<pre style='color: black; background-color: LightGray; font-size: 1em'>Cycling ATPtg due to telescope timeouts.</pre>\n"
      ],
      "text/plain": [
       "<IPython.core.display.Markdown object>"
      ]
     },
     "metadata": {},
     "output_type": "display_data"
    },
    {
     "data": {
      "text/markdown": [
       "- **2024-09-06 01:10:27.434918**"
      ],
      "text/plain": [
       "<IPython.core.display.Markdown object>"
      ]
     },
     "metadata": {},
     "output_type": "display_data"
    },
    {
     "data": {
      "text/markdown": [
       "\n",
       "<pre style='color: black; background-color: LightGray; font-size: 1em'>Step 2 passed. Take_image_comcam.py with following setup:\r\n",
       "exp_times: 15.0\r\n",
       "note: \"ComCam_AOS visit 68661 2/3 seq 941 - Focus 0.0\"\r\n",
       "filter: \"r_03\"\r\n",
       "image_type: \"ACQ\"\r\n",
       "nimages: 1\r\n",
       "program: \"BLOCK-T143\"</pre>\n"
      ],
      "text/plain": [
       "<IPython.core.display.Markdown object>"
      ]
     },
     "metadata": {},
     "output_type": "display_data"
    },
    {
     "data": {
      "text/markdown": [
       "- **2024-09-06 01:13:40.548799**"
      ],
      "text/plain": [
       "<IPython.core.display.Markdown object>"
      ]
     },
     "metadata": {},
     "output_type": "display_data"
    },
    {
     "data": {
      "text/markdown": [
       "\n",
       "Failed. \r\n",
       "2024/09/06 01:10:46 TAI\r\n",
       "Error in run\r\n",
       "Traceback (most recent call last):\r\n",
       "  File \"/opt/lsst/software/stack/conda/envs/lsst-scipipe-8.0.0/lib/python3.11/site-packages/lsst/ts/salobj/topics/remote_command.py\", line 189, in next_ackcmd\r\n",
       "    ackcmd = await self._wait_task\r\n",
       "             ^^^^^^^^^^^^^^^^^^^^^\r\n",
       "  File \"/opt/lsst/software/stack/conda/envs/lsst-scipipe-8.0.0/lib/python3.11/site-packages/lsst/ts/salobj/topics/remote_command.py\", line 214, in _basic_next_ackcmd\r\n",
       "    ackcmd = await asyncio.wait_for(\r\n",
       "             ^^^^^^^^^^^^^^^^^^^^^^^\r\n",
       "  File \"/opt/lsst/software/stack/conda/envs/lsst-scipipe-8.0.0/lib/python3.11/asyncio/tasks.py\", line 502, in wait_for\r\n",
       "    raise exceptions.TimeoutError() from exc\r\n",
       "TimeoutError\r\n",
       "\r\n",
       "\r\n",
       "During handling of the above exception, another exception occurred:\r\n",
       "\r\n",
       "\r\n",
       "Traceback (most recent call last):\r\n",
       "  File \"/opt/lsst/software/stack/conda/envs/lsst-scipipe-8.0.0/lib/python3.11/site-packages/lsst/ts/salobj/base_script.py\", line 603, in do_run\r\n",
       "    await self._run_task\r\n",
       "  File \"/net/obs-env/auto_base_packages/ts_standardscripts/python/lsst/ts/standardscripts/base_take_image.py\", line 243, in run\r\n",
       "    await asyncio.gather(*setup_tasks)\r\n",
       "  File \"/net/obs-env/auto_base_packages/ts_observatory_control/python/lsst/ts/observatory/control/maintel/comcam.py\", line 206, in setup_instrument\r\n",
       "    await self.setup_filter(filter=str(kwargs[\"filter\"]))\r\n",
       "  File \"/net/obs-env/auto_base_packages/ts_observatory_control/python/lsst/ts/observatory/control/maintel/comcam.py\", line 226, in setup_filter\r\n",
       "    await self.rem.cccamera.cmd_setFilter.set_start(\r\n",
       "  File \"/opt/lsst/software/stack/conda/envs/lsst-scipipe-8.0.0/lib/python3.11/site-packages/lsst/ts/salobj/topics/remote_command.py\", line 416, in set_start\r\n",
       "    return await self.start(timeout=timeout, wait_done=wait_done)\r\n",
       "           ^^^^^^^^^^^^^^^^^^^^^^^^^^^^^^^^^^^^^^^^^^^^^^^^^^^^^^\r\n",
       "  File \"/opt/lsst/software/stack/conda/envs/lsst-scipipe-8.0.0/lib/python3.11/site-packages/lsst/ts/salobj/topics/remote_command.py\", line 487, in start\r\n",
       "    return await cmd_info.next_ackcmd(timeout=timeout)\r\n",
       "           ^^^^^^^^^^^^^^^^^^^^^^^^^^^^^^^^^^^^^^^^^^^\r\n",
       "  File \"/opt/lsst/software/stack/conda/envs/lsst-scipipe-8.0.0/lib/python3.11/site-packages/lsst/ts/salobj/topics/remote_command.py\", line 205, in next_ackcmd\r\n",
       "    raise base.AckTimeoutError(\r\n",
       "<pre style='color: black; background-color: tomato; font-size: 0.875em'>lsst.ts.salobj.base.AckTimeoutError: msg='Timed out waiting for command acknowledgement', ackcmd=(ackcmd private_seqNum=1520055159, ack=&lt;SalRetCode.CMD_NOACK: -301&gt;, error=0, result='No command acknowledgement seen')\r\n",
       "</pre>\n"
      ],
      "text/plain": [
       "<IPython.core.display.Markdown object>"
      ]
     },
     "metadata": {},
     "output_type": "display_data"
    },
    {
     "data": {
      "text/markdown": [
       "- **2024-09-06 01:19:52.922068**"
      ],
      "text/plain": [
       "<IPython.core.display.Markdown object>"
      ]
     },
     "metadata": {},
     "output_type": "display_data"
    },
    {
     "data": {
      "text/markdown": [
       "\n",
       "<pre style='color: black; background-color: LightGray; font-size: 1em'>Issue with timeout. Tiago mentioned that he needs to talk to Tony J about these timeout. Need an IN_PROGRESS ack for filter changes.</pre>\n"
      ],
      "text/plain": [
       "<IPython.core.display.Markdown object>"
      ]
     },
     "metadata": {},
     "output_type": "display_data"
    },
    {
     "data": {
      "text/markdown": [
       "- **2024-09-06 01:42:53.756168**"
      ],
      "text/plain": [
       "<IPython.core.display.Markdown object>"
      ]
     },
     "metadata": {},
     "output_type": "display_data"
    },
    {
     "data": {
      "text/markdown": [
       "\n",
       "<pre style='color: black; background-color: LightGray; font-size: 1em'>K.T mentioned that this happened because the header values seem to be changing within a focal plane.</pre>\n"
      ],
      "text/plain": [
       "<IPython.core.display.Markdown object>"
      ]
     },
     "metadata": {},
     "output_type": "display_data"
    },
    {
     "data": {
      "text/markdown": [
       "- **2024-09-06 01:44:46.392415**"
      ],
      "text/plain": [
       "<IPython.core.display.Markdown object>"
      ]
     },
     "metadata": {},
     "output_type": "display_data"
    },
    {
     "data": {
      "text/markdown": [
       "\n",
       "<pre style='color: black; background-color: LightGray; font-size: 1em'>Re-enabled scheduler.</pre>\n"
      ],
      "text/plain": [
       "<IPython.core.display.Markdown object>"
      ]
     },
     "metadata": {},
     "output_type": "display_data"
    },
    {
     "data": {
      "text/markdown": [
       "- **2024-09-06 02:26:33.877824**"
      ],
      "text/plain": [
       "<IPython.core.display.Markdown object>"
      ]
     },
     "metadata": {},
     "output_type": "display_data"
    },
    {
     "data": {
      "text/markdown": [
       "\n",
       "<pre style='color: black; background-color: LightGray; font-size: 1em'>Bump test (check_actutator) with the following configuration. BLOCK-T144. \r\n",
       "program: BLOCK-T144\r\n",
       "reason: BLOCK-T144\r\n",
       "ignore_actuators:\r\n",
       "-423</pre>\n"
      ],
      "text/plain": [
       "<IPython.core.display.Markdown object>"
      ]
     },
     "metadata": {},
     "output_type": "display_data"
    },
    {
     "data": {
      "text/markdown": [
       "- **2024-09-06 03:36:33.267786**"
      ],
      "text/plain": [
       "<IPython.core.display.Markdown object>"
      ]
     },
     "metadata": {},
     "output_type": "display_data"
    },
    {
     "data": {
      "text/markdown": [
       "\n",
       "Bumptest done. 2024/09/06 03:32:29 TAI\r\n",
       "Error in run\r\n",
       "Traceback (most recent call last):\r\n",
       "  File \"/opt/lsst/software/stack/conda/envs/lsst-scipipe-8.0.0/lib/python3.11/site-packages/lsst/ts/salobj/base_script.py\", line 603, in do_run\r\n",
       "    await self._run_task\r\n",
       "  File \"/net/obs-env/auto_base_packages/ts_standardscripts/python/lsst/ts/standardscripts/base_block_script.py\", line 302, in run\r\n",
       "    await self.run_block()\r\n",
       "  File \"/net/obs-env/auto_base_packages/ts_standardscripts/python/lsst/ts/standardscripts/maintel/m1m3/check_actuators.py\", line 335, in run_block\r\n",
       "    raise RuntimeError(error_message)\r\n",
       "<pre style='color: black; background-color: tomato; font-size: 0.875em'>RuntimeError: Actuators [133, 138, 220, 236, 240, 320, 330, 335] FAILED the bump test. \r\n",
       " SAA (ID, Pri Index): 133:32, 138:37, 220:55, 236:70, 240:74, 320:97, 330:107, 335:112 \r\n",
       " DAA (ID, Sec Index): \r\n",
       "\r\n",
       "\r\n",
       "2024/09/06 03:32:29 TAI\r\n",
       "Actuators [133, 138, 220, 236, 240, 320, 330, 335] FAILED the bump test. \r\n",
       " SAA (ID, Pri Index): 133:32, 138:37, 220:55, 236:70, 240:74, 320:97, 330:107, 335:112 \r\n",
       " DAA (ID, Sec Index): \r\n",
       "</pre>\n"
      ],
      "text/plain": [
       "<IPython.core.display.Markdown object>"
      ]
     },
     "metadata": {},
     "output_type": "display_data"
    },
    {
     "data": {
      "text/markdown": [
       "- **2024-09-06 03:41:24.795954**"
      ],
      "text/plain": [
       "<IPython.core.display.Markdown object>"
      ]
     },
     "metadata": {},
     "output_type": "display_data"
    },
    {
     "data": {
      "text/markdown": [
       "\n",
       "<pre style='color: black; background-color: LightGray; font-size: 1em'>Done for Block-T144. Start BLOCK-T145, hardpoint test.</pre>\n"
      ],
      "text/plain": [
       "<IPython.core.display.Markdown object>"
      ]
     },
     "metadata": {},
     "output_type": "display_data"
    },
    {
     "data": {
      "text/markdown": [
       "- **2024-09-06 05:39:05.272652**"
      ],
      "text/plain": [
       "<IPython.core.display.Markdown object>"
      ]
     },
     "metadata": {},
     "output_type": "display_data"
    },
    {
     "data": {
      "text/markdown": [
       "\n",
       "<pre style='color: black; background-color: LightGray; font-size: 1em'>Done for BLOCK-T145. Then run BLOCK-T139 to close the night. \r\n",
       "MTHexapod1, MTHexapod2, and MTM1M3 in disabled now.</pre>\n"
      ],
      "text/plain": [
       "<IPython.core.display.Markdown object>"
      ]
     },
     "metadata": {},
     "output_type": "display_data"
    },
    {
     "data": {
      "text/markdown": [
       "-------------"
      ],
      "text/plain": [
       "<IPython.core.display.Markdown object>"
      ]
     },
     "metadata": {},
     "output_type": "display_data"
    }
   ],
   "source": [
    "# Narrative Report\n",
    "# Time Log\n",
    "allrep.nar_rep.time_log_as_markdown()"
   ]
  },
  {
   "cell_type": "markdown",
   "id": "28",
   "metadata": {},
   "source": [
    "<a id=\"dev-only\"></a>\n",
    "# Developer Only Section \n",
    "Contains stuff only expected to be useful to developers.\n",
    "\n",
    "May also contain sections that have moved out of he user section because they are not defined in the Storyboard."
   ]
  },
  {
   "cell_type": "markdown",
   "id": "9bf79dd4-60b7-4bc8-bd33-16ffb6861b21",
   "metadata": {},
   "source": [
    "## Experimental "
   ]
  },
  {
   "cell_type": "markdown",
   "id": "44e1b0f6-6750-4c4b-8ca6-9e1ddf090d1a",
   "metadata": {},
   "source": [
    "### Parse pasted ERROR"
   ]
  },
  {
   "cell_type": "code",
   "execution_count": 16,
   "id": "7d5c3c53-de57-4f67-b046-54252b89169f",
   "metadata": {},
   "outputs": [
    {
     "data": {
      "text/markdown": [
       "<code style=\"background-color: gray; color: yellow\">BEG: This is my text\n",
       "that goes on for multiple lines\n",
       "   and this one started with 3 spaces\n",
       "                and this one with 4 tabs\n",
       "back to first column.:END\n",
       "</code>"
      ],
      "text/plain": [
       "<IPython.core.display.Markdown object>"
      ]
     },
     "metadata": {},
     "output_type": "display_data"
    },
    {
     "data": {
      "text/markdown": [
       "<pre style=\"background-color: LightGray; color: black\">BEG: This is my text\n",
       "that goes on for multiple lines\n",
       "   and this one started with 3 spaces\n",
       "                and this one with 4 tabs\n",
       "back to first column.:END\n",
       "</pre>"
      ],
      "text/plain": [
       "<IPython.core.display.Markdown object>"
      ]
     },
     "metadata": {},
     "output_type": "display_data"
    }
   ],
   "source": [
    "import lsst.ts.logging_and_reporting.reports as rep\n",
    "text = '''BEG: This is my text\n",
    "that goes on for multiple lines\n",
    "   and this one started with 3 spaces\n",
    "                and this one with 4 tabs\n",
    "back to first column.:END\n",
    "'''\n",
    "md(f'<code style=\"background-color: gray; color: yellow\">{text}</code>')\n",
    "md(f'<pre style=\"background-color: LightGray; color: black\">{text}</pre>')"
   ]
  },
  {
   "cell_type": "code",
   "execution_count": 17,
   "id": "055b4b7f-cb51-4e28-99ed-8c0e4c803aab",
   "metadata": {},
   "outputs": [
    {
     "data": {
      "text/markdown": [
       "<pre style=\"color: black; background-color: LightGray;\">BEG: This is my text\n",
       "that goes on for multiple lines\n",
       "   and this one started with 3 spaces\n",
       "                and this one with 4 tabs\n",
       "back to first column.:END\n",
       "</pre>"
      ],
      "text/plain": [
       "<IPython.core.display.Markdown object>"
      ]
     },
     "metadata": {},
     "output_type": "display_data"
    },
    {
     "data": {
      "text/markdown": [
       "<pre style=\"color: black; background-color: tomato;\">BEG: This is my text\n",
       "that goes on for multiple lines\n",
       "   and this one started with 3 spaces\n",
       "                and this one with 4 tabs\n",
       "back to first column.:END\n",
       "</pre>"
      ],
      "text/plain": [
       "<IPython.core.display.Markdown object>"
      ]
     },
     "metadata": {},
     "output_type": "display_data"
    }
   ],
   "source": [
    "def htmlcode(text, fgcolor=\"black\", bgcolor=\"white\"):\n",
    "    style = f'style=\"color: {fgcolor}; background-color: {bgcolor};\"'\n",
    "    elem = 'pre' # 'code'\n",
    "    return f\"<{elem} {style}>{text}</{elem}>\"\n",
    "\n",
    "md(htmlcode(text, bgcolor='LightGray'))\n",
    "md(htmlcode(text, bgcolor='tomato'))"
   ]
  },
  {
   "cell_type": "markdown",
   "id": "edd20807-7942-4020-9e58-99d619ff83a1",
   "metadata": {},
   "source": [
    "### Widgets"
   ]
  },
  {
   "cell_type": "code",
   "execution_count": 18,
   "id": "30",
   "metadata": {},
   "outputs": [
    {
     "data": {
      "application/vnd.jupyter.widget-view+json": {
       "model_id": "3f0e0b43f94a4b62a78691ba89e7a7eb",
       "version_major": 2,
       "version_minor": 0
      },
      "text/plain": [
       "interactive(children=(Checkbox(value=False, description='show_records'), Output()), _dom_classes=('widget-inte…"
      ]
     },
     "metadata": {},
     "output_type": "display_data"
    }
   ],
   "source": [
    "from ipywidgets import interact, interactive, fixed, interact_manual\n",
    "import ipywidgets as widgets\n",
    "import pandas as pd\n",
    "\n",
    "records = [dict(a=i, b=i, c=i, d=i, e=i) for i in range(100)]\n",
    "\n",
    "\n",
    "def records_toggle(show_records):\n",
    "    if show_records:\n",
    "        return pd.DataFrame(records)\n",
    "    else:\n",
    "        return print(f\"Number of records: {len(records)}\")\n",
    "\n",
    "\n",
    "interact(records_toggle, show_records=False);"
   ]
  },
  {
   "cell_type": "markdown",
   "id": "32",
   "metadata": {},
   "source": [
    "## Overview \n"
   ]
  },
  {
   "cell_type": "code",
   "execution_count": 19,
   "id": "23484f05-16dd-4827-8865-0b1158cd489a",
   "metadata": {},
   "outputs": [
    {
     "name": "stdout",
     "output_type": "stream",
     "text": [
      "WARNING: failed to automatically determine site\n"
     ]
    }
   ],
   "source": [
    "try:\n",
    "    import lsst.ts.logging_and_reporting.version\n",
    "    lrversion = lsst.ts.logging_and_reporting.version.__version__\n",
    "except:\n",
    "    lrversion = \"LIVE\"\n",
    "\n",
    "try:\n",
    "    from lsst.summit.utils import ConsDbClient\n",
    "    have_consdb = True\n",
    "except:\n",
    "    have_consdb = False"
   ]
  },
  {
   "cell_type": "code",
   "execution_count": 20,
   "id": "33",
   "metadata": {},
   "outputs": [
    {
     "data": {
      "text/markdown": [
       "## Project-Wide Night(s) Report \n",
       "- Run on logs and databases from **https://summit-lsp.lsst.codes/**\n",
       "- Report **2 observing night(s)** with the last reported night starting on **2024-09-06 12:00:00**.\n",
       "- min_dayobs='2024-09-05', max_dayobs='2024-09-07'\n",
       "- Using ***Prototype* Logging and Reporting** Version: **0.1.dev145+gf2a5765.d20241014**\n",
       "- have_consdb = True\n"
      ],
      "text/plain": [
       "<IPython.core.display.Markdown object>"
      ]
     },
     "metadata": {},
     "output_type": "display_data"
    }
   ],
   "source": [
    "# Display overview of Report context\n",
    "md(\n",
    "    f\"\"\"## Project-Wide Night(s) Report \n",
    "- Run on logs and databases from **{server}/**\n",
    "- Report **{days} observing night(s)** with the last reported night starting on **{date}**.\n",
    "- min_dayobs={allsrc.min_dayobs!r}, max_dayobs={allsrc.max_dayobs!r}\n",
    "- Using ***Prototype* Logging and Reporting** Version: **{lrversion}**\n",
    "- {have_consdb = }\n",
    "\"\"\"\n",
    ")"
   ]
  },
  {
   "cell_type": "markdown",
   "id": "34",
   "metadata": {},
   "source": [
    "## This report uses the following data sources\n",
    "- NightReport\n",
    "- Exposurelog\n",
    "- Narrativelog\n",
    "- EFD\n",
    "- ConsDB\n",
    "- (DDV)\n",
    "- (Almanac from Astroplan)"
   ]
  },
  {
   "cell_type": "markdown",
   "id": "35",
   "metadata": {},
   "source": [
    "## DDV "
   ]
  },
  {
   "cell_type": "code",
   "execution_count": 21,
   "id": "36",
   "metadata": {
    "jupyter": {
     "source_hidden": true
    }
   },
   "outputs": [
    {
     "data": {
      "text/markdown": [
       "Access DDV part of RubinTV: https://summit-lsp.lsst.codes/rubintv-dev/ddv/index.html"
      ],
      "text/plain": [
       "<IPython.core.display.Markdown object>"
      ]
     },
     "metadata": {},
     "output_type": "display_data"
    }
   ],
   "source": [
    "DDV = (\n",
    "    f\"{server}/rubintv-dev/ddv/index.html\"\n",
    "    if \"summit\" in server\n",
    "    else f\"{server}/rubintv/ddv/index.html\"\n",
    ")\n",
    "md(f\"Access DDV part of RubinTV: {DDV}\")"
   ]
  },
  {
   "cell_type": "markdown",
   "id": "37",
   "metadata": {},
   "source": [
    "## Where was this run?\n",
    "\n",
    "The environments that have everything needed to run this page are:\n",
    "\n",
    "    https://summit-lsp.lsst.codes\n",
    "    https://usdf-rsp-dev.slac.stanford.edu\n",
    "\n",
    "However, Times Square does not run on the Summit. It does run on USDF-dev.\n"
   ]
  },
  {
   "cell_type": "markdown",
   "id": "38",
   "metadata": {},
   "source": [
    "## Section overviews moved here"
   ]
  },
  {
   "cell_type": "code",
   "execution_count": 22,
   "id": "39",
   "metadata": {
    "jupyter": {
     "source_hidden": true
    }
   },
   "outputs": [
    {
     "data": {
      "text/markdown": [
       "### Overview for Service: `nightreport` [2]"
      ],
      "text/plain": [
       "<IPython.core.display.Markdown object>"
      ]
     },
     "metadata": {},
     "output_type": "display_data"
    },
    {
     "name": "stdout",
     "output_type": "stream",
     "text": [
      "None\n"
     ]
    },
    {
     "data": {
      "text/markdown": [
       "- Endpoint: https://summit-lsp.lsst.codes/nightreport/reports?is_human=either&is_valid=true&order_by=-day_obs&min_day_obs=20240905&max_day_obs=20240907&limit=999"
      ],
      "text/plain": [
       "<IPython.core.display.Markdown object>"
      ]
     },
     "metadata": {},
     "output_type": "display_data"
    },
    {
     "name": "stdout",
     "output_type": "stream",
     "text": [
      "None\n",
      "- Got 2 records.  \n"
     ]
    },
    {
     "data": {
      "text/markdown": [
       "### Overview for Service: `exposurelog` [0]"
      ],
      "text/plain": [
       "<IPython.core.display.Markdown object>"
      ]
     },
     "metadata": {},
     "output_type": "display_data"
    },
    {
     "name": "stdout",
     "output_type": "stream",
     "text": [
      "None\n"
     ]
    },
    {
     "data": {
      "text/markdown": [
       "- Endpoint: https://summit-lsp.lsst.codes/exposurelog/messages?is_human=either&is_valid=true&order_by=-day_obs&min_day_obs=20240905&max_day_obs=20240907&limit=999"
      ],
      "text/plain": [
       "<IPython.core.display.Markdown object>"
      ]
     },
     "metadata": {},
     "output_type": "display_data"
    },
    {
     "name": "stdout",
     "output_type": "stream",
     "text": [
      "None\n",
      "- Got 0 records.  \n"
     ]
    },
    {
     "data": {
      "text/markdown": [
       "### Overview for Service: `narrativelog` [97]"
      ],
      "text/plain": [
       "<IPython.core.display.Markdown object>"
      ]
     },
     "metadata": {},
     "output_type": "display_data"
    },
    {
     "name": "stdout",
     "output_type": "stream",
     "text": [
      "None\n"
     ]
    },
    {
     "data": {
      "text/markdown": [
       "- Endpoint: https://summit-lsp.lsst.codes/narrativelog/messages?is_human=either&is_valid=true&order_by=-date_added&min_date_added=2024-09-05T00%3A00%3A00&max_date_added=2024-09-07T00%3A00%3A00&limit=999"
      ],
      "text/plain": [
       "<IPython.core.display.Markdown object>"
      ]
     },
     "metadata": {},
     "output_type": "display_data"
    },
    {
     "name": "stdout",
     "output_type": "stream",
     "text": [
      "None\n",
      "- Got 97 records.  \n"
     ]
    }
   ],
   "source": [
    "# Night Report Overview\n",
    "allrep.nig_rep.overview()\n",
    "# Exposure Report Overview\n",
    "allrep.exp_rep.overview()\n",
    "# Narrative Report Overview\n",
    "allrep.nar_rep.overview()"
   ]
  },
  {
   "cell_type": "code",
   "execution_count": 23,
   "id": "40",
   "metadata": {},
   "outputs": [],
   "source": [
    "# Conditionally display our current ability to connect to all needed endpoints.\n",
    "if False and not os.environ.get(\"EXTERNAL_INSTANCE_URL\"):\n",
    "    md(\"## Dashboard\")\n",
    "    md(\"(This is not done when running under Times Square.)\")\n",
    "    %run ./dashboard.ipynb"
   ]
  },
  {
   "cell_type": "markdown",
   "id": "41",
   "metadata": {},
   "source": [
    "## Finale"
   ]
  },
  {
   "cell_type": "code",
   "execution_count": 24,
   "id": "42",
   "metadata": {
    "jupyter": {
     "source_hidden": true
    }
   },
   "outputs": [
    {
     "name": "stdout",
     "output_type": "stream",
     "text": [
      "Finished 2024-10-22 23:35:50.963185\n"
     ]
    }
   ],
   "source": [
    "print(f\"Finished {str(dt.datetime.now())}\")"
   ]
  }
 ],
 "metadata": {
  "kernelspec": {
   "display_name": "Python 3 (ipykernel)",
   "language": "python",
   "name": "python3"
  },
  "language_info": {
   "codemirror_mode": {
    "name": "ipython",
    "version": 3
   },
   "file_extension": ".py",
   "mimetype": "text/x-python",
   "name": "python",
   "nbconvert_exporter": "python",
   "pygments_lexer": "ipython3",
   "version": "3.11.9"
  }
 },
 "nbformat": 4,
 "nbformat_minor": 5
}
