{
 "cells": [
  {
   "cell_type": "markdown",
   "id": "0",
   "metadata": {},
   "source": [
    "# Initialize\n",
    "This section is a developer aid; TODO remove later!\n",
    "*Align with [storyboard Version 15](https://rubinobs.atlassian.net/wiki/pages/viewpage.action?pageId=132612364&pageVersion=15)*"
   ]
  },
  {
   "cell_type": "code",
   "execution_count": 1,
   "id": "1",
   "metadata": {},
   "outputs": [],
   "source": [
    "# Parameters.\n",
    "# Times Square replaces this cell with the user's parameters.\n",
    "\n",
    "# The run-time defaults for all of these parameters are in NightLog.yaml\n",
    "# Under Times Square, the run-time defaults always override values given here.\n",
    "# Values here are used for local tests.\n",
    "\n",
    "# day_obs values: TODAY, YESTERDAY, YYYY-MM-DD\n",
    "# Report on observing nights that start upto but not included this day.\n",
    "#!day_obs = '2024-09-25' # Value to use for local testing (Summit)\n",
    "day_obs = \"2024-09-25\"  # TODO Change to 'YESTERDAY' to test with default before push\n",
    "\n",
    "# Total number of days of data to display (ending on day_obs)\n",
    "number_of_days = \"1\"  # TODO Change to '1' to test with default before push"
   ]
  },
  {
   "cell_type": "code",
   "execution_count": 2,
   "id": "2",
   "metadata": {},
   "outputs": [
    {
     "name": "stdout",
     "output_type": "stream",
     "text": [
      "WARNING: failed to automatically determine site\n"
     ]
    }
   ],
   "source": [
    "import datetime as dt\n",
    "import os\n",
    "from collections import defaultdict\n",
    "from pprint import pformat, pp\n",
    "from urllib.parse import urlencode, urlparse\n",
    "\n",
    "import pandas as pd\n",
    "\n",
    "\n",
    "# When running under Times Square, install pkg from github.\n",
    "# Otherwise use what is installed locally (intended to be dev editiable pkg)\n",
    "if os.environ.get(\"EXTERNAL_INSTANCE_URL\"):\n",
    "    print(\n",
    "        'Installing \"lsst.ts.logging_and_reporting\" from github using \"prototype\" branch....'\n",
    "    )\n",
    "    print('TODO: Make the need for this go away by getting Logging_and_Reporting installed in RSP.')\n",
    "    !pip install --upgrade git+https://github.com/lsst-ts/ts_logging_and_reporting.git@prototype > /dev/null 2>&1\n",
    "import lsst.ts.logging_and_reporting.almanac as alm\n",
    "import lsst.ts.logging_and_reporting.reports as rep\n",
    "from lsst.ts.logging_and_reporting.all_sources import AllSources\n",
    "from lsst.ts.logging_and_reporting.all_sources import uniform_field_counts\n",
    "from lsst.ts.logging_and_reporting.all_reports import AllReports\n",
    "\n",
    "import lsst.ts.logging_and_reporting.utils as ut\n",
    "from lsst.ts.logging_and_reporting.reports import md, mdlist\n",
    "\n",
    "try:\n",
    "    import lsst.ts.logging_and_reporting.version\n",
    "\n",
    "    lrversion = lsst.ts.logging_and_reporting.version.__version__\n",
    "except:\n",
    "    lrversion = \"LIVE\"\n",
    "\n",
    "try:\n",
    "    from lsst.summit.utils import ConsDbClient\n",
    "\n",
    "    have_consdb = True\n",
    "except:\n",
    "    have_consdb = False"
   ]
  },
  {
   "cell_type": "code",
   "execution_count": 3,
   "id": "3",
   "metadata": {},
   "outputs": [],
   "source": [
    "# Normalize Parameters (both explicit Times Squares params, in implicit ones)\n",
    "limit = 5000  # YAGNI for Auto get more if this isn't enough to get all requested DAYS\n",
    "response_timeout = 3.05  # seconds, how long to wait for connection\n",
    "read_timeout = 20  # seconds\n",
    "timeout = (float(response_timeout), float(read_timeout))\n",
    "\n",
    "date = ut.get_datetime_from_dayobs_str(day_obs)\n",
    "# date:  is EXCLUSIVE (upto, but not including)\n",
    "days = int(number_of_days)\n",
    "\n",
    "# Thus: [min_day_obs,max_day_obs)\n",
    "# Format: string, YYYY-MM-DD\n",
    "min_date = date - dt.timedelta(days=days - 1)\n",
    "max_date = date + dt.timedelta(days=1)\n",
    "min_day_obs = min_date.strftime(\"%Y-%m-%d\")  # Inclusive\n",
    "max_day_obs = max_date.strftime(\"%Y-%m-%d\")  # prep for Exclusive\n",
    "\n",
    "# Experimental Features config\n",
    "experimental = dict(\n",
    "    exposure_type_tally=True,\n",
    "    parse_error_in_log=True,\n",
    "    )"
   ]
  },
  {
   "cell_type": "code",
   "execution_count": 4,
   "id": "98ceb081-0dc8-488d-bb59-ff736f095021",
   "metadata": {},
   "outputs": [],
   "source": [
    "# Set default env to \"usdf\" and try before PUSH to repo.\n",
    "summit = \"https://summit-lsp.lsst.codes\"\n",
    "usdf = \"https://usdf-rsp-dev.slac.stanford.edu\"\n",
    "tucson = \"https://tucson-teststand.lsst.codes\"\n",
    "\n",
    "# The default provided here is for local testing.\n",
    "# Under Times Square it is ignored.\n",
    "server = os.environ.get(\n",
    "    \"EXTERNAL_INSTANCE_URL\", summit\n",
    ")  # TODO try with \"usdf\" before push (else \"summit\")"
   ]
  },
  {
   "cell_type": "code",
   "execution_count": 5,
   "id": "c2b3a188-cb0b-4ca1-910e-889aa5b2090a",
   "metadata": {},
   "outputs": [],
   "source": [
    "# Read records from (almost) all sources\n",
    "allsrc = AllSources(server_url=server,\n",
    "                    min_dayobs=min_day_obs,\n",
    "                    max_dayobs=max_day_obs,\n",
    "                   )\n",
    "allrep = AllReports(allsrc=allsrc)"
   ]
  },
  {
   "cell_type": "markdown",
   "id": "b615b876-f4fb-4d32-a76a-9bcf88f5b935",
   "metadata": {},
   "source": [
    "<head>\n",
    "<style>\n",
    "code {\n",
    "  font-family: Consolas,\"courier new\";\n",
    "  color: crimson;\n",
    "  background-color: #f1f1f1;\n",
    "  padding: 2px;\n",
    "  font-size: 105%;\n",
    "}\n",
    "</style>\n",
    "</head>"
   ]
  },
  {
   "cell_type": "code",
   "execution_count": 6,
   "id": "5b5b0a5f-3498-4078-a572-2a25cc5a000a",
   "metadata": {
    "scrolled": true
   },
   "outputs": [
    {
     "data": {
      "text/markdown": [
       "# Showing data for 2024-09-25 to 2024-09-26 for LSSTComCamSim, LSSTComCam, LATISS"
      ],
      "text/plain": [
       "<IPython.core.display.Markdown object>"
      ]
     },
     "metadata": {},
     "output_type": "display_data"
    }
   ],
   "source": [
    "instrum_str = ', '.join(list(allsrc.exp_src.instruments.keys()))\n",
    "md(f'# Showing data for {min_date.date()} to {max_date.date()} for {instrum_str}')"
   ]
  },
  {
   "cell_type": "markdown",
   "id": "5",
   "metadata": {},
   "source": [
    "# Table of Contents\n",
    "* [Night Report](#Night-Report)\n",
    "    - AuxTel\n",
    "    - Simonyi\n",
    "* [Almanac](#almanac)\n",
    "* [Summary plots of whole night](#Summary-Plots)\n",
    "* [Summary Scalars for the night](#Summary-Scalars)\n",
    "* [Jira Tickets](#Jira-Tickets)\n",
    "    - AuxTel\n",
    "    - Simonyi\n",
    "* [BLOCKS Observed](#BLOCKS-Observed)\n",
    "    - AuxTel\n",
    "    - Simonyi\n",
    "* [Exposure Log](#Exposure-Log)\n",
    "    - AuxTel\n",
    "    - Simonyi\n",
    "* [Narrative Log](#Narrative-Log)\n",
    "* [Developer Only](#dev-only)"
   ]
  },
  {
   "cell_type": "markdown",
   "id": "13",
   "metadata": {},
   "source": [
    "## Night Report "
   ]
  },
  {
   "cell_type": "code",
   "execution_count": 7,
   "id": "14",
   "metadata": {},
   "outputs": [
    {
     "data": {
      "text/markdown": [
       "### Telescope: AuxTel"
      ],
      "text/plain": [
       "<IPython.core.display.Markdown object>"
      ]
     },
     "metadata": {},
     "output_type": "display_data"
    },
    {
     "data": {
      "text/markdown": [
       "```\n",
       "Daily checkouts, started at ~10:30 CLT and went well.\n",
       "\n",
       "UPS failed, it was not charging and ran out of battery a couple of times. We follow AuxTel Recovery after Shutdown procedure, missed one system so checkout failed, issue fixed and checkout passed.\n",
       "\n",
       "We started venting at ~16:20CLT.\n",
       "\n",
       "Calibrations skipped.\n",
       "\n",
       "Observations started 20:37 CLT and finished 01:30 CLT. No issues to report.\n",
       "```"
      ],
      "text/plain": [
       "<IPython.core.display.Markdown object>"
      ]
     },
     "metadata": {},
     "output_type": "display_data"
    },
    {
     "data": {
      "text/markdown": [
       "Telescope Status: ATTCS and LATISS in STANDBY.\n",
       "Dome and Telescope at park position."
      ],
      "text/plain": [
       "<IPython.core.display.Markdown object>"
      ]
     },
     "metadata": {},
     "output_type": "display_data"
    },
    {
     "data": {
      "text/markdown": [
       "*Authors: Bruno Quint, Jacqueline Seron, Paulina Venegas, Yijung Kang*"
      ],
      "text/plain": [
       "<IPython.core.display.Markdown object>"
      ]
     },
     "metadata": {},
     "output_type": "display_data"
    },
    {
     "data": {
      "text/markdown": [
       "### Telescope: Simonyi"
      ],
      "text/plain": [
       "<IPython.core.display.Markdown object>"
      ]
     },
     "metadata": {},
     "output_type": "display_data"
    },
    {
     "data": {
      "text/markdown": [
       "```\n",
       "Commercial power was back at 15:25. We started the day plans for BLOCK-T151 Simonyi Hexapods Startup around 18:33 pm UTC. Then we warmed up hexapods (BLOCK-T3 and -T4) without an issue. Right after warming up we put hexapods back DISABLED and ran the MTRotator startup block (~19:30 PM UTC). MTRotator start-up, M1M3 opening and closing exercise were proceeded before lunch without any critical issue. \n",
       "\n",
       "After dinner, we changed MTPtg configuration to proceed Soak Test w/ Rotator and mtmount-ccw-only test (BLOCK-T170). The Scheduler was cycled several times to get some changes from Tiago R. There was no overcurrent (>3.5A) occurring during the soak test. \n",
       "\n",
       "Around 1:15am, we stopped scheduler and changed the MTPtg setup to monitor both MTRotator and MTMount as requested on the Testcase. Both hexapods and rotator were all move to the origin and set to Standby. PDUs were off (BLOCK-T192 and BLOCK-T162).\n",
       "```"
      ],
      "text/plain": [
       "<IPython.core.display.Markdown object>"
      ]
     },
     "metadata": {},
     "output_type": "display_data"
    },
    {
     "data": {
      "text/markdown": [
       "Telescope Status: Telescope kept leaving at Zenith. MTHexapod1, MTHexapod2, and MTRotator on Standby and PDUs are OFF. MTPtg is set to monitor both MTRotator and MTMount. "
      ],
      "text/plain": [
       "<IPython.core.display.Markdown object>"
      ]
     },
     "metadata": {},
     "output_type": "display_data"
    },
    {
     "data": {
      "text/markdown": [
       "*Authors: Bruno Quint, Jacqueline Seron, Paulina Venegas, Yijung Kang*"
      ],
      "text/plain": [
       "<IPython.core.display.Markdown object>"
      ]
     },
     "metadata": {},
     "output_type": "display_data"
    },
    {
     "data": {
      "text/markdown": [
       "```\n",
       "Daytime: \n",
       "\n",
       "Commercial power was back at 15:25. We started the day plans for BLOCK-T151 Simonyi Hexapods Startup around 18:33 pm UTC. Then we warmed up hexapods (BLOCK-T3 and -T4) without an issue. Right after warming up we put hexapods back DISABLED and ran the MTRotator startup block (~19:30 PM UTC). MTRotator start-up, M1M3 opening and closing exercise were proceeded before lunch without any critical issue. \n",
       "\n",
       "After dinner, we changed MTPtg configuration to proceed Soak Test w/ Rotator and mtmount-ccw-only test (BLOCK-T170). The Scheduler was cycled several times to get some changes from Tiago R. There was no overcurrent (>3.5A) occurring during the soak test.\n",
       "```"
      ],
      "text/plain": [
       "<IPython.core.display.Markdown object>"
      ]
     },
     "metadata": {},
     "output_type": "display_data"
    },
    {
     "data": {
      "text/markdown": [
       "Telescope Status: "
      ],
      "text/plain": [
       "<IPython.core.display.Markdown object>"
      ]
     },
     "metadata": {},
     "output_type": "display_data"
    },
    {
     "data": {
      "text/markdown": [
       "*Authors: Bruno Quint, Jacqueline Seron, Paulina Venegas, Yijung Kang*"
      ],
      "text/plain": [
       "<IPython.core.display.Markdown object>"
      ]
     },
     "metadata": {},
     "output_type": "display_data"
    },
    {
     "data": {
      "text/markdown": [
       "```\n",
       "Commercial power was back at 15:25. We started the day plans for BLOCK-T151 Simonyi Hexapods Startup around 18:33 pm UTC. Then we warmed up hexapods (BLOCK-T3 and -T4) without an issue. Right after warming up we put hexapods back DISABLED and ran the MTRotator startup block (~19:30 PM UTC). MTRotator start-up, M1M3 opening and closing exercise were proceeded before lunch without any critical issue. \n",
       "\n",
       "After dinner, we changed MTPtg configuration to proceed Soak Test w/ Rotator and mtmount-ccw-only test (BLOCK-T170). The Scheduler1 was cycled several times to get some changes from Tiago R. There was no overcurrent (>3.5A) occurring during the soak test. \n",
       "\n",
       "Around 1:15am, we stopped scheduler and changed the MTPtg setup to monitor both MTRotator and MTMount as requested on the testcase. Both hexapods and rotator were all move to the origin and set to Standby. PDUs were off (BLOCK-T192 and BLOCK-T162).\n",
       "```"
      ],
      "text/plain": [
       "<IPython.core.display.Markdown object>"
      ]
     },
     "metadata": {},
     "output_type": "display_data"
    },
    {
     "data": {
      "text/markdown": [
       "Telescope Status: Simonyi telescope is parked at the Zenith. MTHexapod1, MTHexapod2, and MTRotator are on standby, and PDUs are off. MTPtg is set to monitor both MTRotator and MTMount. "
      ],
      "text/plain": [
       "<IPython.core.display.Markdown object>"
      ]
     },
     "metadata": {},
     "output_type": "display_data"
    },
    {
     "data": {
      "text/markdown": [
       "*Authors: Bruno Quint, Jacqueline Seron, Paulina Venegas, Yijung Kang*"
      ],
      "text/plain": [
       "<IPython.core.display.Markdown object>"
      ]
     },
     "metadata": {},
     "output_type": "display_data"
    },
    {
     "data": {
      "text/markdown": [
       "-------------"
      ],
      "text/plain": [
       "<IPython.core.display.Markdown object>"
      ]
     },
     "metadata": {},
     "output_type": "display_data"
    }
   ],
   "source": [
    "# Night Report\n",
    "# Display time log\n",
    "allrep.nig_rep.time_log_as_markdown()"
   ]
  },
  {
   "cell_type": "markdown",
   "id": "10",
   "metadata": {},
   "source": [
    "<a id=\"almanac\"></a>\n",
    "## Almanac"
   ]
  },
  {
   "cell_type": "code",
   "execution_count": 8,
   "id": "11",
   "metadata": {},
   "outputs": [
    {
     "data": {
      "text/markdown": [
       "**Almanac for the observing night starting 2024-09-25**"
      ],
      "text/plain": [
       "<IPython.core.display.Markdown object>"
      ]
     },
     "metadata": {},
     "output_type": "display_data"
    },
    {
     "data": {
      "text/html": [
       "<style type=\"text/css\">\n",
       "</style>\n",
       "<table id=\"T_5c9c6\">\n",
       "  <thead>\n",
       "  </thead>\n",
       "  <tbody>\n",
       "    <tr>\n",
       "      <th id=\"T_5c9c6_level0_row0\" class=\"row_heading level0 row0\" ></th>\n",
       "      <td id=\"T_5c9c6_row0_col0\" class=\"data row0 col0\" >(times in UTC)</td>\n",
       "      <td id=\"T_5c9c6_row0_col1\" class=\"data row0 col1\" ></td>\n",
       "    </tr>\n",
       "    <tr>\n",
       "      <th id=\"T_5c9c6_level0_row1\" class=\"row_heading level0 row1\" >Moon Rise</th>\n",
       "      <td id=\"T_5c9c6_row1_col0\" class=\"data row1 col0\" >2024-09-25 06:22:17.988</td>\n",
       "      <td id=\"T_5c9c6_row1_col1\" class=\"data row1 col1\" ></td>\n",
       "    </tr>\n",
       "    <tr>\n",
       "      <th id=\"T_5c9c6_level0_row2\" class=\"row_heading level0 row2\" >Moon Set</th>\n",
       "      <td id=\"T_5c9c6_row2_col0\" class=\"data row2 col0\" >2024-09-25 16:08:11.923</td>\n",
       "      <td id=\"T_5c9c6_row2_col1\" class=\"data row2 col1\" ></td>\n",
       "    </tr>\n",
       "    <tr>\n",
       "      <th id=\"T_5c9c6_level0_row3\" class=\"row_heading level0 row3\" >Moon Illumination</th>\n",
       "      <td id=\"T_5c9c6_row3_col0\" class=\"data row3 col0\" >46%</td>\n",
       "      <td id=\"T_5c9c6_row3_col1\" class=\"data row3 col1\" >(% illuminated)</td>\n",
       "    </tr>\n",
       "    <tr>\n",
       "      <th id=\"T_5c9c6_level0_row4\" class=\"row_heading level0 row4\" >Astronomical Twilight (morning)</th>\n",
       "      <td id=\"T_5c9c6_row4_col0\" class=\"data row4 col0\" >2024-09-25 09:07:53.478</td>\n",
       "      <td id=\"T_5c9c6_row4_col1\" class=\"data row4 col1\" >(-18 degrees)</td>\n",
       "    </tr>\n",
       "    <tr>\n",
       "      <th id=\"T_5c9c6_level0_row5\" class=\"row_heading level0 row5\" >Astronomical Twilight (evening)</th>\n",
       "      <td id=\"T_5c9c6_row5_col0\" class=\"data row5 col0\" >2024-09-25 00:00:53.995</td>\n",
       "      <td id=\"T_5c9c6_row5_col1\" class=\"data row5 col1\" >(-18 degrees)</td>\n",
       "    </tr>\n",
       "    <tr>\n",
       "      <th id=\"T_5c9c6_level0_row6\" class=\"row_heading level0 row6\" >Solar Midnight</th>\n",
       "      <td id=\"T_5c9c6_row6_col0\" class=\"data row6 col0\" >2024-09-25 04:34:25.909</td>\n",
       "      <td id=\"T_5c9c6_row6_col1\" class=\"data row6 col1\" ></td>\n",
       "    </tr>\n",
       "    <tr>\n",
       "      <th id=\"T_5c9c6_level0_row7\" class=\"row_heading level0 row7\" >Nautical Twilight (morning)</th>\n",
       "      <td id=\"T_5c9c6_row7_col0\" class=\"data row7 col0\" >2024-09-25 09:36:06.914</td>\n",
       "      <td id=\"T_5c9c6_row7_col1\" class=\"data row7 col1\" >(-12 degrees)</td>\n",
       "    </tr>\n",
       "    <tr>\n",
       "      <th id=\"T_5c9c6_level0_row8\" class=\"row_heading level0 row8\" >Nautical Twilight (evening)</th>\n",
       "      <td id=\"T_5c9c6_row8_col0\" class=\"data row8 col0\" >2024-09-24 23:32:39.307</td>\n",
       "      <td id=\"T_5c9c6_row8_col1\" class=\"data row8 col1\" >(-12 degrees)</td>\n",
       "    </tr>\n",
       "    <tr>\n",
       "      <th id=\"T_5c9c6_level0_row9\" class=\"row_heading level0 row9\" >Civil Twilight (morning)</th>\n",
       "      <td id=\"T_5c9c6_row9_col0\" class=\"data row9 col0\" >2024-09-25 10:04:03.933</td>\n",
       "      <td id=\"T_5c9c6_row9_col1\" class=\"data row9 col1\" >(-6 degrees)</td>\n",
       "    </tr>\n",
       "    <tr>\n",
       "      <th id=\"T_5c9c6_level0_row10\" class=\"row_heading level0 row10\" >Civil Twilight (evening)</th>\n",
       "      <td id=\"T_5c9c6_row10_col0\" class=\"data row10 col0\" >2024-09-24 23:04:40.798</td>\n",
       "      <td id=\"T_5c9c6_row10_col1\" class=\"data row10 col1\" >(-6 degrees)</td>\n",
       "    </tr>\n",
       "    <tr>\n",
       "      <th id=\"T_5c9c6_level0_row11\" class=\"row_heading level0 row11\" >Sun Rise</th>\n",
       "      <td id=\"T_5c9c6_row11_col0\" class=\"data row11 col0\" >2024-09-25 10:31:52.062</td>\n",
       "      <td id=\"T_5c9c6_row11_col1\" class=\"data row11 col1\" ></td>\n",
       "    </tr>\n",
       "    <tr>\n",
       "      <th id=\"T_5c9c6_level0_row12\" class=\"row_heading level0 row12\" >Sun Set</th>\n",
       "      <td id=\"T_5c9c6_row12_col0\" class=\"data row12 col0\" >2024-09-24 22:36:50.877</td>\n",
       "      <td id=\"T_5c9c6_row12_col1\" class=\"data row12 col1\" ></td>\n",
       "    </tr>\n",
       "  </tbody>\n",
       "</table>\n"
      ],
      "text/plain": [
       "<pandas.io.formats.style.Styler at 0x7fb06a867790>"
      ]
     },
     "metadata": {},
     "output_type": "display_data"
    }
   ],
   "source": [
    "# Display various almanac values (for moon, sun)\n",
    "#!rep.AlmanacReport().day_obs_report(min_day_obs)\n",
    "allrep.alm_rep.day_obs_report()"
   ]
  },
  {
   "cell_type": "markdown",
   "id": "5d867454-54d5-451f-ba5c-ceca63d3b8dc",
   "metadata": {},
   "source": [
    "<a id=\"Summary-Plots\"></a>\n",
    "## Summary plots of whole night "
   ]
  },
  {
   "cell_type": "markdown",
   "id": "8eefd976-8e7a-4594-a5da-a4d34454d743",
   "metadata": {},
   "source": [
    "(content not yet defined in storyboard)"
   ]
  },
  {
   "cell_type": "code",
   "execution_count": 9,
   "id": "0da82e4e-41fb-4aad-b87c-49009ee48744",
   "metadata": {
    "jupyter": {
     "source_hidden": true
    }
   },
   "outputs": [],
   "source": [
    "# Plot Observation (Exposure) gaps \n",
    "#rollup,detail = allsrc.get_observation_gaps()\n",
    "#allrep.plot_observation_gap_detail(detail)"
   ]
  },
  {
   "cell_type": "code",
   "execution_count": 10,
   "id": "129ca251-9bb9-4074-a6ca-1f133ec1b0dd",
   "metadata": {},
   "outputs": [
    {
     "data": {
      "text/markdown": [
       "<a id=\"Summary-Scalars\"></a>"
      ],
      "text/plain": [
       "<IPython.core.display.Markdown object>"
      ]
     },
     "metadata": {},
     "output_type": "display_data"
    },
    {
     "data": {
      "text/markdown": [
       "## Summary Scalars for the night "
      ],
      "text/plain": [
       "<IPython.core.display.Markdown object>"
      ]
     },
     "metadata": {},
     "output_type": "display_data"
    },
    {
     "data": {
      "text/markdown": [
       "(of all available instruments that have at least one exposure)"
      ],
      "text/plain": [
       "<IPython.core.display.Markdown object>"
      ]
     },
     "metadata": {},
     "output_type": "display_data"
    },
    {
     "data": {
      "text/html": [
       "<div>\n",
       "<style scoped>\n",
       "    .dataframe tbody tr th:only-of-type {\n",
       "        vertical-align: middle;\n",
       "    }\n",
       "\n",
       "    .dataframe tbody tr th {\n",
       "        vertical-align: top;\n",
       "    }\n",
       "\n",
       "    .dataframe thead th {\n",
       "        text-align: right;\n",
       "    }\n",
       "</style>\n",
       "<table border=\"1\" class=\"dataframe\">\n",
       "  <thead>\n",
       "    <tr style=\"text-align: right;\">\n",
       "      <th></th>\n",
       "      <th>LATISS</th>\n",
       "    </tr>\n",
       "  </thead>\n",
       "  <tbody>\n",
       "    <tr>\n",
       "      <th>Total Night (HH:MM:SS)</th>\n",
       "      <td>9:06:59</td>\n",
       "    </tr>\n",
       "    <tr>\n",
       "      <th>Total Exposure (HH:MM:SS)</th>\n",
       "      <td>2:38:31</td>\n",
       "    </tr>\n",
       "    <tr>\n",
       "      <th>Number of exposures</th>\n",
       "      <td>252</td>\n",
       "    </tr>\n",
       "    <tr>\n",
       "      <th>Number of slews</th>\n",
       "      <td>46</td>\n",
       "    </tr>\n",
       "    <tr>\n",
       "      <th>Total Detector Read (HH:MM:SS)</th>\n",
       "      <td>0:09:39</td>\n",
       "    </tr>\n",
       "    <tr>\n",
       "      <th>Mean Detector Read (HH:MM:SS)</th>\n",
       "      <td>0:00:02</td>\n",
       "    </tr>\n",
       "    <tr>\n",
       "      <th>Total Slew (HH:MM:SS)</th>\n",
       "      <td>0:33:45</td>\n",
       "    </tr>\n",
       "    <tr>\n",
       "      <th>Mean Slew (HH:MM:SS)</th>\n",
       "      <td>0:00:44</td>\n",
       "    </tr>\n",
       "    <tr>\n",
       "      <th>Total Idle (HH:MM:SS)</th>\n",
       "      <td>5:54:41</td>\n",
       "    </tr>\n",
       "  </tbody>\n",
       "</table>\n",
       "</div>"
      ],
      "text/plain": [
       "                                 LATISS\n",
       "Total Night (HH:MM:SS)          9:06:59\n",
       "Total Exposure (HH:MM:SS)       2:38:31\n",
       "Number of exposures                 252\n",
       "Number of slews                      46\n",
       "Total Detector Read (HH:MM:SS)  0:09:39\n",
       "Mean Detector Read (HH:MM:SS)   0:00:02\n",
       "Total Slew (HH:MM:SS)           0:33:45\n",
       "Mean Slew (HH:MM:SS)            0:00:44\n",
       "Total Idle (HH:MM:SS)           5:54:41"
      ]
     },
     "metadata": {},
     "output_type": "display_data"
    }
   ],
   "source": [
    "# Exposure Tally\n",
    "md('<a id=\"Summary-Scalars\"></a>')\n",
    "md(f'## Summary Scalars for the night ')\n",
    "md('(of all available instruments that have at least one exposure)')\n",
    "tally = await allsrc.night_tally_observation_gaps()\n",
    "if tally:\n",
    "    display(pd.DataFrame(tally))"
   ]
  },
  {
   "cell_type": "markdown",
   "id": "9c328a86-4012-43d8-b72d-f10050cc9412",
   "metadata": {},
   "source": [
    "## Jira Tickets (Observing Operations - OBS)\n",
    "(TODO: better tickets using Jira API)"
   ]
  },
  {
   "cell_type": "code",
   "execution_count": 11,
   "id": "afe0f03d-8803-4f28-a7e1-5c8bdcc5760a",
   "metadata": {},
   "outputs": [],
   "source": [
    "if allsrc.urls:\n",
    "    for url in allsrc.urls:\n",
    "        md(f\"- {rep.mdpathlink(url)}\")"
   ]
  },
  {
   "cell_type": "code",
   "execution_count": 12,
   "id": "fa3e3788-b8c9-4fcb-91f3-b5bb0f6ef384",
   "metadata": {},
   "outputs": [
    {
     "data": {
      "text/markdown": [
       "No tickets found using: [API Data](https://summit-lsp.lsst.codes/nightreport/reports?is_human=either&is_valid=true&min_day_obs=20240925&max_day_obs=20240926&limit=999) in `confluence_url`."
      ],
      "text/plain": [
       "<IPython.core.display.Markdown object>"
      ]
     },
     "metadata": {},
     "output_type": "display_data"
    }
   ],
   "source": [
    "# Display Jira BLOCKS\n",
    "front = \"https://rubinobs.atlassian.net/projects/BLOCK?selectedItem=com.atlassian.plugins.atlassian-connect-plugin:com.kanoah.test-manager__main-project-page#!/\"\n",
    "tickets = allsrc.nig_src.nightly_tickets()\n",
    "if tickets:\n",
    "    mdstr = \"#### Nightly Jira BLOCKs\"\n",
    "    for day, url_list in tickets.items():\n",
    "        mdstr += f\"\\n- {day}\"\n",
    "        for ticket_url in url_list:\n",
    "            mdstr += f'\\n    - [{ticket_url.replace(front,\"\")}]({ticket_url})'\n",
    "    md(mdstr)\n",
    "else:\n",
    "    endpoint_url = allsrc.nig_src.status['reports']['endpoint_url']\n",
    "    md(f\"No tickets found using: [API Data]({endpoint_url}) in `confluence_url`.\")"
   ]
  },
  {
   "cell_type": "markdown",
   "id": "e3229275-5388-4add-85cb-14d7e9bc2805",
   "metadata": {},
   "source": [
    "## BLOCKS observed\n",
    "(TODO: BLOCKS observed) "
   ]
  },
  {
   "cell_type": "markdown",
   "id": "15",
   "metadata": {},
   "source": [
    "## Exposure Log"
   ]
  },
  {
   "cell_type": "markdown",
   "id": "81d16325-7bd2-4691-9cf7-0ea071c69814",
   "metadata": {},
   "source": [
    "### EXPERIMENTAL: Tally exposures with specific values of selected Fields\n",
    "TODO: Remove this or replace with specific values that are deemed useful."
   ]
  },
  {
   "cell_type": "code",
   "execution_count": 13,
   "id": "b77dd17d-4625-4268-a6e6-f387aaf587ec",
   "metadata": {
    "scrolled": true
   },
   "outputs": [
    {
     "data": {
      "text/markdown": [
       "#### Tally of values for Field: observation_type"
      ],
      "text/plain": [
       "<IPython.core.display.Markdown object>"
      ]
     },
     "metadata": {},
     "output_type": "display_data"
    },
    {
     "data": {
      "text/html": [
       "<div>\n",
       "<style scoped>\n",
       "    .dataframe tbody tr th:only-of-type {\n",
       "        vertical-align: middle;\n",
       "    }\n",
       "\n",
       "    .dataframe tbody tr th {\n",
       "        vertical-align: top;\n",
       "    }\n",
       "\n",
       "    .dataframe thead th {\n",
       "        text-align: right;\n",
       "    }\n",
       "</style>\n",
       "<table border=\"1\" class=\"dataframe\">\n",
       "  <thead>\n",
       "    <tr style=\"text-align: right;\">\n",
       "      <th></th>\n",
       "      <th>0</th>\n",
       "    </tr>\n",
       "  </thead>\n",
       "  <tbody>\n",
       "    <tr>\n",
       "      <th>bias</th>\n",
       "      <td>4</td>\n",
       "    </tr>\n",
       "    <tr>\n",
       "      <th>engtest</th>\n",
       "      <td>7</td>\n",
       "    </tr>\n",
       "    <tr>\n",
       "      <th>acq</th>\n",
       "      <td>65</td>\n",
       "    </tr>\n",
       "    <tr>\n",
       "      <th>cwfs</th>\n",
       "      <td>10</td>\n",
       "    </tr>\n",
       "    <tr>\n",
       "      <th>science</th>\n",
       "      <td>166</td>\n",
       "    </tr>\n",
       "  </tbody>\n",
       "</table>\n",
       "</div>"
      ],
      "text/plain": [
       "           0\n",
       "bias       4\n",
       "engtest    7\n",
       "acq       65\n",
       "cwfs      10\n",
       "science  166"
      ]
     },
     "metadata": {},
     "output_type": "display_data"
    },
    {
     "data": {
      "text/markdown": [
       "#### Tally of values for Field: observation_reason"
      ],
      "text/plain": [
       "<IPython.core.display.Markdown object>"
      ]
     },
     "metadata": {},
     "output_type": "display_data"
    },
    {
     "data": {
      "text/html": [
       "<div>\n",
       "<style scoped>\n",
       "    .dataframe tbody tr th:only-of-type {\n",
       "        vertical-align: middle;\n",
       "    }\n",
       "\n",
       "    .dataframe tbody tr th {\n",
       "        vertical-align: top;\n",
       "    }\n",
       "\n",
       "    .dataframe thead th {\n",
       "        text-align: right;\n",
       "    }\n",
       "</style>\n",
       "<table border=\"1\" class=\"dataframe\">\n",
       "  <thead>\n",
       "    <tr style=\"text-align: right;\">\n",
       "      <th></th>\n",
       "      <th>0</th>\n",
       "    </tr>\n",
       "  </thead>\n",
       "  <tbody>\n",
       "    <tr>\n",
       "      <th>bias</th>\n",
       "      <td>4</td>\n",
       "    </tr>\n",
       "    <tr>\n",
       "      <th>engtest</th>\n",
       "      <td>7</td>\n",
       "    </tr>\n",
       "    <tr>\n",
       "      <th>acquisition</th>\n",
       "      <td>8</td>\n",
       "    </tr>\n",
       "    <tr>\n",
       "      <th>intra</th>\n",
       "      <td>5</td>\n",
       "    </tr>\n",
       "    <tr>\n",
       "      <th>extra</th>\n",
       "      <td>5</td>\n",
       "    </tr>\n",
       "    <tr>\n",
       "      <th>final_infocus</th>\n",
       "      <td>3</td>\n",
       "    </tr>\n",
       "    <tr>\n",
       "      <th>acq</th>\n",
       "      <td>54</td>\n",
       "    </tr>\n",
       "    <tr>\n",
       "      <th>object</th>\n",
       "      <td>54</td>\n",
       "    </tr>\n",
       "    <tr>\n",
       "      <th>x_offset_0</th>\n",
       "      <td>26</td>\n",
       "    </tr>\n",
       "    <tr>\n",
       "      <th>x_offset_-50</th>\n",
       "      <td>27</td>\n",
       "    </tr>\n",
       "    <tr>\n",
       "      <th>x_offset_50</th>\n",
       "      <td>26</td>\n",
       "    </tr>\n",
       "    <tr>\n",
       "      <th>x_offset</th>\n",
       "      <td>1</td>\n",
       "    </tr>\n",
       "    <tr>\n",
       "      <th>imaging</th>\n",
       "      <td>32</td>\n",
       "    </tr>\n",
       "  </tbody>\n",
       "</table>\n",
       "</div>"
      ],
      "text/plain": [
       "                0\n",
       "bias            4\n",
       "engtest         7\n",
       "acquisition     8\n",
       "intra           5\n",
       "extra           5\n",
       "final_infocus   3\n",
       "acq            54\n",
       "object         54\n",
       "x_offset_0     26\n",
       "x_offset_-50   27\n",
       "x_offset_50    26\n",
       "x_offset        1\n",
       "imaging        32"
      ]
     },
     "metadata": {},
     "output_type": "display_data"
    },
    {
     "data": {
      "text/markdown": [
       "#### Tally of values for Field: target_name"
      ],
      "text/plain": [
       "<IPython.core.display.Markdown object>"
      ]
     },
     "metadata": {},
     "output_type": "display_data"
    },
    {
     "data": {
      "text/html": [
       "<div>\n",
       "<style scoped>\n",
       "    .dataframe tbody tr th:only-of-type {\n",
       "        vertical-align: middle;\n",
       "    }\n",
       "\n",
       "    .dataframe tbody tr th {\n",
       "        vertical-align: top;\n",
       "    }\n",
       "\n",
       "    .dataframe thead th {\n",
       "        text-align: right;\n",
       "    }\n",
       "</style>\n",
       "<table border=\"1\" class=\"dataframe\">\n",
       "  <thead>\n",
       "    <tr style=\"text-align: right;\">\n",
       "      <th></th>\n",
       "      <th>0</th>\n",
       "    </tr>\n",
       "  </thead>\n",
       "  <tbody>\n",
       "    <tr>\n",
       "      <th>Park position</th>\n",
       "      <td>7</td>\n",
       "    </tr>\n",
       "    <tr>\n",
       "      <th>DaytimeCheckout001</th>\n",
       "      <td>2</td>\n",
       "    </tr>\n",
       "    <tr>\n",
       "      <th>DaytimeCheckout002</th>\n",
       "      <td>2</td>\n",
       "    </tr>\n",
       "    <tr>\n",
       "      <th>HD 175526</th>\n",
       "      <td>7</td>\n",
       "    </tr>\n",
       "    <tr>\n",
       "      <th>HD185975</th>\n",
       "      <td>21</td>\n",
       "    </tr>\n",
       "    <tr>\n",
       "      <th>HD160617</th>\n",
       "      <td>77</td>\n",
       "    </tr>\n",
       "    <tr>\n",
       "      <th>HD2811</th>\n",
       "      <td>83</td>\n",
       "    </tr>\n",
       "    <tr>\n",
       "      <th>HD 209036</th>\n",
       "      <td>7</td>\n",
       "    </tr>\n",
       "    <tr>\n",
       "      <th>HD205905</th>\n",
       "      <td>7</td>\n",
       "    </tr>\n",
       "    <tr>\n",
       "      <th>HD 214405</th>\n",
       "      <td>7</td>\n",
       "    </tr>\n",
       "    <tr>\n",
       "      <th>SMC_011</th>\n",
       "      <td>2</td>\n",
       "    </tr>\n",
       "    <tr>\n",
       "      <th>SMC_001</th>\n",
       "      <td>2</td>\n",
       "    </tr>\n",
       "    <tr>\n",
       "      <th>SMC_012</th>\n",
       "      <td>2</td>\n",
       "    </tr>\n",
       "    <tr>\n",
       "      <th>SMC_013</th>\n",
       "      <td>2</td>\n",
       "    </tr>\n",
       "    <tr>\n",
       "      <th>SMC_009</th>\n",
       "      <td>2</td>\n",
       "    </tr>\n",
       "    <tr>\n",
       "      <th>SMC_014</th>\n",
       "      <td>2</td>\n",
       "    </tr>\n",
       "    <tr>\n",
       "      <th>SMC_015</th>\n",
       "      <td>2</td>\n",
       "    </tr>\n",
       "    <tr>\n",
       "      <th>SMC_016</th>\n",
       "      <td>2</td>\n",
       "    </tr>\n",
       "    <tr>\n",
       "      <th>SMC_002</th>\n",
       "      <td>2</td>\n",
       "    </tr>\n",
       "    <tr>\n",
       "      <th>SMC_003</th>\n",
       "      <td>2</td>\n",
       "    </tr>\n",
       "    <tr>\n",
       "      <th>SMC_004</th>\n",
       "      <td>2</td>\n",
       "    </tr>\n",
       "    <tr>\n",
       "      <th>SMC_005</th>\n",
       "      <td>2</td>\n",
       "    </tr>\n",
       "    <tr>\n",
       "      <th>SMC_006</th>\n",
       "      <td>2</td>\n",
       "    </tr>\n",
       "    <tr>\n",
       "      <th>SMC_007</th>\n",
       "      <td>2</td>\n",
       "    </tr>\n",
       "    <tr>\n",
       "      <th>SMC_008</th>\n",
       "      <td>2</td>\n",
       "    </tr>\n",
       "    <tr>\n",
       "      <th>SMC_010</th>\n",
       "      <td>2</td>\n",
       "    </tr>\n",
       "  </tbody>\n",
       "</table>\n",
       "</div>"
      ],
      "text/plain": [
       "                     0\n",
       "Park position        7\n",
       "DaytimeCheckout001   2\n",
       "DaytimeCheckout002   2\n",
       "HD 175526            7\n",
       "HD185975            21\n",
       "HD160617            77\n",
       "HD2811              83\n",
       "HD 209036            7\n",
       "HD205905             7\n",
       "HD 214405            7\n",
       "SMC_011              2\n",
       "SMC_001              2\n",
       "SMC_012              2\n",
       "SMC_013              2\n",
       "SMC_009              2\n",
       "SMC_014              2\n",
       "SMC_015              2\n",
       "SMC_016              2\n",
       "SMC_002              2\n",
       "SMC_003              2\n",
       "SMC_004              2\n",
       "SMC_005              2\n",
       "SMC_006              2\n",
       "SMC_007              2\n",
       "SMC_008              2\n",
       "SMC_010              2"
      ]
     },
     "metadata": {},
     "output_type": "display_data"
    },
    {
     "data": {
      "text/markdown": [
       "#### Tally of values for Field: science_program"
      ],
      "text/plain": [
       "<IPython.core.display.Markdown object>"
      ]
     },
     "metadata": {},
     "output_type": "display_data"
    },
    {
     "data": {
      "text/html": [
       "<div>\n",
       "<style scoped>\n",
       "    .dataframe tbody tr th:only-of-type {\n",
       "        vertical-align: middle;\n",
       "    }\n",
       "\n",
       "    .dataframe tbody tr th {\n",
       "        vertical-align: top;\n",
       "    }\n",
       "\n",
       "    .dataframe thead th {\n",
       "        text-align: right;\n",
       "    }\n",
       "</style>\n",
       "<table border=\"1\" class=\"dataframe\">\n",
       "  <thead>\n",
       "    <tr style=\"text-align: right;\">\n",
       "      <th></th>\n",
       "      <th>0</th>\n",
       "    </tr>\n",
       "  </thead>\n",
       "  <tbody>\n",
       "    <tr>\n",
       "      <th>unknown</th>\n",
       "      <td>17</td>\n",
       "    </tr>\n",
       "    <tr>\n",
       "      <th>BLOCK-T17</th>\n",
       "      <td>2</td>\n",
       "    </tr>\n",
       "    <tr>\n",
       "      <th>BLOCK-305</th>\n",
       "      <td>13</td>\n",
       "    </tr>\n",
       "    <tr>\n",
       "      <th>spec-survey</th>\n",
       "      <td>188</td>\n",
       "    </tr>\n",
       "    <tr>\n",
       "      <th>BLOCK-306</th>\n",
       "      <td>32</td>\n",
       "    </tr>\n",
       "  </tbody>\n",
       "</table>\n",
       "</div>"
      ],
      "text/plain": [
       "               0\n",
       "unknown       17\n",
       "BLOCK-T17      2\n",
       "BLOCK-305     13\n",
       "spec-survey  188\n",
       "BLOCK-306     32"
      ]
     },
     "metadata": {},
     "output_type": "display_data"
    }
   ],
   "source": [
    "# Exposure Report\n",
    "# Facet counts\n",
    "if experimental.get('exposure_type_tally'):\n",
    "    counts = uniform_field_counts(allsrc.exp_src.exposures['LATISS'])\n",
    "    for fname, tally in counts.items():\n",
    "        md(f'#### Tally of values for Field: {fname}')\n",
    "        display(pd.DataFrame.from_dict(tally, orient='index'))"
   ]
  },
  {
   "cell_type": "markdown",
   "id": "5a574862-ded3-4db3-bba5-d9083412459d",
   "metadata": {},
   "source": [
    "| Symbol | Meaning |\n",
    "|:---|:---|\n",
    "| <font style=\"background-color:green; color:white; font-size:20px\">&nbsp;G&nbsp;</font>| Good |\n",
    "| <font style=\"background-color:yellow; color:black; font-size:20px\">&nbsp;?&nbsp;</font> | Questionable |\n",
    "| <font style=\"background-color:red; color:black; font-size:20px\">&nbsp;R&nbsp;</font> | Junk |\n"
   ]
  },
  {
   "cell_type": "code",
   "execution_count": 14,
   "id": "22d13424-dc4c-434a-b414-e3a17d1cbe07",
   "metadata": {},
   "outputs": [
    {
     "data": {
      "text/markdown": [
       "### Instrument: LATISS"
      ],
      "text/plain": [
       "<IPython.core.display.Markdown object>"
      ]
     },
     "metadata": {},
     "output_type": "display_data"
    },
    {
     "data": {
      "text/markdown": [
       "* AT_O_20240925_000025 : 2024-09-26T00:50:10.749109\n",
       "    - <font style=\"background-color:yellow; color:black; font-size:20px\">&nbsp;?&nbsp;</font>`High mount motion jitter`"
      ],
      "text/plain": [
       "<IPython.core.display.Markdown object>"
      ]
     },
     "metadata": {},
     "output_type": "display_data"
    },
    {
     "data": {
      "text/markdown": [
       "* AT_O_20240925_000030 : 2024-09-26T00:50:11.797057\n",
       "    - <font style=\"background-color:yellow; color:black; font-size:20px\">&nbsp;?&nbsp;</font>`High mount motion jitter`"
      ],
      "text/plain": [
       "<IPython.core.display.Markdown object>"
      ]
     },
     "metadata": {},
     "output_type": "display_data"
    },
    {
     "data": {
      "text/markdown": [
       "* AT_O_20240925_000031 : 2024-09-26T00:50:11.846362\n",
       "    - <font style=\"background-color:yellow; color:black; font-size:20px\">&nbsp;?&nbsp;</font>`High mount motion jitter`"
      ],
      "text/plain": [
       "<IPython.core.display.Markdown object>"
      ]
     },
     "metadata": {},
     "output_type": "display_data"
    },
    {
     "data": {
      "text/markdown": [
       "* AT_O_20240925_000032 : 2024-09-26T00:50:11.896179\n",
       "    - <font style=\"background-color:yellow; color:black; font-size:20px\">&nbsp;?&nbsp;</font>`High mount motion jitter`"
      ],
      "text/plain": [
       "<IPython.core.display.Markdown object>"
      ]
     },
     "metadata": {},
     "output_type": "display_data"
    },
    {
     "data": {
      "text/markdown": [
       "* AT_O_20240925_000033 : 2024-09-26T00:50:11.944877\n",
       "    - <font style=\"background-color:yellow; color:black; font-size:20px\">&nbsp;?&nbsp;</font>`High mount motion jitter`"
      ],
      "text/plain": [
       "<IPython.core.display.Markdown object>"
      ]
     },
     "metadata": {},
     "output_type": "display_data"
    },
    {
     "data": {
      "text/markdown": [
       "* AT_O_20240925_000038 : 2024-09-26T00:50:11.992354\n",
       "    - <font style=\"background-color:yellow; color:black; font-size:20px\">&nbsp;?&nbsp;</font>`High mount motion jitter`"
      ],
      "text/plain": [
       "<IPython.core.display.Markdown object>"
      ]
     },
     "metadata": {},
     "output_type": "display_data"
    },
    {
     "data": {
      "text/markdown": [
       "* AT_O_20240925_000045 : 2024-09-26T00:50:12.041459\n",
       "    - <font style=\"background-color:yellow; color:black; font-size:20px\">&nbsp;?&nbsp;</font>`High mount motion jitter`"
      ],
      "text/plain": [
       "<IPython.core.display.Markdown object>"
      ]
     },
     "metadata": {},
     "output_type": "display_data"
    },
    {
     "data": {
      "text/markdown": [
       "* AT_O_20240925_000052 : 2024-09-26T00:50:12.088441\n",
       "    - <font style=\"background-color:yellow; color:black; font-size:20px\">&nbsp;?&nbsp;</font>`High mount motion jitter`"
      ],
      "text/plain": [
       "<IPython.core.display.Markdown object>"
      ]
     },
     "metadata": {},
     "output_type": "display_data"
    },
    {
     "data": {
      "text/markdown": [
       "* AT_O_20240925_000053 : 2024-09-26T00:50:12.137201\n",
       "    - <font style=\"background-color:yellow; color:black; font-size:20px\">&nbsp;?&nbsp;</font>`High mount motion jitter`"
      ],
      "text/plain": [
       "<IPython.core.display.Markdown object>"
      ]
     },
     "metadata": {},
     "output_type": "display_data"
    },
    {
     "data": {
      "text/markdown": [
       "* AT_O_20240925_000058 : 2024-09-26T00:50:12.189234\n",
       "    - <font style=\"background-color:yellow; color:black; font-size:20px\">&nbsp;?&nbsp;</font>`High mount motion jitter`"
      ],
      "text/plain": [
       "<IPython.core.display.Markdown object>"
      ]
     },
     "metadata": {},
     "output_type": "display_data"
    },
    {
     "data": {
      "text/markdown": [
       "* AT_O_20240925_000059 : 2024-09-26T00:50:12.237075\n",
       "    - <font style=\"background-color:yellow; color:black; font-size:20px\">&nbsp;?&nbsp;</font>`High mount motion jitter`"
      ],
      "text/plain": [
       "<IPython.core.display.Markdown object>"
      ]
     },
     "metadata": {},
     "output_type": "display_data"
    },
    {
     "data": {
      "text/markdown": [
       "* AT_O_20240925_000065 : 2024-09-26T00:50:12.285017\n",
       "    - <font style=\"background-color:yellow; color:black; font-size:20px\">&nbsp;?&nbsp;</font>`High mount motion jitter`"
      ],
      "text/plain": [
       "<IPython.core.display.Markdown object>"
      ]
     },
     "metadata": {},
     "output_type": "display_data"
    },
    {
     "data": {
      "text/markdown": [
       "* AT_O_20240925_000066 : 2024-09-26T00:50:12.331740\n",
       "    - <font style=\"background-color:yellow; color:black; font-size:20px\">&nbsp;?&nbsp;</font>`High mount motion jitter`"
      ],
      "text/plain": [
       "<IPython.core.display.Markdown object>"
      ]
     },
     "metadata": {},
     "output_type": "display_data"
    },
    {
     "data": {
      "text/markdown": [
       "* AT_O_20240925_000067 : 2024-09-26T00:51:03.066618\n",
       "    - <font style=\"background-color:yellow; color:black; font-size:20px\">&nbsp;?&nbsp;</font>`High mount motion jitter`"
      ],
      "text/plain": [
       "<IPython.core.display.Markdown object>"
      ]
     },
     "metadata": {},
     "output_type": "display_data"
    },
    {
     "data": {
      "text/markdown": [
       "-------------"
      ],
      "text/plain": [
       "<IPython.core.display.Markdown object>"
      ]
     },
     "metadata": {},
     "output_type": "display_data"
    }
   ],
   "source": [
    "# Time Log\n",
    "allrep.exp_rep.time_log_as_markdown()"
   ]
  },
  {
   "cell_type": "markdown",
   "id": "1f38acef-4ff9-4876-a977-5f97a03c4492",
   "metadata": {},
   "source": [
    "## Narrative Log\n",
    "(Now \"linked things\" from /narrativelog/messages.urls)"
   ]
  },
  {
   "cell_type": "code",
   "execution_count": 15,
   "id": "18",
   "metadata": {},
   "outputs": [
    {
     "data": {
      "text/markdown": [
       "- **2024-09-25 00:02:37.781499** <pre>Salindex 200793\r\n",
       "\r\n",
       "\r\n",
       "Fail the 3er intent, this is a file system issue</pre>"
      ],
      "text/plain": [
       "<IPython.core.display.Markdown object>"
      ]
     },
     "metadata": {},
     "output_type": "display_data"
    },
    {
     "data": {
      "text/markdown": [
       "- **2024-09-25 00:07:47.736800** <pre>Rotator motion through +/- 5 deg with motion confirmed through Chrono Dashboard and the CCW  dial in TMA EUI \r\n",
       "\r\n",
       "\r\n",
       "\r\n",
       "\r\n",
       "Rotator motion --&gt; 10 deg: SUCCESS\r\n",
       "Rotator motion --&gt; -10 deg: SUCCESS\r\n",
       "Rotator motion --&gt; 10 deg: SUCCESS\r\n",
       "Rotator motion --&gt; -10 deg: SUCCESS\r\n",
       "\r\n",
       "\r\n",
       "Because I forgot to move to 0 -- &gt;  SUCCESS\r\n",
       "Rotator motion --&gt; 10 deg: SUCCESS\r\n",
       "Rotator motion --&gt; -10 deg: SUCCESS</pre>"
      ],
      "text/plain": [
       "<IPython.core.display.Markdown object>"
      ]
     },
     "metadata": {},
     "output_type": "display_data"
    },
    {
     "data": {
      "text/markdown": [
       "- **2024-09-25 00:09:06.357429** <pre>Rotator back to 0</pre>"
      ],
      "text/plain": [
       "<IPython.core.display.Markdown object>"
      ]
     },
     "metadata": {},
     "output_type": "display_data"
    },
    {
     "data": {
      "text/markdown": [
       "- **2024-09-25 00:15:43.274896** <pre>Rotator motion through +/- 25 deg with motion confirmed through Chrono Dashboard and the CCW  dial in TMA EUI \r\n",
       "\r\n",
       "\r\n",
       "Rotator motion --&gt; 25 deg: SUCCESS\r\n",
       "Rotator motion --&gt; -25 deg: SUCCESS</pre>"
      ],
      "text/plain": [
       "<IPython.core.display.Markdown object>"
      ]
     },
     "metadata": {},
     "output_type": "display_data"
    },
    {
     "data": {
      "text/markdown": [
       "- **2024-09-25 00:17:04.991569** <pre>Rotator back at 0</pre>"
      ],
      "text/plain": [
       "<IPython.core.display.Markdown object>"
      ]
     },
     "metadata": {},
     "output_type": "display_data"
    },
    {
     "data": {
      "text/markdown": [
       "- **2024-09-25 00:24:30.001782** <pre>Rotator motion through +/- 50 deg with motion confirmed through Chrono Dashboard and the CCW  dial in TMA EUI \r\n",
       "\r\n",
       "\r\n",
       "Rotator motion --&gt; 50 deg: SUCCESS\r\n",
       "Rotator motion --&gt; -50 deg: SUCCESS</pre>"
      ],
      "text/plain": [
       "<IPython.core.display.Markdown object>"
      ]
     },
     "metadata": {},
     "output_type": "display_data"
    },
    {
     "data": {
      "text/markdown": [
       "- **2024-09-25 00:25:05.185777** <pre>Rotator back at 0</pre>"
      ],
      "text/plain": [
       "<IPython.core.display.Markdown object>"
      ]
     },
     "metadata": {},
     "output_type": "display_data"
    },
    {
     "data": {
      "text/markdown": [
       "- **2024-09-25 00:40:29.712407** <pre>Rotator motion through +/- 75 deg with motion confirmed through Chrono Dashboard and the CCW  dial in TMA EUI \r\n",
       "\r\n",
       "\r\n",
       "Rotator motion --&gt; 75 deg: SUCCESS\r\n",
       "Rotator motion --&gt; -75 deg: SUCCESS</pre>"
      ],
      "text/plain": [
       "<IPython.core.display.Markdown object>"
      ]
     },
     "metadata": {},
     "output_type": "display_data"
    },
    {
     "data": {
      "text/markdown": [
       "- **2024-09-25 00:30:20.778827** <pre>Rotator back to 0</pre>"
      ],
      "text/plain": [
       "<IPython.core.display.Markdown object>"
      ]
     },
     "metadata": {},
     "output_type": "display_data"
    },
    {
     "data": {
      "text/markdown": [
       "- **2024-09-25 03:20:40.057576** <pre>We solve the issue and continue</pre>"
      ],
      "text/plain": [
       "<IPython.core.display.Markdown object>"
      ]
     },
     "metadata": {},
     "output_type": "display_data"
    },
    {
     "data": {
      "text/markdown": [
       "- **2024-09-25 00:38:30.833889** <pre>[LIMIT] Rotator motion through +/- 88.8 deg with motion confirmed through Chrono Dashboard and the CCW  dial in TMA EUI \r\n",
       "\r\n",
       "\r\n",
       "Rotator motion --&gt; 88.8 deg: SUCCESS\r\n",
       "Rotator motion --&gt; -88.8 deg: SUCCESS\r\n",
       " \r\n",
       "Rotator motion --&gt; -89.5 deg: SUCCESS\r\n",
       "Rotator motion --&gt; 88.8 deg: SUCCESS\r\n",
       "Rotator motion --&gt; 89.5 deg: SUCCESS</pre>"
      ],
      "text/plain": [
       "<IPython.core.display.Markdown object>"
      ]
     },
     "metadata": {},
     "output_type": "display_data"
    },
    {
     "data": {
      "text/markdown": [
       "- **2024-09-25 00:41:03.913607** <pre>Rotator back to 0</pre>"
      ],
      "text/plain": [
       "<IPython.core.display.Markdown object>"
      ]
     },
     "metadata": {},
     "output_type": "display_data"
    },
    {
     "data": {
      "text/markdown": [
       "- **2024-09-25 00:49:04.816044** <pre>MTMount DISABLED and MTRotator in STANDBY</pre>"
      ],
      "text/plain": [
       "<IPython.core.display.Markdown object>"
      ]
     },
     "metadata": {},
     "output_type": "display_data"
    },
    {
     "data": {
      "text/markdown": [
       "- **2024-09-25 00:57:50.922835** <pre>M1M3 cover exercises done</pre>"
      ],
      "text/plain": [
       "<IPython.core.display.Markdown object>"
      ]
     },
     "metadata": {},
     "output_type": "display_data"
    },
    {
     "data": {
      "text/markdown": [
       "- **2024-09-25 00:58:57.298907** <pre>MTMount back to DISABLED</pre>"
      ],
      "text/plain": [
       "<IPython.core.display.Markdown object>"
      ]
     },
     "metadata": {},
     "output_type": "display_data"
    },
    {
     "data": {
      "text/markdown": [
       "- **2024-09-25 01:54:11.740348** <pre>Both hexapods zero-ed, and in STANDBY</pre>"
      ],
      "text/plain": [
       "<IPython.core.display.Markdown object>"
      ]
     },
     "metadata": {},
     "output_type": "display_data"
    },
    {
     "data": {
      "text/markdown": [
       "- **2024-09-25 02:00:41.277794** <pre>PXIs and cabinets of both hexapods switched off</pre>"
      ],
      "text/plain": [
       "<IPython.core.display.Markdown object>"
      ]
     },
     "metadata": {},
     "output_type": "display_data"
    },
    {
     "data": {
      "text/markdown": [
       "- **2024-09-25 03:39:46.975210** <pre>ATPtg went to fault, azimuth out of range\r\n",
       "Salindex 200890</pre>"
      ],
      "text/plain": [
       "<IPython.core.display.Markdown object>"
      ]
     },
     "metadata": {},
     "output_type": "display_data"
    },
    {
     "data": {
      "text/markdown": [
       "- **2024-09-25 03:43:49.131964** <pre>We send ATPtg to enable and continue.</pre>"
      ],
      "text/plain": [
       "<IPython.core.display.Markdown object>"
      ]
     },
     "metadata": {},
     "output_type": "display_data"
    },
    {
     "data": {
      "text/markdown": [
       "- **2024-09-25 05:19:19.979973** <pre>adding scheduler/stop.py to the bottom of the list</pre>"
      ],
      "text/plain": [
       "<IPython.core.display.Markdown object>"
      ]
     },
     "metadata": {},
     "output_type": "display_data"
    },
    {
     "data": {
      "text/markdown": [
       "- **2024-09-25 05:31:10.509012** <pre>sending shutdown script</pre>"
      ],
      "text/plain": [
       "<IPython.core.display.Markdown object>"
      ]
     },
     "metadata": {},
     "output_type": "display_data"
    },
    {
     "data": {
      "text/markdown": [
       "- **2024-09-25 13:15:03.690457** <pre>Day crew arriving in the control room - Bruno Quint and Jacqueline Seron</pre>"
      ],
      "text/plain": [
       "<IPython.core.display.Markdown object>"
      ]
     },
     "metadata": {},
     "output_type": "display_data"
    },
    {
     "data": {
      "text/markdown": [
       "- **2024-09-25 13:28:48.964191** <pre>AuxTel Checkouts starting</pre>"
      ],
      "text/plain": [
       "<IPython.core.display.Markdown object>"
      ]
     },
     "metadata": {},
     "output_type": "display_data"
    },
    {
     "data": {
      "text/markdown": [
       "- **2024-09-25 13:50:14.599266** <pre>Checkout finished successfully</pre>"
      ],
      "text/plain": [
       "<IPython.core.display.Markdown object>"
      ]
     },
     "metadata": {},
     "output_type": "display_data"
    },
    {
     "data": {
      "text/markdown": [
       "- **2024-09-25 15:36:30.422198** <pre>Several alarms is CSC. Probably due to a connexion issue\r\n",
       "AuxTel components: ATMCS, ATAOS, ATPneumatics, ATCamera, ATSpoectrograph, \r\n",
       "FiberSpectrograph in Standby\r\n",
       "\r\n",
       "\r\n",
       "Environment: ESS.201, ESS.203, ESS.204, ESS.205, EPM.301</pre>"
      ],
      "text/plain": [
       "<IPython.core.display.Markdown object>"
      ]
     },
     "metadata": {},
     "output_type": "display_data"
    },
    {
     "data": {
      "text/markdown": [
       "- **2024-09-25 14:24:07.291725** <pre>Something weird is happening at the summit. I am putting the faulty CSCs into STANDBY.</pre>"
      ],
      "text/plain": [
       "<IPython.core.display.Markdown object>"
      ]
     },
     "metadata": {},
     "output_type": "display_data"
    },
    {
     "data": {
      "text/markdown": [
       "- **2024-09-25 14:21:13.074630** <pre>Cannot transition ATMCS - The script complains saying that cannot get summary state from it. Sal index 201021</pre>"
      ],
      "text/plain": [
       "<IPython.core.display.Markdown object>"
      ]
     },
     "metadata": {},
     "output_type": "display_data"
    },
    {
     "data": {
      "text/markdown": [
       "- **2024-09-25 14:21:47.070044** <pre>We cannot recover the CSCs\r\n",
       "\r\n",
       "\r\n",
       "14:18:15 TAI   SALindex 201019 Timeout error in ATMCS</pre>"
      ],
      "text/plain": [
       "<IPython.core.display.Markdown object>"
      ]
     },
     "metadata": {},
     "output_type": "display_data"
    },
    {
     "data": {
      "text/markdown": [
       "- **2024-09-25 14:21:59.095715** <pre>Tiago says that we might have lost connection to the calibration hill.</pre>"
      ],
      "text/plain": [
       "<IPython.core.display.Markdown object>"
      ]
     },
     "metadata": {},
     "output_type": "display_data"
    },
    {
     "data": {
      "text/markdown": [
       "- **2024-09-25 14:23:25.844688** <pre>I tried again removing ATMCS. No success - Sal index 201022</pre>"
      ],
      "text/plain": [
       "<IPython.core.display.Markdown object>"
      ]
     },
     "metadata": {},
     "output_type": "display_data"
    },
    {
     "data": {
      "text/markdown": [
       "- **2024-09-25 14:26:26.652666** <pre>ATMTCS, ATCamera, and ATPneumatics will remain in fault for now since we cannot change their state.</pre>"
      ],
      "text/plain": [
       "<IPython.core.display.Markdown object>"
      ]
     },
     "metadata": {},
     "output_type": "display_data"
    },
    {
     "data": {
      "text/markdown": [
       "- **2024-09-25 14:33:18.936053** <pre>Some components without heartbeats :  ATMCS, ATPneumatics and FiberSpectrograph,. \r\n",
       "ATMCS is enabled, ATAOS and ATSpectrograph is Standby</pre>"
      ],
      "text/plain": [
       "<IPython.core.display.Markdown object>"
      ]
     },
     "metadata": {},
     "output_type": "display_data"
    },
    {
     "data": {
      "text/markdown": [
       "- **2024-09-25 20:01:08.444120** <pre>Electronic team check the system, UPS was not charging and run out of batteries, loosing energy to the system. \r\n",
       "They left it changing, but it failed again.</pre>"
      ],
      "text/plain": [
       "<IPython.core.display.Markdown object>"
      ]
     },
     "metadata": {},
     "output_type": "display_data"
    },
    {
     "data": {
      "text/markdown": [
       "- **2024-09-25 15:40:26.151343** <pre>MTM2 went to FAULT, error 6051, 15:57 TAI,.</pre>"
      ],
      "text/plain": [
       "<IPython.core.display.Markdown object>"
      ]
     },
     "metadata": {},
     "output_type": "display_data"
    },
    {
     "data": {
      "text/markdown": [
       "- **2024-09-25 15:41:46.477025** <pre>MTM2 is back to ENABLED state.</pre>"
      ],
      "text/plain": [
       "<IPython.core.display.Markdown object>"
      ]
     },
     "metadata": {},
     "output_type": "display_data"
    },
    {
     "data": {
      "text/markdown": [
       "- **2024-09-25 18:03:34.910762** <pre>We recover the system. \r\n",
       "About tu start checkouts</pre>"
      ],
      "text/plain": [
       "<IPython.core.display.Markdown object>"
      ]
     },
     "metadata": {},
     "output_type": "display_data"
    },
    {
     "data": {
      "text/markdown": [
       "- **2024-09-25 18:22:28.387993** <pre>We are now completing the recovery of LATISS. \r\n",
       "We took an image with HVBias off. Looks ugly but consistent with documentation.\r\n",
       "LATISS is now in Standby. \r\n",
       "Powering on HVBias.\r\n",
       "Image bias look fine so we are proceeding with daytime checkouts.</pre>"
      ],
      "text/plain": [
       "<IPython.core.display.Markdown object>"
      ]
     },
     "metadata": {},
     "output_type": "display_data"
    },
    {
     "data": {
      "text/markdown": [
       "- **2024-09-25 18:29:40.343094** <pre>Start from the BLOCK-T151 Simonyi Hexapods Startup</pre>"
      ],
      "text/plain": [
       "<IPython.core.display.Markdown object>"
      ]
     },
     "metadata": {},
     "output_type": "display_data"
    },
    {
     "data": {
      "text/markdown": [
       "- **2024-09-25 18:29:42.334803** <pre>When trying to run the daytime checkouts, ATMCS did not want to go to ENABLED state. The traceback said something like: \r\n",
       "\r\n",
       "\r\n",
       "``` ... mount_fault_state_procedure.vi ```\r\n",
       "\r\n",
       "\r\n",
       "I suspected that there was a hanging port in the lavview eui. So, we pressed and held the blue button in the at control cabinet for 30 seconds. That was sufficient to recover without having to access the ATMCS machine.</pre>"
      ],
      "text/plain": [
       "<IPython.core.display.Markdown object>"
      ]
     },
     "metadata": {},
     "output_type": "display_data"
    },
    {
     "data": {
      "text/markdown": [
       "- **2024-09-25 18:30:26.500957** <pre>ATAOS went to a fault during running check pneumatics. \r\n",
       "sal script 201043</pre>"
      ],
      "text/plain": [
       "<IPython.core.display.Markdown object>"
      ]
     },
     "metadata": {},
     "output_type": "display_data"
    },
    {
     "data": {
      "text/markdown": [
       "- **2024-09-25 18:30:47.286201** <pre>Since it seemed to have faulted due to a timeout, we will recover and try again.</pre>"
      ],
      "text/plain": [
       "<IPython.core.display.Markdown object>"
      ]
     },
     "metadata": {},
     "output_type": "display_data"
    },
    {
     "data": {
      "text/markdown": [
       "- **2024-09-25 18:32:36.209485** <pre>Running checkout atpneumatics again. \r\n",
       "it faulted again.\r\n",
       "It says: `Correction loop died.` and timeout. What should we do? Looking for help.</pre>"
      ],
      "text/plain": [
       "<IPython.core.display.Markdown object>"
      ]
     },
     "metadata": {},
     "output_type": "display_data"
    },
    {
     "data": {
      "text/markdown": [
       "- **2024-09-25 18:35:03.114154** <pre>Just for the record, the CSC that faulted is ATAOS, not ATPneumatics.</pre>"
      ],
      "text/plain": [
       "<IPython.core.display.Markdown object>"
      ]
     },
     "metadata": {},
     "output_type": "display_data"
    },
    {
     "data": {
      "text/markdown": [
       "- **2024-09-25 18:41:22.601678** <pre>It seems that we did not run the recovery procedure for athexapod. \r\n",
       "Let's do it now.</pre>"
      ],
      "text/plain": [
       "<IPython.core.display.Markdown object>"
      ]
     },
     "metadata": {},
     "output_type": "display_data"
    },
    {
     "data": {
      "text/markdown": [
       "- **2024-09-25 18:41:52.152535** <pre>We are following this page:\r\n",
       "https://obs-ops.lsst.io/AuxTel/Non-Standard-Operations/Recovery-after-Shutdown/Recovery-after-Shutdown.html</pre>"
      ],
      "text/plain": [
       "<IPython.core.display.Markdown object>"
      ]
     },
     "metadata": {},
     "output_type": "display_data"
    },
    {
     "data": {
      "text/markdown": [
       "- **2024-09-25 18:50:58.895070** <pre>Turning on the Caminets for the hexapods.</pre>"
      ],
      "text/plain": [
       "<IPython.core.display.Markdown object>"
      ]
     },
     "metadata": {},
     "output_type": "display_data"
    },
    {
     "data": {
      "text/markdown": [
       "- **2024-09-25 18:44:31.047103** <pre>Following the procedure, we powered off the hexapod controller, waited for a minute and powered it back up again. \r\n",
       "Now let's try to enable the athexapod again</pre>"
      ],
      "text/plain": [
       "<IPython.core.display.Markdown object>"
      ]
     },
     "metadata": {},
     "output_type": "display_data"
    },
    {
     "data": {
      "text/markdown": [
       "- **2024-09-25 18:46:25.630186** <pre>Alright ATHexapod and ATAOS enabled. \r\n",
       "Trying atpneumaticscheckout again.</pre>"
      ],
      "text/plain": [
       "<IPython.core.display.Markdown object>"
      ]
     },
     "metadata": {},
     "output_type": "display_data"
    },
    {
     "data": {
      "text/markdown": [
       "- **2024-09-25 18:48:37.007289** <pre>alright, all good</pre>"
      ],
      "text/plain": [
       "<IPython.core.display.Markdown object>"
      ]
     },
     "metadata": {},
     "output_type": "display_data"
    },
    {
     "data": {
      "text/markdown": [
       "- **2024-09-25 18:54:13.023157** <pre>telescope_and_dome_checkout.py (201058) faulted. \r\n",
       "The traceback says timeout when trying to slew the dome. \r\n",
       "We will try again with no changes</pre>"
      ],
      "text/plain": [
       "<IPython.core.display.Markdown object>"
      ]
     },
     "metadata": {},
     "output_type": "display_data"
    },
    {
     "data": {
      "text/markdown": [
       "- **2024-09-25 18:57:08.606818** <pre>Enable MTHexpod CSCs.</pre>"
      ],
      "text/plain": [
       "<IPython.core.display.Markdown object>"
      ]
     },
     "metadata": {},
     "output_type": "display_data"
    },
    {
     "data": {
      "text/markdown": [
       "- **2024-09-25 18:59:13.638182** <pre>telescope_and_dome_checkout (201059) failed again. \r\n",
       "Same error. We will cycle ATDome and see if that has any impact.</pre>"
      ],
      "text/plain": [
       "<IPython.core.display.Markdown object>"
      ]
     },
     "metadata": {},
     "output_type": "display_data"
    },
    {
     "data": {
      "text/markdown": [
       "- **2024-09-25 19:01:50.954392** <pre>@stubbs we’ve just enabled the hexapod and will start warming them up. You’ll see the telemetry there.</pre>"
      ],
      "text/plain": [
       "<IPython.core.display.Markdown object>"
      ]
     },
     "metadata": {},
     "output_type": "display_data"
    },
    {
     "data": {
      "text/markdown": [
       "- **2024-09-25 19:03:48.989387** <pre>Trying telescope_and_dome_checkout (201063) again.</pre>"
      ],
      "text/plain": [
       "<IPython.core.display.Markdown object>"
      ]
     },
     "metadata": {},
     "output_type": "display_data"
    },
    {
     "data": {
      "text/markdown": [
       "- **2024-09-25 19:05:28.259190** <pre>It seems promising...</pre>"
      ],
      "text/plain": [
       "<IPython.core.display.Markdown object>"
      ]
     },
     "metadata": {},
     "output_type": "display_data"
    },
    {
     "data": {
      "text/markdown": [
       "- **2024-09-25 19:07:07.411476** <pre>It passed! We are good! So state cycling the ATDome helped to make things work.</pre>"
      ],
      "text/plain": [
       "<IPython.core.display.Markdown object>"
      ]
     },
     "metadata": {},
     "output_type": "display_data"
    },
    {
     "data": {
      "text/markdown": [
       "- **2024-09-25 19:07:16.069006** <pre>Day time checkouts are done</pre>"
      ],
      "text/plain": [
       "<IPython.core.display.Markdown object>"
      ]
     },
     "metadata": {},
     "output_type": "display_data"
    },
    {
     "data": {
      "text/markdown": [
       "- **2024-09-25 19:11:01.414959** <pre>Oh, no! There was one last step. We are now running: slew_and_take_image_checkout.py</pre>"
      ],
      "text/plain": [
       "<IPython.core.display.Markdown object>"
      ]
     },
     "metadata": {},
     "output_type": "display_data"
    },
    {
     "data": {
      "text/markdown": [
       "- **2024-09-25 19:17:53.321377** <pre>Checkout passed</pre>"
      ],
      "text/plain": [
       "<IPython.core.display.Markdown object>"
      ]
     },
     "metadata": {},
     "output_type": "display_data"
    },
    {
     "data": {
      "text/markdown": [
       "- **2024-09-25 19:21:25.816463** <pre>Complete the warms up.</pre>"
      ],
      "text/plain": [
       "<IPython.core.display.Markdown object>"
      ]
     },
     "metadata": {},
     "output_type": "display_data"
    },
    {
     "data": {
      "text/markdown": [
       "- **2024-09-25 19:30:52.761069** <pre>Starting up the MTRotator.</pre>"
      ],
      "text/plain": [
       "<IPython.core.display.Markdown object>"
      ]
     },
     "metadata": {},
     "output_type": "display_data"
    },
    {
     "data": {
      "text/markdown": [
       "- **2024-09-25 19:35:59.288307** <pre>Turning on the Cabinet.</pre>"
      ],
      "text/plain": [
       "<IPython.core.display.Markdown object>"
      ]
     },
     "metadata": {},
     "output_type": "display_data"
    },
    {
     "data": {
      "text/markdown": [
       "- **2024-09-25 19:40:30.112565** <pre>Enable scheduler with config: maintel_fbs_sit_block_t170.yaml</pre>"
      ],
      "text/plain": [
       "<IPython.core.display.Markdown object>"
      ]
     },
     "metadata": {},
     "output_type": "display_data"
    },
    {
     "data": {
      "text/markdown": [
       "- **2024-09-25 19:43:22.773054** <pre>Enabling failed. David S. is checking.</pre>"
      ],
      "text/plain": [
       "<IPython.core.display.Markdown object>"
      ]
     },
     "metadata": {},
     "output_type": "display_data"
    },
    {
     "data": {
      "text/markdown": [
       "- **2024-09-25 19:50:00.834526** <pre>Venting in progress</pre>"
      ],
      "text/plain": [
       "<IPython.core.display.Markdown object>"
      ]
     },
     "metadata": {},
     "output_type": "display_data"
    },
    {
     "data": {
      "text/markdown": [
       "- **2024-09-25 20:21:09.083625** <pre>Rotator IS deactivated from GUI.</pre>"
      ],
      "text/plain": [
       "<IPython.core.display.Markdown object>"
      ]
     },
     "metadata": {},
     "output_type": "display_data"
    },
    {
     "data": {
      "text/markdown": [
       "- **2024-09-25 20:21:22.953789** <pre>Enable MTRotator.</pre>"
      ],
      "text/plain": [
       "<IPython.core.display.Markdown object>"
      ]
     },
     "metadata": {},
     "output_type": "display_data"
    },
    {
     "data": {
      "text/markdown": [
       "- **2024-09-25 20:23:26.381973** <pre>T161 was done.</pre>"
      ],
      "text/plain": [
       "<IPython.core.display.Markdown object>"
      ]
     },
     "metadata": {},
     "output_type": "display_data"
    },
    {
     "data": {
      "text/markdown": [
       "- **2024-09-25 20:23:45.245382** <pre>BLOCK-T153 (2.0) Simonyi - Opening M1M3 Mirror Covers will run.</pre>"
      ],
      "text/plain": [
       "<IPython.core.display.Markdown object>"
      ]
     },
     "metadata": {},
     "output_type": "display_data"
    },
    {
     "data": {
      "text/markdown": [
       "- **2024-09-25 20:29:52.658423** <pre>Block-T153 is done. Block-T152, closing M1M3 cover is running.</pre>"
      ],
      "text/plain": [
       "<IPython.core.display.Markdown object>"
      ]
     },
     "metadata": {},
     "output_type": "display_data"
    },
    {
     "data": {
      "text/markdown": [
       "- **2024-09-25 21:48:20.113921** <pre>MTMount was on fault with CCW fault. Will recover them.</pre>"
      ],
      "text/plain": [
       "<IPython.core.display.Markdown object>"
      ]
     },
     "metadata": {},
     "output_type": "display_data"
    },
    {
     "data": {
      "text/markdown": [
       "- **2024-09-25 21:55:43.894751** <pre>CCW was fault around 21:13:54.203 25/09/24 UTC.\r\n",
       "Error -2147138393 occurred at ??? in CCW_Task.lvlib:EventTaskActions.vi:4980002-&gt;CCW_Task.lvlib:EventTask.vi:360001-&gt;CCW_Task.lvlib:Task.vi-&gt;CCW_Task.lvlib:Task.vi.ACBRProxyCaller.D300083&lt;PARSED_NL&gt;&lt;PARSED_NL&gt;Possible reason(s):&lt;PARSED_NL&gt;&lt;PARSED_NL&gt;NI-Industrial Communications for EtherCAT:  Network communication fails. Ensure that all devices are connected to the real-time controller and the devices are powered on. If the problem persists, try to increase the EtherCAT Cyclic Bandwidth percentage on the master property page or increase the scan period of the NI Scan Engine to increase the time for cyclic telegrams.&lt;PARSED_NL&gt;=========================&lt;PARSED_NL&gt;Custom:  ISSUE IN VARIABLE \"ni.var.psp://localhost/Distributed IO and Aux Drives EtherCAT Master/TMA-EL-CS-CBT-0101-220A1/TMA-EL-CS-CBT-0101-220A10/diELCB101_CCW_LUB1level\"</pre>"
      ],
      "text/plain": [
       "<IPython.core.display.Markdown object>"
      ]
     },
     "metadata": {},
     "output_type": "display_data"
    },
    {
     "data": {
      "text/markdown": [
       "- **2024-09-25 21:58:10.459016** <pre>Clear CCW fault, MTMount MTRotator recovered.</pre>"
      ],
      "text/plain": [
       "<IPython.core.display.Markdown object>"
      ]
     },
     "metadata": {},
     "output_type": "display_data"
    },
    {
     "data": {
      "text/markdown": [
       "- **2024-09-25 22:21:19.129314** <pre>BLOCK-T170 (1.0)  Soak Test w/ Rotator and mtmount-ccw-only</pre>"
      ],
      "text/plain": [
       "<IPython.core.display.Markdown object>"
      ]
     },
     "metadata": {},
     "output_type": "display_data"
    },
    {
     "data": {
      "text/markdown": [
       "- **2024-09-25 22:45:03.273770** <pre>CCW fault, then MTMount fault again. \r\n",
       "22:41:40.575 25/09/24\r\n",
       "Error -2147138393 occurred at ??? in CCW_Task.lvlib:EventTaskActions.vi:4980002-&gt;CCW_Task.lvlib:EventTask.vi:360001-&gt;CCW_Task.lvlib:Task.vi-&gt;CCW_Task.lvlib:Task.vi.ACBRProxyCaller.D300083&lt;PARSED_NL&gt;&lt;PARSED_NL&gt;Possible reason(s):&lt;PARSED_NL&gt;&lt;PARSED_NL&gt;NI-Industrial Communications for EtherCAT:  Network communication fails. Ensure that all devices are connected to the real-time controller and the devices are powered on. If the problem persists, try to increase the EtherCAT Cyclic Bandwidth percentage on the master property page or increase the scan period of the NI Scan Engine to increase the time for cyclic telegrams.&lt;PARSED_NL&gt;=========================&lt;PARSED_NL&gt;Custom:  ISSUE IN VARIABLE \"ni.var.psp://localhost/Distributed IO and Aux Drives EtherCAT Master/TMA-EL-CS-CBT-0101-220A1/TMA-EL-CS-CBT-0101-220A10/diELCB101_CCW_LUB1level\"</pre>"
      ],
      "text/plain": [
       "<IPython.core.display.Markdown object>"
      ]
     },
     "metadata": {},
     "output_type": "display_data"
    },
    {
     "data": {
      "text/markdown": [
       "- **2024-09-25 22:47:35.085157** <pre>MTRotator was fault too.</pre>"
      ],
      "text/plain": [
       "<IPython.core.display.Markdown object>"
      ]
     },
     "metadata": {},
     "output_type": "display_data"
    },
    {
     "data": {
      "text/markdown": [
       "- **2024-09-25 22:51:52.132772** <pre>Resume the running BLOCK-T170.</pre>"
      ],
      "text/plain": [
       "<IPython.core.display.Markdown object>"
      ]
     },
     "metadata": {},
     "output_type": "display_data"
    },
    {
     "data": {
      "text/markdown": [
       "- **2024-09-25 23:02:07.968464** <pre>Tiago R. mentioned: I think there's an issue with the Scheduler configuration, I am investigating.. you can leave it running for now but I think we will need to restart it</pre>"
      ],
      "text/plain": [
       "<IPython.core.display.Markdown object>"
      ]
     },
     "metadata": {},
     "output_type": "display_data"
    },
    {
     "data": {
      "text/markdown": [
       "- **2024-09-25 23:13:09.945523** <pre>AuxTel is ready to go on sky</pre>"
      ],
      "text/plain": [
       "<IPython.core.display.Markdown object>"
      ]
     },
     "metadata": {},
     "output_type": "display_data"
    },
    {
     "data": {
      "text/markdown": [
       "- **2024-09-25 23:42:30.219957** <pre>Observations started</pre>"
      ],
      "text/plain": [
       "<IPython.core.display.Markdown object>"
      ]
     },
     "metadata": {},
     "output_type": "display_data"
    },
    {
     "data": {
      "text/markdown": [
       "-------------"
      ],
      "text/plain": [
       "<IPython.core.display.Markdown object>"
      ]
     },
     "metadata": {},
     "output_type": "display_data"
    }
   ],
   "source": [
    "# Narrative Report\n",
    "# Time Log\n",
    "allrep.nar_rep.time_log_as_markdown()"
   ]
  },
  {
   "cell_type": "markdown",
   "id": "19",
   "metadata": {},
   "source": [
    "<a id=\"dev-only\"></a>\n",
    "# Developer Only Section \n",
    "Contains stuff only expected to be useful to developers.\n",
    "\n",
    "May also contain sections that have moved out of he user section because they are not defined in the Storyboard."
   ]
  },
  {
   "cell_type": "markdown",
   "id": "3ef29e67-25e7-4255-9d70-f4c6e72eff70",
   "metadata": {},
   "source": [
    "## Experimental "
   ]
  },
  {
   "cell_type": "code",
   "execution_count": 15,
   "id": "50df2eeb-2930-4949-99c6-c5e272707c1b",
   "metadata": {
    "scrolled": true
   },
   "outputs": [
    {
     "data": {
      "application/vnd.jupyter.widget-view+json": {
       "model_id": "99793c605681415fa2db71ea6335599d",
       "version_major": 2,
       "version_minor": 0
      },
      "text/plain": [
       "interactive(children=(Checkbox(value=False, description='show_records'), Output()), _dom_classes=('widget-inte…"
      ]
     },
     "metadata": {},
     "output_type": "display_data"
    }
   ],
   "source": [
    "from ipywidgets import interact, interactive, fixed, interact_manual\n",
    "import ipywidgets as widgets\n",
    "import pandas as pd\n",
    "\n",
    "records = [dict(a=i, b=i, c=i, d=i, e=i) for i in range(100)]\n",
    "\n",
    "def records_toggle(show_records):\n",
    "    if show_records:\n",
    "        return(pd.DataFrame(records))\n",
    "    else:\n",
    "        return print(f'Number of records: {len(records)}')\n",
    "interact(records_toggle, show_records=False);"
   ]
  },
  {
   "cell_type": "code",
   "execution_count": 16,
   "id": "48dfa8ce-dbc9-40f1-b176-8acd9ab6d199",
   "metadata": {},
   "outputs": [
    {
     "data": {
      "application/vnd.jupyter.widget-view+json": {
       "model_id": "92a66a55ee2b4e8b85e4fdfbc34a4198",
       "version_major": 2,
       "version_minor": 0
      },
      "text/plain": [
       "interactive(children=(Checkbox(value=True, description='x'), Output()), _dom_classes=('widget-interact',))"
      ]
     },
     "metadata": {},
     "output_type": "display_data"
    }
   ],
   "source": [
    "def f(x):\n",
    "    return x\n",
    "\n",
    "interact(f, x=True);"
   ]
  },
  {
   "cell_type": "markdown",
   "id": "79dc2219-58c5-44ed-8386-c982c1a3749a",
   "metadata": {},
   "source": [
    "## Overview \n"
   ]
  },
  {
   "cell_type": "code",
   "execution_count": 16,
   "id": "f2c2bcfe-d348-476c-b7e5-48813038cbc6",
   "metadata": {
    "scrolled": true
   },
   "outputs": [
    {
     "data": {
      "text/markdown": [
       "## Project-Wide Night(s) Report \n",
       "- Run on logs and databases from **https://summit-lsp.lsst.codes/**\n",
       "- Report **1 observing night(s)** with the last reported night starting on **2024-09-25 12:00:00**.\n",
       "- min_dayobs='2024-09-25', max_dayobs='2024-09-26'\n",
       "- Using ***Prototype* Logging and Reporting** Version: **0.1.dev145+gf2a5765.d20241014**\n",
       "- have_consdb = True\n"
      ],
      "text/plain": [
       "<IPython.core.display.Markdown object>"
      ]
     },
     "metadata": {},
     "output_type": "display_data"
    }
   ],
   "source": [
    "# Display overview of Report context\n",
    "md(\n",
    "    f\"\"\"## Project-Wide Night(s) Report \n",
    "- Run on logs and databases from **{server}/**\n",
    "- Report **{days} observing night(s)** with the last reported night starting on **{date}**.\n",
    "- min_dayobs={allsrc.min_dayobs!r}, max_dayobs={allsrc.max_dayobs!r}\n",
    "- Using ***Prototype* Logging and Reporting** Version: **{lrversion}**\n",
    "- {have_consdb = }\n",
    "\"\"\"\n",
    ")"
   ]
  },
  {
   "cell_type": "markdown",
   "id": "651f6b1b-c2dc-417f-8c3e-601de6ff38d6",
   "metadata": {},
   "source": [
    "## This report uses the following data sources\n",
    "- NightReport\n",
    "- Exposurelog\n",
    "- Narrativelog\n",
    "- EFD\n",
    "- ConsDB\n",
    "- (DDV)\n",
    "- (Almanac from Astroplan)"
   ]
  },
  {
   "cell_type": "markdown",
   "id": "407025be-a333-4fba-9f5f-b01bb45614d3",
   "metadata": {},
   "source": [
    "## DDV "
   ]
  },
  {
   "cell_type": "code",
   "execution_count": 17,
   "id": "9",
   "metadata": {
    "jupyter": {
     "source_hidden": true
    }
   },
   "outputs": [
    {
     "data": {
      "text/markdown": [
       "Access DDV part of RubinTV: https://summit-lsp.lsst.codes/rubintv-dev/ddv/index.html"
      ],
      "text/plain": [
       "<IPython.core.display.Markdown object>"
      ]
     },
     "metadata": {},
     "output_type": "display_data"
    }
   ],
   "source": [
    "DDV = (\n",
    "    f\"{server}/rubintv-dev/ddv/index.html\"\n",
    "    if \"summit\" in server\n",
    "    else f\"{server}/rubintv/ddv/index.html\"\n",
    ")\n",
    "md(f\"Access DDV part of RubinTV: {DDV}\")"
   ]
  },
  {
   "cell_type": "markdown",
   "id": "20",
   "metadata": {},
   "source": [
    "## Where was this run?\n",
    "\n",
    "The environments that have everything needed to run this page are:\n",
    "\n",
    "    https://summit-lsp.lsst.codes\n",
    "    https://usdf-rsp-dev.slac.stanford.edu\n",
    "\n",
    "However, Times Square does not run on the Summit. It does run on USDF-dev.\n"
   ]
  },
  {
   "cell_type": "markdown",
   "id": "b0ec5b9f-9341-45ed-832e-8ae281983946",
   "metadata": {},
   "source": [
    "## Section overviews moved here"
   ]
  },
  {
   "cell_type": "code",
   "execution_count": 18,
   "id": "bf6f02a6-14a6-4268-ac45-92a410801114",
   "metadata": {
    "jupyter": {
     "source_hidden": true
    }
   },
   "outputs": [
    {
     "data": {
      "text/markdown": [
       "### Overview for Service: `nightreport` [4]"
      ],
      "text/plain": [
       "<IPython.core.display.Markdown object>"
      ]
     },
     "metadata": {},
     "output_type": "display_data"
    },
    {
     "name": "stdout",
     "output_type": "stream",
     "text": [
      "None\n"
     ]
    },
    {
     "data": {
      "text/markdown": [
       "- Endpoint: https://summit-lsp.lsst.codes/nightreport/reports?is_human=either&is_valid=true&min_day_obs=20240925&max_day_obs=20240926&limit=999"
      ],
      "text/plain": [
       "<IPython.core.display.Markdown object>"
      ]
     },
     "metadata": {},
     "output_type": "display_data"
    },
    {
     "name": "stdout",
     "output_type": "stream",
     "text": [
      "None\n",
      "- Got 4 records.  \n"
     ]
    },
    {
     "data": {
      "text/markdown": [
       "### Overview for Service: `exposurelog` [14]"
      ],
      "text/plain": [
       "<IPython.core.display.Markdown object>"
      ]
     },
     "metadata": {},
     "output_type": "display_data"
    },
    {
     "name": "stdout",
     "output_type": "stream",
     "text": [
      "None\n"
     ]
    },
    {
     "data": {
      "text/markdown": [
       "- Endpoint: https://summit-lsp.lsst.codes/exposurelog/messages?is_human=either&is_valid=true&order_by=-date_added&min_day_obs=20240925&max_day_obs=20240926&limit=999"
      ],
      "text/plain": [
       "<IPython.core.display.Markdown object>"
      ]
     },
     "metadata": {},
     "output_type": "display_data"
    },
    {
     "name": "stdout",
     "output_type": "stream",
     "text": [
      "None\n",
      "- Got 14 records.  \n"
     ]
    },
    {
     "data": {
      "text/markdown": [
       "### Overview for Service: `narrativelog` [80]"
      ],
      "text/plain": [
       "<IPython.core.display.Markdown object>"
      ]
     },
     "metadata": {},
     "output_type": "display_data"
    },
    {
     "name": "stdout",
     "output_type": "stream",
     "text": [
      "None\n"
     ]
    },
    {
     "data": {
      "text/markdown": [
       "- Endpoint: https://summit-lsp.lsst.codes/narrativelog/messages?is_human=either&is_valid=true&order_by=-date_begin&min_date_added=2024-09-25T00%3A00%3A00&max_date_added=2024-09-26T00%3A00%3A00&limit=999"
      ],
      "text/plain": [
       "<IPython.core.display.Markdown object>"
      ]
     },
     "metadata": {},
     "output_type": "display_data"
    },
    {
     "name": "stdout",
     "output_type": "stream",
     "text": [
      "None\n",
      "- Got 80 records.  \n"
     ]
    }
   ],
   "source": [
    "# Night Report Overview\n",
    "allrep.nig_rep.overview()\n",
    "# Exposure Report Overview\n",
    "allrep.exp_rep.overview()\n",
    "# Narrative Report Overview\n",
    "allrep.nar_rep.overview()"
   ]
  },
  {
   "cell_type": "code",
   "execution_count": 19,
   "id": "21",
   "metadata": {},
   "outputs": [],
   "source": [
    "# Conditionally display our current ability to connect to all needed endpoints.\n",
    "if False and not os.environ.get(\"EXTERNAL_INSTANCE_URL\"):\n",
    "    md(\"## Dashboard\")\n",
    "    md(\"(This is not done when running under Times Square.)\")\n",
    "    %run ./dashboard.ipynb"
   ]
  },
  {
   "cell_type": "markdown",
   "id": "22",
   "metadata": {},
   "source": [
    "## Finale"
   ]
  },
  {
   "cell_type": "code",
   "execution_count": 20,
   "id": "23",
   "metadata": {
    "jupyter": {
     "source_hidden": true
    }
   },
   "outputs": [
    {
     "name": "stdout",
     "output_type": "stream",
     "text": [
      "Finished 2024-10-18 11:32:18.426770\n"
     ]
    }
   ],
   "source": [
    "print(f\"Finished {str(dt.datetime.now())}\")"
   ]
  }
 ],
 "metadata": {
  "kernelspec": {
   "display_name": "Python 3 (ipykernel)",
   "language": "python",
   "name": "python3"
  },
  "language_info": {
   "codemirror_mode": {
    "name": "ipython",
    "version": 3
   },
   "file_extension": ".py",
   "mimetype": "text/x-python",
   "name": "python",
   "nbconvert_exporter": "python",
   "pygments_lexer": "ipython3",
   "version": "3.11.9"
  }
 },
 "nbformat": 4,
 "nbformat_minor": 5
}
