{
 "cells": [
  {
   "cell_type": "markdown",
   "id": "0",
   "metadata": {},
   "source": [
    "# System-wide Night Log"
   ]
  },
  {
   "cell_type": "code",
   "execution_count": null,
   "id": "1",
   "metadata": {},
   "outputs": [],
   "source": [
    "# Parameters. Set defaults here.\n",
    "# Times Square replaces this cell with the user's parameters.\n",
    "\n",
    "# day_obs values: TODAY, YESTERDAY, YYYY-MM-DD\n",
    "# Report on observing nights that start upto but not included this day.\n",
    "day_obs = '2024-09-04' # TODO change to 'TODAY' before push  \n",
    "\n",
    "# Total number of days of data to display (ending on day_obs)\n",
    "number_of_days = '1'  "
   ]
  },
  {
   "cell_type": "code",
   "execution_count": null,
   "id": "2",
   "metadata": {
    "jupyter": {
     "source_hidden": true
    }
   },
   "outputs": [],
   "source": [
    "# Only use packages available in the Rubin Science Platform\n",
    "import requests\n",
    "from collections import defaultdict\n",
    "import pandas as pd\n",
    "from pprint import pp\n",
    "from urllib.parse import urlencode\n",
    "from IPython.display import display, Markdown, display_markdown\n",
    "from matplotlib import pyplot as plt\n",
    "import os\n",
    "from datetime import datetime, date, timedelta\n",
    "#! from rubin_scheduler.site_models import Almanac"
   ]
  },
  {
   "cell_type": "code",
   "execution_count": null,
   "id": "3",
   "metadata": {},
   "outputs": [],
   "source": [
    "# Normalize Parameters (both explicit Times Squares params, in implicit ones)\n",
    "limit = 99  # TODO Auto get more if this isn't enough to get all requested DAYS\n",
    "\n",
    "match day_obs.lower():\n",
    "    case 'today':\n",
    "        date = datetime.now().date()\n",
    "    case 'yesterday':\n",
    "        date = datetime.now().date()-timedelta(days=1)\n",
    "    case _:\n",
    "        date = datetime.strptime(day_obs, '%Y-%m-%d').date()\n",
    "# date:  is EXLUSIVE (upto, but not including)\n",
    "days = int(number_of_days)\n",
    "\n",
    "# Thus: [min_day_obs,max_day_obs)\n",
    "min_day_obs = (date - timedelta(days=days-1)).strftime('%Y%m%d') # Inclusive\n",
    "max_day_obs = (date + timedelta(days=1)).strftime('%Y%m%d') # prep for Exclusive\n",
    "\n",
    "response_timeout = 3.05  # seconds, how long to wait for connection\n",
    "read_timeout = 20  # seconds\n",
    "timeout = (float(response_timeout), float(read_timeout))"
   ]
  },
  {
   "cell_type": "code",
   "execution_count": null,
   "id": "4",
   "metadata": {},
   "outputs": [],
   "source": [
    "# Set default env to \"usdf\" and try before PUSH to repo.\n",
    "summit = 'https://summit-lsp.lsst.codes'\n",
    "usdf = 'https://usdf-rsp-dev.slac.stanford.edu'\n",
    "tucson = 'https://tucson-teststand.lsst.codes'\n",
    "\n",
    "# Use server=tucson for dev testing.\n",
    "# Use server=usdf for push to develop.   TODO\n",
    "server = os.environ.get('EXTERNAL_INSTANCE_URL', summit)"
   ]
  },
  {
   "cell_type": "code",
   "execution_count": null,
   "id": "5",
   "metadata": {},
   "outputs": [],
   "source": [
    "# TODO For Times Square, UNCOMMENT next line and COMMENT the one after.\n",
    "# !pip install git+https://github.com/lsst-ts/ts_logging_and_reporting.git@prototype > /dev/null\n",
    "!pip install --upgrade ..\n",
    "\n",
    "from lsst.ts.logging_and_reporting.source_adapters import ExposurelogAdapter, NarrativelogAdapter\n",
    "try:\n",
    "    import lsst.ts.logging_and_reporting.version\n",
    "    lrversion = lsst.ts.logging_and_reporting.version.__version__\n",
    "except:\n",
    "    lrversion = 'LIVE'"
   ]
  },
  {
   "cell_type": "code",
   "execution_count": null,
   "id": "6",
   "metadata": {},
   "outputs": [],
   "source": [
    "try:\n",
    "    from lsst_efd_client import EfdClient\n",
    "    enable_efd = True\n",
    "except:\n",
    "    enable_efd = False\n"
   ]
  },
  {
   "cell_type": "code",
   "execution_count": null,
   "id": "7",
   "metadata": {},
   "outputs": [],
   "source": [
    "display(Markdown(f'''\n",
    "Report for **{date}** covering the previous **{days}** observing night(s).\n",
    "- Run on logs from **{server}/**\n",
    "- Using *Prototype* Logging and Reporting Version: **{lrversion}**\n",
    "- {enable_efd=}\n",
    "'''))"
   ]
  },
  {
   "cell_type": "code",
   "execution_count": null,
   "id": "8",
   "metadata": {},
   "outputs": [],
   "source": []
  },
  {
   "cell_type": "markdown",
   "id": "9",
   "metadata": {},
   "source": [
    "# Exposure Log"
   ]
  },
  {
   "cell_type": "code",
   "execution_count": null,
   "id": "10",
   "metadata": {},
   "outputs": [],
   "source": [
    "exposure_adapter = ExposurelogAdapter(server_url=server)\n",
    "exposure_url = exposure_adapter.source_url\n",
    "try:\n",
    "    exposure_recs,url = exposure_adapter.get_messages(\n",
    "                                        limit=limit,\n",
    "                                        min_day_obs=min_day_obs,\n",
    "                                        max_day_obs=max_day_obs,\n",
    "                                        )\n",
    "except Exception as err:\n",
    "    exposure_recs = []\n",
    "    msg = f'ERROR getting records from {url=}: {err=}'\n",
    "    raise Exception(msg)"
   ]
  },
  {
   "cell_type": "code",
   "execution_count": null,
   "id": "11",
   "metadata": {},
   "outputs": [],
   "source": [
    "print(f'Retrieved {len(exposure_recs)} records from {exposure_url}')"
   ]
  },
  {
   "cell_type": "code",
   "execution_count": null,
   "id": "12",
   "metadata": {},
   "outputs": [],
   "source": [
    "if exposure_recs:\n",
    "    exposure_adapter.day_table(exposure_recs, 'date_added', time_only=False)"
   ]
  },
  {
   "cell_type": "code",
   "execution_count": null,
   "id": "13",
   "metadata": {},
   "outputs": [],
   "source": [
    "display(Markdown(f\"### <font color='red'>{exposure_url}/exposures/ Not yet functional on USDF</font>\"))\n",
    "gaps = exposure_adapter.get_observation_gaps()\n",
    "if gaps:\n",
    "    display(Markdown(f'### Date vs Observation Gap (minutes) for all Instruments'))\n",
    "    for instrument, day_gaps in gaps.items():\n",
    "        if len(day_gaps) == 0:\n",
    "            display(Markdown(f'**No day gaps found for *{instrument=!s}* **'))\n",
    "        else:\n",
    "            x,y = zip(*day_gaps.items())\n",
    "            df = pd.DataFrame(dict(day=x,minutes=y))\n",
    "            df.plot.bar(x='day', y='minutes', title=f'{instrument=!s}')\n",
    "else:\n",
    "    print(f'No Observation Gaps found in exposures.')"
   ]
  },
  {
   "cell_type": "markdown",
   "id": "14",
   "metadata": {},
   "source": [
    "# Narrative Log\n"
   ]
  },
  {
   "cell_type": "code",
   "execution_count": null,
   "id": "15",
   "metadata": {},
   "outputs": [],
   "source": [
    "narrative_adapter = NarrativelogAdapter(server_url=server)\n",
    "narrative_url = narrative_adapter.source_url\n",
    "try:\n",
    "    # date like '2000-01-02 12:00:00'\n",
    "    # str(datetime(2000, 1, 2, 12, 0, 0))\n",
    "    min_date = str(datetime.strptime(min_day_obs,'%Y%m%d'))\n",
    "    max_date = str(datetime.strptime(max_day_obs,'%Y%m%d'))\n",
    "    print(f'Get data from {narrative_url}: {min_date} to {max_date}')\n",
    "    narrative_recs,url = narrative_adapter.get_messages(\n",
    "        limit=limit,\n",
    "        min_date_end=min_date,\n",
    "        max_date_end=max_date\n",
    "    )\n",
    "except Exception as err:\n",
    "    narrative_recs = []\n",
    "    msg = f'ERROR getting records from {url}: {err=}'\n",
    "    raise Exception(msg)\n",
    "\n",
    "print(f'Retrieved {len(narrative_recs)} records.')"
   ]
  },
  {
   "cell_type": "code",
   "execution_count": null,
   "id": "16",
   "metadata": {},
   "outputs": [],
   "source": [
    "if narrative_recs:\n",
    "    narrative_adapter.day_table(narrative_recs, 'date_added')"
   ]
  },
  {
   "cell_type": "code",
   "execution_count": null,
   "id": "17",
   "metadata": {},
   "outputs": [],
   "source": []
  }
 ],
 "metadata": {
  "kernelspec": {
   "display_name": "Python 3 (ipykernel)",
   "language": "python",
   "name": "python3"
  },
  "language_info": {
   "codemirror_mode": {
    "name": "ipython",
    "version": 3
   },
   "file_extension": ".py",
   "mimetype": "text/x-python",
   "name": "python",
   "nbconvert_exporter": "python",
   "pygments_lexer": "ipython3",
   "version": "3.11.9"
  }
 },
 "nbformat": 4,
 "nbformat_minor": 5
}
