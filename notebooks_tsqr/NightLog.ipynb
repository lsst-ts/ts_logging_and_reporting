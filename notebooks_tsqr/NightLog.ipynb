{
 "cells": [
  {
   "cell_type": "markdown",
   "id": "0",
   "metadata": {},
   "source": [
    "# About this Page\n",
    "This section is a developer aid; TODO remove later!\n",
    "*This notebook is intended to align with [storyboard Version 51](https://rubinobs.atlassian.net/wiki/pages/viewpage.action?pageId=132612364&pageVersion=51)* (more or less)\n",
    "If you are using this under Time Square and *get any errors* that you think come from this notebook, please tell Steve Pothier (steve.pothier@noirlab.edu).  Include the full Times Square URL you used to get the error. \n",
    "\n",
    "## What is new?\n",
    "- Added \"What is new\"\n",
    "- Retrieve of records from each source will repeatedly get pages until all data for the specified date range has been retrieved.\n",
    "- Data Log partitions exposure counts by \"quality\" flags.\n",
    "- Data Log now has link to drill down to Detail exposure list.\n",
    "- This page tries to work around existing problems with APIs used for source data. (There is a ticket to fix the APIs)\n",
    "- Errors with APIs are display in this page in Red.\n",
    "\n",
    "## Known issues\n",
    "- Sunset bug: DM-47511"
   ]
  },
  {
   "cell_type": "code",
   "execution_count": 1,
   "id": "1",
   "metadata": {},
   "outputs": [],
   "source": [
    "# Parameters.\n",
    "# Times Square replaces this cell with the user's parameters.\n",
    "# So, don't put anything else here!\n",
    "\n",
    "# day_obs values: TODAY, YESTERDAY, YYYY-MM-DD\n",
    "# Report on observing nights that start upto but not included this day.\n",
    "#!day_obs = '2024-09-25' # Value to use for local testing (Summit)\n",
    "day_obs = \"YESTERDAY\"  # TODO Change to 'YESTERDAY' to test with default before push\n",
    "\n",
    "# Total number of days of data to display (ending on day_obs)\n",
    "number_of_days = \"1\"  # TODO Change to '1' to test with default before push\n",
    "\n",
    "verbose = \"true\"  # TODO change to false before push, else true"
   ]
  },
  {
   "cell_type": "code",
   "execution_count": 2,
   "id": "2",
   "metadata": {},
   "outputs": [],
   "source": [
    "import datetime as dt\n",
    "import os\n",
    "from collections import defaultdict\n",
    "from pprint import pformat, pp\n",
    "from urllib.parse import urlencode, urlparse\n",
    "import pandas as pd\n",
    "from IPython.display import HTML\n",
    "\n",
    "# When running under Times Square, install pkg from github.\n",
    "# Otherwise use what is installed locally (intended to be dev editiable pkg)\n",
    "if os.environ.get(\"EXTERNAL_INSTANCE_URL\"):\n",
    "    dev_msg = (\n",
    "        'Installing \"lsst.ts.logging_and_reporting\" from github using \"prototype\" branch. \\n'\n",
    "        'TODO: Make the need for this go away by getting Logging_and_Reporting installed in RSP.'\n",
    "    )\n",
    "    !pip install --upgrade git+https://github.com/lsst-ts/ts_logging_and_reporting.git@prototype > /dev/null 2>&1\n",
    "else:\n",
    "    dev_msg = 'Imported lsst.ts.logging_and_reporting from local packages.'\n",
    "from lsst.ts.logging_and_reporting.all_sources import AllSources\n",
    "from lsst.ts.logging_and_reporting.all_reports import AllReports\n",
    "import lsst.ts.logging_and_reporting.utils as ut\n",
    "from lsst.ts.logging_and_reporting.reports import md, mdlist, mdpathlink\n",
    "from lsst.ts.logging_and_reporting.reports import html_draft, html_beta"
   ]
  },
  {
   "cell_type": "code",
   "execution_count": 3,
   "id": "4",
   "metadata": {},
   "outputs": [],
   "source": [
    "# Set default env to \"usdf\" and try before PUSH to repo.\n",
    "# The default provided here is for local testing. Under Times Square it is ignored.\n",
    "server = os.environ.get(\n",
    "    \"EXTERNAL_INSTANCE_URL\", \n",
    "    ut.Server.usdf) # TODO try with \"usdf\" before push (else \"summit\")"
   ]
  },
  {
   "cell_type": "code",
   "execution_count": 4,
   "id": "ec883835-42d3-40ae-a014-8b89befe4263",
   "metadata": {
    "jupyter": {
     "source_hidden": true
    }
   },
   "outputs": [],
   "source": [
    "date = ut.get_datetime_from_dayobs_str(day_obs)\n",
    "# date:  is EXCLUSIVE (upto, but not including)\n",
    "days = int(number_of_days)\n",
    "\n",
    "# Thus: [min_day_obs,max_day_obs)\n",
    "# Format: string, YYYY-MM-DD\n",
    "min_date = date - dt.timedelta(days=days - 1)\n",
    "max_date = date + dt.timedelta(days=1)\n",
    "min_day_obs = min_date.strftime(\"%Y-%m-%d\")  # Inclusive\n",
    "max_day_obs = max_date.strftime(\"%Y-%m-%d\")  # prep for Exclusive\n",
    "\n",
    "verbose = (verbose == \"true\") \n"
   ]
  },
  {
   "cell_type": "code",
   "execution_count": 5,
   "id": "5",
   "metadata": {
    "scrolled": true
   },
   "outputs": [
    {
     "name": "stdout",
     "output_type": "stream",
     "text": [
      "DBG get_records endpoint='https://usdf-rsp-dev.slac.stanford.edu/nightreport/reports'\n",
      "DBG get_records qstr: is_human=either&is_valid=true&order_by=-day_obs&offset=0&limit=100&min_day_obs=20241111&max_day_obs=20241112\n",
      "DEBUG protected_get(url='https://usdf-rsp-dev.slac.stanford.edu/nightreport/reports?is_human=either&is_valid=true&order_by=-day_obs&offset=0&limit=100&min_day_obs=20241111&max_day_obs=20241112',timeout=(5.05, 20.0))\n",
      "DBG get_records-2 len(page)=2 len(recs)=2\n",
      "DBG get_records-2 len(self.records)=2 status={'endpoint_url': 'https://usdf-rsp-dev.slac.stanford.edu/nightreport/reports?is_human=either&is_valid=true&order_by=-day_obs&offset=0&limit=100&min_day_obs=20241111&max_day_obs=20241112', 'number_of_records': 2, 'error': None}\n",
      "DEBUG protected_get(url='https://usdf-rsp-dev.slac.stanford.edu/exposurelog/instruments',timeout=(5.05, 20.0))\n",
      "DBG get_exposures endpoint='https://usdf-rsp-dev.slac.stanford.edu/exposurelog/exposures'\n",
      "DBG get_exposures qstr: registry=1&instrument=LSSTComCamSim&order_by=-timespan_end&offset=0&limit=2500&min_day_obs=20241111&max_day_obs=20241112\n",
      "DEBUG protected_get(url='https://usdf-rsp-dev.slac.stanford.edu/exposurelog/exposures?registry=1&instrument=LSSTComCamSim&order_by=-timespan_end&offset=0&limit=2500&min_day_obs=20241111&max_day_obs=20241112',timeout=(5.05, 20.0))\n",
      "DBG get_exposures endpoint='https://usdf-rsp-dev.slac.stanford.edu/exposurelog/exposures'\n",
      "DBG get_exposures qstr: registry=1&instrument=LATISS&order_by=-timespan_end&offset=0&limit=2500&min_day_obs=20241111&max_day_obs=20241112\n",
      "DEBUG protected_get(url='https://usdf-rsp-dev.slac.stanford.edu/exposurelog/exposures?registry=1&instrument=LATISS&order_by=-timespan_end&offset=0&limit=2500&min_day_obs=20241111&max_day_obs=20241112',timeout=(5.05, 20.0))\n",
      "DBG get_exposures endpoint='https://usdf-rsp-dev.slac.stanford.edu/exposurelog/exposures'\n",
      "DBG get_exposures qstr: registry=1&instrument=LSSTComCam&order_by=-timespan_end&offset=0&limit=2500&min_day_obs=20241111&max_day_obs=20241112\n",
      "DEBUG protected_get(url='https://usdf-rsp-dev.slac.stanford.edu/exposurelog/exposures?registry=1&instrument=LSSTComCam&order_by=-timespan_end&offset=0&limit=2500&min_day_obs=20241111&max_day_obs=20241112',timeout=(5.05, 20.0))\n",
      "DBG get_exposures endpoint='https://usdf-rsp-dev.slac.stanford.edu/exposurelog/exposures'\n",
      "DBG get_exposures qstr: registry=1&instrument=LSSTCam&order_by=-timespan_end&offset=0&limit=2500&min_day_obs=20241111&max_day_obs=20241112\n",
      "DEBUG protected_get(url='https://usdf-rsp-dev.slac.stanford.edu/exposurelog/exposures?registry=1&instrument=LSSTCam&order_by=-timespan_end&offset=0&limit=2500&min_day_obs=20241111&max_day_obs=20241112',timeout=(5.05, 20.0))\n",
      "DBG get_records: endpoint='https://usdf-rsp-dev.slac.stanford.edu/exposurelog/messages'\n",
      "DBG get_records qstr: is_human=either&is_valid=true&order_by=-day_obs&offset=0&limit=2500&min_day_obs=20241111&max_day_obs=20241112\n",
      "DEBUG protected_get(url='https://usdf-rsp-dev.slac.stanford.edu/exposurelog/messages?is_human=either&is_valid=true&order_by=-day_obs&offset=0&limit=2500&min_day_obs=20241111&max_day_obs=20241112',timeout=(5.05, 20.0))\n",
      "NarrativeLogAdapter(server_url='https://usdf-rsp-dev.slac.stanford.edu', max_dayobs='2024-11-12', min_dayobs='2024-11-11', limit=None\n",
      "Using endpoint='https://usdf-rsp-dev.slac.stanford.edu/narrativelog/messages'\n",
      "DBG get_records qstr: is_human=either&is_valid=true&order_by=-date_added&offset=0&limit=1000&min_date_added=2024-11-11T00%3A00%3A00&max_date_added=2024-11-12T00%3A00%3A00\n",
      "DEBUG protected_get(url='https://usdf-rsp-dev.slac.stanford.edu/narrativelog/messages?is_human=either&is_valid=true&order_by=-date_added&offset=0&limit=1000&min_date_added=2024-11-11T00%3A00%3A00&max_date_added=2024-11-12T00%3A00%3A00',timeout=(5.05, 20.0))\n",
      "Loaded data from sources in 3.9 seconds\n"
     ]
    }
   ],
   "source": [
    "# Read records from (almost) all sources\n",
    "allsrc = AllSources(\n",
    "    server_url=server,\n",
    "    min_dayobs=min_day_obs,\n",
    "    max_dayobs=max_day_obs,\n",
    "    verbose=verbose,                \n",
    "    limit=5000,\n",
    "    exclude_instruments = []      # TODO change to empty list before push\n",
    ")\n",
    "allrep = AllReports(allsrc=allsrc)"
   ]
  },
  {
   "cell_type": "markdown",
   "id": "a0d44b83-527e-41b2-8d05-6f6207ceba30",
   "metadata": {},
   "source": [
    "----------"
   ]
  },
  {
   "cell_type": "code",
   "execution_count": 6,
   "id": "7",
   "metadata": {
    "jupyter": {
     "source_hidden": true
    },
    "scrolled": true
   },
   "outputs": [
    {
     "data": {
      "text/markdown": [
       "# Showing data for 2024-11-11 to 2024-11-12 for LSSTComCamSim, LATISS, LSSTComCam, LSSTCam"
      ],
      "text/plain": [
       "<IPython.core.display.Markdown object>"
      ]
     },
     "metadata": {},
     "output_type": "display_data"
    }
   ],
   "source": [
    "instrum_str = \", \".join(list(allsrc.exp_src.instruments.keys()))\n",
    "md(f\"# Showing data for {min_date.date()} to {max_date.date()} for {instrum_str}\")"
   ]
  },
  {
   "cell_type": "markdown",
   "id": "8",
   "metadata": {},
   "source": [
    "# Table of Contents\n",
    "* [Night Report](#Night-Report-BETA)\n",
    "    - AuxTel\n",
    "    - Simonyi\n",
    "* [Almanac](#Almanac-BETA)\n",
    "* [Summary plots of whole night](#Summary-plots-of-whole-night-DRAFT)\n",
    "* [Time Accounting](#Time-Accounting-DRAFT)\n",
    "* [Jira Tickets](#Jira-Tickets-BETA)\n",
    "    - AuxTel\n",
    "    - Simonyi\n",
    "* [BLOCKS Observed](#BLOCKS-Observed-DRAFT)\n",
    "    - AuxTel\n",
    "    - Simonyi\n",
    "* [Data Log](#Data-Log-DRAFT)\n",
    "* [Narrative Log](#Narrative-Log-BETA)\n",
    "* [Developer Only Section](#Developer-Only-Section-REMOVE)"
   ]
  },
  {
   "cell_type": "markdown",
   "id": "86ff253e-f575-4b9b-96f9-698d3faf9494",
   "metadata": {},
   "source": [
    "## Night Report <font style=\"background-color:green; color:white; font-size:20px\">BETA</font> "
   ]
  },
  {
   "cell_type": "code",
   "execution_count": 7,
   "id": "10",
   "metadata": {
    "jupyter": {
     "source_hidden": true
    }
   },
   "outputs": [
    {
     "data": {
      "text/markdown": [
       "### Telescope: Simonyi"
      ],
      "text/plain": [
       "<IPython.core.display.Markdown object>"
      ]
     },
     "metadata": {},
     "output_type": "display_data"
    },
    {
     "data": {
      "text/markdown": [
       "```\n",
       "Site was running on generator #2 upon arrival.  Day shift started with powering on and warming up M2 and Camera hexapods.  During the bump test, the load was switched to the Caterpillar generator, which apparently glitched the air supply to M1M3, so several actuators reported failed.  These were re-tested and cleared by Petr.  FA 215 was known to be bad and was disabled.  The TMA and Dome both presented trouble during their respective handovers (OBS-662 for TMA, OBS-651 for Dome).  Two laser tracker alignments were attempted but the first was not useful since the rotator was not at zero, and the second run was successful.  Despite the successful earlier dome handover, we had to recover communication wit the dome through sending exitFault commands and state cycling MTDome until we recovered telemetry and control.  Telemetry rate is quite slow, sometimes taking ~30 seconds to return.  At 8:30pm local time, the temperature conditions in and around M1M3 and outside were matched within <2 degrees, and the shutters were opened.\n",
       "\n",
       "On-sky observations kicked off with twilight flats, and a full set of useful r-band flats were acquired.  \n",
       "\n",
       "------- AOS Night Summary -------\n",
       "\n",
       "Tonight was productive, with significant learning and progress despite challenging seeing conditions. The start of the night was  disrupted by dome and mount issues, as well as issues with the closed-loop script returning NaNs. After completing a few i and r filter sequences for pipeline validation, we moved on to our main goal: refining our understanding of misalignments.\n",
       "\n",
       "Building on the best M2 ry tilt from the previous night, we systematically perturbed each hexapod degree of freedom, closed the loop, and checked for any sign or rotation errors. We addressed the remaining issues, achieving a successful repeat of the experiment with the closed loop correcting accurately in the opposite direction of each applied perturbation. We then closed the loop using M2 rx and ry tilts to refine telescope alignment, converging on an M2 ry tilt of about 0.03 degrees, with M2 rx at zero. This result aligns better with expectations than our earlier Cam dx value of 4.8 mm, and we'll keep this as our baseline.\n",
       "\n",
       "Following this, we began closing the loop on z and tilts, then introduced M1M3 bending modes. While running the closed-loop script, we noted that sometimes corrections were not being applied due to our tolerance threshold being too larges—an important tweak for future sessions. Poor seeing prevented us from achieving sub-arcsecond image quality until the end of the night (we got to 0.96 arcsec in injury time!), but we reached seeing-limited quality, a solid outcome given the conditions.\n",
       "\n",
       "Although the root cause of the sign flips still requires tracing, we now have a reliable algorithm for returning to focus. In the coming nights, we'll aim to close the loop with multiple degrees of freedom, fine-tuning the loop and addressing degeneracies. Updating the elevation LUT is also a priority, as frequent refocusing after elevation changes has become cumbersome. Work needs to be done to increase the robustness of the AOS to variations in sky background. We'll leverage data from test T222 for improvements. And, whoever is up there with a hair dryer affecting our seeing, kindly knock it off!\n",
       "\n",
       "At 05:06 local we started the TMA/Dome parking procedures, closed dome calibration images and the end of night procedures. MTRotator refused to move to 0 deg, only after a Rot-PXI reboot we were able to do it (OBS-664). Once TMA was parked at horizon, all the HP forces were below +/-1800N and while lowering the mirror faulted in breakaway. MTM1M3TS was cycled with fans running. ComCam calibrations on the go while going down to the hotel.\n",
       "```"
      ],
      "text/plain": [
       "<IPython.core.display.Markdown object>"
      ]
     },
     "metadata": {},
     "output_type": "display_data"
    },
    {
     "data": {
      "text/markdown": [
       "Confluence page: [v2/testCases](https://rubinobs.atlassian.net/projects/BLOCK?selectedItem=com.atlassian.plugins.atlassian-connect-plugin:com.kanoah.test-manager__main-project-page#!/v2/testCases)"
      ],
      "text/plain": [
       "<IPython.core.display.Markdown object>"
      ]
     },
     "metadata": {},
     "output_type": "display_data"
    },
    {
     "data": {
      "text/markdown": [
       "Telescope Status: TMA at Horizon, mirror covers retracted. TMA Az=150.8 deg. Dome at Az=80 deg.\n",
       "MTM1M3 DISABLED - lowered and disabled\n",
       "MTM1M3TS ENABLED\n",
       "MTM2 ENABLED in closed loop\n",
       "MTAOS STANDBY\n",
       "MTDome DISABLED\n",
       "MTDomeTrajectory STANDBY\n",
       "MTMount DISABLED\n",
       "MTHexapods in STANDBY w/ cabinets and PXIs powered off\n",
       "MTPtg ENABLED\n",
       "MTRotator at 0º, in STANDBY w/ cabinets and PXIs powered off\n",
       "CCCamera, CCOODS, CCHeaderService in ENABLED"
      ],
      "text/plain": [
       "<IPython.core.display.Markdown object>"
      ]
     },
     "metadata": {},
     "output_type": "display_data"
    },
    {
     "data": {
      "text/markdown": [
       "*Authors: Eric Christensen, David Sanmartim, Paulina Venegas, Karla Pena, Elana Urbach, Guillem Megias Homar, Andrew Connolly*"
      ],
      "text/plain": [
       "<IPython.core.display.Markdown object>"
      ]
     },
     "metadata": {},
     "output_type": "display_data"
    },
    {
     "data": {
      "text/markdown": [
       "```\n",
       "Site was running on generator #2 upon arrival.  Day shift started with powering on and warming up M2 and Camera hexapods.  During the bump test, the load was switched to the Caterpillar generator, which apparently glitched the air supply to M1M3, so several actuators reported failed.  These were re-tested and cleared by Petr.  FA 215 was known to be bad and was disabled.  The TMA and Dome both presented trouble during their respective handovers (OBS-662 for TMA, OBS-651 for Dome).  Two laser tracker alignments were attempted but the first was not useful since the rotator was not at zero, and the second run was successful.  Despite the successful earlier dome handover, we had to recover communication wit the dome through sending exitFault commands and state cycling MTDome until we recovered telemetry and control.  Telemetry rate is quite slow, sometimes taking ~30 seconds to return.  At 8:30pm local time, the temperature conditions in and around M1M3 and outside were matched within <2 degrees, and the shutters were opened.\n",
       "\n",
       "On-sky observations kicked off with twilight flats, and a full set of useful r-band flats were acquired.  \n",
       "\n",
       "------- AOS Night Summary -------\n",
       "\n",
       "Tonight was productive, with significant learning and progress despite challenging seeing conditions. The start of the night was  disrupted by dome and mount issues, as well as issues with the closed-loop script returning NaNs. After completing a few i and r filter sequences for pipeline validation, we moved on to our main goal: refining our understanding of misalignments.\n",
       "\n",
       "Building on the best M2 ry tilt from the previous night, we systematically perturbed each hexapod degree of freedom, closed the loop, and checked for any sign or rotation errors. We addressed the remaining issues, achieving a successful repeat of the experiment with the closed loop correcting accurately in the opposite direction of each applied perturbation. We then closed the loop using M2 rx and ry tilts to refine telescope alignment, converging on an M2 ry tilt of about 0.03 degrees, with M2 rx at zero. This result aligns better with expectations than our earlier Cam dx value of 4.8 mm, and we'll keep this as our baseline.\n",
       "\n",
       "Following this, we began closing the loop on z and tilts, then introduced M1M3 bending modes. While running the closed-loop script, we noted that sometimes corrections were not being applied due to our tolerance threshold being too larges—an important tweak for future sessions. Poor seeing prevented us from achieving sub-arcsecond image quality tonight, but we reached seeing-limited quality, a solid outcome given the conditions.\n",
       "\n",
       "Although the root cause of the sign flips still requires tracing, we now have a reliable algorithm for returning to focus. In the coming nights, we'll aim to close the loop with multiple degrees of freedom, fine-tuning the loop and addressing degeneracies. Updating the elevation LUT is also a priority, as frequent refocusing after elevation changes has become cumbersome. Work needs to be done to increase the robustness of the AOS to variations in sky background. We'll leverage data from test T222 for improvements. And, whoever is up there with a hair dryer affecting our seeing, kindly knock it off!\n",
       "\n",
       "At 05:06 local we started the TMA/Dome parking procedures, closed dome calibration images and the end of night procedures. Once TMA was parked at horizon, all the HP forces were below +/-1800N and while lowering the mirror faulted in breakaway. MTM1M3TS was cycled with fans running.\n",
       "```"
      ],
      "text/plain": [
       "<IPython.core.display.Markdown object>"
      ]
     },
     "metadata": {},
     "output_type": "display_data"
    },
    {
     "data": {
      "text/markdown": [
       "Confluence page: [v2/testCases](https://rubinobs.atlassian.net/projects/BLOCK?selectedItem=com.atlassian.plugins.atlassian-connect-plugin:com.kanoah.test-manager__main-project-page#!/v2/testCases)"
      ],
      "text/plain": [
       "<IPython.core.display.Markdown object>"
      ]
     },
     "metadata": {},
     "output_type": "display_data"
    },
    {
     "data": {
      "text/markdown": [
       "Telescope Status: TMA at Horizon, mirror covers retracted. TMA Az=150.8 deg. Dome at Az=80 deg.\n",
       "MTM1M3 DISABLED - lowered and disabled\n",
       "MTM1M3TS ENABLED\n",
       "MTM2 ENABLED in closed loop\n",
       "MTAOS STANDBY\n",
       "MTDome DISABLED\n",
       "MTDomeTrajectory STANDBY\n",
       "MTMount DISABLED\n",
       "MTHexapods in STANDBY w/ cabinets and PXIs powered off\n",
       "MTPtg ENABLED\n",
       "MTRotator at 0º, in STANDBY w/ cabinets and PXIs powered off\n",
       "CCCamera, CCOODS, CCHeaderService in ENABLED"
      ],
      "text/plain": [
       "<IPython.core.display.Markdown object>"
      ]
     },
     "metadata": {},
     "output_type": "display_data"
    },
    {
     "data": {
      "text/markdown": [
       "*Authors: Eric Christensen, David Sanmartim, Paulina Venegas, Karla Pena, Elana Urbach, Guillem Megias Homar, Andrew Connolly*"
      ],
      "text/plain": [
       "<IPython.core.display.Markdown object>"
      ]
     },
     "metadata": {},
     "output_type": "display_data"
    }
   ],
   "source": [
    "# Night Report\n",
    "# Display time log\n",
    "allrep.nig_rep.time_log_as_markdown()"
   ]
  },
  {
   "cell_type": "markdown",
   "id": "51fad717-7160-4da9-bdeb-696c92f33c19",
   "metadata": {},
   "source": [
    "## Almanac <font style=\"background-color:green; color:white; font-size:20px\">BETA</font> "
   ]
  },
  {
   "cell_type": "code",
   "execution_count": 8,
   "id": "12",
   "metadata": {
    "jupyter": {
     "source_hidden": true
    }
   },
   "outputs": [
    {
     "data": {
      "text/markdown": [
       "**Almanac for the observing night starting 2024-11-11**"
      ],
      "text/plain": [
       "<IPython.core.display.Markdown object>"
      ]
     },
     "metadata": {},
     "output_type": "display_data"
    },
    {
     "data": {
      "text/html": [
       "<style type=\"text/css\">\n",
       "</style>\n",
       "<table id=\"T_ca131\">\n",
       "  <thead>\n",
       "  </thead>\n",
       "  <tbody>\n",
       "    <tr>\n",
       "      <th id=\"T_ca131_level0_row0\" class=\"row_heading level0 row0\" ></th>\n",
       "      <td id=\"T_ca131_row0_col0\" class=\"data row0 col0\" >(times in UTC)</td>\n",
       "      <td id=\"T_ca131_row0_col1\" class=\"data row0 col1\" ></td>\n",
       "    </tr>\n",
       "    <tr>\n",
       "      <th id=\"T_ca131_level0_row1\" class=\"row_heading level0 row1\" >Moon Rise</th>\n",
       "      <td id=\"T_ca131_row1_col0\" class=\"data row1 col0\" >2024-11-10 17:43:00.925</td>\n",
       "      <td id=\"T_ca131_row1_col1\" class=\"data row1 col1\" ></td>\n",
       "    </tr>\n",
       "    <tr>\n",
       "      <th id=\"T_ca131_level0_row2\" class=\"row_heading level0 row2\" >Moon Set</th>\n",
       "      <td id=\"T_ca131_row2_col0\" class=\"data row2 col0\" >2024-11-11 06:41:58.146</td>\n",
       "      <td id=\"T_ca131_row2_col1\" class=\"data row2 col1\" ></td>\n",
       "    </tr>\n",
       "    <tr>\n",
       "      <th id=\"T_ca131_level0_row3\" class=\"row_heading level0 row3\" >Moon Illumination</th>\n",
       "      <td id=\"T_ca131_row3_col0\" class=\"data row3 col0\" >71%</td>\n",
       "      <td id=\"T_ca131_row3_col1\" class=\"data row3 col1\" >(% illuminated)</td>\n",
       "    </tr>\n",
       "    <tr>\n",
       "      <th id=\"T_ca131_level0_row4\" class=\"row_heading level0 row4\" >Astronomical Twilight (morning)</th>\n",
       "      <td id=\"T_ca131_row4_col0\" class=\"data row4 col0\" >2024-11-11 08:10:48.514</td>\n",
       "      <td id=\"T_ca131_row4_col1\" class=\"data row4 col1\" >(-18 degrees)</td>\n",
       "    </tr>\n",
       "    <tr>\n",
       "      <th id=\"T_ca131_level0_row5\" class=\"row_heading level0 row5\" >Astronomical Twilight (evening)</th>\n",
       "      <td id=\"T_ca131_row5_col0\" class=\"data row5 col0\" >2024-11-11 00:42:56.117</td>\n",
       "      <td id=\"T_ca131_row5_col1\" class=\"data row5 col1\" >(-18 degrees)</td>\n",
       "    </tr>\n",
       "    <tr>\n",
       "      <th id=\"T_ca131_level0_row6\" class=\"row_heading level0 row6\" >Solar Midnight</th>\n",
       "      <td id=\"T_ca131_row6_col0\" class=\"data row6 col0\" >2024-11-11 04:26:52.295</td>\n",
       "      <td id=\"T_ca131_row6_col1\" class=\"data row6 col1\" ></td>\n",
       "    </tr>\n",
       "    <tr>\n",
       "      <th id=\"T_ca131_level0_row7\" class=\"row_heading level0 row7\" >Nautical Twilight (morning)</th>\n",
       "      <td id=\"T_ca131_row7_col0\" class=\"data row7 col0\" >2024-11-11 08:43:18.209</td>\n",
       "      <td id=\"T_ca131_row7_col1\" class=\"data row7 col1\" >(-12 degrees)</td>\n",
       "    </tr>\n",
       "    <tr>\n",
       "      <th id=\"T_ca131_level0_row8\" class=\"row_heading level0 row8\" >Nautical Twilight (evening)</th>\n",
       "      <td id=\"T_ca131_row8_col0\" class=\"data row8 col0\" >2024-11-11 00:10:26.410</td>\n",
       "      <td id=\"T_ca131_row8_col1\" class=\"data row8 col1\" >(-12 degrees)</td>\n",
       "    </tr>\n",
       "    <tr>\n",
       "      <th id=\"T_ca131_level0_row9\" class=\"row_heading level0 row9\" >Civil Twilight (morning)</th>\n",
       "      <td id=\"T_ca131_row9_col0\" class=\"data row9 col0\" >2024-11-11 09:14:21.799</td>\n",
       "      <td id=\"T_ca131_row9_col1\" class=\"data row9 col1\" >(-6 degrees)</td>\n",
       "    </tr>\n",
       "    <tr>\n",
       "      <th id=\"T_ca131_level0_row10\" class=\"row_heading level0 row10\" >Civil Twilight (evening)</th>\n",
       "      <td id=\"T_ca131_row10_col0\" class=\"data row10 col0\" >2024-11-10 23:39:22.778</td>\n",
       "      <td id=\"T_ca131_row10_col1\" class=\"data row10 col1\" >(-6 degrees)</td>\n",
       "    </tr>\n",
       "    <tr>\n",
       "      <th id=\"T_ca131_level0_row11\" class=\"row_heading level0 row11\" >Sun Rise</th>\n",
       "      <td id=\"T_ca131_row11_col0\" class=\"data row11 col0\" >2024-11-11 09:44:24.900</td>\n",
       "      <td id=\"T_ca131_row11_col1\" class=\"data row11 col1\" ></td>\n",
       "    </tr>\n",
       "    <tr>\n",
       "      <th id=\"T_ca131_level0_row12\" class=\"row_heading level0 row12\" >Sun Set</th>\n",
       "      <td id=\"T_ca131_row12_col0\" class=\"data row12 col0\" >2024-11-10 23:09:19.593</td>\n",
       "      <td id=\"T_ca131_row12_col1\" class=\"data row12 col1\" ></td>\n",
       "    </tr>\n",
       "  </tbody>\n",
       "</table>\n"
      ],
      "text/plain": [
       "<pandas.io.formats.style.Styler at 0x7f50c1b69690>"
      ]
     },
     "metadata": {},
     "output_type": "display_data"
    }
   ],
   "source": [
    "# Display various almanac values (for moon, sun)\n",
    "#!rep.AlmanacReport().day_obs_report(min_day_obs)\n",
    "allrep.alm_rep.day_obs_report()"
   ]
  },
  {
   "cell_type": "markdown",
   "id": "13",
   "metadata": {},
   "source": [
    "## Summary plots of whole night <font style=\"background-color:yellow; color:black; font-size:20px\">DRAFT</font>"
   ]
  },
  {
   "cell_type": "markdown",
   "id": "14",
   "metadata": {},
   "source": [
    "(content not yet defined in storyboard)"
   ]
  },
  {
   "cell_type": "code",
   "execution_count": 9,
   "id": "15",
   "metadata": {
    "jupyter": {
     "source_hidden": true
    }
   },
   "outputs": [],
   "source": [
    "# Plot Observation (Exposure) gaps\n",
    "# rollup,detail = allsrc.get_observation_gaps()\n",
    "# allrep.plot_observation_gap_detail(detail)"
   ]
  },
  {
   "cell_type": "markdown",
   "id": "38",
   "metadata": {},
   "source": [
    "## DDV <font style=\"background-color:yellow; color:black; font-size:20px\">DRAFT</font>"
   ]
  },
  {
   "cell_type": "code",
   "execution_count": 10,
   "id": "39",
   "metadata": {
    "jupyter": {
     "source_hidden": true
    }
   },
   "outputs": [
    {
     "data": {
      "text/markdown": [
       "Access DDV part of RubinTV: https://usdf-rsp-dev.slac.stanford.edu/rubintv/ddv/index.html"
      ],
      "text/plain": [
       "<IPython.core.display.Markdown object>"
      ]
     },
     "metadata": {},
     "output_type": "display_data"
    }
   ],
   "source": [
    "DDV = (\n",
    "    f\"{server}/rubintv-dev/ddv/index.html\"\n",
    "    if \"summit\" in server\n",
    "    else f\"{server}/rubintv/ddv/index.html\"\n",
    ")\n",
    "md(f\"Access DDV part of RubinTV: {DDV}\")"
   ]
  },
  {
   "cell_type": "markdown",
   "id": "9d51f937-37e7-45da-87cb-2319fd76a1cc",
   "metadata": {},
   "source": [
    "## Time Accounting <font style=\"background-color:yellow; color:black; font-size:20px\">DRAFT</font>\n",
    "TODO:\n",
    "- Time-loss for Fault and Weather\n",
    "- SlewTime from TMAEvent (or similar)\n",
    "\n",
    "SlewTime (and probably others) from EFD are only EXPECTED (topic=\"lsst.sal.Scheduler.logevent_target\"), not ACTUAL.\n",
    "To get ACTUAL time, we need to use something like TMAEvent to combine multiple real events into a synthetic event.  See DM-46102.\n"
   ]
  },
  {
   "cell_type": "code",
   "execution_count": 11,
   "id": "16",
   "metadata": {
    "jupyter": {
     "source_hidden": true
    }
   },
   "outputs": [
    {
     "data": {
      "text/html": [
       "<div>\n",
       "<style scoped>\n",
       "    .dataframe tbody tr th:only-of-type {\n",
       "        vertical-align: middle;\n",
       "    }\n",
       "\n",
       "    .dataframe tbody tr th {\n",
       "        vertical-align: top;\n",
       "    }\n",
       "\n",
       "    .dataframe thead th {\n",
       "        text-align: right;\n",
       "    }\n",
       "</style>\n",
       "<table border=\"1\" class=\"dataframe\">\n",
       "  <thead>\n",
       "    <tr style=\"text-align: right;\">\n",
       "      <th></th>\n",
       "      <th>LSSTComCam</th>\n",
       "    </tr>\n",
       "  </thead>\n",
       "  <tbody>\n",
       "    <tr>\n",
       "      <th>Total Night</th>\n",
       "      <td>7:27:52</td>\n",
       "    </tr>\n",
       "    <tr>\n",
       "      <th>Total Exposure</th>\n",
       "      <td>2:14:18</td>\n",
       "    </tr>\n",
       "    <tr>\n",
       "      <th>Slew time(1)</th>\n",
       "      <td>0:00:00</td>\n",
       "    </tr>\n",
       "    <tr>\n",
       "      <th>Readout time(2)</th>\n",
       "      <td>0:12:55</td>\n",
       "    </tr>\n",
       "    <tr>\n",
       "      <th>Time loss to fault</th>\n",
       "      <td>NA</td>\n",
       "    </tr>\n",
       "    <tr>\n",
       "      <th>Time loss to weather</th>\n",
       "      <td>NA</td>\n",
       "    </tr>\n",
       "    <tr>\n",
       "      <th>Idle time</th>\n",
       "      <td>5:13:33</td>\n",
       "    </tr>\n",
       "    <tr>\n",
       "      <th>Number of exposures</th>\n",
       "      <td>337</td>\n",
       "    </tr>\n",
       "    <tr>\n",
       "      <th>Mean readout time</th>\n",
       "      <td>0.000639</td>\n",
       "    </tr>\n",
       "    <tr>\n",
       "      <th>Number of slews(1)</th>\n",
       "      <td>0</td>\n",
       "    </tr>\n",
       "    <tr>\n",
       "      <th>Mean Slew time(1)</th>\n",
       "      <td>0:00:00</td>\n",
       "    </tr>\n",
       "  </tbody>\n",
       "</table>\n",
       "</div>"
      ],
      "text/plain": [
       "                     LSSTComCam\n",
       "Total Night             7:27:52\n",
       "Total Exposure          2:14:18\n",
       "Slew time(1)            0:00:00\n",
       "Readout time(2)         0:12:55\n",
       "Time loss to fault           NA\n",
       "Time loss to weather         NA\n",
       "Idle time               5:13:33\n",
       "Number of exposures         337\n",
       "Mean readout time      0.000639\n",
       "Number of slews(1)            0\n",
       "Mean Slew time(1)       0:00:00"
      ]
     },
     "metadata": {},
     "output_type": "display_data"
    }
   ],
   "source": [
    "# Exposure Tally\n",
    "tally = await allsrc.night_tally_observation_gaps()\n",
    "if tally:\n",
    "    display(pd.DataFrame(tally))"
   ]
  },
  {
   "cell_type": "markdown",
   "id": "ad5a2e6c-ca0d-4978-bac9-25c83f90d090",
   "metadata": {},
   "source": [
    "- (1) *Expected* slew time as per Schedular\n",
    "- (2) There is no practical way to get detector read-out time.  A value of 2.3 seconds was inferred from experiments."
   ]
  },
  {
   "cell_type": "markdown",
   "id": "17",
   "metadata": {},
   "source": [
    "## Jira Tickets <font style=\"background-color:green; color:white; font-size:20px\">BETA</font> \n",
    "- Observing Operations - OBS\n",
    "- TODO: better tickets using Jira API"
   ]
  },
  {
   "cell_type": "code",
   "execution_count": 12,
   "id": "18",
   "metadata": {},
   "outputs": [
    {
     "data": {
      "text/markdown": [
       "- [OBS-662](https://rubinobs.atlassian.net/browse/OBS-662)"
      ],
      "text/plain": [
       "<IPython.core.display.Markdown object>"
      ]
     },
     "metadata": {},
     "output_type": "display_data"
    },
    {
     "data": {
      "text/markdown": [
       "- [OBS-614](https://rubinobs.atlassian.net/browse/OBS-614)"
      ],
      "text/plain": [
       "<IPython.core.display.Markdown object>"
      ]
     },
     "metadata": {},
     "output_type": "display_data"
    },
    {
     "data": {
      "text/markdown": [
       "- [OBS-659](https://rubinobs.atlassian.net/browse/OBS-659)"
      ],
      "text/plain": [
       "<IPython.core.display.Markdown object>"
      ]
     },
     "metadata": {},
     "output_type": "display_data"
    },
    {
     "data": {
      "text/markdown": [
       "- [OBS-651](https://rubinobs.atlassian.net/browse/OBS-651)"
      ],
      "text/plain": [
       "<IPython.core.display.Markdown object>"
      ]
     },
     "metadata": {},
     "output_type": "display_data"
    }
   ],
   "source": [
    "if allsrc.urls:\n",
    "    for url in allsrc.urls:\n",
    "        md(f\"- {mdpathlink(url)}\")"
   ]
  },
  {
   "cell_type": "code",
   "execution_count": 13,
   "id": "19",
   "metadata": {
    "jupyter": {
     "source_hidden": true
    }
   },
   "outputs": [
    {
     "data": {
      "text/markdown": [
       "#### Nightly Jira BLOCKs\n",
       "- 20241111\n",
       "    - [v2/testCases](https://rubinobs.atlassian.net/projects/BLOCK?selectedItem=com.atlassian.plugins.atlassian-connect-plugin:com.kanoah.test-manager__main-project-page#!/v2/testCases)"
      ],
      "text/plain": [
       "<IPython.core.display.Markdown object>"
      ]
     },
     "metadata": {},
     "output_type": "display_data"
    }
   ],
   "source": [
    "# Display Jira BLOCKS\n",
    "front = \"https://rubinobs.atlassian.net/projects/BLOCK?selectedItem=com.atlassian.plugins.atlassian-connect-plugin:com.kanoah.test-manager__main-project-page#!/\"\n",
    "tickets = allsrc.nig_src.nightly_tickets()\n",
    "if tickets:\n",
    "    mdstr = \"#### Nightly Jira BLOCKs\"\n",
    "    for day, url_list in tickets.items():\n",
    "        mdstr += f\"\\n- {day}\"\n",
    "        for ticket_url in url_list:\n",
    "            mdstr += f'\\n    - [{ticket_url.replace(front,\"\")}]({ticket_url})'\n",
    "    md(mdstr)\n",
    "else:\n",
    "    endpoint_url = allsrc.nig_src.status[\"reports\"][\"endpoint_url\"]\n",
    "    md(f\"No tickets found using: [API Data]({endpoint_url}) in `confluence_url`.\")"
   ]
  },
  {
   "cell_type": "markdown",
   "id": "20",
   "metadata": {},
   "source": [
    "## BLOCKS Observed <font style=\"background-color:yellow; color:black; font-size:20px\">DRAFT</font>\n",
    "- TODO: BLOCKS observed"
   ]
  },
  {
   "cell_type": "markdown",
   "id": "71772e8d-658d-497a-b391-5996066f401a",
   "metadata": {},
   "source": [
    "## Data Log <font style=\"background-color:yellow; color:black; font-size:20px\">DRAFT</font>"
   ]
  },
  {
   "cell_type": "markdown",
   "id": "21",
   "metadata": {},
   "source": [
    "- Should we replace zero with empty string?\n",
    "- TODO: Add link to exposures detail when A field value (e.g. observation_reason=science) is clicked on.  The detail should include all exposures counted int the total for that field value."
   ]
  },
  {
   "cell_type": "code",
   "execution_count": 14,
   "id": "1b509665-d538-4bd9-a93c-22c3ec1ded12",
   "metadata": {},
   "outputs": [
    {
     "data": {
      "text/markdown": [
       "**LSSTComCamSim: 0 total exposures**"
      ],
      "text/plain": [
       "<IPython.core.display.Markdown object>"
      ]
     },
     "metadata": {},
     "output_type": "display_data"
    },
    {
     "data": {
      "text/markdown": [
       "**LATISS: 0 total exposures**"
      ],
      "text/plain": [
       "<IPython.core.display.Markdown object>"
      ]
     },
     "metadata": {},
     "output_type": "display_data"
    },
    {
     "data": {
      "text/markdown": [
       "**LSSTComCam: 337 total exposures**"
      ],
      "text/plain": [
       "<IPython.core.display.Markdown object>"
      ]
     },
     "metadata": {},
     "output_type": "display_data"
    },
    {
     "name": "stdout",
     "output_type": "stream",
     "text": [
      "Observation Type\n"
     ]
    },
    {
     "data": {
      "text/html": [
       "<style type=\"text/css\">\n",
       "</style>\n",
       "<table id=\"T_4cb3e\">\n",
       "  <thead>\n",
       "    <tr>\n",
       "      <th id=\"T_4cb3e_level0_col0\" class=\"col_heading level0 col0\" >Detail</th>\n",
       "      <th id=\"T_4cb3e_level0_col1\" class=\"col_heading level0 col1\" >good</th>\n",
       "      <th id=\"T_4cb3e_level0_col2\" class=\"col_heading level0 col2\" >questionable</th>\n",
       "      <th id=\"T_4cb3e_level0_col3\" class=\"col_heading level0 col3\" >junk</th>\n",
       "      <th id=\"T_4cb3e_level0_col4\" class=\"col_heading level0 col4\" >unknown</th>\n",
       "    </tr>\n",
       "  </thead>\n",
       "  <tbody>\n",
       "    <tr>\n",
       "      <td id=\"T_4cb3e_row0_col0\" class=\"data row0 col0\" ><a href=https://usdf-rsp-dev.slac.stanford.edu/times-square/github/lsst-ts/ts_logging_and_reporting/ExposureDetail?day_obs=2024-11-11&number_of_days=1&instrument=LSSTComCam&observation_type=acq>acq</a></td>\n",
       "      <td id=\"T_4cb3e_row0_col1\" class=\"data row0 col1\" >0</td>\n",
       "      <td id=\"T_4cb3e_row0_col2\" class=\"data row0 col2\" >0</td>\n",
       "      <td id=\"T_4cb3e_row0_col3\" class=\"data row0 col3\" >0</td>\n",
       "      <td id=\"T_4cb3e_row0_col4\" class=\"data row0 col4\" >123</td>\n",
       "    </tr>\n",
       "    <tr>\n",
       "      <td id=\"T_4cb3e_row1_col0\" class=\"data row1 col0\" ><a href=https://usdf-rsp-dev.slac.stanford.edu/times-square/github/lsst-ts/ts_logging_and_reporting/ExposureDetail?day_obs=2024-11-11&number_of_days=1&instrument=LSSTComCam&observation_type=bias>bias</a></td>\n",
       "      <td id=\"T_4cb3e_row1_col1\" class=\"data row1 col1\" >0</td>\n",
       "      <td id=\"T_4cb3e_row1_col2\" class=\"data row1 col2\" >0</td>\n",
       "      <td id=\"T_4cb3e_row1_col3\" class=\"data row1 col3\" >0</td>\n",
       "      <td id=\"T_4cb3e_row1_col4\" class=\"data row1 col4\" >37</td>\n",
       "    </tr>\n",
       "    <tr>\n",
       "      <td id=\"T_4cb3e_row2_col0\" class=\"data row2 col0\" ><a href=https://usdf-rsp-dev.slac.stanford.edu/times-square/github/lsst-ts/ts_logging_and_reporting/ExposureDetail?day_obs=2024-11-11&number_of_days=1&instrument=LSSTComCam&observation_type=cwfs>cwfs</a></td>\n",
       "      <td id=\"T_4cb3e_row2_col1\" class=\"data row2 col1\" >0</td>\n",
       "      <td id=\"T_4cb3e_row2_col2\" class=\"data row2 col2\" >0</td>\n",
       "      <td id=\"T_4cb3e_row2_col3\" class=\"data row2 col3\" >0</td>\n",
       "      <td id=\"T_4cb3e_row2_col4\" class=\"data row2 col4\" >124</td>\n",
       "    </tr>\n",
       "    <tr>\n",
       "      <td id=\"T_4cb3e_row3_col0\" class=\"data row3 col0\" ><a href=https://usdf-rsp-dev.slac.stanford.edu/times-square/github/lsst-ts/ts_logging_and_reporting/ExposureDetail?day_obs=2024-11-11&number_of_days=1&instrument=LSSTComCam&observation_type=dark>dark</a></td>\n",
       "      <td id=\"T_4cb3e_row3_col1\" class=\"data row3 col1\" >0</td>\n",
       "      <td id=\"T_4cb3e_row3_col2\" class=\"data row3 col2\" >0</td>\n",
       "      <td id=\"T_4cb3e_row3_col3\" class=\"data row3 col3\" >0</td>\n",
       "      <td id=\"T_4cb3e_row3_col4\" class=\"data row3 col4\" >27</td>\n",
       "    </tr>\n",
       "    <tr>\n",
       "      <td id=\"T_4cb3e_row4_col0\" class=\"data row4 col0\" ><a href=https://usdf-rsp-dev.slac.stanford.edu/times-square/github/lsst-ts/ts_logging_and_reporting/ExposureDetail?day_obs=2024-11-11&number_of_days=1&instrument=LSSTComCam&observation_type=focus>focus</a></td>\n",
       "      <td id=\"T_4cb3e_row4_col1\" class=\"data row4 col1\" >0</td>\n",
       "      <td id=\"T_4cb3e_row4_col2\" class=\"data row4 col2\" >0</td>\n",
       "      <td id=\"T_4cb3e_row4_col3\" class=\"data row4 col3\" >0</td>\n",
       "      <td id=\"T_4cb3e_row4_col4\" class=\"data row4 col4\" >5</td>\n",
       "    </tr>\n",
       "    <tr>\n",
       "      <td id=\"T_4cb3e_row5_col0\" class=\"data row5 col0\" ><a href=https://usdf-rsp-dev.slac.stanford.edu/times-square/github/lsst-ts/ts_logging_and_reporting/ExposureDetail?day_obs=2024-11-11&number_of_days=1&instrument=LSSTComCam&observation_type=science>science</a></td>\n",
       "      <td id=\"T_4cb3e_row5_col1\" class=\"data row5 col1\" >0</td>\n",
       "      <td id=\"T_4cb3e_row5_col2\" class=\"data row5 col2\" >0</td>\n",
       "      <td id=\"T_4cb3e_row5_col3\" class=\"data row5 col3\" >0</td>\n",
       "      <td id=\"T_4cb3e_row5_col4\" class=\"data row5 col4\" >21</td>\n",
       "    </tr>\n",
       "  </tbody>\n",
       "</table>\n"
      ],
      "text/plain": [
       "<IPython.core.display.HTML object>"
      ]
     },
     "metadata": {},
     "output_type": "display_data"
    },
    {
     "name": "stdout",
     "output_type": "stream",
     "text": [
      "Observation Reason\n"
     ]
    },
    {
     "data": {
      "text/html": [
       "<style type=\"text/css\">\n",
       "</style>\n",
       "<table id=\"T_1b5dc\">\n",
       "  <thead>\n",
       "    <tr>\n",
       "      <th id=\"T_1b5dc_level0_col0\" class=\"col_heading level0 col0\" >Detail</th>\n",
       "      <th id=\"T_1b5dc_level0_col1\" class=\"col_heading level0 col1\" >good</th>\n",
       "      <th id=\"T_1b5dc_level0_col2\" class=\"col_heading level0 col2\" >questionable</th>\n",
       "      <th id=\"T_1b5dc_level0_col3\" class=\"col_heading level0 col3\" >junk</th>\n",
       "      <th id=\"T_1b5dc_level0_col4\" class=\"col_heading level0 col4\" >unknown</th>\n",
       "    </tr>\n",
       "  </thead>\n",
       "  <tbody>\n",
       "    <tr>\n",
       "      <td id=\"T_1b5dc_row0_col0\" class=\"data row0 col0\" ><a href=https://usdf-rsp-dev.slac.stanford.edu/times-square/github/lsst-ts/ts_logging_and_reporting/ExposureDetail?day_obs=2024-11-11&number_of_days=1&instrument=LSSTComCam&observation_reason=acq>acq</a></td>\n",
       "      <td id=\"T_1b5dc_row0_col1\" class=\"data row0 col1\" >0</td>\n",
       "      <td id=\"T_1b5dc_row0_col2\" class=\"data row0 col2\" >0</td>\n",
       "      <td id=\"T_1b5dc_row0_col3\" class=\"data row0 col3\" >0</td>\n",
       "      <td id=\"T_1b5dc_row0_col4\" class=\"data row0 col4\" >29</td>\n",
       "    </tr>\n",
       "    <tr>\n",
       "      <td id=\"T_1b5dc_row1_col0\" class=\"data row1 col0\" ><a href=https://usdf-rsp-dev.slac.stanford.edu/times-square/github/lsst-ts/ts_logging_and_reporting/ExposureDetail?day_obs=2024-11-11&number_of_days=1&instrument=LSSTComCam&observation_reason=bias>bias</a></td>\n",
       "      <td id=\"T_1b5dc_row1_col1\" class=\"data row1 col1\" >0</td>\n",
       "      <td id=\"T_1b5dc_row1_col2\" class=\"data row1 col2\" >0</td>\n",
       "      <td id=\"T_1b5dc_row1_col3\" class=\"data row1 col3\" >0</td>\n",
       "      <td id=\"T_1b5dc_row1_col4\" class=\"data row1 col4\" >5</td>\n",
       "    </tr>\n",
       "    <tr>\n",
       "      <td id=\"T_1b5dc_row2_col0\" class=\"data row2 col0\" ><a href=https://usdf-rsp-dev.slac.stanford.edu/times-square/github/lsst-ts/ts_logging_and_reporting/ExposureDetail?day_obs=2024-11-11&number_of_days=1&instrument=LSSTComCam&observation_reason=comcam-daily-calibration>comcam-daily-calibration</a></td>\n",
       "      <td id=\"T_1b5dc_row2_col1\" class=\"data row2 col1\" >0</td>\n",
       "      <td id=\"T_1b5dc_row2_col2\" class=\"data row2 col2\" >0</td>\n",
       "      <td id=\"T_1b5dc_row2_col3\" class=\"data row2 col3\" >0</td>\n",
       "      <td id=\"T_1b5dc_row2_col4\" class=\"data row2 col4\" >44</td>\n",
       "    </tr>\n",
       "    <tr>\n",
       "      <td id=\"T_1b5dc_row3_col0\" class=\"data row3 col0\" ><a href=https://usdf-rsp-dev.slac.stanford.edu/times-square/github/lsst-ts/ts_logging_and_reporting/ExposureDetail?day_obs=2024-11-11&number_of_days=1&instrument=LSSTComCam&observation_reason=comcam-usdf-checkout>comcam-usdf-checkout</a></td>\n",
       "      <td id=\"T_1b5dc_row3_col1\" class=\"data row3 col1\" >0</td>\n",
       "      <td id=\"T_1b5dc_row3_col2\" class=\"data row3 col2\" >0</td>\n",
       "      <td id=\"T_1b5dc_row3_col3\" class=\"data row3 col3\" >0</td>\n",
       "      <td id=\"T_1b5dc_row3_col4\" class=\"data row3 col4\" >10</td>\n",
       "    </tr>\n",
       "    <tr>\n",
       "      <td id=\"T_1b5dc_row4_col0\" class=\"data row4 col0\" ><a href=https://usdf-rsp-dev.slac.stanford.edu/times-square/github/lsst-ts/ts_logging_and_reporting/ExposureDetail?day_obs=2024-11-11&number_of_days=1&instrument=LSSTComCam&observation_reason=comcam_twilight_flat>comcam_twilight_flat</a></td>\n",
       "      <td id=\"T_1b5dc_row4_col1\" class=\"data row4 col1\" >0</td>\n",
       "      <td id=\"T_1b5dc_row4_col2\" class=\"data row4 col2\" >0</td>\n",
       "      <td id=\"T_1b5dc_row4_col3\" class=\"data row4 col3\" >0</td>\n",
       "      <td id=\"T_1b5dc_row4_col4\" class=\"data row4 col4\" >38</td>\n",
       "    </tr>\n",
       "    <tr>\n",
       "      <td id=\"T_1b5dc_row5_col0\" class=\"data row5 col0\" ><a href=https://usdf-rsp-dev.slac.stanford.edu/times-square/github/lsst-ts/ts_logging_and_reporting/ExposureDetail?day_obs=2024-11-11&number_of_days=1&instrument=LSSTComCam&observation_reason=extra>extra</a></td>\n",
       "      <td id=\"T_1b5dc_row5_col1\" class=\"data row5 col1\" >0</td>\n",
       "      <td id=\"T_1b5dc_row5_col2\" class=\"data row5 col2\" >0</td>\n",
       "      <td id=\"T_1b5dc_row5_col3\" class=\"data row5 col3\" >0</td>\n",
       "      <td id=\"T_1b5dc_row5_col4\" class=\"data row5 col4\" >2</td>\n",
       "    </tr>\n",
       "    <tr>\n",
       "      <td id=\"T_1b5dc_row6_col0\" class=\"data row6 col0\" ><a href=https://usdf-rsp-dev.slac.stanford.edu/times-square/github/lsst-ts/ts_logging_and_reporting/ExposureDetail?day_obs=2024-11-11&number_of_days=1&instrument=LSSTComCam&observation_reason=extra_repeteability_wavefront>extra_repeteability_wavefront</a></td>\n",
       "      <td id=\"T_1b5dc_row6_col1\" class=\"data row6 col1\" >0</td>\n",
       "      <td id=\"T_1b5dc_row6_col2\" class=\"data row6 col2\" >0</td>\n",
       "      <td id=\"T_1b5dc_row6_col3\" class=\"data row6 col3\" >0</td>\n",
       "      <td id=\"T_1b5dc_row6_col4\" class=\"data row6 col4\" >11</td>\n",
       "    </tr>\n",
       "    <tr>\n",
       "      <td id=\"T_1b5dc_row7_col0\" class=\"data row7 col0\" ><a href=https://usdf-rsp-dev.slac.stanford.edu/times-square/github/lsst-ts/ts_logging_and_reporting/ExposureDetail?day_obs=2024-11-11&number_of_days=1&instrument=LSSTComCam&observation_reason=extra_sitcom-826>extra_sitcom-826</a></td>\n",
       "      <td id=\"T_1b5dc_row7_col1\" class=\"data row7 col1\" >0</td>\n",
       "      <td id=\"T_1b5dc_row7_col2\" class=\"data row7 col2\" >0</td>\n",
       "      <td id=\"T_1b5dc_row7_col3\" class=\"data row7 col3\" >0</td>\n",
       "      <td id=\"T_1b5dc_row7_col4\" class=\"data row7 col4\" >48</td>\n",
       "    </tr>\n",
       "    <tr>\n",
       "      <td id=\"T_1b5dc_row8_col0\" class=\"data row8 col0\" ><a href=https://usdf-rsp-dev.slac.stanford.edu/times-square/github/lsst-ts/ts_logging_and_reporting/ExposureDetail?day_obs=2024-11-11&number_of_days=1&instrument=LSSTComCam&observation_reason=focus_sweep_cam_dz>focus_sweep_cam_dz</a></td>\n",
       "      <td id=\"T_1b5dc_row8_col1\" class=\"data row8 col1\" >0</td>\n",
       "      <td id=\"T_1b5dc_row8_col2\" class=\"data row8 col2\" >0</td>\n",
       "      <td id=\"T_1b5dc_row8_col3\" class=\"data row8 col3\" >0</td>\n",
       "      <td id=\"T_1b5dc_row8_col4\" class=\"data row8 col4\" >5</td>\n",
       "    </tr>\n",
       "    <tr>\n",
       "      <td id=\"T_1b5dc_row9_col0\" class=\"data row9 col0\" ><a href=https://usdf-rsp-dev.slac.stanford.edu/times-square/github/lsst-ts/ts_logging_and_reporting/ExposureDetail?day_obs=2024-11-11&number_of_days=1&instrument=LSSTComCam&observation_reason=infocus>infocus</a></td>\n",
       "      <td id=\"T_1b5dc_row9_col1\" class=\"data row9 col1\" >0</td>\n",
       "      <td id=\"T_1b5dc_row9_col2\" class=\"data row9 col2\" >0</td>\n",
       "      <td id=\"T_1b5dc_row9_col3\" class=\"data row9 col3\" >0</td>\n",
       "      <td id=\"T_1b5dc_row9_col4\" class=\"data row9 col4\" >2</td>\n",
       "    </tr>\n",
       "    <tr>\n",
       "      <td id=\"T_1b5dc_row10_col0\" class=\"data row10 col0\" ><a href=https://usdf-rsp-dev.slac.stanford.edu/times-square/github/lsst-ts/ts_logging_and_reporting/ExposureDetail?day_obs=2024-11-11&number_of_days=1&instrument=LSSTComCam&observation_reason=infocus_repeteability_wavefront>infocus_repeteability_wavefront</a></td>\n",
       "      <td id=\"T_1b5dc_row10_col1\" class=\"data row10 col1\" >0</td>\n",
       "      <td id=\"T_1b5dc_row10_col2\" class=\"data row10 col2\" >0</td>\n",
       "      <td id=\"T_1b5dc_row10_col3\" class=\"data row10 col3\" >0</td>\n",
       "      <td id=\"T_1b5dc_row10_col4\" class=\"data row10 col4\" >11</td>\n",
       "    </tr>\n",
       "    <tr>\n",
       "      <td id=\"T_1b5dc_row11_col0\" class=\"data row11 col0\" ><a href=https://usdf-rsp-dev.slac.stanford.edu/times-square/github/lsst-ts/ts_logging_and_reporting/ExposureDetail?day_obs=2024-11-11&number_of_days=1&instrument=LSSTComCam&observation_reason=infocus_sitcom-826>infocus_sitcom-826</a></td>\n",
       "      <td id=\"T_1b5dc_row11_col1\" class=\"data row11 col1\" >0</td>\n",
       "      <td id=\"T_1b5dc_row11_col2\" class=\"data row11 col2\" >0</td>\n",
       "      <td id=\"T_1b5dc_row11_col3\" class=\"data row11 col3\" >0</td>\n",
       "      <td id=\"T_1b5dc_row11_col4\" class=\"data row11 col4\" >48</td>\n",
       "    </tr>\n",
       "    <tr>\n",
       "      <td id=\"T_1b5dc_row12_col0\" class=\"data row12 col0\" ><a href=https://usdf-rsp-dev.slac.stanford.edu/times-square/github/lsst-ts/ts_logging_and_reporting/ExposureDetail?day_obs=2024-11-11&number_of_days=1&instrument=LSSTComCam&observation_reason=intra>intra</a></td>\n",
       "      <td id=\"T_1b5dc_row12_col1\" class=\"data row12 col1\" >0</td>\n",
       "      <td id=\"T_1b5dc_row12_col2\" class=\"data row12 col2\" >0</td>\n",
       "      <td id=\"T_1b5dc_row12_col3\" class=\"data row12 col3\" >0</td>\n",
       "      <td id=\"T_1b5dc_row12_col4\" class=\"data row12 col4\" >2</td>\n",
       "    </tr>\n",
       "    <tr>\n",
       "      <td id=\"T_1b5dc_row13_col0\" class=\"data row13 col0\" ><a href=https://usdf-rsp-dev.slac.stanford.edu/times-square/github/lsst-ts/ts_logging_and_reporting/ExposureDetail?day_obs=2024-11-11&number_of_days=1&instrument=LSSTComCam&observation_reason=intra_repeteability_wavefront>intra_repeteability_wavefront</a></td>\n",
       "      <td id=\"T_1b5dc_row13_col1\" class=\"data row13 col1\" >0</td>\n",
       "      <td id=\"T_1b5dc_row13_col2\" class=\"data row13 col2\" >0</td>\n",
       "      <td id=\"T_1b5dc_row13_col3\" class=\"data row13 col3\" >0</td>\n",
       "      <td id=\"T_1b5dc_row13_col4\" class=\"data row13 col4\" >13</td>\n",
       "    </tr>\n",
       "    <tr>\n",
       "      <td id=\"T_1b5dc_row14_col0\" class=\"data row14 col0\" ><a href=https://usdf-rsp-dev.slac.stanford.edu/times-square/github/lsst-ts/ts_logging_and_reporting/ExposureDetail?day_obs=2024-11-11&number_of_days=1&instrument=LSSTComCam&observation_reason=intra_sitcom-826>intra_sitcom-826</a></td>\n",
       "      <td id=\"T_1b5dc_row14_col1\" class=\"data row14 col1\" >0</td>\n",
       "      <td id=\"T_1b5dc_row14_col2\" class=\"data row14 col2\" >0</td>\n",
       "      <td id=\"T_1b5dc_row14_col3\" class=\"data row14 col3\" >0</td>\n",
       "      <td id=\"T_1b5dc_row14_col4\" class=\"data row14 col4\" >48</td>\n",
       "    </tr>\n",
       "    <tr>\n",
       "      <td id=\"T_1b5dc_row15_col0\" class=\"data row15 col0\" ><a href=https://usdf-rsp-dev.slac.stanford.edu/times-square/github/lsst-ts/ts_logging_and_reporting/ExposureDetail?day_obs=2024-11-11&number_of_days=1&instrument=LSSTComCam&observation_reason=science>science</a></td>\n",
       "      <td id=\"T_1b5dc_row15_col1\" class=\"data row15 col1\" >0</td>\n",
       "      <td id=\"T_1b5dc_row15_col2\" class=\"data row15 col2\" >0</td>\n",
       "      <td id=\"T_1b5dc_row15_col3\" class=\"data row15 col3\" >0</td>\n",
       "      <td id=\"T_1b5dc_row15_col4\" class=\"data row15 col4\" >21</td>\n",
       "    </tr>\n",
       "  </tbody>\n",
       "</table>\n"
      ],
      "text/plain": [
       "<IPython.core.display.HTML object>"
      ]
     },
     "metadata": {},
     "output_type": "display_data"
    },
    {
     "name": "stdout",
     "output_type": "stream",
     "text": [
      "Science Program\n"
     ]
    },
    {
     "data": {
      "text/html": [
       "<style type=\"text/css\">\n",
       "</style>\n",
       "<table id=\"T_39a9e\">\n",
       "  <thead>\n",
       "    <tr>\n",
       "      <th id=\"T_39a9e_level0_col0\" class=\"col_heading level0 col0\" >Detail</th>\n",
       "      <th id=\"T_39a9e_level0_col1\" class=\"col_heading level0 col1\" >good</th>\n",
       "      <th id=\"T_39a9e_level0_col2\" class=\"col_heading level0 col2\" >questionable</th>\n",
       "      <th id=\"T_39a9e_level0_col3\" class=\"col_heading level0 col3\" >junk</th>\n",
       "      <th id=\"T_39a9e_level0_col4\" class=\"col_heading level0 col4\" >unknown</th>\n",
       "    </tr>\n",
       "  </thead>\n",
       "  <tbody>\n",
       "    <tr>\n",
       "      <td id=\"T_39a9e_row0_col0\" class=\"data row0 col0\" ><a href=https://usdf-rsp-dev.slac.stanford.edu/times-square/github/lsst-ts/ts_logging_and_reporting/ExposureDetail?day_obs=2024-11-11&number_of_days=1&instrument=LSSTComCam&science_program=BLOCK-T215>BLOCK-T215</a></td>\n",
       "      <td id=\"T_39a9e_row0_col1\" class=\"data row0 col1\" >0</td>\n",
       "      <td id=\"T_39a9e_row0_col2\" class=\"data row0 col2\" >0</td>\n",
       "      <td id=\"T_39a9e_row0_col3\" class=\"data row0 col3\" >0</td>\n",
       "      <td id=\"T_39a9e_row0_col4\" class=\"data row0 col4\" >38</td>\n",
       "    </tr>\n",
       "    <tr>\n",
       "      <td id=\"T_39a9e_row1_col0\" class=\"data row1 col0\" ><a href=https://usdf-rsp-dev.slac.stanford.edu/times-square/github/lsst-ts/ts_logging_and_reporting/ExposureDetail?day_obs=2024-11-11&number_of_days=1&instrument=LSSTComCam&science_program=BLOCK-T220>BLOCK-T220</a></td>\n",
       "      <td id=\"T_39a9e_row1_col1\" class=\"data row1 col1\" >0</td>\n",
       "      <td id=\"T_39a9e_row1_col2\" class=\"data row1 col2\" >0</td>\n",
       "      <td id=\"T_39a9e_row1_col3\" class=\"data row1 col3\" >0</td>\n",
       "      <td id=\"T_39a9e_row1_col4\" class=\"data row1 col4\" >44</td>\n",
       "    </tr>\n",
       "    <tr>\n",
       "      <td id=\"T_39a9e_row2_col0\" class=\"data row2 col0\" ><a href=https://usdf-rsp-dev.slac.stanford.edu/times-square/github/lsst-ts/ts_logging_and_reporting/ExposureDetail?day_obs=2024-11-11&number_of_days=1&instrument=LSSTComCam&science_program=BLOCK-T235>BLOCK-T235</a></td>\n",
       "      <td id=\"T_39a9e_row2_col1\" class=\"data row2 col1\" >0</td>\n",
       "      <td id=\"T_39a9e_row2_col2\" class=\"data row2 col2\" >0</td>\n",
       "      <td id=\"T_39a9e_row2_col3\" class=\"data row2 col3\" >0</td>\n",
       "      <td id=\"T_39a9e_row2_col4\" class=\"data row2 col4\" >14</td>\n",
       "    </tr>\n",
       "    <tr>\n",
       "      <td id=\"T_39a9e_row3_col0\" class=\"data row3 col0\" ><a href=https://usdf-rsp-dev.slac.stanford.edu/times-square/github/lsst-ts/ts_logging_and_reporting/ExposureDetail?day_obs=2024-11-11&number_of_days=1&instrument=LSSTComCam&science_program=BLOCK-T246>BLOCK-T246</a></td>\n",
       "      <td id=\"T_39a9e_row3_col1\" class=\"data row3 col1\" >0</td>\n",
       "      <td id=\"T_39a9e_row3_col2\" class=\"data row3 col2\" >0</td>\n",
       "      <td id=\"T_39a9e_row3_col3\" class=\"data row3 col3\" >0</td>\n",
       "      <td id=\"T_39a9e_row3_col4\" class=\"data row3 col4\" >10</td>\n",
       "    </tr>\n",
       "    <tr>\n",
       "      <td id=\"T_39a9e_row4_col0\" class=\"data row4 col0\" ><a href=https://usdf-rsp-dev.slac.stanford.edu/times-square/github/lsst-ts/ts_logging_and_reporting/ExposureDetail?day_obs=2024-11-11&number_of_days=1&instrument=LSSTComCam&science_program=BLOCK-T248>BLOCK-T248</a></td>\n",
       "      <td id=\"T_39a9e_row4_col1\" class=\"data row4 col1\" >0</td>\n",
       "      <td id=\"T_39a9e_row4_col2\" class=\"data row4 col2\" >0</td>\n",
       "      <td id=\"T_39a9e_row4_col3\" class=\"data row4 col3\" >0</td>\n",
       "      <td id=\"T_39a9e_row4_col4\" class=\"data row4 col4\" >2</td>\n",
       "    </tr>\n",
       "    <tr>\n",
       "      <td id=\"T_39a9e_row5_col0\" class=\"data row5 col0\" ><a href=https://usdf-rsp-dev.slac.stanford.edu/times-square/github/lsst-ts/ts_logging_and_reporting/ExposureDetail?day_obs=2024-11-11&number_of_days=1&instrument=LSSTComCam&science_program=BLOCK-T249>BLOCK-T249</a></td>\n",
       "      <td id=\"T_39a9e_row5_col1\" class=\"data row5 col1\" >0</td>\n",
       "      <td id=\"T_39a9e_row5_col2\" class=\"data row5 col2\" >0</td>\n",
       "      <td id=\"T_39a9e_row5_col3\" class=\"data row5 col3\" >0</td>\n",
       "      <td id=\"T_39a9e_row5_col4\" class=\"data row5 col4\" >10</td>\n",
       "    </tr>\n",
       "    <tr>\n",
       "      <td id=\"T_39a9e_row6_col0\" class=\"data row6 col0\" ><a href=https://usdf-rsp-dev.slac.stanford.edu/times-square/github/lsst-ts/ts_logging_and_reporting/ExposureDetail?day_obs=2024-11-11&number_of_days=1&instrument=LSSTComCam&science_program=BLOCK-T278>BLOCK-T278</a></td>\n",
       "      <td id=\"T_39a9e_row6_col1\" class=\"data row6 col1\" >0</td>\n",
       "      <td id=\"T_39a9e_row6_col2\" class=\"data row6 col2\" >0</td>\n",
       "      <td id=\"T_39a9e_row6_col3\" class=\"data row6 col3\" >0</td>\n",
       "      <td id=\"T_39a9e_row6_col4\" class=\"data row6 col4\" >41</td>\n",
       "    </tr>\n",
       "    <tr>\n",
       "      <td id=\"T_39a9e_row7_col0\" class=\"data row7 col0\" ><a href=https://usdf-rsp-dev.slac.stanford.edu/times-square/github/lsst-ts/ts_logging_and_reporting/ExposureDetail?day_obs=2024-11-11&number_of_days=1&instrument=LSSTComCam&science_program=BLOCK-T279>BLOCK-T279</a></td>\n",
       "      <td id=\"T_39a9e_row7_col1\" class=\"data row7 col1\" >0</td>\n",
       "      <td id=\"T_39a9e_row7_col2\" class=\"data row7 col2\" >0</td>\n",
       "      <td id=\"T_39a9e_row7_col3\" class=\"data row7 col3\" >0</td>\n",
       "      <td id=\"T_39a9e_row7_col4\" class=\"data row7 col4\" >19</td>\n",
       "    </tr>\n",
       "    <tr>\n",
       "      <td id=\"T_39a9e_row8_col0\" class=\"data row8 col0\" ><a href=https://usdf-rsp-dev.slac.stanford.edu/times-square/github/lsst-ts/ts_logging_and_reporting/ExposureDetail?day_obs=2024-11-11&number_of_days=1&instrument=LSSTComCam&science_program=BLOCK-T280>BLOCK-T280</a></td>\n",
       "      <td id=\"T_39a9e_row8_col1\" class=\"data row8 col1\" >0</td>\n",
       "      <td id=\"T_39a9e_row8_col2\" class=\"data row8 col2\" >0</td>\n",
       "      <td id=\"T_39a9e_row8_col3\" class=\"data row8 col3\" >0</td>\n",
       "      <td id=\"T_39a9e_row8_col4\" class=\"data row8 col4\" >4</td>\n",
       "    </tr>\n",
       "    <tr>\n",
       "      <td id=\"T_39a9e_row9_col0\" class=\"data row9 col0\" ><a href=https://usdf-rsp-dev.slac.stanford.edu/times-square/github/lsst-ts/ts_logging_and_reporting/ExposureDetail?day_obs=2024-11-11&number_of_days=1&instrument=LSSTComCam&science_program=BLOCK-T92>BLOCK-T92</a></td>\n",
       "      <td id=\"T_39a9e_row9_col1\" class=\"data row9 col1\" >0</td>\n",
       "      <td id=\"T_39a9e_row9_col2\" class=\"data row9 col2\" >0</td>\n",
       "      <td id=\"T_39a9e_row9_col3\" class=\"data row9 col3\" >0</td>\n",
       "      <td id=\"T_39a9e_row9_col4\" class=\"data row9 col4\" >5</td>\n",
       "    </tr>\n",
       "    <tr>\n",
       "      <td id=\"T_39a9e_row10_col0\" class=\"data row10 col0\" ><a href=https://usdf-rsp-dev.slac.stanford.edu/times-square/github/lsst-ts/ts_logging_and_reporting/ExposureDetail?day_obs=2024-11-11&number_of_days=1&instrument=LSSTComCam&science_program=BLOCK-T94>BLOCK-T94</a></td>\n",
       "      <td id=\"T_39a9e_row10_col1\" class=\"data row10 col1\" >0</td>\n",
       "      <td id=\"T_39a9e_row10_col2\" class=\"data row10 col2\" >0</td>\n",
       "      <td id=\"T_39a9e_row10_col3\" class=\"data row10 col3\" >0</td>\n",
       "      <td id=\"T_39a9e_row10_col4\" class=\"data row10 col4\" >124</td>\n",
       "    </tr>\n",
       "    <tr>\n",
       "      <td id=\"T_39a9e_row11_col0\" class=\"data row11 col0\" ><a href=https://usdf-rsp-dev.slac.stanford.edu/times-square/github/lsst-ts/ts_logging_and_reporting/ExposureDetail?day_obs=2024-11-11&number_of_days=1&instrument=LSSTComCam&science_program=PP-SURVEY>PP-SURVEY</a></td>\n",
       "      <td id=\"T_39a9e_row11_col1\" class=\"data row11 col1\" >0</td>\n",
       "      <td id=\"T_39a9e_row11_col2\" class=\"data row11 col2\" >0</td>\n",
       "      <td id=\"T_39a9e_row11_col3\" class=\"data row11 col3\" >0</td>\n",
       "      <td id=\"T_39a9e_row11_col4\" class=\"data row11 col4\" >21</td>\n",
       "    </tr>\n",
       "    <tr>\n",
       "      <td id=\"T_39a9e_row12_col0\" class=\"data row12 col0\" ><a href=https://usdf-rsp-dev.slac.stanford.edu/times-square/github/lsst-ts/ts_logging_and_reporting/ExposureDetail?day_obs=2024-11-11&number_of_days=1&instrument=LSSTComCam&science_program=unknown>unknown</a></td>\n",
       "      <td id=\"T_39a9e_row12_col1\" class=\"data row12 col1\" >0</td>\n",
       "      <td id=\"T_39a9e_row12_col2\" class=\"data row12 col2\" >0</td>\n",
       "      <td id=\"T_39a9e_row12_col3\" class=\"data row12 col3\" >0</td>\n",
       "      <td id=\"T_39a9e_row12_col4\" class=\"data row12 col4\" >5</td>\n",
       "    </tr>\n",
       "  </tbody>\n",
       "</table>\n"
      ],
      "text/plain": [
       "<IPython.core.display.HTML object>"
      ]
     },
     "metadata": {},
     "output_type": "display_data"
    },
    {
     "data": {
      "text/markdown": [
       "**LSSTCam: 0 total exposures**"
      ],
      "text/plain": [
       "<IPython.core.display.Markdown object>"
      ]
     },
     "metadata": {},
     "output_type": "display_data"
    }
   ],
   "source": [
    "# Exposure Report\n",
    "for instrum in allsrc.exp_src.exposures.keys():\n",
    "    md(f'**{instrum}: {len(allsrc.exp_src.exposures[instrum])} total exposures**')\n",
    "    df_dict = allsrc.fields_count_exposure(instrum)\n",
    "    for field_name,df in df_dict.items():\n",
    "        if df.empty:\n",
    "            continue\n",
    "        print(field_name.title().replace('_',' '))\n",
    "        display(HTML(df.style.hide().to_html(escape=False)))"
   ]
  },
  {
   "cell_type": "markdown",
   "id": "20820900-05ab-4ca5-8df5-9f725c0ee570",
   "metadata": {},
   "source": [
    "## Narrative Log <font style=\"background-color:green; color:white; font-size:20px\">BETA</font> "
   ]
  },
  {
   "cell_type": "code",
   "execution_count": 15,
   "id": "26",
   "metadata": {
    "editable": true,
    "jupyter": {
     "source_hidden": true
    },
    "slideshow": {
     "slide_type": ""
    },
    "tags": []
   },
   "outputs": [
    {
     "data": {
      "text/markdown": [
       "- **2024-11-11 04:18:44.671682** Time Lost: 0.0; Time Lost Type: fault;\n",
       "    - components: None\n",
       "    - primary_software_components: ['None']\n",
       "    - primary_hardware_components: ['None']\n",
       "\n",
       "<pre style='color: black; background-color: white; font-size: 1em; margin-left: 0px; '>MTDome telemetry returning to normal</pre>\n"
      ],
      "text/plain": [
       "<IPython.core.display.Markdown object>"
      ]
     },
     "metadata": {},
     "output_type": "display_data"
    },
    {
     "data": {
      "text/markdown": [
       "- **2024-11-11 04:17:45.689723** Time Lost: 0.0; Time Lost Type: fault;\n",
       "    - components: None\n",
       "    - primary_software_components: ['None']\n",
       "    - primary_hardware_components: ['None']\n",
       "\n",
       "<pre style='color: black; background-color: white; font-size: 1em; margin-left: 0px; '>Tried move_rotator script, but failed. Can't move the rotator to enabled mode. \r\n",
       "The difference between the rotator and CCW positions is out of range to enable CSC.   \r\n",
       "\r\n",
       "\r\n",
       "Alternative procedure: move CCW to rotator position through the EUI \r\n",
       "\tPut MTRotator and MTMount in Disabled \r\n",
       "\tTake control in the EUI \r\n",
       "\tCCW, reset alarm, turn on, select 1, input the rotator position of 5.8 deg, move, reset alarm, turn off \r\n",
       "\tMain axes, reset alarm\r\n",
       "\r\n",
       "\r\n",
       "Send MTMount to Enabled \r\n",
       "Then  MTForceError.MTM2 fault\r\n",
       "\t (the range is not tuned for the AOS tests)</pre>\n"
      ],
      "text/plain": [
       "<IPython.core.display.Markdown object>"
      ]
     },
     "metadata": {},
     "output_type": "display_data"
    },
    {
     "data": {
      "text/markdown": [
       "- **2024-11-11 04:09:33.289017** Time Lost: 0.0; Time Lost Type: fault;\n",
       "    - components: None\n",
       "    - primary_software_components: ['None']\n",
       "    - primary_hardware_components: ['None']\n",
       "\n",
       "<pre style='color: black; background-color: white; font-size: 1em; margin-left: 0px; '>Rotator position is 5.874 and the CCW position is 3.674.</pre>\n"
      ],
      "text/plain": [
       "<IPython.core.display.Markdown object>"
      ]
     },
     "metadata": {},
     "output_type": "display_data"
    },
    {
     "data": {
      "text/markdown": [
       "- **2024-11-11 04:06:39.542003** Time Lost: 0.0; Time Lost Type: fault;\n",
       "    - components: None\n",
       "    - primary_software_components: ['None']\n",
       "    - primary_hardware_components: ['None']\n",
       "\n",
       "<pre style='color: black; background-color: white; font-size: 1em; margin-left: 0px; '>MTPtg wen to fault\r\n",
       "\r\n",
       "\r\n",
       " Error Rotator replied error for trackTarget command (1735273186) Error no:1 message:Failed: Must be in Enabled state\r\n",
       "0</pre>\n"
      ],
      "text/plain": [
       "<IPython.core.display.Markdown object>"
      ]
     },
     "metadata": {},
     "output_type": "display_data"
    },
    {
     "data": {
      "text/markdown": [
       "- **2024-11-11 04:06:06.989743** Time Lost: 0.0; Time Lost Type: fault;\n",
       "    - components: None\n",
       "    - primary_software_components: ['None']\n",
       "    - primary_hardware_components: ['None']\n",
       "\n",
       "<pre style='color: black; background-color: white; font-size: 1em; margin-left: 0px; '>MTRotator wen to fault\r\n",
       "\r\n",
       "\r\n",
       "Camera cable wrap not following closely enough: error # 3 = 2.2011443473732264 &gt; 2.2 deg</pre>\n"
      ],
      "text/plain": [
       "<IPython.core.display.Markdown object>"
      ]
     },
     "metadata": {},
     "output_type": "display_data"
    },
    {
     "data": {
      "text/markdown": [
       "- **2024-11-11 03:58:38.468255** Time Lost: 0.0; Time Lost Type: fault;\n",
       "    - components: None\n",
       "    - primary_software_components: ['None']\n",
       "    - primary_hardware_components: ['None']\n",
       "\n",
       "<pre style='color: black; background-color: white; font-size: 1em; margin-left: 0px; '>tack taerget to come back to center of the dome</pre>\n"
      ],
      "text/plain": [
       "<IPython.core.display.Markdown object>"
      ]
     },
     "metadata": {},
     "output_type": "display_data"
    },
    {
     "data": {
      "text/markdown": [
       "- **2024-11-11 03:45:56.009488** Time Lost: 0.0; Time Lost Type: fault;\n",
       "    - components: None\n",
       "    - primary_software_components: ['None']\n",
       "    - primary_hardware_components: ['None']\n",
       "\n",
       "<pre style='color: black; background-color: white; font-size: 1em; margin-left: 0px; '>parameter march comcam\r\n",
       "\r\n",
       "\r\n",
       "exp_time: 30.0\r\n",
       "dof_index: 4 \r\n",
       "step_sequence: [-0.015, -0.0175, -0.02, -0.025, -0.03]\r\n",
       "program: \"BLOCK-T279\"\r\n",
       "reason: \"alignment_sweep_m2ry\"</pre>\n"
      ],
      "text/plain": [
       "<IPython.core.display.Markdown object>"
      ]
     },
     "metadata": {},
     "output_type": "display_data"
    },
    {
     "data": {
      "text/markdown": [
       "- **2024-11-11 03:34:30.254260** Time Lost: 0.0; Time Lost Type: fault;\n",
       "    - components: None\n",
       "    - primary_software_components: ['None']\n",
       "    - primary_hardware_components: ['None']\n",
       "\n",
       "<pre style='color: black; background-color: white; font-size: 1em; margin-left: 0px; '>parameter carch comcam\r\n",
       "\r\n",
       "\r\n",
       "exp_time: 30.0\r\n",
       "dof_index: 4 \r\n",
       "range: 0.03\r\n",
       "n_steps: 7\r\n",
       "program: \"BLOCK-T279\"\r\n",
       "reason: \"alignment_sweep_m2ry\"</pre>\n"
      ],
      "text/plain": [
       "<IPython.core.display.Markdown object>"
      ]
     },
     "metadata": {},
     "output_type": "display_data"
    },
    {
     "data": {
      "text/markdown": [
       "- **2024-11-11 03:16:35.071705** Time Lost: 0.0; Time Lost Type: fault;\n",
       "    - components: None\n",
       "    - primary_software_components: ['None']\n",
       "    - primary_hardware_components: ['None']\n",
       "\n",
       "<pre style='color: black; background-color: white; font-size: 1em; margin-left: 0px; '>set dof\r\n",
       "\r\n",
       "\r\n",
       "dofs:\r\n",
       "  [-1.26588000e+03, 0.00000000e+00, -4.30089012e+02,  0.0,\r\n",
       "       0.0,  1.80668450e+03, -1.45225000e+02,  7.93919936e+01,\r\n",
       "        0.0, 0.0,  0.00000000e+00,  0.00000000e+00,\r\n",
       "        0.00000000e+00,  0.00000000e+00,  0.00000000e+00,  0.00000000e+00,\r\n",
       "        0.00000000e+00,  0.00000000e+00,  0.00000000e+00,  0.00000000e+00,\r\n",
       "        0.00000000e+00,  0.00000000e+00,  0.00000000e+00,  0.00000000e+00,\r\n",
       "        0.00000000e+00,  0.00000000e+00,  0.00000000e+00,  0.00000000e+00,\r\n",
       "        0.00000000e+00,  0.00000000e+00,  1.02255131e+00, -1.10015581e+00,\r\n",
       "        2.73888782e-02,  4.87750072e-02,  8.95215371e-01,  0.0,\r\n",
       "       0.0,  0.0,  0.0,  0.00000000e+00,\r\n",
       "        0.00000000e+00,  0.00000000e+00,  0.00000000e+00,  0.00000000e+00,\r\n",
       "        0.00000000e+00,  0.00000000e+00,  0.00000000e+00,  0.00000000e+00,\r\n",
       "        0.00000000e+00,  0.00000000e+00]</pre>\n"
      ],
      "text/plain": [
       "<IPython.core.display.Markdown object>"
      ]
     },
     "metadata": {},
     "output_type": "display_data"
    },
    {
     "data": {
      "text/markdown": [
       "- **2024-11-11 03:15:53.281303** Time Lost: 0.0; Time Lost Type: fault;\n",
       "    - components: ['MainTel']\n",
       "    - primary_software_components: ['None']\n",
       "    - primary_hardware_components: ['None']\n",
       "\n",
       "<pre style='color: black; background-color: white; font-size: 1em; margin-left: 0px; '>set dof \r\n",
       "\r\n",
       "\r\n",
       "dofs:\r\n",
       "  [-1.26588000e+03, 0.00000000e+00, -4.30089012e+02,  0.0,\r\n",
       "       0.0,  1.80668450e+03, -1.45225000e+02,  7.93919936e+01,\r\n",
       "        0.0, 0.0,  0.00000000e+00,  0.00000000e+00,\r\n",
       "        0.00000000e+00,  0.00000000e+00,  0.00000000e+00,  0.00000000e+00,\r\n",
       "        0.00000000e+00,  0.00000000e+00,  0.00000000e+00,  0.00000000e+00,\r\n",
       "        0.00000000e+00,  0.00000000e+00,  0.00000000e+00,  0.00000000e+00,\r\n",
       "        0.00000000e+00,  0.00000000e+00,  0.00000000e+00,  0.00000000e+00,\r\n",
       "        0.00000000e+00,  0.00000000e+00,  1.02255131e+00, -1.10015581e+00,\r\n",
       "        2.73888782e-02,  4.87750072e-02,  8.95215371e-01,  1.36704232e-01,\r\n",
       "       -3.87806584e-01,  2.04433613e-02,  6.66169035e-02,  0.00000000e+00,\r\n",
       "        0.00000000e+00,  0.00000000e+00,  0.00000000e+00,  0.00000000e+00,\r\n",
       "        0.00000000e+00,  0.00000000e+00,  0.00000000e+00,  0.00000000e+00,\r\n",
       "        0.00000000e+00,  0.00000000e+00]</pre>\n"
      ],
      "text/plain": [
       "<IPython.core.display.Markdown object>"
      ]
     },
     "metadata": {},
     "output_type": "display_data"
    },
    {
     "data": {
      "text/markdown": [
       "- **2024-11-11 03:15:38.996277** Time Lost: 0.0; Time Lost Type: fault;\n",
       "    - components: ['MainTel']\n",
       "    - primary_software_components: ['None']\n",
       "    - primary_hardware_components: ['None']\n",
       "\n",
       "<pre style='color: black; background-color: white; font-size: 1em; margin-left: 0px; '>sending track target ignoring the MTDome to track with MTA and continue the test\r\n",
       "\r\n",
       "\r\n",
       "track_azel:\r\n",
       " az: -110\r\n",
       " el: 80\r\n",
       "rot_value: 0\r\n",
       "rot_type: PhysicalSky\r\n",
       "program: \"BLOCK-T279\"\r\n",
       "reason: \"BlockT279\"\r\n",
       "ignore: \r\n",
       "  - mtdome\r\n",
       "  - mtdometrajectory</pre>\n"
      ],
      "text/plain": [
       "<IPython.core.display.Markdown object>"
      ]
     },
     "metadata": {},
     "output_type": "display_data"
    },
    {
     "data": {
      "text/markdown": [
       "- **2024-11-11 03:14:45.095094** Time Lost: 0.0; Time Lost Type: fault;\n",
       "    - components: ['MainTel']\n",
       "    - primary_software_components: ['None']\n",
       "    - primary_hardware_components: ['None']\n",
       "\n",
       "<pre style='color: black; background-color: white; font-size: 1em; margin-left: 0px; '>we send an other tack target to try the dome following but failed\r\n",
       "\r\n",
       "\r\n",
       "track_azel:\r\n",
       " az: -110\r\n",
       " el: 80\r\n",
       "rot_value: 0\r\n",
       "rot_type: PhysicalSky\r\n",
       "program: \"BLOCK-T279\"\r\n",
       "reason: \"BlockT279\"</pre>\n"
      ],
      "text/plain": [
       "<IPython.core.display.Markdown object>"
      ]
     },
     "metadata": {},
     "output_type": "display_data"
    },
    {
     "data": {
      "text/markdown": [
       "- **2024-11-11 03:13:56.582609** Time Lost: 0.0; Time Lost Type: fault;\n",
       "    - components: ['MainTel']\n",
       "    - primary_software_components: ['None']\n",
       "    - primary_hardware_components: ['None']\n",
       "\n",
       "<pre style='color: black; background-color: white; font-size: 1em; margin-left: 0px; '>take image comcam\r\n",
       "\r\n",
       "\r\n",
       "exp_times: 30\r\n",
       "nimages: 1\r\n",
       "image_type: \"ACQ\"\r\n",
       "program: \"BLOCK-T248\"\r\n",
       "reason: \"Checking\"\r\n",
       "filter: \"r_03\"</pre>\n"
      ],
      "text/plain": [
       "<IPython.core.display.Markdown object>"
      ]
     },
     "metadata": {},
     "output_type": "display_data"
    },
    {
     "data": {
      "text/markdown": [
       "- **2024-11-11 03:12:00.840609** Time Lost: 0.0; Time Lost Type: fault;\n",
       "    - components: ['MainTel']\n",
       "    - primary_software_components: ['None']\n",
       "    - primary_hardware_components: ['None']\n",
       "\n",
       "<pre style='color: black; background-color: white; font-size: 1em; margin-left: 0px; '>close loop comcam\r\n",
       "\r\n",
       "\r\n",
       "filter: \"r_03\"\r\n",
       "exposure_time: 30\r\n",
       "max_iter: 1\r\n",
       "mode: \"FAM\"\r\n",
       "program: \"BLOCK-T279\"\r\n",
       "reason: \"SITCOM-826\"\r\n",
       "note: \"align_m2rxry\"\r\n",
       "used_dofs: [3, 4]\r\n",
       "apply_corrections: true\r\n",
       "use_ocps: true</pre>\n"
      ],
      "text/plain": [
       "<IPython.core.display.Markdown object>"
      ]
     },
     "metadata": {},
     "output_type": "display_data"
    },
    {
     "data": {
      "text/markdown": [
       "- **2024-11-11 03:11:39.590255** Time Lost: 0.0; Time Lost Type: fault;\n",
       "    - components: ['MainTel']\n",
       "    - primary_software_components: ['None']\n",
       "    - primary_hardware_components: ['None']\n",
       "\n",
       "<pre style='color: black; background-color: white; font-size: 1em; margin-left: 0px; '>offset m2 hexapod\r\n",
       "\r\n",
       "\r\n",
       "v: -0.02</pre>\n"
      ],
      "text/plain": [
       "<IPython.core.display.Markdown object>"
      ]
     },
     "metadata": {},
     "output_type": "display_data"
    },
    {
     "data": {
      "text/markdown": [
       "- **2024-11-11 03:01:50.658093** Time Lost: 0.0; Time Lost Type: fault;\n",
       "    - components: ['MainTel']\n",
       "    - primary_software_components: ['None']\n",
       "    - primary_hardware_components: ['None']\n",
       "\n",
       "<pre style='color: black; background-color: white; font-size: 1em; margin-left: 0px; '>sending enable dome following, to keep the dome moving</pre>\n"
      ],
      "text/plain": [
       "<IPython.core.display.Markdown object>"
      ]
     },
     "metadata": {},
     "output_type": "display_data"
    },
    {
     "data": {
      "text/markdown": [
       "- **2024-11-11 02:58:40.383744** Time Lost: 0.0; Time Lost Type: fault;\n",
       "    - components: ['MainTel']\n",
       "    - primary_software_components: ['None']\n",
       "    - primary_hardware_components: ['None']\n",
       "\n",
       "<pre style='color: black; background-color: white; font-size: 1em; margin-left: 0px; '>the dome is in position, we try one more time ignoring MTDome and DomeTrajectory. TMA is tracking now</pre>\n"
      ],
      "text/plain": [
       "<IPython.core.display.Markdown object>"
      ]
     },
     "metadata": {},
     "output_type": "display_data"
    },
    {
     "data": {
      "text/markdown": [
       "- **2024-11-11 02:48:38.761384** Time Lost: 0.0; Time Lost Type: fault;\n",
       "    - components: ['MainTel']\n",
       "    - primary_software_components: ['None']\n",
       "    - primary_hardware_components: ['None']\n",
       "\n",
       "<pre style='color: black; background-color: white; font-size: 1em; margin-left: 0px; '>tack target failed\r\n",
       "\r\n",
       "\r\n",
       "dome_az = await self.rem.mtdome.tel_azimuth.next(\r\n",
       "              ^^^^^^^^^^^^^^^^^^^^^^^^^^^^^^^^^^^^^^^\r\n",
       "  File \"/opt/lsst/software/stack/conda/envs/lsst-scipipe-9.0.0/lib/python3.11/site-packages/lsst/ts/salobj/topics/read_topic.py\", line 681, in next\r\n",
       "    return await self._next(timeout=timeout)\r\n",
       "\r\n",
       "\r\n",
       "timeout\r\n",
       "\r\n",
       "\r\n",
       "we try again</pre>\n"
      ],
      "text/plain": [
       "<IPython.core.display.Markdown object>"
      ]
     },
     "metadata": {},
     "output_type": "display_data"
    },
    {
     "data": {
      "text/markdown": [
       "- **2024-11-11 02:45:50.800643** Time Lost: 0.0; Time Lost Type: fault;\n",
       "    - components: ['MainTel']\n",
       "    - primary_software_components: ['None']\n",
       "    - primary_hardware_components: ['None']\n",
       "\n",
       "<pre style='color: black; background-color: white; font-size: 1em; margin-left: 0px; '>probably the moon has scater light, moving to new direction\r\n",
       "\r\n",
       "\r\n",
       "track_azel:\r\n",
       " az: -110\r\n",
       " el: 80\r\n",
       "rot_value: 0\r\n",
       "rot_type: PhysicalSky\r\n",
       "program: \"BLOCK-T279\"\r\n",
       "reason: \"BlockT279\"</pre>\n"
      ],
      "text/plain": [
       "<IPython.core.display.Markdown object>"
      ]
     },
     "metadata": {},
     "output_type": "display_data"
    },
    {
     "data": {
      "text/markdown": [
       "- **2024-11-11 02:37:05.292736** Time Lost: 0.0; Time Lost Type: fault;\n",
       "    - components: ['MainTel']\n",
       "    - primary_software_components: ['None']\n",
       "    - primary_hardware_components: ['None']\n",
       "\n",
       "<pre style='color: black; background-color: white; font-size: 1em; margin-left: 0px; '>close loop comcam\r\n",
       "\r\n",
       "\r\n",
       "filter: \"r_03\"\r\n",
       "exposure_time: 30\r\n",
       "max_iter: 2\r\n",
       "mode: \"FAM\"\r\n",
       "program: \"BLOCK-T279\"\r\n",
       "reason: \"SITCOM-826\"\r\n",
       "note: \"align_m2rxry\"\r\n",
       "used_dofs: [3, 4]\r\n",
       "apply_corrections: true\r\n",
       "use_ocps: true</pre>\n"
      ],
      "text/plain": [
       "<IPython.core.display.Markdown object>"
      ]
     },
     "metadata": {},
     "output_type": "display_data"
    },
    {
     "data": {
      "text/markdown": [
       "- **2024-11-11 02:21:57.464292** Time Lost: 0.0; Time Lost Type: fault;\n",
       "    - components: ['MainTel']\n",
       "    - primary_software_components: ['None']\n",
       "    - primary_hardware_components: ['None']\n",
       "\n",
       "<pre style='color: black; background-color: white; font-size: 1em; margin-left: 0px; '>Starting BLOCK-T249</pre>\n"
      ],
      "text/plain": [
       "<IPython.core.display.Markdown object>"
      ]
     },
     "metadata": {},
     "output_type": "display_data"
    },
    {
     "data": {
      "text/markdown": [
       "- **2024-11-11 02:02:33.991707** Time Lost: 0.0; Time Lost Type: fault;\n",
       "    - components: ['MainTel']\n",
       "    - primary_software_components: ['None']\n",
       "    - primary_hardware_components: ['None']\n",
       "\n",
       "<pre style='color: black; background-color: white; font-size: 1em; margin-left: 0px; '>we set dof</pre>\n"
      ],
      "text/plain": [
       "<IPython.core.display.Markdown object>"
      ]
     },
     "metadata": {},
     "output_type": "display_data"
    },
    {
     "data": {
      "text/markdown": [
       "- **2024-11-11 02:02:15.668207** Time Lost: 0.0; Time Lost Type: fault;\n",
       "    - components: ['MainTel']\n",
       "    - primary_software_components: ['None']\n",
       "    - primary_hardware_components: ['None']\n",
       "\n",
       "<pre style='color: black; background-color: white; font-size: 1em; margin-left: 0px; '>parameter march comcam failed\r\n",
       "\r\n",
       "\r\n",
       "salindex 101515\r\n",
       "\r\n",
       "\r\n",
       "    self.camera.rem.ccoods.evt_imageInOODS.flush()</pre>\n"
      ],
      "text/plain": [
       "<IPython.core.display.Markdown object>"
      ]
     },
     "metadata": {},
     "output_type": "display_data"
    },
    {
     "data": {
      "text/markdown": [
       "- **2024-11-11 01:59:43.854201** Time Lost: 0.0; Time Lost Type: fault;\n",
       "    - components: ['MainTel']\n",
       "    - primary_software_components: ['None']\n",
       "    - primary_hardware_components: ['None']\n",
       "\n",
       "<pre style='color: black; background-color: white; font-size: 1em; margin-left: 0px; '>Starting BLOCK-T279</pre>\n"
      ],
      "text/plain": [
       "<IPython.core.display.Markdown object>"
      ]
     },
     "metadata": {},
     "output_type": "display_data"
    },
    {
     "data": {
      "text/markdown": [
       "- **2024-11-11 01:55:13.836699** Time Lost: 0.0; Time Lost Type: fault;\n",
       "    - components: ['MainTel']\n",
       "    - primary_software_components: ['None']\n",
       "    - primary_hardware_components: ['None']\n",
       "\n",
       "<pre style='color: black; background-color: white; font-size: 1em; margin-left: 0px; '>The dome has an issue, is disconnecting form the CSC, we check the telemetry if is still connected and reset the dome sending the dome to standby then to Enable again, be patient to confirm the telemetry is back.</pre>\n"
      ],
      "text/plain": [
       "<IPython.core.display.Markdown object>"
      ]
     },
     "metadata": {},
     "output_type": "display_data"
    },
    {
     "data": {
      "text/markdown": [
       "- **2024-11-11 01:48:32.828089** Time Lost: 0.0; Time Lost Type: fault;\n",
       "    - components: None\n",
       "    - primary_software_components: ['None']\n",
       "    - primary_hardware_components: ['None']\n",
       "\n",
       "<pre style='color: black; background-color: white; font-size: 1em; margin-left: 0px; '>Homing the Dom and moving TMA to -90 Az to prepare for BLOCK-279</pre>\n"
      ],
      "text/plain": [
       "<IPython.core.display.Markdown object>"
      ]
     },
     "metadata": {},
     "output_type": "display_data"
    },
    {
     "data": {
      "text/markdown": [
       "- **2024-11-11 01:39:23.513944** Time Lost: 0.0; Time Lost Type: fault;\n",
       "    - components: None\n",
       "    - primary_software_components: ['None']\n",
       "    - primary_hardware_components: ['None']\n",
       "\n",
       "<pre style='color: black; background-color: white; font-size: 1em; margin-left: 0px; '>Debugging the Dome, we are taken some images for AOS tests with out dome following</pre>\n"
      ],
      "text/plain": [
       "<IPython.core.display.Markdown object>"
      ]
     },
     "metadata": {},
     "output_type": "display_data"
    },
    {
     "data": {
      "text/markdown": [
       "- **2024-11-11 01:10:35.770067** Time Lost: 0.0; Time Lost Type: fault;\n",
       "    - components: ['MainTel']\n",
       "    - primary_software_components: ['None']\n",
       "    - primary_hardware_components: ['None']\n",
       "\n",
       "<pre style='color: black; background-color: white; font-size: 1em; margin-left: 0px; '>Dome is reading wrong position. still having issue with az drive.</pre>\n"
      ],
      "text/plain": [
       "<IPython.core.display.Markdown object>"
      ]
     },
     "metadata": {},
     "output_type": "display_data"
    },
    {
     "data": {
      "text/markdown": [
       "- **2024-11-11 01:10:17.726281** Time Lost: 0.0; Time Lost Type: fault;\n",
       "    - components: ['MainTel']\n",
       "    - primary_software_components: ['None']\n",
       "    - primary_hardware_components: ['None']\n",
       "\n",
       "<pre style='color: black; background-color: white; font-size: 1em; margin-left: 0px; '>while dome is having a problem, we decided to stop tracking and take triplet image to check focusing.</pre>\n"
      ],
      "text/plain": [
       "<IPython.core.display.Markdown object>"
      ]
     },
     "metadata": {},
     "output_type": "display_data"
    },
    {
     "data": {
      "text/markdown": [
       "- **2024-11-11 00:57:35.568717** Time Lost: 0.0; Time Lost Type: fault;\n",
       "    - components: ['MainTel']\n",
       "    - primary_software_components: ['None']\n",
       "    - primary_hardware_components: ['None']\n",
       "\n",
       "<pre style='color: black; background-color: white; font-size: 1em; margin-left: 0px; '>212202 FAULT in Azimuth control software status : problem with ethercat connection.</pre>\n"
      ],
      "text/plain": [
       "<IPython.core.display.Markdown object>"
      ]
     },
     "metadata": {},
     "output_type": "display_data"
    },
    {
     "data": {
      "text/markdown": [
       "- **2024-11-11 00:55:28.974017** Time Lost: 0.0; Time Lost Type: fault;\n",
       "    - components: ['MainTel']\n",
       "    - primary_software_components: ['None']\n",
       "    - primary_hardware_components: ['None']\n",
       "\n",
       "<pre style='color: black; background-color: white; font-size: 1em; margin-left: 0px; '>MTDome still enabled, but had AMCS azimuth drive fault and has error. will run exitFault</pre>\n"
      ],
      "text/plain": [
       "<IPython.core.display.Markdown object>"
      ]
     },
     "metadata": {},
     "output_type": "display_data"
    },
    {
     "data": {
      "text/markdown": [
       "- **2024-11-11 00:52:11.926041** Time Lost: 0.0; Time Lost Type: fault;\n",
       "    - components: ['MainTel']\n",
       "    - primary_software_components: ['None']\n",
       "    - primary_hardware_components: ['None']\n",
       "\n",
       "<pre style='color: black; background-color: white; font-size: 1em; margin-left: 0px; '>When hexapod faulted, there was huge vibration in motor currents, and all we tried to do was to move a bit to focus.  \r\n",
       "\r\n",
       "\r\n",
       "salindex=101495 2024-11-11T00:44:17.736Z</pre>\n"
      ],
      "text/plain": [
       "<IPython.core.display.Markdown object>"
      ]
     },
     "metadata": {},
     "output_type": "display_data"
    },
    {
     "data": {
      "text/markdown": [
       "- Link: [OBS-659](https://rubinobs.atlassian.net/browse/OBS-659)"
      ],
      "text/plain": [
       "<IPython.core.display.Markdown object>"
      ]
     },
     "metadata": {},
     "output_type": "display_data"
    },
    {
     "data": {
      "text/markdown": [
       "- **2024-11-11 00:46:57.433925** Time Lost: 0.0; Time Lost Type: fault;\n",
       "    - components: ['MainTel']\n",
       "    - primary_software_components: ['None']\n",
       "    - primary_hardware_components: ['None']\n",
       "\n",
       "<pre style='color: black; background-color: white; font-size: 1em; margin-left: 0px; '>running close_loop_comcam again.</pre>\n"
      ],
      "text/plain": [
       "<IPython.core.display.Markdown object>"
      ]
     },
     "metadata": {},
     "output_type": "display_data"
    },
    {
     "data": {
      "text/markdown": [
       "- **2024-11-11 00:45:54.702501** Time Lost: 0.0; Time Lost Type: fault;\n",
       "    - components: ['MainTel']\n",
       "    - primary_software_components: ['None']\n",
       "    - primary_hardware_components: ['None']\n",
       "\n",
       "<pre style='color: black; background-color: white; font-size: 1em; margin-left: 0px; '>recovered hexapod and enabled compensation mode.</pre>\n"
      ],
      "text/plain": [
       "<IPython.core.display.Markdown object>"
      ]
     },
     "metadata": {},
     "output_type": "display_data"
    },
    {
     "data": {
      "text/markdown": [
       "- **2024-11-11 00:44:55.871835** Time Lost: 0.0; Time Lost Type: fault;\n",
       "    - components: ['MainTel']\n",
       "    - primary_software_components: ['None']\n",
       "    - primary_hardware_components: ['None']\n",
       "\n",
       "<pre style='color: black; background-color: white; font-size: 1em; margin-left: 0px; '>Hexapod 2 faulted. recovering.</pre>\n"
      ],
      "text/plain": [
       "<IPython.core.display.Markdown object>"
      ]
     },
     "metadata": {},
     "output_type": "display_data"
    },
    {
     "data": {
      "text/markdown": [
       "- **2024-11-11 00:41:29.942358** Time Lost: 0.0; Time Lost Type: fault;\n",
       "    - components: ['MainTel']\n",
       "    - primary_software_components: ['None']\n",
       "    - primary_hardware_components: ['None']\n",
       "\n",
       "<pre style='color: black; background-color: white; font-size: 1em; margin-left: 0px; '>stopping the scheduler</pre>\n"
      ],
      "text/plain": [
       "<IPython.core.display.Markdown object>"
      ]
     },
     "metadata": {},
     "output_type": "display_data"
    },
    {
     "data": {
      "text/markdown": [
       "- **2024-11-11 00:36:00.059077** Time Lost: 0.0; Time Lost Type: fault;\n",
       "    - components: ['MainTel']\n",
       "    - primary_software_components: ['None']\n",
       "    - primary_hardware_components: ['None']\n",
       "\n",
       "<pre style='color: black; background-color: white; font-size: 1em; margin-left: 0px; '>tried take_image_comcam, worked. \r\n",
       "trying resume again</pre>\n"
      ],
      "text/plain": [
       "<IPython.core.display.Markdown object>"
      ]
     },
     "metadata": {},
     "output_type": "display_data"
    },
    {
     "data": {
      "text/markdown": [
       "- **2024-11-11 00:30:32.668602** Time Lost: 0.0; Time Lost Type: fault;\n",
       "    - components: ['MainTel']\n",
       "    - primary_software_components: ['None']\n",
       "    - primary_hardware_components: ['None']\n",
       "\n",
       "<pre style='color: black; background-color: white; font-size: 1em; margin-left: 0px; '>Re-enabling the scheduler and try if other command than resume.py works.</pre>\n"
      ],
      "text/plain": [
       "<IPython.core.display.Markdown object>"
      ]
     },
     "metadata": {},
     "output_type": "display_data"
    },
    {
     "data": {
      "text/markdown": [
       "- **2024-11-11 00:28:37.322827** Time Lost: 0.0; Time Lost Type: fault;\n",
       "    - components: ['MainTel']\n",
       "    - primary_software_components: ['None']\n",
       "    - primary_hardware_components: ['None']\n",
       "\n",
       "<pre style='color: black; background-color: white; font-size: 1em; margin-left: 0px; '>Faulted the scheduler again. Pinging Tiago and Tony Johnson.</pre>\n"
      ],
      "text/plain": [
       "<IPython.core.display.Markdown object>"
      ]
     },
     "metadata": {},
     "output_type": "display_data"
    },
    {
     "data": {
      "text/markdown": [
       "- **2024-11-11 00:24:16.888755** Time Lost: 0.0; Time Lost Type: fault;\n",
       "    - components: ['MainTel']\n",
       "    - primary_software_components: ['None']\n",
       "    - primary_hardware_components: ['None']\n",
       "\n",
       "<pre style='color: black; background-color: white; font-size: 1em; margin-left: 0px; '>Scheduler 1 faulted \r\n",
       "raise base.AckError(msg=\"Command failed\", ackcmd=ackcmd)\r\n",
       "lsst.ts.salobj.base.AckError: msg='Command failed', ackcmd=(ackcmd private_seqNum=9743385, ack=&lt;SalRetCode.CMD_FAILED: -302&gt;, error=1, result=\"Failed: 502, message='Bad Gateway', url=URL('http://ccs.lsst.org/ImageUtilities/rest/imageNameService?n=1&sourceIndex=248&source=BlockT')\")</pre>\n"
      ],
      "text/plain": [
       "<IPython.core.display.Markdown object>"
      ]
     },
     "metadata": {},
     "output_type": "display_data"
    },
    {
     "data": {
      "text/markdown": [
       "- Link: [OBS-614](https://rubinobs.atlassian.net/browse/OBS-614)"
      ],
      "text/plain": [
       "<IPython.core.display.Markdown object>"
      ]
     },
     "metadata": {},
     "output_type": "display_data"
    },
    {
     "data": {
      "text/markdown": [
       "- **2024-11-11 00:17:30.976422** Time Lost: 0.0; Time Lost Type: fault;\n",
       "    - components: ['MainTel']\n",
       "    - primary_software_components: ['None']\n",
       "    - primary_hardware_components: ['None']\n",
       "\n",
       "<pre style='color: black; background-color: white; font-size: 1em; margin-left: 0px; '>starting BLOCK-T248</pre>\n"
      ],
      "text/plain": [
       "<IPython.core.display.Markdown object>"
      ]
     },
     "metadata": {},
     "output_type": "display_data"
    },
    {
     "data": {
      "text/markdown": [
       "- **2024-11-11 00:04:41.106757** Time Lost: 0.0; Time Lost Type: fault;\n",
       "    - components: ['MainTel']\n",
       "    - primary_software_components: ['None']\n",
       "    - primary_hardware_components: ['None']\n",
       "\n",
       "<pre style='color: black; background-color: white; font-size: 1em; margin-left: 0px; '>take_image_comcam \r\n",
       "exp time 30sec\r\n",
       "r_03 band\r\n",
       "1 acq image</pre>\n"
      ],
      "text/plain": [
       "<IPython.core.display.Markdown object>"
      ]
     },
     "metadata": {},
     "output_type": "display_data"
    },
    {
     "data": {
      "text/markdown": [
       "- **2024-11-11 00:04:21.585925** Time Lost: 0.0; Time Lost Type: fault;\n",
       "    - components: ['MainTel']\n",
       "    - primary_software_components: ['None']\n",
       "    - primary_hardware_components: ['None']\n",
       "\n",
       "<pre style='color: black; background-color: white; font-size: 1em; margin-left: 0px; '>starting BLOCK-T249 with set_dof\r\n",
       "[-1.26588000e+03, -2.08991571e-08,  4.95136945e-08,  5.53397010e-03,\r\n",
       "       -2.40923443e-03,  1.80668450e+03,  4.85815000e+03,  6.73960000e+02,\r\n",
       "        3.16024784e-03, -7.47932190e-04,  0.00000000e+00,  0.00000000e+00,\r\n",
       "        0.00000000e+00,  0.00000000e+00,  0.00000000e+00,  0.00000000e+00,\r\n",
       "        0.00000000e+00,  0.00000000e+00,  0.00000000e+00,  0.00000000e+00,\r\n",
       "        0.00000000e+00,  0.00000000e+00,  0.00000000e+00,  0.00000000e+00,\r\n",
       "        0.00000000e+00,  0.00000000e+00,  0.00000000e+00,  0.00000000e+00,\r\n",
       "        0.00000000e+00,  0.00000000e+00,  1.02255131e+00, -1.10015581e+00,\r\n",
       "        2.73888782e-02,  4.87750072e-02,  8.95215371e-01,  1.36704232e-01,\r\n",
       "       -3.87806584e-01,  2.04433613e-02,  6.66169035e-02,  0.00000000e+00,\r\n",
       "        0.00000000e+00,  0.00000000e+00,  0.00000000e+00,  0.00000000e+00,\r\n",
       "        0.00000000e+00,  0.00000000e+00,  0.00000000e+00,  0.00000000e+00,\r\n",
       "        0.00000000e+00,  0.00000000e+00]</pre>\n"
      ],
      "text/plain": [
       "<IPython.core.display.Markdown object>"
      ]
     },
     "metadata": {},
     "output_type": "display_data"
    },
    {
     "data": {
      "text/markdown": [
       "- **2024-11-11 23:57:53.667172** Time Lost: 0.0; Time Lost Type: fault;\n",
       "    - components: None\n",
       "    - primary_software_components: ['None']\n",
       "    - primary_hardware_components: ['None']\n",
       "\n",
       "<pre style='color: black; background-color: white; font-size: 1em; margin-left: 0px; '>Re-queueing twilight script to take 12 more images</pre>\n"
      ],
      "text/plain": [
       "<IPython.core.display.Markdown object>"
      ]
     },
     "metadata": {},
     "output_type": "display_data"
    },
    {
     "data": {
      "text/markdown": [
       "- **2024-11-11 23:56:35.702066** Time Lost: 0.0; Time Lost Type: fault;\n",
       "    - components: None\n",
       "    - primary_software_components: ['None']\n",
       "    - primary_hardware_components: ['None']\n",
       "\n",
       "<pre style='color: black; background-color: white; font-size: 1em; margin-left: 0px; '>Stopping the flat script after taking 5 darks.  AOS team wants to try to put the stars more in focus - offsetting camera hexapod</pre>\n"
      ],
      "text/plain": [
       "<IPython.core.display.Markdown object>"
      ]
     },
     "metadata": {},
     "output_type": "display_data"
    },
    {
     "data": {
      "text/markdown": [
       "- **2024-11-11 23:46:35.618563** Time Lost: 0.0; Time Lost Type: fault;\n",
       "    - components: None\n",
       "    - primary_software_components: ['None']\n",
       "    - primary_hardware_components: ['None']\n",
       "\n",
       "<pre style='color: black; background-color: white; font-size: 1em; margin-left: 0px; '>Attempting to start twilight flats, r-band.  But the script complains of a dome timeout</pre>\n"
      ],
      "text/plain": [
       "<IPython.core.display.Markdown object>"
      ]
     },
     "metadata": {},
     "output_type": "display_data"
    },
    {
     "data": {
      "text/markdown": [
       "- **2024-11-11 23:44:21.473340** Time Lost: 0.0; Time Lost Type: fault;\n",
       "    - components: None\n",
       "    - primary_software_components: ['None']\n",
       "    - primary_hardware_components: ['None']\n",
       "\n",
       "<pre style='color: black; background-color: white; font-size: 1em; margin-left: 0px; '>Elana and David are trying to make the script ignore the dome.</pre>\n"
      ],
      "text/plain": [
       "<IPython.core.display.Markdown object>"
      ]
     },
     "metadata": {},
     "output_type": "display_data"
    },
    {
     "data": {
      "text/markdown": [
       "- **2024-11-11 23:44:00.611920** Time Lost: 0.0; Time Lost Type: fault;\n",
       "    - components: None\n",
       "    - primary_software_components: ['None']\n",
       "    - primary_hardware_components: ['None']\n",
       "\n",
       "<pre style='color: black; background-color: white; font-size: 1em; margin-left: 0px; '>salindex 101612 is the latest take_twilight_flats_comcam run which failed, error snippet: \r\n",
       "......\r\n",
       "442, in monitor_position\r\n",
       "    dome_az = await self.rem.mtdome.tel_azimuth.next(\r\n",
       "              ^^^^^^^^^^^^^^^^^^^^^^^^^^^^^^^^^^^^^^^\r\n",
       "  File \"/opt/lsst/software/stack/conda/envs/lsst-scipipe-9.0.0/lib/python3.11/site-packages/lsst/ts/salobj/topics/read_topic.py\", line 681, in next\r\n",
       "    return await self._next(timeout=timeout)\r\n",
       "           ^^^^^^^^^^^^^^^^^^^^^^^^^^^^^^^^^\r\n",
       "  File \"/opt/lsst/software/stack/conda/envs/lsst-scipipe-9.0.0/lib/python3.11/site-packages/lsst/ts/salobj/topics/read_topic.py\", line 693, in _next\r\n",
       "    return await asyncio.wait_for(self._next_task, timeout=timeout)\r\n",
       "           ^^^^^^^^^^^^^^^^^^^^^^^^^^^^^^^^^^^^^^^^^^^^^^^^^^^^^^^^\r\n",
       "  File \"/opt/lsst/software/stack/conda/envs/lsst-scipipe-9.0.0/lib/python3.11/asyncio/tasks.py\", line 502, in wait_for\r\n",
       "    raise exceptions.TimeoutError() from exc\r\n",
       "TimeoutError</pre>\n"
      ],
      "text/plain": [
       "<IPython.core.display.Markdown object>"
      ]
     },
     "metadata": {},
     "output_type": "display_data"
    },
    {
     "data": {
      "text/markdown": [
       "- **2024-11-11 23:37:14.028466** Time Lost: 0.0; Time Lost Type: fault;\n",
       "    - components: None\n",
       "    - primary_software_components: ['None']\n",
       "    - primary_hardware_components: ['None']\n",
       "\n",
       "<pre style='color: black; background-color: white; font-size: 1em; margin-left: 0px; '>Dome is finally happy after multiple exitFault commands and CSC state cycles.  Shutters open.</pre>\n"
      ],
      "text/plain": [
       "<IPython.core.display.Markdown object>"
      ]
     },
     "metadata": {},
     "output_type": "display_data"
    },
    {
     "data": {
      "text/markdown": [
       "- **2024-11-11 23:12:59.420801** Time Lost: 0.0; Time Lost Type: fault;\n",
       "    - components: None\n",
       "    - primary_software_components: ['None']\n",
       "    - primary_hardware_components: ['None']\n",
       "\n",
       "<pre style='color: black; background-color: white; font-size: 1em; margin-left: 0px; '>Sending additional exitFault commands results in different behavior.   salindex 300808 returned \"           ^^^^^^^^^^^^^^^^^^^^^^^^^^^^^^^^^^^^^^^^^^^\r\n",
       "  File \"/opt/lsst/software/stack/conda/envs/lsst-scipipe-9.0.0/lib/python3.11/site-packages/lsst/ts/salobj/topics/remote_command.py\", line 191, in next_ackcmd\r\n",
       "    raise base.AckError(msg=\"Command failed\", ackcmd=ackcmd)\r\n",
       "lsst.ts.salobj.base.AckError: msg='Command failed', ackcmd=(ackcmd private_seqNum=612720053, ack=&lt;SalRetCode.CMD_FAILED: -302&gt;, error=1, result='Failed: Command resetDrivesAz was sent for an incorrect state.')\"\r\n",
       "\r\n",
       "\r\n",
       "But the previous script finished without error in seconds, apparently not even executing.  The fault \"210809=Error of type Automation in subsystem AMCS: AFE is in fault.\" persists in the dome dashboard</pre>\n"
      ],
      "text/plain": [
       "<IPython.core.display.Markdown object>"
      ]
     },
     "metadata": {},
     "output_type": "display_data"
    },
    {
     "data": {
      "text/markdown": [
       "- **2024-11-11 23:06:50.734833** Time Lost: 0.0; Time Lost Type: fault;\n",
       "    - components: None\n",
       "    - primary_software_components: ['None']\n",
       "    - primary_hardware_components: ['None']\n",
       "\n",
       "<pre style='color: black; background-color: white; font-size: 1em; margin-left: 0px; '>Sent another exitFault command, which timed out.  Sending another exitFault command with a 120s timeout</pre>\n"
      ],
      "text/plain": [
       "<IPython.core.display.Markdown object>"
      ]
     },
     "metadata": {},
     "output_type": "display_data"
    },
    {
     "data": {
      "text/markdown": [
       "- **2024-11-11 23:06:25.110727** Time Lost: 0.0; Time Lost Type: fault;\n",
       "    - components: None\n",
       "    - primary_software_components: ['None']\n",
       "    - primary_hardware_components: ['None']\n",
       "\n",
       "<pre style='color: black; background-color: white; font-size: 1em; margin-left: 0px; '>Rebooted cRIO, transitioned to enable.  Telemetry appeared to restart, and no faults were visible on the dome status dashboard.  Commanded a dome move, but the script failed to execute.  Fault reported on dashboard is \"210809=Error of type Automation in subsystem AMCS: AFE is in fault.\"  Fault from the script queue is a timeout error (salindec 300803)\r\n",
       "\r\n",
       "\r\n",
       "          ^^^^^^^^^^^^^^^^^^^^^^^^^^^^^^^^^^^^^^^^^^^\r\n",
       "  File \"/opt/lsst/software/stack/conda/envs/lsst-scipipe-9.0.0/lib/python3.11/site-packages/lsst/ts/salobj/topics/remote_command.py\", line 205, in next_ackcmd\r\n",
       "    raise base.AckTimeoutError(\r\n",
       "lsst.ts.salobj.base.AckTimeoutError: msg='Timed out waiting for command acknowledgement', ackcmd=(ackcmd private_seqNum=914041440, ack=&lt;SalRetCode.CMD_NOACK: -301&gt;, error=0, result='No command acknowledgement seen')</pre>\n"
      ],
      "text/plain": [
       "<IPython.core.display.Markdown object>"
      ]
     },
     "metadata": {},
     "output_type": "display_data"
    },
    {
     "data": {
      "text/markdown": [
       "- **2024-11-11 22:53:21.969449** Time Lost: 0.0; Time Lost Type: fault;\n",
       "    - components: None\n",
       "    - primary_software_components: ['None']\n",
       "    - primary_hardware_components: ['None']\n",
       "\n",
       "<pre style='color: black; background-color: white; font-size: 1em; margin-left: 0px; '>second exitFault attempt failed with the same error.  Transition MTDome CSC to STANDBY and restarting dome cRIO</pre>\n"
      ],
      "text/plain": [
       "<IPython.core.display.Markdown object>"
      ]
     },
     "metadata": {},
     "output_type": "display_data"
    },
    {
     "data": {
      "text/markdown": [
       "- **2024-11-11 22:48:23.964517** Time Lost: 0.0; Time Lost Type: fault;\n",
       "    - components: None\n",
       "    - primary_software_components: ['None']\n",
       "    - primary_hardware_components: ['None']\n",
       "\n",
       "<pre style='color: black; background-color: white; font-size: 1em; margin-left: 0px; '>exitFault failed, \"           ^^^^^^^^^^^^^^^^^^^^^^^^^^^^^^^^^^^^^^^^^^^\r\n",
       "  File \"/opt/lsst/software/stack/conda/envs/lsst-scipipe-9.0.0/lib/python3.11/site-packages/lsst/ts/salobj/topics/remote_command.py\", line 205, in next_ackcmd\r\n",
       "    raise base.AckTimeoutError(\r\n",
       "lsst.ts.salobj.base.AckTimeoutError: msg='Timed out waiting for command acknowledgement', ackcmd=(ackcmd private_seqNum=612720053, ack=&lt;SalRetCode.CMD_NOACK: -301&gt;, error=0, result='No command acknowledgement seen')</pre>\n"
      ],
      "text/plain": [
       "<IPython.core.display.Markdown object>"
      ]
     },
     "metadata": {},
     "output_type": "display_data"
    },
    {
     "data": {
      "text/markdown": [
       "- **2024-11-11 22:46:43.814845** Time Lost: 0.0; Time Lost Type: fault;\n",
       "    - components: None\n",
       "    - primary_software_components: ['None']\n",
       "    - primary_hardware_components: ['None']\n",
       "\n",
       "<pre style='color: black; background-color: white; font-size: 1em; margin-left: 0px; '>The MTDome CSC took a long time to transition from disabled to enabled, and the status indicates \"210102=Error of type Automation in subsystem AMCS: Problem with ethercat connection.\".</pre>\n"
      ],
      "text/plain": [
       "<IPython.core.display.Markdown object>"
      ]
     },
     "metadata": {},
     "output_type": "display_data"
    },
    {
     "data": {
      "text/markdown": [
       "- **2024-11-11 22:43:21.600594** Time Lost: 0.0; Time Lost Type: fault;\n",
       "    - components: None\n",
       "    - primary_software_components: ['None']\n",
       "    - primary_hardware_components: ['None']\n",
       "\n",
       "<pre style='color: black; background-color: white; font-size: 1em; margin-left: 0px; '>MTDome not receiving telemetry (since this afternoon).  State cycle MTDome.</pre>\n"
      ],
      "text/plain": [
       "<IPython.core.display.Markdown object>"
      ]
     },
     "metadata": {},
     "output_type": "display_data"
    },
    {
     "data": {
      "text/markdown": [
       "- **2024-11-11 22:42:58.564024** Time Lost: 0.0; Time Lost Type: fault;\n",
       "    - components: None\n",
       "    - primary_software_components: ['None']\n",
       "    - primary_hardware_components: ['None']\n",
       "\n",
       "<pre style='color: black; background-color: white; font-size: 1em; margin-left: 0px; '>Guillem ran a laser tracker script during Day shift's dinner.  Need to re-run with the rotator at 0.  David recovering the rotator</pre>\n"
      ],
      "text/plain": [
       "<IPython.core.display.Markdown object>"
      ]
     },
     "metadata": {},
     "output_type": "display_data"
    },
    {
     "data": {
      "text/markdown": [
       "- **2024-11-11 21:33:23.168229** Time Lost: 0.0; Time Lost Type: fault;\n",
       "    - components: ['MainTel']\n",
       "    - primary_software_components: ['None']\n",
       "    - primary_hardware_components: ['None']\n",
       "\n",
       "<pre style='color: black; background-color: white; font-size: 1em; margin-left: 0px; '>TMA recovered by Robinson and David with help from Julen.  But while running TMA checkout, the first slew with \"track_target\" faulted the MTMount + MTPtg.  This was apparently due to an elevation soft motion axis fault.  Timestamp 21:25 UT.  TMA performance settings were at default 5%.</pre>\n"
      ],
      "text/plain": [
       "<IPython.core.display.Markdown object>"
      ]
     },
     "metadata": {},
     "output_type": "display_data"
    },
    {
     "data": {
      "text/markdown": [
       "- Link: [OBS-662](https://rubinobs.atlassian.net/browse/OBS-662)"
      ],
      "text/plain": [
       "<IPython.core.display.Markdown object>"
      ]
     },
     "metadata": {},
     "output_type": "display_data"
    },
    {
     "data": {
      "text/markdown": [
       "- **2024-11-11 21:16:10.580811** Time Lost: 0.0; Time Lost Type: fault;\n",
       "    - components: ['MainTel']\n",
       "    - primary_software_components: ['None']\n",
       "    - primary_hardware_components: ['None']\n",
       "\n",
       "<pre style='color: black; background-color: white; font-size: 1em; margin-left: 0px; '>Doing TMA checkout to make sure everything is working.</pre>\n"
      ],
      "text/plain": [
       "<IPython.core.display.Markdown object>"
      ]
     },
     "metadata": {},
     "output_type": "display_data"
    },
    {
     "data": {
      "text/markdown": [
       "- **2024-11-11 21:12:27.977152** Time Lost: 0.0; Time Lost Type: fault;\n",
       "    - components: None\n",
       "    - primary_software_components: ['None']\n",
       "    - primary_hardware_components: ['None']\n",
       "\n",
       "<pre style='color: black; background-color: white; font-size: 1em; margin-left: 0px; '>Running T-246, ComCam USDF checkout</pre>\n"
      ],
      "text/plain": [
       "<IPython.core.display.Markdown object>"
      ]
     },
     "metadata": {},
     "output_type": "display_data"
    },
    {
     "data": {
      "text/markdown": [
       "- **2024-11-11 20:53:23.158056** Time Lost: 0.0; Time Lost Type: fault;\n",
       "    - components: ['MainTel']\n",
       "    - primary_software_components: ['None']\n",
       "    - primary_hardware_components: ['None']\n",
       "\n",
       "<pre style='color: black; background-color: white; font-size: 1em; margin-left: 0px; '>HPs finished. All passed. We are raising the mirror now.</pre>\n"
      ],
      "text/plain": [
       "<IPython.core.display.Markdown object>"
      ]
     },
     "metadata": {},
     "output_type": "display_data"
    },
    {
     "data": {
      "text/markdown": [
       "- **2024-11-11 20:52:57.391250** Time Lost: 0.0; Time Lost Type: fault;\n",
       "    - components: ['MainTel']\n",
       "    - primary_software_components: ['None']\n",
       "    - primary_hardware_components: ['None']\n",
       "\n",
       "<pre style='color: black; background-color: white; font-size: 1em; margin-left: 0px; '>A quick summary of TMA issues. When trying to turn mirror covers motors and/or locking pin motors, the motors were just going to fault. The locking pins motors were not even faulting, but hanging on. We tried to reset the EtherCAT remotely, but that did not work. Then, Julen though the issue came from Basch Controller, but we ended up recovering after resetting TMA-PXI.\r\n",
       "\r\n",
       "\r\n",
       "To reset PXI, access tma-pxi computer (credential available in 1Password) and issue a `reboot` command.</pre>\n"
      ],
      "text/plain": [
       "<IPython.core.display.Markdown object>"
      ]
     },
     "metadata": {},
     "output_type": "display_data"
    },
    {
     "data": {
      "text/markdown": [
       "- **2024-11-11 20:47:11.049953** Time Lost: 0.0; Time Lost Type: fault;\n",
       "    - components: ['MainTel']\n",
       "    - primary_software_components: ['None']\n",
       "    - primary_hardware_components: ['None']\n",
       "\n",
       "<pre style='color: black; background-color: white; font-size: 1em; margin-left: 0px; '>Running HP tests while recovering TMA.</pre>\n"
      ],
      "text/plain": [
       "<IPython.core.display.Markdown object>"
      ]
     },
     "metadata": {},
     "output_type": "display_data"
    },
    {
     "data": {
      "text/markdown": [
       "- **2024-11-11 20:25:43.425602** Time Lost: 0.0; Time Lost Type: fault;\n",
       "    - components: ['MainTel']\n",
       "    - primary_software_components: ['None']\n",
       "    - primary_hardware_components: ['None']\n",
       "\n",
       "<pre style='color: black; background-color: white; font-size: 1em; margin-left: 0px; '>Dome handover was finally completed after rebooting the cRIO.  But the telemetry was slow, and only a few minutes after successfully moving the dome under CSC control, we lost the telemetry, around 19:43 UT</pre>\n"
      ],
      "text/plain": [
       "<IPython.core.display.Markdown object>"
      ]
     },
     "metadata": {},
     "output_type": "display_data"
    },
    {
     "data": {
      "text/markdown": [
       "- Link: [OBS-651](https://rubinobs.atlassian.net/browse/OBS-651)"
      ],
      "text/plain": [
       "<IPython.core.display.Markdown object>"
      ]
     },
     "metadata": {},
     "output_type": "display_data"
    },
    {
     "data": {
      "text/markdown": [
       "\n",
       "    - components: ['MainTel']\n",
       "    - primary_software_components: ['None']\n",
       "    - primary_hardware_components: ['None']\n",
       "\n",
       "sending exitFault resulted in:\r\n",
       "\r\n",
       "\r\n",
       "Error in run\r\n",
       "<pre style='color: black; background-color: #FFDDDD; font-size: 0.875em; margin-left: 20px; '>Traceback (most recent call last):\r\n",
       "  File &quot;/opt/lsst/software/stack/conda/envs/lsst-scipipe-9.0.0/lib/python3.11/asyncio/tasks.py&quot;, line 500, in wait_for\r\n",
       "    return fut.result()\r\n",
       "           ^^^^^^^^^^^^\r\n",
       "  File &quot;/opt/lsst/software/stack/conda/envs/lsst-scipipe-9.0.0/lib/python3.11/site-packages/lsst/ts/salobj/topics/remote_command.py&quot;, line 239, in _get_next_ackcmd\r\n",
       "    await self._next_ack_event.wait()\r\n",
       "  File &quot;/opt/lsst/software/stack/conda/envs/lsst-scipipe-9.0.0/lib/python3.11/asyncio/locks.py&quot;, line 213, in wait\r\n",
       "    await fut\r\n",
       "asyncio.exceptions.CancelledError\r\n",
       "\r\n",
       "\r\n",
       "The above exception was the direct cause of the following exception:\r\n",
       "\r\n",
       "\r\n",
       "Traceback (most recent call last):\r\n",
       "  File &quot;/opt/lsst/software/stack/conda/envs/lsst-scipipe-9.0.0/lib/python3.11/site-packages/lsst/ts/salobj/topics/remote_command.py&quot;, line 189, in next_ackcmd\r\n",
       "    ackcmd = await self._wait_task\r\n",
       "             ^^^^^^^^^^^^^^^^^^^^^\r\n",
       "  File &quot;/opt/lsst/software/stack/conda/envs/lsst-scipipe-9.0.0/lib/python3.11/site-packages/lsst/ts/salobj/topics/remote_command.py&quot;, line 214, in _basic_next_ackcmd\r\n",
       "    ackcmd = await asyncio.wait_for(\r\n",
       "             ^^^^^^^^^^^^^^^^^^^^^^^\r\n",
       "  File &quot;/opt/lsst/software/stack/conda/envs/lsst-scipipe-9.0.0/lib/python3.11/asyncio/tasks.py&quot;, line 502, in wait_for\r\n",
       "    raise exceptions.TimeoutError() from exc\r\n",
       "TimeoutError\r\n",
       "\r\n",
       "\r\n",
       "During handling of the above exception, another exception occurred:\r\n",
       "\r\n",
       "\r\n",
       "Traceback (most recent call last):\r\n",
       "  File &quot;/opt/lsst/software/stack/conda/envs/lsst-scipipe-9.0.0/lib/python3.11/site-packages/lsst/ts/salobj/base_script.py&quot;, line 631, in do_run\r\n",
       "    await self._run_task\r\n",
       "  File &quot;/net/obs-env/auto_base_packages/ts_standardscripts/python/lsst/ts/standardscripts/run_command.py&quot;, line 170, in run\r\n",
       "    await getattr(self.remote, f&quot;cmd_{self.cmd}&quot;).start(\r\n",
       "  File &quot;/opt/lsst/software/stack/conda/envs/lsst-scipipe-9.0.0/lib/python3.11/site-packages/lsst/ts/salobj/topics/remote_command.py&quot;, line 487, in start\r\n",
       "    return await cmd_info.next_ackcmd(timeout=timeout)\r\n",
       "           ^^^^^^^^^^^^^^^^^^^^^^^^^^^^^^^^^^^^^^^^^^^\r\n",
       "  File &quot;/opt/lsst/software/stack/conda/envs/lsst-scipipe-9.0.0/lib/python3.11/site-packages/lsst/ts/salobj/topics/remote_command.py&quot;, line 205, in next_ackcmd\r\n",
       "    raise base.AckTimeoutError(\r\n",
       "lsst.ts.salobj.base.AckTimeoutError: msg=&#x27;Timed out waiting for command acknowledgement&#x27;, ackcmd=(ackcmd private_seqNum=612720053, ack=&amp;lt;SalRetCode.CMD_NOACK: -301&amp;gt;, error=0, result=&#x27;No command acknowledgement seen&#x27;)\r\n",
       "</pre>\n"
      ],
      "text/plain": [
       "<IPython.core.display.Markdown object>"
      ]
     },
     "metadata": {},
     "output_type": "display_data"
    },
    {
     "data": {
      "text/markdown": [
       "- **2024-11-11 19:41:28.960982** Time Lost: 0.0; Time Lost Type: fault;\n",
       "    - components: ['MainTel']\n",
       "    - primary_software_components: ['None']\n",
       "    - primary_hardware_components: ['None']\n",
       "\n",
       "<pre style='color: black; background-color: white; font-size: 1em; margin-left: 0px; '>Having difficulty with the dome handover.  MTDome cannot transition to enabled after putting into remote mode.  Goes from disabled to FAULT.  Dashboard reports \"212202=Problem with ethercat connection.\".  David S reset the cRIO remotely (since I could not access the brick machine - though I have in the past without issue).</pre>\n"
      ],
      "text/plain": [
       "<IPython.core.display.Markdown object>"
      ]
     },
     "metadata": {},
     "output_type": "display_data"
    },
    {
     "data": {
      "text/markdown": [
       "- **2024-11-11 18:58:49.940826** Time Lost: 0.0; Time Lost Type: fault;\n",
       "    - components: ['MainTel']\n",
       "    - primary_software_components: ['None']\n",
       "    - primary_hardware_components: ['None']\n",
       "\n",
       "<pre style='color: black; background-color: white; font-size: 1em; margin-left: 0px; '>Actuators [218, 233, 235, 238, 424, 427, 428, 429, 430, 433, 434, 435] FAILED the bump test.</pre>\n"
      ],
      "text/plain": [
       "<IPython.core.display.Markdown object>"
      ]
     },
     "metadata": {},
     "output_type": "display_data"
    },
    {
     "data": {
      "text/markdown": [
       "- **2024-11-11 18:56:04.282979** Time Lost: 0.0; Time Lost Type: fault;\n",
       "    - components: ['MainTel']\n",
       "    - primary_software_components: ['None']\n",
       "    - primary_hardware_components: ['None']\n",
       "\n",
       "<pre style='color: black; background-color: white; font-size: 1em; margin-left: 0px; '>Bump test appeared to have more failures than usual, perhaps due to the power glitch that happened when switching between generator #2 and generator #1.  Attempting to state cycle MTM1M3 was unsuccessful, cannot transition from Standby to Start.  It faults.  David noticed the air pressure is low, 112 psi and dropping</pre>\n"
      ],
      "text/plain": [
       "<IPython.core.display.Markdown object>"
      ]
     },
     "metadata": {},
     "output_type": "display_data"
    },
    {
     "data": {
      "text/markdown": [
       "- **2024-11-11 18:11:43.168782** Time Lost: 0.0; Time Lost Type: fault;\n",
       "    - components: ['MainTel']\n",
       "    - primary_software_components: ['None']\n",
       "    - primary_hardware_components: ['None']\n",
       "\n",
       "<pre style='color: black; background-color: white; font-size: 1em; margin-left: 0px; '>The dome handover is going to happen at 4pm, since electrical team will check that generators are operational for the night.</pre>\n"
      ],
      "text/plain": [
       "<IPython.core.display.Markdown object>"
      ]
     },
     "metadata": {},
     "output_type": "display_data"
    },
    {
     "data": {
      "text/markdown": [
       "- **2024-11-11 17:46:30.473695** Time Lost: 0.0; Time Lost Type: fault;\n",
       "    - components: ['MainTel']\n",
       "    - primary_software_components: ['None']\n",
       "    - primary_hardware_components: ['None']\n",
       "\n",
       "<pre style='color: black; background-color: white; font-size: 1em; margin-left: 0px; '>Running bump test ignoring FA 215.</pre>\n"
      ],
      "text/plain": [
       "<IPython.core.display.Markdown object>"
      ]
     },
     "metadata": {},
     "output_type": "display_data"
    },
    {
     "data": {
      "text/markdown": [
       "- **2024-11-11 17:30:31.927662** Time Lost: 0.0; Time Lost Type: fault;\n",
       "    - components: ['MainTel']\n",
       "    - primary_software_components: ['None']\n",
       "    - primary_hardware_components: ['None']\n",
       "\n",
       "<pre style='color: black; background-color: white; font-size: 1em; margin-left: 0px; '>Laser tracker was turned one. We are re-enabling MTM3 SS and TS. Turning FCUs on at 300 RPM.</pre>\n"
      ],
      "text/plain": [
       "<IPython.core.display.Markdown object>"
      ]
     },
     "metadata": {},
     "output_type": "display_data"
    },
    {
     "data": {
      "text/markdown": [
       "- **2024-11-11 17:17:55.174260** Time Lost: 0.0; Time Lost Type: fault;\n",
       "    - components: ['MainTel']\n",
       "    - primary_software_components: ['None']\n",
       "    - primary_hardware_components: ['None']\n",
       "\n",
       "<pre style='color: black; background-color: white; font-size: 1em; margin-left: 0px; '>Ran M2 hex warmup while at lunch.  Finished and back in the control room.</pre>\n"
      ],
      "text/plain": [
       "<IPython.core.display.Markdown object>"
      ]
     },
     "metadata": {},
     "output_type": "display_data"
    },
    {
     "data": {
      "text/markdown": [
       "- **2024-11-11 16:00:11.794739** Time Lost: 0.0; Time Lost Type: fault;\n",
       "    - components: ['MainTel']\n",
       "    - primary_software_components: ['None']\n",
       "    - primary_hardware_components: ['None']\n",
       "\n",
       "<pre style='color: black; background-color: white; font-size: 1em; margin-left: 0px; '>Starting Cam Hex warmup (T4).</pre>\n"
      ],
      "text/plain": [
       "<IPython.core.display.Markdown object>"
      ]
     },
     "metadata": {},
     "output_type": "display_data"
    },
    {
     "data": {
      "text/markdown": [
       "- **2024-11-11 15:35:57.769718** Time Lost: 0.0; Time Lost Type: fault;\n",
       "    - components: ['MainTel']\n",
       "    - primary_software_components: ['None']\n",
       "    - primary_hardware_components: ['None']\n",
       "\n",
       "<pre style='color: black; background-color: white; font-size: 1em; margin-left: 0px; '>Powering on hexapods and rotator electronics.</pre>\n"
      ],
      "text/plain": [
       "<IPython.core.display.Markdown object>"
      ]
     },
     "metadata": {},
     "output_type": "display_data"
    },
    {
     "data": {
      "text/markdown": [
       "- **2024-11-11 14:50:59.255566** Time Lost: 0.0; Time Lost Type: fault;\n",
       "    - components: ['MainTel']\n",
       "    - primary_software_components: ['None']\n",
       "    - primary_hardware_components: ['None']\n",
       "\n",
       "<pre style='color: black; background-color: white; font-size: 1em; margin-left: 0px; '>Shouldn't have put M1M3 into standby after this probably, discussing with Petr. (M1M3 back to Enabled, which made air and power back on.)\r\n",
       "M1M3 power has some errors.</pre>\n"
      ],
      "text/plain": [
       "<IPython.core.display.Markdown object>"
      ]
     },
     "metadata": {},
     "output_type": "display_data"
    },
    {
     "data": {
      "text/markdown": [
       "- **2024-11-11 14:49:41.971912** Time Lost: 0.0; Time Lost Type: fault;\n",
       "    - components: ['MainTel']\n",
       "    - primary_software_components: ['None']\n",
       "    - primary_hardware_components: ['None']\n",
       "\n",
       "<pre style='color: black; background-color: white; font-size: 1em; margin-left: 0px; '>Disabled FA215 back, turned air off, power off (main-&gt;aux)</pre>\n"
      ],
      "text/plain": [
       "<IPython.core.display.Markdown object>"
      ]
     },
     "metadata": {},
     "output_type": "display_data"
    },
    {
     "data": {
      "text/markdown": [
       "- **2024-11-11 14:46:30.269168** Time Lost: 0.0; Time Lost Type: fault;\n",
       "    - components: ['MainTel']\n",
       "    - primary_software_components: ['None']\n",
       "    - primary_hardware_components: ['None']\n",
       "\n",
       "<pre style='color: black; background-color: white; font-size: 1em; margin-left: 0px; '>Enabled FA215 back, (had it disabled from configuration in lower level, couldn't change disable/enable state of FA on EUI. Petr had to change), tested bump test on FA215, failed. ~100 N instead of 222 N.</pre>\n"
      ],
      "text/plain": [
       "<IPython.core.display.Markdown object>"
      ]
     },
     "metadata": {},
     "output_type": "display_data"
    },
    {
     "data": {
      "text/markdown": [
       "- **2024-11-11 14:44:02.085067** Time Lost: 0.0; Time Lost Type: fault;\n",
       "    - components: ['MainTel']\n",
       "    - primary_software_components: ['None']\n",
       "    - primary_hardware_components: ['None']\n",
       "\n",
       "<pre style='color: black; background-color: white; font-size: 1em; margin-left: 0px; '>Visual inspection with FA215 looked good, Christian and Roberto opened the FA215's valve.</pre>\n"
      ],
      "text/plain": [
       "<IPython.core.display.Markdown object>"
      ]
     },
     "metadata": {},
     "output_type": "display_data"
    },
    {
     "data": {
      "text/markdown": [
       "- **2024-11-11 13:24:52.800785** Time Lost: 0.0; Time Lost Type: fault;\n",
       "    - components: ['MainTel']\n",
       "    - primary_software_components: ['None']\n",
       "    - primary_hardware_components: ['None']\n",
       "\n",
       "<pre style='color: black; background-color: white; font-size: 1em; margin-left: 0px; '>LOTO on, Christian gets into the M1M3 cell to inspect FA 215</pre>\n"
      ],
      "text/plain": [
       "<IPython.core.display.Markdown object>"
      ]
     },
     "metadata": {},
     "output_type": "display_data"
    },
    {
     "data": {
      "text/markdown": [
       "- **2024-11-11 13:10:27.057259** Time Lost: 0.0; Time Lost Type: fault;\n",
       "    - components: ['MainTel']\n",
       "    - primary_software_components: ['None']\n",
       "    - primary_hardware_components: ['None']\n",
       "\n",
       "<pre style='color: black; background-color: white; font-size: 1em; margin-left: 0px; '>TMA parked at zenith, az=-31. locking pin in. PS off, OSS off.</pre>\n"
      ],
      "text/plain": [
       "<IPython.core.display.Markdown object>"
      ]
     },
     "metadata": {},
     "output_type": "display_data"
    },
    {
     "data": {
      "text/markdown": [
       "- **2024-11-11 13:08:09.819671** Time Lost: 0.0; Time Lost Type: fault;\n",
       "    - components: ['MainTel']\n",
       "    - primary_software_components: ['None']\n",
       "    - primary_hardware_components: ['None']\n",
       "\n",
       "<pre style='color: black; background-color: white; font-size: 1em; margin-left: 0px; '>MTPtg ENABLED, MTMount DISABLED</pre>\n"
      ],
      "text/plain": [
       "<IPython.core.display.Markdown object>"
      ]
     },
     "metadata": {},
     "output_type": "display_data"
    },
    {
     "data": {
      "text/markdown": [
       "- **2024-11-11 12:58:37.079807** Time Lost: 0.0; Time Lost Type: fault;\n",
       "    - components: ['MainTel']\n",
       "    - primary_software_components: ['None']\n",
       "    - primary_hardware_components: ['None']\n",
       "\n",
       "<pre style='color: black; background-color: white; font-size: 1em; margin-left: 0px; '>Day crew came. Need TMA zenith and az=-31 for access to the M1M3 cell.\r\n",
       "PS on, switched to the Parking set, David Jimenez moving TMA in EUI.</pre>\n"
      ],
      "text/plain": [
       "<IPython.core.display.Markdown object>"
      ]
     },
     "metadata": {},
     "output_type": "display_data"
    }
   ],
   "source": [
    "# Narrative Report\n",
    "# Time Log\n",
    "allrep.nar_rep.time_log_as_markdown()"
   ]
  },
  {
   "cell_type": "markdown",
   "id": "27",
   "metadata": {},
   "source": [
    "-----------\n",
    "------------"
   ]
  },
  {
   "cell_type": "markdown",
   "id": "cd0567ce-4ae9-428e-8f9d-df8277511392",
   "metadata": {},
   "source": [
    "# Developer Only Section <font style=\"background-color:red; olor:black; font-size:20px\">REMOVE</font>\n",
    "Contains stuff only expected to be useful to developers.\n",
    "\n",
    "This may also contain sections that have moved out of the user section because they are no longer defined in the Storyboard."
   ]
  },
  {
   "cell_type": "markdown",
   "id": "34",
   "metadata": {},
   "source": [
    "## Overview \n"
   ]
  },
  {
   "cell_type": "code",
   "execution_count": 16,
   "id": "6e220d29-aac6-4d70-80e2-7dd3ef99944c",
   "metadata": {
    "jupyter": {
     "source_hidden": true
    }
   },
   "outputs": [
    {
     "data": {
      "text/markdown": [
       "## Project-Wide Night(s) Report \n",
       "- Run on logs and databases from **https://usdf-rsp-dev.slac.stanford.edu/**\n",
       "- Report **1 observing night(s)** with the last reported night starting on **2024-11-11 12:00:00**.\n",
       "- min_dayobs='2024-11-11', max_dayobs='2024-11-12'\n",
       "- Using ***Prototype* Logging and Reporting** Version: **0.1.dev145+gf2a5765.d20241014**\n",
       "- have_consdb = True\n",
       "- Imported lsst.ts.logging_and_reporting from local packages.\n",
       "- allsrc.nig_src.timeout=(5.05, 20.0)\n",
       "- allsrc.nar_src.timeout=(5.05, 20.0)\n"
      ],
      "text/plain": [
       "<IPython.core.display.Markdown object>"
      ]
     },
     "metadata": {},
     "output_type": "display_data"
    }
   ],
   "source": [
    "# Display overview of Report context\n",
    "try:\n",
    "    import lsst.ts.logging_and_reporting.version\n",
    "\n",
    "    lrversion = lsst.ts.logging_and_reporting.version.__version__\n",
    "except:\n",
    "    lrversion = \"LIVE\"\n",
    "\n",
    "try:\n",
    "    from lsst.summit.utils import ConsDbClient\n",
    "\n",
    "    have_consdb = True\n",
    "except:\n",
    "    have_consdb = False\n",
    "md(\n",
    "    f\"\"\"## Project-Wide Night(s) Report \n",
    "- Run on logs and databases from **{server}/**\n",
    "- Report **{days} observing night(s)** with the last reported night starting on **{date}**.\n",
    "- min_dayobs={allsrc.min_dayobs!r}, max_dayobs={allsrc.max_dayobs!r}\n",
    "- Using ***Prototype* Logging and Reporting** Version: **{lrversion}**\n",
    "- {have_consdb = }\n",
    "- {dev_msg}\n",
    "- {allsrc.nig_src.timeout=}\n",
    "- {allsrc.nar_src.timeout=}\n",
    "\"\"\")"
   ]
  },
  {
   "cell_type": "markdown",
   "id": "47ef40d3-f6d4-4b6a-80bf-55a613d3f884",
   "metadata": {},
   "source": [
    "## Data Status\n",
    "This may be useful for diagnosing reports that give unexpected results."
   ]
  },
  {
   "cell_type": "code",
   "execution_count": 17,
   "id": "b076e98a-44a2-437c-9342-a180fe2cd829",
   "metadata": {
    "jupyter": {
     "source_hidden": true
    }
   },
   "outputs": [
    {
     "data": {
      "text/html": [
       "<table border=\"1\" class=\"dataframe\">\n",
       "  <thead>\n",
       "    <tr style=\"text-align: right;\">\n",
       "      <th>Endpoint</th>\n",
       "      <th>Records</th>\n",
       "      <th>URL</th>\n",
       "    </tr>\n",
       "  </thead>\n",
       "  <tbody>\n",
       "    <tr>\n",
       "      <td>nightreport/reports</td>\n",
       "      <td>2</td>\n",
       "      <td><a href=\"https://usdf-rsp-dev.slac.stanford.edu/nightreport/reports?is_human=either&is_valid=true&order_by=-day_obs&offset=0&limit=100&min_day_obs=20241111&max_day_obs=20241112\" target=\"_blank\">https://usdf-rsp-dev.slac.stanford.edu/nightreport/reports?is_human=either&is_valid=true&order_by=-day_obs&offset=0&limit=100&min_day_obs=20241111&max_day_obs=20241112</a></td>\n",
       "    </tr>\n",
       "    <tr>\n",
       "      <td>exposurelog/instruments</td>\n",
       "      <td>3</td>\n",
       "      <td><a href=\"https://usdf-rsp-dev.slac.stanford.edu/exposurelog/instruments\" target=\"_blank\">https://usdf-rsp-dev.slac.stanford.edu/exposurelog/instruments</a></td>\n",
       "    </tr>\n",
       "    <tr>\n",
       "      <td>exposurelog/exposures.LSSTComCamSim</td>\n",
       "      <td>0</td>\n",
       "      <td><a href=\"https://usdf-rsp-dev.slac.stanford.edu/exposurelog/exposures?registry=1&instrument=LSSTComCamSim&order_by=-timespan_end&offset=0&limit=2500&min_day_obs=20241111&max_day_obs=20241112\" target=\"_blank\">https://usdf-rsp-dev.slac.stanford.edu/exposurelog/exposures?registry=1&instrument=LSSTComCamSim&order_by=-timespan_end&offset=0&limit=2500&min_day_obs=20241111&max_day_obs=20241112</a></td>\n",
       "    </tr>\n",
       "    <tr>\n",
       "      <td>exposurelog/exposures.LATISS</td>\n",
       "      <td>0</td>\n",
       "      <td><a href=\"https://usdf-rsp-dev.slac.stanford.edu/exposurelog/exposures?registry=1&instrument=LATISS&order_by=-timespan_end&offset=0&limit=2500&min_day_obs=20241111&max_day_obs=20241112\" target=\"_blank\">https://usdf-rsp-dev.slac.stanford.edu/exposurelog/exposures?registry=1&instrument=LATISS&order_by=-timespan_end&offset=0&limit=2500&min_day_obs=20241111&max_day_obs=20241112</a></td>\n",
       "    </tr>\n",
       "    <tr>\n",
       "      <td>exposurelog/exposures.LSSTComCam</td>\n",
       "      <td>337</td>\n",
       "      <td><a href=\"https://usdf-rsp-dev.slac.stanford.edu/exposurelog/exposures?registry=1&instrument=LSSTComCam&order_by=-timespan_end&offset=0&limit=2500&min_day_obs=20241111&max_day_obs=20241112\" target=\"_blank\">https://usdf-rsp-dev.slac.stanford.edu/exposurelog/exposures?registry=1&instrument=LSSTComCam&order_by=-timespan_end&offset=0&limit=2500&min_day_obs=20241111&max_day_obs=20241112</a></td>\n",
       "    </tr>\n",
       "    <tr>\n",
       "      <td>exposurelog/exposures.LSSTCam</td>\n",
       "      <td>0</td>\n",
       "      <td><a href=\"https://usdf-rsp-dev.slac.stanford.edu/exposurelog/exposures?registry=1&instrument=LSSTCam&order_by=-timespan_end&offset=0&limit=2500&min_day_obs=20241111&max_day_obs=20241112\" target=\"_blank\">https://usdf-rsp-dev.slac.stanford.edu/exposurelog/exposures?registry=1&instrument=LSSTCam&order_by=-timespan_end&offset=0&limit=2500&min_day_obs=20241111&max_day_obs=20241112</a></td>\n",
       "    </tr>\n",
       "    <tr>\n",
       "      <td>exposurelog/messages</td>\n",
       "      <td>0</td>\n",
       "      <td><a href=\"https://usdf-rsp-dev.slac.stanford.edu/exposurelog/messages?is_human=either&is_valid=true&order_by=-day_obs&offset=0&limit=2500&min_day_obs=20241111&max_day_obs=20241112\" target=\"_blank\">https://usdf-rsp-dev.slac.stanford.edu/exposurelog/messages?is_human=either&is_valid=true&order_by=-day_obs&offset=0&limit=2500&min_day_obs=20241111&max_day_obs=20241112</a></td>\n",
       "    </tr>\n",
       "    <tr>\n",
       "      <td>narrativelog/messages</td>\n",
       "      <td>82</td>\n",
       "      <td><a href=\"https://usdf-rsp-dev.slac.stanford.edu/narrativelog/messages?is_human=either&is_valid=true&order_by=-date_added&offset=0&limit=1000&min_date_added=2024-11-11T00%3A00%3A00&max_date_added=2024-11-12T00%3A00%3A00\" target=\"_blank\">https://usdf-rsp-dev.slac.stanford.edu/narrativelog/messages?is_human=either&is_valid=true&order_by=-date_added&offset=0&limit=1000&min_date_added=2024-11-11T00%3A00%3A00&max_date_added=2024-11-12T00%3A00%3A00</a></td>\n",
       "    </tr>\n",
       "    <tr>\n",
       "      <td>efd/targets</td>\n",
       "      <td>0</td>\n",
       "      <td>NA</td>\n",
       "    </tr>\n",
       "  </tbody>\n",
       "</table>"
      ],
      "text/plain": [
       "<IPython.core.display.HTML object>"
      ]
     },
     "metadata": {},
     "output_type": "display_data"
    }
   ],
   "source": [
    "df = pd.DataFrame(allsrc.get_data_status())\n",
    "table = df.to_html(\n",
    "    index=False, \n",
    "    render_links=True,\n",
    "    escape=False)\n",
    "display(HTML(table))"
   ]
  },
  {
   "cell_type": "markdown",
   "id": "37",
   "metadata": {},
   "source": [
    "## This report uses the following data sources\n",
    "- NightReport\n",
    "- Exposurelog\n",
    "- Narrativelog\n",
    "- EFD\n",
    "- ConsDB\n",
    "- (DDV)\n",
    "- (Almanac from Astroplan)"
   ]
  },
  {
   "cell_type": "markdown",
   "id": "40",
   "metadata": {},
   "source": [
    "## Where was this run?\n",
    "\n",
    "The environments that have everything needed to run this page are:\n",
    "\n",
    "    https://summit-lsp.lsst.codes\n",
    "    https://usdf-rsp-dev.slac.stanford.edu\n",
    "\n",
    "However, Times Square does not run on the Summit. It does run on USDF-dev.\n"
   ]
  },
  {
   "cell_type": "markdown",
   "id": "41",
   "metadata": {},
   "source": [
    "## Section overviews moved here"
   ]
  },
  {
   "cell_type": "code",
   "execution_count": 18,
   "id": "42",
   "metadata": {
    "jupyter": {
     "source_hidden": true
    }
   },
   "outputs": [
    {
     "data": {
      "text/markdown": [
       "### Overview for Service: `nightreport` [2]"
      ],
      "text/plain": [
       "<IPython.core.display.Markdown object>"
      ]
     },
     "metadata": {},
     "output_type": "display_data"
    },
    {
     "name": "stdout",
     "output_type": "stream",
     "text": [
      "None\n"
     ]
    },
    {
     "data": {
      "text/markdown": [
       "- Endpoint: https://usdf-rsp-dev.slac.stanford.edu/nightreport/reports?is_human=either&is_valid=true&order_by=-day_obs&offset=0&limit=100&min_day_obs=20241111&max_day_obs=20241112"
      ],
      "text/plain": [
       "<IPython.core.display.Markdown object>"
      ]
     },
     "metadata": {},
     "output_type": "display_data"
    },
    {
     "name": "stdout",
     "output_type": "stream",
     "text": [
      "None\n",
      "- Got 2 records.  \n"
     ]
    },
    {
     "data": {
      "text/markdown": [
       "### Overview for Service: `exposurelog` [0]"
      ],
      "text/plain": [
       "<IPython.core.display.Markdown object>"
      ]
     },
     "metadata": {},
     "output_type": "display_data"
    },
    {
     "name": "stdout",
     "output_type": "stream",
     "text": [
      "None\n"
     ]
    },
    {
     "data": {
      "text/markdown": [
       "- Endpoint: https://usdf-rsp-dev.slac.stanford.edu/exposurelog/messages?is_human=either&is_valid=true&order_by=-day_obs&offset=0&limit=2500&min_day_obs=20241111&max_day_obs=20241112"
      ],
      "text/plain": [
       "<IPython.core.display.Markdown object>"
      ]
     },
     "metadata": {},
     "output_type": "display_data"
    },
    {
     "name": "stdout",
     "output_type": "stream",
     "text": [
      "None\n",
      "- Got 0 records.  \n"
     ]
    },
    {
     "data": {
      "text/markdown": [
       "### Overview for Service: `narrativelog` [82]"
      ],
      "text/plain": [
       "<IPython.core.display.Markdown object>"
      ]
     },
     "metadata": {},
     "output_type": "display_data"
    },
    {
     "name": "stdout",
     "output_type": "stream",
     "text": [
      "None\n"
     ]
    },
    {
     "data": {
      "text/markdown": [
       "- Endpoint: https://usdf-rsp-dev.slac.stanford.edu/narrativelog/messages?is_human=either&is_valid=true&order_by=-date_added&offset=0&limit=1000&min_date_added=2024-11-11T00%3A00%3A00&max_date_added=2024-11-12T00%3A00%3A00"
      ],
      "text/plain": [
       "<IPython.core.display.Markdown object>"
      ]
     },
     "metadata": {},
     "output_type": "display_data"
    },
    {
     "name": "stdout",
     "output_type": "stream",
     "text": [
      "None\n",
      "- Got 82 records.  \n"
     ]
    }
   ],
   "source": [
    "# Night Report Overview\n",
    "allrep.nig_rep.overview()\n",
    "# Exposure Report Overview\n",
    "allrep.exp_rep.overview()\n",
    "# Narrative Report Overview\n",
    "allrep.nar_rep.overview()"
   ]
  },
  {
   "cell_type": "code",
   "execution_count": 19,
   "id": "43",
   "metadata": {
    "jupyter": {
     "source_hidden": true
    }
   },
   "outputs": [],
   "source": [
    "# Conditionally display our current ability to connect to all needed endpoints.\n",
    "if False and not os.environ.get(\"EXTERNAL_INSTANCE_URL\"):\n",
    "    md(\"## Dashboard\")\n",
    "    md(\"(This is not done when running under Times Square.)\")\n",
    "    %run ./dashboard.ipynb"
   ]
  },
  {
   "cell_type": "markdown",
   "id": "09cba642-73db-4c3c-94f6-11aa311a3985",
   "metadata": {},
   "source": [
    "### According to Storybaord, this section should be removed ...\n",
    "... and replaced with a simple table tally of Good, Questionable, and  Junk exposures per instrument.\n",
    "| Symbol | Meaning |\n",
    "|:---|:---|\n",
    "| <font style=\"background-color:green; color:white; font-size:20px\">&nbsp;G&nbsp;</font>| Good |\n",
    "| <font style=\"background-color:yellow; color:black; font-size:20px\">&nbsp;?&nbsp;</font> | Questionable |\n",
    "| <font style=\"background-color:red; color:black; font-size:20px\">&nbsp;R&nbsp;</font> | Junk |\n"
   ]
  },
  {
   "cell_type": "code",
   "execution_count": 20,
   "id": "24",
   "metadata": {
    "jupyter": {
     "source_hidden": true
    }
   },
   "outputs": [
    {
     "data": {
      "text/markdown": [
       "<font style=\"color:lightblue;background-color:None;\">No exposurelog records found 2024-11-11 to 2024-11-12. </font>"
      ],
      "text/plain": [
       "<IPython.core.display.Markdown object>"
      ]
     },
     "metadata": {},
     "output_type": "display_data"
    },
    {
     "data": {
      "text/markdown": [
       "Used [API Data](https://usdf-rsp-dev.slac.stanford.edu/exposurelog/messages?is_human=either&is_valid=true&order_by=-day_obs&offset=0&limit=2500&min_day_obs=20241111&max_day_obs=20241112)"
      ],
      "text/plain": [
       "<IPython.core.display.Markdown object>"
      ]
     },
     "metadata": {},
     "output_type": "display_data"
    }
   ],
   "source": [
    "# Time Log\n",
    "allrep.exp_rep.time_log_as_markdown()"
   ]
  },
  {
   "cell_type": "markdown",
   "id": "44",
   "metadata": {},
   "source": [
    "## Finale"
   ]
  },
  {
   "cell_type": "code",
   "execution_count": 21,
   "id": "45",
   "metadata": {
    "jupyter": {
     "source_hidden": true
    }
   },
   "outputs": [
    {
     "name": "stdout",
     "output_type": "stream",
     "text": [
      "Finished 2024-11-12 23:40:10.647837\n"
     ]
    }
   ],
   "source": [
    "print(f\"Finished {str(dt.datetime.now())}\")"
   ]
  }
 ],
 "metadata": {
  "kernelspec": {
   "display_name": "Python 3 (ipykernel)",
   "language": "python",
   "name": "python3"
  },
  "language_info": {
   "codemirror_mode": {
    "name": "ipython",
    "version": 3
   },
   "file_extension": ".py",
   "mimetype": "text/x-python",
   "name": "python",
   "nbconvert_exporter": "python",
   "pygments_lexer": "ipython3",
   "version": "3.11.9"
  }
 },
 "nbformat": 4,
 "nbformat_minor": 5
}
