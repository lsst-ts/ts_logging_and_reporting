{
 "cells": [
  {
   "cell_type": "markdown",
   "id": "0",
   "metadata": {},
   "source": [
    "# About this Page\n",
    "See the slack **#ts-logging** channel for discussion about this page.  There you can report problems, questions, and requests for changes.  *What are we missing?*\n",
    "\n",
    "## What is new in this app?(newest change at top of list)\n",
    "- Do not show Time Loss info unless it is greater than zero\n",
    "- Do not show software or hardware components (they are rarely used anyhow)\n",
    "- <font style=\"background-color:#ffff99\">Embedded comments and questions to reader (Yellow background)</font>\n",
    "- This page tries to work around existing problems with APIs used for source data. (There is a ticket to fix the APIs)\n",
    "- <font style=\"background-color:red; color:#90EE90\">Errors from APIs are displayed in this page (Red background).</font>\n"
   ]
  },
  {
   "cell_type": "code",
   "execution_count": 1,
   "id": "1",
   "metadata": {},
   "outputs": [],
   "source": [
    "# Parameters.\n",
    "# Times Square replaces this cell with the user's parameters.\n",
    "# So, don't put anything else here!\n",
    "\n",
    "# day_obs values: TODAY, YESTERDAY, YYYY-MM-DD\n",
    "# Report on observing nights that start upto but not included this day.\n",
    "#!day_obs = '2024-09-25' # Value to use for local testing (Summit)\n",
    "day_obs = \"TODAY\"  # TODO Change to 'YESTERDAY' and 'TODAY' to test with default before push\n",
    "\n",
    "# Total number of days of data to display (ending on day_obs)\n",
    "number_of_days = \"1\"  # TODO Change to '1' to test with default before push\n",
    "\n",
    "verbose = \"falsex\"  # TODO change to false before push, else true"
   ]
  },
  {
   "cell_type": "code",
   "execution_count": 2,
   "id": "2",
   "metadata": {},
   "outputs": [],
   "source": [
    "# IMPORT everything\n",
    "import datetime as dt\n",
    "import os\n",
    "from collections import defaultdict\n",
    "from pprint import pformat, pp\n",
    "from urllib.parse import urlencode, urlparse\n",
    "import pandas as pd\n",
    "from IPython.display import HTML\n",
    "\n",
    "# When running under Times Square, install pkg from github.\n",
    "# Otherwise use what is installed locally (intended to be dev editiable pkg)\n",
    "if os.environ.get(\"EXTERNAL_INSTANCE_URL\"):\n",
    "    dev_msg = (\n",
    "        'Installing \"lsst.ts.logging_and_reporting\" from github using \"prototype\" branch. \\n'\n",
    "        'TODO: Make the need for this go away by getting Logging_and_Reporting installed in RSP.'\n",
    "    )\n",
    "    !pip install --upgrade git+https://github.com/lsst-ts/ts_logging_and_reporting.git@prototype > /dev/null 2>&1\n",
    "else:\n",
    "    dev_msg = 'Imported lsst.ts.logging_and_reporting from local packages.'\n",
    "from lsst.ts.logging_and_reporting.all_sources import AllSources\n",
    "from lsst.ts.logging_and_reporting.all_reports import AllReports\n",
    "import lsst.ts.logging_and_reporting.utils as ut\n",
    "from lsst.ts.logging_and_reporting.reports import md, mdlist, mdpathlink\n",
    "from lsst.ts.logging_and_reporting.reports import html_draft, html_beta"
   ]
  },
  {
   "cell_type": "code",
   "execution_count": 3,
   "id": "4",
   "metadata": {},
   "outputs": [],
   "source": [
    "# Set default env to \"usdf\" and try before PUSH to repo.\n",
    "# The default provided here is for local testing. Under Times Square it is ignored.\n",
    "server = os.environ.get(\n",
    "    \"EXTERNAL_INSTANCE_URL\", \n",
    "    ut.Server.usdf) # TODO try with \"usdf\" before push (also \"summit\")"
   ]
  },
  {
   "cell_type": "code",
   "execution_count": 4,
   "id": "5d3008ec-1400-48e5-a35c-539869ff3ecf",
   "metadata": {},
   "outputs": [],
   "source": [
    "# Validate parameters, return usable ones\n",
    "usable, error = ut.fallback_parameters(day_obs, number_of_days, verbose)\n",
    "if error:\n",
    "    print(error)\n",
    "\n",
    "date = ut.get_datetime_from_dayobs_str(usable['day_obs'])\n",
    "# date:  is EXCLUSIVE (upto, but not including)\n",
    "days = usable['number_of_days']\n",
    "verbose = usable['verbose']\n",
    "\n",
    "# Thus: [min_day_obs,max_day_obs)\n",
    "# Format: string, YYYY-MM-DD\n",
    "min_date = date - dt.timedelta(days=days - 1)\n",
    "max_date = date + dt.timedelta(days=1)\n",
    "min_day_obs = min_date.strftime(\"%Y-%m-%d\")  # Inclusive\n",
    "max_day_obs = max_date.strftime(\"%Y-%m-%d\")  # prep for Exclusive"
   ]
  },
  {
   "cell_type": "code",
   "execution_count": 5,
   "id": "5",
   "metadata": {
    "scrolled": true
   },
   "outputs": [],
   "source": [
    "# Read records from (almost) all sources\n",
    "timer = ut.Timer()\n",
    "allsrc = AllSources(\n",
    "    server_url=server,\n",
    "    min_dayobs=min_day_obs,\n",
    "    max_dayobs=max_day_obs,\n",
    "    verbose=verbose,                \n",
    "    limit=5000,\n",
    "    exclude_instruments = []      # TODO change to empty list before push\n",
    ")\n",
    "allrep = AllReports(allsrc=allsrc)"
   ]
  },
  {
   "cell_type": "markdown",
   "id": "a0d44b83-527e-41b2-8d05-6f6207ceba30",
   "metadata": {},
   "source": [
    "----------"
   ]
  },
  {
   "cell_type": "code",
   "execution_count": 6,
   "id": "e5c48075-7a8b-40a3-84dc-9b7408654e83",
   "metadata": {},
   "outputs": [
    {
     "data": {
      "text/markdown": [
       "# Showing data for 2024-11-22 to 2024-11-23 for LSSTComCamSim, LATISS, LSSTComCam, LSSTCam"
      ],
      "text/plain": [
       "<IPython.core.display.Markdown object>"
      ]
     },
     "metadata": {},
     "output_type": "display_data"
    },
    {
     "data": {
      "text/markdown": [
       "Most recently run on: **2024-11-22 00:16:09**"
      ],
      "text/plain": [
       "<IPython.core.display.Markdown object>"
      ]
     },
     "metadata": {},
     "output_type": "display_data"
    }
   ],
   "source": [
    "instrum_str = \", \".join(list(allsrc.exp_src.instruments.keys()))\n",
    "md(f\"# Showing data for {min_date.date()} to {max_date.date()} for {instrum_str}\")\n",
    "md(f\"Most recently run on: **{dt.datetime.now().replace(microsecond=0).isoformat(sep=' ')}**\")"
   ]
  },
  {
   "cell_type": "markdown",
   "id": "8",
   "metadata": {},
   "source": [
    "# Table of Contents\n",
    "* [Night Report](#Night-Report-BETA)\n",
    "    - AuxTel\n",
    "    - Simonyi\n",
    "* [Almanac](#Almanac-BETA)\n",
    "* [Summary plots of whole night](#Summary-plots-of-whole-night-DRAFT)\n",
    "* [Time Accounting](#Time-Accounting-DRAFT)\n",
    "* [Jira Tickets](#Jira-Tickets-BETA)\n",
    "    - AuxTel\n",
    "    - Simonyi\n",
    "* [BLOCKS Observed](#BLOCKS-Observed-DRAFT)\n",
    "    - AuxTel\n",
    "    - Simonyi\n",
    "* [Data Log](#Data-Log-BETA)\n",
    "* [Narrative Log](#Narrative-Log-BETA)\n",
    "* [Developer Only Section](#Developer-Only-Section-REMOVE)"
   ]
  },
  {
   "cell_type": "markdown",
   "id": "86ff253e-f575-4b9b-96f9-698d3faf9494",
   "metadata": {},
   "source": [
    "## Night Report <font style=\"background-color:green; color:white; font-size:20px\">BETA</font> \n",
    "<font style=\"background-color:#ffff99\">Possible Changes</font>\n",
    "\n",
    "- Word wrap instead of chopping words at end of line?\n",
    "- (Add summary from AI)"
   ]
  },
  {
   "cell_type": "code",
   "execution_count": 7,
   "id": "10",
   "metadata": {},
   "outputs": [
    {
     "data": {
      "text/markdown": [
       "<font style=\"color:lightblue;background-color:None;\">No nightreport records found 2024-11-22 to 2024-11-23. </font>"
      ],
      "text/plain": [
       "<IPython.core.display.Markdown object>"
      ]
     },
     "metadata": {},
     "output_type": "display_data"
    },
    {
     "data": {
      "text/markdown": [
       "Used [API Data](https://usdf-rsp-dev.slac.stanford.edu/nightreport/reports?is_human=either&is_valid=true&order_by=-day_obs&offset=0&limit=100&min_day_obs=20241122&max_day_obs=20241123)"
      ],
      "text/plain": [
       "<IPython.core.display.Markdown object>"
      ]
     },
     "metadata": {},
     "output_type": "display_data"
    }
   ],
   "source": [
    "# Night Report\n",
    "# Display time log\n",
    "allrep.nig_rep.time_log_as_markdown()"
   ]
  },
  {
   "cell_type": "markdown",
   "id": "51fad717-7160-4da9-bdeb-696c92f33c19",
   "metadata": {},
   "source": [
    "## Almanac <font style=\"background-color:green; color:white; font-size:20px\">BETA</font> \n",
    "<font style=\"background-color:#ffff99\">\n",
    "Add column for Chile timezone?\n",
    "</font>"
   ]
  },
  {
   "cell_type": "code",
   "execution_count": 8,
   "id": "12",
   "metadata": {},
   "outputs": [
    {
     "data": {
      "text/markdown": [
       "**Almanac for the observing night starting 2024-11-22**"
      ],
      "text/plain": [
       "<IPython.core.display.Markdown object>"
      ]
     },
     "metadata": {},
     "output_type": "display_data"
    },
    {
     "data": {
      "text/html": [
       "<style type=\"text/css\">\n",
       "</style>\n",
       "<table id=\"T_37588\">\n",
       "  <thead>\n",
       "  </thead>\n",
       "  <tbody>\n",
       "    <tr>\n",
       "      <th id=\"T_37588_level0_row0\" class=\"row_heading level0 row0\" >Sun Set</th>\n",
       "      <td id=\"T_37588_row0_col0\" class=\"data row0 col0\" >2024-11-22 23:19:25</td>\n",
       "      <td id=\"T_37588_row0_col1\" class=\"data row0 col1\" ></td>\n",
       "    </tr>\n",
       "    <tr>\n",
       "      <th id=\"T_37588_level0_row1\" class=\"row_heading level0 row1\" >Evening Civil Twilight</th>\n",
       "      <td id=\"T_37588_row1_col0\" class=\"data row1 col0\" >2024-11-22 23:50:18</td>\n",
       "      <td id=\"T_37588_row1_col1\" class=\"data row1 col1\" >(-6 degrees)</td>\n",
       "    </tr>\n",
       "    <tr>\n",
       "      <th id=\"T_37588_level0_row2\" class=\"row_heading level0 row2\" >Evening Nautical Twilight</th>\n",
       "      <td id=\"T_37588_row2_col0\" class=\"data row2 col0\" >2024-11-23 00:22:27</td>\n",
       "      <td id=\"T_37588_row2_col1\" class=\"data row2 col1\" >(-12 degrees)</td>\n",
       "    </tr>\n",
       "    <tr>\n",
       "      <th id=\"T_37588_level0_row3\" class=\"row_heading level0 row3\" >Evening Astronomical Twilight</th>\n",
       "      <td id=\"T_37588_row3_col0\" class=\"data row3 col0\" >2024-11-23 00:56:25</td>\n",
       "      <td id=\"T_37588_row3_col1\" class=\"data row3 col1\" >(-18 degrees)</td>\n",
       "    </tr>\n",
       "    <tr>\n",
       "      <th id=\"T_37588_level0_row4\" class=\"row_heading level0 row4\" >Solar Midnight</th>\n",
       "      <td id=\"T_37588_row4_col0\" class=\"data row4 col0\" >2024-11-23 04:29:17</td>\n",
       "      <td id=\"T_37588_row4_col1\" class=\"data row4 col1\" ></td>\n",
       "    </tr>\n",
       "    <tr>\n",
       "      <th id=\"T_37588_level0_row5\" class=\"row_heading level0 row5\" >Moon Rise</th>\n",
       "      <td id=\"T_37588_row5_col0\" class=\"data row5 col0\" >2024-11-23 05:32:02</td>\n",
       "      <td id=\"T_37588_row5_col1\" class=\"data row5 col1\" ></td>\n",
       "    </tr>\n",
       "    <tr>\n",
       "      <th id=\"T_37588_level0_row6\" class=\"row_heading level0 row6\" >Morning Astronomical Twilight</th>\n",
       "      <td id=\"T_37588_row6_col0\" class=\"data row6 col0\" >2024-11-23 08:02:10</td>\n",
       "      <td id=\"T_37588_row6_col1\" class=\"data row6 col1\" >(-18 degrees)</td>\n",
       "    </tr>\n",
       "    <tr>\n",
       "      <th id=\"T_37588_level0_row7\" class=\"row_heading level0 row7\" >Morning Nautical Twilight</th>\n",
       "      <td id=\"T_37588_row7_col0\" class=\"data row7 col0\" >2024-11-23 08:36:09</td>\n",
       "      <td id=\"T_37588_row7_col1\" class=\"data row7 col1\" >(-12 degrees)</td>\n",
       "    </tr>\n",
       "    <tr>\n",
       "      <th id=\"T_37588_level0_row8\" class=\"row_heading level0 row8\" >Morning Civil Twilight</th>\n",
       "      <td id=\"T_37588_row8_col0\" class=\"data row8 col0\" >2024-11-23 09:08:18</td>\n",
       "      <td id=\"T_37588_row8_col1\" class=\"data row8 col1\" >(-6 degrees)</td>\n",
       "    </tr>\n",
       "    <tr>\n",
       "      <th id=\"T_37588_level0_row9\" class=\"row_heading level0 row9\" >Sun Rise</th>\n",
       "      <td id=\"T_37588_row9_col0\" class=\"data row9 col0\" >2024-11-23 09:39:11</td>\n",
       "      <td id=\"T_37588_row9_col1\" class=\"data row9 col1\" ></td>\n",
       "    </tr>\n",
       "    <tr>\n",
       "      <th id=\"T_37588_level0_row10\" class=\"row_heading level0 row10\" >Moon Set</th>\n",
       "      <td id=\"T_37588_row10_col0\" class=\"data row10 col0\" >2024-11-23 16:47:25</td>\n",
       "      <td id=\"T_37588_row10_col1\" class=\"data row10 col1\" ></td>\n",
       "    </tr>\n",
       "    <tr>\n",
       "      <th id=\"T_37588_level0_row11\" class=\"row_heading level0 row11\" >Moon Illumination</th>\n",
       "      <td id=\"T_37588_row11_col0\" class=\"data row11 col0\" >49%</td>\n",
       "      <td id=\"T_37588_row11_col1\" class=\"data row11 col1\" >(% illuminated)</td>\n",
       "    </tr>\n",
       "    <tr>\n",
       "      <th id=\"T_37588_level0_row12\" class=\"row_heading level0 row12\" ></th>\n",
       "      <td id=\"T_37588_row12_col0\" class=\"data row12 col0\" >UTC</td>\n",
       "      <td id=\"T_37588_row12_col1\" class=\"data row12 col1\" ></td>\n",
       "    </tr>\n",
       "  </tbody>\n",
       "</table>\n"
      ],
      "text/plain": [
       "<pandas.io.formats.style.Styler at 0x7f1b70812890>"
      ]
     },
     "metadata": {},
     "output_type": "display_data"
    }
   ],
   "source": [
    "# Display various almanac values (for moon, sun)\n",
    "#!rep.AlmanacReport().day_obs_report(min_day_obs)\n",
    "allrep.alm_rep.day_obs_report()"
   ]
  },
  {
   "cell_type": "markdown",
   "id": "13",
   "metadata": {},
   "source": [
    "## Summary plots of whole night <font style=\"background-color:yellow; color:black; font-size:20px\">DRAFT</font>"
   ]
  },
  {
   "cell_type": "markdown",
   "id": "14",
   "metadata": {},
   "source": [
    "(content not yet defined in storyboard)\n",
    "\n",
    "<font style=\"background-color:#ffff99\">Possible features</font>\n",
    "\n",
    "- plot_observation_gap_detail"
   ]
  },
  {
   "cell_type": "code",
   "execution_count": 9,
   "id": "15",
   "metadata": {},
   "outputs": [],
   "source": [
    "# Plot Observation (Exposure) gaps\n",
    "# rollup,detail = allsrc.get_observation_gaps()\n",
    "# allrep.plot_observation_gap_detail(detail)"
   ]
  },
  {
   "cell_type": "markdown",
   "id": "38",
   "metadata": {},
   "source": [
    "## DDV <font style=\"background-color:green; color:white; font-size:20px\">BETA</font>"
   ]
  },
  {
   "cell_type": "code",
   "execution_count": 10,
   "id": "39",
   "metadata": {},
   "outputs": [
    {
     "data": {
      "text/markdown": [
       "Access DDV part of RubinTV: https://usdf-rsp-dev.slac.stanford.edu/rubintv/ddv/index.html"
      ],
      "text/plain": [
       "<IPython.core.display.Markdown object>"
      ]
     },
     "metadata": {},
     "output_type": "display_data"
    }
   ],
   "source": [
    "DDV = (\n",
    "    f\"{server}/rubintv-dev/ddv/index.html\"\n",
    "    if \"summit\" in server\n",
    "    else f\"{server}/rubintv/ddv/index.html\"\n",
    ")\n",
    "md(f\"Access DDV part of RubinTV: {DDV}\")"
   ]
  },
  {
   "cell_type": "markdown",
   "id": "9d51f937-37e7-45da-87cb-2319fd76a1cc",
   "metadata": {},
   "source": [
    "## Time Accounting <font style=\"background-color:green; color:white; font-size:20px\">BETA</font>\n",
    "TODO:\n",
    "- Time-loss for Fault and Weather  (very rarely in narrativelog/messages)\n",
    "- SlewTime from TMAEvent (or similar)\n",
    "\n",
    "SlewTime (and probably others) from EFD are only EXPECTED (topic=\"lsst.sal.Scheduler.logevent_target\"), not ACTUAL.\n",
    "To get ACTUAL time, we need to use something like \n",
    "[**TMAEvent**](https://github.com/lsst-sitcom/summit_utils/blob/f901ca4943c082500a1f357eb070a4971925c476/python/lsst/summit/utils/tmaUtils.py#L1195) \n",
    "to combine multiple real events into a synthetic event.  See DM-46102.\n"
   ]
  },
  {
   "cell_type": "code",
   "execution_count": 11,
   "id": "16",
   "metadata": {},
   "outputs": [
    {
     "data": {
      "text/html": [
       "<div>\n",
       "<style scoped>\n",
       "    .dataframe tbody tr th:only-of-type {\n",
       "        vertical-align: middle;\n",
       "    }\n",
       "\n",
       "    .dataframe tbody tr th {\n",
       "        vertical-align: top;\n",
       "    }\n",
       "\n",
       "    .dataframe thead th {\n",
       "        text-align: right;\n",
       "    }\n",
       "</style>\n",
       "<table border=\"1\" class=\"dataframe\">\n",
       "  <thead>\n",
       "    <tr style=\"text-align: right;\">\n",
       "      <th></th>\n",
       "      <th></th>\n",
       "    </tr>\n",
       "  </thead>\n",
       "  <tbody>\n",
       "    <tr>\n",
       "      <th>Total night</th>\n",
       "      <td>7:05:44</td>\n",
       "    </tr>\n",
       "    <tr>\n",
       "      <th>Idle time</th>\n",
       "      <td>7:05:44</td>\n",
       "    </tr>\n",
       "  </tbody>\n",
       "</table>\n",
       "</div>"
      ],
      "text/plain": [
       "                    \n",
       "Total night  7:05:44\n",
       "Idle time    7:05:44"
      ]
     },
     "metadata": {},
     "output_type": "display_data"
    }
   ],
   "source": [
    "# Exposure Tally\n",
    "tally = await allsrc.night_tally_observation_gaps()\n",
    "if tally:\n",
    "    display(pd.DataFrame(tally))"
   ]
  },
  {
   "cell_type": "markdown",
   "id": "ad5a2e6c-ca0d-4978-bac9-25c83f90d090",
   "metadata": {},
   "source": [
    "- (1) *Expected* slew time as per Schedular\n",
    "- (2) There is no practical way to get detector read-out time.  A value of 2.3 seconds was inferred from experiments."
   ]
  },
  {
   "cell_type": "markdown",
   "id": "17",
   "metadata": {},
   "source": [
    "## Jira Tickets <font style=\"background-color:green; color:white; font-size:20px\">BETA</font> \n",
    "\n",
    "<font style=\"background-color:#ffff99\">Possible Changes</font>\n",
    "\n",
    "- Observing Operations - OBS\n",
    "- TODO: better tickets using Jira API to get selected fields (which) from tickets"
   ]
  },
  {
   "cell_type": "code",
   "execution_count": 12,
   "id": "18",
   "metadata": {},
   "outputs": [],
   "source": [
    "if allsrc.urls:\n",
    "    for url in allsrc.urls:\n",
    "        md(f\"- {mdpathlink(url)}\")"
   ]
  },
  {
   "cell_type": "code",
   "execution_count": 13,
   "id": "19",
   "metadata": {},
   "outputs": [
    {
     "data": {
      "text/markdown": [
       "No tickets found using: [API Data](https://usdf-rsp-dev.slac.stanford.edu/nightreport/reports?is_human=either&is_valid=true&order_by=-day_obs&offset=0&limit=100&min_day_obs=20241122&max_day_obs=20241123) in `confluence_url`."
      ],
      "text/plain": [
       "<IPython.core.display.Markdown object>"
      ]
     },
     "metadata": {},
     "output_type": "display_data"
    }
   ],
   "source": [
    "# Display Jira BLOCKS\n",
    "front = \"https://rubinobs.atlassian.net/projects/BLOCK?selectedItem=com.atlassian.plugins.atlassian-connect-plugin:com.kanoah.test-manager__main-project-page#!/\"\n",
    "tickets = allsrc.nig_src.nightly_tickets()\n",
    "if tickets:\n",
    "    mdstr = \"#### Nightly Jira BLOCKs\"\n",
    "    for day, url_list in tickets.items():\n",
    "        mdstr += f\"\\n- {day}\"\n",
    "        for ticket_url in url_list:\n",
    "            mdstr += f'\\n    - [{ticket_url.replace(front,\"\")}]({ticket_url})'\n",
    "    md(mdstr)\n",
    "else:\n",
    "    endpoint_url = allsrc.nig_src.status[\"reports\"][\"endpoint_url\"]\n",
    "    md(f\"No tickets found using: [API Data]({endpoint_url}) in `confluence_url`.\")"
   ]
  },
  {
   "cell_type": "markdown",
   "id": "20",
   "metadata": {},
   "source": [
    "## BLOCKS Observed <font style=\"background-color:yellow; color:black; font-size:20px\">DRAFT</font>\n",
    "- TODO: BLOCKS observed"
   ]
  },
  {
   "cell_type": "markdown",
   "id": "71772e8d-658d-497a-b391-5996066f401a",
   "metadata": {},
   "source": [
    "## Data Log <font style=\"background-color:green; color:white; font-size:20px\">BETA</font>"
   ]
  },
  {
   "cell_type": "code",
   "execution_count": 14,
   "id": "1b509665-d538-4bd9-a93c-22c3ec1ded12",
   "metadata": {},
   "outputs": [
    {
     "data": {
      "text/markdown": [
       "**LSSTComCamSim: 0 total exposures**"
      ],
      "text/plain": [
       "<IPython.core.display.Markdown object>"
      ]
     },
     "metadata": {},
     "output_type": "display_data"
    },
    {
     "data": {
      "text/markdown": [
       "**LATISS: 0 total exposures**"
      ],
      "text/plain": [
       "<IPython.core.display.Markdown object>"
      ]
     },
     "metadata": {},
     "output_type": "display_data"
    },
    {
     "data": {
      "text/markdown": [
       "**LSSTComCam: 0 total exposures**"
      ],
      "text/plain": [
       "<IPython.core.display.Markdown object>"
      ]
     },
     "metadata": {},
     "output_type": "display_data"
    },
    {
     "data": {
      "text/markdown": [
       "**LSSTCam: 0 total exposures**"
      ],
      "text/plain": [
       "<IPython.core.display.Markdown object>"
      ]
     },
     "metadata": {},
     "output_type": "display_data"
    }
   ],
   "source": [
    "# Exposure Report\n",
    "for instrum in allsrc.exp_src.exposures.keys():\n",
    "    md(f'**{instrum}: {len(allsrc.exp_src.exposures[instrum])} total exposures**')\n",
    "    df_dict = allsrc.fields_count_exposure(instrum)\n",
    "    for field_name,df in df_dict.items():\n",
    "        if df.empty:\n",
    "            continue\n",
    "        print(field_name.title().replace('_',' '))\n",
    "        display(HTML(df.style.hide().to_html(escape=False)))"
   ]
  },
  {
   "cell_type": "markdown",
   "id": "20820900-05ab-4ca5-8df5-9f725c0ee570",
   "metadata": {},
   "source": [
    "## Narrative Log <font style=\"background-color:green; color:white; font-size:20px\">BETA</font> \n",
    "\n",
    "<font style=\"background-color:#ffff99\">Possible changes</font>\n",
    "\n",
    "- Group messages by hour? Might be great when there many simple messages minutes apart. Less so when tracebacks are included.\n",
    "- Truncate text messages to N chars (ending with \"...\" as link if truncated, link goes to page with full message record including text and all attributes)\n",
    "- Detect some kinds of \"blocks\" and render in smaller text (+ other format changes)"
   ]
  },
  {
   "cell_type": "code",
   "execution_count": 15,
   "id": "26",
   "metadata": {
    "editable": true,
    "slideshow": {
     "slide_type": ""
    },
    "tags": []
   },
   "outputs": [
    {
     "data": {
      "text/markdown": [
       "- **2024-11-22 00:11**   **MainTel** \n",
       "\n",
       "<pre style='color: black; background-color: white; font-size: 1em; margin-left: 0px; '>Raising M1M3 again.</pre>\n"
      ],
      "text/plain": [
       "<IPython.core.display.Markdown object>"
      ]
     },
     "metadata": {},
     "output_type": "display_data"
    },
    {
     "data": {
      "text/markdown": [
       "- **2024-11-22 00:07**   **MainTel** \n",
       "\n",
       "<pre style='color: black; background-color: white; font-size: 1em; margin-left: 0px; '>OSS turning on now</pre>\n"
      ],
      "text/plain": [
       "<IPython.core.display.Markdown object>"
      ]
     },
     "metadata": {},
     "output_type": "display_data"
    },
    {
     "data": {
      "text/markdown": [
       "- **2024-11-22 00:05**   **MainTel** \n",
       "\n",
       "<pre style='color: black; background-color: white; font-size: 1em; margin-left: 0px; '>Wiill try to enable M2. Done. We are in closed loop.</pre>\n"
      ],
      "text/plain": [
       "<IPython.core.display.Markdown object>"
      ]
     },
     "metadata": {},
     "output_type": "display_data"
    }
   ],
   "source": [
    "# Narrative Report\n",
    "# Time Log\n",
    "allrep.nar_rep.time_log_as_markdown()"
   ]
  },
  {
   "cell_type": "markdown",
   "id": "27",
   "metadata": {},
   "source": [
    "-----------\n",
    "------------"
   ]
  },
  {
   "cell_type": "markdown",
   "id": "cd0567ce-4ae9-428e-8f9d-df8277511392",
   "metadata": {},
   "source": [
    "# Developer Only Section <font style=\"background-color:red; olor:black; font-size:20px\">REMOVE</font>\n",
    "Contains stuff only expected to be useful to developers.\n",
    "\n",
    "This may also contain sections that have moved out of the user section because they are no longer defined in the Storyboard."
   ]
  },
  {
   "cell_type": "markdown",
   "id": "34",
   "metadata": {},
   "source": [
    "## Overview \n"
   ]
  },
  {
   "cell_type": "code",
   "execution_count": 16,
   "id": "6e220d29-aac6-4d70-80e2-7dd3ef99944c",
   "metadata": {},
   "outputs": [
    {
     "data": {
      "text/markdown": [
       "## Project-Wide Night(s) Report \n",
       "- Run on logs and databases from **https://usdf-rsp-dev.slac.stanford.edu/**\n",
       "- Report **1 observing night(s)** with the last reported night starting on **2024-11-22 12:00:00**.\n",
       "- min_dayobs='2024-11-22', max_dayobs='2024-11-23'\n",
       "- Using ***Prototype* Logging and Reporting** Version: **52.dev0+g783922c.d20241115**\n",
       "- have_consdb = False\n",
       "- Imported lsst.ts.logging_and_reporting from local packages.\n",
       "- allsrc.nig_src.timeout=(5.05, 20.0)\n"
      ],
      "text/plain": [
       "<IPython.core.display.Markdown object>"
      ]
     },
     "metadata": {},
     "output_type": "display_data"
    }
   ],
   "source": [
    "# Display overview of Report context\n",
    "try:\n",
    "    import lsst.ts.logging_and_reporting.version\n",
    "\n",
    "    lrversion = lsst.ts.logging_and_reporting.version.__version__\n",
    "except:\n",
    "    lrversion = \"LIVE\"\n",
    "\n",
    "try:\n",
    "    from lsst.summit.utils import ConsDbClient\n",
    "\n",
    "    have_consdb = True\n",
    "except:\n",
    "    have_consdb = False\n",
    "md(\n",
    "    f\"\"\"## Project-Wide Night(s) Report \n",
    "- Run on logs and databases from **{server}/**\n",
    "- Report **{days} observing night(s)** with the last reported night starting on **{date}**.\n",
    "- min_dayobs={allsrc.min_dayobs!r}, max_dayobs={allsrc.max_dayobs!r}\n",
    "- Using ***Prototype* Logging and Reporting** Version: **{lrversion}**\n",
    "- {have_consdb = }\n",
    "- {dev_msg}\n",
    "- {allsrc.nig_src.timeout=}\n",
    "\"\"\")"
   ]
  },
  {
   "cell_type": "markdown",
   "id": "47ef40d3-f6d4-4b6a-80bf-55a613d3f884",
   "metadata": {},
   "source": [
    "## Data Status\n",
    "This may be useful for diagnosing reports that give unexpected results."
   ]
  },
  {
   "cell_type": "code",
   "execution_count": 17,
   "id": "b076e98a-44a2-437c-9342-a180fe2cd829",
   "metadata": {},
   "outputs": [
    {
     "data": {
      "text/html": [
       "<table border=\"1\" class=\"dataframe\">\n",
       "  <thead>\n",
       "    <tr style=\"text-align: right;\">\n",
       "      <th>Endpoint</th>\n",
       "      <th>Records</th>\n",
       "      <th>URL</th>\n",
       "    </tr>\n",
       "  </thead>\n",
       "  <tbody>\n",
       "    <tr>\n",
       "      <td>nightreport/reports</td>\n",
       "      <td>0</td>\n",
       "      <td><a href=\"https://usdf-rsp-dev.slac.stanford.edu/nightreport/reports?is_human=either&is_valid=true&order_by=-day_obs&offset=0&limit=100&min_day_obs=20241122&max_day_obs=20241123\" target=\"_blank\">https://usdf-rsp-dev.slac.stanford.edu/nightreport/reports?is_human=either&is_valid=true&order_by=-day_obs&offset=0&limit=100&min_day_obs=20241122&max_day_obs=20241123</a></td>\n",
       "    </tr>\n",
       "    <tr>\n",
       "      <td>exposurelog/instruments</td>\n",
       "      <td>3</td>\n",
       "      <td><a href=\"https://usdf-rsp-dev.slac.stanford.edu/exposurelog/instruments\" target=\"_blank\">https://usdf-rsp-dev.slac.stanford.edu/exposurelog/instruments</a></td>\n",
       "    </tr>\n",
       "    <tr>\n",
       "      <td>exposurelog/exposures.LSSTComCamSim</td>\n",
       "      <td>0</td>\n",
       "      <td><a href=\"https://usdf-rsp-dev.slac.stanford.edu/exposurelog/exposures?registry=1&instrument=LSSTComCamSim&order_by=-timespan_end&offset=0&limit=2500&min_day_obs=20241122&max_day_obs=20241123\" target=\"_blank\">https://usdf-rsp-dev.slac.stanford.edu/exposurelog/exposures?registry=1&instrument=LSSTComCamSim&order_by=-timespan_end&offset=0&limit=2500&min_day_obs=20241122&max_day_obs=20241123</a></td>\n",
       "    </tr>\n",
       "    <tr>\n",
       "      <td>exposurelog/exposures.LATISS</td>\n",
       "      <td>0</td>\n",
       "      <td><a href=\"https://usdf-rsp-dev.slac.stanford.edu/exposurelog/exposures?registry=1&instrument=LATISS&order_by=-timespan_end&offset=0&limit=2500&min_day_obs=20241122&max_day_obs=20241123\" target=\"_blank\">https://usdf-rsp-dev.slac.stanford.edu/exposurelog/exposures?registry=1&instrument=LATISS&order_by=-timespan_end&offset=0&limit=2500&min_day_obs=20241122&max_day_obs=20241123</a></td>\n",
       "    </tr>\n",
       "    <tr>\n",
       "      <td>exposurelog/exposures.LSSTComCam</td>\n",
       "      <td>0</td>\n",
       "      <td><a href=\"https://usdf-rsp-dev.slac.stanford.edu/exposurelog/exposures?registry=1&instrument=LSSTComCam&order_by=-timespan_end&offset=0&limit=2500&min_day_obs=20241122&max_day_obs=20241123\" target=\"_blank\">https://usdf-rsp-dev.slac.stanford.edu/exposurelog/exposures?registry=1&instrument=LSSTComCam&order_by=-timespan_end&offset=0&limit=2500&min_day_obs=20241122&max_day_obs=20241123</a></td>\n",
       "    </tr>\n",
       "    <tr>\n",
       "      <td>exposurelog/exposures.LSSTCam</td>\n",
       "      <td>0</td>\n",
       "      <td><a href=\"https://usdf-rsp-dev.slac.stanford.edu/exposurelog/exposures?registry=1&instrument=LSSTCam&order_by=-timespan_end&offset=0&limit=2500&min_day_obs=20241122&max_day_obs=20241123\" target=\"_blank\">https://usdf-rsp-dev.slac.stanford.edu/exposurelog/exposures?registry=1&instrument=LSSTCam&order_by=-timespan_end&offset=0&limit=2500&min_day_obs=20241122&max_day_obs=20241123</a></td>\n",
       "    </tr>\n",
       "    <tr>\n",
       "      <td>exposurelog/messages</td>\n",
       "      <td>0</td>\n",
       "      <td><a href=\"https://usdf-rsp-dev.slac.stanford.edu/exposurelog/messages?is_human=either&is_valid=true&order_by=-day_obs&offset=0&limit=2500&min_day_obs=20241122&max_day_obs=20241123\" target=\"_blank\">https://usdf-rsp-dev.slac.stanford.edu/exposurelog/messages?is_human=either&is_valid=true&order_by=-day_obs&offset=0&limit=2500&min_day_obs=20241122&max_day_obs=20241123</a></td>\n",
       "    </tr>\n",
       "    <tr>\n",
       "      <td>narrativelog/messages</td>\n",
       "      <td>3</td>\n",
       "      <td><a href=\"https://usdf-rsp-dev.slac.stanford.edu/narrativelog/messages?is_human=either&is_valid=true&order_by=-date_added&offset=0&limit=1000&min_date_added=2024-11-22T00%3A00%3A00&max_date_added=2024-11-23T00%3A00%3A00\" target=\"_blank\">https://usdf-rsp-dev.slac.stanford.edu/narrativelog/messages?is_human=either&is_valid=true&order_by=-date_added&offset=0&limit=1000&min_date_added=2024-11-22T00%3A00%3A00&max_date_added=2024-11-23T00%3A00%3A00</a></td>\n",
       "    </tr>\n",
       "    <tr>\n",
       "      <td>efd/targets</td>\n",
       "      <td>0</td>\n",
       "      <td>NA</td>\n",
       "    </tr>\n",
       "  </tbody>\n",
       "</table>"
      ],
      "text/plain": [
       "<IPython.core.display.HTML object>"
      ]
     },
     "metadata": {},
     "output_type": "display_data"
    }
   ],
   "source": [
    "df = pd.DataFrame(allsrc.get_data_status())\n",
    "table = df.to_html(\n",
    "    index=False, \n",
    "    render_links=True,\n",
    "    escape=False)\n",
    "display(HTML(table))"
   ]
  },
  {
   "cell_type": "markdown",
   "id": "37",
   "metadata": {},
   "source": [
    "## This report uses the following data sources\n",
    "- NightReport\n",
    "- Exposurelog\n",
    "- Narrativelog\n",
    "- EFD\n",
    "- ConsDB\n",
    "- (DDV)\n",
    "- (Almanac from Astroplan)"
   ]
  },
  {
   "cell_type": "markdown",
   "id": "40",
   "metadata": {},
   "source": [
    "## Where was this run?\n",
    "\n",
    "The environments that have everything needed to run this page are:\n",
    "\n",
    "    https://summit-lsp.lsst.codes\n",
    "    https://usdf-rsp-dev.slac.stanford.edu\n",
    "\n",
    "However, Times Square does not run on the Summit. It does run on USDF-dev.\n"
   ]
  },
  {
   "cell_type": "markdown",
   "id": "41",
   "metadata": {},
   "source": [
    "## Section overviews moved here"
   ]
  },
  {
   "cell_type": "code",
   "execution_count": 18,
   "id": "42",
   "metadata": {},
   "outputs": [
    {
     "data": {
      "text/markdown": [
       "### Overview for Service: `nightreport` [0]"
      ],
      "text/plain": [
       "<IPython.core.display.Markdown object>"
      ]
     },
     "metadata": {},
     "output_type": "display_data"
    },
    {
     "name": "stdout",
     "output_type": "stream",
     "text": [
      "None\n"
     ]
    },
    {
     "data": {
      "text/markdown": [
       "- Endpoint: https://usdf-rsp-dev.slac.stanford.edu/nightreport/reports?is_human=either&is_valid=true&order_by=-day_obs&offset=0&limit=100&min_day_obs=20241122&max_day_obs=20241123"
      ],
      "text/plain": [
       "<IPython.core.display.Markdown object>"
      ]
     },
     "metadata": {},
     "output_type": "display_data"
    },
    {
     "name": "stdout",
     "output_type": "stream",
     "text": [
      "None\n",
      "- Got 0 records.  \n"
     ]
    },
    {
     "data": {
      "text/markdown": [
       "### Overview for Service: `exposurelog` [0]"
      ],
      "text/plain": [
       "<IPython.core.display.Markdown object>"
      ]
     },
     "metadata": {},
     "output_type": "display_data"
    },
    {
     "name": "stdout",
     "output_type": "stream",
     "text": [
      "None\n"
     ]
    },
    {
     "data": {
      "text/markdown": [
       "- Endpoint: https://usdf-rsp-dev.slac.stanford.edu/exposurelog/messages?is_human=either&is_valid=true&order_by=-day_obs&offset=0&limit=2500&min_day_obs=20241122&max_day_obs=20241123"
      ],
      "text/plain": [
       "<IPython.core.display.Markdown object>"
      ]
     },
     "metadata": {},
     "output_type": "display_data"
    },
    {
     "name": "stdout",
     "output_type": "stream",
     "text": [
      "None\n",
      "- Got 0 records.  \n"
     ]
    },
    {
     "data": {
      "text/markdown": [
       "### Overview for Service: `narrativelog` [3]"
      ],
      "text/plain": [
       "<IPython.core.display.Markdown object>"
      ]
     },
     "metadata": {},
     "output_type": "display_data"
    },
    {
     "name": "stdout",
     "output_type": "stream",
     "text": [
      "None\n"
     ]
    },
    {
     "data": {
      "text/markdown": [
       "- Endpoint: https://usdf-rsp-dev.slac.stanford.edu/narrativelog/messages?is_human=either&is_valid=true&order_by=-date_added&offset=0&limit=1000&min_date_added=2024-11-22T00%3A00%3A00&max_date_added=2024-11-23T00%3A00%3A00"
      ],
      "text/plain": [
       "<IPython.core.display.Markdown object>"
      ]
     },
     "metadata": {},
     "output_type": "display_data"
    },
    {
     "name": "stdout",
     "output_type": "stream",
     "text": [
      "None\n",
      "- Got 3 records.  \n"
     ]
    }
   ],
   "source": [
    "# Night Report Overview\n",
    "allrep.nig_rep.overview()\n",
    "# Exposure Report Overview\n",
    "allrep.exp_rep.overview()\n",
    "# Narrative Report Overview\n",
    "allrep.nar_rep.overview()"
   ]
  },
  {
   "cell_type": "code",
   "execution_count": 19,
   "id": "43",
   "metadata": {},
   "outputs": [],
   "source": [
    "# Conditionally display our current ability to connect to all needed endpoints.\n",
    "if False and not os.environ.get(\"EXTERNAL_INSTANCE_URL\"):\n",
    "    md(\"## Dashboard\")\n",
    "    md(\"(This is not done when running under Times Square.)\")\n",
    "    %run ./dashboard.ipynb"
   ]
  },
  {
   "cell_type": "code",
   "execution_count": 20,
   "id": "24",
   "metadata": {},
   "outputs": [],
   "source": [
    "# Time Log\n",
    "#! allrep.exp_rep.time_log_as_markdown()"
   ]
  },
  {
   "cell_type": "markdown",
   "id": "44",
   "metadata": {},
   "source": [
    "## Finale"
   ]
  },
  {
   "cell_type": "code",
   "execution_count": 21,
   "id": "45",
   "metadata": {},
   "outputs": [
    {
     "name": "stdout",
     "output_type": "stream",
     "text": [
      "Elapsed time (excluding code import): 3.9 seconds\n",
      "Finished 2024-11-22 00:16:09 UTC\n"
     ]
    }
   ],
   "source": [
    "print(f'Elapsed time (excluding code import): {timer.toc:.1f} seconds')\n",
    "print(f\"Finished {str(dt.datetime.now().replace(microsecond=0))} UTC\")"
   ]
  }
 ],
 "metadata": {
  "kernelspec": {
   "display_name": "Python 3 (ipykernel)",
   "language": "python",
   "name": "python3"
  },
  "language_info": {
   "codemirror_mode": {
    "name": "ipython",
    "version": 3
   },
   "file_extension": ".py",
   "mimetype": "text/x-python",
   "name": "python",
   "nbconvert_exporter": "python",
   "pygments_lexer": "ipython3",
   "version": "3.11.10"
  }
 },
 "nbformat": 4,
 "nbformat_minor": 5
}
