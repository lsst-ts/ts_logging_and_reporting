{
 "cells": [
  {
   "cell_type": "markdown",
   "id": "0",
   "metadata": {},
   "source": [
    "# Initialize\n",
    "This section is a developer aid; TODO remove later!\n",
    "*Align with [storyboard Version 37](https://rubinobs.atlassian.net/wiki/pages/viewpage.action?pageId=132612364&pageVersion=37)*\n",
    "\n",
    "If you are using this under Time Square and *get any errors* that you think come from this notebook, please tell Steve Pothier (steve.pothier@noirlab.edu).  Include the URL you used to get the error. "
   ]
  },
  {
   "cell_type": "code",
   "execution_count": 1,
   "id": "1",
   "metadata": {},
   "outputs": [],
   "source": [
    "# Parameters.\n",
    "# Times Square replaces this cell with the user's parameters.\n",
    "# So, don't put anything else here!\n",
    "\n",
    "# day_obs values: TODAY, YESTERDAY, YYYY-MM-DD\n",
    "# Report on observing nights that start upto but not included this day.\n",
    "#!day_obs = '2024-09-25' # Value to use for local testing (Summit)\n",
    "day_obs = \"YESTERDAY\"  # TODO Change to 'YESTERDAY' to test with default before push\n",
    "\n",
    "# Total number of days of data to display (ending on day_obs)\n",
    "number_of_days = \"1\"  # TODO Change to '1' to test with default before push"
   ]
  },
  {
   "cell_type": "code",
   "execution_count": 2,
   "id": "2",
   "metadata": {},
   "outputs": [],
   "source": [
    "import datetime as dt\n",
    "import os\n",
    "from collections import defaultdict\n",
    "from pprint import pformat, pp\n",
    "from urllib.parse import urlencode, urlparse\n",
    "import pandas as pd\n",
    "from IPython.display import HTML\n",
    "\n",
    "# When running under Times Square, install pkg from github.\n",
    "# Otherwise use what is installed locally (intended to be dev editiable pkg)\n",
    "if os.environ.get(\"EXTERNAL_INSTANCE_URL\"):\n",
    "    dev_msg = (\n",
    "        'Installing \"lsst.ts.logging_and_reporting\" from github using \"prototype\" branch. \\n'\n",
    "        'TODO: Make the need for this go away by getting Logging_and_Reporting installed in RSP.'\n",
    "    )\n",
    "    !pip install --upgrade git+https://github.com/lsst-ts/ts_logging_and_reporting.git@prototype > /dev/null 2>&1\n",
    "else:\n",
    "    dev_msg = 'Imported lsst.ts.logging_and_reporting from local packages.'\n",
    "from lsst.ts.logging_and_reporting.all_sources import AllSources\n",
    "from lsst.ts.logging_and_reporting.all_reports import AllReports\n",
    "import lsst.ts.logging_and_reporting.utils as ut\n",
    "from lsst.ts.logging_and_reporting.reports import md, mdlist, mdpathlink\n",
    "from lsst.ts.logging_and_reporting.reports import html_draft, html_beta"
   ]
  },
  {
   "cell_type": "code",
   "execution_count": 3,
   "id": "4",
   "metadata": {},
   "outputs": [],
   "source": [
    "# Set default env to \"usdf\" and try before PUSH to repo.\n",
    "# The default provided here is for local testing. Under Times Square it is ignored.\n",
    "server = os.environ.get(\n",
    "    \"EXTERNAL_INSTANCE_URL\", ut.Server.usdf) # TODO try with \"usdf\" before push (else \"summit\")"
   ]
  },
  {
   "cell_type": "code",
   "execution_count": 4,
   "id": "3",
   "metadata": {},
   "outputs": [],
   "source": [
    "# Normalize Parameters (both explicit Times Squares params, in implicit ones)\n",
    "limit = 5000  # YAGNI for Auto get more if this isn't enough to get all requested DAYS\n",
    "response_timeout = 3.05  # seconds, how long to wait for connection\n",
    "read_timeout = 20  # seconds\n",
    "timeout = (float(response_timeout), float(read_timeout))\n",
    "\n",
    "date = ut.get_datetime_from_dayobs_str(day_obs)\n",
    "# date:  is EXCLUSIVE (upto, but not including)\n",
    "days = int(number_of_days)\n",
    "\n",
    "# Thus: [min_day_obs,max_day_obs)\n",
    "# Format: string, YYYY-MM-DD\n",
    "min_date = date - dt.timedelta(days=days - 1)\n",
    "max_date = date + dt.timedelta(days=1)\n",
    "min_day_obs = min_date.strftime(\"%Y-%m-%d\")  # Inclusive\n",
    "max_day_obs = max_date.strftime(\"%Y-%m-%d\")  # prep for Exclusive\n",
    "\n",
    "# Experimental Features config\n",
    "exp_tally = \"true\"  # default: true\n",
    "exp_parsing = \"true\"  # default: true\n",
    "experimental = dict()\n",
    "experimental[\"exposure_type_tally\"] = exp_tally == \"true\"\n",
    "experimental[\"error_parsing\"] = exp_parsing == \"true\""
   ]
  },
  {
   "cell_type": "code",
   "execution_count": 5,
   "id": "5",
   "metadata": {},
   "outputs": [],
   "source": [
    "# Read records from (almost) all sources\n",
    "allsrc = AllSources(\n",
    "    server_url=server,\n",
    "    min_dayobs=min_day_obs,\n",
    "    max_dayobs=max_day_obs,\n",
    "    verbose=False,                # TODO change to False before push\n",
    "    limit=limit,\n",
    ")\n",
    "allrep = AllReports(allsrc=allsrc)"
   ]
  },
  {
   "cell_type": "code",
   "execution_count": 6,
   "id": "7",
   "metadata": {},
   "outputs": [
    {
     "data": {
      "text/markdown": [
       "# Showing data for 2024-11-03 to 2024-11-04 for LSSTComCamSim, LATISS, LSSTComCam, LSSTCam"
      ],
      "text/plain": [
       "<IPython.core.display.Markdown object>"
      ]
     },
     "metadata": {},
     "output_type": "display_data"
    }
   ],
   "source": [
    "instrum_str = \", \".join(list(allsrc.exp_src.instruments.keys()))\n",
    "md(f\"# Showing data for {min_date.date()} to {max_date.date()} for {instrum_str}\")"
   ]
  },
  {
   "cell_type": "markdown",
   "id": "8",
   "metadata": {},
   "source": [
    "# Table of Contents\n",
    "* [Night Report](#Night-Report)\n",
    "    - AuxTel\n",
    "    - Simonyi\n",
    "* [Almanac](#Almanac)\n",
    "* [Summary plots of whole night](#Summary-plots-of-whole-night)\n",
    "* [Time Accounting](#Time-Accounting)\n",
    "* [Jira Tickets](#Jira-Tickets)\n",
    "    - AuxTel\n",
    "    - Simonyi\n",
    "* [BLOCKS Observed](#BLOCKS-Observed)\n",
    "    - AuxTel\n",
    "    - Simonyi\n",
    "* [Data Log](#Data-Log)\n",
    "* [Narrative Log](#Narrative-Log)\n",
    "* [Developer Only Section](#Developer-Only-Section)"
   ]
  },
  {
   "cell_type": "markdown",
   "id": "86ff253e-f575-4b9b-96f9-698d3faf9494",
   "metadata": {},
   "source": [
    "## Night log (summary) <font style=\"background-color:green; color:white; font-size:20px\">BETA</font> "
   ]
  },
  {
   "cell_type": "code",
   "execution_count": 7,
   "id": "10",
   "metadata": {},
   "outputs": [
    {
     "data": {
      "text/markdown": [
       "### Telescope: AuxTel"
      ],
      "text/plain": [
       "<IPython.core.display.Markdown object>"
      ]
     },
     "metadata": {},
     "output_type": "display_data"
    },
    {
     "data": {
      "text/markdown": [
       "```\n",
       "We had a bumpy start to the beginning of the observation day. During the bump tests, FA 235 failed several times, but we got confirmation that it was safe to raise the mirror. We had repeating issues with the MTHexapod today during its warmup. It failed several times, so we skipped the procedure - see OBS-620. We decided to reset the PXI for the M2 hexapod, and managed to initiate compensation mode. The TMA had some buggy behaviors as well. We tried to save some sky time and slew the TMA to the south well before sunset. Due to soft motion axis faults, and some weird but faultless behaviors (see details in the narrative log), it took around two hours to get the TMA into position. We went to dinner, came back, and prepared to open by sunset.\n",
       "\n",
       "In addition to that afternoon fun, the ambient temperature went nuts starting around 2 hours before sunset, plummeting and rising again on a crazy roller coaster. 🎢 We opened just after sunset, fooled into thinking it had stabilized, and the M1M3 temperature dropped at an alarming rate of about 0.4 C per 15 minutes. We closed quickly, and turned on the HVAC systems to a 6 degree set point to try and keep M1M3 closer to ambient. Humidity began creeping up around 9:30 - reaching around 70%. We remained closed and continued in dome testing.\n",
       "\n",
       "As the weather changed frequently, we opened the dome in steps to slowly thermalize the mirror while running the LUT. We decided to fully open around midnight and began on-sky testing. \n",
       "\n",
       "AOS night Summary:\n",
       "\n",
       "Due to weather and temperature, we weren’t able to fully open the dome until ~00:30 local time. We used the time before this to perform T222 - Elevation LUT with closed dome.  Then we started T88 Laser Alignment to determine a good starting point. Using this starting point we started T92 to step though varying the M2 hexapod and camera hexapod dz positions to refine the focus.  First we moved the two hexapod shifts in the same direction and then had them move in different directions.  We found while doing this that we couldn’t return to the position we found in focus.  We determined this was due to the fact that we were not giving uncompensated positions.  We were using the compensated values and effectively applying them twice.  We built a new dashboard with uncompensated positions and then asked to go back to the uncompensated position via a run_command. It worked!  This explains why were weren’t able to reproduce values on previous nights.\n",
       "\n",
       "With this information we once again tried the parameter march with the two hexapods moving in opposite directions.  We weren’t able to finish in time, and tried T202 which attempted to record the state of the system with the laser tracker.  We started the script and soon realized the system was not in focus. We stopped the script, but in fact the process did not end, and the laser tracker task completed and moved from a M1M3 SMR finally stopping at a Camera SMR.  When we next took an image to check focus, the extra light from the laser on the camera SMR tripped the voltage levels on the ComCom REBs, causing the ComCam to go into fault.  Brian Stalder remotely recovered the ComCam and we finished our tests due to the required closing time.\n",
       "```"
      ],
      "text/plain": [
       "<IPython.core.display.Markdown object>"
      ]
     },
     "metadata": {},
     "output_type": "display_data"
    },
    {
     "data": {
      "text/markdown": [
       "Confluence page: [testCycle/BLOCK-R126](https://rubinobs.atlassian.net/projects/BLOCK?selectedItem=com.atlassian.plugins.atlassian-connect-plugin:com.kanoah.test-manager__main-project-page#!/testCycle/BLOCK-R126)"
      ],
      "text/plain": [
       "<IPython.core.display.Markdown object>"
      ]
     },
     "metadata": {},
     "output_type": "display_data"
    },
    {
     "data": {
      "text/markdown": [
       "Telescope Status: "
      ],
      "text/plain": [
       "<IPython.core.display.Markdown object>"
      ]
     },
     "metadata": {},
     "output_type": "display_data"
    },
    {
     "data": {
      "text/markdown": [
       "*Authors: David Sanmartim, Alysha Shugart, Guillem Megias Homar, Chris Walter, Carlos Morales*"
      ],
      "text/plain": [
       "<IPython.core.display.Markdown object>"
      ]
     },
     "metadata": {},
     "output_type": "display_data"
    },
    {
     "data": {
      "text/markdown": [
       "### Telescope: Simonyi"
      ],
      "text/plain": [
       "<IPython.core.display.Markdown object>"
      ]
     },
     "metadata": {},
     "output_type": "display_data"
    },
    {
     "data": {
      "text/markdown": [
       "```\n",
       "We had a bumpy start to the beginning of the observation day. During the bump tests, FA 235 failed several times, but we got confirmation that it was safe to raise the mirror. We had repeating issues with the MTHexapod today during its warmup. It failed several times, so we skipped the procedure - see OBS-620. We decided to reset the PXI for the M2 hexapod, and managed to initiate compensation mode. The TMA had some buggy behaviors as well. We tried to save some sky time and slew the TMA to the south well before sunset. Due to soft motion axis faults, and some weird but faultless behaviors (see details in the narrative log), it took around two hours to get the TMA into position. We went to dinner, came back, and prepared to open by sunset.\n",
       "\n",
       "In addition to that afternoon fun, the ambient temperature went nuts starting around 2 hours before sunset, plummeting and rising again on a crazy roller coaster. 🎢 We opened just after sunset, fooled into thinking it had stabilized, and the M1M3 temperature dropped at an alarming rate of about 0.4 C per 15 minutes. We closed quickly, and turned on the HVAC systems to a 6 degree set point to try and keep M1M3 closer to ambient. Humidity began creeping up around 9:30 - reaching around 70%. We remained closed and continued in dome testing.\n",
       "\n",
       "As the weather changed frequently, we opened the dome in steps to slowly thermalize the mirror while running the LUT. We decided to fully open around midnight and began on-sky testing. \n",
       "\n",
       "AOS night Summary:\n",
       "\n",
       "Due to weather and temperature, we weren’t able to fully open the dome until ~00:30 local time. We used the time before this to perform T222 - Elevation LUT with closed dome.  Then we started T88 Laser Alignment to determine a good starting point. Using this starting point we started T92 to step though varying the M2 hexapod and camera hexapod dz positions to refine the focus.  First we moved the two hexapod shifts in the same direction and then had them move in different directions.  We found while doing this that we couldn’t return to the position we found in focus.  We determined this was due to the fact that we were not giving uncompensated positions.  We were using the compensated values and effectively applying them twice.  We built a new dashboard with uncompensated positions and then asked to go back to the uncompensated position via a run_command. It worked!  This explains why were weren’t able to reproduce values on previous nights.\n",
       "\n",
       "With this information we once again tried the parameter march with the two hexapods moving in opposite directions.  We weren’t able to finish in time, and tried T202 which attempted to record the state of the system with the laser tracker.  We started the script and soon realized the system was not in focus. We stopped the script, but in fact the process did not end, and the laser tracker task completed and moved from a M1M3 SMR finally stopping at a Camera SMR.  When we next took an image to check focus, the extra light from the laser on the camera SMR tripped the voltage levels on the ComCom REBs, causing the ComCam to go into fault.  Brian Stalder remotely recovered the ComCam and we finished our tests due to the required closing time.\n",
       "\n",
       "We have some issues to close the night, we can not send the MT Mount to enable again, the rotator was leave it in 23.2 position and off, we try the locking pins of TMA, but not insert complete so we move the TMA down en Elevation ~ 86 and the came back to 90 to try again, but we get an error when was parked at 90 degrees \"Elevation Positive power off limit switch (TMA-EL-IS-CPD-0005) [sdiLIMELPOS]\"\n",
       "```"
      ],
      "text/plain": [
       "<IPython.core.display.Markdown object>"
      ]
     },
     "metadata": {},
     "output_type": "display_data"
    },
    {
     "data": {
      "text/markdown": [
       "Telescope Status: MTM1M3 DISABLED - lowered\n",
       "MTM2 ENABLED in closed loop\n",
       "MTAOS STANDBY\n",
       "MTDome DISABLED\n",
       "MTDomeTrajectory STANDBY\n",
       "MTMount DISABLED\n",
       "MTHexapods in STANDBY w/ cabinets and PXIs powered off\n",
       "MTPtg ENABLED\n",
       "MTRotator at 23º, in STANDBY w/ cabinets and PXIs powered off\n",
       "OSS ON\n",
       "Power Supply ON\n",
       "Locking Pins in TEST position\n",
       "TMA position AZ= -32 EL=90.2"
      ],
      "text/plain": [
       "<IPython.core.display.Markdown object>"
      ]
     },
     "metadata": {},
     "output_type": "display_data"
    },
    {
     "data": {
      "text/markdown": [
       "*Authors: David Sanmartim, Alysha Shugart, Guillem Megias Homar, Chris Walter, Carlos Morales*"
      ],
      "text/plain": [
       "<IPython.core.display.Markdown object>"
      ]
     },
     "metadata": {},
     "output_type": "display_data"
    }
   ],
   "source": [
    "# Night Report\n",
    "# Display time log\n",
    "allrep.nig_rep.time_log_as_markdown()"
   ]
  },
  {
   "cell_type": "markdown",
   "id": "51fad717-7160-4da9-bdeb-696c92f33c19",
   "metadata": {},
   "source": [
    "## Almanac <font style=\"background-color:green; color:white; font-size:20px\">BETA</font> "
   ]
  },
  {
   "cell_type": "code",
   "execution_count": 8,
   "id": "12",
   "metadata": {
    "jupyter": {
     "source_hidden": true
    }
   },
   "outputs": [
    {
     "data": {
      "text/markdown": [
       "**Almanac for the observing night starting 2024-11-03**"
      ],
      "text/plain": [
       "<IPython.core.display.Markdown object>"
      ]
     },
     "metadata": {},
     "output_type": "display_data"
    },
    {
     "data": {
      "text/html": [
       "<style type=\"text/css\">\n",
       "</style>\n",
       "<table id=\"T_a484a\">\n",
       "  <thead>\n",
       "  </thead>\n",
       "  <tbody>\n",
       "    <tr>\n",
       "      <th id=\"T_a484a_level0_row0\" class=\"row_heading level0 row0\" ></th>\n",
       "      <td id=\"T_a484a_row0_col0\" class=\"data row0 col0\" >(times in UTC)</td>\n",
       "      <td id=\"T_a484a_row0_col1\" class=\"data row0 col1\" ></td>\n",
       "    </tr>\n",
       "    <tr>\n",
       "      <th id=\"T_a484a_level0_row1\" class=\"row_heading level0 row1\" >Moon Rise</th>\n",
       "      <td id=\"T_a484a_row1_col0\" class=\"data row1 col0\" >2024-11-03 10:51:23.690</td>\n",
       "      <td id=\"T_a484a_row1_col1\" class=\"data row1 col1\" ></td>\n",
       "    </tr>\n",
       "    <tr>\n",
       "      <th id=\"T_a484a_level0_row2\" class=\"row_heading level0 row2\" >Moon Set</th>\n",
       "      <td id=\"T_a484a_row2_col0\" class=\"data row2 col0\" >2024-11-03 00:22:54.999</td>\n",
       "      <td id=\"T_a484a_row2_col1\" class=\"data row2 col1\" ></td>\n",
       "    </tr>\n",
       "    <tr>\n",
       "      <th id=\"T_a484a_level0_row3\" class=\"row_heading level0 row3\" >Moon Illumination</th>\n",
       "      <td id=\"T_a484a_row3_col0\" class=\"data row3 col0\" >3%</td>\n",
       "      <td id=\"T_a484a_row3_col1\" class=\"data row3 col1\" >(% illuminated)</td>\n",
       "    </tr>\n",
       "    <tr>\n",
       "      <th id=\"T_a484a_level0_row4\" class=\"row_heading level0 row4\" >Astronomical Twilight (morning)</th>\n",
       "      <td id=\"T_a484a_row4_col0\" class=\"data row4 col0\" >2024-11-03 08:18:35.948</td>\n",
       "      <td id=\"T_a484a_row4_col1\" class=\"data row4 col1\" >(-18 degrees)</td>\n",
       "    </tr>\n",
       "    <tr>\n",
       "      <th id=\"T_a484a_level0_row5\" class=\"row_heading level0 row5\" >Astronomical Twilight (evening)</th>\n",
       "      <td id=\"T_a484a_row5_col0\" class=\"data row5 col0\" >2024-11-03 00:34:08.748</td>\n",
       "      <td id=\"T_a484a_row5_col1\" class=\"data row5 col1\" >(-18 degrees)</td>\n",
       "    </tr>\n",
       "    <tr>\n",
       "      <th id=\"T_a484a_level0_row6\" class=\"row_heading level0 row6\" >Solar Midnight</th>\n",
       "      <td id=\"T_a484a_row6_col0\" class=\"data row6 col0\" >2024-11-03 04:26:22.503</td>\n",
       "      <td id=\"T_a484a_row6_col1\" class=\"data row6 col1\" ></td>\n",
       "    </tr>\n",
       "    <tr>\n",
       "      <th id=\"T_a484a_level0_row7\" class=\"row_heading level0 row7\" >Nautical Twilight (morning)</th>\n",
       "      <td id=\"T_a484a_row7_col0\" class=\"data row7 col0\" >2024-11-03 08:50:05.735</td>\n",
       "      <td id=\"T_a484a_row7_col1\" class=\"data row7 col1\" >(-12 degrees)</td>\n",
       "    </tr>\n",
       "    <tr>\n",
       "      <th id=\"T_a484a_level0_row8\" class=\"row_heading level0 row8\" >Nautical Twilight (evening)</th>\n",
       "      <td id=\"T_a484a_row8_col0\" class=\"data row8 col0\" >2024-11-03 00:02:38.814</td>\n",
       "      <td id=\"T_a484a_row8_col1\" class=\"data row8 col1\" >(-12 degrees)</td>\n",
       "    </tr>\n",
       "    <tr>\n",
       "      <th id=\"T_a484a_level0_row9\" class=\"row_heading level0 row9\" >Civil Twilight (morning)</th>\n",
       "      <td id=\"T_a484a_row9_col0\" class=\"data row9 col0\" >2024-11-03 09:20:25.007</td>\n",
       "      <td id=\"T_a484a_row9_col1\" class=\"data row9 col1\" >(-6 degrees)</td>\n",
       "    </tr>\n",
       "    <tr>\n",
       "      <th id=\"T_a484a_level0_row10\" class=\"row_heading level0 row10\" >Civil Twilight (evening)</th>\n",
       "      <td id=\"T_a484a_row10_col0\" class=\"data row10 col0\" >2024-11-02 23:32:19.341</td>\n",
       "      <td id=\"T_a484a_row10_col1\" class=\"data row10 col1\" >(-6 degrees)</td>\n",
       "    </tr>\n",
       "    <tr>\n",
       "      <th id=\"T_a484a_level0_row11\" class=\"row_heading level0 row11\" >Sun Rise</th>\n",
       "      <td id=\"T_a484a_row11_col0\" class=\"data row11 col0\" >2024-11-03 09:49:54.372</td>\n",
       "      <td id=\"T_a484a_row11_col1\" class=\"data row11 col1\" ></td>\n",
       "    </tr>\n",
       "    <tr>\n",
       "      <th id=\"T_a484a_level0_row12\" class=\"row_heading level0 row12\" >Sun Set</th>\n",
       "      <td id=\"T_a484a_row12_col0\" class=\"data row12 col0\" >2024-11-02 23:02:49.707</td>\n",
       "      <td id=\"T_a484a_row12_col1\" class=\"data row12 col1\" ></td>\n",
       "    </tr>\n",
       "  </tbody>\n",
       "</table>\n"
      ],
      "text/plain": [
       "<pandas.io.formats.style.Styler at 0x7f30e2d36950>"
      ]
     },
     "metadata": {},
     "output_type": "display_data"
    }
   ],
   "source": [
    "# Display various almanac values (for moon, sun)\n",
    "#!rep.AlmanacReport().day_obs_report(min_day_obs)\n",
    "allrep.alm_rep.day_obs_report()"
   ]
  },
  {
   "cell_type": "markdown",
   "id": "13",
   "metadata": {},
   "source": [
    "## Summary plots of whole night <font style=\"background-color:yellow; color:black; font-size:20px\">DRAFT</font>"
   ]
  },
  {
   "cell_type": "markdown",
   "id": "14",
   "metadata": {},
   "source": [
    "(content not yet defined in storyboard)"
   ]
  },
  {
   "cell_type": "code",
   "execution_count": 9,
   "id": "15",
   "metadata": {},
   "outputs": [],
   "source": [
    "# Plot Observation (Exposure) gaps\n",
    "# rollup,detail = allsrc.get_observation_gaps()\n",
    "# allrep.plot_observation_gap_detail(detail)"
   ]
  },
  {
   "cell_type": "markdown",
   "id": "9d51f937-37e7-45da-87cb-2319fd76a1cc",
   "metadata": {},
   "source": [
    "## Time Accounting <font style=\"background-color:yellow; color:black; font-size:20px\">DRAFT</font>"
   ]
  },
  {
   "cell_type": "code",
   "execution_count": 10,
   "id": "16",
   "metadata": {},
   "outputs": [],
   "source": [
    "# Exposure Tally\n",
    "tally = await allsrc.night_tally_observation_gaps()\n",
    "if tally:\n",
    "    display(pd.DataFrame(tally))"
   ]
  },
  {
   "cell_type": "markdown",
   "id": "17",
   "metadata": {},
   "source": [
    "## Jira Tickets <font style=\"background-color:green; color:white; font-size:20px\">BETA</font> \n",
    "(Observing Operations - OBS)\n",
    "(TODO: better tickets using Jira API)"
   ]
  },
  {
   "cell_type": "code",
   "execution_count": 11,
   "id": "18",
   "metadata": {},
   "outputs": [
    {
     "data": {
      "text/markdown": [
       "- [/rubinobs-lfa-cp/LOVE/OLE/2024/11/03/LOVE_OLE_2024-11-03T21:41:04.106.png](https://s3.cp.lsst.org/rubinobs-lfa-cp/LOVE/OLE/2024/11/03/LOVE_OLE_2024-11-03T21:41:04.106.png)"
      ],
      "text/plain": [
       "<IPython.core.display.Markdown object>"
      ]
     },
     "metadata": {},
     "output_type": "display_data"
    },
    {
     "data": {
      "text/markdown": [
       "- [OBS-627](https://rubinobs.atlassian.net/browse/OBS-627)"
      ],
      "text/plain": [
       "<IPython.core.display.Markdown object>"
      ]
     },
     "metadata": {},
     "output_type": "display_data"
    },
    {
     "data": {
      "text/markdown": [
       "- [OBS-620](https://rubinobs.atlassian.net/browse/OBS-620)"
      ],
      "text/plain": [
       "<IPython.core.display.Markdown object>"
      ]
     },
     "metadata": {},
     "output_type": "display_data"
    },
    {
     "data": {
      "text/markdown": [
       "- [OBS-641](https://rubinobs.atlassian.net/browse/OBS-641)"
      ],
      "text/plain": [
       "<IPython.core.display.Markdown object>"
      ]
     },
     "metadata": {},
     "output_type": "display_data"
    }
   ],
   "source": [
    "if allsrc.urls:\n",
    "    for url in allsrc.urls:\n",
    "        md(f\"- {mdpathlink(url)}\")"
   ]
  },
  {
   "cell_type": "code",
   "execution_count": 12,
   "id": "19",
   "metadata": {
    "jupyter": {
     "source_hidden": true
    }
   },
   "outputs": [
    {
     "data": {
      "text/markdown": [
       "#### Nightly Jira BLOCKs\n",
       "- 20241103\n",
       "    - [testCycle/BLOCK-R126](https://rubinobs.atlassian.net/projects/BLOCK?selectedItem=com.atlassian.plugins.atlassian-connect-plugin:com.kanoah.test-manager__main-project-page#!/testCycle/BLOCK-R126)"
      ],
      "text/plain": [
       "<IPython.core.display.Markdown object>"
      ]
     },
     "metadata": {},
     "output_type": "display_data"
    }
   ],
   "source": [
    "# Display Jira BLOCKS\n",
    "front = \"https://rubinobs.atlassian.net/projects/BLOCK?selectedItem=com.atlassian.plugins.atlassian-connect-plugin:com.kanoah.test-manager__main-project-page#!/\"\n",
    "tickets = allsrc.nig_src.nightly_tickets()\n",
    "if tickets:\n",
    "    mdstr = \"#### Nightly Jira BLOCKs\"\n",
    "    for day, url_list in tickets.items():\n",
    "        mdstr += f\"\\n- {day}\"\n",
    "        for ticket_url in url_list:\n",
    "            mdstr += f'\\n    - [{ticket_url.replace(front,\"\")}]({ticket_url})'\n",
    "    md(mdstr)\n",
    "else:\n",
    "    endpoint_url = allsrc.nig_src.status[\"reports\"][\"endpoint_url\"]\n",
    "    md(f\"No tickets found using: [API Data]({endpoint_url}) in `confluence_url`.\")"
   ]
  },
  {
   "cell_type": "markdown",
   "id": "20",
   "metadata": {},
   "source": [
    "## BLOCKS Observed <font style=\"background-color:yellow; color:black; font-size:20px\">DRAFT</font>\n",
    "(TODO: BLOCKS observed) "
   ]
  },
  {
   "cell_type": "markdown",
   "id": "71772e8d-658d-497a-b391-5996066f401a",
   "metadata": {},
   "source": [
    "## Data Log <font style=\"background-color:yellow; color:black; font-size:20px\">DRAFT</font>"
   ]
  },
  {
   "cell_type": "markdown",
   "id": "21",
   "metadata": {},
   "source": [
    "NOTE: *modified all_sources.py:uniform_field_counts()*\n",
    "NOTE: Each tally count is now a link to a detailed table of exposures."
   ]
  },
  {
   "cell_type": "code",
   "execution_count": 13,
   "id": "22",
   "metadata": {},
   "outputs": [
    {
     "data": {
      "text/markdown": [
       "Tally exposures with specific values of selected fields"
      ],
      "text/plain": [
       "<IPython.core.display.Markdown object>"
      ]
     },
     "metadata": {},
     "output_type": "display_data"
    },
    {
     "data": {
      "text/markdown": [
       "**LSSTComCamSim: 0 total exposures**"
      ],
      "text/plain": [
       "<IPython.core.display.Markdown object>"
      ]
     },
     "metadata": {},
     "output_type": "display_data"
    },
    {
     "data": {
      "text/markdown": [
       "**LATISS: 0 total exposures**"
      ],
      "text/plain": [
       "<IPython.core.display.Markdown object>"
      ]
     },
     "metadata": {},
     "output_type": "display_data"
    },
    {
     "data": {
      "text/markdown": [
       "**LSSTComCam: 116 total exposures**"
      ],
      "text/plain": [
       "<IPython.core.display.Markdown object>"
      ]
     },
     "metadata": {},
     "output_type": "display_data"
    },
    {
     "data": {
      "text/markdown": [
       "observation_reason"
      ],
      "text/plain": [
       "<IPython.core.display.Markdown object>"
      ]
     },
     "metadata": {},
     "output_type": "display_data"
    },
    {
     "data": {
      "text/html": [
       "<table border=\"1\" class=\"dataframe\">\n",
       "  <thead>\n",
       "    <tr style=\"text-align: right;\">\n",
       "      <th></th>\n",
       "      <th>bias</th>\n",
       "      <th>acq</th>\n",
       "      <th>infocus</th>\n",
       "      <th>extra</th>\n",
       "      <th>intra</th>\n",
       "      <th>extra alignment with laser</th>\n",
       "      <th>intra alignment with laser</th>\n",
       "      <th>infocus alignment with laser</th>\n",
       "      <th>extra reference wavefront</th>\n",
       "      <th>intra reference wavefront</th>\n",
       "      <th>infocus reference wavefront</th>\n",
       "      <th>comcam-usdf-checkout</th>\n",
       "    </tr>\n",
       "  </thead>\n",
       "  <tbody>\n",
       "    <tr>\n",
       "      <th>0</th>\n",
       "      <td><a href=https://usdf-rsp-dev.slac.stanford.edu/times-square/github/lsst-ts/ts_logging_and_reporting/ExposureDetail?day_obs=2024-11-03&number_of_days=1&instrument=LSSTComCam&observation_reason=bias>1</a></td>\n",
       "      <td><a href=https://usdf-rsp-dev.slac.stanford.edu/times-square/github/lsst-ts/ts_logging_and_reporting/ExposureDetail?day_obs=2024-11-03&number_of_days=1&instrument=LSSTComCam&observation_reason=acq>4</a></td>\n",
       "      <td><a href=https://usdf-rsp-dev.slac.stanford.edu/times-square/github/lsst-ts/ts_logging_and_reporting/ExposureDetail?day_obs=2024-11-03&number_of_days=1&instrument=LSSTComCam&observation_reason=infocus>5</a></td>\n",
       "      <td><a href=https://usdf-rsp-dev.slac.stanford.edu/times-square/github/lsst-ts/ts_logging_and_reporting/ExposureDetail?day_obs=2024-11-03&number_of_days=1&instrument=LSSTComCam&observation_reason=extra>5</a></td>\n",
       "      <td><a href=https://usdf-rsp-dev.slac.stanford.edu/times-square/github/lsst-ts/ts_logging_and_reporting/ExposureDetail?day_obs=2024-11-03&number_of_days=1&instrument=LSSTComCam&observation_reason=intra>5</a></td>\n",
       "      <td><a href=https://usdf-rsp-dev.slac.stanford.edu/times-square/github/lsst-ts/ts_logging_and_reporting/ExposureDetail?day_obs=2024-11-03&number_of_days=1&instrument=LSSTComCam&observation_reason=extra_alignment_with_laser>19</a></td>\n",
       "      <td><a href=https://usdf-rsp-dev.slac.stanford.edu/times-square/github/lsst-ts/ts_logging_and_reporting/ExposureDetail?day_obs=2024-11-03&number_of_days=1&instrument=LSSTComCam&observation_reason=intra_alignment_with_laser>22</a></td>\n",
       "      <td><a href=https://usdf-rsp-dev.slac.stanford.edu/times-square/github/lsst-ts/ts_logging_and_reporting/ExposureDetail?day_obs=2024-11-03&number_of_days=1&instrument=LSSTComCam&observation_reason=infocus_alignment_with_laser>18</a></td>\n",
       "      <td><a href=https://usdf-rsp-dev.slac.stanford.edu/times-square/github/lsst-ts/ts_logging_and_reporting/ExposureDetail?day_obs=2024-11-03&number_of_days=1&instrument=LSSTComCam&observation_reason=extra_reference_wavefront>6</a></td>\n",
       "      <td><a href=https://usdf-rsp-dev.slac.stanford.edu/times-square/github/lsst-ts/ts_logging_and_reporting/ExposureDetail?day_obs=2024-11-03&number_of_days=1&instrument=LSSTComCam&observation_reason=intra_reference_wavefront>6</a></td>\n",
       "      <td><a href=https://usdf-rsp-dev.slac.stanford.edu/times-square/github/lsst-ts/ts_logging_and_reporting/ExposureDetail?day_obs=2024-11-03&number_of_days=1&instrument=LSSTComCam&observation_reason=infocus_reference_wavefront>5</a></td>\n",
       "      <td><a href=https://usdf-rsp-dev.slac.stanford.edu/times-square/github/lsst-ts/ts_logging_and_reporting/ExposureDetail?day_obs=2024-11-03&number_of_days=1&instrument=LSSTComCam&observation_reason=comcam-usdf-checkout>20</a></td>\n",
       "    </tr>\n",
       "  </tbody>\n",
       "</table>"
      ],
      "text/plain": [
       "<IPython.core.display.HTML object>"
      ]
     },
     "metadata": {},
     "output_type": "display_data"
    },
    {
     "data": {
      "text/markdown": [
       "observation_type"
      ],
      "text/plain": [
       "<IPython.core.display.Markdown object>"
      ]
     },
     "metadata": {},
     "output_type": "display_data"
    },
    {
     "data": {
      "text/html": [
       "<table border=\"1\" class=\"dataframe\">\n",
       "  <thead>\n",
       "    <tr style=\"text-align: right;\">\n",
       "      <th></th>\n",
       "      <th>bias</th>\n",
       "      <th>acq</th>\n",
       "      <th>cwfs</th>\n",
       "    </tr>\n",
       "  </thead>\n",
       "  <tbody>\n",
       "    <tr>\n",
       "      <th>0</th>\n",
       "      <td><a href=https://usdf-rsp-dev.slac.stanford.edu/times-square/github/lsst-ts/ts_logging_and_reporting/ExposureDetail?day_obs=2024-11-03&number_of_days=1&instrument=LSSTComCam&observation_type=bias>21</a></td>\n",
       "      <td><a href=https://usdf-rsp-dev.slac.stanford.edu/times-square/github/lsst-ts/ts_logging_and_reporting/ExposureDetail?day_obs=2024-11-03&number_of_days=1&instrument=LSSTComCam&observation_type=acq>32</a></td>\n",
       "      <td><a href=https://usdf-rsp-dev.slac.stanford.edu/times-square/github/lsst-ts/ts_logging_and_reporting/ExposureDetail?day_obs=2024-11-03&number_of_days=1&instrument=LSSTComCam&observation_type=cwfs>63</a></td>\n",
       "    </tr>\n",
       "  </tbody>\n",
       "</table>"
      ],
      "text/plain": [
       "<IPython.core.display.HTML object>"
      ]
     },
     "metadata": {},
     "output_type": "display_data"
    },
    {
     "data": {
      "text/markdown": [
       "science_program"
      ],
      "text/plain": [
       "<IPython.core.display.Markdown object>"
      ]
     },
     "metadata": {},
     "output_type": "display_data"
    },
    {
     "data": {
      "text/html": [
       "<table border=\"1\" class=\"dataframe\">\n",
       "  <thead>\n",
       "    <tr style=\"text-align: right;\">\n",
       "      <th></th>\n",
       "      <th>unknown</th>\n",
       "      <th>BLOCK-T60</th>\n",
       "      <th>BLOCK-T92</th>\n",
       "      <th>BLOCK-T88</th>\n",
       "      <th>BLOCK-T246</th>\n",
       "    </tr>\n",
       "  </thead>\n",
       "  <tbody>\n",
       "    <tr>\n",
       "      <th>0</th>\n",
       "      <td><a href=https://usdf-rsp-dev.slac.stanford.edu/times-square/github/lsst-ts/ts_logging_and_reporting/ExposureDetail?day_obs=2024-11-03&number_of_days=1&instrument=LSSTComCam&science_program=unknown>1</a></td>\n",
       "      <td><a href=https://usdf-rsp-dev.slac.stanford.edu/times-square/github/lsst-ts/ts_logging_and_reporting/ExposureDetail?day_obs=2024-11-03&number_of_days=1&instrument=LSSTComCam&science_program=BLOCK-T60>7</a></td>\n",
       "      <td><a href=https://usdf-rsp-dev.slac.stanford.edu/times-square/github/lsst-ts/ts_logging_and_reporting/ExposureDetail?day_obs=2024-11-03&number_of_days=1&instrument=LSSTComCam&science_program=BLOCK-T92>76</a></td>\n",
       "      <td><a href=https://usdf-rsp-dev.slac.stanford.edu/times-square/github/lsst-ts/ts_logging_and_reporting/ExposureDetail?day_obs=2024-11-03&number_of_days=1&instrument=LSSTComCam&science_program=BLOCK-T88>12</a></td>\n",
       "      <td><a href=https://usdf-rsp-dev.slac.stanford.edu/times-square/github/lsst-ts/ts_logging_and_reporting/ExposureDetail?day_obs=2024-11-03&number_of_days=1&instrument=LSSTComCam&science_program=BLOCK-T246>20</a></td>\n",
       "    </tr>\n",
       "  </tbody>\n",
       "</table>"
      ],
      "text/plain": [
       "<IPython.core.display.HTML object>"
      ]
     },
     "metadata": {},
     "output_type": "display_data"
    },
    {
     "data": {
      "text/markdown": [
       "**LSSTCam: 2508 total exposures**"
      ],
      "text/plain": [
       "<IPython.core.display.Markdown object>"
      ]
     },
     "metadata": {},
     "output_type": "display_data"
    },
    {
     "data": {
      "text/markdown": [
       "observation_reason"
      ],
      "text/plain": [
       "<IPython.core.display.Markdown object>"
      ]
     },
     "metadata": {},
     "output_type": "display_data"
    },
    {
     "data": {
      "text/html": [
       "<table border=\"1\" class=\"dataframe\">\n",
       "  <thead>\n",
       "    <tr style=\"text-align: right;\">\n",
       "      <th></th>\n",
       "      <th>flat</th>\n",
       "      <th>dark</th>\n",
       "      <th>sflat lo</th>\n",
       "      <th>preimage</th>\n",
       "      <th>sflat hi</th>\n",
       "    </tr>\n",
       "  </thead>\n",
       "  <tbody>\n",
       "    <tr>\n",
       "      <th>0</th>\n",
       "      <td><a href=https://usdf-rsp-dev.slac.stanford.edu/times-square/github/lsst-ts/ts_logging_and_reporting/ExposureDetail?day_obs=2024-11-03&number_of_days=1&instrument=LSSTCam&observation_reason=flat>2345</a></td>\n",
       "      <td><a href=https://usdf-rsp-dev.slac.stanford.edu/times-square/github/lsst-ts/ts_logging_and_reporting/ExposureDetail?day_obs=2024-11-03&number_of_days=1&instrument=LSSTCam&observation_reason=dark>80</a></td>\n",
       "      <td><a href=https://usdf-rsp-dev.slac.stanford.edu/times-square/github/lsst-ts/ts_logging_and_reporting/ExposureDetail?day_obs=2024-11-03&number_of_days=1&instrument=LSSTCam&observation_reason=sflat_lo>10</a></td>\n",
       "      <td><a href=https://usdf-rsp-dev.slac.stanford.edu/times-square/github/lsst-ts/ts_logging_and_reporting/ExposureDetail?day_obs=2024-11-03&number_of_days=1&instrument=LSSTCam&observation_reason=preimage>21</a></td>\n",
       "      <td><a href=https://usdf-rsp-dev.slac.stanford.edu/times-square/github/lsst-ts/ts_logging_and_reporting/ExposureDetail?day_obs=2024-11-03&number_of_days=1&instrument=LSSTCam&observation_reason=sflat_hi>52</a></td>\n",
       "    </tr>\n",
       "  </tbody>\n",
       "</table>"
      ],
      "text/plain": [
       "<IPython.core.display.HTML object>"
      ]
     },
     "metadata": {},
     "output_type": "display_data"
    },
    {
     "data": {
      "text/markdown": [
       "observation_type"
      ],
      "text/plain": [
       "<IPython.core.display.Markdown object>"
      ]
     },
     "metadata": {},
     "output_type": "display_data"
    },
    {
     "data": {
      "text/html": [
       "<table border=\"1\" class=\"dataframe\">\n",
       "  <thead>\n",
       "    <tr style=\"text-align: right;\">\n",
       "      <th></th>\n",
       "      <th>flat</th>\n",
       "      <th>bias</th>\n",
       "      <th>dark</th>\n",
       "    </tr>\n",
       "  </thead>\n",
       "  <tbody>\n",
       "    <tr>\n",
       "      <th>0</th>\n",
       "      <td><a href=https://usdf-rsp-dev.slac.stanford.edu/times-square/github/lsst-ts/ts_logging_and_reporting/ExposureDetail?day_obs=2024-11-03&number_of_days=1&instrument=LSSTCam&observation_type=flat>1244</a></td>\n",
       "      <td><a href=https://usdf-rsp-dev.slac.stanford.edu/times-square/github/lsst-ts/ts_logging_and_reporting/ExposureDetail?day_obs=2024-11-03&number_of_days=1&instrument=LSSTCam&observation_type=bias>621</a></td>\n",
       "      <td><a href=https://usdf-rsp-dev.slac.stanford.edu/times-square/github/lsst-ts/ts_logging_and_reporting/ExposureDetail?day_obs=2024-11-03&number_of_days=1&instrument=LSSTCam&observation_type=dark>643</a></td>\n",
       "    </tr>\n",
       "  </tbody>\n",
       "</table>"
      ],
      "text/plain": [
       "<IPython.core.display.HTML object>"
      ]
     },
     "metadata": {},
     "output_type": "display_data"
    },
    {
     "data": {
      "text/markdown": [
       "science_program"
      ],
      "text/plain": [
       "<IPython.core.display.Markdown object>"
      ]
     },
     "metadata": {},
     "output_type": "display_data"
    },
    {
     "data": {
      "text/html": [
       "<table border=\"1\" class=\"dataframe\">\n",
       "  <thead>\n",
       "    <tr style=\"text-align: right;\">\n",
       "      <th></th>\n",
       "      <th>E2016</th>\n",
       "      <th>E2012</th>\n",
       "      <th>E2011</th>\n",
       "      <th>E2014</th>\n",
       "      <th>E2015</th>\n",
       "      <th>E2013</th>\n",
       "      <th>E2010</th>\n",
       "      <th>E2009</th>\n",
       "    </tr>\n",
       "  </thead>\n",
       "  <tbody>\n",
       "    <tr>\n",
       "      <th>0</th>\n",
       "      <td><a href=https://usdf-rsp-dev.slac.stanford.edu/times-square/github/lsst-ts/ts_logging_and_reporting/ExposureDetail?day_obs=2024-11-03&number_of_days=1&instrument=LSSTCam&science_program=E2016>2365</a></td>\n",
       "      <td><a href=https://usdf-rsp-dev.slac.stanford.edu/times-square/github/lsst-ts/ts_logging_and_reporting/ExposureDetail?day_obs=2024-11-03&number_of_days=1&instrument=LSSTCam&science_program=E2012>23</a></td>\n",
       "      <td><a href=https://usdf-rsp-dev.slac.stanford.edu/times-square/github/lsst-ts/ts_logging_and_reporting/ExposureDetail?day_obs=2024-11-03&number_of_days=1&instrument=LSSTCam&science_program=E2011>33</a></td>\n",
       "      <td><a href=https://usdf-rsp-dev.slac.stanford.edu/times-square/github/lsst-ts/ts_logging_and_reporting/ExposureDetail?day_obs=2024-11-03&number_of_days=1&instrument=LSSTCam&science_program=E2014>14</a></td>\n",
       "      <td><a href=https://usdf-rsp-dev.slac.stanford.edu/times-square/github/lsst-ts/ts_logging_and_reporting/ExposureDetail?day_obs=2024-11-03&number_of_days=1&instrument=LSSTCam&science_program=E2015>23</a></td>\n",
       "      <td><a href=https://usdf-rsp-dev.slac.stanford.edu/times-square/github/lsst-ts/ts_logging_and_reporting/ExposureDetail?day_obs=2024-11-03&number_of_days=1&instrument=LSSTCam&science_program=E2013>33</a></td>\n",
       "      <td><a href=https://usdf-rsp-dev.slac.stanford.edu/times-square/github/lsst-ts/ts_logging_and_reporting/ExposureDetail?day_obs=2024-11-03&number_of_days=1&instrument=LSSTCam&science_program=E2010>4</a></td>\n",
       "      <td><a href=https://usdf-rsp-dev.slac.stanford.edu/times-square/github/lsst-ts/ts_logging_and_reporting/ExposureDetail?day_obs=2024-11-03&number_of_days=1&instrument=LSSTCam&science_program=E2009>13</a></td>\n",
       "    </tr>\n",
       "  </tbody>\n",
       "</table>"
      ],
      "text/plain": [
       "<IPython.core.display.HTML object>"
      ]
     },
     "metadata": {},
     "output_type": "display_data"
    }
   ],
   "source": [
    "# Exposure Report\n",
    "if experimental.get(\"exposure_type_tally\"): \n",
    "    #  md(\"### Experimental Exposure field Tally ENABLED\")\n",
    "    md(\"Tally exposures with specific values of selected fields\")\n",
    "else:\n",
    "    md(\"### Experimental Exposure field Tally DISASBLED\")\n",
    "    \n",
    "for instrum in allsrc.exp_src.exposures.keys():\n",
    "    md(f'**{instrum}: {len(allsrc.exp_src.exposures[instrum])} total exposures**')\n",
    "    if 0 == len(allsrc.exp_src.exposures[instrum]):\n",
    "        continue\n",
    "\n",
    "    # Facet counts\n",
    "    if experimental.get(\"exposure_type_tally\"): \n",
    "        counts = allsrc.uniform_exposure_field_counts(instrum)\n",
    "        for fname, tally in counts.items():\n",
    "            md(f\"{fname}\")\n",
    "            df = pd.DataFrame.from_dict(tally, orient=\"index\").T\n",
    "            wdf = ut.wrap_dataframe_columns(df)\n",
    "            display(HTML(wdf.to_html(render_links=True, escape=False)))"
   ]
  },
  {
   "cell_type": "markdown",
   "id": "23",
   "metadata": {
    "jp-MarkdownHeadingCollapsed": true
   },
   "source": [
    "### (change) <font style=\"background-color:yellow; color:black; font-size:20px\">DRAFT</font>\n",
    "#### TODO According to Storybaord, this section should be removed ...\n",
    "... and replaced with a simple table tally of Good, Questionable, and  Junk exposures per instrument. (that tally has been added below)\n",
    "| Symbol | Meaning |\n",
    "|:---|:---|\n",
    "| <font style=\"background-color:green; color:white; font-size:20px\">&nbsp;G&nbsp;</font>| Good |\n",
    "| <font style=\"background-color:yellow; color:black; font-size:20px\">&nbsp;?&nbsp;</font> | Questionable |\n",
    "| <font style=\"background-color:red; color:black; font-size:20px\">&nbsp;R&nbsp;</font> | Junk |\n"
   ]
  },
  {
   "cell_type": "code",
   "execution_count": 14,
   "id": "24",
   "metadata": {},
   "outputs": [],
   "source": [
    "# Time Log\n",
    "allrep.exp_rep.time_log_as_markdown()"
   ]
  },
  {
   "cell_type": "markdown",
   "id": "261925dc-1171-4429-b6a8-3bf62d71904f",
   "metadata": {},
   "source": [
    "Note: *Added counts of Exposures with messages*"
   ]
  },
  {
   "cell_type": "code",
   "execution_count": 15,
   "id": "fd31c70d-1f21-427b-a4bc-8c493c9da936",
   "metadata": {},
   "outputs": [],
   "source": [
    "for instrum, recs in allsrc.exp_src.messages.items():\n",
    "    md(f'**{instrum} {len(recs)} Exposures with messages**')\n",
    "    if len(recs) > 0:\n",
    "        df = allsrc.tally_exposure_flags(instrum)\n",
    "        display(df.style.hide(axis=\"index\"))"
   ]
  },
  {
   "cell_type": "markdown",
   "id": "20820900-05ab-4ca5-8df5-9f725c0ee570",
   "metadata": {},
   "source": [
    "## Narrative Log <font style=\"background-color:green; color:white; font-size:20px\">BETA</font> "
   ]
  },
  {
   "cell_type": "code",
   "execution_count": 16,
   "id": "26",
   "metadata": {
    "editable": true,
    "slideshow": {
     "slide_type": ""
    },
    "tags": []
   },
   "outputs": [
    {
     "data": {
      "text/markdown": [
       "- **2024-11-03 08:58:43.457222** Time Lost: 0.0; Time Lost Type: fault;\n",
       "    - components: ['MainTel']\n",
       "    - primary_software_components: ['None']\n",
       "    - primary_hardware_components: ['None']\n",
       "\n",
       "<pre style='color: black; background-color: white; font-size: 1em; margin-left: 0px; '>Trying to get M2 back in closed loop state.</pre>\n"
      ],
      "text/plain": [
       "<IPython.core.display.Markdown object>"
      ]
     },
     "metadata": {},
     "output_type": "display_data"
    },
    {
     "data": {
      "text/markdown": [
       "- **2024-11-03 08:50:56.147457** Time Lost: 0.0; Time Lost Type: fault;\n",
       "    - components: ['MainTel']\n",
       "    - primary_software_components: ['None']\n",
       "    - primary_hardware_components: ['None']\n",
       "\n",
       "<pre style='color: black; background-color: white; font-size: 1em; margin-left: 0px; '>Parked telescope, closed mirror covers. Accidentally powered off M2 cabinet, need to recover to put back in closed loop mode.</pre>\n"
      ],
      "text/plain": [
       "<IPython.core.display.Markdown object>"
      ]
     },
     "metadata": {},
     "output_type": "display_data"
    },
    {
     "data": {
      "text/markdown": [
       "- **2024-11-03 07:47:47.831061** Time Lost: 0.0; Time Lost Type: fault;\n",
       "    - components: ['MainTel']\n",
       "    - primary_software_components: ['None']\n",
       "    - primary_hardware_components: ['None']\n",
       "\n",
       "<pre style='color: black; background-color: white; font-size: 1em; margin-left: 0px; '>Pinhole images taken, going to park for the night.</pre>\n"
      ],
      "text/plain": [
       "<IPython.core.display.Markdown object>"
      ]
     },
     "metadata": {},
     "output_type": "display_data"
    },
    {
     "data": {
      "text/markdown": [
       "- **2024-11-03 07:45:19.428596** Time Lost: 0.0; Time Lost Type: fault;\n",
       "    - components: ['MainTel']\n",
       "    - primary_software_components: ['None']\n",
       "    - primary_hardware_components: ['None']\n",
       "\n",
       "<pre style='color: black; background-color: white; font-size: 1em; margin-left: 0px; '>M1M3 faulted due to a excessive forces. This was user error in AOS calculations. M1M3 behaved propoerly</pre>\n"
      ],
      "text/plain": [
       "<IPython.core.display.Markdown object>"
      ]
     },
     "metadata": {},
     "output_type": "display_data"
    },
    {
     "data": {
      "text/markdown": [
       "- **2024-11-03 07:44:34.305411** Time Lost: 0.0; Time Lost Type: fault;\n",
       "    - components: ['MainTel']\n",
       "    - primary_software_components: ['None']\n",
       "    - primary_hardware_components: ['None']\n",
       "\n",
       "Failed to close mirror covers using run_command script\r\n",
       "\r\n",
       "\r\n",
       "Error in run\r\n",
       "<pre style='color: black; background-color: #FFDDDD; font-size: 0.875em; margin-left: 20px; '>Traceback (most recent call last):\r\n",
       "  File &quot;/opt/lsst/software/stack/conda/envs/lsst-scipipe-9.0.0/lib/python3.11/site-packages/lsst/ts/salobj/base_script.py&quot;, line 631, in do_run\r\n",
       "    await self._run_task\r\n",
       "  File &quot;/net/obs-env/auto_base_packages/ts_standardscripts/python/lsst/ts/standardscripts/run_command.py&quot;, line 170, in run\r\n",
       "    await getattr(self.remote, f&quot;cmd_{self.cmd}&quot;).start(\r\n",
       "  File &quot;/opt/lsst/software/stack/conda/envs/lsst-scipipe-9.0.0/lib/python3.11/site-packages/lsst/ts/salobj/topics/remote_command.py&quot;, line 487, in start\r\n",
       "    return await cmd_info.next_ackcmd(timeout=timeout)\r\n",
       "           ^^^^^^^^^^^^^^^^^^^^^^^^^^^^^^^^^^^^^^^^^^^\r\n",
       "  File &quot;/opt/lsst/software/stack/conda/envs/lsst-scipipe-9.0.0/lib/python3.11/site-packages/lsst/ts/salobj/topics/remote_command.py&quot;, line 191, in next_ackcmd\r\n",
       "    raise base.AckError(msg=&quot;Command failed&quot;, ackcmd=ackcmd)\r\n",
       "lsst.ts.salobj.base.AckError: msg=&#x27;Command failed&#x27;, ackcmd=(ackcmd private_seqNum=252964407, ack=&amp;lt;SalRetCode.CMD_FAILED: -302&amp;gt;, error=1, result=&#x27;Failed: Command with id 2910388 has timed out after not receiving accept for 500 ms.&#x27;)\r\n",
       "\r\n",
       "\r\n",
       "Ran the script again and it worked. \r\n",
       "</pre>\n"
      ],
      "text/plain": [
       "<IPython.core.display.Markdown object>"
      ]
     },
     "metadata": {},
     "output_type": "display_data"
    },
    {
     "data": {
      "text/markdown": [
       "- **2024-11-03 07:29:53.779693** Time Lost: 0.0; Time Lost Type: fault;\n",
       "    - components: ['MainTel']\n",
       "    - primary_software_components: ['None']\n",
       "    - primary_hardware_components: ['None']\n",
       "\n",
       "<pre style='color: black; background-color: white; font-size: 1em; margin-left: 0px; '>Pinhole image taken at 170 az, 65 el, rot 0.</pre>\n"
      ],
      "text/plain": [
       "<IPython.core.display.Markdown object>"
      ]
     },
     "metadata": {},
     "output_type": "display_data"
    },
    {
     "data": {
      "text/markdown": [
       "- **2024-11-03 07:28:39.278585** Time Lost: 0.0; Time Lost Type: fault;\n",
       "    - components: ['MainTel']\n",
       "    - primary_software_components: ['None']\n",
       "    - primary_hardware_components: ['None']\n",
       "\n",
       "<pre style='color: black; background-color: white; font-size: 1em; margin-left: 0px; '>M1M3 faulted while slewing from TMA park position to az = 171, el = 65, rot = 4. Force actuator ID 415 displayed a following error. Dome closed, elevation parking settings applied. Need to file obs ticket.</pre>\n"
      ],
      "text/plain": [
       "<IPython.core.display.Markdown object>"
      ]
     },
     "metadata": {},
     "output_type": "display_data"
    },
    {
     "data": {
      "text/markdown": [
       "- **2024-11-03 07:20:14.290440** Time Lost: 0.0; Time Lost Type: fault;\n",
       "    - components: ['MainTel']\n",
       "    - primary_software_components: ['None']\n",
       "    - primary_hardware_components: ['None']\n",
       "\n",
       "<pre style='color: black; background-color: white; font-size: 1em; margin-left: 0px; '>attempting to recovered M1M3 and there was a TMA interlock error stop.</pre>\n"
      ],
      "text/plain": [
       "<IPython.core.display.Markdown object>"
      ]
     },
     "metadata": {},
     "output_type": "display_data"
    },
    {
     "data": {
      "text/markdown": [
       "- **2024-11-03 07:18:56.315825** Time Lost: 0.0; Time Lost Type: fault;\n",
       "    - components: ['MainTel']\n",
       "    - primary_software_components: ['None']\n",
       "    - primary_hardware_components: ['None']\n",
       "\n",
       "<pre style='color: black; background-color: white; font-size: 1em; margin-left: 0px; '>Force Actuator ID 415 Following Error 50 on M1M3, while we were slewing to the pinhole light position.</pre>\n"
      ],
      "text/plain": [
       "<IPython.core.display.Markdown object>"
      ]
     },
     "metadata": {},
     "output_type": "display_data"
    },
    {
     "data": {
      "text/markdown": [
       "- **2024-11-03 07:05:18.853196** Time Lost: 0.0; Time Lost Type: fault;\n",
       "    - components: ['MainTel']\n",
       "    - primary_software_components: ['None']\n",
       "    - primary_hardware_components: ['None']\n",
       "\n",
       "<pre style='color: black; background-color: white; font-size: 1em; margin-left: 0px; '>HVAC system on. Setpoint 9 degrees.</pre>\n"
      ],
      "text/plain": [
       "<IPython.core.display.Markdown object>"
      ]
     },
     "metadata": {},
     "output_type": "display_data"
    },
    {
     "data": {
      "text/markdown": [
       "- **2024-11-03 06:57:53.012539** Time Lost: 0.0; Time Lost Type: fault;\n",
       "    - components: ['MainTel']\n",
       "    - primary_software_components: ['None']\n",
       "    - primary_hardware_components: ['None']\n",
       "\n",
       "<pre style='color: black; background-color: white; font-size: 1em; margin-left: 0px; '>Dome closed. Going to take some in-dome pinhole images.</pre>\n"
      ],
      "text/plain": [
       "<IPython.core.display.Markdown object>"
      ]
     },
     "metadata": {},
     "output_type": "display_data"
    },
    {
     "data": {
      "text/markdown": [
       "- **2024-11-03 06:34:02.170875** Time Lost: 0.0; Time Lost Type: fault;\n",
       "    - components: ['MainTel']\n",
       "    - primary_software_components: ['None']\n",
       "    - primary_hardware_components: ['None']\n",
       "\n",
       "<pre style='color: black; background-color: white; font-size: 1em; margin-left: 0px; '>Recovered M1M3, preparing to close for the night.</pre>\n"
      ],
      "text/plain": [
       "<IPython.core.display.Markdown object>"
      ]
     },
     "metadata": {},
     "output_type": "display_data"
    },
    {
     "data": {
      "text/markdown": [
       "- **2024-11-03 06:31:30.612051** Time Lost: 0.0; Time Lost Type: fault;\n",
       "    - components: None\n",
       "    - primary_software_components: ['None']\n",
       "    - primary_hardware_components: ['None']\n",
       "\n",
       "<pre style='color: black; background-color: white; font-size: 1em; margin-left: 0px; '>AOS Night Summary\r\n",
       "-----------------------------\r\n",
       "\r\n",
       "\r\n",
       "Tonight, we skipped laser alignment to stay on schedule and went straight to taking flats, though clouds impacted the quality. Moving into closed-loop testing, we successfully closed the loop with hexapods, improving image quality slightly, but encountered issues when adding more degrees of freedom. We’ll analyze this data to refine configurations and try again tomorrow.\r\n",
       "We also conducted M1M3 optical state estimation tests, applying bending modes to observe wavefront changes, though we realized a bit late that our “in-focus” images were out of focus for much of the test. An attempt to run the giant donut test block was halted due to an incorrect configuration for track_target, which we will fix for another try.\r\n",
       "To bring the telescope back into focus, we eliminated spherical aberration by pistoning M2 and the camera in opposite directions, underscoring the importance of more laser tracker testing early at the beginning of the night during flat time. Missed alignments over the past two nights may have caused the spherical and coma issues creeping up, both linked to hexapod positioning, so we’ll focus on alignment tomorrow.\r\n",
       "Our final closed-loop correction attempt ran into limitations as we forgot to cap the number of M1M3 bending modes, causing conservative force clipping. The TMA performed well, and Anastasia lifted spirits with chocolate—a sweet end to the night.</pre>\n"
      ],
      "text/plain": [
       "<IPython.core.display.Markdown object>"
      ]
     },
     "metadata": {},
     "output_type": "display_data"
    },
    {
     "data": {
      "text/markdown": [
       "- **2024-11-03 06:02:39.734341** Time Lost: 0.0; Time Lost Type: fault;\n",
       "    - components: ['MainTel']\n",
       "    - primary_software_components: ['None']\n",
       "    - primary_hardware_components: ['None']\n",
       "\n",
       "<pre style='color: black; background-color: white; font-size: 1em; margin-left: 0px; '>Taking a pinhole image after discovering some scattered light.</pre>\n"
      ],
      "text/plain": [
       "<IPython.core.display.Markdown object>"
      ]
     },
     "metadata": {},
     "output_type": "display_data"
    },
    {
     "data": {
      "text/markdown": [
       "- **2024-11-03 05:59:35.803350** Time Lost: 0.0; Time Lost Type: fault;\n",
       "    - components: ['MainTel']\n",
       "    - primary_software_components: ['None']\n",
       "    - primary_hardware_components: ['None']\n",
       "\n",
       "<pre style='color: black; background-color: white; font-size: 1em; margin-left: 0px; '>Scattered light at az = 171, el = 65, rot = 3 degrees.</pre>\n"
      ],
      "text/plain": [
       "<IPython.core.display.Markdown object>"
      ]
     },
     "metadata": {},
     "output_type": "display_data"
    },
    {
     "data": {
      "text/markdown": [
       "- **2024-11-03 05:54:47.168612** Time Lost: 0.0; Time Lost Type: fault;\n",
       "    - components: ['MainTel']\n",
       "    - primary_software_components: ['None']\n",
       "    - primary_hardware_components: ['None']\n",
       "\n",
       "<pre style='color: black; background-color: white; font-size: 1em; margin-left: 0px; '>Starting BLOCK-60.</pre>\n"
      ],
      "text/plain": [
       "<IPython.core.display.Markdown object>"
      ]
     },
     "metadata": {},
     "output_type": "display_data"
    },
    {
     "data": {
      "text/markdown": [
       "- **2024-11-03 05:53:42.171447** Time Lost: 0.0; Time Lost Type: fault;\n",
       "    - components: ['MainTel']\n",
       "    - primary_software_components: ['None']\n",
       "    - primary_hardware_components: ['None']\n",
       "\n",
       "<pre style='color: black; background-color: white; font-size: 1em; margin-left: 0px; '>Lost tracking because of rotator hit the limit</pre>\n"
      ],
      "text/plain": [
       "<IPython.core.display.Markdown object>"
      ]
     },
     "metadata": {},
     "output_type": "display_data"
    },
    {
     "data": {
      "text/markdown": [
       "- **2024-11-03 05:40:04.943053** Time Lost: 0.0; Time Lost Type: fault;\n",
       "    - components: ['MainTel']\n",
       "    - primary_software_components: ['None']\n",
       "    - primary_hardware_components: ['None']\n",
       "\n",
       "<pre style='color: black; background-color: white; font-size: 1em; margin-left: 0px; '>Changing to BLOCK-81.</pre>\n"
      ],
      "text/plain": [
       "<IPython.core.display.Markdown object>"
      ]
     },
     "metadata": {},
     "output_type": "display_data"
    },
    {
     "data": {
      "text/markdown": [
       "- **2024-11-03 05:28:31.940234** Time Lost: 0.0; Time Lost Type: fault;\n",
       "    - components: ['MainTel']\n",
       "    - primary_software_components: ['None']\n",
       "    - primary_hardware_components: ['None']\n",
       "\n",
       "<pre style='color: black; background-color: white; font-size: 1em; margin-left: 0px; '>Started Block-T81</pre>\n"
      ],
      "text/plain": [
       "<IPython.core.display.Markdown object>"
      ]
     },
     "metadata": {},
     "output_type": "display_data"
    },
    {
     "data": {
      "text/markdown": [
       "- **2024-11-03 05:22:31.722532** Time Lost: 0.0; Time Lost Type: fault;\n",
       "    - components: ['MainTel']\n",
       "    - primary_software_components: ['None']\n",
       "    - primary_hardware_components: ['None']\n",
       "\n",
       "<pre style='color: black; background-color: white; font-size: 1em; margin-left: 0px; '>refocussed with the focus sweep</pre>\n"
      ],
      "text/plain": [
       "<IPython.core.display.Markdown object>"
      ]
     },
     "metadata": {},
     "output_type": "display_data"
    },
    {
     "data": {
      "text/markdown": [
       "- **2024-11-03 05:05:31.136435** Time Lost: 0.0; Time Lost Type: fault;\n",
       "    - components: ['MainTel']\n",
       "    - primary_software_components: ['None']\n",
       "    - primary_hardware_components: ['None']\n",
       "\n",
       "<pre style='color: black; background-color: white; font-size: 1em; margin-left: 0px; '>There was an MTPtg error reaching az=180. Tracking back to 160.</pre>\n"
      ],
      "text/plain": [
       "<IPython.core.display.Markdown object>"
      ]
     },
     "metadata": {},
     "output_type": "display_data"
    },
    {
     "data": {
      "text/markdown": [
       "- **2024-11-03 05:04:56.862068** Time Lost: 0.0; Time Lost Type: fault;\n",
       "    - components: ['MainTel']\n",
       "    - primary_software_components: ['None']\n",
       "    - primary_hardware_components: ['None']\n",
       "\n",
       "<pre style='color: black; background-color: white; font-size: 1em; margin-left: 0px; '>Repoint</pre>\n"
      ],
      "text/plain": [
       "<IPython.core.display.Markdown object>"
      ]
     },
     "metadata": {},
     "output_type": "display_data"
    },
    {
     "data": {
      "text/markdown": [
       "- **2024-11-03 04:41:32.350725** Time Lost: 0.0; Time Lost Type: fault;\n",
       "    - components: ['MainTel']\n",
       "    - primary_software_components: ['None']\n",
       "    - primary_hardware_components: ['None']\n",
       "\n",
       "<pre style='color: black; background-color: white; font-size: 1em; margin-left: 0px; '>Closing the loop again</pre>\n"
      ],
      "text/plain": [
       "<IPython.core.display.Markdown object>"
      ]
     },
     "metadata": {},
     "output_type": "display_data"
    },
    {
     "data": {
      "text/markdown": [
       "- **2024-11-03 04:38:44.362975** Time Lost: 0.0; Time Lost Type: fault;\n",
       "    - components: ['MainTel']\n",
       "    - primary_software_components: ['None']\n",
       "    - primary_hardware_components: ['None']\n",
       "\n",
       "<pre style='color: black; background-color: white; font-size: 1em; margin-left: 0px; '>Focus is still wrong so we’ll refocus by hand</pre>\n"
      ],
      "text/plain": [
       "<IPython.core.display.Markdown object>"
      ]
     },
     "metadata": {},
     "output_type": "display_data"
    },
    {
     "data": {
      "text/markdown": [
       "- **2024-11-03 04:34:13.573824** Time Lost: 0.0; Time Lost Type: fault;\n",
       "    - components: ['MainTel']\n",
       "    - primary_software_components: ['None']\n",
       "    - primary_hardware_components: ['None']\n",
       "\n",
       "<pre style='color: black; background-color: white; font-size: 1em; margin-left: 0px; '>The images were too out of focus so we will use the manual method from Josh to get us close and repeat the closed-loop script</pre>\n"
      ],
      "text/plain": [
       "<IPython.core.display.Markdown object>"
      ]
     },
     "metadata": {},
     "output_type": "display_data"
    },
    {
     "data": {
      "text/markdown": [
       "- **2024-11-03 04:25:35.729250** Time Lost: 0.0; Time Lost Type: fault;\n",
       "    - components: ['MainTel']\n",
       "    - primary_software_components: ['None']\n",
       "    - primary_hardware_components: ['None']\n",
       "\n",
       "<pre style='color: black; background-color: white; font-size: 1em; margin-left: 0px; '>We run Block-252 with defocused so we are realigning the telescope using the control loop with only the hexapods.</pre>\n"
      ],
      "text/plain": [
       "<IPython.core.display.Markdown object>"
      ]
     },
     "metadata": {},
     "output_type": "display_data"
    },
    {
     "data": {
      "text/markdown": [
       "- **2024-11-03 04:05:11.893555** Time Lost: 0.0; Time Lost Type: fault;\n",
       "    - components: ['MainTel']\n",
       "    - primary_software_components: ['None']\n",
       "    - primary_hardware_components: ['None']\n",
       "\n",
       "<pre style='color: black; background-color: white; font-size: 1em; margin-left: 0px; '>Slewing back to 160 degrees az to avoid an mtptg error.</pre>\n"
      ],
      "text/plain": [
       "<IPython.core.display.Markdown object>"
      ]
     },
     "metadata": {},
     "output_type": "display_data"
    },
    {
     "data": {
      "text/markdown": [
       "- **2024-11-03 03:28:16.259902** Time Lost: 0.0; Time Lost Type: fault;\n",
       "    - components: ['MainTel']\n",
       "    - primary_software_components: ['None']\n",
       "    - primary_hardware_components: ['None']\n",
       "\n",
       "<pre style='color: black; background-color: white; font-size: 1em; margin-left: 0px; '>Going to change to BLOCK-252.</pre>\n"
      ],
      "text/plain": [
       "<IPython.core.display.Markdown object>"
      ]
     },
     "metadata": {},
     "output_type": "display_data"
    },
    {
     "data": {
      "text/markdown": [
       "- **2024-11-03 03:28:01.324408** Time Lost: 0.0; Time Lost Type: fault;\n",
       "    - components: ['MainTel']\n",
       "    - primary_software_components: ['None']\n",
       "    - primary_hardware_components: ['None']\n",
       "\n",
       "<pre style='color: black; background-color: white; font-size: 1em; margin-left: 0px; '>Attempted BLOCK-T75, but the configure script failed at the track_target, slew_ircs script call. Configure failed. Sal Index 100682.</pre>\n"
      ],
      "text/plain": [
       "<IPython.core.display.Markdown object>"
      ]
     },
     "metadata": {},
     "output_type": "display_data"
    },
    {
     "data": {
      "text/markdown": [
       "- **2024-11-03 03:18:59.532086** Time Lost: 0.0; Time Lost Type: fault;\n",
       "    - components: ['MainTel']\n",
       "    - primary_software_components: ['None']\n",
       "    - primary_hardware_components: ['None']\n",
       "\n",
       "<pre style='color: black; background-color: white; font-size: 1em; margin-left: 0px; '>In position. Beginning GIANT DONUT test BLOCK-T75.</pre>\n"
      ],
      "text/plain": [
       "<IPython.core.display.Markdown object>"
      ]
     },
     "metadata": {},
     "output_type": "display_data"
    },
    {
     "data": {
      "text/markdown": [
       "- **2024-11-03 03:15:49.473263** Time Lost: 0.16; Time Lost Type: fault;\n",
       "    - components: ['MainTel']\n",
       "    - primary_software_components: ['None']\n",
       "    - primary_hardware_components: ['None']\n",
       "\n",
       "<pre style='color: black; background-color: white; font-size: 1em; margin-left: 0px; '>David helped recover. Time loss ~ 12 minutes. Not going to file a fault report - this was due to observer error.</pre>\n"
      ],
      "text/plain": [
       "<IPython.core.display.Markdown object>"
      ]
     },
     "metadata": {},
     "output_type": "display_data"
    },
    {
     "data": {
      "text/markdown": [
       "- **2024-11-03 03:11:18.159134** Time Lost: 0.0; Time Lost Type: fault;\n",
       "    - components: ['MainTel']\n",
       "    - primary_software_components: ['None']\n",
       "    - primary_hardware_components: ['None']\n",
       "\n",
       "<pre style='color: black; background-color: white; font-size: 1em; margin-left: 0px; '>MThexapod faulted immediately after recovering the fault to the EUI - it's still in an extreme position. David is helping to jog it out of the extreme position. MTAOS resetCorrection doesn't seem to be working properly. We are going to have to use move commands on the individual hexapods to ensure that they reach 0 position. Time loss accumulating.</pre>\n"
      ],
      "text/plain": [
       "<IPython.core.display.Markdown object>"
      ]
     },
     "metadata": {},
     "output_type": "display_data"
    },
    {
     "data": {
      "text/markdown": [
       "- **2024-11-03 03:02:33.193947** Time Lost: 0.0; Time Lost Type: fault;\n",
       "    - components: ['MainTel']\n",
       "    - primary_software_components: ['None']\n",
       "    - primary_hardware_components: ['None']\n",
       "\n",
       "<pre style='color: black; background-color: white; font-size: 1em; margin-left: 0px; '>MTHexapod reports a low-level controller error, possibly triggered by the last extreme demand. Had to ask David to recover since I got locked out of vsphere.</pre>\n"
      ],
      "text/plain": [
       "<IPython.core.display.Markdown object>"
      ]
     },
     "metadata": {},
     "output_type": "display_data"
    },
    {
     "data": {
      "text/markdown": [
       "- **2024-11-03 02:48:46.864236** Time Lost: 0.0; Time Lost Type: fault;\n",
       "    - components: ['MainTel']\n",
       "    - primary_software_components: ['None']\n",
       "    - primary_hardware_components: ['None']\n",
       "\n",
       "<pre style='color: black; background-color: white; font-size: 1em; margin-left: 0px; '>Got some gnarly guitar picks in the last AOS experiments, so we are going to change strategy.</pre>\n"
      ],
      "text/plain": [
       "<IPython.core.display.Markdown object>"
      ]
     },
     "metadata": {},
     "output_type": "display_data"
    },
    {
     "data": {
      "text/markdown": [
       "- **2024-11-03 02:48:44.563322** Time Lost: 0.0; Time Lost Type: fault;\n",
       "    - components: ['MainTel']\n",
       "    - primary_software_components: ['None']\n",
       "    - primary_hardware_components: ['None']\n",
       "\n",
       "<pre style='color: black; background-color: white; font-size: 1em; margin-left: 0px; '>reset the MTAOS didn't work.</pre>\n"
      ],
      "text/plain": [
       "<IPython.core.display.Markdown object>"
      ]
     },
     "metadata": {},
     "output_type": "display_data"
    },
    {
     "data": {
      "text/markdown": [
       "- **2024-11-03 02:35:41.129654** Time Lost: 0.0; Time Lost Type: fault;\n",
       "    - components: ['MainTel']\n",
       "    - primary_software_components: ['None']\n",
       "    - primary_hardware_components: ['None']\n",
       "\n",
       "<pre style='color: black; background-color: white; font-size: 1em; margin-left: 0px; '>Attempting to issue new corrections failed due to the camhex being commanded to an extreme posiiton, so we are taking some time to manually recover the last vector to which we want to apply corrections.</pre>\n"
      ],
      "text/plain": [
       "<IPython.core.display.Markdown object>"
      ]
     },
     "metadata": {},
     "output_type": "display_data"
    },
    {
     "data": {
      "text/markdown": [
       "- **2024-11-03 02:23:09.472819** Time Lost: 0.0; Time Lost Type: fault;\n",
       "    - components: ['MainTel']\n",
       "    - primary_software_components: ['None']\n",
       "    - primary_hardware_components: ['None']\n",
       "\n",
       "<pre style='color: black; background-color: white; font-size: 1em; margin-left: 0px; '>Tiago reports he is finished with LOVE cleanup, attempting to close the loops comcam.</pre>\n"
      ],
      "text/plain": [
       "<IPython.core.display.Markdown object>"
      ]
     },
     "metadata": {},
     "output_type": "display_data"
    },
    {
     "data": {
      "text/markdown": [
       "- **2024-11-03 02:17:56.694797** Time Lost: 0.16; Time Lost Type: fault;\n",
       "    - components: ['MainTel']\n",
       "    - primary_software_components: ['None']\n",
       "    - primary_hardware_components: ['None']\n",
       "\n",
       "<pre style='color: black; background-color: white; font-size: 1em; margin-left: 0px; '>Tiago going to clean up some of the data resources streaming info to LOVE so we can try to improve its stability for the rest of the night. 5-10 minute downtime.</pre>\n"
      ],
      "text/plain": [
       "<IPython.core.display.Markdown object>"
      ]
     },
     "metadata": {},
     "output_type": "display_data"
    },
    {
     "data": {
      "text/markdown": [
       "- **2024-11-03 02:09:37.442238** Time Lost: 0.0; Time Lost Type: fault;\n",
       "    - components: ['MainTel']\n",
       "    - primary_software_components: ['None']\n",
       "    - primary_hardware_components: ['None']\n",
       "\n",
       "<pre style='color: black; background-color: white; font-size: 1em; margin-left: 0px; '>SOAR reports 0.55\" seeing. That's cray.</pre>\n"
      ],
      "text/plain": [
       "<IPython.core.display.Markdown object>"
      ]
     },
     "metadata": {},
     "output_type": "display_data"
    },
    {
     "data": {
      "text/markdown": [
       "- **2024-11-03 02:07:08.201743** Time Lost: 0.0; Time Lost Type: fault;\n",
       "    - components: ['MainTel']\n",
       "    - primary_software_components: ['None']\n",
       "    - primary_hardware_components: ['None']\n",
       "\n",
       "<pre style='color: black; background-color: white; font-size: 1em; margin-left: 0px; '>Running closed loops comcam with m2 and m1m3 engaged. Still BLOCK-249.</pre>\n"
      ],
      "text/plain": [
       "<IPython.core.display.Markdown object>"
      ]
     },
     "metadata": {},
     "output_type": "display_data"
    },
    {
     "data": {
      "text/markdown": [
       "- **2024-11-03 02:00:46.512771** Time Lost: 0.0; Time Lost Type: fault;\n",
       "    - components: ['MainTel']\n",
       "    - primary_software_components: ['None']\n",
       "    - primary_hardware_components: ['None']\n",
       "\n",
       "<pre style='color: black; background-color: white; font-size: 1em; margin-left: 0px; '>Attempted to make international phone calls to Petr in CR. We could not connect the control room phones to him using any combination of numbers. \r\n",
       "\r\n",
       "\r\n",
       "In Hotel Pachón, we dialed 900 +420 721 XXX XXX to call his cell phone, and we were connected. This same function does not work from the control room and is an essential function.</pre>\n"
      ],
      "text/plain": [
       "<IPython.core.display.Markdown object>"
      ]
     },
     "metadata": {},
     "output_type": "display_data"
    },
    {
     "data": {
      "text/markdown": [
       "- Link: [OBS-627](https://rubinobs.atlassian.net/browse/OBS-627)"
      ],
      "text/plain": [
       "<IPython.core.display.Markdown object>"
      ]
     },
     "metadata": {},
     "output_type": "display_data"
    },
    {
     "data": {
      "text/markdown": [
       "- **2024-11-03 01:14:24.794346** Time Lost: 0.0; Time Lost Type: fault;\n",
       "    - components: ['MainTel']\n",
       "    - primary_software_components: ['None']\n",
       "    - primary_hardware_components: ['None']\n",
       "\n",
       "<pre style='color: black; background-color: white; font-size: 1em; margin-left: 0px; '>Closed loops with the hexapods seems to be working.</pre>\n"
      ],
      "text/plain": [
       "<IPython.core.display.Markdown object>"
      ]
     },
     "metadata": {},
     "output_type": "display_data"
    },
    {
     "data": {
      "text/markdown": [
       "- **2024-11-03 00:55:12.926288** Time Lost: 0.0; Time Lost Type: fault;\n",
       "    - components: ['MainTel']\n",
       "    - primary_software_components: ['None']\n",
       "    - primary_hardware_components: ['None']\n",
       "\n",
       "<pre style='color: black; background-color: white; font-size: 1em; margin-left: 0px; '>Turn on the M1M3 fans to 300 RPM</pre>\n"
      ],
      "text/plain": [
       "<IPython.core.display.Markdown object>"
      ]
     },
     "metadata": {},
     "output_type": "display_data"
    },
    {
     "data": {
      "text/markdown": [
       "- **2024-11-03 00:50:09.275682** Time Lost: 0.0; Time Lost Type: fault;\n",
       "    - components: ['MainTel']\n",
       "    - primary_software_components: ['None']\n",
       "    - primary_hardware_components: ['None']\n",
       "\n",
       "<pre style='color: black; background-color: white; font-size: 1em; margin-left: 0px; '>Taking data for BLOCK-249.</pre>\n"
      ],
      "text/plain": [
       "<IPython.core.display.Markdown object>"
      ]
     },
     "metadata": {},
     "output_type": "display_data"
    },
    {
     "data": {
      "text/markdown": [
       "- **2024-11-03 00:20:12.767750** Time Lost: 0.0; Time Lost Type: fault;\n",
       "    - components: ['MainTel']\n",
       "    - primary_software_components: ['None']\n",
       "    - primary_hardware_components: ['None']\n",
       "\n",
       "<pre style='color: black; background-color: white; font-size: 1em; margin-left: 0px; '>Sending MTAOS to offline to redeploy a new version with a fix to signal in the way the offsetDOF are applied.</pre>\n"
      ],
      "text/plain": [
       "<IPython.core.display.Markdown object>"
      ]
     },
     "metadata": {},
     "output_type": "display_data"
    },
    {
     "data": {
      "text/markdown": [
       "- **2024-11-03 00:07:56.753759** Time Lost: 0.0; Time Lost Type: fault;\n",
       "    - components: ['MainTel']\n",
       "    - primary_software_components: ['None']\n",
       "    - primary_hardware_components: ['None']\n",
       "\n",
       "<pre style='color: black; background-color: white; font-size: 1em; margin-left: 0px; '>Starting MTAOS ALignment, testing MTAOS signs</pre>\n"
      ],
      "text/plain": [
       "<IPython.core.display.Markdown object>"
      ]
     },
     "metadata": {},
     "output_type": "display_data"
    },
    {
     "data": {
      "text/markdown": [
       "- **2024-11-03 23:56:21.657170** Time Lost: 0.0; Time Lost Type: fault;\n",
       "    - components: ['MainTel']\n",
       "    - primary_software_components: ['None']\n",
       "    - primary_hardware_components: ['None']\n",
       "\n",
       "<pre style='color: black; background-color: white; font-size: 1em; margin-left: 0px; '>Taking measurement with the laser tracker and camera.</pre>\n"
      ],
      "text/plain": [
       "<IPython.core.display.Markdown object>"
      ]
     },
     "metadata": {},
     "output_type": "display_data"
    },
    {
     "data": {
      "text/markdown": [
       "- **2024-11-03 23:54:33.826551** Time Lost: 0.0; Time Lost Type: fault;\n",
       "    - components: ['MainTel']\n",
       "    - primary_software_components: ['None']\n",
       "    - primary_hardware_components: ['None']\n",
       "\n",
       "<pre style='color: black; background-color: white; font-size: 1em; margin-left: 0px; '>Slewing to 165. 65 to begin in dome laser tracker tests.</pre>\n"
      ],
      "text/plain": [
       "<IPython.core.display.Markdown object>"
      ]
     },
     "metadata": {},
     "output_type": "display_data"
    },
    {
     "data": {
      "text/markdown": [
       "- **2024-11-03 23:49:10.925802** Time Lost: 0.0; Time Lost Type: fault;\n",
       "    - components: ['MainTel']\n",
       "    - primary_software_components: ['None']\n",
       "    - primary_hardware_components: ['None']\n",
       "\n",
       "<pre style='color: black; background-color: white; font-size: 1em; margin-left: 0px; '>M1M3 temp is dropping too quickly. It was about 0.4 degrees C in 15 minutes. We need to close and protect the mirror. Going to run in dome tests until we can confirm that the ambient temperature stabilizes after 12 degree twilight.</pre>\n"
      ],
      "text/plain": [
       "<IPython.core.display.Markdown object>"
      ]
     },
     "metadata": {},
     "output_type": "display_data"
    },
    {
     "data": {
      "text/markdown": [
       "- **2024-11-03 23:23:11.615383** Time Lost: 0.0; Time Lost Type: fault;\n",
       "    - components: ['MainTel']\n",
       "    - primary_software_components: ['None']\n",
       "    - primary_hardware_components: ['None']\n",
       "\n",
       "<pre style='color: black; background-color: white; font-size: 1em; margin-left: 0px; '>Telescope is finally close to desired position. Going to turn off HVACs and open dome. Dome opened recently.</pre>\n"
      ],
      "text/plain": [
       "<IPython.core.display.Markdown object>"
      ]
     },
     "metadata": {},
     "output_type": "display_data"
    },
    {
     "data": {
      "text/markdown": [
       "- **2024-11-03 22:55:24.194940** Time Lost: 0.0; Time Lost Type: fault;\n",
       "    - components: ['MainTel']\n",
       "    - primary_software_components: ['None']\n",
       "    - primary_hardware_components: ['None']\n",
       "\n",
       "<pre style='color: black; background-color: white; font-size: 1em; margin-left: 0px; '>Attempting another p2p to az=130</pre>\n"
      ],
      "text/plain": [
       "<IPython.core.display.Markdown object>"
      ]
     },
     "metadata": {},
     "output_type": "display_data"
    },
    {
     "data": {
      "text/markdown": [
       "- **2024-11-03 22:52:06.290255** Time Lost: 0.0; Time Lost Type: fault;\n",
       "    - components: ['MainTel']\n",
       "    - primary_software_components: ['None']\n",
       "    - primary_hardware_components: ['None']\n",
       "\n",
       "<pre style='color: black; background-color: white; font-size: 1em; margin-left: 0px; '>Recovered the MTMount, tried to home axes, and elevation axis faulted during home. TMA acting very buggy - it has taken almost 2 hours (and counting) to change position to the south.</pre>\n"
      ],
      "text/plain": [
       "<IPython.core.display.Markdown object>"
      ]
     },
     "metadata": {},
     "output_type": "display_data"
    },
    {
     "data": {
      "text/markdown": [
       "- **2024-11-03 22:47:05.786616** Time Lost: 0.0; Time Lost Type: fault;\n",
       "    - components: ['MainTel']\n",
       "    - primary_software_components: ['None']\n",
       "    - primary_hardware_components: ['None']\n",
       "\n",
       "<pre style='color: black; background-color: white; font-size: 1em; margin-left: 0px; '>Softmotion axis fault in elevation - internal errors 22:36:00</pre>\n"
      ],
      "text/plain": [
       "<IPython.core.display.Markdown object>"
      ]
     },
     "metadata": {},
     "output_type": "display_data"
    },
    {
     "data": {
      "text/markdown": [
       "- Link: [OBS-641](https://rubinobs.atlassian.net/browse/OBS-641)"
      ],
      "text/plain": [
       "<IPython.core.display.Markdown object>"
      ]
     },
     "metadata": {},
     "output_type": "display_data"
    },
    {
     "data": {
      "text/markdown": [
       "- **2024-11-03 22:43:44.075158** Time Lost: 0.0; Time Lost Type: fault;\n",
       "    - components: ['MainTel']\n",
       "    - primary_software_components: ['None']\n",
       "    - primary_hardware_components: ['None']\n",
       "\n",
       "<pre style='color: black; background-color: white; font-size: 1em; margin-left: 0px; '>TMA began tracking target at 75 degrees elevation, and the elevation axis faulted.</pre>\n"
      ],
      "text/plain": [
       "<IPython.core.display.Markdown object>"
      ]
     },
     "metadata": {},
     "output_type": "display_data"
    },
    {
     "data": {
      "text/markdown": [
       "- **2024-11-03 22:34:25.469176** Time Lost: 0.0; Time Lost Type: fault;\n",
       "    - components: ['MainTel']\n",
       "    - primary_software_components: ['None']\n",
       "    - primary_hardware_components: ['None']\n",
       "\n",
       "<pre style='color: black; background-color: white; font-size: 1em; margin-left: 0px; '>Using track_target to slew TMA to el=75, az=120</pre>\n"
      ],
      "text/plain": [
       "<IPython.core.display.Markdown object>"
      ]
     },
     "metadata": {},
     "output_type": "display_data"
    },
    {
     "data": {
      "text/markdown": [
       "- **2024-11-03 22:34:09.918689** Time Lost: 0.0; Time Lost Type: fault;\n",
       "    - components: ['MainTel']\n",
       "    - primary_software_components: ['None']\n",
       "    - primary_hardware_components: ['None']\n",
       "\n",
       "<pre style='color: black; background-color: white; font-size: 1em; margin-left: 0px; '>Using p2p to slew TMA to el = 75, az = 100. Completed successfully.</pre>\n"
      ],
      "text/plain": [
       "<IPython.core.display.Markdown object>"
      ]
     },
     "metadata": {},
     "output_type": "display_data"
    },
    {
     "data": {
      "text/markdown": [
       "- **2024-11-03 22:27:30.446226** Time Lost: 0.0; Time Lost Type: fault;\n",
       "    - components: ['MainTel']\n",
       "    - primary_software_components: ['None']\n",
       "    - primary_hardware_components: ['None']\n",
       "\n",
       "<pre style='color: black; background-color: white; font-size: 1em; margin-left: 0px; '>At 90 degrees az, the TMA begin traveling backwards under no commande. az = 86 and decreasing now. Stopping script.</pre>\n"
      ],
      "text/plain": [
       "<IPython.core.display.Markdown object>"
      ]
     },
     "metadata": {},
     "output_type": "display_data"
    },
    {
     "data": {
      "text/markdown": [
       "- **2024-11-03 22:26:52.170045** Time Lost: 0.0; Time Lost Type: fault;\n",
       "    - components: ['MainTel']\n",
       "    - primary_software_components: ['None']\n",
       "    - primary_hardware_components: ['None']\n",
       "\n",
       "<pre style='color: black; background-color: white; font-size: 1em; margin-left: 0px; '>Telescope continues to slew to a position it was not commanded to go. Sal Index 100837. \r\n",
       "\r\n",
       "\r\n",
       "Slewed p2p for el=75, az=60. Look up and the script is still running, no TMA telemetry posted, and the TMA reports a position of el = 75 (stationary) and az = 90, and counting.</pre>\n"
      ],
      "text/plain": [
       "<IPython.core.display.Markdown object>"
      ]
     },
     "metadata": {},
     "output_type": "display_data"
    },
    {
     "data": {
      "text/markdown": [
       "- **2024-11-03 22:07:17.071799** Time Lost: 0.0; Time Lost Type: fault;\n",
       "    - components: ['MainTel']\n",
       "    - primary_software_components: ['None']\n",
       "    - primary_hardware_components: ['None']\n",
       "\n",
       "<pre style='color: black; background-color: white; font-size: 1em; margin-left: 0px; '>We were able to apply compensation mode after resetting the M2 hexapod PXI. Continuing TMA slew to south-pointing.</pre>\n"
      ],
      "text/plain": [
       "<IPython.core.display.Markdown object>"
      ]
     },
     "metadata": {},
     "output_type": "display_data"
    },
    {
     "data": {
      "text/markdown": [
       "- **2024-11-03 22:06:39.832004** Time Lost: 0.0; Time Lost Type: fault;\n",
       "    - components: ['MainTel']\n",
       "    - primary_software_components: ['None']\n",
       "    - primary_hardware_components: ['None']\n",
       "\n",
       "<pre style='color: black; background-color: white; font-size: 1em; margin-left: 0px; '>Attempting a 5-degree move with the dome CSC.</pre>\n"
      ],
      "text/plain": [
       "<IPython.core.display.Markdown object>"
      ]
     },
     "metadata": {},
     "output_type": "display_data"
    },
    {
     "data": {
      "text/markdown": [
       "- **2024-11-03 21:59:17.874576** Time Lost: 0.0; Time Lost Type: fault;\n",
       "    - components: ['MainTel']\n",
       "    - primary_software_components: ['None']\n",
       "    - primary_hardware_components: ['None']\n",
       "\n",
       "<pre style='color: black; background-color: white; font-size: 1em; margin-left: 0px; '>Ignoring M2 hexapod and beginning long slew to the south.</pre>\n"
      ],
      "text/plain": [
       "<IPython.core.display.Markdown object>"
      ]
     },
     "metadata": {},
     "output_type": "display_data"
    },
    {
     "data": {
      "text/markdown": [
       "- **2024-11-03 21:45:54.697330** Time Lost: 0.0; Time Lost Type: fault;\n",
       "    - components: ['MainTel']\n",
       "    - primary_software_components: ['None']\n",
       "    - primary_hardware_components: ['None']\n",
       "\n",
       "<pre style='color: black; background-color: white; font-size: 1em; margin-left: 0px; '>Going to attempt to reset the PXI for M2 Hexapod</pre>\n"
      ],
      "text/plain": [
       "<IPython.core.display.Markdown object>"
      ]
     },
     "metadata": {},
     "output_type": "display_data"
    },
    {
     "data": {
      "text/markdown": [
       "- **2024-11-03 21:41:52.530286** Time Lost: 0.0; Time Lost Type: fault;\n",
       "    - components: ['MainTel']\n",
       "    - primary_software_components: ['None']\n",
       "    - primary_hardware_components: ['None']\n",
       "\n",
       "<pre style='color: black; background-color: white; font-size: 1em; margin-left: 0px; '>M2 Hexapod low level controller went into fault state again. It's failing at any attempt to move. \r\n",
       "\r\n",
       "\r\n",
       "2024/11/03 21:38:35 TAI\r\n",
       "\r\n",
       "\r\n",
       "Fault! errorCode=1, errorReport='Low-level controller went to FAULT state'</pre>\n"
      ],
      "text/plain": [
       "<IPython.core.display.Markdown object>"
      ]
     },
     "metadata": {},
     "output_type": "display_data"
    },
    {
     "data": {
      "text/markdown": [
       "- Link: [OBS-620](https://rubinobs.atlassian.net/browse/OBS-620)"
      ],
      "text/plain": [
       "<IPython.core.display.Markdown object>"
      ]
     },
     "metadata": {},
     "output_type": "display_data"
    },
    {
     "data": {
      "text/markdown": [
       "- Link: [/rubinobs-lfa-cp/LOVE/OLE/2024/11/03/LOVE_OLE_2024-11-03T21:41:04.106.png](https://s3.cp.lsst.org/rubinobs-lfa-cp/LOVE/OLE/2024/11/03/LOVE_OLE_2024-11-03T21:41:04.106.png)"
      ],
      "text/plain": [
       "<IPython.core.display.Markdown object>"
      ]
     },
     "metadata": {},
     "output_type": "display_data"
    },
    {
     "data": {
      "text/markdown": [
       "- **2024-11-03 21:37:18.000101** Time Lost: 0.0; Time Lost Type: fault;\n",
       "    - components: ['MainTel']\n",
       "    - primary_software_components: ['None']\n",
       "    - primary_hardware_components: ['None']\n",
       "\n",
       "<pre style='color: black; background-color: white; font-size: 1em; margin-left: 0px; '>Attempted to enable M2 compensation mode . The script completed, but the CSC faulted immediately after. sal Index 100822.</pre>\n"
      ],
      "text/plain": [
       "<IPython.core.display.Markdown object>"
      ]
     },
     "metadata": {},
     "output_type": "display_data"
    },
    {
     "data": {
      "text/markdown": [
       "- **2024-11-03 21:33:12.979352** Time Lost: 0.0; Time Lost Type: fault;\n",
       "    - components: ['MainTel']\n",
       "    - primary_software_components: ['None']\n",
       "    - primary_hardware_components: ['None']\n",
       "\n",
       "<pre style='color: black; background-color: white; font-size: 1em; margin-left: 0px; '>We are now moving TMA to South (Az=165) and rotate a dome to Az=0.</pre>\n"
      ],
      "text/plain": [
       "<IPython.core.display.Markdown object>"
      ]
     },
     "metadata": {},
     "output_type": "display_data"
    },
    {
     "data": {
      "text/markdown": [
       "- **2024-11-03 20:10:58.245614** Time Lost: 0.0; Time Lost Type: fault;\n",
       "    - components: ['MainTel']\n",
       "    - primary_software_components: ['None']\n",
       "    - primary_hardware_components: ['None']\n",
       "\n",
       "<pre style='color: black; background-color: white; font-size: 1em; margin-left: 0px; '>Preparing to take CSC control and pointing the telescope south so we can be near position before sunset. Laser tracker tests will be run from this position.</pre>\n"
      ],
      "text/plain": [
       "<IPython.core.display.Markdown object>"
      ]
     },
     "metadata": {},
     "output_type": "display_data"
    },
    {
     "data": {
      "text/markdown": [
       "- **2024-11-03 20:07:19.189650** Time Lost: 0.0; Time Lost Type: fault;\n",
       "    - components: ['MainTel']\n",
       "    - primary_software_components: ['None']\n",
       "    - primary_hardware_components: ['None']\n",
       "\n",
       "<pre style='color: black; background-color: white; font-size: 1em; margin-left: 0px; '>Laser tracker was turned on. We are starting up TMA, raise mirror and open mirror covers.</pre>\n"
      ],
      "text/plain": [
       "<IPython.core.display.Markdown object>"
      ]
     },
     "metadata": {},
     "output_type": "display_data"
    },
    {
     "data": {
      "text/markdown": [
       "- **2024-11-03 19:05:02.637253** Time Lost: 0.0; Time Lost Type: fault;\n",
       "    - components: ['MainTel']\n",
       "    - primary_software_components: ['None']\n",
       "    - primary_hardware_components: ['None']\n",
       "\n",
       "<pre style='color: black; background-color: white; font-size: 1em; margin-left: 0px; '>We are going to skip m2 hexapod warm up since we had two timeout failures and proceed with (1) weekend walk around and (2) turn on the laser tracker.</pre>\n"
      ],
      "text/plain": [
       "<IPython.core.display.Markdown object>"
      ]
     },
     "metadata": {},
     "output_type": "display_data"
    },
    {
     "data": {
      "text/markdown": [
       "- **2024-11-03 18:57:48.812548** Time Lost: 0.0; Time Lost Type: fault;\n",
       "    - components: ['MainTel']\n",
       "    - primary_software_components: ['None']\n",
       "    - primary_hardware_components: ['None']\n",
       "\n",
       "<pre style='color: black; background-color: white; font-size: 1em; margin-left: 0px; '>M2 warmup failed twice while exercising y-axis. It keeps throwing time outs when handling in position status:\r\n",
       "\r\n",
       "\r\n",
       "2024/11/03 18:46:14 TAI (SALIndex 300199):\r\n",
       "\r\n",
       "\r\n",
       "\r\n",
       "\r\n",
       "File \"/net/obs-env/auto_base_packages/ts_externalscripts/python/lsst/ts/externalscripts/maintel/warmup_hexapod.py\", line 238, in move_stepwise\r\n",
       "    await self.move_hexapod(**all_positions)\r\n",
       "  File \"/net/obs-env/auto_base_packages/ts_observatory_control/python/lsst/ts/observatory/control/maintel/mtcs.py\", line 2135, in move_m2_hexapod\r\n",
       "    await self._handle_in_position(\r\n",
       "  File \"/net/obs-env/auto_base_packages/ts_observatory_control/python/lsst/ts/observatory/control/base_tcs.py\", line 1958, in _handle_in_position\r\n",
       "    in_position = await in_position_event.next(flush=False, timeout=timeout)\r\n",
       "                  ^^^^^^^^^^^^^^^^^^^^^^^^^^^^^^^^^^^^^^^^^^^^^^^^^^^^^^^^^^\r\n",
       "  File \"/opt/lsst/software/stack/conda/envs/lsst-scipipe-9.0.0/lib/python3.11/site-packages/lsst/ts/salobj/topics/read_topic.py\", line 681, in next\r\n",
       "    return await self._next(timeout=timeout)\r\n",
       "           ^^^^^^^^^^^^^^^^^^^^^^^^^^^^^^^^^\r\n",
       "  File \"/opt/lsst/software/stack/conda/envs/lsst-scipipe-9.0.0/lib/python3.11/site-packages/lsst/ts/salobj/topics/read_topic.py\", line 693, in _next\r\n",
       "    return await asyncio.wait_for(self._next_task, timeout=timeout)\r\n",
       "           ^^^^^^^^^^^^^^^^^^^^^^^^^^^^^^^^^^^^^^^^^^^^^^^^^^^^^^^^\r\n",
       "  File \"/opt/lsst/software/stack/conda/envs/lsst-scipipe-9.0.0/lib/python3.11/asyncio/tasks.py\", line 502, in wait_for\r\n",
       "    raise exceptions.TimeoutError() from exc\r\n",
       "TimeoutError</pre>\n"
      ],
      "text/plain": [
       "<IPython.core.display.Markdown object>"
      ]
     },
     "metadata": {},
     "output_type": "display_data"
    },
    {
     "data": {
      "text/markdown": [
       "- Link: [OBS-620](https://rubinobs.atlassian.net/browse/OBS-620)"
      ],
      "text/plain": [
       "<IPython.core.display.Markdown object>"
      ]
     },
     "metadata": {},
     "output_type": "display_data"
    },
    {
     "data": {
      "text/markdown": [
       "- **2024-11-03 18:45:15.505763** Time Lost: 0.0; Time Lost Type: fault;\n",
       "    - components: ['MainTel']\n",
       "    - primary_software_components: ['None']\n",
       "    - primary_hardware_components: ['None']\n",
       "\n",
       "<pre style='color: black; background-color: white; font-size: 1em; margin-left: 0px; '>Attempting hexapod warmups.</pre>\n"
      ],
      "text/plain": [
       "<IPython.core.display.Markdown object>"
      ]
     },
     "metadata": {},
     "output_type": "display_data"
    },
    {
     "data": {
      "text/markdown": [
       "- **2024-11-03 18:26:43.483759** Time Lost: 0.0; Time Lost Type: fault;\n",
       "    - components: ['MainTel']\n",
       "    - primary_software_components: ['None']\n",
       "    - primary_hardware_components: ['None']\n",
       "\n",
       "<pre style='color: black; background-color: white; font-size: 1em; margin-left: 0px; '>M2 warm up failed while exercising the y axis.</pre>\n"
      ],
      "text/plain": [
       "<IPython.core.display.Markdown object>"
      ]
     },
     "metadata": {},
     "output_type": "display_data"
    },
    {
     "data": {
      "text/markdown": [
       "- **2024-11-03 17:45:20.284078** Time Lost: 0.0; Time Lost Type: fault;\n",
       "    - components: ['MainTel']\n",
       "    - primary_software_components: ['None']\n",
       "    - primary_hardware_components: ['None']\n",
       "\n",
       "<pre style='color: black; background-color: white; font-size: 1em; margin-left: 0px; '>We are now starting to warm up hexapods.</pre>\n"
      ],
      "text/plain": [
       "<IPython.core.display.Markdown object>"
      ]
     },
     "metadata": {},
     "output_type": "display_data"
    },
    {
     "data": {
      "text/markdown": [
       "- **2024-11-03 17:38:22.492453** Time Lost: 0.0; Time Lost Type: fault;\n",
       "    - components: ['MainTel']\n",
       "    - primary_software_components: ['None']\n",
       "    - primary_hardware_components: ['None']\n",
       "\n",
       "<pre style='color: black; background-color: white; font-size: 1em; margin-left: 0px; '>FA 235 failed three times.</pre>\n"
      ],
      "text/plain": [
       "<IPython.core.display.Markdown object>"
      ]
     },
     "metadata": {},
     "output_type": "display_data"
    },
    {
     "data": {
      "text/markdown": [
       "- **2024-11-03 17:38:08.841329** Time Lost: 0.0; Time Lost Type: fault;\n",
       "    - components: ['MainTel']\n",
       "    - primary_software_components: ['None']\n",
       "    - primary_hardware_components: ['None']\n",
       "\n",
       "<pre style='color: black; background-color: white; font-size: 1em; margin-left: 0px; '>Just after arriving at the control room, we started to power up hexapods and rotator. And we started bump tests.</pre>\n"
      ],
      "text/plain": [
       "<IPython.core.display.Markdown object>"
      ]
     },
     "metadata": {},
     "output_type": "display_data"
    }
   ],
   "source": [
    "# Narrative Report\n",
    "# Time Log\n",
    "allrep.nar_rep.time_log_as_markdown()"
   ]
  },
  {
   "cell_type": "markdown",
   "id": "27",
   "metadata": {},
   "source": [
    "-----------\n",
    "------------"
   ]
  },
  {
   "cell_type": "markdown",
   "id": "cd0567ce-4ae9-428e-8f9d-df8277511392",
   "metadata": {},
   "source": [
    "# Developer Only Section <font style=\"background-color:red; olor:black; font-size:20px\"> REMOVE</font>\n",
    "Contains stuff only expected to be useful to developers.\n",
    "\n",
    "This may also contain sections that have moved out of the user section because they are no longer defined in the Storyboard."
   ]
  },
  {
   "cell_type": "markdown",
   "id": "34",
   "metadata": {},
   "source": [
    "## Overview \n"
   ]
  },
  {
   "cell_type": "code",
   "execution_count": 17,
   "id": "6e220d29-aac6-4d70-80e2-7dd3ef99944c",
   "metadata": {
    "jupyter": {
     "source_hidden": true
    }
   },
   "outputs": [
    {
     "data": {
      "text/markdown": [
       "## Project-Wide Night(s) Report \n",
       "- Run on logs and databases from **https://usdf-rsp-dev.slac.stanford.edu/**\n",
       "- Report **1 observing night(s)** with the last reported night starting on **2024-11-03 12:00:00**.\n",
       "- min_dayobs='2024-11-03', max_dayobs='2024-11-04'\n",
       "- Using ***Prototype* Logging and Reporting** Version: **0.1.dev145+gf2a5765.d20241014**\n",
       "- have_consdb = True\n",
       "- Imported lsst.ts.logging_and_reporting from local packages.\n"
      ],
      "text/plain": [
       "<IPython.core.display.Markdown object>"
      ]
     },
     "metadata": {},
     "output_type": "display_data"
    }
   ],
   "source": [
    "# Display overview of Report context\n",
    "try:\n",
    "    import lsst.ts.logging_and_reporting.version\n",
    "\n",
    "    lrversion = lsst.ts.logging_and_reporting.version.__version__\n",
    "except:\n",
    "    lrversion = \"LIVE\"\n",
    "\n",
    "try:\n",
    "    from lsst.summit.utils import ConsDbClient\n",
    "\n",
    "    have_consdb = True\n",
    "except:\n",
    "    have_consdb = False\n",
    "md(\n",
    "    f\"\"\"## Project-Wide Night(s) Report \n",
    "- Run on logs and databases from **{server}/**\n",
    "- Report **{days} observing night(s)** with the last reported night starting on **{date}**.\n",
    "- min_dayobs={allsrc.min_dayobs!r}, max_dayobs={allsrc.max_dayobs!r}\n",
    "- Using ***Prototype* Logging and Reporting** Version: **{lrversion}**\n",
    "- {have_consdb = }\n",
    "- {dev_msg}\n",
    "\"\"\")"
   ]
  },
  {
   "cell_type": "markdown",
   "id": "47ef40d3-f6d4-4b6a-80bf-55a613d3f884",
   "metadata": {},
   "source": [
    "## Data Status\n",
    "This may be useful for diagnosing reports that give unexpected results."
   ]
  },
  {
   "cell_type": "code",
   "execution_count": 18,
   "id": "b076e98a-44a2-437c-9342-a180fe2cd829",
   "metadata": {},
   "outputs": [
    {
     "data": {
      "text/html": [
       "<table border=\"1\" class=\"dataframe\">\n",
       "  <thead>\n",
       "    <tr style=\"text-align: right;\">\n",
       "      <th>Endpoint</th>\n",
       "      <th>Records</th>\n",
       "      <th>URL</th>\n",
       "    </tr>\n",
       "  </thead>\n",
       "  <tbody>\n",
       "    <tr>\n",
       "      <td>nightreport/reports</td>\n",
       "      <td>2</td>\n",
       "      <td><a href=\"https://usdf-rsp-dev.slac.stanford.edu/nightreport/reports?is_human=either&is_valid=true&order_by=-day_obs&offset=0&limit=100&min_day_obs=20241103&max_day_obs=20241104\" target=\"_blank\">https://usdf-rsp-dev.slac.stanford.edu/nightreport/reports?is_human=either&is_valid=true&order_by=-day_obs&offset=0&limit=100&min_day_obs=20241103&max_day_obs=20241104</a></td>\n",
       "    </tr>\n",
       "    <tr>\n",
       "      <td>exposurelog/instruments</td>\n",
       "      <td>3</td>\n",
       "      <td><a href=\"https://usdf-rsp-dev.slac.stanford.edu/exposurelog/instruments\" target=\"_blank\">https://usdf-rsp-dev.slac.stanford.edu/exposurelog/instruments</a></td>\n",
       "    </tr>\n",
       "    <tr>\n",
       "      <td>exposurelog/exposures.LSSTComCamSim</td>\n",
       "      <td>0</td>\n",
       "      <td><a href=\"https://usdf-rsp-dev.slac.stanford.edu/exposurelog/exposures?registry=1&instrument=LSSTComCamSim&order_by=-timespan_end&offset=0&limit=2500&min_day_obs=20241103&max_day_obs=20241104\" target=\"_blank\">https://usdf-rsp-dev.slac.stanford.edu/exposurelog/exposures?registry=1&instrument=LSSTComCamSim&order_by=-timespan_end&offset=0&limit=2500&min_day_obs=20241103&max_day_obs=20241104</a></td>\n",
       "    </tr>\n",
       "    <tr>\n",
       "      <td>exposurelog/exposures.LATISS</td>\n",
       "      <td>0</td>\n",
       "      <td><a href=\"https://usdf-rsp-dev.slac.stanford.edu/exposurelog/exposures?registry=1&instrument=LATISS&order_by=-timespan_end&offset=0&limit=2500&min_day_obs=20241103&max_day_obs=20241104\" target=\"_blank\">https://usdf-rsp-dev.slac.stanford.edu/exposurelog/exposures?registry=1&instrument=LATISS&order_by=-timespan_end&offset=0&limit=2500&min_day_obs=20241103&max_day_obs=20241104</a></td>\n",
       "    </tr>\n",
       "    <tr>\n",
       "      <td>exposurelog/exposures.LSSTComCam</td>\n",
       "      <td>116</td>\n",
       "      <td><a href=\"https://usdf-rsp-dev.slac.stanford.edu/exposurelog/exposures?registry=1&instrument=LSSTComCam&order_by=-timespan_end&offset=0&limit=2500&min_day_obs=20241103&max_day_obs=20241104\" target=\"_blank\">https://usdf-rsp-dev.slac.stanford.edu/exposurelog/exposures?registry=1&instrument=LSSTComCam&order_by=-timespan_end&offset=0&limit=2500&min_day_obs=20241103&max_day_obs=20241104</a></td>\n",
       "    </tr>\n",
       "    <tr>\n",
       "      <td>exposurelog/exposures.LSSTCam</td>\n",
       "      <td>2508</td>\n",
       "      <td><a href=\"https://usdf-rsp-dev.slac.stanford.edu/exposurelog/exposures?registry=1&instrument=LSSTCam&order_by=-timespan_end&offset=2500&limit=2500&min_day_obs=20241103&max_day_obs=20241104\" target=\"_blank\">https://usdf-rsp-dev.slac.stanford.edu/exposurelog/exposures?registry=1&instrument=LSSTCam&order_by=-timespan_end&offset=2500&limit=2500&min_day_obs=20241103&max_day_obs=20241104</a></td>\n",
       "    </tr>\n",
       "    <tr>\n",
       "      <td>exposurelog/messages</td>\n",
       "      <td>0</td>\n",
       "      <td><a href=\"https://usdf-rsp-dev.slac.stanford.edu/exposurelog/messages?is_human=either&is_valid=true&order_by=-day_obs&offset=0&limit=2500&min_day_obs=20241103&max_day_obs=20241104\" target=\"_blank\">https://usdf-rsp-dev.slac.stanford.edu/exposurelog/messages?is_human=either&is_valid=true&order_by=-day_obs&offset=0&limit=2500&min_day_obs=20241103&max_day_obs=20241104</a></td>\n",
       "    </tr>\n",
       "    <tr>\n",
       "      <td>narrativelog/messages</td>\n",
       "      <td>74</td>\n",
       "      <td><a href=\"https://usdf-rsp-dev.slac.stanford.edu/narrativelog/messages?is_human=either&is_valid=true&order_by=-date_added&offset=0&limit=1000&min_date_added=2024-11-03T00%3A00%3A00&max_date_added=2024-11-04T00%3A00%3A00\" target=\"_blank\">https://usdf-rsp-dev.slac.stanford.edu/narrativelog/messages?is_human=either&is_valid=true&order_by=-date_added&offset=0&limit=1000&min_date_added=2024-11-03T00%3A00%3A00&max_date_added=2024-11-04T00%3A00%3A00</a></td>\n",
       "    </tr>\n",
       "    <tr>\n",
       "      <td>efd/targets</td>\n",
       "      <td>0</td>\n",
       "      <td>NA</td>\n",
       "    </tr>\n",
       "  </tbody>\n",
       "</table>"
      ],
      "text/plain": [
       "<IPython.core.display.HTML object>"
      ]
     },
     "metadata": {},
     "output_type": "display_data"
    }
   ],
   "source": [
    "df = pd.DataFrame(allsrc.get_data_status())\n",
    "table = df.to_html(\n",
    "    index=False, \n",
    "    render_links=True,\n",
    "    escape=False)\n",
    "display(HTML(table))"
   ]
  },
  {
   "cell_type": "markdown",
   "id": "37",
   "metadata": {},
   "source": [
    "## This report uses the following data sources\n",
    "- NightReport\n",
    "- Exposurelog\n",
    "- Narrativelog\n",
    "- EFD\n",
    "- ConsDB\n",
    "- (DDV)\n",
    "- (Almanac from Astroplan)"
   ]
  },
  {
   "cell_type": "markdown",
   "id": "38",
   "metadata": {},
   "source": [
    "## DDV "
   ]
  },
  {
   "cell_type": "code",
   "execution_count": 19,
   "id": "39",
   "metadata": {
    "jupyter": {
     "source_hidden": true
    }
   },
   "outputs": [
    {
     "data": {
      "text/markdown": [
       "Access DDV part of RubinTV: https://usdf-rsp-dev.slac.stanford.edu/rubintv/ddv/index.html"
      ],
      "text/plain": [
       "<IPython.core.display.Markdown object>"
      ]
     },
     "metadata": {},
     "output_type": "display_data"
    }
   ],
   "source": [
    "DDV = (\n",
    "    f\"{server}/rubintv-dev/ddv/index.html\"\n",
    "    if \"summit\" in server\n",
    "    else f\"{server}/rubintv/ddv/index.html\"\n",
    ")\n",
    "md(f\"Access DDV part of RubinTV: {DDV}\")"
   ]
  },
  {
   "cell_type": "markdown",
   "id": "40",
   "metadata": {},
   "source": [
    "## Where was this run?\n",
    "\n",
    "The environments that have everything needed to run this page are:\n",
    "\n",
    "    https://summit-lsp.lsst.codes\n",
    "    https://usdf-rsp-dev.slac.stanford.edu\n",
    "\n",
    "However, Times Square does not run on the Summit. It does run on USDF-dev.\n"
   ]
  },
  {
   "cell_type": "markdown",
   "id": "41",
   "metadata": {},
   "source": [
    "## Section overviews moved here"
   ]
  },
  {
   "cell_type": "code",
   "execution_count": 20,
   "id": "42",
   "metadata": {},
   "outputs": [
    {
     "data": {
      "text/markdown": [
       "### Overview for Service: `nightreport` [2]"
      ],
      "text/plain": [
       "<IPython.core.display.Markdown object>"
      ]
     },
     "metadata": {},
     "output_type": "display_data"
    },
    {
     "name": "stdout",
     "output_type": "stream",
     "text": [
      "None\n"
     ]
    },
    {
     "data": {
      "text/markdown": [
       "- Endpoint: https://usdf-rsp-dev.slac.stanford.edu/nightreport/reports?is_human=either&is_valid=true&order_by=-day_obs&offset=0&limit=100&min_day_obs=20241103&max_day_obs=20241104"
      ],
      "text/plain": [
       "<IPython.core.display.Markdown object>"
      ]
     },
     "metadata": {},
     "output_type": "display_data"
    },
    {
     "name": "stdout",
     "output_type": "stream",
     "text": [
      "None\n",
      "- Got 2 records.  \n"
     ]
    },
    {
     "data": {
      "text/markdown": [
       "### Overview for Service: `exposurelog` [0]"
      ],
      "text/plain": [
       "<IPython.core.display.Markdown object>"
      ]
     },
     "metadata": {},
     "output_type": "display_data"
    },
    {
     "name": "stdout",
     "output_type": "stream",
     "text": [
      "None\n"
     ]
    },
    {
     "data": {
      "text/markdown": [
       "- Endpoint: https://usdf-rsp-dev.slac.stanford.edu/exposurelog/messages?is_human=either&is_valid=true&order_by=-day_obs&offset=0&limit=2500&min_day_obs=20241103&max_day_obs=20241104"
      ],
      "text/plain": [
       "<IPython.core.display.Markdown object>"
      ]
     },
     "metadata": {},
     "output_type": "display_data"
    },
    {
     "name": "stdout",
     "output_type": "stream",
     "text": [
      "None\n",
      "- Got 0 records.  \n"
     ]
    },
    {
     "data": {
      "text/markdown": [
       "### Overview for Service: `narrativelog` [74]"
      ],
      "text/plain": [
       "<IPython.core.display.Markdown object>"
      ]
     },
     "metadata": {},
     "output_type": "display_data"
    },
    {
     "name": "stdout",
     "output_type": "stream",
     "text": [
      "None\n"
     ]
    },
    {
     "data": {
      "text/markdown": [
       "- Endpoint: https://usdf-rsp-dev.slac.stanford.edu/narrativelog/messages?is_human=either&is_valid=true&order_by=-date_added&offset=0&limit=1000&min_date_added=2024-11-03T00%3A00%3A00&max_date_added=2024-11-04T00%3A00%3A00"
      ],
      "text/plain": [
       "<IPython.core.display.Markdown object>"
      ]
     },
     "metadata": {},
     "output_type": "display_data"
    },
    {
     "name": "stdout",
     "output_type": "stream",
     "text": [
      "None\n",
      "- Got 74 records.  \n"
     ]
    }
   ],
   "source": [
    "# Night Report Overview\n",
    "allrep.nig_rep.overview()\n",
    "# Exposure Report Overview\n",
    "allrep.exp_rep.overview()\n",
    "# Narrative Report Overview\n",
    "allrep.nar_rep.overview()"
   ]
  },
  {
   "cell_type": "code",
   "execution_count": 21,
   "id": "43",
   "metadata": {},
   "outputs": [],
   "source": [
    "# Conditionally display our current ability to connect to all needed endpoints.\n",
    "if False and not os.environ.get(\"EXTERNAL_INSTANCE_URL\"):\n",
    "    md(\"## Dashboard\")\n",
    "    md(\"(This is not done when running under Times Square.)\")\n",
    "    %run ./dashboard.ipynb"
   ]
  },
  {
   "cell_type": "markdown",
   "id": "44",
   "metadata": {},
   "source": [
    "## Finale"
   ]
  },
  {
   "cell_type": "code",
   "execution_count": 22,
   "id": "45",
   "metadata": {
    "jupyter": {
     "source_hidden": true
    }
   },
   "outputs": [
    {
     "name": "stdout",
     "output_type": "stream",
     "text": [
      "Finished 2024-11-04 14:54:35.032233\n"
     ]
    }
   ],
   "source": [
    "print(f\"Finished {str(dt.datetime.now())}\")"
   ]
  }
 ],
 "metadata": {
  "kernelspec": {
   "display_name": "Python 3 (ipykernel)",
   "language": "python",
   "name": "python3"
  },
  "language_info": {
   "codemirror_mode": {
    "name": "ipython",
    "version": 3
   },
   "file_extension": ".py",
   "mimetype": "text/x-python",
   "name": "python",
   "nbconvert_exporter": "python",
   "pygments_lexer": "ipython3",
   "version": "3.11.9"
  }
 },
 "nbformat": 4,
 "nbformat_minor": 5
}
