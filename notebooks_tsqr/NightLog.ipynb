{
 "cells": [
  {
   "cell_type": "markdown",
   "id": "0",
   "metadata": {},
   "source": [
    "# About this Page\n",
    "This section is a developer aid; TODO remove later!\n",
    "*This notebook is intended to align with [storyboard Version 51](https://rubinobs.atlassian.net/wiki/pages/viewpage.action?pageId=132612364&pageVersion=51)* (more or less)\n",
    "If you are using this under Time Square and *get any errors* that you think come from this notebook, please tell Steve Pothier (steve.pothier@noirlab.edu).  Include the full Times Square URL you used to get the error. \n",
    "\n",
    "## What is new?\n",
    "- Added \"What is new\"\n",
    "- Sunset bug: DM-47511\n",
    "- Retrieve of records from each source will repeatedly get pages until all data for the specified date range has been retrieved.\n",
    "- Data Log partitions exposure counts by \"quality\" flags.\n",
    "- Data Log now has link to drill down to Detail exposure list.\n",
    "- This page tries to work around existing problems with APIs used for source data. (There is a ticket to fix the APIs)\n",
    "- Errors with APIs are display in this page in Red.\n",
    "\n",
    "## Known issues\n",
    "- (none known)"
   ]
  },
  {
   "cell_type": "code",
   "execution_count": 1,
   "id": "1",
   "metadata": {},
   "outputs": [],
   "source": [
    "# Parameters.\n",
    "# Times Square replaces this cell with the user's parameters.\n",
    "# So, don't put anything else here!\n",
    "\n",
    "# day_obs values: TODAY, YESTERDAY, YYYY-MM-DD\n",
    "# Report on observing nights that start upto but not included this day.\n",
    "#!day_obs = '2024-09-25' # Value to use for local testing (Summit)\n",
    "day_obs = \"2024-11-05\"  # TODO Change to 'YESTERDAY' to test with default before push\n",
    "\n",
    "# Total number of days of data to display (ending on day_obs)\n",
    "number_of_days = \"1\"  # TODO Change to '1' to test with default before push\n",
    "\n",
    "verbose = \"true\"  # TODO change to false before push, else true"
   ]
  },
  {
   "cell_type": "code",
   "execution_count": 2,
   "id": "2",
   "metadata": {},
   "outputs": [],
   "source": [
    "import datetime as dt\n",
    "import os\n",
    "from collections import defaultdict\n",
    "from pprint import pformat, pp\n",
    "from urllib.parse import urlencode, urlparse\n",
    "import pandas as pd\n",
    "from IPython.display import HTML\n",
    "\n",
    "# When running under Times Square, install pkg from github.\n",
    "# Otherwise use what is installed locally (intended to be dev editiable pkg)\n",
    "if os.environ.get(\"EXTERNAL_INSTANCE_URL\"):\n",
    "    dev_msg = (\n",
    "        'Installing \"lsst.ts.logging_and_reporting\" from github using \"prototype\" branch. \\n'\n",
    "        'TODO: Make the need for this go away by getting Logging_and_Reporting installed in RSP.'\n",
    "    )\n",
    "    !pip install --upgrade git+https://github.com/lsst-ts/ts_logging_and_reporting.git@prototype > /dev/null 2>&1\n",
    "else:\n",
    "    dev_msg = 'Imported lsst.ts.logging_and_reporting from local packages.'\n",
    "from lsst.ts.logging_and_reporting.all_sources import AllSources\n",
    "from lsst.ts.logging_and_reporting.all_reports import AllReports\n",
    "import lsst.ts.logging_and_reporting.utils as ut\n",
    "from lsst.ts.logging_and_reporting.reports import md, mdlist, mdpathlink\n",
    "from lsst.ts.logging_and_reporting.reports import html_draft, html_beta"
   ]
  },
  {
   "cell_type": "code",
   "execution_count": 3,
   "id": "4",
   "metadata": {},
   "outputs": [],
   "source": [
    "# Set default env to \"usdf\" and try before PUSH to repo.\n",
    "# The default provided here is for local testing. Under Times Square it is ignored.\n",
    "server = os.environ.get(\n",
    "    \"EXTERNAL_INSTANCE_URL\", \n",
    "    ut.Server.usdf) # TODO try with \"usdf\" before push (else \"summit\")"
   ]
  },
  {
   "cell_type": "code",
   "execution_count": 4,
   "id": "ec883835-42d3-40ae-a014-8b89befe4263",
   "metadata": {
    "jupyter": {
     "source_hidden": true
    }
   },
   "outputs": [],
   "source": [
    "date = ut.get_datetime_from_dayobs_str(day_obs)\n",
    "# date:  is EXCLUSIVE (upto, but not including)\n",
    "days = int(number_of_days)\n",
    "\n",
    "# Thus: [min_day_obs,max_day_obs)\n",
    "# Format: string, YYYY-MM-DD\n",
    "min_date = date - dt.timedelta(days=days - 1)\n",
    "max_date = date + dt.timedelta(days=1)\n",
    "min_day_obs = min_date.strftime(\"%Y-%m-%d\")  # Inclusive\n",
    "max_day_obs = max_date.strftime(\"%Y-%m-%d\")  # prep for Exclusive\n",
    "\n",
    "verbose = (verbose == \"true\") \n"
   ]
  },
  {
   "cell_type": "code",
   "execution_count": 5,
   "id": "5",
   "metadata": {
    "scrolled": true
   },
   "outputs": [
    {
     "name": "stdout",
     "output_type": "stream",
     "text": [
      "DBG get_records endpoint='https://usdf-rsp-dev.slac.stanford.edu/nightreport/reports'\n",
      "DBG get_records qstr: is_human=either&is_valid=true&order_by=-day_obs&offset=0&limit=100&min_day_obs=20241105&max_day_obs=20241106\n",
      "DEBUG protected_get(url='https://usdf-rsp-dev.slac.stanford.edu/nightreport/reports?is_human=either&is_valid=true&order_by=-day_obs&offset=0&limit=100&min_day_obs=20241105&max_day_obs=20241106',timeout=(5.05, 20.0))\n",
      "DBG get_records-2 len(page)=1 len(recs)=1\n",
      "DBG get_records-2 len(self.records)=1 status={'endpoint_url': 'https://usdf-rsp-dev.slac.stanford.edu/nightreport/reports?is_human=either&is_valid=true&order_by=-day_obs&offset=0&limit=100&min_day_obs=20241105&max_day_obs=20241106', 'number_of_records': 1, 'error': None}\n",
      "DEBUG protected_get(url='https://usdf-rsp-dev.slac.stanford.edu/exposurelog/instruments',timeout=(5.05, 20.0))\n",
      "DBG get_exposures endpoint='https://usdf-rsp-dev.slac.stanford.edu/exposurelog/exposures'\n",
      "DBG get_exposures qstr: registry=1&instrument=LSSTComCamSim&order_by=-timespan_end&offset=0&limit=2500&min_day_obs=20241105&max_day_obs=20241106\n",
      "DEBUG protected_get(url='https://usdf-rsp-dev.slac.stanford.edu/exposurelog/exposures?registry=1&instrument=LSSTComCamSim&order_by=-timespan_end&offset=0&limit=2500&min_day_obs=20241105&max_day_obs=20241106',timeout=(5.05, 20.0))\n",
      "DBG get_exposures endpoint='https://usdf-rsp-dev.slac.stanford.edu/exposurelog/exposures'\n",
      "DBG get_exposures qstr: registry=1&instrument=LATISS&order_by=-timespan_end&offset=0&limit=2500&min_day_obs=20241105&max_day_obs=20241106\n",
      "DEBUG protected_get(url='https://usdf-rsp-dev.slac.stanford.edu/exposurelog/exposures?registry=1&instrument=LATISS&order_by=-timespan_end&offset=0&limit=2500&min_day_obs=20241105&max_day_obs=20241106',timeout=(5.05, 20.0))\n",
      "DBG get_exposures endpoint='https://usdf-rsp-dev.slac.stanford.edu/exposurelog/exposures'\n",
      "DBG get_exposures qstr: registry=1&instrument=LSSTComCam&order_by=-timespan_end&offset=0&limit=2500&min_day_obs=20241105&max_day_obs=20241106\n",
      "DEBUG protected_get(url='https://usdf-rsp-dev.slac.stanford.edu/exposurelog/exposures?registry=1&instrument=LSSTComCam&order_by=-timespan_end&offset=0&limit=2500&min_day_obs=20241105&max_day_obs=20241106',timeout=(5.05, 20.0))\n",
      "DBG get_exposures endpoint='https://usdf-rsp-dev.slac.stanford.edu/exposurelog/exposures'\n",
      "DBG get_exposures qstr: registry=1&instrument=LSSTCam&order_by=-timespan_end&offset=0&limit=2500&min_day_obs=20241105&max_day_obs=20241106\n",
      "DEBUG protected_get(url='https://usdf-rsp-dev.slac.stanford.edu/exposurelog/exposures?registry=1&instrument=LSSTCam&order_by=-timespan_end&offset=0&limit=2500&min_day_obs=20241105&max_day_obs=20241106',timeout=(5.05, 20.0))\n",
      "DBG get_records: endpoint='https://usdf-rsp-dev.slac.stanford.edu/exposurelog/messages'\n",
      "DBG get_records qstr: is_human=either&is_valid=true&order_by=-day_obs&offset=0&limit=2500&min_day_obs=20241105&max_day_obs=20241106\n",
      "DEBUG protected_get(url='https://usdf-rsp-dev.slac.stanford.edu/exposurelog/messages?is_human=either&is_valid=true&order_by=-day_obs&offset=0&limit=2500&min_day_obs=20241105&max_day_obs=20241106',timeout=(5.05, 20.0))\n",
      "add_exposure_flag_to_exposures rec={'obs_id': 'CC_O_20241105_000220', 'id': 2024110500220, 'instrument': 'LSSTComCam', 'observation_type': 'science', 'observation_reason': 'object', 'day_obs': 20241105, 'seq_num': 220, 'group_name': '2024-11-06T07:26:42.224', 'target_name': 'UNKNOWN', 'science_program': 'unknown', 'tracking_ra': 59.95548796906972, 'tracking_dec': -21.29378412020795, 'sky_angle': 116.4761087636258, 'timespan_begin': '2024-11-06T07:27:01.968015', 'timespan_end': '2024-11-06T07:29:02.407000', 'exposure_flag': None, 'exposure_time': 0.0}\n",
      "add_exposure_flag_to_exposures rec={'obs_id': 'CC_O_20241105_000219', 'id': 2024110500219, 'instrument': 'LSSTComCam', 'observation_type': 'science', 'observation_reason': 'object', 'day_obs': 20241105, 'seq_num': 219, 'group_name': '2024-11-06T07:24:16.739', 'target_name': 'UNKNOWN', 'science_program': 'unknown', 'tracking_ra': 59.95548025474238, 'tracking_dec': -21.29393850599808, 'sky_angle': 116.47578896092101, 'timespan_begin': '2024-11-06T07:25:32.125010', 'timespan_end': '2024-11-06T07:25:47.568000', 'exposure_flag': None, 'exposure_time': 0.0}\n",
      "add_exposure_flag_to_exposures rec={'obs_id': 'CC_O_20241105_000036', 'id': 2024110500036, 'instrument': 'LSSTComCam', 'observation_type': 'acq', 'observation_reason': 'comcam_manual_alignment', 'day_obs': 20241105, 'seq_num': 36, 'group_name': '2024-11-06T00:33:08.610', 'target_name': 'UNKNOWN', 'science_program': 'unknown', 'tracking_ra': 353.67121964757337, 'tracking_dec': -53.228904052772535, 'sky_angle': 330.5338504313997, 'timespan_begin': '2024-11-06T00:33:28.567983', 'timespan_end': '2024-11-06T00:33:58.996000', 'exposure_flag': None, 'exposure_time': 0.0}\n",
      "add_exposure_flag_to_exposures rec={'obs_id': 'CC_O_20241105_000035', 'id': 2024110500035, 'instrument': 'LSSTComCam', 'observation_type': 'acq', 'observation_reason': 'comcam_manual_alignment', 'day_obs': 20241105, 'seq_num': 35, 'group_name': '2024-11-06T00:24:32.154', 'target_name': 'UNKNOWN', 'science_program': 'unknown', 'tracking_ra': 353.67114571059176, 'tracking_dec': -53.22890351824676, 'sky_angle': 330.53428022673813, 'timespan_begin': '2024-11-06T00:27:20.832017', 'timespan_end': '2024-11-06T00:27:51.266000', 'exposure_flag': None, 'exposure_time': 0.0}\n",
      "add_exposure_flag_to_exposures rec={'obs_id': 'CC_O_20241105_000034', 'id': 2024110500034, 'instrument': 'LSSTComCam', 'observation_type': 'acq', 'observation_reason': 'comcam_manual_alignment', 'day_obs': 20241105, 'seq_num': 34, 'group_name': '2024-11-06T00:24:32.154', 'target_name': 'UNKNOWN', 'science_program': 'unknown', 'tracking_ra': 353.67125028662224, 'tracking_dec': -53.22890268577733, 'sky_angle': 330.53331770199964, 'timespan_begin': '2024-11-06T00:24:32.267009', 'timespan_end': '2024-11-06T00:25:02.708000', 'exposure_flag': None, 'exposure_time': 0.0}\n",
      "add_exposure_flag_to_exposures rec={'obs_id': 'CC_O_20241105_000033', 'id': 2024110500033, 'instrument': 'LSSTComCam', 'observation_type': 'dark', 'observation_reason': 'comcam_twilight_flat', 'day_obs': 20241105, 'seq_num': 33, 'group_name': '2024-11-05T23:46:45.064', 'target_name': 'slew_icrs', 'science_program': 'BLOCK-T215', 'tracking_ra': 346.6033826463881, 'tracking_dec': -52.80651002379512, 'sky_angle': None, 'timespan_begin': '2024-11-06T00:13:46.868016', 'timespan_end': '2024-11-06T00:14:16.881000', 'exposure_flag': None, 'exposure_time': 0.0}\n",
      "add_exposure_flag_to_exposures rec={'obs_id': 'CC_O_20241105_000026', 'id': 2024110500026, 'instrument': 'LSSTComCam', 'observation_type': 'acq', 'observation_reason': 'comcam_twilight_flat', 'day_obs': 20241105, 'seq_num': 26, 'group_name': '2024-11-05T23:46:45.064', 'target_name': 'slew_icrs', 'science_program': 'BLOCK-T215', 'tracking_ra': 346.2078217706167, 'tracking_dec': -52.88618942352555, 'sky_angle': 330.46209234931854, 'timespan_begin': '2024-11-06T00:04:54.283015', 'timespan_end': '2024-11-06T00:05:24.722000', 'exposure_flag': None, 'exposure_time': 0.0}\n",
      "add_exposure_flag_to_exposures rec={'obs_id': 'CC_O_20241105_000019', 'id': 2024110500019, 'instrument': 'LSSTComCam', 'observation_type': 'acq', 'observation_reason': 'comcam_twilight_flat', 'day_obs': 20241105, 'seq_num': 19, 'group_name': '2024-11-05T23:46:45.064', 'target_name': 'slew_icrs', 'science_program': 'BLOCK-T215', 'tracking_ra': 345.66980414607536, 'tracking_dec': -53.022401224946904, 'sky_angle': 330.4620320090255, 'timespan_begin': '2024-11-05T23:56:26.142983', 'timespan_end': '2024-11-05T23:56:35.825000', 'exposure_flag': None, 'exposure_time': 0.0}\n",
      "NarrativeLogAdapter(server_url='https://usdf-rsp-dev.slac.stanford.edu', max_dayobs='2024-11-06', min_dayobs='2024-11-05', limit=None\n",
      "Using endpoint='https://usdf-rsp-dev.slac.stanford.edu/narrativelog/messages'\n",
      "DBG get_records qstr: is_human=either&is_valid=true&order_by=-date_added&offset=0&limit=1000&min_date_added=2024-11-05T00%3A00%3A00&max_date_added=2024-11-06T00%3A00%3A00\n",
      "DEBUG protected_get(url='https://usdf-rsp-dev.slac.stanford.edu/narrativelog/messages?is_human=either&is_valid=true&order_by=-date_added&offset=0&limit=1000&min_date_added=2024-11-05T00%3A00%3A00&max_date_added=2024-11-06T00%3A00%3A00',timeout=(5.05, 20.0))\n",
      "Loaded data from sources in 5.3 seconds\n"
     ]
    }
   ],
   "source": [
    "# Read records from (almost) all sources\n",
    "allsrc = AllSources(\n",
    "    server_url=server,\n",
    "    min_dayobs=min_day_obs,\n",
    "    max_dayobs=max_day_obs,\n",
    "    verbose=verbose,                \n",
    "    limit=5000,\n",
    "    exclude_instruments = []      # TODO change to empty list before push\n",
    ")\n",
    "allrep = AllReports(allsrc=allsrc)"
   ]
  },
  {
   "cell_type": "markdown",
   "id": "a0d44b83-527e-41b2-8d05-6f6207ceba30",
   "metadata": {},
   "source": [
    "----------"
   ]
  },
  {
   "cell_type": "code",
   "execution_count": 6,
   "id": "7",
   "metadata": {
    "scrolled": true
   },
   "outputs": [
    {
     "data": {
      "text/markdown": [
       "# Showing data for 2024-11-05 to 2024-11-06 for LSSTComCamSim, LATISS, LSSTComCam, LSSTCam"
      ],
      "text/plain": [
       "<IPython.core.display.Markdown object>"
      ]
     },
     "metadata": {},
     "output_type": "display_data"
    }
   ],
   "source": [
    "instrum_str = \", \".join(list(allsrc.exp_src.instruments.keys()))\n",
    "md(f\"# Showing data for {min_date.date()} to {max_date.date()} for {instrum_str}\")"
   ]
  },
  {
   "cell_type": "markdown",
   "id": "8",
   "metadata": {},
   "source": [
    "# Table of Contents\n",
    "* [Night Report](#Night-Report-BETA)\n",
    "    - AuxTel\n",
    "    - Simonyi\n",
    "* [Almanac](#Almanac-BETA)\n",
    "* [Summary plots of whole night](#Summary-plots-of-whole-night-DRAFT)\n",
    "* [Time Accounting](#Time-Accounting-DRAFT)\n",
    "* [Jira Tickets](#Jira-Tickets-BETA)\n",
    "    - AuxTel\n",
    "    - Simonyi\n",
    "* [BLOCKS Observed](#BLOCKS-Observed-DRAFT)\n",
    "    - AuxTel\n",
    "    - Simonyi\n",
    "* [Data Log](#Data-Log-DRAFT)\n",
    "* [Narrative Log](#Narrative-Log-BETA)\n",
    "* [Developer Only Section](#Developer-Only-Section-REMOVE)"
   ]
  },
  {
   "cell_type": "markdown",
   "id": "86ff253e-f575-4b9b-96f9-698d3faf9494",
   "metadata": {},
   "source": [
    "## Night Report <font style=\"background-color:green; color:white; font-size:20px\">BETA</font> "
   ]
  },
  {
   "cell_type": "code",
   "execution_count": 7,
   "id": "10",
   "metadata": {
    "jupyter": {
     "source_hidden": true
    }
   },
   "outputs": [
    {
     "data": {
      "text/markdown": [
       "### Telescope: Simonyi"
      ],
      "text/plain": [
       "<IPython.core.display.Markdown object>"
      ]
     },
     "metadata": {},
     "output_type": "display_data"
    },
    {
     "data": {
      "text/markdown": [
       "```\n",
       "During the day time we had TMA parked at horizon, mirror cover opened, for mirror cleaning. We turned on the hexapods and rotator, (disabled when not in use) and ran hexapod warmups. Since bump test and HP breakaway test are recommended to be ran in higher elevation and TMA handover was planned within less than time needed for these tests, we decided to do TMA handover first, then move in elevation to 70, do the M1M3 tests, then raise M1M3 before moving TMA further. \n",
       "\n",
       "After TMA handover, we moved in az first for day crew to check the oil. Then we moved elevation to 70, and ran HP breakaway test using GUI so we can run multiple HPs simultaneously. All passed, then while switching to CSC mode, M1M3 faulted. While recovering, it faulted again due to clearing interlock happened when M1M3 was not in standby state. Recovered, and after Enabling MTM1M3, we ran bump test. Primary FA 233, 235, 330 failed bump test, but when Petr re-ran individually 233 and 330 passed, and FA 235 also was near the limit and we agreed it will be overshooting. We raised M1M3.\n",
       "\n",
       "Started TMA Checkout BLOCK-T250, track_target timed out since we put the position too far from original position. It worked when we reran. We sent TMA to el=65, az=160 for Guillem's align test (BLOCK-T88). After quick alignment, we turned laser tracker off by script and put laser tracker in standby.\n",
       "\n",
       "With Sandrine's help on temperature control, we turned off HVAC around 8:10PM and opened the dome (mirror cover deployed before) when the temperature difference between outside and M2 air temperature was ~2 degrees. \n",
       "\n",
       "We started twilight flat (BLOCK-T215), but realized we had mirror cover still covered. We stopped the script, stopped tracking, mirror cover opened, then re-ran the twilight flat. While taking flat images, it went out of focus and we found hexapods jumped without reason (OBS-648).\n",
       "\n",
       "Then we started BLOCK-T60 manual alignment with offset measured from BLOCK-T88, and compared the spherical zernike and concluded image #84 was the best and best offset values are recorded in the test case. T88-E2123.\n",
       "\n",
       "Handed over to late night shift.\n",
       "\n",
       "AOS Summary\n",
       "The night was very productive thanks to summit team getting the telescope ready early! We continued refining the telescope alignment and understand our measurement noise. We conducted a reduced sensitivity matrix on the hexapods. While doing the hexapod reduced sensitivity matrix, we found a good position that led to our best image quality so far: 1.29 arcsec. We still see trefoil in the in-focus image (0.2 microns). We will use the measured responses to refine the alignment. \n",
       "\n",
       "The night was very productive despite LOVE blocking us for 1.5 hours in the middle of the night!  The cause was filling the postgres PV (\"disk\"), which may have been caused by a mis-configured database (writing voluminous write-ahead logs).\n",
       "\n",
       "DM Summary\n",
       "At the end of the night we took a set of c. 24 dithered r-band exposures using the current best AOS settings (sharp images with prominent trefoil). While getting this script working we took a series of non-dithered 15s exposures (206..215,225..223) with comparable image quality which might be of value for snap eradication.  216..219 have a waffle, and are followed by pinhole exposures\n",
       "\n",
       "Closed Dome test and closing summary\n",
       "We closed the MTDome around 5am per the current regulation. There was no issue with closing the MTDome shutter tonight (only 1.5min differences between two shutter differences. While ComCam daytime calibrations were taken (BLOCK-T220), M2 closed-loop break-out brake test during TMA slew (BLOCK-241) was proceeded and completed. After calibration completed, we run Az brake test and El brake test (BLOCK-T231 and BLOCK-T240) respectively. GIS triggered with gate at P6 and MTMount and MTRotator only faulted as expected. Starting closing the night around 06:30amCLT/09:30amUTC. Note that el:0deg, M1M3 was fault while slewing in Az direction. Force controller X moment limit. M2hexapod was failed at the same time while moving the origin. It was okay after re-running the script. After then TMA was moving in Az only with static support (disabled and lowered) M1M3.\n",
       "```"
      ],
      "text/plain": [
       "<IPython.core.display.Markdown object>"
      ]
     },
     "metadata": {},
     "output_type": "display_data"
    },
    {
     "data": {
      "text/markdown": [
       "Telescope Status: TMA parked at Az: 148, el: 0.0 with retracted mirror cover as requested. Locking pin engaged, OSS on, PS OFF. Dome is parked at 328 deg. All CSCs were set as requested: MTM1M3 DISABLED - lowered and disabled. MTM2 ENABLED in closed loop, MTRotator and MTHexapods are all origin and 0deg then in STANDBY w/ cabinets and PXIs powered off, MTAOS STANDBY, MTDome DISABLED, MTDomeTrajectory STANDBY, MTMount DISABLED.\n"
      ],
      "text/plain": [
       "<IPython.core.display.Markdown object>"
      ]
     },
     "metadata": {},
     "output_type": "display_data"
    },
    {
     "data": {
      "text/markdown": [
       "*Authors: HyeYun Park, Kshitija Kelkar, Yijung Kang, Chris Walter, Sandrine Thomas, Craig Lage, Robert Lupton, Brian Stalder*"
      ],
      "text/plain": [
       "<IPython.core.display.Markdown object>"
      ]
     },
     "metadata": {},
     "output_type": "display_data"
    }
   ],
   "source": [
    "# Night Report\n",
    "# Display time log\n",
    "allrep.nig_rep.time_log_as_markdown()"
   ]
  },
  {
   "cell_type": "markdown",
   "id": "51fad717-7160-4da9-bdeb-696c92f33c19",
   "metadata": {},
   "source": [
    "## Almanac <font style=\"background-color:green; color:white; font-size:20px\">BETA</font> "
   ]
  },
  {
   "cell_type": "code",
   "execution_count": 8,
   "id": "12",
   "metadata": {},
   "outputs": [
    {
     "data": {
      "text/markdown": [
       "**Almanac for the observing night starting 2024-11-05**"
      ],
      "text/plain": [
       "<IPython.core.display.Markdown object>"
      ]
     },
     "metadata": {},
     "output_type": "display_data"
    },
    {
     "data": {
      "text/html": [
       "<style type=\"text/css\">\n",
       "</style>\n",
       "<table id=\"T_353b1\">\n",
       "  <thead>\n",
       "  </thead>\n",
       "  <tbody>\n",
       "    <tr>\n",
       "      <th id=\"T_353b1_level0_row0\" class=\"row_heading level0 row0\" ></th>\n",
       "      <td id=\"T_353b1_row0_col0\" class=\"data row0 col0\" > (times in UTC)</td>\n",
       "      <td id=\"T_353b1_row0_col1\" class=\"data row0 col1\" ></td>\n",
       "    </tr>\n",
       "    <tr>\n",
       "      <th id=\"T_353b1_level0_row1\" class=\"row_heading level0 row1\" >Moon Illumination</th>\n",
       "      <td id=\"T_353b1_row1_col0\" class=\"data row1 col0\" >20%</td>\n",
       "      <td id=\"T_353b1_row1_col1\" class=\"data row1 col1\" >(% illuminated)</td>\n",
       "    </tr>\n",
       "    <tr>\n",
       "      <th id=\"T_353b1_level0_row2\" class=\"row_heading level0 row2\" >Sun Set</th>\n",
       "      <td id=\"T_353b1_row2_col0\" class=\"data row2 col0\" >2024-11-05 23:05:14</td>\n",
       "      <td id=\"T_353b1_row2_col1\" class=\"data row2 col1\" ></td>\n",
       "    </tr>\n",
       "    <tr>\n",
       "      <th id=\"T_353b1_level0_row3\" class=\"row_heading level0 row3\" >Evening Civil Twilight</th>\n",
       "      <td id=\"T_353b1_row3_col0\" class=\"data row3 col0\" >2024-11-05 23:34:56</td>\n",
       "      <td id=\"T_353b1_row3_col1\" class=\"data row3 col1\" >(-6 degrees)</td>\n",
       "    </tr>\n",
       "    <tr>\n",
       "      <th id=\"T_353b1_level0_row4\" class=\"row_heading level0 row4\" >Evening Nautical Twilight</th>\n",
       "      <td id=\"T_353b1_row4_col0\" class=\"data row4 col0\" >2024-11-06 00:05:31</td>\n",
       "      <td id=\"T_353b1_row4_col1\" class=\"data row4 col1\" >(-12 degrees)</td>\n",
       "    </tr>\n",
       "    <tr>\n",
       "      <th id=\"T_353b1_level0_row5\" class=\"row_heading level0 row5\" >Evening Astronomical Twilight</th>\n",
       "      <td id=\"T_353b1_row5_col0\" class=\"data row5 col0\" >2024-11-06 00:37:24</td>\n",
       "      <td id=\"T_353b1_row5_col1\" class=\"data row5 col1\" >(-18 degrees)</td>\n",
       "    </tr>\n",
       "    <tr>\n",
       "      <th id=\"T_353b1_level0_row6\" class=\"row_heading level0 row6\" >Moon Set</th>\n",
       "      <td id=\"T_353b1_row6_col0\" class=\"data row6 col0\" >2024-11-06 03:16:57</td>\n",
       "      <td id=\"T_353b1_row6_col1\" class=\"data row6 col1\" ></td>\n",
       "    </tr>\n",
       "    <tr>\n",
       "      <th id=\"T_353b1_level0_row7\" class=\"row_heading level0 row7\" >Solar Midnight</th>\n",
       "      <td id=\"T_353b1_row7_col0\" class=\"data row7 col0\" >2024-11-06 04:26:27</td>\n",
       "      <td id=\"T_353b1_row7_col1\" class=\"data row7 col1\" ></td>\n",
       "    </tr>\n",
       "    <tr>\n",
       "      <th id=\"T_353b1_level0_row8\" class=\"row_heading level0 row8\" >Morning Astronomical Twilight</th>\n",
       "      <td id=\"T_353b1_row8_col0\" class=\"data row8 col0\" >2024-11-06 08:15:30</td>\n",
       "      <td id=\"T_353b1_row8_col1\" class=\"data row8 col1\" >(-18 degrees)</td>\n",
       "    </tr>\n",
       "    <tr>\n",
       "      <th id=\"T_353b1_level0_row9\" class=\"row_heading level0 row9\" >Morning Nautical Twilight</th>\n",
       "      <td id=\"T_353b1_row9_col0\" class=\"data row9 col0\" >2024-11-06 08:47:24</td>\n",
       "      <td id=\"T_353b1_row9_col1\" class=\"data row9 col1\" >(-12 degrees)</td>\n",
       "    </tr>\n",
       "    <tr>\n",
       "      <th id=\"T_353b1_level0_row10\" class=\"row_heading level0 row10\" >Morning Civil Twilight</th>\n",
       "      <td id=\"T_353b1_row10_col0\" class=\"data row10 col0\" >2024-11-06 09:17:59</td>\n",
       "      <td id=\"T_353b1_row10_col1\" class=\"data row10 col1\" >(-6 degrees)</td>\n",
       "    </tr>\n",
       "    <tr>\n",
       "      <th id=\"T_353b1_level0_row11\" class=\"row_heading level0 row11\" >Sun Rise</th>\n",
       "      <td id=\"T_353b1_row11_col0\" class=\"data row11 col0\" >2024-11-06 09:47:41</td>\n",
       "      <td id=\"T_353b1_row11_col1\" class=\"data row11 col1\" ></td>\n",
       "    </tr>\n",
       "    <tr>\n",
       "      <th id=\"T_353b1_level0_row12\" class=\"row_heading level0 row12\" >Moon Rise</th>\n",
       "      <td id=\"T_353b1_row12_col0\" class=\"data row12 col0\" >2024-11-06 13:23:55</td>\n",
       "      <td id=\"T_353b1_row12_col1\" class=\"data row12 col1\" ></td>\n",
       "    </tr>\n",
       "  </tbody>\n",
       "</table>\n"
      ],
      "text/plain": [
       "<pandas.io.formats.style.Styler at 0x7f821d9d8790>"
      ]
     },
     "metadata": {},
     "output_type": "display_data"
    }
   ],
   "source": [
    "# Display various almanac values (for moon, sun)\n",
    "#!rep.AlmanacReport().day_obs_report(min_day_obs)\n",
    "allrep.alm_rep.day_obs_report()"
   ]
  },
  {
   "cell_type": "markdown",
   "id": "13",
   "metadata": {},
   "source": [
    "## Summary plots of whole night <font style=\"background-color:yellow; color:black; font-size:20px\">DRAFT</font>"
   ]
  },
  {
   "cell_type": "markdown",
   "id": "14",
   "metadata": {},
   "source": [
    "(content not yet defined in storyboard)"
   ]
  },
  {
   "cell_type": "code",
   "execution_count": 9,
   "id": "15",
   "metadata": {
    "jupyter": {
     "source_hidden": true
    }
   },
   "outputs": [],
   "source": [
    "# Plot Observation (Exposure) gaps\n",
    "# rollup,detail = allsrc.get_observation_gaps()\n",
    "# allrep.plot_observation_gap_detail(detail)"
   ]
  },
  {
   "cell_type": "markdown",
   "id": "38",
   "metadata": {},
   "source": [
    "## DDV <font style=\"background-color:yellow; color:black; font-size:20px\">DRAFT</font>"
   ]
  },
  {
   "cell_type": "code",
   "execution_count": 10,
   "id": "39",
   "metadata": {
    "jupyter": {
     "source_hidden": true
    }
   },
   "outputs": [
    {
     "data": {
      "text/markdown": [
       "Access DDV part of RubinTV: https://usdf-rsp-dev.slac.stanford.edu/rubintv/ddv/index.html"
      ],
      "text/plain": [
       "<IPython.core.display.Markdown object>"
      ]
     },
     "metadata": {},
     "output_type": "display_data"
    }
   ],
   "source": [
    "DDV = (\n",
    "    f\"{server}/rubintv-dev/ddv/index.html\"\n",
    "    if \"summit\" in server\n",
    "    else f\"{server}/rubintv/ddv/index.html\"\n",
    ")\n",
    "md(f\"Access DDV part of RubinTV: {DDV}\")"
   ]
  },
  {
   "cell_type": "markdown",
   "id": "9d51f937-37e7-45da-87cb-2319fd76a1cc",
   "metadata": {},
   "source": [
    "## Time Accounting <font style=\"background-color:yellow; color:black; font-size:20px\">DRAFT</font>\n",
    "TODO:\n",
    "- Time-loss for Fault and Weather\n",
    "- SlewTime from TMAEvent (or similar)\n",
    "\n",
    "SlewTime (and probably others) from EFD are only EXPECTED (topic=\"lsst.sal.Scheduler.logevent_target\"), not ACTUAL.\n",
    "To get ACTUAL time, we need to use something like TMAEvent to combine multiple real events into a synthetic event.  See DM-46102.\n"
   ]
  },
  {
   "cell_type": "code",
   "execution_count": 11,
   "id": "16",
   "metadata": {
    "jupyter": {
     "source_hidden": true
    }
   },
   "outputs": [
    {
     "data": {
      "text/html": [
       "<div>\n",
       "<style scoped>\n",
       "    .dataframe tbody tr th:only-of-type {\n",
       "        vertical-align: middle;\n",
       "    }\n",
       "\n",
       "    .dataframe tbody tr th {\n",
       "        vertical-align: top;\n",
       "    }\n",
       "\n",
       "    .dataframe thead th {\n",
       "        text-align: right;\n",
       "    }\n",
       "</style>\n",
       "<table border=\"1\" class=\"dataframe\">\n",
       "  <thead>\n",
       "    <tr style=\"text-align: right;\">\n",
       "      <th></th>\n",
       "      <th>LSSTComCam</th>\n",
       "      <th>LSSTCam</th>\n",
       "    </tr>\n",
       "  </thead>\n",
       "  <tbody>\n",
       "    <tr>\n",
       "      <th>Total Night</th>\n",
       "      <td>7:38:06</td>\n",
       "      <td>7:38:06</td>\n",
       "    </tr>\n",
       "    <tr>\n",
       "      <th>Total Exposure</th>\n",
       "      <td>2:23:48</td>\n",
       "      <td>2:56:50</td>\n",
       "    </tr>\n",
       "    <tr>\n",
       "      <th>Slew time(1)</th>\n",
       "      <td>0:00:00</td>\n",
       "      <td>0:00:00</td>\n",
       "    </tr>\n",
       "    <tr>\n",
       "      <th>Readout time(2)</th>\n",
       "      <td>0:11:43</td>\n",
       "      <td>0:29:30</td>\n",
       "    </tr>\n",
       "    <tr>\n",
       "      <th>Time loss to fault</th>\n",
       "      <td>NA</td>\n",
       "      <td>NA</td>\n",
       "    </tr>\n",
       "    <tr>\n",
       "      <th>Time loss to weather</th>\n",
       "      <td>NA</td>\n",
       "      <td>NA</td>\n",
       "    </tr>\n",
       "    <tr>\n",
       "      <th>Idle time</th>\n",
       "      <td>5:14:17</td>\n",
       "      <td>4:41:15</td>\n",
       "    </tr>\n",
       "    <tr>\n",
       "      <th>Number of exposures</th>\n",
       "      <td>306</td>\n",
       "      <td>770</td>\n",
       "    </tr>\n",
       "    <tr>\n",
       "      <th>Mean readout time</th>\n",
       "      <td>0.000639</td>\n",
       "      <td>0.000639</td>\n",
       "    </tr>\n",
       "    <tr>\n",
       "      <th>Number of slews(1)</th>\n",
       "      <td>0</td>\n",
       "      <td>0</td>\n",
       "    </tr>\n",
       "    <tr>\n",
       "      <th>Mean Slew time(1)</th>\n",
       "      <td>0:00:00</td>\n",
       "      <td>0:00:00</td>\n",
       "    </tr>\n",
       "  </tbody>\n",
       "</table>\n",
       "</div>"
      ],
      "text/plain": [
       "                     LSSTComCam   LSSTCam\n",
       "Total Night             7:38:06   7:38:06\n",
       "Total Exposure          2:23:48   2:56:50\n",
       "Slew time(1)            0:00:00   0:00:00\n",
       "Readout time(2)         0:11:43   0:29:30\n",
       "Time loss to fault           NA        NA\n",
       "Time loss to weather         NA        NA\n",
       "Idle time               5:14:17   4:41:15\n",
       "Number of exposures         306       770\n",
       "Mean readout time      0.000639  0.000639\n",
       "Number of slews(1)            0         0\n",
       "Mean Slew time(1)       0:00:00   0:00:00"
      ]
     },
     "metadata": {},
     "output_type": "display_data"
    }
   ],
   "source": [
    "# Exposure Tally\n",
    "tally = await allsrc.night_tally_observation_gaps()\n",
    "if tally:\n",
    "    display(pd.DataFrame(tally))"
   ]
  },
  {
   "cell_type": "markdown",
   "id": "ad5a2e6c-ca0d-4978-bac9-25c83f90d090",
   "metadata": {},
   "source": [
    "- (1) *Expected* slew time as per Schedular\n",
    "- (2) There is no practical way to get detector read-out time.  A value of 2.3 seconds was inferred from experiments."
   ]
  },
  {
   "cell_type": "markdown",
   "id": "17",
   "metadata": {},
   "source": [
    "## Jira Tickets <font style=\"background-color:green; color:white; font-size:20px\">BETA</font> \n",
    "- Observing Operations - OBS\n",
    "- TODO: better tickets using Jira API"
   ]
  },
  {
   "cell_type": "code",
   "execution_count": 12,
   "id": "18",
   "metadata": {},
   "outputs": [
    {
     "data": {
      "text/markdown": [
       "- [obs-647](https://rubinobs.atlassian.net/browse/obs-647)"
      ],
      "text/plain": [
       "<IPython.core.display.Markdown object>"
      ]
     },
     "metadata": {},
     "output_type": "display_data"
    },
    {
     "data": {
      "text/markdown": [
       "- [/rubinobs-lfa-cp/LOVE/OLE/2024/11/04/LOVE_OLE_2024-11-05T04:06:17.057.png](https://s3.cp.lsst.org/rubinobs-lfa-cp/LOVE/OLE/2024/11/04/LOVE_OLE_2024-11-05T04:06:17.057.png)"
      ],
      "text/plain": [
       "<IPython.core.display.Markdown object>"
      ]
     },
     "metadata": {},
     "output_type": "display_data"
    },
    {
     "data": {
      "text/markdown": [
       "- [obs-611](https://rubinobs.atlassian.net/browse/obs-611)"
      ],
      "text/plain": [
       "<IPython.core.display.Markdown object>"
      ]
     },
     "metadata": {},
     "output_type": "display_data"
    },
    {
     "data": {
      "text/markdown": [
       "- [OBS-646](https://rubinobs.atlassian.net/browse/OBS-646)"
      ],
      "text/plain": [
       "<IPython.core.display.Markdown object>"
      ]
     },
     "metadata": {},
     "output_type": "display_data"
    }
   ],
   "source": [
    "if allsrc.urls:\n",
    "    for url in allsrc.urls:\n",
    "        md(f\"- {mdpathlink(url)}\")"
   ]
  },
  {
   "cell_type": "code",
   "execution_count": 13,
   "id": "19",
   "metadata": {
    "jupyter": {
     "source_hidden": true
    }
   },
   "outputs": [
    {
     "data": {
      "text/markdown": [
       "No tickets found using: [API Data](https://usdf-rsp-dev.slac.stanford.edu/nightreport/reports?is_human=either&is_valid=true&order_by=-day_obs&offset=0&limit=100&min_day_obs=20241105&max_day_obs=20241106) in `confluence_url`."
      ],
      "text/plain": [
       "<IPython.core.display.Markdown object>"
      ]
     },
     "metadata": {},
     "output_type": "display_data"
    }
   ],
   "source": [
    "# Display Jira BLOCKS\n",
    "front = \"https://rubinobs.atlassian.net/projects/BLOCK?selectedItem=com.atlassian.plugins.atlassian-connect-plugin:com.kanoah.test-manager__main-project-page#!/\"\n",
    "tickets = allsrc.nig_src.nightly_tickets()\n",
    "if tickets:\n",
    "    mdstr = \"#### Nightly Jira BLOCKs\"\n",
    "    for day, url_list in tickets.items():\n",
    "        mdstr += f\"\\n- {day}\"\n",
    "        for ticket_url in url_list:\n",
    "            mdstr += f'\\n    - [{ticket_url.replace(front,\"\")}]({ticket_url})'\n",
    "    md(mdstr)\n",
    "else:\n",
    "    endpoint_url = allsrc.nig_src.status[\"reports\"][\"endpoint_url\"]\n",
    "    md(f\"No tickets found using: [API Data]({endpoint_url}) in `confluence_url`.\")"
   ]
  },
  {
   "cell_type": "markdown",
   "id": "20",
   "metadata": {},
   "source": [
    "## BLOCKS Observed <font style=\"background-color:yellow; color:black; font-size:20px\">DRAFT</font>\n",
    "- TODO: BLOCKS observed"
   ]
  },
  {
   "cell_type": "markdown",
   "id": "71772e8d-658d-497a-b391-5996066f401a",
   "metadata": {},
   "source": [
    "## Data Log <font style=\"background-color:green; color:white; font-size:20px\">BETA</font>"
   ]
  },
  {
   "cell_type": "code",
   "execution_count": 14,
   "id": "1b509665-d538-4bd9-a93c-22c3ec1ded12",
   "metadata": {},
   "outputs": [
    {
     "data": {
      "text/markdown": [
       "**LSSTComCamSim: 0 total exposures**"
      ],
      "text/plain": [
       "<IPython.core.display.Markdown object>"
      ]
     },
     "metadata": {},
     "output_type": "display_data"
    },
    {
     "data": {
      "text/markdown": [
       "**LATISS: 0 total exposures**"
      ],
      "text/plain": [
       "<IPython.core.display.Markdown object>"
      ]
     },
     "metadata": {},
     "output_type": "display_data"
    },
    {
     "data": {
      "text/markdown": [
       "**LSSTComCam: 306 total exposures**"
      ],
      "text/plain": [
       "<IPython.core.display.Markdown object>"
      ]
     },
     "metadata": {},
     "output_type": "display_data"
    },
    {
     "name": "stdout",
     "output_type": "stream",
     "text": [
      "Observation Type\n"
     ]
    },
    {
     "data": {
      "text/html": [
       "<style type=\"text/css\">\n",
       "</style>\n",
       "<table id=\"T_ac3be\">\n",
       "  <thead>\n",
       "    <tr>\n",
       "      <th id=\"T_ac3be_level0_col0\" class=\"col_heading level0 col0\" >Detail</th>\n",
       "      <th id=\"T_ac3be_level0_col1\" class=\"col_heading level0 col1\" >good</th>\n",
       "      <th id=\"T_ac3be_level0_col2\" class=\"col_heading level0 col2\" >questionable</th>\n",
       "      <th id=\"T_ac3be_level0_col3\" class=\"col_heading level0 col3\" >junk</th>\n",
       "      <th id=\"T_ac3be_level0_col4\" class=\"col_heading level0 col4\" >unknown</th>\n",
       "    </tr>\n",
       "  </thead>\n",
       "  <tbody>\n",
       "    <tr>\n",
       "      <td id=\"T_ac3be_row0_col0\" class=\"data row0 col0\" ><a href=https://usdf-rsp-dev.slac.stanford.edu/times-square/github/lsst-ts/ts_logging_and_reporting/ExposureDetail?day_obs=2024-11-05&number_of_days=1&instrument=LSSTComCam&observation_type=acq>acq</a></td>\n",
       "      <td id=\"T_ac3be_row0_col1\" class=\"data row0 col1\" >5</td>\n",
       "      <td id=\"T_ac3be_row0_col2\" class=\"data row0 col2\" >0</td>\n",
       "      <td id=\"T_ac3be_row0_col3\" class=\"data row0 col3\" >0</td>\n",
       "      <td id=\"T_ac3be_row0_col4\" class=\"data row0 col4\" >75</td>\n",
       "    </tr>\n",
       "    <tr>\n",
       "      <td id=\"T_ac3be_row1_col0\" class=\"data row1 col0\" ><a href=https://usdf-rsp-dev.slac.stanford.edu/times-square/github/lsst-ts/ts_logging_and_reporting/ExposureDetail?day_obs=2024-11-05&number_of_days=1&instrument=LSSTComCam&observation_type=bias>bias</a></td>\n",
       "      <td id=\"T_ac3be_row1_col1\" class=\"data row1 col1\" >0</td>\n",
       "      <td id=\"T_ac3be_row1_col2\" class=\"data row1 col2\" >0</td>\n",
       "      <td id=\"T_ac3be_row1_col3\" class=\"data row1 col3\" >0</td>\n",
       "      <td id=\"T_ac3be_row1_col4\" class=\"data row1 col4\" >32</td>\n",
       "    </tr>\n",
       "    <tr>\n",
       "      <td id=\"T_ac3be_row2_col0\" class=\"data row2 col0\" ><a href=https://usdf-rsp-dev.slac.stanford.edu/times-square/github/lsst-ts/ts_logging_and_reporting/ExposureDetail?day_obs=2024-11-05&number_of_days=1&instrument=LSSTComCam&observation_type=cwfs>cwfs</a></td>\n",
       "      <td id=\"T_ac3be_row2_col1\" class=\"data row2 col1\" >0</td>\n",
       "      <td id=\"T_ac3be_row2_col2\" class=\"data row2 col2\" >0</td>\n",
       "      <td id=\"T_ac3be_row2_col3\" class=\"data row2 col3\" >0</td>\n",
       "      <td id=\"T_ac3be_row2_col4\" class=\"data row2 col4\" >113</td>\n",
       "    </tr>\n",
       "    <tr>\n",
       "      <td id=\"T_ac3be_row3_col0\" class=\"data row3 col0\" ><a href=https://usdf-rsp-dev.slac.stanford.edu/times-square/github/lsst-ts/ts_logging_and_reporting/ExposureDetail?day_obs=2024-11-05&number_of_days=1&instrument=LSSTComCam&observation_type=dark>dark</a></td>\n",
       "      <td id=\"T_ac3be_row3_col1\" class=\"data row3 col1\" >1</td>\n",
       "      <td id=\"T_ac3be_row3_col2\" class=\"data row3 col2\" >0</td>\n",
       "      <td id=\"T_ac3be_row3_col3\" class=\"data row3 col3\" >0</td>\n",
       "      <td id=\"T_ac3be_row3_col4\" class=\"data row3 col4\" >23</td>\n",
       "    </tr>\n",
       "    <tr>\n",
       "      <td id=\"T_ac3be_row4_col0\" class=\"data row4 col0\" ><a href=https://usdf-rsp-dev.slac.stanford.edu/times-square/github/lsst-ts/ts_logging_and_reporting/ExposureDetail?day_obs=2024-11-05&number_of_days=1&instrument=LSSTComCam&observation_type=science>science</a></td>\n",
       "      <td id=\"T_ac3be_row4_col1\" class=\"data row4 col1\" >2</td>\n",
       "      <td id=\"T_ac3be_row4_col2\" class=\"data row4 col2\" >0</td>\n",
       "      <td id=\"T_ac3be_row4_col3\" class=\"data row4 col3\" >0</td>\n",
       "      <td id=\"T_ac3be_row4_col4\" class=\"data row4 col4\" >55</td>\n",
       "    </tr>\n",
       "  </tbody>\n",
       "</table>\n"
      ],
      "text/plain": [
       "<IPython.core.display.HTML object>"
      ]
     },
     "metadata": {},
     "output_type": "display_data"
    },
    {
     "name": "stdout",
     "output_type": "stream",
     "text": [
      "Observation Reason\n"
     ]
    },
    {
     "data": {
      "text/html": [
       "<style type=\"text/css\">\n",
       "</style>\n",
       "<table id=\"T_dd4ca\">\n",
       "  <thead>\n",
       "    <tr>\n",
       "      <th id=\"T_dd4ca_level0_col0\" class=\"col_heading level0 col0\" >Detail</th>\n",
       "      <th id=\"T_dd4ca_level0_col1\" class=\"col_heading level0 col1\" >good</th>\n",
       "      <th id=\"T_dd4ca_level0_col2\" class=\"col_heading level0 col2\" >questionable</th>\n",
       "      <th id=\"T_dd4ca_level0_col3\" class=\"col_heading level0 col3\" >junk</th>\n",
       "      <th id=\"T_dd4ca_level0_col4\" class=\"col_heading level0 col4\" >unknown</th>\n",
       "    </tr>\n",
       "  </thead>\n",
       "  <tbody>\n",
       "    <tr>\n",
       "      <td id=\"T_dd4ca_row0_col0\" class=\"data row0 col0\" ><a href=https://usdf-rsp-dev.slac.stanford.edu/times-square/github/lsst-ts/ts_logging_and_reporting/ExposureDetail?day_obs=2024-11-05&number_of_days=1&instrument=LSSTComCam&observation_reason=comcam-daily-calibration>comcam-daily-calibration</a></td>\n",
       "      <td id=\"T_dd4ca_row0_col1\" class=\"data row0 col1\" >0</td>\n",
       "      <td id=\"T_dd4ca_row0_col2\" class=\"data row0 col2\" >0</td>\n",
       "      <td id=\"T_dd4ca_row0_col3\" class=\"data row0 col3\" >0</td>\n",
       "      <td id=\"T_dd4ca_row0_col4\" class=\"data row0 col4\" >44</td>\n",
       "    </tr>\n",
       "    <tr>\n",
       "      <td id=\"T_dd4ca_row1_col0\" class=\"data row1 col0\" ><a href=https://usdf-rsp-dev.slac.stanford.edu/times-square/github/lsst-ts/ts_logging_and_reporting/ExposureDetail?day_obs=2024-11-05&number_of_days=1&instrument=LSSTComCam&observation_reason=comcam-usdf-checkout>comcam-usdf-checkout</a></td>\n",
       "      <td id=\"T_dd4ca_row1_col1\" class=\"data row1 col1\" >0</td>\n",
       "      <td id=\"T_dd4ca_row1_col2\" class=\"data row1 col2\" >0</td>\n",
       "      <td id=\"T_dd4ca_row1_col3\" class=\"data row1 col3\" >0</td>\n",
       "      <td id=\"T_dd4ca_row1_col4\" class=\"data row1 col4\" >10</td>\n",
       "    </tr>\n",
       "    <tr>\n",
       "      <td id=\"T_dd4ca_row2_col0\" class=\"data row2 col0\" ><a href=https://usdf-rsp-dev.slac.stanford.edu/times-square/github/lsst-ts/ts_logging_and_reporting/ExposureDetail?day_obs=2024-11-05&number_of_days=1&instrument=LSSTComCam&observation_reason=comcam_manual_alignment>comcam_manual_alignment</a></td>\n",
       "      <td id=\"T_dd4ca_row2_col1\" class=\"data row2 col1\" >3</td>\n",
       "      <td id=\"T_dd4ca_row2_col2\" class=\"data row2 col2\" >0</td>\n",
       "      <td id=\"T_dd4ca_row2_col3\" class=\"data row2 col3\" >0</td>\n",
       "      <td id=\"T_dd4ca_row2_col4\" class=\"data row2 col4\" >2</td>\n",
       "    </tr>\n",
       "    <tr>\n",
       "      <td id=\"T_dd4ca_row3_col0\" class=\"data row3 col0\" ><a href=https://usdf-rsp-dev.slac.stanford.edu/times-square/github/lsst-ts/ts_logging_and_reporting/ExposureDetail?day_obs=2024-11-05&number_of_days=1&instrument=LSSTComCam&observation_reason=comcam_twilight_flat>comcam_twilight_flat</a></td>\n",
       "      <td id=\"T_dd4ca_row3_col1\" class=\"data row3 col1\" >3</td>\n",
       "      <td id=\"T_dd4ca_row3_col2\" class=\"data row3 col2\" >0</td>\n",
       "      <td id=\"T_dd4ca_row3_col3\" class=\"data row3 col3\" >0</td>\n",
       "      <td id=\"T_dd4ca_row3_col4\" class=\"data row3 col4\" >20</td>\n",
       "    </tr>\n",
       "    <tr>\n",
       "      <td id=\"T_dd4ca_row4_col0\" class=\"data row4 col0\" ><a href=https://usdf-rsp-dev.slac.stanford.edu/times-square/github/lsst-ts/ts_logging_and_reporting/ExposureDetail?day_obs=2024-11-05&number_of_days=1&instrument=LSSTComCam&observation_reason=extra>extra</a></td>\n",
       "      <td id=\"T_dd4ca_row4_col1\" class=\"data row4 col1\" >0</td>\n",
       "      <td id=\"T_dd4ca_row4_col2\" class=\"data row4 col2\" >0</td>\n",
       "      <td id=\"T_dd4ca_row4_col3\" class=\"data row4 col3\" >0</td>\n",
       "      <td id=\"T_dd4ca_row4_col4\" class=\"data row4 col4\" >32</td>\n",
       "    </tr>\n",
       "    <tr>\n",
       "      <td id=\"T_dd4ca_row5_col0\" class=\"data row5 col0\" ><a href=https://usdf-rsp-dev.slac.stanford.edu/times-square/github/lsst-ts/ts_logging_and_reporting/ExposureDetail?day_obs=2024-11-05&number_of_days=1&instrument=LSSTComCam&observation_reason=extra_sitcom-826>extra_sitcom-826</a></td>\n",
       "      <td id=\"T_dd4ca_row5_col1\" class=\"data row5 col1\" >0</td>\n",
       "      <td id=\"T_dd4ca_row5_col2\" class=\"data row5 col2\" >0</td>\n",
       "      <td id=\"T_dd4ca_row5_col3\" class=\"data row5 col3\" >0</td>\n",
       "      <td id=\"T_dd4ca_row5_col4\" class=\"data row5 col4\" >8</td>\n",
       "    </tr>\n",
       "    <tr>\n",
       "      <td id=\"T_dd4ca_row6_col0\" class=\"data row6 col0\" ><a href=https://usdf-rsp-dev.slac.stanford.edu/times-square/github/lsst-ts/ts_logging_and_reporting/ExposureDetail?day_obs=2024-11-05&number_of_days=1&instrument=LSSTComCam&observation_reason=extra_spherical_alignment>extra_spherical_alignment</a></td>\n",
       "      <td id=\"T_dd4ca_row6_col1\" class=\"data row6 col1\" >0</td>\n",
       "      <td id=\"T_dd4ca_row6_col2\" class=\"data row6 col2\" >0</td>\n",
       "      <td id=\"T_dd4ca_row6_col3\" class=\"data row6 col3\" >0</td>\n",
       "      <td id=\"T_dd4ca_row6_col4\" class=\"data row6 col4\" >16</td>\n",
       "    </tr>\n",
       "    <tr>\n",
       "      <td id=\"T_dd4ca_row7_col0\" class=\"data row7 col0\" ><a href=https://usdf-rsp-dev.slac.stanford.edu/times-square/github/lsst-ts/ts_logging_and_reporting/ExposureDetail?day_obs=2024-11-05&number_of_days=1&instrument=LSSTComCam&observation_reason=infocus>infocus</a></td>\n",
       "      <td id=\"T_dd4ca_row7_col1\" class=\"data row7 col1\" >0</td>\n",
       "      <td id=\"T_dd4ca_row7_col2\" class=\"data row7 col2\" >0</td>\n",
       "      <td id=\"T_dd4ca_row7_col3\" class=\"data row7 col3\" >0</td>\n",
       "      <td id=\"T_dd4ca_row7_col4\" class=\"data row7 col4\" >32</td>\n",
       "    </tr>\n",
       "    <tr>\n",
       "      <td id=\"T_dd4ca_row8_col0\" class=\"data row8 col0\" ><a href=https://usdf-rsp-dev.slac.stanford.edu/times-square/github/lsst-ts/ts_logging_and_reporting/ExposureDetail?day_obs=2024-11-05&number_of_days=1&instrument=LSSTComCam&observation_reason=infocus_sitcom-826>infocus_sitcom-826</a></td>\n",
       "      <td id=\"T_dd4ca_row8_col1\" class=\"data row8 col1\" >0</td>\n",
       "      <td id=\"T_dd4ca_row8_col2\" class=\"data row8 col2\" >0</td>\n",
       "      <td id=\"T_dd4ca_row8_col3\" class=\"data row8 col3\" >0</td>\n",
       "      <td id=\"T_dd4ca_row8_col4\" class=\"data row8 col4\" >6</td>\n",
       "    </tr>\n",
       "    <tr>\n",
       "      <td id=\"T_dd4ca_row9_col0\" class=\"data row9 col0\" ><a href=https://usdf-rsp-dev.slac.stanford.edu/times-square/github/lsst-ts/ts_logging_and_reporting/ExposureDetail?day_obs=2024-11-05&number_of_days=1&instrument=LSSTComCam&observation_reason=infocus_spherical_alignment>infocus_spherical_alignment</a></td>\n",
       "      <td id=\"T_dd4ca_row9_col1\" class=\"data row9 col1\" >0</td>\n",
       "      <td id=\"T_dd4ca_row9_col2\" class=\"data row9 col2\" >0</td>\n",
       "      <td id=\"T_dd4ca_row9_col3\" class=\"data row9 col3\" >0</td>\n",
       "      <td id=\"T_dd4ca_row9_col4\" class=\"data row9 col4\" >16</td>\n",
       "    </tr>\n",
       "    <tr>\n",
       "      <td id=\"T_dd4ca_row10_col0\" class=\"data row10 col0\" ><a href=https://usdf-rsp-dev.slac.stanford.edu/times-square/github/lsst-ts/ts_logging_and_reporting/ExposureDetail?day_obs=2024-11-05&number_of_days=1&instrument=LSSTComCam&observation_reason=intra>intra</a></td>\n",
       "      <td id=\"T_dd4ca_row10_col1\" class=\"data row10 col1\" >0</td>\n",
       "      <td id=\"T_dd4ca_row10_col2\" class=\"data row10 col2\" >0</td>\n",
       "      <td id=\"T_dd4ca_row10_col3\" class=\"data row10 col3\" >0</td>\n",
       "      <td id=\"T_dd4ca_row10_col4\" class=\"data row10 col4\" >33</td>\n",
       "    </tr>\n",
       "    <tr>\n",
       "      <td id=\"T_dd4ca_row11_col0\" class=\"data row11 col0\" ><a href=https://usdf-rsp-dev.slac.stanford.edu/times-square/github/lsst-ts/ts_logging_and_reporting/ExposureDetail?day_obs=2024-11-05&number_of_days=1&instrument=LSSTComCam&observation_reason=intra_sitcom-826>intra_sitcom-826</a></td>\n",
       "      <td id=\"T_dd4ca_row11_col1\" class=\"data row11 col1\" >0</td>\n",
       "      <td id=\"T_dd4ca_row11_col2\" class=\"data row11 col2\" >0</td>\n",
       "      <td id=\"T_dd4ca_row11_col3\" class=\"data row11 col3\" >0</td>\n",
       "      <td id=\"T_dd4ca_row11_col4\" class=\"data row11 col4\" >8</td>\n",
       "    </tr>\n",
       "    <tr>\n",
       "      <td id=\"T_dd4ca_row12_col0\" class=\"data row12 col0\" ><a href=https://usdf-rsp-dev.slac.stanford.edu/times-square/github/lsst-ts/ts_logging_and_reporting/ExposureDetail?day_obs=2024-11-05&number_of_days=1&instrument=LSSTComCam&observation_reason=intra_spherical_alignment>intra_spherical_alignment</a></td>\n",
       "      <td id=\"T_dd4ca_row12_col1\" class=\"data row12 col1\" >0</td>\n",
       "      <td id=\"T_dd4ca_row12_col2\" class=\"data row12 col2\" >0</td>\n",
       "      <td id=\"T_dd4ca_row12_col3\" class=\"data row12 col3\" >0</td>\n",
       "      <td id=\"T_dd4ca_row12_col4\" class=\"data row12 col4\" >16</td>\n",
       "    </tr>\n",
       "    <tr>\n",
       "      <td id=\"T_dd4ca_row13_col0\" class=\"data row13 col0\" ><a href=https://usdf-rsp-dev.slac.stanford.edu/times-square/github/lsst-ts/ts_logging_and_reporting/ExposureDetail?day_obs=2024-11-05&number_of_days=1&instrument=LSSTComCam&observation_reason=object>object</a></td>\n",
       "      <td id=\"T_dd4ca_row13_col1\" class=\"data row13 col1\" >2</td>\n",
       "      <td id=\"T_dd4ca_row13_col2\" class=\"data row13 col2\" >0</td>\n",
       "      <td id=\"T_dd4ca_row13_col3\" class=\"data row13 col3\" >0</td>\n",
       "      <td id=\"T_dd4ca_row13_col4\" class=\"data row13 col4\" >26</td>\n",
       "    </tr>\n",
       "    <tr>\n",
       "      <td id=\"T_dd4ca_row14_col0\" class=\"data row14 col0\" ><a href=https://usdf-rsp-dev.slac.stanford.edu/times-square/github/lsst-ts/ts_logging_and_reporting/ExposureDetail?day_obs=2024-11-05&number_of_days=1&instrument=LSSTComCam&observation_reason=science>science</a></td>\n",
       "      <td id=\"T_dd4ca_row14_col1\" class=\"data row14 col1\" >0</td>\n",
       "      <td id=\"T_dd4ca_row14_col2\" class=\"data row14 col2\" >0</td>\n",
       "      <td id=\"T_dd4ca_row14_col3\" class=\"data row14 col3\" >0</td>\n",
       "      <td id=\"T_dd4ca_row14_col4\" class=\"data row14 col4\" >29</td>\n",
       "    </tr>\n",
       "  </tbody>\n",
       "</table>\n"
      ],
      "text/plain": [
       "<IPython.core.display.HTML object>"
      ]
     },
     "metadata": {},
     "output_type": "display_data"
    },
    {
     "name": "stdout",
     "output_type": "stream",
     "text": [
      "Science Program\n"
     ]
    },
    {
     "data": {
      "text/html": [
       "<style type=\"text/css\">\n",
       "</style>\n",
       "<table id=\"T_06e16\">\n",
       "  <thead>\n",
       "    <tr>\n",
       "      <th id=\"T_06e16_level0_col0\" class=\"col_heading level0 col0\" >Detail</th>\n",
       "      <th id=\"T_06e16_level0_col1\" class=\"col_heading level0 col1\" >good</th>\n",
       "      <th id=\"T_06e16_level0_col2\" class=\"col_heading level0 col2\" >questionable</th>\n",
       "      <th id=\"T_06e16_level0_col3\" class=\"col_heading level0 col3\" >junk</th>\n",
       "      <th id=\"T_06e16_level0_col4\" class=\"col_heading level0 col4\" >unknown</th>\n",
       "    </tr>\n",
       "  </thead>\n",
       "  <tbody>\n",
       "    <tr>\n",
       "      <td id=\"T_06e16_row0_col0\" class=\"data row0 col0\" ><a href=https://usdf-rsp-dev.slac.stanford.edu/times-square/github/lsst-ts/ts_logging_and_reporting/ExposureDetail?day_obs=2024-11-05&number_of_days=1&instrument=LSSTComCam&science_program=BLOCK-T150>BLOCK-T150</a></td>\n",
       "      <td id=\"T_06e16_row0_col1\" class=\"data row0 col1\" >0</td>\n",
       "      <td id=\"T_06e16_row0_col2\" class=\"data row0 col2\" >0</td>\n",
       "      <td id=\"T_06e16_row0_col3\" class=\"data row0 col3\" >0</td>\n",
       "      <td id=\"T_06e16_row0_col4\" class=\"data row0 col4\" >45</td>\n",
       "    </tr>\n",
       "    <tr>\n",
       "      <td id=\"T_06e16_row1_col0\" class=\"data row1 col0\" ><a href=https://usdf-rsp-dev.slac.stanford.edu/times-square/github/lsst-ts/ts_logging_and_reporting/ExposureDetail?day_obs=2024-11-05&number_of_days=1&instrument=LSSTComCam&science_program=BLOCK-T215>BLOCK-T215</a></td>\n",
       "      <td id=\"T_06e16_row1_col1\" class=\"data row1 col1\" >3</td>\n",
       "      <td id=\"T_06e16_row1_col2\" class=\"data row1 col2\" >0</td>\n",
       "      <td id=\"T_06e16_row1_col3\" class=\"data row1 col3\" >0</td>\n",
       "      <td id=\"T_06e16_row1_col4\" class=\"data row1 col4\" >20</td>\n",
       "    </tr>\n",
       "    <tr>\n",
       "      <td id=\"T_06e16_row2_col0\" class=\"data row2 col0\" ><a href=https://usdf-rsp-dev.slac.stanford.edu/times-square/github/lsst-ts/ts_logging_and_reporting/ExposureDetail?day_obs=2024-11-05&number_of_days=1&instrument=LSSTComCam&science_program=BLOCK-T220>BLOCK-T220</a></td>\n",
       "      <td id=\"T_06e16_row2_col1\" class=\"data row2 col1\" >0</td>\n",
       "      <td id=\"T_06e16_row2_col2\" class=\"data row2 col2\" >0</td>\n",
       "      <td id=\"T_06e16_row2_col3\" class=\"data row2 col3\" >0</td>\n",
       "      <td id=\"T_06e16_row2_col4\" class=\"data row2 col4\" >44</td>\n",
       "    </tr>\n",
       "    <tr>\n",
       "      <td id=\"T_06e16_row3_col0\" class=\"data row3 col0\" ><a href=https://usdf-rsp-dev.slac.stanford.edu/times-square/github/lsst-ts/ts_logging_and_reporting/ExposureDetail?day_obs=2024-11-05&number_of_days=1&instrument=LSSTComCam&science_program=BLOCK-T246>BLOCK-T246</a></td>\n",
       "      <td id=\"T_06e16_row3_col1\" class=\"data row3 col1\" >0</td>\n",
       "      <td id=\"T_06e16_row3_col2\" class=\"data row3 col2\" >0</td>\n",
       "      <td id=\"T_06e16_row3_col3\" class=\"data row3 col3\" >0</td>\n",
       "      <td id=\"T_06e16_row3_col4\" class=\"data row3 col4\" >10</td>\n",
       "    </tr>\n",
       "    <tr>\n",
       "      <td id=\"T_06e16_row4_col0\" class=\"data row4 col0\" ><a href=https://usdf-rsp-dev.slac.stanford.edu/times-square/github/lsst-ts/ts_logging_and_reporting/ExposureDetail?day_obs=2024-11-05&number_of_days=1&instrument=LSSTComCam&science_program=BLOCK-T249>BLOCK-T249</a></td>\n",
       "      <td id=\"T_06e16_row4_col1\" class=\"data row4 col1\" >0</td>\n",
       "      <td id=\"T_06e16_row4_col2\" class=\"data row4 col2\" >0</td>\n",
       "      <td id=\"T_06e16_row4_col3\" class=\"data row4 col3\" >0</td>\n",
       "      <td id=\"T_06e16_row4_col4\" class=\"data row4 col4\" >22</td>\n",
       "    </tr>\n",
       "    <tr>\n",
       "      <td id=\"T_06e16_row5_col0\" class=\"data row5 col0\" ><a href=https://usdf-rsp-dev.slac.stanford.edu/times-square/github/lsst-ts/ts_logging_and_reporting/ExposureDetail?day_obs=2024-11-05&number_of_days=1&instrument=LSSTComCam&science_program=BLOCK-T60>BLOCK-T60</a></td>\n",
       "      <td id=\"T_06e16_row5_col1\" class=\"data row5 col1\" >0</td>\n",
       "      <td id=\"T_06e16_row5_col2\" class=\"data row5 col2\" >0</td>\n",
       "      <td id=\"T_06e16_row5_col3\" class=\"data row5 col3\" >0</td>\n",
       "      <td id=\"T_06e16_row5_col4\" class=\"data row5 col4\" >27</td>\n",
       "    </tr>\n",
       "    <tr>\n",
       "      <td id=\"T_06e16_row6_col0\" class=\"data row6 col0\" ><a href=https://usdf-rsp-dev.slac.stanford.edu/times-square/github/lsst-ts/ts_logging_and_reporting/ExposureDetail?day_obs=2024-11-05&number_of_days=1&instrument=LSSTComCam&science_program=BLOCK-T88>BLOCK-T88</a></td>\n",
       "      <td id=\"T_06e16_row6_col1\" class=\"data row6 col1\" >0</td>\n",
       "      <td id=\"T_06e16_row6_col2\" class=\"data row6 col2\" >0</td>\n",
       "      <td id=\"T_06e16_row6_col3\" class=\"data row6 col3\" >0</td>\n",
       "      <td id=\"T_06e16_row6_col4\" class=\"data row6 col4\" >9</td>\n",
       "    </tr>\n",
       "    <tr>\n",
       "      <td id=\"T_06e16_row7_col0\" class=\"data row7 col0\" ><a href=https://usdf-rsp-dev.slac.stanford.edu/times-square/github/lsst-ts/ts_logging_and_reporting/ExposureDetail?day_obs=2024-11-05&number_of_days=1&instrument=LSSTComCam&science_program=BLOCK-T92>BLOCK-T92</a></td>\n",
       "      <td id=\"T_06e16_row7_col1\" class=\"data row7 col1\" >0</td>\n",
       "      <td id=\"T_06e16_row7_col2\" class=\"data row7 col2\" >0</td>\n",
       "      <td id=\"T_06e16_row7_col3\" class=\"data row7 col3\" >0</td>\n",
       "      <td id=\"T_06e16_row7_col4\" class=\"data row7 col4\" >21</td>\n",
       "    </tr>\n",
       "    <tr>\n",
       "      <td id=\"T_06e16_row8_col0\" class=\"data row8 col0\" ><a href=https://usdf-rsp-dev.slac.stanford.edu/times-square/github/lsst-ts/ts_logging_and_reporting/ExposureDetail?day_obs=2024-11-05&number_of_days=1&instrument=LSSTComCam&science_program=BLOCK-T94>BLOCK-T94</a></td>\n",
       "      <td id=\"T_06e16_row8_col1\" class=\"data row8 col1\" >0</td>\n",
       "      <td id=\"T_06e16_row8_col2\" class=\"data row8 col2\" >0</td>\n",
       "      <td id=\"T_06e16_row8_col3\" class=\"data row8 col3\" >0</td>\n",
       "      <td id=\"T_06e16_row8_col4\" class=\"data row8 col4\" >43</td>\n",
       "    </tr>\n",
       "    <tr>\n",
       "      <td id=\"T_06e16_row9_col0\" class=\"data row9 col0\" ><a href=https://usdf-rsp-dev.slac.stanford.edu/times-square/github/lsst-ts/ts_logging_and_reporting/ExposureDetail?day_obs=2024-11-05&number_of_days=1&instrument=LSSTComCam&science_program=PP-SURVEY>PP-SURVEY</a></td>\n",
       "      <td id=\"T_06e16_row9_col1\" class=\"data row9 col1\" >0</td>\n",
       "      <td id=\"T_06e16_row9_col2\" class=\"data row9 col2\" >0</td>\n",
       "      <td id=\"T_06e16_row9_col3\" class=\"data row9 col3\" >0</td>\n",
       "      <td id=\"T_06e16_row9_col4\" class=\"data row9 col4\" >29</td>\n",
       "    </tr>\n",
       "    <tr>\n",
       "      <td id=\"T_06e16_row10_col0\" class=\"data row10 col0\" ><a href=https://usdf-rsp-dev.slac.stanford.edu/times-square/github/lsst-ts/ts_logging_and_reporting/ExposureDetail?day_obs=2024-11-05&number_of_days=1&instrument=LSSTComCam&science_program=unknown>unknown</a></td>\n",
       "      <td id=\"T_06e16_row10_col1\" class=\"data row10 col1\" >5</td>\n",
       "      <td id=\"T_06e16_row10_col2\" class=\"data row10 col2\" >0</td>\n",
       "      <td id=\"T_06e16_row10_col3\" class=\"data row10 col3\" >0</td>\n",
       "      <td id=\"T_06e16_row10_col4\" class=\"data row10 col4\" >28</td>\n",
       "    </tr>\n",
       "  </tbody>\n",
       "</table>\n"
      ],
      "text/plain": [
       "<IPython.core.display.HTML object>"
      ]
     },
     "metadata": {},
     "output_type": "display_data"
    },
    {
     "data": {
      "text/markdown": [
       "**LSSTCam: 770 total exposures**"
      ],
      "text/plain": [
       "<IPython.core.display.Markdown object>"
      ]
     },
     "metadata": {},
     "output_type": "display_data"
    },
    {
     "name": "stdout",
     "output_type": "stream",
     "text": [
      "Observation Type\n"
     ]
    },
    {
     "data": {
      "text/html": [
       "<style type=\"text/css\">\n",
       "</style>\n",
       "<table id=\"T_b7379\">\n",
       "  <thead>\n",
       "    <tr>\n",
       "      <th id=\"T_b7379_level0_col0\" class=\"col_heading level0 col0\" >Detail</th>\n",
       "      <th id=\"T_b7379_level0_col1\" class=\"col_heading level0 col1\" >good</th>\n",
       "      <th id=\"T_b7379_level0_col2\" class=\"col_heading level0 col2\" >questionable</th>\n",
       "      <th id=\"T_b7379_level0_col3\" class=\"col_heading level0 col3\" >junk</th>\n",
       "      <th id=\"T_b7379_level0_col4\" class=\"col_heading level0 col4\" >unknown</th>\n",
       "    </tr>\n",
       "  </thead>\n",
       "  <tbody>\n",
       "    <tr>\n",
       "      <td id=\"T_b7379_row0_col0\" class=\"data row0 col0\" ><a href=https://usdf-rsp-dev.slac.stanford.edu/times-square/github/lsst-ts/ts_logging_and_reporting/ExposureDetail?day_obs=2024-11-05&number_of_days=1&instrument=LSSTCam&observation_type=bias>bias</a></td>\n",
       "      <td id=\"T_b7379_row0_col1\" class=\"data row0 col1\" >0</td>\n",
       "      <td id=\"T_b7379_row0_col2\" class=\"data row0 col2\" >0</td>\n",
       "      <td id=\"T_b7379_row0_col3\" class=\"data row0 col3\" >0</td>\n",
       "      <td id=\"T_b7379_row0_col4\" class=\"data row0 col4\" >168</td>\n",
       "    </tr>\n",
       "    <tr>\n",
       "      <td id=\"T_b7379_row1_col0\" class=\"data row1 col0\" ><a href=https://usdf-rsp-dev.slac.stanford.edu/times-square/github/lsst-ts/ts_logging_and_reporting/ExposureDetail?day_obs=2024-11-05&number_of_days=1&instrument=LSSTCam&observation_type=dark>dark</a></td>\n",
       "      <td id=\"T_b7379_row1_col1\" class=\"data row1 col1\" >0</td>\n",
       "      <td id=\"T_b7379_row1_col2\" class=\"data row1 col2\" >0</td>\n",
       "      <td id=\"T_b7379_row1_col3\" class=\"data row1 col3\" >0</td>\n",
       "      <td id=\"T_b7379_row1_col4\" class=\"data row1 col4\" >370</td>\n",
       "    </tr>\n",
       "    <tr>\n",
       "      <td id=\"T_b7379_row2_col0\" class=\"data row2 col0\" ><a href=https://usdf-rsp-dev.slac.stanford.edu/times-square/github/lsst-ts/ts_logging_and_reporting/ExposureDetail?day_obs=2024-11-05&number_of_days=1&instrument=LSSTCam&observation_type=flat>flat</a></td>\n",
       "      <td id=\"T_b7379_row2_col1\" class=\"data row2 col1\" >0</td>\n",
       "      <td id=\"T_b7379_row2_col2\" class=\"data row2 col2\" >0</td>\n",
       "      <td id=\"T_b7379_row2_col3\" class=\"data row2 col3\" >0</td>\n",
       "      <td id=\"T_b7379_row2_col4\" class=\"data row2 col4\" >232</td>\n",
       "    </tr>\n",
       "  </tbody>\n",
       "</table>\n"
      ],
      "text/plain": [
       "<IPython.core.display.HTML object>"
      ]
     },
     "metadata": {},
     "output_type": "display_data"
    },
    {
     "name": "stdout",
     "output_type": "stream",
     "text": [
      "Observation Reason\n"
     ]
    },
    {
     "data": {
      "text/html": [
       "<style type=\"text/css\">\n",
       "</style>\n",
       "<table id=\"T_7b289\">\n",
       "  <thead>\n",
       "    <tr>\n",
       "      <th id=\"T_7b289_level0_col0\" class=\"col_heading level0 col0\" >Detail</th>\n",
       "      <th id=\"T_7b289_level0_col1\" class=\"col_heading level0 col1\" >good</th>\n",
       "      <th id=\"T_7b289_level0_col2\" class=\"col_heading level0 col2\" >questionable</th>\n",
       "      <th id=\"T_7b289_level0_col3\" class=\"col_heading level0 col3\" >junk</th>\n",
       "      <th id=\"T_7b289_level0_col4\" class=\"col_heading level0 col4\" >unknown</th>\n",
       "    </tr>\n",
       "  </thead>\n",
       "  <tbody>\n",
       "    <tr>\n",
       "      <td id=\"T_7b289_row0_col0\" class=\"data row0 col0\" ><a href=https://usdf-rsp-dev.slac.stanford.edu/times-square/github/lsst-ts/ts_logging_and_reporting/ExposureDetail?day_obs=2024-11-05&number_of_days=1&instrument=LSSTCam&observation_reason=bias>bias</a></td>\n",
       "      <td id=\"T_7b289_row0_col1\" class=\"data row0 col1\" >0</td>\n",
       "      <td id=\"T_7b289_row0_col2\" class=\"data row0 col2\" >0</td>\n",
       "      <td id=\"T_7b289_row0_col3\" class=\"data row0 col3\" >0</td>\n",
       "      <td id=\"T_7b289_row0_col4\" class=\"data row0 col4\" >1</td>\n",
       "    </tr>\n",
       "    <tr>\n",
       "      <td id=\"T_7b289_row1_col0\" class=\"data row1 col0\" ><a href=https://usdf-rsp-dev.slac.stanford.edu/times-square/github/lsst-ts/ts_logging_and_reporting/ExposureDetail?day_obs=2024-11-05&number_of_days=1&instrument=LSSTCam&observation_reason=dark>dark</a></td>\n",
       "      <td id=\"T_7b289_row1_col1\" class=\"data row1 col1\" >0</td>\n",
       "      <td id=\"T_7b289_row1_col2\" class=\"data row1 col2\" >0</td>\n",
       "      <td id=\"T_7b289_row1_col3\" class=\"data row1 col3\" >0</td>\n",
       "      <td id=\"T_7b289_row1_col4\" class=\"data row1 col4\" >312</td>\n",
       "    </tr>\n",
       "    <tr>\n",
       "      <td id=\"T_7b289_row2_col0\" class=\"data row2 col0\" ><a href=https://usdf-rsp-dev.slac.stanford.edu/times-square/github/lsst-ts/ts_logging_and_reporting/ExposureDetail?day_obs=2024-11-05&number_of_days=1&instrument=LSSTCam&observation_reason=flat>flat</a></td>\n",
       "      <td id=\"T_7b289_row2_col1\" class=\"data row2 col1\" >0</td>\n",
       "      <td id=\"T_7b289_row2_col2\" class=\"data row2 col2\" >0</td>\n",
       "      <td id=\"T_7b289_row2_col3\" class=\"data row2 col3\" >0</td>\n",
       "      <td id=\"T_7b289_row2_col4\" class=\"data row2 col4\" >457</td>\n",
       "    </tr>\n",
       "  </tbody>\n",
       "</table>\n"
      ],
      "text/plain": [
       "<IPython.core.display.HTML object>"
      ]
     },
     "metadata": {},
     "output_type": "display_data"
    },
    {
     "name": "stdout",
     "output_type": "stream",
     "text": [
      "Science Program\n"
     ]
    },
    {
     "data": {
      "text/html": [
       "<style type=\"text/css\">\n",
       "</style>\n",
       "<table id=\"T_90f67\">\n",
       "  <thead>\n",
       "    <tr>\n",
       "      <th id=\"T_90f67_level0_col0\" class=\"col_heading level0 col0\" >Detail</th>\n",
       "      <th id=\"T_90f67_level0_col1\" class=\"col_heading level0 col1\" >good</th>\n",
       "      <th id=\"T_90f67_level0_col2\" class=\"col_heading level0 col2\" >questionable</th>\n",
       "      <th id=\"T_90f67_level0_col3\" class=\"col_heading level0 col3\" >junk</th>\n",
       "      <th id=\"T_90f67_level0_col4\" class=\"col_heading level0 col4\" >unknown</th>\n",
       "    </tr>\n",
       "  </thead>\n",
       "  <tbody>\n",
       "    <tr>\n",
       "      <td id=\"T_90f67_row0_col0\" class=\"data row0 col0\" ><a href=https://usdf-rsp-dev.slac.stanford.edu/times-square/github/lsst-ts/ts_logging_and_reporting/ExposureDetail?day_obs=2024-11-05&number_of_days=1&instrument=LSSTCam&science_program=E2016>E2016</a></td>\n",
       "      <td id=\"T_90f67_row0_col1\" class=\"data row0 col1\" >0</td>\n",
       "      <td id=\"T_90f67_row0_col2\" class=\"data row0 col2\" >0</td>\n",
       "      <td id=\"T_90f67_row0_col3\" class=\"data row0 col3\" >0</td>\n",
       "      <td id=\"T_90f67_row0_col4\" class=\"data row0 col4\" >448</td>\n",
       "    </tr>\n",
       "    <tr>\n",
       "      <td id=\"T_90f67_row1_col0\" class=\"data row1 col0\" ><a href=https://usdf-rsp-dev.slac.stanford.edu/times-square/github/lsst-ts/ts_logging_and_reporting/ExposureDetail?day_obs=2024-11-05&number_of_days=1&instrument=LSSTCam&science_program=E2136>E2136</a></td>\n",
       "      <td id=\"T_90f67_row1_col1\" class=\"data row1 col1\" >0</td>\n",
       "      <td id=\"T_90f67_row1_col2\" class=\"data row1 col2\" >0</td>\n",
       "      <td id=\"T_90f67_row1_col3\" class=\"data row1 col3\" >0</td>\n",
       "      <td id=\"T_90f67_row1_col4\" class=\"data row1 col4\" >201</td>\n",
       "    </tr>\n",
       "    <tr>\n",
       "      <td id=\"T_90f67_row2_col0\" class=\"data row2 col0\" ><a href=https://usdf-rsp-dev.slac.stanford.edu/times-square/github/lsst-ts/ts_logging_and_reporting/ExposureDetail?day_obs=2024-11-05&number_of_days=1&instrument=LSSTCam&science_program=unknown>unknown</a></td>\n",
       "      <td id=\"T_90f67_row2_col1\" class=\"data row2 col1\" >0</td>\n",
       "      <td id=\"T_90f67_row2_col2\" class=\"data row2 col2\" >0</td>\n",
       "      <td id=\"T_90f67_row2_col3\" class=\"data row2 col3\" >0</td>\n",
       "      <td id=\"T_90f67_row2_col4\" class=\"data row2 col4\" >121</td>\n",
       "    </tr>\n",
       "  </tbody>\n",
       "</table>\n"
      ],
      "text/plain": [
       "<IPython.core.display.HTML object>"
      ]
     },
     "metadata": {},
     "output_type": "display_data"
    }
   ],
   "source": [
    "# Exposure Report\n",
    "for instrum in allsrc.exp_src.exposures.keys():\n",
    "    md(f'**{instrum}: {len(allsrc.exp_src.exposures[instrum])} total exposures**')\n",
    "    df_dict = allsrc.fields_count_exposure(instrum)\n",
    "    for field_name,df in df_dict.items():\n",
    "        if df.empty:\n",
    "            continue\n",
    "        print(field_name.title().replace('_',' '))\n",
    "        display(HTML(df.style.hide().to_html(escape=False)))"
   ]
  },
  {
   "cell_type": "markdown",
   "id": "20820900-05ab-4ca5-8df5-9f725c0ee570",
   "metadata": {},
   "source": [
    "## Narrative Log <font style=\"background-color:green; color:white; font-size:20px\">BETA</font> "
   ]
  },
  {
   "cell_type": "code",
   "execution_count": 15,
   "id": "26",
   "metadata": {
    "editable": true,
    "jupyter": {
     "source_hidden": true
    },
    "slideshow": {
     "slide_type": ""
    },
    "tags": []
   },
   "outputs": [
    {
     "data": {
      "text/markdown": [
       "- **2024-11-05 10:06:04.409120** Time Lost: 0.0; Time Lost Type: fault;\n",
       "    - components: ['MainTel']\n",
       "    - primary_software_components: ['None']\n",
       "    - primary_hardware_components: ['None']\n",
       "\n",
       "<pre style='color: black; background-color: white; font-size: 1em; margin-left: 0px; '>Done for tonight. All TMA and CSCs are closed as requested.</pre>\n"
      ],
      "text/plain": [
       "<IPython.core.display.Markdown object>"
      ]
     },
     "metadata": {},
     "output_type": "display_data"
    },
    {
     "data": {
      "text/markdown": [
       "- **2024-11-05 09:48:51.572165** Time Lost: 0.0; Time Lost Type: fault;\n",
       "    - components: ['MainTel']\n",
       "    - primary_software_components: ['None']\n",
       "    - primary_hardware_components: ['None']\n",
       "\n",
       "<pre style='color: black; background-color: white; font-size: 1em; margin-left: 0px; '>2024 11 05 09:47:37.238 Hardpoint #2 hit high limit.</pre>\n"
      ],
      "text/plain": [
       "<IPython.core.display.Markdown object>"
      ]
     },
     "metadata": {},
     "output_type": "display_data"
    },
    {
     "data": {
      "text/markdown": [
       "- **2024-11-05 09:46:08.288296** Time Lost: 0.0; Time Lost Type: fault;\n",
       "    - components: ['MainTel']\n",
       "    - primary_software_components: ['None']\n",
       "    - primary_hardware_components: ['None']\n",
       "\n",
       "<pre style='color: black; background-color: white; font-size: 1em; margin-left: 0px; '>NO fault! Locking pin engaged and turning OFF PS. M1M3 lowered and will disabled.</pre>\n"
      ],
      "text/plain": [
       "<IPython.core.display.Markdown object>"
      ]
     },
     "metadata": {},
     "output_type": "display_data"
    },
    {
     "data": {
      "text/markdown": [
       "- **2024-11-05 09:31:44.430342** Time Lost: 0.0; Time Lost Type: fault;\n",
       "    - components: ['MainTel']\n",
       "    - primary_software_components: ['None']\n",
       "    - primary_hardware_components: ['None']\n",
       "\n",
       "<pre style='color: black; background-color: white; font-size: 1em; margin-left: 0px; '>Retracted the mirror cover. Controlling with EUI again. Will move to Horizon...! Mirror will keep being raise per Petr's request.</pre>\n"
      ],
      "text/plain": [
       "<IPython.core.display.Markdown object>"
      ]
     },
     "metadata": {},
     "output_type": "display_data"
    },
    {
     "data": {
      "text/markdown": [
       "- **2024-11-05 09:25:45.527290** Time Lost: 0.0; Time Lost Type: fault;\n",
       "    - components: ['MainTel']\n",
       "    - primary_software_components: ['None']\n",
       "    - primary_hardware_components: ['None']\n",
       "\n",
       "<pre style='color: black; background-color: white; font-size: 1em; margin-left: 0px; '>We realized that we need retracted (open) for the mirror cover on Tuesday. Will enable the MTMount to retract the mirror.</pre>\n"
      ],
      "text/plain": [
       "<IPython.core.display.Markdown object>"
      ]
     },
     "metadata": {},
     "output_type": "display_data"
    },
    {
     "data": {
      "text/markdown": [
       "- **2024-11-05 09:12:16.703310** Time Lost: 0.2; Time Lost Type: fault;\n",
       "    - components: ['MainTel']\n",
       "    - primary_software_components: ['None']\n",
       "    - primary_hardware_components: ['None']\n",
       "\n",
       "<pre style='color: black; background-color: white; font-size: 1em; margin-left: 0px; '>measure failed. Stop tracking and the rotator back to 0.  Rotator not commanded to 0,  so we tried to 1) reenable MTRotator CSC 2) cycle MTRotator CSC but not working. Then 3) move 38 first (where CCW) then it failed. Then  move to 0 and then it worked.</pre>\n"
      ],
      "text/plain": [
       "<IPython.core.display.Markdown object>"
      ]
     },
     "metadata": {},
     "output_type": "display_data"
    },
    {
     "data": {
      "text/markdown": [
       "- Link: [obs-611](https://rubinobs.atlassian.net/browse/obs-611)"
      ],
      "text/plain": [
       "<IPython.core.display.Markdown object>"
      ]
     },
     "metadata": {},
     "output_type": "display_data"
    },
    {
     "data": {
      "text/markdown": [
       "- **2024-11-05 09:01:37.017558** Time Lost: 0.5; Time Lost Type: fault;\n",
       "    - components: ['MainTel']\n",
       "    - primary_software_components: ['None']\n",
       "    - primary_hardware_components: ['None']\n",
       "\n",
       "<pre style='color: black; background-color: white; font-size: 1em; margin-left: 0px; '>We have an issue with MTDome slit while we closed. \r\n",
       "\r\n",
       "\r\n",
       "- We closed the left shutter and then right shutter, the right one was completed (and click sounds there) but the left one was not done (definitely longer than usual). We could hear some sounds to keep closing it.\r\n",
       "- We opened the left one again, then stop (click the open button once again) and closed the left on again (click the close button). The left one is closing again but take more then few minutes.\r\n",
       "- At some point, two lights off but I can hear some unusual big sounds (not the simple click sounds) from the dome cabinet, another one from the cabinet with the open/closing button.</pre>\n"
      ],
      "text/plain": [
       "<IPython.core.display.Markdown object>"
      ]
     },
     "metadata": {},
     "output_type": "display_data"
    },
    {
     "data": {
      "text/markdown": [
       "- Link: [obs-647](https://rubinobs.atlassian.net/browse/obs-647)"
      ],
      "text/plain": [
       "<IPython.core.display.Markdown object>"
      ]
     },
     "metadata": {},
     "output_type": "display_data"
    },
    {
     "data": {
      "text/markdown": [
       "- **2024-11-05 08:59:27.669499** Time Lost: 0.0; Time Lost Type: fault;\n",
       "    - components: ['MainTel']\n",
       "    - primary_software_components: ['None']\n",
       "    - primary_hardware_components: ['None']\n",
       "\n",
       "<pre style='color: black; background-color: white; font-size: 1em; margin-left: 0px; '>Check with Petr. K, we will not lower the mirror and try to go to horizon. We will monitor if all forces on the HPs are fine.</pre>\n"
      ],
      "text/plain": [
       "<IPython.core.display.Markdown object>"
      ]
     },
     "metadata": {},
     "output_type": "display_data"
    },
    {
     "data": {
      "text/markdown": [
       "- **2024-11-05 08:46:06.336612** Time Lost: 0.0; Time Lost Type: fault;\n",
       "    - components: ['MainTel']\n",
       "    - primary_software_components: ['None']\n",
       "    - primary_hardware_components: ['None']\n",
       "\n",
       "<pre style='color: black; background-color: white; font-size: 1em; margin-left: 0px; '>Starting parking the TMA on Az direction first. (-32 deg). Parking thru EUI.</pre>\n"
      ],
      "text/plain": [
       "<IPython.core.display.Markdown object>"
      ]
     },
     "metadata": {},
     "output_type": "display_data"
    },
    {
     "data": {
      "text/markdown": [
       "- **2024-11-05 08:45:28.633575** Time Lost: 0.0; Time Lost Type: fault;\n",
       "    - components: ['MainTel']\n",
       "    - primary_software_components: ['None']\n",
       "    - primary_hardware_components: ['None']\n",
       "\n",
       "<pre style='color: black; background-color: white; font-size: 1em; margin-left: 0px; '>BLOCK-T220 (Daytime calibration for Comcam) is done. Starting parking for TMA.</pre>\n"
      ],
      "text/plain": [
       "<IPython.core.display.Markdown object>"
      ]
     },
     "metadata": {},
     "output_type": "display_data"
    },
    {
     "data": {
      "text/markdown": [
       "- **2024-11-05 08:00:07.024341** Time Lost: 0.0; Time Lost Type: fault;\n",
       "    - components: ['MainTel']\n",
       "    - primary_software_components: ['None']\n",
       "    - primary_hardware_components: ['None']\n",
       "\n",
       "<pre style='color: black; background-color: white; font-size: 1em; margin-left: 0px; '>Starting Block-T220.</pre>\n"
      ],
      "text/plain": [
       "<IPython.core.display.Markdown object>"
      ]
     },
     "metadata": {},
     "output_type": "display_data"
    },
    {
     "data": {
      "text/markdown": [
       "- **2024-11-05 07:56:07.467968** Time Lost: 0.0; Time Lost Type: fault;\n",
       "    - components: ['MainTel']\n",
       "    - primary_software_components: ['None']\n",
       "    - primary_hardware_components: ['None']\n",
       "\n",
       "<pre style='color: black; background-color: white; font-size: 1em; margin-left: 0px; '>Comcam Daytime DayCalibration. T220.</pre>\n"
      ],
      "text/plain": [
       "<IPython.core.display.Markdown object>"
      ]
     },
     "metadata": {},
     "output_type": "display_data"
    },
    {
     "data": {
      "text/markdown": [
       "- **2024-11-05 07:54:17.883749** Time Lost: 0.0; Time Lost Type: fault;\n",
       "    - components: ['MainTel']\n",
       "    - primary_software_components: ['None']\n",
       "    - primary_hardware_components: ['None']\n",
       "\n",
       "<pre style='color: black; background-color: white; font-size: 1em; margin-left: 0px; '>We closed the MTDome and run the HVAC system. Keep setpoint 9C.</pre>\n"
      ],
      "text/plain": [
       "<IPython.core.display.Markdown object>"
      ]
     },
     "metadata": {},
     "output_type": "display_data"
    },
    {
     "data": {
      "text/markdown": [
       "- **2024-11-05 05:53:17.114015** Time Lost: 0.0; Time Lost Type: fault;\n",
       "    - components: None\n",
       "    - primary_software_components: ['None']\n",
       "    - primary_hardware_components: ['None']\n",
       "\n",
       "<pre style='color: black; background-color: white; font-size: 1em; margin-left: 0px; '>Now we are going to apply the modes determined by the MTAOS component.\r\n",
       "\r\n",
       "\r\n",
       "It worked but it is still not as a good as our best case.</pre>\n"
      ],
      "text/plain": [
       "<IPython.core.display.Markdown object>"
      ]
     },
     "metadata": {},
     "output_type": "display_data"
    },
    {
     "data": {
      "text/markdown": [
       "- **2024-11-05 05:41:05.421205** Time Lost: 0.0; Time Lost Type: fault;\n",
       "    - components: None\n",
       "    - primary_software_components: ['None']\n",
       "    - primary_hardware_components: ['None']\n",
       "\n",
       "<pre style='color: black; background-color: white; font-size: 1em; margin-left: 0px; '>We are doing block 249 to do the MTAOS loop\r\n",
       "\r\n",
       "\r\n",
       "We are using \r\n",
       "\r\n",
       "\r\n",
       "filter: \"r_03\"\r\n",
       "exposure_time: 30\r\n",
       "max_iter: 1\r\n",
       "mode: \"FAM\"\r\n",
       "program: \"BLOCK-T249\"\r\n",
       "reason: \"SITCOM-826\"\r\n",
       "note: \"optical_state_hexapods\"\r\n",
       "used_dofs: [0, 3, 4, 5, 8, 9]\r\n",
       "apply_corrections: false\r\n",
       "use_ocps: true</pre>\n"
      ],
      "text/plain": [
       "<IPython.core.display.Markdown object>"
      ]
     },
     "metadata": {},
     "output_type": "display_data"
    },
    {
     "data": {
      "text/markdown": [
       "- **2024-11-05 05:36:07.239689** Time Lost: 0.0; Time Lost Type: fault;\n",
       "    - components: None\n",
       "    - primary_software_components: ['None']\n",
       "    - primary_hardware_components: ['None']\n",
       "\n",
       "<pre style='color: black; background-color: white; font-size: 1em; margin-left: 0px; '>It was hard to draw a conclusion from the title sweep.  We are going to tr to run MTAOS system to find the best optical point instead.</pre>\n"
      ],
      "text/plain": [
       "<IPython.core.display.Markdown object>"
      ]
     },
     "metadata": {},
     "output_type": "display_data"
    },
    {
     "data": {
      "text/markdown": [
       "- **2024-11-05 05:29:56.274032** Time Lost: 0.0; Time Lost Type: fault;\n",
       "    - components: ['MainTel']\n",
       "    - primary_software_components: ['None']\n",
       "    - primary_hardware_components: ['None']\n",
       "\n",
       "<pre style='color: black; background-color: white; font-size: 1em; margin-left: 0px; '>-Apply Cam_dz: -1500 with apply_dof.py.\r\n",
       "\r\n",
       "\r\n",
       "-Another focus_sweep_comcam.py with following config.\r\n",
       "axis: v\r\n",
       "focus_window: 0.0666\r\n",
       "n_steps: 9\r\n",
       "program: \"BLOCK-T92\"\r\n",
       "hexapod: \"Camera\"\r\n",
       "reason: \"focus_sweep_cam_dry\"</pre>\n"
      ],
      "text/plain": [
       "<IPython.core.display.Markdown object>"
      ]
     },
     "metadata": {},
     "output_type": "display_data"
    },
    {
     "data": {
      "text/markdown": [
       "- **2024-11-05 05:27:30.087917** Time Lost: 0.0; Time Lost Type: fault;\n",
       "    - components: ['MainTel']\n",
       "    - primary_software_components: ['None']\n",
       "    - primary_hardware_components: ['None']\n",
       "\n",
       "<pre style='color: black; background-color: white; font-size: 1em; margin-left: 0px; '>Now we are going to do a tilt sweep on all intrafocal donuts.</pre>\n"
      ],
      "text/plain": [
       "<IPython.core.display.Markdown object>"
      ]
     },
     "metadata": {},
     "output_type": "display_data"
    },
    {
     "data": {
      "text/markdown": [
       "- **2024-11-05 05:20:17.796629** Time Lost: 0.0; Time Lost Type: fault;\n",
       "    - components: ['MainTel']\n",
       "    - primary_software_components: ['None']\n",
       "    - primary_hardware_components: ['None']\n",
       "\n",
       "<pre style='color: black; background-color: white; font-size: 1em; margin-left: 0px; '>We gave set_dof.py\r\n",
       "Cam_dx:-126.1\r\n",
       "Cam_dy: 690.41\r\n",
       "Cam_dz: 2723.51\r\n",
       "Cam_rx: 0.01\r\n",
       "Cam_ry: 2.26e-3\r\n",
       "M2_dz: -1967.92\r\n",
       "\r\n",
       "\r\n",
       "Then We focus_sweep_comcam.py with (part of BLOCK-T92, not on the night plan for tonight). \r\n",
       "axis: z\r\n",
       "focus_window: 300\r\n",
       "n_steps: 9\r\n",
       "program: \"BLOCK-T92\"\r\n",
       "hexapod: \"Camera\"\r\n",
       "reason: \"focus_sweep_cam_dz\"</pre>\n"
      ],
      "text/plain": [
       "<IPython.core.display.Markdown object>"
      ]
     },
     "metadata": {},
     "output_type": "display_data"
    },
    {
     "data": {
      "text/markdown": [
       "- **2024-11-05 05:07:37.076344** Time Lost: 0.0; Time Lost Type: fault;\n",
       "    - components: ['MainTel']\n",
       "    - primary_software_components: ['None']\n",
       "    - primary_hardware_components: ['None']\n",
       "\n",
       "<pre style='color: black; background-color: white; font-size: 1em; margin-left: 0px; '>exitFault for MTDome and cycle MTDome CSC again.</pre>\n"
      ],
      "text/plain": [
       "<IPython.core.display.Markdown object>"
      ]
     },
     "metadata": {},
     "output_type": "display_data"
    },
    {
     "data": {
      "text/markdown": [
       "- **2024-11-05 05:06:00.484543** Time Lost: 0.0; Time Lost Type: fault;\n",
       "    - components: ['MainTel']\n",
       "    - primary_software_components: ['None']\n",
       "    - primary_hardware_components: ['None']\n",
       "\n",
       "<pre style='color: black; background-color: white; font-size: 1em; margin-left: 0px; '>Track_target.py timeout. MTDome seems fault. We cycled the MTDome.</pre>\n"
      ],
      "text/plain": [
       "<IPython.core.display.Markdown object>"
      ]
     },
     "metadata": {},
     "output_type": "display_data"
    },
    {
     "data": {
      "text/markdown": [
       "- **2024-11-05 04:55:23.292922** Time Lost: 0.0; Time Lost Type: fault;\n",
       "    - components: ['MainTel']\n",
       "    - primary_software_components: ['None']\n",
       "    - primary_hardware_components: ['None']\n",
       "\n",
       "<pre style='color: black; background-color: white; font-size: 1em; margin-left: 0px; '>MTMount and MTPtg were fault. \r\n",
       "Name: SofteMotion Axis Fault system: Azimuth, code: 101 04:50:30.176 05/11/24\r\n",
       "The softmotion axis went to fault. \r\n",
       "Then following\r\n",
       "Name: Extrapolation/system: Azimuth/name: Time Exceeded 04:50:30.176 05/11/24 code: 160\r\n",
       "The defined extrapolation time was exceeded.\r\n",
       "Then elevation axis was fault with code: 401 for the softmotion axis went to fault.</pre>\n"
      ],
      "text/plain": [
       "<IPython.core.display.Markdown object>"
      ]
     },
     "metadata": {},
     "output_type": "display_data"
    },
    {
     "data": {
      "text/markdown": [
       "- **2024-11-05 04:47:51.175339** Time Lost: 0.0; Time Lost Type: fault;\n",
       "    - components: ['MainTel']\n",
       "    - primary_software_components: ['None']\n",
       "    - primary_hardware_components: ['None']\n",
       "\n",
       "<pre style='color: black; background-color: white; font-size: 1em; margin-left: 0px; '>We took a series of three images with no changes with PSFs that varied from 1.79 to 1.73.  So we shouldn't pay attention to anything less than the first significant figure.\r\n",
       "\r\n",
       "\r\n",
       "Now doing the sweep over a larger area.</pre>\n"
      ],
      "text/plain": [
       "<IPython.core.display.Markdown object>"
      ]
     },
     "metadata": {},
     "output_type": "display_data"
    },
    {
     "data": {
      "text/markdown": [
       "- **2024-11-05 04:47:38.703920** Time Lost: 0.0; Time Lost Type: fault;\n",
       "    - components: ['MainTel']\n",
       "    - primary_software_components: ['None']\n",
       "    - primary_hardware_components: ['None']\n",
       "\n",
       "<pre style='color: black; background-color: white; font-size: 1em; margin-left: 0px; '>Looks like we missed the minimum so we are going to scan over a larger range.  We also are applying a title that was extracted from the laser tracker test but was left out after we lost the state.  Our first attempt was unsuccessful.\r\n",
       "\r\n",
       "\r\n",
       "We are attempting to go back to our previous best case.  We are close but not the same.  We are doing a quick check of taking a serfies of images to see how much variance we get just from the atmosphere.</pre>\n"
      ],
      "text/plain": [
       "<IPython.core.display.Markdown object>"
      ]
     },
     "metadata": {},
     "output_type": "display_data"
    },
    {
     "data": {
      "text/markdown": [
       "- **2024-11-05 04:47:25.662723** Time Lost: 0.0; Time Lost Type: fault;\n",
       "    - components: ['MainTel']\n",
       "    - primary_software_components: ['None']\n",
       "    - primary_hardware_components: ['None']\n",
       "\n",
       "<pre style='color: black; background-color: white; font-size: 1em; margin-left: 0px; '>The previous step got us to 1.78\". So now we are we going to run the parameter sweep for moving the hexapods in the opposite directions. This is to remove spherical aberration.</pre>\n"
      ],
      "text/plain": [
       "<IPython.core.display.Markdown object>"
      ]
     },
     "metadata": {},
     "output_type": "display_data"
    },
    {
     "data": {
      "text/markdown": [
       "- **2024-11-05 04:46:52.843549** Time Lost: 0.0; Time Lost Type: fault;\n",
       "    - components: ['MainTel']\n",
       "    - primary_software_components: ['None']\n",
       "    - primary_hardware_components: ['None']\n",
       "\n",
       "<pre style='color: black; background-color: white; font-size: 1em; margin-left: 0px; '>The donuts look better now but the PSF looks worse than our worse focus in our in focus cases.  That is probably because the focus point changed some, so we will rescan for the focus point.</pre>\n"
      ],
      "text/plain": [
       "<IPython.core.display.Markdown object>"
      ]
     },
     "metadata": {},
     "output_type": "display_data"
    },
    {
     "data": {
      "text/markdown": [
       "- **2024-11-05 04:06:19.079415** Time Lost: 1.0; Time Lost Type: fault;\n",
       "    - components: ['MainTel']\n",
       "    - primary_software_components: ['None']\n",
       "    - primary_hardware_components: ['Dome']\n",
       "\n",
       "<pre style='color: black; background-color: white; font-size: 1em; margin-left: 0px; '>The MTDome AMCS is going to fault from time to time. I noticed that every time it goes to fault there is a jump in the azimuth position. I am wondering if this is due to some encoder issue or something like that.</pre>\n"
      ],
      "text/plain": [
       "<IPython.core.display.Markdown object>"
      ]
     },
     "metadata": {},
     "output_type": "display_data"
    },
    {
     "data": {
      "text/markdown": [
       "- Link: [OBS-646](https://rubinobs.atlassian.net/browse/OBS-646)"
      ],
      "text/plain": [
       "<IPython.core.display.Markdown object>"
      ]
     },
     "metadata": {},
     "output_type": "display_data"
    },
    {
     "data": {
      "text/markdown": [
       "- Link: [/rubinobs-lfa-cp/LOVE/OLE/2024/11/04/LOVE_OLE_2024-11-05T04:06:17.057.png](https://s3.cp.lsst.org/rubinobs-lfa-cp/LOVE/OLE/2024/11/04/LOVE_OLE_2024-11-05T04:06:17.057.png)"
      ],
      "text/plain": [
       "<IPython.core.display.Markdown object>"
      ]
     },
     "metadata": {},
     "output_type": "display_data"
    },
    {
     "data": {
      "text/markdown": [
       "- **2024-11-05 03:51:04.771798** Time Lost: 0.0; Time Lost Type: fault;\n",
       "    - components: ['MainTel']\n",
       "    - primary_software_components: ['None']\n",
       "    - primary_hardware_components: ['None']\n",
       "\n",
       "<pre style='color: black; background-color: white; font-size: 1em; margin-left: 0px; '>Dome faulted and we moved it back into position.\r\n",
       "\r\n",
       "\r\n",
       "Then we saw that we didn't move back exactly to the best focus position.  So, we tried the position in the hexapod before the one we tried:\r\n",
       "\r\n",
       "\r\n",
       "Cam_dx:-126.1\r\n",
       "Cam_dy: 690.41\r\n",
       "Cam_dz: 223.51\r\n",
       "Cam_rx: 0.01\r\n",
       "Cam_ry: 2.26e-3\r\n",
       "M2_dz: 532.08</pre>\n"
      ],
      "text/plain": [
       "<IPython.core.display.Markdown object>"
      ]
     },
     "metadata": {},
     "output_type": "display_data"
    },
    {
     "data": {
      "text/markdown": [
       "- **2024-11-05 03:41:05.904448** Time Lost: 0.0; Time Lost Type: fault;\n",
       "    - components: ['MainTel']\n",
       "    - primary_software_components: ['None']\n",
       "    - primary_hardware_components: ['None']\n",
       "\n",
       "<pre style='color: black; background-color: white; font-size: 1em; margin-left: 0px; '>We are setting the optical state to the the same position as the image 41:\r\n",
       "\r\n",
       "\r\n",
       "\r\n",
       "\r\n",
       "Cam_dx:-126.1\r\n",
       "Cam_dy: 690.41\r\n",
       "Cam_dz: 223.51\r\n",
       "Cam_rx: 0.01\r\n",
       "Cam_ry: 2.26e-3\r\n",
       "M2_dz: 565.42</pre>\n"
      ],
      "text/plain": [
       "<IPython.core.display.Markdown object>"
      ]
     },
     "metadata": {},
     "output_type": "display_data"
    },
    {
     "data": {
      "text/markdown": [
       "- **2024-11-05 03:39:48.698092** Time Lost: 0.0; Time Lost Type: fault;\n",
       "    - components: ['MainTel']\n",
       "    - primary_software_components: ['None']\n",
       "    - primary_hardware_components: ['None']\n",
       "\n",
       "<pre style='color: black; background-color: white; font-size: 1em; margin-left: 0px; '>After this sweep we found the minimum in focus to be at  Image 41 with the Camera Hexapod at zposition was 223 microns and with  a PSF of 1.8\".</pre>\n"
      ],
      "text/plain": [
       "<IPython.core.display.Markdown object>"
      ]
     },
     "metadata": {},
     "output_type": "display_data"
    },
    {
     "data": {
      "text/markdown": [
       "- **2024-11-05 03:25:05.167546** Time Lost: 0.0; Time Lost Type: fault;\n",
       "    - components: ['MainTel']\n",
       "    - primary_software_components: ['None']\n",
       "    - primary_hardware_components: ['None']\n",
       "\n",
       "<pre style='color: black; background-color: white; font-size: 1em; margin-left: 0px; '>After restoring and moving the dome back to 160 degrees, we started rerunning the parameter march.</pre>\n"
      ],
      "text/plain": [
       "<IPython.core.display.Markdown object>"
      ]
     },
     "metadata": {},
     "output_type": "display_data"
    },
    {
     "data": {
      "text/markdown": [
       "- **2024-11-05 03:11:09.961074** Time Lost: 0.0; Time Lost Type: fault;\n",
       "    - components: ['MainTel']\n",
       "    - primary_software_components: ['None']\n",
       "    - primary_hardware_components: ['None']\n",
       "\n",
       "<pre style='color: black; background-color: white; font-size: 1em; margin-left: 0px; '>The potinting component and the dome went to fault when after tracking we hit the 180 degree limit.  We had to restore the component.</pre>\n"
      ],
      "text/plain": [
       "<IPython.core.display.Markdown object>"
      ]
     },
     "metadata": {},
     "output_type": "display_data"
    },
    {
     "data": {
      "text/markdown": [
       "- **2024-11-05 03:00:58.888565** Time Lost: 0.0; Time Lost Type: fault;\n",
       "    - components: ['MainTel']\n",
       "    - primary_software_components: ['None']\n",
       "    - primary_hardware_components: ['None']\n",
       "\n",
       "<pre style='color: black; background-color: white; font-size: 1em; margin-left: 0px; '>We took a triplet after restoring the optical state found by the laser alignment.  The focus was close to the alignment.\r\n",
       "\r\n",
       "\r\n",
       "Now we move to T60 and scan through a movement of both hexapods. We will move the two hexapods both together in the same and then in opposite directions.</pre>\n"
      ],
      "text/plain": [
       "<IPython.core.display.Markdown object>"
      ]
     },
     "metadata": {},
     "output_type": "display_data"
    },
    {
     "data": {
      "text/markdown": [
       "- **2024-11-05 02:43:59.587656** Time Lost: 0.0; Time Lost Type: fault;\n",
       "    - components: ['MainTel']\n",
       "    - primary_software_components: ['None']\n",
       "    - primary_hardware_components: ['None']\n",
       "\n",
       "<pre style='color: black; background-color: white; font-size: 1em; margin-left: 0px; '>We ran a set_dof with Cam_dz: 190.18 --- this is the absolute osition of cam hex when in focus</pre>\n"
      ],
      "text/plain": [
       "<IPython.core.display.Markdown object>"
      ]
     },
     "metadata": {},
     "output_type": "display_data"
    },
    {
     "data": {
      "text/markdown": [
       "- **2024-11-05 02:41:52.390816** Time Lost: 0.0; Time Lost Type: fault;\n",
       "    - components: ['MainTel']\n",
       "    - primary_software_components: ['None']\n",
       "    - primary_hardware_components: ['None']\n",
       "\n",
       "<pre style='color: black; background-color: white; font-size: 1em; margin-left: 0px; '>I think we accumulated offsets in hexapods :/ that screwed up the triplet taking now. the accumulation was due to failed scripts before</pre>\n"
      ],
      "text/plain": [
       "<IPython.core.display.Markdown object>"
      ]
     },
     "metadata": {},
     "output_type": "display_data"
    },
    {
     "data": {
      "text/markdown": [
       "- **2024-11-05 02:36:33.436739** Time Lost: 0.0; Time Lost Type: fault;\n",
       "    - components: ['MainTel']\n",
       "    - primary_software_components: ['None']\n",
       "    - primary_hardware_components: ['None']\n",
       "\n",
       "<pre style='color: black; background-color: white; font-size: 1em; margin-left: 0px; '>Ok Tiago fixed the config fail , and the script failed with a new error - \r\n",
       "--------------\r\n",
       "\r\n",
       "\r\n",
       "AttributeError: 'Remote' object has no attribute 'evt_imageInOODS'</pre>\n"
      ],
      "text/plain": [
       "<IPython.core.display.Markdown object>"
      ]
     },
     "metadata": {},
     "output_type": "display_data"
    },
    {
     "data": {
      "text/markdown": [
       "- **2024-11-05 02:27:24.593881** Time Lost: 0.0; Time Lost Type: fault;\n",
       "    - components: ['MainTel']\n",
       "    - primary_software_components: ['None']\n",
       "    - primary_hardware_components: ['None']\n",
       "\n",
       "<pre style='color: black; background-color: white; font-size: 1em; margin-left: 0px; '>take_aos_sequence_comcam config failed with the following error \r\n",
       "------------------------\r\n",
       "\r\n",
       "\r\n",
       "tcs_ready_to_take_data=self.mtcs.tcs_ready_to_take_data,\r\n",
       "                           ^^^^^^^^^^^^^^^^^^^^^^^^^^^^^^^^\r\n",
       "AttributeError: 'MTCS' object has no attribute 'tcs_ready_to_take_data'</pre>\n"
      ],
      "text/plain": [
       "<IPython.core.display.Markdown object>"
      ]
     },
     "metadata": {},
     "output_type": "display_data"
    },
    {
     "data": {
      "text/markdown": [
       "- **2024-11-05 02:22:34.853711** Time Lost: 0.0; Time Lost Type: fault;\n",
       "    - components: ['MainTel']\n",
       "    - primary_software_components: ['None']\n",
       "    - primary_hardware_components: ['None']\n",
       "\n",
       "<pre style='color: black; background-color: white; font-size: 1em; margin-left: 0px; '>Taking a triplet now --- we saw a beautiful unwinding spiral &lt;3</pre>\n"
      ],
      "text/plain": [
       "<IPython.core.display.Markdown object>"
      ]
     },
     "metadata": {},
     "output_type": "display_data"
    },
    {
     "data": {
      "text/markdown": [
       "- **2024-11-05 02:21:38.571326** Time Lost: 0.0; Time Lost Type: fault;\n",
       "    - components: ['MainTel']\n",
       "    - primary_software_components: ['None']\n",
       "    - primary_hardware_components: ['None']\n",
       "\n",
       "<pre style='color: black; background-color: white; font-size: 1em; margin-left: 0px; '>Taking ACQ with ComCam with 1 sec Exp</pre>\n"
      ],
      "text/plain": [
       "<IPython.core.display.Markdown object>"
      ]
     },
     "metadata": {},
     "output_type": "display_data"
    },
    {
     "data": {
      "text/markdown": [
       "- **2024-11-05 02:15:30.721275** Time Lost: 0.0; Time Lost Type: fault;\n",
       "    - components: ['MainTel']\n",
       "    - primary_software_components: ['None']\n",
       "    - primary_hardware_components: ['None']\n",
       "\n",
       "<pre style='color: black; background-color: white; font-size: 1em; margin-left: 0px; '>enabling dome following now</pre>\n"
      ],
      "text/plain": [
       "<IPython.core.display.Markdown object>"
      ]
     },
     "metadata": {},
     "output_type": "display_data"
    },
    {
     "data": {
      "text/markdown": [
       "- **2024-11-05 02:15:23.818506** Time Lost: 0.0; Time Lost Type: fault;\n",
       "    - components: ['MainTel']\n",
       "    - primary_software_components: ['None']\n",
       "    - primary_hardware_components: ['None']\n",
       "\n",
       "<pre style='color: black; background-color: white; font-size: 1em; margin-left: 0px; '>Ok dome is not reacting -- we disabled dome following and moved it to our Az position</pre>\n"
      ],
      "text/plain": [
       "<IPython.core.display.Markdown object>"
      ]
     },
     "metadata": {},
     "output_type": "display_data"
    },
    {
     "data": {
      "text/markdown": [
       "- **2024-11-05 02:13:00.531123** Time Lost: 0.0; Time Lost Type: fault;\n",
       "    - components: ['MainTel']\n",
       "    - primary_software_components: ['None']\n",
       "    - primary_hardware_components: ['None']\n",
       "\n",
       "<pre style='color: black; background-color: white; font-size: 1em; margin-left: 0px; '>re-enabling dome following</pre>\n"
      ],
      "text/plain": [
       "<IPython.core.display.Markdown object>"
      ]
     },
     "metadata": {},
     "output_type": "display_data"
    },
    {
     "data": {
      "text/markdown": [
       "- **2024-11-05 02:12:16.429220** Time Lost: 0.0; Time Lost Type: fault;\n",
       "    - components: ['MainTel']\n",
       "    - primary_software_components: ['None']\n",
       "    - primary_hardware_components: ['None']\n",
       "\n",
       "<pre style='color: black; background-color: white; font-size: 1em; margin-left: 0px; '>Dome entered a FAULT state --- running exitFault</pre>\n"
      ],
      "text/plain": [
       "<IPython.core.display.Markdown object>"
      ]
     },
     "metadata": {},
     "output_type": "display_data"
    },
    {
     "data": {
      "text/markdown": [
       "- **2024-11-05 02:10:02.342493** Time Lost: 0.0; Time Lost Type: fault;\n",
       "    - components: ['MainTel']\n",
       "    - primary_software_components: ['None']\n",
       "    - primary_hardware_components: ['None']\n",
       "\n",
       "<pre style='color: black; background-color: white; font-size: 1em; margin-left: 0px; '>Started tracking at the position we are at with \r\n",
       "----------------\r\n",
       "component: MTPtg\r\n",
       "cmd: startTracking</pre>\n"
      ],
      "text/plain": [
       "<IPython.core.display.Markdown object>"
      ]
     },
     "metadata": {},
     "output_type": "display_data"
    },
    {
     "data": {
      "text/markdown": [
       "- **2024-11-05 02:08:35.766532** Time Lost: 0.0; Time Lost Type: fault;\n",
       "    - components: ['MainTel']\n",
       "    - primary_software_components: ['None']\n",
       "    - primary_hardware_components: ['None']\n",
       "\n",
       "<pre style='color: black; background-color: white; font-size: 1em; margin-left: 0px; '>Now the Align worked fpor Camera. Next we executed a run_command with with -\r\n",
       "-------------------\r\n",
       "\r\n",
       "\r\n",
       "component: LaserTracker:1\r\n",
       "cmd: measurePoint\r\n",
       "parameters:\r\n",
       "  collection: A\r\n",
       "  pointgroup: M1M3\r\n",
       "  target: p2</pre>\n"
      ],
      "text/plain": [
       "<IPython.core.display.Markdown object>"
      ]
     },
     "metadata": {},
     "output_type": "display_data"
    },
    {
     "data": {
      "text/markdown": [
       "- **2024-11-05 02:00:29.576596** Time Lost: 0.0; Time Lost Type: fault;\n",
       "    - components: ['MainTel']\n",
       "    - primary_software_components: ['None']\n",
       "    - primary_hardware_components: ['None']\n",
       "\n",
       "<pre style='color: black; background-color: white; font-size: 1em; margin-left: 0px; '>We are doing Lasrer Tracker Alignment now -- succsessful for M2, failed for Camera . Moved the Rotator to 0 and re-enabled CCW following because it was found to not follow CCW</pre>\n"
      ],
      "text/plain": [
       "<IPython.core.display.Markdown object>"
      ]
     },
     "metadata": {},
     "output_type": "display_data"
    },
    {
     "data": {
      "text/markdown": [
       "- **2024-11-05 01:15:39.676421** Time Lost: 0.0; Time Lost Type: fault;\n",
       "    - components: ['MainTel']\n",
       "    - primary_software_components: ['None']\n",
       "    - primary_hardware_components: ['None']\n",
       "\n",
       "<pre style='color: black; background-color: white; font-size: 1em; margin-left: 0px; '>move p2p to az=160, el=65/</pre>\n"
      ],
      "text/plain": [
       "<IPython.core.display.Markdown object>"
      ]
     },
     "metadata": {},
     "output_type": "display_data"
    },
    {
     "data": {
      "text/markdown": [
       "- **2024-11-05 01:15:26.620523** Time Lost: 0.0; Time Lost Type: fault;\n",
       "    - components: ['MainTel']\n",
       "    - primary_software_components: ['None']\n",
       "    - primary_hardware_components: ['None']\n",
       "\n",
       "<pre style='color: black; background-color: white; font-size: 1em; margin-left: 0px; '>Camhexapod faulted, compensation mode failed.\r\n",
       "Recover and re-enabled the compensation mode.</pre>\n"
      ],
      "text/plain": [
       "<IPython.core.display.Markdown object>"
      ]
     },
     "metadata": {},
     "output_type": "display_data"
    },
    {
     "data": {
      "text/markdown": [
       "- **2024-11-05 01:00:07.391914** Time Lost: 0.0; Time Lost Type: fault;\n",
       "    - components: ['MainTel']\n",
       "    - primary_software_components: ['None']\n",
       "    - primary_hardware_components: ['None']\n",
       "\n",
       "<pre style='color: black; background-color: white; font-size: 1em; margin-left: 0px; '>TMA was still tracking so faulted. \r\n",
       "We recovered MTPtg.\r\n",
       "MTRotator faulted because MTMount stopped tracking \r\n",
       "Recover MTRotator after recovering CCW to follow\r\n",
       "cmd: enableCameraCableWrapFollowing</pre>\n"
      ],
      "text/plain": [
       "<IPython.core.display.Markdown object>"
      ]
     },
     "metadata": {},
     "output_type": "display_data"
    },
    {
     "data": {
      "text/markdown": [
       "- **2024-11-05 00:52:12.912966** Time Lost: 0.0; Time Lost Type: fault;\n",
       "    - components: ['MainTel']\n",
       "    - primary_software_components: ['None']\n",
       "    - primary_hardware_components: ['None']\n",
       "\n",
       "<pre style='color: black; background-color: white; font-size: 1em; margin-left: 0px; '>Opening the mirror cover.</pre>\n"
      ],
      "text/plain": [
       "<IPython.core.display.Markdown object>"
      ]
     },
     "metadata": {},
     "output_type": "display_data"
    },
    {
     "data": {
      "text/markdown": [
       "- **2024-11-05 00:51:26.178743** Time Lost: 0.0; Time Lost Type: fault;\n",
       "    - components: ['MainTel']\n",
       "    - primary_software_components: ['None']\n",
       "    - primary_hardware_components: ['None']\n",
       "\n",
       "<pre style='color: black; background-color: white; font-size: 1em; margin-left: 0px; '>Done with the TMA Checkout.</pre>\n"
      ],
      "text/plain": [
       "<IPython.core.display.Markdown object>"
      ]
     },
     "metadata": {},
     "output_type": "display_data"
    },
    {
     "data": {
      "text/markdown": [
       "- **2024-11-05 00:49:16.581543** Time Lost: 0.0; Time Lost Type: fault;\n",
       "    - components: ['MainTel']\n",
       "    - primary_software_components: ['None']\n",
       "    - primary_hardware_components: ['None']\n",
       "\n",
       "<pre style='color: black; background-color: white; font-size: 1em; margin-left: 0px; '>exitFault due to the fault code from MTDome.\r\n",
       "Even track_target is ignoring MTDome, MTDomeTrajectory, due to tracking: 60sec, MTDome and MTDomeTrajectory should be ENABLED and cleared with the faults.</pre>\n"
      ],
      "text/plain": [
       "<IPython.core.display.Markdown object>"
      ]
     },
     "metadata": {},
     "output_type": "display_data"
    },
    {
     "data": {
      "text/markdown": [
       "- **2024-11-05 00:46:10.713352** Time Lost: 0.0; Time Lost Type: fault;\n",
       "    - components: ['MainTel']\n",
       "    - primary_software_components: ['None']\n",
       "    - primary_hardware_components: ['None']\n",
       "\n",
       "<pre style='color: black; background-color: white; font-size: 1em; margin-left: 0px; '>There were typo in the configuration for track_target with ignore : mtdome and mtdometrajectory. stopped the script and re-run.</pre>\n"
      ],
      "text/plain": [
       "<IPython.core.display.Markdown object>"
      ]
     },
     "metadata": {},
     "output_type": "display_data"
    },
    {
     "data": {
      "text/markdown": [
       "- **2024-11-05 00:28:28.185741** Time Lost: 0.0; Time Lost Type: fault;\n",
       "    - components: ['MainTel']\n",
       "    - primary_software_components: ['None']\n",
       "    - primary_hardware_components: ['None']\n",
       "\n",
       "<pre style='color: black; background-color: white; font-size: 1em; margin-left: 0px; '>Enabling hexapods and MTAOS. Home both axis.</pre>\n"
      ],
      "text/plain": [
       "<IPython.core.display.Markdown object>"
      ]
     },
     "metadata": {},
     "output_type": "display_data"
    },
    {
     "data": {
      "text/markdown": [
       "- **2024-11-05 00:24:42.862724** Time Lost: 0.0; Time Lost Type: fault;\n",
       "    - components: ['MainTel']\n",
       "    - primary_software_components: ['None']\n",
       "    - primary_hardware_components: ['None']\n",
       "\n",
       "<pre style='color: black; background-color: white; font-size: 1em; margin-left: 0px; '>reset alarm from EUI read out the elevation ok. Enabling MTMount again</pre>\n"
      ],
      "text/plain": [
       "<IPython.core.display.Markdown object>"
      ]
     },
     "metadata": {},
     "output_type": "display_data"
    },
    {
     "data": {
      "text/markdown": [
       "- **2024-11-05 00:22:17.448025** Time Lost: 0.0; Time Lost Type: fault;\n",
       "    - components: ['MainTel']\n",
       "    - primary_software_components: ['None']\n",
       "    - primary_hardware_components: ['None']\n",
       "\n",
       "<pre style='color: black; background-color: white; font-size: 1em; margin-left: 0px; '>changed to CSC mode, elevation read wrong again. switching back to EUI mode, turn on the elevation drive to readout correct position.</pre>\n"
      ],
      "text/plain": [
       "<IPython.core.display.Markdown object>"
      ]
     },
     "metadata": {},
     "output_type": "display_data"
    },
    {
     "data": {
      "text/markdown": [
       "- **2024-11-05 00:19:40.732169** Time Lost: 0.0; Time Lost Type: fault;\n",
       "    - components: ['MainTel']\n",
       "    - primary_software_components: ['None']\n",
       "    - primary_hardware_components: ['None']\n",
       "\n",
       "<pre style='color: black; background-color: white; font-size: 1em; margin-left: 0px; '>Enable MTMount</pre>\n"
      ],
      "text/plain": [
       "<IPython.core.display.Markdown object>"
      ]
     },
     "metadata": {},
     "output_type": "display_data"
    },
    {
     "data": {
      "text/markdown": [
       "- **2024-11-05 00:17:34.870941** Time Lost: 0.0; Time Lost Type: fault;\n",
       "    - components: ['MainTel']\n",
       "    - primary_software_components: ['None']\n",
       "    - primary_hardware_components: ['None']\n",
       "\n",
       "<pre style='color: black; background-color: white; font-size: 1em; margin-left: 0px; '>We had issue with TMA positive limit switch. It usually means elevation position is read out wrong, so we ignored the limit switch and turned on elevation drive, moved to 80, changed settings back to default.</pre>\n"
      ],
      "text/plain": [
       "<IPython.core.display.Markdown object>"
      ]
     },
     "metadata": {},
     "output_type": "display_data"
    },
    {
     "data": {
      "text/markdown": [
       "- **2024-11-05 23:46:35.360832** Time Lost: 0.0; Time Lost Type: fault;\n",
       "    - components: ['MainTel']\n",
       "    - primary_software_components: ['None']\n",
       "    - primary_hardware_components: ['None']\n",
       "\n",
       "<pre style='color: black; background-color: white; font-size: 1em; margin-left: 0px; '>Ok ! Mirror is open to the skies and starting the twilight flats for real</pre>\n"
      ],
      "text/plain": [
       "<IPython.core.display.Markdown object>"
      ]
     },
     "metadata": {},
     "output_type": "display_data"
    },
    {
     "data": {
      "text/markdown": [
       "- **2024-11-05 23:44:20.996249** Time Lost: 0.0; Time Lost Type: fault;\n",
       "    - components: ['MainTel']\n",
       "    - primary_software_components: ['None']\n",
       "    - primary_hardware_components: ['None']\n",
       "\n",
       "<pre style='color: black; background-color: white; font-size: 1em; margin-left: 0px; '>Stopped TMA tracking to open mirror covers</pre>\n"
      ],
      "text/plain": [
       "<IPython.core.display.Markdown object>"
      ]
     },
     "metadata": {},
     "output_type": "display_data"
    },
    {
     "data": {
      "text/markdown": [
       "- **2024-11-05 23:43:01.689159** Time Lost: 0.0; Time Lost Type: fault;\n",
       "    - components: ['MainTel']\n",
       "    - primary_software_components: ['None']\n",
       "    - primary_hardware_components: ['None']\n",
       "\n",
       "<pre style='color: black; background-color: white; font-size: 1em; margin-left: 0px; '>Oops -- we forgot to open Mirror covers !</pre>\n"
      ],
      "text/plain": [
       "<IPython.core.display.Markdown object>"
      ]
     },
     "metadata": {},
     "output_type": "display_data"
    },
    {
     "data": {
      "text/markdown": [
       "- **2024-11-05 23:42:14.005441** Time Lost: 0.0; Time Lost Type: fault;\n",
       "    - components: ['MainTel']\n",
       "    - primary_software_components: ['None']\n",
       "    - primary_hardware_components: ['None']\n",
       "\n",
       "<pre style='color: black; background-color: white; font-size: 1em; margin-left: 0px; '>STARTED BLOCK-T215</pre>\n"
      ],
      "text/plain": [
       "<IPython.core.display.Markdown object>"
      ]
     },
     "metadata": {},
     "output_type": "display_data"
    },
    {
     "data": {
      "text/markdown": [
       "- **2024-11-05 23:41:13.483358** Time Lost: 0.0; Time Lost Type: fault;\n",
       "    - components: ['MainTel']\n",
       "    - primary_software_components: ['None']\n",
       "    - primary_hardware_components: ['None']\n",
       "\n",
       "<pre style='color: black; background-color: white; font-size: 1em; margin-left: 0px; '>MTMount in DEBUG mode now --- Starting Twilight Flats</pre>\n"
      ],
      "text/plain": [
       "<IPython.core.display.Markdown object>"
      ]
     },
     "metadata": {},
     "output_type": "display_data"
    },
    {
     "data": {
      "text/markdown": [
       "- **2024-11-05 23:39:22.573574** Time Lost: 0.0; Time Lost Type: fault;\n",
       "    - components: ['MainTel']\n",
       "    - primary_software_components: ['None']\n",
       "    - primary_hardware_components: ['None']\n",
       "\n",
       "<pre style='color: black; background-color: white; font-size: 1em; margin-left: 0px; '>Preparing to go on sky --- enabled dome following</pre>\n"
      ],
      "text/plain": [
       "<IPython.core.display.Markdown object>"
      ]
     },
     "metadata": {},
     "output_type": "display_data"
    },
    {
     "data": {
      "text/markdown": [
       "- **2024-11-05 23:35:58.150714** Time Lost: 0.0; Time Lost Type: fault;\n",
       "    - components: ['MainTel']\n",
       "    - primary_software_components: ['None']\n",
       "    - primary_hardware_components: ['None']\n",
       "\n",
       "<pre style='color: black; background-color: white; font-size: 1em; margin-left: 0px; '>Utilising the time to do a quick ComCam checkout -- it will take 10 Biases</pre>\n"
      ],
      "text/plain": [
       "<IPython.core.display.Markdown object>"
      ]
     },
     "metadata": {},
     "output_type": "display_data"
    },
    {
     "data": {
      "text/markdown": [
       "- **2024-11-05 23:30:39.116055** Time Lost: 0.0; Time Lost Type: fault;\n",
       "    - components: ['MainTel']\n",
       "    - primary_software_components: ['None']\n",
       "    - primary_hardware_components: ['None']\n",
       "\n",
       "<pre style='color: black; background-color: white; font-size: 1em; margin-left: 0px; '>Guillem : \" In case we lose them, here are the laser offsets - we need to log this too\" \r\n",
       "\r\n",
       "\r\n",
       "Cam_dx:-141.85\r\n",
       "Cam_dy: 673.96\r\n",
       "Cam_dz: 222.47\r\n",
       "Cam_rx: 7.76e-3\r\n",
       "Cam_ry: 0\r\n",
       "M2_dz: 484.12</pre>\n"
      ],
      "text/plain": [
       "<IPython.core.display.Markdown object>"
      ]
     },
     "metadata": {},
     "output_type": "display_data"
    },
    {
     "data": {
      "text/markdown": [
       "- **2024-11-05 23:16:48.265551** Time Lost: 0.0; Time Lost Type: fault;\n",
       "    - components: ['MainTel']\n",
       "    - primary_software_components: ['None']\n",
       "    - primary_hardware_components: ['None']\n",
       "\n",
       "<pre style='color: black; background-color: white; font-size: 1em; margin-left: 0px; '>M1M3 covers deployed --- so that folks can open the shutters</pre>\n"
      ],
      "text/plain": [
       "<IPython.core.display.Markdown object>"
      ]
     },
     "metadata": {},
     "output_type": "display_data"
    },
    {
     "data": {
      "text/markdown": [
       "- **2024-11-05 23:11:34.190430** Time Lost: 0.0; Time Lost Type: fault;\n",
       "    - components: ['MainTel']\n",
       "    - primary_software_components: ['None']\n",
       "    - primary_hardware_components: ['None']\n",
       "\n",
       "<pre style='color: black; background-color: white; font-size: 1em; margin-left: 0px; '>HVAC systems. config changed to night-time -- downdraft fan ON \r\n",
       "\r\n",
       "\r\n",
       "HP and Sandrine are on their way to open the dome shutters.</pre>\n"
      ],
      "text/plain": [
       "<IPython.core.display.Markdown object>"
      ]
     },
     "metadata": {},
     "output_type": "display_data"
    },
    {
     "data": {
      "text/markdown": [
       "- **2024-11-05 23:05:22.077580** Time Lost: 0.0; Time Lost Type: fault;\n",
       "    - components: ['MainTel']\n",
       "    - primary_software_components: ['None']\n",
       "    - primary_hardware_components: ['None']\n",
       "\n",
       "<pre style='color: black; background-color: white; font-size: 1em; margin-left: 0px; '>Turned off laser tracker and put CSC into standby</pre>\n"
      ],
      "text/plain": [
       "<IPython.core.display.Markdown object>"
      ]
     },
     "metadata": {},
     "output_type": "display_data"
    },
    {
     "data": {
      "text/markdown": [
       "- **2024-11-05 23:03:39.379450** Time Lost: 0.0; Time Lost Type: fault;\n",
       "    - components: ['MainTel']\n",
       "    - primary_software_components: ['None']\n",
       "    - primary_hardware_components: ['None']\n",
       "\n",
       "<pre style='color: black; background-color: white; font-size: 1em; margin-left: 0px; '>Laser Tracker turned OFF ---- END OF BLOCK-T88</pre>\n"
      ],
      "text/plain": [
       "<IPython.core.display.Markdown object>"
      ]
     },
     "metadata": {},
     "output_type": "display_data"
    },
    {
     "data": {
      "text/markdown": [
       "- **2024-11-05 23:00:39.441462** Time Lost: 0.0; Time Lost Type: fault;\n",
       "    - components: ['MainTel']\n",
       "    - primary_software_components: ['None']\n",
       "    - primary_hardware_components: ['None']\n",
       "\n",
       "<pre style='color: black; background-color: white; font-size: 1em; margin-left: 0px; '>Pointing Laser at M1M3  --DONE\r\n",
       "-------------------\r\n",
       "\r\n",
       "\r\n",
       "component: LaserTracker:1\r\n",
       "cmd: measurePoint\r\n",
       "parameters:\r\n",
       "  collection: A\r\n",
       "  pointgroup: M1M3\r\n",
       "  target: p4</pre>\n"
      ],
      "text/plain": [
       "<IPython.core.display.Markdown object>"
      ]
     },
     "metadata": {},
     "output_type": "display_data"
    },
    {
     "data": {
      "text/markdown": [
       "- **2024-11-05 22:59:34.115635** Time Lost: 0.0; Time Lost Type: fault;\n",
       "    - components: ['MainTel']\n",
       "    - primary_software_components: ['None']\n",
       "    - primary_hardware_components: ['None']\n",
       "\n",
       "<pre style='color: black; background-color: white; font-size: 1em; margin-left: 0px; '>Aligning Camera with Laser Tracker --  DONE\r\n",
       "----------------------\r\n",
       "\r\n",
       "\r\n",
       "target: Camera\r\n",
       "tolerance_linear: 0.055\r\n",
       "tolerance_angular: 0.002\r\n",
       "program: \"BLOCK-T88\"\r\n",
       "reason: \"BLOCK-T88 - Camera Alignment\"</pre>\n"
      ],
      "text/plain": [
       "<IPython.core.display.Markdown object>"
      ]
     },
     "metadata": {},
     "output_type": "display_data"
    },
    {
     "data": {
      "text/markdown": [
       "- **2024-11-05 22:52:35.621477** Time Lost: 0.0; Time Lost Type: fault;\n",
       "    - components: ['MainTel']\n",
       "    - primary_software_components: ['None']\n",
       "    - primary_hardware_components: ['None']\n",
       "\n",
       "<pre style='color: black; background-color: white; font-size: 1em; margin-left: 0px; '>M2 alignment with laserTracker --- DONE\r\n",
       "\r\n",
       "\r\n",
       "------------------\r\n",
       "target: M2\r\n",
       "tolerance_linear: 0.055\r\n",
       "tolerance_angular: 0.002\r\n",
       "program: \"BLOCK-T88\"\r\n",
       "reason: \"BLOCK-T88 - M2 Alignment\"</pre>\n"
      ],
      "text/plain": [
       "<IPython.core.display.Markdown object>"
      ]
     },
     "metadata": {},
     "output_type": "display_data"
    },
    {
     "data": {
      "text/markdown": [
       "- **2024-11-05 22:52:23.689176** Time Lost: 0.0; Time Lost Type: fault;\n",
       "    - components: None\n",
       "    - primary_software_components: ['None']\n",
       "    - primary_hardware_components: ['None']\n",
       "\n",
       "<pre style='color: black; background-color: white; font-size: 1em; margin-left: 0px; '>Aligning Camera with Laser Tracker -- \r\n",
       "----------------------\r\n",
       "\r\n",
       "\r\n",
       "target: Camera\r\n",
       "tolerance_linear: 0.055\r\n",
       "tolerance_angular: 0.002\r\n",
       "program: \"BLOCK-T88\"\r\n",
       "reason: \"BLOCK-T88 - Camera Alignment\"</pre>\n"
      ],
      "text/plain": [
       "<IPython.core.display.Markdown object>"
      ]
     },
     "metadata": {},
     "output_type": "display_data"
    },
    {
     "data": {
      "text/markdown": [
       "- **2024-11-05 22:43:26.738410** Time Lost: 0.0; Time Lost Type: fault;\n",
       "    - components: ['MainTel']\n",
       "    - primary_software_components: ['None']\n",
       "    - primary_hardware_components: ['None']\n",
       "\n",
       "<pre style='color: black; background-color: white; font-size: 1em; margin-left: 0px; '>Starting with BLOCK-T88 now with DOME closed \r\n",
       "----------------\r\n",
       "Starting alignment of M2 with LaserTracker \r\n",
       "\r\n",
       "\r\n",
       "\r\n",
       "\r\n",
       "\r\n",
       "\r\n",
       "--------------------------\r\n",
       "Note: we will point laser somewhere else after the test !</pre>\n"
      ],
      "text/plain": [
       "<IPython.core.display.Markdown object>"
      ]
     },
     "metadata": {},
     "output_type": "display_data"
    },
    {
     "data": {
      "text/markdown": [
       "- **2024-11-05 22:39:34.263264** Time Lost: 0.0; Time Lost Type: fault;\n",
       "    - components: ['MainTel']\n",
       "    - primary_software_components: ['None']\n",
       "    - primary_hardware_components: ['None']\n",
       "\n",
       "<pre style='color: black; background-color: white; font-size: 1em; margin-left: 0px; '>M1M3 Cover open</pre>\n"
      ],
      "text/plain": [
       "<IPython.core.display.Markdown object>"
      ]
     },
     "metadata": {},
     "output_type": "display_data"
    },
    {
     "data": {
      "text/markdown": [
       "- **2024-11-05 22:38:51.422338** Time Lost: 0.0; Time Lost Type: fault;\n",
       "    - components: ['MainTel']\n",
       "    - primary_software_components: ['None']\n",
       "    - primary_hardware_components: ['None']\n",
       "\n",
       "<pre style='color: black; background-color: white; font-size: 1em; margin-left: 0px; '>Hexapods in compensation mode now</pre>\n"
      ],
      "text/plain": [
       "<IPython.core.display.Markdown object>"
      ]
     },
     "metadata": {},
     "output_type": "display_data"
    },
    {
     "data": {
      "text/markdown": [
       "- **2024-11-05 22:38:16.037156** Time Lost: 0.0; Time Lost Type: fault;\n",
       "    - components: ['MainTel']\n",
       "    - primary_software_components: ['None']\n",
       "    - primary_hardware_components: ['None']\n",
       "\n",
       "<pre style='color: black; background-color: white; font-size: 1em; margin-left: 0px; '>All systems green -- proceeding with the alignment test that Guillem wants</pre>\n"
      ],
      "text/plain": [
       "<IPython.core.display.Markdown object>"
      ]
     },
     "metadata": {},
     "output_type": "display_data"
    },
    {
     "data": {
      "text/markdown": [
       "- **2024-11-05 22:33:00.271780** Time Lost: 0.0; Time Lost Type: fault;\n",
       "    - components: ['MainTel']\n",
       "    - primary_software_components: ['None']\n",
       "    - primary_hardware_components: ['None']\n",
       "\n",
       "<pre style='color: black; background-color: white; font-size: 1em; margin-left: 0px; '>TMA in position -- HP also update the setting set to default from El parking set</pre>\n"
      ],
      "text/plain": [
       "<IPython.core.display.Markdown object>"
      ]
     },
     "metadata": {},
     "output_type": "display_data"
    },
    {
     "data": {
      "text/markdown": [
       "- **2024-11-05 22:31:13.490710** Time Lost: 0.0; Time Lost Type: fault;\n",
       "    - components: ['MainTel']\n",
       "    - primary_software_components: ['None']\n",
       "    - primary_hardware_components: ['None']\n",
       "\n",
       "<pre style='color: black; background-color: white; font-size: 1em; margin-left: 0px; '>Made the dome 1 C warmer ---&gt; setpoint updated to 10C</pre>\n"
      ],
      "text/plain": [
       "<IPython.core.display.Markdown object>"
      ]
     },
     "metadata": {},
     "output_type": "display_data"
    },
    {
     "data": {
      "text/markdown": [
       "- **2024-11-05 22:30:58.905091** Time Lost: 0.0; Time Lost Type: fault;\n",
       "    - components: ['MainTel']\n",
       "    - primary_software_components: ['None']\n",
       "    - primary_hardware_components: ['None']\n",
       "\n",
       "<pre style='color: black; background-color: white; font-size: 1em; margin-left: 0px; '>home both axis, track_target to el=65, az=160 again</pre>\n"
      ],
      "text/plain": [
       "<IPython.core.display.Markdown object>"
      ]
     },
     "metadata": {},
     "output_type": "display_data"
    },
    {
     "data": {
      "text/markdown": [
       "- **2024-11-05 22:27:05.025426** Time Lost: 0.0; Time Lost Type: fault;\n",
       "    - components: ['MainTel']\n",
       "    - primary_software_components: ['None']\n",
       "    - primary_hardware_components: ['None']\n",
       "\n",
       "<pre style='color: black; background-color: white; font-size: 1em; margin-left: 0px; '>Track_target failed with time-out --- &gt; we were moving a long way in Az with parking settings. I think it was too slow !</pre>\n"
      ],
      "text/plain": [
       "<IPython.core.display.Markdown object>"
      ]
     },
     "metadata": {},
     "output_type": "display_data"
    },
    {
     "data": {
      "text/markdown": [
       "- **2024-11-05 22:02:59.176186** Time Lost: 0.0; Time Lost Type: fault;\n",
       "    - components: ['MainTel']\n",
       "    - primary_software_components: ['None']\n",
       "    - primary_hardware_components: ['None']\n",
       "\n",
       "<pre style='color: black; background-color: white; font-size: 1em; margin-left: 0px; '>Tracking target at Az= 160 and El= 65 -- &gt; incidently this is the position where we will be doing the laser--tracker alignment !</pre>\n"
      ],
      "text/plain": [
       "<IPython.core.display.Markdown object>"
      ]
     },
     "metadata": {},
     "output_type": "display_data"
    },
    {
     "data": {
      "text/markdown": [
       "- **2024-11-05 22:00:17.966162** Time Lost: 0.0; Time Lost Type: fault;\n",
       "    - components: ['MainTel']\n",
       "    - primary_software_components: ['None']\n",
       "    - primary_hardware_components: ['None']\n",
       "\n",
       "<pre style='color: black; background-color: white; font-size: 1em; margin-left: 0px; '>MTMount ENABLED and now homing both axes</pre>\n"
      ],
      "text/plain": [
       "<IPython.core.display.Markdown object>"
      ]
     },
     "metadata": {},
     "output_type": "display_data"
    },
    {
     "data": {
      "text/markdown": [
       "- **2024-11-05 21:58:38.346172** Time Lost: 0.0; Time Lost Type: fault;\n",
       "    - components: ['MainTel']\n",
       "    - primary_software_components: ['None']\n",
       "    - primary_hardware_components: ['None']\n",
       "\n",
       "<pre style='color: black; background-color: white; font-size: 1em; margin-left: 0px; '>Doing TMA checkout at El = 70</pre>\n"
      ],
      "text/plain": [
       "<IPython.core.display.Markdown object>"
      ]
     },
     "metadata": {},
     "output_type": "display_data"
    },
    {
     "data": {
      "text/markdown": [
       "- **2024-11-05 21:57:51.371601** Time Lost: 0.0; Time Lost Type: fault;\n",
       "    - components: ['MainTel']\n",
       "    - primary_software_components: ['None']\n",
       "    - primary_hardware_components: ['None']\n",
       "\n",
       "<pre style='color: black; background-color: white; font-size: 1em; margin-left: 0px; '>M1M3 raised!</pre>\n"
      ],
      "text/plain": [
       "<IPython.core.display.Markdown object>"
      ]
     },
     "metadata": {},
     "output_type": "display_data"
    },
    {
     "data": {
      "text/markdown": [
       "- **2024-11-05 21:52:22.784645** Time Lost: 0.0; Time Lost Type: fault;\n",
       "    - components: ['MainTel']\n",
       "    - primary_software_components: ['None']\n",
       "    - primary_hardware_components: ['None']\n",
       "\n",
       "<pre style='color: black; background-color: white; font-size: 1em; margin-left: 0px; '>Enabling CSCs</pre>\n"
      ],
      "text/plain": [
       "<IPython.core.display.Markdown object>"
      ]
     },
     "metadata": {},
     "output_type": "display_data"
    },
    {
     "data": {
      "text/markdown": [
       "- **2024-11-05 21:50:05.350758** Time Lost: 0.0; Time Lost Type: fault;\n",
       "    - components: ['MainTel']\n",
       "    - primary_software_components: ['None']\n",
       "    - primary_hardware_components: ['None']\n",
       "\n",
       "<pre style='color: black; background-color: white; font-size: 1em; margin-left: 0px; '>Raising M1M3</pre>\n"
      ],
      "text/plain": [
       "<IPython.core.display.Markdown object>"
      ]
     },
     "metadata": {},
     "output_type": "display_data"
    },
    {
     "data": {
      "text/markdown": [
       "- **2024-11-05 21:50:00.135343** Time Lost: 0.0; Time Lost Type: fault;\n",
       "    - components: ['MainTel']\n",
       "    - primary_software_components: ['None']\n",
       "    - primary_hardware_components: ['None']\n",
       "\n",
       "<pre style='color: black; background-color: white; font-size: 1em; margin-left: 0px; '>Petr checked the failed FA and they seem nothing extra-ordinary. \r\n",
       "\"FAs are failing randomly,but nothing serious. Let's raise\"\r\n",
       "\r\n",
       "\r\n",
       "\r\n",
       "\r\n",
       "We are ready for TMA checkouts</pre>\n"
      ],
      "text/plain": [
       "<IPython.core.display.Markdown object>"
      ]
     },
     "metadata": {},
     "output_type": "display_data"
    },
    {
     "data": {
      "text/markdown": [
       "- **2024-11-05 21:49:08.499006** Time Lost: 0.0; Time Lost Type: fault;\n",
       "    - components: ['MainTel']\n",
       "    - primary_software_components: ['None']\n",
       "    - primary_hardware_components: ['None']\n",
       "\n",
       "<pre style='color: black; background-color: white; font-size: 1em; margin-left: 0px; '>Tested bump test individually, FA 235 failed but others passed. 235 also seems to be overshooting. Proceed. raising mirror.</pre>\n"
      ],
      "text/plain": [
       "<IPython.core.display.Markdown object>"
      ]
     },
     "metadata": {},
     "output_type": "display_data"
    },
    {
     "data": {
      "text/markdown": [
       "- **2024-11-05 21:37:07.444704** Time Lost: 0.0; Time Lost Type: fault;\n",
       "    - components: ['MainTel']\n",
       "    - primary_software_components: ['None']\n",
       "    - primary_hardware_components: ['None']\n",
       "\n",
       "<pre style='color: black; background-color: white; font-size: 1em; margin-left: 0px; '>Enabled hexapods</pre>\n"
      ],
      "text/plain": [
       "<IPython.core.display.Markdown object>"
      ]
     },
     "metadata": {},
     "output_type": "display_data"
    },
    {
     "data": {
      "text/markdown": [
       "- **2024-11-05 21:25:50.963854** Time Lost: 0.0; Time Lost Type: fault;\n",
       "    - components: ['MainTel']\n",
       "    - primary_software_components: ['None']\n",
       "    - primary_hardware_components: ['None']\n",
       "\n",
       "<pre style='color: black; background-color: white; font-size: 1em; margin-left: 0px; '>FA Bump tests failed for : 233, 235, 330 \r\n",
       "------------------\r\n",
       "\r\n",
       "\r\n",
       "Actuators [233, 235, 330] FAILED the bump test.\r\n",
       "\r\n",
       "\r\n",
       "SAA (Single Actuator Axes) Failures:\r\n",
       "  None\r\n",
       "DAA (Dual Actuator Axes) Failures:\r\n",
       "  - Actuator ID 233: Pri Index 67\r\n",
       "  - Actuator ID 235: Pri Index 69\r\n",
       "  - Actuator ID 330: Pri Index 107</pre>\n"
      ],
      "text/plain": [
       "<IPython.core.display.Markdown object>"
      ]
     },
     "metadata": {},
     "output_type": "display_data"
    },
    {
     "data": {
      "text/markdown": [
       "- **2024-11-05 20:29:11.956808** Time Lost: 0.0; Time Lost Type: fault;\n",
       "    - components: ['MainTel']\n",
       "    - primary_software_components: ['None']\n",
       "    - primary_hardware_components: ['None']\n",
       "\n",
       "<pre style='color: black; background-color: white; font-size: 1em; margin-left: 0px; '>Guillem just wanted to check something.</pre>\n"
      ],
      "text/plain": [
       "<IPython.core.display.Markdown object>"
      ]
     },
     "metadata": {},
     "output_type": "display_data"
    },
    {
     "data": {
      "text/markdown": [
       "- **2024-11-05 20:25:02.879879** Time Lost: 0.0; Time Lost Type: fault;\n",
       "    - components: ['MainTel']\n",
       "    - primary_software_components: ['None']\n",
       "    - primary_hardware_components: ['None']\n",
       "\n",
       "<pre style='color: black; background-color: white; font-size: 1em; margin-left: 0px; '>Hexapods zeroe-d from ATQue</pre>\n"
      ],
      "text/plain": [
       "<IPython.core.display.Markdown object>"
      ]
     },
     "metadata": {},
     "output_type": "display_data"
    },
    {
     "data": {
      "text/markdown": [
       "- **2024-11-05 20:19:39.095765** Time Lost: 0.0; Time Lost Type: fault;\n",
       "    - components: ['MainTel']\n",
       "    - primary_software_components: ['None']\n",
       "    - primary_hardware_components: ['None']\n",
       "\n",
       "<pre style='color: black; background-color: white; font-size: 1em; margin-left: 0px; '>Meanwhile ENABLing both Hexs for a quick liquid tests for Guillem</pre>\n"
      ],
      "text/plain": [
       "<IPython.core.display.Markdown object>"
      ]
     },
     "metadata": {},
     "output_type": "display_data"
    },
    {
     "data": {
      "text/markdown": [
       "- **2024-11-05 20:19:05.432036** Time Lost: 0.0; Time Lost Type: fault;\n",
       "    - components: ['MainTel']\n",
       "    - primary_software_components: ['None']\n",
       "    - primary_hardware_components: ['None']\n",
       "\n",
       "<pre style='color: black; background-color: white; font-size: 1em; margin-left: 0px; '>Trying the bump tests again.</pre>\n"
      ],
      "text/plain": [
       "<IPython.core.display.Markdown object>"
      ]
     },
     "metadata": {},
     "output_type": "display_data"
    },
    {
     "data": {
      "text/markdown": [
       "- **2024-11-05 20:18:38.373635** Time Lost: 0.0; Time Lost Type: fault;\n",
       "    - components: ['MainTel']\n",
       "    - primary_software_components: ['None']\n",
       "    - primary_hardware_components: ['None']\n",
       "\n",
       "<pre style='color: black; background-color: white; font-size: 1em; margin-left: 0px; '>Scheduler 1 ENABLED with  maintel_fbs_sit_block_t87.yaml</pre>\n"
      ],
      "text/plain": [
       "<IPython.core.display.Markdown object>"
      ]
     },
     "metadata": {},
     "output_type": "display_data"
    },
    {
     "data": {
      "text/markdown": [
       "- **2024-11-05 20:18:04.176264** Time Lost: 0.0; Time Lost Type: fault;\n",
       "    - components: ['MainTel']\n",
       "    - primary_software_components: ['None']\n",
       "    - primary_hardware_components: ['None']\n",
       "\n",
       "<pre style='color: black; background-color: white; font-size: 1em; margin-left: 0px; '>Bump tests started and failed.... \r\n",
       "\r\n",
       "\r\n",
       "------------------------\r\n",
       "\r\n",
       "\r\n",
       " File \"/opt/lsst/software/stack/conda/envs/lsst-scipipe-9.0.0/lib/python3.11/site-packages/lsst/ts/salobj/topics/remote_command.py\", line 205, in next_ackcmd\r\n",
       "    raise base.AckTimeoutError(\r\n",
       "lsst.ts.salobj.base.AckTimeoutError: msg='Timed out waiting for command acknowledgement', ackcmd=(ackcmd private_seqNum=94448011, ack=&lt;SalRetCode.CMD_NOACK: -301&gt;, error=0, result='No command acknowledgement seen')\r\n",
       "\r\n",
       "\r\n",
       "-----------------\r\n",
       "\r\n",
       "\r\n",
       "Because Scheduler 1 is in STANDBY :P</pre>\n"
      ],
      "text/plain": [
       "<IPython.core.display.Markdown object>"
      ]
     },
     "metadata": {},
     "output_type": "display_data"
    },
    {
     "data": {
      "text/markdown": [
       "- **2024-11-05 20:14:43.610786** Time Lost: 0.0; Time Lost Type: fault;\n",
       "    - components: ['MainTel']\n",
       "    - primary_software_components: ['None']\n",
       "    - primary_hardware_components: ['None']\n",
       "\n",
       "<pre style='color: black; background-color: white; font-size: 1em; margin-left: 0px; '>Petr is running the FCU at 200 RPM...</pre>\n"
      ],
      "text/plain": [
       "<IPython.core.display.Markdown object>"
      ]
     },
     "metadata": {},
     "output_type": "display_data"
    },
    {
     "data": {
      "text/markdown": [
       "- **2024-11-05 20:14:21.842718** Time Lost: 0.0; Time Lost Type: fault;\n",
       "    - components: ['MainTel']\n",
       "    - primary_software_components: ['None']\n",
       "    - primary_hardware_components: ['None']\n",
       "\n",
       "<pre style='color: black; background-color: white; font-size: 1em; margin-left: 0px; '>Petr: at zenith the glycol pressure is enough to cycle the glycol flow around in circle. Not possible at horizon. Also the cold air at bottom should be circulated around the entire mirror volume. this is where the air temperatures and pressure matter. Aim to get the glycol temp 2-2.5 C lesser than ambient</pre>\n"
      ],
      "text/plain": [
       "<IPython.core.display.Markdown object>"
      ]
     },
     "metadata": {},
     "output_type": "display_data"
    },
    {
     "data": {
      "text/markdown": [
       "- **2024-11-05 20:06:46.107154** Time Lost: 0.0; Time Lost Type: fault;\n",
       "    - components: ['MainTel']\n",
       "    - primary_software_components: ['None']\n",
       "    - primary_hardware_components: ['None']\n",
       "\n",
       "<pre style='color: black; background-color: white; font-size: 1em; margin-left: 0px; '>Meanwhile now M1M3 temperature is about 12 C</pre>\n"
      ],
      "text/plain": [
       "<IPython.core.display.Markdown object>"
      ]
     },
     "metadata": {},
     "output_type": "display_data"
    },
    {
     "data": {
      "text/markdown": [
       "- **2024-11-05 20:06:23.539745** Time Lost: 0.0; Time Lost Type: fault;\n",
       "    - components: ['MainTel']\n",
       "    - primary_software_components: ['None']\n",
       "    - primary_hardware_components: ['None']\n",
       "\n",
       "<pre style='color: black; background-color: white; font-size: 1em; margin-left: 0px; '>Petr started it through the GUI and now its ENABLED</pre>\n"
      ],
      "text/plain": [
       "<IPython.core.display.Markdown object>"
      ]
     },
     "metadata": {},
     "output_type": "display_data"
    },
    {
     "data": {
      "text/markdown": [
       "- **2024-11-05 20:04:25.811414** Time Lost: 0.0; Time Lost Type: fault;\n",
       "    - components: ['MainTel']\n",
       "    - primary_software_components: ['None']\n",
       "    - primary_hardware_components: ['None']\n",
       "\n",
       "<pre style='color: black; background-color: white; font-size: 1em; margin-left: 0px; '>ALL M1M3 Interlocks cleared !</pre>\n"
      ],
      "text/plain": [
       "<IPython.core.display.Markdown object>"
      ]
     },
     "metadata": {},
     "output_type": "display_data"
    },
    {
     "data": {
      "text/markdown": [
       "- **2024-11-05 20:01:15.269872** Time Lost: 0.0; Time Lost Type: fault;\n",
       "    - components: ['MainTel']\n",
       "    - primary_software_components: ['None']\n",
       "    - primary_hardware_components: ['None']\n",
       "\n",
       "<pre style='color: black; background-color: white; font-size: 1em; margin-left: 0px; '>The M1M3 Air valve appears to be closed. Perhaps we should have waited for the pressure to go completely down before attempting to enable it again ? .....</pre>\n"
      ],
      "text/plain": [
       "<IPython.core.display.Markdown object>"
      ]
     },
     "metadata": {},
     "output_type": "display_data"
    },
    {
     "data": {
      "text/markdown": [
       "- **2024-11-05 19:54:02.726598** Time Lost: 0.0; Time Lost Type: fault;\n",
       "    - components: ['MainTel']\n",
       "    - primary_software_components: ['None']\n",
       "    - primary_hardware_components: ['None']\n",
       "\n",
       "<pre style='color: black; background-color: white; font-size: 1em; margin-left: 0px; '>M1M3 Faulted again with this in CSC error log \r\n",
       "\r\n",
       "\r\n",
       "Faulted (262149): Interlock Aux Power Bus Off</pre>\n"
      ],
      "text/plain": [
       "<IPython.core.display.Markdown object>"
      ]
     },
     "metadata": {},
     "output_type": "display_data"
    },
    {
     "data": {
      "text/markdown": [
       "- **2024-11-05 19:51:33.447245** Time Lost: 0.0; Time Lost Type: fault;\n",
       "    - components: ['MainTel']\n",
       "    - primary_software_components: ['None']\n",
       "    - primary_hardware_components: ['None']\n",
       "\n",
       "<pre style='color: black; background-color: white; font-size: 1em; margin-left: 0px; '>Need to remove TMA Motion lock</pre>\n"
      ],
      "text/plain": [
       "<IPython.core.display.Markdown object>"
      ]
     },
     "metadata": {},
     "output_type": "display_data"
    },
    {
     "data": {
      "text/markdown": [
       "- **2024-11-05 19:50:21.299980** Time Lost: 0.0; Time Lost Type: fault;\n",
       "    - components: ['MainTel']\n",
       "    - primary_software_components: ['None']\n",
       "    - primary_hardware_components: ['None']\n",
       "\n",
       "<pre style='color: black; background-color: white; font-size: 1em; margin-left: 0px; '>M1M3 Faulted while moving it to the CSC mode from the GUI</pre>\n"
      ],
      "text/plain": [
       "<IPython.core.display.Markdown object>"
      ]
     },
     "metadata": {},
     "output_type": "display_data"
    },
    {
     "data": {
      "text/markdown": [
       "- **2024-11-05 19:47:42.461302** Time Lost: 0.0; Time Lost Type: fault;\n",
       "    - components: ['MainTel']\n",
       "    - primary_software_components: ['None']\n",
       "    - primary_hardware_components: ['None']\n",
       "\n",
       "<pre style='color: black; background-color: white; font-size: 1em; margin-left: 0px; '>HP breakaway test done. All passed</pre>\n"
      ],
      "text/plain": [
       "<IPython.core.display.Markdown object>"
      ]
     },
     "metadata": {},
     "output_type": "display_data"
    },
    {
     "data": {
      "text/markdown": [
       "- **2024-11-05 19:33:23.399964** Time Lost: 0.0; Time Lost Type: fault;\n",
       "    - components: ['MainTel']\n",
       "    - primary_software_components: ['None']\n",
       "    - primary_hardware_components: ['None']\n",
       "\n",
       "<pre style='color: black; background-color: white; font-size: 1em; margin-left: 0px; '>Started simultaneous hardpoint breakaway test !</pre>\n"
      ],
      "text/plain": [
       "<IPython.core.display.Markdown object>"
      ]
     },
     "metadata": {},
     "output_type": "display_data"
    },
    {
     "data": {
      "text/markdown": [
       "- **2024-11-05 19:26:21.792285** Time Lost: 0.0; Time Lost Type: fault;\n",
       "    - components: ['MainTel']\n",
       "    - primary_software_components: ['None']\n",
       "    - primary_hardware_components: ['None']\n",
       "\n",
       "<pre style='color: black; background-color: white; font-size: 1em; margin-left: 0px; '>M1M3 ENABLED and entering the Eng mode. waiting for the pressure to stabilize</pre>\n"
      ],
      "text/plain": [
       "<IPython.core.display.Markdown object>"
      ]
     },
     "metadata": {},
     "output_type": "display_data"
    },
    {
     "data": {
      "text/markdown": [
       "- **2024-11-05 19:25:01.359218** Time Lost: 0.0; Time Lost Type: fault;\n",
       "    - components: ['MainTel']\n",
       "    - primary_software_components: ['None']\n",
       "    - primary_hardware_components: ['None']\n",
       "\n",
       "<pre style='color: black; background-color: white; font-size: 1em; margin-left: 0px; '>El at 70 ! Starting the Hardpoingt breakaway tests first through the M1M3GUI --- it will be faster !</pre>\n"
      ],
      "text/plain": [
       "<IPython.core.display.Markdown object>"
      ]
     },
     "metadata": {},
     "output_type": "display_data"
    },
    {
     "data": {
      "text/markdown": [
       "- **2024-11-05 19:15:02.269975** Time Lost: 0.0; Time Lost Type: fault;\n",
       "    - components: ['MainTel']\n",
       "    - primary_software_components: ['None']\n",
       "    - primary_hardware_components: ['None']\n",
       "\n",
       "<pre style='color: black; background-color: white; font-size: 1em; margin-left: 0px; '>Moving el=70</pre>\n"
      ],
      "text/plain": [
       "<IPython.core.display.Markdown object>"
      ]
     },
     "metadata": {},
     "output_type": "display_data"
    },
    {
     "data": {
      "text/markdown": [
       "- **2024-11-05 19:14:27.766520** Time Lost: 0.0; Time Lost Type: fault;\n",
       "    - components: ['MainTel']\n",
       "    - primary_software_components: ['None']\n",
       "    - primary_hardware_components: ['None']\n",
       "\n",
       "<pre style='color: black; background-color: white; font-size: 1em; margin-left: 0px; '>home elevation drive</pre>\n"
      ],
      "text/plain": [
       "<IPython.core.display.Markdown object>"
      ]
     },
     "metadata": {},
     "output_type": "display_data"
    },
    {
     "data": {
      "text/markdown": [
       "- **2024-11-05 19:13:28.645792** Time Lost: 0.0; Time Lost Type: fault;\n",
       "    - components: ['MainTel']\n",
       "    - primary_software_components: ['None']\n",
       "    - primary_hardware_components: ['None']\n",
       "\n",
       "<pre style='color: black; background-color: white; font-size: 1em; margin-left: 0px; '>Eduardo says - \"the oil is perfect !\"</pre>\n"
      ],
      "text/plain": [
       "<IPython.core.display.Markdown object>"
      ]
     },
     "metadata": {},
     "output_type": "display_data"
    },
    {
     "data": {
      "text/markdown": [
       "- **2024-11-05 19:11:14.961212** Time Lost: 0.0; Time Lost Type: fault;\n",
       "    - components: ['MainTel']\n",
       "    - primary_software_components: ['None']\n",
       "    - primary_hardware_components: ['None']\n",
       "\n",
       "<pre style='color: black; background-color: white; font-size: 1em; margin-left: 0px; '>Done. Moving Elevation to 15 deg so we can home the axis.</pre>\n"
      ],
      "text/plain": [
       "<IPython.core.display.Markdown object>"
      ]
     },
     "metadata": {},
     "output_type": "display_data"
    },
    {
     "data": {
      "text/markdown": [
       "- **2024-11-05 18:59:59.053302** Time Lost: 0.0; Time Lost Type: fault;\n",
       "    - components: ['MainTel']\n",
       "    - primary_software_components: ['None']\n",
       "    - primary_hardware_components: ['None']\n",
       "\n",
       "<pre style='color: black; background-color: white; font-size: 1em; margin-left: 0px; '>Moving in Az with parking settings --- homed Az earlier through EUI</pre>\n"
      ],
      "text/plain": [
       "<IPython.core.display.Markdown object>"
      ]
     },
     "metadata": {},
     "output_type": "display_data"
    },
    {
     "data": {
      "text/markdown": [
       "- **2024-11-05 18:57:31.593655** Time Lost: 0.0; Time Lost Type: fault;\n",
       "    - components: ['MainTel']\n",
       "    - primary_software_components: ['None']\n",
       "    - primary_hardware_components: ['None']\n",
       "\n",
       "<pre style='color: black; background-color: white; font-size: 1em; margin-left: 0px; '>Moving by 60 deg in azimuth with M1M3 DISABLED and TMA at horizon --- Day crew requests this check to check the oil drain under the TMA</pre>\n"
      ],
      "text/plain": [
       "<IPython.core.display.Markdown object>"
      ]
     },
     "metadata": {},
     "output_type": "display_data"
    },
    {
     "data": {
      "text/markdown": [
       "- **2024-11-05 18:47:07.403178** Time Lost: 0.0; Time Lost Type: fault;\n",
       "    - components: ['MainTel']\n",
       "    - primary_software_components: ['None']\n",
       "    - primary_hardware_components: ['None']\n",
       "\n",
       "<pre style='color: black; background-color: white; font-size: 1em; margin-left: 0px; '>Locking pins out !</pre>\n"
      ],
      "text/plain": [
       "<IPython.core.display.Markdown object>"
      ]
     },
     "metadata": {},
     "output_type": "display_data"
    },
    {
     "data": {
      "text/markdown": [
       "- **2024-11-05 18:45:13.654985** Time Lost: 0.0; Time Lost Type: fault;\n",
       "    - components: ['MainTel']\n",
       "    - primary_software_components: ['None']\n",
       "    - primary_hardware_components: ['None']\n",
       "\n",
       "<pre style='color: black; background-color: white; font-size: 1em; margin-left: 0px; '>So the TMA at the moment is at horizon with locking pins engaged and the M1M3 is disabled. The plan now is to move TMA out of parking position to 70 with M1M3 DISABLED and on static support. We do bump tests first and then raise it and proceed to TMA checkout.</pre>\n"
      ],
      "text/plain": [
       "<IPython.core.display.Markdown object>"
      ]
     },
     "metadata": {},
     "output_type": "display_data"
    },
    {
     "data": {
      "text/markdown": [
       "- **2024-11-05 18:39:18.595409** Time Lost: 0.0; Time Lost Type: fault;\n",
       "    - components: ['MainTel']\n",
       "    - primary_software_components: ['None']\n",
       "    - primary_hardware_components: ['None']\n",
       "\n",
       "<pre style='color: black; background-color: white; font-size: 1em; margin-left: 0px; '>Dome handed over</pre>\n"
      ],
      "text/plain": [
       "<IPython.core.display.Markdown object>"
      ]
     },
     "metadata": {},
     "output_type": "display_data"
    },
    {
     "data": {
      "text/markdown": [
       "- **2024-11-05 18:37:04.217053** Time Lost: 0.0; Time Lost Type: fault;\n",
       "    - components: ['MainTel']\n",
       "    - primary_software_components: ['None']\n",
       "    - primary_hardware_components: ['None']\n",
       "\n",
       "<pre style='color: black; background-color: white; font-size: 1em; margin-left: 0px; '>TMA handed over !</pre>\n"
      ],
      "text/plain": [
       "<IPython.core.display.Markdown object>"
      ]
     },
     "metadata": {},
     "output_type": "display_data"
    },
    {
     "data": {
      "text/markdown": [
       "- **2024-11-05 18:28:36.531398** Time Lost: 0.0; Time Lost Type: fault;\n",
       "    - components: ['MainTel']\n",
       "    - primary_software_components: ['None']\n",
       "    - primary_hardware_components: ['None']\n",
       "\n",
       "<pre style='color: black; background-color: white; font-size: 1em; margin-left: 0px; '>Dome handover went good it seems ! From Wouter : \"The MTDome CSC reports that the current state of the MTDome azimuth rotation is PARKED. This means no error, position=328º and the brakes are engaged. All is well to start moving the dome.\"</pre>\n"
      ],
      "text/plain": [
       "<IPython.core.display.Markdown object>"
      ]
     },
     "metadata": {},
     "output_type": "display_data"
    },
    {
     "data": {
      "text/markdown": [
       "- **2024-11-05 18:22:42.392759** Time Lost: 0.0; Time Lost Type: fault;\n",
       "    - components: ['MainTel']\n",
       "    - primary_software_components: ['None']\n",
       "    - primary_hardware_components: ['None']\n",
       "\n",
       "<pre style='color: black; background-color: white; font-size: 1em; margin-left: 0px; '>TMA PS ON and OSS is in progress</pre>\n"
      ],
      "text/plain": [
       "<IPython.core.display.Markdown object>"
      ]
     },
     "metadata": {},
     "output_type": "display_data"
    },
    {
     "data": {
      "text/markdown": [
       "- **2024-11-05 18:20:40.473584** Time Lost: 0.0; Time Lost Type: fault;\n",
       "    - components: ['MainTel']\n",
       "    - primary_software_components: ['None']\n",
       "    - primary_hardware_components: ['None']\n",
       "\n",
       "<pre style='color: black; background-color: white; font-size: 1em; margin-left: 0px; '>HP is atL7 for Dome Handover while Robinson is starting the power supply.</pre>\n"
      ],
      "text/plain": [
       "<IPython.core.display.Markdown object>"
      ]
     },
     "metadata": {},
     "output_type": "display_data"
    },
    {
     "data": {
      "text/markdown": [
       "- **2024-11-05 18:19:20.578657** Time Lost: 0.0; Time Lost Type: fault;\n",
       "    - components: ['MainTel']\n",
       "    - primary_software_components: ['TMA_EUI']\n",
       "    - primary_hardware_components: ['None']\n",
       "\n",
       "<pre style='color: black; background-color: white; font-size: 1em; margin-left: 0px; '>h3. Error/Failure explanation:\r\n",
       "Elevation Error code 410 : Positive Software limit ; Safety Matrix --> El +\r\n",
       "h3. What were you doing when the failure occurred?:\r\n",
       "We were trying to bring the elevation from zenith to within operational limits (80 deg) using Parking settings. The problem could be because the Elevation (non-homed) was reading 92 deg \r\n",
       "h3. Detailed description of the steps followed that caused the error/failure:\r\n",
       "We changed the TWO positive software limit switches in Elevation settings to FALSE,  tried to reset alarm. I think we over rode the EL+ alarm in safety matrix. We turned on the El drives , moved to 80, released the over ride and Reset alarm. The positive Software limit disappeared. We did have an STO though. We reverted the changed settings back and put the TMA motion settings to default. We then proceeded to enable the MTMount through CSC and that worked.</pre>\n"
      ],
      "text/plain": [
       "<IPython.core.display.Markdown object>"
      ]
     },
     "metadata": {},
     "output_type": "display_data"
    },
    {
     "data": {
      "text/markdown": [
       "- **2024-11-05 17:13:01.501901** Time Lost: 0.0; Time Lost Type: fault;\n",
       "    - components: ['MainTel']\n",
       "    - primary_software_components: ['None']\n",
       "    - primary_hardware_components: ['None']\n",
       "\n",
       "<pre style='color: black; background-color: white; font-size: 1em; margin-left: 0px; '>General M1M3 tidbits from Petr : \"You can run both tests, there shall not be any safety issue with the glass. But better if you have time to run those at zenith. HP are clear, we already have those in breakaway. I question a bit FA bump tests. We of course ran those at horizon with the surrogate, but now we have glass\r\n",
       "2:05\r\n",
       "Best still if you will have time to move to zenith before running the tests. We can do horizon tests later. \"</pre>\n"
      ],
      "text/plain": [
       "<IPython.core.display.Markdown object>"
      ]
     },
     "metadata": {},
     "output_type": "display_data"
    },
    {
     "data": {
      "text/markdown": [
       "- **2024-11-05 16:25:36.813603** Time Lost: 0.0; Time Lost Type: fault;\n",
       "    - components: ['MainTel']\n",
       "    - primary_software_components: ['None']\n",
       "    - primary_hardware_components: ['None']\n",
       "\n",
       "<pre style='color: black; background-color: white; font-size: 1em; margin-left: 0px; '>M2Hex back to zero position</pre>\n"
      ],
      "text/plain": [
       "<IPython.core.display.Markdown object>"
      ]
     },
     "metadata": {},
     "output_type": "display_data"
    },
    {
     "data": {
      "text/markdown": [
       "- **2024-11-05 16:12:22.166525** Time Lost: 0.0; Time Lost Type: fault;\n",
       "    - components: None\n",
       "    - primary_software_components: ['None']\n",
       "    - primary_hardware_components: ['None']\n",
       "\n",
       "<pre style='color: black; background-color: white; font-size: 1em; margin-left: 0px; '>M2Hex Warm ups going on -- today the max position reached in each axis is 4500 um</pre>\n"
      ],
      "text/plain": [
       "<IPython.core.display.Markdown object>"
      ]
     },
     "metadata": {},
     "output_type": "display_data"
    },
    {
     "data": {
      "text/markdown": [
       "- **2024-11-05 15:46:03.862203** Time Lost: 0.0; Time Lost Type: fault;\n",
       "    - components: ['MainTel']\n",
       "    - primary_software_components: ['None']\n",
       "    - primary_hardware_components: ['None']\n",
       "\n",
       "<pre style='color: black; background-color: white; font-size: 1em; margin-left: 0px; '>hexapods ENABLED, rotator DISABLED</pre>\n"
      ],
      "text/plain": [
       "<IPython.core.display.Markdown object>"
      ]
     },
     "metadata": {},
     "output_type": "display_data"
    },
    {
     "data": {
      "text/markdown": [
       "- **2024-11-05 15:36:20.480965** Time Lost: 0.0; Time Lost Type: fault;\n",
       "    - components: ['MainTel']\n",
       "    - primary_software_components: ['None']\n",
       "    - primary_hardware_components: ['None']\n",
       "\n",
       "<pre style='color: black; background-color: white; font-size: 1em; margin-left: 0px; '>turning on rotator T161</pre>\n"
      ],
      "text/plain": [
       "<IPython.core.display.Markdown object>"
      ]
     },
     "metadata": {},
     "output_type": "display_data"
    },
    {
     "data": {
      "text/markdown": [
       "- **2024-11-05 15:21:33.631597** Time Lost: 0.0; Time Lost Type: fault;\n",
       "    - components: ['MainTel']\n",
       "    - primary_software_components: ['None']\n",
       "    - primary_hardware_components: ['None']\n",
       "\n",
       "<pre style='color: black; background-color: white; font-size: 1em; margin-left: 0px; '>Turning on the hexapods cabinet and PXI.</pre>\n"
      ],
      "text/plain": [
       "<IPython.core.display.Markdown object>"
      ]
     },
     "metadata": {},
     "output_type": "display_data"
    }
   ],
   "source": [
    "# Narrative Report\n",
    "# Time Log\n",
    "allrep.nar_rep.time_log_as_markdown()"
   ]
  },
  {
   "cell_type": "markdown",
   "id": "27",
   "metadata": {},
   "source": [
    "-----------\n",
    "------------"
   ]
  },
  {
   "cell_type": "markdown",
   "id": "cd0567ce-4ae9-428e-8f9d-df8277511392",
   "metadata": {},
   "source": [
    "# Developer Only Section <font style=\"background-color:red; olor:black; font-size:20px\">REMOVE</font>\n",
    "Contains stuff only expected to be useful to developers.\n",
    "\n",
    "This may also contain sections that have moved out of the user section because they are no longer defined in the Storyboard."
   ]
  },
  {
   "cell_type": "markdown",
   "id": "34",
   "metadata": {},
   "source": [
    "## Overview \n"
   ]
  },
  {
   "cell_type": "code",
   "execution_count": 16,
   "id": "6e220d29-aac6-4d70-80e2-7dd3ef99944c",
   "metadata": {
    "jupyter": {
     "source_hidden": true
    }
   },
   "outputs": [
    {
     "data": {
      "text/markdown": [
       "## Project-Wide Night(s) Report \n",
       "- Run on logs and databases from **https://usdf-rsp-dev.slac.stanford.edu/**\n",
       "- Report **1 observing night(s)** with the last reported night starting on **2024-11-05 12:00:00**.\n",
       "- min_dayobs='2024-11-05', max_dayobs='2024-11-06'\n",
       "- Using ***Prototype* Logging and Reporting** Version: **0.1.dev145+gf2a5765.d20241014**\n",
       "- have_consdb = True\n",
       "- Imported lsst.ts.logging_and_reporting from local packages.\n",
       "- allsrc.nig_src.timeout=(5.05, 20.0)\n",
       "- allsrc.nar_src.timeout=(5.05, 20.0)\n"
      ],
      "text/plain": [
       "<IPython.core.display.Markdown object>"
      ]
     },
     "metadata": {},
     "output_type": "display_data"
    }
   ],
   "source": [
    "# Display overview of Report context\n",
    "try:\n",
    "    import lsst.ts.logging_and_reporting.version\n",
    "\n",
    "    lrversion = lsst.ts.logging_and_reporting.version.__version__\n",
    "except:\n",
    "    lrversion = \"LIVE\"\n",
    "\n",
    "try:\n",
    "    from lsst.summit.utils import ConsDbClient\n",
    "\n",
    "    have_consdb = True\n",
    "except:\n",
    "    have_consdb = False\n",
    "md(\n",
    "    f\"\"\"## Project-Wide Night(s) Report \n",
    "- Run on logs and databases from **{server}/**\n",
    "- Report **{days} observing night(s)** with the last reported night starting on **{date}**.\n",
    "- min_dayobs={allsrc.min_dayobs!r}, max_dayobs={allsrc.max_dayobs!r}\n",
    "- Using ***Prototype* Logging and Reporting** Version: **{lrversion}**\n",
    "- {have_consdb = }\n",
    "- {dev_msg}\n",
    "- {allsrc.nig_src.timeout=}\n",
    "- {allsrc.nar_src.timeout=}\n",
    "\"\"\")"
   ]
  },
  {
   "cell_type": "markdown",
   "id": "47ef40d3-f6d4-4b6a-80bf-55a613d3f884",
   "metadata": {},
   "source": [
    "## Data Status\n",
    "This may be useful for diagnosing reports that give unexpected results."
   ]
  },
  {
   "cell_type": "code",
   "execution_count": 17,
   "id": "b076e98a-44a2-437c-9342-a180fe2cd829",
   "metadata": {
    "jupyter": {
     "source_hidden": true
    }
   },
   "outputs": [
    {
     "data": {
      "text/html": [
       "<table border=\"1\" class=\"dataframe\">\n",
       "  <thead>\n",
       "    <tr style=\"text-align: right;\">\n",
       "      <th>Endpoint</th>\n",
       "      <th>Records</th>\n",
       "      <th>URL</th>\n",
       "    </tr>\n",
       "  </thead>\n",
       "  <tbody>\n",
       "    <tr>\n",
       "      <td>nightreport/reports</td>\n",
       "      <td>1</td>\n",
       "      <td><a href=\"https://usdf-rsp-dev.slac.stanford.edu/nightreport/reports?is_human=either&is_valid=true&order_by=-day_obs&offset=0&limit=100&min_day_obs=20241105&max_day_obs=20241106\" target=\"_blank\">https://usdf-rsp-dev.slac.stanford.edu/nightreport/reports?is_human=either&is_valid=true&order_by=-day_obs&offset=0&limit=100&min_day_obs=20241105&max_day_obs=20241106</a></td>\n",
       "    </tr>\n",
       "    <tr>\n",
       "      <td>exposurelog/instruments</td>\n",
       "      <td>3</td>\n",
       "      <td><a href=\"https://usdf-rsp-dev.slac.stanford.edu/exposurelog/instruments\" target=\"_blank\">https://usdf-rsp-dev.slac.stanford.edu/exposurelog/instruments</a></td>\n",
       "    </tr>\n",
       "    <tr>\n",
       "      <td>exposurelog/exposures.LSSTComCamSim</td>\n",
       "      <td>0</td>\n",
       "      <td><a href=\"https://usdf-rsp-dev.slac.stanford.edu/exposurelog/exposures?registry=1&instrument=LSSTComCamSim&order_by=-timespan_end&offset=0&limit=2500&min_day_obs=20241105&max_day_obs=20241106\" target=\"_blank\">https://usdf-rsp-dev.slac.stanford.edu/exposurelog/exposures?registry=1&instrument=LSSTComCamSim&order_by=-timespan_end&offset=0&limit=2500&min_day_obs=20241105&max_day_obs=20241106</a></td>\n",
       "    </tr>\n",
       "    <tr>\n",
       "      <td>exposurelog/exposures.LATISS</td>\n",
       "      <td>0</td>\n",
       "      <td><a href=\"https://usdf-rsp-dev.slac.stanford.edu/exposurelog/exposures?registry=1&instrument=LATISS&order_by=-timespan_end&offset=0&limit=2500&min_day_obs=20241105&max_day_obs=20241106\" target=\"_blank\">https://usdf-rsp-dev.slac.stanford.edu/exposurelog/exposures?registry=1&instrument=LATISS&order_by=-timespan_end&offset=0&limit=2500&min_day_obs=20241105&max_day_obs=20241106</a></td>\n",
       "    </tr>\n",
       "    <tr>\n",
       "      <td>exposurelog/exposures.LSSTComCam</td>\n",
       "      <td>306</td>\n",
       "      <td><a href=\"https://usdf-rsp-dev.slac.stanford.edu/exposurelog/exposures?registry=1&instrument=LSSTComCam&order_by=-timespan_end&offset=0&limit=2500&min_day_obs=20241105&max_day_obs=20241106\" target=\"_blank\">https://usdf-rsp-dev.slac.stanford.edu/exposurelog/exposures?registry=1&instrument=LSSTComCam&order_by=-timespan_end&offset=0&limit=2500&min_day_obs=20241105&max_day_obs=20241106</a></td>\n",
       "    </tr>\n",
       "    <tr>\n",
       "      <td>exposurelog/exposures.LSSTCam</td>\n",
       "      <td>770</td>\n",
       "      <td><a href=\"https://usdf-rsp-dev.slac.stanford.edu/exposurelog/exposures?registry=1&instrument=LSSTCam&order_by=-timespan_end&offset=0&limit=2500&min_day_obs=20241105&max_day_obs=20241106\" target=\"_blank\">https://usdf-rsp-dev.slac.stanford.edu/exposurelog/exposures?registry=1&instrument=LSSTCam&order_by=-timespan_end&offset=0&limit=2500&min_day_obs=20241105&max_day_obs=20241106</a></td>\n",
       "    </tr>\n",
       "    <tr>\n",
       "      <td>exposurelog/messages</td>\n",
       "      <td>8</td>\n",
       "      <td><a href=\"https://usdf-rsp-dev.slac.stanford.edu/exposurelog/messages?is_human=either&is_valid=true&order_by=-day_obs&offset=0&limit=2500&min_day_obs=20241105&max_day_obs=20241106\" target=\"_blank\">https://usdf-rsp-dev.slac.stanford.edu/exposurelog/messages?is_human=either&is_valid=true&order_by=-day_obs&offset=0&limit=2500&min_day_obs=20241105&max_day_obs=20241106</a></td>\n",
       "    </tr>\n",
       "    <tr>\n",
       "      <td>narrativelog/messages</td>\n",
       "      <td>131</td>\n",
       "      <td><a href=\"https://usdf-rsp-dev.slac.stanford.edu/narrativelog/messages?is_human=either&is_valid=true&order_by=-date_added&offset=0&limit=1000&min_date_added=2024-11-05T00%3A00%3A00&max_date_added=2024-11-06T00%3A00%3A00\" target=\"_blank\">https://usdf-rsp-dev.slac.stanford.edu/narrativelog/messages?is_human=either&is_valid=true&order_by=-date_added&offset=0&limit=1000&min_date_added=2024-11-05T00%3A00%3A00&max_date_added=2024-11-06T00%3A00%3A00</a></td>\n",
       "    </tr>\n",
       "    <tr>\n",
       "      <td>efd/targets</td>\n",
       "      <td>0</td>\n",
       "      <td>NA</td>\n",
       "    </tr>\n",
       "  </tbody>\n",
       "</table>"
      ],
      "text/plain": [
       "<IPython.core.display.HTML object>"
      ]
     },
     "metadata": {},
     "output_type": "display_data"
    }
   ],
   "source": [
    "df = pd.DataFrame(allsrc.get_data_status())\n",
    "table = df.to_html(\n",
    "    index=False, \n",
    "    render_links=True,\n",
    "    escape=False)\n",
    "display(HTML(table))"
   ]
  },
  {
   "cell_type": "markdown",
   "id": "37",
   "metadata": {},
   "source": [
    "## This report uses the following data sources\n",
    "- NightReport\n",
    "- Exposurelog\n",
    "- Narrativelog\n",
    "- EFD\n",
    "- ConsDB\n",
    "- (DDV)\n",
    "- (Almanac from Astroplan)"
   ]
  },
  {
   "cell_type": "markdown",
   "id": "40",
   "metadata": {},
   "source": [
    "## Where was this run?\n",
    "\n",
    "The environments that have everything needed to run this page are:\n",
    "\n",
    "    https://summit-lsp.lsst.codes\n",
    "    https://usdf-rsp-dev.slac.stanford.edu\n",
    "\n",
    "However, Times Square does not run on the Summit. It does run on USDF-dev.\n"
   ]
  },
  {
   "cell_type": "markdown",
   "id": "41",
   "metadata": {},
   "source": [
    "## Section overviews moved here"
   ]
  },
  {
   "cell_type": "code",
   "execution_count": 18,
   "id": "42",
   "metadata": {
    "jupyter": {
     "source_hidden": true
    }
   },
   "outputs": [
    {
     "data": {
      "text/markdown": [
       "### Overview for Service: `nightreport` [1]"
      ],
      "text/plain": [
       "<IPython.core.display.Markdown object>"
      ]
     },
     "metadata": {},
     "output_type": "display_data"
    },
    {
     "name": "stdout",
     "output_type": "stream",
     "text": [
      "None\n"
     ]
    },
    {
     "data": {
      "text/markdown": [
       "- Endpoint: https://usdf-rsp-dev.slac.stanford.edu/nightreport/reports?is_human=either&is_valid=true&order_by=-day_obs&offset=0&limit=100&min_day_obs=20241105&max_day_obs=20241106"
      ],
      "text/plain": [
       "<IPython.core.display.Markdown object>"
      ]
     },
     "metadata": {},
     "output_type": "display_data"
    },
    {
     "name": "stdout",
     "output_type": "stream",
     "text": [
      "None\n",
      "- Got 1 records.  \n"
     ]
    },
    {
     "data": {
      "text/markdown": [
       "### Overview for Service: `exposurelog` [8]"
      ],
      "text/plain": [
       "<IPython.core.display.Markdown object>"
      ]
     },
     "metadata": {},
     "output_type": "display_data"
    },
    {
     "name": "stdout",
     "output_type": "stream",
     "text": [
      "None\n"
     ]
    },
    {
     "data": {
      "text/markdown": [
       "- Endpoint: https://usdf-rsp-dev.slac.stanford.edu/exposurelog/messages?is_human=either&is_valid=true&order_by=-day_obs&offset=0&limit=2500&min_day_obs=20241105&max_day_obs=20241106"
      ],
      "text/plain": [
       "<IPython.core.display.Markdown object>"
      ]
     },
     "metadata": {},
     "output_type": "display_data"
    },
    {
     "name": "stdout",
     "output_type": "stream",
     "text": [
      "None\n",
      "- Got 8 records.  \n"
     ]
    },
    {
     "data": {
      "text/markdown": [
       "### Overview for Service: `narrativelog` [131]"
      ],
      "text/plain": [
       "<IPython.core.display.Markdown object>"
      ]
     },
     "metadata": {},
     "output_type": "display_data"
    },
    {
     "name": "stdout",
     "output_type": "stream",
     "text": [
      "None\n"
     ]
    },
    {
     "data": {
      "text/markdown": [
       "- Endpoint: https://usdf-rsp-dev.slac.stanford.edu/narrativelog/messages?is_human=either&is_valid=true&order_by=-date_added&offset=0&limit=1000&min_date_added=2024-11-05T00%3A00%3A00&max_date_added=2024-11-06T00%3A00%3A00"
      ],
      "text/plain": [
       "<IPython.core.display.Markdown object>"
      ]
     },
     "metadata": {},
     "output_type": "display_data"
    },
    {
     "name": "stdout",
     "output_type": "stream",
     "text": [
      "None\n",
      "- Got 131 records.  \n"
     ]
    }
   ],
   "source": [
    "# Night Report Overview\n",
    "allrep.nig_rep.overview()\n",
    "# Exposure Report Overview\n",
    "allrep.exp_rep.overview()\n",
    "# Narrative Report Overview\n",
    "allrep.nar_rep.overview()"
   ]
  },
  {
   "cell_type": "code",
   "execution_count": 19,
   "id": "43",
   "metadata": {
    "jupyter": {
     "source_hidden": true
    }
   },
   "outputs": [],
   "source": [
    "# Conditionally display our current ability to connect to all needed endpoints.\n",
    "if False and not os.environ.get(\"EXTERNAL_INSTANCE_URL\"):\n",
    "    md(\"## Dashboard\")\n",
    "    md(\"(This is not done when running under Times Square.)\")\n",
    "    %run ./dashboard.ipynb"
   ]
  },
  {
   "cell_type": "markdown",
   "id": "09cba642-73db-4c3c-94f6-11aa311a3985",
   "metadata": {},
   "source": [
    "### According to Storybaord, this section should be removed ...\n",
    "... and replaced with a simple table tally of Good, Questionable, and  Junk exposures per instrument.\n",
    "| Symbol | Meaning |\n",
    "|:---|:---|\n",
    "| <font style=\"background-color:green; color:white; font-size:20px\">&nbsp;G&nbsp;</font>| Good |\n",
    "| <font style=\"background-color:yellow; color:black; font-size:20px\">&nbsp;?&nbsp;</font> | Questionable |\n",
    "| <font style=\"background-color:red; color:black; font-size:20px\">&nbsp;R&nbsp;</font> | Junk |\n"
   ]
  },
  {
   "cell_type": "code",
   "execution_count": 20,
   "id": "24",
   "metadata": {
    "jupyter": {
     "source_hidden": true
    }
   },
   "outputs": [
    {
     "data": {
      "text/markdown": [
       "### Instrument: LSSTComCam (8)"
      ],
      "text/plain": [
       "<IPython.core.display.Markdown object>"
      ]
     },
     "metadata": {},
     "output_type": "display_data"
    },
    {
     "data": {
      "text/markdown": [
       "* CC_O_20241105_000019 : 2024-11-06T00:05:06.599261\n",
       "    - <font style=\"background-color:green; color:white; font-size:20px\">&nbsp;G&nbsp;</font>`We suddenly got out of focus ! the hexapods moved ! FocusZ changed from 0.22 to 0.44`"
      ],
      "text/plain": [
       "<IPython.core.display.Markdown object>"
      ]
     },
     "metadata": {},
     "output_type": "display_data"
    },
    {
     "data": {
      "text/markdown": [
       "* CC_O_20241105_000026 : 2024-11-06T00:12:34.276724\n",
       "    - <font style=\"background-color:green; color:white; font-size:20px\">&nbsp;G&nbsp;</font>`Hexapods moved again and the focus deteriorated !`"
      ],
      "text/plain": [
       "<IPython.core.display.Markdown object>"
      ]
     },
     "metadata": {},
     "output_type": "display_data"
    },
    {
     "data": {
      "text/markdown": [
       "* CC_O_20241105_000033 : 2024-11-06T00:38:34.849868\n",
       "    - <font style=\"background-color:green; color:white; font-size:20px\">&nbsp;G&nbsp;</font>`BLOCK-88`"
      ],
      "text/plain": [
       "<IPython.core.display.Markdown object>"
      ]
     },
     "metadata": {},
     "output_type": "display_data"
    },
    {
     "data": {
      "text/markdown": [
       "* CC_O_20241105_000034 : 2024-11-06T00:38:34.811449\n",
       "    - <font style=\"background-color:green; color:white; font-size:20px\">&nbsp;G&nbsp;</font>`BLOCK-88`"
      ],
      "text/plain": [
       "<IPython.core.display.Markdown object>"
      ]
     },
     "metadata": {},
     "output_type": "display_data"
    },
    {
     "data": {
      "text/markdown": [
       "* CC_O_20241105_000035 : 2024-11-06T00:38:34.771987\n",
       "    - <font style=\"background-color:green; color:white; font-size:20px\">&nbsp;G&nbsp;</font>`BLOCK-88`"
      ],
      "text/plain": [
       "<IPython.core.display.Markdown object>"
      ]
     },
     "metadata": {},
     "output_type": "display_data"
    },
    {
     "data": {
      "text/markdown": [
       "* CC_O_20241105_000036 : 2024-11-06T00:38:34.731047\n",
       "    - <font style=\"background-color:green; color:white; font-size:20px\">&nbsp;G&nbsp;</font>`BLOCK-88`"
      ],
      "text/plain": [
       "<IPython.core.display.Markdown object>"
      ]
     },
     "metadata": {},
     "output_type": "display_data"
    },
    {
     "data": {
      "text/markdown": [
       "* CC_O_20241105_000219 : 2024-11-06T07:28:40.085767\n",
       "    - <font style=\"background-color:green; color:white; font-size:20px\">&nbsp;G&nbsp;</font>`Waffle`"
      ],
      "text/plain": [
       "<IPython.core.display.Markdown object>"
      ]
     },
     "metadata": {},
     "output_type": "display_data"
    },
    {
     "data": {
      "text/markdown": [
       "* CC_O_20241105_000220 : 2024-11-06T07:31:07.333966\n",
       "    - <font style=\"background-color:green; color:white; font-size:20px\">&nbsp;G&nbsp;</font>`BLOCK-T251 pinhole filter`"
      ],
      "text/plain": [
       "<IPython.core.display.Markdown object>"
      ]
     },
     "metadata": {},
     "output_type": "display_data"
    }
   ],
   "source": [
    "# Time Log\n",
    "allrep.exp_rep.time_log_as_markdown()"
   ]
  },
  {
   "cell_type": "markdown",
   "id": "44",
   "metadata": {},
   "source": [
    "## Finale"
   ]
  },
  {
   "cell_type": "code",
   "execution_count": 21,
   "id": "45",
   "metadata": {
    "jupyter": {
     "source_hidden": true
    }
   },
   "outputs": [
    {
     "name": "stdout",
     "output_type": "stream",
     "text": [
      "Finished 2024-11-13 21:05:39.434969\n"
     ]
    }
   ],
   "source": [
    "print(f\"Finished {str(dt.datetime.now())}\")"
   ]
  }
 ],
 "metadata": {
  "kernelspec": {
   "display_name": "Python 3 (ipykernel)",
   "language": "python",
   "name": "python3"
  },
  "language_info": {
   "codemirror_mode": {
    "name": "ipython",
    "version": 3
   },
   "file_extension": ".py",
   "mimetype": "text/x-python",
   "name": "python",
   "nbconvert_exporter": "python",
   "pygments_lexer": "ipython3",
   "version": "3.11.9"
  }
 },
 "nbformat": 4,
 "nbformat_minor": 5
}
