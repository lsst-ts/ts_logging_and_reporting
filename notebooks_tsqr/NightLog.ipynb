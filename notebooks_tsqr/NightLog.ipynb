{
 "cells": [
  {
   "cell_type": "markdown",
   "id": "0",
   "metadata": {},
   "source": [
    "# Initialize\n",
    "This section is a developer aid; TODO remove later!\n",
    "*Align with [storyboard Version 37](https://rubinobs.atlassian.net/wiki/pages/viewpage.action?pageId=132612364&pageVersion=37)*\n",
    "\n",
    "If you are using this under Time Square and *get any errors* that you think come from this notebook, please tell Steve Pothier (steve.pothier@noirlab.edu).  Include the URL you used to get the error. "
   ]
  },
  {
   "cell_type": "code",
   "execution_count": 1,
   "id": "1",
   "metadata": {},
   "outputs": [],
   "source": [
    "# Parameters.\n",
    "# Times Square replaces this cell with the user's parameters.\n",
    "# So, don't put anything else here!\n",
    "\n",
    "# day_obs values: TODAY, YESTERDAY, YYYY-MM-DD\n",
    "# Report on observing nights that start upto but not included this day.\n",
    "#!day_obs = '2024-09-25' # Value to use for local testing (Summit)\n",
    "day_obs = \"YESTERDAY\"  # TODO Change to 'YESTERDAY' to test with default before push\n",
    "\n",
    "# Total number of days of data to display (ending on day_obs)\n",
    "number_of_days = \"1\"  # TODO Change to '1' to test with default before push"
   ]
  },
  {
   "cell_type": "code",
   "execution_count": 2,
   "id": "2",
   "metadata": {},
   "outputs": [],
   "source": [
    "import datetime as dt\n",
    "import os\n",
    "from collections import defaultdict\n",
    "from pprint import pformat, pp\n",
    "from urllib.parse import urlencode, urlparse\n",
    "import pandas as pd\n",
    "from IPython.display import HTML\n",
    "\n",
    "# When running under Times Square, install pkg from github.\n",
    "# Otherwise use what is installed locally (intended to be dev editiable pkg)\n",
    "if os.environ.get(\"EXTERNAL_INSTANCE_URL\"):\n",
    "    dev_msg = (\n",
    "        'Installing \"lsst.ts.logging_and_reporting\" from github using \"prototype\" branch. \\n'\n",
    "        'TODO: Make the need for this go away by getting Logging_and_Reporting installed in RSP.'\n",
    "    )\n",
    "    !pip install --upgrade git+https://github.com/lsst-ts/ts_logging_and_reporting.git@prototype > /dev/null 2>&1\n",
    "else:\n",
    "    dev_msg = 'Imported lsst.ts.logging_and_reporting from local packages.'\n",
    "from lsst.ts.logging_and_reporting.all_sources import AllSources\n",
    "from lsst.ts.logging_and_reporting.all_reports import AllReports\n",
    "import lsst.ts.logging_and_reporting.utils as ut\n",
    "from lsst.ts.logging_and_reporting.reports import md, mdlist, mdpathlink\n",
    "from lsst.ts.logging_and_reporting.reports import html_draft, html_beta"
   ]
  },
  {
   "cell_type": "code",
   "execution_count": 3,
   "id": "4",
   "metadata": {},
   "outputs": [],
   "source": [
    "# Set default env to \"usdf\" and try before PUSH to repo.\n",
    "# The default provided here is for local testing. Under Times Square it is ignored.\n",
    "server = os.environ.get(\n",
    "    \"EXTERNAL_INSTANCE_URL\", \n",
    "    ut.Server.usdf) # TODO try with \"usdf\" before push (else \"summit\")"
   ]
  },
  {
   "cell_type": "code",
   "execution_count": 4,
   "id": "3",
   "metadata": {},
   "outputs": [],
   "source": [
    "# Normalize Parameters (both explicit Times Squares params, in implicit ones)\n",
    "limit = 5000  # YAGNI for Auto get more if this isn't enough to get all requested DAYS\n",
    "response_timeout = 3.05  # seconds, how long to wait for connection\n",
    "read_timeout = 20  # seconds\n",
    "timeout = (float(response_timeout), float(read_timeout))\n",
    "\n",
    "date = ut.get_datetime_from_dayobs_str(day_obs)\n",
    "# date:  is EXCLUSIVE (upto, but not including)\n",
    "days = int(number_of_days)\n",
    "\n",
    "# Thus: [min_day_obs,max_day_obs)\n",
    "# Format: string, YYYY-MM-DD\n",
    "min_date = date - dt.timedelta(days=days - 1)\n",
    "max_date = date + dt.timedelta(days=1)\n",
    "min_day_obs = min_date.strftime(\"%Y-%m-%d\")  # Inclusive\n",
    "max_day_obs = max_date.strftime(\"%Y-%m-%d\")  # prep for Exclusive\n",
    "\n",
    "# Experimental Features config\n",
    "exp_tally = \"true\"  # default: true\n",
    "exp_parsing = \"true\"  # default: true\n",
    "experimental = dict()\n",
    "experimental[\"exposure_type_tally\"] = exp_tally == \"true\"\n",
    "experimental[\"error_parsing\"] = exp_parsing == \"true\""
   ]
  },
  {
   "cell_type": "code",
   "execution_count": 5,
   "id": "5",
   "metadata": {},
   "outputs": [],
   "source": [
    "# Read records from (almost) all sources\n",
    "allsrc = AllSources(\n",
    "    server_url=server,\n",
    "    min_dayobs=min_day_obs,\n",
    "    max_dayobs=max_day_obs,\n",
    "    verbose=False,                # TODO change to False before push\n",
    "    limit=limit,\n",
    "    exclude_instruments = []      # TODO change to empty list before push\n",
    ")\n",
    "allrep = AllReports(allsrc=allsrc)"
   ]
  },
  {
   "cell_type": "code",
   "execution_count": 6,
   "id": "7",
   "metadata": {},
   "outputs": [
    {
     "data": {
      "text/markdown": [
       "# Showing data for 2024-11-04 to 2024-11-05 for LSSTComCamSim, LATISS, LSSTComCam, LSSTCam"
      ],
      "text/plain": [
       "<IPython.core.display.Markdown object>"
      ]
     },
     "metadata": {},
     "output_type": "display_data"
    }
   ],
   "source": [
    "instrum_str = \", \".join(list(allsrc.exp_src.instruments.keys()))\n",
    "md(f\"# Showing data for {min_date.date()} to {max_date.date()} for {instrum_str}\")"
   ]
  },
  {
   "cell_type": "markdown",
   "id": "8",
   "metadata": {},
   "source": [
    "# Table of Contents\n",
    "* [Night Report](#Night-Report)\n",
    "    - AuxTel\n",
    "    - Simonyi\n",
    "* [Almanac](#Almanac)\n",
    "* [Summary plots of whole night](#Summary-plots-of-whole-night)\n",
    "* [Time Accounting](#Time-Accounting)\n",
    "* [Jira Tickets](#Jira-Tickets)\n",
    "    - AuxTel\n",
    "    - Simonyi\n",
    "* [BLOCKS Observed](#BLOCKS-Observed)\n",
    "    - AuxTel\n",
    "    - Simonyi\n",
    "* [Data Log](#Data-Log)\n",
    "* [Narrative Log](#Narrative-Log)\n",
    "* [Developer Only Section](#Developer-Only-Section)"
   ]
  },
  {
   "cell_type": "markdown",
   "id": "86ff253e-f575-4b9b-96f9-698d3faf9494",
   "metadata": {},
   "source": [
    "## Night log (summary) <font style=\"background-color:green; color:white; font-size:20px\">BETA</font> "
   ]
  },
  {
   "cell_type": "code",
   "execution_count": 7,
   "id": "10",
   "metadata": {},
   "outputs": [
    {
     "data": {
      "text/markdown": [
       "### Telescope: Simonyi"
      ],
      "text/plain": [
       "<IPython.core.display.Markdown object>"
      ]
     },
     "metadata": {},
     "output_type": "display_data"
    },
    {
     "data": {
      "text/markdown": [
       "```\n",
       "We started with hexapod warmups while Felipe and Christian worked inside the M1M3 cell for leaks. We still have 8 actuator leaking but it is not critical to stop the M1M3 test. There was M2hexapod warmup script update from Te-Wei's request. \n",
       "\n",
       "We ran ComCam USDF Checkout to take multiple bias and dark images. Lights were on.\n",
       "\n",
       "Dome handover and TMA handover both happened at 3pm. \n",
       "During dome handover, we had to reset cRIO once after switching from local mode to remote mode, according to Wouter's comment. Dome was moving fine but we had trouble with telemetry not read. We suspected the DDS issue, but Tiago confirmed it wasn't, and was solved by Wouter's update and recycling the MTDome.\n",
       "\n",
       "We ran bump test with secondary FA 330 failed, and then HP breakaway test.\n",
       "\n",
       "HVAC setpoint was changed multiple times during the day, according to the temperature difference between the ambient and M2 air temperature (inside dome, outside M1M3 cell temp). MTM1M3TS had hearbeat lost twice, but 2nd time was due to changing the fan speed without entering engineering mode. We recovered (reset) and set to 300RPM (put 30 as constant).\n",
       "\n",
       "Outside temperature and M2 air temperature was within 2C difference, we decided to turn off HVAC and open the dome. There was miscommunication between trying to do other setups and TMA checkout first and opening the dome, and since we had TMA problem with positive limit switch blocking the elevation drive from turning on, due to wrong position readout (>90 deg), we decided to open the dome before TMA checkout is ready. \n",
       "\n",
       "TMA positive limit switch problem solved by ignoring the limit switch and turn on the elevation drive (reading out correct position) then move to el=80. After that we switched to CSC mode, but failed again with wrong elevation readout. We recovered, and were able to enable the MTMount, when correct elevation was readout. TMA checkout was done with several small issues such as typo in the configuration, mis-instruction on MTDome, MTDomeTrajectory, etc.\n",
       "\n",
       "We moved TMA with move_p2p to az=160, el=65 to have same position as last week to compare the alignment at the same position.  \n",
       "\n",
       "\n",
       "------- AOS Night Summary -------\n",
       "We opened the dome shutter around 9:00 pm and started T88 alignment with the laser tracker by 10:30-10:45 pm, despite a few dome faults. After alignment, we took a sky image to confirm positioning, and initial focus looked promising. A follow-up triplet image provided a closer focus check, though Tiago had to update MTCS scripts due to some failures.\n",
       "\n",
       "While the laser alignment helped, some spherical aberration remained. We refined focus by sweeping in +Cam_dz and +M2_dz, reaching around 1.7 arcsec. At this point we took a series of images to check the variance of the PSF measurement, it seems it oscillates +/- 0.6 arcsec. Then, by adjusting +Cam_dz and -M2_dz, we minimized the spherical aberration and recorded this optimal focus position for tomorrow, although the PSF was worse. Our new script set_dof.py now lets us revert to this focus point, resolving previous week's confusion with compensated versus uncompensated positions—a very handy improvement tonight. \n",
       "\n",
       "We also tried to minimize coma with an M2 Ry sweep, but CCS issues made it inconclusive. Moving to closed-loop testing with hexapods, we found wavefront estimation pipeline speed is becoming a bottleneck; RA should hopefully help improve this soon. We ran four closed-loop iterations with hexapods, adding astigmatism on the last step, but it appears the loop is doubling in the wrong direction, indicating a possible sign error to investigate tomorrow.\n",
       "\n",
       "The final closed-loop correction produced unrealistic results due to an outlier sensor Zernike estimate at the central sensor, likely from the laser. We'll need to investigate this further and consider a safeguard in the wavefront estimation pipeline. Overall, it was a successful and educational night. By the way, someone promised to sing when we reach 1.4 arcsec… guess who!\n",
       "\n",
       "===== After Closing Dome Summary == \n",
       "\n",
       "We started closing dome around 03:15am with closing M1M3 mirror covers and dome shutter. We had an issue while we closed the dome shutter - the left aperture was not closed totally and kept closing even after the right aperture was closed. We stopped closing and opened the aperture a little bit and closed it again. It takes more than a few minutes and then it seemed closed (no light on the buttons blinked) but night crew heard unusual big noise from cabinet. Need further checks if there is no issue on dome slit and it is closed without issue. HVAC turning back to daytime move and set point kept in 9C. Then we run BLOCK-T220, ComCam Daytime Calibrations until 9am UTC/06 am UTC. We parked the TMA on horizon with raised M1M3 per Petr K.'s request. \n",
       "\n",
       "Two OBS ticket filed - OBS-646 (MTDome AMCS fault) and OBS-647 (issue with dome shutter closing). \n",
       "\n",
       "\n",
       "* Please note that there was Keith Bechtol as a Late shit observer.\n",
       "```"
      ],
      "text/plain": [
       "<IPython.core.display.Markdown object>"
      ]
     },
     "metadata": {},
     "output_type": "display_data"
    },
    {
     "data": {
      "text/markdown": [
       "Telescope Status: TMA parked at El: 0.0deg (Horizon), Az: -32 deg as requested. Locking pins were engaged, OSS on, PS OFF, and the mirror cover retracted (opened). Dome parked at 328 deg. All CSCs are set as requested:\n",
       "MTM1M3 DISABLED (lowered), MTM2 enabled in closed loop, MTAOS STANDBY, MTDome DISABLED, MTDomeTrajectory Standby, MTMount Disabled, MTHexapod1,2, Rotator in Standby with PXIs and Cabinets turned off. MTPtg enabled. "
      ],
      "text/plain": [
       "<IPython.core.display.Markdown object>"
      ]
     },
     "metadata": {},
     "output_type": "display_data"
    },
    {
     "data": {
      "text/markdown": [
       "*Authors: HyeYun Park, Kshitija Kelkar, Yijung Kang, Sandrine Thomas, Chris Walter*"
      ],
      "text/plain": [
       "<IPython.core.display.Markdown object>"
      ]
     },
     "metadata": {},
     "output_type": "display_data"
    },
    {
     "data": {
      "text/markdown": [
       "```\n",
       "We started with hexapod warmups while Felipe and Christian worked inside the M1M3 cell for leaks. We still have 8 actuator leaking but it is not critical to stop the M1M3 test. There was an M2hexapod warmup script update from Te-Wei's request. \n",
       "\n",
       "We ran ComCam USDF Checkout to take multiple bias and dark images. The lights were on.\n",
       "\n",
       "Dome handover and TMA handover both happened at 3pm. During the dome handover, we had to reset cRIO once after switching from local mode to remote mode, according to Wouter's comment. Dome was moving fine but we had trouble with telemetry not read. We suspected the DDS issue, but Tiago confirmed it wasn't, and was solved by recycling the MTDome.\n",
       "\n",
       "We ran a bump test with secondary FA 330 failed, and then the HP breakaway test.\n",
       "\n",
       "The HVAC setpoint was changed multiple times during the day, according to the temperature difference between the ambient and M2 air temperature (inside dome, outside M1M3 cell temp). MTM1M3TS had heartbeat lost twice, but 2nd time was due to changing the fan speed without entering engineering mode. We recovered (reset) and set it to 300RPM (put 30 as constant).\n",
       "\n",
       "Outside temperature and M2 air temperature were within 2C difference, we decided to turn off HVAC and open the dome. There was a miscommunication between trying to do other setups and TMA checkout first and opening the dome, and since we had TMA problem with the positive limit switch blocking the elevation drive from turning on, due to wrong position readout (>90 deg), we decided to open the dome before TMA checkout is ready. \n",
       "\n",
       "The TMA positive limit switch problem was solved by ignoring the limit switch and turn on the elevation drive (reading out the correct position) then moving to el=80. After that, we switched to CSC mode but failed again with the wrong elevation readout. We recovered and were able to enable the MTMount when the correct elevation was readout. TMA checkout was done with several small issues such as a typo in the configuration, mis-instruction on MTDome, MTDomeTrajectory, etc.\n",
       "\n",
       "We moved TMA with move_p2p to az=160, el=65 to have the same position as last week to compare the alignment at the same position.\n",
       "```"
      ],
      "text/plain": [
       "<IPython.core.display.Markdown object>"
      ]
     },
     "metadata": {},
     "output_type": "display_data"
    },
    {
     "data": {
      "text/markdown": [
       "Telescope Status: "
      ],
      "text/plain": [
       "<IPython.core.display.Markdown object>"
      ]
     },
     "metadata": {},
     "output_type": "display_data"
    },
    {
     "data": {
      "text/markdown": [
       "*Authors: HyeYun Park, Kshitija Kelkar, Yijung Kang, Sandrine Thomas, Chris Walter*"
      ],
      "text/plain": [
       "<IPython.core.display.Markdown object>"
      ]
     },
     "metadata": {},
     "output_type": "display_data"
    }
   ],
   "source": [
    "# Night Report\n",
    "# Display time log\n",
    "allrep.nig_rep.time_log_as_markdown()"
   ]
  },
  {
   "cell_type": "markdown",
   "id": "51fad717-7160-4da9-bdeb-696c92f33c19",
   "metadata": {},
   "source": [
    "## Almanac <font style=\"background-color:green; color:white; font-size:20px\">BETA</font> "
   ]
  },
  {
   "cell_type": "code",
   "execution_count": 8,
   "id": "12",
   "metadata": {
    "jupyter": {
     "source_hidden": true
    }
   },
   "outputs": [
    {
     "data": {
      "text/markdown": [
       "**Almanac for the observing night starting 2024-11-04**"
      ],
      "text/plain": [
       "<IPython.core.display.Markdown object>"
      ]
     },
     "metadata": {},
     "output_type": "display_data"
    },
    {
     "data": {
      "text/html": [
       "<style type=\"text/css\">\n",
       "</style>\n",
       "<table id=\"T_94400\">\n",
       "  <thead>\n",
       "  </thead>\n",
       "  <tbody>\n",
       "    <tr>\n",
       "      <th id=\"T_94400_level0_row0\" class=\"row_heading level0 row0\" ></th>\n",
       "      <td id=\"T_94400_row0_col0\" class=\"data row0 col0\" >(times in UTC)</td>\n",
       "      <td id=\"T_94400_row0_col1\" class=\"data row0 col1\" ></td>\n",
       "    </tr>\n",
       "    <tr>\n",
       "      <th id=\"T_94400_level0_row1\" class=\"row_heading level0 row1\" >Moon Rise</th>\n",
       "      <td id=\"T_94400_row1_col0\" class=\"data row1 col0\" >2024-11-04 11:35:23.572</td>\n",
       "      <td id=\"T_94400_row1_col1\" class=\"data row1 col1\" ></td>\n",
       "    </tr>\n",
       "    <tr>\n",
       "      <th id=\"T_94400_level0_row2\" class=\"row_heading level0 row2\" >Moon Set</th>\n",
       "      <td id=\"T_94400_row2_col0\" class=\"data row2 col0\" >2024-11-04 01:22:18.808</td>\n",
       "      <td id=\"T_94400_row2_col1\" class=\"data row2 col1\" ></td>\n",
       "    </tr>\n",
       "    <tr>\n",
       "      <th id=\"T_94400_level0_row3\" class=\"row_heading level0 row3\" >Moon Illumination</th>\n",
       "      <td id=\"T_94400_row3_col0\" class=\"data row3 col0\" >7%</td>\n",
       "      <td id=\"T_94400_row3_col1\" class=\"data row3 col1\" >(% illuminated)</td>\n",
       "    </tr>\n",
       "    <tr>\n",
       "      <th id=\"T_94400_level0_row4\" class=\"row_heading level0 row4\" >Astronomical Twilight (morning)</th>\n",
       "      <td id=\"T_94400_row4_col0\" class=\"data row4 col0\" >2024-11-04 08:17:33.018</td>\n",
       "      <td id=\"T_94400_row4_col1\" class=\"data row4 col1\" >(-18 degrees)</td>\n",
       "    </tr>\n",
       "    <tr>\n",
       "      <th id=\"T_94400_level0_row5\" class=\"row_heading level0 row5\" >Astronomical Twilight (evening)</th>\n",
       "      <td id=\"T_94400_row5_col0\" class=\"data row5 col0\" >2024-11-04 00:35:13.375</td>\n",
       "      <td id=\"T_94400_row5_col1\" class=\"data row5 col1\" >(-18 degrees)</td>\n",
       "    </tr>\n",
       "    <tr>\n",
       "      <th id=\"T_94400_level0_row6\" class=\"row_heading level0 row6\" >Solar Midnight</th>\n",
       "      <td id=\"T_94400_row6_col0\" class=\"data row6 col0\" >2024-11-04 04:26:23.324</td>\n",
       "      <td id=\"T_94400_row6_col1\" class=\"data row6 col1\" ></td>\n",
       "    </tr>\n",
       "    <tr>\n",
       "      <th id=\"T_94400_level0_row7\" class=\"row_heading level0 row7\" >Nautical Twilight (morning)</th>\n",
       "      <td id=\"T_94400_row7_col0\" class=\"data row7 col0\" >2024-11-04 08:49:10.466</td>\n",
       "      <td id=\"T_94400_row7_col1\" class=\"data row7 col1\" >(-12 degrees)</td>\n",
       "    </tr>\n",
       "    <tr>\n",
       "      <th id=\"T_94400_level0_row8\" class=\"row_heading level0 row8\" >Nautical Twilight (evening)</th>\n",
       "      <td id=\"T_94400_row8_col0\" class=\"data row8 col0\" >2024-11-04 00:03:35.802</td>\n",
       "      <td id=\"T_94400_row8_col1\" class=\"data row8 col1\" >(-12 degrees)</td>\n",
       "    </tr>\n",
       "    <tr>\n",
       "      <th id=\"T_94400_level0_row9\" class=\"row_heading level0 row9\" >Civil Twilight (morning)</th>\n",
       "      <td id=\"T_94400_row9_col0\" class=\"data row9 col0\" >2024-11-04 09:19:34.997</td>\n",
       "      <td id=\"T_94400_row9_col1\" class=\"data row9 col1\" >(-6 degrees)</td>\n",
       "    </tr>\n",
       "    <tr>\n",
       "      <th id=\"T_94400_level0_row10\" class=\"row_heading level0 row10\" >Civil Twilight (evening)</th>\n",
       "      <td id=\"T_94400_row10_col0\" class=\"data row10 col0\" >2024-11-03 23:33:11.094</td>\n",
       "      <td id=\"T_94400_row10_col1\" class=\"data row10 col1\" >(-6 degrees)</td>\n",
       "    </tr>\n",
       "    <tr>\n",
       "      <th id=\"T_94400_level0_row11\" class=\"row_heading level0 row11\" >Sun Rise</th>\n",
       "      <td id=\"T_94400_row11_col0\" class=\"data row11 col0\" >2024-11-04 09:49:08.431</td>\n",
       "      <td id=\"T_94400_row11_col1\" class=\"data row11 col1\" ></td>\n",
       "    </tr>\n",
       "    <tr>\n",
       "      <th id=\"T_94400_level0_row12\" class=\"row_heading level0 row12\" >Sun Set</th>\n",
       "      <td id=\"T_94400_row12_col0\" class=\"data row12 col0\" >2024-11-03 23:03:37.416</td>\n",
       "      <td id=\"T_94400_row12_col1\" class=\"data row12 col1\" ></td>\n",
       "    </tr>\n",
       "  </tbody>\n",
       "</table>\n"
      ],
      "text/plain": [
       "<pandas.io.formats.style.Styler at 0x7f491ff50610>"
      ]
     },
     "metadata": {},
     "output_type": "display_data"
    }
   ],
   "source": [
    "# Display various almanac values (for moon, sun)\n",
    "#!rep.AlmanacReport().day_obs_report(min_day_obs)\n",
    "allrep.alm_rep.day_obs_report()"
   ]
  },
  {
   "cell_type": "markdown",
   "id": "13",
   "metadata": {},
   "source": [
    "## Summary plots of whole night <font style=\"background-color:yellow; color:black; font-size:20px\">DRAFT</font>"
   ]
  },
  {
   "cell_type": "markdown",
   "id": "14",
   "metadata": {},
   "source": [
    "(content not yet defined in storyboard)"
   ]
  },
  {
   "cell_type": "code",
   "execution_count": 9,
   "id": "15",
   "metadata": {},
   "outputs": [],
   "source": [
    "# Plot Observation (Exposure) gaps\n",
    "# rollup,detail = allsrc.get_observation_gaps()\n",
    "# allrep.plot_observation_gap_detail(detail)"
   ]
  },
  {
   "cell_type": "markdown",
   "id": "9d51f937-37e7-45da-87cb-2319fd76a1cc",
   "metadata": {},
   "source": [
    "## Time Accounting <font style=\"background-color:yellow; color:black; font-size:20px\">DRAFT</font>\n",
    "SlewTime (and probably others) from EFD are only EXPECTED (topic=\"lsst.sal.Scheduler.logevent_target\"), not ACTUAL.\n",
    "To get ACTUAL time, we need to use something like TMAEvent to combine multiple real events into a synthetic event.  See DM-46102."
   ]
  },
  {
   "cell_type": "code",
   "execution_count": 10,
   "id": "16",
   "metadata": {},
   "outputs": [
    {
     "data": {
      "text/html": [
       "<div>\n",
       "<style scoped>\n",
       "    .dataframe tbody tr th:only-of-type {\n",
       "        vertical-align: middle;\n",
       "    }\n",
       "\n",
       "    .dataframe tbody tr th {\n",
       "        vertical-align: top;\n",
       "    }\n",
       "\n",
       "    .dataframe thead th {\n",
       "        text-align: right;\n",
       "    }\n",
       "</style>\n",
       "<table border=\"1\" class=\"dataframe\">\n",
       "  <thead>\n",
       "    <tr style=\"text-align: right;\">\n",
       "      <th></th>\n",
       "      <th>LSSTComCamSim</th>\n",
       "      <th>LATISS</th>\n",
       "      <th>LSSTComCam</th>\n",
       "      <th>LSSTCam</th>\n",
       "    </tr>\n",
       "  </thead>\n",
       "  <tbody>\n",
       "    <tr>\n",
       "      <th>Total Night</th>\n",
       "      <td>7:42:19</td>\n",
       "      <td>7:42:19</td>\n",
       "      <td>7:42:19</td>\n",
       "      <td>7:42:19</td>\n",
       "    </tr>\n",
       "    <tr>\n",
       "      <th>Total Exposure</th>\n",
       "      <td>0:00:00</td>\n",
       "      <td>0:00:00</td>\n",
       "      <td>1:02:38</td>\n",
       "      <td>5:05:32</td>\n",
       "    </tr>\n",
       "    <tr>\n",
       "      <th>Slew time(1)</th>\n",
       "      <td>0:00:00</td>\n",
       "      <td>0:00:00</td>\n",
       "      <td>0:00:00</td>\n",
       "      <td>0:00:00</td>\n",
       "    </tr>\n",
       "    <tr>\n",
       "      <th>Readout time(2)</th>\n",
       "      <td>0:00:00</td>\n",
       "      <td>0:00:00</td>\n",
       "      <td>0:06:40</td>\n",
       "      <td>0:47:11</td>\n",
       "    </tr>\n",
       "    <tr>\n",
       "      <th>Time loss to fault</th>\n",
       "      <td>NA</td>\n",
       "      <td>NA</td>\n",
       "      <td>NA</td>\n",
       "      <td>NA</td>\n",
       "    </tr>\n",
       "    <tr>\n",
       "      <th>Time loss to weather</th>\n",
       "      <td>NA</td>\n",
       "      <td>NA</td>\n",
       "      <td>NA</td>\n",
       "      <td>NA</td>\n",
       "    </tr>\n",
       "    <tr>\n",
       "      <th>Idle time</th>\n",
       "      <td>7:42:19</td>\n",
       "      <td>7:42:19</td>\n",
       "      <td>6:39:40</td>\n",
       "      <td>2:36:46</td>\n",
       "    </tr>\n",
       "    <tr>\n",
       "      <th>Number of exposures</th>\n",
       "      <td>0</td>\n",
       "      <td>0</td>\n",
       "      <td>174</td>\n",
       "      <td>1231</td>\n",
       "    </tr>\n",
       "    <tr>\n",
       "      <th>Mean readout time</th>\n",
       "      <td>0.000639</td>\n",
       "      <td>0.000639</td>\n",
       "      <td>0.000639</td>\n",
       "      <td>0.000639</td>\n",
       "    </tr>\n",
       "    <tr>\n",
       "      <th>Number of slews(1)</th>\n",
       "      <td>0</td>\n",
       "      <td>0</td>\n",
       "      <td>0</td>\n",
       "      <td>0</td>\n",
       "    </tr>\n",
       "    <tr>\n",
       "      <th>Mean Slew time(1)</th>\n",
       "      <td>0:00:00</td>\n",
       "      <td>0:00:00</td>\n",
       "      <td>0:00:00</td>\n",
       "      <td>0:00:00</td>\n",
       "    </tr>\n",
       "    <tr>\n",
       "      <th>Total fault loss</th>\n",
       "      <td>0:00:00</td>\n",
       "      <td>0:00:00</td>\n",
       "      <td>0:00:00</td>\n",
       "      <td>0:00:00</td>\n",
       "    </tr>\n",
       "    <tr>\n",
       "      <th>Total weather loss</th>\n",
       "      <td>0:00:00</td>\n",
       "      <td>0:00:00</td>\n",
       "      <td>0:00:00</td>\n",
       "      <td>0:00:00</td>\n",
       "    </tr>\n",
       "  </tbody>\n",
       "</table>\n",
       "</div>"
      ],
      "text/plain": [
       "                     LSSTComCamSim    LATISS LSSTComCam   LSSTCam\n",
       "Total Night                7:42:19   7:42:19    7:42:19   7:42:19\n",
       "Total Exposure             0:00:00   0:00:00    1:02:38   5:05:32\n",
       "Slew time(1)               0:00:00   0:00:00    0:00:00   0:00:00\n",
       "Readout time(2)            0:00:00   0:00:00    0:06:40   0:47:11\n",
       "Time loss to fault              NA        NA         NA        NA\n",
       "Time loss to weather            NA        NA         NA        NA\n",
       "Idle time                  7:42:19   7:42:19    6:39:40   2:36:46\n",
       "Number of exposures              0         0        174      1231\n",
       "Mean readout time         0.000639  0.000639   0.000639  0.000639\n",
       "Number of slews(1)               0         0          0         0\n",
       "Mean Slew time(1)          0:00:00   0:00:00    0:00:00   0:00:00\n",
       "Total fault loss           0:00:00   0:00:00    0:00:00   0:00:00\n",
       "Total weather loss         0:00:00   0:00:00    0:00:00   0:00:00"
      ]
     },
     "metadata": {},
     "output_type": "display_data"
    }
   ],
   "source": [
    "# Exposure Tally\n",
    "tally = await allsrc.night_tally_observation_gaps()\n",
    "if tally:\n",
    "    display(pd.DataFrame(tally))"
   ]
  },
  {
   "cell_type": "markdown",
   "id": "ad5a2e6c-ca0d-4978-bac9-25c83f90d090",
   "metadata": {},
   "source": [
    "- (1) Expected slew per Schedular\n",
    "- (2) There is no practical way to get detect read time.  Value of 2.3 seconds inferred from experiments."
   ]
  },
  {
   "cell_type": "markdown",
   "id": "17",
   "metadata": {},
   "source": [
    "## Jira Tickets <font style=\"background-color:green; color:white; font-size:20px\">BETA</font> \n",
    "(Observing Operations - OBS)\n",
    "(TODO: better tickets using Jira API)"
   ]
  },
  {
   "cell_type": "code",
   "execution_count": 11,
   "id": "18",
   "metadata": {},
   "outputs": [],
   "source": [
    "if allsrc.urls:\n",
    "    for url in allsrc.urls:\n",
    "        md(f\"- {mdpathlink(url)}\")"
   ]
  },
  {
   "cell_type": "code",
   "execution_count": 12,
   "id": "19",
   "metadata": {
    "jupyter": {
     "source_hidden": true
    }
   },
   "outputs": [
    {
     "data": {
      "text/markdown": [
       "No tickets found using: [API Data](https://usdf-rsp-dev.slac.stanford.edu/nightreport/reports?is_human=either&is_valid=true&order_by=-day_obs&offset=0&limit=100&min_day_obs=20241104&max_day_obs=20241105) in `confluence_url`."
      ],
      "text/plain": [
       "<IPython.core.display.Markdown object>"
      ]
     },
     "metadata": {},
     "output_type": "display_data"
    }
   ],
   "source": [
    "# Display Jira BLOCKS\n",
    "front = \"https://rubinobs.atlassian.net/projects/BLOCK?selectedItem=com.atlassian.plugins.atlassian-connect-plugin:com.kanoah.test-manager__main-project-page#!/\"\n",
    "tickets = allsrc.nig_src.nightly_tickets()\n",
    "if tickets:\n",
    "    mdstr = \"#### Nightly Jira BLOCKs\"\n",
    "    for day, url_list in tickets.items():\n",
    "        mdstr += f\"\\n- {day}\"\n",
    "        for ticket_url in url_list:\n",
    "            mdstr += f'\\n    - [{ticket_url.replace(front,\"\")}]({ticket_url})'\n",
    "    md(mdstr)\n",
    "else:\n",
    "    endpoint_url = allsrc.nig_src.status[\"reports\"][\"endpoint_url\"]\n",
    "    md(f\"No tickets found using: [API Data]({endpoint_url}) in `confluence_url`.\")"
   ]
  },
  {
   "cell_type": "markdown",
   "id": "20",
   "metadata": {},
   "source": [
    "## BLOCKS Observed <font style=\"background-color:yellow; color:black; font-size:20px\">DRAFT</font>\n",
    "(TODO: BLOCKS observed) "
   ]
  },
  {
   "cell_type": "markdown",
   "id": "71772e8d-658d-497a-b391-5996066f401a",
   "metadata": {},
   "source": [
    "## Data Log <font style=\"background-color:yellow; color:black; font-size:20px\">DRAFT</font>"
   ]
  },
  {
   "cell_type": "markdown",
   "id": "21",
   "metadata": {},
   "source": [
    "NOTE: *modified all_sources.py:uniform_field_counts()*\n",
    "NOTE: Each tally count is now a link to a detailed table of exposures."
   ]
  },
  {
   "cell_type": "code",
   "execution_count": 13,
   "id": "22",
   "metadata": {},
   "outputs": [
    {
     "data": {
      "text/markdown": [
       "Tally exposures with specific values of selected fields"
      ],
      "text/plain": [
       "<IPython.core.display.Markdown object>"
      ]
     },
     "metadata": {},
     "output_type": "display_data"
    },
    {
     "data": {
      "text/markdown": [
       "**LSSTComCamSim: 0 total exposures**"
      ],
      "text/plain": [
       "<IPython.core.display.Markdown object>"
      ]
     },
     "metadata": {},
     "output_type": "display_data"
    },
    {
     "data": {
      "text/markdown": [
       "**LATISS: 0 total exposures**"
      ],
      "text/plain": [
       "<IPython.core.display.Markdown object>"
      ]
     },
     "metadata": {},
     "output_type": "display_data"
    },
    {
     "data": {
      "text/markdown": [
       "**LSSTComCam: 174 total exposures**"
      ],
      "text/plain": [
       "<IPython.core.display.Markdown object>"
      ]
     },
     "metadata": {},
     "output_type": "display_data"
    },
    {
     "data": {
      "text/markdown": [
       "observation_reason"
      ],
      "text/plain": [
       "<IPython.core.display.Markdown object>"
      ]
     },
     "metadata": {},
     "output_type": "display_data"
    },
    {
     "data": {
      "text/html": [
       "<table border=\"1\" class=\"dataframe\">\n",
       "  <thead>\n",
       "    <tr style=\"text-align: right;\">\n",
       "      <th></th>\n",
       "      <th>comcam-daily-calibration</th>\n",
       "      <th>acq</th>\n",
       "      <th>infocus sitcom-826</th>\n",
       "      <th>extra sitcom-826</th>\n",
       "      <th>intra sitcom-826</th>\n",
       "      <th>focus sweep cam dry</th>\n",
       "      <th>focus sweep cam dz</th>\n",
       "      <th>infocus focus alignment laser</th>\n",
       "      <th>extra focus alignment laser</th>\n",
       "      <th>intra focus alignment laser</th>\n",
       "      <th>infocus spherical alignment laser</th>\n",
       "      <th>extra spherical alignment laser</th>\n",
       "      <th>intra spherical alignment laser</th>\n",
       "      <th>infocus</th>\n",
       "      <th>extra</th>\n",
       "      <th>intra</th>\n",
       "      <th>comcam-usdf-checkout</th>\n",
       "    </tr>\n",
       "  </thead>\n",
       "  <tbody>\n",
       "    <tr>\n",
       "      <th>0</th>\n",
       "      <td><a href=https://usdf-rsp-dev.slac.stanford.edu/times-square/github/lsst-ts/ts_logging_and_reporting/ExposureDetail?day_obs=2024-11-04&number_of_days=1&instrument=LSSTComCam&observation_reason=comcam-daily-calibration>44</a></td>\n",
       "      <td><a href=https://usdf-rsp-dev.slac.stanford.edu/times-square/github/lsst-ts/ts_logging_and_reporting/ExposureDetail?day_obs=2024-11-04&number_of_days=1&instrument=LSSTComCam&observation_reason=acq>18</a></td>\n",
       "      <td><a href=https://usdf-rsp-dev.slac.stanford.edu/times-square/github/lsst-ts/ts_logging_and_reporting/ExposureDetail?day_obs=2024-11-04&number_of_days=1&instrument=LSSTComCam&observation_reason=infocus_sitcom-826>4</a></td>\n",
       "      <td><a href=https://usdf-rsp-dev.slac.stanford.edu/times-square/github/lsst-ts/ts_logging_and_reporting/ExposureDetail?day_obs=2024-11-04&number_of_days=1&instrument=LSSTComCam&observation_reason=extra_sitcom-826>4</a></td>\n",
       "      <td><a href=https://usdf-rsp-dev.slac.stanford.edu/times-square/github/lsst-ts/ts_logging_and_reporting/ExposureDetail?day_obs=2024-11-04&number_of_days=1&instrument=LSSTComCam&observation_reason=intra_sitcom-826>4</a></td>\n",
       "      <td><a href=https://usdf-rsp-dev.slac.stanford.edu/times-square/github/lsst-ts/ts_logging_and_reporting/ExposureDetail?day_obs=2024-11-04&number_of_days=1&instrument=LSSTComCam&observation_reason=focus_sweep_cam_dry>9</a></td>\n",
       "      <td><a href=https://usdf-rsp-dev.slac.stanford.edu/times-square/github/lsst-ts/ts_logging_and_reporting/ExposureDetail?day_obs=2024-11-04&number_of_days=1&instrument=LSSTComCam&observation_reason=focus_sweep_cam_dz>9</a></td>\n",
       "      <td><a href=https://usdf-rsp-dev.slac.stanford.edu/times-square/github/lsst-ts/ts_logging_and_reporting/ExposureDetail?day_obs=2024-11-04&number_of_days=1&instrument=LSSTComCam&observation_reason=infocus_focus_alignment_laser>5</a></td>\n",
       "      <td><a href=https://usdf-rsp-dev.slac.stanford.edu/times-square/github/lsst-ts/ts_logging_and_reporting/ExposureDetail?day_obs=2024-11-04&number_of_days=1&instrument=LSSTComCam&observation_reason=extra_focus_alignment_laser>5</a></td>\n",
       "      <td><a href=https://usdf-rsp-dev.slac.stanford.edu/times-square/github/lsst-ts/ts_logging_and_reporting/ExposureDetail?day_obs=2024-11-04&number_of_days=1&instrument=LSSTComCam&observation_reason=intra_focus_alignment_laser>5</a></td>\n",
       "      <td><a href=https://usdf-rsp-dev.slac.stanford.edu/times-square/github/lsst-ts/ts_logging_and_reporting/ExposureDetail?day_obs=2024-11-04&number_of_days=1&instrument=LSSTComCam&observation_reason=infocus_spherical_alignment_laser>16</a></td>\n",
       "      <td><a href=https://usdf-rsp-dev.slac.stanford.edu/times-square/github/lsst-ts/ts_logging_and_reporting/ExposureDetail?day_obs=2024-11-04&number_of_days=1&instrument=LSSTComCam&observation_reason=extra_spherical_alignment_laser>16</a></td>\n",
       "      <td><a href=https://usdf-rsp-dev.slac.stanford.edu/times-square/github/lsst-ts/ts_logging_and_reporting/ExposureDetail?day_obs=2024-11-04&number_of_days=1&instrument=LSSTComCam&observation_reason=intra_spherical_alignment_laser>16</a></td>\n",
       "      <td><a href=https://usdf-rsp-dev.slac.stanford.edu/times-square/github/lsst-ts/ts_logging_and_reporting/ExposureDetail?day_obs=2024-11-04&number_of_days=1&instrument=LSSTComCam&observation_reason=infocus>3</a></td>\n",
       "      <td><a href=https://usdf-rsp-dev.slac.stanford.edu/times-square/github/lsst-ts/ts_logging_and_reporting/ExposureDetail?day_obs=2024-11-04&number_of_days=1&instrument=LSSTComCam&observation_reason=extra>3</a></td>\n",
       "      <td><a href=https://usdf-rsp-dev.slac.stanford.edu/times-square/github/lsst-ts/ts_logging_and_reporting/ExposureDetail?day_obs=2024-11-04&number_of_days=1&instrument=LSSTComCam&observation_reason=intra>3</a></td>\n",
       "      <td><a href=https://usdf-rsp-dev.slac.stanford.edu/times-square/github/lsst-ts/ts_logging_and_reporting/ExposureDetail?day_obs=2024-11-04&number_of_days=1&instrument=LSSTComCam&observation_reason=comcam-usdf-checkout>10</a></td>\n",
       "    </tr>\n",
       "  </tbody>\n",
       "</table>"
      ],
      "text/plain": [
       "<IPython.core.display.HTML object>"
      ]
     },
     "metadata": {},
     "output_type": "display_data"
    },
    {
     "data": {
      "text/markdown": [
       "science_program"
      ],
      "text/plain": [
       "<IPython.core.display.Markdown object>"
      ]
     },
     "metadata": {},
     "output_type": "display_data"
    },
    {
     "data": {
      "text/html": [
       "<table border=\"1\" class=\"dataframe\">\n",
       "  <thead>\n",
       "    <tr style=\"text-align: right;\">\n",
       "      <th></th>\n",
       "      <th>BLOCK-T220</th>\n",
       "      <th>BLOCK-T249</th>\n",
       "      <th>BLOCK-T60</th>\n",
       "      <th>BLOCK-T92</th>\n",
       "      <th>BLOCK-T88</th>\n",
       "      <th>BLOCK-T246</th>\n",
       "    </tr>\n",
       "  </thead>\n",
       "  <tbody>\n",
       "    <tr>\n",
       "      <th>0</th>\n",
       "      <td><a href=https://usdf-rsp-dev.slac.stanford.edu/times-square/github/lsst-ts/ts_logging_and_reporting/ExposureDetail?day_obs=2024-11-04&number_of_days=1&instrument=LSSTComCam&science_program=BLOCK-T220>44</a></td>\n",
       "      <td><a href=https://usdf-rsp-dev.slac.stanford.edu/times-square/github/lsst-ts/ts_logging_and_reporting/ExposureDetail?day_obs=2024-11-04&number_of_days=1&instrument=LSSTComCam&science_program=BLOCK-T249>19</a></td>\n",
       "      <td><a href=https://usdf-rsp-dev.slac.stanford.edu/times-square/github/lsst-ts/ts_logging_and_reporting/ExposureDetail?day_obs=2024-11-04&number_of_days=1&instrument=LSSTComCam&science_program=BLOCK-T60>82</a></td>\n",
       "      <td><a href=https://usdf-rsp-dev.slac.stanford.edu/times-square/github/lsst-ts/ts_logging_and_reporting/ExposureDetail?day_obs=2024-11-04&number_of_days=1&instrument=LSSTComCam&science_program=BLOCK-T92>18</a></td>\n",
       "      <td><a href=https://usdf-rsp-dev.slac.stanford.edu/times-square/github/lsst-ts/ts_logging_and_reporting/ExposureDetail?day_obs=2024-11-04&number_of_days=1&instrument=LSSTComCam&science_program=BLOCK-T88>1</a></td>\n",
       "      <td><a href=https://usdf-rsp-dev.slac.stanford.edu/times-square/github/lsst-ts/ts_logging_and_reporting/ExposureDetail?day_obs=2024-11-04&number_of_days=1&instrument=LSSTComCam&science_program=BLOCK-T246>10</a></td>\n",
       "    </tr>\n",
       "  </tbody>\n",
       "</table>"
      ],
      "text/plain": [
       "<IPython.core.display.HTML object>"
      ]
     },
     "metadata": {},
     "output_type": "display_data"
    },
    {
     "data": {
      "text/markdown": [
       "observation_type"
      ],
      "text/plain": [
       "<IPython.core.display.Markdown object>"
      ]
     },
     "metadata": {},
     "output_type": "display_data"
    },
    {
     "data": {
      "text/html": [
       "<table border=\"1\" class=\"dataframe\">\n",
       "  <thead>\n",
       "    <tr style=\"text-align: right;\">\n",
       "      <th></th>\n",
       "      <th>dark</th>\n",
       "      <th>bias</th>\n",
       "      <th>acq</th>\n",
       "      <th>cwfs</th>\n",
       "      <th>focus</th>\n",
       "    </tr>\n",
       "  </thead>\n",
       "  <tbody>\n",
       "    <tr>\n",
       "      <th>0</th>\n",
       "      <td><a href=https://usdf-rsp-dev.slac.stanford.edu/times-square/github/lsst-ts/ts_logging_and_reporting/ExposureDetail?day_obs=2024-11-04&number_of_days=1&instrument=LSSTComCam&observation_type=dark>22</a></td>\n",
       "      <td><a href=https://usdf-rsp-dev.slac.stanford.edu/times-square/github/lsst-ts/ts_logging_and_reporting/ExposureDetail?day_obs=2024-11-04&number_of_days=1&instrument=LSSTComCam&observation_type=bias>32</a></td>\n",
       "      <td><a href=https://usdf-rsp-dev.slac.stanford.edu/times-square/github/lsst-ts/ts_logging_and_reporting/ExposureDetail?day_obs=2024-11-04&number_of_days=1&instrument=LSSTComCam&observation_type=acq>46</a></td>\n",
       "      <td><a href=https://usdf-rsp-dev.slac.stanford.edu/times-square/github/lsst-ts/ts_logging_and_reporting/ExposureDetail?day_obs=2024-11-04&number_of_days=1&instrument=LSSTComCam&observation_type=cwfs>56</a></td>\n",
       "      <td><a href=https://usdf-rsp-dev.slac.stanford.edu/times-square/github/lsst-ts/ts_logging_and_reporting/ExposureDetail?day_obs=2024-11-04&number_of_days=1&instrument=LSSTComCam&observation_type=focus>18</a></td>\n",
       "    </tr>\n",
       "  </tbody>\n",
       "</table>"
      ],
      "text/plain": [
       "<IPython.core.display.HTML object>"
      ]
     },
     "metadata": {},
     "output_type": "display_data"
    },
    {
     "data": {
      "text/markdown": [
       "**LSSTCam: 1231 total exposures**"
      ],
      "text/plain": [
       "<IPython.core.display.Markdown object>"
      ]
     },
     "metadata": {},
     "output_type": "display_data"
    },
    {
     "data": {
      "text/markdown": [
       "observation_reason"
      ],
      "text/plain": [
       "<IPython.core.display.Markdown object>"
      ]
     },
     "metadata": {},
     "output_type": "display_data"
    },
    {
     "data": {
      "text/html": [
       "<table border=\"1\" class=\"dataframe\">\n",
       "  <thead>\n",
       "    <tr style=\"text-align: right;\">\n",
       "      <th></th>\n",
       "      <th>flat</th>\n",
       "      <th>bias</th>\n",
       "    </tr>\n",
       "  </thead>\n",
       "  <tbody>\n",
       "    <tr>\n",
       "      <th>0</th>\n",
       "      <td><a href=https://usdf-rsp-dev.slac.stanford.edu/times-square/github/lsst-ts/ts_logging_and_reporting/ExposureDetail?day_obs=2024-11-04&number_of_days=1&instrument=LSSTCam&observation_reason=flat>1221</a></td>\n",
       "      <td><a href=https://usdf-rsp-dev.slac.stanford.edu/times-square/github/lsst-ts/ts_logging_and_reporting/ExposureDetail?day_obs=2024-11-04&number_of_days=1&instrument=LSSTCam&observation_reason=bias>10</a></td>\n",
       "    </tr>\n",
       "  </tbody>\n",
       "</table>"
      ],
      "text/plain": [
       "<IPython.core.display.HTML object>"
      ]
     },
     "metadata": {},
     "output_type": "display_data"
    },
    {
     "data": {
      "text/markdown": [
       "science_program"
      ],
      "text/plain": [
       "<IPython.core.display.Markdown object>"
      ]
     },
     "metadata": {},
     "output_type": "display_data"
    },
    {
     "data": {
      "text/html": [
       "<table border=\"1\" class=\"dataframe\">\n",
       "  <thead>\n",
       "    <tr style=\"text-align: right;\">\n",
       "      <th></th>\n",
       "      <th>E2016</th>\n",
       "      <th>unknown</th>\n",
       "    </tr>\n",
       "  </thead>\n",
       "  <tbody>\n",
       "    <tr>\n",
       "      <th>0</th>\n",
       "      <td><a href=https://usdf-rsp-dev.slac.stanford.edu/times-square/github/lsst-ts/ts_logging_and_reporting/ExposureDetail?day_obs=2024-11-04&number_of_days=1&instrument=LSSTCam&science_program=E2016>1221</a></td>\n",
       "      <td><a href=https://usdf-rsp-dev.slac.stanford.edu/times-square/github/lsst-ts/ts_logging_and_reporting/ExposureDetail?day_obs=2024-11-04&number_of_days=1&instrument=LSSTCam&science_program=unknown>10</a></td>\n",
       "    </tr>\n",
       "  </tbody>\n",
       "</table>"
      ],
      "text/plain": [
       "<IPython.core.display.HTML object>"
      ]
     },
     "metadata": {},
     "output_type": "display_data"
    },
    {
     "data": {
      "text/markdown": [
       "observation_type"
      ],
      "text/plain": [
       "<IPython.core.display.Markdown object>"
      ]
     },
     "metadata": {},
     "output_type": "display_data"
    },
    {
     "data": {
      "text/html": [
       "<table border=\"1\" class=\"dataframe\">\n",
       "  <thead>\n",
       "    <tr style=\"text-align: right;\">\n",
       "      <th></th>\n",
       "      <th>flat</th>\n",
       "      <th>bias</th>\n",
       "      <th>dark</th>\n",
       "    </tr>\n",
       "  </thead>\n",
       "  <tbody>\n",
       "    <tr>\n",
       "      <th>0</th>\n",
       "      <td><a href=https://usdf-rsp-dev.slac.stanford.edu/times-square/github/lsst-ts/ts_logging_and_reporting/ExposureDetail?day_obs=2024-11-04&number_of_days=1&instrument=LSSTCam&observation_type=flat>638</a></td>\n",
       "      <td><a href=https://usdf-rsp-dev.slac.stanford.edu/times-square/github/lsst-ts/ts_logging_and_reporting/ExposureDetail?day_obs=2024-11-04&number_of_days=1&instrument=LSSTCam&observation_type=bias>329</a></td>\n",
       "      <td><a href=https://usdf-rsp-dev.slac.stanford.edu/times-square/github/lsst-ts/ts_logging_and_reporting/ExposureDetail?day_obs=2024-11-04&number_of_days=1&instrument=LSSTCam&observation_type=dark>264</a></td>\n",
       "    </tr>\n",
       "  </tbody>\n",
       "</table>"
      ],
      "text/plain": [
       "<IPython.core.display.HTML object>"
      ]
     },
     "metadata": {},
     "output_type": "display_data"
    }
   ],
   "source": [
    "# Exposure Report\n",
    "if experimental.get(\"exposure_type_tally\"): \n",
    "    #  md(\"### Experimental Exposure field Tally ENABLED\")\n",
    "    md(\"Tally exposures with specific values of selected fields\")\n",
    "else:\n",
    "    md(\"### Experimental Exposure field Tally DISASBLED\")\n",
    "    \n",
    "for instrum in allsrc.exp_src.exposures.keys():\n",
    "    md(f'**{instrum}: {len(allsrc.exp_src.exposures[instrum])} total exposures**')\n",
    "    if 0 == len(allsrc.exp_src.exposures[instrum]):\n",
    "        continue\n",
    "\n",
    "    # Facet counts\n",
    "    if experimental.get(\"exposure_type_tally\"): \n",
    "        counts = allsrc.uniform_exposure_field_counts(instrum)\n",
    "        for fname, tally in counts.items():\n",
    "            md(f\"{fname}\")\n",
    "            df = pd.DataFrame.from_dict(tally, orient=\"index\").T\n",
    "            wdf = ut.wrap_dataframe_columns(df)\n",
    "            display(HTML(wdf.to_html(render_links=True, escape=False)))"
   ]
  },
  {
   "cell_type": "markdown",
   "id": "23",
   "metadata": {
    "jp-MarkdownHeadingCollapsed": true
   },
   "source": [
    "### (change) <font style=\"background-color:yellow; color:black; font-size:20px\">DRAFT</font>\n",
    "#### TODO According to Storybaord, this section should be removed ...\n",
    "... and replaced with a simple table tally of Good, Questionable, and  Junk exposures per instrument. (that tally has been added below)\n",
    "| Symbol | Meaning |\n",
    "|:---|:---|\n",
    "| <font style=\"background-color:green; color:white; font-size:20px\">&nbsp;G&nbsp;</font>| Good |\n",
    "| <font style=\"background-color:yellow; color:black; font-size:20px\">&nbsp;?&nbsp;</font> | Questionable |\n",
    "| <font style=\"background-color:red; color:black; font-size:20px\">&nbsp;R&nbsp;</font> | Junk |\n"
   ]
  },
  {
   "cell_type": "code",
   "execution_count": 14,
   "id": "24",
   "metadata": {},
   "outputs": [
    {
     "data": {
      "text/markdown": [
       "### Instrument: LSSTComCam (9)"
      ],
      "text/plain": [
       "<IPython.core.display.Markdown object>"
      ]
     },
     "metadata": {},
     "output_type": "display_data"
    },
    {
     "data": {
      "text/markdown": [
       "* CC_O_20241104_000021 : 2024-11-05T03:08:31.113045\n",
       "    - <font style=\"background-color:green; color:white; font-size:20px\">&nbsp;G&nbsp;</font>`These images are not useful for the particular block as we had vignetted donut and then the pointing component failed.`"
      ],
      "text/plain": [
       "<IPython.core.display.Markdown object>"
      ]
     },
     "metadata": {},
     "output_type": "display_data"
    },
    {
     "data": {
      "text/markdown": [
       "* CC_O_20241104_000022 : 2024-11-05T03:08:31.152648\n",
       "    - <font style=\"background-color:green; color:white; font-size:20px\">&nbsp;G&nbsp;</font>`These images are not useful for the particular block as we had vignetted donut and then the pointing component failed.`"
      ],
      "text/plain": [
       "<IPython.core.display.Markdown object>"
      ]
     },
     "metadata": {},
     "output_type": "display_data"
    },
    {
     "data": {
      "text/markdown": [
       "* CC_O_20241104_000023 : 2024-11-05T03:08:31.189583\n",
       "    - <font style=\"background-color:green; color:white; font-size:20px\">&nbsp;G&nbsp;</font>`These images are not useful for the particular block as we had vignetted donut and then the pointing component failed.`"
      ],
      "text/plain": [
       "<IPython.core.display.Markdown object>"
      ]
     },
     "metadata": {},
     "output_type": "display_data"
    },
    {
     "data": {
      "text/markdown": [
       "* CC_O_20241104_000024 : 2024-11-05T03:08:31.228502\n",
       "    - <font style=\"background-color:green; color:white; font-size:20px\">&nbsp;G&nbsp;</font>`These images are not useful for the particular block as we had vignetted donut and then the pointing component failed.`"
      ],
      "text/plain": [
       "<IPython.core.display.Markdown object>"
      ]
     },
     "metadata": {},
     "output_type": "display_data"
    },
    {
     "data": {
      "text/markdown": [
       "* CC_O_20241104_000025 : 2024-11-05T03:08:31.266365\n",
       "    - <font style=\"background-color:green; color:white; font-size:20px\">&nbsp;G&nbsp;</font>`These images are not useful for the particular block as we had vignetted donut and then the pointing component failed.`"
      ],
      "text/plain": [
       "<IPython.core.display.Markdown object>"
      ]
     },
     "metadata": {},
     "output_type": "display_data"
    },
    {
     "data": {
      "text/markdown": [
       "* CC_O_20241104_000026 : 2024-11-05T03:08:31.069815\n",
       "    - <font style=\"background-color:green; color:white; font-size:20px\">&nbsp;G&nbsp;</font>`These images are not useful for the particular block as we had vignetted donut and then the pointing component failed.`"
      ],
      "text/plain": [
       "<IPython.core.display.Markdown object>"
      ]
     },
     "metadata": {},
     "output_type": "display_data"
    },
    {
     "data": {
      "text/markdown": [
       "* CC_O_20241104_000127 : 2024-11-05T06:20:43.256294\n",
       "    - <font style=\"background-color:green; color:white; font-size:20px\">&nbsp;G&nbsp;</font>`The Block should have been Block-T60 instead of Block-T249`"
      ],
      "text/plain": [
       "<IPython.core.display.Markdown object>"
      ]
     },
     "metadata": {},
     "output_type": "display_data"
    },
    {
     "data": {
      "text/markdown": [
       "* CC_O_20241104_000128 : 2024-11-05T06:20:43.218049\n",
       "    - <font style=\"background-color:green; color:white; font-size:20px\">&nbsp;G&nbsp;</font>`The Block should have been Block-T60 instead of Block-T249`"
      ],
      "text/plain": [
       "<IPython.core.display.Markdown object>"
      ]
     },
     "metadata": {},
     "output_type": "display_data"
    },
    {
     "data": {
      "text/markdown": [
       "* CC_O_20241104_000129 : 2024-11-05T06:20:43.177427\n",
       "    - <font style=\"background-color:green; color:white; font-size:20px\">&nbsp;G&nbsp;</font>`The Block should have been Block-T60 instead of Block-T249`"
      ],
      "text/plain": [
       "<IPython.core.display.Markdown object>"
      ]
     },
     "metadata": {},
     "output_type": "display_data"
    }
   ],
   "source": [
    "# Time Log\n",
    "allrep.exp_rep.time_log_as_markdown()"
   ]
  },
  {
   "cell_type": "markdown",
   "id": "261925dc-1171-4429-b6a8-3bf62d71904f",
   "metadata": {},
   "source": [
    "Note: *Added counts of Exposures with messages*"
   ]
  },
  {
   "cell_type": "code",
   "execution_count": 15,
   "id": "fd31c70d-1f21-427b-a4bc-8c493c9da936",
   "metadata": {},
   "outputs": [
    {
     "data": {
      "text/markdown": [
       "**LSSTComCam 9 Exposures with messages**"
      ],
      "text/plain": [
       "<IPython.core.display.Markdown object>"
      ]
     },
     "metadata": {},
     "output_type": "display_data"
    },
    {
     "data": {
      "text/html": [
       "<style type=\"text/css\">\n",
       "</style>\n",
       "<table id=\"T_e9aa2\">\n",
       "  <thead>\n",
       "    <tr>\n",
       "      <th id=\"T_e9aa2_level0_col0\" class=\"col_heading level0 col0\" >good</th>\n",
       "      <th id=\"T_e9aa2_level0_col1\" class=\"col_heading level0 col1\" >questionable</th>\n",
       "      <th id=\"T_e9aa2_level0_col2\" class=\"col_heading level0 col2\" >junk</th>\n",
       "      <th id=\"T_e9aa2_level0_col3\" class=\"col_heading level0 col3\" >none</th>\n",
       "    </tr>\n",
       "  </thead>\n",
       "  <tbody>\n",
       "    <tr>\n",
       "      <td id=\"T_e9aa2_row0_col0\" class=\"data row0 col0\" >0</td>\n",
       "      <td id=\"T_e9aa2_row0_col1\" class=\"data row0 col1\" >0</td>\n",
       "      <td id=\"T_e9aa2_row0_col2\" class=\"data row0 col2\" >0</td>\n",
       "      <td id=\"T_e9aa2_row0_col3\" class=\"data row0 col3\" >9</td>\n",
       "    </tr>\n",
       "  </tbody>\n",
       "</table>\n"
      ],
      "text/plain": [
       "<pandas.io.formats.style.Styler at 0x7f497ff74150>"
      ]
     },
     "metadata": {},
     "output_type": "display_data"
    }
   ],
   "source": [
    "for instrum, recs in allsrc.exp_src.messages.items():\n",
    "    md(f'**{instrum} {len(recs)} Exposures with messages**')\n",
    "    if len(recs) > 0:\n",
    "        df = allsrc.tally_exposure_flags(instrum)\n",
    "        display(df.style.hide(axis=\"index\"))"
   ]
  },
  {
   "cell_type": "markdown",
   "id": "20820900-05ab-4ca5-8df5-9f725c0ee570",
   "metadata": {},
   "source": [
    "## Narrative Log <font style=\"background-color:green; color:white; font-size:20px\">BETA</font> "
   ]
  },
  {
   "cell_type": "code",
   "execution_count": 16,
   "id": "26",
   "metadata": {
    "editable": true,
    "slideshow": {
     "slide_type": ""
    },
    "tags": []
   },
   "outputs": [
    {
     "data": {
      "text/markdown": [
       "- **2024-11-04 04:04:34.320647** Time Lost: 0.0; Time Lost Type: fault;\n",
       "    - components: None\n",
       "    - primary_software_components: ['None']\n",
       "    - primary_hardware_components: ['None']\n",
       "\n",
       "<pre style='color: black; background-color: white; font-size: 1em; margin-left: 0px; '>Block T92 with vector [+Cam dz, +M2 dz], we use a parameter march to do the seep in this vector. We are not stepping through only one direction but two at a time, because of their combined effect</pre>\n"
      ],
      "text/plain": [
       "<IPython.core.display.Markdown object>"
      ]
     },
     "metadata": {},
     "output_type": "display_data"
    },
    {
     "data": {
      "text/markdown": [
       "- **2024-11-04 03:57:51.312522** Time Lost: 0.0; Time Lost Type: fault;\n",
       "    - components: None\n",
       "    - primary_software_components: ['None']\n",
       "    - primary_hardware_components: ['None']\n",
       "\n",
       "<pre style='color: black; background-color: white; font-size: 1em; margin-left: 0px; '>No acknowledgement on the camera cable wrap following on first try. This was the same error seen last time when there were DDS issues. We tried again and it passed.</pre>\n"
      ],
      "text/plain": [
       "<IPython.core.display.Markdown object>"
      ]
     },
     "metadata": {},
     "output_type": "display_data"
    },
    {
     "data": {
      "text/markdown": [
       "- **2024-11-04 03:56:57.828648** Time Lost: 0.0; Time Lost Type: fault;\n",
       "    - components: None\n",
       "    - primary_software_components: ['None']\n",
       "    - primary_hardware_components: ['None']\n",
       "\n",
       "<pre style='color: black; background-color: white; font-size: 1em; margin-left: 0px; '>We are now starting manual alignment with laser on. We'll do a parameter march in Cam dz and M2 dz.</pre>\n"
      ],
      "text/plain": [
       "<IPython.core.display.Markdown object>"
      ]
     },
     "metadata": {},
     "output_type": "display_data"
    },
    {
     "data": {
      "text/markdown": [
       "- **2024-11-04 03:31:51.385031** Time Lost: 0.0; Time Lost Type: fault;\n",
       "    - components: None\n",
       "    - primary_software_components: ['None']\n",
       "    - primary_hardware_components: ['None']\n",
       "\n",
       "<pre style='color: black; background-color: white; font-size: 1em; margin-left: 0px; '>Right now we got the first measurement from laser on Camera for BLOCK-T88. All the previous laser measurements correspond to BLOCK-T222</pre>\n"
      ],
      "text/plain": [
       "<IPython.core.display.Markdown object>"
      ]
     },
     "metadata": {},
     "output_type": "display_data"
    },
    {
     "data": {
      "text/markdown": [
       "- **2024-11-04 03:18:15.157159** Time Lost: 3.0; Time Lost Type: weather;\n",
       "    - components: ['MainTel']\n",
       "    - primary_software_components: ['None']\n",
       "    - primary_hardware_components: ['None']\n",
       "\n",
       "<pre style='color: black; background-color: white; font-size: 1em; margin-left: 0px; '>David is going to open the rest of the way and we will begin on sky testing. End of weather loss.</pre>\n"
      ],
      "text/plain": [
       "<IPython.core.display.Markdown object>"
      ]
     },
     "metadata": {},
     "output_type": "display_data"
    },
    {
     "data": {
      "text/markdown": [
       "- **2024-11-04 03:11:56.157496** Time Lost: 0.0; Time Lost Type: fault;\n",
       "    - components: ['MainTel']\n",
       "    - primary_software_components: ['None']\n",
       "    - primary_hardware_components: ['None']\n",
       "\n",
       "<pre style='color: black; background-color: white; font-size: 1em; margin-left: 0px; '>David goes up to open the dome shutters to 75%. 50% open happened around 11:30 CLT. BLOCK-222 ongoing.</pre>\n"
      ],
      "text/plain": [
       "<IPython.core.display.Markdown object>"
      ]
     },
     "metadata": {},
     "output_type": "display_data"
    },
    {
     "data": {
      "text/markdown": [
       "- **2024-11-04 02:13:08.024390** Time Lost: 0.0; Time Lost Type: fault;\n",
       "    - components: ['MainTel']\n",
       "    - primary_software_components: ['None']\n",
       "    - primary_hardware_components: ['None']\n",
       "\n",
       "<pre style='color: black; background-color: white; font-size: 1em; margin-left: 0px; '>Cracked open dome about 25% - seeing a rate of change of the mirror around 1 degree, so we are going to abstain from opening the dome further for now. Continued weather loss.</pre>\n"
      ],
      "text/plain": [
       "<IPython.core.display.Markdown object>"
      ]
     },
     "metadata": {},
     "output_type": "display_data"
    },
    {
     "data": {
      "text/markdown": [
       "- **2024-11-04 01:59:47.237920** Time Lost: 0.0; Time Lost Type: fault;\n",
       "    - components: ['MainTel']\n",
       "    - primary_software_components: ['None']\n",
       "    - primary_hardware_components: ['None']\n",
       "\n",
       "<pre style='color: black; background-color: white; font-size: 1em; margin-left: 0px; '>Going to open the dome shutters a bit and slowly thermalize. Continuing to run LUT test in BLOCK-222.</pre>\n"
      ],
      "text/plain": [
       "<IPython.core.display.Markdown object>"
      ]
     },
     "metadata": {},
     "output_type": "display_data"
    },
    {
     "data": {
      "text/markdown": [
       "- **2024-11-04 01:18:54.459573** Time Lost: 0.0; Time Lost Type: fault;\n",
       "    - components: ['MainTel']\n",
       "    - primary_software_components: ['None']\n",
       "    - primary_hardware_components: ['None']\n",
       "\n",
       "<pre style='color: black; background-color: white; font-size: 1em; margin-left: 0px; '>Running BLOCK-222 after debugging.</pre>\n"
      ],
      "text/plain": [
       "<IPython.core.display.Markdown object>"
      ]
     },
     "metadata": {},
     "output_type": "display_data"
    },
    {
     "data": {
      "text/markdown": [
       "- **2024-11-04 01:11:35.065435** Time Lost: 0.0; Time Lost Type: fault;\n",
       "    - components: ['MainTel']\n",
       "    - primary_software_components: ['None']\n",
       "    - primary_hardware_components: ['None']\n",
       "\n",
       "<pre style='color: black; background-color: white; font-size: 1em; margin-left: 0px; '>Current temp 7.07 up from 6.5 in the last 30 minutes. Crazy with the local thermals going on.</pre>\n"
      ],
      "text/plain": [
       "<IPython.core.display.Markdown object>"
      ]
     },
     "metadata": {},
     "output_type": "display_data"
    },
    {
     "data": {
      "text/markdown": [
       "- **2024-11-04 01:09:32.375783** Time Lost: 0.0; Time Lost Type: fault;\n",
       "    - components: ['MainTel']\n",
       "    - primary_software_components: ['None']\n",
       "    - primary_hardware_components: ['None']\n",
       "\n",
       "<pre style='color: black; background-color: white; font-size: 1em; margin-left: 0px; '>Attempting BLOCK-222 - there were failures so we are going to debug the test.</pre>\n"
      ],
      "text/plain": [
       "<IPython.core.display.Markdown object>"
      ]
     },
     "metadata": {},
     "output_type": "display_data"
    },
    {
     "data": {
      "text/markdown": [
       "- **2024-11-04 00:29:08.708108** Time Lost: 0.0; Time Lost Type: fault;\n",
       "    - components: ['MainTel']\n",
       "    - primary_software_components: ['None']\n",
       "    - primary_hardware_components: ['None']\n",
       "\n",
       "<pre style='color: black; background-color: white; font-size: 1em; margin-left: 0px; '>Weather loss accumulating since twilight ~21:03.</pre>\n"
      ],
      "text/plain": [
       "<IPython.core.display.Markdown object>"
      ]
     },
     "metadata": {},
     "output_type": "display_data"
    },
    {
     "data": {
      "text/markdown": [
       "- **2024-11-04 00:26:33.902834** Time Lost: 0.0; Time Lost Type: fault;\n",
       "    - components: ['MainTel']\n",
       "    - primary_software_components: ['None']\n",
       "    - primary_hardware_components: ['None']\n",
       "\n",
       "<pre style='color: black; background-color: white; font-size: 1em; margin-left: 0px; '>Turning on FCUs to 10 rpm.</pre>\n"
      ],
      "text/plain": [
       "<IPython.core.display.Markdown object>"
      ]
     },
     "metadata": {},
     "output_type": "display_data"
    },
    {
     "data": {
      "text/markdown": [
       "- **2024-11-04 00:14:55.226650** Time Lost: 0.0; Time Lost Type: fault;\n",
       "    - components: ['MainTel']\n",
       "    - primary_software_components: ['None']\n",
       "    - primary_hardware_components: ['None']\n",
       "\n",
       "<pre style='color: black; background-color: white; font-size: 1em; margin-left: 0px; '>the outside temperature is dropping quickly. We are concerned to open the domes and shock the mirror, so we are going to turn on the HVACs again to try and catch up with the temperature drop.</pre>\n"
      ],
      "text/plain": [
       "<IPython.core.display.Markdown object>"
      ]
     },
     "metadata": {},
     "output_type": "display_data"
    },
    {
     "data": {
      "text/markdown": [
       "- **2024-11-04 00:00:28.450117** Time Lost: 0.0; Time Lost Type: fault;\n",
       "    - components: ['MainTel']\n",
       "    - primary_software_components: ['None']\n",
       "    - primary_hardware_components: ['None']\n",
       "\n",
       "<pre style='color: black; background-color: white; font-size: 1em; margin-left: 0px; '>Running BLOCK-T88</pre>\n"
      ],
      "text/plain": [
       "<IPython.core.display.Markdown object>"
      ]
     },
     "metadata": {},
     "output_type": "display_data"
    },
    {
     "data": {
      "text/markdown": [
       "- **2024-11-04 23:40:04.343030** Time Lost: 0.0; Time Lost Type: fault;\n",
       "    - components: ['MainTel']\n",
       "    - primary_software_components: ['None']\n",
       "    - primary_hardware_components: ['None']\n",
       "\n",
       "<pre style='color: black; background-color: white; font-size: 1em; margin-left: 0px; '>releasing the locking pins for TMA</pre>\n"
      ],
      "text/plain": [
       "<IPython.core.display.Markdown object>"
      ]
     },
     "metadata": {},
     "output_type": "display_data"
    },
    {
     "data": {
      "text/markdown": [
       "- **2024-11-04 23:32:07.477427** Time Lost: 0.0; Time Lost Type: fault;\n",
       "    - components: ['MainTel']\n",
       "    - primary_software_components: ['None']\n",
       "    - primary_hardware_components: ['None']\n",
       "\n",
       "<pre style='color: black; background-color: white; font-size: 1em; margin-left: 0px; '>raising M1M3</pre>\n"
      ],
      "text/plain": [
       "<IPython.core.display.Markdown object>"
      ]
     },
     "metadata": {},
     "output_type": "display_data"
    },
    {
     "data": {
      "text/markdown": [
       "- **2024-11-04 23:32:01.962155** Time Lost: 0.0; Time Lost Type: fault;\n",
       "    - components: ['MainTel']\n",
       "    - primary_software_components: ['None']\n",
       "    - primary_hardware_components: ['None']\n",
       "\n",
       "<pre style='color: black; background-color: white; font-size: 1em; margin-left: 0px; '>turning HVAC off</pre>\n"
      ],
      "text/plain": [
       "<IPython.core.display.Markdown object>"
      ]
     },
     "metadata": {},
     "output_type": "display_data"
    },
    {
     "data": {
      "text/markdown": [
       "- **2024-11-04 23:24:47.763003** Time Lost: 0.0; Time Lost Type: fault;\n",
       "    - components: ['MainTel']\n",
       "    - primary_software_components: ['None']\n",
       "    - primary_hardware_components: ['None']\n",
       "\n",
       "<pre style='color: black; background-color: white; font-size: 1em; margin-left: 0px; '>recovered M1M3TS, turned on the fan with speed constant = 30 (300RPM)</pre>\n"
      ],
      "text/plain": [
       "<IPython.core.display.Markdown object>"
      ]
     },
     "metadata": {},
     "output_type": "display_data"
    },
    {
     "data": {
      "text/markdown": [
       "- **2024-11-04 23:24:09.411000** Time Lost: 0.0; Time Lost Type: fault;\n",
       "    - components: ['MainTel']\n",
       "    - primary_software_components: ['None']\n",
       "    - primary_hardware_components: ['None']\n",
       "\n",
       "<pre style='color: black; background-color: white; font-size: 1em; margin-left: 0px; '>set HVAC setpoint to 9C</pre>\n"
      ],
      "text/plain": [
       "<IPython.core.display.Markdown object>"
      ]
     },
     "metadata": {},
     "output_type": "display_data"
    },
    {
     "data": {
      "text/markdown": [
       "- **2024-11-04 23:05:18.470489** Time Lost: 0.0; Time Lost Type: fault;\n",
       "    - components: ['MainTel']\n",
       "    - primary_software_components: ['None']\n",
       "    - primary_hardware_components: ['None']\n",
       "\n",
       "<pre style='color: black; background-color: white; font-size: 1em; margin-left: 0px; '>Rotator startup</pre>\n"
      ],
      "text/plain": [
       "<IPython.core.display.Markdown object>"
      ]
     },
     "metadata": {},
     "output_type": "display_data"
    },
    {
     "data": {
      "text/markdown": [
       "- **2024-11-04 23:04:19.650943** Time Lost: 0.0; Time Lost Type: fault;\n",
       "    - components: ['MainTel']\n",
       "    - primary_software_components: ['None']\n",
       "    - primary_hardware_components: ['None']\n",
       "\n",
       "<pre style='color: black; background-color: white; font-size: 1em; margin-left: 0px; '>Having a problem with M1M3TS, losing heartbeat</pre>\n"
      ],
      "text/plain": [
       "<IPython.core.display.Markdown object>"
      ]
     },
     "metadata": {},
     "output_type": "display_data"
    },
    {
     "data": {
      "text/markdown": [
       "- **2024-11-04 22:38:34.889525** Time Lost: 0.0; Time Lost Type: fault;\n",
       "    - components: ['MainTel']\n",
       "    - primary_software_components: ['None']\n",
       "    - primary_hardware_components: ['None']\n",
       "\n",
       "<pre style='color: black; background-color: white; font-size: 1em; margin-left: 0px; '>Recovered M1M3. Felipe is working inside the cell, needs air valve open.</pre>\n"
      ],
      "text/plain": [
       "<IPython.core.display.Markdown object>"
      ]
     },
     "metadata": {},
     "output_type": "display_data"
    },
    {
     "data": {
      "text/markdown": [
       "- **2024-11-04 22:38:23.692456** Time Lost: 0.0; Time Lost Type: fault;\n",
       "    - components: ['MainTel']\n",
       "    - primary_software_components: ['None']\n",
       "    - primary_hardware_components: ['None']\n",
       "\n",
       "<pre style='color: black; background-color: white; font-size: 1em; margin-left: 0px; '>Starting bump test.</pre>\n"
      ],
      "text/plain": [
       "<IPython.core.display.Markdown object>"
      ]
     },
     "metadata": {},
     "output_type": "display_data"
    },
    {
     "data": {
      "text/markdown": [
       "- **2024-11-04 22:38:12.590857** Time Lost: 0.0; Time Lost Type: fault;\n",
       "    - components: ['MainTel']\n",
       "    - primary_software_components: ['None']\n",
       "    - primary_hardware_components: ['None']\n",
       "\n",
       "<pre style='color: black; background-color: white; font-size: 1em; margin-left: 0px; '>Turning on M2hexapod.</pre>\n"
      ],
      "text/plain": [
       "<IPython.core.display.Markdown object>"
      ]
     },
     "metadata": {},
     "output_type": "display_data"
    },
    {
     "data": {
      "text/markdown": [
       "- **2024-11-04 22:37:55.561225** Time Lost: 0.0; Time Lost Type: fault;\n",
       "    - components: ['MainTel']\n",
       "    - primary_software_components: ['None']\n",
       "    - primary_hardware_components: ['None']\n",
       "\n",
       "<pre style='color: black; background-color: white; font-size: 1em; margin-left: 0px; '>Turning on camhexapod</pre>\n"
      ],
      "text/plain": [
       "<IPython.core.display.Markdown object>"
      ]
     },
     "metadata": {},
     "output_type": "display_data"
    },
    {
     "data": {
      "text/markdown": [
       "- **2024-11-04 22:37:40.649621** Time Lost: 0.0; Time Lost Type: fault;\n",
       "    - components: ['MainTel']\n",
       "    - primary_software_components: ['None']\n",
       "    - primary_hardware_components: ['None']\n",
       "\n",
       "<pre style='color: black; background-color: white; font-size: 1em; margin-left: 0px; '>BLOCK-T246 ComCam USDF Checkout started.\r\n",
       "During 12:30pm meeting we agreed that we don't need lights off for this since it's biases and darks</pre>\n"
      ],
      "text/plain": [
       "<IPython.core.display.Markdown object>"
      ]
     },
     "metadata": {},
     "output_type": "display_data"
    },
    {
     "data": {
      "text/markdown": [
       "- **2024-11-04 22:36:06.487420** Time Lost: 0.0; Time Lost Type: fault;\n",
       "    - components: ['MainTel']\n",
       "    - primary_software_components: ['None']\n",
       "    - primary_hardware_components: ['None']\n",
       "\n",
       "<pre style='color: black; background-color: white; font-size: 1em; margin-left: 0px; '>BLOCK-T144 started</pre>\n"
      ],
      "text/plain": [
       "<IPython.core.display.Markdown object>"
      ]
     },
     "metadata": {},
     "output_type": "display_data"
    },
    {
     "data": {
      "text/markdown": [
       "- **2024-11-04 22:35:56.567405** Time Lost: 0.0; Time Lost Type: fault;\n",
       "    - components: ['MainTel']\n",
       "    - primary_software_components: ['None']\n",
       "    - primary_hardware_components: ['None']\n",
       "\n",
       "<pre style='color: black; background-color: white; font-size: 1em; margin-left: 0px; '>Turning on the M1M3 fan, helped by Sandrine</pre>\n"
      ],
      "text/plain": [
       "<IPython.core.display.Markdown object>"
      ]
     },
     "metadata": {},
     "output_type": "display_data"
    },
    {
     "data": {
      "text/markdown": [
       "- **2024-11-04 22:35:44.645398** Time Lost: 0.0; Time Lost Type: fault;\n",
       "    - components: ['MainTel']\n",
       "    - primary_software_components: ['None']\n",
       "    - primary_hardware_components: ['None']\n",
       "\n",
       "<pre style='color: black; background-color: white; font-size: 1em; margin-left: 0px; '>Moving dome to az=300.</pre>\n"
      ],
      "text/plain": [
       "<IPython.core.display.Markdown object>"
      ]
     },
     "metadata": {},
     "output_type": "display_data"
    },
    {
     "data": {
      "text/markdown": [
       "- **2024-11-04 22:35:32.177442** Time Lost: 0.0; Time Lost Type: fault;\n",
       "    - components: ['MainTel']\n",
       "    - primary_software_components: ['None']\n",
       "    - primary_hardware_components: ['None']\n",
       "\n",
       "<pre style='color: black; background-color: white; font-size: 1em; margin-left: 0px; '>moved MTDome back to 328, with timeout: 60 in configuration. it didn't fail the script but we started the dome moving in chronograf after script finished.</pre>\n"
      ],
      "text/plain": [
       "<IPython.core.display.Markdown object>"
      ]
     },
     "metadata": {},
     "output_type": "display_data"
    },
    {
     "data": {
      "text/markdown": [
       "- **2024-11-04 21:38:07.462735** Time Lost: 0.0; Time Lost Type: fault;\n",
       "    - components: ['MainTel']\n",
       "    - primary_software_components: ['None']\n",
       "    - primary_hardware_components: ['None']\n",
       "\n",
       "<pre style='color: black; background-color: white; font-size: 1em; margin-left: 0px; '>Ok MTDome is back it seems -- exit Fault , CSCS cycle of MTDome and a successful move command !</pre>\n"
      ],
      "text/plain": [
       "<IPython.core.display.Markdown object>"
      ]
     },
     "metadata": {},
     "output_type": "display_data"
    },
    {
     "data": {
      "text/markdown": [
       "- **2024-11-04 21:26:51.264273** Time Lost: 0.0; Time Lost Type: fault;\n",
       "    - components: ['MainTel']\n",
       "    - primary_software_components: ['None']\n",
       "    - primary_hardware_components: ['None']\n",
       "\n",
       "<pre style='color: black; background-color: white; font-size: 1em; margin-left: 0px; '>running exitFault to get the MTDome out of the FAULT code</pre>\n"
      ],
      "text/plain": [
       "<IPython.core.display.Markdown object>"
      ]
     },
     "metadata": {},
     "output_type": "display_data"
    },
    {
     "data": {
      "text/markdown": [
       "- **2024-11-04 21:24:28.292582** Time Lost: 0.0; Time Lost Type: fault;\n",
       "    - components: ['MainTel']\n",
       "    - primary_software_components: ['None']\n",
       "    - primary_hardware_components: ['None']\n",
       "\n",
       "<pre style='color: black; background-color: white; font-size: 1em; margin-left: 0px; '>On the other hand we changed the setpoint temperatures from 6 to 7 deg C</pre>\n"
      ],
      "text/plain": [
       "<IPython.core.display.Markdown object>"
      ]
     },
     "metadata": {},
     "output_type": "display_data"
    },
    {
     "data": {
      "text/markdown": [
       "- **2024-11-04 21:24:02.925188** Time Lost: 0.0; Time Lost Type: fault;\n",
       "    - components: ['MainTel']\n",
       "    - primary_software_components: ['None']\n",
       "    - primary_hardware_components: ['None']\n",
       "\n",
       "<pre style='color: black; background-color: white; font-size: 1em; margin-left: 0px; '>We tried moving the dome but the script failed with command ack not seen error and a Fault code of - 210809=Error of type Automation in subsystem AMCS: AFE is in fault.</pre>\n"
      ],
      "text/plain": [
       "<IPython.core.display.Markdown object>"
      ]
     },
     "metadata": {},
     "output_type": "display_data"
    },
    {
     "data": {
      "text/markdown": [
       "- **2024-11-04 21:03:16.112714** Time Lost: 0.0; Time Lost Type: fault;\n",
       "    - components: ['MainTel']\n",
       "    - primary_software_components: ['None']\n",
       "    - primary_hardware_components: ['None']\n",
       "\n",
       "<pre style='color: black; background-color: white; font-size: 1em; margin-left: 0px; '>Helping Wouter update the MTDome CSC --- cycle the MTDome from OFFLINE and now exitFault run_command failed \r\n",
       "\r\n",
       "\r\n",
       "-----------\r\n",
       "lsst.ts.salobj.base.AckTimeoutError: msg='Timed out waiting for command acknowledgement', ackcmd=(ackcmd private_seqNum=612720053, ack=&lt;SalRetCode.CMD_NOACK: -301&gt;, error=0, result='No command acknowledgement seen')</pre>\n"
      ],
      "text/plain": [
       "<IPython.core.display.Markdown object>"
      ]
     },
     "metadata": {},
     "output_type": "display_data"
    },
    {
     "data": {
      "text/markdown": [
       "- **2024-11-04 20:32:02.292197** Time Lost: 0.0; Time Lost Type: fault;\n",
       "    - components: ['MainTel']\n",
       "    - primary_software_components: ['None']\n",
       "    - primary_hardware_components: ['None']\n",
       "\n",
       "<pre style='color: black; background-color: white; font-size: 1em; margin-left: 0px; '>Starting the Hard point Breakaway test ....</pre>\n"
      ],
      "text/plain": [
       "<IPython.core.display.Markdown object>"
      ]
     },
     "metadata": {},
     "output_type": "display_data"
    },
    {
     "data": {
      "text/markdown": [
       "- **2024-11-04 20:26:05.148503** Time Lost: 0.0; Time Lost Type: fault;\n",
       "    - components: ['MainTel']\n",
       "    - primary_software_components: ['None']\n",
       "    - primary_hardware_components: ['None']\n",
       "\n",
       "<pre style='color: black; background-color: white; font-size: 1em; margin-left: 0px; '>DAA FA 330 failed the Bump Test \r\n",
       "\r\n",
       "\r\n",
       "-----------------\r\n",
       "\r\n",
       "\r\n",
       "Actuators [330] FAILED the bump test.\r\n",
       "\r\n",
       "\r\n",
       "SAA (Single Actuator Axes) Failures:\r\n",
       "  None\r\n",
       "DAA (Dual Actuator Axes) Failures:\r\n",
       "  - Actuator ID 330: Sec Index 80</pre>\n"
      ],
      "text/plain": [
       "<IPython.core.display.Markdown object>"
      ]
     },
     "metadata": {},
     "output_type": "display_data"
    },
    {
     "data": {
      "text/markdown": [
       "- **2024-11-04 18:57:01.046579** Time Lost: 0.0; Time Lost Type: fault;\n",
       "    - components: ['MainTel']\n",
       "    - primary_software_components: ['None']\n",
       "    - primary_hardware_components: ['None']\n",
       "\n",
       "<pre style='color: black; background-color: white; font-size: 1em; margin-left: 0px; '>Tiago says that more the DDS it is that dome takes &gt;30s to ack commands. Its not sending IN_PROGRESS ack</pre>\n"
      ],
      "text/plain": [
       "<IPython.core.display.Markdown object>"
      ]
     },
     "metadata": {},
     "output_type": "display_data"
    },
    {
     "data": {
      "text/markdown": [
       "- **2024-11-04 18:48:53.282322** Time Lost: 0.0; Time Lost Type: fault;\n",
       "    - components: ['MainTel']\n",
       "    - primary_software_components: ['None']\n",
       "    - primary_hardware_components: ['None']\n",
       "\n",
       "<pre style='color: black; background-color: white; font-size: 1em; margin-left: 0px; '>Possible issue with DDS :/</pre>\n"
      ],
      "text/plain": [
       "<IPython.core.display.Markdown object>"
      ]
     },
     "metadata": {},
     "output_type": "display_data"
    },
    {
     "data": {
      "text/markdown": [
       "- **2024-11-04 18:47:42.101874** Time Lost: 0.0; Time Lost Type: fault;\n",
       "    - components: ['MainTel']\n",
       "    - primary_software_components: ['None']\n",
       "    - primary_hardware_components: ['None']\n",
       "\n",
       "<pre style='color: black; background-color: white; font-size: 1em; margin-left: 0px; '>HP is going to exercise the Dome a bit and move it back to 328</pre>\n"
      ],
      "text/plain": [
       "<IPython.core.display.Markdown object>"
      ]
     },
     "metadata": {},
     "output_type": "display_data"
    },
    {
     "data": {
      "text/markdown": [
       "- **2024-11-04 18:47:07.079416** Time Lost: 0.0; Time Lost Type: fault;\n",
       "    - components: ['MainTel']\n",
       "    - primary_software_components: ['None']\n",
       "    - primary_hardware_components: ['None']\n",
       "\n",
       "<pre style='color: black; background-color: white; font-size: 1em; margin-left: 0px; '>So run command timed out but the Dome moved to the commanded position with a delay --- its now at AZ=300</pre>\n"
      ],
      "text/plain": [
       "<IPython.core.display.Markdown object>"
      ]
     },
     "metadata": {},
     "output_type": "display_data"
    },
    {
     "data": {
      "text/markdown": [
       "- **2024-11-04 18:43:23.747738** Time Lost: 0.0; Time Lost Type: fault;\n",
       "    - components: ['MainTel']\n",
       "    - primary_software_components: ['None']\n",
       "    - primary_hardware_components: ['None']\n",
       "\n",
       "<pre style='color: black; background-color: white; font-size: 1em; margin-left: 0px; '>HP is cycling the MTDome to STANDBY--&gt; DISABLE ...... That seemed to have worked in atleast giving us Telemtry</pre>\n"
      ],
      "text/plain": [
       "<IPython.core.display.Markdown object>"
      ]
     },
     "metadata": {},
     "output_type": "display_data"
    },
    {
     "data": {
      "text/markdown": [
       "- **2024-11-04 18:41:56.486313** Time Lost: 0.0; Time Lost Type: fault;\n",
       "    - components: ['MainTel']\n",
       "    - primary_software_components: ['None']\n",
       "    - primary_hardware_components: ['None']\n",
       "\n",
       "<pre style='color: black; background-color: white; font-size: 1em; margin-left: 0px; '>Wouter looked into it and reports cRIO is not sending Telemetry at all even though the cRIO is connected to the CSC</pre>\n"
      ],
      "text/plain": [
       "<IPython.core.display.Markdown object>"
      ]
     },
     "metadata": {},
     "output_type": "display_data"
    },
    {
     "data": {
      "text/markdown": [
       "- **2024-11-04 18:37:25.310484** Time Lost: 0.0; Time Lost Type: fault;\n",
       "    - components: ['MainTel']\n",
       "    - primary_software_components: ['None']\n",
       "    - primary_hardware_components: ['None']\n",
       "\n",
       "<pre style='color: black; background-color: white; font-size: 1em; margin-left: 0px; '>Seems like dome has stopped sending Telelmtry since 3:14 pm CLT --- its ENABLED and in process of Handover. HP reports from L7 that she can see the dome physically moving when sent tp Az=300 through a run command. But no telemetry is flowing into EFD</pre>\n"
      ],
      "text/plain": [
       "<IPython.core.display.Markdown object>"
      ]
     },
     "metadata": {},
     "output_type": "display_data"
    },
    {
     "data": {
      "text/markdown": [
       "- **2024-11-04 18:23:35.452339** Time Lost: 0.0; Time Lost Type: fault;\n",
       "    - components: ['MainTel']\n",
       "    - primary_software_components: ['None']\n",
       "    - primary_hardware_components: ['None']\n",
       "\n",
       "<pre style='color: black; background-color: white; font-size: 1em; margin-left: 0px; '>TMA Handed over and OSS is ON. HP is on L7 doing Dome handover</pre>\n"
      ],
      "text/plain": [
       "<IPython.core.display.Markdown object>"
      ]
     },
     "metadata": {},
     "output_type": "display_data"
    },
    {
     "data": {
      "text/markdown": [
       "- **2024-11-04 17:25:12.176200** Time Lost: 0.0; Time Lost Type: fault;\n",
       "    - components: ['MainTel']\n",
       "    - primary_software_components: ['None']\n",
       "    - primary_hardware_components: ['None']\n",
       "\n",
       "<pre style='color: black; background-color: white; font-size: 1em; margin-left: 0px; '>Both HEXs back to DISABLED</pre>\n"
      ],
      "text/plain": [
       "<IPython.core.display.Markdown object>"
      ]
     },
     "metadata": {},
     "output_type": "display_data"
    },
    {
     "data": {
      "text/markdown": [
       "- **2024-11-04 16:59:52.799013** Time Lost: 0.0; Time Lost Type: fault;\n",
       "    - components: ['MainTel']\n",
       "    - primary_software_components: ['None']\n",
       "    - primary_hardware_components: ['None']\n",
       "\n",
       "<pre style='color: black; background-color: white; font-size: 1em; margin-left: 0px; '>position in x reached a max 6500 um as well for M2Hex</pre>\n"
      ],
      "text/plain": [
       "<IPython.core.display.Markdown object>"
      ]
     },
     "metadata": {},
     "output_type": "display_data"
    },
    {
     "data": {
      "text/markdown": [
       "- **2024-11-04 16:41:18.568916** Time Lost: 0.0; Time Lost Type: fault;\n",
       "    - components: ['MainTel']\n",
       "    - primary_software_components: ['None']\n",
       "    - primary_hardware_components: ['None']\n",
       "\n",
       "<pre style='color: black; background-color: white; font-size: 1em; margin-left: 0px; '>So the Block description says that each of the axes x-y will reach a max of 4500 um for M2Hex but I notice that the position in y reached max 6500 um.</pre>\n"
      ],
      "text/plain": [
       "<IPython.core.display.Markdown object>"
      ]
     },
     "metadata": {},
     "output_type": "display_data"
    },
    {
     "data": {
      "text/markdown": [
       "- **2024-11-04 16:34:07.856570** Time Lost: 0.0; Time Lost Type: fault;\n",
       "    - components: ['MainTel']\n",
       "    - primary_software_components: ['None']\n",
       "    - primary_hardware_components: ['None']\n",
       "\n",
       "<pre style='color: black; background-color: white; font-size: 1em; margin-left: 0px; '>M2Hex exercising in y-axis !</pre>\n"
      ],
      "text/plain": [
       "<IPython.core.display.Markdown object>"
      ]
     },
     "metadata": {},
     "output_type": "display_data"
    },
    {
     "data": {
      "text/markdown": [
       "- **2024-11-04 16:24:02.092631** Time Lost: 0.0; Time Lost Type: fault;\n",
       "    - components: ['MainTel']\n",
       "    - primary_software_components: ['None']\n",
       "    - primary_hardware_components: ['None']\n",
       "\n",
       "<pre style='color: black; background-color: white; font-size: 1em; margin-left: 0px; '>M2Hex ENABLED and in between warm-ups</pre>\n"
      ],
      "text/plain": [
       "<IPython.core.display.Markdown object>"
      ]
     },
     "metadata": {},
     "output_type": "display_data"
    },
    {
     "data": {
      "text/markdown": [
       "- **2024-11-04 16:21:50.310134** Time Lost: 0.0; Time Lost Type: fault;\n",
       "    - components: ['MainTel']\n",
       "    - primary_software_components: ['None']\n",
       "    - primary_hardware_components: ['None']\n",
       "\n",
       "<pre style='color: black; background-color: white; font-size: 1em; margin-left: 0px; '>CamHexapod ENABLED and in between warm-ups \r\n",
       "M2Hex in DISABLED-- but Bruno has updated the warm-up script so that will be done next</pre>\n"
      ],
      "text/plain": [
       "<IPython.core.display.Markdown object>"
      ]
     },
     "metadata": {},
     "output_type": "display_data"
    }
   ],
   "source": [
    "# Narrative Report\n",
    "# Time Log\n",
    "allrep.nar_rep.time_log_as_markdown()"
   ]
  },
  {
   "cell_type": "markdown",
   "id": "27",
   "metadata": {},
   "source": [
    "-----------\n",
    "------------"
   ]
  },
  {
   "cell_type": "markdown",
   "id": "cd0567ce-4ae9-428e-8f9d-df8277511392",
   "metadata": {},
   "source": [
    "# Developer Only Section <font style=\"background-color:red; olor:black; font-size:20px\"> REMOVE</font>\n",
    "Contains stuff only expected to be useful to developers.\n",
    "\n",
    "This may also contain sections that have moved out of the user section because they are no longer defined in the Storyboard."
   ]
  },
  {
   "cell_type": "markdown",
   "id": "34",
   "metadata": {},
   "source": [
    "## Overview \n"
   ]
  },
  {
   "cell_type": "code",
   "execution_count": 17,
   "id": "6e220d29-aac6-4d70-80e2-7dd3ef99944c",
   "metadata": {
    "jupyter": {
     "source_hidden": true
    }
   },
   "outputs": [
    {
     "data": {
      "text/markdown": [
       "## Project-Wide Night(s) Report \n",
       "- Run on logs and databases from **https://usdf-rsp-dev.slac.stanford.edu/**\n",
       "- Report **1 observing night(s)** with the last reported night starting on **2024-11-04 12:00:00**.\n",
       "- min_dayobs='2024-11-04', max_dayobs='2024-11-05'\n",
       "- Using ***Prototype* Logging and Reporting** Version: **0.1.dev145+gf2a5765.d20241014**\n",
       "- have_consdb = True\n",
       "- Imported lsst.ts.logging_and_reporting from local packages.\n"
      ],
      "text/plain": [
       "<IPython.core.display.Markdown object>"
      ]
     },
     "metadata": {},
     "output_type": "display_data"
    }
   ],
   "source": [
    "# Display overview of Report context\n",
    "try:\n",
    "    import lsst.ts.logging_and_reporting.version\n",
    "\n",
    "    lrversion = lsst.ts.logging_and_reporting.version.__version__\n",
    "except:\n",
    "    lrversion = \"LIVE\"\n",
    "\n",
    "try:\n",
    "    from lsst.summit.utils import ConsDbClient\n",
    "\n",
    "    have_consdb = True\n",
    "except:\n",
    "    have_consdb = False\n",
    "md(\n",
    "    f\"\"\"## Project-Wide Night(s) Report \n",
    "- Run on logs and databases from **{server}/**\n",
    "- Report **{days} observing night(s)** with the last reported night starting on **{date}**.\n",
    "- min_dayobs={allsrc.min_dayobs!r}, max_dayobs={allsrc.max_dayobs!r}\n",
    "- Using ***Prototype* Logging and Reporting** Version: **{lrversion}**\n",
    "- {have_consdb = }\n",
    "- {dev_msg}\n",
    "\"\"\")"
   ]
  },
  {
   "cell_type": "markdown",
   "id": "47ef40d3-f6d4-4b6a-80bf-55a613d3f884",
   "metadata": {},
   "source": [
    "## Data Status\n",
    "This may be useful for diagnosing reports that give unexpected results."
   ]
  },
  {
   "cell_type": "code",
   "execution_count": 18,
   "id": "b076e98a-44a2-437c-9342-a180fe2cd829",
   "metadata": {},
   "outputs": [
    {
     "data": {
      "text/html": [
       "<table border=\"1\" class=\"dataframe\">\n",
       "  <thead>\n",
       "    <tr style=\"text-align: right;\">\n",
       "      <th>Endpoint</th>\n",
       "      <th>Records</th>\n",
       "      <th>URL</th>\n",
       "    </tr>\n",
       "  </thead>\n",
       "  <tbody>\n",
       "    <tr>\n",
       "      <td>nightreport/reports</td>\n",
       "      <td>2</td>\n",
       "      <td><a href=\"https://usdf-rsp-dev.slac.stanford.edu/nightreport/reports?is_human=either&is_valid=true&order_by=-day_obs&offset=0&limit=100&min_day_obs=20241104&max_day_obs=20241105\" target=\"_blank\">https://usdf-rsp-dev.slac.stanford.edu/nightreport/reports?is_human=either&is_valid=true&order_by=-day_obs&offset=0&limit=100&min_day_obs=20241104&max_day_obs=20241105</a></td>\n",
       "    </tr>\n",
       "    <tr>\n",
       "      <td>exposurelog/instruments</td>\n",
       "      <td>3</td>\n",
       "      <td><a href=\"https://usdf-rsp-dev.slac.stanford.edu/exposurelog/instruments\" target=\"_blank\">https://usdf-rsp-dev.slac.stanford.edu/exposurelog/instruments</a></td>\n",
       "    </tr>\n",
       "    <tr>\n",
       "      <td>exposurelog/exposures.LSSTComCamSim</td>\n",
       "      <td>0</td>\n",
       "      <td><a href=\"https://usdf-rsp-dev.slac.stanford.edu/exposurelog/exposures?registry=1&instrument=LSSTComCamSim&order_by=-timespan_end&offset=0&limit=2500&min_day_obs=20241104&max_day_obs=20241105\" target=\"_blank\">https://usdf-rsp-dev.slac.stanford.edu/exposurelog/exposures?registry=1&instrument=LSSTComCamSim&order_by=-timespan_end&offset=0&limit=2500&min_day_obs=20241104&max_day_obs=20241105</a></td>\n",
       "    </tr>\n",
       "    <tr>\n",
       "      <td>exposurelog/exposures.LATISS</td>\n",
       "      <td>0</td>\n",
       "      <td><a href=\"https://usdf-rsp-dev.slac.stanford.edu/exposurelog/exposures?registry=1&instrument=LATISS&order_by=-timespan_end&offset=0&limit=2500&min_day_obs=20241104&max_day_obs=20241105\" target=\"_blank\">https://usdf-rsp-dev.slac.stanford.edu/exposurelog/exposures?registry=1&instrument=LATISS&order_by=-timespan_end&offset=0&limit=2500&min_day_obs=20241104&max_day_obs=20241105</a></td>\n",
       "    </tr>\n",
       "    <tr>\n",
       "      <td>exposurelog/exposures.LSSTComCam</td>\n",
       "      <td>174</td>\n",
       "      <td><a href=\"https://usdf-rsp-dev.slac.stanford.edu/exposurelog/exposures?registry=1&instrument=LSSTComCam&order_by=-timespan_end&offset=0&limit=2500&min_day_obs=20241104&max_day_obs=20241105\" target=\"_blank\">https://usdf-rsp-dev.slac.stanford.edu/exposurelog/exposures?registry=1&instrument=LSSTComCam&order_by=-timespan_end&offset=0&limit=2500&min_day_obs=20241104&max_day_obs=20241105</a></td>\n",
       "    </tr>\n",
       "    <tr>\n",
       "      <td>exposurelog/exposures.LSSTCam</td>\n",
       "      <td>1231</td>\n",
       "      <td><a href=\"https://usdf-rsp-dev.slac.stanford.edu/exposurelog/exposures?registry=1&instrument=LSSTCam&order_by=-timespan_end&offset=0&limit=2500&min_day_obs=20241104&max_day_obs=20241105\" target=\"_blank\">https://usdf-rsp-dev.slac.stanford.edu/exposurelog/exposures?registry=1&instrument=LSSTCam&order_by=-timespan_end&offset=0&limit=2500&min_day_obs=20241104&max_day_obs=20241105</a></td>\n",
       "    </tr>\n",
       "    <tr>\n",
       "      <td>exposurelog/messages</td>\n",
       "      <td>9</td>\n",
       "      <td><a href=\"https://usdf-rsp-dev.slac.stanford.edu/exposurelog/messages?is_human=either&is_valid=true&order_by=-day_obs&offset=0&limit=2500&min_day_obs=20241104&max_day_obs=20241105\" target=\"_blank\">https://usdf-rsp-dev.slac.stanford.edu/exposurelog/messages?is_human=either&is_valid=true&order_by=-day_obs&offset=0&limit=2500&min_day_obs=20241104&max_day_obs=20241105</a></td>\n",
       "    </tr>\n",
       "    <tr>\n",
       "      <td>narrativelog/messages</td>\n",
       "      <td>52</td>\n",
       "      <td><a href=\"https://usdf-rsp-dev.slac.stanford.edu/narrativelog/messages?is_human=either&is_valid=true&order_by=-date_added&offset=0&limit=1000&min_date_added=2024-11-04T00%3A00%3A00&max_date_added=2024-11-05T00%3A00%3A00\" target=\"_blank\">https://usdf-rsp-dev.slac.stanford.edu/narrativelog/messages?is_human=either&is_valid=true&order_by=-date_added&offset=0&limit=1000&min_date_added=2024-11-04T00%3A00%3A00&max_date_added=2024-11-05T00%3A00%3A00</a></td>\n",
       "    </tr>\n",
       "    <tr>\n",
       "      <td>efd/targets</td>\n",
       "      <td>0</td>\n",
       "      <td>NA</td>\n",
       "    </tr>\n",
       "  </tbody>\n",
       "</table>"
      ],
      "text/plain": [
       "<IPython.core.display.HTML object>"
      ]
     },
     "metadata": {},
     "output_type": "display_data"
    }
   ],
   "source": [
    "df = pd.DataFrame(allsrc.get_data_status())\n",
    "table = df.to_html(\n",
    "    index=False, \n",
    "    render_links=True,\n",
    "    escape=False)\n",
    "display(HTML(table))"
   ]
  },
  {
   "cell_type": "markdown",
   "id": "37",
   "metadata": {},
   "source": [
    "## This report uses the following data sources\n",
    "- NightReport\n",
    "- Exposurelog\n",
    "- Narrativelog\n",
    "- EFD\n",
    "- ConsDB\n",
    "- (DDV)\n",
    "- (Almanac from Astroplan)"
   ]
  },
  {
   "cell_type": "markdown",
   "id": "38",
   "metadata": {},
   "source": [
    "## DDV "
   ]
  },
  {
   "cell_type": "code",
   "execution_count": 19,
   "id": "39",
   "metadata": {
    "jupyter": {
     "source_hidden": true
    }
   },
   "outputs": [
    {
     "data": {
      "text/markdown": [
       "Access DDV part of RubinTV: https://usdf-rsp-dev.slac.stanford.edu/rubintv/ddv/index.html"
      ],
      "text/plain": [
       "<IPython.core.display.Markdown object>"
      ]
     },
     "metadata": {},
     "output_type": "display_data"
    }
   ],
   "source": [
    "DDV = (\n",
    "    f\"{server}/rubintv-dev/ddv/index.html\"\n",
    "    if \"summit\" in server\n",
    "    else f\"{server}/rubintv/ddv/index.html\"\n",
    ")\n",
    "md(f\"Access DDV part of RubinTV: {DDV}\")"
   ]
  },
  {
   "cell_type": "markdown",
   "id": "40",
   "metadata": {},
   "source": [
    "## Where was this run?\n",
    "\n",
    "The environments that have everything needed to run this page are:\n",
    "\n",
    "    https://summit-lsp.lsst.codes\n",
    "    https://usdf-rsp-dev.slac.stanford.edu\n",
    "\n",
    "However, Times Square does not run on the Summit. It does run on USDF-dev.\n"
   ]
  },
  {
   "cell_type": "markdown",
   "id": "41",
   "metadata": {},
   "source": [
    "## Section overviews moved here"
   ]
  },
  {
   "cell_type": "code",
   "execution_count": 20,
   "id": "42",
   "metadata": {},
   "outputs": [
    {
     "data": {
      "text/markdown": [
       "### Overview for Service: `nightreport` [2]"
      ],
      "text/plain": [
       "<IPython.core.display.Markdown object>"
      ]
     },
     "metadata": {},
     "output_type": "display_data"
    },
    {
     "name": "stdout",
     "output_type": "stream",
     "text": [
      "None\n"
     ]
    },
    {
     "data": {
      "text/markdown": [
       "- Endpoint: https://usdf-rsp-dev.slac.stanford.edu/nightreport/reports?is_human=either&is_valid=true&order_by=-day_obs&offset=0&limit=100&min_day_obs=20241104&max_day_obs=20241105"
      ],
      "text/plain": [
       "<IPython.core.display.Markdown object>"
      ]
     },
     "metadata": {},
     "output_type": "display_data"
    },
    {
     "name": "stdout",
     "output_type": "stream",
     "text": [
      "None\n",
      "- Got 2 records.  \n"
     ]
    },
    {
     "data": {
      "text/markdown": [
       "### Overview for Service: `exposurelog` [9]"
      ],
      "text/plain": [
       "<IPython.core.display.Markdown object>"
      ]
     },
     "metadata": {},
     "output_type": "display_data"
    },
    {
     "name": "stdout",
     "output_type": "stream",
     "text": [
      "None\n"
     ]
    },
    {
     "data": {
      "text/markdown": [
       "- Endpoint: https://usdf-rsp-dev.slac.stanford.edu/exposurelog/messages?is_human=either&is_valid=true&order_by=-day_obs&offset=0&limit=2500&min_day_obs=20241104&max_day_obs=20241105"
      ],
      "text/plain": [
       "<IPython.core.display.Markdown object>"
      ]
     },
     "metadata": {},
     "output_type": "display_data"
    },
    {
     "name": "stdout",
     "output_type": "stream",
     "text": [
      "None\n",
      "- Got 9 records.  \n"
     ]
    },
    {
     "data": {
      "text/markdown": [
       "### Overview for Service: `narrativelog` [52]"
      ],
      "text/plain": [
       "<IPython.core.display.Markdown object>"
      ]
     },
     "metadata": {},
     "output_type": "display_data"
    },
    {
     "name": "stdout",
     "output_type": "stream",
     "text": [
      "None\n"
     ]
    },
    {
     "data": {
      "text/markdown": [
       "- Endpoint: https://usdf-rsp-dev.slac.stanford.edu/narrativelog/messages?is_human=either&is_valid=true&order_by=-date_added&offset=0&limit=1000&min_date_added=2024-11-04T00%3A00%3A00&max_date_added=2024-11-05T00%3A00%3A00"
      ],
      "text/plain": [
       "<IPython.core.display.Markdown object>"
      ]
     },
     "metadata": {},
     "output_type": "display_data"
    },
    {
     "name": "stdout",
     "output_type": "stream",
     "text": [
      "None\n",
      "- Got 52 records.  \n"
     ]
    }
   ],
   "source": [
    "# Night Report Overview\n",
    "allrep.nig_rep.overview()\n",
    "# Exposure Report Overview\n",
    "allrep.exp_rep.overview()\n",
    "# Narrative Report Overview\n",
    "allrep.nar_rep.overview()"
   ]
  },
  {
   "cell_type": "code",
   "execution_count": 21,
   "id": "43",
   "metadata": {},
   "outputs": [],
   "source": [
    "# Conditionally display our current ability to connect to all needed endpoints.\n",
    "if False and not os.environ.get(\"EXTERNAL_INSTANCE_URL\"):\n",
    "    md(\"## Dashboard\")\n",
    "    md(\"(This is not done when running under Times Square.)\")\n",
    "    %run ./dashboard.ipynb"
   ]
  },
  {
   "cell_type": "markdown",
   "id": "44",
   "metadata": {},
   "source": [
    "## Finale"
   ]
  },
  {
   "cell_type": "code",
   "execution_count": 22,
   "id": "45",
   "metadata": {
    "jupyter": {
     "source_hidden": true
    }
   },
   "outputs": [
    {
     "name": "stdout",
     "output_type": "stream",
     "text": [
      "Finished 2024-11-05 18:12:51.252863\n"
     ]
    }
   ],
   "source": [
    "print(f\"Finished {str(dt.datetime.now())}\")"
   ]
  }
 ],
 "metadata": {
  "kernelspec": {
   "display_name": "Python 3 (ipykernel)",
   "language": "python",
   "name": "python3"
  },
  "language_info": {
   "codemirror_mode": {
    "name": "ipython",
    "version": 3
   },
   "file_extension": ".py",
   "mimetype": "text/x-python",
   "name": "python",
   "nbconvert_exporter": "python",
   "pygments_lexer": "ipython3",
   "version": "3.11.9"
  }
 },
 "nbformat": 4,
 "nbformat_minor": 5
}
