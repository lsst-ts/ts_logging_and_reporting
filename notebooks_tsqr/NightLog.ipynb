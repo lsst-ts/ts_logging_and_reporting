{
 "cells": [
  {
   "cell_type": "markdown",
   "id": "0",
   "metadata": {},
   "source": [
    "# About This Page\n",
    "The __goal of this page__ is to provide users the ability to quickly see \n",
    "_\"a summary of what happened on the dome during the previous night\"_. See [MORE About this page](#More-about-this-page)\n",
    "## What has been added recently?\n",
    "- a little face lift.  Data sources. Internal cross linking.\n",
    "- See also: [Previously added](#Previously-Added)"
   ]
  },
  {
   "cell_type": "code",
   "execution_count": null,
   "id": "1",
   "metadata": {},
   "outputs": [],
   "source": [
    "# Parameters.\n",
    "# Times Square replaces this cell with the user's parameters.\n",
    "# So, don't put anything else here!\n",
    "\n",
    "# day_obs values: TODAY, v, YYYY-MM-DD\n",
    "# Report on observing nights that start upto but not included this day.\n",
    "# day_obs = '2024-09-25' # 2024-12-06 2024-11-20 Value to use for local testing (Summit)\n",
    "# 2024-11-30\n",
    "# ComCam on-sky campaign: 24 October to 11 December 2024\n",
    "# 2024-11-30: Exposures(372,2013) time: 9:18:47 + 1:49:23\n",
    "# 2024-12-01: Exposures(510,1401) time: 5:42:08 + 2:32:42, has Good      <<<\n",
    "# 2024-12-02: Exposures(738) time: 3:02:05, + LSSTComCam(423)\n",
    "# 2024-12-07: Exposures(612) time: 3:13:06\n",
    "# 2024-12-08: Exposures(738) time: 2:40:54\n",
    "# 2024-12-10: Exposures(614) time: 2:45:17, has Good\n",
    "# 2024-12-11: Exposures(612) time: 2:15:08\n",
    "day_obs = \"2024-12-02\"  # TODO Change to 'YESTERDAY' and 'TODAY' to test with default before push\n",
    "# Total number of days of data to display (ending on day_obs)\n",
    "number_of_days = \"1\"  # TODO Change to '1' to test with default before push\n",
    "period = \"2h\"  # TODO change to 4h before push\n",
    "verbose = \"false\"  # TODO change to false before push, else true\n",
    "warning = \"false\"  # TODO change to false before push, else true"
   ]
  },
  {
   "cell_type": "code",
   "execution_count": null,
   "id": "2",
   "metadata": {},
   "outputs": [],
   "source": [
    "# IMPORT everything\n",
    "import datetime as dt\n",
    "import os\n",
    "from collections import defaultdict\n",
    "from pprint import pformat, pp\n",
    "from urllib.parse import urlencode, urlparse\n",
    "import pandas as pd\n",
    "from IPython.display import HTML\n",
    "\n",
    "# When running under Times Square, install pkg from github.\n",
    "# Otherwise use what is installed locally (intended to be dev editiable pkg)\n",
    "if os.environ.get(\"EXTERNAL_INSTANCE_URL\"):\n",
    "    DEV_ENV = False\n",
    "    dev_msg = (\n",
    "        'Installing \"lsst.ts.logging_and_reporting\" from github using \"prototype\" branch. \\n'\n",
    "        \"TODO: Make the need for this go away by getting Logging_and_Reporting installed in RSP.\"\n",
    "    )\n",
    "    !pip install --upgrade git+https://github.com/lsst-ts/ts_logging_and_reporting.git@prototype > /dev/null 2>&1\n",
    "else:\n",
    "    DEV_ENV = True\n",
    "    dev_msg = \"Imported lsst.ts.logging_and_reporting from local packages.\"\n",
    "from lsst.ts.logging_and_reporting.all_sources import AllSources\n",
    "from lsst.ts.logging_and_reporting.all_reports import AllReports\n",
    "import lsst.ts.logging_and_reporting.utils as ut\n",
    "import lsst.ts.logging_and_reporting.time_logs as tl\n",
    "from lsst.ts.logging_and_reporting.reports import md, mdlist, mdpathlink, mdlink\n",
    "from lsst.ts.logging_and_reporting.reports import html_draft, html_beta"
   ]
  },
  {
   "cell_type": "code",
   "execution_count": null,
   "id": "3",
   "metadata": {},
   "outputs": [],
   "source": [
    "# Set default env to \"usdf\" and try before PUSH to repo.\n",
    "# The default provided here is for local testing. Under Times Square it is ignored.\n",
    "server = os.environ.get(\n",
    "    \"EXTERNAL_INSTANCE_URL\", ut.Server.usdf\n",
    ")  # TODO try with \"usdf\" before push (also \"summit\")"
   ]
  },
  {
   "cell_type": "code",
   "execution_count": null,
   "id": "4",
   "metadata": {},
   "outputs": [],
   "source": [
    "# Validate parameters, return usable ones\n",
    "usable, error = ut.fallback_parameters(\n",
    "    day_obs, number_of_days, period, verbose, warning\n",
    ")\n",
    "if error:\n",
    "    print(error)\n",
    "\n",
    "date = ut.get_datetime_from_dayobs_str(usable[\"day_obs\"])\n",
    "# date:  is EXCLUSIVE (upto, but not including)\n",
    "days = usable[\"number_of_days\"]\n",
    "period = usable[\"period\"]\n",
    "verbose = usable[\"verbose\"]\n",
    "warning = usable[\"warning\"]\n",
    "\n",
    "# Thus: [min_day_obs,max_day_obs)\n",
    "# Format: string, YYYY-MM-DD\n",
    "min_date = date - dt.timedelta(days=days - 1)\n",
    "max_date = date + dt.timedelta(days=1)\n",
    "min_day_obs = min_date.strftime(\"%Y-%m-%d\")  # Inclusive\n",
    "max_day_obs = max_date.strftime(\"%Y-%m-%d\")  # prep for Exclusive"
   ]
  },
  {
   "cell_type": "code",
   "execution_count": null,
   "id": "5",
   "metadata": {},
   "outputs": [],
   "source": [
    "# Read records from (almost) all sources\n",
    "timer = ut.Timer()\n",
    "allsrc = AllSources(\n",
    "    server_url=server,\n",
    "    min_dayobs=min_day_obs,\n",
    "    max_dayobs=max_day_obs,\n",
    "    verbose=verbose,\n",
    "    warning=warning,\n",
    "    limit=5000,\n",
    "    exclude_instruments=[],  # TODO change to empty list before push\n",
    ")\n",
    "allrep = AllReports(allsrc=allsrc)"
   ]
  },
  {
   "cell_type": "code",
   "execution_count": null,
   "id": "6",
   "metadata": {},
   "outputs": [],
   "source": [
    "instrum_str = \", \".join(list(allsrc.exp_src.instruments.keys()))\n",
    "tlist = list()\n",
    "tlist.append(f\"## Showing data for {min_date.date()} to {max_date.date()}\")\n",
    "tlist.append(f\"- **Instruments:** {instrum_str}\")\n",
    "tlist.append(f\"- **Server:** {server}\")\n",
    "tlist.append(\n",
    "    f'- Most recently run on: **{dt.datetime.now().replace(microsecond=0).isoformat(sep=\" \")}**'\n",
    ")\n",
    "md(\"\\n\".join(tlist))"
   ]
  },
  {
   "cell_type": "markdown",
   "id": "7",
   "metadata": {},
   "source": [
    "# Table of Contents\n",
    "* [About This Page](#About-This-Page)\n",
    "* [Almanac (BETA)](#Almanac-BETA)\n",
    "* [Night Report (BETA)](#Night-Report-BETA)\n",
    "    - AuxTel\n",
    "    - Simonyi\n",
    "* [Links to related resources (BETA)](#Links-to-related-resources-BETA)\n",
    "* [Time Accounting (DRAFT)](#Time-Accounting-BETA)\n",
    "* [Jira Tickets (BETA)](#Jira-Tickets-BETA)\n",
    "    - AuxTel\n",
    "    - Simonyi\n",
    "* [Data Log (BETA)](#Data-Log-BETA)\n",
    "* [Narrative Log (BETA)](#Narrative-Log-BETA)\n",
    "* [Developer Only Section (REMOVE)](#Developer-Only-Section-REMOVE)\n",
    "* [More about this page](#More-about-this-page)"
   ]
  },
  {
   "cell_type": "markdown",
   "id": "8",
   "metadata": {},
   "source": [
    "## Almanac <font style=\"background-color:green; color:white; font-size:20px\">BETA</font> "
   ]
  },
  {
   "cell_type": "code",
   "execution_count": null,
   "id": "9",
   "metadata": {},
   "outputs": [],
   "source": [
    "display(allsrc.alm_src.dataframe)\n",
    "md(f\"Moon Illumination: {allsrc.alm_src.moon_illum:.0%}\")"
   ]
  },
  {
   "cell_type": "markdown",
   "id": "10",
   "metadata": {},
   "source": [
    "#### Sources Used"
   ]
  },
  {
   "cell_type": "code",
   "execution_count": null,
   "id": "11",
   "metadata": {
    "jupyter": {
     "source_hidden": true
    }
   },
   "outputs": [],
   "source": [
    "for name, url in allsrc.alm_src.sources.items():\n",
    "    md(f\"1. [{name}]({url})\")"
   ]
  },
  {
   "cell_type": "markdown",
   "id": "12",
   "metadata": {},
   "source": [
    "## Night Report <font style=\"background-color:green; color:white; font-size:20px\">BETA</font> "
   ]
  },
  {
   "cell_type": "code",
   "execution_count": null,
   "id": "13",
   "metadata": {},
   "outputs": [],
   "source": [
    "commissioning_plan = \"https://rubinobs.atlassian.net/projects/BLOCK?selectedItem=com.atlassian.plugins.atlassian-connect-plugin:com.kanoah.test-manager__main-project-page#!/testCycle/BLOCK-R164\"\n",
    "md(\n",
    "    f\"\"\"\n",
    "Also see: {mdlink(commissioning_plan, \"2024-12-09 Commissioning Plan\")}\n",
    "*(we need a general way to refer to plan for the a specific night)*\n",
    "\"\"\"\n",
    ")"
   ]
  },
  {
   "cell_type": "code",
   "execution_count": null,
   "id": "14",
   "metadata": {
    "jupyter": {
     "source_hidden": true
    }
   },
   "outputs": [],
   "source": [
    "# Night Report\n",
    "# Display time log\n",
    "allrep.nig_rep.time_log_as_markdown()"
   ]
  },
  {
   "cell_type": "markdown",
   "id": "15",
   "metadata": {},
   "source": [
    "#### Sources Used"
   ]
  },
  {
   "cell_type": "code",
   "execution_count": null,
   "id": "16",
   "metadata": {
    "jupyter": {
     "source_hidden": true
    }
   },
   "outputs": [],
   "source": [
    "for name, url in allsrc.nig_src.sources.items():\n",
    "    md(f\"1. [{name}]({url})\")"
   ]
  },
  {
   "cell_type": "markdown",
   "id": "17",
   "metadata": {},
   "source": [
    "[BACK to the TOC](#Table-of-Contents)"
   ]
  },
  {
   "cell_type": "markdown",
   "id": "18",
   "metadata": {},
   "source": [
    "## Links to related resources <font style=\"background-color:green; color:white; font-size:20px\">BETA</font>\n",
    "These tools were created outside of the TSSW Logging and Reporting group.  For more information about any of these, please see the respective tool owner."
   ]
  },
  {
   "cell_type": "code",
   "execution_count": null,
   "id": "19",
   "metadata": {},
   "outputs": [],
   "source": [
    "DDV = (\n",
    "    f\"{server}/rubintv-dev/ddv/index.html\"\n",
    "    if \"summit\" in server\n",
    "    else f\"{server}/rubintv/ddv/index.html\"\n",
    ")\n",
    "\n",
    "nightsum_link_url = f\"{server}/times-square/github/lsst/schedview_notebooks/nightly/scheduler-nightsum?day_obs={min_date.date()}&visit_origin=lsstcomcam\"\n",
    "nightsum_link_string = f\"link to nightsum for day_obs = {min_date.date()}\"\n",
    "\n",
    "scriptqueue_url = f\"https://usdf-rsp-dev.slac.stanford.edu/times-square/github/lsst/schedview_notebooks/nightly/EvaluateScriptQueue?day_obs_min={min_date.date()}&day_obs_max={max_date.date()}&time_order=newest+first&show_salIndex=all&ts_hide_code=1\"\n",
    "\n",
    "md(\n",
    "    f\"\"\"\n",
    "#### DDV part of RubinTV\n",
    "  {mdlink(DDV, 'RubinTV Visualization')}\n",
    "\n",
    "#### Chronograf links\n",
    "{mdlink(f'{server}/chronograf','Chronograph main page on {server}')}\n",
    "\n",
    "#### Scheduler Analysis Nightly Summary\n",
    "{mdlink(nightsum_link_url, nightsum_link_string)}\n",
    "\n",
    "### Integrated Narrative Log + EFD\n",
    "{mdlink(scriptqueue_url, f'ScriptQueue Miner for {min_date.date()}')}\n",
    "\n",
    "\"\"\"\n",
    ")"
   ]
  },
  {
   "cell_type": "markdown",
   "id": "20",
   "metadata": {},
   "source": [
    "## Time Accounting <font style=\"background-color:green; color:white; font-size:20px\">BETA</font>\n",
    "TODO:\n",
    "- Time-loss for Fault and Weather  (very rarely in narrativelog/messages)"
   ]
  },
  {
   "cell_type": "code",
   "execution_count": null,
   "id": "21",
   "metadata": {},
   "outputs": [],
   "source": [
    "# Exposure Tally (v2)\n",
    "df, footnotes = allsrc.time_account()\n",
    "display(df)\n",
    "# display(footnotes)"
   ]
  },
  {
   "cell_type": "code",
   "execution_count": null,
   "id": "22",
   "metadata": {
    "jupyter": {
     "source_hidden": true
    }
   },
   "outputs": [],
   "source": [
    "mstr = \"\"\n",
    "for num, fn in footnotes.items():\n",
    "    mstr += f\"- ({num}) {fn}\\n\"\n",
    "md(mstr)"
   ]
  },
  {
   "cell_type": "code",
   "execution_count": null,
   "id": "23",
   "metadata": {
    "jupyter": {
     "source_hidden": true
    }
   },
   "outputs": [],
   "source": [
    "# Exposure Tally\n",
    "# tally = allsrc.night_tally_observation_gaps()\n",
    "# if tally:\n",
    "#    display(pd.DataFrame(tally))"
   ]
  },
  {
   "cell_type": "code",
   "execution_count": null,
   "id": "24",
   "metadata": {
    "jupyter": {
     "source_hidden": true
    }
   },
   "outputs": [],
   "source": [
    "# - (1) There is no practical way to get detector read-out time.  A value of 2.41 seconds per exposure is used.\n",
    "# - (2) There is currently no simple way to get slew times.  We SlewTime to find its way into the Consolidated Database #eventually."
   ]
  },
  {
   "cell_type": "markdown",
   "id": "25",
   "metadata": {},
   "source": [
    "#### Sources Used\n",
    "- Almanac\n",
    "- Exposure Log\n",
    "- Narraitve Log"
   ]
  },
  {
   "cell_type": "markdown",
   "id": "26",
   "metadata": {},
   "source": [
    "## Jira Tickets <font style=\"background-color:green; color:white; font-size:20px\">BETA</font> \n",
    "#### <font style=\"background-color:#ffff99\">Possible Changes</font>\n",
    "- [ ] Observing Operations - OBS\n",
    "- [ ] TODO: better tickets using Jira API to get selected fields (which) from tickets"
   ]
  },
  {
   "cell_type": "code",
   "execution_count": null,
   "id": "27",
   "metadata": {},
   "outputs": [],
   "source": [
    "if allsrc.urls:\n",
    "    text = \"\"\n",
    "    for url in allsrc.urls:\n",
    "        text += f\"- {mdpathlink(url)}\\n\"\n",
    "    md(text)"
   ]
  },
  {
   "cell_type": "code",
   "execution_count": null,
   "id": "28",
   "metadata": {},
   "outputs": [],
   "source": [
    "# Display Jira BLOCKS\n",
    "front = \"https://rubinobs.atlassian.net/projects/BLOCK?selectedItem=com.atlassian.plugins.atlassian-connect-plugin:com.kanoah.test-manager__main-project-page#!/\"\n",
    "tickets = allsrc.nig_src.nightly_tickets()\n",
    "\n",
    "if tickets:\n",
    "    mdstr = \"#### Nightly Jira BLOCKs -- Commisioning Plan\"\n",
    "    for day, url_list in tickets.items():\n",
    "        mdstr += f\"\\n - {day}\"\n",
    "        for ticket_url in url_list:\n",
    "            mdstr += f'\\n    - {mdlink(ticket_url, ticket_url.replace(front,\"\"))}'\n",
    "    md(mdstr)\n",
    "else:\n",
    "    endpoint_url = allsrc.nig_src.status[\"reports\"][\"endpoint_url\"]\n",
    "    md(\n",
    "        f\"No tickets found using: {mdlink(endpoint_url,'API Data')} in `confluence_url`.\"\n",
    "    )"
   ]
  },
  {
   "cell_type": "markdown",
   "id": "29",
   "metadata": {},
   "source": [
    "#### Sources Used\n",
    "- Almanac\n",
    "- Exposure Log\n",
    "- Narraitve Log"
   ]
  },
  {
   "cell_type": "markdown",
   "id": "30",
   "metadata": {},
   "source": [
    "[BACK to the TOC](#Table-of-Contents)"
   ]
  },
  {
   "cell_type": "markdown",
   "id": "31",
   "metadata": {},
   "source": [
    "## Data Log <font style=\"background-color:green; color:white; font-size:20px\">BETA</font>\n",
    "Count the number of exposures (tally) for each instrument. For instruments that have exposures, partition the tally by various attributes and the exposure quality flags."
   ]
  },
  {
   "cell_type": "code",
   "execution_count": null,
   "id": "32",
   "metadata": {
    "jupyter": {
     "source_hidden": true
    }
   },
   "outputs": [],
   "source": [
    "# Exposure Report\n",
    "for instrum in allsrc.exp_src.exposures.keys():\n",
    "    md(f\"#### {instrum}: {len(allsrc.exp_src.exposures[instrum])} total exposures\")\n",
    "    df_dict = allsrc.fields_count_exposure(instrum)\n",
    "    for field_name, df in df_dict.items():\n",
    "        if df.empty:\n",
    "            continue\n",
    "        #! md(\"##### \" + field_name.title().replace(\"_\", \" \"))\n",
    "        display(HTML(df.style.hide().to_html(escape=False)))"
   ]
  },
  {
   "cell_type": "markdown",
   "id": "33",
   "metadata": {},
   "source": [
    "#### Sources Used"
   ]
  },
  {
   "cell_type": "code",
   "execution_count": null,
   "id": "34",
   "metadata": {
    "jupyter": {
     "source_hidden": true
    }
   },
   "outputs": [],
   "source": [
    "for name, url in allsrc.exp_src.sources.items():\n",
    "    md(f\"1. [{name}]({url})\")"
   ]
  },
  {
   "cell_type": "markdown",
   "id": "35",
   "metadata": {},
   "source": [
    "[BACK to the TOC](#Table-of-Contents)"
   ]
  },
  {
   "cell_type": "markdown",
   "id": "36",
   "metadata": {},
   "source": [
    "## Narrative Log <font style=\"background-color:green; color:white; font-size:20px\">BETA</font> \n",
    "#### <font style=\"background-color:#ffff99\">Possible Changes</font>\n",
    "- [ ] Group messages by hour? Might be great when there many simple messages minutes apart. Less so when tracebacks are included.\n",
    "- [ ] Truncate text messages to N chars (ending with \"...\" as link if truncated, link goes to page with full message record including text and all attributes)\n",
    "- [ ] Detect some kinds of \"blocks\" and render in smaller text (+ other format changes)"
   ]
  },
  {
   "cell_type": "code",
   "execution_count": null,
   "id": "37",
   "metadata": {
    "jupyter": {
     "source_hidden": true
    }
   },
   "outputs": [],
   "source": [
    "allsrc.nar_src"
   ]
  },
  {
   "cell_type": "code",
   "execution_count": null,
   "id": "38",
   "metadata": {
    "editable": true,
    "jupyter": {
     "source_hidden": true
    },
    "slideshow": {
     "slide_type": ""
    },
    "tags": []
   },
   "outputs": [],
   "source": [
    "# Narrative Report\n",
    "# Time Log\n",
    "allrep.nar_rep.time_log_as_markdown()"
   ]
  },
  {
   "cell_type": "markdown",
   "id": "39",
   "metadata": {},
   "source": [
    "#### Sources Used"
   ]
  },
  {
   "cell_type": "code",
   "execution_count": null,
   "id": "40",
   "metadata": {
    "jupyter": {
     "source_hidden": true
    }
   },
   "outputs": [],
   "source": [
    "for name, url in allsrc.nar_src.sources.items():\n",
    "    md(f\"1. [{name}]({url})\")"
   ]
  },
  {
   "cell_type": "markdown",
   "id": "41",
   "metadata": {},
   "source": [
    "[BACK to the TOC](#Table-of-Contents)"
   ]
  },
  {
   "cell_type": "markdown",
   "id": "42",
   "metadata": {},
   "source": [
    "# More about this page\n",
    "__Intended users include:__ management, commissioning scientists , observers, and test scientists. Its likely that the __role of each user will determine which sections__ in this page are most important to them.  __Discussion__ about this and similar pages can be found on the slack *#ts-logging* channel. \n",
    "\n",
    "[BACK to the Top](#About-This-Page)"
   ]
  },
  {
   "cell_type": "markdown",
   "id": "43",
   "metadata": {},
   "source": [
    "## Previously Added\n",
    "- Stakeholders decided that supported instruments will be: LSSTComCam, LSSTCam, and LATISS. Of those, LSSTCam is not supported in ConsDB and limitations in LATISS will force some of the requested fields for ExposureDetail to be given as NA.\n",
    "- Various minor, mostly cosmetic changes to: Night Report, Almanac, Time Accounting, Data Log, ExposureDetail (drill down page from Data Log)\n",
    "- Removed Consolidated Database section. Most of it is in ExposureDetail linked to from Data Log.\n",
    "- Added optional WARNING behavior to alert when no records are found, instruments are excluded from results, etc. See \"warning\" parameter in left sidebar to enable/disable it.\n",
    "- <font style=\"background-color:#ffff99\">Embedded comments and questions to reader (Yellow background)</font>\n",
    "- <font style=\"background-color:red; color:#90EE90\">Errors from APIs are displayed in this page (Red background).</font>\n",
    "- Try dates: 2024-12-01 (ComCam on-sky), 2024-09-25,\n",
    "\n",
    "[BACK to the Top](#About-This-Page)"
   ]
  },
  {
   "cell_type": "markdown",
   "id": "44",
   "metadata": {},
   "source": [
    "-----------\n",
    "------------"
   ]
  },
  {
   "cell_type": "markdown",
   "id": "45",
   "metadata": {},
   "source": [
    "# Developer Only Section <font style=\"background-color:red; olor:black; font-size:20px\">REMOVE</font>\n",
    "Contains stuff only expected to be useful to developers.\n",
    "This may also contain sections that have moved out of the user section."
   ]
  },
  {
   "cell_type": "markdown",
   "id": "46",
   "metadata": {},
   "source": [
    "## Overview \n"
   ]
  },
  {
   "cell_type": "code",
   "execution_count": null,
   "id": "47",
   "metadata": {
    "jupyter": {
     "source_hidden": true
    }
   },
   "outputs": [],
   "source": [
    "# Display overview of Report context\n",
    "try:\n",
    "    import lsst.ts.logging_and_reporting.version\n",
    "\n",
    "    lrversion = lsst.ts.logging_and_reporting.version.__version__\n",
    "except:\n",
    "    lrversion = \"LIVE\"\n",
    "\n",
    "try:\n",
    "    from lsst.summit.utils import ConsDbClient\n",
    "\n",
    "    have_consdb = True\n",
    "except:\n",
    "    have_consdb = False\n",
    "md(\n",
    "    f\"\"\"## Project-Wide Night(s) Report \n",
    "- Run on logs and databases from **{server}/**\n",
    "- Report **{days} observing night(s)** with the last reported night starting on **{date}**.\n",
    "- min_dayobs={allsrc.min_dayobs!r}, max_dayobs={allsrc.max_dayobs!r}\n",
    "- Using ***Prototype* Logging and Reporting** Version: **{lrversion}**\n",
    "- {have_consdb = }\n",
    "- {dev_msg}\n",
    "- {allsrc.nig_src.timeout=}\n",
    "\"\"\"\n",
    ")"
   ]
  },
  {
   "cell_type": "markdown",
   "id": "48",
   "metadata": {},
   "source": [
    "## Data Status\n",
    "This may be useful for diagnosing reports that give unexpected results."
   ]
  },
  {
   "cell_type": "code",
   "execution_count": null,
   "id": "49",
   "metadata": {
    "jupyter": {
     "source_hidden": true
    }
   },
   "outputs": [],
   "source": [
    "df = pd.DataFrame(allsrc.get_data_status())\n",
    "table = df.to_html(index=False, render_links=True, escape=False)\n",
    "display(HTML(table))"
   ]
  },
  {
   "cell_type": "markdown",
   "id": "50",
   "metadata": {},
   "source": [
    "## This report uses the following data sources\n",
    "- NightReport\n",
    "- Exposurelog\n",
    "- Narrativelog\n",
    "- EFD\n",
    "- ConsDB\n",
    "- (DDV)\n",
    "- (Almanac from Astroplan)"
   ]
  },
  {
   "cell_type": "markdown",
   "id": "51",
   "metadata": {},
   "source": [
    "## Where was this run?\n",
    "\n",
    "The environments that have everything needed to run this page are:\n",
    "\n",
    "    https://summit-lsp.lsst.codes\n",
    "    https://usdf-rsp-dev.slac.stanford.edu\n",
    "\n",
    "However, Times Square does not run on the Summit. It does run on USDF-dev.\n"
   ]
  },
  {
   "cell_type": "markdown",
   "id": "52",
   "metadata": {},
   "source": [
    "## Available Consolidated Database fields\n",
    "It should be easy to add data to this report when it corresponds to any of the fields listed below. \n",
    "\n",
    "**Format:** *instrument/tablename/fieldname*\n",
    "\n",
    "TODO: index by fieldname, multi-index columm = (Instrument, TableName), val = yes or NA"
   ]
  },
  {
   "cell_type": "code",
   "execution_count": null,
   "id": "53",
   "metadata": {
    "jupyter": {
     "source_hidden": true
    }
   },
   "outputs": [],
   "source": [
    "verbose = True\n",
    "if verbose:\n",
    "    #! txt = '\\n- '.join(allsrc.cdb_src.all_available_fields)\n",
    "    #! md(f'- {txt}')\n",
    "    table = \"\"\n",
    "    table += \"\\n| instrument | tablename | fieldname |\"\n",
    "    table += \"\\n| :--------: | :-------: | :-------: |\"\n",
    "    for field in allsrc.cdb_src.all_available_fields:\n",
    "        table += f'\\n| {field.replace(\"/\",\" | \")} |'\n",
    "    md(table)"
   ]
  },
  {
   "cell_type": "markdown",
   "id": "54",
   "metadata": {},
   "source": [
    "## Section overviews moved here"
   ]
  },
  {
   "cell_type": "code",
   "execution_count": null,
   "id": "55",
   "metadata": {
    "jupyter": {
     "source_hidden": true
    }
   },
   "outputs": [],
   "source": [
    "# Night Report Overview\n",
    "allrep.nig_rep.overview()\n",
    "# Exposure Report Overview\n",
    "allrep.exp_rep.overview()\n",
    "# Narrative Report Overview\n",
    "allrep.nar_rep.overview()"
   ]
  },
  {
   "cell_type": "code",
   "execution_count": null,
   "id": "56",
   "metadata": {
    "jupyter": {
     "source_hidden": true
    }
   },
   "outputs": [],
   "source": [
    "# Conditionally display our current ability to connect to all needed endpoints.\n",
    "if False and not os.environ.get(\"EXTERNAL_INSTANCE_URL\"):\n",
    "    md(\"## Dashboard\")\n",
    "    md(\"(This is not done when running under Times Square.)\")\n",
    "    %run ./dashboard.ipynb"
   ]
  },
  {
   "cell_type": "code",
   "execution_count": null,
   "id": "57",
   "metadata": {
    "jupyter": {
     "source_hidden": true
    }
   },
   "outputs": [],
   "source": [
    "# Time Log\n",
    "#! allrep.exp_rep.time_log_as_markdown()"
   ]
  },
  {
   "cell_type": "markdown",
   "id": "58",
   "metadata": {},
   "source": [
    "## Finale"
   ]
  },
  {
   "cell_type": "code",
   "execution_count": null,
   "id": "59",
   "metadata": {
    "jupyter": {
     "source_hidden": true
    }
   },
   "outputs": [],
   "source": [
    "print(f\"Elapsed time (excluding code import): {timer.toc:.1f} seconds\")\n",
    "print(f\"Finished {str(dt.datetime.now().replace(microsecond=0))} UTC\")"
   ]
  },
  {
   "cell_type": "code",
   "execution_count": null,
   "id": "60",
   "metadata": {
    "jupyter": {
     "source_hidden": true
    }
   },
   "outputs": [],
   "source": [
    "allsrc"
   ]
  },
  {
   "cell_type": "code",
   "execution_count": null,
   "id": "61",
   "metadata": {
    "jupyter": {
     "source_hidden": true
    }
   },
   "outputs": [],
   "source": []
  }
 ],
 "metadata": {
  "kernelspec": {
   "display_name": "Python 3 (ipykernel)",
   "language": "python",
   "name": "python3"
  },
  "language_info": {
   "codemirror_mode": {
    "name": "ipython",
    "version": 3
   },
   "file_extension": ".py",
   "mimetype": "text/x-python",
   "name": "python",
   "nbconvert_exporter": "python",
   "pygments_lexer": "ipython3",
   "version": "3.11.9"
  }
 },
 "nbformat": 4,
 "nbformat_minor": 5
}
