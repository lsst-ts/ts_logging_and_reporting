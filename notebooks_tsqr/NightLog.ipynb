{
 "cells": [
  {
   "cell_type": "markdown",
   "id": "0",
   "metadata": {},
   "source": [
    "# Night Log"
   ]
  },
  {
   "cell_type": "code",
   "execution_count": null,
   "id": "1",
   "metadata": {},
   "outputs": [],
   "source": [
    "# Parameters. Set defaults here.\n",
    "# Times Square replaces this cell with the user's parameters.\n",
    "record_limit = '999'\n",
    "day_obs = 'TODAY'  # TODAY, YESTERDAY, YYYY-MM-DD\n",
    "number_of_days = '1'  # Total number of days of data to display (ending on day_obs)"
   ]
  },
  {
   "cell_type": "code",
   "execution_count": null,
   "id": "2",
   "metadata": {},
   "outputs": [],
   "source": [
    "# Only use packages available in the Rubin Science Platform\n",
    "import requests\n",
    "from collections import defaultdict\n",
    "import pandas as pd\n",
    "from pprint import pp\n",
    "from urllib.parse import urlencode\n",
    "from IPython.display import display, Markdown, display_markdown\n",
    "from matplotlib import pyplot as plt\n",
    "import os\n",
    "from datetime import datetime, date, timedelta"
   ]
  },
  {
   "cell_type": "code",
   "execution_count": null,
   "id": "3",
   "metadata": {},
   "outputs": [],
   "source": [
    "limit = int(record_limit)\n",
    "\n",
    "match day_obs.lower():\n",
    "    case 'today':\n",
    "        date = datetime.now().date()\n",
    "    case 'yesterday':\n",
    "        date = datetime.now().date()-timedelta(days=1)\n",
    "    case _:\n",
    "        date = datetime.strptime(dd, '%Y-%m-%d').date()\n",
    "\n",
    "days = int(number_of_days)\n",
    "\n",
    "# Thus: [min_day_obs,max_day_obs)\n",
    "min_day_obs = (date - timedelta(days=days-1)).strftime('%Y%m%d') # Inclusive\n",
    "max_day_obs = (date + timedelta(days=1)).strftime('%Y%m%d') # prep for Exclusive\n",
    "\n",
    "response_timeout = 3.05  # seconds, how long to wait for connection\n",
    "read_timeout = 20  # seconds\n",
    "timeout = (float(response_timeout), float(read_timeout))\n",
    "\n",
    "summit = 'https://summit-lsp.lsst.codes'\n",
    "usdf = 'https://usdf-rsp-dev.slac.stanford.edu'\n",
    "tucson = 'https://tucson-teststand.lsst.codes'\n",
    "\n",
    "# Use server=tucson for dev testing\n",
    "server = os.environ.get('EXTERNAL_INSTANCE_URL', summit)\n"
   ]
  },
  {
   "cell_type": "code",
   "execution_count": null,
   "id": "4",
   "metadata": {},
   "outputs": [],
   "source": [
    "print(f'Report from {server} over {number_of_days} nights'\n",
    "      f' from {min_day_obs} to {date}. ')"
   ]
  },
  {
   "cell_type": "code",
   "execution_count": null,
   "id": "5",
   "metadata": {},
   "outputs": [],
   "source": [
    "# For Times Square, comment out next line and past next cell with contents of local python file.\n",
    "from lsst.ts.logging_and_reporting.source_adapters import ExposurelogAdapter, NarrativelogAdapter\n",
    "# Once our logrep package has been installed in RSP, we can use the simpler \"import\""
   ]
  },
  {
   "cell_type": "code",
   "execution_count": null,
   "id": "6",
   "metadata": {},
   "outputs": [],
   "source": [
    "# Paste contents of source_adapters.py in new cell below this one."
   ]
  },
  {
   "cell_type": "markdown",
   "id": "7",
   "metadata": {},
   "source": [
    "# Exposure Log"
   ]
  },
  {
   "cell_type": "code",
   "execution_count": null,
   "id": "8",
   "metadata": {},
   "outputs": [],
   "source": [
    "service_adapter = ExposurelogAdapter(server_url=server)\n",
    "source = f'{server}'\n",
    "try:\n",
    "    recs = service_adapter.get_messages(limit=limit,\n",
    "                                        min_day_obs=min_day_obs,\n",
    "                                        max_day_obs=max_day_obs,\n",
    "                                       )\n",
    "except Exception as err:\n",
    "    recs = []\n",
    "    msg = f'ERROR getting records from {server=}: {err=}'\n",
    "    raise Exception(msg)"
   ]
  },
  {
   "cell_type": "code",
   "execution_count": null,
   "id": "9",
   "metadata": {},
   "outputs": [],
   "source": [
    "print(f'Retrieved {len(recs)} records')"
   ]
  },
  {
   "cell_type": "code",
   "execution_count": null,
   "id": "10",
   "metadata": {},
   "outputs": [],
   "source": [
    "if recs:\n",
    "    ignore_fields = ['id']\n",
    "    new_column_names = dict(message_text='message',\n",
    "                            date_added='date'\n",
    "                         )\n",
    "    df = pd.DataFrame(recs).rename(columns=new_column_names)\n",
    "    user_df = df[['message', 'date']]\n",
    "    \n",
    "    display_markdown(f'### Exposure log for {number_of_days} days {min_day_obs} to {max_day_obs}', raw=True)\n",
    "    display(user_df)"
   ]
  },
  {
   "cell_type": "code",
   "execution_count": null,
   "id": "11",
   "metadata": {},
   "outputs": [],
   "source": [
    "gaps = service_adapter.get_observation_gaps()\n",
    "for instrument, day_gaps in gaps.items():\n",
    "    display_markdown(f'### Date vs Observation Gap (minutes) for {instrument=!s}', raw=True)\n",
    "    x,y = zip(*day_gaps.items())\n",
    "    df = pd.DataFrame(dict(day=x,minutes=y))\n",
    "    df.plot.bar(x='day', y='minutes', title=f'{instrument=!s}')"
   ]
  },
  {
   "cell_type": "markdown",
   "id": "12",
   "metadata": {},
   "source": [
    "# Narrative Log"
   ]
  },
  {
   "cell_type": "code",
   "execution_count": null,
   "id": "13",
   "metadata": {},
   "outputs": [],
   "source": [
    "service_adapter = NarrativelogAdapter(server_url=server)\n",
    "try:\n",
    "    # date like '2000-01-02 12:00:00'\n",
    "    # str(datetime(2000, 1, 2, 12, 0, 0))\n",
    "    recs = service_adapter.get_messages(limit=limit,\n",
    "                                        min_date_end=str(datetime.strptime(min_day_obs,'%Y%m%d')),\n",
    "                                        max_date_end=str(datetime.strptime(max_day_obs,'%Y%m%d')),\n",
    "                                       )\n",
    "except Exception as err:\n",
    "    recs = []\n",
    "    msg = f'ERROR getting records from {server=}: {err=}'\n",
    "    raise Exception(msg)\n",
    "\n",
    "print(f'Retrieved {len(recs)} records.')"
   ]
  },
  {
   "cell_type": "code",
   "execution_count": null,
   "id": "14",
   "metadata": {},
   "outputs": [],
   "source": [
    "ignore_fields = ['id']\n",
    "new_column_names = dict(message_text='message',\n",
    "                        date_added='date'\n",
    "                     )\n",
    "if recs:\n",
    "    df = pd.DataFrame(recs).rename(columns=new_column_names)\n",
    "    user_df = df[['message', 'date']]\n",
    "\n",
    "    display(Markdown(f'## Narrative log (format A) for {number_of_days} days {min_day_obs} to {max_day_obs}'))\n",
    "    with pd.option_context('display.max_rows', None, 'display.max_columns', None):\n",
    "        display(user_df)\n",
    "        \n",
    "    display(Markdown(f'## Narrative log (format B)'))\n",
    "    for index,row in user_df.iterrows():\n",
    "        print(f\"{datetime.fromisoformat(user_df.iloc[0]['date']).date()}: \"\n",
    "              f\"{row['message']}\"\n",
    "        )"
   ]
  },
  {
   "cell_type": "code",
   "execution_count": null,
   "id": "15",
   "metadata": {},
   "outputs": [],
   "source": []
  }
 ],
 "metadata": {
  "kernelspec": {
   "display_name": "Python 3 (ipykernel)",
   "language": "python",
   "name": "python3"
  },
  "language_info": {
   "codemirror_mode": {
    "name": "ipython",
    "version": 3
   },
   "file_extension": ".py",
   "mimetype": "text/x-python",
   "name": "python",
   "nbconvert_exporter": "python",
   "pygments_lexer": "ipython3",
   "version": "3.10.12"
  }
 },
 "nbformat": 4,
 "nbformat_minor": 5
}
