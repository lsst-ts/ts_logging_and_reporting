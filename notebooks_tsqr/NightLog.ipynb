{
 "cells": [
  {
   "cell_type": "markdown",
   "id": "0",
   "metadata": {},
   "source": [
    "# About this Page\n",
    "*This notebook is intended to align with [storyboard Version 51](https://rubinobs.atlassian.net/wiki/pages/viewpage.action?pageId=132612364&pageVersion=51)* (more or less)\n",
    "If you are using this under Time Square and *get any errors* that you think come from this notebook, please tell Steve Pothier (steve.pothier@noirlab.edu).  Include the full Times Square URL you used to get the error. \n",
    "\n",
    "## What is new in this app?(newest change at top of list)\n",
    "- This page tries to work around existing problems with APIs used for source data. (There is a ticket to fix the APIs)\n",
    "- Errors with APIs are display in this page in Red.\n",
    "\n",
    "## Known issues\n",
    "- (none known)"
   ]
  },
  {
   "cell_type": "code",
   "execution_count": 1,
   "id": "1",
   "metadata": {},
   "outputs": [],
   "source": [
    "# Parameters.\n",
    "# Times Square replaces this cell with the user's parameters.\n",
    "# So, don't put anything else here!\n",
    "\n",
    "# day_obs values: TODAY, YESTERDAY, YYYY-MM-DD\n",
    "# Report on observing nights that start upto but not included this day.\n",
    "#!day_obs = '2024-09-25' # Value to use for local testing (Summit)\n",
    "day_obs = \"TODAY\"  # TODO Change to 'YESTERDAY' and 'TODAY' to test with default before push\n",
    "\n",
    "# Total number of days of data to display (ending on day_obs)\n",
    "number_of_days = \"1\"  # TODO Change to '1' to test with default before push\n",
    "\n",
    "verbose = \"false\"  # TODO change to false before push, else true"
   ]
  },
  {
   "cell_type": "code",
   "execution_count": 2,
   "id": "2",
   "metadata": {},
   "outputs": [],
   "source": [
    "import datetime as dt\n",
    "import os\n",
    "from collections import defaultdict\n",
    "from pprint import pformat, pp\n",
    "from urllib.parse import urlencode, urlparse\n",
    "import pandas as pd\n",
    "from IPython.display import HTML\n",
    "\n",
    "# When running under Times Square, install pkg from github.\n",
    "# Otherwise use what is installed locally (intended to be dev editiable pkg)\n",
    "if os.environ.get(\"EXTERNAL_INSTANCE_URL\"):\n",
    "    dev_msg = (\n",
    "        'Installing \"lsst.ts.logging_and_reporting\" from github using \"prototype\" branch. \\n'\n",
    "        'TODO: Make the need for this go away by getting Logging_and_Reporting installed in RSP.'\n",
    "    )\n",
    "    !pip install --upgrade git+https://github.com/lsst-ts/ts_logging_and_reporting.git@prototype > /dev/null 2>&1\n",
    "else:\n",
    "    dev_msg = 'Imported lsst.ts.logging_and_reporting from local packages.'\n",
    "from lsst.ts.logging_and_reporting.all_sources import AllSources\n",
    "from lsst.ts.logging_and_reporting.all_reports import AllReports\n",
    "import lsst.ts.logging_and_reporting.utils as ut\n",
    "from lsst.ts.logging_and_reporting.reports import md, mdlist, mdpathlink\n",
    "from lsst.ts.logging_and_reporting.reports import html_draft, html_beta"
   ]
  },
  {
   "cell_type": "code",
   "execution_count": 3,
   "id": "4",
   "metadata": {},
   "outputs": [],
   "source": [
    "# Set default env to \"usdf\" and try before PUSH to repo.\n",
    "# The default provided here is for local testing. Under Times Square it is ignored.\n",
    "server = os.environ.get(\n",
    "    \"EXTERNAL_INSTANCE_URL\", \n",
    "    ut.Server.usdf) # TODO try with \"usdf\" before push (also \"summit\")"
   ]
  },
  {
   "cell_type": "code",
   "execution_count": 4,
   "id": "ec883835-42d3-40ae-a014-8b89befe4263",
   "metadata": {
    "jupyter": {
     "source_hidden": true
    }
   },
   "outputs": [],
   "source": [
    "date = ut.get_datetime_from_dayobs_str(day_obs)\n",
    "# date:  is EXCLUSIVE (upto, but not including)\n",
    "days = int(number_of_days)\n",
    "\n",
    "# Thus: [min_day_obs,max_day_obs)\n",
    "# Format: string, YYYY-MM-DD\n",
    "min_date = date - dt.timedelta(days=days - 1)\n",
    "max_date = date + dt.timedelta(days=1)\n",
    "min_day_obs = min_date.strftime(\"%Y-%m-%d\")  # Inclusive\n",
    "max_day_obs = max_date.strftime(\"%Y-%m-%d\")  # prep for Exclusive\n",
    "\n",
    "verbose = (verbose == \"true\") \n"
   ]
  },
  {
   "cell_type": "code",
   "execution_count": 5,
   "id": "5",
   "metadata": {
    "scrolled": true
   },
   "outputs": [],
   "source": [
    "# Read records from (almost) all sources\n",
    "timer = ut.Timer()\n",
    "allsrc = AllSources(\n",
    "    server_url=server,\n",
    "    min_dayobs=min_day_obs,\n",
    "    max_dayobs=max_day_obs,\n",
    "    verbose=verbose,                \n",
    "    limit=5000,\n",
    "    exclude_instruments = []      # TODO change to empty list before push\n",
    ")\n",
    "allrep = AllReports(allsrc=allsrc)"
   ]
  },
  {
   "cell_type": "markdown",
   "id": "a0d44b83-527e-41b2-8d05-6f6207ceba30",
   "metadata": {},
   "source": [
    "----------"
   ]
  },
  {
   "cell_type": "code",
   "execution_count": 6,
   "id": "e5c48075-7a8b-40a3-84dc-9b7408654e83",
   "metadata": {},
   "outputs": [
    {
     "data": {
      "text/markdown": [
       "# Showing data for 2024-11-19 to 2024-11-20 for LSSTComCamSim, LATISS, LSSTComCam, LSSTCam"
      ],
      "text/plain": [
       "<IPython.core.display.Markdown object>"
      ]
     },
     "metadata": {},
     "output_type": "display_data"
    },
    {
     "data": {
      "text/markdown": [
       "Most recently run on: **2024-11-19 15:33:49**"
      ],
      "text/plain": [
       "<IPython.core.display.Markdown object>"
      ]
     },
     "metadata": {},
     "output_type": "display_data"
    }
   ],
   "source": [
    "instrum_str = \", \".join(list(allsrc.exp_src.instruments.keys()))\n",
    "md(f\"# Showing data for {min_date.date()} to {max_date.date()} for {instrum_str}\")\n",
    "md(f\"Most recently run on: **{dt.datetime.now().replace(microsecond=0).isoformat(sep=' ')}**\")"
   ]
  },
  {
   "cell_type": "markdown",
   "id": "8",
   "metadata": {},
   "source": [
    "# Table of Contents\n",
    "* [Night Report](#Night-Report-BETA)\n",
    "    - AuxTel\n",
    "    - Simonyi\n",
    "* [Almanac](#Almanac-BETA)\n",
    "* [Summary plots of whole night](#Summary-plots-of-whole-night-DRAFT)\n",
    "* [Time Accounting](#Time-Accounting-DRAFT)\n",
    "* [Jira Tickets](#Jira-Tickets-BETA)\n",
    "    - AuxTel\n",
    "    - Simonyi\n",
    "* [BLOCKS Observed](#BLOCKS-Observed-DRAFT)\n",
    "    - AuxTel\n",
    "    - Simonyi\n",
    "* [Data Log](#Data-Log-BETA)\n",
    "* [Narrative Log](#Narrative-Log-BETA)\n",
    "* [Developer Only Section](#Developer-Only-Section-REMOVE)"
   ]
  },
  {
   "cell_type": "markdown",
   "id": "86ff253e-f575-4b9b-96f9-698d3faf9494",
   "metadata": {},
   "source": [
    "## Night Report <font style=\"background-color:green; color:white; font-size:20px\">BETA</font> "
   ]
  },
  {
   "cell_type": "code",
   "execution_count": 7,
   "id": "10",
   "metadata": {
    "jupyter": {
     "source_hidden": true
    }
   },
   "outputs": [
    {
     "data": {
      "text/markdown": [
       "<font style=\"color:lightblue;background-color:None;\">No nightreport records found 2024-11-19 to 2024-11-20. </font>"
      ],
      "text/plain": [
       "<IPython.core.display.Markdown object>"
      ]
     },
     "metadata": {},
     "output_type": "display_data"
    },
    {
     "data": {
      "text/markdown": [
       "Used [API Data](https://usdf-rsp-dev.slac.stanford.edu/nightreport/reports?is_human=either&is_valid=true&order_by=-day_obs&offset=0&limit=100&min_day_obs=20241119&max_day_obs=20241120)"
      ],
      "text/plain": [
       "<IPython.core.display.Markdown object>"
      ]
     },
     "metadata": {},
     "output_type": "display_data"
    }
   ],
   "source": [
    "# Night Report\n",
    "# Display time log\n",
    "allrep.nig_rep.time_log_as_markdown()"
   ]
  },
  {
   "cell_type": "markdown",
   "id": "51fad717-7160-4da9-bdeb-696c92f33c19",
   "metadata": {},
   "source": [
    "## Almanac <font style=\"background-color:green; color:white; font-size:20px\">BETA</font> "
   ]
  },
  {
   "cell_type": "code",
   "execution_count": 8,
   "id": "12",
   "metadata": {},
   "outputs": [
    {
     "data": {
      "text/markdown": [
       "**Almanac for the observing night starting 2024-11-19**"
      ],
      "text/plain": [
       "<IPython.core.display.Markdown object>"
      ]
     },
     "metadata": {},
     "output_type": "display_data"
    },
    {
     "data": {
      "text/html": [
       "<style type=\"text/css\">\n",
       "</style>\n",
       "<table id=\"T_4637c\">\n",
       "  <thead>\n",
       "  </thead>\n",
       "  <tbody>\n",
       "    <tr>\n",
       "      <th id=\"T_4637c_level0_row0\" class=\"row_heading level0 row0\" >Sun Set</th>\n",
       "      <td id=\"T_4637c_row0_col0\" class=\"data row0 col0\" >2024-11-19 23:16:53</td>\n",
       "      <td id=\"T_4637c_row0_col1\" class=\"data row0 col1\" ></td>\n",
       "    </tr>\n",
       "    <tr>\n",
       "      <th id=\"T_4637c_level0_row1\" class=\"row_heading level0 row1\" >Evening Civil Twilight</th>\n",
       "      <td id=\"T_4637c_row1_col0\" class=\"data row1 col0\" >2024-11-19 23:47:34</td>\n",
       "      <td id=\"T_4637c_row1_col1\" class=\"data row1 col1\" >(-6 degrees)</td>\n",
       "    </tr>\n",
       "    <tr>\n",
       "      <th id=\"T_4637c_level0_row2\" class=\"row_heading level0 row2\" >Evening Nautical Twilight</th>\n",
       "      <td id=\"T_4637c_row2_col0\" class=\"data row2 col0\" >2024-11-20 00:19:27</td>\n",
       "      <td id=\"T_4637c_row2_col1\" class=\"data row2 col1\" >(-12 degrees)</td>\n",
       "    </tr>\n",
       "    <tr>\n",
       "      <th id=\"T_4637c_level0_row3\" class=\"row_heading level0 row3\" >Evening Astronomical Twilight</th>\n",
       "      <td id=\"T_4637c_row3_col0\" class=\"data row3 col0\" >2024-11-20 00:53:05</td>\n",
       "      <td id=\"T_4637c_row3_col1\" class=\"data row3 col1\" >(-18 degrees)</td>\n",
       "    </tr>\n",
       "    <tr>\n",
       "      <th id=\"T_4637c_level0_row4\" class=\"row_heading level0 row4\" >Moon Rise</th>\n",
       "      <td id=\"T_4637c_row4_col0\" class=\"data row4 col0\" >2024-11-20 03:44:50</td>\n",
       "      <td id=\"T_4637c_row4_col1\" class=\"data row4 col1\" ></td>\n",
       "    </tr>\n",
       "    <tr>\n",
       "      <th id=\"T_4637c_level0_row5\" class=\"row_heading level0 row5\" >Solar Midnight</th>\n",
       "      <td id=\"T_4637c_row5_col0\" class=\"data row5 col0\" >2024-11-20 04:28:30</td>\n",
       "      <td id=\"T_4637c_row5_col1\" class=\"data row5 col1\" ></td>\n",
       "    </tr>\n",
       "    <tr>\n",
       "      <th id=\"T_4637c_level0_row6\" class=\"row_heading level0 row6\" >Morning Astronomical Twilight</th>\n",
       "      <td id=\"T_4637c_row6_col0\" class=\"data row6 col0\" >2024-11-20 08:03:55</td>\n",
       "      <td id=\"T_4637c_row6_col1\" class=\"data row6 col1\" >(-18 degrees)</td>\n",
       "    </tr>\n",
       "    <tr>\n",
       "      <th id=\"T_4637c_level0_row7\" class=\"row_heading level0 row7\" >Morning Nautical Twilight</th>\n",
       "      <td id=\"T_4637c_row7_col0\" class=\"data row7 col0\" >2024-11-20 08:37:33</td>\n",
       "      <td id=\"T_4637c_row7_col1\" class=\"data row7 col1\" >(-12 degrees)</td>\n",
       "    </tr>\n",
       "    <tr>\n",
       "      <th id=\"T_4637c_level0_row8\" class=\"row_heading level0 row8\" >Morning Civil Twilight</th>\n",
       "      <td id=\"T_4637c_row8_col0\" class=\"data row8 col0\" >2024-11-20 09:09:27</td>\n",
       "      <td id=\"T_4637c_row8_col1\" class=\"data row8 col1\" >(-6 degrees)</td>\n",
       "    </tr>\n",
       "    <tr>\n",
       "      <th id=\"T_4637c_level0_row9\" class=\"row_heading level0 row9\" >Sun Rise</th>\n",
       "      <td id=\"T_4637c_row9_col0\" class=\"data row9 col0\" >2024-11-20 09:40:07</td>\n",
       "      <td id=\"T_4637c_row9_col1\" class=\"data row9 col1\" ></td>\n",
       "    </tr>\n",
       "    <tr>\n",
       "      <th id=\"T_4637c_level0_row10\" class=\"row_heading level0 row10\" >Moon Set</th>\n",
       "      <td id=\"T_4637c_row10_col0\" class=\"data row10 col0\" >2024-11-20 13:48:27</td>\n",
       "      <td id=\"T_4637c_row10_col1\" class=\"data row10 col1\" ></td>\n",
       "    </tr>\n",
       "    <tr>\n",
       "      <th id=\"T_4637c_level0_row11\" class=\"row_heading level0 row11\" >Moon Illumination</th>\n",
       "      <td id=\"T_4637c_row11_col0\" class=\"data row11 col0\" >78%</td>\n",
       "      <td id=\"T_4637c_row11_col1\" class=\"data row11 col1\" >(% illuminated)</td>\n",
       "    </tr>\n",
       "    <tr>\n",
       "      <th id=\"T_4637c_level0_row12\" class=\"row_heading level0 row12\" ></th>\n",
       "      <td id=\"T_4637c_row12_col0\" class=\"data row12 col0\" >UTC</td>\n",
       "      <td id=\"T_4637c_row12_col1\" class=\"data row12 col1\" ></td>\n",
       "    </tr>\n",
       "  </tbody>\n",
       "</table>\n"
      ],
      "text/plain": [
       "<pandas.io.formats.style.Styler at 0x7ffff80c6a10>"
      ]
     },
     "metadata": {},
     "output_type": "display_data"
    }
   ],
   "source": [
    "# Display various almanac values (for moon, sun)\n",
    "#!rep.AlmanacReport().day_obs_report(min_day_obs)\n",
    "allrep.alm_rep.day_obs_report()"
   ]
  },
  {
   "cell_type": "markdown",
   "id": "13",
   "metadata": {},
   "source": [
    "## Summary plots of whole night <font style=\"background-color:yellow; color:black; font-size:20px\">DRAFT</font>"
   ]
  },
  {
   "cell_type": "markdown",
   "id": "14",
   "metadata": {},
   "source": [
    "(content not yet defined in storyboard)"
   ]
  },
  {
   "cell_type": "code",
   "execution_count": 9,
   "id": "15",
   "metadata": {
    "jupyter": {
     "source_hidden": true
    }
   },
   "outputs": [],
   "source": [
    "# Plot Observation (Exposure) gaps\n",
    "# rollup,detail = allsrc.get_observation_gaps()\n",
    "# allrep.plot_observation_gap_detail(detail)"
   ]
  },
  {
   "cell_type": "markdown",
   "id": "38",
   "metadata": {},
   "source": [
    "## DDV <font style=\"background-color:yellow; color:black; font-size:20px\">DRAFT</font>"
   ]
  },
  {
   "cell_type": "code",
   "execution_count": 10,
   "id": "39",
   "metadata": {},
   "outputs": [
    {
     "data": {
      "text/markdown": [
       "Access DDV part of RubinTV: https://usdf-rsp-dev.slac.stanford.edu/rubintv/ddv/index.html"
      ],
      "text/plain": [
       "<IPython.core.display.Markdown object>"
      ]
     },
     "metadata": {},
     "output_type": "display_data"
    }
   ],
   "source": [
    "DDV = (\n",
    "    f\"{server}/rubintv-dev/ddv/index.html\"\n",
    "    if \"summit\" in server\n",
    "    else f\"{server}/rubintv/ddv/index.html\"\n",
    ")\n",
    "md(f\"Access DDV part of RubinTV: {DDV}\")"
   ]
  },
  {
   "cell_type": "markdown",
   "id": "9d51f937-37e7-45da-87cb-2319fd76a1cc",
   "metadata": {},
   "source": [
    "## Time Accounting <font style=\"background-color:yellow; color:black; font-size:20px\">DRAFT</font>\n",
    "TODO:\n",
    "- Time-loss for Fault and Weather\n",
    "- SlewTime from TMAEvent (or similar)\n",
    "\n",
    "SlewTime (and probably others) from EFD are only EXPECTED (topic=\"lsst.sal.Scheduler.logevent_target\"), not ACTUAL.\n",
    "To get ACTUAL time, we need to use something like \n",
    "[**TMAEvent**](https://github.com/lsst-sitcom/summit_utils/blob/f901ca4943c082500a1f357eb070a4971925c476/python/lsst/summit/utils/tmaUtils.py#L1195) \n",
    "to combine multiple real events into a synthetic event.  See DM-46102.\n"
   ]
  },
  {
   "cell_type": "code",
   "execution_count": 11,
   "id": "16",
   "metadata": {},
   "outputs": [
    {
     "data": {
      "text/html": [
       "<div>\n",
       "<style scoped>\n",
       "    .dataframe tbody tr th:only-of-type {\n",
       "        vertical-align: middle;\n",
       "    }\n",
       "\n",
       "    .dataframe tbody tr th {\n",
       "        vertical-align: top;\n",
       "    }\n",
       "\n",
       "    .dataframe thead th {\n",
       "        text-align: right;\n",
       "    }\n",
       "</style>\n",
       "<table border=\"1\" class=\"dataframe\">\n",
       "  <thead>\n",
       "    <tr style=\"text-align: right;\">\n",
       "      <th></th>\n",
       "      <th></th>\n",
       "    </tr>\n",
       "  </thead>\n",
       "  <tbody>\n",
       "    <tr>\n",
       "      <th>Total night</th>\n",
       "      <td>7:10:49</td>\n",
       "    </tr>\n",
       "    <tr>\n",
       "      <th>Idle time</th>\n",
       "      <td>7:10:49</td>\n",
       "    </tr>\n",
       "  </tbody>\n",
       "</table>\n",
       "</div>"
      ],
      "text/plain": [
       "                    \n",
       "Total night  7:10:49\n",
       "Idle time    7:10:49"
      ]
     },
     "metadata": {},
     "output_type": "display_data"
    }
   ],
   "source": [
    "# Exposure Tally\n",
    "tally = await allsrc.night_tally_observation_gaps()\n",
    "if tally:\n",
    "    display(pd.DataFrame(tally))"
   ]
  },
  {
   "cell_type": "markdown",
   "id": "ad5a2e6c-ca0d-4978-bac9-25c83f90d090",
   "metadata": {},
   "source": [
    "- (1) *Expected* slew time as per Schedular\n",
    "- (2) There is no practical way to get detector read-out time.  A value of 2.3 seconds was inferred from experiments."
   ]
  },
  {
   "cell_type": "markdown",
   "id": "17",
   "metadata": {},
   "source": [
    "## Jira Tickets <font style=\"background-color:green; color:white; font-size:20px\">BETA</font> \n",
    "- Observing Operations - OBS\n",
    "- TODO: better tickets using Jira API"
   ]
  },
  {
   "cell_type": "code",
   "execution_count": 12,
   "id": "18",
   "metadata": {},
   "outputs": [
    {
     "data": {
      "text/markdown": [
       "- [OBS-689](https://rubinobs.atlassian.net/browse/OBS-689)"
      ],
      "text/plain": [
       "<IPython.core.display.Markdown object>"
      ]
     },
     "metadata": {},
     "output_type": "display_data"
    },
    {
     "data": {
      "text/markdown": [
       "- [OBS-692](https://rubinobs.atlassian.net/browse/OBS-692)"
      ],
      "text/plain": [
       "<IPython.core.display.Markdown object>"
      ]
     },
     "metadata": {},
     "output_type": "display_data"
    },
    {
     "data": {
      "text/markdown": [
       "- [OBS-690](https://rubinobs.atlassian.net/browse/OBS-690)"
      ],
      "text/plain": [
       "<IPython.core.display.Markdown object>"
      ]
     },
     "metadata": {},
     "output_type": "display_data"
    },
    {
     "data": {
      "text/markdown": [
       "- [OBS-691](https://rubinobs.atlassian.net/browse/OBS-691)"
      ],
      "text/plain": [
       "<IPython.core.display.Markdown object>"
      ]
     },
     "metadata": {},
     "output_type": "display_data"
    }
   ],
   "source": [
    "if allsrc.urls:\n",
    "    for url in allsrc.urls:\n",
    "        md(f\"- {mdpathlink(url)}\")"
   ]
  },
  {
   "cell_type": "code",
   "execution_count": 13,
   "id": "19",
   "metadata": {
    "jupyter": {
     "source_hidden": true
    }
   },
   "outputs": [
    {
     "data": {
      "text/markdown": [
       "No tickets found using: [API Data](https://usdf-rsp-dev.slac.stanford.edu/nightreport/reports?is_human=either&is_valid=true&order_by=-day_obs&offset=0&limit=100&min_day_obs=20241119&max_day_obs=20241120) in `confluence_url`."
      ],
      "text/plain": [
       "<IPython.core.display.Markdown object>"
      ]
     },
     "metadata": {},
     "output_type": "display_data"
    }
   ],
   "source": [
    "# Display Jira BLOCKS\n",
    "front = \"https://rubinobs.atlassian.net/projects/BLOCK?selectedItem=com.atlassian.plugins.atlassian-connect-plugin:com.kanoah.test-manager__main-project-page#!/\"\n",
    "tickets = allsrc.nig_src.nightly_tickets()\n",
    "if tickets:\n",
    "    mdstr = \"#### Nightly Jira BLOCKs\"\n",
    "    for day, url_list in tickets.items():\n",
    "        mdstr += f\"\\n- {day}\"\n",
    "        for ticket_url in url_list:\n",
    "            mdstr += f'\\n    - [{ticket_url.replace(front,\"\")}]({ticket_url})'\n",
    "    md(mdstr)\n",
    "else:\n",
    "    endpoint_url = allsrc.nig_src.status[\"reports\"][\"endpoint_url\"]\n",
    "    md(f\"No tickets found using: [API Data]({endpoint_url}) in `confluence_url`.\")"
   ]
  },
  {
   "cell_type": "markdown",
   "id": "20",
   "metadata": {},
   "source": [
    "## BLOCKS Observed <font style=\"background-color:yellow; color:black; font-size:20px\">DRAFT</font>\n",
    "- TODO: BLOCKS observed"
   ]
  },
  {
   "cell_type": "markdown",
   "id": "71772e8d-658d-497a-b391-5996066f401a",
   "metadata": {},
   "source": [
    "## Data Log <font style=\"background-color:green; color:white; font-size:20px\">BETA</font>"
   ]
  },
  {
   "cell_type": "code",
   "execution_count": 14,
   "id": "1b509665-d538-4bd9-a93c-22c3ec1ded12",
   "metadata": {},
   "outputs": [
    {
     "data": {
      "text/markdown": [
       "**LSSTComCamSim: 0 total exposures**"
      ],
      "text/plain": [
       "<IPython.core.display.Markdown object>"
      ]
     },
     "metadata": {},
     "output_type": "display_data"
    },
    {
     "data": {
      "text/markdown": [
       "**LATISS: 0 total exposures**"
      ],
      "text/plain": [
       "<IPython.core.display.Markdown object>"
      ]
     },
     "metadata": {},
     "output_type": "display_data"
    },
    {
     "data": {
      "text/markdown": [
       "**LSSTComCam: 0 total exposures**"
      ],
      "text/plain": [
       "<IPython.core.display.Markdown object>"
      ]
     },
     "metadata": {},
     "output_type": "display_data"
    },
    {
     "data": {
      "text/markdown": [
       "**LSSTCam: 0 total exposures**"
      ],
      "text/plain": [
       "<IPython.core.display.Markdown object>"
      ]
     },
     "metadata": {},
     "output_type": "display_data"
    }
   ],
   "source": [
    "# Exposure Report\n",
    "for instrum in allsrc.exp_src.exposures.keys():\n",
    "    md(f'**{instrum}: {len(allsrc.exp_src.exposures[instrum])} total exposures**')\n",
    "    df_dict = allsrc.fields_count_exposure(instrum)\n",
    "    for field_name,df in df_dict.items():\n",
    "        if df.empty:\n",
    "            continue\n",
    "        print(field_name.title().replace('_',' '))\n",
    "        display(HTML(df.style.hide().to_html(escape=False)))"
   ]
  },
  {
   "cell_type": "markdown",
   "id": "20820900-05ab-4ca5-8df5-9f725c0ee570",
   "metadata": {},
   "source": [
    "## Narrative Log <font style=\"background-color:green; color:white; font-size:20px\">BETA</font> "
   ]
  },
  {
   "cell_type": "code",
   "execution_count": 15,
   "id": "26",
   "metadata": {
    "editable": true,
    "jupyter": {
     "source_hidden": true
    },
    "slideshow": {
     "slide_type": ""
    },
    "tags": []
   },
   "outputs": [
    {
     "data": {
      "text/markdown": [
       "- **2024-11-19 09:51:45.871329** Time Lost: 0.0; Time Lost Type: fault;\n",
       "    - components: ['MainTel']\n",
       "    - primary_software_components: ['None']\n",
       "    - primary_hardware_components: ['None']\n",
       "\n",
       "<pre style='color: black; background-color: white; font-size: 1em; margin-left: 0px; '>We weren't able to lock the Y+ mirror cover in place using the EUI. It was fully retracted but the lock didn't engage. We spent about 20 minutes trying to troubleshoot, but had to give up.</pre>\n"
      ],
      "text/plain": [
       "<IPython.core.display.Markdown object>"
      ]
     },
     "metadata": {},
     "output_type": "display_data"
    },
    {
     "data": {
      "text/markdown": [
       "- **2024-11-19 09:05:43.008185** Time Lost: 0.0; Time Lost Type: fault;\n",
       "    - components: ['MainTel']\n",
       "    - primary_software_components: ['None']\n",
       "    - primary_hardware_components: ['None']\n",
       "\n",
       "<pre style='color: black; background-color: white; font-size: 1em; margin-left: 0px; '>Dome is closed. Continuing with parking and shutdown procedures.</pre>\n"
      ],
      "text/plain": [
       "<IPython.core.display.Markdown object>"
      ]
     },
     "metadata": {},
     "output_type": "display_data"
    },
    {
     "data": {
      "text/markdown": [
       "- **2024-11-19 08:21:58.224141** Time Lost: 0.0; Time Lost Type: fault;\n",
       "    - components: ['MainTel']\n",
       "    - primary_software_components: ['None']\n",
       "    - primary_hardware_components: ['None']\n",
       "\n",
       "<pre style='color: black; background-color: white; font-size: 1em; margin-left: 0px; '>Closing the mirror covers with the script is faulting the MTPtg. See SalIndex 104010 for more details.</pre>\n"
      ],
      "text/plain": [
       "<IPython.core.display.Markdown object>"
      ]
     },
     "metadata": {},
     "output_type": "display_data"
    },
    {
     "data": {
      "text/markdown": [
       "- **2024-11-19 08:09:14.367060** Time Lost: 0.0; Time Lost Type: fault;\n",
       "    - components: ['MainTel']\n",
       "    - primary_software_components: ['None']\n",
       "    - primary_hardware_components: ['None']\n",
       "\n",
       "<pre style='color: black; background-color: white; font-size: 1em; margin-left: 0px; '>AOS testing finished for the night. Testing team departing. Preparing closing procedures.</pre>\n"
      ],
      "text/plain": [
       "<IPython.core.display.Markdown object>"
      ]
     },
     "metadata": {},
     "output_type": "display_data"
    },
    {
     "data": {
      "text/markdown": [
       "- **2024-11-19 07:45:43.774875** Time Lost: 0.0; Time Lost Type: fault;\n",
       "    - components: ['MainTel']\n",
       "    - primary_software_components: ['None']\n",
       "    - primary_hardware_components: ['None']\n",
       "\n",
       "<pre style='color: black; background-color: white; font-size: 1em; margin-left: 0px; '>Slewing to elevation 65 to get more measurements for LUT. Likely last set.</pre>\n"
      ],
      "text/plain": [
       "<IPython.core.display.Markdown object>"
      ]
     },
     "metadata": {},
     "output_type": "display_data"
    },
    {
     "data": {
      "text/markdown": [
       "- **2024-11-19 07:43:29.803078** Time Lost: 0.0; Time Lost Type: fault;\n",
       "    - components: ['MainTel']\n",
       "    - primary_software_components: ['None']\n",
       "    - primary_hardware_components: ['None']\n",
       "\n",
       "<pre style='color: black; background-color: white; font-size: 1em; margin-left: 0px; '>MTPtg fails to track target. Trying to resume the script and getting the CSC faults again.</pre>\n"
      ],
      "text/plain": [
       "<IPython.core.display.Markdown object>"
      ]
     },
     "metadata": {},
     "output_type": "display_data"
    },
    {
     "data": {
      "text/markdown": [
       "- **2024-11-19 06:59:08.974844** Time Lost: 0.0; Time Lost Type: fault;\n",
       "    - components: ['MainTel']\n",
       "    - primary_software_components: ['None']\n",
       "    - primary_hardware_components: ['None']\n",
       "\n",
       "<pre style='color: black; background-color: white; font-size: 1em; margin-left: 0px; '>After some negotiating with the system, we are finally able to run BLOCK-286.</pre>\n"
      ],
      "text/plain": [
       "<IPython.core.display.Markdown object>"
      ]
     },
     "metadata": {},
     "output_type": "display_data"
    },
    {
     "data": {
      "text/markdown": [
       "- **2024-11-19 06:44:57.573631** Time Lost: 0.0; Time Lost Type: fault;\n",
       "    - components: ['MainTel']\n",
       "    - primary_software_components: ['None']\n",
       "    - primary_hardware_components: ['None']\n",
       "\n",
       "<pre style='color: black; background-color: white; font-size: 1em; margin-left: 0px; '>Zeroing corrections and starting from scratch after a few corrections failed to apply errors.</pre>\n"
      ],
      "text/plain": [
       "<IPython.core.display.Markdown object>"
      ]
     },
     "metadata": {},
     "output_type": "display_data"
    },
    {
     "data": {
      "text/markdown": [
       "- **2024-11-19 06:13:41.408965** Time Lost: 0.0; Time Lost Type: fault;\n",
       "    - components: ['MainTel']\n",
       "    - primary_software_components: ['None']\n",
       "    - primary_hardware_components: ['None']\n",
       "\n",
       "<pre style='color: black; background-color: white; font-size: 1em; margin-left: 0px; '>Beginning BLOCK-286</pre>\n"
      ],
      "text/plain": [
       "<IPython.core.display.Markdown object>"
      ]
     },
     "metadata": {},
     "output_type": "display_data"
    },
    {
     "data": {
      "text/markdown": [
       "- **2024-11-19 06:12:23.915316** Time Lost: 0.0; Time Lost Type: fault;\n",
       "    - components: ['MainTel']\n",
       "    - primary_software_components: ['None']\n",
       "    - primary_hardware_components: ['None']\n",
       "\n",
       "<pre style='color: black; background-color: white; font-size: 1em; margin-left: 0px; '>Back on sky, in position. Taking an image at 0 (hexapod positions) - BLOCK-291. Had to pause to enable compensation mode.</pre>\n"
      ],
      "text/plain": [
       "<IPython.core.display.Markdown object>"
      ]
     },
     "metadata": {},
     "output_type": "display_data"
    },
    {
     "data": {
      "text/markdown": [
       "- **2024-11-19 06:09:26.818252** Time Lost: 0.0; Time Lost Type: fault;\n",
       "    - components: ['MainTel']\n",
       "    - primary_software_components: ['None']\n",
       "    - primary_hardware_components: ['None']\n",
       "\n",
       "<pre style='color: black; background-color: white; font-size: 1em; margin-left: 0px; '>Tiago assisting in troubleshooting, attempting a quick fix through ocsqueue.</pre>\n"
      ],
      "text/plain": [
       "<IPython.core.display.Markdown object>"
      ]
     },
     "metadata": {},
     "output_type": "display_data"
    },
    {
     "data": {
      "text/markdown": [
       "- **2024-11-19 05:56:55.423836** Time Lost: 0.0; Time Lost Type: fault;\n",
       "    - components: ['MainTel']\n",
       "    - primary_software_components: ['None']\n",
       "    - primary_hardware_components: ['None']\n",
       "\n",
       "<pre style='color: black; background-color: white; font-size: 1em; margin-left: 0px; '>Another timeout - Tiago looking into possible DDS issues.</pre>\n"
      ],
      "text/plain": [
       "<IPython.core.display.Markdown object>"
      ]
     },
     "metadata": {},
     "output_type": "display_data"
    },
    {
     "data": {
      "text/markdown": [
       "- **2024-11-19 05:47:27.969789** Time Lost: 0.0; Time Lost Type: fault;\n",
       "    - components: ['MainTel']\n",
       "    - primary_software_components: ['None']\n",
       "    - primary_hardware_components: ['None']\n",
       "\n",
       "<pre style='color: black; background-color: white; font-size: 1em; margin-left: 0px; '>Slew and track target was failing due to long slew in azimuth. Applying timeout buffer.</pre>\n"
      ],
      "text/plain": [
       "<IPython.core.display.Markdown object>"
      ]
     },
     "metadata": {},
     "output_type": "display_data"
    },
    {
     "data": {
      "text/markdown": [
       "- **2024-11-19 05:35:50.081106** Time Lost: 0.0; Time Lost Type: fault;\n",
       "    - components: ['MainTel']\n",
       "    - primary_software_components: ['None']\n",
       "    - primary_hardware_components: ['None']\n",
       "\n",
       "<pre style='color: black; background-color: white; font-size: 1em; margin-left: 0px; '>Compensation mode was disabled due to undetermined reason.</pre>\n"
      ],
      "text/plain": [
       "<IPython.core.display.Markdown object>"
      ]
     },
     "metadata": {},
     "output_type": "display_data"
    },
    {
     "data": {
      "text/markdown": [
       "- **2024-11-19 05:33:51.570259** Time Lost: 0.0; Time Lost Type: fault;\n",
       "    - components: ['MainTel']\n",
       "    - primary_software_components: ['None']\n",
       "    - primary_hardware_components: ['None']\n",
       "\n",
       "<pre style='color: black; background-color: white; font-size: 1em; margin-left: 0px; '>M2 Hexapod goes into fault state.</pre>\n"
      ],
      "text/plain": [
       "<IPython.core.display.Markdown object>"
      ]
     },
     "metadata": {},
     "output_type": "display_data"
    },
    {
     "data": {
      "text/markdown": [
       "- **2024-11-19 04:18:17.846129** Time Lost: 0.0; Time Lost Type: fault;\n",
       "    - components: ['MainTel']\n",
       "    - primary_software_components: ['None']\n",
       "    - primary_hardware_components: ['None']\n",
       "\n",
       "<pre style='color: black; background-color: white; font-size: 1em; margin-left: 0px; '>Cycling the MTAOS CSC.</pre>\n"
      ],
      "text/plain": [
       "<IPython.core.display.Markdown object>"
      ]
     },
     "metadata": {},
     "output_type": "display_data"
    },
    {
     "data": {
      "text/markdown": [
       "- **2024-11-19 04:14:32.157850** Time Lost: 0.0; Time Lost Type: fault;\n",
       "    - components: ['MainTel']\n",
       "    - primary_software_components: ['None']\n",
       "    - primary_hardware_components: ['None']\n",
       "\n",
       "<pre style='color: black; background-color: white; font-size: 1em; margin-left: 0px; '>AOS team investigating.</pre>\n"
      ],
      "text/plain": [
       "<IPython.core.display.Markdown object>"
      ]
     },
     "metadata": {},
     "output_type": "display_data"
    },
    {
     "data": {
      "text/markdown": [
       "- **2024-11-19 04:14:21.818259** Time Lost: 0.0; Time Lost Type: fault;\n",
       "    - components: ['MainTel']\n",
       "    - primary_software_components: ['None']\n",
       "    - primary_hardware_components: ['None']\n",
       "\n",
       "<pre style='color: black; background-color: white; font-size: 1em; margin-left: 0px; '>Close loop comcam failed.</pre>\n"
      ],
      "text/plain": [
       "<IPython.core.display.Markdown object>"
      ]
     },
     "metadata": {},
     "output_type": "display_data"
    },
    {
     "data": {
      "text/markdown": [
       "- **2024-11-19 04:10:48.791505** Time Lost: 0.0; Time Lost Type: fault;\n",
       "    - components: ['MainTel']\n",
       "    - primary_software_components: ['None']\n",
       "    - primary_hardware_components: ['None']\n",
       "\n",
       "<pre style='color: black; background-color: white; font-size: 1em; margin-left: 0px; '>Going back to AOS testing. BLOCK-291.</pre>\n"
      ],
      "text/plain": [
       "<IPython.core.display.Markdown object>"
      ]
     },
     "metadata": {},
     "output_type": "display_data"
    },
    {
     "data": {
      "text/markdown": [
       "- **2024-11-19 03:59:15.458371** Time Lost: 0.0; Time Lost Type: fault;\n",
       "    - components: ['MainTel']\n",
       "    - primary_software_components: ['None']\n",
       "    - primary_hardware_components: ['None']\n",
       "\n",
       "<pre style='color: black; background-color: white; font-size: 1em; margin-left: 0px; '>Intento no 3</pre>\n"
      ],
      "text/plain": [
       "<IPython.core.display.Markdown object>"
      ]
     },
     "metadata": {},
     "output_type": "display_data"
    },
    {
     "data": {
      "text/markdown": [
       "- Link: [OBS-692](https://rubinobs.atlassian.net/browse/OBS-692)"
      ],
      "text/plain": [
       "<IPython.core.display.Markdown object>"
      ]
     },
     "metadata": {},
     "output_type": "display_data"
    },
    {
     "data": {
      "text/markdown": [
       "- **2024-11-19 03:51:39.755884** Time Lost: 0.0; Time Lost Type: fault;\n",
       "    - components: ['MainTel']\n",
       "    - primary_software_components: ['None']\n",
       "    - primary_hardware_components: ['None']\n",
       "\n",
       "<pre style='color: black; background-color: white; font-size: 1em; margin-left: 0px; '>Intento no 2.</pre>\n"
      ],
      "text/plain": [
       "<IPython.core.display.Markdown object>"
      ]
     },
     "metadata": {},
     "output_type": "display_data"
    },
    {
     "data": {
      "text/markdown": [
       "- Link: [OBS-691](https://rubinobs.atlassian.net/browse/OBS-691)"
      ],
      "text/plain": [
       "<IPython.core.display.Markdown object>"
      ]
     },
     "metadata": {},
     "output_type": "display_data"
    },
    {
     "data": {
      "text/markdown": [
       "- **2024-11-19 03:33:31.692957** Time Lost: 0.0; Time Lost Type: fault;\n",
       "    - components: ['MainTel']\n",
       "    - primary_software_components: ['None']\n",
       "    - primary_hardware_components: ['None']\n",
       "\n",
       "<pre style='color: black; background-color: white; font-size: 1em; margin-left: 0px; '>Running BLOCK-75. Giant donut.</pre>\n"
      ],
      "text/plain": [
       "<IPython.core.display.Markdown object>"
      ]
     },
     "metadata": {},
     "output_type": "display_data"
    },
    {
     "data": {
      "text/markdown": [
       "- **2024-11-19 03:23:08.408621** Time Lost: 0.0; Time Lost Type: fault;\n",
       "    - components: ['MainTel']\n",
       "    - primary_software_components: ['None']\n",
       "    - primary_hardware_components: ['None']\n",
       "\n",
       "<pre style='color: black; background-color: white; font-size: 1em; margin-left: 0px; '>Testing ticket creation.</pre>\n"
      ],
      "text/plain": [
       "<IPython.core.display.Markdown object>"
      ]
     },
     "metadata": {},
     "output_type": "display_data"
    },
    {
     "data": {
      "text/markdown": [
       "- Link: [OBS-690](https://rubinobs.atlassian.net/browse/OBS-690)"
      ],
      "text/plain": [
       "<IPython.core.display.Markdown object>"
      ]
     },
     "metadata": {},
     "output_type": "display_data"
    },
    {
     "data": {
      "text/markdown": [
       "- **2024-11-19 03:14:40.756263** Time Lost: 0.0; Time Lost Type: fault;\n",
       "    - components: ['MainTel']\n",
       "    - primary_software_components: ['None']\n",
       "    - primary_hardware_components: ['Other']\n",
       "\n",
       "<pre style='color: black; background-color: white; font-size: 1em; margin-left: 0px; '>Logged a request to clean the all-sky cam.</pre>\n"
      ],
      "text/plain": [
       "<IPython.core.display.Markdown object>"
      ]
     },
     "metadata": {},
     "output_type": "display_data"
    },
    {
     "data": {
      "text/markdown": [
       "- Link: [OBS-689](https://rubinobs.atlassian.net/browse/OBS-689)"
      ],
      "text/plain": [
       "<IPython.core.display.Markdown object>"
      ]
     },
     "metadata": {},
     "output_type": "display_data"
    },
    {
     "data": {
      "text/markdown": [
       "- **2024-11-19 02:45:53.141702** Time Lost: 0.0; Time Lost Type: fault;\n",
       "    - components: ['MainTel']\n",
       "    - primary_software_components: ['None']\n",
       "    - primary_hardware_components: ['None']\n",
       "\n",
       "<pre style='color: black; background-color: white; font-size: 1em; margin-left: 0px; '>Starting BLOCK-291. Starting with dof to get a baseline.</pre>\n"
      ],
      "text/plain": [
       "<IPython.core.display.Markdown object>"
      ]
     },
     "metadata": {},
     "output_type": "display_data"
    },
    {
     "data": {
      "text/markdown": [
       "- **2024-11-19 02:41:44.612666** Time Lost: 0.0; Time Lost Type: fault;\n",
       "    - components: ['MainTel']\n",
       "    - primary_software_components: ['None']\n",
       "    - primary_hardware_components: ['None']\n",
       "\n",
       "<pre style='color: black; background-color: white; font-size: 1em; margin-left: 0px; '>Keith confirms that they have all the z-band data they think they need. Stopping scheduler and moving on the AOS testing.</pre>\n"
      ],
      "text/plain": [
       "<IPython.core.display.Markdown object>"
      ]
     },
     "metadata": {},
     "output_type": "display_data"
    },
    {
     "data": {
      "text/markdown": [
       "- **2024-11-19 02:34:39.756283** Time Lost: 0.0; Time Lost Type: fault;\n",
       "    - components: ['MainTel']\n",
       "    - primary_software_components: ['None']\n",
       "    - primary_hardware_components: ['None']\n",
       "\n",
       "<pre style='color: black; background-color: white; font-size: 1em; margin-left: 0px; '>MTPTg and MTMount failed - causing timeout errors in image-taking scripts. Cycling CSCs.</pre>\n"
      ],
      "text/plain": [
       "<IPython.core.display.Markdown object>"
      ]
     },
     "metadata": {},
     "output_type": "display_data"
    },
    {
     "data": {
      "text/markdown": [
       "- **2024-11-19 01:59:42.785731** Time Lost: 0.0; Time Lost Type: fault;\n",
       "    - components: ['MainTel']\n",
       "    - primary_software_components: ['None']\n",
       "    - primary_hardware_components: ['None']\n",
       "\n",
       "<pre style='color: black; background-color: white; font-size: 1em; margin-left: 0px; '>tried to track_target then MTPtg and MTMount faulted again for the same reason from earlier tonight. \r\n",
       "\r\n",
       "\r\n",
       "salindex=103873 2024/11/19 01:58:20 TAI</pre>\n"
      ],
      "text/plain": [
       "<IPython.core.display.Markdown object>"
      ]
     },
     "metadata": {},
     "output_type": "display_data"
    },
    {
     "data": {
      "text/markdown": [
       "- **2024-11-19 01:57:37.303222** Time Lost: 0.0; Time Lost Type: fault;\n",
       "    - components: ['MainTel']\n",
       "    - primary_software_components: ['None']\n",
       "    - primary_hardware_components: ['None']\n",
       "\n",
       "<pre style='color: black; background-color: white; font-size: 1em; margin-left: 0px; '>Recovering, stopping the scheduler.</pre>\n"
      ],
      "text/plain": [
       "<IPython.core.display.Markdown object>"
      ]
     },
     "metadata": {},
     "output_type": "display_data"
    },
    {
     "data": {
      "text/markdown": [
       "- **2024-11-19 01:57:27.921693** Time Lost: 0.0; Time Lost Type: fault;\n",
       "    - components: ['MainTel']\n",
       "    - primary_software_components: ['None']\n",
       "    - primary_hardware_components: ['None']\n",
       "\n",
       "<pre style='color: black; background-color: white; font-size: 1em; margin-left: 0px; '>M2hexapod faulted, probably due to Tiago's update on m2hexapod to inform us when compensation mode is disabled.</pre>\n"
      ],
      "text/plain": [
       "<IPython.core.display.Markdown object>"
      ]
     },
     "metadata": {},
     "output_type": "display_data"
    },
    {
     "data": {
      "text/markdown": [
       "- **2024-11-19 01:50:53.640090** Time Lost: 0.0; Time Lost Type: fault;\n",
       "    - components: ['MainTel']\n",
       "    - primary_software_components: ['None']\n",
       "    - primary_hardware_components: ['None']\n",
       "\n",
       "<pre style='color: black; background-color: white; font-size: 1em; margin-left: 0px; '>BLOCK-T155 started</pre>\n"
      ],
      "text/plain": [
       "<IPython.core.display.Markdown object>"
      ]
     },
     "metadata": {},
     "output_type": "display_data"
    },
    {
     "data": {
      "text/markdown": [
       "- **2024-11-19 01:50:27.477680** Time Lost: 0.0; Time Lost Type: fault;\n",
       "    - components: ['MainTel']\n",
       "    - primary_software_components: ['None']\n",
       "    - primary_hardware_components: ['None']\n",
       "\n",
       "<pre style='color: black; background-color: white; font-size: 1em; margin-left: 0px; '>We will skip the 15 sec exp close_loop_comcam from BLOCK-292 because it is repeating T249. \r\n",
       "\r\n",
       "\r\n",
       "30sec run data can be compared with BLOCK-249 data.</pre>\n"
      ],
      "text/plain": [
       "<IPython.core.display.Markdown object>"
      ]
     },
     "metadata": {},
     "output_type": "display_data"
    },
    {
     "data": {
      "text/markdown": [
       "- **2024-11-19 01:27:44.671484** Time Lost: 0.0; Time Lost Type: fault;\n",
       "    - components: ['MainTel']\n",
       "    - primary_software_components: ['None']\n",
       "    - primary_hardware_components: ['None']\n",
       "\n",
       "<pre style='color: black; background-color: white; font-size: 1em; margin-left: 0px; '>set_dof\r\n",
       "dofs: [-1.18130823e+03, -5.70040010e+01,  7.52120018e+01,  0.00000000e+00,\r\n",
       "        0.00000000e+00,  1.83383889e+03, -6.66709989e+01,  7.41173029e+02,\r\n",
       "        8.99999961e-03,  0.00000000e+00,  0.00000000e+00,  0.00000000e+00,\r\n",
       "        0.00000000e+00,  0.00000000e+00,  0.00000000e+00,  0.00000000e+00,\r\n",
       "        0.00000000e+00,  0.00000000e+00,  0.00000000e+00,  0.00000000e+00,\r\n",
       "        0.00000000e+00,  0.00000000e+00,  0.00000000e+00,  0.00000000e+00,\r\n",
       "        0.00000000e+00,  0.00000000e+00,  0.00000000e+00,  0.00000000e+00,\r\n",
       "        0.00000000e+00,  0.00000000e+00,  0.00000000e+00,  0.00000000e+00,\r\n",
       "        0.00000000e+00,  0.00000000e+00,  0.00000000e+00,  0.00000000e+00,\r\n",
       "        0.00000000e+00,  0.00000000e+00,  0.00000000e+00,  0.00000000e+00,\r\n",
       "        0.00000000e+00,  0.00000000e+00,  0.00000000e+00,  0.00000000e+00,\r\n",
       "        0.00000000e+00,  0.00000000e+00,  0.00000000e+00,  0.00000000e+00,\r\n",
       "        0.00000000e+00,  0.00000000e+00]</pre>\n"
      ],
      "text/plain": [
       "<IPython.core.display.Markdown object>"
      ]
     },
     "metadata": {},
     "output_type": "display_data"
    },
    {
     "data": {
      "text/markdown": [
       "- **2024-11-19 01:26:45.716058** Time Lost: 0.0; Time Lost Type: fault;\n",
       "    - components: ['MainTel']\n",
       "    - primary_software_components: ['None']\n",
       "    - primary_hardware_components: ['None']\n",
       "\n",
       "<pre style='color: black; background-color: white; font-size: 1em; margin-left: 0px; '>Starting BLOCK-T292 which is exp 30 sec version which we were doing so far until last night</pre>\n"
      ],
      "text/plain": [
       "<IPython.core.display.Markdown object>"
      ]
     },
     "metadata": {},
     "output_type": "display_data"
    },
    {
     "data": {
      "text/markdown": [
       "- **2024-11-19 01:25:29.273549** Time Lost: 0.0; Time Lost Type: fault;\n",
       "    - components: ['MainTel']\n",
       "    - primary_software_components: ['None']\n",
       "    - primary_hardware_components: ['None']\n",
       "\n",
       "<pre style='color: black; background-color: white; font-size: 1em; margin-left: 0px; '>take image to make sure we are focused</pre>\n"
      ],
      "text/plain": [
       "<IPython.core.display.Markdown object>"
      ]
     },
     "metadata": {},
     "output_type": "display_data"
    },
    {
     "data": {
      "text/markdown": [
       "- **2024-11-19 01:18:56.245468** Time Lost: 0.0; Time Lost Type: fault;\n",
       "    - components: ['MainTel']\n",
       "    - primary_software_components: ['None']\n",
       "    - primary_hardware_components: ['None']\n",
       "\n",
       "<pre style='color: black; background-color: white; font-size: 1em; margin-left: 0px; '>We are checking the PSF FWHM and compare to the SOAR seeing, we got the 1.63 FWHM while seeing was 1.4.\r\n",
       "Residual AOS FWHM was going lower, to 0.29, so we decided to rerun the close_loop_comcam with max_iter : 2\r\n",
       "with same config from before.</pre>\n"
      ],
      "text/plain": [
       "<IPython.core.display.Markdown object>"
      ]
     },
     "metadata": {},
     "output_type": "display_data"
    },
    {
     "data": {
      "text/markdown": [
       "- **2024-11-19 01:14:12.142802** Time Lost: 0.0; Time Lost Type: fault;\n",
       "    - components: ['MainTel']\n",
       "    - primary_software_components: ['None']\n",
       "    - primary_hardware_components: ['None']\n",
       "\n",
       "<pre style='color: black; background-color: white; font-size: 1em; margin-left: 0px; '>Compensation failed; CSC going to Fault.\r\n",
       "\r\n",
       "\r\n",
       "raise salobj.ExpectedError(reason)\r\n",
       "lsst.ts.salobj.base.ExpectedError: Not in ENABLED/Stationary state</pre>\n"
      ],
      "text/plain": [
       "<IPython.core.display.Markdown object>"
      ]
     },
     "metadata": {},
     "output_type": "display_data"
    },
    {
     "data": {
      "text/markdown": [
       "- **2024-11-19 01:13:42.334980** Time Lost: 0.0; Time Lost Type: fault;\n",
       "    - components: ['MainTel']\n",
       "    - primary_software_components: ['None']\n",
       "    - primary_hardware_components: ['None']\n",
       "\n",
       "<pre style='color: black; background-color: white; font-size: 1em; margin-left: 0px; '>Recover M2 hexapod \r\n",
       "\r\n",
       "\r\n",
       "Put the compensation mode back</pre>\n"
      ],
      "text/plain": [
       "<IPython.core.display.Markdown object>"
      ]
     },
     "metadata": {},
     "output_type": "display_data"
    },
    {
     "data": {
      "text/markdown": [
       "- **2024-11-19 01:11:40.073625** Time Lost: 0.0; Time Lost Type: fault;\n",
       "    - components: ['MainTel']\n",
       "    - primary_software_components: ['None']\n",
       "    - primary_hardware_components: ['None']\n",
       "\n",
       "<pre style='color: black; background-color: white; font-size: 1em; margin-left: 0px; '>M2Hexapod faulted.</pre>\n"
      ],
      "text/plain": [
       "<IPython.core.display.Markdown object>"
      ]
     },
     "metadata": {},
     "output_type": "display_data"
    },
    {
     "data": {
      "text/markdown": [
       "- **2024-11-19 01:00:34.868294** Time Lost: 0.0; Time Lost Type: fault;\n",
       "    - components: ['MainTel']\n",
       "    - primary_software_components: ['None']\n",
       "    - primary_hardware_components: ['None']\n",
       "\n",
       "<pre style='color: black; background-color: white; font-size: 1em; margin-left: 0px; '>close_loop_comcam\r\n",
       "max_iter: 5\r\n",
       "used_dofs: [0, 1, 2, 3, 4, 5, 6, 7, 8, 9, 10, 11, 12, 13, 14, 15, 16, 17, 18, 19, 20, 21, 22, 23, 26, 27, 30, 31, 32, 33, 34, 35, 36, 37, 38, 39, 40, 41, 42, 43, 44, 47]</pre>\n"
      ],
      "text/plain": [
       "<IPython.core.display.Markdown object>"
      ]
     },
     "metadata": {},
     "output_type": "display_data"
    },
    {
     "data": {
      "text/markdown": [
       "- **2024-11-19 00:52:28.621259** Time Lost: 0.0; Time Lost Type: fault;\n",
       "    - components: ['MainTel']\n",
       "    - primary_software_components: ['None']\n",
       "    - primary_hardware_components: ['None']\n",
       "\n",
       "<pre style='color: black; background-color: white; font-size: 1em; margin-left: 0px; '>starting BLOCK-T249\r\n",
       "close_loop_comcam\r\n",
       "max_iter: 3\r\n",
       "with used_dofs: [0, 5]</pre>\n"
      ],
      "text/plain": [
       "<IPython.core.display.Markdown object>"
      ]
     },
     "metadata": {},
     "output_type": "display_data"
    },
    {
     "data": {
      "text/markdown": [
       "- **2024-11-19 00:47:09.764310** Time Lost: 0.0; Time Lost Type: fault;\n",
       "    - components: ['MainTel']\n",
       "    - primary_software_components: ['None']\n",
       "    - primary_hardware_components: ['None']\n",
       "\n",
       "<pre style='color: black; background-color: white; font-size: 1em; margin-left: 0px; '>take_image_comcam with 15exp time, ACQ</pre>\n"
      ],
      "text/plain": [
       "<IPython.core.display.Markdown object>"
      ]
     },
     "metadata": {},
     "output_type": "display_data"
    },
    {
     "data": {
      "text/markdown": [
       "- **2024-11-19 00:42:51.831961** Time Lost: 0.0; Time Lost Type: fault;\n",
       "    - components: ['MainTel']\n",
       "    - primary_software_components: ['None']\n",
       "    - primary_hardware_components: ['None']\n",
       "\n",
       "<pre style='color: black; background-color: white; font-size: 1em; margin-left: 0px; '>CCW needs to say tracking in the EUI to match with the rotator but says Status: Enable \r\n",
       "\r\n",
       "\r\n",
       "Run_command \r\n",
       "component: MTMount \r\n",
       "cmd: enableCameraWrapFollowing</pre>\n"
      ],
      "text/plain": [
       "<IPython.core.display.Markdown object>"
      ]
     },
     "metadata": {},
     "output_type": "display_data"
    },
    {
     "data": {
      "text/markdown": [
       "- **2024-11-19 00:40:42.339685** Time Lost: 0.0; Time Lost Type: fault;\n",
       "    - components: ['MainTel']\n",
       "    - primary_software_components: ['None']\n",
       "    - primary_hardware_components: ['None']\n",
       "\n",
       "<pre style='color: black; background-color: white; font-size: 1em; margin-left: 0px; '>Enable dome following</pre>\n"
      ],
      "text/plain": [
       "<IPython.core.display.Markdown object>"
      ]
     },
     "metadata": {},
     "output_type": "display_data"
    },
    {
     "data": {
      "text/markdown": [
       "- **2024-11-19 00:40:21.610719** Time Lost: 0.0; Time Lost Type: fault;\n",
       "    - components: ['MainTel']\n",
       "    - primary_software_components: ['None']\n",
       "    - primary_hardware_components: ['None']\n",
       "\n",
       "<pre style='color: black; background-color: white; font-size: 1em; margin-left: 0px; '>Whoops accidentally ran the script for AuxTel</pre>\n"
      ],
      "text/plain": [
       "<IPython.core.display.Markdown object>"
      ]
     },
     "metadata": {},
     "output_type": "display_data"
    },
    {
     "data": {
      "text/markdown": [
       "- **2024-11-19 00:39:31.259549** Time Lost: 0.0; Time Lost Type: fault;\n",
       "    - components: ['MainTel']\n",
       "    - primary_software_components: ['None']\n",
       "    - primary_hardware_components: ['None']\n",
       "\n",
       "<pre style='color: black; background-color: white; font-size: 1em; margin-left: 0px; '>salIndex: 103851\r\n",
       " - [STANDARD]\r\n",
       " - Started at: 2024-11-19T00:38:20.733\r\n",
       "\r\n",
       "\r\n",
       "Enable dome following failed \r\n",
       "\r\n",
       "\r\n",
       "File \"/opt/lsst/software/stack/conda/envs/lsst-scipipe-9.0.0/lib/python3.11/site-packages/lsst/ts/salobj/topics/remote_command.py\", line 191, in next_ackcmd\r\n",
       "    raise base.AckError(msg=\"Command failed\", ackcmd=ackcmd)\r\n",
       "lsst.ts.salobj.base.AckError: msg='Command failed', ackcmd=(ackcmd private_seqNum=1062628139, ack=&lt;SalRetCode.CMD_FAILED: -302&gt;, error=1, result='Failed: Not allowed in state=&lt;State.STANDBY: 5&gt;')\r\n",
       "\r\n",
       "\r\n",
       "Cycle MTDomeTrajectory</pre>\n"
      ],
      "text/plain": [
       "<IPython.core.display.Markdown object>"
      ]
     },
     "metadata": {},
     "output_type": "display_data"
    },
    {
     "data": {
      "text/markdown": [
       "- **2024-11-19 00:38:18.271839** Time Lost: 0.0; Time Lost Type: fault;\n",
       "    - components: ['MainTel']\n",
       "    - primary_software_components: ['None']\n",
       "    - primary_hardware_components: ['None']\n",
       "\n",
       "<pre style='color: black; background-color: white; font-size: 1em; margin-left: 0px; '>Move the dome to the same position as the TMA\r\n",
       "\r\n",
       "\r\n",
       "Then enable dome following</pre>\n"
      ],
      "text/plain": [
       "<IPython.core.display.Markdown object>"
      ]
     },
     "metadata": {},
     "output_type": "display_data"
    },
    {
     "data": {
      "text/markdown": [
       "- **2024-11-19 00:37:13.346916** Time Lost: 0.0; Time Lost Type: fault;\n",
       "    - components: ['MainTel']\n",
       "    - primary_software_components: ['None']\n",
       "    - primary_hardware_components: ['None']\n",
       "\n",
       "<pre style='color: black; background-color: white; font-size: 1em; margin-left: 0px; '>Moving to Euclid Deep Field South position\r\n",
       "\r\n",
       "\r\n",
       "RA (decimal hours): 3.940\r\n",
       "Dec = -48.73</pre>\n"
      ],
      "text/plain": [
       "<IPython.core.display.Markdown object>"
      ]
     },
     "metadata": {},
     "output_type": "display_data"
    },
    {
     "data": {
      "text/markdown": [
       "- **2024-11-19 00:34:23.801134** Time Lost: 0.0; Time Lost Type: fault;\n",
       "    - components: ['MainTel']\n",
       "    - primary_software_components: ['None']\n",
       "    - primary_hardware_components: ['None']\n",
       "\n",
       "<pre style='color: black; background-color: white; font-size: 1em; margin-left: 0px; '>MTPtg is enabled \r\n",
       "Enabling the scheduler</pre>\n"
      ],
      "text/plain": [
       "<IPython.core.display.Markdown object>"
      ]
     },
     "metadata": {},
     "output_type": "display_data"
    },
    {
     "data": {
      "text/markdown": [
       "- **2024-11-19 00:32:43.670640** Time Lost: 0.0; Time Lost Type: fault;\n",
       "    - components: ['MainTel']\n",
       "    - primary_software_components: ['None']\n",
       "    - primary_hardware_components: ['None']\n",
       "\n",
       "<pre style='color: black; background-color: white; font-size: 1em; margin-left: 0px; '>Tiago updating MTPtg and scheduler\r\n",
       "Sending MTPtg and scheduler to OFFLINE</pre>\n"
      ],
      "text/plain": [
       "<IPython.core.display.Markdown object>"
      ]
     },
     "metadata": {},
     "output_type": "display_data"
    },
    {
     "data": {
      "text/markdown": [
       "- **2024-11-19 00:31:55.165542** Time Lost: 0.0; Time Lost Type: fault;\n",
       "    - components: ['MainTel']\n",
       "    - primary_software_components: ['None']\n",
       "    - primary_hardware_components: ['None']\n",
       "\n",
       "<pre style='color: black; background-color: white; font-size: 1em; margin-left: 0px; '>Stop tracking for the MTPtg and scheduler updates.</pre>\n"
      ],
      "text/plain": [
       "<IPython.core.display.Markdown object>"
      ]
     },
     "metadata": {},
     "output_type": "display_data"
    },
    {
     "data": {
      "text/markdown": [
       "- **2024-11-19 00:28:19.925734** Time Lost: 0.0; Time Lost Type: fault;\n",
       "    - components: ['MainTel']\n",
       "    - primary_software_components: ['None']\n",
       "    - primary_hardware_components: ['None']\n",
       "\n",
       "<pre style='color: black; background-color: white; font-size: 1em; margin-left: 0px; '>Try moving closer to the twilight az/el position</pre>\n"
      ],
      "text/plain": [
       "<IPython.core.display.Markdown object>"
      ]
     },
     "metadata": {},
     "output_type": "display_data"
    },
    {
     "data": {
      "text/markdown": [
       "- **2024-11-19 00:27:49.984434** Time Lost: 0.0; Time Lost Type: fault;\n",
       "    - components: ['MainTel']\n",
       "    - primary_software_components: ['None']\n",
       "    - primary_hardware_components: ['None']\n",
       "\n",
       "<pre style='color: black; background-color: white; font-size: 1em; margin-left: 0px; '>Rerunning track_target \r\n",
       "Worked this time</pre>\n"
      ],
      "text/plain": [
       "<IPython.core.display.Markdown object>"
      ]
     },
     "metadata": {},
     "output_type": "display_data"
    },
    {
     "data": {
      "text/markdown": [
       "- **2024-11-19 00:25:47.811228** Time Lost: 0.0; Time Lost Type: fault;\n",
       "    - components: ['MainTel']\n",
       "    - primary_software_components: ['None']\n",
       "    - primary_hardware_components: ['None']\n",
       "\n",
       "<pre style='color: black; background-color: white; font-size: 1em; margin-left: 0px; '>Reenabled MTPtg</pre>\n"
      ],
      "text/plain": [
       "<IPython.core.display.Markdown object>"
      ]
     },
     "metadata": {},
     "output_type": "display_data"
    },
    {
     "data": {
      "text/markdown": [
       "- **2024-11-19 00:25:30.207016** Time Lost: 0.0; Time Lost Type: fault;\n",
       "    - components: ['MainTel']\n",
       "    - primary_software_components: ['None']\n",
       "    - primary_hardware_components: ['None']\n",
       "\n",
       "<pre style='color: black; background-color: white; font-size: 1em; margin-left: 0px; '>2024/11/19 00:01:50 TAI\r\n",
       "salIndex: 103845\r\n",
       " MTPtg faulted\r\n",
       "Error MTMount replied error for trackTarget command (1738745515) Error no:1 message:Failed: Command with id 12377078 has timed</pre>\n"
      ],
      "text/plain": [
       "<IPython.core.display.Markdown object>"
      ]
     },
     "metadata": {},
     "output_type": "display_data"
    },
    {
     "data": {
      "text/markdown": [
       "- **2024-11-19 00:24:23.830204** Time Lost: 0.0; Time Lost Type: fault;\n",
       "    - components: ['MainTel']\n",
       "    - primary_software_components: ['None']\n",
       "    - primary_hardware_components: ['None']\n",
       "\n",
       "<pre style='color: black; background-color: white; font-size: 1em; margin-left: 0px; '>Trying track_target again</pre>\n"
      ],
      "text/plain": [
       "<IPython.core.display.Markdown object>"
      ]
     },
     "metadata": {},
     "output_type": "display_data"
    },
    {
     "data": {
      "text/markdown": [
       "- **2024-11-19 00:23:26.157231** Time Lost: 0.0; Time Lost Type: fault;\n",
       "    - components: ['MainTel']\n",
       "    - primary_software_components: ['None']\n",
       "    - primary_hardware_components: ['None']\n",
       "\n",
       "<pre style='color: black; background-color: white; font-size: 1em; margin-left: 0px; '>The move_p2p script worked</pre>\n"
      ],
      "text/plain": [
       "<IPython.core.display.Markdown object>"
      ]
     },
     "metadata": {},
     "output_type": "display_data"
    },
    {
     "data": {
      "text/markdown": [
       "- **2024-11-19 00:22:59.773738** Time Lost: 0.0; Time Lost Type: fault;\n",
       "    - components: ['MainTel']\n",
       "    - primary_software_components: ['None']\n",
       "    - primary_hardware_components: ['None']\n",
       "\n",
       "<pre style='color: black; background-color: white; font-size: 1em; margin-left: 0px; '>Tiago sent stop command to the mount \r\n",
       "\r\n",
       "\r\n",
       "Now trying to run move_p2p script again</pre>\n"
      ],
      "text/plain": [
       "<IPython.core.display.Markdown object>"
      ]
     },
     "metadata": {},
     "output_type": "display_data"
    },
    {
     "data": {
      "text/markdown": [
       "- **2024-11-19 00:21:58.040112** Time Lost: 0.0; Time Lost Type: fault;\n",
       "    - components: ['MainTel']\n",
       "    - primary_software_components: ['None']\n",
       "    - primary_hardware_components: ['None']\n",
       "\n",
       "<pre style='color: black; background-color: white; font-size: 1em; margin-left: 0px; '>but it stopped tracking.</pre>\n"
      ],
      "text/plain": [
       "<IPython.core.display.Markdown object>"
      ]
     },
     "metadata": {},
     "output_type": "display_data"
    },
    {
     "data": {
      "text/markdown": [
       "- **2024-11-19 00:21:43.710986** Time Lost: 0.0; Time Lost Type: fault;\n",
       "    - components: ['MainTel']\n",
       "    - primary_software_components: ['None']\n",
       "    - primary_hardware_components: ['None']\n",
       "\n",
       "<pre style='color: black; background-color: white; font-size: 1em; margin-left: 0px; '>salIndex: 103842 - Started at: 2024-11-19T00:20:16.091Z\r\n",
       "Move p2p failed\r\n",
       "raise base.AckError(msg=\"Command failed\", ackcmd=ackcmd)\r\n",
       "lsst.ts.salobj.base.AckError: msg='Command failed', ackcmd=(ackcmd private_seqNum=930398849, ack=&lt;SalRetCode.CMD_FAILED: -302&gt;, error=1, result='Failed: The commands allowed in Tracking are: Stop\\n\\nNot accepted command: 103\\nThe commands allowed in Tracking are: Stop\\n\\nNot accepted command: 403')</pre>\n"
      ],
      "text/plain": [
       "<IPython.core.display.Markdown object>"
      ]
     },
     "metadata": {},
     "output_type": "display_data"
    },
    {
     "data": {
      "text/markdown": [
       "- **2024-11-19 00:21:17.157898** Time Lost: 0.0; Time Lost Type: fault;\n",
       "    - components: ['MainTel']\n",
       "    - primary_software_components: ['None']\n",
       "    - primary_hardware_components: ['None']\n",
       "\n",
       "<pre style='color: black; background-color: white; font-size: 1em; margin-left: 0px; '>salIndex: 103828\r\n",
       "2024/11/18 22:32:20 TAI</pre>\n"
      ],
      "text/plain": [
       "<IPython.core.display.Markdown object>"
      ]
     },
     "metadata": {},
     "output_type": "display_data"
    },
    {
     "data": {
      "text/markdown": [
       "- **2024-11-19 00:21:01.590729** Time Lost: 0.0; Time Lost Type: fault;\n",
       "    - components: ['MainTel']\n",
       "    - primary_software_components: ['None']\n",
       "    - primary_hardware_components: ['None']\n",
       "\n",
       "<pre style='color: black; background-color: white; font-size: 1em; margin-left: 0px; '>Dome following disabled (verified in MTDome Status Chronograf dashboard)</pre>\n"
      ],
      "text/plain": [
       "<IPython.core.display.Markdown object>"
      ]
     },
     "metadata": {},
     "output_type": "display_data"
    },
    {
     "data": {
      "text/markdown": [
       "- **2024-11-19 00:14:04.351311** Time Lost: 0.0; Time Lost Type: fault;\n",
       "    - components: ['MainTel']\n",
       "    - primary_software_components: ['None']\n",
       "    - primary_hardware_components: ['None']\n",
       "\n",
       "<pre style='color: black; background-color: white; font-size: 1em; margin-left: 0px; '>Stop tracking</pre>\n"
      ],
      "text/plain": [
       "<IPython.core.display.Markdown object>"
      ]
     },
     "metadata": {},
     "output_type": "display_data"
    },
    {
     "data": {
      "text/markdown": [
       "- **2024-11-19 00:13:03.728048** Time Lost: 0.0; Time Lost Type: fault;\n",
       "    - components: ['MainTel']\n",
       "    - primary_software_components: ['None']\n",
       "    - primary_hardware_components: ['None']\n",
       "\n",
       "<pre style='color: black; background-color: white; font-size: 1em; margin-left: 0px; '>MTPtg wen to fault \r\n",
       "SAL Index:103835\r\n",
       "\r\n",
       "\r\n",
       "\r\n",
       "\r\n",
       "\r\n",
       "\r\n",
       "This time MTMount did not fault</pre>\n"
      ],
      "text/plain": [
       "<IPython.core.display.Markdown object>"
      ]
     },
     "metadata": {},
     "output_type": "display_data"
    },
    {
     "data": {
      "text/markdown": [
       "- **2024-11-19 00:12:59.117690** Time Lost: 0.0; Time Lost Type: fault;\n",
       "    - components: ['MainTel']\n",
       "    - primary_software_components: ['None']\n",
       "    - primary_hardware_components: ['None']\n",
       "\n",
       "<pre style='color: black; background-color: white; font-size: 1em; margin-left: 0px; '>salindex=103835 2024-11-19T00:09:58.643Z</pre>\n"
      ],
      "text/plain": [
       "<IPython.core.display.Markdown object>"
      ]
     },
     "metadata": {},
     "output_type": "display_data"
    },
    {
     "data": {
      "text/markdown": [
       "- **2024-11-19 00:09:28.916253** Time Lost: 0.0; Time Lost Type: fault;\n",
       "    - components: ['MainTel']\n",
       "    - primary_software_components: ['None']\n",
       "    - primary_hardware_components: ['None']\n",
       "\n",
       "<pre style='color: black; background-color: white; font-size: 1em; margin-left: 0px; '>Trying track target again</pre>\n"
      ],
      "text/plain": [
       "<IPython.core.display.Markdown object>"
      ]
     },
     "metadata": {},
     "output_type": "display_data"
    },
    {
     "data": {
      "text/markdown": [
       "- **2024-11-19 00:08:35.577085** Time Lost: 0.0; Time Lost Type: fault;\n",
       "    - components: ['MainTel']\n",
       "    - primary_software_components: ['None']\n",
       "    - primary_hardware_components: ['None']\n",
       "\n",
       "<pre style='color: black; background-color: white; font-size: 1em; margin-left: 0px; '>Home both axes\r\n",
       "Enable M1M3 balance system \r\n",
       "Enable M1M3 slew controller flags</pre>\n"
      ],
      "text/plain": [
       "<IPython.core.display.Markdown object>"
      ]
     },
     "metadata": {},
     "output_type": "display_data"
    },
    {
     "data": {
      "text/markdown": [
       "- **2024-11-19 00:04:30.419216** Time Lost: 0.0; Time Lost Type: fault;\n",
       "    - components: ['MainTel']\n",
       "    - primary_software_components: ['None']\n",
       "    - primary_hardware_components: ['None']\n",
       "\n",
       "<pre style='color: black; background-color: white; font-size: 1em; margin-left: 0px; '>Recover MTPTg\r\n",
       "Recover MTMount</pre>\n"
      ],
      "text/plain": [
       "<IPython.core.display.Markdown object>"
      ]
     },
     "metadata": {},
     "output_type": "display_data"
    },
    {
     "data": {
      "text/markdown": [
       "- **2024-11-19 00:03:08.741028** Time Lost: 0.0; Time Lost Type: fault;\n",
       "    - components: ['MainTel']\n",
       "    - primary_software_components: ['None']\n",
       "    - primary_hardware_components: ['None']\n",
       "\n",
       "<pre style='color: black; background-color: white; font-size: 1em; margin-left: 0px; '>Ran M1M3 slew controller flag\r\n",
       "\r\n",
       "\r\n",
       "Then track target again.  Failed \r\n",
       "\r\n",
       "\r\n",
       "File \"/opt/lsst/software/stack/conda/envs/lsst-scipipe-9.0.0/lib/python3.11/site-packages/lsst/ts/salobj/topics/remote_command.py\", line 191, in next_ackcmd\r\n",
       "    raise base.AckError(msg=\"Command failed\", ackcmd=ackcmd)\r\n",
       "lsst.ts.salobj.base.AckError: msg='Command failed', ackcmd=(ackcmd private_seqNum=2065515253, ack=&lt;SalRetCode.CMD_FAILED: -302&gt;, error=6612, result='Rejected : command not allowed in current state')</pre>\n"
      ],
      "text/plain": [
       "<IPython.core.display.Markdown object>"
      ]
     },
     "metadata": {},
     "output_type": "display_data"
    }
   ],
   "source": [
    "# Narrative Report\n",
    "# Time Log\n",
    "allrep.nar_rep.time_log_as_markdown()"
   ]
  },
  {
   "cell_type": "markdown",
   "id": "27",
   "metadata": {},
   "source": [
    "-----------\n",
    "------------"
   ]
  },
  {
   "cell_type": "markdown",
   "id": "cd0567ce-4ae9-428e-8f9d-df8277511392",
   "metadata": {},
   "source": [
    "# Developer Only Section <font style=\"background-color:red; olor:black; font-size:20px\">REMOVE</font>\n",
    "Contains stuff only expected to be useful to developers.\n",
    "\n",
    "This may also contain sections that have moved out of the user section because they are no longer defined in the Storyboard."
   ]
  },
  {
   "cell_type": "markdown",
   "id": "34",
   "metadata": {},
   "source": [
    "## Overview \n"
   ]
  },
  {
   "cell_type": "code",
   "execution_count": 16,
   "id": "6e220d29-aac6-4d70-80e2-7dd3ef99944c",
   "metadata": {},
   "outputs": [
    {
     "data": {
      "text/markdown": [
       "## Project-Wide Night(s) Report \n",
       "- Run on logs and databases from **https://usdf-rsp-dev.slac.stanford.edu/**\n",
       "- Report **1 observing night(s)** with the last reported night starting on **2024-11-19 12:00:00**.\n",
       "- min_dayobs='2024-11-19', max_dayobs='2024-11-20'\n",
       "- Using ***Prototype* Logging and Reporting** Version: **52.dev0+g783922c.d20241115**\n",
       "- have_consdb = False\n",
       "- Imported lsst.ts.logging_and_reporting from local packages.\n",
       "- allsrc.nig_src.timeout=(5.05, 20.0)\n"
      ],
      "text/plain": [
       "<IPython.core.display.Markdown object>"
      ]
     },
     "metadata": {},
     "output_type": "display_data"
    }
   ],
   "source": [
    "# Display overview of Report context\n",
    "try:\n",
    "    import lsst.ts.logging_and_reporting.version\n",
    "\n",
    "    lrversion = lsst.ts.logging_and_reporting.version.__version__\n",
    "except:\n",
    "    lrversion = \"LIVE\"\n",
    "\n",
    "try:\n",
    "    from lsst.summit.utils import ConsDbClient\n",
    "\n",
    "    have_consdb = True\n",
    "except:\n",
    "    have_consdb = False\n",
    "md(\n",
    "    f\"\"\"## Project-Wide Night(s) Report \n",
    "- Run on logs and databases from **{server}/**\n",
    "- Report **{days} observing night(s)** with the last reported night starting on **{date}**.\n",
    "- min_dayobs={allsrc.min_dayobs!r}, max_dayobs={allsrc.max_dayobs!r}\n",
    "- Using ***Prototype* Logging and Reporting** Version: **{lrversion}**\n",
    "- {have_consdb = }\n",
    "- {dev_msg}\n",
    "- {allsrc.nig_src.timeout=}\n",
    "\"\"\")"
   ]
  },
  {
   "cell_type": "markdown",
   "id": "47ef40d3-f6d4-4b6a-80bf-55a613d3f884",
   "metadata": {},
   "source": [
    "## Data Status\n",
    "This may be useful for diagnosing reports that give unexpected results."
   ]
  },
  {
   "cell_type": "code",
   "execution_count": 17,
   "id": "b076e98a-44a2-437c-9342-a180fe2cd829",
   "metadata": {
    "jupyter": {
     "source_hidden": true
    }
   },
   "outputs": [
    {
     "data": {
      "text/html": [
       "<table border=\"1\" class=\"dataframe\">\n",
       "  <thead>\n",
       "    <tr style=\"text-align: right;\">\n",
       "      <th>Endpoint</th>\n",
       "      <th>Records</th>\n",
       "      <th>URL</th>\n",
       "    </tr>\n",
       "  </thead>\n",
       "  <tbody>\n",
       "    <tr>\n",
       "      <td>nightreport/reports</td>\n",
       "      <td>0</td>\n",
       "      <td><a href=\"https://usdf-rsp-dev.slac.stanford.edu/nightreport/reports?is_human=either&is_valid=true&order_by=-day_obs&offset=0&limit=100&min_day_obs=20241119&max_day_obs=20241120\" target=\"_blank\">https://usdf-rsp-dev.slac.stanford.edu/nightreport/reports?is_human=either&is_valid=true&order_by=-day_obs&offset=0&limit=100&min_day_obs=20241119&max_day_obs=20241120</a></td>\n",
       "    </tr>\n",
       "    <tr>\n",
       "      <td>exposurelog/instruments</td>\n",
       "      <td>3</td>\n",
       "      <td><a href=\"https://usdf-rsp-dev.slac.stanford.edu/exposurelog/instruments\" target=\"_blank\">https://usdf-rsp-dev.slac.stanford.edu/exposurelog/instruments</a></td>\n",
       "    </tr>\n",
       "    <tr>\n",
       "      <td>exposurelog/exposures.LSSTComCamSim</td>\n",
       "      <td>0</td>\n",
       "      <td><a href=\"https://usdf-rsp-dev.slac.stanford.edu/exposurelog/exposures?registry=1&instrument=LSSTComCamSim&order_by=-timespan_end&offset=0&limit=2500&min_day_obs=20241119&max_day_obs=20241120\" target=\"_blank\">https://usdf-rsp-dev.slac.stanford.edu/exposurelog/exposures?registry=1&instrument=LSSTComCamSim&order_by=-timespan_end&offset=0&limit=2500&min_day_obs=20241119&max_day_obs=20241120</a></td>\n",
       "    </tr>\n",
       "    <tr>\n",
       "      <td>exposurelog/exposures.LATISS</td>\n",
       "      <td>0</td>\n",
       "      <td><a href=\"https://usdf-rsp-dev.slac.stanford.edu/exposurelog/exposures?registry=1&instrument=LATISS&order_by=-timespan_end&offset=0&limit=2500&min_day_obs=20241119&max_day_obs=20241120\" target=\"_blank\">https://usdf-rsp-dev.slac.stanford.edu/exposurelog/exposures?registry=1&instrument=LATISS&order_by=-timespan_end&offset=0&limit=2500&min_day_obs=20241119&max_day_obs=20241120</a></td>\n",
       "    </tr>\n",
       "    <tr>\n",
       "      <td>exposurelog/exposures.LSSTComCam</td>\n",
       "      <td>0</td>\n",
       "      <td><a href=\"https://usdf-rsp-dev.slac.stanford.edu/exposurelog/exposures?registry=1&instrument=LSSTComCam&order_by=-timespan_end&offset=0&limit=2500&min_day_obs=20241119&max_day_obs=20241120\" target=\"_blank\">https://usdf-rsp-dev.slac.stanford.edu/exposurelog/exposures?registry=1&instrument=LSSTComCam&order_by=-timespan_end&offset=0&limit=2500&min_day_obs=20241119&max_day_obs=20241120</a></td>\n",
       "    </tr>\n",
       "    <tr>\n",
       "      <td>exposurelog/exposures.LSSTCam</td>\n",
       "      <td>0</td>\n",
       "      <td><a href=\"https://usdf-rsp-dev.slac.stanford.edu/exposurelog/exposures?registry=1&instrument=LSSTCam&order_by=-timespan_end&offset=0&limit=2500&min_day_obs=20241119&max_day_obs=20241120\" target=\"_blank\">https://usdf-rsp-dev.slac.stanford.edu/exposurelog/exposures?registry=1&instrument=LSSTCam&order_by=-timespan_end&offset=0&limit=2500&min_day_obs=20241119&max_day_obs=20241120</a></td>\n",
       "    </tr>\n",
       "    <tr>\n",
       "      <td>exposurelog/messages</td>\n",
       "      <td>0</td>\n",
       "      <td><a href=\"https://usdf-rsp-dev.slac.stanford.edu/exposurelog/messages?is_human=either&is_valid=true&order_by=-day_obs&offset=0&limit=2500&min_day_obs=20241119&max_day_obs=20241120\" target=\"_blank\">https://usdf-rsp-dev.slac.stanford.edu/exposurelog/messages?is_human=either&is_valid=true&order_by=-day_obs&offset=0&limit=2500&min_day_obs=20241119&max_day_obs=20241120</a></td>\n",
       "    </tr>\n",
       "    <tr>\n",
       "      <td>narrativelog/messages</td>\n",
       "      <td>69</td>\n",
       "      <td><a href=\"https://usdf-rsp-dev.slac.stanford.edu/narrativelog/messages?is_human=either&is_valid=true&order_by=-date_added&offset=0&limit=1000&min_date_added=2024-11-19T00%3A00%3A00&max_date_added=2024-11-20T00%3A00%3A00\" target=\"_blank\">https://usdf-rsp-dev.slac.stanford.edu/narrativelog/messages?is_human=either&is_valid=true&order_by=-date_added&offset=0&limit=1000&min_date_added=2024-11-19T00%3A00%3A00&max_date_added=2024-11-20T00%3A00%3A00</a></td>\n",
       "    </tr>\n",
       "    <tr>\n",
       "      <td>efd/targets</td>\n",
       "      <td>0</td>\n",
       "      <td>NA</td>\n",
       "    </tr>\n",
       "  </tbody>\n",
       "</table>"
      ],
      "text/plain": [
       "<IPython.core.display.HTML object>"
      ]
     },
     "metadata": {},
     "output_type": "display_data"
    }
   ],
   "source": [
    "df = pd.DataFrame(allsrc.get_data_status())\n",
    "table = df.to_html(\n",
    "    index=False, \n",
    "    render_links=True,\n",
    "    escape=False)\n",
    "display(HTML(table))"
   ]
  },
  {
   "cell_type": "markdown",
   "id": "37",
   "metadata": {},
   "source": [
    "## This report uses the following data sources\n",
    "- NightReport\n",
    "- Exposurelog\n",
    "- Narrativelog\n",
    "- EFD\n",
    "- ConsDB\n",
    "- (DDV)\n",
    "- (Almanac from Astroplan)"
   ]
  },
  {
   "cell_type": "markdown",
   "id": "40",
   "metadata": {},
   "source": [
    "## Where was this run?\n",
    "\n",
    "The environments that have everything needed to run this page are:\n",
    "\n",
    "    https://summit-lsp.lsst.codes\n",
    "    https://usdf-rsp-dev.slac.stanford.edu\n",
    "\n",
    "However, Times Square does not run on the Summit. It does run on USDF-dev.\n"
   ]
  },
  {
   "cell_type": "markdown",
   "id": "41",
   "metadata": {},
   "source": [
    "## Section overviews moved here"
   ]
  },
  {
   "cell_type": "code",
   "execution_count": 18,
   "id": "42",
   "metadata": {
    "jupyter": {
     "source_hidden": true
    }
   },
   "outputs": [
    {
     "data": {
      "text/markdown": [
       "### Overview for Service: `nightreport` [0]"
      ],
      "text/plain": [
       "<IPython.core.display.Markdown object>"
      ]
     },
     "metadata": {},
     "output_type": "display_data"
    },
    {
     "name": "stdout",
     "output_type": "stream",
     "text": [
      "None\n"
     ]
    },
    {
     "data": {
      "text/markdown": [
       "- Endpoint: https://usdf-rsp-dev.slac.stanford.edu/nightreport/reports?is_human=either&is_valid=true&order_by=-day_obs&offset=0&limit=100&min_day_obs=20241119&max_day_obs=20241120"
      ],
      "text/plain": [
       "<IPython.core.display.Markdown object>"
      ]
     },
     "metadata": {},
     "output_type": "display_data"
    },
    {
     "name": "stdout",
     "output_type": "stream",
     "text": [
      "None\n",
      "- Got 0 records.  \n"
     ]
    },
    {
     "data": {
      "text/markdown": [
       "### Overview for Service: `exposurelog` [0]"
      ],
      "text/plain": [
       "<IPython.core.display.Markdown object>"
      ]
     },
     "metadata": {},
     "output_type": "display_data"
    },
    {
     "name": "stdout",
     "output_type": "stream",
     "text": [
      "None\n"
     ]
    },
    {
     "data": {
      "text/markdown": [
       "- Endpoint: https://usdf-rsp-dev.slac.stanford.edu/exposurelog/messages?is_human=either&is_valid=true&order_by=-day_obs&offset=0&limit=2500&min_day_obs=20241119&max_day_obs=20241120"
      ],
      "text/plain": [
       "<IPython.core.display.Markdown object>"
      ]
     },
     "metadata": {},
     "output_type": "display_data"
    },
    {
     "name": "stdout",
     "output_type": "stream",
     "text": [
      "None\n",
      "- Got 0 records.  \n"
     ]
    },
    {
     "data": {
      "text/markdown": [
       "### Overview for Service: `narrativelog` [69]"
      ],
      "text/plain": [
       "<IPython.core.display.Markdown object>"
      ]
     },
     "metadata": {},
     "output_type": "display_data"
    },
    {
     "name": "stdout",
     "output_type": "stream",
     "text": [
      "None\n"
     ]
    },
    {
     "data": {
      "text/markdown": [
       "- Endpoint: https://usdf-rsp-dev.slac.stanford.edu/narrativelog/messages?is_human=either&is_valid=true&order_by=-date_added&offset=0&limit=1000&min_date_added=2024-11-19T00%3A00%3A00&max_date_added=2024-11-20T00%3A00%3A00"
      ],
      "text/plain": [
       "<IPython.core.display.Markdown object>"
      ]
     },
     "metadata": {},
     "output_type": "display_data"
    },
    {
     "name": "stdout",
     "output_type": "stream",
     "text": [
      "None\n",
      "- Got 69 records.  \n"
     ]
    }
   ],
   "source": [
    "# Night Report Overview\n",
    "allrep.nig_rep.overview()\n",
    "# Exposure Report Overview\n",
    "allrep.exp_rep.overview()\n",
    "# Narrative Report Overview\n",
    "allrep.nar_rep.overview()"
   ]
  },
  {
   "cell_type": "code",
   "execution_count": 19,
   "id": "43",
   "metadata": {
    "jupyter": {
     "source_hidden": true
    }
   },
   "outputs": [],
   "source": [
    "# Conditionally display our current ability to connect to all needed endpoints.\n",
    "if False and not os.environ.get(\"EXTERNAL_INSTANCE_URL\"):\n",
    "    md(\"## Dashboard\")\n",
    "    md(\"(This is not done when running under Times Square.)\")\n",
    "    %run ./dashboard.ipynb"
   ]
  },
  {
   "cell_type": "markdown",
   "id": "09cba642-73db-4c3c-94f6-11aa311a3985",
   "metadata": {},
   "source": [
    "### According to Storybaord, this section should be removed ...\n",
    "... and replaced with a simple table tally of Good, Questionable, and  Junk exposures per instrument.\n",
    "| Symbol | Meaning |\n",
    "|:---|:---|\n",
    "| <font style=\"background-color:green; color:white; font-size:20px\">&nbsp;G&nbsp;</font>| Good |\n",
    "| <font style=\"background-color:yellow; color:black; font-size:20px\">&nbsp;?&nbsp;</font> | Questionable |\n",
    "| <font style=\"background-color:red; color:black; font-size:20px\">&nbsp;R&nbsp;</font> | Junk |\n"
   ]
  },
  {
   "cell_type": "code",
   "execution_count": 20,
   "id": "24",
   "metadata": {},
   "outputs": [],
   "source": [
    "# Time Log\n",
    "#! allrep.exp_rep.time_log_as_markdown()"
   ]
  },
  {
   "cell_type": "markdown",
   "id": "44",
   "metadata": {},
   "source": [
    "## Finale"
   ]
  },
  {
   "cell_type": "code",
   "execution_count": 21,
   "id": "45",
   "metadata": {},
   "outputs": [
    {
     "name": "stdout",
     "output_type": "stream",
     "text": [
      "Elapsed time (excluding code import): 5.2 seconds\n",
      "Finished 2024-11-19 15:33:50 UTC\n"
     ]
    }
   ],
   "source": [
    "print(f'Elapsed time (excluding code import): {timer.toc:.1f} seconds')\n",
    "print(f\"Finished {str(dt.datetime.now().replace(microsecond=0))} UTC\")"
   ]
  }
 ],
 "metadata": {
  "kernelspec": {
   "display_name": "Python 3 (ipykernel)",
   "language": "python",
   "name": "python3"
  },
  "language_info": {
   "codemirror_mode": {
    "name": "ipython",
    "version": 3
   },
   "file_extension": ".py",
   "mimetype": "text/x-python",
   "name": "python",
   "nbconvert_exporter": "python",
   "pygments_lexer": "ipython3",
   "version": "3.11.10"
  }
 },
 "nbformat": 4,
 "nbformat_minor": 5
}
