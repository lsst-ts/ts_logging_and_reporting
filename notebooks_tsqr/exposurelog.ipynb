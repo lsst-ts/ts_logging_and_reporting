{
 "cells": [
  {
   "cell_type": "code",
   "execution_count": null,
   "id": "0",
   "metadata": {},
   "outputs": [],
   "source": [
    "# Parameters. Set defaults here.\n",
    "# Times Square replaces this cell with the user's parameters.\n",
    "record_limit = '99'"
   ]
  },
  {
   "cell_type": "markdown",
   "id": "1",
   "metadata": {},
   "source": [
    "<a class=\"anchor\" id=\"imports\"></a>\n",
    "## Imports and General Setup"
   ]
  },
  {
   "cell_type": "code",
   "execution_count": null,
   "id": "2",
   "metadata": {},
   "outputs": [],
   "source": [
    "# Only use packages available in the Rubin Science Platform\n",
    "import requests\n",
    "from collections import defaultdict\n",
    "import pandas as pd\n",
    "from pprint import pp\n",
    "from urllib.parse import urlencode\n",
    "from IPython.display import FileLink, display_markdown\n",
    "from matplotlib import pyplot as plt\n",
    "import os"
   ]
  },
  {
   "cell_type": "code",
   "execution_count": null,
   "id": "3",
   "metadata": {},
   "outputs": [],
   "source": [
    "limit = int(record_limit)\n",
    "\n",
    "response_timeout = 3.05  # seconds, how long to wait for connection\n",
    "read_timeout = 20  # seconds\n",
    "timeout = (float(response_timeout), float(read_timeout))\n",
    "\n",
    "summit = 'https://summit-lsp.lsst.codes'\n",
    "usdf = 'https://usdf-rsp-dev.slac.stanford.edu'\n",
    "tucson = 'https://tucson-teststand.lsst.codes'\n",
    "server = os.environ.get('EXTERNAL_INSTANCE_URL', summit)\n",
    "log = 'exposurelog'\n",
    "service = f'{server}/{log}'\n",
    "service"
   ]
  },
  {
   "cell_type": "markdown",
   "id": "4",
   "metadata": {},
   "source": [
    "<a class=\"anchor\" id=\"setup_source\"></a>\n",
    "## Setup Source"
   ]
  },
  {
   "cell_type": "code",
   "execution_count": null,
   "id": "5",
   "metadata": {},
   "outputs": [],
   "source": [
    "recs = None\n",
    "ok = True\n",
    "\n",
    "ignore_fields = set(['tags', 'urls', 'message_text', 'id', 'date_added', \n",
    "                     'obs_id', 'day_obs', 'seq_num', 'parent_id', 'user_id',\n",
    "                     'date_invalidated', 'date_begin', 'date_end',\n",
    "                     'time_lost', # float\n",
    "                     #'systems','subsystems','cscs',  # values are lists, special handling\n",
    "                    ])"
   ]
  },
  {
   "cell_type": "code",
   "execution_count": null,
   "id": "6",
   "metadata": {},
   "outputs": [],
   "source": [
    "# logrep_utils.py\n",
    "\n",
    "############################################\n",
    "# Python Standard Library\n",
    "from urllib.parse import urlencode\n",
    "import itertools\n",
    "from datetime import datetime\n",
    "import warnings\n",
    "from collections import defaultdict\n",
    "############################################\n",
    "# External Packages\n",
    "import requests\n",
    "\n",
    "\n",
    "MAX_CONNECT_TIMEOUT = 3.1    # seconds\n",
    "MAX_READ_TIMEOUT = 90 * 60   # seconds\n",
    "\n",
    "class ApiAdapter:\n",
    "    def __init__(self, *,\n",
    "                 server_url='https://tucson-teststand.lsst.codes',\n",
    "                 connect_timeout=3.05,  # seconds\n",
    "                 read_timeout=10 * 60,  # seconds\n",
    "                 ):\n",
    "        self.server = server_url\n",
    "        self.c_timeout = min(MAX_CONNECT_TIMEOUT,\n",
    "                             float(connect_timeout))  # seconds\n",
    "        self.r_timeout = min(MAX_READ_TIMEOUT,  # seconds\n",
    "                             float(read_timeout))\n",
    "        self.timeout = (self.c_timeout, self.r_timeout)\n",
    "\n",
    "\n",
    "class ExposurelogAdapter(ApiAdapter):\n",
    "    service = 'exposurelog'\n",
    "\n",
    "    def get_instruments(self):\n",
    "        url = f'{self.server}/{self.service}/instruments'\n",
    "        try:\n",
    "            instruments = requests.get(url, timeout=self.timeout).json()\n",
    "        except Exception as err:\n",
    "            warnings.warn(f'No instruments retrieved: {err}')\n",
    "            instruments = dict(dummy=[])\n",
    "        # Flatten the lists\n",
    "        return list(itertools.chain.from_iterable(instruments.values()))\n",
    "\n",
    "    def get_exposures(self, instrument, registry=1):\n",
    "        qparams = dict(instrument=instrument, registery=registry)\n",
    "        url = f'{self.server}/{self.service}/exposures?{urlencode(qparams)}'\n",
    "        try:\n",
    "            recs = requests.get(url, timeout=self.timeout).json()\n",
    "        except Exception as err:\n",
    "            warnings.warn(f'No exposures retrieved: {err}')\n",
    "            recs = []\n",
    "        return recs\n",
    "\n",
    "    def get_observation_gaps(self, instruments=None,\n",
    "                             min_day_obs=None,  # YYYYMMDD\n",
    "                             max_day_obs=None,  # YYYYMMDD\n",
    "                             ):\n",
    "        if not instruments:\n",
    "            instruments = self.get_instruments()\n",
    "        assert isinstance(instruments,list), \\\n",
    "            f'\"instruments\" must be a list.  Got {instruments!r}'\n",
    "        \n",
    "        # inst_day_rollupol[instrument] => dict[day] => exposureGapInMinutes\n",
    "        inst_day_rollup = defaultdict(dict)  # Instrument/Day rollup\n",
    "\n",
    "        for instrum in instruments:\n",
    "            recs = self.get_exposures(instrum)\n",
    "            instrum_gaps = dict()\n",
    "            for day,dayrecs in itertools.groupby(recs,\n",
    "                                                 key=lambda r: r['day_obs']):\n",
    "                gaps = list()\n",
    "                begin = end = None\n",
    "                for rec in dayrecs:\n",
    "                    begin = rec['timespan_begin']\n",
    "                    if end:\n",
    "                        # span in minutes\n",
    "                        diff = (datetime.fromisoformat(begin)\n",
    "                                - datetime.fromisoformat(end)\n",
    "                                ).total_seconds() / 60.0\n",
    "\n",
    "                        gaps.append((\n",
    "                            datetime.fromisoformat(end).time().isoformat(),\n",
    "                            datetime.fromisoformat(begin).time().isoformat(),\n",
    "                            diff\n",
    "                        ))\n",
    "                    end = rec['timespan_end']\n",
    "                instrum_gaps[day] = gaps\n",
    "\n",
    "                #!roll = dict()\n",
    "                # Rollup gap times by day\n",
    "                for day,tuples in instrum_gaps.items():\n",
    "                    #!roll[day] = sum([t[2] for t in tuples])\n",
    "                    inst_day_rollup[instrum][day] = sum([t[2] for t in tuples])\n",
    "\n",
    "        return inst_day_rollup\n",
    "\n",
    "\n",
    "\n",
    "# gaps,recs = logrep_utils.ExposurelogAdapter(server_url='https://usdf-rsp-dev.slac.stanford.edu').get_observation_gaps('LSSTComCam')\n",
    "\n",
    "# gaps,recs = logrep_utils.ExposurelogAdapter(server_url='[[https://tucson-teststand.lsst.codes').get_observation_gaps('LSSTComCam')\n"
   ]
  },
  {
   "cell_type": "code",
   "execution_count": null,
   "id": "7",
   "metadata": {},
   "outputs": [],
   "source": [
    "gaps = ExposurelogAdapter(server_url=server).get_observation_gaps()\n",
    "dict(gaps)"
   ]
  },
  {
   "cell_type": "markdown",
   "id": "8",
   "metadata": {},
   "source": [
    "<a class=\"anchor\" id=\"get_records\"></a>\n",
    "## Get Records"
   ]
  },
  {
   "cell_type": "code",
   "execution_count": null,
   "id": "9",
   "metadata": {},
   "outputs": [],
   "source": [
    "# Endpoint: messages\n",
    "\n",
    "# is_human=either&is_valid=either&offset=0&limit=50' \n",
    "# site_ids=tucson&message_text=wubba&min_level=0&max_level=999&user_ids=spothier&user_agents=LOVE\n",
    "# tags=love&exclude_tags=ignore_message\n",
    "qstr = urlencode(dict(is_human='either',is_valid='either', limit=limit))\n",
    "url = f'{service}/messages?{qstr}'\n",
    "\n",
    "try:\n",
    "    print(f'Attempt to get logs from {url=}')\n",
    "    response = requests.get(url, timeout=timeout)\n",
    "    response.raise_for_status()\n",
    "    recs = response.json()\n",
    "    flds = set(recs[0].keys())\n",
    "    facflds = flds - ignore_fields\n",
    "    # facets(field) = set(value-1, value-2, ...)\n",
    "    facets = {fld: set([str(r[fld])\n",
    "                for r in recs if not isinstance(r[fld], list)]) \n",
    "                    for fld in facflds}\n",
    "except Exception as err:\n",
    "    ok = False\n",
    "    print(f'ERROR getting {log} from {url=}: {err=}')\n",
    "numf = len(flds) if ok else 0\n",
    "numr = len(recs) if ok else 0\n",
    "print(f'Retrieved {numr} records, each with {numf=} fields.')"
   ]
  },
  {
   "cell_type": "markdown",
   "id": "10",
   "metadata": {},
   "source": [
    "<a class=\"anchor\" id=\"table\"></a>\n",
    "## Tables of (mostly raw) results"
   ]
  },
  {
   "cell_type": "markdown",
   "id": "11",
   "metadata": {},
   "source": [
    "### Fields names provided in records from log."
   ]
  },
  {
   "cell_type": "code",
   "execution_count": null,
   "id": "12",
   "metadata": {},
   "outputs": [],
   "source": [
    "pd.DataFrame(flds, columns=['Field Name'])"
   ]
  },
  {
   "cell_type": "markdown",
   "id": "13",
   "metadata": {},
   "source": [
    "### Facets from log records.\n",
    "A *facet* is the set all of values found for a field in the retrieved records. Facets are only calculated for some fields."
   ]
  },
  {
   "cell_type": "code",
   "execution_count": null,
   "id": "14",
   "metadata": {},
   "outputs": [],
   "source": [
    "display(pd.DataFrame.from_dict(facets, orient='index'))\n",
    "facets"
   ]
  },
  {
   "cell_type": "markdown",
   "id": "15",
   "metadata": {},
   "source": [
    "### Table of selected log record fields.\n",
    "Table can be retrieved as CSV file for local use."
   ]
  },
  {
   "cell_type": "code",
   "execution_count": null,
   "id": "16",
   "metadata": {},
   "outputs": [],
   "source": [
    "cols = ['obs_id', 'user_id', 'user_agent','is_human','is_valid','exposure_flag']\n",
    "df = pd.DataFrame(recs)[cols]\n",
    "\n",
    "# Allow download of CSV version of DataFrame\n",
    "csvfile = 'tl.csv'\n",
    "df.to_csv(csvfile)\n",
    "myfile = FileLink(csvfile)\n",
    "print('Table available as CSV file: ')\n",
    "display(myfile)\n",
    "df"
   ]
  },
  {
   "cell_type": "code",
   "execution_count": null,
   "id": "17",
   "metadata": {},
   "outputs": [],
   "source": [
    "df = pd.DataFrame(recs)\n",
    "df"
   ]
  },
  {
   "cell_type": "code",
   "execution_count": null,
   "id": "18",
   "metadata": {},
   "outputs": [],
   "source": [
    "cols = ['obs_id', 'site_id', 'instrument', 'message_text', 'tags','user_id', 'user_agent','is_human','is_valid','exposure_flag']\n",
    "df = pd.DataFrame(recs, columns=None)\n",
    "df"
   ]
  },
  {
   "cell_type": "markdown",
   "id": "19",
   "metadata": {},
   "source": [
    "<a class=\"anchor\" id=\"plot\"></a>\n",
    "## Plots from log"
   ]
  },
  {
   "cell_type": "code",
   "execution_count": null,
   "id": "20",
   "metadata": {},
   "outputs": [],
   "source": [
    "display_markdown(f'### Date vs ExposureGap (minutes) for {instrument=!s}', raw=True)\n",
    "for instrument, day_gaps in gaps.items():\n",
    "    x,y = zip(*day_gaps.items())\n",
    "    df = pd.DataFrame(dict(day=x,minutes=y))\n",
    "    df.plot.bar(x='day', y='minutes', title=f'{instrument=!s}')"
   ]
  },
  {
   "cell_type": "markdown",
   "id": "21",
   "metadata": {},
   "source": [
    "<a class=\"anchor\" id=\"raw_analysis\"></a>\n",
    "## Raw Content Analysis"
   ]
  },
  {
   "cell_type": "markdown",
   "id": "22",
   "metadata": {},
   "source": [
    "### Example of one record"
   ]
  },
  {
   "cell_type": "code",
   "execution_count": null,
   "id": "23",
   "metadata": {},
   "outputs": [],
   "source": [
    "rec = recs[-1]\n",
    "\n",
    "msg = rec[\"message_text\"]\n",
    "md = f'Message text from log:\\n> {msg}'\n",
    "display_markdown(md, raw=True)\n",
    "\n",
    "md = f'One full record (the last one retrieved):\\n> {rec}'\n",
    "display_markdown(md, raw=True)\n",
    "\n",
    "display(rec)"
   ]
  },
  {
   "cell_type": "markdown",
   "id": "24",
   "metadata": {},
   "source": [
    "<a class=\"anchor\" id=\"elicitation\"></a>\n",
    "## Stakeholder Elicitation"
   ]
  },
  {
   "cell_type": "code",
   "execution_count": null,
   "id": "25",
   "metadata": {},
   "outputs": [],
   "source": [
    "#EXTERNAL_INSTANCE_URL\n",
    "ed = dict(os.environ.items())\n",
    "with pd.option_context('display.max_rows', None,):\n",
    "    print(pd.DataFrame(ed.values(), index=ed.keys()))"
   ]
  },
  {
   "cell_type": "code",
   "execution_count": null,
   "id": "26",
   "metadata": {},
   "outputs": [],
   "source": []
  }
 ],
 "metadata": {
  "kernelspec": {
   "display_name": "Python 3 (ipykernel)",
   "language": "python",
   "name": "python3"
  },
  "language_info": {
   "codemirror_mode": {
    "name": "ipython",
    "version": 3
   },
   "file_extension": ".py",
   "mimetype": "text/x-python",
   "name": "python",
   "nbconvert_exporter": "python",
   "pygments_lexer": "ipython3",
   "version": "3.10.12"
  }
 },
 "nbformat": 4,
 "nbformat_minor": 5
}
