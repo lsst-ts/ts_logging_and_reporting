{
 "cells": [
  {
   "cell_type": "markdown",
   "id": "0",
   "metadata": {},
   "source": [
    "# Logging and Reporting"
   ]
  },
  {
   "cell_type": "markdown",
   "id": "1",
   "metadata": {},
   "source": [
    "## Table of contents\n",
    "* [Parameters](#params)\n",
    "* [Imports and setup](#imports)\n",
    "* [Try every server](#every-server)\n",
    "* [Report](#report)"
   ]
  },
  {
   "cell_type": "markdown",
   "id": "2",
   "metadata": {},
   "source": [
    "<a class=\"anchor\" id=\"params\"></a>\n",
    "## Parameters\n",
    "The first code cell must contain parameters with string values for compatibility with Times Square.\n",
    "\n",
    "See: https://rsp.lsst.io/v/usdfdev/guides/times-square/index.html"
   ]
  },
  {
   "cell_type": "code",
   "execution_count": null,
   "id": "3",
   "metadata": {},
   "outputs": [],
   "source": [
    "# Parameters\n",
    "env = \"tucson\"  # usdf-dev, tucson, slac, summit\n",
    "record_limit = \"9999\"\n",
    "response_timeout = \"3.05\"  # seconds, how long to wait for connection\n",
    "read_timeout = \"20\"  # seconds"
   ]
  },
  {
   "cell_type": "markdown",
   "id": "4",
   "metadata": {},
   "source": [
    "<a class=\"anchor\" id=\"imports\"></a>\n",
    "## Imports and General Setup"
   ]
  },
  {
   "cell_type": "code",
   "execution_count": null,
   "id": "5",
   "metadata": {},
   "outputs": [],
   "source": [
    "from collections import defaultdict\n",
    "from pprint import pp\n",
    "\n",
    "import pandas as pd\n",
    "import requests"
   ]
  },
  {
   "cell_type": "code",
   "execution_count": null,
   "id": "6",
   "metadata": {},
   "outputs": [],
   "source": [
    "limit = int(record_limit)\n",
    "timeout = (float(response_timeout), float(read_timeout))\n",
    "\n",
    "# Env list comes from drop-down menu top of:\n",
    "# https://rsp.lsst.io/v/usdfdev/guides/times-square/\n",
    "envs = dict(\n",
    "    # rubin_usdf_dev = '',\n",
    "    # data_lsst_cloud = '',\n",
    "    # usdf = '',\n",
    "    # base_data_facility = '',\n",
    "    summit=\"https://summit-lsp.lsst.codes\",\n",
    "    usdf_dev=\"https://usdf-rsp-dev.slac.stanford.edu\",\n",
    "    # rubin_idf_int = '',\n",
    "    tucson=\"https://tucson-teststand.lsst.codes\",\n",
    ")\n",
    "envs"
   ]
  },
  {
   "cell_type": "markdown",
   "id": "7",
   "metadata": {},
   "source": [
    "<a class=\"anchor\" id=\"every-server\"></a>\n",
    "## Try to access every Server, every Log in our list\n",
    "We call the combination of a specific Server and specific Log a \"service\".\n",
    "This is a First Look.  As such, we don't try to get a useful list of records. \n",
    "Instead, we save a few pieces of data from each service.  A more tailored web-service call should be done to get useful records.  For each service, we save:\n",
    "1. The number of records retrieved\n",
    "1. The list of fields found in a record (we assume all records from a service have the same fields)\n",
    "1. An example of 1-2 records.\n",
    "1. The [Facets](https://en.wikipedia.org/wiki/Faceted_search) of the service for all service fields that are not explictly excluded."
   ]
  },
  {
   "cell_type": "code",
   "execution_count": null,
   "id": "8",
   "metadata": {},
   "outputs": [],
   "source": [
    "verbose = False\n",
    "fields = defaultdict(set)  # fields[(env,log)] = {field1, field2, ...}\n",
    "examples = defaultdict(list)  # examples[(env,log)] = [rec1, rec2]\n",
    "results = defaultdict(\n",
    "    dict\n",
    ")  # results[(env,log)] = dict(server,url, ok, numfields, numrecs)\n",
    "facets = defaultdict(\n",
    "    dict\n",
    ")  # facets[(env,log)] = dict(field) = set(value-1, value-2, ...)\n",
    "\n",
    "# Dumb! Using same ignore set for all LOGS.\n",
    "ignore_fields = set(\n",
    "    [\n",
    "        \"tags\",\n",
    "        \"urls\",\n",
    "        \"message_text\",\n",
    "        \"id\",\n",
    "        \"date_added\",\n",
    "        \"obs_id\",\n",
    "        \"day_obs\",\n",
    "        \"seq_num\",\n",
    "        \"parent_id\",\n",
    "        \"user_id\",\n",
    "        \"date_invalidated\",\n",
    "        \"date_begin\",\n",
    "        \"date_end\",\n",
    "        \"time_lost\",  # float\n",
    "        #'systems','subsystems','cscs',  # values are lists, special handling\n",
    "    ]\n",
    ")\n",
    "for env, server in envs.items():\n",
    "    ok = True\n",
    "    try:\n",
    "        recs = None\n",
    "        log = \"exposurelog\"\n",
    "        #!url = f'{server}/{log}/messages?is_human=either&is_valid=either&offset=0&{limit=}'\n",
    "        url = f\"{server}/{log}/messages?is_human=either&is_valid=either&{limit=}\"\n",
    "        print(f\"\\nAttempt to get logs from {url=}\")\n",
    "        response = requests.get(url, timeout=timeout)\n",
    "        response.raise_for_status()\n",
    "        recs = response.json()\n",
    "        flds = set(recs[0].keys())\n",
    "        if verbose:\n",
    "            print(f\"Number of {log} records: {len(recs):,}\")\n",
    "            print(f\"Got {log} fields: {flds}\")\n",
    "            print(f\"Example record: {recs[0]}\")\n",
    "        fields[(env, log)] = flds\n",
    "        examples[(env, log)] = recs[:2]\n",
    "\n",
    "        facflds = flds - ignore_fields\n",
    "        # Fails when r[fld] is a LIST instead of singleton\n",
    "        # I think when that happens occasionaly, its a BUG in the data! It happens.\n",
    "        facets[(env, log)] = {\n",
    "            fld: set([str(r[fld]) for r in recs if not isinstance(r[fld], list)])\n",
    "            for fld in facflds\n",
    "        }\n",
    "    except Exception as err:\n",
    "        ok = False\n",
    "        print(f\"ERROR getting {log} from {env=} using {url=}: {err=}\")\n",
    "    numf = len(flds) if ok else 0\n",
    "    numr = len(recs) if ok else 0\n",
    "    results[(env, log)] = dict(\n",
    "        ok=ok, server=server, url=url, numfields=numf, numrecs=numr\n",
    "    )\n",
    "\n",
    "    print()\n",
    "    try:\n",
    "        recs = None\n",
    "        log = \"narrativelog\"\n",
    "        #! url = f'{server}/{log}/messages?is_human=either&is_valid=true&offset=0&{limit=}'\n",
    "        url = f\"{server}/{log}/messages?is_human=either&is_valid=either&{limit=}\"\n",
    "        print(f\"\\nAttempt to get logs from {url=}\")\n",
    "        response = requests.get(url, timeout=timeout)\n",
    "        response.raise_for_status()\n",
    "        recs = response.json()\n",
    "        flds = set(recs[0].keys())\n",
    "        if verbose:\n",
    "            print(f\"Number of {log} records: {len(recs):,}\")\n",
    "            print(f\"Got {log} fields: {flds}\")\n",
    "            print(f\"Example record: {recs[0]}\")\n",
    "        fields[(env, log)] = flds\n",
    "        examples[(env, log)] = recs[:2]\n",
    "\n",
    "        facflds = flds - ignore_fields\n",
    "        # Fails when r[fld] is a LIST instead of singleton\n",
    "        # I think when that happens occasionaly, its a BUG in the data! It happens.\n",
    "        # Look for BAD facet values like: {'None', None}\n",
    "        facets[(env, log)] = {\n",
    "            fld: set([r[fld] for r in recs if not isinstance(r[fld], list)])\n",
    "            for fld in facflds\n",
    "        }\n",
    "    except Exception as err:\n",
    "        ok = False\n",
    "        print(f\"ERROR getting {log} from {env=} using {url=}: {err=}\")\n",
    "    numf = len(flds) if ok else 0\n",
    "    numr = len(recs) if ok else 0\n",
    "    results[(env, log)] = dict(\n",
    "        ok=ok, server=server, url=url, numfields=numf, numrecs=numr\n",
    "    )"
   ]
  },
  {
   "cell_type": "markdown",
   "id": "9",
   "metadata": {},
   "source": [
    "<a class=\"anchor\" id=\"report\"></a>\n",
    "## Report\n",
    "This is a silly report that may be useful for developers. Not so much for astronomers."
   ]
  },
  {
   "cell_type": "markdown",
   "id": "10",
   "metadata": {},
   "source": [
    "<a class=\"anchor\" id=\"ok_table\"></a>\n",
    "### Success/Failure table"
   ]
  },
  {
   "cell_type": "code",
   "execution_count": null,
   "id": "11",
   "metadata": {},
   "outputs": [],
   "source": [
    "show_columns = [\"ok\", \"server\", \"numfields\", \"numrecs\"]\n",
    "df = pd.DataFrame(data=dict(results)).T.loc[:, show_columns]\n",
    "print(f'Got results from {df[\"ok\"].values.sum()} of {len(df)} env/logs')\n",
    "df"
   ]
  },
  {
   "cell_type": "markdown",
   "id": "12",
   "metadata": {},
   "source": [
    "<a class=\"anchor\" id=\"field_names\"></a>\n",
    "### Field Names"
   ]
  },
  {
   "cell_type": "code",
   "execution_count": null,
   "id": "13",
   "metadata": {},
   "outputs": [],
   "source": [
    "print(\"Field names for each Environment/Log source:\")\n",
    "for (env, log), flds in fields.items():\n",
    "    field_names = \", \".join(flds)\n",
    "    print(f\"\\n{env}/{log}: {field_names}\")\n",
    "#!dict(fields)"
   ]
  },
  {
   "cell_type": "markdown",
   "id": "14",
   "metadata": {},
   "source": [
    "<a class=\"anchor\" id=\"facets\"></a>\n",
    "### Facets"
   ]
  },
  {
   "cell_type": "code",
   "execution_count": null,
   "id": "15",
   "metadata": {},
   "outputs": [],
   "source": [
    "dict(facets)\n",
    "for (env, log), flds in facets.items():\n",
    "    print(f\"{env}/{log}:\")\n",
    "    for fld, vals in flds.items():\n",
    "        print(f\"  {fld}: \\t{vals}\")"
   ]
  },
  {
   "cell_type": "markdown",
   "id": "16",
   "metadata": {},
   "source": [
    "<a class=\"anchor\" id=\"examples\"></a>\n",
    "### Example Records"
   ]
  },
  {
   "cell_type": "code",
   "execution_count": null,
   "id": "17",
   "metadata": {},
   "outputs": [],
   "source": [
    "for (env, log), recs in examples.items():\n",
    "    print(f\"\\n{env=}, {log=}: \")\n",
    "    print(\"  Example records: \")\n",
    "    pp(recs)"
   ]
  },
  {
   "cell_type": "code",
   "execution_count": null,
   "id": "18",
   "metadata": {},
   "outputs": [],
   "source": []
  }
 ],
 "metadata": {
  "kernelspec": {
   "display_name": "Python 3 (ipykernel)",
   "language": "python",
   "name": "python3"
  },
  "language_info": {
   "codemirror_mode": {
    "name": "ipython",
    "version": 3
   },
   "file_extension": ".py",
   "mimetype": "text/x-python",
   "name": "python",
   "nbconvert_exporter": "python",
   "pygments_lexer": "ipython3",
   "version": "3.10.12"
  }
 },
 "nbformat": 4,
 "nbformat_minor": 5
}
