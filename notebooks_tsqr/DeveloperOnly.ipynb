{
 "cells": [
  {
   "cell_type": "code",
   "execution_count": null,
   "id": "0",
   "metadata": {},
   "outputs": [],
   "source": [
    "# Parameters.\n",
    "# Times Square replaces this cell with the user's parameters.\n",
    "# So, don't put anything else here!\n",
    "\n",
    "# day_obs values: TODAY, v, YYYY-MM-DD\n",
    "# Report on observing nights that start upto but not included this day.\n",
    "# day_obs = '2024-09-25' # 2024-12-06 2024-11-20 Value to use for local testing (Summit)\n",
    "# 2024-11-30\n",
    "# ComCam on-sky campaign: 24 October to 11 December 2024\n",
    "# 2024-11-30: Exposures(372,2013) time: 9:18:47 + 1:49:23\n",
    "# 2024-12-01: Exposures(510,1401) time: 5:42:08 + 2:32:42, has Good      <<<\n",
    "# 2024-12-02: Exposures(738) time: 3:02:05, + LSSTComCam(423)\n",
    "# 2024-12-07: Exposures(612) time: 3:13:06\n",
    "# 2024-12-08: Exposures(738) time: 2:40:54\n",
    "# 2024-12-10: Exposures(614) time: 2:45:17, has Good\n",
    "# 2024-12-11: Exposures(612) time: 2:15:08\n",
    "day_obs = \"2024-12-02\"  # TODO Change to 'YESTERDAY' and 'TODAY' to test with default before push\n",
    "# Total number of days of data to display (ending on day_obs)\n",
    "number_of_days = \"1\"  # TODO Change to '1' to test with default before push\n",
    "period = \"2h\"  # TODO change to 4h before push\n",
    "verbose = \"false\"  # TODO change to false before push, else true\n",
    "warning = \"false\"  # TODO change to false before push, else true"
   ]
  },
  {
   "cell_type": "code",
   "execution_count": null,
   "id": "1",
   "metadata": {},
   "outputs": [],
   "source": [
    "# Read records from (almost) all sources\n",
    "timer = ut.Timer()\n",
    "allsrc = AllSources(\n",
    "    server_url=server,\n",
    "    min_dayobs=min_day_obs,\n",
    "    max_dayobs=max_day_obs,\n",
    "    verbose=verbose,\n",
    "    warning=warning,\n",
    "    limit=5000,\n",
    "    exclude_instruments=[],  # TODO change to empty list before push\n",
    ")\n",
    "allrep = AllReports(allsrc=allsrc)"
   ]
  },
  {
   "cell_type": "code",
   "execution_count": null,
   "id": "2",
   "metadata": {},
   "outputs": [],
   "source": [
    "# IMPORT everything\n",
    "import datetime as dt\n",
    "import os\n",
    "from collections import defaultdict\n",
    "from pprint import pformat, pp\n",
    "from urllib.parse import urlencode, urlparse\n",
    "import pandas as pd\n",
    "from IPython.display import HTML"
   ]
  },
  {
   "cell_type": "code",
   "execution_count": null,
   "id": "3",
   "metadata": {},
   "outputs": [],
   "source": [
    "# When running under Times Square, install pkg from github.\n",
    "# Otherwise use what is installed locally (intended to be dev editiable pkg)\n",
    "if os.environ.get(\"EXTERNAL_INSTANCE_URL\"):\n",
    "    print(os.environ.get(\"EXTERNAL_INSTANCE_URL\"))\n",
    "    DEV_ENV = False\n",
    "    dev_msg = (\n",
    "        'Installing \"lsst.ts.logging_and_reporting\" from github using \"prototype\" branch. \\n'\n",
    "        \"TODO: Make the need for this go away by getting Logging_and_Reporting installed in RSP.\"\n",
    "    )\n",
    "    !pip install --upgrade git+https://github.com/lsst-ts/ts_logging_and_reporting.git@prototype > /dev/null 2>&1\n",
    "else:\n",
    "    DEV_ENV = True\n",
    "    dev_msg = \"Imported lsst.ts.logging_and_reporting from local packages.\""
   ]
  },
  {
   "cell_type": "code",
   "execution_count": null,
   "id": "4",
   "metadata": {},
   "outputs": [],
   "source": [
    "from lsst.ts.logging_and_reporting.all_sources import AllSources\n",
    "from lsst.ts.logging_and_reporting.all_reports import AllReports\n",
    "import lsst.ts.logging_and_reporting.utils as ut\n",
    "import lsst.ts.logging_and_reporting.time_logs as tl\n",
    "from lsst.ts.logging_and_reporting.reports import md, mdlist, mdpathlink, mdlink\n",
    "from lsst.ts.logging_and_reporting.reports import html_draft, html_beta"
   ]
  },
  {
   "cell_type": "code",
   "execution_count": null,
   "id": "5",
   "metadata": {},
   "outputs": [],
   "source": [
    "# Set default env to \"usdf\" and try before PUSH to repo.\n",
    "# The default provided here is for local testing. Under Times Square it is ignored.\n",
    "server = os.environ.get(\n",
    "    \"EXTERNAL_INSTANCE_URL\", ut.Server.usdf\n",
    ")  # TODO try with \"usdf\" before push (also \"summit\")\n",
    "\n",
    "# Validate parameters, return usable ones\n",
    "usable, error = ut.fallback_parameters(\n",
    "    day_obs, number_of_days, period, verbose, warning\n",
    ")\n",
    "if error:\n",
    "    print(error)\n",
    "\n",
    "date = ut.get_datetime_from_dayobs_str(usable[\"day_obs\"])\n",
    "# date:  is EXCLUSIVE (upto, but not including)\n",
    "days = usable[\"number_of_days\"]\n",
    "period = usable[\"period\"]\n",
    "verbose = usable[\"verbose\"]\n",
    "warning = usable[\"warning\"]\n",
    "\n",
    "# Thus: [min_day_obs,max_day_obs)\n",
    "# Format: string, YYYY-MM-DD\n",
    "min_date = date - dt.timedelta(days=days - 1)\n",
    "max_date = date + dt.timedelta(days=1)\n",
    "min_day_obs = min_date.strftime(\"%Y-%m-%d\")  # Inclusive\n",
    "max_day_obs = max_date.strftime(\"%Y-%m-%d\")  # prep for Exclusive"
   ]
  },
  {
   "cell_type": "code",
   "execution_count": null,
   "id": "6",
   "metadata": {},
   "outputs": [],
   "source": [
    "instrum_str = \", \".join(list(allsrc.exp_src.instruments.keys()))\n",
    "tlist = list()\n",
    "tlist.append(f\"## Showing data for {min_date.date()} to {max_date.date()}\")\n",
    "tlist.append(f\"- **Instruments:** {instrum_str}\")\n",
    "tlist.append(f\"- **Server:** {server}\")\n",
    "tlist.append(\n",
    "    f'- Most recently run on: **{dt.datetime.now().replace(microsecond=0).isoformat(sep=\" \")}**'\n",
    ")\n",
    "md(\"\\n\".join(tlist))"
   ]
  },
  {
   "cell_type": "markdown",
   "id": "7",
   "metadata": {},
   "source": [
    "# Developer Only Section\n",
    "\n",
    "Contains stuff only expected to be useful to developers.\n",
    "This may also contain sections that have moved out of the user section."
   ]
  },
  {
   "cell_type": "markdown",
   "id": "8",
   "metadata": {},
   "source": [
    "## Overview \n"
   ]
  },
  {
   "cell_type": "code",
   "execution_count": null,
   "id": "9",
   "metadata": {},
   "outputs": [],
   "source": [
    "# Display overview of Report context\n",
    "try:\n",
    "    import lsst.ts.logging_and_reporting.version\n",
    "\n",
    "    lrversion = lsst.ts.logging_and_reporting.version.__version__\n",
    "except:\n",
    "    lrversion = \"LIVE\"\n",
    "\n",
    "try:\n",
    "    from lsst.summit.utils import ConsDbClient\n",
    "\n",
    "    have_consdb = True\n",
    "except:\n",
    "    have_consdb = False\n",
    "md(\n",
    "    f\"\"\"## Project-Wide Night(s) Report \n",
    "- Run on logs and databases from **{server}/**\n",
    "- Report **{days} observing night(s)** with the last reported night starting on **{date}**.\n",
    "- min_dayobs={allsrc.min_dayobs!r}, max_dayobs={allsrc.max_dayobs!r}\n",
    "- Using ***Prototype* Logging and Reporting** Version: **{lrversion}**\n",
    "- {have_consdb = }\n",
    "- {dev_msg}\n",
    "- {allsrc.nig_src.timeout=}\n",
    "\"\"\"\n",
    ")"
   ]
  },
  {
   "cell_type": "markdown",
   "id": "10",
   "metadata": {},
   "source": [
    "## Data Status\n",
    "This may be useful for diagnosing reports that give unexpected results."
   ]
  },
  {
   "cell_type": "code",
   "execution_count": null,
   "id": "11",
   "metadata": {},
   "outputs": [],
   "source": [
    "df = pd.DataFrame(allsrc.get_data_status())\n",
    "table = df.to_html(index=False, render_links=True, escape=False)\n",
    "display(HTML(table))"
   ]
  },
  {
   "cell_type": "markdown",
   "id": "12",
   "metadata": {},
   "source": [
    "## Header for BETA section <font style=\"background-color:green; color:white; font-size:20px\">BETA</font> "
   ]
  },
  {
   "cell_type": "markdown",
   "id": "13",
   "metadata": {
    "jp-MarkdownHeadingCollapsed": true
   },
   "source": [
    "## This report uses the following data sources\n",
    "- NightReport\n",
    "- Exposurelog\n",
    "- Narrativelog\n",
    "- EFD\n",
    "- ConsDB\n",
    "- (DDV)\n",
    "- (Almanac from Astroplan)"
   ]
  },
  {
   "cell_type": "markdown",
   "id": "14",
   "metadata": {
    "jp-MarkdownHeadingCollapsed": true
   },
   "source": [
    "## Where was this run?\n",
    "\n",
    "The environments that have everything needed to run this page are:\n",
    "\n",
    "    https://summit-lsp.lsst.codes\n",
    "    https://usdf-rsp-dev.slac.stanford.edu\n",
    "\n",
    "However, Times Square does not run on the Summit. It does run on USDF-dev.\n"
   ]
  },
  {
   "cell_type": "markdown",
   "id": "15",
   "metadata": {},
   "source": [
    "## Available Consolidated Database fields\n",
    "It should be easy to add data to this report when it corresponds to any of the fields listed below. \n",
    "\n",
    "**Format:** *instrument/tablename/fieldname*\n",
    "\n",
    "TODO: index by fieldname, multi-index columm = (Instrument, TableName), val = yes or NA"
   ]
  },
  {
   "cell_type": "code",
   "execution_count": null,
   "id": "16",
   "metadata": {},
   "outputs": [],
   "source": [
    "verbose = True\n",
    "if verbose:\n",
    "    #! txt = '\\n- '.join(allsrc.cdb_src.all_available_fields)\n",
    "    #! md(f'- {txt}')\n",
    "    table = \"\"\n",
    "    table += \"\\n| instrument | tablename | fieldname |\"\n",
    "    table += \"\\n| :--------: | :-------: | :-------: |\"\n",
    "    for field in allsrc.cdb_src.all_available_fields:\n",
    "        table += f'\\n| {field.replace(\"/\",\" | \")} |'\n",
    "    md(table)"
   ]
  },
  {
   "cell_type": "markdown",
   "id": "17",
   "metadata": {},
   "source": [
    "## Section overviews moved here"
   ]
  },
  {
   "cell_type": "code",
   "execution_count": null,
   "id": "18",
   "metadata": {},
   "outputs": [],
   "source": [
    "# Night Report Overview\n",
    "allrep.nig_rep.overview()\n",
    "# Exposure Report Overview\n",
    "allrep.exp_rep.overview()\n",
    "# Narrative Report Overview\n",
    "allrep.nar_rep.overview()"
   ]
  },
  {
   "cell_type": "code",
   "execution_count": null,
   "id": "19",
   "metadata": {},
   "outputs": [],
   "source": [
    "# Conditionally display our current ability to connect to all needed endpoints.\n",
    "if False and not os.environ.get(\"EXTERNAL_INSTANCE_URL\"):\n",
    "    md(\"## Dashboard\")\n",
    "    md(\"(This is not done when running under Times Square.)\")\n",
    "    %run ./dashboard.ipynb"
   ]
  },
  {
   "cell_type": "code",
   "execution_count": null,
   "id": "20",
   "metadata": {},
   "outputs": [],
   "source": [
    "# Time Log\n",
    "#! allrep.exp_rep.time_log_as_markdown()"
   ]
  },
  {
   "cell_type": "markdown",
   "id": "21",
   "metadata": {},
   "source": [
    "# Finale"
   ]
  },
  {
   "cell_type": "code",
   "execution_count": null,
   "id": "22",
   "metadata": {},
   "outputs": [],
   "source": [
    "print(f\"Elapsed time (excluding code import): {timer.toc:.1f} seconds\")\n",
    "print(f\"Finished {str(dt.datetime.now().replace(microsecond=0))} UTC\")\n",
    "allsrc"
   ]
  }
 ],
 "metadata": {
  "kernelspec": {
   "display_name": "LSST",
   "language": "python",
   "name": "lsst"
  },
  "language_info": {
   "codemirror_mode": {
    "name": "ipython",
    "version": 3
   },
   "file_extension": ".py",
   "mimetype": "text/x-python",
   "name": "python",
   "nbconvert_exporter": "python",
   "pygments_lexer": "ipython3",
   "version": "3.12.10"
  }
 },
 "nbformat": 4,
 "nbformat_minor": 5
}
