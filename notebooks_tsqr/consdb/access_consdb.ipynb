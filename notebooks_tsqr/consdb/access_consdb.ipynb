{
 "cells": [
  {
   "cell_type": "code",
   "execution_count": null,
   "id": "0",
   "metadata": {},
   "outputs": [],
   "source": [
    "# Parameters\n",
    "day_obs = '2024-06-26'\n",
    "instrument = 'latiss'"
   ]
  },
  {
   "cell_type": "markdown",
   "id": "1",
   "metadata": {},
   "source": [
    "<a class=\"anchor\" id=\"imports\"></a>\n",
    "## Imports and General Setup"
   ]
  },
  {
   "cell_type": "code",
   "execution_count": null,
   "id": "2",
   "metadata": {},
   "outputs": [],
   "source": [
    "import os\n",
    "from lsst.summit.utils import ConsDbClient\n",
    "from lsst.summit.utils.utils import computeCcdExposureId\n",
    "import sqlalchemy\n",
    "import requests\n",
    "import pandas as pd\n",
    "\n",
    "URL = \"https://usdf-rsp.slac.stanford.edu/consdb/\" # Need to add that part about the headers to client flow through\n",
    "URL = \"http://consdb-pq.consdb:8080/consdb\" # Don't use this one\n",
    "\n",
    "os.environ[\"no_proxy\"] += \",.consdb\"\n",
    "\n",
    "access_token = os.getenv(\"ACCESS_TOKEN\")\n",
    "headers = {\"Authorization\": f\"Bearer {access_token}\"}\n",
    "\n",
    "sesh = requests.Session()\n",
    "sesh.headers.update(headers)\n",
    "\n",
    "%matplotlib inline"
   ]
  },
  {
   "cell_type": "code",
   "execution_count": null,
   "id": "3",
   "metadata": {},
   "outputs": [],
   "source": [
    "try:\n",
    "    from lsst.summit.utils import ConsDbClient\n",
    "    have_consdb = True\n",
    "except ImportError:\n",
    "    have_consdb = False\n",
    "\n",
    "if have_consdb:\n",
    "    client = ConsDbClient(URL)\n",
    "\n",
    "    print(client.schema())  # list the instruments\n",
    "    print(client.schema('latiss'))  # list tables for an instrument\n",
    "    print(client.schema('latiss', 'cdb_latiss.exposure_flexdata')) # specifically flexdata table"
   ]
  },
  {
   "cell_type": "markdown",
   "id": "4",
   "metadata": {},
   "source": [
    "<a class=\"anchor\" id=\"get_records\"></a>\n",
    "## Get Records"
   ]
  },
  {
   "cell_type": "code",
   "execution_count": null,
   "id": "5",
   "metadata": {},
   "outputs": [],
   "source": [
    "# Add consdb\n",
    "day_obs_int = int(day_obs.replace('-', ''))\n",
    "\n",
    "visit_query1 = f'''\n",
    "    SELECT * FROM cdb_{instrument}.visit1\n",
    "     where day_obs = {day_obs_int}\n",
    "'''\n",
    "\n",
    "instrument = 'lsstcomcam'\n",
    "visit_query2 = f'''\n",
    "    SELECT * FROM cdb_{instrument}.visit1\n",
    "     where day_obs = {day_obs_int}\n",
    "'''\n",
    "\n",
    "instrument = 'lsstcomcamsim'\n",
    "visit_query3 = f'''\n",
    "    SELECT * FROM cdb_{instrument}.visit1\n",
    "     where day_obs = {day_obs_int}\n",
    "'''\n",
    "\n",
    "#what is a quicklook\n",
    "quicklook_query = f'''\n",
    "    SELECT q.*  FROM cdb_{instrument}.visit1_quicklook as q,\n",
    "    cdb_{instrument}.visit1 as v\n",
    "     WHERE v.day_obs = {day_obs_int} and q.visit_id = v.visit_id\n",
    "'''\n",
    "\n",
    "if have_consdb:\n",
    "    # Use the ConsDB Client, and add a couple of tries\n",
    "    consdb = ConsDbClient(URL)\n",
    "\n",
    "    try:\n",
    "        visits_latiss = consdb.query(visit_query1).to_pandas()\n",
    "        visits_lsstcc = consdb.query(visit_query2).to_pandas()\n",
    "        visits_lsstccs = consdb.query(visit_query3).to_pandas()\n",
    "\n",
    "    except requests.HTTPError or requests.JSONDecodeError:\n",
    "        # Try twice\n",
    "        visits_latiss = consdb.query(visit_query1).to_pandas()\n",
    "        visits_lsstcc = consdb.query(visit_query2).to_pandas()\n",
    "        visits_lsstccs = consdb.query(visit_query3).to_pandas()\n",
    "\n",
    "    quicklook = consdb.query(quicklook_query).to_pandas()\n",
    "\n",
    "else:\n",
    "    # Assumes at the USDF\n",
    "    connection = sqlalchemy.create_engine('postgresql://usdf@usdf-summitdb.slac.stanford.edu/exposurelog')\n",
    "    visits_latiss = pd.read_sql(visit_query1, connection)\n",
    "    quicklook = pd.read_sql(quicklook_query, connection)\n",
    "\n",
    "if len(visits_latiss) > 0:\n",
    "    print(f\"Retrieved {len(visits_latiss)} visits from consdb\")\n",
    "    obj_vis = len(visits_latiss.query('img_type == \"OBJECT\"'))\n",
    "    print(f\"About {obj_vis} of these are object images\")\n",
    "\n",
    "if len(quicklook) > 0:\n",
    "    visits_latiss = visits_latiss.join(quicklook, on='visit_id', lsuffix='', rsuffix='_q')\n",
    "    print(f\"And added quicklook stats\")\n"
   ]
  },
  {
   "cell_type": "markdown",
   "id": "6",
   "metadata": {},
   "source": [
    "## The schemas in cdb are\n",
    "`latiss`, `lsstcomcam`, `lsstcomcamsim`\n",
    "\n",
    "## And each have the following tables\n",
    "`exposure`, `visit1`\n",
    "\n",
    "`ccdexposure`, `ccdvisit1`\n",
    "\n",
    "`ccdexposure_camera`\n",
    "\n",
    "`visit1_quicklook`, `ccdvisit1_quicklook`\n",
    "\n",
    " `exposure_flexdata`, `ccdexposure_flexdata`\n",
    "\n",
    " ## We can find more info on the schemas at https://sdm-schemas.lsst.io/"
   ]
  },
  {
   "cell_type": "markdown",
   "id": "7",
   "metadata": {},
   "source": [
    "<a class=\"anchor\" id=\"table\"></a>\n",
    "## Tables of (mostly raw) results"
   ]
  },
  {
   "cell_type": "code",
   "execution_count": null,
   "id": "8",
   "metadata": {},
   "outputs": [],
   "source": [
    "data = pd.DataFrame(visits_latiss)\n",
    "print(f\"Latiss has {len(data.columns)} columns\")\n",
    "print(f\"They are {data.columns}\")"
   ]
  },
  {
   "cell_type": "code",
   "execution_count": null,
   "id": "9",
   "metadata": {},
   "outputs": [],
   "source": [
    "data"
   ]
  },
  {
   "cell_type": "code",
   "execution_count": null,
   "id": "10",
   "metadata": {},
   "outputs": [],
   "source": [
    "pd.DataFrame(visits_lsstcc)\n",
    "#Yes this is empty"
   ]
  },
  {
   "cell_type": "code",
   "execution_count": null,
   "id": "11",
   "metadata": {},
   "outputs": [],
   "source": [
    "pd.DataFrame(visits_lsstccs)"
   ]
  },
  {
   "cell_type": "markdown",
   "id": "12",
   "metadata": {},
   "source": [
    "# Rapid analysis was mentioned\n",
    "ccdvisit1_quicklook holds some psf* attributes\n",
    "quicklook might mean rapid analysis"
   ]
  },
  {
   "cell_type": "code",
   "execution_count": null,
   "id": "13",
   "metadata": {},
   "outputs": [],
   "source": [
    "print(f\"Many Quicklook columns: {len(quicklook.columns)}\")\n",
    "print(f\"They include: {quicklook.columns}\")"
   ]
  },
  {
   "cell_type": "code",
   "execution_count": null,
   "id": "14",
   "metadata": {},
   "outputs": [],
   "source": [
    "quicklook"
   ]
  },
  {
   "cell_type": "code",
   "execution_count": null,
   "id": "15",
   "metadata": {},
   "outputs": [],
   "source": []
  }
 ],
 "metadata": {
  "kernelspec": {
   "display_name": "LSST",
   "language": "python",
   "name": "lsst"
  },
  "language_info": {
   "codemirror_mode": {
    "name": "ipython",
    "version": 3
   },
   "file_extension": ".py",
   "mimetype": "text/x-python",
   "name": "python",
   "nbconvert_exporter": "python",
   "pygments_lexer": "ipython3",
   "version": "3.11.9"
  }
 },
 "nbformat": 4,
 "nbformat_minor": 5
}
