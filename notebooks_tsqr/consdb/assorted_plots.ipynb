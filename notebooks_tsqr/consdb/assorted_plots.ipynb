{
 "cells": [
  {
   "cell_type": "code",
   "execution_count": null,
   "id": "0",
   "metadata": {},
   "outputs": [],
   "source": [
    "# Parameters\n",
    "day_obs = '2024-06-26'\n",
    "instruments = 'latiss, lsstcomcamsim, lsstcomcam'"
   ]
  },
  {
   "cell_type": "code",
   "execution_count": null,
   "id": "1",
   "metadata": {},
   "outputs": [],
   "source": [
    "import os\n",
    "import pandas as pd\n",
    "import matplotlib.pylab as plt\n",
    "from IPython.display import display, Markdown, display_markdown\n",
    "\n",
    "from lsst.summit.utils import ConsDbClient"
   ]
  },
  {
   "cell_type": "code",
   "execution_count": null,
   "id": "2",
   "metadata": {},
   "outputs": [],
   "source": [
    "URL = \"http://consdb-pq.consdb:8080/consdb\" # Don't use this one\n",
    "os.environ[\"no_proxy\"] += \",.consdb\"\n",
    "%matplotlib inline\n",
    "day_obs_int = int(day_obs.replace('-', ''))"
   ]
  },
  {
   "cell_type": "code",
   "execution_count": null,
   "id": "3",
   "metadata": {},
   "outputs": [],
   "source": [
    "client = ConsDbClient(URL)\n",
    "display_markdown('### Consolidated Database is accessible',raw=True)"
   ]
  },
  {
   "cell_type": "markdown",
   "id": "4",
   "metadata": {},
   "source": []
  },
  {
   "cell_type": "code",
   "execution_count": null,
   "id": "5",
   "metadata": {},
   "outputs": [],
   "source": [
    "plt.style.use('seaborn-v0_8-bright')\n",
    "def plot(y, x):\n",
    "    # plot\n",
    "    fig, ax = plt.subplots()\n",
    "    ax.scatter(x, y)#, linewidth=2.0, color=\"#058b8c\")\n",
    "\n",
    "    plt.show()\n"
   ]
  },
  {
   "cell_type": "code",
   "execution_count": null,
   "id": "6",
   "metadata": {},
   "outputs": [],
   "source": [
    "day_obs_int = int(day_obs.replace('-', ''))\n",
    "\n",
    "instrument_list = [ins.strip() for ins in instruments.split(',')]\n",
    "\n",
    "for instrument in instrument_list:\n",
    "    print(f'instrumental {instrument}')\n",
    "    ccdvisit1_quicklook = f'''\n",
    "        SELECT * FROM cdb_{instrument}.ccdvisit1_quicklook\n",
    "    '''\n",
    "\n",
    "    visit1 = f'''\n",
    "        SELECT * FROM cdb_{instrument}.visit1\n",
    "    '''\n",
    "\n",
    "    # Join Visit1 and ccdVisit1 to access data and day obs\n",
    "    visits = client.query(visit1).to_pandas()\n",
    "    quicklook = client.query(ccdvisit1_quicklook).to_pandas()\n",
    "\n",
    "    visits = visits.join(quicklook, on='visit_id',lsuffix='',rsuffix='_q')\n",
    "\n",
    "    # If we see data exist in psf, zero, then we should pare down like visits_today below\n",
    "    try:\n",
    "        visits_w_psf = visits[visits['psf_area'].notna()]\n",
    "        time = visits_w_psf['obs_start']\n",
    "        print(f'length of visits with psf_area populated {len(visits_w_psf)}')\n",
    "        display_markdown('# psf_area vs obs_start', raw=True)\n",
    "        plot(time, visits_w_psf['psf_area'])\n",
    "    except KeyError as err:\n",
    "        print(\"No psf\")\n",
    "        \n",
    "    try:\n",
    "        visits_w_zero = visits[visits['zero_point'].notna()]\n",
    "        time = visits_w_zero['obs_start']\n",
    "        print(f'length of visits with zero_point populated {len(visits_w_zero)}')\n",
    "        display_markdown('# zero_point vs obs_start', raw=True)\n",
    "        plot(time, visits_w_zero['zero_point'])\n",
    "    except KeyError as err:\n",
    "        print(\"No zero_point\")\n",
    "        \n",
    "    # Pare down to only day obs\n",
    "    visits_today = visits[(visits['day_obs'] == day_obs_int)]\n",
    "\n",
    "    ra = visits_today['s_ra']\n",
    "    dec = visits_today['s_dec']\n",
    "    display_markdown('# Ra Dec proof they populated', raw=True)\n",
    "    plot(ra, dec)"
   ]
  },
  {
   "cell_type": "code",
   "execution_count": null,
   "id": "7",
   "metadata": {},
   "outputs": [],
   "source": []
  },
  {
   "cell_type": "code",
   "execution_count": null,
   "id": "8",
   "metadata": {},
   "outputs": [],
   "source": []
  }
 ],
 "metadata": {
  "kernelspec": {
   "display_name": "LSST",
   "language": "python",
   "name": "lsst"
  },
  "language_info": {
   "codemirror_mode": {
    "name": "ipython",
    "version": 3
   },
   "file_extension": ".py",
   "mimetype": "text/x-python",
   "name": "python",
   "nbconvert_exporter": "python",
   "pygments_lexer": "ipython3",
   "version": "3.11.9"
  }
 },
 "nbformat": 4,
 "nbformat_minor": 5
}
