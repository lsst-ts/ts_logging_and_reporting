{
 "cells": [
  {
   "cell_type": "code",
   "execution_count": 108,
   "id": "06e6db12-0f61-40d5-8c4f-c3de4c27d3c4",
   "metadata": {
    "execution": {
     "iopub.execute_input": "2024-09-13T21:25:27.568425Z",
     "iopub.status.busy": "2024-09-13T21:25:27.567861Z",
     "iopub.status.idle": "2024-09-13T21:25:27.570576Z",
     "shell.execute_reply": "2024-09-13T21:25:27.570226Z",
     "shell.execute_reply.started": "2024-09-13T21:25:27.568410Z"
    }
   },
   "outputs": [],
   "source": [
    "# Parameters\n",
    "day_obs = '2024-06-26'\n",
    "instrument = 'latiss'"
   ]
  },
  {
   "cell_type": "code",
   "execution_count": 109,
   "id": "fce18e6d-c6b7-4baa-9615-d1ed83785d33",
   "metadata": {
    "execution": {
     "iopub.execute_input": "2024-09-13T21:25:27.966595Z",
     "iopub.status.busy": "2024-09-13T21:25:27.966171Z",
     "iopub.status.idle": "2024-09-13T21:25:27.970322Z",
     "shell.execute_reply": "2024-09-13T21:25:27.969917Z",
     "shell.execute_reply.started": "2024-09-13T21:25:27.966580Z"
    }
   },
   "outputs": [],
   "source": [
    "import os\n",
    "from lsst.summit.utils import ConsDbClient\n",
    "import requests\n",
    "import pandas as pd\n",
    "import matplotlib.pylab as plt\n",
    "\n",
    "from IPython.display import display, Markdown, display_markdown\n",
    "URL = \"http://consdb-pq.consdb:8080/consdb\" # Don't use this one\n",
    "os.environ[\"no_proxy\"] += \",.consdb\"\n",
    "%matplotlib inline\n",
    "day_obs_int = int(day_obs.replace('-', ''))\n"
   ]
  },
  {
   "cell_type": "code",
   "execution_count": 110,
   "id": "320aa430-a7b6-4b66-8a2f-9fada594f7b3",
   "metadata": {
    "execution": {
     "iopub.execute_input": "2024-09-13T21:25:28.533344Z",
     "iopub.status.busy": "2024-09-13T21:25:28.532834Z",
     "iopub.status.idle": "2024-09-13T21:25:28.536180Z",
     "shell.execute_reply": "2024-09-13T21:25:28.535818Z",
     "shell.execute_reply.started": "2024-09-13T21:25:28.533329Z"
    }
   },
   "outputs": [
    {
     "data": {
      "text/markdown": [
       "### Consolidated Database is accessible"
      ]
     },
     "metadata": {},
     "output_type": "display_data"
    }
   ],
   "source": [
    "from lsst.summit.utils import ConsDbClient\n",
    "client = ConsDbClient(URL)\n",
    "display_markdown('### Consolidated Database is accessible',raw=True)"
   ]
  },
  {
   "cell_type": "code",
   "execution_count": 111,
   "id": "065cc31a-a5b6-4ee0-9ed9-6ed0ea4caf85",
   "metadata": {
    "execution": {
     "iopub.execute_input": "2024-09-13T21:25:29.170574Z",
     "iopub.status.busy": "2024-09-13T21:25:29.170165Z",
     "iopub.status.idle": "2024-09-13T21:25:29.172972Z",
     "shell.execute_reply": "2024-09-13T21:25:29.172612Z",
     "shell.execute_reply.started": "2024-09-13T21:25:29.170560Z"
    }
   },
   "outputs": [],
   "source": [
    "\n",
    "psf_query = f'''\n",
    "    SELECT psf_area FROM cdb_lsstcomcamsim.ccdvisit1_quicklook\n",
    "    where day_obs = {day_obs_int}\n",
    "'''\n",
    "\n",
    "sky_brightness_query = f'''\n",
    "'''\n",
    "\n",
    "zero_point_query = f'''\n",
    "    SELECT zero_point FROM cdb_lsstcomcamsim.ccdvisit1_quicklook\n",
    "    where day_obs = {day_obs_int}\n",
    "'''\n",
    "\n",
    "ra_dec_query = f'''\n",
    "    SELECT s_ra, s_dec FROM cdb_lsstcomcamsim.ccdvisit1_quicklook\n",
    "    where day_obs = {day_obs_int}\n",
    "'''\n"
   ]
  },
  {
   "cell_type": "code",
   "execution_count": 112,
   "id": "5eb26c46-0b64-4bcd-aecc-8cf243b05b21",
   "metadata": {
    "execution": {
     "iopub.execute_input": "2024-09-13T21:25:29.835749Z",
     "iopub.status.busy": "2024-09-13T21:25:29.835161Z",
     "iopub.status.idle": "2024-09-13T21:25:32.933230Z",
     "shell.execute_reply": "2024-09-13T21:25:32.932715Z",
     "shell.execute_reply.started": "2024-09-13T21:25:29.835734Z"
    },
    "scrolled": true
   },
   "outputs": [],
   "source": [
    "day_obs_int = int(day_obs.replace('-', ''))\n",
    "instrument = 'lsstcomcamsim'\n",
    "ccdvisit1_quicklook = f''' \n",
    "    SELECT * FROM cdb_{instrument}.ccdvisit1_quicklook\n",
    "'''\n",
    "\n",
    "visit1 = f'''\n",
    "    SELECT * FROM cdb_{instrument}.visit1\n",
    "'''\n",
    "\n",
    "# Join Visit1 and ccdVisit1 to access data and day obs\n",
    "visits = client.query(visit1).to_pandas()\n",
    "quicklook = client.query(ccdvisit1_quicklook).to_pandas()\n",
    "\n",
    "visits = visits.join(quicklook, on='visit_id',lsuffix='',rsuffix='_q')\n",
    "\n"
   ]
  },
  {
   "cell_type": "code",
   "execution_count": 113,
   "id": "b6934855-17c4-4a01-96d7-0cfc69527b95",
   "metadata": {
    "execution": {
     "iopub.execute_input": "2024-09-13T21:25:32.934157Z",
     "iopub.status.busy": "2024-09-13T21:25:32.934034Z",
     "iopub.status.idle": "2024-09-13T21:25:32.939080Z",
     "shell.execute_reply": "2024-09-13T21:25:32.938697Z",
     "shell.execute_reply.started": "2024-09-13T21:25:32.934146Z"
    }
   },
   "outputs": [
    {
     "name": "stdout",
     "output_type": "stream",
     "text": [
      "Empty DataFrame\n",
      "Columns: [visit_id, exposure_name, controller, day_obs, seq_num, physical_filter, band, s_ra, s_dec, sky_rotation, azimuth_start, azimuth_end, azimuth, altitude_start, altitude_end, altitude, zenith_distance_start, zenith_distance_end, zenith_distance, airmass, exp_midpt, exp_midpt_mjd, obs_start, obs_start_mjd, obs_end, obs_end_mjd, exp_time, shut_time, dark_time, group_id, cur_index, max_index, img_type, emulated, science_program, observation_reason, target_name, air_temp, pressure, humidity, wind_speed, wind_dir, dimm_seeing, focus_z, simulated, s_region, ccdvisit_id, s_ra_q, s_dec_q, zenith_distance_q, photometric_calib, psf_sigma, sky_bg, sky_noise, astrom_offset_mean, astrom_offset_std, n_psf_star, psf_star_delta_e1_median, psf_star_delta_e2_median, psf_star_delta_e1_scatter, psf_star_delta_e2_scatter, psf_star_delta_size_median, psf_star_delta_size_scatter, psf_star_scaled_delta_size_scatter, psf_trace_radius_delta, max_dist_to_nearest_psf, zero_point, seeing_zenith_500nm, mean_var, eff_time, eff_time_psf_sigma_scale, eff_time_sky_bg_scale, eff_time_zero_point_scale, psf_area, psf_ixx, psf_ixy, psf_iyy]\n",
      "Index: []\n",
      "\n",
      "[0 rows x 77 columns]\n",
      "Empty DataFrame\n",
      "Columns: [visit_id, exposure_name, controller, day_obs, seq_num, physical_filter, band, s_ra, s_dec, sky_rotation, azimuth_start, azimuth_end, azimuth, altitude_start, altitude_end, altitude, zenith_distance_start, zenith_distance_end, zenith_distance, airmass, exp_midpt, exp_midpt_mjd, obs_start, obs_start_mjd, obs_end, obs_end_mjd, exp_time, shut_time, dark_time, group_id, cur_index, max_index, img_type, emulated, science_program, observation_reason, target_name, air_temp, pressure, humidity, wind_speed, wind_dir, dimm_seeing, focus_z, simulated, s_region, ccdvisit_id, s_ra_q, s_dec_q, zenith_distance_q, photometric_calib, psf_sigma, sky_bg, sky_noise, astrom_offset_mean, astrom_offset_std, n_psf_star, psf_star_delta_e1_median, psf_star_delta_e2_median, psf_star_delta_e1_scatter, psf_star_delta_e2_scatter, psf_star_delta_size_median, psf_star_delta_size_scatter, psf_star_scaled_delta_size_scatter, psf_trace_radius_delta, max_dist_to_nearest_psf, zero_point, seeing_zenith_500nm, mean_var, eff_time, eff_time_psf_sigma_scale, eff_time_sky_bg_scale, eff_time_zero_point_scale, psf_area, psf_ixx, psf_ixy, psf_iyy]\n",
      "Index: []\n",
      "\n",
      "[0 rows x 77 columns]\n"
     ]
    }
   ],
   "source": [
    "visits_w_psf = visits[visits['psf_area'].notna()]\n",
    "\n",
    "visits_w_zero = visits[visits['zero_point'].notna()]\n"
   ]
  },
  {
   "cell_type": "code",
   "execution_count": 114,
   "id": "aabb8ae4-7130-48f0-a5ba-0178449c9d99",
   "metadata": {
    "execution": {
     "iopub.execute_input": "2024-09-13T21:25:32.939755Z",
     "iopub.status.busy": "2024-09-13T21:25:32.939631Z",
     "iopub.status.idle": "2024-09-13T21:25:32.946113Z",
     "shell.execute_reply": "2024-09-13T21:25:32.945746Z",
     "shell.execute_reply.started": "2024-09-13T21:25:32.939744Z"
    }
   },
   "outputs": [
    {
     "name": "stdout",
     "output_type": "stream",
     "text": [
      "ra 3498          None\n",
      "3499          None\n",
      "3500          None\n",
      "3501          None\n",
      "3502          None\n",
      "           ...    \n",
      "4279    280.085844\n",
      "4280    280.071854\n",
      "4281    280.241652\n",
      "4282    279.895233\n",
      "4283    280.255493\n",
      "Name: s_ra, Length: 786, dtype: object\n",
      "dec 3498         None\n",
      "3499         None\n",
      "3500         None\n",
      "3501         None\n",
      "3502         None\n",
      "          ...    \n",
      "4279   -48.042442\n",
      "4280   -48.109481\n",
      "4281   -47.902436\n",
      "4282   -47.971508\n",
      "4283   -47.911465\n",
      "Name: s_dec, Length: 786, dtype: object\n"
     ]
    }
   ],
   "source": [
    "# Pare down to only day obs \n",
    "visits_today = visits[(visits['day_obs'] == day_obs_int)]# & (visits['psf_area'].notna())]\n",
    "\n",
    "ra = visits_today['s_ra']\n",
    "dec = visits_today['s_dec']"
   ]
  },
  {
   "cell_type": "code",
   "execution_count": 119,
   "id": "8abd098e-87c9-48c6-bbb7-0d01ba49832c",
   "metadata": {
    "execution": {
     "iopub.execute_input": "2024-09-13T21:26:59.343509Z",
     "iopub.status.busy": "2024-09-13T21:26:59.343322Z",
     "iopub.status.idle": "2024-09-13T21:26:59.346448Z",
     "shell.execute_reply": "2024-09-13T21:26:59.346102Z",
     "shell.execute_reply.started": "2024-09-13T21:26:59.343496Z"
    }
   },
   "outputs": [],
   "source": [
    "plt.style.use('seaborn-v0_8-bright')\n",
    "def plot(y, x):\n",
    "    # Times Square Tutorial\n",
    "    #x = np.linspace(0, 10, 100)\n",
    "    #y = y0 + A * np.sin(2 * np.pi * x / lambd)\n",
    "\n",
    "    # plot\n",
    "    fig, ax = plt.subplots()\n",
    "\n",
    "    ax.scatter(x, y)#, linewidth=2.0, color=\"#058b8c\")\n",
    "\n",
    "    #ax.set(\n",
    "    #    xlim=(0, 8), xticks=np.arange(1, 8),\n",
    "    #    ylim=(0, 8), yticks=np.arange(1, 8)\n",
    "    #)\n",
    "\n",
    "    plt.show()"
   ]
  },
  {
   "cell_type": "code",
   "execution_count": 123,
   "id": "556820f7-0d2c-47a4-82a0-02ffee6c0c55",
   "metadata": {
    "execution": {
     "iopub.execute_input": "2024-09-13T21:28:18.480522Z",
     "iopub.status.busy": "2024-09-13T21:28:18.479896Z",
     "iopub.status.idle": "2024-09-13T21:28:18.542493Z",
     "shell.execute_reply": "2024-09-13T21:28:18.542121Z",
     "shell.execute_reply.started": "2024-09-13T21:28:18.480507Z"
    }
   },
   "outputs": [
    {
     "data": {
      "text/markdown": [
       "# This plot is only proof that data exists"
      ]
     },
     "metadata": {},
     "output_type": "display_data"
    },
    {
     "data": {
      "image/png": "[encoded data removed]",
      "text/plain": [
       "<Figure size 640x480 with 1 Axes>"
      ]
     },
     "metadata": {},
     "output_type": "display_data"
    }
   ],
   "source": [
    "display_markdown('# This plot is only proof that data exists', raw=True)\n",
    "plot(ra, dec)"
   ]
  },
  {
   "cell_type": "code",
   "execution_count": 117,
   "id": "cece2d9f-1997-49b1-a431-d8a33a241597",
   "metadata": {
    "execution": {
     "iopub.execute_input": "2024-09-13T21:25:33.518737Z",
     "iopub.status.busy": "2024-09-13T21:25:33.518265Z",
     "iopub.status.idle": "2024-09-13T21:25:33.520591Z",
     "shell.execute_reply": "2024-09-13T21:25:33.520232Z",
     "shell.execute_reply.started": "2024-09-13T21:25:33.518723Z"
    }
   },
   "outputs": [],
   "source": [
    "#try:\n",
    "#    psf_data = client.query(psf_query).to_pandas()\n",
    "#except requests.HTTPError or requests.JSONDecodeError:\n",
    "#    psf_data = client.query(psf_query).to_pandas()\n"
   ]
  },
  {
   "cell_type": "code",
   "execution_count": null,
   "id": "cf2dfcf1-8c0b-445d-a765-57dba78bab94",
   "metadata": {},
   "outputs": [],
   "source": []
  },
  {
   "cell_type": "code",
   "execution_count": null,
   "id": "dffd7909-70aa-4ccc-89da-9cc241caf3e2",
   "metadata": {},
   "outputs": [],
   "source": []
  },
  {
   "cell_type": "code",
   "execution_count": null,
   "id": "d49fc788-85ab-461f-a70f-0ee6473ae86a",
   "metadata": {},
   "outputs": [],
   "source": []
  },
  {
   "cell_type": "code",
   "execution_count": null,
   "id": "70f913cf-8736-4509-8c05-b7f7e5872e5b",
   "metadata": {},
   "outputs": [],
   "source": []
  },
  {
   "cell_type": "code",
   "execution_count": null,
   "id": "7db46e5c-965d-4fa6-b593-bd257c1f03fe",
   "metadata": {},
   "outputs": [],
   "source": []
  }
 ],
 "metadata": {
  "kernelspec": {
   "display_name": "LSST",
   "language": "python",
   "name": "lsst"
  },
  "language_info": {
   "codemirror_mode": {
    "name": "ipython",
    "version": 3
   },
   "file_extension": ".py",
   "mimetype": "text/x-python",
   "name": "python",
   "nbconvert_exporter": "python",
   "pygments_lexer": "ipython3",
   "version": "3.11.9"
  }
 },
 "nbformat": 4,
 "nbformat_minor": 5
}
