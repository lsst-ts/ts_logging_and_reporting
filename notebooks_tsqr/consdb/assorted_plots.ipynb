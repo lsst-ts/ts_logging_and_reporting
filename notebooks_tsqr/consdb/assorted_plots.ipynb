{
 "cells": [
  {
   "cell_type": "code",
   "execution_count": null,
   "id": "0",
   "metadata": {},
   "outputs": [],
   "source": [
    "# Parameters\n",
    "day_obs = '2024-06-26'\n",
    "instrument = 'latiss'"
   ]
  },
  {
   "cell_type": "code",
   "execution_count": null,
   "id": "1",
   "metadata": {},
   "outputs": [],
   "source": [
    "import os\n",
    "import pandas as pd\n",
    "import matplotlib.pylab as plt\n",
    "from IPython.display import display, Markdown, display_markdown\n",
    "\n",
    "from lsst.summit.utils import ConsDbClient"
   ]
  },
  {
   "cell_type": "code",
   "execution_count": null,
   "id": "2",
   "metadata": {},
   "outputs": [],
   "source": [
    "\n",
    "URL = \"http://consdb-pq.consdb:8080/consdb\" # Don't use this one\n",
    "os.environ[\"no_proxy\"] += \",.consdb\"\n",
    "%matplotlib inline\n",
    "day_obs_int = int(day_obs.replace('-', ''))\n",
    "\n"
   ]
  },
  {
   "cell_type": "code",
   "execution_count": null,
   "id": "3",
   "metadata": {},
   "outputs": [],
   "source": [
    "client = ConsDbClient(URL)\n",
    "display_markdown('### Consolidated Database is accessible',raw=True)"
   ]
  },
  {
   "cell_type": "code",
   "execution_count": null,
   "id": "4",
   "metadata": {},
   "outputs": [],
   "source": [
    "\n",
    "psf_query = f'''\n",
    "    SELECT psf_area FROM cdb_lsstcomcamsim.ccdvisit1_quicklook\n",
    "    where day_obs = {day_obs_int}\n",
    "'''\n",
    "\n",
    "sky_brightness_query = f'''\n",
    "'''\n",
    "\n",
    "zero_point_query = f'''\n",
    "    SELECT zero_point FROM cdb_lsstcomcamsim.ccdvisit1_quicklook\n",
    "    where day_obs = {day_obs_int}\n",
    "'''\n",
    "\n",
    "ra_dec_query = f'''\n",
    "    SELECT s_ra, s_dec FROM cdb_lsstcomcamsim.ccdvisit1_quicklook\n",
    "    where day_obs = {day_obs_int}\n",
    "'''\n"
   ]
  },
  {
   "cell_type": "code",
   "execution_count": null,
   "id": "5",
   "metadata": {},
   "outputs": [],
   "source": [
    "day_obs_int = int(day_obs.replace('-', ''))\n",
    "instrument = 'lsstcomcamsim'\n",
    "ccdvisit1_quicklook = f''' \n",
    "    SELECT * FROM cdb_{instrument}.ccdvisit1_quicklook\n",
    "'''\n",
    "\n",
    "visit1 = f'''\n",
    "    SELECT * FROM cdb_{instrument}.visit1\n",
    "'''\n",
    "\n",
    "# Join Visit1 and ccdVisit1 to access data and day obs\n",
    "visits = client.query(visit1).to_pandas()\n",
    "quicklook = client.query(ccdvisit1_quicklook).to_pandas()\n",
    "\n",
    "visits = visits.join(quicklook, on='visit_id',lsuffix='',rsuffix='_q')\n",
    "\n"
   ]
  },
  {
   "cell_type": "code",
   "execution_count": null,
   "id": "6",
   "metadata": {},
   "outputs": [],
   "source": [
    "visits_w_psf = visits[visits['psf_area'].notna()]\n",
    "\n",
    "visits_w_zero = visits[visits['zero_point'].notna()]\n"
   ]
  },
  {
   "cell_type": "code",
   "execution_count": null,
   "id": "7",
   "metadata": {},
   "outputs": [],
   "source": [
    "# Pare down to only day obs \n",
    "visits_today = visits[(visits['day_obs'] == day_obs_int)]# & (visits['psf_area'].notna())]\n",
    "\n",
    "ra = visits_today['s_ra']\n",
    "dec = visits_today['s_dec']"
   ]
  },
  {
   "cell_type": "code",
   "execution_count": null,
   "id": "8",
   "metadata": {},
   "outputs": [],
   "source": [
    "plt.style.use('seaborn-v0_8-bright')\n",
    "def plot(y, x):\n",
    "    # Times Square Tutorial\n",
    "    #x = np.linspace(0, 10, 100)\n",
    "    #y = y0 + A * np.sin(2 * np.pi * x / lambd)\n",
    "\n",
    "    # plot\n",
    "    fig, ax = plt.subplots()\n",
    "\n",
    "    ax.scatter(x, y)#, linewidth=2.0, color=\"#058b8c\")\n",
    "\n",
    "    #ax.set(\n",
    "    #    xlim=(0, 8), xticks=np.arange(1, 8),\n",
    "    #    ylim=(0, 8), yticks=np.arange(1, 8)\n",
    "    #)\n",
    "\n",
    "    plt.show()"
   ]
  },
  {
   "cell_type": "code",
   "execution_count": null,
   "id": "9",
   "metadata": {},
   "outputs": [],
   "source": [
    "display_markdown('# This plot is only proof that data exists', raw=True)\n",
    "plot(ra, dec)"
   ]
  },
  {
   "cell_type": "code",
   "execution_count": null,
   "id": "10",
   "metadata": {},
   "outputs": [],
   "source": [
    "#try:\n",
    "#    psf_data = client.query(psf_query).to_pandas()\n",
    "#except requests.HTTPError or requests.JSONDecodeError:\n",
    "#    psf_data = client.query(psf_query).to_pandas()\n"
   ]
  },
  {
   "cell_type": "code",
   "execution_count": null,
   "id": "11",
   "metadata": {},
   "outputs": [],
   "source": []
  },
  {
   "cell_type": "code",
   "execution_count": null,
   "id": "12",
   "metadata": {},
   "outputs": [],
   "source": []
  },
  {
   "cell_type": "code",
   "execution_count": null,
   "id": "13",
   "metadata": {},
   "outputs": [],
   "source": []
  },
  {
   "cell_type": "code",
   "execution_count": null,
   "id": "14",
   "metadata": {},
   "outputs": [],
   "source": []
  },
  {
   "cell_type": "code",
   "execution_count": null,
   "id": "15",
   "metadata": {},
   "outputs": [],
   "source": []
  }
 ],
 "metadata": {
  "kernelspec": {
   "display_name": "logrep",
   "language": "python",
   "name": "python3"
  },
  "language_info": {
   "codemirror_mode": {
    "name": "ipython",
    "version": 3
   },
   "file_extension": ".py",
   "mimetype": "text/x-python",
   "name": "python",
   "nbconvert_exporter": "python",
   "pygments_lexer": "ipython3",
   "version": "3.12.5"
  }
 },
 "nbformat": 4,
 "nbformat_minor": 5
}
