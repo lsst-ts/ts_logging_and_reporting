{
 "cells": [
  {
   "cell_type": "markdown",
   "id": "0",
   "metadata": {},
   "source": [
    "## Merged time-log with compaction <font style=\"background-color:yellow; color:black; font-size:20px\">DRAFT</font>\n",
    "This merges the time-line of records from several sources (currently: `NightReport`, `ExposureLog`, `NarrativeLog`, `Almanac`). The resulting DataFrame is Compacted and Reduced into time bins of a specified duration.\n",
    "\n",
    "#### <font style=\"background-color:#ffff99\">Possible Changes</font>\n",
    "- [ ] ALERT in column 1: function of regular expression in messages (e.g.: fail, error)\n",
    "- [ ] Truncate very log messages. End truncated messages with \"(MORE...)\"\n",
    "- [ ] Add multi-index columns (Level-0=Source, Level-1=Field)\n",
    "- [ ] Link \"Source\" in multi-index to the external-to-Logging API that provided our data.\n",
    "- [ ] Add TOC for integrated time log for quick access to Period or sections of text.\n",
    "- [ ] Include date in list of messages. Group them by period."
   ]
  },
  {
   "cell_type": "code",
   "execution_count": null,
   "id": "1",
   "metadata": {},
   "outputs": [],
   "source": [
    "allsrc"
   ]
  },
  {
   "cell_type": "code",
   "execution_count": null,
   "id": "2",
   "metadata": {},
   "outputs": [],
   "source": [
    "# from importlib import reload\n",
    "# reload(tl)\n",
    "display(HTML(tl.sutl(allsrc, delta=period, verbose=False)))"
   ]
  },
  {
   "cell_type": "code",
   "execution_count": null,
   "id": "3",
   "metadata": {},
   "outputs": [],
   "source": []
  }
 ],
 "metadata": {
  "kernelspec": {
   "display_name": "Python 3 (ipykernel)",
   "language": "python",
   "name": "python3"
  },
  "language_info": {
   "codemirror_mode": {
    "name": "ipython",
    "version": 3
   },
   "file_extension": ".py",
   "mimetype": "text/x-python",
   "name": "python",
   "nbconvert_exporter": "python",
   "pygments_lexer": "ipython3",
   "version": "3.11.10"
  }
 },
 "nbformat": 4,
 "nbformat_minor": 5
}
