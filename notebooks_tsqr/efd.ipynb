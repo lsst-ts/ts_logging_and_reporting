{
 "cells": [
  {
   "cell_type": "code",
   "execution_count": null,
   "id": "0",
   "metadata": {},
   "outputs": [],
   "source": [
    "# Parameters. Set defaults here.\n",
    "# Times Square replaces this cell with the user's parameters.\n",
    "record_limit = '999'"
   ]
  },
  {
   "cell_type": "markdown",
   "id": "1",
   "metadata": {},
   "source": [
    "<a class=\"anchor\" id=\"imports\"></a>\n",
    "## Imports and General Setup"
   ]
  },
  {
   "cell_type": "code",
   "execution_count": null,
   "id": "2",
   "metadata": {},
   "outputs": [],
   "source": [
    "# Only use packages available in the Rubin Science Platform\n",
    "import requests\n",
    "from collections import defaultdict\n",
    "import pandas as pd\n",
    "from pprint import pp, pformat\n",
    "from urllib.parse import urlencode\n",
    "from IPython.display import FileLink, display_markdown\n",
    "from matplotlib import pyplot as plt\n",
    "import os\n",
    "from astropy.time import Time, TimeDelta"
   ]
  },
  {
   "cell_type": "code",
   "execution_count": null,
   "id": "3",
   "metadata": {},
   "outputs": [],
   "source": [
    "# When running under Times Square, install pkg from github.\n",
    "# Otherwise use what is installed locally (intended to be dev editiable pkg)\n",
    "if os.environ.get('EXTERNAL_INSTANCE_URL'):\n",
    "    print('Installing \"lsst.ts.logging_and_reporting\" from github using \"prototype\" branch....')\n",
    "    !pip install --upgrade git+https://github.com/lsst-ts/ts_logging_and_reporting.git@prototype >/dev/null\n",
    "import lsst.ts.logging_and_reporting.efd as lre"
   ]
  },
  {
   "cell_type": "code",
   "execution_count": null,
   "id": "4",
   "metadata": {},
   "outputs": [],
   "source": [
    "summit = 'https://summit-lsp.lsst.codes'\n",
    "usdf = 'https://usdf-rsp-dev.slac.stanford.edu'\n",
    "tucson = 'https://tucson-teststand.lsst.codes'\n",
    "\n",
    "# RUNNING_INSIDE_JUPYTERLAB is True when running under Times Square\n",
    "server = os.environ.get('EXTERNAL_INSTANCE_URL', summit)\n"
   ]
  },
  {
   "cell_type": "code",
   "execution_count": null,
   "id": "5",
   "metadata": {},
   "outputs": [],
   "source": [
    "sad = lre.EfdAdapter(server_url=usdf)"
   ]
  },
  {
   "cell_type": "code",
   "execution_count": null,
   "id": "6",
   "metadata": {},
   "outputs": [],
   "source": [
    "# Find topics that have data in the past DAYS ending today.\n",
    "populated, errors, count = await sad.find_populated_topics(days=1)\n",
    "display(errors)\n",
    "print(f'Successfully queried {count} topics.  Failed query against {len(errors)} topics.')\n",
    "\n",
    "print(f'Topics that failed efd_client.select_time_series are: ')\n",
    "print('\\n'.join(list(errors.keys())))\n",
    "\n",
    "display({topic: len(fields) for topic,fields in populated.items()})"
   ]
  },
  {
   "cell_type": "code",
   "execution_count": null,
   "id": "7",
   "metadata": {},
   "outputs": [],
   "source": [
    "display(sad.min_date, sad.max_date)\n",
    "ww = await sad.get_weather(days=1)"
   ]
  },
  {
   "cell_type": "code",
   "execution_count": null,
   "id": "8",
   "metadata": {},
   "outputs": [],
   "source": [
    "print('\\n'.join(sad.client.query_history))"
   ]
  },
  {
   "cell_type": "code",
   "execution_count": null,
   "id": "9",
   "metadata": {},
   "outputs": [],
   "source": [
    "ww"
   ]
  },
  {
   "cell_type": "code",
   "execution_count": null,
   "id": "10",
   "metadata": {},
   "outputs": [],
   "source": [
    "import random\n",
    "all_topics = await sad.client.get_topics()\n",
    "print(f'Found {len(all_topics)} total topics.')\n",
    "topics = [top for top in all_topics if 'logevent_' in top and 'lsst.sal.' in top]\n",
    "print(f'Found {len(topics)} topics containing \"logevent_\" and \"lsst.sal.\".')\n",
    "sample_count = 13\n",
    "print(f'A random sample of {sample_count} is:')\n",
    "display(random.sample(topics,sample_count))"
   ]
  },
  {
   "cell_type": "code",
   "execution_count": null,
   "id": "11",
   "metadata": {},
   "outputs": [],
   "source": [
    "random.sample(all_topics,30)"
   ]
  },
  {
   "cell_type": "code",
   "execution_count": null,
   "id": "12",
   "metadata": {},
   "outputs": [],
   "source": [
    "fields = [f for f in await sad.client.get_fields('lsst.sal.ATAOS.logevent_logMessage') if 'private_' not in f]\n",
    "fields"
   ]
  },
  {
   "cell_type": "code",
   "execution_count": null,
   "id": "13",
   "metadata": {},
   "outputs": [],
   "source": [
    "t = Time([], format='isot', scale='utc')\n",
    "days = TimeDelta(2, format='jd')\n",
    "query = sad.client.build_time_range_query('lsst.sal.ATAOS.logevent_logMessage', fields, \n",
    "                                          start=t.now()-days, end=t.now())\n",
    "query"
   ]
  },
  {
   "cell_type": "code",
   "execution_count": null,
   "id": "14",
   "metadata": {},
   "outputs": [],
   "source": [
    "days = TimeDelta(2, format='jd')\n",
    "print(await sad.client.get_fields('lsst.sal.MTM2.command_positionMirror') )\n",
    "positions = await sad.client.select_time_series('lsst.sal.MTM2.command_positionMirror', \n",
    "                                    ['x', 'xRot', 'y', 'yRot','z','zRot'], \n",
    "                                    start=t.now(), end=days*2, is_window=True, index=301)\n",
    "positions[:2]"
   ]
  },
  {
   "cell_type": "code",
   "execution_count": null,
   "id": "15",
   "metadata": {},
   "outputs": [],
   "source": [
    "from astropy.time import Time, TimeDelta\n",
    "times = ['2020-01-01T00:00:00.123456789', '2021-01-01T00:00:00']\n",
    "t = Time(times, format='isot', scale='utc')\n",
    "days = TimeDelta(2)\n",
    "query = sad.client.build_time_range_query('lsst.sal.ATAOS.logevent_logMessage', fields, \n",
    "                                          start=t.now()-days, end=t.now())\n",
    "query"
   ]
  },
  {
   "cell_type": "code",
   "execution_count": null,
   "id": "16",
   "metadata": {},
   "outputs": [],
   "source": []
  },
  {
   "cell_type": "code",
   "execution_count": null,
   "id": "17",
   "metadata": {},
   "outputs": [],
   "source": [
    "t_now = t.now()\n",
    "t_old = t_now - 5\n",
    "t_old, t_now"
   ]
  },
  {
   "cell_type": "code",
   "execution_count": null,
   "id": "18",
   "metadata": {},
   "outputs": [],
   "source": [
    "await sad.client.select_time_series('lsst.sal.ATAOS.logevent_logMessage', ['message','priority'], \n",
    "                                    start=t.now(), end=days*2, is_window=True, index=301)"
   ]
  },
  {
   "cell_type": "code",
   "execution_count": null,
   "id": "19",
   "metadata": {},
   "outputs": [],
   "source": [
    "print(f'{days=} {t.now()=}')\n",
    "async def query_night(topic, fields, index=None):\n",
    "    \"\"\"Query an EFD topic and field(s) from sunset to sunrise.\"\"\"\n",
    "    # note that sunset/sunrise_time as set from global state\n",
    "    # outside this function\n",
    "    return await sad.client.select_time_series(\n",
    "        topic,\n",
    "        fields,\n",
    "        start=t.now(),\n",
    "        end=days, \n",
    "        index=index,\n",
    "        is_window=True,  # time range is centered on START. Width of range given by END.\n",
    "    )"
   ]
  },
  {
   "cell_type": "code",
   "execution_count": null,
   "id": "20",
   "metadata": {},
   "outputs": [],
   "source": [
    "await sad.client.get_fields('lsst.sal.ESS.airFlow') # BUG, returns duplicate field names"
   ]
  },
  {
   "cell_type": "code",
   "execution_count": null,
   "id": "21",
   "metadata": {},
   "outputs": [],
   "source": [
    "ess_wind_df = await query_night(\"lsst.sal.ESS.airFlow\", [\"speed\", \"direction\"], index=301) # m/s"
   ]
  },
  {
   "cell_type": "code",
   "execution_count": null,
   "id": "22",
   "metadata": {},
   "outputs": [],
   "source": [
    "len(ess_wind_df)"
   ]
  },
  {
   "cell_type": "code",
   "execution_count": null,
   "id": "23",
   "metadata": {},
   "outputs": [],
   "source": [
    "ess_wind_df[:10]"
   ]
  },
  {
   "cell_type": "code",
   "execution_count": null,
   "id": "24",
   "metadata": {},
   "outputs": [],
   "source": [
    "schema = await sad.client.get_schema(\"lsst.sal.ATCamera.vacuum\")\n",
    "schema\n"
   ]
  },
  {
   "cell_type": "code",
   "execution_count": null,
   "id": "25",
   "metadata": {},
   "outputs": [],
   "source": [
    "dir(sad.client)"
   ]
  },
  {
   "cell_type": "markdown",
   "id": "26",
   "metadata": {},
   "source": [
    "<a class=\"anchor\" id=\"setup_source\"></a>\n",
    "## Setup Source"
   ]
  },
  {
   "cell_type": "code",
   "execution_count": null,
   "id": "27",
   "metadata": {},
   "outputs": [],
   "source": [
    "type(sad.client)"
   ]
  },
  {
   "cell_type": "code",
   "execution_count": null,
   "id": "28",
   "metadata": {},
   "outputs": [],
   "source": [
    "sad.client.build_time_range_query?"
   ]
  },
  {
   "cell_type": "code",
   "execution_count": null,
   "id": "29",
   "metadata": {},
   "outputs": [],
   "source": [
    "sad.client.get_schema_topics?"
   ]
  },
  {
   "cell_type": "code",
   "execution_count": null,
   "id": "30",
   "metadata": {},
   "outputs": [],
   "source": [
    "sad.client.get_schema?"
   ]
  },
  {
   "cell_type": "code",
   "execution_count": null,
   "id": "31",
   "metadata": {},
   "outputs": [],
   "source": [
    "schema = await sad.client.get_schema('lsst.sal.ATCamera.command_start')"
   ]
  },
  {
   "cell_type": "code",
   "execution_count": null,
   "id": "32",
   "metadata": {},
   "outputs": [],
   "source": [
    "import lsst_efd_client.efd_helper\n",
    "lsst_efd_client.efd_helper??"
   ]
  },
  {
   "cell_type": "code",
   "execution_count": null,
   "id": "33",
   "metadata": {},
   "outputs": [],
   "source": [
    "md = f'### Will retrieve from {service}'\n",
    "display_markdown(md, raw=True)"
   ]
  },
  {
   "cell_type": "code",
   "execution_count": null,
   "id": "34",
   "metadata": {},
   "outputs": [],
   "source": [
    "recs = None\n",
    "ok = True\n",
    "\n",
    "# is_human=either&is_valid=either&offset=0&limit=50' \n",
    "# site_ids=tucson&message_text=wubba&min_level=0&max_level=999&user_ids=spothier&user_agents=LOVE\n",
    "# tags=love&exclude_tags=ignore_message\n",
    "qparams = dict(is_human='either',\n",
    "               is_valid='either',\n",
    "               limit=limit,\n",
    "              )\n",
    "qstr = urlencode(qparams)\n",
    "url = f'{service}/messages?{qstr}'\n",
    "\n",
    "ignore_fields = set(['tags', 'urls', 'message_text', 'id', 'date_added', \n",
    "                     'obs_id', 'day_obs', 'seq_num', 'parent_id', 'user_id',\n",
    "                     'date_invalidated', 'date_begin', 'date_end',\n",
    "                     'time_lost', # float\n",
    "                     #'systems','subsystems','cscs',  # values are lists, special handling\n",
    "                    ])"
   ]
  },
  {
   "cell_type": "code",
   "execution_count": null,
   "id": "35",
   "metadata": {},
   "outputs": [],
   "source": [
    "display_markdown(f'## Get (up to {limit}) Records', raw=True)"
   ]
  },
  {
   "cell_type": "code",
   "execution_count": null,
   "id": "36",
   "metadata": {},
   "outputs": [],
   "source": [
    "# TODO Often fails on first request.  Find out why!\n",
    "try:\n",
    "    response = requests.get(url, timeout=timeout)\n",
    "except:\n",
    "    pass \n",
    "    \n",
    "try:\n",
    "    print(f'Attempt to get logs from {url=}')\n",
    "    response = requests.get(url, timeout=timeout)\n",
    "    response.raise_for_status()\n",
    "    recs = response.json()\n",
    "    flds = set(recs[0].keys())\n",
    "    facflds = flds - ignore_fields\n",
    "    # facets(field) = set(value-1, value-2, ...)\n",
    "    facets = {fld: set([str(r[fld])\n",
    "                for r in recs if not isinstance(r[fld], list)]) \n",
    "                    for fld in facflds}\n",
    "except Exception as err:\n",
    "    ok = False\n",
    "    print(f'ERROR getting {log} from {env=} using {url=}: {err=}')\n",
    "numf = len(flds) if ok else 0\n",
    "numr = len(recs) if ok else 0\n",
    "print(f'Retrieved {numr} records, each with {numf} fields.')"
   ]
  },
  {
   "cell_type": "markdown",
   "id": "37",
   "metadata": {},
   "source": [
    "<a class=\"anchor\" id=\"table\"></a>\n",
    "## Tables of (mostly raw) results"
   ]
  },
  {
   "cell_type": "markdown",
   "id": "38",
   "metadata": {},
   "source": [
    "### Fields names provided in records from log."
   ]
  },
  {
   "cell_type": "code",
   "execution_count": null,
   "id": "39",
   "metadata": {},
   "outputs": [],
   "source": [
    "pd.DataFrame(flds, columns=['Field Name'])"
   ]
  },
  {
   "cell_type": "markdown",
   "id": "40",
   "metadata": {},
   "source": [
    "### Facets from log records.\n",
    "A *facet* is the set all of values found for a field in the retrieved records. Facets are only calculated for some fields."
   ]
  },
  {
   "cell_type": "code",
   "execution_count": null,
   "id": "41",
   "metadata": {
    "jupyter": {
     "source_hidden": true
    }
   },
   "outputs": [],
   "source": [
    "display(pd.DataFrame.from_dict(facets, orient='index'))\n",
    "display(facets)"
   ]
  },
  {
   "cell_type": "markdown",
   "id": "42",
   "metadata": {},
   "source": [
    "### Table of selected log record fields.\n",
    "Table can be retrieved as CSV file for local use."
   ]
  },
  {
   "cell_type": "code",
   "execution_count": null,
   "id": "43",
   "metadata": {
    "jupyter": {
     "source_hidden": true
    }
   },
   "outputs": [],
   "source": [
    "cols = ['date_added', 'time_lost']\n",
    "df = pd.DataFrame(recs)[cols]\n",
    "\n",
    "# Allow download of CSV version of DataFrame\n",
    "csvfile = 'tl.csv'\n",
    "df.to_csv(csvfile)\n",
    "myfile = FileLink(csvfile)\n",
    "print('Table available as CSV file: ')\n",
    "display(myfile)\n",
    "df"
   ]
  },
  {
   "cell_type": "code",
   "execution_count": null,
   "id": "44",
   "metadata": {},
   "outputs": [],
   "source": [
    "df = pd.DataFrame(recs)\n",
    "df"
   ]
  },
  {
   "cell_type": "markdown",
   "id": "45",
   "metadata": {},
   "source": [
    "<a class=\"anchor\" id=\"plot\"></a>\n",
    "## Plots from log"
   ]
  },
  {
   "cell_type": "code",
   "execution_count": null,
   "id": "46",
   "metadata": {},
   "outputs": [],
   "source": [
    "x = [r['date_added'] for r in recs]\n",
    "y = [r['time_lost'] for r in recs]\n",
    "plt.plot(x, y) \n",
    "plt.show()"
   ]
  },
  {
   "cell_type": "markdown",
   "id": "47",
   "metadata": {},
   "source": [
    "<a class=\"anchor\" id=\"raw_analysis\"></a>\n",
    "## Raw Content Analysis"
   ]
  },
  {
   "cell_type": "markdown",
   "id": "48",
   "metadata": {},
   "source": [
    "### Example of one record"
   ]
  },
  {
   "cell_type": "code",
   "execution_count": null,
   "id": "49",
   "metadata": {},
   "outputs": [],
   "source": [
    "rec = recs[-1]\n",
    "\n",
    "msg = rec[\"message_text\"]\n",
    "md = f'Message text from log:\\n> {msg}'\n",
    "display_markdown(md, raw=True)\n",
    "\n",
    "display(rec)"
   ]
  },
  {
   "cell_type": "markdown",
   "id": "50",
   "metadata": {},
   "source": [
    "<a class=\"anchor\" id=\"elicitation\"></a>\n",
    "## Stakeholder Elicitation"
   ]
  },
  {
   "cell_type": "code",
   "execution_count": null,
   "id": "51",
   "metadata": {},
   "outputs": [],
   "source": [
    "#EXTERNAL_INSTANCE_URL\n",
    "ed = dict(os.environ.items())\n",
    "with pd.option_context('display.max_rows', None,):\n",
    "    print(pd.DataFrame(ed.values(), index=ed.keys()))"
   ]
  },
  {
   "cell_type": "code",
   "execution_count": null,
   "id": "52",
   "metadata": {},
   "outputs": [],
   "source": []
  }
 ],
 "metadata": {
  "kernelspec": {
   "display_name": "Python 3 (ipykernel)",
   "language": "python",
   "name": "python3"
  },
  "language_info": {
   "codemirror_mode": {
    "name": "ipython",
    "version": 3
   },
   "file_extension": ".py",
   "mimetype": "text/x-python",
   "name": "python",
   "nbconvert_exporter": "python",
   "pygments_lexer": "ipython3",
   "version": "3.11.9"
  }
 },
 "nbformat": 4,
 "nbformat_minor": 5
}
